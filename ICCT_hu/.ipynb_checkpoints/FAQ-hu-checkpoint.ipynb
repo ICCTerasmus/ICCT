{
 "cells": [
  {
   "cell_type": "markdown",
   "metadata": {},
   "source": [
    "# FAQ\n",
    "\n",
    "* * *\n",
    "\n",
    "## Alapvető információk\n",
    "\n",
    "* * *\n",
    "\n",
    "### Tartoznak bemutatók az interaktív kurzushoz?\n",
    "\n",
    "Két videó bemutató érhető el. Az első a vízszint szabályozó rendszert mutatja be ([megtekintés YouTube-on](https://www.youtube.com/watch?v=YEZxOWY4RtU)), a második pedig a Gyorst Fourier-transzformációt ([megtekintés YouTube-on](https://www.youtube.com/watch?v=M28kAsWAP8o)).\n",
    "\n",
    "### Szeretnék információt addni hallgatóim/kollégáim számára a kurzursa való regisztrációról, belépésről, és a példák használatáról. Elérhetők ezek az információk valahol?\n",
    "\n",
    "A regisztrációra, belépésre, valamint a példák használatára vonatkozó utasítások elérhetőek egy iorad útmutató formájában, az alábbi [linken](https://www.iorad.com/player/1760976/Izdelava-uporabni-kega-ra-una-v-te-aju-ICCT-in-navodila-za-uporabo-te-aja?isPopup=true#_).\n",
    "\n",
    "### Hol található az interaktív kurzushoz tartozó kézikönyv?\n",
    "\n",
    "A kézikönyv PDF változata (angol, horvát, magyar, olasz és szlovén nyelven) letölthető az [ICCT weblapról](https://icct.cafre.unipi.it/project-results/manual).\n",
    "\n",
    "### Hol tudhatok meg többet az ICCT projektről?\n",
    "\n",
    "Ellátogatha a projekt [honlapjára](https://icct.cafre.unipi.it), [Twitter](https://twitter.com/ICCT_erasmus), [Reddit](https://www.reddit.com/user/icct_erasmus) és [GitHub](https://github.com/ICCTerasmus/ICCT#readme) oldalára, hogy többet megtudjon róla. Emellett követheti a projektet a [ResearchGate](https://www.researchgate.net/project/Interactive-Course-for-Control-Theory-ICCT), [SCIENTIX](http://www.scientix.eu/projects/project-detail?articleId=1072810) vagy [Erasmus+ Project Results](https://ec.europa.eu/programmes/erasmus-plus/projects/eplus-project-details/#project/2018-1-SI01-KA203-047081) oldalakon is."
   ]
  },
  {
   "cell_type": "markdown",
   "metadata": {},
   "source": [
    "* * *\n",
    "\n",
    "## Vizsgák\n",
    "\n",
    "* * *\n",
    "\n",
    "### Hallgató vagyok. Hogyan vehetek részt egy vizsgán és kaphatok jegyet?\n",
    "\n",
    "Vizsgákon csak akkor lehet részt venni, ha egy Mentor előkészítette és kiadta azokat. Amint ez megtörtént, lekérheti a vizsgát és megadhatja a válaszokat (lássa [ezt](https://www.iorad.com/player/1645114/ICCT-Platform--for-students----How-to-fetch-an-exam-and-provide-answers-?#trysteps-1) az útmutatót). Amint sikeresen leadta válaszait, meg kell várja, hogy a Mentor begyűjtse és értékelje azokat, majd kiküldje a visszajelzést. Amint ez megtörtént, megtekintheti a Mentor visszajelzését (lássa [ezt](https://www.iorad.com/player/1652160/ICCT-Platform--for-students----How-to-obtain-and-inspect-feedback-?#trysteps-1) az útmutatót).\n",
    "\n",
    "### Mentor vagyok (tanár/oktató). Hogyan készíthetek vizsgát a Hallgatóim részére?\n",
    "\n",
    "Először is, elő kell készítenie és kiadnia a példát (lássa [ezt](https://www.iorad.com/player/1651571/ICCT-Platform--for-mentors----How-to-prepare-and-release-an-exam-?#trysteps-1) az útmutatót). Ezt követően meg kell várja, hogy a vizsga befejeződjön és begyűjthette, valamint értékelhesse azt, majd visszajelzést küldhessen a Hallgatóknak (lássa [ezt](https://www.iorad.com/player/1652148/ICCT-Platform--for-mentors----How-to-collect-submissions--autograde-them-and-release-feedback-?#trysteps-1) az útmutatót). Ha mindezzel elkészült, a Hallgatók letölthetik és megtekinthetik a visszajelzést."
   ]
  },
  {
   "cell_type": "markdown",
   "metadata": {},
   "source": [
    "* * *\n",
    "\n",
    "## Személyes és üzleti felhasználása a kurzus tartalmának\n",
    "\n",
    "* * *\n",
    "\n",
    "### Lehetséges a példák letöltése és saját igény szerinti átalakítása?\n",
    "\n",
    "Igen, az interaktív kurzus példáinak letöltése lehetséges az ICCT projekt GitHub oldalán keresztül. Az ehhez szükséges lépések [itt](https://github.com/ICCTerasmus/ICCT#readme) olvashatóak. Átalakíthatja az igényei szerint a példákat, viszont a használatuk csak a 3 klauzulás (Revidiált) BSD licenc keretei között történtet. A licencről [itt](https://opensource.org/licenses/BSD-3-Clause) tudhat meg többet.\n",
    "\n",
    "### Szeretném használni az interaktív példákat otthoni/iskolai projektemhez. Ez megengedett?\n",
    "\n",
    "Minden kurzuson belüli interaktív példa (Jupyter Notebook-ok) készítője az ICCT projekt konzorcium, és a 3 klauzulás (Revidiált) BSD licenc feltételei vonatkoznak rájuk, ami a megengedő ingyenes szoftver licencek közé tartozik. A licencről [itt](https://opensource.org/licenses/BSD-3-Clause) tudhat meg többet.\n",
    "\n",
    "### Üzleti célra szeretném használni az interaktív példákat. Ez megengedett?\n",
    "\n",
    "Minden kurzuson belüli interaktív példa (Jupyter Notebook-ok) készítője az ICCT projekt konzorcium, és a 3 klauzulás (Revidiált) BSD licenc feltételei vonatkoznak rájuk, ami a megengedő ingyenes szoftver licencek közé tartozik. A licencről [itt](https://opensource.org/licenses/BSD-3-Clause) tudhat meg többet.\n",
    "\n",
    "### Le szeretném fordítani a példákat a saját nyelvemre. Meg tudom ezt tenni?\n",
    "\n",
    "Igen, az interaktív példák bármely nyelvre lefordíthatóak az érdeklődők által. A fordítás előtt kérem vegye föl velünk a kapcsolatot az <icct.erasmus@gmail.com> címen, hogy útmutatással szolgálhassunk. Figyelmébe ajánljuk, hogy a kurzus jelenleg fordítás alatt áll indonéziai és spanyol nyelvekre."
   ]
  },
  {
   "cell_type": "markdown",
   "metadata": {},
   "source": [
    "* * *\n",
    "\n",
    "## Problémák\n",
    "\n",
    "* * *\n",
    "\n",
    "### Miután futtattam a kiválasztott példát a *Cell-Run All*.ra, vagy a megfelelő gombra kattintva, a példa nem tölt be megfelelően.\n",
    "\n",
    "- Elsőként, a notebook csak akkor képes futni, ha a kernel készen áll. A 'transient info' a kernelről a notebook jobb fölső sarkában látható a kezdeti betöltés során (lássa az 1-es ábrát alul).\n",
    "- Másodszor, várja meg, hogy a böngészője oldalán a homokóra ikon egy könyv szimbólumra váltson (lássa a 2-es ábrát alul). Figyeljen rá, hogy a hosszan futó szimulációk esetében látható lehet a homokóra a betöltést követően is, azaz amikor a szimuláció fut, vagy amikor valamilyen háttér számítás zajlik.\n",
    "- Végül, ha az egyik fenti megoldás sem működik, próbálja meg a példát másodjára futtatni (a *Cell-Run All*-ra, vagy a megfelelő gombra kattintva újra, amikor a kernel készen áll és a könyv ikon látható).\n",
    "\n",
    "<table>\n",
    "    <tr>\n",
    "        <th style=\"text-align:center\">1. ábra: Kernel információ</th>\n",
    "        <th style=\"text-align:center\">2. ábra: Töltési információ</th>\n",
    "    </tr>\n",
    "    <tr>\n",
    "        <td style=\"width:480px; height:150px\"><img src='examples/02/img/kernel-ready.png'></td>\n",
    "        <td style=\"width:250px; height:150px\"><img src='examples/02/img/loading.png'></td>\n",
    "    </tr>\n",
    "    <tr>\n",
    "    </tr>    \n",
    "</table>\n",
    "\n",
    "### A példák lassan töltenek és futnak. Mit tehetek?\n",
    "\n",
    "- Elsőként, bizonyosodjon meg róla, hogy bezárta és leállította a korábban megnyitott példákat a *File-Close and Halt*-ra kattintva. Láthatja az aktuálisan futó példákat a *Running* oldalon, amit a főoldalon át érhet el.\n",
    "- Másodszor, elképzelhető, hogy túl sok felhasználó van egyidejűleg bejelentkezve az oldalra, ami lassíthatja a rendszert.\n",
    "- Ha a probléma tartósan fennáll, kérjük vegye fel velünk a kapcsolatot az <icct.erasmus@gmail.com> címen keresztül.\n",
    "- Megjegyzés: A példák lokálisan is futtathatók, saját környezetben (a töltési és futási idők a saját az ön saját erőforrásaitól függenek). Ennek módjáról több információt [itt](https://github.com/ICCTerasmus/ICCT#readme) szerezhet.\n",
    "\n",
    "### Regisztráltam a kurzusra és a hozzáférésem csak Hallgató. Hogyan válhatok Mentorrá?\n",
    "\n",
    "Vegye figyelembe, hogy a Mentor szerepkör csak tanárok/oktatók számára elérhető. A Mentor jogkör igényléséhez írjon az <icct.erasmus@gmail.com> címre.\n",
    "\n",
    "### Már regisztráltam a kurzus régi oldalára (https://icct.riteh.hr). Szükséges regisztrálnom az új oldalra (https://icct.unipi.it) is?\n",
    "\n",
    "Igen, az új weblapra is regisztrálnia kell. Vegye figyelembe, hogy a régi oldal a továbbiakban nem támogatott, és el lesz távolítva a jövőben. Megértését köszönjük!\n",
    "\n",
    "### A problémámra itt nem találtam megoldást. Hogyan vehetem fel a kapcsolatot az interaktív kurzus csapatával?\n",
    "\n",
    "Az ICCT csapattal felveheti a kapcsolatot az <icct.erasmus@gmail.com> emailen át, vagy a az *Alapvető információk* pontban említett csatornákon."
   ]
  },
  {
   "cell_type": "code",
   "execution_count": null,
   "metadata": {},
   "outputs": [],
   "source": []
  }
 ],
 "metadata": {
  "kernelspec": {
   "display_name": "Python 3",
   "language": "python",
   "name": "python3"
  },
  "language_info": {
   "codemirror_mode": {
    "name": "ipython",
    "version": 3
   },
   "file_extension": ".py",
   "mimetype": "text/x-python",
   "name": "python",
   "nbconvert_exporter": "python",
   "pygments_lexer": "ipython3",
   "version": "3.7.3"
  }
 },
 "nbformat": 4,
 "nbformat_minor": 4
}
