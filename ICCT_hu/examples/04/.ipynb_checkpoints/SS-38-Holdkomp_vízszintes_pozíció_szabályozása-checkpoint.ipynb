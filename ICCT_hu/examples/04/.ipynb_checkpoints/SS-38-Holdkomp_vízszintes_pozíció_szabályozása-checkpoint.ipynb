{
 "cells": [
  {
   "cell_type": "code",
   "execution_count": 1,
   "metadata": {},
   "outputs": [
    {
     "data": {
      "text/html": [
       "<script>\n",
       "code_show=true; \n",
       "function code_toggle() {\n",
       "    if (code_show){\n",
       "        $('div.input').hide()\n",
       "    } else {\n",
       "        $('div.input').show()\n",
       "    }\n",
       "    code_show = !code_show\n",
       "} \n",
       "$( document ).ready(code_toggle);\n",
       "</script>\n",
       "Toggle cell visibility <a href=\"javascript:code_toggle()\">here</a>."
      ],
      "text/plain": [
       "<IPython.core.display.HTML object>"
      ]
     },
     "metadata": {},
     "output_type": "display_data"
    }
   ],
   "source": [
    "#remove cell visibility\n",
    "from IPython.display import HTML\n",
    "tag = HTML('''<script>\n",
    "code_show=true; \n",
    "function code_toggle() {\n",
    "    if (code_show){\n",
    "        $('div.input').hide()\n",
    "    } else {\n",
    "        $('div.input').show()\n",
    "    }\n",
    "    code_show = !code_show\n",
    "} \n",
    "$( document ).ready(code_toggle);\n",
    "</script>\n",
    "Toggle cell visibility <a href=\"javascript:code_toggle()\">here</a>.''')\n",
    "display(tag)"
   ]
  },
  {
   "cell_type": "markdown",
   "metadata": {},
   "source": [
    "## Holdkomp vízszintes pozíció szabályozása\n",
    "\n",
    "A példa bemmutatja egy regulátor (megfigyelő és szabályozó állapot visszacsatolásként) tervezését egy holdkomp vízszintes pozícionálásához a rendszer egyenleteiből kiindulva.\n",
    "\n",
    "<img src=\"Images\\lunarlander.PNG\" alt=\"drawing\" width=\"500x800\">\n",
    "\n",
    "A rendszer a fenti ábrán látható, az ereszkedését két függőleges hajtómű lassítja, amik konstans $F$ erőt produkálnak. Vízszintes elmozdulás a holdkomp $\\theta$ szögű megdöntésével érhető el; a dőlés egy oldalirányú erőt hoz létre, ami hozzávetőleg $F\\theta$ nagyságú. A dőlést egy $T$ nyomaték idézi elő, amit irányítható kormányozó rakéták hoznak létre (legfeljebb 500Nm). A dőlésszögnek $\\pm15$ fokon belül kell maradnia, hogy nem nőljön meg vészesen az ereszkedés sebessége. Az oldalirányú sebesség és pozíció értékeit mérés állaptíja meg. A légellenállás elhagynagolható és a rendszer paraméterei:\n",
    "\n",
    "| Paraméter |                          Érték |\n",
    "|-----------|-------------------------------:|\n",
    "|$m$        |                        1000 kg |\n",
    "|$J$        |           1000 kg$\\text{m}^2$ |\n",
    "|$F$        |                         1500 N |\n",
    "\n",
    "A szabályozás tervezés célja egy olyan vízszintes pozíció $z$ szabályozás létrehozása, hogy:\n",
    "1. A maximális túllövés 30%.\n",
    "2. A beállási idő (5%-os sávba) kevesebb, mint 15 másodperc.\n",
    "3. A $\\theta$  szög mindig a szabott hatérértékeken belül marad legfeljebb 10 méter elmozdulás esetében.\n",
    "4. Nincsa maradó hiba egységugrás bemenet esetében.\n",
    "\n",
    "A rendszer egyenletei:\n",
    "\n",
    "\\begin{cases}\n",
    "J\\ddot{\\theta}=T \\\\\n",
    "m\\ddot{z}=F\\theta\n",
    "\\end{cases}\n",
    "és az állapotvektort $\\textbf{x}=[x_1,x_2,x_3,x_4]^T=[z,\\dot{z},\\theta,\\dot{\\theta}]^T$-ként meghatározva, a bemenetet pedig $u=T$-ként, a rendszer állapotegyenlete:\n",
    "\n",
    "\\begin{cases}\n",
    "\\dot{\\textbf{x}}=\\underbrace{\\begin{bmatrix}0&1&0&0 \\\\ 0&0&F/m&0 \\\\ 0&0&0&1 \\\\ 0&0&0&0\\end{bmatrix}}_{A}\\textbf{x}+\\underbrace{\\begin{bmatrix}0\\\\0\\\\0\\\\1/J\\end{bmatrix}}_{B}u \\\\ \\\\\n",
    "\\textbf{y}=\\underbrace{\\begin{bmatrix}1&0&0&0 \\\\ 0&1&0&0\\end{bmatrix}}_{C}\\textbf{x}.\n",
    "\\end{cases}\n",
    "\n",
    "### Szabályozó tervezése\n",
    "Ahhoz, hogy nulla maradó hiba legyen egységugrás bemenet esetében, a rendszert ki kell egészíteni egy új $\\dot{x_5}=y_1-y_d$ állapottal, ahol $y_1$ a mért vízszintes pozíció és $y_d$ annak kívánt értéke. A kiegészített rendszer így:\n",
    "\n",
    "\\begin{cases}\n",
    "\\dot{\\textbf{x}_a}=\\underbrace{\\begin{bmatrix}0&1&0&0&0 \\\\ 0&0&F/m&0&0 \\\\ 0&0&0&1&0 \\\\ 0&0&0&0&0 \\\\ 1&0&0&0&0 \\end{bmatrix}}_{A_a}\\textbf{x}_a+\\underbrace{\\begin{bmatrix} 0&0\\\\0&0\\\\0&0\\\\1/J&0\\\\0&-1 \\end{bmatrix}}_{B_a}\\underbrace{\\begin{bmatrix} u\\\\y_d \\end{bmatrix}}_{u_a} \\\\ \\\\\n",
    "\\textbf{y}_a=\\underbrace{\\begin{bmatrix}1&0&0&0&0\\\\0&1&0&0&0\\\\0&0&0&0&1\\end{bmatrix}}_{C_a}\\textbf{x}_a\n",
    "\\end{cases}\n",
    "\n",
    "azaz irányítható $B_a$ első oszlopával, tehát lehetőség van pólus áthelyezés alkalmazására. Fontos, hogy a megfigyelhetőség fenntartásához egy új sor lett $C$-hez adva, mivel $x_5$ állapot ismert.\n",
    "\n",
    "Az erősítési mátrix $K_a$ ami teljesíti a feltételeket:\n",
    "$$\n",
    "K_a=\\begin{bmatrix}2225.0&6244.0&13861.0&5275.0&316.0\\end{bmatrix}\n",
    "$$\n",
    "ami a $(A_a-B_aK_a)$ mátrix pólusait $-0.28$, $-2.24+2.23i$, $-2.24-2.23i$, $-0.26+0.32i$ és $-0.26-0.32i$ értékekbe helyezi.\n",
    "\n",
    "### Megfigyelő tervezése\n",
    "A rendszer megfigyelhető, és mivel három állapota mért, így lehetséges egy korlátozott megfigyelő létrehozása ($\\theta$-hoz és $\\dot{\\theta}$-hoz) aminek modellje:\n",
    "$$\n",
    "\\dot{\\hat{\\textbf{v}}}=(A_{11}+L_aA_{21})\\hat{\\textbf{v}}+(A_{12}+L_aA_{22}-A_{11}L_a-L_aA_{21}L_a)\\textbf{y}_a+(B_1+L_aB_2)u_a,\n",
    "$$\n",
    "ahol\n",
    "$$\n",
    "T^{-1}A_aT=\\begin{bmatrix}A_{11}&A_{12} \\\\ A_{21}&A_{22}\\end{bmatrix}, \n",
    "\\quad T^{-1}B_a=\\begin{bmatrix}B_1 \\\\ B_2\\end{bmatrix}, \n",
    "\\quad \\overline{\\textbf{x}_a}=T^{-1}\\textbf{x}_a=\\begin{bmatrix}V \\\\ C\\end{bmatrix}\\textbf{x}_a, \n",
    "\\quad V=\\begin{bmatrix}0&0&1&0&0 \\\\ 0&0&0&1&0\\end{bmatrix}, \n",
    "\\quad \\hat{\\textbf{x}_a}=\\begin{bmatrix}\\hat{\\textbf{v}}-L_a\\textbf{y}_a \\\\ \\textbf{y}_a\\end{bmatrix}.\n",
    "$$\n",
    "\n",
    "A megfigyelő sajátértékeit úgy választjuk meg, hogy a becslés hibája gyorsabban konvergáljon, mint a rendszer. A válaszottt sajátértékei $A_{11}+L_aA_{21}$-nek $\\lambda_i=-10$rad/s, $i=1,2$ ahol \n",
    "$$ L_a=\\begin{bmatrix}0&-\\frac{40}{3}&0 \\\\ 0&-\\frac{200}{3}&0\\end{bmatrix} $$\n",
    "\n",
    "\n",
    "### Hogyan működik a példa?\n",
    "Vizsgálja a rendszer jellemzőit, módosítsa a szabályozó és megfigyelő paramétereit.\n",
    "A szimuláció egy hibás becsléssel kezd."
   ]
  },
  {
   "cell_type": "code",
   "execution_count": 2,
   "metadata": {},
   "outputs": [],
   "source": [
    "#Preparatory Cell \n",
    "\n",
    "%matplotlib notebook\n",
    "import control as ctrl\n",
    "import numpy\n",
    "import sympy as sym\n",
    "from IPython.display import display, Markdown\n",
    "import ipywidgets as widgets\n",
    "import matplotlib.pyplot as plt\n",
    "import matplotlib.animation as animation\n",
    "import matplotlib.patches as patches\n",
    "import matplotlib.transforms as transforms\n",
    "import matplotlib.lines as lines\n",
    "\n",
    "#print a matrix latex-like\n",
    "def bmatrix(a):\n",
    "     \"\"\"Returns a LaTeX bmatrix - by Damir Arbula (ICCT project)\n",
    "\n",
    "     :a: numpy array\n",
    "     :returns: LaTeX bmatrix as a string\n",
    "     \"\"\"\n",
    "     if len(a.shape) > 2:\n",
    "         raise ValueError('bmatrix can at most display two dimensions')\n",
    "     lines = str(a).replace('[', '').replace(']', '').splitlines()\n",
    "     rv = [r'\\begin{bmatrix}']\n",
    "     rv += ['  ' + ' & '.join(l.split()) + r'\\\\' for l in lines]\n",
    "     rv +=  [r'\\end{bmatrix}']\n",
    "     return '\\n'.join(rv)\n",
    "\n",
    "\n",
    "# Display formatted matrix: \n",
    "def vmatrix(a):\n",
    "    if len(a.shape) > 2:\n",
    "         raise ValueError('bmatrix can at most display two dimensions')\n",
    "    lines = str(a).replace('[', '').replace(']', '').splitlines()\n",
    "    rv = [r'\\begin{vmatrix}']\n",
    "    rv += ['  ' + ' & '.join(l.split()) + r'\\\\' for l in lines]\n",
    "    rv +=  [r'\\end{vmatrix}']\n",
    "    return '\\n'.join(rv)\n",
    "\n",
    "\n",
    "#matrixWidget is a matrix looking widget built with a VBox of HBox(es) that returns a numPy array as value !\n",
    "class matrixWidget(widgets.VBox):\n",
    "    def updateM(self,change):\n",
    "        for irow in range(0,self.n):\n",
    "            for icol in range(0,self.m):\n",
    "                self.M_[irow,icol] = self.children[irow].children[icol].value\n",
    "                #print(self.M_[irow,icol])\n",
    "        self.value = self.M_\n",
    "\n",
    "    def dummychangecallback(self,change):\n",
    "        pass\n",
    "    \n",
    "    \n",
    "    def __init__(self,n,m):\n",
    "        self.n = n\n",
    "        self.m = m\n",
    "        self.M_ = numpy.matrix(numpy.zeros((self.n,self.m)))\n",
    "        self.value = self.M_\n",
    "        widgets.VBox.__init__(self,\n",
    "                             children = [\n",
    "                                 widgets.HBox(children = \n",
    "                                              [widgets.FloatText(value=0.0, layout=widgets.Layout(width='90px')) for i in range(m)]\n",
    "                                             ) \n",
    "                                 for j in range(n)\n",
    "                             ])\n",
    "        \n",
    "        #fill in widgets and tell interact to call updateM each time a children changes value\n",
    "        for irow in range(0,self.n):\n",
    "            for icol in range(0,self.m):\n",
    "                self.children[irow].children[icol].value = self.M_[irow,icol]\n",
    "                self.children[irow].children[icol].observe(self.updateM, names='value')\n",
    "        #value = Unicode('example@example.com', help=\"The email value.\").tag(sync=True)\n",
    "        self.observe(self.updateM, names='value', type= 'All')\n",
    "        \n",
    "    def setM(self, newM):\n",
    "        #disable callbacks, change values, and reenable\n",
    "        self.unobserve(self.updateM, names='value', type= 'All')\n",
    "        for irow in range(0,self.n):\n",
    "            for icol in range(0,self.m):\n",
    "                self.children[irow].children[icol].unobserve(self.updateM, names='value')\n",
    "        self.M_ = newM\n",
    "        self.value = self.M_\n",
    "        for irow in range(0,self.n):\n",
    "            for icol in range(0,self.m):\n",
    "                self.children[irow].children[icol].value = self.M_[irow,icol]\n",
    "        for irow in range(0,self.n):\n",
    "            for icol in range(0,self.m):\n",
    "                self.children[irow].children[icol].observe(self.updateM, names='value')\n",
    "        self.observe(self.updateM, names='value', type= 'All')        \n",
    "\n",
    "                #self.children[irow].children[icol].observe(self.updateM, names='value')\n",
    "\n",
    "             \n",
    "#overlaod class for state space systems that DO NOT remove \"useless\" states (what \"professor\" of automatic control would do this?)\n",
    "class sss(ctrl.StateSpace):\n",
    "    def __init__(self,*args):\n",
    "        #call base class init constructor\n",
    "        ctrl.StateSpace.__init__(self,*args)\n",
    "    #disable function below in base class\n",
    "    def _remove_useless_states(self):\n",
    "        pass"
   ]
  },
  {
   "cell_type": "code",
   "execution_count": 3,
   "metadata": {},
   "outputs": [],
   "source": [
    "# Define matrixes\n",
    "\n",
    "A = numpy.matrix('0 1 0 0; 0 0 1.5 0; 0 0 0 1; 0 0 0 0')\n",
    "B = numpy.matrix('0;0;0;0.001')\n",
    "C = numpy.matrix('1 0 0 0; 0 1 0 0')\n",
    "Aa = numpy.matrix('0 1 0 0 0; 0 0 1.5 0 0; 0 0 0 1 0; 0 0 0 0 0; 1 0 0 0 0')\n",
    "Ba = numpy.matrix('0 0;0 0;0 0;0.001 0;0 -1')\n",
    "Ca = numpy.matrix('1 0 0 0 0; 0 1 0 0 0; 0 0 0 0 1')\n",
    "Ka1 = numpy.matrix('[2225.0, 6244.0, 13861.0, 5275.0, 316.0') #318.9333 835 2012.5 2000 59.6\n",
    "Ta = (numpy.matrix('0 0 1 0 0; 0 0 0 1 0; 1 0 0 0 0;0 1 0 0 0; 0 0 0 0 1'))**(-1)\n",
    "Ar = Ta**(-1)*Aa*Ta\n",
    "Br = Ta**(-1)*Ba\n",
    "A11 = Ar[0:2,0:2]\n",
    "A12 = Ar[0:2,2:5]\n",
    "A21 = Ar[2:5,0:2]\n",
    "A22 = Ar[2:5,2:5]\n",
    "B1 = Br[0:2,:]\n",
    "B2 = Br[2:5,:]\n",
    "La1 = numpy.matrix([[0, -4*10/3, 0],[0, -3/8*(-4*10/3)**2, 0]])\n",
    "X0a = numpy.matrix('0;0;0;0;0;0;0;0;0;0;0.002;0.002;0;0;0;0;0;0.002;0.002;0;0;0;0;0')\n",
    "# X0a = numpy.matrix('0;0;0;0;0')\n",
    "# V0 = numpy.matrix('0;0')"
   ]
  },
  {
   "cell_type": "code",
   "execution_count": 4,
   "metadata": {},
   "outputs": [],
   "source": [
    "# Define matrixes widget\n",
    "Kaw = matrixWidget(1,5)\n",
    "Law = matrixWidget(2,3)\n",
    "eig1 = matrixWidget(1,1)\n",
    "eig2 = matrixWidget(2,1)\n",
    "eig3 = matrixWidget(2,1)\n",
    "eig4 = matrixWidget(1,1)\n",
    "eig5 = matrixWidget(1,1)\n",
    "eig1o = matrixWidget(1,1)\n",
    "eig2o = matrixWidget(2,1)\n",
    "\n",
    "Ydw = widgets.FloatSlider(\n",
    "                         value=10,\n",
    "                         min=0,\n",
    "                         max=10.0,\n",
    "                         step=0.1,\n",
    "                         description='$y_d$:',\n",
    "                         disabled=False,\n",
    "                         continuous_update=False,\n",
    "                         orientation='horizontal',\n",
    "                         readout=True,\n",
    "                         readout_format='.1f',\n",
    "                        )\n",
    "\n",
    "# Init matrix widgets\n",
    "Kaw.setM(Ka1) \n",
    "Law.setM(La1)\n",
    "#[-0.6,-0.5-0.35j,-0.5+0.35j,-0.2-0.6j,-0.2+0.6j]\n",
    "eig1.setM(numpy.matrix([-0.28]))\n",
    "eig2.setM(numpy.matrix([[-2.24],[-2.23]]))\n",
    "eig3.setM(numpy.matrix([[-0.26],[-0.32]])) \n",
    "eig4.setM(numpy.matrix([-1])) \n",
    "eig5.setM(numpy.matrix([-1])) \n",
    "eig1o.setM(numpy.matrix([-10])) \n",
    "eig2o.setM(numpy.matrix([[-10],[0]])) "
   ]
  },
  {
   "cell_type": "code",
   "execution_count": 5,
   "metadata": {},
   "outputs": [],
   "source": [
    "# Support functions\n",
    "# Simulation function\n",
    "def simulation(Aa, Baa, Ca, A11, A12, A21, A22, B1, B2, La, Ka, Ta):\n",
    "    Aa, Baa, Ca = sym.Matrix(Aa), sym.Matrix(Baa), sym.Matrix(Ca)\n",
    "    A11, A12, A21, A22 = sym.Matrix(A11), sym.Matrix(A12), sym.Matrix(A21), sym.Matrix(A22)\n",
    "    B1, B2 = sym.Matrix(B1), sym.Matrix(B2)\n",
    "    La, Ka = sym.Matrix(La), sym.Matrix(Ka)\n",
    "    Ta = sym.Matrix(Ta)\n",
    "    sysS = sss(Aa, Baa, Ca, sym.zeros(3,2))\n",
    "    sysX = sss(Aa, Baa, sym.eye(5), sym.zeros(5,2))\n",
    "    sysO1 = sss((A11+La*A21), (B1+La*B2).row_join(A12+La*A22-A11*La-La*A21*La), sym.eye(2), sym.zeros(2,5))\n",
    "    sysO2 = ctrl.append(sysO1, sysS)\n",
    "    sysO3 = ctrl.connect(sysO2, [[3, 3], [4, 4], [5, 5]], [1, 2, 6, 7], [1, 2, 3, 4, 5])\n",
    "    sysO = sss(sysO3.A,\n",
    "               sysO3.B*sym.eye(2).col_join(sym.eye(2)),\n",
    "               Ta*(sym.eye(2).row_join(-La)).col_join(sym.zeros(3, 2).row_join(sym.eye(3)))*sysO3.C,\n",
    "               sym.zeros(5,2))\n",
    "    sysU = sss(sysO.A, sysO.B, -Ka*sysO.C, sym.zeros(1,2))\n",
    "    sysT = ctrl.append(sysS, sysX, sysO, sysU)\n",
    "    sysT1 = ctrl.connect(sysT, [[1, 14], [3, 14], [5, 14], [7, 14]], [2, 4, 6, 8], [i for i in range(1, 15)])\n",
    "    sys = sss(sysT1.A, sysT1.B*sym.Matrix([1, 1, 1, 1]), sysT1.C, sym.zeros(14, 1))\n",
    "    return sys\n",
    "\n",
    "# check functions\n",
    "def eigen_choice(selc,selo):\n",
    "    if selc == '0 komplex sajátérték':\n",
    "        eig2.children[1].children[0].disabled = True\n",
    "        eig3.children[1].children[0].disabled = True\n",
    "        eig3.children[0].children[0].disabled = False\n",
    "        eig4.children[0].children[0].disabled = False\n",
    "        eig5.children[0].children[0].disabled = False\n",
    "        eigc = 0\n",
    "    if selc == '2 komplex sajátérték':\n",
    "        eig2.children[1].children[0].disabled = False\n",
    "        eig3.children[1].children[0].disabled = True\n",
    "        eig3.children[0].children[0].disabled = True\n",
    "        eig4.children[0].children[0].disabled = False\n",
    "        eig5.children[0].children[0].disabled = False\n",
    "        eigc = 2\n",
    "    if selc == '4 komplex sajátérték':\n",
    "        eig2.children[1].children[0].disabled = False\n",
    "        eig3.children[1].children[0].disabled = False\n",
    "        eig3.children[0].children[0].disabled = False\n",
    "        eig4.children[0].children[0].disabled = True\n",
    "        eig5.children[0].children[0].disabled = True\n",
    "        eigc = 4\n",
    "    if selo == '0 komplex sajátérték':\n",
    "        eig1o.children[0].children[0].disabled = False\n",
    "        eig2o.children[1].children[0].disabled = True\n",
    "        eigo = 0\n",
    "    if selo == '2 komplex sajátérték':\n",
    "        eig1o.children[0].children[0].disabled = True\n",
    "        eig2o.children[1].children[0].disabled = False\n",
    "        eigo = 2\n",
    "    return (eigc, eigo)\n",
    "\n",
    "def method_choice(selm):\n",
    "    if selm == 'Ka és La megadása':\n",
    "        method = 1\n",
    "        selc.disabled = True\n",
    "        selo.disabled = True\n",
    "    if selm == 'Sajátértékek megadása':\n",
    "        method = 2\n",
    "        selc.disabled = False\n",
    "        selo.disabled = False\n",
    "    return method\n",
    "\n",
    "# Animation functions\n",
    "def fun_animation(index):\n",
    "    global Ydw, yout, T\n",
    "    yd = Ydw.value\n",
    "    frame = 1\n",
    "    \n",
    "    linez.set_data(T[0:index*frame],yd*yout[0][0:index*frame])\n",
    "    linezv.set_data(T[0:index*frame],yd*yout[1][0:index*frame])\n",
    "    lined.set_data(T,[yd for i in range(0,len(T))])\n",
    "    lineu.set_data(T[0:index*frame],yd*yout[13][0:index*frame])\n",
    "    linelimu1.set_data(T,[500 for j in range(0,len(T))])\n",
    "    linelimu2.set_data(T,[-500 for j in range(0,len(T))])\n",
    "    linethetaest.set_data(T[0:index*frame],yd*yout[10][0:index*frame]*180/numpy.pi)\n",
    "    linetheta.set_data(T[0:index*frame],yd*yout[5][0:index*frame]*180/numpy.pi)\n",
    "    \n",
    "    \n",
    "    rotation_transform.clear().translate(yd*yout[0][index*frame]*numpy.cos(float(yd*yout[6][index*frame])), yd*yout[0][index*frame]*numpy.sin(float(yd*yout[6][index*frame]))).rotate(float(-yd*yout[6][index*frame]))\n",
    "    \n",
    "    return (linez,linezv,lined,lineu,linelimu1,linelimu2,linethetaest,linetheta)\n",
    "\n",
    "def anim_init():\n",
    "    linez.set_data([], [])\n",
    "    linezv.set_data([], [])\n",
    "    lined.set_data([], [])\n",
    "    lineu.set_data([], [])\n",
    "    linelimu1.set_data([], [])\n",
    "    linelimu2.set_data([], [])\n",
    "    linethetaest.set_data([], [])\n",
    "    linetheta.set_data([], [])\n",
    "    return (linez,linezv,lined,lineu,linelimu1,linelimu2,linethetaest,linetheta)\n"
   ]
  },
  {
   "cell_type": "code",
   "execution_count": 6,
   "metadata": {
    "scrolled": false
   },
   "outputs": [
    {
     "data": {
      "application/javascript": [
       "/* Put everything inside the global mpl namespace */\n",
       "window.mpl = {};\n",
       "\n",
       "\n",
       "mpl.get_websocket_type = function() {\n",
       "    if (typeof(WebSocket) !== 'undefined') {\n",
       "        return WebSocket;\n",
       "    } else if (typeof(MozWebSocket) !== 'undefined') {\n",
       "        return MozWebSocket;\n",
       "    } else {\n",
       "        alert('Your browser does not have WebSocket support. ' +\n",
       "              'Please try Chrome, Safari or Firefox ≥ 6. ' +\n",
       "              'Firefox 4 and 5 are also supported but you ' +\n",
       "              'have to enable WebSockets in about:config.');\n",
       "    };\n",
       "}\n",
       "\n",
       "mpl.figure = function(figure_id, websocket, ondownload, parent_element) {\n",
       "    this.id = figure_id;\n",
       "\n",
       "    this.ws = websocket;\n",
       "\n",
       "    this.supports_binary = (this.ws.binaryType != undefined);\n",
       "\n",
       "    if (!this.supports_binary) {\n",
       "        var warnings = document.getElementById(\"mpl-warnings\");\n",
       "        if (warnings) {\n",
       "            warnings.style.display = 'block';\n",
       "            warnings.textContent = (\n",
       "                \"This browser does not support binary websocket messages. \" +\n",
       "                    \"Performance may be slow.\");\n",
       "        }\n",
       "    }\n",
       "\n",
       "    this.imageObj = new Image();\n",
       "\n",
       "    this.context = undefined;\n",
       "    this.message = undefined;\n",
       "    this.canvas = undefined;\n",
       "    this.rubberband_canvas = undefined;\n",
       "    this.rubberband_context = undefined;\n",
       "    this.format_dropdown = undefined;\n",
       "\n",
       "    this.image_mode = 'full';\n",
       "\n",
       "    this.root = $('<div/>');\n",
       "    this._root_extra_style(this.root)\n",
       "    this.root.attr('style', 'display: inline-block');\n",
       "\n",
       "    $(parent_element).append(this.root);\n",
       "\n",
       "    this._init_header(this);\n",
       "    this._init_canvas(this);\n",
       "    this._init_toolbar(this);\n",
       "\n",
       "    var fig = this;\n",
       "\n",
       "    this.waiting = false;\n",
       "\n",
       "    this.ws.onopen =  function () {\n",
       "            fig.send_message(\"supports_binary\", {value: fig.supports_binary});\n",
       "            fig.send_message(\"send_image_mode\", {});\n",
       "            if (mpl.ratio != 1) {\n",
       "                fig.send_message(\"set_dpi_ratio\", {'dpi_ratio': mpl.ratio});\n",
       "            }\n",
       "            fig.send_message(\"refresh\", {});\n",
       "        }\n",
       "\n",
       "    this.imageObj.onload = function() {\n",
       "            if (fig.image_mode == 'full') {\n",
       "                // Full images could contain transparency (where diff images\n",
       "                // almost always do), so we need to clear the canvas so that\n",
       "                // there is no ghosting.\n",
       "                fig.context.clearRect(0, 0, fig.canvas.width, fig.canvas.height);\n",
       "            }\n",
       "            fig.context.drawImage(fig.imageObj, 0, 0);\n",
       "        };\n",
       "\n",
       "    this.imageObj.onunload = function() {\n",
       "        fig.ws.close();\n",
       "    }\n",
       "\n",
       "    this.ws.onmessage = this._make_on_message_function(this);\n",
       "\n",
       "    this.ondownload = ondownload;\n",
       "}\n",
       "\n",
       "mpl.figure.prototype._init_header = function() {\n",
       "    var titlebar = $(\n",
       "        '<div class=\"ui-dialog-titlebar ui-widget-header ui-corner-all ' +\n",
       "        'ui-helper-clearfix\"/>');\n",
       "    var titletext = $(\n",
       "        '<div class=\"ui-dialog-title\" style=\"width: 100%; ' +\n",
       "        'text-align: center; padding: 3px;\"/>');\n",
       "    titlebar.append(titletext)\n",
       "    this.root.append(titlebar);\n",
       "    this.header = titletext[0];\n",
       "}\n",
       "\n",
       "\n",
       "\n",
       "mpl.figure.prototype._canvas_extra_style = function(canvas_div) {\n",
       "\n",
       "}\n",
       "\n",
       "\n",
       "mpl.figure.prototype._root_extra_style = function(canvas_div) {\n",
       "\n",
       "}\n",
       "\n",
       "mpl.figure.prototype._init_canvas = function() {\n",
       "    var fig = this;\n",
       "\n",
       "    var canvas_div = $('<div/>');\n",
       "\n",
       "    canvas_div.attr('style', 'position: relative; clear: both; outline: 0');\n",
       "\n",
       "    function canvas_keyboard_event(event) {\n",
       "        return fig.key_event(event, event['data']);\n",
       "    }\n",
       "\n",
       "    canvas_div.keydown('key_press', canvas_keyboard_event);\n",
       "    canvas_div.keyup('key_release', canvas_keyboard_event);\n",
       "    this.canvas_div = canvas_div\n",
       "    this._canvas_extra_style(canvas_div)\n",
       "    this.root.append(canvas_div);\n",
       "\n",
       "    var canvas = $('<canvas/>');\n",
       "    canvas.addClass('mpl-canvas');\n",
       "    canvas.attr('style', \"left: 0; top: 0; z-index: 0; outline: 0\")\n",
       "\n",
       "    this.canvas = canvas[0];\n",
       "    this.context = canvas[0].getContext(\"2d\");\n",
       "\n",
       "    var backingStore = this.context.backingStorePixelRatio ||\n",
       "\tthis.context.webkitBackingStorePixelRatio ||\n",
       "\tthis.context.mozBackingStorePixelRatio ||\n",
       "\tthis.context.msBackingStorePixelRatio ||\n",
       "\tthis.context.oBackingStorePixelRatio ||\n",
       "\tthis.context.backingStorePixelRatio || 1;\n",
       "\n",
       "    mpl.ratio = (window.devicePixelRatio || 1) / backingStore;\n",
       "\n",
       "    var rubberband = $('<canvas/>');\n",
       "    rubberband.attr('style', \"position: absolute; left: 0; top: 0; z-index: 1;\")\n",
       "\n",
       "    var pass_mouse_events = true;\n",
       "\n",
       "    canvas_div.resizable({\n",
       "        start: function(event, ui) {\n",
       "            pass_mouse_events = false;\n",
       "        },\n",
       "        resize: function(event, ui) {\n",
       "            fig.request_resize(ui.size.width, ui.size.height);\n",
       "        },\n",
       "        stop: function(event, ui) {\n",
       "            pass_mouse_events = true;\n",
       "            fig.request_resize(ui.size.width, ui.size.height);\n",
       "        },\n",
       "    });\n",
       "\n",
       "    function mouse_event_fn(event) {\n",
       "        if (pass_mouse_events)\n",
       "            return fig.mouse_event(event, event['data']);\n",
       "    }\n",
       "\n",
       "    rubberband.mousedown('button_press', mouse_event_fn);\n",
       "    rubberband.mouseup('button_release', mouse_event_fn);\n",
       "    // Throttle sequential mouse events to 1 every 20ms.\n",
       "    rubberband.mousemove('motion_notify', mouse_event_fn);\n",
       "\n",
       "    rubberband.mouseenter('figure_enter', mouse_event_fn);\n",
       "    rubberband.mouseleave('figure_leave', mouse_event_fn);\n",
       "\n",
       "    canvas_div.on(\"wheel\", function (event) {\n",
       "        event = event.originalEvent;\n",
       "        event['data'] = 'scroll'\n",
       "        if (event.deltaY < 0) {\n",
       "            event.step = 1;\n",
       "        } else {\n",
       "            event.step = -1;\n",
       "        }\n",
       "        mouse_event_fn(event);\n",
       "    });\n",
       "\n",
       "    canvas_div.append(canvas);\n",
       "    canvas_div.append(rubberband);\n",
       "\n",
       "    this.rubberband = rubberband;\n",
       "    this.rubberband_canvas = rubberband[0];\n",
       "    this.rubberband_context = rubberband[0].getContext(\"2d\");\n",
       "    this.rubberband_context.strokeStyle = \"#000000\";\n",
       "\n",
       "    this._resize_canvas = function(width, height) {\n",
       "        // Keep the size of the canvas, canvas container, and rubber band\n",
       "        // canvas in synch.\n",
       "        canvas_div.css('width', width)\n",
       "        canvas_div.css('height', height)\n",
       "\n",
       "        canvas.attr('width', width * mpl.ratio);\n",
       "        canvas.attr('height', height * mpl.ratio);\n",
       "        canvas.attr('style', 'width: ' + width + 'px; height: ' + height + 'px;');\n",
       "\n",
       "        rubberband.attr('width', width);\n",
       "        rubberband.attr('height', height);\n",
       "    }\n",
       "\n",
       "    // Set the figure to an initial 600x600px, this will subsequently be updated\n",
       "    // upon first draw.\n",
       "    this._resize_canvas(600, 600);\n",
       "\n",
       "    // Disable right mouse context menu.\n",
       "    $(this.rubberband_canvas).bind(\"contextmenu\",function(e){\n",
       "        return false;\n",
       "    });\n",
       "\n",
       "    function set_focus () {\n",
       "        canvas.focus();\n",
       "        canvas_div.focus();\n",
       "    }\n",
       "\n",
       "    window.setTimeout(set_focus, 100);\n",
       "}\n",
       "\n",
       "mpl.figure.prototype._init_toolbar = function() {\n",
       "    var fig = this;\n",
       "\n",
       "    var nav_element = $('<div/>');\n",
       "    nav_element.attr('style', 'width: 100%');\n",
       "    this.root.append(nav_element);\n",
       "\n",
       "    // Define a callback function for later on.\n",
       "    function toolbar_event(event) {\n",
       "        return fig.toolbar_button_onclick(event['data']);\n",
       "    }\n",
       "    function toolbar_mouse_event(event) {\n",
       "        return fig.toolbar_button_onmouseover(event['data']);\n",
       "    }\n",
       "\n",
       "    for(var toolbar_ind in mpl.toolbar_items) {\n",
       "        var name = mpl.toolbar_items[toolbar_ind][0];\n",
       "        var tooltip = mpl.toolbar_items[toolbar_ind][1];\n",
       "        var image = mpl.toolbar_items[toolbar_ind][2];\n",
       "        var method_name = mpl.toolbar_items[toolbar_ind][3];\n",
       "\n",
       "        if (!name) {\n",
       "            // put a spacer in here.\n",
       "            continue;\n",
       "        }\n",
       "        var button = $('<button/>');\n",
       "        button.addClass('ui-button ui-widget ui-state-default ui-corner-all ' +\n",
       "                        'ui-button-icon-only');\n",
       "        button.attr('role', 'button');\n",
       "        button.attr('aria-disabled', 'false');\n",
       "        button.click(method_name, toolbar_event);\n",
       "        button.mouseover(tooltip, toolbar_mouse_event);\n",
       "\n",
       "        var icon_img = $('<span/>');\n",
       "        icon_img.addClass('ui-button-icon-primary ui-icon');\n",
       "        icon_img.addClass(image);\n",
       "        icon_img.addClass('ui-corner-all');\n",
       "\n",
       "        var tooltip_span = $('<span/>');\n",
       "        tooltip_span.addClass('ui-button-text');\n",
       "        tooltip_span.html(tooltip);\n",
       "\n",
       "        button.append(icon_img);\n",
       "        button.append(tooltip_span);\n",
       "\n",
       "        nav_element.append(button);\n",
       "    }\n",
       "\n",
       "    var fmt_picker_span = $('<span/>');\n",
       "\n",
       "    var fmt_picker = $('<select/>');\n",
       "    fmt_picker.addClass('mpl-toolbar-option ui-widget ui-widget-content');\n",
       "    fmt_picker_span.append(fmt_picker);\n",
       "    nav_element.append(fmt_picker_span);\n",
       "    this.format_dropdown = fmt_picker[0];\n",
       "\n",
       "    for (var ind in mpl.extensions) {\n",
       "        var fmt = mpl.extensions[ind];\n",
       "        var option = $(\n",
       "            '<option/>', {selected: fmt === mpl.default_extension}).html(fmt);\n",
       "        fmt_picker.append(option);\n",
       "    }\n",
       "\n",
       "    // Add hover states to the ui-buttons\n",
       "    $( \".ui-button\" ).hover(\n",
       "        function() { $(this).addClass(\"ui-state-hover\");},\n",
       "        function() { $(this).removeClass(\"ui-state-hover\");}\n",
       "    );\n",
       "\n",
       "    var status_bar = $('<span class=\"mpl-message\"/>');\n",
       "    nav_element.append(status_bar);\n",
       "    this.message = status_bar[0];\n",
       "}\n",
       "\n",
       "mpl.figure.prototype.request_resize = function(x_pixels, y_pixels) {\n",
       "    // Request matplotlib to resize the figure. Matplotlib will then trigger a resize in the client,\n",
       "    // which will in turn request a refresh of the image.\n",
       "    this.send_message('resize', {'width': x_pixels, 'height': y_pixels});\n",
       "}\n",
       "\n",
       "mpl.figure.prototype.send_message = function(type, properties) {\n",
       "    properties['type'] = type;\n",
       "    properties['figure_id'] = this.id;\n",
       "    this.ws.send(JSON.stringify(properties));\n",
       "}\n",
       "\n",
       "mpl.figure.prototype.send_draw_message = function() {\n",
       "    if (!this.waiting) {\n",
       "        this.waiting = true;\n",
       "        this.ws.send(JSON.stringify({type: \"draw\", figure_id: this.id}));\n",
       "    }\n",
       "}\n",
       "\n",
       "\n",
       "mpl.figure.prototype.handle_save = function(fig, msg) {\n",
       "    var format_dropdown = fig.format_dropdown;\n",
       "    var format = format_dropdown.options[format_dropdown.selectedIndex].value;\n",
       "    fig.ondownload(fig, format);\n",
       "}\n",
       "\n",
       "\n",
       "mpl.figure.prototype.handle_resize = function(fig, msg) {\n",
       "    var size = msg['size'];\n",
       "    if (size[0] != fig.canvas.width || size[1] != fig.canvas.height) {\n",
       "        fig._resize_canvas(size[0], size[1]);\n",
       "        fig.send_message(\"refresh\", {});\n",
       "    };\n",
       "}\n",
       "\n",
       "mpl.figure.prototype.handle_rubberband = function(fig, msg) {\n",
       "    var x0 = msg['x0'] / mpl.ratio;\n",
       "    var y0 = (fig.canvas.height - msg['y0']) / mpl.ratio;\n",
       "    var x1 = msg['x1'] / mpl.ratio;\n",
       "    var y1 = (fig.canvas.height - msg['y1']) / mpl.ratio;\n",
       "    x0 = Math.floor(x0) + 0.5;\n",
       "    y0 = Math.floor(y0) + 0.5;\n",
       "    x1 = Math.floor(x1) + 0.5;\n",
       "    y1 = Math.floor(y1) + 0.5;\n",
       "    var min_x = Math.min(x0, x1);\n",
       "    var min_y = Math.min(y0, y1);\n",
       "    var width = Math.abs(x1 - x0);\n",
       "    var height = Math.abs(y1 - y0);\n",
       "\n",
       "    fig.rubberband_context.clearRect(\n",
       "        0, 0, fig.canvas.width / mpl.ratio, fig.canvas.height / mpl.ratio);\n",
       "\n",
       "    fig.rubberband_context.strokeRect(min_x, min_y, width, height);\n",
       "}\n",
       "\n",
       "mpl.figure.prototype.handle_figure_label = function(fig, msg) {\n",
       "    // Updates the figure title.\n",
       "    fig.header.textContent = msg['label'];\n",
       "}\n",
       "\n",
       "mpl.figure.prototype.handle_cursor = function(fig, msg) {\n",
       "    var cursor = msg['cursor'];\n",
       "    switch(cursor)\n",
       "    {\n",
       "    case 0:\n",
       "        cursor = 'pointer';\n",
       "        break;\n",
       "    case 1:\n",
       "        cursor = 'default';\n",
       "        break;\n",
       "    case 2:\n",
       "        cursor = 'crosshair';\n",
       "        break;\n",
       "    case 3:\n",
       "        cursor = 'move';\n",
       "        break;\n",
       "    }\n",
       "    fig.rubberband_canvas.style.cursor = cursor;\n",
       "}\n",
       "\n",
       "mpl.figure.prototype.handle_message = function(fig, msg) {\n",
       "    fig.message.textContent = msg['message'];\n",
       "}\n",
       "\n",
       "mpl.figure.prototype.handle_draw = function(fig, msg) {\n",
       "    // Request the server to send over a new figure.\n",
       "    fig.send_draw_message();\n",
       "}\n",
       "\n",
       "mpl.figure.prototype.handle_image_mode = function(fig, msg) {\n",
       "    fig.image_mode = msg['mode'];\n",
       "}\n",
       "\n",
       "mpl.figure.prototype.updated_canvas_event = function() {\n",
       "    // Called whenever the canvas gets updated.\n",
       "    this.send_message(\"ack\", {});\n",
       "}\n",
       "\n",
       "// A function to construct a web socket function for onmessage handling.\n",
       "// Called in the figure constructor.\n",
       "mpl.figure.prototype._make_on_message_function = function(fig) {\n",
       "    return function socket_on_message(evt) {\n",
       "        if (evt.data instanceof Blob) {\n",
       "            /* FIXME: We get \"Resource interpreted as Image but\n",
       "             * transferred with MIME type text/plain:\" errors on\n",
       "             * Chrome.  But how to set the MIME type?  It doesn't seem\n",
       "             * to be part of the websocket stream */\n",
       "            evt.data.type = \"image/png\";\n",
       "\n",
       "            /* Free the memory for the previous frames */\n",
       "            if (fig.imageObj.src) {\n",
       "                (window.URL || window.webkitURL).revokeObjectURL(\n",
       "                    fig.imageObj.src);\n",
       "            }\n",
       "\n",
       "            fig.imageObj.src = (window.URL || window.webkitURL).createObjectURL(\n",
       "                evt.data);\n",
       "            fig.updated_canvas_event();\n",
       "            fig.waiting = false;\n",
       "            return;\n",
       "        }\n",
       "        else if (typeof evt.data === 'string' && evt.data.slice(0, 21) == \"data:image/png;base64\") {\n",
       "            fig.imageObj.src = evt.data;\n",
       "            fig.updated_canvas_event();\n",
       "            fig.waiting = false;\n",
       "            return;\n",
       "        }\n",
       "\n",
       "        var msg = JSON.parse(evt.data);\n",
       "        var msg_type = msg['type'];\n",
       "\n",
       "        // Call the  \"handle_{type}\" callback, which takes\n",
       "        // the figure and JSON message as its only arguments.\n",
       "        try {\n",
       "            var callback = fig[\"handle_\" + msg_type];\n",
       "        } catch (e) {\n",
       "            console.log(\"No handler for the '\" + msg_type + \"' message type: \", msg);\n",
       "            return;\n",
       "        }\n",
       "\n",
       "        if (callback) {\n",
       "            try {\n",
       "                // console.log(\"Handling '\" + msg_type + \"' message: \", msg);\n",
       "                callback(fig, msg);\n",
       "            } catch (e) {\n",
       "                console.log(\"Exception inside the 'handler_\" + msg_type + \"' callback:\", e, e.stack, msg);\n",
       "            }\n",
       "        }\n",
       "    };\n",
       "}\n",
       "\n",
       "// from http://stackoverflow.com/questions/1114465/getting-mouse-location-in-canvas\n",
       "mpl.findpos = function(e) {\n",
       "    //this section is from http://www.quirksmode.org/js/events_properties.html\n",
       "    var targ;\n",
       "    if (!e)\n",
       "        e = window.event;\n",
       "    if (e.target)\n",
       "        targ = e.target;\n",
       "    else if (e.srcElement)\n",
       "        targ = e.srcElement;\n",
       "    if (targ.nodeType == 3) // defeat Safari bug\n",
       "        targ = targ.parentNode;\n",
       "\n",
       "    // jQuery normalizes the pageX and pageY\n",
       "    // pageX,Y are the mouse positions relative to the document\n",
       "    // offset() returns the position of the element relative to the document\n",
       "    var x = e.pageX - $(targ).offset().left;\n",
       "    var y = e.pageY - $(targ).offset().top;\n",
       "\n",
       "    return {\"x\": x, \"y\": y};\n",
       "};\n",
       "\n",
       "/*\n",
       " * return a copy of an object with only non-object keys\n",
       " * we need this to avoid circular references\n",
       " * http://stackoverflow.com/a/24161582/3208463\n",
       " */\n",
       "function simpleKeys (original) {\n",
       "  return Object.keys(original).reduce(function (obj, key) {\n",
       "    if (typeof original[key] !== 'object')\n",
       "        obj[key] = original[key]\n",
       "    return obj;\n",
       "  }, {});\n",
       "}\n",
       "\n",
       "mpl.figure.prototype.mouse_event = function(event, name) {\n",
       "    var canvas_pos = mpl.findpos(event)\n",
       "\n",
       "    if (name === 'button_press')\n",
       "    {\n",
       "        this.canvas.focus();\n",
       "        this.canvas_div.focus();\n",
       "    }\n",
       "\n",
       "    var x = canvas_pos.x * mpl.ratio;\n",
       "    var y = canvas_pos.y * mpl.ratio;\n",
       "\n",
       "    this.send_message(name, {x: x, y: y, button: event.button,\n",
       "                             step: event.step,\n",
       "                             guiEvent: simpleKeys(event)});\n",
       "\n",
       "    /* This prevents the web browser from automatically changing to\n",
       "     * the text insertion cursor when the button is pressed.  We want\n",
       "     * to control all of the cursor setting manually through the\n",
       "     * 'cursor' event from matplotlib */\n",
       "    event.preventDefault();\n",
       "    return false;\n",
       "}\n",
       "\n",
       "mpl.figure.prototype._key_event_extra = function(event, name) {\n",
       "    // Handle any extra behaviour associated with a key event\n",
       "}\n",
       "\n",
       "mpl.figure.prototype.key_event = function(event, name) {\n",
       "\n",
       "    // Prevent repeat events\n",
       "    if (name == 'key_press')\n",
       "    {\n",
       "        if (event.which === this._key)\n",
       "            return;\n",
       "        else\n",
       "            this._key = event.which;\n",
       "    }\n",
       "    if (name == 'key_release')\n",
       "        this._key = null;\n",
       "\n",
       "    var value = '';\n",
       "    if (event.ctrlKey && event.which != 17)\n",
       "        value += \"ctrl+\";\n",
       "    if (event.altKey && event.which != 18)\n",
       "        value += \"alt+\";\n",
       "    if (event.shiftKey && event.which != 16)\n",
       "        value += \"shift+\";\n",
       "\n",
       "    value += 'k';\n",
       "    value += event.which.toString();\n",
       "\n",
       "    this._key_event_extra(event, name);\n",
       "\n",
       "    this.send_message(name, {key: value,\n",
       "                             guiEvent: simpleKeys(event)});\n",
       "    return false;\n",
       "}\n",
       "\n",
       "mpl.figure.prototype.toolbar_button_onclick = function(name) {\n",
       "    if (name == 'download') {\n",
       "        this.handle_save(this, null);\n",
       "    } else {\n",
       "        this.send_message(\"toolbar_button\", {name: name});\n",
       "    }\n",
       "};\n",
       "\n",
       "mpl.figure.prototype.toolbar_button_onmouseover = function(tooltip) {\n",
       "    this.message.textContent = tooltip;\n",
       "};\n",
       "mpl.toolbar_items = [[\"Home\", \"Reset original view\", \"fa fa-home icon-home\", \"home\"], [\"Back\", \"Back to previous view\", \"fa fa-arrow-left icon-arrow-left\", \"back\"], [\"Forward\", \"Forward to next view\", \"fa fa-arrow-right icon-arrow-right\", \"forward\"], [\"\", \"\", \"\", \"\"], [\"Pan\", \"Pan axes with left mouse, zoom with right\", \"fa fa-arrows icon-move\", \"pan\"], [\"Zoom\", \"Zoom to rectangle\", \"fa fa-square-o icon-check-empty\", \"zoom\"], [\"\", \"\", \"\", \"\"], [\"Download\", \"Download plot\", \"fa fa-floppy-o icon-save\", \"download\"]];\n",
       "\n",
       "mpl.extensions = [\"eps\", \"pdf\", \"png\", \"ps\", \"raw\", \"svg\"];\n",
       "\n",
       "mpl.default_extension = \"png\";var comm_websocket_adapter = function(comm) {\n",
       "    // Create a \"websocket\"-like object which calls the given IPython comm\n",
       "    // object with the appropriate methods. Currently this is a non binary\n",
       "    // socket, so there is still some room for performance tuning.\n",
       "    var ws = {};\n",
       "\n",
       "    ws.close = function() {\n",
       "        comm.close()\n",
       "    };\n",
       "    ws.send = function(m) {\n",
       "        //console.log('sending', m);\n",
       "        comm.send(m);\n",
       "    };\n",
       "    // Register the callback with on_msg.\n",
       "    comm.on_msg(function(msg) {\n",
       "        //console.log('receiving', msg['content']['data'], msg);\n",
       "        // Pass the mpl event to the overridden (by mpl) onmessage function.\n",
       "        ws.onmessage(msg['content']['data'])\n",
       "    });\n",
       "    return ws;\n",
       "}\n",
       "\n",
       "mpl.mpl_figure_comm = function(comm, msg) {\n",
       "    // This is the function which gets called when the mpl process\n",
       "    // starts-up an IPython Comm through the \"matplotlib\" channel.\n",
       "\n",
       "    var id = msg.content.data.id;\n",
       "    // Get hold of the div created by the display call when the Comm\n",
       "    // socket was opened in Python.\n",
       "    var element = $(\"#\" + id);\n",
       "    var ws_proxy = comm_websocket_adapter(comm)\n",
       "\n",
       "    function ondownload(figure, format) {\n",
       "        window.open(figure.imageObj.src);\n",
       "    }\n",
       "\n",
       "    var fig = new mpl.figure(id, ws_proxy,\n",
       "                           ondownload,\n",
       "                           element.get(0));\n",
       "\n",
       "    // Call onopen now - mpl needs it, as it is assuming we've passed it a real\n",
       "    // web socket which is closed, not our websocket->open comm proxy.\n",
       "    ws_proxy.onopen();\n",
       "\n",
       "    fig.parent_element = element.get(0);\n",
       "    fig.cell_info = mpl.find_output_cell(\"<div id='\" + id + \"'></div>\");\n",
       "    if (!fig.cell_info) {\n",
       "        console.error(\"Failed to find cell for figure\", id, fig);\n",
       "        return;\n",
       "    }\n",
       "\n",
       "    var output_index = fig.cell_info[2]\n",
       "    var cell = fig.cell_info[0];\n",
       "\n",
       "};\n",
       "\n",
       "mpl.figure.prototype.handle_close = function(fig, msg) {\n",
       "    var width = fig.canvas.width/mpl.ratio\n",
       "    fig.root.unbind('remove')\n",
       "\n",
       "    // Update the output cell to use the data from the current canvas.\n",
       "    fig.push_to_output();\n",
       "    var dataURL = fig.canvas.toDataURL();\n",
       "    // Re-enable the keyboard manager in IPython - without this line, in FF,\n",
       "    // the notebook keyboard shortcuts fail.\n",
       "    IPython.keyboard_manager.enable()\n",
       "    $(fig.parent_element).html('<img src=\"' + dataURL + '\" width=\"' + width + '\">');\n",
       "    fig.close_ws(fig, msg);\n",
       "}\n",
       "\n",
       "mpl.figure.prototype.close_ws = function(fig, msg){\n",
       "    fig.send_message('closing', msg);\n",
       "    // fig.ws.close()\n",
       "}\n",
       "\n",
       "mpl.figure.prototype.push_to_output = function(remove_interactive) {\n",
       "    // Turn the data on the canvas into data in the output cell.\n",
       "    var width = this.canvas.width/mpl.ratio\n",
       "    var dataURL = this.canvas.toDataURL();\n",
       "    this.cell_info[1]['text/html'] = '<img src=\"' + dataURL + '\" width=\"' + width + '\">';\n",
       "}\n",
       "\n",
       "mpl.figure.prototype.updated_canvas_event = function() {\n",
       "    // Tell IPython that the notebook contents must change.\n",
       "    IPython.notebook.set_dirty(true);\n",
       "    this.send_message(\"ack\", {});\n",
       "    var fig = this;\n",
       "    // Wait a second, then push the new image to the DOM so\n",
       "    // that it is saved nicely (might be nice to debounce this).\n",
       "    setTimeout(function () { fig.push_to_output() }, 1000);\n",
       "}\n",
       "\n",
       "mpl.figure.prototype._init_toolbar = function() {\n",
       "    var fig = this;\n",
       "\n",
       "    var nav_element = $('<div/>');\n",
       "    nav_element.attr('style', 'width: 100%');\n",
       "    this.root.append(nav_element);\n",
       "\n",
       "    // Define a callback function for later on.\n",
       "    function toolbar_event(event) {\n",
       "        return fig.toolbar_button_onclick(event['data']);\n",
       "    }\n",
       "    function toolbar_mouse_event(event) {\n",
       "        return fig.toolbar_button_onmouseover(event['data']);\n",
       "    }\n",
       "\n",
       "    for(var toolbar_ind in mpl.toolbar_items){\n",
       "        var name = mpl.toolbar_items[toolbar_ind][0];\n",
       "        var tooltip = mpl.toolbar_items[toolbar_ind][1];\n",
       "        var image = mpl.toolbar_items[toolbar_ind][2];\n",
       "        var method_name = mpl.toolbar_items[toolbar_ind][3];\n",
       "\n",
       "        if (!name) { continue; };\n",
       "\n",
       "        var button = $('<button class=\"btn btn-default\" href=\"#\" title=\"' + name + '\"><i class=\"fa ' + image + ' fa-lg\"></i></button>');\n",
       "        button.click(method_name, toolbar_event);\n",
       "        button.mouseover(tooltip, toolbar_mouse_event);\n",
       "        nav_element.append(button);\n",
       "    }\n",
       "\n",
       "    // Add the status bar.\n",
       "    var status_bar = $('<span class=\"mpl-message\" style=\"text-align:right; float: right;\"/>');\n",
       "    nav_element.append(status_bar);\n",
       "    this.message = status_bar[0];\n",
       "\n",
       "    // Add the close button to the window.\n",
       "    var buttongrp = $('<div class=\"btn-group inline pull-right\"></div>');\n",
       "    var button = $('<button class=\"btn btn-mini btn-primary\" href=\"#\" title=\"Stop Interaction\"><i class=\"fa fa-power-off icon-remove icon-large\"></i></button>');\n",
       "    button.click(function (evt) { fig.handle_close(fig, {}); } );\n",
       "    button.mouseover('Stop Interaction', toolbar_mouse_event);\n",
       "    buttongrp.append(button);\n",
       "    var titlebar = this.root.find($('.ui-dialog-titlebar'));\n",
       "    titlebar.prepend(buttongrp);\n",
       "}\n",
       "\n",
       "mpl.figure.prototype._root_extra_style = function(el){\n",
       "    var fig = this\n",
       "    el.on(\"remove\", function(){\n",
       "\tfig.close_ws(fig, {});\n",
       "    });\n",
       "}\n",
       "\n",
       "mpl.figure.prototype._canvas_extra_style = function(el){\n",
       "    // this is important to make the div 'focusable\n",
       "    el.attr('tabindex', 0)\n",
       "    // reach out to IPython and tell the keyboard manager to turn it's self\n",
       "    // off when our div gets focus\n",
       "\n",
       "    // location in version 3\n",
       "    if (IPython.notebook.keyboard_manager) {\n",
       "        IPython.notebook.keyboard_manager.register_events(el);\n",
       "    }\n",
       "    else {\n",
       "        // location in version 2\n",
       "        IPython.keyboard_manager.register_events(el);\n",
       "    }\n",
       "\n",
       "}\n",
       "\n",
       "mpl.figure.prototype._key_event_extra = function(event, name) {\n",
       "    var manager = IPython.notebook.keyboard_manager;\n",
       "    if (!manager)\n",
       "        manager = IPython.keyboard_manager;\n",
       "\n",
       "    // Check for shift+enter\n",
       "    if (event.shiftKey && event.which == 13) {\n",
       "        this.canvas_div.blur();\n",
       "        event.shiftKey = false;\n",
       "        // Send a \"J\" for go to next cell\n",
       "        event.which = 74;\n",
       "        event.keyCode = 74;\n",
       "        manager.command_mode();\n",
       "        manager.handle_keydown(event);\n",
       "    }\n",
       "}\n",
       "\n",
       "mpl.figure.prototype.handle_save = function(fig, msg) {\n",
       "    fig.ondownload(fig, null);\n",
       "}\n",
       "\n",
       "\n",
       "mpl.find_output_cell = function(html_output) {\n",
       "    // Return the cell and output element which can be found *uniquely* in the notebook.\n",
       "    // Note - this is a bit hacky, but it is done because the \"notebook_saving.Notebook\"\n",
       "    // IPython event is triggered only after the cells have been serialised, which for\n",
       "    // our purposes (turning an active figure into a static one), is too late.\n",
       "    var cells = IPython.notebook.get_cells();\n",
       "    var ncells = cells.length;\n",
       "    for (var i=0; i<ncells; i++) {\n",
       "        var cell = cells[i];\n",
       "        if (cell.cell_type === 'code'){\n",
       "            for (var j=0; j<cell.output_area.outputs.length; j++) {\n",
       "                var data = cell.output_area.outputs[j];\n",
       "                if (data.data) {\n",
       "                    // IPython >= 3 moved mimebundle to data attribute of output\n",
       "                    data = data.data;\n",
       "                }\n",
       "                if (data['text/html'] == html_output) {\n",
       "                    return [cell, data, j];\n",
       "                }\n",
       "            }\n",
       "        }\n",
       "    }\n",
       "}\n",
       "\n",
       "// Register the function which deals with the matplotlib target/channel.\n",
       "// The kernel may be null if the page has been refreshed.\n",
       "if (IPython.notebook.kernel != null) {\n",
       "    IPython.notebook.kernel.comm_manager.register_target('matplotlib', mpl.mpl_figure_comm);\n",
       "}\n"
      ],
      "text/plain": [
       "<IPython.core.display.Javascript object>"
      ]
     },
     "metadata": {},
     "output_type": "display_data"
    },
    {
     "data": {
      "text/html": [
       "<img src=\"data:image/png;base64,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\" width=\"980\">"
      ],
      "text/plain": [
       "<IPython.core.display.HTML object>"
      ]
     },
     "metadata": {},
     "output_type": "display_data"
    },
    {
     "data": {
      "application/vnd.jupyter.widget-view+json": {
       "model_id": "2a39cf840fd540e0bc59aaa0efd642bd",
       "version_major": 2,
       "version_minor": 0
      },
      "text/plain": [
       "Output()"
      ]
     },
     "metadata": {},
     "output_type": "display_data"
    },
    {
     "data": {
      "application/vnd.jupyter.widget-view+json": {
       "model_id": "9bf19b169cdc464e8508e8f6ec56c96b",
       "version_major": 2,
       "version_minor": 0
      },
      "text/plain": [
       "VBox(children=(HBox(children=(Dropdown(options=('Ka és La megadása', 'Sajátértékek megadása'), value='Ka és La…"
      ]
     },
     "metadata": {},
     "output_type": "display_data"
    }
   ],
   "source": [
    "# Main cell\n",
    "# Data\n",
    "global yd, T, yout\n",
    "yd = 10.\n",
    "T = []\n",
    "yout = []\n",
    "\n",
    "# Figures\n",
    "fig = plt.figure(num='Holdkomp vízszintes pozíció szabályozásának szimulációja')\n",
    "fig.set_size_inches((9.8, 6))\n",
    "fig.set_tight_layout(True)\n",
    "\n",
    "ax0 = fig.add_subplot(221)\n",
    "ax0.set_title('Holdkomp')\n",
    "ax0.set_xlim(-12,12)\n",
    "ax0.set_ylim(-4,4)\n",
    "ax0.grid()\n",
    "# ax0.axis('off')\n",
    "\n",
    "ax1 = fig.add_subplot(222)\n",
    "linez = ax1.plot([],[])[0]\n",
    "linezv = ax1.plot([],[])[0]\n",
    "lined = ax1.plot([],[])[0]\n",
    "ax1.set_title('Vízszintes pozíció és sebesség')\n",
    "ax1.set_xlabel('$t$ [s]')\n",
    "ax1.set_ylabel('y [m], $\\dot y$ [m/s]')\n",
    "ax1.set_xlim([0,17])\n",
    "ax1.axvline(x=0,color='black',linewidth=0.8)\n",
    "ax1.axhline(y=0,color='black',linewidth=0.8)\n",
    "ax1.grid()\n",
    "ax1.legend(['Vízszintes pozíció','Vízszintes sebesség','Kívánt érték'])\n",
    "\n",
    "ax2 = fig.add_subplot(223)\n",
    "lineu = ax2.plot([],[])[0]\n",
    "linelimu1 = ax2.plot([],[],'r')[0]\n",
    "linelimu2 = ax2.plot([],[],'r')[0]\n",
    "ax2.set_title('Bemenő nyomaték T')\n",
    "ax2.set_xlabel('$t$ [s]')\n",
    "ax2.set_ylabel('$T$ [Nm]')\n",
    "ax2.set_xlim([0,17])\n",
    "ax2.axvline(x=0,color='black',linewidth=0.8)\n",
    "ax2.axhline(y=0,color='black',linewidth=0.8)\n",
    "ax2.grid()\n",
    "ax2.legend(['T','Határ'])\n",
    "\n",
    "ax3 = fig.add_subplot(224)\n",
    "linethetaest = ax3.plot([],[])[0]\n",
    "linetheta = ax3.plot([],[])[0]\n",
    "ax3.set_title(r'$\\theta_{est}$ vs $\\theta$')\n",
    "ax3.set_xlabel('$t$ [s]')\n",
    "ax3.set_ylabel(r'$\\theta$ [deg]')\n",
    "ax3.axvline(x=0,color='black',linewidth=0.8)\n",
    "ax3.axhline(y=0,color='black',linewidth=0.8)\n",
    "ax3.set_xlim([0,17])\n",
    "ax3.grid()\n",
    "\n",
    "# Patches\n",
    "rotation_transform = transforms.Affine2D()\n",
    "circle = patches.Circle((0, 0.6), fill=True, radius=0.5, ec='black', fc='gray', lw=1, zorder=20, \n",
    "                        transform=rotation_transform + ax0.transData)\n",
    "rect = patches.Rectangle((-1, -0.4), 2, 0.5, fill=True, ec='black', fc='gray', lw=1, zorder=20, \n",
    "                         transform=rotation_transform + ax0.transData)\n",
    "poly = patches.Polygon(numpy.stack(([-0.25, -0.15, 0.15, 0.25], [-0.8, -0.4, -0.4, -0.8])).T, \n",
    "                       closed=True, fill=True, ec='black', fc='black', lw=1, zorder=20, \n",
    "                       transform=rotation_transform + ax0.transData)\n",
    "lleg = patches.Rectangle((-1, -1.2), 0.05, 1, angle=-15, fill=True, ec='black', fc='black', lw=1, zorder=10, \n",
    "                         transform=rotation_transform + ax0.transData)\n",
    "rleg = patches.Rectangle((1, -1.2), 0.05, 1, angle=15, fill=True, ec='black', fc='black', lw=1, zorder=10, \n",
    "                         transform=rotation_transform + ax0.transData)\n",
    "lfoot = patches.Rectangle((-1.1, -1.2), 0.2, 0.05, fill=True, ec='black', fc='black', lw=1, zorder=20, \n",
    "                         transform=rotation_transform + ax0.transData)\n",
    "rfoot = patches.Rectangle((0.9, -1.2), 0.2, 0.05, fill=True, ec='black', fc='black', lw=1, zorder=20, \n",
    "                         transform=rotation_transform + ax0.transData)\n",
    "ax0.add_patch(circle)\n",
    "ax0.add_patch(rect)\n",
    "ax0.add_patch(poly)\n",
    "ax0.add_patch(lleg)\n",
    "ax0.add_patch(rleg)\n",
    "ax0.add_patch(lfoot)\n",
    "ax0.add_patch(rfoot)\n",
    "plt.show()\n",
    "\n",
    "# Functions\n",
    "def main_function(Ka,La,Ydw,eig1,eig2,eig3,eig4,eig5,eig1o,eig2o,selm,selc,selo,DW):\n",
    "    global T, yout, yd, Aa, Ba, A11, A21\n",
    "    method = method_choice(selm)\n",
    "    eigc, eigo = eigen_choice(selc,selo)\n",
    "    yd = Ydw\n",
    "    ax1.set_ylim([-0.1*yd,yd*1.5])\n",
    "    ax2.set_ylim([-51*yd,51*yd])\n",
    "    ax3.set_ylim([-15,15])\n",
    "    \n",
    "    if method == 1: #Setted matrix gain\n",
    "        sol = numpy.linalg.eig((Aa-Ba[:,0]*Ka))\n",
    "        print('Az Aa mátrix sajátértékei: '+str(round(sol[0][0],3))+', '+str(round(sol[0][1],3))+', '+str(round(sol[0][2],3))+', '+str(round(sol[0][3],3))+' és '+str(round(sol[0][4],3)))\n",
    "        sol = numpy.linalg.eig(A11+La*A21)\n",
    "        print('Az A11+La*A21 mátrix sajátértékei: '+str(round(sol[0][0],3))+' és '+str(round(sol[0][1],3))) \n",
    "        sys = simulation(Aa, Ba, Ca, A11, A12, A21, A22, B1, B2, La, Ka, Ta)\n",
    "        T = numpy.linspace(0, 17, 100)\n",
    "        T, yout = ctrl.step_response(sys, T, X0a)\n",
    "    if method == 2: #Setted eigenvalues\n",
    "        if eigc == 0:\n",
    "            Ka = ctrl.acker(Aa, Ba[:,0], [eig1[0,0], eig2[0,0], eig3[0,0], eig4[0,0], eig5[0,0]])\n",
    "            Kaw.setM(Ka)\n",
    "        if eigc == 2:\n",
    "            Ka = ctrl.acker(Aa, Ba[:,0], [eig1[0,0], numpy.complex(eig2[0,0],eig2[1,0]), numpy.complex(eig2[0,0],-eig2[1,0]), eig4[0,0], eig5[0,0]])\n",
    "            Kaw.setM(Ka)\n",
    "        if eigc == 4:\n",
    "            Ka = ctrl.acker(Aa, Ba[:,0], [eig1[0,0], numpy.complex(eig2[0,0],eig2[1,0]), numpy.complex(eig2[0,0],-eig2[1,0]), numpy.complex(eig3[0,0],eig3[1,0]), numpy.complex(eig3[0,0],-eig3[1,0])])\n",
    "            Kaw.setM(Ka)\n",
    "        if eigo == 0:\n",
    "            La = numpy.matrix([[0, 2*eig1o[0,0]/3 + 2*eig2o[0,0]/3, 0], [0, -2*eig1o[0,0]*eig2o[0,0]/3, 0]])\n",
    "            Law.setM(La) \n",
    "        if eigo == 2:\n",
    "            La = numpy.matrix([[0, 2*numpy.complex(eig2o[0,0],eig2o[1,0])/3 + 2*numpy.complex(eig2o[0,0],-eig2o[1,0])/3, 0], [0, -2*numpy.complex(eig2o[0,0],eig2o[1,0])*numpy.complex(eig2o[0,0],-eig2o[1,0])/3, 0]])\n",
    "            Law.setM(La)\n",
    "        sol = numpy.linalg.eig((Aa-Ba[:,0]*Ka))\n",
    "        print('TAz Aa mátrix sajátértékei: '+str(round(sol[0][0],3))+', '+str(round(sol[0][1],3))+', '+str(round(sol[0][2],3))+', '+str(round(sol[0][3],3))+' és '+str(round(sol[0][4],3)))\n",
    "        sol = numpy.linalg.eig(A11+La*A21)\n",
    "        print('Az A11+La*A21 mátrix sajátértékei: '+str(round(sol[0][0],3))+' és '+str(round(sol[0][1],3))) \n",
    "        sys = simulation(Aa, Ba, Ca, A11, A12, A21, A22, B1, B2, La, Ka, Ta)\n",
    "        T = numpy.linspace(0, 17, 100)\n",
    "        T, yout = ctrl.step_response(sys, T, X0a)\n",
    "\n",
    "ani = animation.FuncAnimation(fig, fun_animation, init_func=anim_init, frames=100, repeat=True, interval=170, blit=True)\n",
    "\n",
    "\n",
    "#create dummy widget \n",
    "DW = widgets.FloatText(layout=widgets.Layout(width='0px', height='0px'))\n",
    "\n",
    "#create button widget\n",
    "START = widgets.Button(\n",
    "    description='Vizsgálat',\n",
    "    disabled=False,\n",
    "    button_style='', # 'success', 'info', 'warning', 'danger' or ''\n",
    "    tooltip='Vizsgálat',\n",
    "    icon='check'\n",
    ")\n",
    "                       \n",
    "def on_start_button_clicked(b):\n",
    "    #This is a workaround to have intreactive_output call the callback:\n",
    "    #   force the value of the dummy widget to change\n",
    "    if DW.value> 0 :\n",
    "        DW.value = -1\n",
    "    else: \n",
    "        DW.value = 1\n",
    "    pass\n",
    "START.on_click(on_start_button_clicked)\n",
    "\n",
    "# Define type of method \n",
    "selm = widgets.Dropdown(\n",
    "    options= ['Ka és La megadása', 'Sajátértékek megadása'],\n",
    "    value= 'Ka és La megadása',\n",
    "    description='',\n",
    "    disabled=False\n",
    ")\n",
    "\n",
    "# Define the number of complex eigenvalues for the controller\n",
    "selc = widgets.Dropdown(\n",
    "    options= ['0 komplex sajátérték', '2 komplex sajátérték', '4 komplex sajátérték'],\n",
    "    value= '4 komplex sajátérték',\n",
    "    description='Aa:',\n",
    "    disabled=False\n",
    ")\n",
    "\n",
    "# Define the number of complex eigenvalues for the observer\n",
    "selo = widgets.Dropdown(\n",
    "    options= ['0 komplex sajátérték', '2 komplex sajátérték'],\n",
    "    value= '0 komplex sajátérték',\n",
    "    description='Amegf:',\n",
    "    disabled=False\n",
    ")\n",
    "\n",
    "alltogether = widgets.VBox([\n",
    "    widgets.HBox([\n",
    "        selm,\n",
    "        selc,\n",
    "        selo\n",
    "    ]),\n",
    "    widgets.Label('',border=3),\n",
    "    widgets.HBox([\n",
    "        widgets.Label('Ka:',border=3),\n",
    "        Kaw,\n",
    "        widgets.Label('',border=3),\n",
    "        widgets.Label('',border=3),\n",
    "        widgets.Label('La:',border=3),\n",
    "        Law\n",
    "    ]),\n",
    "    widgets.Label('',border=3),\n",
    "    widgets.HBox([\n",
    "        widgets.Label('Aa sajátértékei:',border=3),\n",
    "        eig1, eig2, eig3, eig4, eig5,\n",
    "        widgets.Label('',border=3),\n",
    "        widgets.Label('',border=3),\n",
    "        widgets.Label('Amegf sajátértékei:',border=3),\n",
    "        eig1o, eig2o\n",
    "    ]),\n",
    "    widgets.Label('',border=3),\n",
    "    widgets.HBox([\n",
    "        Ydw,\n",
    "        widgets.Label('',border=3),\n",
    "        widgets.Label('',border=3),\n",
    "        widgets.Label('',border=3),\n",
    "        START\n",
    "    ])\n",
    "])\n",
    "\n",
    "out = widgets.interactive_output(main_function,{'Ka':Kaw, 'La':Law, 'Ydw':Ydw, 'eig1':eig1, 'eig2':eig2, \n",
    "                                                'eig3':eig3, 'eig4':eig4, 'eig5':eig5,\n",
    "                                                'eig1o':eig1o, 'eig2o':eig2o,\n",
    "                                                'selm':selm, 'selc':selc, 'selo':selo, 'DW':DW})\n",
    "display(out, alltogether)"
   ]
  },
  {
   "cell_type": "code",
   "execution_count": null,
   "metadata": {},
   "outputs": [],
   "source": []
  }
 ],
 "metadata": {
  "kernelspec": {
   "display_name": "Python 3",
   "language": "python",
   "name": "python3"
  },
  "language_info": {
   "codemirror_mode": {
    "name": "ipython",
    "version": 3
   },
   "file_extension": ".py",
   "mimetype": "text/x-python",
   "name": "python",
   "nbconvert_exporter": "python",
   "pygments_lexer": "ipython3",
   "version": "3.6.7"
  },
  "widgets": {
   "application/vnd.jupyter.widget-state+json": {
    "state": {
     "000105fdb4764586b8ebfab252a36567": {
      "model_module": "@jupyter-widgets/controls",
      "model_module_version": "1.4.0",
      "model_name": "HBoxModel",
      "state": {
       "children": [
        "IPY_MODEL_0f26c8afca96402aa66b81bc451a3559",
        "IPY_MODEL_ef8032f4b5344c16ae90cfbfd02231d6",
        "IPY_MODEL_9f426cacd41c42aca1af846e019bfa02",
        "IPY_MODEL_e3f770ce4cf241e991c713aa951e5765",
        "IPY_MODEL_11edfefeb4ca410ab09a2f5ddc3d5026"
       ],
       "layout": "IPY_MODEL_fae3f97f39754d1ba4c31c0a281630ef"
      }
     },
     "00038a7d51314ae9804a45c996c3038a": {
      "model_module": "@jupyter-widgets/base",
      "model_module_version": "1.1.0",
      "model_name": "LayoutModel",
      "state": {}
     },
     "000b9c5ed55f49e3a82cde3b11cd106c": {
      "model_module": "@jupyter-widgets/base",
      "model_module_version": "1.1.0",
      "model_name": "LayoutModel",
      "state": {}
     },
     "007459f4f397435698168869e682fe15": {
      "model_module": "@jupyter-widgets/controls",
      "model_module_version": "1.4.0",
      "model_name": "DropdownModel",
      "state": {
       "_options_labels": [
        "0 complex eigenvalues",
        "2 complex eigenvalues",
        "4 complex eigenvalues"
       ],
       "description": "Aa:",
       "disabled": true,
       "index": 0,
       "layout": "IPY_MODEL_52536282f3184f26aed9ccb231e684c9",
       "style": "IPY_MODEL_f60d5a9a35db4218bf1cb50b763bfbd8"
      }
     },
     "008c5b54603f4375ad913b4e47b37a95": {
      "model_module": "@jupyter-widgets/controls",
      "model_module_version": "1.4.0",
      "model_name": "LabelModel",
      "state": {
       "layout": "IPY_MODEL_3352f8a79a714a1f8fd27b8fd25f0a52",
       "style": "IPY_MODEL_a225f194cbbc4a6dbf9bed6cdfccc646",
       "value": "Ka:"
      }
     },
     "00bcf6e5f88d4478b2238275ce14a469": {
      "model_module": "@jupyter-widgets/base",
      "model_module_version": "1.1.0",
      "model_name": "LayoutModel",
      "state": {}
     },
     "0120a3cda0234f828ce07773febed775": {
      "model_module": "@jupyter-widgets/controls",
      "model_module_version": "1.4.0",
      "model_name": "DescriptionStyleModel",
      "state": {
       "description_width": ""
      }
     },
     "0137a8c0e143408997be4713d0929fd0": {
      "model_module": "@jupyter-widgets/controls",
      "model_module_version": "1.4.0",
      "model_name": "DescriptionStyleModel",
      "state": {
       "description_width": ""
      }
     },
     "014b81ae692c4db1abb4de5ebe4c554c": {
      "model_module": "@jupyter-widgets/base",
      "model_module_version": "1.1.0",
      "model_name": "LayoutModel",
      "state": {}
     },
     "01722e6449294095b69c3399e6500959": {
      "model_module": "@jupyter-widgets/controls",
      "model_module_version": "1.4.0",
      "model_name": "DescriptionStyleModel",
      "state": {
       "description_width": ""
      }
     },
     "019c9aac684248e991ad2ca479ca9e54": {
      "model_module": "@jupyter-widgets/controls",
      "model_module_version": "1.4.0",
      "model_name": "LabelModel",
      "state": {
       "layout": "IPY_MODEL_f24072b2fc174c678db9de5d308468b8",
       "style": "IPY_MODEL_602f92a285884868bacf7120c085d472",
       "value": "Aobs's eigs:"
      }
     },
     "01bcc377646640c7a87abaf47a341335": {
      "model_module": "@jupyter-widgets/base",
      "model_module_version": "1.1.0",
      "model_name": "LayoutModel",
      "state": {}
     },
     "01dc0a5c652f458280935dd0ec1df02e": {
      "model_module": "@jupyter-widgets/base",
      "model_module_version": "1.1.0",
      "model_name": "LayoutModel",
      "state": {}
     },
     "03aea743d5e74fc58ade7e8bd43412e5": {
      "model_module": "@jupyter-widgets/controls",
      "model_module_version": "1.4.0",
      "model_name": "DescriptionStyleModel",
      "state": {
       "description_width": ""
      }
     },
     "0412e3d10df841038ecf3f8250e2b120": {
      "model_module": "@jupyter-widgets/base",
      "model_module_version": "1.1.0",
      "model_name": "LayoutModel",
      "state": {}
     },
     "05041977ab73417bb69ef1b71c64c7d9": {
      "model_module": "@jupyter-widgets/controls",
      "model_module_version": "1.4.0",
      "model_name": "HBoxModel",
      "state": {
       "children": [
        "IPY_MODEL_0a0237317d414d94b0d63364806850e5",
        "IPY_MODEL_6d68637432684016b0727f506afe0df5",
        "IPY_MODEL_f01b454caf0243f89fac5809d26d4cf2",
        "IPY_MODEL_3fe63ac60ab64ded984e9abeeff7abf5",
        "IPY_MODEL_317ee220faa84115bad387393653c51c",
        "IPY_MODEL_587e0f7d832d4ecc866fb0f39ea9d990",
        "IPY_MODEL_e740dfcb3cf649d4bee10bf6ee195301",
        "IPY_MODEL_e819fefb797041e89e4f72749e00edab",
        "IPY_MODEL_df3fedfe68e347c793fc31f53922c394",
        "IPY_MODEL_a3c2a24a94aa456cbd6779a86c1f06ad",
        "IPY_MODEL_25be128dd26d4cd298247bbbc5bbe06a"
       ],
       "layout": "IPY_MODEL_7a5fad3a8ed14b8c8672e83a713b5ee7"
      }
     },
     "0706e16b9ab64db69dc8b23ae2724d9e": {
      "model_module": "@jupyter-widgets/controls",
      "model_module_version": "1.4.0",
      "model_name": "DescriptionStyleModel",
      "state": {
       "description_width": ""
      }
     },
     "072696cc4bea46d4b484be7695a09054": {
      "model_module": "@jupyter-widgets/controls",
      "model_module_version": "1.4.0",
      "model_name": "LabelModel",
      "state": {
       "layout": "IPY_MODEL_6f5b16ca245c4071ab3278214307b695",
       "style": "IPY_MODEL_fea917e7b46743788590dd87985dcee4"
      }
     },
     "073260c1189244649e842178ffd838db": {
      "model_module": "@jupyter-widgets/controls",
      "model_module_version": "1.4.0",
      "model_name": "LabelModel",
      "state": {
       "layout": "IPY_MODEL_850d20061cb147999055d5ad4f3f4e9c",
       "style": "IPY_MODEL_27173e1eefb9498a854df87487b14839",
       "value": "Ka:"
      }
     },
     "075ef8840b254dfe8e812d7716b6f101": {
      "model_module": "@jupyter-widgets/controls",
      "model_module_version": "1.4.0",
      "model_name": "DescriptionStyleModel",
      "state": {
       "description_width": ""
      }
     },
     "07cc0da023a94e43b22b059533bc0e4a": {
      "model_module": "@jupyter-widgets/controls",
      "model_module_version": "1.4.0",
      "model_name": "DescriptionStyleModel",
      "state": {
       "description_width": ""
      }
     },
     "07f5abd468dd4c468a64aed63128e248": {
      "model_module": "@jupyter-widgets/controls",
      "model_module_version": "1.4.0",
      "model_name": "HBoxModel",
      "state": {
       "children": [
        "IPY_MODEL_68cb20eccc494d0e897dfcc89aa2b844"
       ],
       "layout": "IPY_MODEL_e24fb2aa34f844d99bef9c6b7ccac677"
      }
     },
     "07fef6b966c54e33b18032e66099953d": {
      "model_module": "@jupyter-widgets/base",
      "model_module_version": "1.1.0",
      "model_name": "LayoutModel",
      "state": {}
     },
     "0809ffdf306c4572b2936a4003504ebc": {
      "model_module": "@jupyter-widgets/controls",
      "model_module_version": "1.4.0",
      "model_name": "LabelModel",
      "state": {
       "layout": "IPY_MODEL_32b7e93c96b443a3af782fb2be831b3b",
       "style": "IPY_MODEL_76017c8704c44e04825f3e352bacd669"
      }
     },
     "0887c7cb985246f0bd413b295949e2d4": {
      "model_module": "@jupyter-widgets/controls",
      "model_module_version": "1.4.0",
      "model_name": "DescriptionStyleModel",
      "state": {
       "description_width": ""
      }
     },
     "093f7ad7ff10484c9dc83f64e83edf68": {
      "model_module": "@jupyter-widgets/controls",
      "model_module_version": "1.4.0",
      "model_name": "DropdownModel",
      "state": {
       "_options_labels": [
        "Set Ka and La",
        "Set the eigenvalues"
       ],
       "index": 0,
       "layout": "IPY_MODEL_3737cb1f394e4b8d993a13254b0b1c5e",
       "style": "IPY_MODEL_e9a73fa1f34747818d3505be6015e5a8"
      }
     },
     "09c1c777399449b3a0a0b485453ab341": {
      "model_module": "@jupyter-widgets/base",
      "model_module_version": "1.1.0",
      "model_name": "LayoutModel",
      "state": {}
     },
     "0a0237317d414d94b0d63364806850e5": {
      "model_module": "@jupyter-widgets/controls",
      "model_module_version": "1.4.0",
      "model_name": "LabelModel",
      "state": {
       "layout": "IPY_MODEL_991efac838994f0ab46af4dd67a6cce2",
       "style": "IPY_MODEL_af6f99f25c5f46168e1651111b8ad41b",
       "value": "Aa's eigs:"
      }
     },
     "0a02add7505f44028df61c521bfc1df6": {
      "model_module": "@jupyter-widgets/base",
      "model_module_version": "1.1.0",
      "model_name": "LayoutModel",
      "state": {
       "width": "90px"
      }
     },
     "0a176961dc994c7d85ace2bb0be6e5fc": {
      "model_module": "@jupyter-widgets/controls",
      "model_module_version": "1.4.0",
      "model_name": "HBoxModel",
      "state": {
       "children": [
        "IPY_MODEL_ed387f51cefd4c6e9562fcd544998001"
       ],
       "layout": "IPY_MODEL_9e3dc09502d8495584a6ac12c8f8ac5a"
      }
     },
     "0a273f0c4e6e469698eb36d71e786546": {
      "model_module": "@jupyter-widgets/base",
      "model_module_version": "1.1.0",
      "model_name": "LayoutModel",
      "state": {}
     },
     "0a7c3f2ed52f4978a43c2ce6b2ed5a0d": {
      "model_module": "@jupyter-widgets/controls",
      "model_module_version": "1.4.0",
      "model_name": "DescriptionStyleModel",
      "state": {
       "description_width": ""
      }
     },
     "0a82875190184a69b8227b138ce1554c": {
      "model_module": "@jupyter-widgets/controls",
      "model_module_version": "1.4.0",
      "model_name": "LabelModel",
      "state": {
       "layout": "IPY_MODEL_d8ddf5e62d8a4ddb9e10b54c206800f0",
       "style": "IPY_MODEL_5a490e92a1344cf0abc18bf0425bbb92"
      }
     },
     "0aa0bfe4046d4bbd9e3b8fc7e923c19e": {
      "model_module": "@jupyter-widgets/controls",
      "model_module_version": "1.4.0",
      "model_name": "FloatSliderModel",
      "state": {
       "continuous_update": false,
       "description": "$y_d$:",
       "layout": "IPY_MODEL_1d157278113043c9856d8a9417a13918",
       "max": 10,
       "readout_format": ".1f",
       "step": 0.1,
       "style": "IPY_MODEL_0f2b83b6f05148a3b373bebc85945789",
       "value": 10
      }
     },
     "0b4ba8575fd04aaaaea39527815d5e55": {
      "model_module": "@jupyter-widgets/controls",
      "model_module_version": "1.4.0",
      "model_name": "HBoxModel",
      "state": {
       "children": [
        "IPY_MODEL_6ccca8cd1dd94a44bbc5840816353ae3"
       ],
       "layout": "IPY_MODEL_b099da3d4c434dc5847966b8cdd77694"
      }
     },
     "0b517246f8e34440abe426b02300a069": {
      "model_module": "@jupyter-widgets/controls",
      "model_module_version": "1.4.0",
      "model_name": "DescriptionStyleModel",
      "state": {
       "description_width": ""
      }
     },
     "0bef75a1591f4b5f8b32b8b6479d62c9": {
      "model_module": "@jupyter-widgets/controls",
      "model_module_version": "1.4.0",
      "model_name": "VBoxModel",
      "state": {
       "children": [
        "IPY_MODEL_7d35e7ff219645d8928897423c98458f",
        "IPY_MODEL_0d089a6ffc9842b5bd9fc04d7aa0246b",
        "IPY_MODEL_fd59bda6f0d24120b0d6c12b5f6b8722",
        "IPY_MODEL_ec3fff96409f451e8c01a23c1f99995c",
        "IPY_MODEL_1fdde251769a4b17b82f768dd2b4dd9e",
        "IPY_MODEL_0a82875190184a69b8227b138ce1554c",
        "IPY_MODEL_d55492cfde34474dbdce90063cf320f9"
       ],
       "layout": "IPY_MODEL_add2942f83e541c2af6d4410e83b6dde"
      }
     },
     "0c7ccc0d90d14893a1798e9bec0ccfad": {
      "model_module": "@jupyter-widgets/controls",
      "model_module_version": "1.4.0",
      "model_name": "DescriptionStyleModel",
      "state": {
       "description_width": ""
      }
     },
     "0c95743624f3406b94fdf24395f109ea": {
      "model_module": "@jupyter-widgets/controls",
      "model_module_version": "1.4.0",
      "model_name": "DescriptionStyleModel",
      "state": {
       "description_width": ""
      }
     },
     "0cd7629dd3c9461fbd0c47b84ef58eb5": {
      "model_module": "@jupyter-widgets/base",
      "model_module_version": "1.1.0",
      "model_name": "LayoutModel",
      "state": {}
     },
     "0d089a6ffc9842b5bd9fc04d7aa0246b": {
      "model_module": "@jupyter-widgets/controls",
      "model_module_version": "1.4.0",
      "model_name": "LabelModel",
      "state": {
       "layout": "IPY_MODEL_12abd72a94064ce59f1ddbba55496559",
       "style": "IPY_MODEL_e05554ca65324a6b8574c72ca47cf5b7"
      }
     },
     "0d0a5a3b1371435bbf4f922a1c0b4595": {
      "model_module": "@jupyter-widgets/controls",
      "model_module_version": "1.4.0",
      "model_name": "ButtonStyleModel",
      "state": {}
     },
     "0dc42ed578324e9698fd4ff6083ef49b": {
      "model_module": "@jupyter-widgets/base",
      "model_module_version": "1.1.0",
      "model_name": "LayoutModel",
      "state": {}
     },
     "0deef1dc66c5431fa7af43270cd27cbe": {
      "model_module": "@jupyter-widgets/base",
      "model_module_version": "1.1.0",
      "model_name": "LayoutModel",
      "state": {}
     },
     "0e00eb2261824321ba3db263816e459b": {
      "model_module": "@jupyter-widgets/controls",
      "model_module_version": "1.4.0",
      "model_name": "DescriptionStyleModel",
      "state": {
       "description_width": ""
      }
     },
     "0e3a382431764e918183d36d775bca91": {
      "model_module": "@jupyter-widgets/controls",
      "model_module_version": "1.4.0",
      "model_name": "DescriptionStyleModel",
      "state": {
       "description_width": ""
      }
     },
     "0e87eb36298b40c88aa507280a88673b": {
      "model_module": "@jupyter-widgets/base",
      "model_module_version": "1.1.0",
      "model_name": "LayoutModel",
      "state": {}
     },
     "0ea5534b93a641a280950cebc7dd7424": {
      "model_module": "@jupyter-widgets/controls",
      "model_module_version": "1.4.0",
      "model_name": "LabelModel",
      "state": {
       "layout": "IPY_MODEL_6b1eb3d2914f436ebdc338c44a701edf",
       "style": "IPY_MODEL_2b9259b59b92447390e7b296c315363e"
      }
     },
     "0f14d36f2e474b439c5338a92acccce0": {
      "model_module": "@jupyter-widgets/controls",
      "model_module_version": "1.4.0",
      "model_name": "LabelModel",
      "state": {
       "layout": "IPY_MODEL_d11f6fc17f944785abd9427772fd5a6d",
       "style": "IPY_MODEL_3ac1014816f74fb1b52fa1463185a00e"
      }
     },
     "0f26c8afca96402aa66b81bc451a3559": {
      "model_module": "@jupyter-widgets/controls",
      "model_module_version": "1.4.0",
      "model_name": "FloatSliderModel",
      "state": {
       "continuous_update": false,
       "description": "$y_d$:",
       "layout": "IPY_MODEL_5e5ca3c81ee24215909e7e2b23040bdd",
       "max": 10,
       "readout_format": ".1f",
       "step": 0.1,
       "style": "IPY_MODEL_6d50e2c21b10474f969fa3e17a94ff8c",
       "value": 10
      }
     },
     "0f2b83b6f05148a3b373bebc85945789": {
      "model_module": "@jupyter-widgets/controls",
      "model_module_version": "1.4.0",
      "model_name": "SliderStyleModel",
      "state": {
       "description_width": ""
      }
     },
     "0f6c3a9260604cbfabe83a35c70edc75": {
      "model_module": "@jupyter-widgets/controls",
      "model_module_version": "1.4.0",
      "model_name": "DescriptionStyleModel",
      "state": {
       "description_width": ""
      }
     },
     "0f70af7c61ff4ba88081ed4f671ea6fb": {
      "model_module": "@jupyter-widgets/controls",
      "model_module_version": "1.4.0",
      "model_name": "DescriptionStyleModel",
      "state": {
       "description_width": ""
      }
     },
     "0fb6ebd5d60540b4a5135eecb46702e9": {
      "model_module": "@jupyter-widgets/controls",
      "model_module_version": "1.4.0",
      "model_name": "DescriptionStyleModel",
      "state": {
       "description_width": ""
      }
     },
     "0fbab12f3fc8478a8d773b74b0d46c8b": {
      "model_module": "@jupyter-widgets/controls",
      "model_module_version": "1.4.0",
      "model_name": "LabelModel",
      "state": {
       "layout": "IPY_MODEL_699c82ce7721494b827c9191334677f0",
       "style": "IPY_MODEL_63bd776089dc4508bd21c8789ad803bb"
      }
     },
     "0fdc2e9573724ffca381dcdc06cfb1b0": {
      "model_module": "@jupyter-widgets/base",
      "model_module_version": "1.1.0",
      "model_name": "LayoutModel",
      "state": {}
     },
     "0ffabbd5de5b4e49b39460918d7833c9": {
      "model_module": "@jupyter-widgets/controls",
      "model_module_version": "1.4.0",
      "model_name": "DescriptionStyleModel",
      "state": {
       "description_width": ""
      }
     },
     "1011a14be8014506987e6ff204d26d35": {
      "model_module": "@jupyter-widgets/base",
      "model_module_version": "1.1.0",
      "model_name": "LayoutModel",
      "state": {
       "width": "90px"
      }
     },
     "108b967aa86f464994fc814c54533fec": {
      "model_module": "@jupyter-widgets/base",
      "model_module_version": "1.1.0",
      "model_name": "LayoutModel",
      "state": {}
     },
     "10c2b023fe28454a9f66efb594599e4a": {
      "model_module": "@jupyter-widgets/base",
      "model_module_version": "1.1.0",
      "model_name": "LayoutModel",
      "state": {}
     },
     "10f2e8ae48e64a069fdfeda800e6969d": {
      "model_module": "@jupyter-widgets/base",
      "model_module_version": "1.1.0",
      "model_name": "LayoutModel",
      "state": {}
     },
     "11edfefeb4ca410ab09a2f5ddc3d5026": {
      "model_module": "@jupyter-widgets/controls",
      "model_module_version": "1.4.0",
      "model_name": "ButtonModel",
      "state": {
       "description": "Test",
       "icon": "check",
       "layout": "IPY_MODEL_2f66cfe8ed134acfb204b483546b9c8d",
       "style": "IPY_MODEL_7b6fe30e232e400583497734a4b6a5c7",
       "tooltip": "Test"
      }
     },
     "1205db0490524afe8643ea75eac4d13f": {
      "model_module": "@jupyter-widgets/controls",
      "model_module_version": "1.4.0",
      "model_name": "HBoxModel",
      "state": {
       "children": [
        "IPY_MODEL_1fb66c1b76f545669fe28804b306ecd2"
       ],
       "layout": "IPY_MODEL_6bdb46374a01452f878caf37f3b7dc57"
      }
     },
     "1244287ff9b84bed9a68f406b6271d4a": {
      "model_module": "@jupyter-widgets/controls",
      "model_module_version": "1.4.0",
      "model_name": "LabelModel",
      "state": {
       "layout": "IPY_MODEL_d859c2d997d6489089f973bec38b3477",
       "style": "IPY_MODEL_72a35b0bc2d9418bb099da42dd65c976"
      }
     },
     "125f923ed5a34fe3a28d2f6851a46911": {
      "model_module": "@jupyter-widgets/controls",
      "model_module_version": "1.4.0",
      "model_name": "HBoxModel",
      "state": {
       "children": [
        "IPY_MODEL_e89ff4014f0e49528bbf4e98a760fe39"
       ],
       "layout": "IPY_MODEL_fc243b3b10e846438dd07009179844f7"
      }
     },
     "127f6407d3334b2c811379e3be485ea4": {
      "model_module": "@jupyter-widgets/controls",
      "model_module_version": "1.4.0",
      "model_name": "DescriptionStyleModel",
      "state": {
       "description_width": ""
      }
     },
     "12abd72a94064ce59f1ddbba55496559": {
      "model_module": "@jupyter-widgets/base",
      "model_module_version": "1.1.0",
      "model_name": "LayoutModel",
      "state": {}
     },
     "1305375218104eaf84b665587f869b4a": {
      "model_module": "@jupyter-widgets/base",
      "model_module_version": "1.1.0",
      "model_name": "LayoutModel",
      "state": {}
     },
     "1356dd4e149949aa8da63f5c73164b03": {
      "model_module": "@jupyter-widgets/base",
      "model_module_version": "1.1.0",
      "model_name": "LayoutModel",
      "state": {
       "width": "90px"
      }
     },
     "135f645700374f52895dcc521e40d207": {
      "model_module": "@jupyter-widgets/controls",
      "model_module_version": "1.4.0",
      "model_name": "LabelModel",
      "state": {
       "layout": "IPY_MODEL_7c71e94f7fd8465382677754c8e6a982",
       "style": "IPY_MODEL_88eb02c3dc4f44948a1aec3fdbc15243"
      }
     },
     "13b8b4e1c72d4263a37e6d0db2857f38": {
      "model_module": "@jupyter-widgets/base",
      "model_module_version": "1.1.0",
      "model_name": "LayoutModel",
      "state": {}
     },
     "13b9e1059bd644deab53f4bbff6caec0": {
      "model_module": "@jupyter-widgets/controls",
      "model_module_version": "1.4.0",
      "model_name": "DropdownModel",
      "state": {
       "_options_labels": [
        "0 complex eigenvalues",
        "2 complex eigenvalues"
       ],
       "description": "Aobs:",
       "disabled": true,
       "index": 0,
       "layout": "IPY_MODEL_308eee1c1f63417596941451831e56d9",
       "style": "IPY_MODEL_b091aa29372a4b588df50dbfdb73bfca"
      }
     },
     "13f0e2e48ed94fb2b3e92e36a92bd6ab": {
      "model_module": "@jupyter-widgets/output",
      "model_module_version": "1.0.0",
      "model_name": "OutputModel",
      "state": {
       "layout": "IPY_MODEL_791fe235250446a6a034c1a07655e400",
       "outputs": [
        {
         "name": "stdout",
         "output_type": "stream",
         "text": "The Aa's eigenvalues are: -2.24+2.23j, -2.24+-2.23j, -0.28+0.00j, -0.26+0.32j and -0.26+-0.32j\nThe observer\\s eigenvalues are: -10.00+0.00j and -10.00+0.00j\n"
        }
       ]
      }
     },
     "14197243320e4c27bf97e564d6f16016": {
      "model_module": "@jupyter-widgets/controls",
      "model_module_version": "1.4.0",
      "model_name": "DescriptionStyleModel",
      "state": {
       "description_width": ""
      }
     },
     "1499b17a4da64101a9270bd56fcd4356": {
      "model_module": "@jupyter-widgets/controls",
      "model_module_version": "1.4.0",
      "model_name": "DescriptionStyleModel",
      "state": {
       "description_width": ""
      }
     },
     "14cf269aca7449979c09408a3fc45663": {
      "model_module": "@jupyter-widgets/base",
      "model_module_version": "1.1.0",
      "model_name": "LayoutModel",
      "state": {
       "width": "90px"
      }
     },
     "14ee82ae6a44446aaf4a813482e9e609": {
      "model_module": "@jupyter-widgets/base",
      "model_module_version": "1.1.0",
      "model_name": "LayoutModel",
      "state": {}
     },
     "1513832cf7b54c038400c36ff44ca0ef": {
      "model_module": "@jupyter-widgets/controls",
      "model_module_version": "1.4.0",
      "model_name": "DescriptionStyleModel",
      "state": {
       "description_width": ""
      }
     },
     "151cd4e8dcf14832a226f806c78e36e0": {
      "model_module": "@jupyter-widgets/base",
      "model_module_version": "1.1.0",
      "model_name": "LayoutModel",
      "state": {
       "width": "90px"
      }
     },
     "15cf45b6a5954be0ac6b6415d1d48bca": {
      "model_module": "@jupyter-widgets/base",
      "model_module_version": "1.1.0",
      "model_name": "LayoutModel",
      "state": {}
     },
     "16112e01e61a4c7a852edd7bb209d2be": {
      "model_module": "@jupyter-widgets/base",
      "model_module_version": "1.1.0",
      "model_name": "LayoutModel",
      "state": {}
     },
     "168bc40c3b9245fb833055cc8b0cf9d8": {
      "model_module": "@jupyter-widgets/controls",
      "model_module_version": "1.4.0",
      "model_name": "LabelModel",
      "state": {
       "layout": "IPY_MODEL_b438c6c4dba24c86a5f99cb78a66dc10",
       "style": "IPY_MODEL_5e9531f6af9b44a5acb5ee578ef622a0"
      }
     },
     "171a1b1507054bbfbefb5a2121471844": {
      "model_module": "@jupyter-widgets/controls",
      "model_module_version": "1.4.0",
      "model_name": "FloatTextModel",
      "state": {
       "layout": "IPY_MODEL_668d43e659984f9c83d702a230efee49",
       "step": null,
       "style": "IPY_MODEL_652517d930ef4076ae1a91b0e2a3be6c"
      }
     },
     "17cebb2684274838bfed4999e9fbd809": {
      "model_module": "@jupyter-widgets/controls",
      "model_module_version": "1.4.0",
      "model_name": "DescriptionStyleModel",
      "state": {
       "description_width": ""
      }
     },
     "1813f2fd50cb46aa9b888f8b5f8af0b2": {
      "model_module": "@jupyter-widgets/controls",
      "model_module_version": "1.4.0",
      "model_name": "DescriptionStyleModel",
      "state": {
       "description_width": ""
      }
     },
     "1847186fe1ec42328cf7cbcf68a6b4db": {
      "model_module": "@jupyter-widgets/controls",
      "model_module_version": "1.4.0",
      "model_name": "DescriptionStyleModel",
      "state": {
       "description_width": ""
      }
     },
     "184b23bb39dd4047977c1005e03a95c0": {
      "model_module": "@jupyter-widgets/base",
      "model_module_version": "1.1.0",
      "model_name": "LayoutModel",
      "state": {
       "width": "90px"
      }
     },
     "186de4e4fe0949228939f5d0f3901124": {
      "model_module": "@jupyter-widgets/controls",
      "model_module_version": "1.4.0",
      "model_name": "DescriptionStyleModel",
      "state": {
       "description_width": ""
      }
     },
     "189961caab4941f481899c87788c12aa": {
      "model_module": "@jupyter-widgets/controls",
      "model_module_version": "1.4.0",
      "model_name": "DescriptionStyleModel",
      "state": {
       "description_width": ""
      }
     },
     "18f82af6d5b2431ba4c48da55efab544": {
      "model_module": "@jupyter-widgets/controls",
      "model_module_version": "1.4.0",
      "model_name": "DropdownModel",
      "state": {
       "_options_labels": [
        "Set Ka and La",
        "Set the eigenvalues"
       ],
       "index": 0,
       "layout": "IPY_MODEL_aa396f910ca1429e83f9525d6adb3ba8",
       "style": "IPY_MODEL_d9db35bcd55b452caf07ceee07f65e96"
      }
     },
     "190c4ee57fdf40c88d86937fbd97fb58": {
      "model_module": "@jupyter-widgets/base",
      "model_module_version": "1.1.0",
      "model_name": "LayoutModel",
      "state": {}
     },
     "19233d4c075b48e5be2e4e129eb9e1d1": {
      "model_module": "@jupyter-widgets/controls",
      "model_module_version": "1.4.0",
      "model_name": "VBoxModel",
      "state": {
       "children": [
        "IPY_MODEL_7637a14720e140b2bcd66ed4939ec5a9",
        "IPY_MODEL_0ea5534b93a641a280950cebc7dd7424",
        "IPY_MODEL_22275515a1f04bd8be66e809c0605552",
        "IPY_MODEL_d120caa23d324631a5a9da5ed06acf60",
        "IPY_MODEL_e6198233953c4e6a91250039d906d212",
        "IPY_MODEL_fedc86dc603d43e08f7f162b326f729d",
        "IPY_MODEL_a5b53e522d8e4962a7d78f2bf1ad4c12"
       ],
       "layout": "IPY_MODEL_4290b132dc4242809a5d43b88a892c72"
      }
     },
     "193fab7eb40b4355997b20e097125ced": {
      "model_module": "@jupyter-widgets/output",
      "model_module_version": "1.0.0",
      "model_name": "OutputModel",
      "state": {
       "layout": "IPY_MODEL_b44a86c421fc453e90a3fbdd66345770",
       "outputs": [
        {
         "name": "stdout",
         "output_type": "stream",
         "text": "The Aa's eigenvalues are: -2.24+2.23j, -2.24+-2.23j, -0.28+0.00j, -0.26+0.32j and -0.26+-0.32j\nThe observer\\s eigenvalues are: -10.00+0.00j and -10.00+0.00j\n"
        }
       ]
      }
     },
     "19b8bdf890664f71885c84f552c3f3c0": {
      "model_module": "@jupyter-widgets/controls",
      "model_module_version": "1.4.0",
      "model_name": "DescriptionStyleModel",
      "state": {
       "description_width": ""
      }
     },
     "19f1831249fc404885a8c590f402427e": {
      "model_module": "@jupyter-widgets/controls",
      "model_module_version": "1.4.0",
      "model_name": "DescriptionStyleModel",
      "state": {
       "description_width": ""
      }
     },
     "1a89916030dc4f8ba8438c3a8c5bbd69": {
      "model_module": "@jupyter-widgets/base",
      "model_module_version": "1.1.0",
      "model_name": "LayoutModel",
      "state": {}
     },
     "1b064c01ef0f4056b7748e7fa4e8d0ae": {
      "model_module": "@jupyter-widgets/controls",
      "model_module_version": "1.4.0",
      "model_name": "DropdownModel",
      "state": {
       "_options_labels": [
        "Set Ka and La",
        "Set the eigenvalues"
       ],
       "index": 0,
       "layout": "IPY_MODEL_ade07f29b03d42f9af3c3c14c7d31ea0",
       "style": "IPY_MODEL_370ecf9131524d678e6b68bd2392087b"
      }
     },
     "1b74db63daf04430bfbc9b90a4d2a0b9": {
      "model_module": "@jupyter-widgets/controls",
      "model_module_version": "1.4.0",
      "model_name": "DescriptionStyleModel",
      "state": {
       "description_width": ""
      }
     },
     "1be046e383e644d6a6cfcf29b3777c99": {
      "model_module": "@jupyter-widgets/base",
      "model_module_version": "1.1.0",
      "model_name": "LayoutModel",
      "state": {}
     },
     "1c3b4a0e02094103b9696eab44638dc6": {
      "model_module": "@jupyter-widgets/base",
      "model_module_version": "1.1.0",
      "model_name": "LayoutModel",
      "state": {
       "width": "90px"
      }
     },
     "1c47caf2cb4b47a3a6d0d38a124adb42": {
      "model_module": "@jupyter-widgets/controls",
      "model_module_version": "1.4.0",
      "model_name": "LabelModel",
      "state": {
       "layout": "IPY_MODEL_4f760a5b774c4487878113061d5224d7",
       "style": "IPY_MODEL_0120a3cda0234f828ce07773febed775",
       "value": "Ka:"
      }
     },
     "1c6c62d211f44583a849017a71d78956": {
      "model_module": "@jupyter-widgets/controls",
      "model_module_version": "1.4.0",
      "model_name": "FloatTextModel",
      "state": {
       "disabled": true,
       "layout": "IPY_MODEL_461957a3da1741a79e15d991cb7034b3",
       "step": null,
       "style": "IPY_MODEL_4c2c1962f1e24a4ead7d36ae79cc2236",
       "value": -0.35
      }
     },
     "1c9b2f53ecbb4da79d03c3c35e70cf14": {
      "model_module": "@jupyter-widgets/base",
      "model_module_version": "1.1.0",
      "model_name": "LayoutModel",
      "state": {}
     },
     "1cf2e125728c4d5e8c8fea95a6038064": {
      "model_module": "@jupyter-widgets/controls",
      "model_module_version": "1.4.0",
      "model_name": "LabelModel",
      "state": {
       "layout": "IPY_MODEL_480976956b5e49b29e0a8fb9ddc1311d",
       "style": "IPY_MODEL_47598cf9791a4324b5119eb4da288b2f",
       "value": "Aa's eigs:"
      }
     },
     "1d157278113043c9856d8a9417a13918": {
      "model_module": "@jupyter-widgets/base",
      "model_module_version": "1.1.0",
      "model_name": "LayoutModel",
      "state": {}
     },
     "1dc05884ae5f4e7d823343a71c5d6ddd": {
      "model_module": "@jupyter-widgets/base",
      "model_module_version": "1.1.0",
      "model_name": "LayoutModel",
      "state": {}
     },
     "1df123d7b60c4f70bfaa95a3a98028b2": {
      "model_module": "@jupyter-widgets/base",
      "model_module_version": "1.1.0",
      "model_name": "LayoutModel",
      "state": {}
     },
     "1e33b781497341b1996b09276820d8e0": {
      "model_module": "@jupyter-widgets/base",
      "model_module_version": "1.1.0",
      "model_name": "LayoutModel",
      "state": {}
     },
     "1f72a1ea109f4f659eb106984a52f1f6": {
      "model_module": "@jupyter-widgets/controls",
      "model_module_version": "1.4.0",
      "model_name": "DescriptionStyleModel",
      "state": {
       "description_width": ""
      }
     },
     "1fb66c1b76f545669fe28804b306ecd2": {
      "model_module": "@jupyter-widgets/controls",
      "model_module_version": "1.4.0",
      "model_name": "FloatTextModel",
      "state": {
       "layout": "IPY_MODEL_e75eff08ebb144498999ffac93f14395",
       "step": null,
       "style": "IPY_MODEL_bde8952344054e1a9af20bcf7482c849",
       "value": -0.2
      }
     },
     "1fc3130926714e67a16a6fa21598e553": {
      "model_module": "@jupyter-widgets/controls",
      "model_module_version": "1.4.0",
      "model_name": "FloatTextModel",
      "state": {
       "layout": "IPY_MODEL_ecd20c3dc57245719c571ef17d01685c",
       "step": null,
       "style": "IPY_MODEL_5a867080f23547f5ba9fce9c078589d9",
       "value": 5275
      }
     },
     "1fd1af9aa2e34834a4365140e0e3935c": {
      "model_module": "@jupyter-widgets/controls",
      "model_module_version": "1.4.0",
      "model_name": "LabelModel",
      "state": {
       "layout": "IPY_MODEL_5bb3813b66d04d2e8d925c77a06ea469",
       "style": "IPY_MODEL_127f6407d3334b2c811379e3be485ea4",
       "value": "La:"
      }
     },
     "1fd782fda2594830a668c84ee5d9f831": {
      "model_module": "@jupyter-widgets/controls",
      "model_module_version": "1.4.0",
      "model_name": "DescriptionStyleModel",
      "state": {
       "description_width": ""
      }
     },
     "1fdde251769a4b17b82f768dd2b4dd9e": {
      "model_module": "@jupyter-widgets/controls",
      "model_module_version": "1.4.0",
      "model_name": "HBoxModel",
      "state": {
       "children": [
        "IPY_MODEL_b56385a123a9454aa4c26e576ee9e00e",
        "IPY_MODEL_4c8e37c41a2d416a8c037d763d6ba024",
        "IPY_MODEL_a267df06d1fd4abdbeeaa4b209f965f6",
        "IPY_MODEL_4d2f31be201045a6af6ff6ed5f2d6c7d",
        "IPY_MODEL_84a0b15ddb034a2092338bd2b2ed63e9",
        "IPY_MODEL_f4b016746bb84426baca5c76043f6338",
        "IPY_MODEL_bc57fb4c89304c8489fdd40e587aba43",
        "IPY_MODEL_d5837d49afb144f4b62497a1eee8836b",
        "IPY_MODEL_eb3ee6a786584c6d9f2da7657cac6d2a",
        "IPY_MODEL_b080ba2fe8b74e95941fc70e47b839e1",
        "IPY_MODEL_30ad82f4d06f4c2daaa68aeb2a06dd47"
       ],
       "layout": "IPY_MODEL_4f1921a9f6484511a8d14907d72e0e23"
      }
     },
     "208dd43bf82041139b3985a6cc8b89b3": {
      "model_module": "@jupyter-widgets/controls",
      "model_module_version": "1.4.0",
      "model_name": "DescriptionStyleModel",
      "state": {
       "description_width": ""
      }
     },
     "2093b6224f914effb15b3638f1187eb6": {
      "model_module": "@jupyter-widgets/controls",
      "model_module_version": "1.4.0",
      "model_name": "VBoxModel",
      "state": {
       "children": [
        "IPY_MODEL_7e4e7d01deec4ad28120e3a5353c32be"
       ],
       "layout": "IPY_MODEL_60b41869c40d4bd39090be64275ae341"
      }
     },
     "20cb9075c7db4936a347bd454de3b582": {
      "model_module": "@jupyter-widgets/controls",
      "model_module_version": "1.4.0",
      "model_name": "FloatTextModel",
      "state": {
       "layout": "IPY_MODEL_37ff28d148404455adda4f35d2af9e04",
       "step": null,
       "style": "IPY_MODEL_df7ca8e6b4e943ab931b5b3d5c5c261c"
      }
     },
     "212cbb388f3446d9be9fc9ea66b8a4ef": {
      "model_module": "@jupyter-widgets/controls",
      "model_module_version": "1.4.0",
      "model_name": "LabelModel",
      "state": {
       "layout": "IPY_MODEL_53d173abcf8b4242ab7d38a319621de6",
       "style": "IPY_MODEL_7d6a609ca45c4507b010733c5e884ae6"
      }
     },
     "2130431e014a406d94f539f123ff4781": {
      "model_module": "@jupyter-widgets/controls",
      "model_module_version": "1.4.0",
      "model_name": "DescriptionStyleModel",
      "state": {
       "description_width": ""
      }
     },
     "2158a36c2a104d1fae5f6a0fdcbc1e78": {
      "model_module": "@jupyter-widgets/controls",
      "model_module_version": "1.4.0",
      "model_name": "DescriptionStyleModel",
      "state": {
       "description_width": ""
      }
     },
     "217df9fb08f841e0b881ed5ff541226f": {
      "model_module": "@jupyter-widgets/base",
      "model_module_version": "1.1.0",
      "model_name": "LayoutModel",
      "state": {}
     },
     "21959bf2c265467dbf5cac2aaf1816e0": {
      "model_module": "@jupyter-widgets/controls",
      "model_module_version": "1.4.0",
      "model_name": "DescriptionStyleModel",
      "state": {
       "description_width": ""
      }
     },
     "21b672a6f2cb476a859c6c8b77770295": {
      "model_module": "@jupyter-widgets/controls",
      "model_module_version": "1.4.0",
      "model_name": "LabelModel",
      "state": {
       "layout": "IPY_MODEL_50979c39461b47e8bc2fd3cbcdd20729",
       "style": "IPY_MODEL_e25d85fff72e488ea4647079ab727aff",
       "value": "Aa's eigs:"
      }
     },
     "21eabbad715941b99f63fe2a4776bc00": {
      "model_module": "@jupyter-widgets/controls",
      "model_module_version": "1.4.0",
      "model_name": "DropdownModel",
      "state": {
       "_options_labels": [
        "0 complex eigenvalues",
        "2 complex eigenvalues",
        "4 complex eigenvalues"
       ],
       "description": "Aa:",
       "disabled": true,
       "index": 0,
       "layout": "IPY_MODEL_3c6b454038614f7698738e0b9ce8fec4",
       "style": "IPY_MODEL_a9df4eb6b13f4772b2ba3fc42ce6a654"
      }
     },
     "2207ee2b08c4446987f7e6023e83a82b": {
      "model_module": "@jupyter-widgets/controls",
      "model_module_version": "1.4.0",
      "model_name": "FloatTextModel",
      "state": {
       "layout": "IPY_MODEL_b6573d23f34546ba8e2cbf2b6767a8e1",
       "step": null,
       "style": "IPY_MODEL_a2730760d6e340dd9350b3d45baf8886",
       "value": 6244
      }
     },
     "22275515a1f04bd8be66e809c0605552": {
      "model_module": "@jupyter-widgets/controls",
      "model_module_version": "1.4.0",
      "model_name": "HBoxModel",
      "state": {
       "children": [
        "IPY_MODEL_073260c1189244649e842178ffd838db",
        "IPY_MODEL_d5286389e31f44d0a068455235d65e4f",
        "IPY_MODEL_72e8f2c8610c47fd8096faa84eb921f8",
        "IPY_MODEL_eeea2616635d4149881ea9df9f5a14cb",
        "IPY_MODEL_a016d7fcf44b4c7988226f529ae389e7",
        "IPY_MODEL_c52b71d3ecdd45499b48a31dc291647b"
       ],
       "layout": "IPY_MODEL_42984b879b2d416b85cd418d253039ed"
      }
     },
     "22374c75f7794f22a5f88e46fc333e82": {
      "model_module": "@jupyter-widgets/controls",
      "model_module_version": "1.4.0",
      "model_name": "FloatTextModel",
      "state": {
       "layout": "IPY_MODEL_40791dfb3cc8474eb7d54e2189b6b60c",
       "step": null,
       "style": "IPY_MODEL_ca9c829a996f4f7c845b56e8cf922fbd",
       "value": -13.333333333333334
      }
     },
     "226ecd100d9b43bdb15a7c6850582d90": {
      "model_module": "@jupyter-widgets/base",
      "model_module_version": "1.1.0",
      "model_name": "LayoutModel",
      "state": {}
     },
     "2286c81d4a3a4f93a0f895e50a34fe05": {
      "model_module": "@jupyter-widgets/controls",
      "model_module_version": "1.4.0",
      "model_name": "HBoxModel",
      "state": {
       "children": [
        "IPY_MODEL_3c7c916361f84919ace94112d0857e8d",
        "IPY_MODEL_b05b346ca5f149c68313830c8017a0c4",
        "IPY_MODEL_2661ca0349f54248a71dd5a7e08fc265",
        "IPY_MODEL_b55b9482c3094a98a8cf619d230dbc9b",
        "IPY_MODEL_247e86cfc95f417a8bcb4fcfcdbe3a0c"
       ],
       "layout": "IPY_MODEL_fcea6582999f41d3998d812ef0156748"
      }
     },
     "22d7fc6100c34ec68f93bd5a4fa77bce": {
      "model_module": "@jupyter-widgets/base",
      "model_module_version": "1.1.0",
      "model_name": "LayoutModel",
      "state": {}
     },
     "239576f3ce7641f5ab0c6dbab3e5de53": {
      "model_module": "@jupyter-widgets/controls",
      "model_module_version": "1.4.0",
      "model_name": "HBoxModel",
      "state": {
       "children": [
        "IPY_MODEL_8471ba81fc7a4b87adf19a11d05e4af8",
        "IPY_MODEL_b7643201185d4a7eb66c0e9807d1fef7",
        "IPY_MODEL_678800f9d35b4543892ff9d4b8c3009b"
       ],
       "layout": "IPY_MODEL_88608d2bd3564091bb944cd23789d33c"
      }
     },
     "23c82a3754bb4588a4f865849a294568": {
      "model_module": "@jupyter-widgets/base",
      "model_module_version": "1.1.0",
      "model_name": "LayoutModel",
      "state": {}
     },
     "247e86cfc95f417a8bcb4fcfcdbe3a0c": {
      "model_module": "@jupyter-widgets/controls",
      "model_module_version": "1.4.0",
      "model_name": "ButtonModel",
      "state": {
       "description": "Test",
       "icon": "check",
       "layout": "IPY_MODEL_c443bd8d6997435e91d118677137d5b6",
       "style": "IPY_MODEL_8940fedfa6b94154bbecb9b93aa2c282",
       "tooltip": "Test"
      }
     },
     "24dd982e2a6149fa8600278128d390d9": {
      "model_module": "@jupyter-widgets/controls",
      "model_module_version": "1.4.0",
      "model_name": "DescriptionStyleModel",
      "state": {
       "description_width": ""
      }
     },
     "2529e49926cd4f8eb55dcc45178ec8f5": {
      "model_module": "@jupyter-widgets/controls",
      "model_module_version": "1.4.0",
      "model_name": "LabelModel",
      "state": {
       "layout": "IPY_MODEL_9e4fb7fb6cee4738ab762e038ba437ba",
       "style": "IPY_MODEL_728c92f846734c939fcd10d6e4ef68e3"
      }
     },
     "25be128dd26d4cd298247bbbc5bbe06a": {
      "model_module": "@jupyter-widgets/controls",
      "model_module_version": "1.4.0",
      "model_name": "VBoxModel",
      "state": {
       "children": [
        "IPY_MODEL_3de384452e1d48d09b464ccad972e82a",
        "IPY_MODEL_a632af6c959f4150a8552cf2868f1563"
       ],
       "layout": "IPY_MODEL_6f10c2a2cc4f4d5cb7cd361d5fd117bb"
      }
     },
     "25f2ec29d73b41f7a2dc273b04bff9ce": {
      "model_module": "@jupyter-widgets/base",
      "model_module_version": "1.1.0",
      "model_name": "LayoutModel",
      "state": {}
     },
     "26342618d87e467fab891aa5cda81036": {
      "model_module": "@jupyter-widgets/controls",
      "model_module_version": "1.4.0",
      "model_name": "VBoxModel",
      "state": {
       "children": [
        "IPY_MODEL_e675d75bec4b474dba2d599e91931cd2",
        "IPY_MODEL_c4740552de6548d296f8e504838955f6",
        "IPY_MODEL_a91bbca18081424791e2d1ee5f5cce53",
        "IPY_MODEL_e53e8f35bab440248da43e8cba202569",
        "IPY_MODEL_3e64d9fd2e1746cea195f645cdd6949d",
        "IPY_MODEL_fdce31ba7cd54e7599882f799a6e6e33",
        "IPY_MODEL_2286c81d4a3a4f93a0f895e50a34fe05"
       ],
       "layout": "IPY_MODEL_4e55b368a6894071936164175298b092"
      }
     },
     "2661ca0349f54248a71dd5a7e08fc265": {
      "model_module": "@jupyter-widgets/controls",
      "model_module_version": "1.4.0",
      "model_name": "LabelModel",
      "state": {
       "layout": "IPY_MODEL_a2b1153c0b734d19bbbe9e4cb71dfd22",
       "style": "IPY_MODEL_f42e19a237c34b6180896202e734db4b"
      }
     },
     "27173e1eefb9498a854df87487b14839": {
      "model_module": "@jupyter-widgets/controls",
      "model_module_version": "1.4.0",
      "model_name": "DescriptionStyleModel",
      "state": {
       "description_width": ""
      }
     },
     "27928ffdf5e14aceb43b8fca906689b0": {
      "model_module": "@jupyter-widgets/base",
      "model_module_version": "1.1.0",
      "model_name": "LayoutModel",
      "state": {}
     },
     "27bf1cd698f244de864097f2c1026f29": {
      "model_module": "@jupyter-widgets/controls",
      "model_module_version": "1.4.0",
      "model_name": "VBoxModel",
      "state": {
       "children": [
        "IPY_MODEL_bad08b1eee074bc3b71be5dc3ac3cdde",
        "IPY_MODEL_42c5e51edfbf418ea107735f899209ac"
       ],
       "layout": "IPY_MODEL_9b5dafc61d3444c5ad1d3934f7051d68"
      }
     },
     "28145b3fa0c947388e212e724a9d4113": {
      "model_module": "@jupyter-widgets/base",
      "model_module_version": "1.1.0",
      "model_name": "LayoutModel",
      "state": {}
     },
     "2858ff7ee73a49599f2605631773233e": {
      "model_module": "@jupyter-widgets/base",
      "model_module_version": "1.1.0",
      "model_name": "LayoutModel",
      "state": {
       "width": "90px"
      }
     },
     "285f9014036e4d5485f9c4c625564664": {
      "model_module": "@jupyter-widgets/base",
      "model_module_version": "1.1.0",
      "model_name": "LayoutModel",
      "state": {}
     },
     "286c6d083d32468c8da6d9a651c6a4cb": {
      "model_module": "@jupyter-widgets/controls",
      "model_module_version": "1.4.0",
      "model_name": "DescriptionStyleModel",
      "state": {
       "description_width": ""
      }
     },
     "28eeaa6532d64589be32837e44b6116e": {
      "model_module": "@jupyter-widgets/base",
      "model_module_version": "1.1.0",
      "model_name": "LayoutModel",
      "state": {}
     },
     "290c5edce3fd4ba59715d66705fcdd2e": {
      "model_module": "@jupyter-widgets/base",
      "model_module_version": "1.1.0",
      "model_name": "LayoutModel",
      "state": {}
     },
     "296ca86ae0ed488dbcf495fcee09b2d4": {
      "model_module": "@jupyter-widgets/base",
      "model_module_version": "1.1.0",
      "model_name": "LayoutModel",
      "state": {}
     },
     "29a5ffd39c2f4cfbbb7189829553bcde": {
      "model_module": "@jupyter-widgets/controls",
      "model_module_version": "1.4.0",
      "model_name": "LabelModel",
      "state": {
       "layout": "IPY_MODEL_5e837cafb6a844dd926b00ccdd43440d",
       "style": "IPY_MODEL_a2a23603747a44b8b4b99e05ba1585cc"
      }
     },
     "2a4c4be27bb545dd87185740c74ca9e5": {
      "model_module": "@jupyter-widgets/controls",
      "model_module_version": "1.4.0",
      "model_name": "FloatTextModel",
      "state": {
       "layout": "IPY_MODEL_bebe51591c7f4204987782700ddac779",
       "step": null,
       "style": "IPY_MODEL_5e97027777614640b556526766aab474"
      }
     },
     "2ad36e1cd7c6491ebd207e23495eaf5f": {
      "model_module": "@jupyter-widgets/base",
      "model_module_version": "1.1.0",
      "model_name": "LayoutModel",
      "state": {}
     },
     "2b099bf547704ef4a5d5b71337dae026": {
      "model_module": "@jupyter-widgets/controls",
      "model_module_version": "1.4.0",
      "model_name": "DescriptionStyleModel",
      "state": {
       "description_width": ""
      }
     },
     "2b60f2474af2416cb1d242ccc4c6ddb3": {
      "model_module": "@jupyter-widgets/controls",
      "model_module_version": "1.4.0",
      "model_name": "FloatTextModel",
      "state": {
       "disabled": true,
       "layout": "IPY_MODEL_580f187efa7642398bec0a2ae1ea2954",
       "step": null,
       "style": "IPY_MODEL_e2a1c41856004ffc9cd0fc59df88997a"
      }
     },
     "2b684e1c6b254b9fa313b5d68cbac70e": {
      "model_module": "@jupyter-widgets/controls",
      "model_module_version": "1.4.0",
      "model_name": "DescriptionStyleModel",
      "state": {
       "description_width": ""
      }
     },
     "2b9259b59b92447390e7b296c315363e": {
      "model_module": "@jupyter-widgets/controls",
      "model_module_version": "1.4.0",
      "model_name": "DescriptionStyleModel",
      "state": {
       "description_width": ""
      }
     },
     "2b97208d6c1a4fd1966375b6e494aa89": {
      "model_module": "@jupyter-widgets/controls",
      "model_module_version": "1.4.0",
      "model_name": "DescriptionStyleModel",
      "state": {
       "description_width": ""
      }
     },
     "2bc216ef3e2d46c8b160d194b072936c": {
      "model_module": "@jupyter-widgets/controls",
      "model_module_version": "1.4.0",
      "model_name": "DescriptionStyleModel",
      "state": {
       "description_width": ""
      }
     },
     "2bf0392a0f39437ba55867d895e68ba0": {
      "model_module": "@jupyter-widgets/base",
      "model_module_version": "1.1.0",
      "model_name": "LayoutModel",
      "state": {
       "width": "90px"
      }
     },
     "2c4fbbc1825c495c86831ef2286a8258": {
      "model_module": "@jupyter-widgets/base",
      "model_module_version": "1.1.0",
      "model_name": "LayoutModel",
      "state": {}
     },
     "2cb9c1ebcf564a40a34b90a63d030464": {
      "model_module": "@jupyter-widgets/controls",
      "model_module_version": "1.4.0",
      "model_name": "VBoxModel",
      "state": {
       "children": [
        "IPY_MODEL_ee4aa316d9714e888f3c23995436d5e6"
       ],
       "layout": "IPY_MODEL_190c4ee57fdf40c88d86937fbd97fb58"
      }
     },
     "2d2e3175df1d471bbb45873e4da0007e": {
      "model_module": "@jupyter-widgets/output",
      "model_module_version": "1.0.0",
      "model_name": "OutputModel",
      "state": {
       "layout": "IPY_MODEL_4896fb1125f843749d6859f7cbe31ce0",
       "outputs": [
        {
         "name": "stdout",
         "output_type": "stream",
         "text": "The Aa's eigenvalues are: -2.24+2.23j, -2.24+-2.23j, -0.28+0.00j, -0.26+0.32j and -0.26+-0.32j\nThe observer\\s eigenvalues are: -10.00+0.00j and -10.00+0.00j\n"
        }
       ]
      }
     },
     "2d7547f1a371409793d7cc2e5f67d729": {
      "model_module": "@jupyter-widgets/controls",
      "model_module_version": "1.4.0",
      "model_name": "DescriptionStyleModel",
      "state": {
       "description_width": ""
      }
     },
     "2d87c6683db741b78597a76dece4e1fc": {
      "model_module": "@jupyter-widgets/base",
      "model_module_version": "1.1.0",
      "model_name": "LayoutModel",
      "state": {}
     },
     "2e269a8bd2094127a2842dba4c1a9b3e": {
      "model_module": "@jupyter-widgets/base",
      "model_module_version": "1.1.0",
      "model_name": "LayoutModel",
      "state": {
       "height": "0px",
       "width": "0px"
      }
     },
     "2ea7fb5a0dc94b24bc86d1d1361bf465": {
      "model_module": "@jupyter-widgets/controls",
      "model_module_version": "1.4.0",
      "model_name": "HBoxModel",
      "state": {
       "children": [
        "IPY_MODEL_ad7ee93bc69e44238236082c27729623",
        "IPY_MODEL_d5286389e31f44d0a068455235d65e4f",
        "IPY_MODEL_e803009919e34d8eaf8b05eec6e7095e",
        "IPY_MODEL_7e247cd9b0e54844af224969b6c41f28",
        "IPY_MODEL_67eca683eeac421c9b2621d685db768f",
        "IPY_MODEL_c52b71d3ecdd45499b48a31dc291647b"
       ],
       "layout": "IPY_MODEL_59ebaba388dc4577ada44ad233f34d00"
      }
     },
     "2f3e230ec0f74c2db5e3641c839f2213": {
      "model_module": "@jupyter-widgets/controls",
      "model_module_version": "1.4.0",
      "model_name": "LabelModel",
      "state": {
       "layout": "IPY_MODEL_ffe99539e150450583ae31daaf3d9322",
       "style": "IPY_MODEL_1f72a1ea109f4f659eb106984a52f1f6",
       "value": "Ka:"
      }
     },
     "2f66cfe8ed134acfb204b483546b9c8d": {
      "model_module": "@jupyter-widgets/base",
      "model_module_version": "1.1.0",
      "model_name": "LayoutModel",
      "state": {}
     },
     "2f9198fbd0b341cf8d4432260b3fa514": {
      "model_module": "@jupyter-widgets/base",
      "model_module_version": "1.1.0",
      "model_name": "LayoutModel",
      "state": {}
     },
     "2fdeaa5e4bf3400f8579ebce0f57f204": {
      "model_module": "@jupyter-widgets/controls",
      "model_module_version": "1.4.0",
      "model_name": "HBoxModel",
      "state": {
       "children": [
        "IPY_MODEL_912150cf7dd545c9be27f06e2420e9fd"
       ],
       "layout": "IPY_MODEL_9107b64326ee404abe9f223d27d7cb58"
      }
     },
     "307ff552afd445f8aa1f661c0d2a70ab": {
      "model_module": "@jupyter-widgets/controls",
      "model_module_version": "1.4.0",
      "model_name": "DescriptionStyleModel",
      "state": {
       "description_width": ""
      }
     },
     "308eee1c1f63417596941451831e56d9": {
      "model_module": "@jupyter-widgets/base",
      "model_module_version": "1.1.0",
      "model_name": "LayoutModel",
      "state": {}
     },
     "30ad82f4d06f4c2daaa68aeb2a06dd47": {
      "model_module": "@jupyter-widgets/controls",
      "model_module_version": "1.4.0",
      "model_name": "VBoxModel",
      "state": {
       "children": [
        "IPY_MODEL_2fdeaa5e4bf3400f8579ebce0f57f204",
        "IPY_MODEL_6f85f9a4db194b509b78ff37a0f3f35a"
       ],
       "layout": "IPY_MODEL_dce3a2ee8dff4853a756267ce47660ed"
      }
     },
     "30c069a9f1e64b8fa42c228c79bc01d4": {
      "model_module": "@jupyter-widgets/base",
      "model_module_version": "1.1.0",
      "model_name": "LayoutModel",
      "state": {}
     },
     "3155eee3f9a64ff3b2f1ce3c8f7d18cc": {
      "model_module": "@jupyter-widgets/base",
      "model_module_version": "1.1.0",
      "model_name": "LayoutModel",
      "state": {}
     },
     "317ee220faa84115bad387393653c51c": {
      "model_module": "@jupyter-widgets/controls",
      "model_module_version": "1.4.0",
      "model_name": "VBoxModel",
      "state": {
       "children": [
        "IPY_MODEL_7c92b5b89e8b44fc9d282249225339c6"
       ],
       "layout": "IPY_MODEL_a460952c12254a589008273d3b2199a9"
      }
     },
     "31e2e456b00d48d490d2402eb557ec37": {
      "model_module": "@jupyter-widgets/base",
      "model_module_version": "1.1.0",
      "model_name": "LayoutModel",
      "state": {}
     },
     "3223149f706c4dd4ba260fe3446b92e8": {
      "model_module": "@jupyter-widgets/base",
      "model_module_version": "1.1.0",
      "model_name": "LayoutModel",
      "state": {}
     },
     "3233aafe18be46e7a62f972550b668ba": {
      "model_module": "@jupyter-widgets/base",
      "model_module_version": "1.1.0",
      "model_name": "LayoutModel",
      "state": {}
     },
     "32a09d78e0b3416a94dc5ac17c5bb0d0": {
      "model_module": "@jupyter-widgets/controls",
      "model_module_version": "1.4.0",
      "model_name": "DescriptionStyleModel",
      "state": {
       "description_width": ""
      }
     },
     "32b7e93c96b443a3af782fb2be831b3b": {
      "model_module": "@jupyter-widgets/base",
      "model_module_version": "1.1.0",
      "model_name": "LayoutModel",
      "state": {}
     },
     "32c998c40fcb45f29c5f62895b3ae599": {
      "model_module": "@jupyter-widgets/base",
      "model_module_version": "1.1.0",
      "model_name": "LayoutModel",
      "state": {}
     },
     "33330d6c86ba41eab73940f2280afb9a": {
      "model_module": "@jupyter-widgets/controls",
      "model_module_version": "1.4.0",
      "model_name": "FloatTextModel",
      "state": {
       "layout": "IPY_MODEL_3a65fbb08de74d909d5fd1814e6230ac",
       "step": null,
       "style": "IPY_MODEL_754e87a1a8c54875b3b917f54d2c9b58",
       "value": -10
      }
     },
     "33357e60e03e468ca65e98dd38c74e9f": {
      "model_module": "@jupyter-widgets/controls",
      "model_module_version": "1.4.0",
      "model_name": "DescriptionStyleModel",
      "state": {
       "description_width": ""
      }
     },
     "3352f8a79a714a1f8fd27b8fd25f0a52": {
      "model_module": "@jupyter-widgets/base",
      "model_module_version": "1.1.0",
      "model_name": "LayoutModel",
      "state": {}
     },
     "33bfa08767d84ae4a47341c4859c6d8e": {
      "model_module": "@jupyter-widgets/controls",
      "model_module_version": "1.4.0",
      "model_name": "DescriptionStyleModel",
      "state": {
       "description_width": ""
      }
     },
     "33f481d047974c82b48e773a14c5277e": {
      "model_module": "@jupyter-widgets/controls",
      "model_module_version": "1.4.0",
      "model_name": "DescriptionStyleModel",
      "state": {
       "description_width": ""
      }
     },
     "34022ccc088d4f659df4623873bb8338": {
      "model_module": "@jupyter-widgets/base",
      "model_module_version": "1.1.0",
      "model_name": "LayoutModel",
      "state": {}
     },
     "341a67e1961c4efaba9cd46195f445c9": {
      "model_module": "@jupyter-widgets/base",
      "model_module_version": "1.1.0",
      "model_name": "LayoutModel",
      "state": {}
     },
     "3430f1d432be4157a235f074511b7e3e": {
      "model_module": "@jupyter-widgets/controls",
      "model_module_version": "1.4.0",
      "model_name": "DescriptionStyleModel",
      "state": {
       "description_width": ""
      }
     },
     "3560f888f8714d7380f8ec397da7b315": {
      "model_module": "@jupyter-widgets/controls",
      "model_module_version": "1.4.0",
      "model_name": "DescriptionStyleModel",
      "state": {
       "description_width": ""
      }
     },
     "356747a968bb4a48b3b7722036ed8bf4": {
      "model_module": "@jupyter-widgets/controls",
      "model_module_version": "1.4.0",
      "model_name": "FloatTextModel",
      "state": {
       "layout": "IPY_MODEL_2858ff7ee73a49599f2605631773233e",
       "step": null,
       "style": "IPY_MODEL_1fd782fda2594830a668c84ee5d9f831",
       "value": 316
      }
     },
     "360875116090414dbddbecaa83b47342": {
      "model_module": "@jupyter-widgets/controls",
      "model_module_version": "1.4.0",
      "model_name": "LabelModel",
      "state": {
       "layout": "IPY_MODEL_851b1adaff55422a86338f42883ee062",
       "style": "IPY_MODEL_ff14f4f3069442e09be6386b056e4f65"
      }
     },
     "361e3aca296d43a68f658aa71fa8a732": {
      "model_module": "@jupyter-widgets/controls",
      "model_module_version": "1.4.0",
      "model_name": "FloatTextModel",
      "state": {
       "layout": "IPY_MODEL_caf38c4519e040de9884ca0747ab7001",
       "step": null,
       "style": "IPY_MODEL_bf796660e99f47128f6d0e118966cbdd"
      }
     },
     "363c1e3703ab462a93ff019e7bc417eb": {
      "model_module": "@jupyter-widgets/base",
      "model_module_version": "1.1.0",
      "model_name": "LayoutModel",
      "state": {}
     },
     "364239ea052146749c210d876d457052": {
      "model_module": "@jupyter-widgets/base",
      "model_module_version": "1.1.0",
      "model_name": "LayoutModel",
      "state": {}
     },
     "36ac1087021c41399d70cc006def027e": {
      "model_module": "@jupyter-widgets/controls",
      "model_module_version": "1.4.0",
      "model_name": "FloatTextModel",
      "state": {
       "layout": "IPY_MODEL_3dae996603af49d89a680674a3ee2aec",
       "step": null,
       "style": "IPY_MODEL_33f481d047974c82b48e773a14c5277e"
      }
     },
     "36b4c1c517ff44af830b4f3695cbd377": {
      "model_module": "@jupyter-widgets/controls",
      "model_module_version": "1.4.0",
      "model_name": "ButtonModel",
      "state": {
       "description": "Test",
       "icon": "check",
       "layout": "IPY_MODEL_4d59d06b755e49e1ac0c6d996a44da1e",
       "style": "IPY_MODEL_0d0a5a3b1371435bbf4f922a1c0b4595",
       "tooltip": "Test"
      }
     },
     "36b6b604c9464f058cab5c96b0e7fd11": {
      "model_module": "@jupyter-widgets/base",
      "model_module_version": "1.1.0",
      "model_name": "LayoutModel",
      "state": {}
     },
     "370ecf9131524d678e6b68bd2392087b": {
      "model_module": "@jupyter-widgets/controls",
      "model_module_version": "1.4.0",
      "model_name": "DescriptionStyleModel",
      "state": {
       "description_width": ""
      }
     },
     "37327690f2424d65b8d49eece9eaf6a9": {
      "model_module": "@jupyter-widgets/base",
      "model_module_version": "1.1.0",
      "model_name": "LayoutModel",
      "state": {}
     },
     "3737cb1f394e4b8d993a13254b0b1c5e": {
      "model_module": "@jupyter-widgets/base",
      "model_module_version": "1.1.0",
      "model_name": "LayoutModel",
      "state": {}
     },
     "3737cb895e114ff3a7264b637d8ad44b": {
      "model_module": "@jupyter-widgets/controls",
      "model_module_version": "1.4.0",
      "model_name": "DescriptionStyleModel",
      "state": {
       "description_width": ""
      }
     },
     "375787cc30e24e26abe571c28c5b73b7": {
      "model_module": "@jupyter-widgets/controls",
      "model_module_version": "1.4.0",
      "model_name": "DescriptionStyleModel",
      "state": {
       "description_width": ""
      }
     },
     "37d23d6207874b9db8948c62f4cd0835": {
      "model_module": "@jupyter-widgets/base",
      "model_module_version": "1.1.0",
      "model_name": "LayoutModel",
      "state": {}
     },
     "37d8d5e4068d43cda833bfa5b2deb3d6": {
      "model_module": "@jupyter-widgets/controls",
      "model_module_version": "1.4.0",
      "model_name": "VBoxModel",
      "state": {
       "children": [
        "IPY_MODEL_895850746fc047c089a3bab1559d9f9d",
        "IPY_MODEL_ebf0f598131a450587d040772038e710",
        "IPY_MODEL_3d9418f5694c40a68a7dbd749231b227",
        "IPY_MODEL_ad34d26874a24d2c89c2f16a3cf953ee",
        "IPY_MODEL_50da8e9b3fe449d8bd0f82c813a0d190",
        "IPY_MODEL_4490b6a17a204103a401af35e7fb2214",
        "IPY_MODEL_e946f509a27349d3ad44c1af4e53fc3a"
       ],
       "layout": "IPY_MODEL_ae665ed5b04d42f1b2b624cfbc726e6f"
      }
     },
     "37e3d4ef915442e587ab592c14598b61": {
      "model_module": "@jupyter-widgets/base",
      "model_module_version": "1.1.0",
      "model_name": "LayoutModel",
      "state": {
       "height": "0px",
       "width": "0px"
      }
     },
     "37ecefc90ca24246a5e1f966458ec837": {
      "model_module": "@jupyter-widgets/base",
      "model_module_version": "1.1.0",
      "model_name": "LayoutModel",
      "state": {}
     },
     "37ff28d148404455adda4f35d2af9e04": {
      "model_module": "@jupyter-widgets/base",
      "model_module_version": "1.1.0",
      "model_name": "LayoutModel",
      "state": {
       "width": "90px"
      }
     },
     "3804bdbe25a84136b554ce66d5068797": {
      "model_module": "@jupyter-widgets/controls",
      "model_module_version": "1.4.0",
      "model_name": "VBoxModel",
      "state": {
       "children": [
        "IPY_MODEL_61c6a8a15add4ded9fd4e987a755ab38",
        "IPY_MODEL_d086c2b805214a99ac336e6b38227e34",
        "IPY_MODEL_fb4bc4d4d3a648d7a6a9df184cce12b6",
        "IPY_MODEL_9a30578514a043dc80c647d4b5ab588d",
        "IPY_MODEL_8a079245fbbe4ddf920422f8deed31bb",
        "IPY_MODEL_5d2586944fee45ffa773e7d3ad5c2d02",
        "IPY_MODEL_3fb90a3282a44bb1b6810e5cba75ebc1"
       ],
       "layout": "IPY_MODEL_70d8d323e1e7445ea9fe3e32ee56bd7f"
      }
     },
     "38105898ff504547a93e80b47afac00d": {
      "model_module": "@jupyter-widgets/controls",
      "model_module_version": "1.4.0",
      "model_name": "DescriptionStyleModel",
      "state": {
       "description_width": ""
      }
     },
     "3867427d28c94cc5bb52fa78e2eae3e1": {
      "model_module": "@jupyter-widgets/base",
      "model_module_version": "1.1.0",
      "model_name": "LayoutModel",
      "state": {}
     },
     "3882f6bf357a4adab0cd5691b4c6c866": {
      "model_module": "@jupyter-widgets/base",
      "model_module_version": "1.1.0",
      "model_name": "LayoutModel",
      "state": {}
     },
     "395984fd869345c3adad0f2e04cc2f9d": {
      "model_module": "@jupyter-widgets/base",
      "model_module_version": "1.1.0",
      "model_name": "LayoutModel",
      "state": {}
     },
     "3967a131ab114f1d903a90585ec37c1b": {
      "model_module": "@jupyter-widgets/controls",
      "model_module_version": "1.4.0",
      "model_name": "FloatTextModel",
      "state": {
       "layout": "IPY_MODEL_8bfd28108db14cf7af63c45afb29a893",
       "step": null,
       "style": "IPY_MODEL_ffd9845674134373a41db40934c7be0d",
       "value": -0.5
      }
     },
     "3a5b38eedfc246fb8c78fd0753841d63": {
      "model_module": "@jupyter-widgets/base",
      "model_module_version": "1.1.0",
      "model_name": "LayoutModel",
      "state": {}
     },
     "3a65fbb08de74d909d5fd1814e6230ac": {
      "model_module": "@jupyter-widgets/base",
      "model_module_version": "1.1.0",
      "model_name": "LayoutModel",
      "state": {
       "width": "90px"
      }
     },
     "3a6b565f3ce4429b83a21e3d564ff894": {
      "model_module": "@jupyter-widgets/controls",
      "model_module_version": "1.4.0",
      "model_name": "DescriptionStyleModel",
      "state": {
       "description_width": ""
      }
     },
     "3a78eccc26a74ba981dce7448a66b11a": {
      "model_module": "@jupyter-widgets/base",
      "model_module_version": "1.1.0",
      "model_name": "LayoutModel",
      "state": {}
     },
     "3ac1014816f74fb1b52fa1463185a00e": {
      "model_module": "@jupyter-widgets/controls",
      "model_module_version": "1.4.0",
      "model_name": "DescriptionStyleModel",
      "state": {
       "description_width": ""
      }
     },
     "3ae048ad15b44938b8b8c0d5af7219e8": {
      "model_module": "@jupyter-widgets/controls",
      "model_module_version": "1.4.0",
      "model_name": "LabelModel",
      "state": {
       "layout": "IPY_MODEL_60cdc74037934e1eb900c2994a7fd6fa",
       "style": "IPY_MODEL_dc452b89802e4d66ab5371b81f4bb4a2"
      }
     },
     "3b285e8c99594a9d846cf082b34290f0": {
      "model_module": "@jupyter-widgets/base",
      "model_module_version": "1.1.0",
      "model_name": "LayoutModel",
      "state": {
       "width": "90px"
      }
     },
     "3b2defae62294f9bbd4aaf5e793002c0": {
      "model_module": "@jupyter-widgets/controls",
      "model_module_version": "1.4.0",
      "model_name": "ButtonStyleModel",
      "state": {}
     },
     "3b4c40f6dee64918a393d35056e0c706": {
      "model_module": "@jupyter-widgets/base",
      "model_module_version": "1.1.0",
      "model_name": "LayoutModel",
      "state": {}
     },
     "3b7b8cd8f40f46f7a6af377e08229a20": {
      "model_module": "@jupyter-widgets/base",
      "model_module_version": "1.1.0",
      "model_name": "LayoutModel",
      "state": {}
     },
     "3bcadc2f01354f5ebada7a948f377681": {
      "model_module": "@jupyter-widgets/controls",
      "model_module_version": "1.4.0",
      "model_name": "DescriptionStyleModel",
      "state": {
       "description_width": ""
      }
     },
     "3bf317625e154845b6a9f8e0b72e9040": {
      "model_module": "@jupyter-widgets/base",
      "model_module_version": "1.1.0",
      "model_name": "LayoutModel",
      "state": {}
     },
     "3c6b454038614f7698738e0b9ce8fec4": {
      "model_module": "@jupyter-widgets/base",
      "model_module_version": "1.1.0",
      "model_name": "LayoutModel",
      "state": {}
     },
     "3c7c916361f84919ace94112d0857e8d": {
      "model_module": "@jupyter-widgets/controls",
      "model_module_version": "1.4.0",
      "model_name": "FloatSliderModel",
      "state": {
       "continuous_update": false,
       "description": "$y_d$:",
       "layout": "IPY_MODEL_3e22cf6d526e4976852d76dee6c4afee",
       "max": 10,
       "readout_format": ".1f",
       "step": 0.1,
       "style": "IPY_MODEL_8ef057c6d9fc4db8b615a215a2b5a000",
       "value": 10
      }
     },
     "3ce4a805f8a54027b572fe652407fe63": {
      "model_module": "@jupyter-widgets/controls",
      "model_module_version": "1.4.0",
      "model_name": "DescriptionStyleModel",
      "state": {
       "description_width": ""
      }
     },
     "3d1b0136b7ff46baa784387eceafc392": {
      "model_module": "@jupyter-widgets/controls",
      "model_module_version": "1.4.0",
      "model_name": "DescriptionStyleModel",
      "state": {
       "description_width": ""
      }
     },
     "3d7b33626e8645189c174b708efd6e17": {
      "model_module": "@jupyter-widgets/base",
      "model_module_version": "1.1.0",
      "model_name": "LayoutModel",
      "state": {
       "width": "90px"
      }
     },
     "3d9418f5694c40a68a7dbd749231b227": {
      "model_module": "@jupyter-widgets/controls",
      "model_module_version": "1.4.0",
      "model_name": "HBoxModel",
      "state": {
       "children": [
        "IPY_MODEL_fa779ef2a19142449b6539ff5c0afb2a",
        "IPY_MODEL_d5286389e31f44d0a068455235d65e4f",
        "IPY_MODEL_7ffe130777e247649d8ed2b515a9ca8b",
        "IPY_MODEL_4a70bf95f528481b8ff74c3afd8143cc",
        "IPY_MODEL_7293c820e63d4fa5a06348c87ef770e1",
        "IPY_MODEL_c52b71d3ecdd45499b48a31dc291647b"
       ],
       "layout": "IPY_MODEL_c362d636f1984bdd87b4377f49a3dfad"
      }
     },
     "3dae996603af49d89a680674a3ee2aec": {
      "model_module": "@jupyter-widgets/base",
      "model_module_version": "1.1.0",
      "model_name": "LayoutModel",
      "state": {
       "width": "90px"
      }
     },
     "3de384452e1d48d09b464ccad972e82a": {
      "model_module": "@jupyter-widgets/controls",
      "model_module_version": "1.4.0",
      "model_name": "HBoxModel",
      "state": {
       "children": [
        "IPY_MODEL_481707a8f18e4ad6925355876653507c"
       ],
       "layout": "IPY_MODEL_b96be3625e894b758c148ca1a3566d8e"
      }
     },
     "3e22cf6d526e4976852d76dee6c4afee": {
      "model_module": "@jupyter-widgets/base",
      "model_module_version": "1.1.0",
      "model_name": "LayoutModel",
      "state": {}
     },
     "3e59c5655b3f41d1aaf0f24e30cdd54c": {
      "model_module": "@jupyter-widgets/base",
      "model_module_version": "1.1.0",
      "model_name": "LayoutModel",
      "state": {}
     },
     "3e64d9fd2e1746cea195f645cdd6949d": {
      "model_module": "@jupyter-widgets/controls",
      "model_module_version": "1.4.0",
      "model_name": "HBoxModel",
      "state": {
       "children": [
        "IPY_MODEL_5b85b3143bdd4151baf0b1b98839a627",
        "IPY_MODEL_2093b6224f914effb15b3638f1187eb6",
        "IPY_MODEL_5de9a778360a49198d5e6e1e23bc58d3",
        "IPY_MODEL_87deb80624884ebfa254f62114e25930",
        "IPY_MODEL_2cb9c1ebcf564a40a34b90a63d030464",
        "IPY_MODEL_d7419d00e6774ceb8dbccfc5cf652bfd",
        "IPY_MODEL_1244287ff9b84bed9a68f406b6271d4a",
        "IPY_MODEL_fe452383f5644078905bb160d1205007",
        "IPY_MODEL_bf60fd5a02a84f84b747fdca371c5248",
        "IPY_MODEL_5f6179517cf942c9a57020ef64c975a6",
        "IPY_MODEL_27bf1cd698f244de864097f2c1026f29"
       ],
       "layout": "IPY_MODEL_3f412669281442aaa4b98dd280741c00"
      }
     },
     "3e952182f68c4e9ab7e75f184898c9a2": {
      "model_module": "@jupyter-widgets/controls",
      "model_module_version": "1.4.0",
      "model_name": "DescriptionStyleModel",
      "state": {
       "description_width": ""
      }
     },
     "3f1ae226f21a4f758daa4a0993a2a3de": {
      "model_module": "@jupyter-widgets/controls",
      "model_module_version": "1.4.0",
      "model_name": "HBoxModel",
      "state": {
       "children": [
        "IPY_MODEL_008c5b54603f4375ad913b4e47b37a95",
        "IPY_MODEL_7a2c5d36b676498d86709b794261b2e5",
        "IPY_MODEL_3f8d6e010056475ba09296b2de5793c4",
        "IPY_MODEL_edb98a49aed04ce2b99d3a4898054f4d",
        "IPY_MODEL_aec6d0f1383e406296db3be22810ad9c",
        "IPY_MODEL_9e0c7264530f48d8a6e52208066546ff"
       ],
       "layout": "IPY_MODEL_34022ccc088d4f659df4623873bb8338"
      }
     },
     "3f412669281442aaa4b98dd280741c00": {
      "model_module": "@jupyter-widgets/base",
      "model_module_version": "1.1.0",
      "model_name": "LayoutModel",
      "state": {}
     },
     "3f8d6e010056475ba09296b2de5793c4": {
      "model_module": "@jupyter-widgets/controls",
      "model_module_version": "1.4.0",
      "model_name": "LabelModel",
      "state": {
       "layout": "IPY_MODEL_014b81ae692c4db1abb4de5ebe4c554c",
       "style": "IPY_MODEL_ac8c59c13a5f406eab4c4e5831aab8c5"
      }
     },
     "3fb718490de04afca4411b2acf4987e6": {
      "model_module": "@jupyter-widgets/base",
      "model_module_version": "1.1.0",
      "model_name": "LayoutModel",
      "state": {}
     },
     "3fb90a3282a44bb1b6810e5cba75ebc1": {
      "model_module": "@jupyter-widgets/controls",
      "model_module_version": "1.4.0",
      "model_name": "HBoxModel",
      "state": {
       "children": [
        "IPY_MODEL_0f26c8afca96402aa66b81bc451a3559",
        "IPY_MODEL_cd02878c94fa4261b5a2f0b343ac62bb",
        "IPY_MODEL_29a5ffd39c2f4cfbbb7189829553bcde",
        "IPY_MODEL_ebb77dc0261f4b568809a80141cc5e95",
        "IPY_MODEL_4b259b5b03184b90a070f5f191d66806"
       ],
       "layout": "IPY_MODEL_6a7a36202cba49eb8397c164b18c614b"
      }
     },
     "3fcf20770fa04a8f99220ecff57a919c": {
      "model_module": "@jupyter-widgets/controls",
      "model_module_version": "1.4.0",
      "model_name": "FloatTextModel",
      "state": {
       "layout": "IPY_MODEL_ed2d8c9e95644c48982990fdeaf43bbe",
       "step": null,
       "style": "IPY_MODEL_03aea743d5e74fc58ade7e8bd43412e5",
       "value": 2225
      }
     },
     "3fe63ac60ab64ded984e9abeeff7abf5": {
      "model_module": "@jupyter-widgets/controls",
      "model_module_version": "1.4.0",
      "model_name": "VBoxModel",
      "state": {
       "children": [
        "IPY_MODEL_1205db0490524afe8643ea75eac4d13f",
        "IPY_MODEL_f342b0e683a541f88af64b284dcd2a0f"
       ],
       "layout": "IPY_MODEL_0deef1dc66c5431fa7af43270cd27cbe"
      }
     },
     "3ff22a9f887a4c8fa9623d0ab0ef1724": {
      "model_module": "@jupyter-widgets/controls",
      "model_module_version": "1.4.0",
      "model_name": "DescriptionStyleModel",
      "state": {
       "description_width": ""
      }
     },
     "4022fdb8345a466281cb4fb4e0f5a38e": {
      "model_module": "@jupyter-widgets/controls",
      "model_module_version": "1.4.0",
      "model_name": "LabelModel",
      "state": {
       "layout": "IPY_MODEL_9556274e90b64a4bb51b8e1a2eb0462e",
       "style": "IPY_MODEL_e07f8d2fd0284db8ac22cb54ea409be1"
      }
     },
     "402c9bde36d74803b3e44a1d9d24a7bf": {
      "model_module": "@jupyter-widgets/controls",
      "model_module_version": "1.4.0",
      "model_name": "FloatTextModel",
      "state": {
       "disabled": true,
       "layout": "IPY_MODEL_1c3b4a0e02094103b9696eab44638dc6",
       "step": null,
       "style": "IPY_MODEL_78e89fda875349468498d5f62b2914a0",
       "value": -0.6
      }
     },
     "40791dfb3cc8474eb7d54e2189b6b60c": {
      "model_module": "@jupyter-widgets/base",
      "model_module_version": "1.1.0",
      "model_name": "LayoutModel",
      "state": {
       "width": "90px"
      }
     },
     "409aba40e57f41d5bb4f1379e4152d4e": {
      "model_module": "@jupyter-widgets/base",
      "model_module_version": "1.1.0",
      "model_name": "LayoutModel",
      "state": {}
     },
     "4112fde42af14183bbd1dc0f0588e5c3": {
      "model_module": "@jupyter-widgets/controls",
      "model_module_version": "1.4.0",
      "model_name": "DescriptionStyleModel",
      "state": {
       "description_width": ""
      }
     },
     "4115501ee8ec4fccaf278e05a7084396": {
      "model_module": "@jupyter-widgets/controls",
      "model_module_version": "1.4.0",
      "model_name": "HBoxModel",
      "state": {
       "children": [
        "IPY_MODEL_79f34c11930f44ef87434b7bbc4a62a2"
       ],
       "layout": "IPY_MODEL_25f2ec29d73b41f7a2dc273b04bff9ce"
      }
     },
     "414f93245d2d4a25887f5123fa09bf44": {
      "model_module": "@jupyter-widgets/controls",
      "model_module_version": "1.4.0",
      "model_name": "LabelModel",
      "state": {
       "layout": "IPY_MODEL_bcfa49fa72d34a4ea767dcb731e0630f",
       "style": "IPY_MODEL_cfac6a49ddc04836ab8776cb1d3b44a6",
       "value": "Aa's eigs:"
      }
     },
     "416b8f7b106846d0870026946b4f6b5a": {
      "model_module": "@jupyter-widgets/controls",
      "model_module_version": "1.4.0",
      "model_name": "DropdownModel",
      "state": {
       "_options_labels": [
        "0 complex eigenvalues",
        "2 complex eigenvalues"
       ],
       "description": "Aobs:",
       "disabled": true,
       "index": 0,
       "layout": "IPY_MODEL_77216fe31d084b58b18e146e8a6b8be1",
       "style": "IPY_MODEL_2d7547f1a371409793d7cc2e5f67d729"
      }
     },
     "417d4660c0684d73b14d876b04be9db0": {
      "model_module": "@jupyter-widgets/controls",
      "model_module_version": "1.4.0",
      "model_name": "LabelModel",
      "state": {
       "layout": "IPY_MODEL_5af2b1372db94701816de9d570d6af0d",
       "style": "IPY_MODEL_0c95743624f3406b94fdf24395f109ea",
       "value": "La:"
      }
     },
     "4255965f2e914f35bb60cb680011283c": {
      "model_module": "@jupyter-widgets/controls",
      "model_module_version": "1.4.0",
      "model_name": "DescriptionStyleModel",
      "state": {
       "description_width": ""
      }
     },
     "4270a3ab84d24c2a87739c20e2005d65": {
      "model_module": "@jupyter-widgets/base",
      "model_module_version": "1.1.0",
      "model_name": "LayoutModel",
      "state": {}
     },
     "4278af2ea2454105a0438aceb142c914": {
      "model_module": "@jupyter-widgets/controls",
      "model_module_version": "1.4.0",
      "model_name": "DescriptionStyleModel",
      "state": {
       "description_width": ""
      }
     },
     "427a705fa0bf44fca560fc285307c61f": {
      "model_module": "@jupyter-widgets/controls",
      "model_module_version": "1.4.0",
      "model_name": "LabelModel",
      "state": {
       "layout": "IPY_MODEL_31e2e456b00d48d490d2402eb557ec37",
       "style": "IPY_MODEL_375787cc30e24e26abe571c28c5b73b7"
      }
     },
     "4290b132dc4242809a5d43b88a892c72": {
      "model_module": "@jupyter-widgets/base",
      "model_module_version": "1.1.0",
      "model_name": "LayoutModel",
      "state": {}
     },
     "42984b879b2d416b85cd418d253039ed": {
      "model_module": "@jupyter-widgets/base",
      "model_module_version": "1.1.0",
      "model_name": "LayoutModel",
      "state": {}
     },
     "42a057f2f2d54c2580b4c3ae90d7ce09": {
      "model_module": "@jupyter-widgets/controls",
      "model_module_version": "1.4.0",
      "model_name": "LabelModel",
      "state": {
       "layout": "IPY_MODEL_4b53f46309d04356a1f1b6d49a909ef5",
       "style": "IPY_MODEL_8b87c03ea80e4a8496fef495518e5222"
      }
     },
     "42c5e51edfbf418ea107735f899209ac": {
      "model_module": "@jupyter-widgets/controls",
      "model_module_version": "1.4.0",
      "model_name": "HBoxModel",
      "state": {
       "children": [
        "IPY_MODEL_2b60f2474af2416cb1d242ccc4c6ddb3"
       ],
       "layout": "IPY_MODEL_ca355890e53a4b8bb1d0575dac3c1bfc"
      }
     },
     "43501d55a4fd47a6b16ef8b1b85e7d65": {
      "model_module": "@jupyter-widgets/base",
      "model_module_version": "1.1.0",
      "model_name": "LayoutModel",
      "state": {
       "width": "90px"
      }
     },
     "439dd39502fa4ee18378ac424aae7331": {
      "model_module": "@jupyter-widgets/controls",
      "model_module_version": "1.4.0",
      "model_name": "DescriptionStyleModel",
      "state": {
       "description_width": ""
      }
     },
     "43a0c9eb7bef445fa7bd7a3b3fc8b432": {
      "model_module": "@jupyter-widgets/base",
      "model_module_version": "1.1.0",
      "model_name": "LayoutModel",
      "state": {
       "width": "90px"
      }
     },
     "4490b6a17a204103a401af35e7fb2214": {
      "model_module": "@jupyter-widgets/controls",
      "model_module_version": "1.4.0",
      "model_name": "LabelModel",
      "state": {
       "layout": "IPY_MODEL_395984fd869345c3adad0f2e04cc2f9d",
       "style": "IPY_MODEL_1513832cf7b54c038400c36ff44ca0ef"
      }
     },
     "44ebb6efb3744575a1946cfd67255633": {
      "model_module": "@jupyter-widgets/controls",
      "model_module_version": "1.4.0",
      "model_name": "FloatTextModel",
      "state": {
       "layout": "IPY_MODEL_4cd17dd1a06d4b90ba7d4bbc88627449",
       "step": null,
       "style": "IPY_MODEL_3d1b0136b7ff46baa784387eceafc392"
      }
     },
     "45252723ac28472a970b95e3e6e933d5": {
      "model_module": "@jupyter-widgets/controls",
      "model_module_version": "1.4.0",
      "model_name": "DescriptionStyleModel",
      "state": {
       "description_width": ""
      }
     },
     "45c69bfc454c48e597a023be2fcf2369": {
      "model_module": "@jupyter-widgets/base",
      "model_module_version": "1.1.0",
      "model_name": "LayoutModel",
      "state": {}
     },
     "460300bb7cfb4e759ba669fd07f3b123": {
      "model_module": "@jupyter-widgets/base",
      "model_module_version": "1.1.0",
      "model_name": "LayoutModel",
      "state": {}
     },
     "461957a3da1741a79e15d991cb7034b3": {
      "model_module": "@jupyter-widgets/base",
      "model_module_version": "1.1.0",
      "model_name": "LayoutModel",
      "state": {
       "width": "90px"
      }
     },
     "472fafbcc5de4d8bbdea2c2f162640a3": {
      "model_module": "@jupyter-widgets/controls",
      "model_module_version": "1.4.0",
      "model_name": "LabelModel",
      "state": {
       "layout": "IPY_MODEL_4c9623fc7bca47c2936c988083e1ad51",
       "style": "IPY_MODEL_a35a317a47864a4bbdf20780013db7d8"
      }
     },
     "47598cf9791a4324b5119eb4da288b2f": {
      "model_module": "@jupyter-widgets/controls",
      "model_module_version": "1.4.0",
      "model_name": "DescriptionStyleModel",
      "state": {
       "description_width": ""
      }
     },
     "47aecddedfd64f07a36ec50b49227ec5": {
      "model_module": "@jupyter-widgets/base",
      "model_module_version": "1.1.0",
      "model_name": "LayoutModel",
      "state": {}
     },
     "480976956b5e49b29e0a8fb9ddc1311d": {
      "model_module": "@jupyter-widgets/base",
      "model_module_version": "1.1.0",
      "model_name": "LayoutModel",
      "state": {}
     },
     "481707a8f18e4ad6925355876653507c": {
      "model_module": "@jupyter-widgets/controls",
      "model_module_version": "1.4.0",
      "model_name": "FloatTextModel",
      "state": {
       "layout": "IPY_MODEL_43a0c9eb7bef445fa7bd7a3b3fc8b432",
       "step": null,
       "style": "IPY_MODEL_a428fbacff1a4a828a289047af365d41",
       "value": -10
      }
     },
     "4896fb1125f843749d6859f7cbe31ce0": {
      "model_module": "@jupyter-widgets/base",
      "model_module_version": "1.1.0",
      "model_name": "LayoutModel",
      "state": {}
     },
     "491cd4b112cf45e3aba71d0563e0768d": {
      "model_module": "@jupyter-widgets/base",
      "model_module_version": "1.1.0",
      "model_name": "LayoutModel",
      "state": {}
     },
     "4938fabbd6f84e558cdf38f0d008750d": {
      "model_module": "@jupyter-widgets/controls",
      "model_module_version": "1.4.0",
      "model_name": "FloatTextModel",
      "state": {
       "layout": "IPY_MODEL_cf7241c197e44ea78648dd7ece9cf032",
       "step": null,
       "style": "IPY_MODEL_f8067f8c672e4164a2165c0319b30ee6"
      }
     },
     "49bb0a8604b14c99a08b92915c5fc8d4": {
      "model_module": "@jupyter-widgets/base",
      "model_module_version": "1.1.0",
      "model_name": "LayoutModel",
      "state": {}
     },
     "4a170c180505407b9ea430c1cd492f2c": {
      "model_module": "@jupyter-widgets/base",
      "model_module_version": "1.1.0",
      "model_name": "LayoutModel",
      "state": {
       "width": "90px"
      }
     },
     "4a54fbb8de4440d9b0e3819d4cf15310": {
      "model_module": "@jupyter-widgets/controls",
      "model_module_version": "1.4.0",
      "model_name": "FloatTextModel",
      "state": {
       "layout": "IPY_MODEL_5a0c6b92ed2c43edb23183d8dacce8ff",
       "step": null,
       "style": "IPY_MODEL_1813f2fd50cb46aa9b888f8b5f8af0b2"
      }
     },
     "4a70bf95f528481b8ff74c3afd8143cc": {
      "model_module": "@jupyter-widgets/controls",
      "model_module_version": "1.4.0",
      "model_name": "LabelModel",
      "state": {
       "layout": "IPY_MODEL_64201b9e59164194b1346370c1c83cd4",
       "style": "IPY_MODEL_7bcae1bb58ed4f80aad0ed229811dd6f"
      }
     },
     "4b0f91c2788d4bc5b8ba3927f6b2b871": {
      "model_module": "@jupyter-widgets/controls",
      "model_module_version": "1.4.0",
      "model_name": "DropdownModel",
      "state": {
       "_options_labels": [
        "Set Ka and La",
        "Set the eigenvalues"
       ],
       "index": 0,
       "layout": "IPY_MODEL_13b8b4e1c72d4263a37e6d0db2857f38",
       "style": "IPY_MODEL_1499b17a4da64101a9270bd56fcd4356"
      }
     },
     "4b259b5b03184b90a070f5f191d66806": {
      "model_module": "@jupyter-widgets/controls",
      "model_module_version": "1.4.0",
      "model_name": "ButtonModel",
      "state": {
       "description": "Test",
       "icon": "check",
       "layout": "IPY_MODEL_fe99c96f7d5a47c689cfa08b35724327",
       "style": "IPY_MODEL_4cbc98ef5e9744df9a5215ea6d5c5a92",
       "tooltip": "Test"
      }
     },
     "4b53f46309d04356a1f1b6d49a909ef5": {
      "model_module": "@jupyter-widgets/base",
      "model_module_version": "1.1.0",
      "model_name": "LayoutModel",
      "state": {}
     },
     "4b6ed1f5b4e8433a9a93b2f387086660": {
      "model_module": "@jupyter-widgets/controls",
      "model_module_version": "1.4.0",
      "model_name": "HBoxModel",
      "state": {
       "children": [
        "IPY_MODEL_9d2107f7a8294bb5a1e31ad3096c399e",
        "IPY_MODEL_826635bf7c224e2fa9e2222e72dbf5a4",
        "IPY_MODEL_4def2e9f87e44960a0c9ad77a3d7dd0f"
       ],
       "layout": "IPY_MODEL_ff23ed97b5014a51ac0d66101e37cbb1"
      }
     },
     "4b7fe40ee3a5498084895bbb1dede424": {
      "model_module": "@jupyter-widgets/base",
      "model_module_version": "1.1.0",
      "model_name": "LayoutModel",
      "state": {
       "width": "90px"
      }
     },
     "4bdfb3011517401eace9dacb974b719c": {
      "model_module": "@jupyter-widgets/controls",
      "model_module_version": "1.4.0",
      "model_name": "DescriptionStyleModel",
      "state": {
       "description_width": ""
      }
     },
     "4c2c1962f1e24a4ead7d36ae79cc2236": {
      "model_module": "@jupyter-widgets/controls",
      "model_module_version": "1.4.0",
      "model_name": "DescriptionStyleModel",
      "state": {
       "description_width": ""
      }
     },
     "4c44c42077ed435898d338ddb0ba0436": {
      "model_module": "@jupyter-widgets/controls",
      "model_module_version": "1.4.0",
      "model_name": "DescriptionStyleModel",
      "state": {
       "description_width": ""
      }
     },
     "4c4a53b62fd44b28b1cce41d159b39bf": {
      "model_module": "@jupyter-widgets/base",
      "model_module_version": "1.1.0",
      "model_name": "LayoutModel",
      "state": {}
     },
     "4c88f970164e400a9fdb30163e7153f1": {
      "model_module": "@jupyter-widgets/controls",
      "model_module_version": "1.4.0",
      "model_name": "DescriptionStyleModel",
      "state": {
       "description_width": ""
      }
     },
     "4c8e37c41a2d416a8c037d763d6ba024": {
      "model_module": "@jupyter-widgets/controls",
      "model_module_version": "1.4.0",
      "model_name": "VBoxModel",
      "state": {
       "children": [
        "IPY_MODEL_ee6a33ca9388418faed0c5e29b4b9ad3"
       ],
       "layout": "IPY_MODEL_01bcc377646640c7a87abaf47a341335"
      }
     },
     "4c9623fc7bca47c2936c988083e1ad51": {
      "model_module": "@jupyter-widgets/base",
      "model_module_version": "1.1.0",
      "model_name": "LayoutModel",
      "state": {}
     },
     "4cb46cd0fbe245c188dd480c40e5a1d1": {
      "model_module": "@jupyter-widgets/base",
      "model_module_version": "1.1.0",
      "model_name": "LayoutModel",
      "state": {}
     },
     "4cbc98ef5e9744df9a5215ea6d5c5a92": {
      "model_module": "@jupyter-widgets/controls",
      "model_module_version": "1.4.0",
      "model_name": "ButtonStyleModel",
      "state": {}
     },
     "4cd17dd1a06d4b90ba7d4bbc88627449": {
      "model_module": "@jupyter-widgets/base",
      "model_module_version": "1.1.0",
      "model_name": "LayoutModel",
      "state": {
       "height": "0px",
       "width": "0px"
      }
     },
     "4d2f31be201045a6af6ff6ed5f2d6c7d": {
      "model_module": "@jupyter-widgets/controls",
      "model_module_version": "1.4.0",
      "model_name": "VBoxModel",
      "state": {
       "children": [
        "IPY_MODEL_d29d0b24a5734139942bdffc549f83e2",
        "IPY_MODEL_f86a60dda4fc42509dc33d6808857b59"
       ],
       "layout": "IPY_MODEL_bd94108b305f407c92c6883909612aa9"
      }
     },
     "4d59d06b755e49e1ac0c6d996a44da1e": {
      "model_module": "@jupyter-widgets/base",
      "model_module_version": "1.1.0",
      "model_name": "LayoutModel",
      "state": {}
     },
     "4ddaa11b8783416d8518d303745b09a7": {
      "model_module": "@jupyter-widgets/controls",
      "model_module_version": "1.4.0",
      "model_name": "LabelModel",
      "state": {
       "layout": "IPY_MODEL_9adf73266e5b41fca5ffa68f3c06d757",
       "style": "IPY_MODEL_8cd3e95c3acf4bdab4dfdc7205fe8fde"
      }
     },
     "4def2e9f87e44960a0c9ad77a3d7dd0f": {
      "model_module": "@jupyter-widgets/controls",
      "model_module_version": "1.4.0",
      "model_name": "DropdownModel",
      "state": {
       "_options_labels": [
        "0 complex eigenvalues",
        "2 complex eigenvalues"
       ],
       "description": "Aobs:",
       "disabled": true,
       "index": 0,
       "layout": "IPY_MODEL_a3e62160c9b54b1d8127e609d6602571",
       "style": "IPY_MODEL_cf52400e360c4a298036c4d771b8ae29"
      }
     },
     "4e069a3035154c4d8c0a47e5fe1f3b9b": {
      "model_module": "@jupyter-widgets/base",
      "model_module_version": "1.1.0",
      "model_name": "LayoutModel",
      "state": {}
     },
     "4e55b368a6894071936164175298b092": {
      "model_module": "@jupyter-widgets/base",
      "model_module_version": "1.1.0",
      "model_name": "LayoutModel",
      "state": {}
     },
     "4e67dcb5f4e6455f952604f8193dbae0": {
      "model_module": "@jupyter-widgets/base",
      "model_module_version": "1.1.0",
      "model_name": "LayoutModel",
      "state": {}
     },
     "4e79a7019f0e46f1b434fef2c9d752a4": {
      "model_module": "@jupyter-widgets/base",
      "model_module_version": "1.1.0",
      "model_name": "LayoutModel",
      "state": {
       "width": "90px"
      }
     },
     "4ec30f2860a74ef0a6f495243611dd88": {
      "model_module": "@jupyter-widgets/base",
      "model_module_version": "1.1.0",
      "model_name": "LayoutModel",
      "state": {}
     },
     "4ef500d8895b4bd3a5e040da5cad74a7": {
      "model_module": "@jupyter-widgets/controls",
      "model_module_version": "1.4.0",
      "model_name": "DescriptionStyleModel",
      "state": {
       "description_width": ""
      }
     },
     "4efaeb6c9bf841bfaef134c3c3b36e90": {
      "model_module": "@jupyter-widgets/base",
      "model_module_version": "1.1.0",
      "model_name": "LayoutModel",
      "state": {}
     },
     "4f1921a9f6484511a8d14907d72e0e23": {
      "model_module": "@jupyter-widgets/base",
      "model_module_version": "1.1.0",
      "model_name": "LayoutModel",
      "state": {}
     },
     "4f37e4abf7044e669b4f94075743f4dc": {
      "model_module": "@jupyter-widgets/controls",
      "model_module_version": "1.4.0",
      "model_name": "LabelModel",
      "state": {
       "layout": "IPY_MODEL_f9982efc85a34595ba056a20e5f29111",
       "style": "IPY_MODEL_cb3ccf44448e4da3abbc0bb88947e975"
      }
     },
     "4f760a5b774c4487878113061d5224d7": {
      "model_module": "@jupyter-widgets/base",
      "model_module_version": "1.1.0",
      "model_name": "LayoutModel",
      "state": {}
     },
     "4fb69747e2b94cc39379030795002c6b": {
      "model_module": "@jupyter-widgets/controls",
      "model_module_version": "1.4.0",
      "model_name": "DropdownModel",
      "state": {
       "_options_labels": [
        "Set Ka and La",
        "Set the eigenvalues"
       ],
       "index": 0,
       "layout": "IPY_MODEL_ada0e8828ac343df9e9760d6df6d9714",
       "style": "IPY_MODEL_c3862d402b5e4ae38fd7d2f0b2414ef0"
      }
     },
     "50979c39461b47e8bc2fd3cbcdd20729": {
      "model_module": "@jupyter-widgets/base",
      "model_module_version": "1.1.0",
      "model_name": "LayoutModel",
      "state": {}
     },
     "50b250cd0c344a809899fa9c03f47e6c": {
      "model_module": "@jupyter-widgets/base",
      "model_module_version": "1.1.0",
      "model_name": "LayoutModel",
      "state": {}
     },
     "50da8e9b3fe449d8bd0f82c813a0d190": {
      "model_module": "@jupyter-widgets/controls",
      "model_module_version": "1.4.0",
      "model_name": "HBoxModel",
      "state": {
       "children": [
        "IPY_MODEL_dd34ed0f11bf4739983f6875ef0c9382",
        "IPY_MODEL_6d68637432684016b0727f506afe0df5",
        "IPY_MODEL_f01b454caf0243f89fac5809d26d4cf2",
        "IPY_MODEL_3fe63ac60ab64ded984e9abeeff7abf5",
        "IPY_MODEL_317ee220faa84115bad387393653c51c",
        "IPY_MODEL_587e0f7d832d4ecc866fb0f39ea9d990",
        "IPY_MODEL_6f5919fe2a494d8092c2b109d3cb8dff",
        "IPY_MODEL_8011100f6a6b4ddc9ecbb972b727eaf7",
        "IPY_MODEL_b2d05cd7284844c9a283bfeaa163772d",
        "IPY_MODEL_a3c2a24a94aa456cbd6779a86c1f06ad",
        "IPY_MODEL_25be128dd26d4cd298247bbbc5bbe06a"
       ],
       "layout": "IPY_MODEL_dbb050e8d85846bf845411834a32a4c5"
      }
     },
     "5110c78f84674366b27efb186b131882": {
      "model_module": "@jupyter-widgets/controls",
      "model_module_version": "1.4.0",
      "model_name": "DescriptionStyleModel",
      "state": {
       "description_width": ""
      }
     },
     "518df1a391454a7b9ae94325ff2cd3b0": {
      "model_module": "@jupyter-widgets/base",
      "model_module_version": "1.1.0",
      "model_name": "LayoutModel",
      "state": {}
     },
     "51c5d8276bd747b39c3117b7fe0d1529": {
      "model_module": "@jupyter-widgets/base",
      "model_module_version": "1.1.0",
      "model_name": "LayoutModel",
      "state": {}
     },
     "5232c359d050473bbaf3e0e85f18eeb0": {
      "model_module": "@jupyter-widgets/controls",
      "model_module_version": "1.4.0",
      "model_name": "DescriptionStyleModel",
      "state": {
       "description_width": ""
      }
     },
     "5241a01ecea844bb9b680efbd89455ae": {
      "model_module": "@jupyter-widgets/controls",
      "model_module_version": "1.4.0",
      "model_name": "VBoxModel",
      "state": {
       "children": [
        "IPY_MODEL_f3e6fb5eb49042e08cb1f9909bc388ea",
        "IPY_MODEL_168bc40c3b9245fb833055cc8b0cf9d8",
        "IPY_MODEL_fa694349488843568882bce05ddefe64",
        "IPY_MODEL_543a7c0c9f434b2da64bf57122e7c4b5",
        "IPY_MODEL_ac58d08f3ce54afa8fe5fd6c045ae5af",
        "IPY_MODEL_94d262c9132f4dee8a1ebacba7959d25",
        "IPY_MODEL_5497c799c8b04c7bb967ac6f9b66af23"
       ],
       "layout": "IPY_MODEL_3a78eccc26a74ba981dce7448a66b11a"
      }
     },
     "524e523ee79e43c987c381c69c9afe85": {
      "model_module": "@jupyter-widgets/controls",
      "model_module_version": "1.4.0",
      "model_name": "DescriptionStyleModel",
      "state": {
       "description_width": ""
      }
     },
     "52536282f3184f26aed9ccb231e684c9": {
      "model_module": "@jupyter-widgets/base",
      "model_module_version": "1.1.0",
      "model_name": "LayoutModel",
      "state": {}
     },
     "526b7fddb1074a07a22a2925248f71e7": {
      "model_module": "@jupyter-widgets/controls",
      "model_module_version": "1.4.0",
      "model_name": "FloatTextModel",
      "state": {
       "layout": "IPY_MODEL_e6f9740ecb9c4b1e890dc2e32b0d34a7",
       "step": null,
       "style": "IPY_MODEL_0887c7cb985246f0bd413b295949e2d4"
      }
     },
     "52acf9658bbb43a0bb470d183fef21f7": {
      "model_module": "@jupyter-widgets/base",
      "model_module_version": "1.1.0",
      "model_name": "LayoutModel",
      "state": {}
     },
     "52d2c84751bb4e7cba68bcd9a091bba1": {
      "model_module": "@jupyter-widgets/base",
      "model_module_version": "1.1.0",
      "model_name": "LayoutModel",
      "state": {}
     },
     "5393a1ec3e0d47feb72f398a7cfa584e": {
      "model_module": "@jupyter-widgets/controls",
      "model_module_version": "1.4.0",
      "model_name": "ButtonModel",
      "state": {
       "description": "Test",
       "icon": "check",
       "layout": "IPY_MODEL_0dc42ed578324e9698fd4ff6083ef49b",
       "style": "IPY_MODEL_f9efcf465553492696c39a2edafe44fc",
       "tooltip": "Test"
      }
     },
     "53d173abcf8b4242ab7d38a319621de6": {
      "model_module": "@jupyter-widgets/base",
      "model_module_version": "1.1.0",
      "model_name": "LayoutModel",
      "state": {}
     },
     "5433f855b1e144bd9f99ee35a93dddd2": {
      "model_module": "@jupyter-widgets/controls",
      "model_module_version": "1.4.0",
      "model_name": "LabelModel",
      "state": {
       "layout": "IPY_MODEL_c6c48010219b4fb3bd1099d57920ba98",
       "style": "IPY_MODEL_690061d224354464bbf9acac7d551e8b",
       "value": "La:"
      }
     },
     "543a7c0c9f434b2da64bf57122e7c4b5": {
      "model_module": "@jupyter-widgets/controls",
      "model_module_version": "1.4.0",
      "model_name": "LabelModel",
      "state": {
       "layout": "IPY_MODEL_8d93505090b24b7392dd19fdafe1ebb7",
       "style": "IPY_MODEL_967ea0cea3b44232b483737bad238961"
      }
     },
     "5480124c50004a86b7b7cb590e0ac139": {
      "model_module": "@jupyter-widgets/base",
      "model_module_version": "1.1.0",
      "model_name": "LayoutModel",
      "state": {}
     },
     "5497c799c8b04c7bb967ac6f9b66af23": {
      "model_module": "@jupyter-widgets/controls",
      "model_module_version": "1.4.0",
      "model_name": "HBoxModel",
      "state": {
       "children": [
        "IPY_MODEL_0f26c8afca96402aa66b81bc451a3559",
        "IPY_MODEL_ab5d1f7943974b4ea254b5b26a1c85d8",
        "IPY_MODEL_072696cc4bea46d4b484be7695a09054",
        "IPY_MODEL_a9c2a999751c47b590d4150abf7bbb56",
        "IPY_MODEL_644ddd72b7234e6c90b95fcc50538cd5"
       ],
       "layout": "IPY_MODEL_ef440a7110ee47b08f272167ab804708"
      }
     },
     "54a95624e0a04f319da0e5b1221e8e55": {
      "model_module": "@jupyter-widgets/controls",
      "model_module_version": "1.4.0",
      "model_name": "DescriptionStyleModel",
      "state": {
       "description_width": ""
      }
     },
     "54be1d26068e4711a23c153183b65073": {
      "model_module": "@jupyter-widgets/controls",
      "model_module_version": "1.4.0",
      "model_name": "DescriptionStyleModel",
      "state": {
       "description_width": ""
      }
     },
     "554aed59f6334683b982c0431b17c297": {
      "model_module": "@jupyter-widgets/controls",
      "model_module_version": "1.4.0",
      "model_name": "FloatTextModel",
      "state": {
       "layout": "IPY_MODEL_5c1a1250913f409c967bf3e7477a6c22",
       "step": null,
       "style": "IPY_MODEL_1847186fe1ec42328cf7cbcf68a6b4db"
      }
     },
     "5555dc11b3b349c3afd005027d05a68b": {
      "model_module": "@jupyter-widgets/controls",
      "model_module_version": "1.4.0",
      "model_name": "LabelModel",
      "state": {
       "layout": "IPY_MODEL_d636b43c569f4fd99bb74ab2d8a9ca71",
       "style": "IPY_MODEL_3ce4a805f8a54027b572fe652407fe63"
      }
     },
     "555f1c8fd1be494ba25714e40361ee35": {
      "model_module": "@jupyter-widgets/controls",
      "model_module_version": "1.4.0",
      "model_name": "LabelModel",
      "state": {
       "layout": "IPY_MODEL_09c1c777399449b3a0a0b485453ab341",
       "style": "IPY_MODEL_febb6c29d5cb4d519b06da40a32c101c"
      }
     },
     "565da34ae18a4fc786b756dafbc04788": {
      "model_module": "@jupyter-widgets/controls",
      "model_module_version": "1.4.0",
      "model_name": "DescriptionStyleModel",
      "state": {
       "description_width": ""
      }
     },
     "56d0ad94a1ab41bf9b1226b301dc34c5": {
      "model_module": "@jupyter-widgets/controls",
      "model_module_version": "1.4.0",
      "model_name": "DescriptionStyleModel",
      "state": {
       "description_width": ""
      }
     },
     "5726c2125b484b7b9f531b64aad3748a": {
      "model_module": "@jupyter-widgets/base",
      "model_module_version": "1.1.0",
      "model_name": "LayoutModel",
      "state": {
       "width": "90px"
      }
     },
     "577aaa8c389e41888c3f64239f36e562": {
      "model_module": "@jupyter-widgets/controls",
      "model_module_version": "1.4.0",
      "model_name": "HBoxModel",
      "state": {
       "children": [
        "IPY_MODEL_6011560492ab4e37a4c7bf6ef2fe9c23",
        "IPY_MODEL_7f7d8c159bdc42c3aeffdc050655131b",
        "IPY_MODEL_9f2b0ec4d4034ae3ad81a74617b85dd9"
       ],
       "layout": "IPY_MODEL_c1df267ba8884d4089f041f8885d57a9"
      }
     },
     "57f647ac81c04c9e8d05a298607c024c": {
      "model_module": "@jupyter-widgets/controls",
      "model_module_version": "1.4.0",
      "model_name": "LabelModel",
      "state": {
       "layout": "IPY_MODEL_c83210e37cf143c6a1e10c38173aaf36",
       "style": "IPY_MODEL_2b099bf547704ef4a5d5b71337dae026"
      }
     },
     "580f187efa7642398bec0a2ae1ea2954": {
      "model_module": "@jupyter-widgets/base",
      "model_module_version": "1.1.0",
      "model_name": "LayoutModel",
      "state": {
       "width": "90px"
      }
     },
     "587e0f7d832d4ecc866fb0f39ea9d990": {
      "model_module": "@jupyter-widgets/controls",
      "model_module_version": "1.4.0",
      "model_name": "VBoxModel",
      "state": {
       "children": [
        "IPY_MODEL_a5628dd710ed40f0836562eea9957797"
       ],
       "layout": "IPY_MODEL_d602a0f11576447b8ef3d438d93728df"
      }
     },
     "58a2970073704e67a4a30380a7830767": {
      "model_module": "@jupyter-widgets/base",
      "model_module_version": "1.1.0",
      "model_name": "LayoutModel",
      "state": {}
     },
     "58dabb22e34a44d890df2e51d5b9a651": {
      "model_module": "@jupyter-widgets/controls",
      "model_module_version": "1.4.0",
      "model_name": "LabelModel",
      "state": {
       "layout": "IPY_MODEL_865c7e9a6659400080d4e6b55eadd65c",
       "style": "IPY_MODEL_21959bf2c265467dbf5cac2aaf1816e0"
      }
     },
     "59ebaba388dc4577ada44ad233f34d00": {
      "model_module": "@jupyter-widgets/base",
      "model_module_version": "1.1.0",
      "model_name": "LayoutModel",
      "state": {}
     },
     "59ec2c46649641599ebed481a8758b4f": {
      "model_module": "@jupyter-widgets/controls",
      "model_module_version": "1.4.0",
      "model_name": "LabelModel",
      "state": {
       "layout": "IPY_MODEL_1df123d7b60c4f70bfaa95a3a98028b2",
       "style": "IPY_MODEL_996a0fc2c31d488089176d41d8206f99"
      }
     },
     "59fa07d6295e403fb187b29b6a589349": {
      "model_module": "@jupyter-widgets/controls",
      "model_module_version": "1.4.0",
      "model_name": "DescriptionStyleModel",
      "state": {
       "description_width": ""
      }
     },
     "5a0c6b92ed2c43edb23183d8dacce8ff": {
      "model_module": "@jupyter-widgets/base",
      "model_module_version": "1.1.0",
      "model_name": "LayoutModel",
      "state": {
       "height": "0px",
       "width": "0px"
      }
     },
     "5a490e92a1344cf0abc18bf0425bbb92": {
      "model_module": "@jupyter-widgets/controls",
      "model_module_version": "1.4.0",
      "model_name": "DescriptionStyleModel",
      "state": {
       "description_width": ""
      }
     },
     "5a867080f23547f5ba9fce9c078589d9": {
      "model_module": "@jupyter-widgets/controls",
      "model_module_version": "1.4.0",
      "model_name": "DescriptionStyleModel",
      "state": {
       "description_width": ""
      }
     },
     "5af2b1372db94701816de9d570d6af0d": {
      "model_module": "@jupyter-widgets/base",
      "model_module_version": "1.1.0",
      "model_name": "LayoutModel",
      "state": {}
     },
     "5b2fc3f1aef246b3b6b674a954b252c7": {
      "model_module": "@jupyter-widgets/controls",
      "model_module_version": "1.4.0",
      "model_name": "ButtonStyleModel",
      "state": {}
     },
     "5b395b3d7f904213b837ead1c36a16d9": {
      "model_module": "@jupyter-widgets/controls",
      "model_module_version": "1.4.0",
      "model_name": "DropdownModel",
      "state": {
       "_options_labels": [
        "0 complex eigenvalues",
        "2 complex eigenvalues"
       ],
       "description": "Aobs:",
       "disabled": true,
       "index": 0,
       "layout": "IPY_MODEL_4e67dcb5f4e6455f952604f8193dbae0",
       "style": "IPY_MODEL_7ee747b400ad462e8ac9835d6e19339a"
      }
     },
     "5b85b3143bdd4151baf0b1b98839a627": {
      "model_module": "@jupyter-widgets/controls",
      "model_module_version": "1.4.0",
      "model_name": "LabelModel",
      "state": {
       "layout": "IPY_MODEL_4efaeb6c9bf841bfaef134c3c3b36e90",
       "style": "IPY_MODEL_17cebb2684274838bfed4999e9fbd809",
       "value": "Aa's eigs:"
      }
     },
     "5bb3813b66d04d2e8d925c77a06ea469": {
      "model_module": "@jupyter-widgets/base",
      "model_module_version": "1.1.0",
      "model_name": "LayoutModel",
      "state": {}
     },
     "5c1a1250913f409c967bf3e7477a6c22": {
      "model_module": "@jupyter-widgets/base",
      "model_module_version": "1.1.0",
      "model_name": "LayoutModel",
      "state": {
       "width": "90px"
      }
     },
     "5c81d6ad649d4942907fecd01757d79a": {
      "model_module": "@jupyter-widgets/controls",
      "model_module_version": "1.4.0",
      "model_name": "LabelModel",
      "state": {
       "layout": "IPY_MODEL_6f3325c696374e7ba2fefe95a423c990",
       "style": "IPY_MODEL_c422d11f60d5455bae304a583648d393"
      }
     },
     "5ca9d6cfbf1e4f5a95615e0dba52d25b": {
      "model_module": "@jupyter-widgets/controls",
      "model_module_version": "1.4.0",
      "model_name": "FloatTextModel",
      "state": {
       "layout": "IPY_MODEL_fe865e4851b4495a95e3dc2cc31cfaa9",
       "step": null,
       "style": "IPY_MODEL_5e00d94431b1401bba0ff47010421a7a",
       "value": 13861
      }
     },
     "5cf0c5c499384c6f96f84a0eae53b53c": {
      "model_module": "@jupyter-widgets/base",
      "model_module_version": "1.1.0",
      "model_name": "LayoutModel",
      "state": {
       "width": "90px"
      }
     },
     "5d2586944fee45ffa773e7d3ad5c2d02": {
      "model_module": "@jupyter-widgets/controls",
      "model_module_version": "1.4.0",
      "model_name": "LabelModel",
      "state": {
       "layout": "IPY_MODEL_f9e272cddc0d46a8b29b88bc2031a7b6",
       "style": "IPY_MODEL_0e00eb2261824321ba3db263816e459b"
      }
     },
     "5d4ef33cadc94f08ace19b791efefc1e": {
      "model_module": "@jupyter-widgets/base",
      "model_module_version": "1.1.0",
      "model_name": "LayoutModel",
      "state": {}
     },
     "5d6ef847aa5b48c8a1d6f71e115505d6": {
      "model_module": "@jupyter-widgets/base",
      "model_module_version": "1.1.0",
      "model_name": "LayoutModel",
      "state": {}
     },
     "5de9a778360a49198d5e6e1e23bc58d3": {
      "model_module": "@jupyter-widgets/controls",
      "model_module_version": "1.4.0",
      "model_name": "VBoxModel",
      "state": {
       "children": [
        "IPY_MODEL_7de4c30003744cce8d20d24d1bf5bb23",
        "IPY_MODEL_882808f04e1648329b3ae5a769379755"
       ],
       "layout": "IPY_MODEL_22d7fc6100c34ec68f93bd5a4fa77bce"
      }
     },
     "5e00d94431b1401bba0ff47010421a7a": {
      "model_module": "@jupyter-widgets/controls",
      "model_module_version": "1.4.0",
      "model_name": "DescriptionStyleModel",
      "state": {
       "description_width": ""
      }
     },
     "5e19f43ea55f42219de81bad36116894": {
      "model_module": "@jupyter-widgets/controls",
      "model_module_version": "1.4.0",
      "model_name": "DescriptionStyleModel",
      "state": {
       "description_width": ""
      }
     },
     "5e5ca3c81ee24215909e7e2b23040bdd": {
      "model_module": "@jupyter-widgets/base",
      "model_module_version": "1.1.0",
      "model_name": "LayoutModel",
      "state": {}
     },
     "5e837cafb6a844dd926b00ccdd43440d": {
      "model_module": "@jupyter-widgets/base",
      "model_module_version": "1.1.0",
      "model_name": "LayoutModel",
      "state": {}
     },
     "5e9531f6af9b44a5acb5ee578ef622a0": {
      "model_module": "@jupyter-widgets/controls",
      "model_module_version": "1.4.0",
      "model_name": "DescriptionStyleModel",
      "state": {
       "description_width": ""
      }
     },
     "5e97027777614640b556526766aab474": {
      "model_module": "@jupyter-widgets/controls",
      "model_module_version": "1.4.0",
      "model_name": "DescriptionStyleModel",
      "state": {
       "description_width": ""
      }
     },
     "5f4fd9d6e5fc4790959289c680e862cf": {
      "model_module": "@jupyter-widgets/controls",
      "model_module_version": "1.4.0",
      "model_name": "LabelModel",
      "state": {
       "layout": "IPY_MODEL_3233aafe18be46e7a62f972550b668ba",
       "style": "IPY_MODEL_cb9817ceda68404cbe65210d6c0e84ad",
       "value": "Aa's eigs:"
      }
     },
     "5f6179517cf942c9a57020ef64c975a6": {
      "model_module": "@jupyter-widgets/controls",
      "model_module_version": "1.4.0",
      "model_name": "VBoxModel",
      "state": {
       "children": [
        "IPY_MODEL_0a176961dc994c7d85ace2bb0be6e5fc"
       ],
       "layout": "IPY_MODEL_2f9198fbd0b341cf8d4432260b3fa514"
      }
     },
     "5fd329d9eb304ad5a6bce400ae2719bd": {
      "model_module": "@jupyter-widgets/base",
      "model_module_version": "1.1.0",
      "model_name": "LayoutModel",
      "state": {}
     },
     "6011560492ab4e37a4c7bf6ef2fe9c23": {
      "model_module": "@jupyter-widgets/controls",
      "model_module_version": "1.4.0",
      "model_name": "FloatTextModel",
      "state": {
       "layout": "IPY_MODEL_caa6f261eca948c6b258eef4da69c2e3",
       "step": null,
       "style": "IPY_MODEL_565da34ae18a4fc786b756dafbc04788"
      }
     },
     "602f92a285884868bacf7120c085d472": {
      "model_module": "@jupyter-widgets/controls",
      "model_module_version": "1.4.0",
      "model_name": "DescriptionStyleModel",
      "state": {
       "description_width": ""
      }
     },
     "60b41869c40d4bd39090be64275ae341": {
      "model_module": "@jupyter-widgets/base",
      "model_module_version": "1.1.0",
      "model_name": "LayoutModel",
      "state": {}
     },
     "60cdc74037934e1eb900c2994a7fd6fa": {
      "model_module": "@jupyter-widgets/base",
      "model_module_version": "1.1.0",
      "model_name": "LayoutModel",
      "state": {}
     },
     "6157e5ac18a04380bfcdf3e5360c1f10": {
      "model_module": "@jupyter-widgets/controls",
      "model_module_version": "1.4.0",
      "model_name": "FloatTextModel",
      "state": {
       "disabled": true,
       "layout": "IPY_MODEL_4e79a7019f0e46f1b434fef2c9d752a4",
       "step": null,
       "style": "IPY_MODEL_74043b22bf0a41998bb66498b4bef156",
       "value": -0.6
      }
     },
     "61c6a8a15add4ded9fd4e987a755ab38": {
      "model_module": "@jupyter-widgets/controls",
      "model_module_version": "1.4.0",
      "model_name": "HBoxModel",
      "state": {
       "children": [
        "IPY_MODEL_4b0f91c2788d4bc5b8ba3927f6b2b871",
        "IPY_MODEL_9c5f455366254c98bcb2a632ba62746f",
        "IPY_MODEL_99e3340dccac4f1a9ed489a4bb4d53b8"
       ],
       "layout": "IPY_MODEL_7a5bb58e5cf945d5883300d227b2e802"
      }
     },
     "628ee5ba78994b169e2e9670c25e3f71": {
      "model_module": "@jupyter-widgets/controls",
      "model_module_version": "1.4.0",
      "model_name": "DescriptionStyleModel",
      "state": {
       "description_width": ""
      }
     },
     "62d546d4642b403fb7e1f9e62e818f03": {
      "model_module": "@jupyter-widgets/base",
      "model_module_version": "1.1.0",
      "model_name": "LayoutModel",
      "state": {}
     },
     "62df66a2062b4fb6b65a3ec5bd498614": {
      "model_module": "@jupyter-widgets/base",
      "model_module_version": "1.1.0",
      "model_name": "LayoutModel",
      "state": {
       "width": "90px"
      }
     },
     "6313022924144436af1f7f4cd8e9779c": {
      "model_module": "@jupyter-widgets/controls",
      "model_module_version": "1.4.0",
      "model_name": "FloatTextModel",
      "state": {
       "layout": "IPY_MODEL_3b285e8c99594a9d846cf082b34290f0",
       "step": null,
       "style": "IPY_MODEL_e4959a4ff1d6428da5531fb2bf42b5eb",
       "value": -10
      }
     },
     "63256349f2f3454c8059f5412b0862a7": {
      "model_module": "@jupyter-widgets/base",
      "model_module_version": "1.1.0",
      "model_name": "LayoutModel",
      "state": {}
     },
     "637824522a5343b0944c5428ef57aa0e": {
      "model_module": "@jupyter-widgets/base",
      "model_module_version": "1.1.0",
      "model_name": "LayoutModel",
      "state": {}
     },
     "6379b256d4304329ae701b41c39b671f": {
      "model_module": "@jupyter-widgets/controls",
      "model_module_version": "1.4.0",
      "model_name": "LabelModel",
      "state": {
       "layout": "IPY_MODEL_00bcf6e5f88d4478b2238275ce14a469",
       "style": "IPY_MODEL_67c65455a284481fb5d3debce14b1bda"
      }
     },
     "63bd776089dc4508bd21c8789ad803bb": {
      "model_module": "@jupyter-widgets/controls",
      "model_module_version": "1.4.0",
      "model_name": "DescriptionStyleModel",
      "state": {
       "description_width": ""
      }
     },
     "63f8d3b2a0994c6a87843ac859f6b4cf": {
      "model_module": "@jupyter-widgets/controls",
      "model_module_version": "1.4.0",
      "model_name": "DropdownModel",
      "state": {
       "_options_labels": [
        "Set Ka and La",
        "Set the eigenvalues"
       ],
       "index": 0,
       "layout": "IPY_MODEL_a4d1a29d08444259bc6ac049b78ec661",
       "style": "IPY_MODEL_8049641b56e14f94a6cdc101f458c699"
      }
     },
     "64201b9e59164194b1346370c1c83cd4": {
      "model_module": "@jupyter-widgets/base",
      "model_module_version": "1.1.0",
      "model_name": "LayoutModel",
      "state": {}
     },
     "644ddd72b7234e6c90b95fcc50538cd5": {
      "model_module": "@jupyter-widgets/controls",
      "model_module_version": "1.4.0",
      "model_name": "ButtonModel",
      "state": {
       "description": "Test",
       "icon": "check",
       "layout": "IPY_MODEL_37ecefc90ca24246a5e1f966458ec837",
       "style": "IPY_MODEL_5b2fc3f1aef246b3b6b674a954b252c7",
       "tooltip": "Test"
      }
     },
     "652517d930ef4076ae1a91b0e2a3be6c": {
      "model_module": "@jupyter-widgets/controls",
      "model_module_version": "1.4.0",
      "model_name": "DescriptionStyleModel",
      "state": {
       "description_width": ""
      }
     },
     "65deab75d13c4bf1bef36f3c38182f6b": {
      "model_module": "@jupyter-widgets/controls",
      "model_module_version": "1.4.0",
      "model_name": "DescriptionStyleModel",
      "state": {
       "description_width": ""
      }
     },
     "6672827f1251434cafa61ba9bb202373": {
      "model_module": "@jupyter-widgets/base",
      "model_module_version": "1.1.0",
      "model_name": "LayoutModel",
      "state": {}
     },
     "668d43e659984f9c83d702a230efee49": {
      "model_module": "@jupyter-widgets/base",
      "model_module_version": "1.1.0",
      "model_name": "LayoutModel",
      "state": {
       "width": "90px"
      }
     },
     "66b0c1e2ed6d42b4934c79d6d7cb6bc6": {
      "model_module": "@jupyter-widgets/controls",
      "model_module_version": "1.4.0",
      "model_name": "DescriptionStyleModel",
      "state": {
       "description_width": ""
      }
     },
     "678800f9d35b4543892ff9d4b8c3009b": {
      "model_module": "@jupyter-widgets/controls",
      "model_module_version": "1.4.0",
      "model_name": "FloatTextModel",
      "state": {
       "layout": "IPY_MODEL_69bc40c1e3664a96baf1c35ecb11fd7d",
       "step": null,
       "style": "IPY_MODEL_c7b00e61644b476db2435289f46ce89e"
      }
     },
     "67a96f99e9b841eaaff526b823dd21aa": {
      "model_module": "@jupyter-widgets/controls",
      "model_module_version": "1.4.0",
      "model_name": "LabelModel",
      "state": {
       "layout": "IPY_MODEL_01dc0a5c652f458280935dd0ec1df02e",
       "style": "IPY_MODEL_885e5afc93a543b28ab8ce2723aba576"
      }
     },
     "67c65455a284481fb5d3debce14b1bda": {
      "model_module": "@jupyter-widgets/controls",
      "model_module_version": "1.4.0",
      "model_name": "DescriptionStyleModel",
      "state": {
       "description_width": ""
      }
     },
     "67eca683eeac421c9b2621d685db768f": {
      "model_module": "@jupyter-widgets/controls",
      "model_module_version": "1.4.0",
      "model_name": "LabelModel",
      "state": {
       "layout": "IPY_MODEL_3fb718490de04afca4411b2acf4987e6",
       "style": "IPY_MODEL_54be1d26068e4711a23c153183b65073",
       "value": "La:"
      }
     },
     "67fdcd9c576d486ab16af60e71f00dec": {
      "model_module": "@jupyter-widgets/base",
      "model_module_version": "1.1.0",
      "model_name": "LayoutModel",
      "state": {}
     },
     "6813d187c1be497cb6ed99d0f1315fb5": {
      "model_module": "@jupyter-widgets/controls",
      "model_module_version": "1.4.0",
      "model_name": "LabelModel",
      "state": {
       "layout": "IPY_MODEL_acce651c42c84a9894a543393f8a167c",
       "style": "IPY_MODEL_286c6d083d32468c8da6d9a651c6a4cb"
      }
     },
     "68537adbed234b189596496e5d19778e": {
      "model_module": "@jupyter-widgets/controls",
      "model_module_version": "1.4.0",
      "model_name": "DescriptionStyleModel",
      "state": {
       "description_width": ""
      }
     },
     "68cb20eccc494d0e897dfcc89aa2b844": {
      "model_module": "@jupyter-widgets/controls",
      "model_module_version": "1.4.0",
      "model_name": "FloatTextModel",
      "state": {
       "layout": "IPY_MODEL_de50dcc76518449ca4190d0da5b78f9d",
       "step": null,
       "style": "IPY_MODEL_19b8bdf890664f71885c84f552c3f3c0",
       "value": -1
      }
     },
     "68d3152ea522432d8b26d8ef18d3a3f0": {
      "model_module": "@jupyter-widgets/base",
      "model_module_version": "1.1.0",
      "model_name": "LayoutModel",
      "state": {
       "width": "90px"
      }
     },
     "690061d224354464bbf9acac7d551e8b": {
      "model_module": "@jupyter-widgets/controls",
      "model_module_version": "1.4.0",
      "model_name": "DescriptionStyleModel",
      "state": {
       "description_width": ""
      }
     },
     "694dd07aee66466bb45bfff329e60483": {
      "model_module": "@jupyter-widgets/base",
      "model_module_version": "1.1.0",
      "model_name": "LayoutModel",
      "state": {}
     },
     "69596f18125f465a842253c4a56b8254": {
      "model_module": "@jupyter-widgets/controls",
      "model_module_version": "1.4.0",
      "model_name": "DescriptionStyleModel",
      "state": {
       "description_width": ""
      }
     },
     "699c82ce7721494b827c9191334677f0": {
      "model_module": "@jupyter-widgets/base",
      "model_module_version": "1.1.0",
      "model_name": "LayoutModel",
      "state": {}
     },
     "69bc40c1e3664a96baf1c35ecb11fd7d": {
      "model_module": "@jupyter-widgets/base",
      "model_module_version": "1.1.0",
      "model_name": "LayoutModel",
      "state": {
       "width": "90px"
      }
     },
     "6a7a36202cba49eb8397c164b18c614b": {
      "model_module": "@jupyter-widgets/base",
      "model_module_version": "1.1.0",
      "model_name": "LayoutModel",
      "state": {}
     },
     "6aa250d5c0944d639991a61220a87849": {
      "model_module": "@jupyter-widgets/base",
      "model_module_version": "1.1.0",
      "model_name": "LayoutModel",
      "state": {}
     },
     "6b1eb3d2914f436ebdc338c44a701edf": {
      "model_module": "@jupyter-widgets/base",
      "model_module_version": "1.1.0",
      "model_name": "LayoutModel",
      "state": {}
     },
     "6b9803e06bfc477592188dfb15adc5d6": {
      "model_module": "@jupyter-widgets/controls",
      "model_module_version": "1.4.0",
      "model_name": "HBoxModel",
      "state": {
       "children": [
        "IPY_MODEL_c8e3b70f79e64a5a899729030d7b6963"
       ],
       "layout": "IPY_MODEL_67fdcd9c576d486ab16af60e71f00dec"
      }
     },
     "6bdb46374a01452f878caf37f3b7dc57": {
      "model_module": "@jupyter-widgets/base",
      "model_module_version": "1.1.0",
      "model_name": "LayoutModel",
      "state": {}
     },
     "6c5bde8b5bac48509228c5bee9f36bbd": {
      "model_module": "@jupyter-widgets/base",
      "model_module_version": "1.1.0",
      "model_name": "LayoutModel",
      "state": {}
     },
     "6caafdd1e1cd4b19a7eeab28deadac64": {
      "model_module": "@jupyter-widgets/controls",
      "model_module_version": "1.4.0",
      "model_name": "HBoxModel",
      "state": {
       "children": [
        "IPY_MODEL_faefe63476c24a01aaf13a0d22a20e41",
        "IPY_MODEL_e5ea03176a6d413cbda448812f9f9fac",
        "IPY_MODEL_795fd5c2cf384cbc84210d4663ce475b"
       ],
       "layout": "IPY_MODEL_50b250cd0c344a809899fa9c03f47e6c"
      }
     },
     "6ccca8cd1dd94a44bbc5840816353ae3": {
      "model_module": "@jupyter-widgets/controls",
      "model_module_version": "1.4.0",
      "model_name": "FloatTextModel",
      "state": {
       "disabled": true,
       "layout": "IPY_MODEL_4a170c180505407b9ea430c1cd492f2c",
       "step": null,
       "style": "IPY_MODEL_3a6b565f3ce4429b83a21e3d564ff894",
       "value": -0.35
      }
     },
     "6d50e2c21b10474f969fa3e17a94ff8c": {
      "model_module": "@jupyter-widgets/controls",
      "model_module_version": "1.4.0",
      "model_name": "SliderStyleModel",
      "state": {
       "description_width": ""
      }
     },
     "6d68637432684016b0727f506afe0df5": {
      "model_module": "@jupyter-widgets/controls",
      "model_module_version": "1.4.0",
      "model_name": "VBoxModel",
      "state": {
       "children": [
        "IPY_MODEL_6b9803e06bfc477592188dfb15adc5d6"
       ],
       "layout": "IPY_MODEL_90b70496121147c0a1e387dee2f323b8"
      }
     },
     "6db5adb08c1948be8929194ebea1a7e7": {
      "model_module": "@jupyter-widgets/controls",
      "model_module_version": "1.4.0",
      "model_name": "FloatTextModel",
      "state": {
       "layout": "IPY_MODEL_43501d55a4fd47a6b16ef8b1b85e7d65",
       "step": null,
       "style": "IPY_MODEL_86f0283019914320900a091de5704fd1",
       "value": -1
      }
     },
     "6e7e97282d8646a99e47bb6ba752331d": {
      "model_module": "@jupyter-widgets/controls",
      "model_module_version": "1.4.0",
      "model_name": "LabelModel",
      "state": {
       "layout": "IPY_MODEL_52acf9658bbb43a0bb470d183fef21f7",
       "style": "IPY_MODEL_d27c9566e96940a7806b2168e19f1ce9"
      }
     },
     "6ebbbf84215946a39d42606ed8a7c1f2": {
      "model_module": "@jupyter-widgets/controls",
      "model_module_version": "1.4.0",
      "model_name": "FloatTextModel",
      "state": {
       "layout": "IPY_MODEL_184b23bb39dd4047977c1005e03a95c0",
       "step": null,
       "style": "IPY_MODEL_0c7ccc0d90d14893a1798e9bec0ccfad",
       "value": -13.333333333333334
      }
     },
     "6ebe86c6b2624222a1c2427ed2c6bb6e": {
      "model_module": "@jupyter-widgets/base",
      "model_module_version": "1.1.0",
      "model_name": "LayoutModel",
      "state": {}
     },
     "6ed5ec8dc40b4d3cb6058441525e4f2d": {
      "model_module": "@jupyter-widgets/base",
      "model_module_version": "1.1.0",
      "model_name": "LayoutModel",
      "state": {
       "width": "90px"
      }
     },
     "6f10c2a2cc4f4d5cb7cd361d5fd117bb": {
      "model_module": "@jupyter-widgets/base",
      "model_module_version": "1.1.0",
      "model_name": "LayoutModel",
      "state": {}
     },
     "6f3325c696374e7ba2fefe95a423c990": {
      "model_module": "@jupyter-widgets/base",
      "model_module_version": "1.1.0",
      "model_name": "LayoutModel",
      "state": {}
     },
     "6f5919fe2a494d8092c2b109d3cb8dff": {
      "model_module": "@jupyter-widgets/controls",
      "model_module_version": "1.4.0",
      "model_name": "LabelModel",
      "state": {
       "layout": "IPY_MODEL_91f3e31e4795465f9f5adb9155b2d603",
       "style": "IPY_MODEL_e7631457cbcc4012bd350f9a84cef00c"
      }
     },
     "6f5b16ca245c4071ab3278214307b695": {
      "model_module": "@jupyter-widgets/base",
      "model_module_version": "1.1.0",
      "model_name": "LayoutModel",
      "state": {}
     },
     "6f85f9a4db194b509b78ff37a0f3f35a": {
      "model_module": "@jupyter-widgets/controls",
      "model_module_version": "1.4.0",
      "model_name": "HBoxModel",
      "state": {
       "children": [
        "IPY_MODEL_ef1dd140766840bb8e931471f5f301c9"
       ],
       "layout": "IPY_MODEL_0fdc2e9573724ffca381dcdc06cfb1b0"
      }
     },
     "703688b40d404ccbae95be27274af0cd": {
      "model_module": "@jupyter-widgets/controls",
      "model_module_version": "1.4.0",
      "model_name": "HBoxModel",
      "state": {
       "children": [
        "IPY_MODEL_554aed59f6334683b982c0431b17c297",
        "IPY_MODEL_9efb9c3136cb4814bbbbb397033e6d24",
        "IPY_MODEL_171a1b1507054bbfbefb5a2121471844"
       ],
       "layout": "IPY_MODEL_30c069a9f1e64b8fa42c228c79bc01d4"
      }
     },
     "70d8d323e1e7445ea9fe3e32ee56bd7f": {
      "model_module": "@jupyter-widgets/base",
      "model_module_version": "1.1.0",
      "model_name": "LayoutModel",
      "state": {}
     },
     "728c92f846734c939fcd10d6e4ef68e3": {
      "model_module": "@jupyter-widgets/controls",
      "model_module_version": "1.4.0",
      "model_name": "DescriptionStyleModel",
      "state": {
       "description_width": ""
      }
     },
     "7293c820e63d4fa5a06348c87ef770e1": {
      "model_module": "@jupyter-widgets/controls",
      "model_module_version": "1.4.0",
      "model_name": "LabelModel",
      "state": {
       "layout": "IPY_MODEL_b7e50fc8f17b4abca78f401029a01bc2",
       "style": "IPY_MODEL_db0dab36d9de4171987fb292d7f515ea",
       "value": "La:"
      }
     },
     "72a35b0bc2d9418bb099da42dd65c976": {
      "model_module": "@jupyter-widgets/controls",
      "model_module_version": "1.4.0",
      "model_name": "DescriptionStyleModel",
      "state": {
       "description_width": ""
      }
     },
     "72d88d2553ac41c4ac690fe0e067324e": {
      "model_module": "@jupyter-widgets/base",
      "model_module_version": "1.1.0",
      "model_name": "LayoutModel",
      "state": {}
     },
     "72e031c0e7e349a0b081d2221742bd29": {
      "model_module": "@jupyter-widgets/base",
      "model_module_version": "1.1.0",
      "model_name": "LayoutModel",
      "state": {
       "width": "90px"
      }
     },
     "72e8f2c8610c47fd8096faa84eb921f8": {
      "model_module": "@jupyter-widgets/controls",
      "model_module_version": "1.4.0",
      "model_name": "LabelModel",
      "state": {
       "layout": "IPY_MODEL_0412e3d10df841038ecf3f8250e2b120",
       "style": "IPY_MODEL_0137a8c0e143408997be4713d0929fd0"
      }
     },
     "7371a287f94840aa829ef2d8d94c4853": {
      "model_module": "@jupyter-widgets/base",
      "model_module_version": "1.1.0",
      "model_name": "LayoutModel",
      "state": {}
     },
     "74043b22bf0a41998bb66498b4bef156": {
      "model_module": "@jupyter-widgets/controls",
      "model_module_version": "1.4.0",
      "model_name": "DescriptionStyleModel",
      "state": {
       "description_width": ""
      }
     },
     "74b2c32160214088bd33ae84127e92bc": {
      "model_module": "@jupyter-widgets/base",
      "model_module_version": "1.1.0",
      "model_name": "LayoutModel",
      "state": {
       "width": "90px"
      }
     },
     "74c94f204a60426bb3deb13977d4a89b": {
      "model_module": "@jupyter-widgets/controls",
      "model_module_version": "1.4.0",
      "model_name": "FloatTextModel",
      "state": {
       "layout": "IPY_MODEL_fdc20dbc4d12432c889e338ca9f4f2e0",
       "step": null,
       "style": "IPY_MODEL_075ef8840b254dfe8e812d7716b6f101",
       "value": -1
      }
     },
     "751f4dd6192f4b71b9ffc8b626f4ab84": {
      "model_module": "@jupyter-widgets/controls",
      "model_module_version": "1.4.0",
      "model_name": "HBoxModel",
      "state": {
       "children": [
        "IPY_MODEL_3967a131ab114f1d903a90585ec37c1b"
       ],
       "layout": "IPY_MODEL_edf2c458601a4c2986e9084a559dcd3a"
      }
     },
     "754e87a1a8c54875b3b917f54d2c9b58": {
      "model_module": "@jupyter-widgets/controls",
      "model_module_version": "1.4.0",
      "model_name": "DescriptionStyleModel",
      "state": {
       "description_width": ""
      }
     },
     "7571abb03f0040679517c6245bf38472": {
      "model_module": "@jupyter-widgets/controls",
      "model_module_version": "1.4.0",
      "model_name": "FloatTextModel",
      "state": {
       "layout": "IPY_MODEL_1356dd4e149949aa8da63f5c73164b03",
       "step": null,
       "style": "IPY_MODEL_5110c78f84674366b27efb186b131882",
       "value": 6244
      }
     },
     "75b5652b09e4461cb6a99471967a68ea": {
      "model_module": "@jupyter-widgets/controls",
      "model_module_version": "1.4.0",
      "model_name": "DescriptionStyleModel",
      "state": {
       "description_width": ""
      }
     },
     "75eb8481312149b8a778baff39c99828": {
      "model_module": "@jupyter-widgets/controls",
      "model_module_version": "1.4.0",
      "model_name": "DescriptionStyleModel",
      "state": {
       "description_width": ""
      }
     },
     "76017c8704c44e04825f3e352bacd669": {
      "model_module": "@jupyter-widgets/controls",
      "model_module_version": "1.4.0",
      "model_name": "DescriptionStyleModel",
      "state": {
       "description_width": ""
      }
     },
     "7637a14720e140b2bcd66ed4939ec5a9": {
      "model_module": "@jupyter-widgets/controls",
      "model_module_version": "1.4.0",
      "model_name": "HBoxModel",
      "state": {
       "children": [
        "IPY_MODEL_63f8d3b2a0994c6a87843ac859f6b4cf",
        "IPY_MODEL_d9674b7571de42baa745dd6b7c6ecbe8",
        "IPY_MODEL_b5581d35824c472bb9eaac0a5762f404"
       ],
       "layout": "IPY_MODEL_eed4b893f8914ebb9d38fb0d061e5369"
      }
     },
     "770bc17e71b2425a9baa0f95f322df5b": {
      "model_module": "@jupyter-widgets/base",
      "model_module_version": "1.1.0",
      "model_name": "LayoutModel",
      "state": {}
     },
     "77216fe31d084b58b18e146e8a6b8be1": {
      "model_module": "@jupyter-widgets/base",
      "model_module_version": "1.1.0",
      "model_name": "LayoutModel",
      "state": {}
     },
     "775ff011a0444c48b7e5fea4746a0b23": {
      "model_module": "@jupyter-widgets/controls",
      "model_module_version": "1.4.0",
      "model_name": "DescriptionStyleModel",
      "state": {
       "description_width": ""
      }
     },
     "7799c212da6243439092d8e652f3343a": {
      "model_module": "@jupyter-widgets/base",
      "model_module_version": "1.1.0",
      "model_name": "LayoutModel",
      "state": {}
     },
     "779c0d356e134116a834edf79e733609": {
      "model_module": "@jupyter-widgets/controls",
      "model_module_version": "1.4.0",
      "model_name": "DescriptionStyleModel",
      "state": {
       "description_width": ""
      }
     },
     "78331c89a55344a69e9fb04c10aee086": {
      "model_module": "@jupyter-widgets/controls",
      "model_module_version": "1.4.0",
      "model_name": "ButtonModel",
      "state": {
       "description": "Test",
       "icon": "check",
       "layout": "IPY_MODEL_a2ad8cd0ada14749b6cff38db8256c77",
       "style": "IPY_MODEL_7e93ef2d8c064e21ae0329b1f49e0037",
       "tooltip": "Test"
      }
     },
     "784694adeef14254b06506b91ca25387": {
      "model_module": "@jupyter-widgets/controls",
      "model_module_version": "1.4.0",
      "model_name": "FloatTextModel",
      "state": {
       "layout": "IPY_MODEL_e02b4d0e91cd456eb60b5d5243ba5cb5",
       "step": null,
       "style": "IPY_MODEL_b735c37b54aa43c8a0944fb020c85b42",
       "value": 316
      }
     },
     "78e0cf59f666429ba0b284f17cd837f0": {
      "model_module": "@jupyter-widgets/controls",
      "model_module_version": "1.4.0",
      "model_name": "DescriptionStyleModel",
      "state": {
       "description_width": ""
      }
     },
     "78e89fda875349468498d5f62b2914a0": {
      "model_module": "@jupyter-widgets/controls",
      "model_module_version": "1.4.0",
      "model_name": "DescriptionStyleModel",
      "state": {
       "description_width": ""
      }
     },
     "78faa778293e4233bc1fa7fd155fb559": {
      "model_module": "@jupyter-widgets/base",
      "model_module_version": "1.1.0",
      "model_name": "LayoutModel",
      "state": {}
     },
     "791fe235250446a6a034c1a07655e400": {
      "model_module": "@jupyter-widgets/base",
      "model_module_version": "1.1.0",
      "model_name": "LayoutModel",
      "state": {}
     },
     "7922325f544a4df3b7a664440ab450f3": {
      "model_module": "@jupyter-widgets/controls",
      "model_module_version": "1.4.0",
      "model_name": "DescriptionStyleModel",
      "state": {
       "description_width": ""
      }
     },
     "7959bdda77b0475b8c3a81a8686baf94": {
      "model_module": "@jupyter-widgets/controls",
      "model_module_version": "1.4.0",
      "model_name": "DescriptionStyleModel",
      "state": {
       "description_width": ""
      }
     },
     "795fd5c2cf384cbc84210d4663ce475b": {
      "model_module": "@jupyter-widgets/controls",
      "model_module_version": "1.4.0",
      "model_name": "DropdownModel",
      "state": {
       "_options_labels": [
        "0 complex eigenvalues",
        "2 complex eigenvalues"
       ],
       "description": "Aobs:",
       "disabled": true,
       "index": 0,
       "layout": "IPY_MODEL_ae2970f665224c9fbc4420c1cffb665d",
       "style": "IPY_MODEL_fe72029372074064a0a2d7f32b95cc43"
      }
     },
     "79f34c11930f44ef87434b7bbc4a62a2": {
      "model_module": "@jupyter-widgets/controls",
      "model_module_version": "1.4.0",
      "model_name": "FloatTextModel",
      "state": {
       "layout": "IPY_MODEL_c292b8874c4f4bcebed1c9a360df2964",
       "step": null,
       "style": "IPY_MODEL_f0784b65c1cf46f9af5e149ad2e1bf93",
       "value": -1
      }
     },
     "7a2c5d36b676498d86709b794261b2e5": {
      "model_module": "@jupyter-widgets/controls",
      "model_module_version": "1.4.0",
      "model_name": "VBoxModel",
      "state": {
       "children": [
        "IPY_MODEL_8b38ec716be944e0b46bf019ffd46326"
       ],
       "layout": "IPY_MODEL_1305375218104eaf84b665587f869b4a"
      }
     },
     "7a5bb58e5cf945d5883300d227b2e802": {
      "model_module": "@jupyter-widgets/base",
      "model_module_version": "1.1.0",
      "model_name": "LayoutModel",
      "state": {}
     },
     "7a5fad3a8ed14b8c8672e83a713b5ee7": {
      "model_module": "@jupyter-widgets/base",
      "model_module_version": "1.1.0",
      "model_name": "LayoutModel",
      "state": {}
     },
     "7a86b8685c0d4d4ab4dfd942b31e689e": {
      "model_module": "@jupyter-widgets/controls",
      "model_module_version": "1.4.0",
      "model_name": "DescriptionStyleModel",
      "state": {
       "description_width": ""
      }
     },
     "7a9f39ecd9174a5a8dc508b3f593a736": {
      "model_module": "@jupyter-widgets/base",
      "model_module_version": "1.1.0",
      "model_name": "LayoutModel",
      "state": {
       "width": "90px"
      }
     },
     "7acc1d43c7b04f48ada380ce26debb40": {
      "model_module": "@jupyter-widgets/controls",
      "model_module_version": "1.4.0",
      "model_name": "LabelModel",
      "state": {
       "layout": "IPY_MODEL_af33c6205ab247349a81557418e23272",
       "style": "IPY_MODEL_3560f888f8714d7380f8ec397da7b315"
      }
     },
     "7b620fcf26764dc59856cf8c17e225c6": {
      "model_module": "@jupyter-widgets/base",
      "model_module_version": "1.1.0",
      "model_name": "LayoutModel",
      "state": {}
     },
     "7b6fe30e232e400583497734a4b6a5c7": {
      "model_module": "@jupyter-widgets/controls",
      "model_module_version": "1.4.0",
      "model_name": "ButtonStyleModel",
      "state": {}
     },
     "7bcae1bb58ed4f80aad0ed229811dd6f": {
      "model_module": "@jupyter-widgets/controls",
      "model_module_version": "1.4.0",
      "model_name": "DescriptionStyleModel",
      "state": {
       "description_width": ""
      }
     },
     "7bec55103402411195944e1352e9ee8f": {
      "model_module": "@jupyter-widgets/controls",
      "model_module_version": "1.4.0",
      "model_name": "FloatTextModel",
      "state": {
       "layout": "IPY_MODEL_68d3152ea522432d8b26d8ef18d3a3f0",
       "step": null,
       "style": "IPY_MODEL_da90a50bcb3b4b1ab14fcb5e9ddde844",
       "value": -66.66666666666667
      }
     },
     "7c71e94f7fd8465382677754c8e6a982": {
      "model_module": "@jupyter-widgets/base",
      "model_module_version": "1.1.0",
      "model_name": "LayoutModel",
      "state": {}
     },
     "7c92b5b89e8b44fc9d282249225339c6": {
      "model_module": "@jupyter-widgets/controls",
      "model_module_version": "1.4.0",
      "model_name": "HBoxModel",
      "state": {
       "children": [
        "IPY_MODEL_74c94f204a60426bb3deb13977d4a89b"
       ],
       "layout": "IPY_MODEL_5d4ef33cadc94f08ace19b791efefc1e"
      }
     },
     "7d01dc2c0b4d48d98e763efa1f17a404": {
      "model_module": "@jupyter-widgets/controls",
      "model_module_version": "1.4.0",
      "model_name": "LabelModel",
      "state": {
       "layout": "IPY_MODEL_ace5b89dbb38430baaca9d95f8928041",
       "style": "IPY_MODEL_ba39f17a808848619246755a9efb4013"
      }
     },
     "7d2ee53e7c144fdb9bf865c1baf9fe1e": {
      "model_module": "@jupyter-widgets/controls",
      "model_module_version": "1.4.0",
      "model_name": "HBoxModel",
      "state": {
       "children": [
        "IPY_MODEL_0aa0bfe4046d4bbd9e3b8fc7e923c19e",
        "IPY_MODEL_eb895777800d4b5dad6593c98477136a",
        "IPY_MODEL_59ec2c46649641599ebed481a8758b4f",
        "IPY_MODEL_6379b256d4304329ae701b41c39b671f",
        "IPY_MODEL_a33161fb781f43298700965957684f1e"
       ],
       "layout": "IPY_MODEL_15cf45b6a5954be0ac6b6415d1d48bca"
      }
     },
     "7d35e7ff219645d8928897423c98458f": {
      "model_module": "@jupyter-widgets/controls",
      "model_module_version": "1.4.0",
      "model_name": "HBoxModel",
      "state": {
       "children": [
        "IPY_MODEL_093f7ad7ff10484c9dc83f64e83edf68",
        "IPY_MODEL_d15a903d9d274ec1921c31e4c33039b4",
        "IPY_MODEL_eda9ff75f90e4e86815627781902014a"
       ],
       "layout": "IPY_MODEL_955a72f962644df8bea0b03467a6d2e3"
      }
     },
     "7d56c23f8f9747278ec3ee7edb579413": {
      "model_module": "@jupyter-widgets/output",
      "model_module_version": "1.0.0",
      "model_name": "OutputModel",
      "state": {
       "layout": "IPY_MODEL_9a5f4e5b037a43a9b59844db56f0835f",
       "outputs": [
        {
         "name": "stdout",
         "output_type": "stream",
         "text": "The Aa's eigenvalues are: -2.24+2.23j, -2.24+-2.23j, -0.28+0.00j, -0.26+0.32j and -0.26+-0.32j\nThe observer\\s eigenvalues are: -10.00+0.00j and -10.00+0.00j\n"
        }
       ]
      }
     },
     "7d6a609ca45c4507b010733c5e884ae6": {
      "model_module": "@jupyter-widgets/controls",
      "model_module_version": "1.4.0",
      "model_name": "DescriptionStyleModel",
      "state": {
       "description_width": ""
      }
     },
     "7da585dfee764bdb8782ac35b6e142c6": {
      "model_module": "@jupyter-widgets/controls",
      "model_module_version": "1.4.0",
      "model_name": "DescriptionStyleModel",
      "state": {
       "description_width": ""
      }
     },
     "7de4c30003744cce8d20d24d1bf5bb23": {
      "model_module": "@jupyter-widgets/controls",
      "model_module_version": "1.4.0",
      "model_name": "HBoxModel",
      "state": {
       "children": [
        "IPY_MODEL_fe8d4c19a86346019352770ba2a10a08"
       ],
       "layout": "IPY_MODEL_14ee82ae6a44446aaf4a813482e9e609"
      }
     },
     "7e247cd9b0e54844af224969b6c41f28": {
      "model_module": "@jupyter-widgets/controls",
      "model_module_version": "1.4.0",
      "model_name": "LabelModel",
      "state": {
       "layout": "IPY_MODEL_8c6ff49f59ac4ae19bf1989f184e29e9",
       "style": "IPY_MODEL_4ef500d8895b4bd3a5e040da5cad74a7"
      }
     },
     "7e442b8c4332480e8548cbdceab3a51f": {
      "model_module": "@jupyter-widgets/base",
      "model_module_version": "1.1.0",
      "model_name": "LayoutModel",
      "state": {}
     },
     "7e4e7d01deec4ad28120e3a5353c32be": {
      "model_module": "@jupyter-widgets/controls",
      "model_module_version": "1.4.0",
      "model_name": "HBoxModel",
      "state": {
       "children": [
        "IPY_MODEL_d4a0305616f9402ea84a9e8b0e1fae85"
       ],
       "layout": "IPY_MODEL_f86ef0c63af448cbba07abd5003acb2c"
      }
     },
     "7e93ef2d8c064e21ae0329b1f49e0037": {
      "model_module": "@jupyter-widgets/controls",
      "model_module_version": "1.4.0",
      "model_name": "ButtonStyleModel",
      "state": {}
     },
     "7ebbc139ae8c405bbaa34222e70c1838": {
      "model_module": "@jupyter-widgets/controls",
      "model_module_version": "1.4.0",
      "model_name": "DescriptionStyleModel",
      "state": {
       "description_width": ""
      }
     },
     "7ee747b400ad462e8ac9835d6e19339a": {
      "model_module": "@jupyter-widgets/controls",
      "model_module_version": "1.4.0",
      "model_name": "DescriptionStyleModel",
      "state": {
       "description_width": ""
      }
     },
     "7f7d8c159bdc42c3aeffdc050655131b": {
      "model_module": "@jupyter-widgets/controls",
      "model_module_version": "1.4.0",
      "model_name": "FloatTextModel",
      "state": {
       "layout": "IPY_MODEL_72e031c0e7e349a0b081d2221742bd29",
       "step": null,
       "style": "IPY_MODEL_b60b7d037b5b45aba5cce6360c0cb3fe",
       "value": -66.66666666666667
      }
     },
     "7fbf0af948254d5e833df4b7c1f732c3": {
      "model_module": "@jupyter-widgets/base",
      "model_module_version": "1.1.0",
      "model_name": "LayoutModel",
      "state": {}
     },
     "7fe5127d89ef40799cbefafadbcce0d4": {
      "model_module": "@jupyter-widgets/controls",
      "model_module_version": "1.4.0",
      "model_name": "FloatTextModel",
      "state": {
       "layout": "IPY_MODEL_cea5f3291cc74af99d0e1ea2481ba90a",
       "step": null,
       "style": "IPY_MODEL_19f1831249fc404885a8c590f402427e"
      }
     },
     "7ffaa79fb9994c4bae603296d84f245e": {
      "model_module": "@jupyter-widgets/controls",
      "model_module_version": "1.4.0",
      "model_name": "LabelModel",
      "state": {
       "layout": "IPY_MODEL_3155eee3f9a64ff3b2f1ce3c8f7d18cc",
       "style": "IPY_MODEL_c2e6bb3678aa4fb989cae61d26337c34",
       "value": "La:"
      }
     },
     "7ffe130777e247649d8ed2b515a9ca8b": {
      "model_module": "@jupyter-widgets/controls",
      "model_module_version": "1.4.0",
      "model_name": "LabelModel",
      "state": {
       "layout": "IPY_MODEL_a5808a4c8deb4864a3bf6c22210b4579",
       "style": "IPY_MODEL_3ff22a9f887a4c8fa9623d0ab0ef1724"
      }
     },
     "8011100f6a6b4ddc9ecbb972b727eaf7": {
      "model_module": "@jupyter-widgets/controls",
      "model_module_version": "1.4.0",
      "model_name": "LabelModel",
      "state": {
       "layout": "IPY_MODEL_3bf317625e154845b6a9f8e0b72e9040",
       "style": "IPY_MODEL_e497f72ac994442e867e12b0d2d6c200"
      }
     },
     "8049641b56e14f94a6cdc101f458c699": {
      "model_module": "@jupyter-widgets/controls",
      "model_module_version": "1.4.0",
      "model_name": "DescriptionStyleModel",
      "state": {
       "description_width": ""
      }
     },
     "805372bc02a045c08c710be04f5bfce1": {
      "model_module": "@jupyter-widgets/controls",
      "model_module_version": "1.4.0",
      "model_name": "HBoxModel",
      "state": {
       "children": [
        "IPY_MODEL_18f82af6d5b2431ba4c48da55efab544",
        "IPY_MODEL_007459f4f397435698168869e682fe15",
        "IPY_MODEL_5b395b3d7f904213b837ead1c36a16d9"
       ],
       "layout": "IPY_MODEL_ab62f7fb8f884a83b7a1a8cd07fc402b"
      }
     },
     "808008c7a6d64220a24e0e57526aee9a": {
      "model_module": "@jupyter-widgets/base",
      "model_module_version": "1.1.0",
      "model_name": "LayoutModel",
      "state": {}
     },
     "8104af496003451c99d75ef542e131e5": {
      "model_module": "@jupyter-widgets/controls",
      "model_module_version": "1.4.0",
      "model_name": "HBoxModel",
      "state": {
       "children": [
        "IPY_MODEL_6db5adb08c1948be8929194ebea1a7e7"
       ],
       "layout": "IPY_MODEL_8f25d2239f6749908f18c36b549526f2"
      }
     },
     "826635bf7c224e2fa9e2222e72dbf5a4": {
      "model_module": "@jupyter-widgets/controls",
      "model_module_version": "1.4.0",
      "model_name": "DropdownModel",
      "state": {
       "_options_labels": [
        "0 complex eigenvalues",
        "2 complex eigenvalues",
        "4 complex eigenvalues"
       ],
       "description": "Aa:",
       "disabled": true,
       "index": 0,
       "layout": "IPY_MODEL_bb953ac90d224d4f936514edcfe673ca",
       "style": "IPY_MODEL_7da585dfee764bdb8782ac35b6e142c6"
      }
     },
     "8390228ad1364aa68a86b96bf642bf61": {
      "model_module": "@jupyter-widgets/controls",
      "model_module_version": "1.4.0",
      "model_name": "DescriptionStyleModel",
      "state": {
       "description_width": ""
      }
     },
     "83cff18e6a264988ae36134b674e5a85": {
      "model_module": "@jupyter-widgets/controls",
      "model_module_version": "1.4.0",
      "model_name": "ButtonModel",
      "state": {
       "description": "Test",
       "icon": "check",
       "layout": "IPY_MODEL_0cd7629dd3c9461fbd0c47b84ef58eb5",
       "style": "IPY_MODEL_3b2defae62294f9bbd4aaf5e793002c0",
       "tooltip": "Test"
      }
     },
     "842a3f1f0a374c2581602ab8e7600ef6": {
      "model_module": "@jupyter-widgets/controls",
      "model_module_version": "1.4.0",
      "model_name": "LabelModel",
      "state": {
       "layout": "IPY_MODEL_9a4bb58b105e4702af8bc3d718dfd1c3",
       "style": "IPY_MODEL_0f70af7c61ff4ba88081ed4f671ea6fb"
      }
     },
     "8471ba81fc7a4b87adf19a11d05e4af8": {
      "model_module": "@jupyter-widgets/controls",
      "model_module_version": "1.4.0",
      "model_name": "FloatTextModel",
      "state": {
       "layout": "IPY_MODEL_882e1a8d54f245feb71c1266aab6d5aa",
       "step": null,
       "style": "IPY_MODEL_628ee5ba78994b169e2e9670c25e3f71"
      }
     },
     "84978a101c7e4f339808d159363a8bda": {
      "model_module": "@jupyter-widgets/base",
      "model_module_version": "1.1.0",
      "model_name": "LayoutModel",
      "state": {}
     },
     "84a0b15ddb034a2092338bd2b2ed63e9": {
      "model_module": "@jupyter-widgets/controls",
      "model_module_version": "1.4.0",
      "model_name": "VBoxModel",
      "state": {
       "children": [
        "IPY_MODEL_8104af496003451c99d75ef542e131e5"
       ],
       "layout": "IPY_MODEL_ac57f9372bfa4b58a5c390e8d098726c"
      }
     },
     "84cbb61cc3c5445a88ac64650b4b8dfc": {
      "model_module": "@jupyter-widgets/controls",
      "model_module_version": "1.4.0",
      "model_name": "HBoxModel",
      "state": {
       "children": [
        "IPY_MODEL_0f26c8afca96402aa66b81bc451a3559",
        "IPY_MODEL_57f647ac81c04c9e8d05a298607c024c",
        "IPY_MODEL_360875116090414dbddbecaa83b47342",
        "IPY_MODEL_472fafbcc5de4d8bbdea2c2f162640a3",
        "IPY_MODEL_5393a1ec3e0d47feb72f398a7cfa584e"
       ],
       "layout": "IPY_MODEL_1c9b2f53ecbb4da79d03c3c35e70cf14"
      }
     },
     "84e0e3299523499e8fd5a56d12529891": {
      "model_module": "@jupyter-widgets/controls",
      "model_module_version": "1.4.0",
      "model_name": "LabelModel",
      "state": {
       "layout": "IPY_MODEL_341a67e1961c4efaba9cd46195f445c9",
       "style": "IPY_MODEL_b6fa08a5501e4a248ede49d190466047",
       "value": "Ka:"
      }
     },
     "850d20061cb147999055d5ad4f3f4e9c": {
      "model_module": "@jupyter-widgets/base",
      "model_module_version": "1.1.0",
      "model_name": "LayoutModel",
      "state": {}
     },
     "8517bf96ffdc43c0becaa4f3824b62ae": {
      "model_module": "@jupyter-widgets/controls",
      "model_module_version": "1.4.0",
      "model_name": "FloatTextModel",
      "state": {
       "layout": "IPY_MODEL_151cd4e8dcf14832a226f806c78e36e0",
       "step": null,
       "style": "IPY_MODEL_33357e60e03e468ca65e98dd38c74e9f",
       "value": 6244
      }
     },
     "851b1adaff55422a86338f42883ee062": {
      "model_module": "@jupyter-widgets/base",
      "model_module_version": "1.1.0",
      "model_name": "LayoutModel",
      "state": {}
     },
     "85217905f330467f8b5be2ca26a9808f": {
      "model_module": "@jupyter-widgets/controls",
      "model_module_version": "1.4.0",
      "model_name": "DescriptionStyleModel",
      "state": {
       "description_width": ""
      }
     },
     "855199fe1b46419e8a5c73a3e0e43e90": {
      "model_module": "@jupyter-widgets/controls",
      "model_module_version": "1.4.0",
      "model_name": "FloatTextModel",
      "state": {
       "layout": "IPY_MODEL_bfccc83056ff48b88eb7630784f232d4",
       "step": null,
       "style": "IPY_MODEL_dd21852b6b3d4d24a5e9dbedfd3b63e8"
      }
     },
     "865c7e9a6659400080d4e6b55eadd65c": {
      "model_module": "@jupyter-widgets/base",
      "model_module_version": "1.1.0",
      "model_name": "LayoutModel",
      "state": {}
     },
     "8694d410e6384208982d61b29be57d7b": {
      "model_module": "@jupyter-widgets/controls",
      "model_module_version": "1.4.0",
      "model_name": "LabelModel",
      "state": {
       "layout": "IPY_MODEL_45c69bfc454c48e597a023be2fcf2369",
       "style": "IPY_MODEL_2b684e1c6b254b9fa313b5d68cbac70e"
      }
     },
     "86dffef0637946b6bdce07bd18233633": {
      "model_module": "@jupyter-widgets/base",
      "model_module_version": "1.1.0",
      "model_name": "LayoutModel",
      "state": {
       "width": "90px"
      }
     },
     "86f0283019914320900a091de5704fd1": {
      "model_module": "@jupyter-widgets/controls",
      "model_module_version": "1.4.0",
      "model_name": "DescriptionStyleModel",
      "state": {
       "description_width": ""
      }
     },
     "87536ddd51344558bd4978bbb9aa5d77": {
      "model_module": "@jupyter-widgets/base",
      "model_module_version": "1.1.0",
      "model_name": "LayoutModel",
      "state": {
       "width": "90px"
      }
     },
     "87deb80624884ebfa254f62114e25930": {
      "model_module": "@jupyter-widgets/controls",
      "model_module_version": "1.4.0",
      "model_name": "VBoxModel",
      "state": {
       "children": [
        "IPY_MODEL_8f91de1e6ed149e68483c46b8e206da1",
        "IPY_MODEL_125f923ed5a34fe3a28d2f6851a46911"
       ],
       "layout": "IPY_MODEL_10c2b023fe28454a9f66efb594599e4a"
      }
     },
     "882808f04e1648329b3ae5a769379755": {
      "model_module": "@jupyter-widgets/controls",
      "model_module_version": "1.4.0",
      "model_name": "HBoxModel",
      "state": {
       "children": [
        "IPY_MODEL_1c6c62d211f44583a849017a71d78956"
       ],
       "layout": "IPY_MODEL_518df1a391454a7b9ae94325ff2cd3b0"
      }
     },
     "882e1a8d54f245feb71c1266aab6d5aa": {
      "model_module": "@jupyter-widgets/base",
      "model_module_version": "1.1.0",
      "model_name": "LayoutModel",
      "state": {
       "width": "90px"
      }
     },
     "885e5afc93a543b28ab8ce2723aba576": {
      "model_module": "@jupyter-widgets/controls",
      "model_module_version": "1.4.0",
      "model_name": "DescriptionStyleModel",
      "state": {
       "description_width": ""
      }
     },
     "88608d2bd3564091bb944cd23789d33c": {
      "model_module": "@jupyter-widgets/base",
      "model_module_version": "1.1.0",
      "model_name": "LayoutModel",
      "state": {}
     },
     "88eb02c3dc4f44948a1aec3fdbc15243": {
      "model_module": "@jupyter-widgets/controls",
      "model_module_version": "1.4.0",
      "model_name": "DescriptionStyleModel",
      "state": {
       "description_width": ""
      }
     },
     "8940fedfa6b94154bbecb9b93aa2c282": {
      "model_module": "@jupyter-widgets/controls",
      "model_module_version": "1.4.0",
      "model_name": "ButtonStyleModel",
      "state": {}
     },
     "895850746fc047c089a3bab1559d9f9d": {
      "model_module": "@jupyter-widgets/controls",
      "model_module_version": "1.4.0",
      "model_name": "HBoxModel",
      "state": {
       "children": [
        "IPY_MODEL_1b064c01ef0f4056b7748e7fa4e8d0ae",
        "IPY_MODEL_dbcee9f186f7420d9ea831d5ef775039",
        "IPY_MODEL_f4ddf9715a014e14be8ecb2b3ae86c47"
       ],
       "layout": "IPY_MODEL_63256349f2f3454c8059f5412b0862a7"
      }
     },
     "8a079245fbbe4ddf920422f8deed31bb": {
      "model_module": "@jupyter-widgets/controls",
      "model_module_version": "1.4.0",
      "model_name": "HBoxModel",
      "state": {
       "children": [
        "IPY_MODEL_d5eaac2f67684a7b8ea7dd4c17f0b57e",
        "IPY_MODEL_6d68637432684016b0727f506afe0df5",
        "IPY_MODEL_f01b454caf0243f89fac5809d26d4cf2",
        "IPY_MODEL_3fe63ac60ab64ded984e9abeeff7abf5",
        "IPY_MODEL_317ee220faa84115bad387393653c51c",
        "IPY_MODEL_587e0f7d832d4ecc866fb0f39ea9d990",
        "IPY_MODEL_135f645700374f52895dcc521e40d207",
        "IPY_MODEL_555f1c8fd1be494ba25714e40361ee35",
        "IPY_MODEL_cf979171315d44bfbc2c0d6d41f6c225",
        "IPY_MODEL_a3c2a24a94aa456cbd6779a86c1f06ad",
        "IPY_MODEL_25be128dd26d4cd298247bbbc5bbe06a"
       ],
       "layout": "IPY_MODEL_8a6ef5b88fa14169aa167d89c57d71eb"
      }
     },
     "8a6ef5b88fa14169aa167d89c57d71eb": {
      "model_module": "@jupyter-widgets/base",
      "model_module_version": "1.1.0",
      "model_name": "LayoutModel",
      "state": {}
     },
     "8a9bc422e2cc4f8e806f955c0698cf32": {
      "model_module": "@jupyter-widgets/controls",
      "model_module_version": "1.4.0",
      "model_name": "DescriptionStyleModel",
      "state": {
       "description_width": ""
      }
     },
     "8b38ec716be944e0b46bf019ffd46326": {
      "model_module": "@jupyter-widgets/controls",
      "model_module_version": "1.4.0",
      "model_name": "HBoxModel",
      "state": {
       "children": [
        "IPY_MODEL_be0cf595c1f14317a7aaeb76f485754c",
        "IPY_MODEL_8517bf96ffdc43c0becaa4f3824b62ae",
        "IPY_MODEL_ed5069a98fda4fd89f8f6f2f037d4397",
        "IPY_MODEL_aa1c87d6fda14c1980b7d432ee2fe366",
        "IPY_MODEL_f6adbb16255046328fb88ed295414e1e"
       ],
       "layout": "IPY_MODEL_951ff7c9dfad42808f1dc9d409ff2c4c"
      }
     },
     "8b87c03ea80e4a8496fef495518e5222": {
      "model_module": "@jupyter-widgets/controls",
      "model_module_version": "1.4.0",
      "model_name": "DescriptionStyleModel",
      "state": {
       "description_width": ""
      }
     },
     "8b978cd8527c4af38f96b899ad856ff9": {
      "model_module": "@jupyter-widgets/base",
      "model_module_version": "1.1.0",
      "model_name": "LayoutModel",
      "state": {
       "width": "90px"
      }
     },
     "8bd8a16f4c984ae9a3b83d639201f311": {
      "model_module": "@jupyter-widgets/controls",
      "model_module_version": "1.4.0",
      "model_name": "DescriptionStyleModel",
      "state": {
       "description_width": ""
      }
     },
     "8bfd28108db14cf7af63c45afb29a893": {
      "model_module": "@jupyter-widgets/base",
      "model_module_version": "1.1.0",
      "model_name": "LayoutModel",
      "state": {
       "width": "90px"
      }
     },
     "8c56ab7322684d198695ba83389a51a8": {
      "model_module": "@jupyter-widgets/base",
      "model_module_version": "1.1.0",
      "model_name": "LayoutModel",
      "state": {}
     },
     "8c6ff49f59ac4ae19bf1989f184e29e9": {
      "model_module": "@jupyter-widgets/base",
      "model_module_version": "1.1.0",
      "model_name": "LayoutModel",
      "state": {}
     },
     "8c91254678864b30a16507999fae5742": {
      "model_module": "@jupyter-widgets/base",
      "model_module_version": "1.1.0",
      "model_name": "LayoutModel",
      "state": {}
     },
     "8cd3e95c3acf4bdab4dfdc7205fe8fde": {
      "model_module": "@jupyter-widgets/controls",
      "model_module_version": "1.4.0",
      "model_name": "DescriptionStyleModel",
      "state": {
       "description_width": ""
      }
     },
     "8d93505090b24b7392dd19fdafe1ebb7": {
      "model_module": "@jupyter-widgets/base",
      "model_module_version": "1.1.0",
      "model_name": "LayoutModel",
      "state": {}
     },
     "8eb6aa9cb43341ccb9ce62f5ca112617": {
      "model_module": "@jupyter-widgets/base",
      "model_module_version": "1.1.0",
      "model_name": "LayoutModel",
      "state": {}
     },
     "8ef057c6d9fc4db8b615a215a2b5a000": {
      "model_module": "@jupyter-widgets/controls",
      "model_module_version": "1.4.0",
      "model_name": "SliderStyleModel",
      "state": {
       "description_width": ""
      }
     },
     "8f25d2239f6749908f18c36b549526f2": {
      "model_module": "@jupyter-widgets/base",
      "model_module_version": "1.1.0",
      "model_name": "LayoutModel",
      "state": {}
     },
     "8f91de1e6ed149e68483c46b8e206da1": {
      "model_module": "@jupyter-widgets/controls",
      "model_module_version": "1.4.0",
      "model_name": "HBoxModel",
      "state": {
       "children": [
        "IPY_MODEL_eef564791f8b41739add71b75be481ec"
       ],
       "layout": "IPY_MODEL_de0f1909c75e430a86358a3fa0b9a995"
      }
     },
     "8fd79a5d01cf4dd2bd6af523b19f7ddc": {
      "model_module": "@jupyter-widgets/controls",
      "model_module_version": "1.4.0",
      "model_name": "DescriptionStyleModel",
      "state": {
       "description_width": ""
      }
     },
     "90289c97f60843f89f00cd95a0fca4b9": {
      "model_module": "@jupyter-widgets/base",
      "model_module_version": "1.1.0",
      "model_name": "LayoutModel",
      "state": {}
     },
     "90428d44e77d4165ac20f73f2cc388b9": {
      "model_module": "@jupyter-widgets/controls",
      "model_module_version": "1.4.0",
      "model_name": "FloatTextModel",
      "state": {
       "layout": "IPY_MODEL_6ed5ec8dc40b4d3cb6058441525e4f2d",
       "step": null,
       "style": "IPY_MODEL_c528fa3f72494a119beabba3a6213bb7",
       "value": -1
      }
     },
     "90b70496121147c0a1e387dee2f323b8": {
      "model_module": "@jupyter-widgets/base",
      "model_module_version": "1.1.0",
      "model_name": "LayoutModel",
      "state": {}
     },
     "9107b64326ee404abe9f223d27d7cb58": {
      "model_module": "@jupyter-widgets/base",
      "model_module_version": "1.1.0",
      "model_name": "LayoutModel",
      "state": {}
     },
     "912150cf7dd545c9be27f06e2420e9fd": {
      "model_module": "@jupyter-widgets/controls",
      "model_module_version": "1.4.0",
      "model_name": "FloatTextModel",
      "state": {
       "layout": "IPY_MODEL_8b978cd8527c4af38f96b899ad856ff9",
       "step": null,
       "style": "IPY_MODEL_56d0ad94a1ab41bf9b1226b301dc34c5",
       "value": -10
      }
     },
     "913286bb22214d3cb6367fff535d9581": {
      "model_module": "@jupyter-widgets/base",
      "model_module_version": "1.1.0",
      "model_name": "LayoutModel",
      "state": {}
     },
     "9157d2ff6f494800ac8ae9cdc1fde052": {
      "model_module": "@jupyter-widgets/base",
      "model_module_version": "1.1.0",
      "model_name": "LayoutModel",
      "state": {}
     },
     "91f3e31e4795465f9f5adb9155b2d603": {
      "model_module": "@jupyter-widgets/base",
      "model_module_version": "1.1.0",
      "model_name": "LayoutModel",
      "state": {}
     },
     "9227470751ed48d1979a8ab2c991e0cf": {
      "model_module": "@jupyter-widgets/base",
      "model_module_version": "1.1.0",
      "model_name": "LayoutModel",
      "state": {
       "height": "0px",
       "width": "0px"
      }
     },
     "93937d7b6ac642c29e9b061c59a3db2a": {
      "model_module": "@jupyter-widgets/base",
      "model_module_version": "1.1.0",
      "model_name": "LayoutModel",
      "state": {}
     },
     "94109630a2764b6fb9c1f2deaa4eff3f": {
      "model_module": "@jupyter-widgets/controls",
      "model_module_version": "1.4.0",
      "model_name": "FloatTextModel",
      "state": {
       "layout": "IPY_MODEL_9227470751ed48d1979a8ab2c991e0cf",
       "step": null,
       "style": "IPY_MODEL_cda7d59ecf3b463e83fbcca7d6ded37f"
      }
     },
     "94c62e1f059546eaa77c67a8748086d9": {
      "model_module": "@jupyter-widgets/controls",
      "model_module_version": "1.4.0",
      "model_name": "DescriptionStyleModel",
      "state": {
       "description_width": ""
      }
     },
     "94d262c9132f4dee8a1ebacba7959d25": {
      "model_module": "@jupyter-widgets/controls",
      "model_module_version": "1.4.0",
      "model_name": "LabelModel",
      "state": {
       "layout": "IPY_MODEL_de0e0312dad54b3aac1bda5344f2766f",
       "style": "IPY_MODEL_5e19f43ea55f42219de81bad36116894"
      }
     },
     "951ff7c9dfad42808f1dc9d409ff2c4c": {
      "model_module": "@jupyter-widgets/base",
      "model_module_version": "1.1.0",
      "model_name": "LayoutModel",
      "state": {}
     },
     "9556274e90b64a4bb51b8e1a2eb0462e": {
      "model_module": "@jupyter-widgets/base",
      "model_module_version": "1.1.0",
      "model_name": "LayoutModel",
      "state": {}
     },
     "955a72f962644df8bea0b03467a6d2e3": {
      "model_module": "@jupyter-widgets/base",
      "model_module_version": "1.1.0",
      "model_name": "LayoutModel",
      "state": {}
     },
     "965ba5aa3bb648c899f8ba33fda5cf31": {
      "model_module": "@jupyter-widgets/controls",
      "model_module_version": "1.4.0",
      "model_name": "FloatTextModel",
      "state": {
       "layout": "IPY_MODEL_74b2c32160214088bd33ae84127e92bc",
       "step": null,
       "style": "IPY_MODEL_a5c61a105e6e45afa9758af74b614962",
       "value": 2225
      }
     },
     "967ea0cea3b44232b483737bad238961": {
      "model_module": "@jupyter-widgets/controls",
      "model_module_version": "1.4.0",
      "model_name": "DescriptionStyleModel",
      "state": {
       "description_width": ""
      }
     },
     "9850692dac5444339af116e293364b98": {
      "model_module": "@jupyter-widgets/controls",
      "model_module_version": "1.4.0",
      "model_name": "LabelModel",
      "state": {
       "layout": "IPY_MODEL_364239ea052146749c210d876d457052",
       "style": "IPY_MODEL_a17e77cf8e2d4cd1b086d4dda0b399ce"
      }
     },
     "991efac838994f0ab46af4dd67a6cce2": {
      "model_module": "@jupyter-widgets/base",
      "model_module_version": "1.1.0",
      "model_name": "LayoutModel",
      "state": {}
     },
     "992c66e245f641c19dbfccd1fcf3dc9b": {
      "model_module": "@jupyter-widgets/controls",
      "model_module_version": "1.4.0",
      "model_name": "LabelModel",
      "state": {
       "layout": "IPY_MODEL_c355d1874a554165b4099d8da3d35aef",
       "style": "IPY_MODEL_0e3a382431764e918183d36d775bca91",
       "value": "La:"
      }
     },
     "992d4f926f4b47b79dee5492a88d012f": {
      "model_module": "@jupyter-widgets/controls",
      "model_module_version": "1.4.0",
      "model_name": "FloatTextModel",
      "state": {
       "disabled": true,
       "layout": "IPY_MODEL_eb845b48322e45158642a399f660afa0",
       "step": null,
       "style": "IPY_MODEL_69596f18125f465a842253c4a56b8254",
       "value": -0.35
      }
     },
     "996a0fc2c31d488089176d41d8206f99": {
      "model_module": "@jupyter-widgets/controls",
      "model_module_version": "1.4.0",
      "model_name": "DescriptionStyleModel",
      "state": {
       "description_width": ""
      }
     },
     "99e3340dccac4f1a9ed489a4bb4d53b8": {
      "model_module": "@jupyter-widgets/controls",
      "model_module_version": "1.4.0",
      "model_name": "DropdownModel",
      "state": {
       "_options_labels": [
        "0 complex eigenvalues",
        "2 complex eigenvalues"
       ],
       "description": "Aobs:",
       "disabled": true,
       "index": 0,
       "layout": "IPY_MODEL_217df9fb08f841e0b881ed5ff541226f",
       "style": "IPY_MODEL_def75223186b46c2ab6eb64e80dbe69d"
      }
     },
     "9a30578514a043dc80c647d4b5ab588d": {
      "model_module": "@jupyter-widgets/controls",
      "model_module_version": "1.4.0",
      "model_name": "LabelModel",
      "state": {
       "layout": "IPY_MODEL_c3383bbe576346f085ed887be29c1071",
       "style": "IPY_MODEL_78e0cf59f666429ba0b284f17cd837f0"
      }
     },
     "9a4bb58b105e4702af8bc3d718dfd1c3": {
      "model_module": "@jupyter-widgets/base",
      "model_module_version": "1.1.0",
      "model_name": "LayoutModel",
      "state": {}
     },
     "9a5f4e5b037a43a9b59844db56f0835f": {
      "model_module": "@jupyter-widgets/base",
      "model_module_version": "1.1.0",
      "model_name": "LayoutModel",
      "state": {}
     },
     "9aa8d3ec40df4e009aab31ecae602e3a": {
      "model_module": "@jupyter-widgets/base",
      "model_module_version": "1.1.0",
      "model_name": "LayoutModel",
      "state": {}
     },
     "9adf73266e5b41fca5ffa68f3c06d757": {
      "model_module": "@jupyter-widgets/base",
      "model_module_version": "1.1.0",
      "model_name": "LayoutModel",
      "state": {}
     },
     "9b5dafc61d3444c5ad1d3934f7051d68": {
      "model_module": "@jupyter-widgets/base",
      "model_module_version": "1.1.0",
      "model_name": "LayoutModel",
      "state": {}
     },
     "9be6a001337f487e922bd0dfa9a78022": {
      "model_module": "@jupyter-widgets/controls",
      "model_module_version": "1.4.0",
      "model_name": "LabelModel",
      "state": {
       "layout": "IPY_MODEL_6c5bde8b5bac48509228c5bee9f36bbd",
       "style": "IPY_MODEL_65deab75d13c4bf1bef36f3c38182f6b",
       "value": "Aobs's eigs:"
      }
     },
     "9c510b94c02845c18cef93c5f4a2484f": {
      "model_module": "@jupyter-widgets/base",
      "model_module_version": "1.1.0",
      "model_name": "LayoutModel",
      "state": {}
     },
     "9c5f455366254c98bcb2a632ba62746f": {
      "model_module": "@jupyter-widgets/controls",
      "model_module_version": "1.4.0",
      "model_name": "DropdownModel",
      "state": {
       "_options_labels": [
        "0 complex eigenvalues",
        "2 complex eigenvalues",
        "4 complex eigenvalues"
       ],
       "description": "Aa:",
       "disabled": true,
       "index": 0,
       "layout": "IPY_MODEL_8c91254678864b30a16507999fae5742",
       "style": "IPY_MODEL_0ffabbd5de5b4e49b39460918d7833c9"
      }
     },
     "9c7326c1824c4d51bcba36be24cfd780": {
      "model_module": "@jupyter-widgets/controls",
      "model_module_version": "1.4.0",
      "model_name": "DescriptionStyleModel",
      "state": {
       "description_width": ""
      }
     },
     "9d157d49b60d48c9ae30175ff22d2776": {
      "model_module": "@jupyter-widgets/base",
      "model_module_version": "1.1.0",
      "model_name": "LayoutModel",
      "state": {}
     },
     "9d2107f7a8294bb5a1e31ad3096c399e": {
      "model_module": "@jupyter-widgets/controls",
      "model_module_version": "1.4.0",
      "model_name": "DropdownModel",
      "state": {
       "_options_labels": [
        "Set Ka and La",
        "Set the eigenvalues"
       ],
       "index": 0,
       "layout": "IPY_MODEL_d6431a11b46943d48afc9b025482f791",
       "style": "IPY_MODEL_24dd982e2a6149fa8600278128d390d9"
      }
     },
     "9e0c7264530f48d8a6e52208066546ff": {
      "model_module": "@jupyter-widgets/controls",
      "model_module_version": "1.4.0",
      "model_name": "VBoxModel",
      "state": {
       "children": [
        "IPY_MODEL_c566d7ba152c41a9bb70e0b1399a0f3e",
        "IPY_MODEL_ffc5676e98b545a9897040da8eda7dc9"
       ],
       "layout": "IPY_MODEL_dd750e074b794c73b436f80106ff3f09"
      }
     },
     "9e3dc09502d8495584a6ac12c8f8ac5a": {
      "model_module": "@jupyter-widgets/base",
      "model_module_version": "1.1.0",
      "model_name": "LayoutModel",
      "state": {}
     },
     "9e4fb7fb6cee4738ab762e038ba437ba": {
      "model_module": "@jupyter-widgets/base",
      "model_module_version": "1.1.0",
      "model_name": "LayoutModel",
      "state": {}
     },
     "9edf3cd601b845089ed8bd5d7bc8d3eb": {
      "model_module": "@jupyter-widgets/base",
      "model_module_version": "1.1.0",
      "model_name": "LayoutModel",
      "state": {}
     },
     "9efb9c3136cb4814bbbbb397033e6d24": {
      "model_module": "@jupyter-widgets/controls",
      "model_module_version": "1.4.0",
      "model_name": "FloatTextModel",
      "state": {
       "layout": "IPY_MODEL_5cf0c5c499384c6f96f84a0eae53b53c",
       "step": null,
       "style": "IPY_MODEL_32a09d78e0b3416a94dc5ac17c5bb0d0",
       "value": -66.66666666666667
      }
     },
     "9f2b0ec4d4034ae3ad81a74617b85dd9": {
      "model_module": "@jupyter-widgets/controls",
      "model_module_version": "1.4.0",
      "model_name": "FloatTextModel",
      "state": {
       "layout": "IPY_MODEL_e35ded94ccdb411fb3f03b38368623d6",
       "step": null,
       "style": "IPY_MODEL_f971744a6b6f4c44b945449b4acd81c4"
      }
     },
     "9f426cacd41c42aca1af846e019bfa02": {
      "model_module": "@jupyter-widgets/controls",
      "model_module_version": "1.4.0",
      "model_name": "LabelModel",
      "state": {
       "layout": "IPY_MODEL_226ecd100d9b43bdb15a7c6850582d90",
       "style": "IPY_MODEL_b33e7488490b4fa8ba525c1d8fbb4126"
      }
     },
     "9f7de2b91d5f4664b24e72fafb4248bf": {
      "model_module": "@jupyter-widgets/controls",
      "model_module_version": "1.4.0",
      "model_name": "LabelModel",
      "state": {
       "layout": "IPY_MODEL_460300bb7cfb4e759ba669fd07f3b123",
       "style": "IPY_MODEL_ea21094a446f4ef5a10ba3ec7281a8e1"
      }
     },
     "a016d7fcf44b4c7988226f529ae389e7": {
      "model_module": "@jupyter-widgets/controls",
      "model_module_version": "1.4.0",
      "model_name": "LabelModel",
      "state": {
       "layout": "IPY_MODEL_28145b3fa0c947388e212e724a9d4113",
       "style": "IPY_MODEL_bc95ce86f973460686ff28ab1ad25643",
       "value": "La:"
      }
     },
     "a17e77cf8e2d4cd1b086d4dda0b399ce": {
      "model_module": "@jupyter-widgets/controls",
      "model_module_version": "1.4.0",
      "model_name": "DescriptionStyleModel",
      "state": {
       "description_width": ""
      }
     },
     "a1e753b9be3c4fb18a402f4d11ad7622": {
      "model_module": "@jupyter-widgets/output",
      "model_module_version": "1.0.0",
      "model_name": "OutputModel",
      "state": {
       "layout": "IPY_MODEL_2ad36e1cd7c6491ebd207e23495eaf5f",
       "outputs": [
        {
         "name": "stdout",
         "output_type": "stream",
         "text": "The Aa's eigenvalues are: -2.24+2.23j, -2.24+-2.23j, -0.28+0.00j, -0.26+0.32j and -0.26+-0.32j\nThe observer\\s eigenvalues are: -10.00+0.00j and -10.00+0.00j\n"
        }
       ]
      }
     },
     "a1f873543ca745e8869870277844004a": {
      "model_module": "@jupyter-widgets/controls",
      "model_module_version": "1.4.0",
      "model_name": "FloatTextModel",
      "state": {
       "disabled": true,
       "layout": "IPY_MODEL_abd294ef813b4562ba3af45c793fa8cd",
       "step": null,
       "style": "IPY_MODEL_186de4e4fe0949228939f5d0f3901124"
      }
     },
     "a225f194cbbc4a6dbf9bed6cdfccc646": {
      "model_module": "@jupyter-widgets/controls",
      "model_module_version": "1.4.0",
      "model_name": "DescriptionStyleModel",
      "state": {
       "description_width": ""
      }
     },
     "a233f2749697478193516c67501f9bf6": {
      "model_module": "@jupyter-widgets/controls",
      "model_module_version": "1.4.0",
      "model_name": "HBoxModel",
      "state": {
       "children": [
        "IPY_MODEL_3fcf20770fa04a8f99220ecff57a919c",
        "IPY_MODEL_7571abb03f0040679517c6245bf38472",
        "IPY_MODEL_5ca9d6cfbf1e4f5a95615e0dba52d25b",
        "IPY_MODEL_fbb1d9058ea14688b02e1bf1f255cd4f",
        "IPY_MODEL_784694adeef14254b06506b91ca25387"
       ],
       "layout": "IPY_MODEL_d12e5a5b011349588613791490b0f7e0"
      }
     },
     "a267df06d1fd4abdbeeaa4b209f965f6": {
      "model_module": "@jupyter-widgets/controls",
      "model_module_version": "1.4.0",
      "model_name": "VBoxModel",
      "state": {
       "children": [
        "IPY_MODEL_ce2edb54fe42459ca62c2936d6529836",
        "IPY_MODEL_bd3eeb55a66a4475a7aca37d905b30d1"
       ],
       "layout": "IPY_MODEL_296ca86ae0ed488dbcf495fcee09b2d4"
      }
     },
     "a2730760d6e340dd9350b3d45baf8886": {
      "model_module": "@jupyter-widgets/controls",
      "model_module_version": "1.4.0",
      "model_name": "DescriptionStyleModel",
      "state": {
       "description_width": ""
      }
     },
     "a2a23603747a44b8b4b99e05ba1585cc": {
      "model_module": "@jupyter-widgets/controls",
      "model_module_version": "1.4.0",
      "model_name": "DescriptionStyleModel",
      "state": {
       "description_width": ""
      }
     },
     "a2ad8cd0ada14749b6cff38db8256c77": {
      "model_module": "@jupyter-widgets/base",
      "model_module_version": "1.1.0",
      "model_name": "LayoutModel",
      "state": {}
     },
     "a2b1153c0b734d19bbbe9e4cb71dfd22": {
      "model_module": "@jupyter-widgets/base",
      "model_module_version": "1.1.0",
      "model_name": "LayoutModel",
      "state": {}
     },
     "a33161fb781f43298700965957684f1e": {
      "model_module": "@jupyter-widgets/controls",
      "model_module_version": "1.4.0",
      "model_name": "ButtonModel",
      "state": {
       "description": "Test",
       "icon": "check",
       "layout": "IPY_MODEL_6672827f1251434cafa61ba9bb202373",
       "style": "IPY_MODEL_eb04c670a97349aa81672b123aa0368f",
       "tooltip": "Test"
      }
     },
     "a35a317a47864a4bbdf20780013db7d8": {
      "model_module": "@jupyter-widgets/controls",
      "model_module_version": "1.4.0",
      "model_name": "DescriptionStyleModel",
      "state": {
       "description_width": ""
      }
     },
     "a3c2a24a94aa456cbd6779a86c1f06ad": {
      "model_module": "@jupyter-widgets/controls",
      "model_module_version": "1.4.0",
      "model_name": "VBoxModel",
      "state": {
       "children": [
        "IPY_MODEL_f66682badded4087a8e4129a3e4d524b"
       ],
       "layout": "IPY_MODEL_3b4c40f6dee64918a393d35056e0c706"
      }
     },
     "a3e62160c9b54b1d8127e609d6602571": {
      "model_module": "@jupyter-widgets/base",
      "model_module_version": "1.1.0",
      "model_name": "LayoutModel",
      "state": {}
     },
     "a428fbacff1a4a828a289047af365d41": {
      "model_module": "@jupyter-widgets/controls",
      "model_module_version": "1.4.0",
      "model_name": "DescriptionStyleModel",
      "state": {
       "description_width": ""
      }
     },
     "a4573b1d69b94da6abe2d29a5940a904": {
      "model_module": "@jupyter-widgets/controls",
      "model_module_version": "1.4.0",
      "model_name": "DescriptionStyleModel",
      "state": {
       "description_width": ""
      }
     },
     "a460952c12254a589008273d3b2199a9": {
      "model_module": "@jupyter-widgets/base",
      "model_module_version": "1.1.0",
      "model_name": "LayoutModel",
      "state": {}
     },
     "a4d1a29d08444259bc6ac049b78ec661": {
      "model_module": "@jupyter-widgets/base",
      "model_module_version": "1.1.0",
      "model_name": "LayoutModel",
      "state": {}
     },
     "a5628dd710ed40f0836562eea9957797": {
      "model_module": "@jupyter-widgets/controls",
      "model_module_version": "1.4.0",
      "model_name": "HBoxModel",
      "state": {
       "children": [
        "IPY_MODEL_90428d44e77d4165ac20f73f2cc388b9"
       ],
       "layout": "IPY_MODEL_4ec30f2860a74ef0a6f495243611dd88"
      }
     },
     "a5808a4c8deb4864a3bf6c22210b4579": {
      "model_module": "@jupyter-widgets/base",
      "model_module_version": "1.1.0",
      "model_name": "LayoutModel",
      "state": {}
     },
     "a5b53e522d8e4962a7d78f2bf1ad4c12": {
      "model_module": "@jupyter-widgets/controls",
      "model_module_version": "1.4.0",
      "model_name": "HBoxModel",
      "state": {
       "children": [
        "IPY_MODEL_0f26c8afca96402aa66b81bc451a3559",
        "IPY_MODEL_4ddaa11b8783416d8518d303745b09a7",
        "IPY_MODEL_6e7e97282d8646a99e47bb6ba752331d",
        "IPY_MODEL_bf5b937f5c5c49df9d883ad5b1642e3c",
        "IPY_MODEL_36b4c1c517ff44af830b4f3695cbd377"
       ],
       "layout": "IPY_MODEL_5fd329d9eb304ad5a6bce400ae2719bd"
      }
     },
     "a5c61a105e6e45afa9758af74b614962": {
      "model_module": "@jupyter-widgets/controls",
      "model_module_version": "1.4.0",
      "model_name": "DescriptionStyleModel",
      "state": {
       "description_width": ""
      }
     },
     "a632af6c959f4150a8552cf2868f1563": {
      "model_module": "@jupyter-widgets/controls",
      "model_module_version": "1.4.0",
      "model_name": "HBoxModel",
      "state": {
       "children": [
        "IPY_MODEL_a1f873543ca745e8869870277844004a"
       ],
       "layout": "IPY_MODEL_37327690f2424d65b8d49eece9eaf6a9"
      }
     },
     "a6ad84dbfce948f98666e1dd20d617e5": {
      "model_module": "@jupyter-widgets/controls",
      "model_module_version": "1.4.0",
      "model_name": "DescriptionStyleModel",
      "state": {
       "description_width": ""
      }
     },
     "a7b4cf28d00f47458db9d6207df4c87c": {
      "model_module": "@jupyter-widgets/base",
      "model_module_version": "1.1.0",
      "model_name": "LayoutModel",
      "state": {}
     },
     "a8c021ecd91740e0a4a051e52059b3e9": {
      "model_module": "@jupyter-widgets/base",
      "model_module_version": "1.1.0",
      "model_name": "LayoutModel",
      "state": {}
     },
     "a91bbca18081424791e2d1ee5f5cce53": {
      "model_module": "@jupyter-widgets/controls",
      "model_module_version": "1.4.0",
      "model_name": "HBoxModel",
      "state": {
       "children": [
        "IPY_MODEL_1c47caf2cb4b47a3a6d0d38a124adb42",
        "IPY_MODEL_e64a1f67ddd246a4b2817a99b07cca56",
        "IPY_MODEL_e7eba20de0944e0c98115502cd135383",
        "IPY_MODEL_7d01dc2c0b4d48d98e763efa1f17a404",
        "IPY_MODEL_7ffaa79fb9994c4bae603296d84f245e",
        "IPY_MODEL_df4f2e5f7cac45da9930e46f5690c3a4"
       ],
       "layout": "IPY_MODEL_4c4a53b62fd44b28b1cce41d159b39bf"
      }
     },
     "a9c2a999751c47b590d4150abf7bbb56": {
      "model_module": "@jupyter-widgets/controls",
      "model_module_version": "1.4.0",
      "model_name": "LabelModel",
      "state": {
       "layout": "IPY_MODEL_28eeaa6532d64589be32837e44b6116e",
       "style": "IPY_MODEL_bfc0aca326e44e0e8cfa33e7a1b1d630"
      }
     },
     "a9df4eb6b13f4772b2ba3fc42ce6a654": {
      "model_module": "@jupyter-widgets/controls",
      "model_module_version": "1.4.0",
      "model_name": "DescriptionStyleModel",
      "state": {
       "description_width": ""
      }
     },
     "aa1c17dc86e6441485062eed23d3ab0a": {
      "model_module": "@jupyter-widgets/base",
      "model_module_version": "1.1.0",
      "model_name": "LayoutModel",
      "state": {}
     },
     "aa1c87d6fda14c1980b7d432ee2fe366": {
      "model_module": "@jupyter-widgets/controls",
      "model_module_version": "1.4.0",
      "model_name": "FloatTextModel",
      "state": {
       "layout": "IPY_MODEL_86dffef0637946b6bdce07bd18233633",
       "step": null,
       "style": "IPY_MODEL_4278af2ea2454105a0438aceb142c914",
       "value": 5275
      }
     },
     "aa396f910ca1429e83f9525d6adb3ba8": {
      "model_module": "@jupyter-widgets/base",
      "model_module_version": "1.1.0",
      "model_name": "LayoutModel",
      "state": {}
     },
     "aa41ddcb506d4d6a8ae6f55403ae7d59": {
      "model_module": "@jupyter-widgets/base",
      "model_module_version": "1.1.0",
      "model_name": "LayoutModel",
      "state": {
       "width": "90px"
      }
     },
     "ab5d1f7943974b4ea254b5b26a1c85d8": {
      "model_module": "@jupyter-widgets/controls",
      "model_module_version": "1.4.0",
      "model_name": "LabelModel",
      "state": {
       "layout": "IPY_MODEL_16112e01e61a4c7a852edd7bb209d2be",
       "style": "IPY_MODEL_7922325f544a4df3b7a664440ab450f3"
      }
     },
     "ab62f7fb8f884a83b7a1a8cd07fc402b": {
      "model_module": "@jupyter-widgets/base",
      "model_module_version": "1.1.0",
      "model_name": "LayoutModel",
      "state": {}
     },
     "abbda41855ae4751925c4c1c2e1ecad3": {
      "model_module": "@jupyter-widgets/controls",
      "model_module_version": "1.4.0",
      "model_name": "FloatTextModel",
      "state": {
       "layout": "IPY_MODEL_37e3d4ef915442e587ab592c14598b61",
       "step": null,
       "style": "IPY_MODEL_0f6c3a9260604cbfabe83a35c70edc75"
      }
     },
     "abd294ef813b4562ba3af45c793fa8cd": {
      "model_module": "@jupyter-widgets/base",
      "model_module_version": "1.1.0",
      "model_name": "LayoutModel",
      "state": {
       "width": "90px"
      }
     },
     "ac0ffe7011a04929a5584f8a14bbb898": {
      "model_module": "@jupyter-widgets/controls",
      "model_module_version": "1.4.0",
      "model_name": "DescriptionStyleModel",
      "state": {
       "description_width": ""
      }
     },
     "ac1bd1734d2c4d0182e333fa5842cb67": {
      "model_module": "@jupyter-widgets/controls",
      "model_module_version": "1.4.0",
      "model_name": "FloatTextModel",
      "state": {
       "layout": "IPY_MODEL_2bf0392a0f39437ba55867d895e68ba0",
       "step": null,
       "style": "IPY_MODEL_daf87ceba6fc4cff807558eed8167824"
      }
     },
     "ac57f9372bfa4b58a5c390e8d098726c": {
      "model_module": "@jupyter-widgets/base",
      "model_module_version": "1.1.0",
      "model_name": "LayoutModel",
      "state": {}
     },
     "ac58d08f3ce54afa8fe5fd6c045ae5af": {
      "model_module": "@jupyter-widgets/controls",
      "model_module_version": "1.4.0",
      "model_name": "HBoxModel",
      "state": {
       "children": [
        "IPY_MODEL_1cf2e125728c4d5e8c8fea95a6038064",
        "IPY_MODEL_6d68637432684016b0727f506afe0df5",
        "IPY_MODEL_f01b454caf0243f89fac5809d26d4cf2",
        "IPY_MODEL_3fe63ac60ab64ded984e9abeeff7abf5",
        "IPY_MODEL_317ee220faa84115bad387393653c51c",
        "IPY_MODEL_587e0f7d832d4ecc866fb0f39ea9d990",
        "IPY_MODEL_212cbb388f3446d9be9fc9ea66b8a4ef",
        "IPY_MODEL_9850692dac5444339af116e293364b98",
        "IPY_MODEL_9be6a001337f487e922bd0dfa9a78022",
        "IPY_MODEL_a3c2a24a94aa456cbd6779a86c1f06ad",
        "IPY_MODEL_25be128dd26d4cd298247bbbc5bbe06a"
       ],
       "layout": "IPY_MODEL_9157d2ff6f494800ac8ae9cdc1fde052"
      }
     },
     "ac8c59c13a5f406eab4c4e5831aab8c5": {
      "model_module": "@jupyter-widgets/controls",
      "model_module_version": "1.4.0",
      "model_name": "DescriptionStyleModel",
      "state": {
       "description_width": ""
      }
     },
     "acc2a1e4067f46c38bb2cbd0039ce326": {
      "model_module": "@jupyter-widgets/base",
      "model_module_version": "1.1.0",
      "model_name": "LayoutModel",
      "state": {}
     },
     "acce651c42c84a9894a543393f8a167c": {
      "model_module": "@jupyter-widgets/base",
      "model_module_version": "1.1.0",
      "model_name": "LayoutModel",
      "state": {}
     },
     "ace5b89dbb38430baaca9d95f8928041": {
      "model_module": "@jupyter-widgets/base",
      "model_module_version": "1.1.0",
      "model_name": "LayoutModel",
      "state": {}
     },
     "acecc2cb78574027ab0f5990fddab600": {
      "model_module": "@jupyter-widgets/controls",
      "model_module_version": "1.4.0",
      "model_name": "LabelModel",
      "state": {
       "layout": "IPY_MODEL_f699eb1a696a488fab7f9c72c92dee1a",
       "style": "IPY_MODEL_59fa07d6295e403fb187b29b6a589349"
      }
     },
     "acfff617198a4fed9692133377da3b47": {
      "model_module": "@jupyter-widgets/base",
      "model_module_version": "1.1.0",
      "model_name": "LayoutModel",
      "state": {}
     },
     "ad34d26874a24d2c89c2f16a3cf953ee": {
      "model_module": "@jupyter-widgets/controls",
      "model_module_version": "1.4.0",
      "model_name": "LabelModel",
      "state": {
       "layout": "IPY_MODEL_9c510b94c02845c18cef93c5f4a2484f",
       "style": "IPY_MODEL_779c0d356e134116a834edf79e733609"
      }
     },
     "ad7ee93bc69e44238236082c27729623": {
      "model_module": "@jupyter-widgets/controls",
      "model_module_version": "1.4.0",
      "model_name": "LabelModel",
      "state": {
       "layout": "IPY_MODEL_32c998c40fcb45f29c5f62895b3ae599",
       "style": "IPY_MODEL_3e952182f68c4e9ab7e75f184898c9a2",
       "value": "Ka:"
      }
     },
     "ad88204fbe9a48e0978492ccd91ad57b": {
      "model_module": "@jupyter-widgets/base",
      "model_module_version": "1.1.0",
      "model_name": "LayoutModel",
      "state": {}
     },
     "ad8f79d762fa4eb4b640314da6950629": {
      "model_module": "@jupyter-widgets/controls",
      "model_module_version": "1.4.0",
      "model_name": "HBoxModel",
      "state": {
       "children": [
        "IPY_MODEL_6313022924144436af1f7f4cd8e9779c"
       ],
       "layout": "IPY_MODEL_c51bdfc13b47415f9460f0ee83c1df87"
      }
     },
     "ada0e8828ac343df9e9760d6df6d9714": {
      "model_module": "@jupyter-widgets/base",
      "model_module_version": "1.1.0",
      "model_name": "LayoutModel",
      "state": {}
     },
     "adb4d4606a424246aaccb800cd1f30df": {
      "model_module": "@jupyter-widgets/base",
      "model_module_version": "1.1.0",
      "model_name": "LayoutModel",
      "state": {}
     },
     "add2942f83e541c2af6d4410e83b6dde": {
      "model_module": "@jupyter-widgets/base",
      "model_module_version": "1.1.0",
      "model_name": "LayoutModel",
      "state": {}
     },
     "add9bf7eae994418b676c6558ec5f0f1": {
      "model_module": "@jupyter-widgets/controls",
      "model_module_version": "1.4.0",
      "model_name": "DescriptionStyleModel",
      "state": {
       "description_width": ""
      }
     },
     "ade065b9c0274c9f8243ed695fe68333": {
      "model_module": "@jupyter-widgets/controls",
      "model_module_version": "1.4.0",
      "model_name": "DescriptionStyleModel",
      "state": {
       "description_width": ""
      }
     },
     "ade07f29b03d42f9af3c3c14c7d31ea0": {
      "model_module": "@jupyter-widgets/base",
      "model_module_version": "1.1.0",
      "model_name": "LayoutModel",
      "state": {}
     },
     "ae2970f665224c9fbc4420c1cffb665d": {
      "model_module": "@jupyter-widgets/base",
      "model_module_version": "1.1.0",
      "model_name": "LayoutModel",
      "state": {}
     },
     "ae665ed5b04d42f1b2b624cfbc726e6f": {
      "model_module": "@jupyter-widgets/base",
      "model_module_version": "1.1.0",
      "model_name": "LayoutModel",
      "state": {}
     },
     "aec6d0f1383e406296db3be22810ad9c": {
      "model_module": "@jupyter-widgets/controls",
      "model_module_version": "1.4.0",
      "model_name": "LabelModel",
      "state": {
       "layout": "IPY_MODEL_409aba40e57f41d5bb4f1379e4152d4e",
       "style": "IPY_MODEL_f48ce26f0db74d56b4257564f06b803e",
       "value": "La:"
      }
     },
     "aecb9207ab8d41ffb563fc62ebc16006": {
      "model_module": "@jupyter-widgets/output",
      "model_module_version": "1.0.0",
      "model_name": "OutputModel",
      "state": {
       "layout": "IPY_MODEL_3882f6bf357a4adab0cd5691b4c6c866",
       "outputs": [
        {
         "name": "stdout",
         "output_type": "stream",
         "text": "The Aa's eigenvalues are: -2.24+2.23j, -2.24+-2.23j, -0.28+0.00j, -0.26+0.32j and -0.26+-0.32j\nThe observer\\s eigenvalues are: -10.00+0.00j and -10.00+0.00j\n"
        }
       ]
      }
     },
     "aef9a5d2035249b8a3333a29aded71de": {
      "model_module": "@jupyter-widgets/controls",
      "model_module_version": "1.4.0",
      "model_name": "FloatTextModel",
      "state": {
       "layout": "IPY_MODEL_aa41ddcb506d4d6a8ae6f55403ae7d59",
       "step": null,
       "style": "IPY_MODEL_0706e16b9ab64db69dc8b23ae2724d9e",
       "value": -0.5
      }
     },
     "af33c6205ab247349a81557418e23272": {
      "model_module": "@jupyter-widgets/base",
      "model_module_version": "1.1.0",
      "model_name": "LayoutModel",
      "state": {}
     },
     "af6f99f25c5f46168e1651111b8ad41b": {
      "model_module": "@jupyter-widgets/controls",
      "model_module_version": "1.4.0",
      "model_name": "DescriptionStyleModel",
      "state": {
       "description_width": ""
      }
     },
     "b05b346ca5f149c68313830c8017a0c4": {
      "model_module": "@jupyter-widgets/controls",
      "model_module_version": "1.4.0",
      "model_name": "LabelModel",
      "state": {
       "layout": "IPY_MODEL_37d23d6207874b9db8948c62f4cd0835",
       "style": "IPY_MODEL_4bdfb3011517401eace9dacb974b719c"
      }
     },
     "b080ba2fe8b74e95941fc70e47b839e1": {
      "model_module": "@jupyter-widgets/controls",
      "model_module_version": "1.4.0",
      "model_name": "VBoxModel",
      "state": {
       "children": [
        "IPY_MODEL_ad8f79d762fa4eb4b640314da6950629"
       ],
       "layout": "IPY_MODEL_deaede3f369447fa81a975c26718206a"
      }
     },
     "b091aa29372a4b588df50dbfdb73bfca": {
      "model_module": "@jupyter-widgets/controls",
      "model_module_version": "1.4.0",
      "model_name": "DescriptionStyleModel",
      "state": {
       "description_width": ""
      }
     },
     "b099da3d4c434dc5847966b8cdd77694": {
      "model_module": "@jupyter-widgets/base",
      "model_module_version": "1.1.0",
      "model_name": "LayoutModel",
      "state": {}
     },
     "b16de3267e844d5893eb86aa89317258": {
      "model_module": "@jupyter-widgets/base",
      "model_module_version": "1.1.0",
      "model_name": "LayoutModel",
      "state": {}
     },
     "b21b2a2d1b35450395e3c319fc54c196": {
      "model_module": "@jupyter-widgets/controls",
      "model_module_version": "1.4.0",
      "model_name": "FloatTextModel",
      "state": {
       "layout": "IPY_MODEL_e2a06b360f0e49c6be50c844c97854d2",
       "step": null,
       "style": "IPY_MODEL_a6ad84dbfce948f98666e1dd20d617e5",
       "value": -0.6
      }
     },
     "b2d05cd7284844c9a283bfeaa163772d": {
      "model_module": "@jupyter-widgets/controls",
      "model_module_version": "1.4.0",
      "model_name": "LabelModel",
      "state": {
       "layout": "IPY_MODEL_3e59c5655b3f41d1aaf0f24e30cdd54c",
       "style": "IPY_MODEL_2bc216ef3e2d46c8b160d194b072936c",
       "value": "Aobs's eigs:"
      }
     },
     "b33e7488490b4fa8ba525c1d8fbb4126": {
      "model_module": "@jupyter-widgets/controls",
      "model_module_version": "1.4.0",
      "model_name": "DescriptionStyleModel",
      "state": {
       "description_width": ""
      }
     },
     "b438c6c4dba24c86a5f99cb78a66dc10": {
      "model_module": "@jupyter-widgets/base",
      "model_module_version": "1.1.0",
      "model_name": "LayoutModel",
      "state": {}
     },
     "b44a86c421fc453e90a3fbdd66345770": {
      "model_module": "@jupyter-widgets/base",
      "model_module_version": "1.1.0",
      "model_name": "LayoutModel",
      "state": {}
     },
     "b45ddf3e5d6349ee82a4176a026af3aa": {
      "model_module": "@jupyter-widgets/controls",
      "model_module_version": "1.4.0",
      "model_name": "DescriptionStyleModel",
      "state": {
       "description_width": ""
      }
     },
     "b5581d35824c472bb9eaac0a5762f404": {
      "model_module": "@jupyter-widgets/controls",
      "model_module_version": "1.4.0",
      "model_name": "DropdownModel",
      "state": {
       "_options_labels": [
        "0 complex eigenvalues",
        "2 complex eigenvalues"
       ],
       "description": "Aobs:",
       "disabled": true,
       "index": 0,
       "layout": "IPY_MODEL_ebb16ece53454ebcaf4e7e76b58df6c0",
       "style": "IPY_MODEL_b45ddf3e5d6349ee82a4176a026af3aa"
      }
     },
     "b55b9482c3094a98a8cf619d230dbc9b": {
      "model_module": "@jupyter-widgets/controls",
      "model_module_version": "1.4.0",
      "model_name": "LabelModel",
      "state": {
       "layout": "IPY_MODEL_ca11427347f64c5f951f50f087770cb1",
       "style": "IPY_MODEL_fa6b3a1cd38f4591b1ea46c619cb3030"
      }
     },
     "b56385a123a9454aa4c26e576ee9e00e": {
      "model_module": "@jupyter-widgets/controls",
      "model_module_version": "1.4.0",
      "model_name": "LabelModel",
      "state": {
       "layout": "IPY_MODEL_285f9014036e4d5485f9c4c625564664",
       "style": "IPY_MODEL_ddcde07e7b004058846b6f64691c5b1b",
       "value": "Aa's eigs:"
      }
     },
     "b5a41552b1c54b3b8c58bfc026388d4f": {
      "model_module": "@jupyter-widgets/controls",
      "model_module_version": "1.4.0",
      "model_name": "DescriptionStyleModel",
      "state": {
       "description_width": ""
      }
     },
     "b60b7d037b5b45aba5cce6360c0cb3fe": {
      "model_module": "@jupyter-widgets/controls",
      "model_module_version": "1.4.0",
      "model_name": "DescriptionStyleModel",
      "state": {
       "description_width": ""
      }
     },
     "b6573d23f34546ba8e2cbf2b6767a8e1": {
      "model_module": "@jupyter-widgets/base",
      "model_module_version": "1.1.0",
      "model_name": "LayoutModel",
      "state": {
       "width": "90px"
      }
     },
     "b6800bb5073f4fb49de9e3b04e45f578": {
      "model_module": "@jupyter-widgets/controls",
      "model_module_version": "1.4.0",
      "model_name": "FloatTextModel",
      "state": {
       "layout": "IPY_MODEL_f13fe2c0b63c45769a832e70c2b163af",
       "step": null,
       "style": "IPY_MODEL_4255965f2e914f35bb60cb680011283c",
       "value": -1
      }
     },
     "b6fa08a5501e4a248ede49d190466047": {
      "model_module": "@jupyter-widgets/controls",
      "model_module_version": "1.4.0",
      "model_name": "DescriptionStyleModel",
      "state": {
       "description_width": ""
      }
     },
     "b71de6e879bf43289b585f20d30e8ed5": {
      "model_module": "@jupyter-widgets/controls",
      "model_module_version": "1.4.0",
      "model_name": "LabelModel",
      "state": {
       "layout": "IPY_MODEL_bb537de9ef7642bb900cce4aa0f97117",
       "style": "IPY_MODEL_8bd8a16f4c984ae9a3b83d639201f311"
      }
     },
     "b735c37b54aa43c8a0944fb020c85b42": {
      "model_module": "@jupyter-widgets/controls",
      "model_module_version": "1.4.0",
      "model_name": "DescriptionStyleModel",
      "state": {
       "description_width": ""
      }
     },
     "b7643201185d4a7eb66c0e9807d1fef7": {
      "model_module": "@jupyter-widgets/controls",
      "model_module_version": "1.4.0",
      "model_name": "FloatTextModel",
      "state": {
       "layout": "IPY_MODEL_dd481a0bcf16447a9ec5d9d36bfe144d",
       "step": null,
       "style": "IPY_MODEL_07cc0da023a94e43b22b059533bc0e4a",
       "value": -13.333333333333334
      }
     },
     "b797a5ddd90043d48dd5a77c0f954f95": {
      "model_module": "@jupyter-widgets/base",
      "model_module_version": "1.1.0",
      "model_name": "LayoutModel",
      "state": {}
     },
     "b7a97461761e4eecb7aa7b1254c26810": {
      "model_module": "@jupyter-widgets/base",
      "model_module_version": "1.1.0",
      "model_name": "LayoutModel",
      "state": {}
     },
     "b7ba6d95d1874a64bb2fb648a182f59f": {
      "model_module": "@jupyter-widgets/base",
      "model_module_version": "1.1.0",
      "model_name": "LayoutModel",
      "state": {}
     },
     "b7e50fc8f17b4abca78f401029a01bc2": {
      "model_module": "@jupyter-widgets/base",
      "model_module_version": "1.1.0",
      "model_name": "LayoutModel",
      "state": {}
     },
     "b834c7522897405288cb212a55b55289": {
      "model_module": "@jupyter-widgets/controls",
      "model_module_version": "1.4.0",
      "model_name": "FloatTextModel",
      "state": {
       "layout": "IPY_MODEL_7a9f39ecd9174a5a8dc508b3f593a736",
       "step": null,
       "style": "IPY_MODEL_3430f1d432be4157a235f074511b7e3e",
       "value": -0.2
      }
     },
     "b8b2f07ee6c64dc180f184dafa3db11a": {
      "model_module": "@jupyter-widgets/controls",
      "model_module_version": "1.4.0",
      "model_name": "DescriptionStyleModel",
      "state": {
       "description_width": ""
      }
     },
     "b952ba902f6a46968b42685d2716bfea": {
      "model_module": "@jupyter-widgets/controls",
      "model_module_version": "1.4.0",
      "model_name": "DropdownModel",
      "state": {
       "_options_labels": [
        "0 complex eigenvalues",
        "2 complex eigenvalues",
        "4 complex eigenvalues"
       ],
       "description": "Aa:",
       "disabled": true,
       "index": 0,
       "layout": "IPY_MODEL_000b9c5ed55f49e3a82cde3b11cd106c",
       "style": "IPY_MODEL_cea3dc89a5674bed860a1c0e14d1b995"
      }
     },
     "b96be3625e894b758c148ca1a3566d8e": {
      "model_module": "@jupyter-widgets/base",
      "model_module_version": "1.1.0",
      "model_name": "LayoutModel",
      "state": {}
     },
     "b9934d2ea426442b947bc55a6a98475c": {
      "model_module": "@jupyter-widgets/controls",
      "model_module_version": "1.4.0",
      "model_name": "LabelModel",
      "state": {
       "layout": "IPY_MODEL_58a2970073704e67a4a30380a7830767",
       "style": "IPY_MODEL_68537adbed234b189596496e5d19778e",
       "value": "Ka:"
      }
     },
     "b9ab7a820e01496bac78cac867d8987e": {
      "model_module": "@jupyter-widgets/base",
      "model_module_version": "1.1.0",
      "model_name": "LayoutModel",
      "state": {}
     },
     "ba39f17a808848619246755a9efb4013": {
      "model_module": "@jupyter-widgets/controls",
      "model_module_version": "1.4.0",
      "model_name": "DescriptionStyleModel",
      "state": {
       "description_width": ""
      }
     },
     "bad08b1eee074bc3b71be5dc3ac3cdde": {
      "model_module": "@jupyter-widgets/controls",
      "model_module_version": "1.4.0",
      "model_name": "HBoxModel",
      "state": {
       "children": [
        "IPY_MODEL_33330d6c86ba41eab73940f2280afb9a"
       ],
       "layout": "IPY_MODEL_78faa778293e4233bc1fa7fd155fb559"
      }
     },
     "bb1503441b804f2caeba60eca1ccbe5f": {
      "model_module": "@jupyter-widgets/controls",
      "model_module_version": "1.4.0",
      "model_name": "DescriptionStyleModel",
      "state": {
       "description_width": ""
      }
     },
     "bb537de9ef7642bb900cce4aa0f97117": {
      "model_module": "@jupyter-widgets/base",
      "model_module_version": "1.1.0",
      "model_name": "LayoutModel",
      "state": {}
     },
     "bb953ac90d224d4f936514edcfe673ca": {
      "model_module": "@jupyter-widgets/base",
      "model_module_version": "1.1.0",
      "model_name": "LayoutModel",
      "state": {}
     },
     "bc57fb4c89304c8489fdd40e587aba43": {
      "model_module": "@jupyter-widgets/controls",
      "model_module_version": "1.4.0",
      "model_name": "LabelModel",
      "state": {
       "layout": "IPY_MODEL_3a5b38eedfc246fb8c78fd0753841d63",
       "style": "IPY_MODEL_7ebbc139ae8c405bbaa34222e70c1838"
      }
     },
     "bc95ce86f973460686ff28ab1ad25643": {
      "model_module": "@jupyter-widgets/controls",
      "model_module_version": "1.4.0",
      "model_name": "DescriptionStyleModel",
      "state": {
       "description_width": ""
      }
     },
     "bcfa49fa72d34a4ea767dcb731e0630f": {
      "model_module": "@jupyter-widgets/base",
      "model_module_version": "1.1.0",
      "model_name": "LayoutModel",
      "state": {}
     },
     "bd3eeb55a66a4475a7aca37d905b30d1": {
      "model_module": "@jupyter-widgets/controls",
      "model_module_version": "1.4.0",
      "model_name": "HBoxModel",
      "state": {
       "children": [
        "IPY_MODEL_992d4f926f4b47b79dee5492a88d012f"
       ],
       "layout": "IPY_MODEL_fbf8566bdb534d5dbaa859344be12c0e"
      }
     },
     "bd60702069184fb9b8892a8ebb072f01": {
      "model_module": "@jupyter-widgets/controls",
      "model_module_version": "1.4.0",
      "model_name": "DescriptionStyleModel",
      "state": {
       "description_width": ""
      }
     },
     "bd94108b305f407c92c6883909612aa9": {
      "model_module": "@jupyter-widgets/base",
      "model_module_version": "1.1.0",
      "model_name": "LayoutModel",
      "state": {}
     },
     "bd9ea8fefa454648bd9002246ab78f65": {
      "model_module": "@jupyter-widgets/base",
      "model_module_version": "1.1.0",
      "model_name": "LayoutModel",
      "state": {}
     },
     "bde8952344054e1a9af20bcf7482c849": {
      "model_module": "@jupyter-widgets/controls",
      "model_module_version": "1.4.0",
      "model_name": "DescriptionStyleModel",
      "state": {
       "description_width": ""
      }
     },
     "be0cf595c1f14317a7aaeb76f485754c": {
      "model_module": "@jupyter-widgets/controls",
      "model_module_version": "1.4.0",
      "model_name": "FloatTextModel",
      "state": {
       "layout": "IPY_MODEL_ddcab2b7d2f24f068e314b8d90dc90c0",
       "step": null,
       "style": "IPY_MODEL_d75a7d3e1ca540808fcdb68964032440",
       "value": 2225
      }
     },
     "bebe51591c7f4204987782700ddac779": {
      "model_module": "@jupyter-widgets/base",
      "model_module_version": "1.1.0",
      "model_name": "LayoutModel",
      "state": {
       "height": "0px",
       "width": "0px"
      }
     },
     "bf122223b2724a248d55dd42cc9b3191": {
      "model_module": "@jupyter-widgets/base",
      "model_module_version": "1.1.0",
      "model_name": "LayoutModel",
      "state": {}
     },
     "bf2afba8a3e24272b0f88f8f1da4703f": {
      "model_module": "@jupyter-widgets/output",
      "model_module_version": "1.0.0",
      "model_name": "OutputModel",
      "state": {
       "layout": "IPY_MODEL_2d87c6683db741b78597a76dece4e1fc",
       "outputs": [
        {
         "name": "stdout",
         "output_type": "stream",
         "text": "The Aa's eigenvalues are: -2.24+2.23j, -2.24+-2.23j, -0.28+0.00j, -0.26+0.32j and -0.26+-0.32j\nThe observer\\s eigenvalues are: -10.00+0.00j and -10.00+0.00j\n"
        }
       ]
      }
     },
     "bf5b937f5c5c49df9d883ad5b1642e3c": {
      "model_module": "@jupyter-widgets/controls",
      "model_module_version": "1.4.0",
      "model_name": "LabelModel",
      "state": {
       "layout": "IPY_MODEL_27928ffdf5e14aceb43b8fca906689b0",
       "style": "IPY_MODEL_add9bf7eae994418b676c6558ec5f0f1"
      }
     },
     "bf60fd5a02a84f84b747fdca371c5248": {
      "model_module": "@jupyter-widgets/controls",
      "model_module_version": "1.4.0",
      "model_name": "LabelModel",
      "state": {
       "layout": "IPY_MODEL_93937d7b6ac642c29e9b061c59a3db2a",
       "style": "IPY_MODEL_a4573b1d69b94da6abe2d29a5940a904",
       "value": "Aobs's eigs:"
      }
     },
     "bf796660e99f47128f6d0e118966cbdd": {
      "model_module": "@jupyter-widgets/controls",
      "model_module_version": "1.4.0",
      "model_name": "DescriptionStyleModel",
      "state": {
       "description_width": ""
      }
     },
     "bfc0aca326e44e0e8cfa33e7a1b1d630": {
      "model_module": "@jupyter-widgets/controls",
      "model_module_version": "1.4.0",
      "model_name": "DescriptionStyleModel",
      "state": {
       "description_width": ""
      }
     },
     "bfccc83056ff48b88eb7630784f232d4": {
      "model_module": "@jupyter-widgets/base",
      "model_module_version": "1.1.0",
      "model_name": "LayoutModel",
      "state": {
       "height": "0px",
       "width": "0px"
      }
     },
     "c10b5ac94db5488995240984fb80572d": {
      "model_module": "@jupyter-widgets/base",
      "model_module_version": "1.1.0",
      "model_name": "LayoutModel",
      "state": {
       "width": "90px"
      }
     },
     "c17f2e2a351e46d0911e870da02c8ea4": {
      "model_module": "@jupyter-widgets/controls",
      "model_module_version": "1.4.0",
      "model_name": "DescriptionStyleModel",
      "state": {
       "description_width": ""
      }
     },
     "c1cafa8250424af186c85c0f7a037d00": {
      "model_module": "@jupyter-widgets/controls",
      "model_module_version": "1.4.0",
      "model_name": "FloatTextModel",
      "state": {
       "layout": "IPY_MODEL_4b7fe40ee3a5498084895bbb1dede424",
       "step": null,
       "style": "IPY_MODEL_8fd79a5d01cf4dd2bd6af523b19f7ddc",
       "value": 13861
      }
     },
     "c1df267ba8884d4089f041f8885d57a9": {
      "model_module": "@jupyter-widgets/base",
      "model_module_version": "1.1.0",
      "model_name": "LayoutModel",
      "state": {}
     },
     "c20d04cf967e4aedb49c4c95999480fc": {
      "model_module": "@jupyter-widgets/base",
      "model_module_version": "1.1.0",
      "model_name": "LayoutModel",
      "state": {}
     },
     "c292b8874c4f4bcebed1c9a360df2964": {
      "model_module": "@jupyter-widgets/base",
      "model_module_version": "1.1.0",
      "model_name": "LayoutModel",
      "state": {
       "width": "90px"
      }
     },
     "c2b94464fe8c46c4bc766fc9342971bc": {
      "model_module": "@jupyter-widgets/base",
      "model_module_version": "1.1.0",
      "model_name": "LayoutModel",
      "state": {}
     },
     "c2e6bb3678aa4fb989cae61d26337c34": {
      "model_module": "@jupyter-widgets/controls",
      "model_module_version": "1.4.0",
      "model_name": "DescriptionStyleModel",
      "state": {
       "description_width": ""
      }
     },
     "c3383bbe576346f085ed887be29c1071": {
      "model_module": "@jupyter-widgets/base",
      "model_module_version": "1.1.0",
      "model_name": "LayoutModel",
      "state": {}
     },
     "c355d1874a554165b4099d8da3d35aef": {
      "model_module": "@jupyter-widgets/base",
      "model_module_version": "1.1.0",
      "model_name": "LayoutModel",
      "state": {}
     },
     "c362d636f1984bdd87b4377f49a3dfad": {
      "model_module": "@jupyter-widgets/base",
      "model_module_version": "1.1.0",
      "model_name": "LayoutModel",
      "state": {}
     },
     "c3862d402b5e4ae38fd7d2f0b2414ef0": {
      "model_module": "@jupyter-widgets/controls",
      "model_module_version": "1.4.0",
      "model_name": "DescriptionStyleModel",
      "state": {
       "description_width": ""
      }
     },
     "c422d11f60d5455bae304a583648d393": {
      "model_module": "@jupyter-widgets/controls",
      "model_module_version": "1.4.0",
      "model_name": "DescriptionStyleModel",
      "state": {
       "description_width": ""
      }
     },
     "c443bd8d6997435e91d118677137d5b6": {
      "model_module": "@jupyter-widgets/base",
      "model_module_version": "1.1.0",
      "model_name": "LayoutModel",
      "state": {}
     },
     "c4740552de6548d296f8e504838955f6": {
      "model_module": "@jupyter-widgets/controls",
      "model_module_version": "1.4.0",
      "model_name": "LabelModel",
      "state": {
       "layout": "IPY_MODEL_7fbf0af948254d5e833df4b7c1f732c3",
       "style": "IPY_MODEL_ca7a9803f8d347a8bbfd489404d2a012"
      }
     },
     "c4f81b149ff14f9db55f7a813b4739fd": {
      "model_module": "@jupyter-widgets/controls",
      "model_module_version": "1.4.0",
      "model_name": "FloatTextModel",
      "state": {
       "layout": "IPY_MODEL_2e269a8bd2094127a2842dba4c1a9b3e",
       "step": null,
       "style": "IPY_MODEL_b8b2f07ee6c64dc180f184dafa3db11a"
      }
     },
     "c51bdfc13b47415f9460f0ee83c1df87": {
      "model_module": "@jupyter-widgets/base",
      "model_module_version": "1.1.0",
      "model_name": "LayoutModel",
      "state": {}
     },
     "c528fa3f72494a119beabba3a6213bb7": {
      "model_module": "@jupyter-widgets/controls",
      "model_module_version": "1.4.0",
      "model_name": "DescriptionStyleModel",
      "state": {
       "description_width": ""
      }
     },
     "c52b71d3ecdd45499b48a31dc291647b": {
      "model_module": "@jupyter-widgets/controls",
      "model_module_version": "1.4.0",
      "model_name": "VBoxModel",
      "state": {
       "children": [
        "IPY_MODEL_239576f3ce7641f5ab0c6dbab3e5de53",
        "IPY_MODEL_577aaa8c389e41888c3f64239f36e562"
       ],
       "layout": "IPY_MODEL_4cb46cd0fbe245c188dd480c40e5a1d1"
      }
     },
     "c566d7ba152c41a9bb70e0b1399a0f3e": {
      "model_module": "@jupyter-widgets/controls",
      "model_module_version": "1.4.0",
      "model_name": "HBoxModel",
      "state": {
       "children": [
        "IPY_MODEL_361e3aca296d43a68f658aa71fa8a732",
        "IPY_MODEL_6ebbbf84215946a39d42606ed8a7c1f2",
        "IPY_MODEL_7fe5127d89ef40799cbefafadbcce0d4"
       ],
       "layout": "IPY_MODEL_bd9ea8fefa454648bd9002246ab78f65"
      }
     },
     "c6978c346278421ab9d3e0060569d705": {
      "model_module": "@jupyter-widgets/controls",
      "model_module_version": "1.4.0",
      "model_name": "DropdownModel",
      "state": {
       "_options_labels": [
        "Set Ka and La",
        "Set the eigenvalues"
       ],
       "index": 0,
       "layout": "IPY_MODEL_2c4fbbc1825c495c86831ef2286a8258",
       "style": "IPY_MODEL_75eb8481312149b8a778baff39c99828"
      }
     },
     "c6c48010219b4fb3bd1099d57920ba98": {
      "model_module": "@jupyter-widgets/base",
      "model_module_version": "1.1.0",
      "model_name": "LayoutModel",
      "state": {}
     },
     "c78317dc61044dcebc3800ab9500df9b": {
      "model_module": "@jupyter-widgets/base",
      "model_module_version": "1.1.0",
      "model_name": "LayoutModel",
      "state": {}
     },
     "c7b00e61644b476db2435289f46ce89e": {
      "model_module": "@jupyter-widgets/controls",
      "model_module_version": "1.4.0",
      "model_name": "DescriptionStyleModel",
      "state": {
       "description_width": ""
      }
     },
     "c7f5c40ad2064d6b9c79b7f03511bb7a": {
      "model_module": "@jupyter-widgets/controls",
      "model_module_version": "1.4.0",
      "model_name": "DescriptionStyleModel",
      "state": {
       "description_width": ""
      }
     },
     "c83210e37cf143c6a1e10c38173aaf36": {
      "model_module": "@jupyter-widgets/base",
      "model_module_version": "1.1.0",
      "model_name": "LayoutModel",
      "state": {}
     },
     "c833196d4f674ec093217cd10c5464e5": {
      "model_module": "@jupyter-widgets/base",
      "model_module_version": "1.1.0",
      "model_name": "LayoutModel",
      "state": {}
     },
     "c864e9e808124124b719b91097e41a7f": {
      "model_module": "@jupyter-widgets/base",
      "model_module_version": "1.1.0",
      "model_name": "LayoutModel",
      "state": {}
     },
     "c8ac5668b317410a9bcde617b0967dbc": {
      "model_module": "@jupyter-widgets/controls",
      "model_module_version": "1.4.0",
      "model_name": "VBoxModel",
      "state": {
       "children": [
        "IPY_MODEL_805372bc02a045c08c710be04f5bfce1",
        "IPY_MODEL_2529e49926cd4f8eb55dcc45178ec8f5",
        "IPY_MODEL_d823d4e7406a48cc92133077b3296559",
        "IPY_MODEL_4022fdb8345a466281cb4fb4e0f5a38e",
        "IPY_MODEL_05041977ab73417bb69ef1b71c64c7d9",
        "IPY_MODEL_0809ffdf306c4572b2936a4003504ebc",
        "IPY_MODEL_000105fdb4764586b8ebfab252a36567"
       ],
       "layout": "IPY_MODEL_10f2e8ae48e64a069fdfeda800e6969d"
      }
     },
     "c8e3b70f79e64a5a899729030d7b6963": {
      "model_module": "@jupyter-widgets/controls",
      "model_module_version": "1.4.0",
      "model_name": "FloatTextModel",
      "state": {
       "layout": "IPY_MODEL_3d7b33626e8645189c174b708efd6e17",
       "step": null,
       "style": "IPY_MODEL_307ff552afd445f8aa1f661c0d2a70ab",
       "value": -0.6
      }
     },
     "c9d80ab78eb147b392f2a6bc4c7e0cc4": {
      "model_module": "@jupyter-widgets/controls",
      "model_module_version": "1.4.0",
      "model_name": "VBoxModel",
      "state": {
       "children": [
        "IPY_MODEL_4b6ed1f5b4e8433a9a93b2f387086660",
        "IPY_MODEL_427a705fa0bf44fca560fc285307c61f",
        "IPY_MODEL_2ea7fb5a0dc94b24bc86d1d1361bf465",
        "IPY_MODEL_5555dc11b3b349c3afd005027d05a68b",
        "IPY_MODEL_ead2d37f897d4fdba7cc15fec55eb049",
        "IPY_MODEL_8694d410e6384208982d61b29be57d7b",
        "IPY_MODEL_84cbb61cc3c5445a88ac64650b4b8dfc"
       ],
       "layout": "IPY_MODEL_acc2a1e4067f46c38bb2cbd0039ce326"
      }
     },
     "ca11427347f64c5f951f50f087770cb1": {
      "model_module": "@jupyter-widgets/base",
      "model_module_version": "1.1.0",
      "model_name": "LayoutModel",
      "state": {}
     },
     "ca355890e53a4b8bb1d0575dac3c1bfc": {
      "model_module": "@jupyter-widgets/base",
      "model_module_version": "1.1.0",
      "model_name": "LayoutModel",
      "state": {}
     },
     "ca7a9803f8d347a8bbfd489404d2a012": {
      "model_module": "@jupyter-widgets/controls",
      "model_module_version": "1.4.0",
      "model_name": "DescriptionStyleModel",
      "state": {
       "description_width": ""
      }
     },
     "ca9c829a996f4f7c845b56e8cf922fbd": {
      "model_module": "@jupyter-widgets/controls",
      "model_module_version": "1.4.0",
      "model_name": "DescriptionStyleModel",
      "state": {
       "description_width": ""
      }
     },
     "caa6f261eca948c6b258eef4da69c2e3": {
      "model_module": "@jupyter-widgets/base",
      "model_module_version": "1.1.0",
      "model_name": "LayoutModel",
      "state": {
       "width": "90px"
      }
     },
     "caf38c4519e040de9884ca0747ab7001": {
      "model_module": "@jupyter-widgets/base",
      "model_module_version": "1.1.0",
      "model_name": "LayoutModel",
      "state": {
       "width": "90px"
      }
     },
     "cb3ccf44448e4da3abbc0bb88947e975": {
      "model_module": "@jupyter-widgets/controls",
      "model_module_version": "1.4.0",
      "model_name": "DescriptionStyleModel",
      "state": {
       "description_width": ""
      }
     },
     "cb9817ceda68404cbe65210d6c0e84ad": {
      "model_module": "@jupyter-widgets/controls",
      "model_module_version": "1.4.0",
      "model_name": "DescriptionStyleModel",
      "state": {
       "description_width": ""
      }
     },
     "cbd305ecffbf4083b47607d4767cdc71": {
      "model_module": "@jupyter-widgets/base",
      "model_module_version": "1.1.0",
      "model_name": "LayoutModel",
      "state": {}
     },
     "cc3ae6556e6544b3933ff37fcdc8b124": {
      "model_module": "@jupyter-widgets/controls",
      "model_module_version": "1.4.0",
      "model_name": "LabelModel",
      "state": {
       "layout": "IPY_MODEL_eea30c23809947ecacd9938a63398f49",
       "style": "IPY_MODEL_2b97208d6c1a4fd1966375b6e494aa89"
      }
     },
     "cc47e48caf85445fa010ce953bda0ba2": {
      "model_module": "@jupyter-widgets/base",
      "model_module_version": "1.1.0",
      "model_name": "LayoutModel",
      "state": {
       "width": "90px"
      }
     },
     "ccda01baacc445178323a8cafe80bd7a": {
      "model_module": "@jupyter-widgets/controls",
      "model_module_version": "1.4.0",
      "model_name": "LabelModel",
      "state": {
       "layout": "IPY_MODEL_7e442b8c4332480e8548cbdceab3a51f",
       "style": "IPY_MODEL_0fb6ebd5d60540b4a5135eecb46702e9",
       "value": "Aobs's eigs:"
      }
     },
     "cd02878c94fa4261b5a2f0b343ac62bb": {
      "model_module": "@jupyter-widgets/controls",
      "model_module_version": "1.4.0",
      "model_name": "LabelModel",
      "state": {
       "layout": "IPY_MODEL_3867427d28c94cc5bb52fa78e2eae3e1",
       "style": "IPY_MODEL_7959bdda77b0475b8c3a81a8686baf94"
      }
     },
     "cda7d59ecf3b463e83fbcca7d6ded37f": {
      "model_module": "@jupyter-widgets/controls",
      "model_module_version": "1.4.0",
      "model_name": "DescriptionStyleModel",
      "state": {
       "description_width": ""
      }
     },
     "cde5b2b3ac144657b77fc9480ee3664e": {
      "model_module": "@jupyter-widgets/controls",
      "model_module_version": "1.4.0",
      "model_name": "DescriptionStyleModel",
      "state": {
       "description_width": ""
      }
     },
     "ce2edb54fe42459ca62c2936d6529836": {
      "model_module": "@jupyter-widgets/controls",
      "model_module_version": "1.4.0",
      "model_name": "HBoxModel",
      "state": {
       "children": [
        "IPY_MODEL_aef9a5d2035249b8a3333a29aded71de"
       ],
       "layout": "IPY_MODEL_aa1c17dc86e6441485062eed23d3ab0a"
      }
     },
     "ce92781cb1694e5bae6daa60cfb2a7a9": {
      "model_module": "@jupyter-widgets/controls",
      "model_module_version": "1.4.0",
      "model_name": "FloatTextModel",
      "state": {
       "layout": "IPY_MODEL_1011a14be8014506987e6ff204d26d35",
       "step": null,
       "style": "IPY_MODEL_dcaa65dadfb54c3ebac14f03ddafbc15"
      }
     },
     "cea3dc89a5674bed860a1c0e14d1b995": {
      "model_module": "@jupyter-widgets/controls",
      "model_module_version": "1.4.0",
      "model_name": "DescriptionStyleModel",
      "state": {
       "description_width": ""
      }
     },
     "cea5f3291cc74af99d0e1ea2481ba90a": {
      "model_module": "@jupyter-widgets/base",
      "model_module_version": "1.1.0",
      "model_name": "LayoutModel",
      "state": {
       "width": "90px"
      }
     },
     "cf4f9f2b6fd841228e693206362f7c86": {
      "model_module": "@jupyter-widgets/controls",
      "model_module_version": "1.4.0",
      "model_name": "HBoxModel",
      "state": {
       "children": [
        "IPY_MODEL_5f4fd9d6e5fc4790959289c680e862cf",
        "IPY_MODEL_4c8e37c41a2d416a8c037d763d6ba024",
        "IPY_MODEL_a267df06d1fd4abdbeeaa4b209f965f6",
        "IPY_MODEL_4d2f31be201045a6af6ff6ed5f2d6c7d",
        "IPY_MODEL_84a0b15ddb034a2092338bd2b2ed63e9",
        "IPY_MODEL_f4b016746bb84426baca5c76043f6338",
        "IPY_MODEL_df169b343479430daedc153abc22243f",
        "IPY_MODEL_4f37e4abf7044e669b4f94075743f4dc",
        "IPY_MODEL_ccda01baacc445178323a8cafe80bd7a",
        "IPY_MODEL_b080ba2fe8b74e95941fc70e47b839e1",
        "IPY_MODEL_30ad82f4d06f4c2daaa68aeb2a06dd47"
       ],
       "layout": "IPY_MODEL_f7bd3d3a570f462a94866d884ec485ea"
      }
     },
     "cf52400e360c4a298036c4d771b8ae29": {
      "model_module": "@jupyter-widgets/controls",
      "model_module_version": "1.4.0",
      "model_name": "DescriptionStyleModel",
      "state": {
       "description_width": ""
      }
     },
     "cf7241c197e44ea78648dd7ece9cf032": {
      "model_module": "@jupyter-widgets/base",
      "model_module_version": "1.1.0",
      "model_name": "LayoutModel",
      "state": {
       "height": "0px",
       "width": "0px"
      }
     },
     "cf979171315d44bfbc2c0d6d41f6c225": {
      "model_module": "@jupyter-widgets/controls",
      "model_module_version": "1.4.0",
      "model_name": "LabelModel",
      "state": {
       "layout": "IPY_MODEL_00038a7d51314ae9804a45c996c3038a",
       "style": "IPY_MODEL_2158a36c2a104d1fae5f6a0fdcbc1e78",
       "value": "Aobs's eigs:"
      }
     },
     "cfac6a49ddc04836ab8776cb1d3b44a6": {
      "model_module": "@jupyter-widgets/controls",
      "model_module_version": "1.4.0",
      "model_name": "DescriptionStyleModel",
      "state": {
       "description_width": ""
      }
     },
     "d086c2b805214a99ac336e6b38227e34": {
      "model_module": "@jupyter-widgets/controls",
      "model_module_version": "1.4.0",
      "model_name": "LabelModel",
      "state": {
       "layout": "IPY_MODEL_b9ab7a820e01496bac78cac867d8987e",
       "style": "IPY_MODEL_439dd39502fa4ee18378ac424aae7331"
      }
     },
     "d116ebf0025c483093a9d7c0d666be31": {
      "model_module": "@jupyter-widgets/controls",
      "model_module_version": "1.4.0",
      "model_name": "LabelModel",
      "state": {
       "layout": "IPY_MODEL_5480124c50004a86b7b7cb590e0ac139",
       "style": "IPY_MODEL_775ff011a0444c48b7e5fea4746a0b23"
      }
     },
     "d11f6fc17f944785abd9427772fd5a6d": {
      "model_module": "@jupyter-widgets/base",
      "model_module_version": "1.1.0",
      "model_name": "LayoutModel",
      "state": {}
     },
     "d120caa23d324631a5a9da5ed06acf60": {
      "model_module": "@jupyter-widgets/controls",
      "model_module_version": "1.4.0",
      "model_name": "LabelModel",
      "state": {
       "layout": "IPY_MODEL_0a273f0c4e6e469698eb36d71e786546",
       "style": "IPY_MODEL_f1ebf687e130423a96df29607461d421"
      }
     },
     "d12e5a5b011349588613791490b0f7e0": {
      "model_module": "@jupyter-widgets/base",
      "model_module_version": "1.1.0",
      "model_name": "LayoutModel",
      "state": {}
     },
     "d15a903d9d274ec1921c31e4c33039b4": {
      "model_module": "@jupyter-widgets/controls",
      "model_module_version": "1.4.0",
      "model_name": "DropdownModel",
      "state": {
       "_options_labels": [
        "0 complex eigenvalues",
        "2 complex eigenvalues",
        "4 complex eigenvalues"
       ],
       "description": "Aa:",
       "disabled": true,
       "index": 0,
       "layout": "IPY_MODEL_c20d04cf967e4aedb49c4c95999480fc",
       "style": "IPY_MODEL_3737cb895e114ff3a7264b637d8ad44b"
      }
     },
     "d27c9566e96940a7806b2168e19f1ce9": {
      "model_module": "@jupyter-widgets/controls",
      "model_module_version": "1.4.0",
      "model_name": "DescriptionStyleModel",
      "state": {
       "description_width": ""
      }
     },
     "d29d0b24a5734139942bdffc549f83e2": {
      "model_module": "@jupyter-widgets/controls",
      "model_module_version": "1.4.0",
      "model_name": "HBoxModel",
      "state": {
       "children": [
        "IPY_MODEL_b834c7522897405288cb212a55b55289"
       ],
       "layout": "IPY_MODEL_ad88204fbe9a48e0978492ccd91ad57b"
      }
     },
     "d34a230dde2c42bdb1c91cd1929452d1": {
      "model_module": "@jupyter-widgets/base",
      "model_module_version": "1.1.0",
      "model_name": "LayoutModel",
      "state": {}
     },
     "d4a0305616f9402ea84a9e8b0e1fae85": {
      "model_module": "@jupyter-widgets/controls",
      "model_module_version": "1.4.0",
      "model_name": "FloatTextModel",
      "state": {
       "layout": "IPY_MODEL_62df66a2062b4fb6b65a3ec5bd498614",
       "step": null,
       "style": "IPY_MODEL_b5a41552b1c54b3b8c58bfc026388d4f",
       "value": -0.6
      }
     },
     "d4f898ed505f4e5a918ae8166d217c23": {
      "model_module": "@jupyter-widgets/base",
      "model_module_version": "1.1.0",
      "model_name": "LayoutModel",
      "state": {
       "width": "90px"
      }
     },
     "d5286389e31f44d0a068455235d65e4f": {
      "model_module": "@jupyter-widgets/controls",
      "model_module_version": "1.4.0",
      "model_name": "VBoxModel",
      "state": {
       "children": [
        "IPY_MODEL_a233f2749697478193516c67501f9bf6"
       ],
       "layout": "IPY_MODEL_da4ae4ef89f24d84aa942554a50d86d2"
      }
     },
     "d55492cfde34474dbdce90063cf320f9": {
      "model_module": "@jupyter-widgets/controls",
      "model_module_version": "1.4.0",
      "model_name": "HBoxModel",
      "state": {
       "children": [
        "IPY_MODEL_0aa0bfe4046d4bbd9e3b8fc7e923c19e",
        "IPY_MODEL_6813d187c1be497cb6ed99d0f1315fb5",
        "IPY_MODEL_acecc2cb78574027ab0f5990fddab600",
        "IPY_MODEL_58dabb22e34a44d890df2e51d5b9a651",
        "IPY_MODEL_78331c89a55344a69e9fb04c10aee086"
       ],
       "layout": "IPY_MODEL_8c56ab7322684d198695ba83389a51a8"
      }
     },
     "d5837d49afb144f4b62497a1eee8836b": {
      "model_module": "@jupyter-widgets/controls",
      "model_module_version": "1.4.0",
      "model_name": "LabelModel",
      "state": {
       "layout": "IPY_MODEL_e27cc49491614eb690e345b1f6bdc61a",
       "style": "IPY_MODEL_cde5b2b3ac144657b77fc9480ee3664e"
      }
     },
     "d5eaac2f67684a7b8ea7dd4c17f0b57e": {
      "model_module": "@jupyter-widgets/controls",
      "model_module_version": "1.4.0",
      "model_name": "LabelModel",
      "state": {
       "layout": "IPY_MODEL_1be046e383e644d6a6cfcf29b3777c99",
       "style": "IPY_MODEL_54a95624e0a04f319da0e5b1221e8e55",
       "value": "Aa's eigs:"
      }
     },
     "d602a0f11576447b8ef3d438d93728df": {
      "model_module": "@jupyter-widgets/base",
      "model_module_version": "1.1.0",
      "model_name": "LayoutModel",
      "state": {}
     },
     "d6271142c5a94a4084c7ba3c91dac19b": {
      "model_module": "@jupyter-widgets/controls",
      "model_module_version": "1.4.0",
      "model_name": "DescriptionStyleModel",
      "state": {
       "description_width": ""
      }
     },
     "d636b43c569f4fd99bb74ab2d8a9ca71": {
      "model_module": "@jupyter-widgets/base",
      "model_module_version": "1.1.0",
      "model_name": "LayoutModel",
      "state": {}
     },
     "d6431a11b46943d48afc9b025482f791": {
      "model_module": "@jupyter-widgets/base",
      "model_module_version": "1.1.0",
      "model_name": "LayoutModel",
      "state": {}
     },
     "d6839054cd8f4840b7ceabe64adb74a1": {
      "model_module": "@jupyter-widgets/base",
      "model_module_version": "1.1.0",
      "model_name": "LayoutModel",
      "state": {
       "width": "90px"
      }
     },
     "d7419d00e6774ceb8dbccfc5cf652bfd": {
      "model_module": "@jupyter-widgets/controls",
      "model_module_version": "1.4.0",
      "model_name": "VBoxModel",
      "state": {
       "children": [
        "IPY_MODEL_4115501ee8ec4fccaf278e05a7084396"
       ],
       "layout": "IPY_MODEL_770bc17e71b2425a9baa0f95f322df5b"
      }
     },
     "d75a7d3e1ca540808fcdb68964032440": {
      "model_module": "@jupyter-widgets/controls",
      "model_module_version": "1.4.0",
      "model_name": "DescriptionStyleModel",
      "state": {
       "description_width": ""
      }
     },
     "d823d4e7406a48cc92133077b3296559": {
      "model_module": "@jupyter-widgets/controls",
      "model_module_version": "1.4.0",
      "model_name": "HBoxModel",
      "state": {
       "children": [
        "IPY_MODEL_84e0e3299523499e8fd5a56d12529891",
        "IPY_MODEL_d5286389e31f44d0a068455235d65e4f",
        "IPY_MODEL_842a3f1f0a374c2581602ab8e7600ef6",
        "IPY_MODEL_0f14d36f2e474b439c5338a92acccce0",
        "IPY_MODEL_1fd1af9aa2e34834a4365140e0e3935c",
        "IPY_MODEL_c52b71d3ecdd45499b48a31dc291647b"
       ],
       "layout": "IPY_MODEL_23c82a3754bb4588a4f865849a294568"
      }
     },
     "d859c2d997d6489089f973bec38b3477": {
      "model_module": "@jupyter-widgets/base",
      "model_module_version": "1.1.0",
      "model_name": "LayoutModel",
      "state": {}
     },
     "d8ddf5e62d8a4ddb9e10b54c206800f0": {
      "model_module": "@jupyter-widgets/base",
      "model_module_version": "1.1.0",
      "model_name": "LayoutModel",
      "state": {}
     },
     "d8e55f37c7ae4f07a6fe84a107d33436": {
      "model_module": "@jupyter-widgets/controls",
      "model_module_version": "1.4.0",
      "model_name": "VBoxModel",
      "state": {
       "children": [
        "IPY_MODEL_6caafdd1e1cd4b19a7eeab28deadac64",
        "IPY_MODEL_7acc1d43c7b04f48ada380ce26debb40",
        "IPY_MODEL_3f1ae226f21a4f758daa4a0993a2a3de",
        "IPY_MODEL_42a057f2f2d54c2580b4c3ae90d7ce09",
        "IPY_MODEL_cf4f9f2b6fd841228e693206362f7c86",
        "IPY_MODEL_fa577bc5c8a24267b971d8d0213279dd",
        "IPY_MODEL_7d2ee53e7c144fdb9bf865c1baf9fe1e"
       ],
       "layout": "IPY_MODEL_6ebe86c6b2624222a1c2427ed2c6bb6e"
      }
     },
     "d8ff54fe12f1431ea8b625991bef5e76": {
      "model_module": "@jupyter-widgets/base",
      "model_module_version": "1.1.0",
      "model_name": "LayoutModel",
      "state": {}
     },
     "d9674b7571de42baa745dd6b7c6ecbe8": {
      "model_module": "@jupyter-widgets/controls",
      "model_module_version": "1.4.0",
      "model_name": "DropdownModel",
      "state": {
       "_options_labels": [
        "0 complex eigenvalues",
        "2 complex eigenvalues",
        "4 complex eigenvalues"
       ],
       "description": "Aa:",
       "disabled": true,
       "index": 0,
       "layout": "IPY_MODEL_adb4d4606a424246aaccb800cd1f30df",
       "style": "IPY_MODEL_bd60702069184fb9b8892a8ebb072f01"
      }
     },
     "d9db35bcd55b452caf07ceee07f65e96": {
      "model_module": "@jupyter-widgets/controls",
      "model_module_version": "1.4.0",
      "model_name": "DescriptionStyleModel",
      "state": {
       "description_width": ""
      }
     },
     "da40a5d500a24119bae8200ab190284c": {
      "model_module": "@jupyter-widgets/controls",
      "model_module_version": "1.4.0",
      "model_name": "FloatTextModel",
      "state": {
       "layout": "IPY_MODEL_87536ddd51344558bd4978bbb9aa5d77",
       "step": null,
       "style": "IPY_MODEL_e1298497023e4a4ba0be17974a39ac75",
       "value": -10
      }
     },
     "da4ae4ef89f24d84aa942554a50d86d2": {
      "model_module": "@jupyter-widgets/base",
      "model_module_version": "1.1.0",
      "model_name": "LayoutModel",
      "state": {}
     },
     "da90a50bcb3b4b1ab14fcb5e9ddde844": {
      "model_module": "@jupyter-widgets/controls",
      "model_module_version": "1.4.0",
      "model_name": "DescriptionStyleModel",
      "state": {
       "description_width": ""
      }
     },
     "daf87ceba6fc4cff807558eed8167824": {
      "model_module": "@jupyter-widgets/controls",
      "model_module_version": "1.4.0",
      "model_name": "DescriptionStyleModel",
      "state": {
       "description_width": ""
      }
     },
     "db0dab36d9de4171987fb292d7f515ea": {
      "model_module": "@jupyter-widgets/controls",
      "model_module_version": "1.4.0",
      "model_name": "DescriptionStyleModel",
      "state": {
       "description_width": ""
      }
     },
     "db0e4a9359f5475aa13393f9164115b8": {
      "model_module": "@jupyter-widgets/controls",
      "model_module_version": "1.4.0",
      "model_name": "DescriptionStyleModel",
      "state": {
       "description_width": ""
      }
     },
     "db615f930a5444898a71cb10d3e0db3d": {
      "model_module": "@jupyter-widgets/controls",
      "model_module_version": "1.4.0",
      "model_name": "LabelModel",
      "state": {
       "layout": "IPY_MODEL_1a89916030dc4f8ba8438c3a8c5bbd69",
       "style": "IPY_MODEL_c17f2e2a351e46d0911e870da02c8ea4"
      }
     },
     "db9be7d14e6e4c8ba51e903b13c55e3b": {
      "model_module": "@jupyter-widgets/controls",
      "model_module_version": "1.4.0",
      "model_name": "DescriptionStyleModel",
      "state": {
       "description_width": ""
      }
     },
     "dbb050e8d85846bf845411834a32a4c5": {
      "model_module": "@jupyter-widgets/base",
      "model_module_version": "1.1.0",
      "model_name": "LayoutModel",
      "state": {}
     },
     "dbcee9f186f7420d9ea831d5ef775039": {
      "model_module": "@jupyter-widgets/controls",
      "model_module_version": "1.4.0",
      "model_name": "DropdownModel",
      "state": {
       "_options_labels": [
        "0 complex eigenvalues",
        "2 complex eigenvalues",
        "4 complex eigenvalues"
       ],
       "description": "Aa:",
       "disabled": true,
       "index": 0,
       "layout": "IPY_MODEL_4e069a3035154c4d8c0a47e5fe1f3b9b",
       "style": "IPY_MODEL_2130431e014a406d94f539f123ff4781"
      }
     },
     "dc452b89802e4d66ab5371b81f4bb4a2": {
      "model_module": "@jupyter-widgets/controls",
      "model_module_version": "1.4.0",
      "model_name": "DescriptionStyleModel",
      "state": {
       "description_width": ""
      }
     },
     "dcaa65dadfb54c3ebac14f03ddafbc15": {
      "model_module": "@jupyter-widgets/controls",
      "model_module_version": "1.4.0",
      "model_name": "DescriptionStyleModel",
      "state": {
       "description_width": ""
      }
     },
     "dce3a2ee8dff4853a756267ce47660ed": {
      "model_module": "@jupyter-widgets/base",
      "model_module_version": "1.1.0",
      "model_name": "LayoutModel",
      "state": {}
     },
     "dd21852b6b3d4d24a5e9dbedfd3b63e8": {
      "model_module": "@jupyter-widgets/controls",
      "model_module_version": "1.4.0",
      "model_name": "DescriptionStyleModel",
      "state": {
       "description_width": ""
      }
     },
     "dd34ed0f11bf4739983f6875ef0c9382": {
      "model_module": "@jupyter-widgets/controls",
      "model_module_version": "1.4.0",
      "model_name": "LabelModel",
      "state": {
       "layout": "IPY_MODEL_9edf3cd601b845089ed8bd5d7bc8d3eb",
       "style": "IPY_MODEL_db9be7d14e6e4c8ba51e903b13c55e3b",
       "value": "Aa's eigs:"
      }
     },
     "dd481a0bcf16447a9ec5d9d36bfe144d": {
      "model_module": "@jupyter-widgets/base",
      "model_module_version": "1.1.0",
      "model_name": "LayoutModel",
      "state": {
       "width": "90px"
      }
     },
     "dd750e074b794c73b436f80106ff3f09": {
      "model_module": "@jupyter-widgets/base",
      "model_module_version": "1.1.0",
      "model_name": "LayoutModel",
      "state": {}
     },
     "ddcab2b7d2f24f068e314b8d90dc90c0": {
      "model_module": "@jupyter-widgets/base",
      "model_module_version": "1.1.0",
      "model_name": "LayoutModel",
      "state": {
       "width": "90px"
      }
     },
     "ddcde07e7b004058846b6f64691c5b1b": {
      "model_module": "@jupyter-widgets/controls",
      "model_module_version": "1.4.0",
      "model_name": "DescriptionStyleModel",
      "state": {
       "description_width": ""
      }
     },
     "de0e0312dad54b3aac1bda5344f2766f": {
      "model_module": "@jupyter-widgets/base",
      "model_module_version": "1.1.0",
      "model_name": "LayoutModel",
      "state": {}
     },
     "de0f1909c75e430a86358a3fa0b9a995": {
      "model_module": "@jupyter-widgets/base",
      "model_module_version": "1.1.0",
      "model_name": "LayoutModel",
      "state": {}
     },
     "de50dcc76518449ca4190d0da5b78f9d": {
      "model_module": "@jupyter-widgets/base",
      "model_module_version": "1.1.0",
      "model_name": "LayoutModel",
      "state": {
       "width": "90px"
      }
     },
     "deaede3f369447fa81a975c26718206a": {
      "model_module": "@jupyter-widgets/base",
      "model_module_version": "1.1.0",
      "model_name": "LayoutModel",
      "state": {}
     },
     "def75223186b46c2ab6eb64e80dbe69d": {
      "model_module": "@jupyter-widgets/controls",
      "model_module_version": "1.4.0",
      "model_name": "DescriptionStyleModel",
      "state": {
       "description_width": ""
      }
     },
     "df169b343479430daedc153abc22243f": {
      "model_module": "@jupyter-widgets/controls",
      "model_module_version": "1.4.0",
      "model_name": "LabelModel",
      "state": {
       "layout": "IPY_MODEL_acfff617198a4fed9692133377da3b47",
       "style": "IPY_MODEL_01722e6449294095b69c3399e6500959"
      }
     },
     "df3fedfe68e347c793fc31f53922c394": {
      "model_module": "@jupyter-widgets/controls",
      "model_module_version": "1.4.0",
      "model_name": "LabelModel",
      "state": {
       "layout": "IPY_MODEL_b7ba6d95d1874a64bb2fb648a182f59f",
       "style": "IPY_MODEL_dfb9abd2d0f14f1daead298e97c516d9",
       "value": "Aobs's eigs:"
      }
     },
     "df4f2e5f7cac45da9930e46f5690c3a4": {
      "model_module": "@jupyter-widgets/controls",
      "model_module_version": "1.4.0",
      "model_name": "VBoxModel",
      "state": {
       "children": [
        "IPY_MODEL_eab4cc52bba041929aae83ca52b86262",
        "IPY_MODEL_703688b40d404ccbae95be27274af0cd"
       ],
       "layout": "IPY_MODEL_62d546d4642b403fb7e1f9e62e818f03"
      }
     },
     "df7ca8e6b4e943ab931b5b3d5c5c261c": {
      "model_module": "@jupyter-widgets/controls",
      "model_module_version": "1.4.0",
      "model_name": "DescriptionStyleModel",
      "state": {
       "description_width": ""
      }
     },
     "df806b0f9ea746d4b381b0f1ebe18cb0": {
      "model_module": "@jupyter-widgets/controls",
      "model_module_version": "1.4.0",
      "model_name": "HBoxModel",
      "state": {
       "children": [
        "IPY_MODEL_965ba5aa3bb648c899f8ba33fda5cf31",
        "IPY_MODEL_2207ee2b08c4446987f7e6023e83a82b",
        "IPY_MODEL_c1cafa8250424af186c85c0f7a037d00",
        "IPY_MODEL_1fc3130926714e67a16a6fa21598e553",
        "IPY_MODEL_356747a968bb4a48b3b7722036ed8bf4"
       ],
       "layout": "IPY_MODEL_290c5edce3fd4ba59715d66705fcdd2e"
      }
     },
     "dfb9abd2d0f14f1daead298e97c516d9": {
      "model_module": "@jupyter-widgets/controls",
      "model_module_version": "1.4.0",
      "model_name": "DescriptionStyleModel",
      "state": {
       "description_width": ""
      }
     },
     "e02b4d0e91cd456eb60b5d5243ba5cb5": {
      "model_module": "@jupyter-widgets/base",
      "model_module_version": "1.1.0",
      "model_name": "LayoutModel",
      "state": {
       "width": "90px"
      }
     },
     "e05554ca65324a6b8574c72ca47cf5b7": {
      "model_module": "@jupyter-widgets/controls",
      "model_module_version": "1.4.0",
      "model_name": "DescriptionStyleModel",
      "state": {
       "description_width": ""
      }
     },
     "e07495be61da490a943fd962a0b2267b": {
      "model_module": "@jupyter-widgets/controls",
      "model_module_version": "1.4.0",
      "model_name": "LabelModel",
      "state": {
       "layout": "IPY_MODEL_b16de3267e844d5893eb86aa89317258",
       "style": "IPY_MODEL_d6271142c5a94a4084c7ba3c91dac19b",
       "value": "Aobs's eigs:"
      }
     },
     "e07f8d2fd0284db8ac22cb54ea409be1": {
      "model_module": "@jupyter-widgets/controls",
      "model_module_version": "1.4.0",
      "model_name": "DescriptionStyleModel",
      "state": {
       "description_width": ""
      }
     },
     "e1298497023e4a4ba0be17974a39ac75": {
      "model_module": "@jupyter-widgets/controls",
      "model_module_version": "1.4.0",
      "model_name": "DescriptionStyleModel",
      "state": {
       "description_width": ""
      }
     },
     "e24fb2aa34f844d99bef9c6b7ccac677": {
      "model_module": "@jupyter-widgets/base",
      "model_module_version": "1.1.0",
      "model_name": "LayoutModel",
      "state": {}
     },
     "e25d85fff72e488ea4647079ab727aff": {
      "model_module": "@jupyter-widgets/controls",
      "model_module_version": "1.4.0",
      "model_name": "DescriptionStyleModel",
      "state": {
       "description_width": ""
      }
     },
     "e27cc49491614eb690e345b1f6bdc61a": {
      "model_module": "@jupyter-widgets/base",
      "model_module_version": "1.1.0",
      "model_name": "LayoutModel",
      "state": {}
     },
     "e2a06b360f0e49c6be50c844c97854d2": {
      "model_module": "@jupyter-widgets/base",
      "model_module_version": "1.1.0",
      "model_name": "LayoutModel",
      "state": {
       "width": "90px"
      }
     },
     "e2a1c41856004ffc9cd0fc59df88997a": {
      "model_module": "@jupyter-widgets/controls",
      "model_module_version": "1.4.0",
      "model_name": "DescriptionStyleModel",
      "state": {
       "description_width": ""
      }
     },
     "e2e6de4db47f4ddbacdbd9c843e1e45a": {
      "model_module": "@jupyter-widgets/controls",
      "model_module_version": "1.4.0",
      "model_name": "DescriptionStyleModel",
      "state": {
       "description_width": ""
      }
     },
     "e2f7fa09709b4f89842d92760ea43a0b": {
      "model_module": "@jupyter-widgets/controls",
      "model_module_version": "1.4.0",
      "model_name": "LabelModel",
      "state": {
       "layout": "IPY_MODEL_637824522a5343b0944c5428ef57aa0e",
       "style": "IPY_MODEL_fe09b783fe0d4b9099f6673b2feb299b"
      }
     },
     "e35ded94ccdb411fb3f03b38368623d6": {
      "model_module": "@jupyter-widgets/base",
      "model_module_version": "1.1.0",
      "model_name": "LayoutModel",
      "state": {
       "width": "90px"
      }
     },
     "e3f770ce4cf241e991c713aa951e5765": {
      "model_module": "@jupyter-widgets/controls",
      "model_module_version": "1.4.0",
      "model_name": "LabelModel",
      "state": {
       "layout": "IPY_MODEL_d8ff54fe12f1431ea8b625991bef5e76",
       "style": "IPY_MODEL_bb1503441b804f2caeba60eca1ccbe5f"
      }
     },
     "e4959a4ff1d6428da5531fb2bf42b5eb": {
      "model_module": "@jupyter-widgets/controls",
      "model_module_version": "1.4.0",
      "model_name": "DescriptionStyleModel",
      "state": {
       "description_width": ""
      }
     },
     "e497f72ac994442e867e12b0d2d6c200": {
      "model_module": "@jupyter-widgets/controls",
      "model_module_version": "1.4.0",
      "model_name": "DescriptionStyleModel",
      "state": {
       "description_width": ""
      }
     },
     "e53e8f35bab440248da43e8cba202569": {
      "model_module": "@jupyter-widgets/controls",
      "model_module_version": "1.4.0",
      "model_name": "LabelModel",
      "state": {
       "layout": "IPY_MODEL_3223149f706c4dd4ba260fe3446b92e8",
       "style": "IPY_MODEL_75b5652b09e4461cb6a99471967a68ea"
      }
     },
     "e5ab92b29f3841ce94407c273422297e": {
      "model_module": "@jupyter-widgets/output",
      "model_module_version": "1.0.0",
      "model_name": "OutputModel",
      "state": {
       "layout": "IPY_MODEL_ed2d5f8703174f18b4ac11810f7fc733",
       "outputs": [
        {
         "name": "stdout",
         "output_type": "stream",
         "text": "The Aa's eigenvalues are: -2.24+2.23j, -2.24+-2.23j, -0.28+0.00j, -0.26+0.32j and -0.26+-0.32j\nThe observer\\s eigenvalues are: -10.00+0.00j and -10.00+0.00j\n"
        }
       ]
      }
     },
     "e5ea03176a6d413cbda448812f9f9fac": {
      "model_module": "@jupyter-widgets/controls",
      "model_module_version": "1.4.0",
      "model_name": "DropdownModel",
      "state": {
       "_options_labels": [
        "0 complex eigenvalues",
        "2 complex eigenvalues",
        "4 complex eigenvalues"
       ],
       "description": "Aa:",
       "disabled": true,
       "index": 0,
       "layout": "IPY_MODEL_7799c212da6243439092d8e652f3343a",
       "style": "IPY_MODEL_3bcadc2f01354f5ebada7a948f377681"
      }
     },
     "e6198233953c4e6a91250039d906d212": {
      "model_module": "@jupyter-widgets/controls",
      "model_module_version": "1.4.0",
      "model_name": "HBoxModel",
      "state": {
       "children": [
        "IPY_MODEL_414f93245d2d4a25887f5123fa09bf44",
        "IPY_MODEL_6d68637432684016b0727f506afe0df5",
        "IPY_MODEL_f01b454caf0243f89fac5809d26d4cf2",
        "IPY_MODEL_3fe63ac60ab64ded984e9abeeff7abf5",
        "IPY_MODEL_317ee220faa84115bad387393653c51c",
        "IPY_MODEL_587e0f7d832d4ecc866fb0f39ea9d990",
        "IPY_MODEL_cc3ae6556e6544b3933ff37fcdc8b124",
        "IPY_MODEL_9f7de2b91d5f4664b24e72fafb4248bf",
        "IPY_MODEL_e07495be61da490a943fd962a0b2267b",
        "IPY_MODEL_a3c2a24a94aa456cbd6779a86c1f06ad",
        "IPY_MODEL_25be128dd26d4cd298247bbbc5bbe06a"
       ],
       "layout": "IPY_MODEL_5d6ef847aa5b48c8a1d6f71e115505d6"
      }
     },
     "e64a1f67ddd246a4b2817a99b07cca56": {
      "model_module": "@jupyter-widgets/controls",
      "model_module_version": "1.4.0",
      "model_name": "VBoxModel",
      "state": {
       "children": [
        "IPY_MODEL_df806b0f9ea746d4b381b0f1ebe18cb0"
       ],
       "layout": "IPY_MODEL_108b967aa86f464994fc814c54533fec"
      }
     },
     "e6710c1e57c84d0a8ac493e844396d61": {
      "model_module": "@jupyter-widgets/base",
      "model_module_version": "1.1.0",
      "model_name": "LayoutModel",
      "state": {}
     },
     "e675d75bec4b474dba2d599e91931cd2": {
      "model_module": "@jupyter-widgets/controls",
      "model_module_version": "1.4.0",
      "model_name": "HBoxModel",
      "state": {
       "children": [
        "IPY_MODEL_c6978c346278421ab9d3e0060569d705",
        "IPY_MODEL_b952ba902f6a46968b42685d2716bfea",
        "IPY_MODEL_416b8f7b106846d0870026946b4f6b5a"
       ],
       "layout": "IPY_MODEL_c833196d4f674ec093217cd10c5464e5"
      }
     },
     "e6f9740ecb9c4b1e890dc2e32b0d34a7": {
      "model_module": "@jupyter-widgets/base",
      "model_module_version": "1.1.0",
      "model_name": "LayoutModel",
      "state": {
       "height": "0px",
       "width": "0px"
      }
     },
     "e740dfcb3cf649d4bee10bf6ee195301": {
      "model_module": "@jupyter-widgets/controls",
      "model_module_version": "1.4.0",
      "model_name": "LabelModel",
      "state": {
       "layout": "IPY_MODEL_c864e9e808124124b719b91097e41a7f",
       "style": "IPY_MODEL_c7f5c40ad2064d6b9c79b7f03511bb7a"
      }
     },
     "e75eff08ebb144498999ffac93f14395": {
      "model_module": "@jupyter-widgets/base",
      "model_module_version": "1.1.0",
      "model_name": "LayoutModel",
      "state": {
       "width": "90px"
      }
     },
     "e7631457cbcc4012bd350f9a84cef00c": {
      "model_module": "@jupyter-widgets/controls",
      "model_module_version": "1.4.0",
      "model_name": "DescriptionStyleModel",
      "state": {
       "description_width": ""
      }
     },
     "e7eba20de0944e0c98115502cd135383": {
      "model_module": "@jupyter-widgets/controls",
      "model_module_version": "1.4.0",
      "model_name": "LabelModel",
      "state": {
       "layout": "IPY_MODEL_694dd07aee66466bb45bfff329e60483",
       "style": "IPY_MODEL_db0e4a9359f5475aa13393f9164115b8"
      }
     },
     "e803009919e34d8eaf8b05eec6e7095e": {
      "model_module": "@jupyter-widgets/controls",
      "model_module_version": "1.4.0",
      "model_name": "LabelModel",
      "state": {
       "layout": "IPY_MODEL_7371a287f94840aa829ef2d8d94c4853",
       "style": "IPY_MODEL_45252723ac28472a970b95e3e6e933d5"
      }
     },
     "e80abac93ac54bc8a6d91a52c4fd70cc": {
      "model_module": "@jupyter-widgets/controls",
      "model_module_version": "1.4.0",
      "model_name": "DescriptionStyleModel",
      "state": {
       "description_width": ""
      }
     },
     "e819fefb797041e89e4f72749e00edab": {
      "model_module": "@jupyter-widgets/controls",
      "model_module_version": "1.4.0",
      "model_name": "LabelModel",
      "state": {
       "layout": "IPY_MODEL_07fef6b966c54e33b18032e66099953d",
       "style": "IPY_MODEL_524e523ee79e43c987c381c69c9afe85"
      }
     },
     "e81bb22a34de44a18e29476b4d713e71": {
      "model_module": "@jupyter-widgets/base",
      "model_module_version": "1.1.0",
      "model_name": "LayoutModel",
      "state": {}
     },
     "e89ff4014f0e49528bbf4e98a760fe39": {
      "model_module": "@jupyter-widgets/controls",
      "model_module_version": "1.4.0",
      "model_name": "FloatTextModel",
      "state": {
       "disabled": true,
       "layout": "IPY_MODEL_14cf269aca7449979c09408a3fc45663",
       "step": null,
       "style": "IPY_MODEL_4c88f970164e400a9fdb30163e7153f1",
       "value": -0.6
      }
     },
     "e946f509a27349d3ad44c1af4e53fc3a": {
      "model_module": "@jupyter-widgets/controls",
      "model_module_version": "1.4.0",
      "model_name": "HBoxModel",
      "state": {
       "children": [
        "IPY_MODEL_0f26c8afca96402aa66b81bc451a3559",
        "IPY_MODEL_d116ebf0025c483093a9d7c0d666be31",
        "IPY_MODEL_f7db352aad7f48b287d557cc324204f9",
        "IPY_MODEL_e2f7fa09709b4f89842d92760ea43a0b",
        "IPY_MODEL_83cff18e6a264988ae36134b674e5a85"
       ],
       "layout": "IPY_MODEL_7b620fcf26764dc59856cf8c17e225c6"
      }
     },
     "e9a73fa1f34747818d3505be6015e5a8": {
      "model_module": "@jupyter-widgets/controls",
      "model_module_version": "1.4.0",
      "model_name": "DescriptionStyleModel",
      "state": {
       "description_width": ""
      }
     },
     "ea21094a446f4ef5a10ba3ec7281a8e1": {
      "model_module": "@jupyter-widgets/controls",
      "model_module_version": "1.4.0",
      "model_name": "DescriptionStyleModel",
      "state": {
       "description_width": ""
      }
     },
     "eab4cc52bba041929aae83ca52b86262": {
      "model_module": "@jupyter-widgets/controls",
      "model_module_version": "1.4.0",
      "model_name": "HBoxModel",
      "state": {
       "children": [
        "IPY_MODEL_20cb9075c7db4936a347bd454de3b582",
        "IPY_MODEL_22374c75f7794f22a5f88e46fc333e82",
        "IPY_MODEL_ce92781cb1694e5bae6daa60cfb2a7a9"
       ],
       "layout": "IPY_MODEL_6aa250d5c0944d639991a61220a87849"
      }
     },
     "ead2d37f897d4fdba7cc15fec55eb049": {
      "model_module": "@jupyter-widgets/controls",
      "model_module_version": "1.4.0",
      "model_name": "HBoxModel",
      "state": {
       "children": [
        "IPY_MODEL_21b672a6f2cb476a859c6c8b77770295",
        "IPY_MODEL_6d68637432684016b0727f506afe0df5",
        "IPY_MODEL_f01b454caf0243f89fac5809d26d4cf2",
        "IPY_MODEL_3fe63ac60ab64ded984e9abeeff7abf5",
        "IPY_MODEL_317ee220faa84115bad387393653c51c",
        "IPY_MODEL_587e0f7d832d4ecc866fb0f39ea9d990",
        "IPY_MODEL_fa04e72257b6472aa13cb02af3130812",
        "IPY_MODEL_f052288ca5ad43bb81cb89f7166b583e",
        "IPY_MODEL_019c9aac684248e991ad2ca479ca9e54",
        "IPY_MODEL_a3c2a24a94aa456cbd6779a86c1f06ad",
        "IPY_MODEL_25be128dd26d4cd298247bbbc5bbe06a"
       ],
       "layout": "IPY_MODEL_cbd305ecffbf4083b47607d4767cdc71"
      }
     },
     "eb04c670a97349aa81672b123aa0368f": {
      "model_module": "@jupyter-widgets/controls",
      "model_module_version": "1.4.0",
      "model_name": "ButtonStyleModel",
      "state": {}
     },
     "eb3ee6a786584c6d9f2da7657cac6d2a": {
      "model_module": "@jupyter-widgets/controls",
      "model_module_version": "1.4.0",
      "model_name": "LabelModel",
      "state": {
       "layout": "IPY_MODEL_d34a230dde2c42bdb1c91cd1929452d1",
       "style": "IPY_MODEL_0b517246f8e34440abe426b02300a069",
       "value": "Aobs's eigs:"
      }
     },
     "eb845b48322e45158642a399f660afa0": {
      "model_module": "@jupyter-widgets/base",
      "model_module_version": "1.1.0",
      "model_name": "LayoutModel",
      "state": {
       "width": "90px"
      }
     },
     "eb895777800d4b5dad6593c98477136a": {
      "model_module": "@jupyter-widgets/controls",
      "model_module_version": "1.4.0",
      "model_name": "LabelModel",
      "state": {
       "layout": "IPY_MODEL_c78317dc61044dcebc3800ab9500df9b",
       "style": "IPY_MODEL_14197243320e4c27bf97e564d6f16016"
      }
     },
     "eba8111f91b243d0b9783cc3e4381001": {
      "model_module": "@jupyter-widgets/controls",
      "model_module_version": "1.4.0",
      "model_name": "DescriptionStyleModel",
      "state": {
       "description_width": ""
      }
     },
     "ebb16ece53454ebcaf4e7e76b58df6c0": {
      "model_module": "@jupyter-widgets/base",
      "model_module_version": "1.1.0",
      "model_name": "LayoutModel",
      "state": {}
     },
     "ebb77dc0261f4b568809a80141cc5e95": {
      "model_module": "@jupyter-widgets/controls",
      "model_module_version": "1.4.0",
      "model_name": "LabelModel",
      "state": {
       "layout": "IPY_MODEL_72d88d2553ac41c4ac690fe0e067324e",
       "style": "IPY_MODEL_85217905f330467f8b5be2ca26a9808f"
      }
     },
     "ebf0f598131a450587d040772038e710": {
      "model_module": "@jupyter-widgets/controls",
      "model_module_version": "1.4.0",
      "model_name": "LabelModel",
      "state": {
       "layout": "IPY_MODEL_a7b4cf28d00f47458db9d6207df4c87c",
       "style": "IPY_MODEL_4112fde42af14183bbd1dc0f0588e5c3"
      }
     },
     "ec3fff96409f451e8c01a23c1f99995c": {
      "model_module": "@jupyter-widgets/controls",
      "model_module_version": "1.4.0",
      "model_name": "LabelModel",
      "state": {
       "layout": "IPY_MODEL_1dc05884ae5f4e7d823343a71c5d6ddd",
       "style": "IPY_MODEL_66b0c1e2ed6d42b4934c79d6d7cb6bc6"
      }
     },
     "ecd20c3dc57245719c571ef17d01685c": {
      "model_module": "@jupyter-widgets/base",
      "model_module_version": "1.1.0",
      "model_name": "LayoutModel",
      "state": {
       "width": "90px"
      }
     },
     "ed2d5f8703174f18b4ac11810f7fc733": {
      "model_module": "@jupyter-widgets/base",
      "model_module_version": "1.1.0",
      "model_name": "LayoutModel",
      "state": {}
     },
     "ed2d8c9e95644c48982990fdeaf43bbe": {
      "model_module": "@jupyter-widgets/base",
      "model_module_version": "1.1.0",
      "model_name": "LayoutModel",
      "state": {
       "width": "90px"
      }
     },
     "ed387f51cefd4c6e9562fcd544998001": {
      "model_module": "@jupyter-widgets/controls",
      "model_module_version": "1.4.0",
      "model_name": "FloatTextModel",
      "state": {
       "layout": "IPY_MODEL_5726c2125b484b7b9f531b64aad3748a",
       "step": null,
       "style": "IPY_MODEL_ef8369410e284bcba956b8650a4efe64",
       "value": -10
      }
     },
     "ed5069a98fda4fd89f8f6f2f037d4397": {
      "model_module": "@jupyter-widgets/controls",
      "model_module_version": "1.4.0",
      "model_name": "FloatTextModel",
      "state": {
       "layout": "IPY_MODEL_c10b5ac94db5488995240984fb80572d",
       "step": null,
       "style": "IPY_MODEL_f4484867d9a2404b8af89c12d9fee1b5",
       "value": 13861
      }
     },
     "ed7dd44c3eaa46c784871681f16bc0f0": {
      "model_module": "@jupyter-widgets/base",
      "model_module_version": "1.1.0",
      "model_name": "LayoutModel",
      "state": {}
     },
     "eda9ff75f90e4e86815627781902014a": {
      "model_module": "@jupyter-widgets/controls",
      "model_module_version": "1.4.0",
      "model_name": "DropdownModel",
      "state": {
       "_options_labels": [
        "0 complex eigenvalues",
        "2 complex eigenvalues"
       ],
       "description": "Aobs:",
       "disabled": true,
       "index": 0,
       "layout": "IPY_MODEL_b797a5ddd90043d48dd5a77c0f954f95",
       "style": "IPY_MODEL_ac0ffe7011a04929a5584f8a14bbb898"
      }
     },
     "edb98a49aed04ce2b99d3a4898054f4d": {
      "model_module": "@jupyter-widgets/controls",
      "model_module_version": "1.4.0",
      "model_name": "LabelModel",
      "state": {
       "layout": "IPY_MODEL_9d157d49b60d48c9ae30175ff22d2776",
       "style": "IPY_MODEL_9c7326c1824c4d51bcba36be24cfd780"
      }
     },
     "edf2c458601a4c2986e9084a559dcd3a": {
      "model_module": "@jupyter-widgets/base",
      "model_module_version": "1.1.0",
      "model_name": "LayoutModel",
      "state": {}
     },
     "ee4aa316d9714e888f3c23995436d5e6": {
      "model_module": "@jupyter-widgets/controls",
      "model_module_version": "1.4.0",
      "model_name": "HBoxModel",
      "state": {
       "children": [
        "IPY_MODEL_b6800bb5073f4fb49de9e3b04e45f578"
       ],
       "layout": "IPY_MODEL_36b6b604c9464f058cab5c96b0e7fd11"
      }
     },
     "ee6a33ca9388418faed0c5e29b4b9ad3": {
      "model_module": "@jupyter-widgets/controls",
      "model_module_version": "1.4.0",
      "model_name": "HBoxModel",
      "state": {
       "children": [
        "IPY_MODEL_b21b2a2d1b35450395e3c319fc54c196"
       ],
       "layout": "IPY_MODEL_90289c97f60843f89f00cd95a0fca4b9"
      }
     },
     "eea30c23809947ecacd9938a63398f49": {
      "model_module": "@jupyter-widgets/base",
      "model_module_version": "1.1.0",
      "model_name": "LayoutModel",
      "state": {}
     },
     "eed4b893f8914ebb9d38fb0d061e5369": {
      "model_module": "@jupyter-widgets/base",
      "model_module_version": "1.1.0",
      "model_name": "LayoutModel",
      "state": {}
     },
     "eeea2616635d4149881ea9df9f5a14cb": {
      "model_module": "@jupyter-widgets/controls",
      "model_module_version": "1.4.0",
      "model_name": "LabelModel",
      "state": {
       "layout": "IPY_MODEL_1e33b781497341b1996b09276820d8e0",
       "style": "IPY_MODEL_208dd43bf82041139b3985a6cc8b89b3"
      }
     },
     "eef564791f8b41739add71b75be481ec": {
      "model_module": "@jupyter-widgets/controls",
      "model_module_version": "1.4.0",
      "model_name": "FloatTextModel",
      "state": {
       "layout": "IPY_MODEL_d4f898ed505f4e5a918ae8166d217c23",
       "step": null,
       "style": "IPY_MODEL_e2e6de4db47f4ddbacdbd9c843e1e45a",
       "value": -0.2
      }
     },
     "ef1dd140766840bb8e931471f5f301c9": {
      "model_module": "@jupyter-widgets/controls",
      "model_module_version": "1.4.0",
      "model_name": "FloatTextModel",
      "state": {
       "disabled": true,
       "layout": "IPY_MODEL_cc47e48caf85445fa010ce953bda0ba2",
       "step": null,
       "style": "IPY_MODEL_7a86b8685c0d4d4ab4dfd942b31e689e"
      }
     },
     "ef440a7110ee47b08f272167ab804708": {
      "model_module": "@jupyter-widgets/base",
      "model_module_version": "1.1.0",
      "model_name": "LayoutModel",
      "state": {}
     },
     "ef8032f4b5344c16ae90cfbfd02231d6": {
      "model_module": "@jupyter-widgets/controls",
      "model_module_version": "1.4.0",
      "model_name": "LabelModel",
      "state": {
       "layout": "IPY_MODEL_bf122223b2724a248d55dd42cc9b3191",
       "style": "IPY_MODEL_f01c7a1026c14bdfa39a40648f44556d"
      }
     },
     "ef8369410e284bcba956b8650a4efe64": {
      "model_module": "@jupyter-widgets/controls",
      "model_module_version": "1.4.0",
      "model_name": "DescriptionStyleModel",
      "state": {
       "description_width": ""
      }
     },
     "f01b454caf0243f89fac5809d26d4cf2": {
      "model_module": "@jupyter-widgets/controls",
      "model_module_version": "1.4.0",
      "model_name": "VBoxModel",
      "state": {
       "children": [
        "IPY_MODEL_751f4dd6192f4b71b9ffc8b626f4ab84",
        "IPY_MODEL_0b4ba8575fd04aaaaea39527815d5e55"
       ],
       "layout": "IPY_MODEL_0e87eb36298b40c88aa507280a88673b"
      }
     },
     "f01c7a1026c14bdfa39a40648f44556d": {
      "model_module": "@jupyter-widgets/controls",
      "model_module_version": "1.4.0",
      "model_name": "DescriptionStyleModel",
      "state": {
       "description_width": ""
      }
     },
     "f052288ca5ad43bb81cb89f7166b583e": {
      "model_module": "@jupyter-widgets/controls",
      "model_module_version": "1.4.0",
      "model_name": "LabelModel",
      "state": {
       "layout": "IPY_MODEL_363c1e3703ab462a93ff019e7bc417eb",
       "style": "IPY_MODEL_38105898ff504547a93e80b47afac00d"
      }
     },
     "f0784b65c1cf46f9af5e149ad2e1bf93": {
      "model_module": "@jupyter-widgets/controls",
      "model_module_version": "1.4.0",
      "model_name": "DescriptionStyleModel",
      "state": {
       "description_width": ""
      }
     },
     "f13fe2c0b63c45769a832e70c2b163af": {
      "model_module": "@jupyter-widgets/base",
      "model_module_version": "1.1.0",
      "model_name": "LayoutModel",
      "state": {
       "width": "90px"
      }
     },
     "f1ebf687e130423a96df29607461d421": {
      "model_module": "@jupyter-widgets/controls",
      "model_module_version": "1.4.0",
      "model_name": "DescriptionStyleModel",
      "state": {
       "description_width": ""
      }
     },
     "f24072b2fc174c678db9de5d308468b8": {
      "model_module": "@jupyter-widgets/base",
      "model_module_version": "1.1.0",
      "model_name": "LayoutModel",
      "state": {}
     },
     "f2b45504c367429daa45903dc955e9f7": {
      "model_module": "@jupyter-widgets/output",
      "model_module_version": "1.0.0",
      "model_name": "OutputModel",
      "state": {
       "layout": "IPY_MODEL_b7a97461761e4eecb7aa7b1254c26810",
       "outputs": [
        {
         "name": "stdout",
         "output_type": "stream",
         "text": "The Aa's eigenvalues are: -2.24+2.23j, -2.24+-2.23j, -0.28+0.00j, -0.26+0.32j and -0.26+-0.32j\nThe observer\\s eigenvalues are: -10.00+0.00j and -10.00+0.00j\n"
        }
       ]
      }
     },
     "f342b0e683a541f88af64b284dcd2a0f": {
      "model_module": "@jupyter-widgets/controls",
      "model_module_version": "1.4.0",
      "model_name": "HBoxModel",
      "state": {
       "children": [
        "IPY_MODEL_402c9bde36d74803b3e44a1d9d24a7bf"
       ],
       "layout": "IPY_MODEL_ed7dd44c3eaa46c784871681f16bc0f0"
      }
     },
     "f3ccbef2b83d4b939389534c7a034c8e": {
      "model_module": "@jupyter-widgets/controls",
      "model_module_version": "1.4.0",
      "model_name": "LabelModel",
      "state": {
       "layout": "IPY_MODEL_c2b94464fe8c46c4bc766fc9342971bc",
       "style": "IPY_MODEL_4c44c42077ed435898d338ddb0ba0436",
       "value": "Ka:"
      }
     },
     "f3e6fb5eb49042e08cb1f9909bc388ea": {
      "model_module": "@jupyter-widgets/controls",
      "model_module_version": "1.4.0",
      "model_name": "HBoxModel",
      "state": {
       "children": [
        "IPY_MODEL_4fb69747e2b94cc39379030795002c6b",
        "IPY_MODEL_21eabbad715941b99f63fe2a4776bc00",
        "IPY_MODEL_13b9e1059bd644deab53f4bbff6caec0"
       ],
       "layout": "IPY_MODEL_8eb6aa9cb43341ccb9ce62f5ca112617"
      }
     },
     "f42e19a237c34b6180896202e734db4b": {
      "model_module": "@jupyter-widgets/controls",
      "model_module_version": "1.4.0",
      "model_name": "DescriptionStyleModel",
      "state": {
       "description_width": ""
      }
     },
     "f4484867d9a2404b8af89c12d9fee1b5": {
      "model_module": "@jupyter-widgets/controls",
      "model_module_version": "1.4.0",
      "model_name": "DescriptionStyleModel",
      "state": {
       "description_width": ""
      }
     },
     "f48ce26f0db74d56b4257564f06b803e": {
      "model_module": "@jupyter-widgets/controls",
      "model_module_version": "1.4.0",
      "model_name": "DescriptionStyleModel",
      "state": {
       "description_width": ""
      }
     },
     "f4b016746bb84426baca5c76043f6338": {
      "model_module": "@jupyter-widgets/controls",
      "model_module_version": "1.4.0",
      "model_name": "VBoxModel",
      "state": {
       "children": [
        "IPY_MODEL_07f5abd468dd4c468a64aed63128e248"
       ],
       "layout": "IPY_MODEL_4270a3ab84d24c2a87739c20e2005d65"
      }
     },
     "f4ddf9715a014e14be8ecb2b3ae86c47": {
      "model_module": "@jupyter-widgets/controls",
      "model_module_version": "1.4.0",
      "model_name": "DropdownModel",
      "state": {
       "_options_labels": [
        "0 complex eigenvalues",
        "2 complex eigenvalues"
       ],
       "description": "Aobs:",
       "disabled": true,
       "index": 0,
       "layout": "IPY_MODEL_e6710c1e57c84d0a8ac493e844396d61",
       "style": "IPY_MODEL_0a7c3f2ed52f4978a43c2ce6b2ed5a0d"
      }
     },
     "f60d5a9a35db4218bf1cb50b763bfbd8": {
      "model_module": "@jupyter-widgets/controls",
      "model_module_version": "1.4.0",
      "model_name": "DescriptionStyleModel",
      "state": {
       "description_width": ""
      }
     },
     "f66682badded4087a8e4129a3e4d524b": {
      "model_module": "@jupyter-widgets/controls",
      "model_module_version": "1.4.0",
      "model_name": "HBoxModel",
      "state": {
       "children": [
        "IPY_MODEL_da40a5d500a24119bae8200ab190284c"
       ],
       "layout": "IPY_MODEL_9aa8d3ec40df4e009aab31ecae602e3a"
      }
     },
     "f699eb1a696a488fab7f9c72c92dee1a": {
      "model_module": "@jupyter-widgets/base",
      "model_module_version": "1.1.0",
      "model_name": "LayoutModel",
      "state": {}
     },
     "f6adbb16255046328fb88ed295414e1e": {
      "model_module": "@jupyter-widgets/controls",
      "model_module_version": "1.4.0",
      "model_name": "FloatTextModel",
      "state": {
       "layout": "IPY_MODEL_f9bc59ff9da64788aab62303d63ab728",
       "step": null,
       "style": "IPY_MODEL_ade065b9c0274c9f8243ed695fe68333",
       "value": 316
      }
     },
     "f7bd3d3a570f462a94866d884ec485ea": {
      "model_module": "@jupyter-widgets/base",
      "model_module_version": "1.1.0",
      "model_name": "LayoutModel",
      "state": {}
     },
     "f7db352aad7f48b287d557cc324204f9": {
      "model_module": "@jupyter-widgets/controls",
      "model_module_version": "1.4.0",
      "model_name": "LabelModel",
      "state": {
       "layout": "IPY_MODEL_fb95f930529d4f57b36b5e52f981ab6b",
       "style": "IPY_MODEL_8390228ad1364aa68a86b96bf642bf61"
      }
     },
     "f8067f8c672e4164a2165c0319b30ee6": {
      "model_module": "@jupyter-widgets/controls",
      "model_module_version": "1.4.0",
      "model_name": "DescriptionStyleModel",
      "state": {
       "description_width": ""
      }
     },
     "f86a60dda4fc42509dc33d6808857b59": {
      "model_module": "@jupyter-widgets/controls",
      "model_module_version": "1.4.0",
      "model_name": "HBoxModel",
      "state": {
       "children": [
        "IPY_MODEL_6157e5ac18a04380bfcdf3e5360c1f10"
       ],
       "layout": "IPY_MODEL_a8c021ecd91740e0a4a051e52059b3e9"
      }
     },
     "f86ef0c63af448cbba07abd5003acb2c": {
      "model_module": "@jupyter-widgets/base",
      "model_module_version": "1.1.0",
      "model_name": "LayoutModel",
      "state": {}
     },
     "f971744a6b6f4c44b945449b4acd81c4": {
      "model_module": "@jupyter-widgets/controls",
      "model_module_version": "1.4.0",
      "model_name": "DescriptionStyleModel",
      "state": {
       "description_width": ""
      }
     },
     "f9982efc85a34595ba056a20e5f29111": {
      "model_module": "@jupyter-widgets/base",
      "model_module_version": "1.1.0",
      "model_name": "LayoutModel",
      "state": {}
     },
     "f9a795a7869345c3a2ebfa402d45f25b": {
      "model_module": "@jupyter-widgets/controls",
      "model_module_version": "1.4.0",
      "model_name": "DescriptionStyleModel",
      "state": {
       "description_width": ""
      }
     },
     "f9bc59ff9da64788aab62303d63ab728": {
      "model_module": "@jupyter-widgets/base",
      "model_module_version": "1.1.0",
      "model_name": "LayoutModel",
      "state": {
       "width": "90px"
      }
     },
     "f9d812c863db402d90b2c980d38bb13c": {
      "model_module": "@jupyter-widgets/base",
      "model_module_version": "1.1.0",
      "model_name": "LayoutModel",
      "state": {}
     },
     "f9e272cddc0d46a8b29b88bc2031a7b6": {
      "model_module": "@jupyter-widgets/base",
      "model_module_version": "1.1.0",
      "model_name": "LayoutModel",
      "state": {}
     },
     "f9efcf465553492696c39a2edafe44fc": {
      "model_module": "@jupyter-widgets/controls",
      "model_module_version": "1.4.0",
      "model_name": "ButtonStyleModel",
      "state": {}
     },
     "fa04e72257b6472aa13cb02af3130812": {
      "model_module": "@jupyter-widgets/controls",
      "model_module_version": "1.4.0",
      "model_name": "LabelModel",
      "state": {
       "layout": "IPY_MODEL_52d2c84751bb4e7cba68bcd9a091bba1",
       "style": "IPY_MODEL_eba8111f91b243d0b9783cc3e4381001"
      }
     },
     "fa577bc5c8a24267b971d8d0213279dd": {
      "model_module": "@jupyter-widgets/controls",
      "model_module_version": "1.4.0",
      "model_name": "LabelModel",
      "state": {
       "layout": "IPY_MODEL_e81bb22a34de44a18e29476b4d713e71",
       "style": "IPY_MODEL_1b74db63daf04430bfbc9b90a4d2a0b9"
      }
     },
     "fa694349488843568882bce05ddefe64": {
      "model_module": "@jupyter-widgets/controls",
      "model_module_version": "1.4.0",
      "model_name": "HBoxModel",
      "state": {
       "children": [
        "IPY_MODEL_b9934d2ea426442b947bc55a6a98475c",
        "IPY_MODEL_d5286389e31f44d0a068455235d65e4f",
        "IPY_MODEL_db615f930a5444898a71cb10d3e0db3d",
        "IPY_MODEL_0fbab12f3fc8478a8d773b74b0d46c8b",
        "IPY_MODEL_992c66e245f641c19dbfccd1fcf3dc9b",
        "IPY_MODEL_c52b71d3ecdd45499b48a31dc291647b"
       ],
       "layout": "IPY_MODEL_51c5d8276bd747b39c3117b7fe0d1529"
      }
     },
     "fa6b3a1cd38f4591b1ea46c619cb3030": {
      "model_module": "@jupyter-widgets/controls",
      "model_module_version": "1.4.0",
      "model_name": "DescriptionStyleModel",
      "state": {
       "description_width": ""
      }
     },
     "fa779ef2a19142449b6539ff5c0afb2a": {
      "model_module": "@jupyter-widgets/controls",
      "model_module_version": "1.4.0",
      "model_name": "LabelModel",
      "state": {
       "layout": "IPY_MODEL_808008c7a6d64220a24e0e57526aee9a",
       "style": "IPY_MODEL_33bfa08767d84ae4a47341c4859c6d8e",
       "value": "Ka:"
      }
     },
     "fae3f97f39754d1ba4c31c0a281630ef": {
      "model_module": "@jupyter-widgets/base",
      "model_module_version": "1.1.0",
      "model_name": "LayoutModel",
      "state": {}
     },
     "faefe63476c24a01aaf13a0d22a20e41": {
      "model_module": "@jupyter-widgets/controls",
      "model_module_version": "1.4.0",
      "model_name": "DropdownModel",
      "state": {
       "_options_labels": [
        "Set Ka and La",
        "Set the eigenvalues"
       ],
       "index": 0,
       "layout": "IPY_MODEL_491cd4b112cf45e3aba71d0563e0768d",
       "style": "IPY_MODEL_f9a795a7869345c3a2ebfa402d45f25b"
      }
     },
     "fb4bc4d4d3a648d7a6a9df184cce12b6": {
      "model_module": "@jupyter-widgets/controls",
      "model_module_version": "1.4.0",
      "model_name": "HBoxModel",
      "state": {
       "children": [
        "IPY_MODEL_2f3e230ec0f74c2db5e3641c839f2213",
        "IPY_MODEL_d5286389e31f44d0a068455235d65e4f",
        "IPY_MODEL_67a96f99e9b841eaaff526b823dd21aa",
        "IPY_MODEL_b71de6e879bf43289b585f20d30e8ed5",
        "IPY_MODEL_5433f855b1e144bd9f99ee35a93dddd2",
        "IPY_MODEL_c52b71d3ecdd45499b48a31dc291647b"
       ],
       "layout": "IPY_MODEL_49bb0a8604b14c99a08b92915c5fc8d4"
      }
     },
     "fb95f930529d4f57b36b5e52f981ab6b": {
      "model_module": "@jupyter-widgets/base",
      "model_module_version": "1.1.0",
      "model_name": "LayoutModel",
      "state": {}
     },
     "fbb1d9058ea14688b02e1bf1f255cd4f": {
      "model_module": "@jupyter-widgets/controls",
      "model_module_version": "1.4.0",
      "model_name": "FloatTextModel",
      "state": {
       "layout": "IPY_MODEL_d6839054cd8f4840b7ceabe64adb74a1",
       "step": null,
       "style": "IPY_MODEL_94c62e1f059546eaa77c67a8748086d9",
       "value": 5275
      }
     },
     "fbf8566bdb534d5dbaa859344be12c0e": {
      "model_module": "@jupyter-widgets/base",
      "model_module_version": "1.1.0",
      "model_name": "LayoutModel",
      "state": {}
     },
     "fc243b3b10e846438dd07009179844f7": {
      "model_module": "@jupyter-widgets/base",
      "model_module_version": "1.1.0",
      "model_name": "LayoutModel",
      "state": {}
     },
     "fcea6582999f41d3998d812ef0156748": {
      "model_module": "@jupyter-widgets/base",
      "model_module_version": "1.1.0",
      "model_name": "LayoutModel",
      "state": {}
     },
     "fd59bda6f0d24120b0d6c12b5f6b8722": {
      "model_module": "@jupyter-widgets/controls",
      "model_module_version": "1.4.0",
      "model_name": "HBoxModel",
      "state": {
       "children": [
        "IPY_MODEL_f3ccbef2b83d4b939389534c7a034c8e",
        "IPY_MODEL_7a2c5d36b676498d86709b794261b2e5",
        "IPY_MODEL_5c81d6ad649d4942907fecd01757d79a",
        "IPY_MODEL_3ae048ad15b44938b8b8c0d5af7219e8",
        "IPY_MODEL_417d4660c0684d73b14d876b04be9db0",
        "IPY_MODEL_9e0c7264530f48d8a6e52208066546ff"
       ],
       "layout": "IPY_MODEL_84978a101c7e4f339808d159363a8bda"
      }
     },
     "fdc20dbc4d12432c889e338ca9f4f2e0": {
      "model_module": "@jupyter-widgets/base",
      "model_module_version": "1.1.0",
      "model_name": "LayoutModel",
      "state": {
       "width": "90px"
      }
     },
     "fdce31ba7cd54e7599882f799a6e6e33": {
      "model_module": "@jupyter-widgets/controls",
      "model_module_version": "1.4.0",
      "model_name": "LabelModel",
      "state": {
       "layout": "IPY_MODEL_47aecddedfd64f07a36ec50b49227ec5",
       "style": "IPY_MODEL_5232c359d050473bbaf3e0e85f18eeb0"
      }
     },
     "fe09b783fe0d4b9099f6673b2feb299b": {
      "model_module": "@jupyter-widgets/controls",
      "model_module_version": "1.4.0",
      "model_name": "DescriptionStyleModel",
      "state": {
       "description_width": ""
      }
     },
     "fe452383f5644078905bb160d1205007": {
      "model_module": "@jupyter-widgets/controls",
      "model_module_version": "1.4.0",
      "model_name": "LabelModel",
      "state": {
       "layout": "IPY_MODEL_f9d812c863db402d90b2c980d38bb13c",
       "style": "IPY_MODEL_8a9bc422e2cc4f8e806f955c0698cf32"
      }
     },
     "fe72029372074064a0a2d7f32b95cc43": {
      "model_module": "@jupyter-widgets/controls",
      "model_module_version": "1.4.0",
      "model_name": "DescriptionStyleModel",
      "state": {
       "description_width": ""
      }
     },
     "fe865e4851b4495a95e3dc2cc31cfaa9": {
      "model_module": "@jupyter-widgets/base",
      "model_module_version": "1.1.0",
      "model_name": "LayoutModel",
      "state": {
       "width": "90px"
      }
     },
     "fe8d4c19a86346019352770ba2a10a08": {
      "model_module": "@jupyter-widgets/controls",
      "model_module_version": "1.4.0",
      "model_name": "FloatTextModel",
      "state": {
       "layout": "IPY_MODEL_0a02add7505f44028df61c521bfc1df6",
       "step": null,
       "style": "IPY_MODEL_e80abac93ac54bc8a6d91a52c4fd70cc",
       "value": -0.5
      }
     },
     "fe99c96f7d5a47c689cfa08b35724327": {
      "model_module": "@jupyter-widgets/base",
      "model_module_version": "1.1.0",
      "model_name": "LayoutModel",
      "state": {}
     },
     "fea917e7b46743788590dd87985dcee4": {
      "model_module": "@jupyter-widgets/controls",
      "model_module_version": "1.4.0",
      "model_name": "DescriptionStyleModel",
      "state": {
       "description_width": ""
      }
     },
     "febb6c29d5cb4d519b06da40a32c101c": {
      "model_module": "@jupyter-widgets/controls",
      "model_module_version": "1.4.0",
      "model_name": "DescriptionStyleModel",
      "state": {
       "description_width": ""
      }
     },
     "fedc86dc603d43e08f7f162b326f729d": {
      "model_module": "@jupyter-widgets/controls",
      "model_module_version": "1.4.0",
      "model_name": "LabelModel",
      "state": {
       "layout": "IPY_MODEL_3b7b8cd8f40f46f7a6af377e08229a20",
       "style": "IPY_MODEL_189961caab4941f481899c87788c12aa"
      }
     },
     "ff14f4f3069442e09be6386b056e4f65": {
      "model_module": "@jupyter-widgets/controls",
      "model_module_version": "1.4.0",
      "model_name": "DescriptionStyleModel",
      "state": {
       "description_width": ""
      }
     },
     "ff23ed97b5014a51ac0d66101e37cbb1": {
      "model_module": "@jupyter-widgets/base",
      "model_module_version": "1.1.0",
      "model_name": "LayoutModel",
      "state": {}
     },
     "ffc5676e98b545a9897040da8eda7dc9": {
      "model_module": "@jupyter-widgets/controls",
      "model_module_version": "1.4.0",
      "model_name": "HBoxModel",
      "state": {
       "children": [
        "IPY_MODEL_36ac1087021c41399d70cc006def027e",
        "IPY_MODEL_7bec55103402411195944e1352e9ee8f",
        "IPY_MODEL_ac1bd1734d2c4d0182e333fa5842cb67"
       ],
       "layout": "IPY_MODEL_913286bb22214d3cb6367fff535d9581"
      }
     },
     "ffd9845674134373a41db40934c7be0d": {
      "model_module": "@jupyter-widgets/controls",
      "model_module_version": "1.4.0",
      "model_name": "DescriptionStyleModel",
      "state": {
       "description_width": ""
      }
     },
     "ffe99539e150450583ae31daaf3d9322": {
      "model_module": "@jupyter-widgets/base",
      "model_module_version": "1.1.0",
      "model_name": "LayoutModel",
      "state": {}
     }
    },
    "version_major": 2,
    "version_minor": 0
   }
  }
 },
 "nbformat": 4,
 "nbformat_minor": 4
}
