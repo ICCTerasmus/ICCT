{
 "cells": [
  {
   "cell_type": "markdown",
   "metadata": {},
   "source": [
    "# FAQ\n",
    "\n",
    "* * *\n",
    "\n",
    "## Basic information\n",
    "\n",
    "* * *\n",
    "\n",
    "### Can I see a demonstration of the examples featured in this interactive course?\n",
    "\n",
    "There are two video demonstrations available. The first one presents the water level control system ([view on YouTube](https://www.youtube.com/watch?v=YEZxOWY4RtU)) and the second one the Fast Fourier Transform ([view on YouTube](https://www.youtube.com/watch?v=M28kAsWAP8o)).\n",
    "\n",
    "### I would like to give my students/colleagues short instructions on how to register to the course, login and interact with the examples within the course. Do you have such instructions?\n",
    "\n",
    "Instructions for registration, login procedure and interaction with the examples are available in the form of an iorad tutorial, available [here](https://www.iorad.com/player/1760976/Izdelava-uporabni-kega-ra-una-v-te-aju-ICCT-in-navodila-za-uporabo-te-aja?isPopup=true#_).\n",
    "\n",
    "### Where can I find the handbook that accompanies the interactive course?\n",
    "\n",
    "The PDF version of the handbook (available in English, Croatian, Hungarian, Italian and Slovene language) can be downloaded from [ICCT webpage](https://icct.cafre.unipi.it/project-results/manual).\n",
    "\n",
    "### Where can I learn more about the ICCT project?\n",
    "\n",
    "You can visit project [website](https://icct.cafre.unipi.it), [Twitter](https://twitter.com/ICCT_erasmus) page, [Reddit](https://www.reddit.com/user/icct_erasmus), [GitHub](https://github.com/ICCTerasmus/ICCT#readme) to gather more information about the project. You can also follow the project via [ResearchGate](https://www.researchgate.net/project/Interactive-Course-for-Control-Theory-ICCT), [SCIENTIX](http://www.scientix.eu/projects/project-detail?articleId=1072810) or [Erasmus+ Project Results](https://ec.europa.eu/programmes/erasmus-plus/projects/eplus-project-details/#project/2018-1-SI01-KA203-047081)."
   ]
  },
  {
   "cell_type": "markdown",
   "metadata": {},
   "source": [
    "* * *\n",
    "\n",
    "## Exams\n",
    "\n",
    "* * *\n",
    "\n",
    "### I am a Student. How can I take part in an exam and how do I obtain my grade?\n",
    "\n",
    "Exam can be taken after a Mentor has prepared and released an exam. Once this is done, you have to fetch the exam and provide the answers (see [this tutorial](https://www.iorad.com/player/1645114/ICCT-Platform--for-students----How-to-fetch-an-exam-and-provide-answers-?#trysteps-1) for the instructions). Once you have successfully submitted your answers, you have to wait for a Mentor to collect all the submissions, grade them and generate the feedback. Once this is done you will be able to obtain and inspect Mentor's feedback (see [this tutorial](https://www.iorad.com/player/1652160/ICCT-Platform--for-students----How-to-obtain-and-inspect-feedback-?#trysteps-1) for the instructions).\n",
    "\n",
    "### I am a Mentor (teacher/lecturer). How can I prepare an exam for Students?\n",
    "\n",
    "First, you need to prepare and release an exam (see [this tutorial](https://www.iorad.com/player/1651571/ICCT-Platform--for-mentors----How-to-prepare-and-release-an-exam-?#trysteps-1) for more information). Then, you have to wait for the exam to end, so that you can collect all submissions, autograde them and generate feedback for Students (see [this tutorial](https://www.iorad.com/player/1652148/ICCT-Platform--for-mentors----How-to-collect-submissions--autograde-them-and-release-feedback-?#trysteps-1) for more information). Once you are done, Students will be able to obtain and inspect provided feedback."
   ]
  },
  {
   "cell_type": "markdown",
   "metadata": {},
   "source": [
    "* * *\n",
    "\n",
    "## Personal and commercial use of the contents of the interactive course\n",
    "\n",
    "* * *\n",
    "\n",
    "### Is it possible to download the examples and adopt them to my own needs?\n",
    "\n",
    "Yes, download of the examples available within the interactive course is possible via ICCT's GitHub Repository. The instructions are available [here](https://github.com/ICCTerasmus/ICCT#readme). You can adopt the examples according to your needs, however, their usage has to comply with the 3-Clause BSD license. For more information about this license, please click [here](https://opensource.org/licenses/BSD-3-Clause).\n",
    "\n",
    "### I would like to use the interactive examples for my home/school project. Is it allowed to do it?\n",
    "\n",
    "All the interactive examples (Juypter Notebooks) within the course are authored by ICCT Project Consortium, and are licensed under the terms of the 3-Clause BSD license, which is part of the permissive free software licenses. For more information about it, please click [here](https://opensource.org/licenses/BSD-3-Clause).\n",
    "\n",
    "### I would like to use the interactive examples for commercial purposes. Is it allowed to do it?\n",
    "\n",
    "All the interactive examples (Juypter Notebooks) within the course are authored by ICCT Project Consortium, and are licensed under the terms of the 3-Clause BSD license, which is part of the permissive free software licenses. For more information about it, please click [here](https://opensource.org/licenses/BSD-3-Clause).\n",
    "\n",
    "### I would like to translate the examples to my language. Is it possible to do it?\n",
    "\n",
    "Yes, the interactive examples can be translated to any language by anyone interested. Prior to starting the translations, please contact us via <icct.erasmus@gmail.com>, so that we provide you with instructions. Please note that our course is currently being translated to Indonesian and Spanish languages."
   ]
  },
  {
   "cell_type": "markdown",
   "metadata": {},
   "source": [
    "* * *\n",
    "\n",
    "## Issues\n",
    "\n",
    "* * *\n",
    "\n",
    "### After running the selected example by clicking *Cell-Run All* or the corresponding button in the toolbar, the the example does not load properly.\n",
    "\n",
    "- First, notebook should be run only when the kernel is ready. The 'transient info' about the kernel can be seen in the upper right part of the notebook, during the initial loading (please see Figure 1 below).\n",
    "- Second, wait for the icon in the browser tab to change from the hourglass to the book symbol at the initial loading stage (please see Figure 2 below). Please note that examples with long-running simulations may have hourglass visible even after initial loading, i.e., once the simulation actually starts, or when some processing is done in the background.\n",
    "- Last, if none of the above solutions work, please run the example twice (by clicking on *Cell-Run All* or the corresponding button once again after the kernel is ready and book symbol is displayed).\n",
    "\n",
    "<table>\n",
    "    <tr>\n",
    "        <th style=\"text-align:center\">Figure 1. Kernel information</th>\n",
    "        <th style=\"text-align:center\">Figure 2. Loading information</th>\n",
    "    </tr>\n",
    "    <tr>\n",
    "        <td style=\"width:480px; height:150px\"><img src='examples/02/img/kernel-ready.png'></td>\n",
    "        <td style=\"width:250px; height:150px\"><img src='examples/02/img/loading.png'></td>\n",
    "    </tr>\n",
    "    <tr>\n",
    "    </tr>    \n",
    "</table>\n",
    "\n",
    "### The examples are loading and running rather slow. What can I do?\n",
    "\n",
    "- First, make sure that you have closed and halted the previously opened examples by clicking on *File-Close and Halt*. You can see the examples that are still running under the *Running* tab accessible via the starting page of the course.\n",
    "- Second, there might be a lot of users concurrently logged in the course, which might slow down the system.\n",
    "- If the issue persists, please contact us via <icct.erasmus@gmail.com>. \n",
    "- Note: You can also always run your examples locally (the loading and running times will depend on your resources). For more information, click [here](https://github.com/ICCTerasmus/ICCT#readme).\n",
    "\n",
    "### I registered to the course and my default role is Student. How can I change it to Mentor?\n",
    "\n",
    "Please note the Mentor role is available only for teachers/lecturers. For obtaining the Mentor role, please send a request to <icct.erasmus@gmail.com>.\n",
    "\n",
    "### I have already registered on the old course site (https://icct.riteh.hr). Do I need to register once again on the new site (https://icct.unipi.it)?\n",
    "\n",
    "Yes, you have to register on the new site as well. Please note that the old page is not maintained anymore and will be removed after some time. Thank you for your understanding.\n",
    "\n",
    "### My issue is not listed here. How can I contact the team behind the interactive course?\n",
    "\n",
    "You can contact the ICCT team via email <icct.erasmus@gmail.com> or through any of the channels listed in the *Basic information* section of these FAQs."
   ]
  },
  {
   "cell_type": "code",
   "execution_count": null,
   "metadata": {},
   "outputs": [],
   "source": []
  }
 ],
 "metadata": {
  "kernelspec": {
   "display_name": "Python 3",
   "language": "python",
   "name": "python3"
  },
  "language_info": {
   "codemirror_mode": {
    "name": "ipython",
    "version": 3
   },
   "file_extension": ".py",
   "mimetype": "text/x-python",
   "name": "python",
   "nbconvert_exporter": "python",
   "pygments_lexer": "ipython3",
   "version": "3.7.3"
  }
 },
 "nbformat": 4,
 "nbformat_minor": 4
}
