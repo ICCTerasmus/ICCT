{
 "cells": [
  {
   "cell_type": "markdown",
   "metadata": {},
   "source": [
    "# FAQ\n",
    "\n",
    "* * *\n",
    "\n",
    "## Osnovne informacije\n",
    "\n",
    "* * *\n",
    "\n",
    "### Mogu li vidjeti demonstraciju primjera koji su raspoloživi u ovom interaktivnom tečaju?\n",
    "\n",
    "Dostupne su dvije video demonstracije. Prva prikazuje sustav upravljanja razinom vode u spremniku ([pogledajte na servisu YouTube](https://www.youtube.com/watch?v=YEZxOWY4RtU)), a druga rad s brzom Fourierovom transformacijom (FFT) ([pogledajte na servisu YouTube](https://www.youtube.com/watch?v=M28kAsWAP8o)).\n",
    "\n",
    "### Svojim studentima / kolegama želio/željela bih dati kratke upute o tome kako se registrirati na ICCT platformu, kako se prijaviti na tečaj te kako raditi s interaktivnim primjerima unutar tečaja. Postoje li takve upute?\n",
    "\n",
    "Upute za registraciju, postupak prijave te interakciju s primjerima dostupne su u obliku online tutorijala iorad, dostupnog [ovdje](https://www.iorad.com/player/1760976/Izdelava-uporabni-kega-ra-una-v-te-aju-ICCT-in-navodila-za-uporabo-te-aja?isPopup=true#_).\n",
    "\n",
    "### Gdje mogu pronaći priručnik koji prati interaktivni tečaj?\n",
    "\n",
    "PDF verzija priručnika (dostupan na engleskom, hrvatskom, mađarskom, talijanskom i slovenskom jeziku) se može preuzeti s [web stranice projekta ICCT](https://icct.cafre.unipi.it/project-results/manual).\n",
    "\n",
    "### Gdje mogu saznati više o projektu ICCT?\n",
    "\n",
    "Za dobiti više informacija o projektu, možete posjetiti službenu [web stranicu](https://icct.cafre.unipi.it), [Twitter](https://twitter.com/ICCT_erasmus) stranicu, [Reddit](https://www.reddit.com/user/icct_erasmus) te [GitHub](https://github.com/ICCTerasmus/ICCT#readme). Također, možete pratiti projekt na servisima [ResearchGate](https://www.researchgate.net/project/Interactive-Course-for-Control-Theory-ICCT), [SCIENTIX](http://www.scientix.eu/projects/project-detail?articleId=1072810) te [Erasmus+ Project Results](https://ec.europa.eu/programmes/erasmus-plus/projects/eplus-project-details/#project/2018-1-SI01-KA203-047081)."
   ]
  },
  {
   "cell_type": "markdown",
   "metadata": {},
   "source": [
    "* * *\n",
    "\n",
    "## Ispiti\n",
    "\n",
    "* * *\n",
    "\n",
    "### Ja sam Student. Kako mogu pristupiti ispitu i vidjeti svoju ocjenu? \n",
    "\n",
    "Unutar tečaja može se rješavati test, ali tek nakon što Mentor pripremi i objavi odgovarajući ispit. Nakon što je ispit objavljen, isti se mora eksplicitno dohvatiti (engl. fetch) te konačno i riješiti odabirom između ponuđenih odgovora (pogledajte [ovaj vodič](https://www.iorad.com/player/1645114/ICCT-Platform--for-students----How-to-fetch-an-exam-and-provide-answers-?#trysteps-1) za detaljnije upute). Nakon što ste uspješno poslali svoje odgovore, morate pričekati da Mentor prikupi sve testove, ocijeni ih i generira povratne informacije. Nakon navedene procedure, moći ćete dobiti i pregledati te povratne informacije (pogledajte [ovaj vodič](https://www.iorad.com/player/1652160/ICCT-Platform--for-students----How-to-obtain-and-inspect-feedback-?#trysteps-1) za detaljnije upute).\n",
    "\n",
    "### Ja sam Mentor (učitelj / predavač). Kako mogu pripremiti ispit za studente? \n",
    "\n",
    "Prvo morate pripremiti i objaviti ispit (pogledajte [ovaj vodič](https://www.iorad.com/player/1651571/ICCT-Platform--for-mentors----How-to-prepare-and-release-an-exam-?#trysteps-1) za detaljnije upute). Zatim morate pričekati da se ispit završi kako biste mogli prikupiti sve testove, automatski ih ocijeniti te generirati povratne informacije za Studente (pogledajte [ovaj vodič](https://www.iorad.com/player/1652148/ICCT-Platform--for-mentors----How-to-collect-submissions--autograde-them-and-release-feedback-?#trysteps-1) za detaljnije upute). Nakon što završite, Studenti će moći preuzeti i pregledati dostavljene povratne informacije."
   ]
  },
  {
   "cell_type": "markdown",
   "metadata": {},
   "source": [
    "* * *\n",
    "\n",
    "## Osobna i komercijalna upotreba sadržaja interaktivnog tečaja \n",
    "\n",
    "* * *\n",
    "\n",
    "### Je li moguće preuzeti interaktivne primjere i prilagoditi ih prema vlastitim potrebama?\n",
    "\n",
    "Da, preuzimanje primjera dostupnih unutar interaktivnog tečaja moguće je putem ICCT-ovog GitHub repozitorija. Upute su dostupne [ovdje](https://github.com/ICCTerasmus/ICCT#readme). Primjere možete prilagoditi svojim potrebama, ali njihova upotreba mora biti u skladu s licencom *3-Clause BSD*. Za više informacija o ovom tipu licence, pogledajte [ovdje](https://opensource.org/licenses/BSD-3-Clause).\n",
    "\n",
    "### Htio/htjela bih koristiti interaktivne primjere za svoj kućni/školski projekt. Je li to dopušteno? \n",
    "\n",
    "Svi interaktivni primjeri (*Juypter notebook* dokumenti) u okviru tečaja autorsko su djelo Projektnog konzorcija ICCT i licencirani su pod uvjetima *3-Clause BSD*, licence koja je uobičajeni dio zaštite besplatnog softvera. Za više informacija o ovom tipu licence, pogledajte [ovdje](https://opensource.org/licenses/BSD-3-Clause).\n",
    "\n",
    "### Htio/htjela bih koristiti interaktivne primjere u komercijalne svrhe. Je li to dopušteno? \n",
    "\n",
    "Svi interaktivni primjeri (*Juypter notebook* dokumenti) u okviru tečaja autorsko su djelo Projektnog konzorcija ICCT i licencirani su pod uvjetima *3-Clause BSD*, licence koja je uobičajeni dio zaštite besplatnog softvera. Za više informacija o ovom tipu licence, pogledajte [ovdje](https://opensource.org/licenses/BSD-3-Clause).\n",
    "\n",
    "### Htio/htjela bih prevesti primjere na svoj jezik. Je li moguće to učiniti? \n",
    "\n",
    "Da, svi zainteresirani mogu prevesti raspoložive interaktivne primjere na bilo koji jezik. Prije početka prijevoda, kontaktirajte nas putem <icct.erasmus@gmail.com>, kako bismo vam dali detaljnije upute. Imajte na umu da se naš tečaj trenutno prevodi na indonezijski i španjolski jezik."
   ]
  },
  {
   "cell_type": "markdown",
   "metadata": {},
   "source": [
    "* * *\n",
    "\n",
    "## Problemi\n",
    "\n",
    "* * *\n",
    "\n",
    "### Nakon pokretanja odabranog primjera klikom na *Cell-Run All* ili odgovarajućim gumbom u alatnoj traci, primjer se ne učitava ispravno.\n",
    "\n",
    "- Kao prvo, interaktivni primjer treba pokrenuti tek kada je jezgra (engl. kernel) spremna. 'Prijelazne informacije' o stanju jezgre mogu se vidjeti u gornjem desnom dijelu primjera, tijekom početnog učitavanja (pogledajte Sliku 1 ispod). \n",
    "- Kao drugo, pričekajte da se ikona na kartici preglednika, tijekom inicijalnog učitavanja primjera, promijeni sa simbola pješčanog sata na simbol knjige (pogledajte Sliku 2 ispod). Imajte na umu da interaktivni primjeri s dugotrajnim simulacijama mogu imati simbol pješčanog sata vidljivim čak i nakon inicijalnog učitavanja, tj. nakon što simulacija zaista započne ili kada se neko procesiranje odvija u pozadini. \n",
    "- Konačno, ako nijedno od gore navedenih rješenja nema željeni učinak, probajte ponovno pokrenuti isti interaktivni primjer (klikom na *Cell-Run All* ili na odgovarajući gumb, pazeći pritom da je jezgra spremna i da je u  kartici preglednika vizualiziran simbol knjige). \n",
    "\n",
    "<table>\n",
    "    <tr>\n",
    "        <th style=\"text-align:center\">Slika 1. Informacije o jezgri</th>\n",
    "        <th style=\"text-align:center\">Slika 2. Informacije o učitavanju</th>\n",
    "    </tr>\n",
    "    <tr>\n",
    "        <td style=\"width:480px; height:150px\"><img src='examples/02/img/kernel-ready.png'></td>\n",
    "        <td style=\"width:250px; height:150px\"><img src='examples/02/img/loading.png'></td>\n",
    "    </tr>\n",
    "    <tr>\n",
    "    </tr>    \n",
    "</table>\n",
    "\n",
    "### Primjeri se učitavaju i izvršavaju prilično sporo. Što mogu učiniti po tom pitanju? \n",
    "\n",
    "- Kao prvo, provjerite jeste li zaustavili i zatvorili prethodno otvorene primjere klikom na *File-Close and Halt*. Primjere koji se još uvijek izvode (tj. koji su još uvijek aktivni) možete vidjeti u kartici *Running* koja je dostupna na početnoj stranici tečaja. \n",
    "- Drugo, moguće je da interaktivni tečaj trenutno koristi veći broj istodobno prijavljenih korisnika, što može usporiti sustav. \n",
    "- Ako problem perzistira, kontaktirajte nas putem <icct.erasmus@gmail.com>. \n",
    "- Napomena: Također, uvijek možete pokrenuti svoje primjere i u lokalnom okruženju (tada vrijeme učitavanja i izvođenja ovisi o resursima vašeg računala, a ne centralnog poslužitelja). Za više informacija, kliknite [ovdje](https://github.com/ICCTerasmus/ICCT#readme).\n",
    "\n",
    "### Registrirao/la sam se na tečaj i moja zadana uloga je Student. Kako je mogu promijeniti u Mentor? \n",
    "\n",
    "Imajte na umu da je uloga Mentor dostupna samo učiteljima / predavačima. Za dobivanje uloge Mentora, pošaljite zahtjev na <icct.erasmus@gmail.com>.\n",
    "\n",
    "### Već sam se registrirao/la na webu starije verzije tečaja (https://icct.uniri.hr). Moram li se još jednom registrirati i na novoj web stranici (https://icct.unipi.it)?\n",
    "\n",
    "Da, morate se registrirati i na novoj web stranici. Imajte na umu da se stara stranica više ne održava i da će biti uklonjena nakon nekog vremena. Hvala na razumijevanju. \n",
    "\n",
    "### Moj problem ovdje nije naveden. Kako mogu kontaktirati tim koji stoji iza ovog interaktivnog tečaja?\n",
    "\n",
    "ICCT tim možete kontaktirati putem e-pošte <icct.erasmus@gmail.com> ili bilo kojim od kanala navedenih u odjeljku *Osnovne informacije* ovog FAQ dokumenta."
   ]
  },
  {
   "cell_type": "code",
   "execution_count": null,
   "metadata": {},
   "outputs": [],
   "source": []
  }
 ],
 "metadata": {
  "kernelspec": {
   "display_name": "Python 3",
   "language": "python",
   "name": "python3"
  },
  "language_info": {
   "codemirror_mode": {
    "name": "ipython",
    "version": 3
   },
   "file_extension": ".py",
   "mimetype": "text/x-python",
   "name": "python",
   "nbconvert_exporter": "python",
   "pygments_lexer": "ipython3",
   "version": "3.7.3"
  }
 },
 "nbformat": 4,
 "nbformat_minor": 4
}
