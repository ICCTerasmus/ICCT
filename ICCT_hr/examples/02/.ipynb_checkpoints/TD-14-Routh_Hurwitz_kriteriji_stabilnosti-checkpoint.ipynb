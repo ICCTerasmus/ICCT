{
 "cells": [
  {
   "cell_type": "code",
   "execution_count": 5,
   "metadata": {},
   "outputs": [
    {
     "data": {
      "text/html": [
       "<script>\n",
       "code_show=true; \n",
       "function code_toggle() {\n",
       "    if (code_show){\n",
       "        $('div.input').hide()\n",
       "    } else {\n",
       "        $('div.input').show()\n",
       "    }\n",
       "    code_show = !code_show\n",
       "} \n",
       "$( document ).ready(code_toggle);\n",
       "</script>\n",
       "Promijeni vidljivost <a href=\"javascript:code_toggle()\">ovdje</a>."
      ],
      "text/plain": [
       "<IPython.core.display.HTML object>"
      ]
     },
     "metadata": {},
     "output_type": "display_data"
    }
   ],
   "source": [
    "# Erasmus+ ICCT project (2018-1-SI01-KA203-047081)\n",
    "\n",
    "# Toggle cell visibility\n",
    "\n",
    "from IPython.display import HTML\n",
    "tag = HTML('''<script>\n",
    "code_show=true; \n",
    "function code_toggle() {\n",
    "    if (code_show){\n",
    "        $('div.input').hide()\n",
    "    } else {\n",
    "        $('div.input').show()\n",
    "    }\n",
    "    code_show = !code_show\n",
    "} \n",
    "$( document ).ready(code_toggle);\n",
    "</script>\n",
    "Promijeni vidljivost <a href=\"javascript:code_toggle()\">ovdje</a>.''')\n",
    "display(tag)\n",
    "\n",
    "# Hide the code completely\n",
    "\n",
    "# from IPython.display import HTML\n",
    "# tag = HTML('''<style>\n",
    "# div.input {\n",
    "#     display:none;\n",
    "# }\n",
    "# </style>''')\n",
    "# display(tag)"
   ]
  },
  {
   "cell_type": "code",
   "execution_count": 6,
   "metadata": {},
   "outputs": [],
   "source": [
    "import sympy as sp # Symbolic Python\n",
    "import numpy as np # Arrays, matrices and corresponding mathematical operations\n",
    "from IPython.display import Latex, display, Markdown, clear_output # For displaying Markdown and LaTeX code\n",
    "from ipywidgets import widgets # Interactivity module\n",
    "from IPython.display import Javascript\n",
    "\n",
    "# Function for the conversion of array/matrix to LaTeX/Markdown format.\n",
    "def vmatrix(a):\n",
    "    if len(a.shape) > 2:\n",
    "         raise ValueError('bmatrix moze prikazati najvise dvije dimenzije')\n",
    "    lines = str(a).replace('[', '').replace(']', '').splitlines()\n",
    "    rv = [r'\\begin{vmatrix}']\n",
    "    rv += ['  ' + ' & '.join(l.split()) + r'\\\\' for l in lines]\n",
    "    rv +=  [r'\\end{vmatrix}']\n",
    "    return '\\n'.join(rv)"
   ]
  },
  {
   "cell_type": "markdown",
   "metadata": {},
   "source": [
    "## Routh i Hurwitz kriteriji stabilnosti\n",
    "\n",
    "U teoriji sustava upravljanja, kriterij stabilnosti Routh-Hurwitz je matematički test koji se koristi za otkrivanje broja polova prijenosne funkcije zatvorene petlje koji imaju pozitivne realne dijelove. Broj promjena predznaka u prvom stupcu Routh-niza daje broj polova u desnoj polovici kompleksne ravnine. Nužan i dovoljan uvjet za stabilnost linearnog vremenski nepromjenjivog sustava upravljanja jest da svi polovi sustava zatvorene petlje imaju negativne realne dijelove. To znači da u prvom stupcu ne bi trebalo biti promjene predznaka. Sličan kriterij stabilnosti koji se temelji na determinantama sustava naziva se Hurwitzov kriterij.\n",
    "\n",
    "Polazna točka za određivanje stabilnosti sustava je karakteristični polinom definiran kao:\n",
    "\n",
    "\\begin{equation}\n",
    "    a_ns^n+a_{n-1}s^{n-1}+...+a_1s+a_0\n",
    "\\end{equation}\n",
    "\n",
    "U slučaju Routh-ovog kriterija, formira se takozvani Routh-ov niz:\n",
    "\n",
    "\n",
    "\\begin{array}{l|ccccc}\n",
    "     & 1 & 2 & 3 & 4 & 5 \\\\\n",
    "     \\hline\n",
    "    s^n & a_n & a_{n-2} & a_{n-4} & a_{n-6} & \\dots \\\\\n",
    "    s^{n-1} & a_{n-1} & a_{n-3} & a_{n-5} & a_{n-7} &\\dots \\\\\n",
    "    s^{n-2} & b_1 & b_2 & b_3 & b_4 & \\dots \\\\\n",
    "    s^{n-3} & c_1 & c_2 & c_3 & c_4 & \\dots \\\\\n",
    "    s^{n-4} & d_1 & d_2 & d_3 & d_4 & \\dots \\\\\n",
    "    \\vdots & \\vdots & \\vdots & \\vdots & \\vdots & \\ddots\\\\\n",
    "\\end{array}\n",
    "\n",
    "\n",
    "Koeficijenti u prva dva retka ($a_i$) dobivaju se iz karakterističnog polinoma. Svi ostali utvrđuju se pomoću sljedećih formula:\n",
    "\n",
    "\\begin{array}{cccc}\n",
    "    \\,  \\! \\! \\! \\! b_1 \\! = \\! \\frac{a_{n-1}a_{n-2}-a_n a_{n-3}}{a_{n-1}} & \\! \\!  \\! \\! \\,  \\! \\! b_2 \\!  = \\!  \\frac{a_{n-1}a_{n-4}-a_n a_{n-5}}{a_{n-1}} & \\,  \\! \\! b_3 \\! = \\! \\frac{a_{n-1}a_{n-6}-a_n a_{n-7}}{a_{n-1}} & \\, \\! \\! \\! \\! \\dots \\\\\n",
    "     c_1=\\frac{b_1a_{n-3}-a_{n-1} b_2}{b_1} & c_2=\\frac{b_1a_{n-5}-a_{n-1}b_3}{b_1} & c_3=\\frac{b_1a_{n-7}-a_{n-1}b_4}{b_1} & \\, \\! \\! \\! \\! \\dots \\\\\n",
    "     d_1=\\frac{c_1 b_2-b_1 c_2}{c_1} & d_2=\\frac{c_1 b_3-b_1 c_3}{c_1} & d_3=\\frac{c_1 b_4-b_1 c_4}{c_1} & \\, \\! \\! \\! \\! \\dots \\\\\n",
    "    \\vdots & \\vdots & \\vdots & \\, \\! \\! \\! \\! \\ddots \\\\\n",
    "\\end{array}\n",
    "\n",
    "Ako svi koeficijenti u prvom stupcu ($n+1$ koeficijenti) imaju isti predznak (ili su svi pozitivni ili svi negativni), sustav je stabilan. Broj promjena predznaka u prvom stupcu daje nam broj korijena karakterističnog polinoma koji se nalaze u lijevoj polovici kompleksne ravnine.\n",
    "\n",
    "U slučaju Hurwitz-ovog kriterija, na temelju karakterističnog polinoma formira se determinanta $\\Delta_n$ dimenzija $n\\times n$.\n",
    "\n",
    "\\begin{equation}\n",
    "    \\Delta_n=\n",
    "    \\begin{array}{|cccccccc|}\n",
    "        a_{n-1} & a_{n-3} & a_{n-5} & \\dots & \\left[ \\begin{array}{cc} a_0 & \\mbox{if\n",
    "        }n \\mbox{ is odd} \\\\ a_1 & \\mbox{if }n \\mbox{ is even} \\end{array}\n",
    "        \\right] & 0 & \\dots & 0  \\\\[3mm]\n",
    "        a_{n} & a_{n-2} & a_{n-4} & \\dots & \\left[ \\begin{array}{cc} a_1 & \\mbox{if }n \\mbox{ is odd} \\\\ a_0 & \\mbox{if }n \\mbox{ is even} \\end{array} \\right] & 0 & \\dots & 0 \\\\\n",
    "        0 & a_{n-1} & a_{n-3} & a_{n-5} & \\dots &  \\dots & \\dots & 0 \\\\\n",
    "        0 & a_{n} & a_{n-2} & a_{n-4} & \\dots &  \\dots & \\dots & 0 \\\\\n",
    "        0 & 0 & a_{n-1} & a_{n-3} & \\dots &  \\dots & \\dots & 0 \\\\\n",
    "        0 & 0 & a_{n} & a_{n-2} & \\dots &  \\dots & \\dots & 0 \\\\\n",
    "        \\vdots & \\vdots & \\vdots & \\vdots & \\vdots & \\vdots & \\vdots & \\vdots \\\\\n",
    "        0 & \\dots & \\dots & \\dots & \\dots & \\dots & \\dots & a_0 \\\\\n",
    "    \\end{array}\n",
    "\\end{equation}\n",
    "\n",
    "\n",
    "Na temelju determinante $\\Delta_n$ formiraju se subdeterminante na glavnoj dijagonali. Subdeterminanta $\\Delta_1$ jednaka je\n",
    "\n",
    "\\begin{equation}\n",
    "    \\Delta_1=a_{n-1},\n",
    "\\end{equation}\n",
    "\n",
    "subdeterminanta $\\Delta_2$ \n",
    "\n",
    "\\begin{equation}\n",
    "    \\Delta_2=\n",
    "    \\begin{array}{|cc|}\n",
    "    a_{n-1} & a_{n-3} \\\\\n",
    "    a_{n} & a_{n-2} \\\\\n",
    "    \\end{array},\n",
    "\\end{equation}\n",
    "\n",
    "i subdeterminanta $\\Delta_3$ \n",
    "\n",
    "\\begin{equation}\n",
    "    \\Delta_3=\n",
    "    \\begin{array}{|ccc|}\n",
    "    a_{n-1} & a_{n-3} & a_{n-5} \\\\\n",
    "    a_{n} & a_{n-2} & a_{n-4} \\\\\n",
    "    0 & a_{n-1} & a_{n-3} \\\\\n",
    "    \\end{array}.\n",
    "\\end{equation}\n",
    "\n",
    "\n",
    "Nastavljamo na ovaj način dok ne dođemo do subdeterminante\n",
    "$\\Delta_{n-1}$. Sustav je stabilan ako su sve subdeterminante na glavnoj dijagonali (od $\\Delta_1$ do $\\Delta_{n-1}$),  kao i determinanta $\\Delta_n$, strogo veće od nule.\n",
    "\n",
    "\n",
    "---\n",
    "\n",
    "### Kako koristiti ovaj interaktivni primjer?\n",
    "\n",
    "Definirajte karakteristični polinom navođenjem njegovog reda i upisom odgovarajućih koeficijenata, a zatim odaberite željeni kriterij stabilnosti (Routh ili Hurwitz)."
   ]
  },
  {
   "cell_type": "code",
   "execution_count": 7,
   "metadata": {
    "scrolled": false
   },
   "outputs": [
    {
     "data": {
      "text/markdown": [
       "Karakteristični polinom:"
      ],
      "text/plain": [
       "<IPython.core.display.Markdown object>"
      ]
     },
     "metadata": {},
     "output_type": "display_data"
    },
    {
     "data": {
      "text/markdown": [
       "$3.0s^3+2.0s^2+Ks+1.0$"
      ],
      "text/plain": [
       "<IPython.core.display.Markdown object>"
      ]
     },
     "metadata": {},
     "output_type": "display_data"
    },
    {
     "data": {
      "text/markdown": [
       "Koji kriterij želite koristiti za provjeru stabilnosti (Routh ili Hurwitz)?"
      ],
      "text/plain": [
       "<IPython.core.display.Markdown object>"
      ]
     },
     "metadata": {},
     "output_type": "display_data"
    },
    {
     "data": {
      "application/vnd.jupyter.widget-view+json": {
       "model_id": "baa9c5beec5a458ab7f4f61ac70255e5",
       "version_major": 2,
       "version_minor": 0
      },
      "text/plain": [
       "Select(description='Odaberi:', options=('Routh', 'Hurwitz'), rows=3, value='Routh')"
      ]
     },
     "metadata": {},
     "output_type": "display_data"
    },
    {
     "data": {
      "application/vnd.jupyter.widget-view+json": {
       "model_id": "a855da3b2ffb469c873a9d4f6098c820",
       "version_major": 2,
       "version_minor": 0
      },
      "text/plain": [
       "HBox(children=(Button(description='Potvrdi', style=ButtonStyle()), Button(description='Resetiraj', style=Butto…"
      ]
     },
     "metadata": {},
     "output_type": "display_data"
    },
    {
     "data": {
      "application/vnd.jupyter.widget-view+json": {
       "model_id": "4a66dfa018544be89ad585b413e3fe9a",
       "version_major": 2,
       "version_minor": 0
      },
      "text/plain": [
       "Output()"
      ]
     },
     "metadata": {},
     "output_type": "display_data"
    },
    {
     "data": {
      "text/markdown": [
       "$\\Delta_{1}=$$\\begin{vmatrix}\n",
       "  2.0\\\\\n",
       "\\end{vmatrix}$$=2.00000000000000$"
      ],
      "text/plain": [
       "<IPython.core.display.Markdown object>"
      ]
     },
     "metadata": {},
     "output_type": "display_data"
    },
    {
     "data": {
      "text/markdown": [
       "$\\Delta_{2}=$$\\begin{vmatrix}\n",
       "  2.0 & 1.0\\\\\n",
       "  3.0 & K\\\\\n",
       "\\end{vmatrix}$$=2.0*K - 3.0$"
      ],
      "text/plain": [
       "<IPython.core.display.Markdown object>"
      ]
     },
     "metadata": {},
     "output_type": "display_data"
    },
    {
     "data": {
      "text/markdown": [
       "$\\Delta_{3}=$$\\begin{vmatrix}\n",
       "  2.0 & 1.0 & 0\\\\\n",
       "  3.0 & K & 0\\\\\n",
       "  0 & 2.0 & 1.0\\\\\n",
       "\\end{vmatrix}$$=2.0*K - 3.0$"
      ],
      "text/plain": [
       "<IPython.core.display.Markdown object>"
      ]
     },
     "metadata": {},
     "output_type": "display_data"
    },
    {
     "data": {
      "text/markdown": [
       "Sustav je stabilan za:"
      ],
      "text/plain": [
       "<IPython.core.display.Markdown object>"
      ]
     },
     "metadata": {},
     "output_type": "display_data"
    },
    {
     "name": "stdout",
     "output_type": "stream",
     "text": [
      "[(1.5 < K) & (K < oo), (1.5 < K) & (K < oo)]\n"
     ]
    }
   ],
   "source": [
    "polynomialOrder = input (\"Odredite red karakterističnog polinoma (Enter za potvrdu):\")\n",
    "try:\n",
    "    val = int(polynomialOrder)\n",
    "except ValueError:\n",
    "    display(Markdown('Red polinoma mora biti integer vrijednost. Ponovno unesite vrijednost.+'))\n",
    "display(Markdown('Upišite koeficijente karakterističnog polinoma (upotrijebite $K$ za nedefinirani koeficijent) i potvrdite klikom na \"Potvrdi\".'))\n",
    "text=[None]*(int(polynomialOrder)+1)\n",
    "for i in range(int(polynomialOrder)+1):\n",
    "    text[i]=widgets.Text(description=('$s^%i$'%(-(i-int(polynomialOrder)))))\n",
    "    display(text[i])\n",
    "btn1=widgets.Button(description=\"Potvrdi\")\n",
    "btnReset=widgets.Button(description=\"Resetiraj\")\n",
    "display(widgets.HBox((btn1, btnReset)))\n",
    "\n",
    "btn2=widgets.Button(description=\"Potvrdi\")\n",
    "w=widgets.Select(\n",
    "    options=['Routh', 'Hurwitz'],\n",
    "    rows=3,\n",
    "    description='Odaberi:',\n",
    "    disabled=False\n",
    ")\n",
    "\n",
    "coef=[None]*(int(polynomialOrder)+1)\n",
    "\n",
    "def on_button_clickedReset(ev):\n",
    "    display(Javascript(\"Jupyter.notebook.execute_cells_below()\"))\n",
    "\n",
    "\n",
    "def on_button_clicked1(btn1):\n",
    "    clear_output()\n",
    "    for i in range(int(polynomialOrder)+1):\n",
    "        if text[i].value=='' or text[i].value=='Upišite koeficijent':\n",
    "            text[i].value='Upišite koeficijent'\n",
    "        else:\n",
    "            try:\n",
    "                coef[i]=float(text[i].value)\n",
    "            except ValueError:\n",
    "                if text[i].value!='' or text[i].value!='Upišite koeficijent':\n",
    "                    coef[i]=sp.var(text[i].value)\n",
    "    coef.reverse()\n",
    "    enacba=\"$\"\n",
    "    for i in range (int(polynomialOrder),-1,-1):\n",
    "        if i==int(polynomialOrder):\n",
    "            enacba=enacba+str(coef[i])+\"s^\"+str(i)\n",
    "        elif i==1:\n",
    "            enacba=enacba+\"+\"+str(coef[i])+\"s\"\n",
    "        elif i==0:\n",
    "            enacba=enacba+\"+\"+str(coef[i])+\"$\"\n",
    "        else:\n",
    "            enacba=enacba+\"+\"+str(coef[i])+\"s^\"+str(i)\n",
    "    coef.reverse()\n",
    "    display(Markdown('Karakteristični polinom:'), Markdown(enacba))\n",
    "    display(Markdown('Koji kriterij želite koristiti za provjeru stabilnosti (Routh ili Hurwitz)?'))\n",
    "    display(w)\n",
    "    display(widgets.HBox((btn2, btnReset)))\n",
    "    display(out)\n",
    "\n",
    "def on_button_clicked2(btn2):\n",
    "    \n",
    "    if w.value=='Routh':\n",
    "\n",
    "        s=np.zeros((len(coef), len(coef)//2+(len(coef)%2)),dtype=object)\n",
    "        xx=np.zeros((len(coef), len(coef)//2+(len(coef)%2)),dtype=object)\n",
    "        check_index=0\n",
    "        \n",
    "        if len(s[0]) == len(coef[::2]):\n",
    "            s[0] = coef[::2]\n",
    "        elif len(s[0])-1 == len(coef[::2]):\n",
    "            s[0,:-1] = coef[::2]\n",
    "        #soda mesta\n",
    "        if len(s[1]) == len(coef[1::2]):\n",
    "            s[1] = coef[1::2]\n",
    "        elif len(s[1])-1 == len(coef[1::2]):\n",
    "            s[1,:-1] = coef[1::2]\n",
    "            \n",
    "        for i in range(len(s[2:,:])):\n",
    "            i+=2\n",
    "            for j in range(len(s[0,0:-1])):\n",
    "                s[i,j] = (s[i-1,0]*s[i-2,j+1]-s[i-2,0]*s[i-1,j+1]) / s[i-1,0]\n",
    "                if s[i,0] == 0:\n",
    "                    epsilon=sp.Symbol('\\u03B5')\n",
    "                    s[i,0] = epsilon\n",
    "                    check_index=1\n",
    "        \n",
    "        if check_index==1:\n",
    "            for i in range(len(s)):\n",
    "                for j in range(len(s[0])):\n",
    "                    xx[i,j] = sp.limit(s[i,j],epsilon,0)\n",
    "            \n",
    "            positive_check=xx[:,0]>0\n",
    "            negative_check=xx[:,0]<0\n",
    "            if all(positive_check)==True:\n",
    "                with out:\n",
    "                    clear_output() \n",
    "                    display(Markdown('Jedan od elemenata u prvom stupcu tablice Routh jednak je 0. Zamjenjujemo ga s $\\epsilon$ i promatramo vrijednosti elemenata kada $\\epsilon$ prijeđe u nulu.'))\n",
    "                    display(Markdown('Routh tablica $%s$\\n' % vmatrix(s)))\n",
    "                    display(Markdown('Sustav je stabilan jer su svi elementi u prvom stupcu Routh tablice pozitivni.'))\n",
    "                    display(Markdown('Routh tablica $%s$\\n' % vmatrix(xx)))\n",
    "\n",
    "            elif all(negative_check)==True:\n",
    "                with out:\n",
    "                    clear_output()\n",
    "                    display(Markdown('Jedan od elemenata u prvom stupcu tablice Routh jednak je 0. Zamjenjujemo ga s $\\epsilon$ i promatramo vrijednosti elemenata kada $\\epsilon$ prijeđe u nulu.'))\n",
    "                    display(Markdown('Routh tablica $%s$\\n' % vmatrix(s)))\n",
    "                    display(Markdown('Sustav je stabilan jer su svi elementi u prvom stupcu Routh tablice negativni.'))\n",
    "                    display(Markdown('Routh tablica $%s$\\n' % vmatrix(xx)))           \n",
    "            else:\n",
    "                with out:\n",
    "                    clear_output()\n",
    "                    display(Markdown('Jedan od elemenata u prvom stupcu tablice Routh jednak je 0. Zamjenjujemo ga s $\\epsilon$ i promatramo vrijednosti elemenata kada $\\epsilon$ prijeđe u nulu.'))\n",
    "                    display(Markdown('Routh tablica $%s$\\n' % vmatrix(s)))\n",
    "                    display(Markdown('Sustav nije stabilan jer svi elementi u prvom stupcu Routh tablice nemaju isti predznak.'))\n",
    "                    display(Markdown('Routh tablica $%s$\\n' % vmatrix(xx)))\n",
    "            \n",
    "            \n",
    "        elif check_index==0:      \n",
    "\n",
    "            if all(isinstance(x, (int,float)) for x in coef):\n",
    "                positive_check=s[:,0]>0\n",
    "                negative_check=s[:,0]<0\n",
    "                if all(positive_check)==True:\n",
    "                    with out:\n",
    "                        clear_output()\n",
    "                        display(Markdown('Sustav je stabilan jer su svi elementi u prvom stupcu Routh tablice pozitivni.'))\n",
    "                        display(Markdown('Routh tablica $%s$' % vmatrix(s)))\n",
    "                elif all(negative_check)==True:\n",
    "                    with out:\n",
    "                        clear_output()\n",
    "                        display(Markdown('Sustav je stabilan jer su svi elementi u prvom stupcu Routh tablice negativni.'))\n",
    "                        display(Markdown('Routh tablica $%s$' % vmatrix(s)))\n",
    "                else:\n",
    "                    with out:\n",
    "                        clear_output()\n",
    "                        display(Markdown('Sustav nije stabilan jer svi elementi u prvom stupcu Routh tablice nemaju isti predznak.'))\n",
    "                        display(Markdown('Routh tablica $%s$' % vmatrix(s)))\n",
    "\n",
    "            else:\n",
    "                testSign=[]\n",
    "                for i in range(len(s)):\n",
    "                    if isinstance(s[i,0],(int,float)):\n",
    "                        testSign.append(s[i,0]>0)\n",
    "                solution=[]\n",
    "                if all(elem == True for elem in testSign):\n",
    "                    for x in s[:,0]:\n",
    "                        if not isinstance(x,(sp.numbers.Integer,sp.numbers.Float,int,float)):\n",
    "                            solution.append(sp.solve(x>0,K)) # Define the solution for each value of the determinant\n",
    "                    with out:\n",
    "                        clear_output()\n",
    "                        display(Markdown('Routh tablica $%s$' % vmatrix(s)))\n",
    "                        display(Markdown('Svi poznati koeficijenti u prvom stupcu Routh tablice su pozitivni, stoga je sustav stabilan za:'))\n",
    "                        print(solution)            \n",
    "                elif all(elem == False for elem in test):\n",
    "                    for x in s[:,0]:\n",
    "                        if not isinstance(x,(sp.numbers.Integer,sp.numbers.Float,int,float)):\n",
    "                            solution.append(sp.solve(x<0,K)) # Define the solution for each value of the determinant\n",
    "                    with out:\n",
    "                        clear_output()\n",
    "                        display(Markdown('Routh tablica $%s$' % vmatrix(s)))\n",
    "                        display(Markdown('Svi poznati koeficijenti u prvom stupcu Routh tablice su negativni, stoga je sustav stabilan za:'))\n",
    "                        print(solution)\n",
    "                else:\n",
    "                    with out:\n",
    "                        display(Markdown('Routh table $%s$' % vmatrix(s)))\n",
    "                        display(Markdown('Sustav nije stabilan jer se predznaci koeficijenata u prvom stupcu međusobno razlikuju.'))\n",
    "\n",
    "\n",
    "\n",
    "    elif w.value=='Hurwitz':\n",
    "\n",
    "        # Check if all the coefficients are numbers or not and preallocate basic determinant.\n",
    "\n",
    "        if all(isinstance(x, (int,float)) for x in coef):\n",
    "            determinant=np.zeros([len(coef)-1,len(coef)-1])\n",
    "        else:\n",
    "            determinant=np.zeros([len(coef)-1,len(coef)-1],dtype=object)\n",
    "\n",
    "        # Define the first two rows of the basic determinant.    \n",
    "        for i in range(len(coef)-1):\n",
    "            try:\n",
    "                determinant[0,i]=coef[2*i+1]\n",
    "            except:\n",
    "                determinant[0,i]=0\n",
    "\n",
    "        for i in range(len(coef)-1):\n",
    "            try:\n",
    "                determinant[1,i]=coef[2*i]\n",
    "            except:\n",
    "                determinant[1,i]=0\n",
    "        # Define the remaining rows of the basic determinant by shifting the first two rows.        \n",
    "        for i in range(2,len(coef)-1):\n",
    "            determinant[i,:]=np.roll(determinant[i-2,:],1)\n",
    "            determinant[2:,0]=0\n",
    "\n",
    "        # Define all the subdeterminants.\n",
    "        subdet=[];\n",
    "        for i in range(len(determinant)-1):\n",
    "            subdet.append(determinant[0:i+1,0:i+1])\n",
    "\n",
    "        # Append the basic determinant to the subdeterminants' array.\n",
    "        subdet.append(determinant)\n",
    "\n",
    "        # Check if all coefficients are numbers.\n",
    "        if all(isinstance(x, (int,float)) for x in coef):\n",
    "            det_value=[] # Preallocate array containing values of all determinants.\n",
    "            for i in range(len(subdet)):\n",
    "                det_value.append(np.linalg.det(subdet[i])); # Calculate determinant and append the values to det_value.\n",
    "\n",
    "            if all(i > 0 for i in det_value)==True: # Check if all values in det_value are positive or not.\n",
    "                with out:\n",
    "                    clear_output()\n",
    "                    display(Markdown('Sustav je stabilan jer su sve determinante pozitivne.'))\n",
    "                    for i in range(len(subdet)):\n",
    "                        display(Markdown('$\\Delta_{%i}=$'%(i+1) + '$%s$' %vmatrix(subdet[i]) + '$=%s$' %det_value[i]))\n",
    "            else:\n",
    "                with out:\n",
    "                    clear_output()\n",
    "                    display(Markdown('Sustav nije stabilan jer sve determinante nisu pozitivne.'))\n",
    "                    for i in range(len(subdet)):\n",
    "                        display(Markdown('$\\Delta_{%i}=$'%(i+1) + '$%s$' %vmatrix(subdet[i]) + '$=%s$' %det_value[i]))\n",
    "        else:\n",
    "            subdetSym=[] # Preallocate subdetSym.\n",
    "            det_value=[] # Preallocate det_value.\n",
    "            solution=[] # Preallocate solution.\n",
    "            for i in subdet:\n",
    "                subdetSym.append(sp.Matrix(i)) # Transform matrix subdet to symbolic.\n",
    "            for i in range(len(subdetSym)):\n",
    "                det_value.append(subdetSym[i].det()) # Calculate the value of the determinant.\n",
    "            testSign=[]\n",
    "            for i in range(len(det_value)):\n",
    "                if isinstance(det_value[i],(int,float,sp.numbers.Integer,sp.numbers.Float)):\n",
    "                    testSign.append(det_value[i]>0)\n",
    "            if all(elem == True for elem in testSign):\n",
    "                solution=[]\n",
    "                for x in det_value:\n",
    "                    if not isinstance(x,(sp.numbers.Integer,sp.numbers.Float,int,float)):\n",
    "                        solution.append(sp.solve(x>0,K)) # Define the solution for each value of the determinant\n",
    "                with out:\n",
    "                    clear_output()\n",
    "                for i in range(len(subdet)):                        \n",
    "                    display(Markdown('$\\Delta_{%i}=$'%(i+1) + '$%s$' %vmatrix(subdet[i]) + '$=%s$' %det_value[i]))\n",
    "                display(Markdown('Sustav je stabilan za:'))\n",
    "                print(solution)    \n",
    "\n",
    "            else:\n",
    "                with out:\n",
    "                    clear_output()\n",
    "                    display(Markdown('Sustav nije stabilan jer sve determinante nisu pozitivne.'))\n",
    "                for i in range(len(subdet)):\n",
    "                    display(Markdown('$\\Delta_{%i}=$'%(i+1) + '$%s$' %vmatrix(subdet[i]) + '$=%s$' %det_value[i]))\n",
    "\n",
    "global out\n",
    "out=widgets.Output()\n",
    "\n",
    "btn3=widgets.Button(description=\"Resetiraj sve\")\n",
    "w=widgets.Select(\n",
    "    options=['Routh', 'Hurwitz'],\n",
    "    rows=3,\n",
    "    description='Odaberi:',\n",
    "    disabled=False\n",
    ")\n",
    "\n",
    "btn1.on_click(on_button_clicked1)\n",
    "btn2.on_click(on_button_clicked2)       \n",
    "btnReset.on_click(on_button_clickedReset) "
   ]
  }
 ],
 "metadata": {
  "kernelspec": {
   "display_name": "Python 3",
   "language": "python",
   "name": "python3"
  },
  "language_info": {
   "codemirror_mode": {
    "name": "ipython",
    "version": 3
   },
   "file_extension": ".py",
   "mimetype": "text/x-python",
   "name": "python",
   "nbconvert_exporter": "python",
   "pygments_lexer": "ipython3",
   "version": "3.6.7"
  }
 },
 "nbformat": 4,
 "nbformat_minor": 2
}
