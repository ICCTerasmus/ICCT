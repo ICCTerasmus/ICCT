{
 "cells": [
  {
   "cell_type": "code",
   "execution_count": 1,
   "metadata": {},
   "outputs": [
    {
     "data": {
      "text/html": [
       "<script>\n",
       "code_show=true; \n",
       "function code_toggle() {\n",
       "    if (code_show){\n",
       "        $('div.input').hide()\n",
       "    } else {\n",
       "        $('div.input').show()\n",
       "    }\n",
       "    code_show = !code_show\n",
       "} \n",
       "$( document ).ready(code_toggle);\n",
       "</script>\n",
       "Promijeni vidljivost <a href=\"javascript:code_toggle()\">ovdje</a>."
      ],
      "text/plain": [
       "<IPython.core.display.HTML object>"
      ]
     },
     "metadata": {},
     "output_type": "display_data"
    }
   ],
   "source": [
    "#remove cell visibility\n",
    "from IPython.display import HTML\n",
    "tag = HTML('''<script>\n",
    "code_show=true; \n",
    "function code_toggle() {\n",
    "    if (code_show){\n",
    "        $('div.input').hide()\n",
    "    } else {\n",
    "        $('div.input').show()\n",
    "    }\n",
    "    code_show = !code_show\n",
    "} \n",
    "$( document ).ready(code_toggle);\n",
    "</script>\n",
    "Promijeni vidljivost <a href=\"javascript:code_toggle()\">ovdje</a>.''')\n",
    "display(tag)"
   ]
  },
  {
   "cell_type": "markdown",
   "metadata": {},
   "source": [
    "## Upravljanje bočnog položaja lunarnog prizemljivača\n",
    "\n",
    "Ovaj primjer ilustrira razvoj regulatora (promatrača i kontrolera u formi povratne veze stanja) za upravljanje bočnim položajem lunarnog prizemljivača, počevši od jednadžbi sustava.\n",
    "\n",
    "<img src=\"Images\\lunarlander.PNG\" alt=\"drawing\" width=\"500x800\">\n",
    "\n",
    "Sustav je predstavljen na gornjoj slici, njegov vertikalni spust usporen je pomoću vertikalnog potisnika koji proizvodi konstantnu silu $F$. Horizontalno kretanje može se postići laganim naginjanjem prizemljivača za kut $\\theta$; naginjanjem se stvara bočna sila koja je približno jednaka $F\\theta$. Nagib se postiže generiranjem momenta $T$ pomoću skupa upravljačkih raketa (maksimalni moment = 500 Nm). Kut nagiba mora biti unutar$\\pm15$ stupnjeva kako bi se izbjeglo opasno povećanje brzine vertikalnog spusta. Izmjerene veličine su bočni položaj i brzina. Pretpostavlja se da je atmosferski otpor zanemariv, a vrijednosti parametara navedene su u donjoj tablici.\n",
    "\n",
    "| Parametar |                     Vrijednost |\n",
    "|-----------|-------------------------------:|\n",
    "|$m$        |                        1000 kg |\n",
    "|$J$        |           1000 kg$\\text{m}^2$ |\n",
    "|$F$        |                         1500 N |\n",
    "\n",
    "Cilj dizajna upravljačkog sustava je postići sljedeće performanse za regulaciju vodoravnog položaja $z$:\n",
    "1. Maksimalno prekoračenje od 30%.\n",
    "2. Vrijeme smirivanja (za 5% pojasa tolerancije) manje od 15 sekundi.\n",
    "3. Kut $\\theta$ uvijek unutar svojih granica za željenu maksimalnu bočnu promjenu od 10 metara.\n",
    "4. Nulta pogreška kao odziv na naredbeni korak.\n",
    "\n",
    "Jednadžbe sustava su:\n",
    "\n",
    "\n",
    "\\begin{cases}\n",
    "J\\ddot{\\theta}=T \\\\\n",
    "m\\ddot{z}=F\\theta\n",
    "\\end{cases}\n",
    "i definiranjem $\\textbf{x}=[x_1,x_2,x_3,x_4]^T=[z,\\dot{z},\\theta,\\dot{\\theta}]^T$ kao vektora stanja te $u=T$ kao ulaza, u formi prostora stanja dobivamo:\n",
    "\n",
    "\\begin{cases}\n",
    "\\dot{\\textbf{x}}=\\underbrace{\\begin{bmatrix}0&1&0&0 \\\\ 0&0&F/m&0 \\\\ 0&0&0&1 \\\\ 0&0&0&0\\end{bmatrix}}_{A}\\textbf{x}+\\underbrace{\\begin{bmatrix}0\\\\0\\\\0\\\\1/J\\end{bmatrix}}_{B}u \\\\ \\\\\n",
    "\\textbf{y}=\\underbrace{\\begin{bmatrix}1&0&0&0 \\\\ 0&1&0&0\\end{bmatrix}}_{C}\\textbf{x}.\n",
    "\\end{cases}\n",
    "\n",
    "### Dizajn kontrolera\n",
    "Kako bi postigli nultu pogrešku za odziv na referentni korak, sustav se proširuje dodavanjem novog stanja $\\dot{x_5}=y_1-y_d$ gdje je $y_1$ izmjereni bočni položaj, a $y_d$ je vrijednost željenog položaja. Stoga je prošireni sustav:\n",
    "\n",
    "\\begin{cases}\n",
    "\\dot{\\textbf{x}_a}=\\underbrace{\\begin{bmatrix}0&1&0&0&0 \\\\ 0&0&F/m&0&0 \\\\ 0&0&0&1&0 \\\\ 0&0&0&0&0 \\\\ 1&0&0&0&0 \\end{bmatrix}}_{A_a}\\textbf{x}_a+\\underbrace{\\begin{bmatrix} 0&0\\\\0&0\\\\0&0\\\\1/J&0\\\\0&-1 \\end{bmatrix}}_{B_a}\\underbrace{\\begin{bmatrix} u\\\\y_d \\end{bmatrix}}_{u_a} \\\\ \\\\\n",
    "\\textbf{y}_a=\\underbrace{\\begin{bmatrix}1&0&0&0&0\\\\0&1&0&0&0\\\\0&0&0&0&1\\end{bmatrix}}_{C_a}\\textbf{x}_a\n",
    "\\end{cases}\n",
    "\n",
    "koji se može kontrolirati (upravljiv) s prvim stupcem od $B_a$, tako da je moguće koristiti metodu postavljanja polova. Imajte na umu da je, kako bi se održala osmotrivost sustava, dodan red u matrici $C$ jer je poznato novo stanje $x_5$.\n",
    "\n",
    "Matrica pojačanja $K_a$ koja zadovoljava sve zadane uvjete je:\n",
    "$$\n",
    "K_a=\\begin{bmatrix}2225.0&6244.0&13861.0&5275.0&316.0\\end{bmatrix}\n",
    "$$\n",
    "čime se polovi od $(A_a-B_aK_a)$ pozicioniraju na $-0.28$, $-2.24+2.23i$, $-2.24-2.23i$, $-0.26+0.32i$ i $-0.26-0.32i$.\n",
    "\n",
    "### Dizajn promatrača\n",
    "Sustav je osmotriv, a, budući da se mjere tri stanja, moguće je dizajnirati promatrač s reduciranim stanjima (za $\\theta$ i $\\dot{\\theta}$) koji ima strukturu:\n",
    "$$\n",
    "\\dot{\\hat{\\textbf{v}}}=(A_{11}+L_aA_{21})\\hat{\\textbf{v}}+(A_{12}+L_aA_{22}-A_{11}L_a-L_aA_{21}L_a)\\textbf{y}_a+(B_1+L_aB_2)u_a,\n",
    "$$\n",
    "gdje je\n",
    "$$\n",
    "T^{-1}A_aT=\\begin{bmatrix}A_{11}&A_{12} \\\\ A_{21}&A_{22}\\end{bmatrix}, \n",
    "\\quad T^{-1}B_a=\\begin{bmatrix}B_1 \\\\ B_2\\end{bmatrix}, \n",
    "\\quad \\overline{\\textbf{x}_a}=T^{-1}\\textbf{x}_a=\\begin{bmatrix}V \\\\ C\\end{bmatrix}\\textbf{x}_a, \n",
    "\\quad V=\\begin{bmatrix}0&0&1&0&0 \\\\ 0&0&0&1&0\\end{bmatrix}, \n",
    "\\quad \\hat{\\textbf{x}_a}=\\begin{bmatrix}\\hat{\\textbf{v}}-L_a\\textbf{y}_a \\\\ \\textbf{y}_a\\end{bmatrix}.\n",
    "$$\n",
    "\n",
    "Odabir svojstvenih vrijednosti promatrača vrši se na način da dinamika pogrešaka konvergira brže od dinamike sustava specificirane zahtjevima. Svojstvene vrijednosti odabrane za $A_{11}+L_aA_{21}$ su $\\lambda_i=-10$ rad/s, $i=1,2$ uz\n",
    "$$ L_a=\\begin{bmatrix}0&-\\frac{40}{3}&0 \\\\ 0&-\\frac{200}{3}&0\\end{bmatrix} $$\n",
    "\n",
    "\n",
    "\n",
    "### Kako koristiti ovaj interaktivni primjer?\n",
    "Učinkovitost sustava možete provjeriti s razvijenim regulatorom i izravno modificirati kontroler i/ili promatrač. Simulacija započinje početnom pogreškom promatrača."
   ]
  },
  {
   "cell_type": "code",
   "execution_count": 2,
   "metadata": {},
   "outputs": [],
   "source": [
    "#Preparatory Cell \n",
    "\n",
    "%matplotlib notebook\n",
    "import control as ctrl\n",
    "import numpy\n",
    "import sympy as sym\n",
    "from IPython.display import display, Markdown\n",
    "import ipywidgets as widgets\n",
    "import matplotlib.pyplot as plt\n",
    "import matplotlib.animation as animation\n",
    "import matplotlib.patches as patches\n",
    "import matplotlib.transforms as transforms\n",
    "import matplotlib.lines as lines\n",
    "\n",
    "#print a matrix latex-like\n",
    "def bmatrix(a):\n",
    "     \"\"\"Returns a LaTeX bmatrix - by Damir Arbula (ICCT project)\n",
    "\n",
    "     :a: numpy array\n",
    "     :returns: LaTeX bmatrix as a string\n",
    "     \"\"\"\n",
    "     if len(a.shape) > 2:\n",
    "         raise ValueError('bmatrix can at most display two dimensions')\n",
    "     lines = str(a).replace('[', '').replace(']', '').splitlines()\n",
    "     rv = [r'\\begin{bmatrix}']\n",
    "     rv += ['  ' + ' & '.join(l.split()) + r'\\\\' for l in lines]\n",
    "     rv +=  [r'\\end{bmatrix}']\n",
    "     return '\\n'.join(rv)\n",
    "\n",
    "\n",
    "# Display formatted matrix: \n",
    "def vmatrix(a):\n",
    "    if len(a.shape) > 2:\n",
    "         raise ValueError('bmatrix can at most display two dimensions')\n",
    "    lines = str(a).replace('[', '').replace(']', '').splitlines()\n",
    "    rv = [r'\\begin{vmatrix}']\n",
    "    rv += ['  ' + ' & '.join(l.split()) + r'\\\\' for l in lines]\n",
    "    rv +=  [r'\\end{vmatrix}']\n",
    "    return '\\n'.join(rv)\n",
    "\n",
    "\n",
    "#matrixWidget is a matrix looking widget built with a VBox of HBox(es) that returns a numPy array as value !\n",
    "class matrixWidget(widgets.VBox):\n",
    "    def updateM(self,change):\n",
    "        for irow in range(0,self.n):\n",
    "            for icol in range(0,self.m):\n",
    "                self.M_[irow,icol] = self.children[irow].children[icol].value\n",
    "                #print(self.M_[irow,icol])\n",
    "        self.value = self.M_\n",
    "\n",
    "    def dummychangecallback(self,change):\n",
    "        pass\n",
    "    \n",
    "    \n",
    "    def __init__(self,n,m):\n",
    "        self.n = n\n",
    "        self.m = m\n",
    "        self.M_ = numpy.matrix(numpy.zeros((self.n,self.m)))\n",
    "        self.value = self.M_\n",
    "        widgets.VBox.__init__(self,\n",
    "                             children = [\n",
    "                                 widgets.HBox(children = \n",
    "                                              [widgets.FloatText(value=0.0, layout=widgets.Layout(width='90px')) for i in range(m)]\n",
    "                                             ) \n",
    "                                 for j in range(n)\n",
    "                             ])\n",
    "        \n",
    "        #fill in widgets and tell interact to call updateM each time a children changes value\n",
    "        for irow in range(0,self.n):\n",
    "            for icol in range(0,self.m):\n",
    "                self.children[irow].children[icol].value = self.M_[irow,icol]\n",
    "                self.children[irow].children[icol].observe(self.updateM, names='value')\n",
    "        #value = Unicode('example@example.com', help=\"The email value.\").tag(sync=True)\n",
    "        self.observe(self.updateM, names='value', type= 'All')\n",
    "        \n",
    "    def setM(self, newM):\n",
    "        #disable callbacks, change values, and reenable\n",
    "        self.unobserve(self.updateM, names='value', type= 'All')\n",
    "        for irow in range(0,self.n):\n",
    "            for icol in range(0,self.m):\n",
    "                self.children[irow].children[icol].unobserve(self.updateM, names='value')\n",
    "        self.M_ = newM\n",
    "        self.value = self.M_\n",
    "        for irow in range(0,self.n):\n",
    "            for icol in range(0,self.m):\n",
    "                self.children[irow].children[icol].value = self.M_[irow,icol]\n",
    "        for irow in range(0,self.n):\n",
    "            for icol in range(0,self.m):\n",
    "                self.children[irow].children[icol].observe(self.updateM, names='value')\n",
    "        self.observe(self.updateM, names='value', type= 'All')        \n",
    "\n",
    "                #self.children[irow].children[icol].observe(self.updateM, names='value')\n",
    "\n",
    "             \n",
    "#overlaod class for state space systems that DO NOT remove \"useless\" states (what \"professor\" of automatic control would do this?)\n",
    "class sss(ctrl.StateSpace):\n",
    "    def __init__(self,*args):\n",
    "        #call base class init constructor\n",
    "        ctrl.StateSpace.__init__(self,*args)\n",
    "    #disable function below in base class\n",
    "    def _remove_useless_states(self):\n",
    "        pass"
   ]
  },
  {
   "cell_type": "code",
   "execution_count": 3,
   "metadata": {},
   "outputs": [],
   "source": [
    "# Define matrixes\n",
    "\n",
    "A = numpy.matrix('0 1 0 0; 0 0 1.5 0; 0 0 0 1; 0 0 0 0')\n",
    "B = numpy.matrix('0;0;0;0.001')\n",
    "C = numpy.matrix('1 0 0 0; 0 1 0 0')\n",
    "Aa = numpy.matrix('0 1 0 0 0; 0 0 1.5 0 0; 0 0 0 1 0; 0 0 0 0 0; 1 0 0 0 0')\n",
    "Ba = numpy.matrix('0 0;0 0;0 0;0.001 0;0 -1')\n",
    "Ca = numpy.matrix('1 0 0 0 0; 0 1 0 0 0; 0 0 0 0 1')\n",
    "Ka1 = numpy.matrix('[2225.0, 6244.0, 13861.0, 5275.0, 316.0') #318.9333 835 2012.5 2000 59.6\n",
    "Ta = (numpy.matrix('0 0 1 0 0; 0 0 0 1 0; 1 0 0 0 0;0 1 0 0 0; 0 0 0 0 1'))**(-1)\n",
    "Ar = Ta**(-1)*Aa*Ta\n",
    "Br = Ta**(-1)*Ba\n",
    "A11 = Ar[0:2,0:2]\n",
    "A12 = Ar[0:2,2:5]\n",
    "A21 = Ar[2:5,0:2]\n",
    "A22 = Ar[2:5,2:5]\n",
    "B1 = Br[0:2,:]\n",
    "B2 = Br[2:5,:]\n",
    "La1 = numpy.matrix([[0, -4*10/3, 0],[0, -3/8*(-4*10/3)**2, 0]])\n",
    "X0a = numpy.matrix('0;0;0;0;0;0;0;0;0;0;0.002;0.002;0;0;0;0;0;0.002;0.002;0;0;0;0;0')\n",
    "# X0a = numpy.matrix('0;0;0;0;0')\n",
    "# V0 = numpy.matrix('0;0')"
   ]
  },
  {
   "cell_type": "code",
   "execution_count": 4,
   "metadata": {},
   "outputs": [],
   "source": [
    "# Define matrixes widget\n",
    "Kaw = matrixWidget(1,5)\n",
    "Law = matrixWidget(2,3)\n",
    "eig1 = matrixWidget(1,1)\n",
    "eig2 = matrixWidget(2,1)\n",
    "eig3 = matrixWidget(2,1)\n",
    "eig4 = matrixWidget(1,1)\n",
    "eig5 = matrixWidget(1,1)\n",
    "eig1o = matrixWidget(1,1)\n",
    "eig2o = matrixWidget(2,1)\n",
    "\n",
    "Ydw = widgets.FloatSlider(\n",
    "                         value=10,\n",
    "                         min=0,\n",
    "                         max=10.0,\n",
    "                         step=0.1,\n",
    "                         description='$y_d$:',\n",
    "                         disabled=False,\n",
    "                         continuous_update=False,\n",
    "                         orientation='horizontal',\n",
    "                         readout=True,\n",
    "                         readout_format='.1f',\n",
    "                        )\n",
    "\n",
    "# Init matrix widgets\n",
    "Kaw.setM(Ka1) \n",
    "Law.setM(La1)\n",
    "#[-0.6,-0.5-0.35j,-0.5+0.35j,-0.2-0.6j,-0.2+0.6j]\n",
    "eig1.setM(numpy.matrix([-0.28]))\n",
    "eig2.setM(numpy.matrix([[-2.24],[-2.23]]))\n",
    "eig3.setM(numpy.matrix([[-0.26],[-0.32]])) \n",
    "eig4.setM(numpy.matrix([-1])) \n",
    "eig5.setM(numpy.matrix([-1])) \n",
    "eig1o.setM(numpy.matrix([-10])) \n",
    "eig2o.setM(numpy.matrix([[-10],[0]])) "
   ]
  },
  {
   "cell_type": "code",
   "execution_count": 5,
   "metadata": {},
   "outputs": [],
   "source": [
    "# Support functions\n",
    "# Simulation function\n",
    "def simulation(Aa, Baa, Ca, A11, A12, A21, A22, B1, B2, La, Ka, Ta):\n",
    "    Aa, Baa, Ca = sym.Matrix(Aa), sym.Matrix(Baa), sym.Matrix(Ca)\n",
    "    A11, A12, A21, A22 = sym.Matrix(A11), sym.Matrix(A12), sym.Matrix(A21), sym.Matrix(A22)\n",
    "    B1, B2 = sym.Matrix(B1), sym.Matrix(B2)\n",
    "    La, Ka = sym.Matrix(La), sym.Matrix(Ka)\n",
    "    Ta = sym.Matrix(Ta)\n",
    "    sysS = sss(Aa, Baa, Ca, sym.zeros(3,2))\n",
    "    sysX = sss(Aa, Baa, sym.eye(5), sym.zeros(5,2))\n",
    "    sysO1 = sss((A11+La*A21), (B1+La*B2).row_join(A12+La*A22-A11*La-La*A21*La), sym.eye(2), sym.zeros(2,5))\n",
    "    sysO2 = ctrl.append(sysO1, sysS)\n",
    "    sysO3 = ctrl.connect(sysO2, [[3, 3], [4, 4], [5, 5]], [1, 2, 6, 7], [1, 2, 3, 4, 5])\n",
    "    sysO = sss(sysO3.A,\n",
    "               sysO3.B*sym.eye(2).col_join(sym.eye(2)),\n",
    "               Ta*(sym.eye(2).row_join(-La)).col_join(sym.zeros(3, 2).row_join(sym.eye(3)))*sysO3.C,\n",
    "               sym.zeros(5,2))\n",
    "    sysU = sss(sysO.A, sysO.B, -Ka*sysO.C, sym.zeros(1,2))\n",
    "    sysT = ctrl.append(sysS, sysX, sysO, sysU)\n",
    "    sysT1 = ctrl.connect(sysT, [[1, 14], [3, 14], [5, 14], [7, 14]], [2, 4, 6, 8], [i for i in range(1, 15)])\n",
    "    sys = sss(sysT1.A, sysT1.B*sym.Matrix([1, 1, 1, 1]), sysT1.C, sym.zeros(14, 1))\n",
    "    return sys\n",
    "\n",
    "# check functions\n",
    "def eigen_choice(selc,selo):\n",
    "    if selc == '0 kompleksnih svojstvenih vrijednosti':\n",
    "        eig2.children[1].children[0].disabled = True\n",
    "        eig3.children[1].children[0].disabled = True\n",
    "        eig3.children[0].children[0].disabled = False\n",
    "        eig4.children[0].children[0].disabled = False\n",
    "        eig5.children[0].children[0].disabled = False\n",
    "        eigc = 0\n",
    "    if selc == '2 kompleksne svojstvene vrijednosti':\n",
    "        eig2.children[1].children[0].disabled = False\n",
    "        eig3.children[1].children[0].disabled = True\n",
    "        eig3.children[0].children[0].disabled = True\n",
    "        eig4.children[0].children[0].disabled = False\n",
    "        eig5.children[0].children[0].disabled = False\n",
    "        eigc = 2\n",
    "    if selc == '4 kompleksne svojstvene vrijednosti':\n",
    "        eig2.children[1].children[0].disabled = False\n",
    "        eig3.children[1].children[0].disabled = False\n",
    "        eig3.children[0].children[0].disabled = False\n",
    "        eig4.children[0].children[0].disabled = True\n",
    "        eig5.children[0].children[0].disabled = True\n",
    "        eigc = 4\n",
    "    if selo == '0 kompleksnih svojstvenih vrijednosti':\n",
    "        eig1o.children[0].children[0].disabled = False\n",
    "        eig2o.children[1].children[0].disabled = True\n",
    "        eigo = 0\n",
    "    if selo == '2 kompleksne svojstvene vrijednosti':\n",
    "        eig1o.children[0].children[0].disabled = True\n",
    "        eig2o.children[1].children[0].disabled = False\n",
    "        eigo = 2\n",
    "    return (eigc, eigo)\n",
    "\n",
    "def method_choice(selm):\n",
    "    if selm == 'Postavi Ka i La':\n",
    "        method = 1\n",
    "        selc.disabled = True\n",
    "        selo.disabled = True\n",
    "    if selm == 'Postavi svojstvene vrijednosti':\n",
    "        method = 2\n",
    "        selc.disabled = False\n",
    "        selo.disabled = False\n",
    "    return method\n",
    "\n",
    "# Animation functions\n",
    "def fun_animation(index):\n",
    "    global Ydw, yout, T\n",
    "    yd = Ydw.value\n",
    "    frame = 1\n",
    "    \n",
    "    linez.set_data(T[0:index*frame],yd*yout[0][0:index*frame])\n",
    "    linezv.set_data(T[0:index*frame],yd*yout[1][0:index*frame])\n",
    "    lined.set_data(T,[yd for i in range(0,len(T))])\n",
    "    lineu.set_data(T[0:index*frame],yd*yout[13][0:index*frame])\n",
    "    linelimu1.set_data(T,[500 for j in range(0,len(T))])\n",
    "    linelimu2.set_data(T,[-500 for j in range(0,len(T))])\n",
    "    linethetaest.set_data(T[0:index*frame],yd*yout[10][0:index*frame]*180/numpy.pi)\n",
    "    linetheta.set_data(T[0:index*frame],yd*yout[5][0:index*frame]*180/numpy.pi)\n",
    "    \n",
    "    \n",
    "    rotation_transform.clear().translate(yd*yout[0][index*frame]*numpy.cos(float(yd*yout[6][index*frame])), yd*yout[0][index*frame]*numpy.sin(float(yd*yout[6][index*frame]))).rotate(float(-yd*yout[6][index*frame]))\n",
    "    \n",
    "    return (linez,linezv,lined,lineu,linelimu1,linelimu2,linethetaest,linetheta)\n",
    "\n",
    "def anim_init():\n",
    "    linez.set_data([], [])\n",
    "    linezv.set_data([], [])\n",
    "    lined.set_data([], [])\n",
    "    lineu.set_data([], [])\n",
    "    linelimu1.set_data([], [])\n",
    "    linelimu2.set_data([], [])\n",
    "    linethetaest.set_data([], [])\n",
    "    linetheta.set_data([], [])\n",
    "    return (linez,linezv,lined,lineu,linelimu1,linelimu2,linethetaest,linetheta)\n"
   ]
  },
  {
   "cell_type": "code",
   "execution_count": 6,
   "metadata": {
    "scrolled": false
   },
   "outputs": [
    {
     "data": {
      "application/javascript": [
       "/* Put everything inside the global mpl namespace */\n",
       "window.mpl = {};\n",
       "\n",
       "\n",
       "mpl.get_websocket_type = function() {\n",
       "    if (typeof(WebSocket) !== 'undefined') {\n",
       "        return WebSocket;\n",
       "    } else if (typeof(MozWebSocket) !== 'undefined') {\n",
       "        return MozWebSocket;\n",
       "    } else {\n",
       "        alert('Your browser does not have WebSocket support. ' +\n",
       "              'Please try Chrome, Safari or Firefox ≥ 6. ' +\n",
       "              'Firefox 4 and 5 are also supported but you ' +\n",
       "              'have to enable WebSockets in about:config.');\n",
       "    };\n",
       "}\n",
       "\n",
       "mpl.figure = function(figure_id, websocket, ondownload, parent_element) {\n",
       "    this.id = figure_id;\n",
       "\n",
       "    this.ws = websocket;\n",
       "\n",
       "    this.supports_binary = (this.ws.binaryType != undefined);\n",
       "\n",
       "    if (!this.supports_binary) {\n",
       "        var warnings = document.getElementById(\"mpl-warnings\");\n",
       "        if (warnings) {\n",
       "            warnings.style.display = 'block';\n",
       "            warnings.textContent = (\n",
       "                \"This browser does not support binary websocket messages. \" +\n",
       "                    \"Performance may be slow.\");\n",
       "        }\n",
       "    }\n",
       "\n",
       "    this.imageObj = new Image();\n",
       "\n",
       "    this.context = undefined;\n",
       "    this.message = undefined;\n",
       "    this.canvas = undefined;\n",
       "    this.rubberband_canvas = undefined;\n",
       "    this.rubberband_context = undefined;\n",
       "    this.format_dropdown = undefined;\n",
       "\n",
       "    this.image_mode = 'full';\n",
       "\n",
       "    this.root = $('<div/>');\n",
       "    this._root_extra_style(this.root)\n",
       "    this.root.attr('style', 'display: inline-block');\n",
       "\n",
       "    $(parent_element).append(this.root);\n",
       "\n",
       "    this._init_header(this);\n",
       "    this._init_canvas(this);\n",
       "    this._init_toolbar(this);\n",
       "\n",
       "    var fig = this;\n",
       "\n",
       "    this.waiting = false;\n",
       "\n",
       "    this.ws.onopen =  function () {\n",
       "            fig.send_message(\"supports_binary\", {value: fig.supports_binary});\n",
       "            fig.send_message(\"send_image_mode\", {});\n",
       "            if (mpl.ratio != 1) {\n",
       "                fig.send_message(\"set_dpi_ratio\", {'dpi_ratio': mpl.ratio});\n",
       "            }\n",
       "            fig.send_message(\"refresh\", {});\n",
       "        }\n",
       "\n",
       "    this.imageObj.onload = function() {\n",
       "            if (fig.image_mode == 'full') {\n",
       "                // Full images could contain transparency (where diff images\n",
       "                // almost always do), so we need to clear the canvas so that\n",
       "                // there is no ghosting.\n",
       "                fig.context.clearRect(0, 0, fig.canvas.width, fig.canvas.height);\n",
       "            }\n",
       "            fig.context.drawImage(fig.imageObj, 0, 0);\n",
       "        };\n",
       "\n",
       "    this.imageObj.onunload = function() {\n",
       "        fig.ws.close();\n",
       "    }\n",
       "\n",
       "    this.ws.onmessage = this._make_on_message_function(this);\n",
       "\n",
       "    this.ondownload = ondownload;\n",
       "}\n",
       "\n",
       "mpl.figure.prototype._init_header = function() {\n",
       "    var titlebar = $(\n",
       "        '<div class=\"ui-dialog-titlebar ui-widget-header ui-corner-all ' +\n",
       "        'ui-helper-clearfix\"/>');\n",
       "    var titletext = $(\n",
       "        '<div class=\"ui-dialog-title\" style=\"width: 100%; ' +\n",
       "        'text-align: center; padding: 3px;\"/>');\n",
       "    titlebar.append(titletext)\n",
       "    this.root.append(titlebar);\n",
       "    this.header = titletext[0];\n",
       "}\n",
       "\n",
       "\n",
       "\n",
       "mpl.figure.prototype._canvas_extra_style = function(canvas_div) {\n",
       "\n",
       "}\n",
       "\n",
       "\n",
       "mpl.figure.prototype._root_extra_style = function(canvas_div) {\n",
       "\n",
       "}\n",
       "\n",
       "mpl.figure.prototype._init_canvas = function() {\n",
       "    var fig = this;\n",
       "\n",
       "    var canvas_div = $('<div/>');\n",
       "\n",
       "    canvas_div.attr('style', 'position: relative; clear: both; outline: 0');\n",
       "\n",
       "    function canvas_keyboard_event(event) {\n",
       "        return fig.key_event(event, event['data']);\n",
       "    }\n",
       "\n",
       "    canvas_div.keydown('key_press', canvas_keyboard_event);\n",
       "    canvas_div.keyup('key_release', canvas_keyboard_event);\n",
       "    this.canvas_div = canvas_div\n",
       "    this._canvas_extra_style(canvas_div)\n",
       "    this.root.append(canvas_div);\n",
       "\n",
       "    var canvas = $('<canvas/>');\n",
       "    canvas.addClass('mpl-canvas');\n",
       "    canvas.attr('style', \"left: 0; top: 0; z-index: 0; outline: 0\")\n",
       "\n",
       "    this.canvas = canvas[0];\n",
       "    this.context = canvas[0].getContext(\"2d\");\n",
       "\n",
       "    var backingStore = this.context.backingStorePixelRatio ||\n",
       "\tthis.context.webkitBackingStorePixelRatio ||\n",
       "\tthis.context.mozBackingStorePixelRatio ||\n",
       "\tthis.context.msBackingStorePixelRatio ||\n",
       "\tthis.context.oBackingStorePixelRatio ||\n",
       "\tthis.context.backingStorePixelRatio || 1;\n",
       "\n",
       "    mpl.ratio = (window.devicePixelRatio || 1) / backingStore;\n",
       "\n",
       "    var rubberband = $('<canvas/>');\n",
       "    rubberband.attr('style', \"position: absolute; left: 0; top: 0; z-index: 1;\")\n",
       "\n",
       "    var pass_mouse_events = true;\n",
       "\n",
       "    canvas_div.resizable({\n",
       "        start: function(event, ui) {\n",
       "            pass_mouse_events = false;\n",
       "        },\n",
       "        resize: function(event, ui) {\n",
       "            fig.request_resize(ui.size.width, ui.size.height);\n",
       "        },\n",
       "        stop: function(event, ui) {\n",
       "            pass_mouse_events = true;\n",
       "            fig.request_resize(ui.size.width, ui.size.height);\n",
       "        },\n",
       "    });\n",
       "\n",
       "    function mouse_event_fn(event) {\n",
       "        if (pass_mouse_events)\n",
       "            return fig.mouse_event(event, event['data']);\n",
       "    }\n",
       "\n",
       "    rubberband.mousedown('button_press', mouse_event_fn);\n",
       "    rubberband.mouseup('button_release', mouse_event_fn);\n",
       "    // Throttle sequential mouse events to 1 every 20ms.\n",
       "    rubberband.mousemove('motion_notify', mouse_event_fn);\n",
       "\n",
       "    rubberband.mouseenter('figure_enter', mouse_event_fn);\n",
       "    rubberband.mouseleave('figure_leave', mouse_event_fn);\n",
       "\n",
       "    canvas_div.on(\"wheel\", function (event) {\n",
       "        event = event.originalEvent;\n",
       "        event['data'] = 'scroll'\n",
       "        if (event.deltaY < 0) {\n",
       "            event.step = 1;\n",
       "        } else {\n",
       "            event.step = -1;\n",
       "        }\n",
       "        mouse_event_fn(event);\n",
       "    });\n",
       "\n",
       "    canvas_div.append(canvas);\n",
       "    canvas_div.append(rubberband);\n",
       "\n",
       "    this.rubberband = rubberband;\n",
       "    this.rubberband_canvas = rubberband[0];\n",
       "    this.rubberband_context = rubberband[0].getContext(\"2d\");\n",
       "    this.rubberband_context.strokeStyle = \"#000000\";\n",
       "\n",
       "    this._resize_canvas = function(width, height) {\n",
       "        // Keep the size of the canvas, canvas container, and rubber band\n",
       "        // canvas in synch.\n",
       "        canvas_div.css('width', width)\n",
       "        canvas_div.css('height', height)\n",
       "\n",
       "        canvas.attr('width', width * mpl.ratio);\n",
       "        canvas.attr('height', height * mpl.ratio);\n",
       "        canvas.attr('style', 'width: ' + width + 'px; height: ' + height + 'px;');\n",
       "\n",
       "        rubberband.attr('width', width);\n",
       "        rubberband.attr('height', height);\n",
       "    }\n",
       "\n",
       "    // Set the figure to an initial 600x600px, this will subsequently be updated\n",
       "    // upon first draw.\n",
       "    this._resize_canvas(600, 600);\n",
       "\n",
       "    // Disable right mouse context menu.\n",
       "    $(this.rubberband_canvas).bind(\"contextmenu\",function(e){\n",
       "        return false;\n",
       "    });\n",
       "\n",
       "    function set_focus () {\n",
       "        canvas.focus();\n",
       "        canvas_div.focus();\n",
       "    }\n",
       "\n",
       "    window.setTimeout(set_focus, 100);\n",
       "}\n",
       "\n",
       "mpl.figure.prototype._init_toolbar = function() {\n",
       "    var fig = this;\n",
       "\n",
       "    var nav_element = $('<div/>');\n",
       "    nav_element.attr('style', 'width: 100%');\n",
       "    this.root.append(nav_element);\n",
       "\n",
       "    // Define a callback function for later on.\n",
       "    function toolbar_event(event) {\n",
       "        return fig.toolbar_button_onclick(event['data']);\n",
       "    }\n",
       "    function toolbar_mouse_event(event) {\n",
       "        return fig.toolbar_button_onmouseover(event['data']);\n",
       "    }\n",
       "\n",
       "    for(var toolbar_ind in mpl.toolbar_items) {\n",
       "        var name = mpl.toolbar_items[toolbar_ind][0];\n",
       "        var tooltip = mpl.toolbar_items[toolbar_ind][1];\n",
       "        var image = mpl.toolbar_items[toolbar_ind][2];\n",
       "        var method_name = mpl.toolbar_items[toolbar_ind][3];\n",
       "\n",
       "        if (!name) {\n",
       "            // put a spacer in here.\n",
       "            continue;\n",
       "        }\n",
       "        var button = $('<button/>');\n",
       "        button.addClass('ui-button ui-widget ui-state-default ui-corner-all ' +\n",
       "                        'ui-button-icon-only');\n",
       "        button.attr('role', 'button');\n",
       "        button.attr('aria-disabled', 'false');\n",
       "        button.click(method_name, toolbar_event);\n",
       "        button.mouseover(tooltip, toolbar_mouse_event);\n",
       "\n",
       "        var icon_img = $('<span/>');\n",
       "        icon_img.addClass('ui-button-icon-primary ui-icon');\n",
       "        icon_img.addClass(image);\n",
       "        icon_img.addClass('ui-corner-all');\n",
       "\n",
       "        var tooltip_span = $('<span/>');\n",
       "        tooltip_span.addClass('ui-button-text');\n",
       "        tooltip_span.html(tooltip);\n",
       "\n",
       "        button.append(icon_img);\n",
       "        button.append(tooltip_span);\n",
       "\n",
       "        nav_element.append(button);\n",
       "    }\n",
       "\n",
       "    var fmt_picker_span = $('<span/>');\n",
       "\n",
       "    var fmt_picker = $('<select/>');\n",
       "    fmt_picker.addClass('mpl-toolbar-option ui-widget ui-widget-content');\n",
       "    fmt_picker_span.append(fmt_picker);\n",
       "    nav_element.append(fmt_picker_span);\n",
       "    this.format_dropdown = fmt_picker[0];\n",
       "\n",
       "    for (var ind in mpl.extensions) {\n",
       "        var fmt = mpl.extensions[ind];\n",
       "        var option = $(\n",
       "            '<option/>', {selected: fmt === mpl.default_extension}).html(fmt);\n",
       "        fmt_picker.append(option);\n",
       "    }\n",
       "\n",
       "    // Add hover states to the ui-buttons\n",
       "    $( \".ui-button\" ).hover(\n",
       "        function() { $(this).addClass(\"ui-state-hover\");},\n",
       "        function() { $(this).removeClass(\"ui-state-hover\");}\n",
       "    );\n",
       "\n",
       "    var status_bar = $('<span class=\"mpl-message\"/>');\n",
       "    nav_element.append(status_bar);\n",
       "    this.message = status_bar[0];\n",
       "}\n",
       "\n",
       "mpl.figure.prototype.request_resize = function(x_pixels, y_pixels) {\n",
       "    // Request matplotlib to resize the figure. Matplotlib will then trigger a resize in the client,\n",
       "    // which will in turn request a refresh of the image.\n",
       "    this.send_message('resize', {'width': x_pixels, 'height': y_pixels});\n",
       "}\n",
       "\n",
       "mpl.figure.prototype.send_message = function(type, properties) {\n",
       "    properties['type'] = type;\n",
       "    properties['figure_id'] = this.id;\n",
       "    this.ws.send(JSON.stringify(properties));\n",
       "}\n",
       "\n",
       "mpl.figure.prototype.send_draw_message = function() {\n",
       "    if (!this.waiting) {\n",
       "        this.waiting = true;\n",
       "        this.ws.send(JSON.stringify({type: \"draw\", figure_id: this.id}));\n",
       "    }\n",
       "}\n",
       "\n",
       "\n",
       "mpl.figure.prototype.handle_save = function(fig, msg) {\n",
       "    var format_dropdown = fig.format_dropdown;\n",
       "    var format = format_dropdown.options[format_dropdown.selectedIndex].value;\n",
       "    fig.ondownload(fig, format);\n",
       "}\n",
       "\n",
       "\n",
       "mpl.figure.prototype.handle_resize = function(fig, msg) {\n",
       "    var size = msg['size'];\n",
       "    if (size[0] != fig.canvas.width || size[1] != fig.canvas.height) {\n",
       "        fig._resize_canvas(size[0], size[1]);\n",
       "        fig.send_message(\"refresh\", {});\n",
       "    };\n",
       "}\n",
       "\n",
       "mpl.figure.prototype.handle_rubberband = function(fig, msg) {\n",
       "    var x0 = msg['x0'] / mpl.ratio;\n",
       "    var y0 = (fig.canvas.height - msg['y0']) / mpl.ratio;\n",
       "    var x1 = msg['x1'] / mpl.ratio;\n",
       "    var y1 = (fig.canvas.height - msg['y1']) / mpl.ratio;\n",
       "    x0 = Math.floor(x0) + 0.5;\n",
       "    y0 = Math.floor(y0) + 0.5;\n",
       "    x1 = Math.floor(x1) + 0.5;\n",
       "    y1 = Math.floor(y1) + 0.5;\n",
       "    var min_x = Math.min(x0, x1);\n",
       "    var min_y = Math.min(y0, y1);\n",
       "    var width = Math.abs(x1 - x0);\n",
       "    var height = Math.abs(y1 - y0);\n",
       "\n",
       "    fig.rubberband_context.clearRect(\n",
       "        0, 0, fig.canvas.width / mpl.ratio, fig.canvas.height / mpl.ratio);\n",
       "\n",
       "    fig.rubberband_context.strokeRect(min_x, min_y, width, height);\n",
       "}\n",
       "\n",
       "mpl.figure.prototype.handle_figure_label = function(fig, msg) {\n",
       "    // Updates the figure title.\n",
       "    fig.header.textContent = msg['label'];\n",
       "}\n",
       "\n",
       "mpl.figure.prototype.handle_cursor = function(fig, msg) {\n",
       "    var cursor = msg['cursor'];\n",
       "    switch(cursor)\n",
       "    {\n",
       "    case 0:\n",
       "        cursor = 'pointer';\n",
       "        break;\n",
       "    case 1:\n",
       "        cursor = 'default';\n",
       "        break;\n",
       "    case 2:\n",
       "        cursor = 'crosshair';\n",
       "        break;\n",
       "    case 3:\n",
       "        cursor = 'move';\n",
       "        break;\n",
       "    }\n",
       "    fig.rubberband_canvas.style.cursor = cursor;\n",
       "}\n",
       "\n",
       "mpl.figure.prototype.handle_message = function(fig, msg) {\n",
       "    fig.message.textContent = msg['message'];\n",
       "}\n",
       "\n",
       "mpl.figure.prototype.handle_draw = function(fig, msg) {\n",
       "    // Request the server to send over a new figure.\n",
       "    fig.send_draw_message();\n",
       "}\n",
       "\n",
       "mpl.figure.prototype.handle_image_mode = function(fig, msg) {\n",
       "    fig.image_mode = msg['mode'];\n",
       "}\n",
       "\n",
       "mpl.figure.prototype.updated_canvas_event = function() {\n",
       "    // Called whenever the canvas gets updated.\n",
       "    this.send_message(\"ack\", {});\n",
       "}\n",
       "\n",
       "// A function to construct a web socket function for onmessage handling.\n",
       "// Called in the figure constructor.\n",
       "mpl.figure.prototype._make_on_message_function = function(fig) {\n",
       "    return function socket_on_message(evt) {\n",
       "        if (evt.data instanceof Blob) {\n",
       "            /* FIXME: We get \"Resource interpreted as Image but\n",
       "             * transferred with MIME type text/plain:\" errors on\n",
       "             * Chrome.  But how to set the MIME type?  It doesn't seem\n",
       "             * to be part of the websocket stream */\n",
       "            evt.data.type = \"image/png\";\n",
       "\n",
       "            /* Free the memory for the previous frames */\n",
       "            if (fig.imageObj.src) {\n",
       "                (window.URL || window.webkitURL).revokeObjectURL(\n",
       "                    fig.imageObj.src);\n",
       "            }\n",
       "\n",
       "            fig.imageObj.src = (window.URL || window.webkitURL).createObjectURL(\n",
       "                evt.data);\n",
       "            fig.updated_canvas_event();\n",
       "            fig.waiting = false;\n",
       "            return;\n",
       "        }\n",
       "        else if (typeof evt.data === 'string' && evt.data.slice(0, 21) == \"data:image/png;base64\") {\n",
       "            fig.imageObj.src = evt.data;\n",
       "            fig.updated_canvas_event();\n",
       "            fig.waiting = false;\n",
       "            return;\n",
       "        }\n",
       "\n",
       "        var msg = JSON.parse(evt.data);\n",
       "        var msg_type = msg['type'];\n",
       "\n",
       "        // Call the  \"handle_{type}\" callback, which takes\n",
       "        // the figure and JSON message as its only arguments.\n",
       "        try {\n",
       "            var callback = fig[\"handle_\" + msg_type];\n",
       "        } catch (e) {\n",
       "            console.log(\"No handler for the '\" + msg_type + \"' message type: \", msg);\n",
       "            return;\n",
       "        }\n",
       "\n",
       "        if (callback) {\n",
       "            try {\n",
       "                // console.log(\"Handling '\" + msg_type + \"' message: \", msg);\n",
       "                callback(fig, msg);\n",
       "            } catch (e) {\n",
       "                console.log(\"Exception inside the 'handler_\" + msg_type + \"' callback:\", e, e.stack, msg);\n",
       "            }\n",
       "        }\n",
       "    };\n",
       "}\n",
       "\n",
       "// from http://stackoverflow.com/questions/1114465/getting-mouse-location-in-canvas\n",
       "mpl.findpos = function(e) {\n",
       "    //this section is from http://www.quirksmode.org/js/events_properties.html\n",
       "    var targ;\n",
       "    if (!e)\n",
       "        e = window.event;\n",
       "    if (e.target)\n",
       "        targ = e.target;\n",
       "    else if (e.srcElement)\n",
       "        targ = e.srcElement;\n",
       "    if (targ.nodeType == 3) // defeat Safari bug\n",
       "        targ = targ.parentNode;\n",
       "\n",
       "    // jQuery normalizes the pageX and pageY\n",
       "    // pageX,Y are the mouse positions relative to the document\n",
       "    // offset() returns the position of the element relative to the document\n",
       "    var x = e.pageX - $(targ).offset().left;\n",
       "    var y = e.pageY - $(targ).offset().top;\n",
       "\n",
       "    return {\"x\": x, \"y\": y};\n",
       "};\n",
       "\n",
       "/*\n",
       " * return a copy of an object with only non-object keys\n",
       " * we need this to avoid circular references\n",
       " * http://stackoverflow.com/a/24161582/3208463\n",
       " */\n",
       "function simpleKeys (original) {\n",
       "  return Object.keys(original).reduce(function (obj, key) {\n",
       "    if (typeof original[key] !== 'object')\n",
       "        obj[key] = original[key]\n",
       "    return obj;\n",
       "  }, {});\n",
       "}\n",
       "\n",
       "mpl.figure.prototype.mouse_event = function(event, name) {\n",
       "    var canvas_pos = mpl.findpos(event)\n",
       "\n",
       "    if (name === 'button_press')\n",
       "    {\n",
       "        this.canvas.focus();\n",
       "        this.canvas_div.focus();\n",
       "    }\n",
       "\n",
       "    var x = canvas_pos.x * mpl.ratio;\n",
       "    var y = canvas_pos.y * mpl.ratio;\n",
       "\n",
       "    this.send_message(name, {x: x, y: y, button: event.button,\n",
       "                             step: event.step,\n",
       "                             guiEvent: simpleKeys(event)});\n",
       "\n",
       "    /* This prevents the web browser from automatically changing to\n",
       "     * the text insertion cursor when the button is pressed.  We want\n",
       "     * to control all of the cursor setting manually through the\n",
       "     * 'cursor' event from matplotlib */\n",
       "    event.preventDefault();\n",
       "    return false;\n",
       "}\n",
       "\n",
       "mpl.figure.prototype._key_event_extra = function(event, name) {\n",
       "    // Handle any extra behaviour associated with a key event\n",
       "}\n",
       "\n",
       "mpl.figure.prototype.key_event = function(event, name) {\n",
       "\n",
       "    // Prevent repeat events\n",
       "    if (name == 'key_press')\n",
       "    {\n",
       "        if (event.which === this._key)\n",
       "            return;\n",
       "        else\n",
       "            this._key = event.which;\n",
       "    }\n",
       "    if (name == 'key_release')\n",
       "        this._key = null;\n",
       "\n",
       "    var value = '';\n",
       "    if (event.ctrlKey && event.which != 17)\n",
       "        value += \"ctrl+\";\n",
       "    if (event.altKey && event.which != 18)\n",
       "        value += \"alt+\";\n",
       "    if (event.shiftKey && event.which != 16)\n",
       "        value += \"shift+\";\n",
       "\n",
       "    value += 'k';\n",
       "    value += event.which.toString();\n",
       "\n",
       "    this._key_event_extra(event, name);\n",
       "\n",
       "    this.send_message(name, {key: value,\n",
       "                             guiEvent: simpleKeys(event)});\n",
       "    return false;\n",
       "}\n",
       "\n",
       "mpl.figure.prototype.toolbar_button_onclick = function(name) {\n",
       "    if (name == 'download') {\n",
       "        this.handle_save(this, null);\n",
       "    } else {\n",
       "        this.send_message(\"toolbar_button\", {name: name});\n",
       "    }\n",
       "};\n",
       "\n",
       "mpl.figure.prototype.toolbar_button_onmouseover = function(tooltip) {\n",
       "    this.message.textContent = tooltip;\n",
       "};\n",
       "mpl.toolbar_items = [[\"Home\", \"Reset original view\", \"fa fa-home icon-home\", \"home\"], [\"Back\", \"Back to previous view\", \"fa fa-arrow-left icon-arrow-left\", \"back\"], [\"Forward\", \"Forward to next view\", \"fa fa-arrow-right icon-arrow-right\", \"forward\"], [\"\", \"\", \"\", \"\"], [\"Pan\", \"Pan axes with left mouse, zoom with right\", \"fa fa-arrows icon-move\", \"pan\"], [\"Zoom\", \"Zoom to rectangle\", \"fa fa-square-o icon-check-empty\", \"zoom\"], [\"\", \"\", \"\", \"\"], [\"Download\", \"Download plot\", \"fa fa-floppy-o icon-save\", \"download\"]];\n",
       "\n",
       "mpl.extensions = [\"eps\", \"pdf\", \"png\", \"ps\", \"raw\", \"svg\"];\n",
       "\n",
       "mpl.default_extension = \"png\";var comm_websocket_adapter = function(comm) {\n",
       "    // Create a \"websocket\"-like object which calls the given IPython comm\n",
       "    // object with the appropriate methods. Currently this is a non binary\n",
       "    // socket, so there is still some room for performance tuning.\n",
       "    var ws = {};\n",
       "\n",
       "    ws.close = function() {\n",
       "        comm.close()\n",
       "    };\n",
       "    ws.send = function(m) {\n",
       "        //console.log('sending', m);\n",
       "        comm.send(m);\n",
       "    };\n",
       "    // Register the callback with on_msg.\n",
       "    comm.on_msg(function(msg) {\n",
       "        //console.log('receiving', msg['content']['data'], msg);\n",
       "        // Pass the mpl event to the overridden (by mpl) onmessage function.\n",
       "        ws.onmessage(msg['content']['data'])\n",
       "    });\n",
       "    return ws;\n",
       "}\n",
       "\n",
       "mpl.mpl_figure_comm = function(comm, msg) {\n",
       "    // This is the function which gets called when the mpl process\n",
       "    // starts-up an IPython Comm through the \"matplotlib\" channel.\n",
       "\n",
       "    var id = msg.content.data.id;\n",
       "    // Get hold of the div created by the display call when the Comm\n",
       "    // socket was opened in Python.\n",
       "    var element = $(\"#\" + id);\n",
       "    var ws_proxy = comm_websocket_adapter(comm)\n",
       "\n",
       "    function ondownload(figure, format) {\n",
       "        window.open(figure.imageObj.src);\n",
       "    }\n",
       "\n",
       "    var fig = new mpl.figure(id, ws_proxy,\n",
       "                           ondownload,\n",
       "                           element.get(0));\n",
       "\n",
       "    // Call onopen now - mpl needs it, as it is assuming we've passed it a real\n",
       "    // web socket which is closed, not our websocket->open comm proxy.\n",
       "    ws_proxy.onopen();\n",
       "\n",
       "    fig.parent_element = element.get(0);\n",
       "    fig.cell_info = mpl.find_output_cell(\"<div id='\" + id + \"'></div>\");\n",
       "    if (!fig.cell_info) {\n",
       "        console.error(\"Failed to find cell for figure\", id, fig);\n",
       "        return;\n",
       "    }\n",
       "\n",
       "    var output_index = fig.cell_info[2]\n",
       "    var cell = fig.cell_info[0];\n",
       "\n",
       "};\n",
       "\n",
       "mpl.figure.prototype.handle_close = function(fig, msg) {\n",
       "    var width = fig.canvas.width/mpl.ratio\n",
       "    fig.root.unbind('remove')\n",
       "\n",
       "    // Update the output cell to use the data from the current canvas.\n",
       "    fig.push_to_output();\n",
       "    var dataURL = fig.canvas.toDataURL();\n",
       "    // Re-enable the keyboard manager in IPython - without this line, in FF,\n",
       "    // the notebook keyboard shortcuts fail.\n",
       "    IPython.keyboard_manager.enable()\n",
       "    $(fig.parent_element).html('<img src=\"' + dataURL + '\" width=\"' + width + '\">');\n",
       "    fig.close_ws(fig, msg);\n",
       "}\n",
       "\n",
       "mpl.figure.prototype.close_ws = function(fig, msg){\n",
       "    fig.send_message('closing', msg);\n",
       "    // fig.ws.close()\n",
       "}\n",
       "\n",
       "mpl.figure.prototype.push_to_output = function(remove_interactive) {\n",
       "    // Turn the data on the canvas into data in the output cell.\n",
       "    var width = this.canvas.width/mpl.ratio\n",
       "    var dataURL = this.canvas.toDataURL();\n",
       "    this.cell_info[1]['text/html'] = '<img src=\"' + dataURL + '\" width=\"' + width + '\">';\n",
       "}\n",
       "\n",
       "mpl.figure.prototype.updated_canvas_event = function() {\n",
       "    // Tell IPython that the notebook contents must change.\n",
       "    IPython.notebook.set_dirty(true);\n",
       "    this.send_message(\"ack\", {});\n",
       "    var fig = this;\n",
       "    // Wait a second, then push the new image to the DOM so\n",
       "    // that it is saved nicely (might be nice to debounce this).\n",
       "    setTimeout(function () { fig.push_to_output() }, 1000);\n",
       "}\n",
       "\n",
       "mpl.figure.prototype._init_toolbar = function() {\n",
       "    var fig = this;\n",
       "\n",
       "    var nav_element = $('<div/>');\n",
       "    nav_element.attr('style', 'width: 100%');\n",
       "    this.root.append(nav_element);\n",
       "\n",
       "    // Define a callback function for later on.\n",
       "    function toolbar_event(event) {\n",
       "        return fig.toolbar_button_onclick(event['data']);\n",
       "    }\n",
       "    function toolbar_mouse_event(event) {\n",
       "        return fig.toolbar_button_onmouseover(event['data']);\n",
       "    }\n",
       "\n",
       "    for(var toolbar_ind in mpl.toolbar_items){\n",
       "        var name = mpl.toolbar_items[toolbar_ind][0];\n",
       "        var tooltip = mpl.toolbar_items[toolbar_ind][1];\n",
       "        var image = mpl.toolbar_items[toolbar_ind][2];\n",
       "        var method_name = mpl.toolbar_items[toolbar_ind][3];\n",
       "\n",
       "        if (!name) { continue; };\n",
       "\n",
       "        var button = $('<button class=\"btn btn-default\" href=\"#\" title=\"' + name + '\"><i class=\"fa ' + image + ' fa-lg\"></i></button>');\n",
       "        button.click(method_name, toolbar_event);\n",
       "        button.mouseover(tooltip, toolbar_mouse_event);\n",
       "        nav_element.append(button);\n",
       "    }\n",
       "\n",
       "    // Add the status bar.\n",
       "    var status_bar = $('<span class=\"mpl-message\" style=\"text-align:right; float: right;\"/>');\n",
       "    nav_element.append(status_bar);\n",
       "    this.message = status_bar[0];\n",
       "\n",
       "    // Add the close button to the window.\n",
       "    var buttongrp = $('<div class=\"btn-group inline pull-right\"></div>');\n",
       "    var button = $('<button class=\"btn btn-mini btn-primary\" href=\"#\" title=\"Stop Interaction\"><i class=\"fa fa-power-off icon-remove icon-large\"></i></button>');\n",
       "    button.click(function (evt) { fig.handle_close(fig, {}); } );\n",
       "    button.mouseover('Stop Interaction', toolbar_mouse_event);\n",
       "    buttongrp.append(button);\n",
       "    var titlebar = this.root.find($('.ui-dialog-titlebar'));\n",
       "    titlebar.prepend(buttongrp);\n",
       "}\n",
       "\n",
       "mpl.figure.prototype._root_extra_style = function(el){\n",
       "    var fig = this\n",
       "    el.on(\"remove\", function(){\n",
       "\tfig.close_ws(fig, {});\n",
       "    });\n",
       "}\n",
       "\n",
       "mpl.figure.prototype._canvas_extra_style = function(el){\n",
       "    // this is important to make the div 'focusable\n",
       "    el.attr('tabindex', 0)\n",
       "    // reach out to IPython and tell the keyboard manager to turn it's self\n",
       "    // off when our div gets focus\n",
       "\n",
       "    // location in version 3\n",
       "    if (IPython.notebook.keyboard_manager) {\n",
       "        IPython.notebook.keyboard_manager.register_events(el);\n",
       "    }\n",
       "    else {\n",
       "        // location in version 2\n",
       "        IPython.keyboard_manager.register_events(el);\n",
       "    }\n",
       "\n",
       "}\n",
       "\n",
       "mpl.figure.prototype._key_event_extra = function(event, name) {\n",
       "    var manager = IPython.notebook.keyboard_manager;\n",
       "    if (!manager)\n",
       "        manager = IPython.keyboard_manager;\n",
       "\n",
       "    // Check for shift+enter\n",
       "    if (event.shiftKey && event.which == 13) {\n",
       "        this.canvas_div.blur();\n",
       "        event.shiftKey = false;\n",
       "        // Send a \"J\" for go to next cell\n",
       "        event.which = 74;\n",
       "        event.keyCode = 74;\n",
       "        manager.command_mode();\n",
       "        manager.handle_keydown(event);\n",
       "    }\n",
       "}\n",
       "\n",
       "mpl.figure.prototype.handle_save = function(fig, msg) {\n",
       "    fig.ondownload(fig, null);\n",
       "}\n",
       "\n",
       "\n",
       "mpl.find_output_cell = function(html_output) {\n",
       "    // Return the cell and output element which can be found *uniquely* in the notebook.\n",
       "    // Note - this is a bit hacky, but it is done because the \"notebook_saving.Notebook\"\n",
       "    // IPython event is triggered only after the cells have been serialised, which for\n",
       "    // our purposes (turning an active figure into a static one), is too late.\n",
       "    var cells = IPython.notebook.get_cells();\n",
       "    var ncells = cells.length;\n",
       "    for (var i=0; i<ncells; i++) {\n",
       "        var cell = cells[i];\n",
       "        if (cell.cell_type === 'code'){\n",
       "            for (var j=0; j<cell.output_area.outputs.length; j++) {\n",
       "                var data = cell.output_area.outputs[j];\n",
       "                if (data.data) {\n",
       "                    // IPython >= 3 moved mimebundle to data attribute of output\n",
       "                    data = data.data;\n",
       "                }\n",
       "                if (data['text/html'] == html_output) {\n",
       "                    return [cell, data, j];\n",
       "                }\n",
       "            }\n",
       "        }\n",
       "    }\n",
       "}\n",
       "\n",
       "// Register the function which deals with the matplotlib target/channel.\n",
       "// The kernel may be null if the page has been refreshed.\n",
       "if (IPython.notebook.kernel != null) {\n",
       "    IPython.notebook.kernel.comm_manager.register_target('matplotlib', mpl.mpl_figure_comm);\n",
       "}\n"
      ],
      "text/plain": [
       "<IPython.core.display.Javascript object>"
      ]
     },
     "metadata": {},
     "output_type": "display_data"
    },
    {
     "data": {
      "text/html": [
       "<img src=\"data:image/png;base64,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\" width=\"980\">"
      ],
      "text/plain": [
       "<IPython.core.display.HTML object>"
      ]
     },
     "metadata": {},
     "output_type": "display_data"
    },
    {
     "data": {
      "application/vnd.jupyter.widget-view+json": {
       "model_id": "7763a1d270fd411586db9ade58053bc1",
       "version_major": 2,
       "version_minor": 0
      },
      "text/plain": [
       "Output()"
      ]
     },
     "metadata": {},
     "output_type": "display_data"
    },
    {
     "data": {
      "application/vnd.jupyter.widget-view+json": {
       "model_id": "0ceccd25cbeb4c43a701f2d3fe1c65a1",
       "version_major": 2,
       "version_minor": 0
      },
      "text/plain": [
       "VBox(children=(HBox(children=(Dropdown(options=('Postavi Ka i La', 'Postavi svojstvene vrijednosti'), value='P…"
      ]
     },
     "metadata": {},
     "output_type": "display_data"
    }
   ],
   "source": [
    "# Main cell\n",
    "# Data\n",
    "global yd, T, yout\n",
    "yd = 10.\n",
    "T = []\n",
    "yout = []\n",
    "\n",
    "# Figures\n",
    "fig = plt.figure(num='Simulacija sustava za upravljanje bočnog položaja lunarnog prizemljivača')\n",
    "fig.set_size_inches((9.8, 6))\n",
    "fig.set_tight_layout(True)\n",
    "\n",
    "ax0 = fig.add_subplot(221)\n",
    "ax0.set_title('Lunarni prizemljivač')\n",
    "ax0.set_xlim(-12,12)\n",
    "ax0.set_ylim(-4,4)\n",
    "ax0.grid()\n",
    "# ax0.axis('off')\n",
    "\n",
    "ax1 = fig.add_subplot(222)\n",
    "linez = ax1.plot([],[])[0]\n",
    "linezv = ax1.plot([],[])[0]\n",
    "lined = ax1.plot([],[])[0]\n",
    "ax1.set_title('Bočni položaj i brzina')\n",
    "ax1.set_xlabel('$t$ [s]')\n",
    "ax1.set_ylabel('y [m], $\\dot y$ [m/s]')\n",
    "ax1.set_xlim([0,17])\n",
    "ax1.axvline(x=0,color='black',linewidth=0.8)\n",
    "ax1.axhline(y=0,color='black',linewidth=0.8)\n",
    "ax1.grid()\n",
    "ax1.legend(['Nočni položaj','Bočna brzina','Željena vrijednost'])\n",
    "\n",
    "ax2 = fig.add_subplot(223)\n",
    "lineu = ax2.plot([],[])[0]\n",
    "linelimu1 = ax2.plot([],[],'r')[0]\n",
    "linelimu2 = ax2.plot([],[],'r')[0]\n",
    "ax2.set_title('Ulazni moment T')\n",
    "ax2.set_xlabel('$t$ [s]')\n",
    "ax2.set_ylabel('$T$ [Nm]')\n",
    "ax2.set_xlim([0,17])\n",
    "ax2.axvline(x=0,color='black',linewidth=0.8)\n",
    "ax2.axhline(y=0,color='black',linewidth=0.8)\n",
    "ax2.grid()\n",
    "ax2.legend(['T','Limit'])\n",
    "\n",
    "ax3 = fig.add_subplot(224)\n",
    "linethetaest = ax3.plot([],[])[0]\n",
    "linetheta = ax3.plot([],[])[0]\n",
    "ax3.set_title(r'$\\theta_{est}$ vs $\\theta$')\n",
    "ax3.set_xlabel('$t$ [s]')\n",
    "ax3.set_ylabel(r'$\\theta$ [deg]')\n",
    "ax3.axvline(x=0,color='black',linewidth=0.8)\n",
    "ax3.axhline(y=0,color='black',linewidth=0.8)\n",
    "ax3.set_xlim([0,17])\n",
    "ax3.grid()\n",
    "\n",
    "# Patches\n",
    "rotation_transform = transforms.Affine2D()\n",
    "circle = patches.Circle((0, 0.6), fill=True, radius=0.5, ec='black', fc='gray', lw=1, zorder=20, \n",
    "                        transform=rotation_transform + ax0.transData)\n",
    "rect = patches.Rectangle((-1, -0.4), 2, 0.5, fill=True, ec='black', fc='gray', lw=1, zorder=20, \n",
    "                         transform=rotation_transform + ax0.transData)\n",
    "poly = patches.Polygon(numpy.stack(([-0.25, -0.15, 0.15, 0.25], [-0.8, -0.4, -0.4, -0.8])).T, \n",
    "                       closed=True, fill=True, ec='black', fc='black', lw=1, zorder=20, \n",
    "                       transform=rotation_transform + ax0.transData)\n",
    "lleg = patches.Rectangle((-1, -1.2), 0.05, 1, angle=-15, fill=True, ec='black', fc='black', lw=1, zorder=10, \n",
    "                         transform=rotation_transform + ax0.transData)\n",
    "rleg = patches.Rectangle((1, -1.2), 0.05, 1, angle=15, fill=True, ec='black', fc='black', lw=1, zorder=10, \n",
    "                         transform=rotation_transform + ax0.transData)\n",
    "lfoot = patches.Rectangle((-1.1, -1.2), 0.2, 0.05, fill=True, ec='black', fc='black', lw=1, zorder=20, \n",
    "                         transform=rotation_transform + ax0.transData)\n",
    "rfoot = patches.Rectangle((0.9, -1.2), 0.2, 0.05, fill=True, ec='black', fc='black', lw=1, zorder=20, \n",
    "                         transform=rotation_transform + ax0.transData)\n",
    "ax0.add_patch(circle)\n",
    "ax0.add_patch(rect)\n",
    "ax0.add_patch(poly)\n",
    "ax0.add_patch(lleg)\n",
    "ax0.add_patch(rleg)\n",
    "ax0.add_patch(lfoot)\n",
    "ax0.add_patch(rfoot)\n",
    "plt.show()\n",
    "\n",
    "# Functions\n",
    "def main_function(Ka,La,Ydw,eig1,eig2,eig3,eig4,eig5,eig1o,eig2o,selm,selc,selo,DW):\n",
    "    global T, yout, yd, Aa, Ba, A11, A21\n",
    "    method = method_choice(selm)\n",
    "    eigc, eigo = eigen_choice(selc,selo)\n",
    "    yd = Ydw\n",
    "    ax1.set_ylim([-0.1*yd,yd*1.5])\n",
    "    ax2.set_ylim([-51*yd,51*yd])\n",
    "    ax3.set_ylim([-15,15])\n",
    "    \n",
    "    if method == 1: #Setted matrix gain\n",
    "        sol = numpy.linalg.eig((Aa-Ba[:,0]*Ka))\n",
    "        print('Svojstvene vrijednosti od Aa su: '+str(round(sol[0][0],3))+', '+str(round(sol[0][1],3))+', '+str(round(sol[0][2],3))+', '+str(round(sol[0][3],3))+' i '+str(round(sol[0][4],3)))\n",
    "        sol = numpy.linalg.eig(A11+La*A21)\n",
    "        print('Svojstvene vrijednosti od A11+La*A21 su: '+str(round(sol[0][0],3))+' i '+str(round(sol[0][1],3))) \n",
    "        sys = simulation(Aa, Ba, Ca, A11, A12, A21, A22, B1, B2, La, Ka, Ta)\n",
    "        T = numpy.linspace(0, 17, 100)\n",
    "        T, yout = ctrl.step_response(sys, T, X0a)\n",
    "    if method == 2: #Setted eigenvalues\n",
    "        if eigc == 0:\n",
    "            Ka = ctrl.acker(Aa, Ba[:,0], [eig1[0,0], eig2[0,0], eig3[0,0], eig4[0,0], eig5[0,0]])\n",
    "            Kaw.setM(Ka)\n",
    "        if eigc == 2:\n",
    "            Ka = ctrl.acker(Aa, Ba[:,0], [eig1[0,0], numpy.complex(eig2[0,0],eig2[1,0]), numpy.complex(eig2[0,0],-eig2[1,0]), eig4[0,0], eig5[0,0]])\n",
    "            Kaw.setM(Ka)\n",
    "        if eigc == 4:\n",
    "            Ka = ctrl.acker(Aa, Ba[:,0], [eig1[0,0], numpy.complex(eig2[0,0],eig2[1,0]), numpy.complex(eig2[0,0],-eig2[1,0]), numpy.complex(eig3[0,0],eig3[1,0]), numpy.complex(eig3[0,0],-eig3[1,0])])\n",
    "            Kaw.setM(Ka)\n",
    "        if eigo == 0:\n",
    "            La = numpy.matrix([[0, 2*eig1o[0,0]/3 + 2*eig2o[0,0]/3, 0], [0, -2*eig1o[0,0]*eig2o[0,0]/3, 0]])\n",
    "            Law.setM(La) \n",
    "        if eigo == 2:\n",
    "            La = numpy.matrix([[0, 2*numpy.complex(eig2o[0,0],eig2o[1,0])/3 + 2*numpy.complex(eig2o[0,0],-eig2o[1,0])/3, 0], [0, -2*numpy.complex(eig2o[0,0],eig2o[1,0])*numpy.complex(eig2o[0,0],-eig2o[1,0])/3, 0]])\n",
    "            Law.setM(La)\n",
    "        sol = numpy.linalg.eig((Aa-Ba[:,0]*Ka))\n",
    "        print('Svojstvene vrijednosti od Aa su: '+str(round(sol[0][0],3))+', '+str(round(sol[0][1],3))+', '+str(round(sol[0][2],3))+', '+str(round(sol[0][3],3))+' i '+str(round(sol[0][4],3)))\n",
    "        sol = numpy.linalg.eig(A11+La*A21)\n",
    "        print('Svojstvene vrijednosti od A11+La*A21 su: '+str(round(sol[0][0],3))+' i '+str(round(sol[0][1],3))) \n",
    "        sys = simulation(Aa, Ba, Ca, A11, A12, A21, A22, B1, B2, La, Ka, Ta)\n",
    "        T = numpy.linspace(0, 17, 100)\n",
    "        T, yout = ctrl.step_response(sys, T, X0a)\n",
    "\n",
    "ani = animation.FuncAnimation(fig, fun_animation, init_func=anim_init, frames=100, repeat=True, interval=170, blit=True)\n",
    "\n",
    "\n",
    "#create dummy widget \n",
    "DW = widgets.FloatText(layout=widgets.Layout(width='0px', height='0px'))\n",
    "\n",
    "#create button widget\n",
    "START = widgets.Button(\n",
    "    description='Test',\n",
    "    disabled=False,\n",
    "    button_style='', # 'success', 'info', 'warning', 'danger' or ''\n",
    "    tooltip='Test',\n",
    "    icon='check'\n",
    ")\n",
    "                       \n",
    "def on_start_button_clicked(b):\n",
    "    #This is a workaround to have intreactive_output call the callback:\n",
    "    #   force the value of the dummy widget to change\n",
    "    if DW.value> 0 :\n",
    "        DW.value = -1\n",
    "    else: \n",
    "        DW.value = 1\n",
    "    pass\n",
    "START.on_click(on_start_button_clicked)\n",
    "\n",
    "# Define type of method \n",
    "selm = widgets.Dropdown(\n",
    "    options= ['Postavi Ka i La', 'Postavi svojstvene vrijednosti'],\n",
    "    value= 'Postavi Ka i La',\n",
    "    description='',\n",
    "    disabled=False\n",
    ")\n",
    "\n",
    "# Define the number of complex eigenvalues for the controller\n",
    "selc = widgets.Dropdown(\n",
    "    options= ['0 kompleksnih svojstvenih vrijednosti', '2 kompleksne svojstvene vrijednosti', '4 kompleksne svojstvene vrijednosti'],\n",
    "    value= '4 kompleksne svojstvene vrijednosti',\n",
    "    description='Aa:',\n",
    "    disabled=False\n",
    ")\n",
    "\n",
    "# Define the number of complex eigenvalues for the observer\n",
    "selo = widgets.Dropdown(\n",
    "    options= ['0 kompleksnih svojstvenih vrijednosti', '2 kompleksne svojstvene vrijednosti'],\n",
    "    value= '0 kompleksnih svojstvenih vrijednosti',\n",
    "    description='Aobs:',\n",
    "    disabled=False\n",
    ")\n",
    "\n",
    "alltogether = widgets.VBox([\n",
    "    widgets.HBox([\n",
    "        selm,\n",
    "        selc,\n",
    "        selo\n",
    "    ]),\n",
    "    widgets.Label('',border=3),\n",
    "    widgets.HBox([\n",
    "        widgets.Label('Ka:',border=3),\n",
    "        Kaw,\n",
    "        widgets.Label('',border=3),\n",
    "        widgets.Label('',border=3),\n",
    "        widgets.Label('La:',border=3),\n",
    "        Law\n",
    "    ]),\n",
    "    widgets.Label('',border=3),\n",
    "    widgets.HBox([\n",
    "        widgets.Label('Svojstvene vrijednosti od Aa:',border=3),\n",
    "        eig1, eig2, eig3, eig4, eig5,\n",
    "        widgets.Label('',border=3),\n",
    "        widgets.Label('',border=3),\n",
    "        widgets.Label('Svojstvene vrijednosti od Aobs:',border=3),\n",
    "        eig1o, eig2o\n",
    "    ]),\n",
    "    widgets.Label('',border=3),\n",
    "    widgets.HBox([\n",
    "        Ydw,\n",
    "        widgets.Label('',border=3),\n",
    "        widgets.Label('',border=3),\n",
    "        widgets.Label('',border=3),\n",
    "        START\n",
    "    ])\n",
    "])\n",
    "\n",
    "out = widgets.interactive_output(main_function,{'Ka':Kaw, 'La':Law, 'Ydw':Ydw, 'eig1':eig1, 'eig2':eig2, \n",
    "                                                'eig3':eig3, 'eig4':eig4, 'eig5':eig5,\n",
    "                                                'eig1o':eig1o, 'eig2o':eig2o,\n",
    "                                                'selm':selm, 'selc':selc, 'selo':selo, 'DW':DW})\n",
    "display(out, alltogether)"
   ]
  },
  {
   "cell_type": "code",
   "execution_count": null,
   "metadata": {},
   "outputs": [],
   "source": []
  }
 ],
 "metadata": {
  "kernelspec": {
   "display_name": "Python 3",
   "language": "python",
   "name": "python3"
  },
  "language_info": {
   "codemirror_mode": {
    "name": "ipython",
    "version": 3
   },
   "file_extension": ".py",
   "mimetype": "text/x-python",
   "name": "python",
   "nbconvert_exporter": "python",
   "pygments_lexer": "ipython3",
   "version": "3.6.7"
  },
  "widgets": {
   "application/vnd.jupyter.widget-state+json": {
    "state": {
     "000105fdb4764586b8ebfab252a36567": {
      "model_module": "@jupyter-widgets/controls",
      "model_module_version": "1.4.0",
      "model_name": "HBoxModel",
      "state": {
       "children": [
        "IPY_MODEL_0f26c8afca96402aa66b81bc451a3559",
        "IPY_MODEL_ef8032f4b5344c16ae90cfbfd02231d6",
        "IPY_MODEL_9f426cacd41c42aca1af846e019bfa02",
        "IPY_MODEL_e3f770ce4cf241e991c713aa951e5765",
        "IPY_MODEL_11edfefeb4ca410ab09a2f5ddc3d5026"
       ],
       "layout": "IPY_MODEL_fae3f97f39754d1ba4c31c0a281630ef"
      }
     },
     "00038a7d51314ae9804a45c996c3038a": {
      "model_module": "@jupyter-widgets/base",
      "model_module_version": "1.1.0",
      "model_name": "LayoutModel",
      "state": {}
     },
     "000b9c5ed55f49e3a82cde3b11cd106c": {
      "model_module": "@jupyter-widgets/base",
      "model_module_version": "1.1.0",
      "model_name": "LayoutModel",
      "state": {}
     },
     "007459f4f397435698168869e682fe15": {
      "model_module": "@jupyter-widgets/controls",
      "model_module_version": "1.4.0",
      "model_name": "DropdownModel",
      "state": {
       "_options_labels": [
        "0 complex eigenvalues",
        "2 complex eigenvalues",
        "4 complex eigenvalues"
       ],
       "description": "Aa:",
       "disabled": true,
       "index": 0,
       "layout": "IPY_MODEL_52536282f3184f26aed9ccb231e684c9",
       "style": "IPY_MODEL_f60d5a9a35db4218bf1cb50b763bfbd8"
      }
     },
     "008c5b54603f4375ad913b4e47b37a95": {
      "model_module": "@jupyter-widgets/controls",
      "model_module_version": "1.4.0",
      "model_name": "LabelModel",
      "state": {
       "layout": "IPY_MODEL_3352f8a79a714a1f8fd27b8fd25f0a52",
       "style": "IPY_MODEL_a225f194cbbc4a6dbf9bed6cdfccc646",
       "value": "Ka:"
      }
     },
     "00bcf6e5f88d4478b2238275ce14a469": {
      "model_module": "@jupyter-widgets/base",
      "model_module_version": "1.1.0",
      "model_name": "LayoutModel",
      "state": {}
     },
     "0120a3cda0234f828ce07773febed775": {
      "model_module": "@jupyter-widgets/controls",
      "model_module_version": "1.4.0",
      "model_name": "DescriptionStyleModel",
      "state": {
       "description_width": ""
      }
     },
     "0137a8c0e143408997be4713d0929fd0": {
      "model_module": "@jupyter-widgets/controls",
      "model_module_version": "1.4.0",
      "model_name": "DescriptionStyleModel",
      "state": {
       "description_width": ""
      }
     },
     "014b81ae692c4db1abb4de5ebe4c554c": {
      "model_module": "@jupyter-widgets/base",
      "model_module_version": "1.1.0",
      "model_name": "LayoutModel",
      "state": {}
     },
     "01722e6449294095b69c3399e6500959": {
      "model_module": "@jupyter-widgets/controls",
      "model_module_version": "1.4.0",
      "model_name": "DescriptionStyleModel",
      "state": {
       "description_width": ""
      }
     },
     "019c9aac684248e991ad2ca479ca9e54": {
      "model_module": "@jupyter-widgets/controls",
      "model_module_version": "1.4.0",
      "model_name": "LabelModel",
      "state": {
       "layout": "IPY_MODEL_f24072b2fc174c678db9de5d308468b8",
       "style": "IPY_MODEL_602f92a285884868bacf7120c085d472",
       "value": "Aobs's eigs:"
      }
     },
     "01bcc377646640c7a87abaf47a341335": {
      "model_module": "@jupyter-widgets/base",
      "model_module_version": "1.1.0",
      "model_name": "LayoutModel",
      "state": {}
     },
     "01dc0a5c652f458280935dd0ec1df02e": {
      "model_module": "@jupyter-widgets/base",
      "model_module_version": "1.1.0",
      "model_name": "LayoutModel",
      "state": {}
     },
     "03aea743d5e74fc58ade7e8bd43412e5": {
      "model_module": "@jupyter-widgets/controls",
      "model_module_version": "1.4.0",
      "model_name": "DescriptionStyleModel",
      "state": {
       "description_width": ""
      }
     },
     "0412e3d10df841038ecf3f8250e2b120": {
      "model_module": "@jupyter-widgets/base",
      "model_module_version": "1.1.0",
      "model_name": "LayoutModel",
      "state": {}
     },
     "05041977ab73417bb69ef1b71c64c7d9": {
      "model_module": "@jupyter-widgets/controls",
      "model_module_version": "1.4.0",
      "model_name": "HBoxModel",
      "state": {
       "children": [
        "IPY_MODEL_0a0237317d414d94b0d63364806850e5",
        "IPY_MODEL_6d68637432684016b0727f506afe0df5",
        "IPY_MODEL_f01b454caf0243f89fac5809d26d4cf2",
        "IPY_MODEL_3fe63ac60ab64ded984e9abeeff7abf5",
        "IPY_MODEL_317ee220faa84115bad387393653c51c",
        "IPY_MODEL_587e0f7d832d4ecc866fb0f39ea9d990",
        "IPY_MODEL_e740dfcb3cf649d4bee10bf6ee195301",
        "IPY_MODEL_e819fefb797041e89e4f72749e00edab",
        "IPY_MODEL_df3fedfe68e347c793fc31f53922c394",
        "IPY_MODEL_a3c2a24a94aa456cbd6779a86c1f06ad",
        "IPY_MODEL_25be128dd26d4cd298247bbbc5bbe06a"
       ],
       "layout": "IPY_MODEL_7a5fad3a8ed14b8c8672e83a713b5ee7"
      }
     },
     "0706e16b9ab64db69dc8b23ae2724d9e": {
      "model_module": "@jupyter-widgets/controls",
      "model_module_version": "1.4.0",
      "model_name": "DescriptionStyleModel",
      "state": {
       "description_width": ""
      }
     },
     "072696cc4bea46d4b484be7695a09054": {
      "model_module": "@jupyter-widgets/controls",
      "model_module_version": "1.4.0",
      "model_name": "LabelModel",
      "state": {
       "layout": "IPY_MODEL_6f5b16ca245c4071ab3278214307b695",
       "style": "IPY_MODEL_fea917e7b46743788590dd87985dcee4"
      }
     },
     "073260c1189244649e842178ffd838db": {
      "model_module": "@jupyter-widgets/controls",
      "model_module_version": "1.4.0",
      "model_name": "LabelModel",
      "state": {
       "layout": "IPY_MODEL_850d20061cb147999055d5ad4f3f4e9c",
       "style": "IPY_MODEL_27173e1eefb9498a854df87487b14839",
       "value": "Ka:"
      }
     },
     "075ef8840b254dfe8e812d7716b6f101": {
      "model_module": "@jupyter-widgets/controls",
      "model_module_version": "1.4.0",
      "model_name": "DescriptionStyleModel",
      "state": {
       "description_width": ""
      }
     },
     "07cc0da023a94e43b22b059533bc0e4a": {
      "model_module": "@jupyter-widgets/controls",
      "model_module_version": "1.4.0",
      "model_name": "DescriptionStyleModel",
      "state": {
       "description_width": ""
      }
     },
     "07f5abd468dd4c468a64aed63128e248": {
      "model_module": "@jupyter-widgets/controls",
      "model_module_version": "1.4.0",
      "model_name": "HBoxModel",
      "state": {
       "children": [
        "IPY_MODEL_68cb20eccc494d0e897dfcc89aa2b844"
       ],
       "layout": "IPY_MODEL_e24fb2aa34f844d99bef9c6b7ccac677"
      }
     },
     "07fef6b966c54e33b18032e66099953d": {
      "model_module": "@jupyter-widgets/base",
      "model_module_version": "1.1.0",
      "model_name": "LayoutModel",
      "state": {}
     },
     "0809ffdf306c4572b2936a4003504ebc": {
      "model_module": "@jupyter-widgets/controls",
      "model_module_version": "1.4.0",
      "model_name": "LabelModel",
      "state": {
       "layout": "IPY_MODEL_32b7e93c96b443a3af782fb2be831b3b",
       "style": "IPY_MODEL_76017c8704c44e04825f3e352bacd669"
      }
     },
     "0887c7cb985246f0bd413b295949e2d4": {
      "model_module": "@jupyter-widgets/controls",
      "model_module_version": "1.4.0",
      "model_name": "DescriptionStyleModel",
      "state": {
       "description_width": ""
      }
     },
     "093f7ad7ff10484c9dc83f64e83edf68": {
      "model_module": "@jupyter-widgets/controls",
      "model_module_version": "1.4.0",
      "model_name": "DropdownModel",
      "state": {
       "_options_labels": [
        "Set Ka and La",
        "Set the eigenvalues"
       ],
       "index": 0,
       "layout": "IPY_MODEL_3737cb1f394e4b8d993a13254b0b1c5e",
       "style": "IPY_MODEL_e9a73fa1f34747818d3505be6015e5a8"
      }
     },
     "09c1c777399449b3a0a0b485453ab341": {
      "model_module": "@jupyter-widgets/base",
      "model_module_version": "1.1.0",
      "model_name": "LayoutModel",
      "state": {}
     },
     "0a0237317d414d94b0d63364806850e5": {
      "model_module": "@jupyter-widgets/controls",
      "model_module_version": "1.4.0",
      "model_name": "LabelModel",
      "state": {
       "layout": "IPY_MODEL_991efac838994f0ab46af4dd67a6cce2",
       "style": "IPY_MODEL_af6f99f25c5f46168e1651111b8ad41b",
       "value": "Aa's eigs:"
      }
     },
     "0a02add7505f44028df61c521bfc1df6": {
      "model_module": "@jupyter-widgets/base",
      "model_module_version": "1.1.0",
      "model_name": "LayoutModel",
      "state": {
       "width": "90px"
      }
     },
     "0a176961dc994c7d85ace2bb0be6e5fc": {
      "model_module": "@jupyter-widgets/controls",
      "model_module_version": "1.4.0",
      "model_name": "HBoxModel",
      "state": {
       "children": [
        "IPY_MODEL_ed387f51cefd4c6e9562fcd544998001"
       ],
       "layout": "IPY_MODEL_9e3dc09502d8495584a6ac12c8f8ac5a"
      }
     },
     "0a273f0c4e6e469698eb36d71e786546": {
      "model_module": "@jupyter-widgets/base",
      "model_module_version": "1.1.0",
      "model_name": "LayoutModel",
      "state": {}
     },
     "0a7c3f2ed52f4978a43c2ce6b2ed5a0d": {
      "model_module": "@jupyter-widgets/controls",
      "model_module_version": "1.4.0",
      "model_name": "DescriptionStyleModel",
      "state": {
       "description_width": ""
      }
     },
     "0a82875190184a69b8227b138ce1554c": {
      "model_module": "@jupyter-widgets/controls",
      "model_module_version": "1.4.0",
      "model_name": "LabelModel",
      "state": {
       "layout": "IPY_MODEL_d8ddf5e62d8a4ddb9e10b54c206800f0",
       "style": "IPY_MODEL_5a490e92a1344cf0abc18bf0425bbb92"
      }
     },
     "0aa0bfe4046d4bbd9e3b8fc7e923c19e": {
      "model_module": "@jupyter-widgets/controls",
      "model_module_version": "1.4.0",
      "model_name": "FloatSliderModel",
      "state": {
       "continuous_update": false,
       "description": "$y_d$:",
       "layout": "IPY_MODEL_1d157278113043c9856d8a9417a13918",
       "max": 10,
       "readout_format": ".1f",
       "step": 0.1,
       "style": "IPY_MODEL_0f2b83b6f05148a3b373bebc85945789",
       "value": 10
      }
     },
     "0b4ba8575fd04aaaaea39527815d5e55": {
      "model_module": "@jupyter-widgets/controls",
      "model_module_version": "1.4.0",
      "model_name": "HBoxModel",
      "state": {
       "children": [
        "IPY_MODEL_6ccca8cd1dd94a44bbc5840816353ae3"
       ],
       "layout": "IPY_MODEL_b099da3d4c434dc5847966b8cdd77694"
      }
     },
     "0b517246f8e34440abe426b02300a069": {
      "model_module": "@jupyter-widgets/controls",
      "model_module_version": "1.4.0",
      "model_name": "DescriptionStyleModel",
      "state": {
       "description_width": ""
      }
     },
     "0bef75a1591f4b5f8b32b8b6479d62c9": {
      "model_module": "@jupyter-widgets/controls",
      "model_module_version": "1.4.0",
      "model_name": "VBoxModel",
      "state": {
       "children": [
        "IPY_MODEL_7d35e7ff219645d8928897423c98458f",
        "IPY_MODEL_0d089a6ffc9842b5bd9fc04d7aa0246b",
        "IPY_MODEL_fd59bda6f0d24120b0d6c12b5f6b8722",
        "IPY_MODEL_ec3fff96409f451e8c01a23c1f99995c",
        "IPY_MODEL_1fdde251769a4b17b82f768dd2b4dd9e",
        "IPY_MODEL_0a82875190184a69b8227b138ce1554c",
        "IPY_MODEL_d55492cfde34474dbdce90063cf320f9"
       ],
       "layout": "IPY_MODEL_add2942f83e541c2af6d4410e83b6dde"
      }
     },
     "0c7ccc0d90d14893a1798e9bec0ccfad": {
      "model_module": "@jupyter-widgets/controls",
      "model_module_version": "1.4.0",
      "model_name": "DescriptionStyleModel",
      "state": {
       "description_width": ""
      }
     },
     "0c95743624f3406b94fdf24395f109ea": {
      "model_module": "@jupyter-widgets/controls",
      "model_module_version": "1.4.0",
      "model_name": "DescriptionStyleModel",
      "state": {
       "description_width": ""
      }
     },
     "0cd7629dd3c9461fbd0c47b84ef58eb5": {
      "model_module": "@jupyter-widgets/base",
      "model_module_version": "1.1.0",
      "model_name": "LayoutModel",
      "state": {}
     },
     "0d089a6ffc9842b5bd9fc04d7aa0246b": {
      "model_module": "@jupyter-widgets/controls",
      "model_module_version": "1.4.0",
      "model_name": "LabelModel",
      "state": {
       "layout": "IPY_MODEL_12abd72a94064ce59f1ddbba55496559",
       "style": "IPY_MODEL_e05554ca65324a6b8574c72ca47cf5b7"
      }
     },
     "0d0a5a3b1371435bbf4f922a1c0b4595": {
      "model_module": "@jupyter-widgets/controls",
      "model_module_version": "1.4.0",
      "model_name": "ButtonStyleModel",
      "state": {}
     },
     "0dc42ed578324e9698fd4ff6083ef49b": {
      "model_module": "@jupyter-widgets/base",
      "model_module_version": "1.1.0",
      "model_name": "LayoutModel",
      "state": {}
     },
     "0deef1dc66c5431fa7af43270cd27cbe": {
      "model_module": "@jupyter-widgets/base",
      "model_module_version": "1.1.0",
      "model_name": "LayoutModel",
      "state": {}
     },
     "0e00eb2261824321ba3db263816e459b": {
      "model_module": "@jupyter-widgets/controls",
      "model_module_version": "1.4.0",
      "model_name": "DescriptionStyleModel",
      "state": {
       "description_width": ""
      }
     },
     "0e3a382431764e918183d36d775bca91": {
      "model_module": "@jupyter-widgets/controls",
      "model_module_version": "1.4.0",
      "model_name": "DescriptionStyleModel",
      "state": {
       "description_width": ""
      }
     },
     "0e87eb36298b40c88aa507280a88673b": {
      "model_module": "@jupyter-widgets/base",
      "model_module_version": "1.1.0",
      "model_name": "LayoutModel",
      "state": {}
     },
     "0ea5534b93a641a280950cebc7dd7424": {
      "model_module": "@jupyter-widgets/controls",
      "model_module_version": "1.4.0",
      "model_name": "LabelModel",
      "state": {
       "layout": "IPY_MODEL_6b1eb3d2914f436ebdc338c44a701edf",
       "style": "IPY_MODEL_2b9259b59b92447390e7b296c315363e"
      }
     },
     "0f14d36f2e474b439c5338a92acccce0": {
      "model_module": "@jupyter-widgets/controls",
      "model_module_version": "1.4.0",
      "model_name": "LabelModel",
      "state": {
       "layout": "IPY_MODEL_d11f6fc17f944785abd9427772fd5a6d",
       "style": "IPY_MODEL_3ac1014816f74fb1b52fa1463185a00e"
      }
     },
     "0f26c8afca96402aa66b81bc451a3559": {
      "model_module": "@jupyter-widgets/controls",
      "model_module_version": "1.4.0",
      "model_name": "FloatSliderModel",
      "state": {
       "continuous_update": false,
       "description": "$y_d$:",
       "layout": "IPY_MODEL_5e5ca3c81ee24215909e7e2b23040bdd",
       "max": 10,
       "readout_format": ".1f",
       "step": 0.1,
       "style": "IPY_MODEL_6d50e2c21b10474f969fa3e17a94ff8c",
       "value": 10
      }
     },
     "0f2b83b6f05148a3b373bebc85945789": {
      "model_module": "@jupyter-widgets/controls",
      "model_module_version": "1.4.0",
      "model_name": "SliderStyleModel",
      "state": {
       "description_width": ""
      }
     },
     "0f6c3a9260604cbfabe83a35c70edc75": {
      "model_module": "@jupyter-widgets/controls",
      "model_module_version": "1.4.0",
      "model_name": "DescriptionStyleModel",
      "state": {
       "description_width": ""
      }
     },
     "0f70af7c61ff4ba88081ed4f671ea6fb": {
      "model_module": "@jupyter-widgets/controls",
      "model_module_version": "1.4.0",
      "model_name": "DescriptionStyleModel",
      "state": {
       "description_width": ""
      }
     },
     "0fb6ebd5d60540b4a5135eecb46702e9": {
      "model_module": "@jupyter-widgets/controls",
      "model_module_version": "1.4.0",
      "model_name": "DescriptionStyleModel",
      "state": {
       "description_width": ""
      }
     },
     "0fbab12f3fc8478a8d773b74b0d46c8b": {
      "model_module": "@jupyter-widgets/controls",
      "model_module_version": "1.4.0",
      "model_name": "LabelModel",
      "state": {
       "layout": "IPY_MODEL_699c82ce7721494b827c9191334677f0",
       "style": "IPY_MODEL_63bd776089dc4508bd21c8789ad803bb"
      }
     },
     "0fdc2e9573724ffca381dcdc06cfb1b0": {
      "model_module": "@jupyter-widgets/base",
      "model_module_version": "1.1.0",
      "model_name": "LayoutModel",
      "state": {}
     },
     "0ffabbd5de5b4e49b39460918d7833c9": {
      "model_module": "@jupyter-widgets/controls",
      "model_module_version": "1.4.0",
      "model_name": "DescriptionStyleModel",
      "state": {
       "description_width": ""
      }
     },
     "1011a14be8014506987e6ff204d26d35": {
      "model_module": "@jupyter-widgets/base",
      "model_module_version": "1.1.0",
      "model_name": "LayoutModel",
      "state": {
       "width": "90px"
      }
     },
     "108b967aa86f464994fc814c54533fec": {
      "model_module": "@jupyter-widgets/base",
      "model_module_version": "1.1.0",
      "model_name": "LayoutModel",
      "state": {}
     },
     "10c2b023fe28454a9f66efb594599e4a": {
      "model_module": "@jupyter-widgets/base",
      "model_module_version": "1.1.0",
      "model_name": "LayoutModel",
      "state": {}
     },
     "10f2e8ae48e64a069fdfeda800e6969d": {
      "model_module": "@jupyter-widgets/base",
      "model_module_version": "1.1.0",
      "model_name": "LayoutModel",
      "state": {}
     },
     "11edfefeb4ca410ab09a2f5ddc3d5026": {
      "model_module": "@jupyter-widgets/controls",
      "model_module_version": "1.4.0",
      "model_name": "ButtonModel",
      "state": {
       "description": "Test",
       "icon": "check",
       "layout": "IPY_MODEL_2f66cfe8ed134acfb204b483546b9c8d",
       "style": "IPY_MODEL_7b6fe30e232e400583497734a4b6a5c7",
       "tooltip": "Test"
      }
     },
     "1205db0490524afe8643ea75eac4d13f": {
      "model_module": "@jupyter-widgets/controls",
      "model_module_version": "1.4.0",
      "model_name": "HBoxModel",
      "state": {
       "children": [
        "IPY_MODEL_1fb66c1b76f545669fe28804b306ecd2"
       ],
       "layout": "IPY_MODEL_6bdb46374a01452f878caf37f3b7dc57"
      }
     },
     "1244287ff9b84bed9a68f406b6271d4a": {
      "model_module": "@jupyter-widgets/controls",
      "model_module_version": "1.4.0",
      "model_name": "LabelModel",
      "state": {
       "layout": "IPY_MODEL_d859c2d997d6489089f973bec38b3477",
       "style": "IPY_MODEL_72a35b0bc2d9418bb099da42dd65c976"
      }
     },
     "125f923ed5a34fe3a28d2f6851a46911": {
      "model_module": "@jupyter-widgets/controls",
      "model_module_version": "1.4.0",
      "model_name": "HBoxModel",
      "state": {
       "children": [
        "IPY_MODEL_e89ff4014f0e49528bbf4e98a760fe39"
       ],
       "layout": "IPY_MODEL_fc243b3b10e846438dd07009179844f7"
      }
     },
     "127f6407d3334b2c811379e3be485ea4": {
      "model_module": "@jupyter-widgets/controls",
      "model_module_version": "1.4.0",
      "model_name": "DescriptionStyleModel",
      "state": {
       "description_width": ""
      }
     },
     "12abd72a94064ce59f1ddbba55496559": {
      "model_module": "@jupyter-widgets/base",
      "model_module_version": "1.1.0",
      "model_name": "LayoutModel",
      "state": {}
     },
     "1305375218104eaf84b665587f869b4a": {
      "model_module": "@jupyter-widgets/base",
      "model_module_version": "1.1.0",
      "model_name": "LayoutModel",
      "state": {}
     },
     "1356dd4e149949aa8da63f5c73164b03": {
      "model_module": "@jupyter-widgets/base",
      "model_module_version": "1.1.0",
      "model_name": "LayoutModel",
      "state": {
       "width": "90px"
      }
     },
     "135f645700374f52895dcc521e40d207": {
      "model_module": "@jupyter-widgets/controls",
      "model_module_version": "1.4.0",
      "model_name": "LabelModel",
      "state": {
       "layout": "IPY_MODEL_7c71e94f7fd8465382677754c8e6a982",
       "style": "IPY_MODEL_88eb02c3dc4f44948a1aec3fdbc15243"
      }
     },
     "13b8b4e1c72d4263a37e6d0db2857f38": {
      "model_module": "@jupyter-widgets/base",
      "model_module_version": "1.1.0",
      "model_name": "LayoutModel",
      "state": {}
     },
     "13b9e1059bd644deab53f4bbff6caec0": {
      "model_module": "@jupyter-widgets/controls",
      "model_module_version": "1.4.0",
      "model_name": "DropdownModel",
      "state": {
       "_options_labels": [
        "0 complex eigenvalues",
        "2 complex eigenvalues"
       ],
       "description": "Aobs:",
       "disabled": true,
       "index": 0,
       "layout": "IPY_MODEL_308eee1c1f63417596941451831e56d9",
       "style": "IPY_MODEL_b091aa29372a4b588df50dbfdb73bfca"
      }
     },
     "13f0e2e48ed94fb2b3e92e36a92bd6ab": {
      "model_module": "@jupyter-widgets/output",
      "model_module_version": "1.0.0",
      "model_name": "OutputModel",
      "state": {
       "layout": "IPY_MODEL_791fe235250446a6a034c1a07655e400",
       "outputs": [
        {
         "name": "stdout",
         "output_type": "stream",
         "text": "The Aa's eigenvalues are: -2.24+2.23j, -2.24+-2.23j, -0.28+0.00j, -0.26+0.32j and -0.26+-0.32j\nThe observer\\s eigenvalues are: -10.00+0.00j and -10.00+0.00j\n"
        }
       ]
      }
     },
     "14197243320e4c27bf97e564d6f16016": {
      "model_module": "@jupyter-widgets/controls",
      "model_module_version": "1.4.0",
      "model_name": "DescriptionStyleModel",
      "state": {
       "description_width": ""
      }
     },
     "1499b17a4da64101a9270bd56fcd4356": {
      "model_module": "@jupyter-widgets/controls",
      "model_module_version": "1.4.0",
      "model_name": "DescriptionStyleModel",
      "state": {
       "description_width": ""
      }
     },
     "14cf269aca7449979c09408a3fc45663": {
      "model_module": "@jupyter-widgets/base",
      "model_module_version": "1.1.0",
      "model_name": "LayoutModel",
      "state": {
       "width": "90px"
      }
     },
     "14ee82ae6a44446aaf4a813482e9e609": {
      "model_module": "@jupyter-widgets/base",
      "model_module_version": "1.1.0",
      "model_name": "LayoutModel",
      "state": {}
     },
     "1513832cf7b54c038400c36ff44ca0ef": {
      "model_module": "@jupyter-widgets/controls",
      "model_module_version": "1.4.0",
      "model_name": "DescriptionStyleModel",
      "state": {
       "description_width": ""
      }
     },
     "151cd4e8dcf14832a226f806c78e36e0": {
      "model_module": "@jupyter-widgets/base",
      "model_module_version": "1.1.0",
      "model_name": "LayoutModel",
      "state": {
       "width": "90px"
      }
     },
     "15cf45b6a5954be0ac6b6415d1d48bca": {
      "model_module": "@jupyter-widgets/base",
      "model_module_version": "1.1.0",
      "model_name": "LayoutModel",
      "state": {}
     },
     "16112e01e61a4c7a852edd7bb209d2be": {
      "model_module": "@jupyter-widgets/base",
      "model_module_version": "1.1.0",
      "model_name": "LayoutModel",
      "state": {}
     },
     "168bc40c3b9245fb833055cc8b0cf9d8": {
      "model_module": "@jupyter-widgets/controls",
      "model_module_version": "1.4.0",
      "model_name": "LabelModel",
      "state": {
       "layout": "IPY_MODEL_b438c6c4dba24c86a5f99cb78a66dc10",
       "style": "IPY_MODEL_5e9531f6af9b44a5acb5ee578ef622a0"
      }
     },
     "171a1b1507054bbfbefb5a2121471844": {
      "model_module": "@jupyter-widgets/controls",
      "model_module_version": "1.4.0",
      "model_name": "FloatTextModel",
      "state": {
       "layout": "IPY_MODEL_668d43e659984f9c83d702a230efee49",
       "step": null,
       "style": "IPY_MODEL_652517d930ef4076ae1a91b0e2a3be6c"
      }
     },
     "17cebb2684274838bfed4999e9fbd809": {
      "model_module": "@jupyter-widgets/controls",
      "model_module_version": "1.4.0",
      "model_name": "DescriptionStyleModel",
      "state": {
       "description_width": ""
      }
     },
     "1813f2fd50cb46aa9b888f8b5f8af0b2": {
      "model_module": "@jupyter-widgets/controls",
      "model_module_version": "1.4.0",
      "model_name": "DescriptionStyleModel",
      "state": {
       "description_width": ""
      }
     },
     "1847186fe1ec42328cf7cbcf68a6b4db": {
      "model_module": "@jupyter-widgets/controls",
      "model_module_version": "1.4.0",
      "model_name": "DescriptionStyleModel",
      "state": {
       "description_width": ""
      }
     },
     "184b23bb39dd4047977c1005e03a95c0": {
      "model_module": "@jupyter-widgets/base",
      "model_module_version": "1.1.0",
      "model_name": "LayoutModel",
      "state": {
       "width": "90px"
      }
     },
     "186de4e4fe0949228939f5d0f3901124": {
      "model_module": "@jupyter-widgets/controls",
      "model_module_version": "1.4.0",
      "model_name": "DescriptionStyleModel",
      "state": {
       "description_width": ""
      }
     },
     "189961caab4941f481899c87788c12aa": {
      "model_module": "@jupyter-widgets/controls",
      "model_module_version": "1.4.0",
      "model_name": "DescriptionStyleModel",
      "state": {
       "description_width": ""
      }
     },
     "18f82af6d5b2431ba4c48da55efab544": {
      "model_module": "@jupyter-widgets/controls",
      "model_module_version": "1.4.0",
      "model_name": "DropdownModel",
      "state": {
       "_options_labels": [
        "Set Ka and La",
        "Set the eigenvalues"
       ],
       "index": 0,
       "layout": "IPY_MODEL_aa396f910ca1429e83f9525d6adb3ba8",
       "style": "IPY_MODEL_d9db35bcd55b452caf07ceee07f65e96"
      }
     },
     "190c4ee57fdf40c88d86937fbd97fb58": {
      "model_module": "@jupyter-widgets/base",
      "model_module_version": "1.1.0",
      "model_name": "LayoutModel",
      "state": {}
     },
     "19233d4c075b48e5be2e4e129eb9e1d1": {
      "model_module": "@jupyter-widgets/controls",
      "model_module_version": "1.4.0",
      "model_name": "VBoxModel",
      "state": {
       "children": [
        "IPY_MODEL_7637a14720e140b2bcd66ed4939ec5a9",
        "IPY_MODEL_0ea5534b93a641a280950cebc7dd7424",
        "IPY_MODEL_22275515a1f04bd8be66e809c0605552",
        "IPY_MODEL_d120caa23d324631a5a9da5ed06acf60",
        "IPY_MODEL_e6198233953c4e6a91250039d906d212",
        "IPY_MODEL_fedc86dc603d43e08f7f162b326f729d",
        "IPY_MODEL_a5b53e522d8e4962a7d78f2bf1ad4c12"
       ],
       "layout": "IPY_MODEL_4290b132dc4242809a5d43b88a892c72"
      }
     },
     "193fab7eb40b4355997b20e097125ced": {
      "model_module": "@jupyter-widgets/output",
      "model_module_version": "1.0.0",
      "model_name": "OutputModel",
      "state": {
       "layout": "IPY_MODEL_b44a86c421fc453e90a3fbdd66345770",
       "outputs": [
        {
         "name": "stdout",
         "output_type": "stream",
         "text": "The Aa's eigenvalues are: -2.24+2.23j, -2.24+-2.23j, -0.28+0.00j, -0.26+0.32j and -0.26+-0.32j\nThe observer\\s eigenvalues are: -10.00+0.00j and -10.00+0.00j\n"
        }
       ]
      }
     },
     "19b8bdf890664f71885c84f552c3f3c0": {
      "model_module": "@jupyter-widgets/controls",
      "model_module_version": "1.4.0",
      "model_name": "DescriptionStyleModel",
      "state": {
       "description_width": ""
      }
     },
     "19f1831249fc404885a8c590f402427e": {
      "model_module": "@jupyter-widgets/controls",
      "model_module_version": "1.4.0",
      "model_name": "DescriptionStyleModel",
      "state": {
       "description_width": ""
      }
     },
     "1a89916030dc4f8ba8438c3a8c5bbd69": {
      "model_module": "@jupyter-widgets/base",
      "model_module_version": "1.1.0",
      "model_name": "LayoutModel",
      "state": {}
     },
     "1b064c01ef0f4056b7748e7fa4e8d0ae": {
      "model_module": "@jupyter-widgets/controls",
      "model_module_version": "1.4.0",
      "model_name": "DropdownModel",
      "state": {
       "_options_labels": [
        "Set Ka and La",
        "Set the eigenvalues"
       ],
       "index": 0,
       "layout": "IPY_MODEL_ade07f29b03d42f9af3c3c14c7d31ea0",
       "style": "IPY_MODEL_370ecf9131524d678e6b68bd2392087b"
      }
     },
     "1b74db63daf04430bfbc9b90a4d2a0b9": {
      "model_module": "@jupyter-widgets/controls",
      "model_module_version": "1.4.0",
      "model_name": "DescriptionStyleModel",
      "state": {
       "description_width": ""
      }
     },
     "1be046e383e644d6a6cfcf29b3777c99": {
      "model_module": "@jupyter-widgets/base",
      "model_module_version": "1.1.0",
      "model_name": "LayoutModel",
      "state": {}
     },
     "1c3b4a0e02094103b9696eab44638dc6": {
      "model_module": "@jupyter-widgets/base",
      "model_module_version": "1.1.0",
      "model_name": "LayoutModel",
      "state": {
       "width": "90px"
      }
     },
     "1c47caf2cb4b47a3a6d0d38a124adb42": {
      "model_module": "@jupyter-widgets/controls",
      "model_module_version": "1.4.0",
      "model_name": "LabelModel",
      "state": {
       "layout": "IPY_MODEL_4f760a5b774c4487878113061d5224d7",
       "style": "IPY_MODEL_0120a3cda0234f828ce07773febed775",
       "value": "Ka:"
      }
     },
     "1c6c62d211f44583a849017a71d78956": {
      "model_module": "@jupyter-widgets/controls",
      "model_module_version": "1.4.0",
      "model_name": "FloatTextModel",
      "state": {
       "disabled": true,
       "layout": "IPY_MODEL_461957a3da1741a79e15d991cb7034b3",
       "step": null,
       "style": "IPY_MODEL_4c2c1962f1e24a4ead7d36ae79cc2236",
       "value": -0.35
      }
     },
     "1c9b2f53ecbb4da79d03c3c35e70cf14": {
      "model_module": "@jupyter-widgets/base",
      "model_module_version": "1.1.0",
      "model_name": "LayoutModel",
      "state": {}
     },
     "1cf2e125728c4d5e8c8fea95a6038064": {
      "model_module": "@jupyter-widgets/controls",
      "model_module_version": "1.4.0",
      "model_name": "LabelModel",
      "state": {
       "layout": "IPY_MODEL_480976956b5e49b29e0a8fb9ddc1311d",
       "style": "IPY_MODEL_47598cf9791a4324b5119eb4da288b2f",
       "value": "Aa's eigs:"
      }
     },
     "1d157278113043c9856d8a9417a13918": {
      "model_module": "@jupyter-widgets/base",
      "model_module_version": "1.1.0",
      "model_name": "LayoutModel",
      "state": {}
     },
     "1dc05884ae5f4e7d823343a71c5d6ddd": {
      "model_module": "@jupyter-widgets/base",
      "model_module_version": "1.1.0",
      "model_name": "LayoutModel",
      "state": {}
     },
     "1df123d7b60c4f70bfaa95a3a98028b2": {
      "model_module": "@jupyter-widgets/base",
      "model_module_version": "1.1.0",
      "model_name": "LayoutModel",
      "state": {}
     },
     "1e33b781497341b1996b09276820d8e0": {
      "model_module": "@jupyter-widgets/base",
      "model_module_version": "1.1.0",
      "model_name": "LayoutModel",
      "state": {}
     },
     "1f72a1ea109f4f659eb106984a52f1f6": {
      "model_module": "@jupyter-widgets/controls",
      "model_module_version": "1.4.0",
      "model_name": "DescriptionStyleModel",
      "state": {
       "description_width": ""
      }
     },
     "1fb66c1b76f545669fe28804b306ecd2": {
      "model_module": "@jupyter-widgets/controls",
      "model_module_version": "1.4.0",
      "model_name": "FloatTextModel",
      "state": {
       "layout": "IPY_MODEL_e75eff08ebb144498999ffac93f14395",
       "step": null,
       "style": "IPY_MODEL_bde8952344054e1a9af20bcf7482c849",
       "value": -0.2
      }
     },
     "1fc3130926714e67a16a6fa21598e553": {
      "model_module": "@jupyter-widgets/controls",
      "model_module_version": "1.4.0",
      "model_name": "FloatTextModel",
      "state": {
       "layout": "IPY_MODEL_ecd20c3dc57245719c571ef17d01685c",
       "step": null,
       "style": "IPY_MODEL_5a867080f23547f5ba9fce9c078589d9",
       "value": 5275
      }
     },
     "1fd1af9aa2e34834a4365140e0e3935c": {
      "model_module": "@jupyter-widgets/controls",
      "model_module_version": "1.4.0",
      "model_name": "LabelModel",
      "state": {
       "layout": "IPY_MODEL_5bb3813b66d04d2e8d925c77a06ea469",
       "style": "IPY_MODEL_127f6407d3334b2c811379e3be485ea4",
       "value": "La:"
      }
     },
     "1fd782fda2594830a668c84ee5d9f831": {
      "model_module": "@jupyter-widgets/controls",
      "model_module_version": "1.4.0",
      "model_name": "DescriptionStyleModel",
      "state": {
       "description_width": ""
      }
     },
     "1fdde251769a4b17b82f768dd2b4dd9e": {
      "model_module": "@jupyter-widgets/controls",
      "model_module_version": "1.4.0",
      "model_name": "HBoxModel",
      "state": {
       "children": [
        "IPY_MODEL_b56385a123a9454aa4c26e576ee9e00e",
        "IPY_MODEL_4c8e37c41a2d416a8c037d763d6ba024",
        "IPY_MODEL_a267df06d1fd4abdbeeaa4b209f965f6",
        "IPY_MODEL_4d2f31be201045a6af6ff6ed5f2d6c7d",
        "IPY_MODEL_84a0b15ddb034a2092338bd2b2ed63e9",
        "IPY_MODEL_f4b016746bb84426baca5c76043f6338",
        "IPY_MODEL_bc57fb4c89304c8489fdd40e587aba43",
        "IPY_MODEL_d5837d49afb144f4b62497a1eee8836b",
        "IPY_MODEL_eb3ee6a786584c6d9f2da7657cac6d2a",
        "IPY_MODEL_b080ba2fe8b74e95941fc70e47b839e1",
        "IPY_MODEL_30ad82f4d06f4c2daaa68aeb2a06dd47"
       ],
       "layout": "IPY_MODEL_4f1921a9f6484511a8d14907d72e0e23"
      }
     },
     "208dd43bf82041139b3985a6cc8b89b3": {
      "model_module": "@jupyter-widgets/controls",
      "model_module_version": "1.4.0",
      "model_name": "DescriptionStyleModel",
      "state": {
       "description_width": ""
      }
     },
     "2093b6224f914effb15b3638f1187eb6": {
      "model_module": "@jupyter-widgets/controls",
      "model_module_version": "1.4.0",
      "model_name": "VBoxModel",
      "state": {
       "children": [
        "IPY_MODEL_7e4e7d01deec4ad28120e3a5353c32be"
       ],
       "layout": "IPY_MODEL_60b41869c40d4bd39090be64275ae341"
      }
     },
     "20cb9075c7db4936a347bd454de3b582": {
      "model_module": "@jupyter-widgets/controls",
      "model_module_version": "1.4.0",
      "model_name": "FloatTextModel",
      "state": {
       "layout": "IPY_MODEL_37ff28d148404455adda4f35d2af9e04",
       "step": null,
       "style": "IPY_MODEL_df7ca8e6b4e943ab931b5b3d5c5c261c"
      }
     },
     "212cbb388f3446d9be9fc9ea66b8a4ef": {
      "model_module": "@jupyter-widgets/controls",
      "model_module_version": "1.4.0",
      "model_name": "LabelModel",
      "state": {
       "layout": "IPY_MODEL_53d173abcf8b4242ab7d38a319621de6",
       "style": "IPY_MODEL_7d6a609ca45c4507b010733c5e884ae6"
      }
     },
     "2130431e014a406d94f539f123ff4781": {
      "model_module": "@jupyter-widgets/controls",
      "model_module_version": "1.4.0",
      "model_name": "DescriptionStyleModel",
      "state": {
       "description_width": ""
      }
     },
     "2158a36c2a104d1fae5f6a0fdcbc1e78": {
      "model_module": "@jupyter-widgets/controls",
      "model_module_version": "1.4.0",
      "model_name": "DescriptionStyleModel",
      "state": {
       "description_width": ""
      }
     },
     "217df9fb08f841e0b881ed5ff541226f": {
      "model_module": "@jupyter-widgets/base",
      "model_module_version": "1.1.0",
      "model_name": "LayoutModel",
      "state": {}
     },
     "21959bf2c265467dbf5cac2aaf1816e0": {
      "model_module": "@jupyter-widgets/controls",
      "model_module_version": "1.4.0",
      "model_name": "DescriptionStyleModel",
      "state": {
       "description_width": ""
      }
     },
     "21b672a6f2cb476a859c6c8b77770295": {
      "model_module": "@jupyter-widgets/controls",
      "model_module_version": "1.4.0",
      "model_name": "LabelModel",
      "state": {
       "layout": "IPY_MODEL_50979c39461b47e8bc2fd3cbcdd20729",
       "style": "IPY_MODEL_e25d85fff72e488ea4647079ab727aff",
       "value": "Aa's eigs:"
      }
     },
     "21eabbad715941b99f63fe2a4776bc00": {
      "model_module": "@jupyter-widgets/controls",
      "model_module_version": "1.4.0",
      "model_name": "DropdownModel",
      "state": {
       "_options_labels": [
        "0 complex eigenvalues",
        "2 complex eigenvalues",
        "4 complex eigenvalues"
       ],
       "description": "Aa:",
       "disabled": true,
       "index": 0,
       "layout": "IPY_MODEL_3c6b454038614f7698738e0b9ce8fec4",
       "style": "IPY_MODEL_a9df4eb6b13f4772b2ba3fc42ce6a654"
      }
     },
     "2207ee2b08c4446987f7e6023e83a82b": {
      "model_module": "@jupyter-widgets/controls",
      "model_module_version": "1.4.0",
      "model_name": "FloatTextModel",
      "state": {
       "layout": "IPY_MODEL_b6573d23f34546ba8e2cbf2b6767a8e1",
       "step": null,
       "style": "IPY_MODEL_a2730760d6e340dd9350b3d45baf8886",
       "value": 6244
      }
     },
     "22275515a1f04bd8be66e809c0605552": {
      "model_module": "@jupyter-widgets/controls",
      "model_module_version": "1.4.0",
      "model_name": "HBoxModel",
      "state": {
       "children": [
        "IPY_MODEL_073260c1189244649e842178ffd838db",
        "IPY_MODEL_d5286389e31f44d0a068455235d65e4f",
        "IPY_MODEL_72e8f2c8610c47fd8096faa84eb921f8",
        "IPY_MODEL_eeea2616635d4149881ea9df9f5a14cb",
        "IPY_MODEL_a016d7fcf44b4c7988226f529ae389e7",
        "IPY_MODEL_c52b71d3ecdd45499b48a31dc291647b"
       ],
       "layout": "IPY_MODEL_42984b879b2d416b85cd418d253039ed"
      }
     },
     "22374c75f7794f22a5f88e46fc333e82": {
      "model_module": "@jupyter-widgets/controls",
      "model_module_version": "1.4.0",
      "model_name": "FloatTextModel",
      "state": {
       "layout": "IPY_MODEL_40791dfb3cc8474eb7d54e2189b6b60c",
       "step": null,
       "style": "IPY_MODEL_ca9c829a996f4f7c845b56e8cf922fbd",
       "value": -13.333333333333334
      }
     },
     "226ecd100d9b43bdb15a7c6850582d90": {
      "model_module": "@jupyter-widgets/base",
      "model_module_version": "1.1.0",
      "model_name": "LayoutModel",
      "state": {}
     },
     "2286c81d4a3a4f93a0f895e50a34fe05": {
      "model_module": "@jupyter-widgets/controls",
      "model_module_version": "1.4.0",
      "model_name": "HBoxModel",
      "state": {
       "children": [
        "IPY_MODEL_3c7c916361f84919ace94112d0857e8d",
        "IPY_MODEL_b05b346ca5f149c68313830c8017a0c4",
        "IPY_MODEL_2661ca0349f54248a71dd5a7e08fc265",
        "IPY_MODEL_b55b9482c3094a98a8cf619d230dbc9b",
        "IPY_MODEL_247e86cfc95f417a8bcb4fcfcdbe3a0c"
       ],
       "layout": "IPY_MODEL_fcea6582999f41d3998d812ef0156748"
      }
     },
     "22d7fc6100c34ec68f93bd5a4fa77bce": {
      "model_module": "@jupyter-widgets/base",
      "model_module_version": "1.1.0",
      "model_name": "LayoutModel",
      "state": {}
     },
     "239576f3ce7641f5ab0c6dbab3e5de53": {
      "model_module": "@jupyter-widgets/controls",
      "model_module_version": "1.4.0",
      "model_name": "HBoxModel",
      "state": {
       "children": [
        "IPY_MODEL_8471ba81fc7a4b87adf19a11d05e4af8",
        "IPY_MODEL_b7643201185d4a7eb66c0e9807d1fef7",
        "IPY_MODEL_678800f9d35b4543892ff9d4b8c3009b"
       ],
       "layout": "IPY_MODEL_88608d2bd3564091bb944cd23789d33c"
      }
     },
     "23c82a3754bb4588a4f865849a294568": {
      "model_module": "@jupyter-widgets/base",
      "model_module_version": "1.1.0",
      "model_name": "LayoutModel",
      "state": {}
     },
     "247e86cfc95f417a8bcb4fcfcdbe3a0c": {
      "model_module": "@jupyter-widgets/controls",
      "model_module_version": "1.4.0",
      "model_name": "ButtonModel",
      "state": {
       "description": "Test",
       "icon": "check",
       "layout": "IPY_MODEL_c443bd8d6997435e91d118677137d5b6",
       "style": "IPY_MODEL_8940fedfa6b94154bbecb9b93aa2c282",
       "tooltip": "Test"
      }
     },
     "24dd982e2a6149fa8600278128d390d9": {
      "model_module": "@jupyter-widgets/controls",
      "model_module_version": "1.4.0",
      "model_name": "DescriptionStyleModel",
      "state": {
       "description_width": ""
      }
     },
     "2529e49926cd4f8eb55dcc45178ec8f5": {
      "model_module": "@jupyter-widgets/controls",
      "model_module_version": "1.4.0",
      "model_name": "LabelModel",
      "state": {
       "layout": "IPY_MODEL_9e4fb7fb6cee4738ab762e038ba437ba",
       "style": "IPY_MODEL_728c92f846734c939fcd10d6e4ef68e3"
      }
     },
     "25be128dd26d4cd298247bbbc5bbe06a": {
      "model_module": "@jupyter-widgets/controls",
      "model_module_version": "1.4.0",
      "model_name": "VBoxModel",
      "state": {
       "children": [
        "IPY_MODEL_3de384452e1d48d09b464ccad972e82a",
        "IPY_MODEL_a632af6c959f4150a8552cf2868f1563"
       ],
       "layout": "IPY_MODEL_6f10c2a2cc4f4d5cb7cd361d5fd117bb"
      }
     },
     "25f2ec29d73b41f7a2dc273b04bff9ce": {
      "model_module": "@jupyter-widgets/base",
      "model_module_version": "1.1.0",
      "model_name": "LayoutModel",
      "state": {}
     },
     "26342618d87e467fab891aa5cda81036": {
      "model_module": "@jupyter-widgets/controls",
      "model_module_version": "1.4.0",
      "model_name": "VBoxModel",
      "state": {
       "children": [
        "IPY_MODEL_e675d75bec4b474dba2d599e91931cd2",
        "IPY_MODEL_c4740552de6548d296f8e504838955f6",
        "IPY_MODEL_a91bbca18081424791e2d1ee5f5cce53",
        "IPY_MODEL_e53e8f35bab440248da43e8cba202569",
        "IPY_MODEL_3e64d9fd2e1746cea195f645cdd6949d",
        "IPY_MODEL_fdce31ba7cd54e7599882f799a6e6e33",
        "IPY_MODEL_2286c81d4a3a4f93a0f895e50a34fe05"
       ],
       "layout": "IPY_MODEL_4e55b368a6894071936164175298b092"
      }
     },
     "2661ca0349f54248a71dd5a7e08fc265": {
      "model_module": "@jupyter-widgets/controls",
      "model_module_version": "1.4.0",
      "model_name": "LabelModel",
      "state": {
       "layout": "IPY_MODEL_a2b1153c0b734d19bbbe9e4cb71dfd22",
       "style": "IPY_MODEL_f42e19a237c34b6180896202e734db4b"
      }
     },
     "27173e1eefb9498a854df87487b14839": {
      "model_module": "@jupyter-widgets/controls",
      "model_module_version": "1.4.0",
      "model_name": "DescriptionStyleModel",
      "state": {
       "description_width": ""
      }
     },
     "27928ffdf5e14aceb43b8fca906689b0": {
      "model_module": "@jupyter-widgets/base",
      "model_module_version": "1.1.0",
      "model_name": "LayoutModel",
      "state": {}
     },
     "27bf1cd698f244de864097f2c1026f29": {
      "model_module": "@jupyter-widgets/controls",
      "model_module_version": "1.4.0",
      "model_name": "VBoxModel",
      "state": {
       "children": [
        "IPY_MODEL_bad08b1eee074bc3b71be5dc3ac3cdde",
        "IPY_MODEL_42c5e51edfbf418ea107735f899209ac"
       ],
       "layout": "IPY_MODEL_9b5dafc61d3444c5ad1d3934f7051d68"
      }
     },
     "28145b3fa0c947388e212e724a9d4113": {
      "model_module": "@jupyter-widgets/base",
      "model_module_version": "1.1.0",
      "model_name": "LayoutModel",
      "state": {}
     },
     "2858ff7ee73a49599f2605631773233e": {
      "model_module": "@jupyter-widgets/base",
      "model_module_version": "1.1.0",
      "model_name": "LayoutModel",
      "state": {
       "width": "90px"
      }
     },
     "285f9014036e4d5485f9c4c625564664": {
      "model_module": "@jupyter-widgets/base",
      "model_module_version": "1.1.0",
      "model_name": "LayoutModel",
      "state": {}
     },
     "286c6d083d32468c8da6d9a651c6a4cb": {
      "model_module": "@jupyter-widgets/controls",
      "model_module_version": "1.4.0",
      "model_name": "DescriptionStyleModel",
      "state": {
       "description_width": ""
      }
     },
     "28eeaa6532d64589be32837e44b6116e": {
      "model_module": "@jupyter-widgets/base",
      "model_module_version": "1.1.0",
      "model_name": "LayoutModel",
      "state": {}
     },
     "290c5edce3fd4ba59715d66705fcdd2e": {
      "model_module": "@jupyter-widgets/base",
      "model_module_version": "1.1.0",
      "model_name": "LayoutModel",
      "state": {}
     },
     "296ca86ae0ed488dbcf495fcee09b2d4": {
      "model_module": "@jupyter-widgets/base",
      "model_module_version": "1.1.0",
      "model_name": "LayoutModel",
      "state": {}
     },
     "29a5ffd39c2f4cfbbb7189829553bcde": {
      "model_module": "@jupyter-widgets/controls",
      "model_module_version": "1.4.0",
      "model_name": "LabelModel",
      "state": {
       "layout": "IPY_MODEL_5e837cafb6a844dd926b00ccdd43440d",
       "style": "IPY_MODEL_a2a23603747a44b8b4b99e05ba1585cc"
      }
     },
     "2a4c4be27bb545dd87185740c74ca9e5": {
      "model_module": "@jupyter-widgets/controls",
      "model_module_version": "1.4.0",
      "model_name": "FloatTextModel",
      "state": {
       "layout": "IPY_MODEL_bebe51591c7f4204987782700ddac779",
       "step": null,
       "style": "IPY_MODEL_5e97027777614640b556526766aab474"
      }
     },
     "2ad36e1cd7c6491ebd207e23495eaf5f": {
      "model_module": "@jupyter-widgets/base",
      "model_module_version": "1.1.0",
      "model_name": "LayoutModel",
      "state": {}
     },
     "2b099bf547704ef4a5d5b71337dae026": {
      "model_module": "@jupyter-widgets/controls",
      "model_module_version": "1.4.0",
      "model_name": "DescriptionStyleModel",
      "state": {
       "description_width": ""
      }
     },
     "2b60f2474af2416cb1d242ccc4c6ddb3": {
      "model_module": "@jupyter-widgets/controls",
      "model_module_version": "1.4.0",
      "model_name": "FloatTextModel",
      "state": {
       "disabled": true,
       "layout": "IPY_MODEL_580f187efa7642398bec0a2ae1ea2954",
       "step": null,
       "style": "IPY_MODEL_e2a1c41856004ffc9cd0fc59df88997a"
      }
     },
     "2b684e1c6b254b9fa313b5d68cbac70e": {
      "model_module": "@jupyter-widgets/controls",
      "model_module_version": "1.4.0",
      "model_name": "DescriptionStyleModel",
      "state": {
       "description_width": ""
      }
     },
     "2b9259b59b92447390e7b296c315363e": {
      "model_module": "@jupyter-widgets/controls",
      "model_module_version": "1.4.0",
      "model_name": "DescriptionStyleModel",
      "state": {
       "description_width": ""
      }
     },
     "2b97208d6c1a4fd1966375b6e494aa89": {
      "model_module": "@jupyter-widgets/controls",
      "model_module_version": "1.4.0",
      "model_name": "DescriptionStyleModel",
      "state": {
       "description_width": ""
      }
     },
     "2bc216ef3e2d46c8b160d194b072936c": {
      "model_module": "@jupyter-widgets/controls",
      "model_module_version": "1.4.0",
      "model_name": "DescriptionStyleModel",
      "state": {
       "description_width": ""
      }
     },
     "2bf0392a0f39437ba55867d895e68ba0": {
      "model_module": "@jupyter-widgets/base",
      "model_module_version": "1.1.0",
      "model_name": "LayoutModel",
      "state": {
       "width": "90px"
      }
     },
     "2c4fbbc1825c495c86831ef2286a8258": {
      "model_module": "@jupyter-widgets/base",
      "model_module_version": "1.1.0",
      "model_name": "LayoutModel",
      "state": {}
     },
     "2cb9c1ebcf564a40a34b90a63d030464": {
      "model_module": "@jupyter-widgets/controls",
      "model_module_version": "1.4.0",
      "model_name": "VBoxModel",
      "state": {
       "children": [
        "IPY_MODEL_ee4aa316d9714e888f3c23995436d5e6"
       ],
       "layout": "IPY_MODEL_190c4ee57fdf40c88d86937fbd97fb58"
      }
     },
     "2d2e3175df1d471bbb45873e4da0007e": {
      "model_module": "@jupyter-widgets/output",
      "model_module_version": "1.0.0",
      "model_name": "OutputModel",
      "state": {
       "layout": "IPY_MODEL_4896fb1125f843749d6859f7cbe31ce0",
       "outputs": [
        {
         "name": "stdout",
         "output_type": "stream",
         "text": "The Aa's eigenvalues are: -2.24+2.23j, -2.24+-2.23j, -0.28+0.00j, -0.26+0.32j and -0.26+-0.32j\nThe observer\\s eigenvalues are: -10.00+0.00j and -10.00+0.00j\n"
        }
       ]
      }
     },
     "2d7547f1a371409793d7cc2e5f67d729": {
      "model_module": "@jupyter-widgets/controls",
      "model_module_version": "1.4.0",
      "model_name": "DescriptionStyleModel",
      "state": {
       "description_width": ""
      }
     },
     "2d87c6683db741b78597a76dece4e1fc": {
      "model_module": "@jupyter-widgets/base",
      "model_module_version": "1.1.0",
      "model_name": "LayoutModel",
      "state": {}
     },
     "2e269a8bd2094127a2842dba4c1a9b3e": {
      "model_module": "@jupyter-widgets/base",
      "model_module_version": "1.1.0",
      "model_name": "LayoutModel",
      "state": {
       "height": "0px",
       "width": "0px"
      }
     },
     "2ea7fb5a0dc94b24bc86d1d1361bf465": {
      "model_module": "@jupyter-widgets/controls",
      "model_module_version": "1.4.0",
      "model_name": "HBoxModel",
      "state": {
       "children": [
        "IPY_MODEL_ad7ee93bc69e44238236082c27729623",
        "IPY_MODEL_d5286389e31f44d0a068455235d65e4f",
        "IPY_MODEL_e803009919e34d8eaf8b05eec6e7095e",
        "IPY_MODEL_7e247cd9b0e54844af224969b6c41f28",
        "IPY_MODEL_67eca683eeac421c9b2621d685db768f",
        "IPY_MODEL_c52b71d3ecdd45499b48a31dc291647b"
       ],
       "layout": "IPY_MODEL_59ebaba388dc4577ada44ad233f34d00"
      }
     },
     "2f3e230ec0f74c2db5e3641c839f2213": {
      "model_module": "@jupyter-widgets/controls",
      "model_module_version": "1.4.0",
      "model_name": "LabelModel",
      "state": {
       "layout": "IPY_MODEL_ffe99539e150450583ae31daaf3d9322",
       "style": "IPY_MODEL_1f72a1ea109f4f659eb106984a52f1f6",
       "value": "Ka:"
      }
     },
     "2f66cfe8ed134acfb204b483546b9c8d": {
      "model_module": "@jupyter-widgets/base",
      "model_module_version": "1.1.0",
      "model_name": "LayoutModel",
      "state": {}
     },
     "2f9198fbd0b341cf8d4432260b3fa514": {
      "model_module": "@jupyter-widgets/base",
      "model_module_version": "1.1.0",
      "model_name": "LayoutModel",
      "state": {}
     },
     "2fdeaa5e4bf3400f8579ebce0f57f204": {
      "model_module": "@jupyter-widgets/controls",
      "model_module_version": "1.4.0",
      "model_name": "HBoxModel",
      "state": {
       "children": [
        "IPY_MODEL_912150cf7dd545c9be27f06e2420e9fd"
       ],
       "layout": "IPY_MODEL_9107b64326ee404abe9f223d27d7cb58"
      }
     },
     "307ff552afd445f8aa1f661c0d2a70ab": {
      "model_module": "@jupyter-widgets/controls",
      "model_module_version": "1.4.0",
      "model_name": "DescriptionStyleModel",
      "state": {
       "description_width": ""
      }
     },
     "308eee1c1f63417596941451831e56d9": {
      "model_module": "@jupyter-widgets/base",
      "model_module_version": "1.1.0",
      "model_name": "LayoutModel",
      "state": {}
     },
     "30ad82f4d06f4c2daaa68aeb2a06dd47": {
      "model_module": "@jupyter-widgets/controls",
      "model_module_version": "1.4.0",
      "model_name": "VBoxModel",
      "state": {
       "children": [
        "IPY_MODEL_2fdeaa5e4bf3400f8579ebce0f57f204",
        "IPY_MODEL_6f85f9a4db194b509b78ff37a0f3f35a"
       ],
       "layout": "IPY_MODEL_dce3a2ee8dff4853a756267ce47660ed"
      }
     },
     "30c069a9f1e64b8fa42c228c79bc01d4": {
      "model_module": "@jupyter-widgets/base",
      "model_module_version": "1.1.0",
      "model_name": "LayoutModel",
      "state": {}
     },
     "3155eee3f9a64ff3b2f1ce3c8f7d18cc": {
      "model_module": "@jupyter-widgets/base",
      "model_module_version": "1.1.0",
      "model_name": "LayoutModel",
      "state": {}
     },
     "317ee220faa84115bad387393653c51c": {
      "model_module": "@jupyter-widgets/controls",
      "model_module_version": "1.4.0",
      "model_name": "VBoxModel",
      "state": {
       "children": [
        "IPY_MODEL_7c92b5b89e8b44fc9d282249225339c6"
       ],
       "layout": "IPY_MODEL_a460952c12254a589008273d3b2199a9"
      }
     },
     "31e2e456b00d48d490d2402eb557ec37": {
      "model_module": "@jupyter-widgets/base",
      "model_module_version": "1.1.0",
      "model_name": "LayoutModel",
      "state": {}
     },
     "3223149f706c4dd4ba260fe3446b92e8": {
      "model_module": "@jupyter-widgets/base",
      "model_module_version": "1.1.0",
      "model_name": "LayoutModel",
      "state": {}
     },
     "3233aafe18be46e7a62f972550b668ba": {
      "model_module": "@jupyter-widgets/base",
      "model_module_version": "1.1.0",
      "model_name": "LayoutModel",
      "state": {}
     },
     "32a09d78e0b3416a94dc5ac17c5bb0d0": {
      "model_module": "@jupyter-widgets/controls",
      "model_module_version": "1.4.0",
      "model_name": "DescriptionStyleModel",
      "state": {
       "description_width": ""
      }
     },
     "32b7e93c96b443a3af782fb2be831b3b": {
      "model_module": "@jupyter-widgets/base",
      "model_module_version": "1.1.0",
      "model_name": "LayoutModel",
      "state": {}
     },
     "32c998c40fcb45f29c5f62895b3ae599": {
      "model_module": "@jupyter-widgets/base",
      "model_module_version": "1.1.0",
      "model_name": "LayoutModel",
      "state": {}
     },
     "33330d6c86ba41eab73940f2280afb9a": {
      "model_module": "@jupyter-widgets/controls",
      "model_module_version": "1.4.0",
      "model_name": "FloatTextModel",
      "state": {
       "layout": "IPY_MODEL_3a65fbb08de74d909d5fd1814e6230ac",
       "step": null,
       "style": "IPY_MODEL_754e87a1a8c54875b3b917f54d2c9b58",
       "value": -10
      }
     },
     "33357e60e03e468ca65e98dd38c74e9f": {
      "model_module": "@jupyter-widgets/controls",
      "model_module_version": "1.4.0",
      "model_name": "DescriptionStyleModel",
      "state": {
       "description_width": ""
      }
     },
     "3352f8a79a714a1f8fd27b8fd25f0a52": {
      "model_module": "@jupyter-widgets/base",
      "model_module_version": "1.1.0",
      "model_name": "LayoutModel",
      "state": {}
     },
     "33bfa08767d84ae4a47341c4859c6d8e": {
      "model_module": "@jupyter-widgets/controls",
      "model_module_version": "1.4.0",
      "model_name": "DescriptionStyleModel",
      "state": {
       "description_width": ""
      }
     },
     "33f481d047974c82b48e773a14c5277e": {
      "model_module": "@jupyter-widgets/controls",
      "model_module_version": "1.4.0",
      "model_name": "DescriptionStyleModel",
      "state": {
       "description_width": ""
      }
     },
     "34022ccc088d4f659df4623873bb8338": {
      "model_module": "@jupyter-widgets/base",
      "model_module_version": "1.1.0",
      "model_name": "LayoutModel",
      "state": {}
     },
     "341a67e1961c4efaba9cd46195f445c9": {
      "model_module": "@jupyter-widgets/base",
      "model_module_version": "1.1.0",
      "model_name": "LayoutModel",
      "state": {}
     },
     "3430f1d432be4157a235f074511b7e3e": {
      "model_module": "@jupyter-widgets/controls",
      "model_module_version": "1.4.0",
      "model_name": "DescriptionStyleModel",
      "state": {
       "description_width": ""
      }
     },
     "3560f888f8714d7380f8ec397da7b315": {
      "model_module": "@jupyter-widgets/controls",
      "model_module_version": "1.4.0",
      "model_name": "DescriptionStyleModel",
      "state": {
       "description_width": ""
      }
     },
     "356747a968bb4a48b3b7722036ed8bf4": {
      "model_module": "@jupyter-widgets/controls",
      "model_module_version": "1.4.0",
      "model_name": "FloatTextModel",
      "state": {
       "layout": "IPY_MODEL_2858ff7ee73a49599f2605631773233e",
       "step": null,
       "style": "IPY_MODEL_1fd782fda2594830a668c84ee5d9f831",
       "value": 316
      }
     },
     "360875116090414dbddbecaa83b47342": {
      "model_module": "@jupyter-widgets/controls",
      "model_module_version": "1.4.0",
      "model_name": "LabelModel",
      "state": {
       "layout": "IPY_MODEL_851b1adaff55422a86338f42883ee062",
       "style": "IPY_MODEL_ff14f4f3069442e09be6386b056e4f65"
      }
     },
     "361e3aca296d43a68f658aa71fa8a732": {
      "model_module": "@jupyter-widgets/controls",
      "model_module_version": "1.4.0",
      "model_name": "FloatTextModel",
      "state": {
       "layout": "IPY_MODEL_caf38c4519e040de9884ca0747ab7001",
       "step": null,
       "style": "IPY_MODEL_bf796660e99f47128f6d0e118966cbdd"
      }
     },
     "363c1e3703ab462a93ff019e7bc417eb": {
      "model_module": "@jupyter-widgets/base",
      "model_module_version": "1.1.0",
      "model_name": "LayoutModel",
      "state": {}
     },
     "364239ea052146749c210d876d457052": {
      "model_module": "@jupyter-widgets/base",
      "model_module_version": "1.1.0",
      "model_name": "LayoutModel",
      "state": {}
     },
     "36ac1087021c41399d70cc006def027e": {
      "model_module": "@jupyter-widgets/controls",
      "model_module_version": "1.4.0",
      "model_name": "FloatTextModel",
      "state": {
       "layout": "IPY_MODEL_3dae996603af49d89a680674a3ee2aec",
       "step": null,
       "style": "IPY_MODEL_33f481d047974c82b48e773a14c5277e"
      }
     },
     "36b4c1c517ff44af830b4f3695cbd377": {
      "model_module": "@jupyter-widgets/controls",
      "model_module_version": "1.4.0",
      "model_name": "ButtonModel",
      "state": {
       "description": "Test",
       "icon": "check",
       "layout": "IPY_MODEL_4d59d06b755e49e1ac0c6d996a44da1e",
       "style": "IPY_MODEL_0d0a5a3b1371435bbf4f922a1c0b4595",
       "tooltip": "Test"
      }
     },
     "36b6b604c9464f058cab5c96b0e7fd11": {
      "model_module": "@jupyter-widgets/base",
      "model_module_version": "1.1.0",
      "model_name": "LayoutModel",
      "state": {}
     },
     "370ecf9131524d678e6b68bd2392087b": {
      "model_module": "@jupyter-widgets/controls",
      "model_module_version": "1.4.0",
      "model_name": "DescriptionStyleModel",
      "state": {
       "description_width": ""
      }
     },
     "37327690f2424d65b8d49eece9eaf6a9": {
      "model_module": "@jupyter-widgets/base",
      "model_module_version": "1.1.0",
      "model_name": "LayoutModel",
      "state": {}
     },
     "3737cb1f394e4b8d993a13254b0b1c5e": {
      "model_module": "@jupyter-widgets/base",
      "model_module_version": "1.1.0",
      "model_name": "LayoutModel",
      "state": {}
     },
     "3737cb895e114ff3a7264b637d8ad44b": {
      "model_module": "@jupyter-widgets/controls",
      "model_module_version": "1.4.0",
      "model_name": "DescriptionStyleModel",
      "state": {
       "description_width": ""
      }
     },
     "375787cc30e24e26abe571c28c5b73b7": {
      "model_module": "@jupyter-widgets/controls",
      "model_module_version": "1.4.0",
      "model_name": "DescriptionStyleModel",
      "state": {
       "description_width": ""
      }
     },
     "37d23d6207874b9db8948c62f4cd0835": {
      "model_module": "@jupyter-widgets/base",
      "model_module_version": "1.1.0",
      "model_name": "LayoutModel",
      "state": {}
     },
     "37d8d5e4068d43cda833bfa5b2deb3d6": {
      "model_module": "@jupyter-widgets/controls",
      "model_module_version": "1.4.0",
      "model_name": "VBoxModel",
      "state": {
       "children": [
        "IPY_MODEL_895850746fc047c089a3bab1559d9f9d",
        "IPY_MODEL_ebf0f598131a450587d040772038e710",
        "IPY_MODEL_3d9418f5694c40a68a7dbd749231b227",
        "IPY_MODEL_ad34d26874a24d2c89c2f16a3cf953ee",
        "IPY_MODEL_50da8e9b3fe449d8bd0f82c813a0d190",
        "IPY_MODEL_4490b6a17a204103a401af35e7fb2214",
        "IPY_MODEL_e946f509a27349d3ad44c1af4e53fc3a"
       ],
       "layout": "IPY_MODEL_ae665ed5b04d42f1b2b624cfbc726e6f"
      }
     },
     "37e3d4ef915442e587ab592c14598b61": {
      "model_module": "@jupyter-widgets/base",
      "model_module_version": "1.1.0",
      "model_name": "LayoutModel",
      "state": {
       "height": "0px",
       "width": "0px"
      }
     },
     "37ecefc90ca24246a5e1f966458ec837": {
      "model_module": "@jupyter-widgets/base",
      "model_module_version": "1.1.0",
      "model_name": "LayoutModel",
      "state": {}
     },
     "37ff28d148404455adda4f35d2af9e04": {
      "model_module": "@jupyter-widgets/base",
      "model_module_version": "1.1.0",
      "model_name": "LayoutModel",
      "state": {
       "width": "90px"
      }
     },
     "3804bdbe25a84136b554ce66d5068797": {
      "model_module": "@jupyter-widgets/controls",
      "model_module_version": "1.4.0",
      "model_name": "VBoxModel",
      "state": {
       "children": [
        "IPY_MODEL_61c6a8a15add4ded9fd4e987a755ab38",
        "IPY_MODEL_d086c2b805214a99ac336e6b38227e34",
        "IPY_MODEL_fb4bc4d4d3a648d7a6a9df184cce12b6",
        "IPY_MODEL_9a30578514a043dc80c647d4b5ab588d",
        "IPY_MODEL_8a079245fbbe4ddf920422f8deed31bb",
        "IPY_MODEL_5d2586944fee45ffa773e7d3ad5c2d02",
        "IPY_MODEL_3fb90a3282a44bb1b6810e5cba75ebc1"
       ],
       "layout": "IPY_MODEL_70d8d323e1e7445ea9fe3e32ee56bd7f"
      }
     },
     "38105898ff504547a93e80b47afac00d": {
      "model_module": "@jupyter-widgets/controls",
      "model_module_version": "1.4.0",
      "model_name": "DescriptionStyleModel",
      "state": {
       "description_width": ""
      }
     },
     "3867427d28c94cc5bb52fa78e2eae3e1": {
      "model_module": "@jupyter-widgets/base",
      "model_module_version": "1.1.0",
      "model_name": "LayoutModel",
      "state": {}
     },
     "3882f6bf357a4adab0cd5691b4c6c866": {
      "model_module": "@jupyter-widgets/base",
      "model_module_version": "1.1.0",
      "model_name": "LayoutModel",
      "state": {}
     },
     "395984fd869345c3adad0f2e04cc2f9d": {
      "model_module": "@jupyter-widgets/base",
      "model_module_version": "1.1.0",
      "model_name": "LayoutModel",
      "state": {}
     },
     "3967a131ab114f1d903a90585ec37c1b": {
      "model_module": "@jupyter-widgets/controls",
      "model_module_version": "1.4.0",
      "model_name": "FloatTextModel",
      "state": {
       "layout": "IPY_MODEL_8bfd28108db14cf7af63c45afb29a893",
       "step": null,
       "style": "IPY_MODEL_ffd9845674134373a41db40934c7be0d",
       "value": -0.5
      }
     },
     "3a5b38eedfc246fb8c78fd0753841d63": {
      "model_module": "@jupyter-widgets/base",
      "model_module_version": "1.1.0",
      "model_name": "LayoutModel",
      "state": {}
     },
     "3a65fbb08de74d909d5fd1814e6230ac": {
      "model_module": "@jupyter-widgets/base",
      "model_module_version": "1.1.0",
      "model_name": "LayoutModel",
      "state": {
       "width": "90px"
      }
     },
     "3a6b565f3ce4429b83a21e3d564ff894": {
      "model_module": "@jupyter-widgets/controls",
      "model_module_version": "1.4.0",
      "model_name": "DescriptionStyleModel",
      "state": {
       "description_width": ""
      }
     },
     "3a78eccc26a74ba981dce7448a66b11a": {
      "model_module": "@jupyter-widgets/base",
      "model_module_version": "1.1.0",
      "model_name": "LayoutModel",
      "state": {}
     },
     "3ac1014816f74fb1b52fa1463185a00e": {
      "model_module": "@jupyter-widgets/controls",
      "model_module_version": "1.4.0",
      "model_name": "DescriptionStyleModel",
      "state": {
       "description_width": ""
      }
     },
     "3ae048ad15b44938b8b8c0d5af7219e8": {
      "model_module": "@jupyter-widgets/controls",
      "model_module_version": "1.4.0",
      "model_name": "LabelModel",
      "state": {
       "layout": "IPY_MODEL_60cdc74037934e1eb900c2994a7fd6fa",
       "style": "IPY_MODEL_dc452b89802e4d66ab5371b81f4bb4a2"
      }
     },
     "3b285e8c99594a9d846cf082b34290f0": {
      "model_module": "@jupyter-widgets/base",
      "model_module_version": "1.1.0",
      "model_name": "LayoutModel",
      "state": {
       "width": "90px"
      }
     },
     "3b2defae62294f9bbd4aaf5e793002c0": {
      "model_module": "@jupyter-widgets/controls",
      "model_module_version": "1.4.0",
      "model_name": "ButtonStyleModel",
      "state": {}
     },
     "3b4c40f6dee64918a393d35056e0c706": {
      "model_module": "@jupyter-widgets/base",
      "model_module_version": "1.1.0",
      "model_name": "LayoutModel",
      "state": {}
     },
     "3b7b8cd8f40f46f7a6af377e08229a20": {
      "model_module": "@jupyter-widgets/base",
      "model_module_version": "1.1.0",
      "model_name": "LayoutModel",
      "state": {}
     },
     "3bcadc2f01354f5ebada7a948f377681": {
      "model_module": "@jupyter-widgets/controls",
      "model_module_version": "1.4.0",
      "model_name": "DescriptionStyleModel",
      "state": {
       "description_width": ""
      }
     },
     "3bf317625e154845b6a9f8e0b72e9040": {
      "model_module": "@jupyter-widgets/base",
      "model_module_version": "1.1.0",
      "model_name": "LayoutModel",
      "state": {}
     },
     "3c6b454038614f7698738e0b9ce8fec4": {
      "model_module": "@jupyter-widgets/base",
      "model_module_version": "1.1.0",
      "model_name": "LayoutModel",
      "state": {}
     },
     "3c7c916361f84919ace94112d0857e8d": {
      "model_module": "@jupyter-widgets/controls",
      "model_module_version": "1.4.0",
      "model_name": "FloatSliderModel",
      "state": {
       "continuous_update": false,
       "description": "$y_d$:",
       "layout": "IPY_MODEL_3e22cf6d526e4976852d76dee6c4afee",
       "max": 10,
       "readout_format": ".1f",
       "step": 0.1,
       "style": "IPY_MODEL_8ef057c6d9fc4db8b615a215a2b5a000",
       "value": 10
      }
     },
     "3ce4a805f8a54027b572fe652407fe63": {
      "model_module": "@jupyter-widgets/controls",
      "model_module_version": "1.4.0",
      "model_name": "DescriptionStyleModel",
      "state": {
       "description_width": ""
      }
     },
     "3d1b0136b7ff46baa784387eceafc392": {
      "model_module": "@jupyter-widgets/controls",
      "model_module_version": "1.4.0",
      "model_name": "DescriptionStyleModel",
      "state": {
       "description_width": ""
      }
     },
     "3d7b33626e8645189c174b708efd6e17": {
      "model_module": "@jupyter-widgets/base",
      "model_module_version": "1.1.0",
      "model_name": "LayoutModel",
      "state": {
       "width": "90px"
      }
     },
     "3d9418f5694c40a68a7dbd749231b227": {
      "model_module": "@jupyter-widgets/controls",
      "model_module_version": "1.4.0",
      "model_name": "HBoxModel",
      "state": {
       "children": [
        "IPY_MODEL_fa779ef2a19142449b6539ff5c0afb2a",
        "IPY_MODEL_d5286389e31f44d0a068455235d65e4f",
        "IPY_MODEL_7ffe130777e247649d8ed2b515a9ca8b",
        "IPY_MODEL_4a70bf95f528481b8ff74c3afd8143cc",
        "IPY_MODEL_7293c820e63d4fa5a06348c87ef770e1",
        "IPY_MODEL_c52b71d3ecdd45499b48a31dc291647b"
       ],
       "layout": "IPY_MODEL_c362d636f1984bdd87b4377f49a3dfad"
      }
     },
     "3dae996603af49d89a680674a3ee2aec": {
      "model_module": "@jupyter-widgets/base",
      "model_module_version": "1.1.0",
      "model_name": "LayoutModel",
      "state": {
       "width": "90px"
      }
     },
     "3de384452e1d48d09b464ccad972e82a": {
      "model_module": "@jupyter-widgets/controls",
      "model_module_version": "1.4.0",
      "model_name": "HBoxModel",
      "state": {
       "children": [
        "IPY_MODEL_481707a8f18e4ad6925355876653507c"
       ],
       "layout": "IPY_MODEL_b96be3625e894b758c148ca1a3566d8e"
      }
     },
     "3e22cf6d526e4976852d76dee6c4afee": {
      "model_module": "@jupyter-widgets/base",
      "model_module_version": "1.1.0",
      "model_name": "LayoutModel",
      "state": {}
     },
     "3e59c5655b3f41d1aaf0f24e30cdd54c": {
      "model_module": "@jupyter-widgets/base",
      "model_module_version": "1.1.0",
      "model_name": "LayoutModel",
      "state": {}
     },
     "3e64d9fd2e1746cea195f645cdd6949d": {
      "model_module": "@jupyter-widgets/controls",
      "model_module_version": "1.4.0",
      "model_name": "HBoxModel",
      "state": {
       "children": [
        "IPY_MODEL_5b85b3143bdd4151baf0b1b98839a627",
        "IPY_MODEL_2093b6224f914effb15b3638f1187eb6",
        "IPY_MODEL_5de9a778360a49198d5e6e1e23bc58d3",
        "IPY_MODEL_87deb80624884ebfa254f62114e25930",
        "IPY_MODEL_2cb9c1ebcf564a40a34b90a63d030464",
        "IPY_MODEL_d7419d00e6774ceb8dbccfc5cf652bfd",
        "IPY_MODEL_1244287ff9b84bed9a68f406b6271d4a",
        "IPY_MODEL_fe452383f5644078905bb160d1205007",
        "IPY_MODEL_bf60fd5a02a84f84b747fdca371c5248",
        "IPY_MODEL_5f6179517cf942c9a57020ef64c975a6",
        "IPY_MODEL_27bf1cd698f244de864097f2c1026f29"
       ],
       "layout": "IPY_MODEL_3f412669281442aaa4b98dd280741c00"
      }
     },
     "3e952182f68c4e9ab7e75f184898c9a2": {
      "model_module": "@jupyter-widgets/controls",
      "model_module_version": "1.4.0",
      "model_name": "DescriptionStyleModel",
      "state": {
       "description_width": ""
      }
     },
     "3f1ae226f21a4f758daa4a0993a2a3de": {
      "model_module": "@jupyter-widgets/controls",
      "model_module_version": "1.4.0",
      "model_name": "HBoxModel",
      "state": {
       "children": [
        "IPY_MODEL_008c5b54603f4375ad913b4e47b37a95",
        "IPY_MODEL_7a2c5d36b676498d86709b794261b2e5",
        "IPY_MODEL_3f8d6e010056475ba09296b2de5793c4",
        "IPY_MODEL_edb98a49aed04ce2b99d3a4898054f4d",
        "IPY_MODEL_aec6d0f1383e406296db3be22810ad9c",
        "IPY_MODEL_9e0c7264530f48d8a6e52208066546ff"
       ],
       "layout": "IPY_MODEL_34022ccc088d4f659df4623873bb8338"
      }
     },
     "3f412669281442aaa4b98dd280741c00": {
      "model_module": "@jupyter-widgets/base",
      "model_module_version": "1.1.0",
      "model_name": "LayoutModel",
      "state": {}
     },
     "3f8d6e010056475ba09296b2de5793c4": {
      "model_module": "@jupyter-widgets/controls",
      "model_module_version": "1.4.0",
      "model_name": "LabelModel",
      "state": {
       "layout": "IPY_MODEL_014b81ae692c4db1abb4de5ebe4c554c",
       "style": "IPY_MODEL_ac8c59c13a5f406eab4c4e5831aab8c5"
      }
     },
     "3fb718490de04afca4411b2acf4987e6": {
      "model_module": "@jupyter-widgets/base",
      "model_module_version": "1.1.0",
      "model_name": "LayoutModel",
      "state": {}
     },
     "3fb90a3282a44bb1b6810e5cba75ebc1": {
      "model_module": "@jupyter-widgets/controls",
      "model_module_version": "1.4.0",
      "model_name": "HBoxModel",
      "state": {
       "children": [
        "IPY_MODEL_0f26c8afca96402aa66b81bc451a3559",
        "IPY_MODEL_cd02878c94fa4261b5a2f0b343ac62bb",
        "IPY_MODEL_29a5ffd39c2f4cfbbb7189829553bcde",
        "IPY_MODEL_ebb77dc0261f4b568809a80141cc5e95",
        "IPY_MODEL_4b259b5b03184b90a070f5f191d66806"
       ],
       "layout": "IPY_MODEL_6a7a36202cba49eb8397c164b18c614b"
      }
     },
     "3fcf20770fa04a8f99220ecff57a919c": {
      "model_module": "@jupyter-widgets/controls",
      "model_module_version": "1.4.0",
      "model_name": "FloatTextModel",
      "state": {
       "layout": "IPY_MODEL_ed2d8c9e95644c48982990fdeaf43bbe",
       "step": null,
       "style": "IPY_MODEL_03aea743d5e74fc58ade7e8bd43412e5",
       "value": 2225
      }
     },
     "3fe63ac60ab64ded984e9abeeff7abf5": {
      "model_module": "@jupyter-widgets/controls",
      "model_module_version": "1.4.0",
      "model_name": "VBoxModel",
      "state": {
       "children": [
        "IPY_MODEL_1205db0490524afe8643ea75eac4d13f",
        "IPY_MODEL_f342b0e683a541f88af64b284dcd2a0f"
       ],
       "layout": "IPY_MODEL_0deef1dc66c5431fa7af43270cd27cbe"
      }
     },
     "3ff22a9f887a4c8fa9623d0ab0ef1724": {
      "model_module": "@jupyter-widgets/controls",
      "model_module_version": "1.4.0",
      "model_name": "DescriptionStyleModel",
      "state": {
       "description_width": ""
      }
     },
     "4022fdb8345a466281cb4fb4e0f5a38e": {
      "model_module": "@jupyter-widgets/controls",
      "model_module_version": "1.4.0",
      "model_name": "LabelModel",
      "state": {
       "layout": "IPY_MODEL_9556274e90b64a4bb51b8e1a2eb0462e",
       "style": "IPY_MODEL_e07f8d2fd0284db8ac22cb54ea409be1"
      }
     },
     "402c9bde36d74803b3e44a1d9d24a7bf": {
      "model_module": "@jupyter-widgets/controls",
      "model_module_version": "1.4.0",
      "model_name": "FloatTextModel",
      "state": {
       "disabled": true,
       "layout": "IPY_MODEL_1c3b4a0e02094103b9696eab44638dc6",
       "step": null,
       "style": "IPY_MODEL_78e89fda875349468498d5f62b2914a0",
       "value": -0.6
      }
     },
     "40791dfb3cc8474eb7d54e2189b6b60c": {
      "model_module": "@jupyter-widgets/base",
      "model_module_version": "1.1.0",
      "model_name": "LayoutModel",
      "state": {
       "width": "90px"
      }
     },
     "409aba40e57f41d5bb4f1379e4152d4e": {
      "model_module": "@jupyter-widgets/base",
      "model_module_version": "1.1.0",
      "model_name": "LayoutModel",
      "state": {}
     },
     "4112fde42af14183bbd1dc0f0588e5c3": {
      "model_module": "@jupyter-widgets/controls",
      "model_module_version": "1.4.0",
      "model_name": "DescriptionStyleModel",
      "state": {
       "description_width": ""
      }
     },
     "4115501ee8ec4fccaf278e05a7084396": {
      "model_module": "@jupyter-widgets/controls",
      "model_module_version": "1.4.0",
      "model_name": "HBoxModel",
      "state": {
       "children": [
        "IPY_MODEL_79f34c11930f44ef87434b7bbc4a62a2"
       ],
       "layout": "IPY_MODEL_25f2ec29d73b41f7a2dc273b04bff9ce"
      }
     },
     "414f93245d2d4a25887f5123fa09bf44": {
      "model_module": "@jupyter-widgets/controls",
      "model_module_version": "1.4.0",
      "model_name": "LabelModel",
      "state": {
       "layout": "IPY_MODEL_bcfa49fa72d34a4ea767dcb731e0630f",
       "style": "IPY_MODEL_cfac6a49ddc04836ab8776cb1d3b44a6",
       "value": "Aa's eigs:"
      }
     },
     "416b8f7b106846d0870026946b4f6b5a": {
      "model_module": "@jupyter-widgets/controls",
      "model_module_version": "1.4.0",
      "model_name": "DropdownModel",
      "state": {
       "_options_labels": [
        "0 complex eigenvalues",
        "2 complex eigenvalues"
       ],
       "description": "Aobs:",
       "disabled": true,
       "index": 0,
       "layout": "IPY_MODEL_77216fe31d084b58b18e146e8a6b8be1",
       "style": "IPY_MODEL_2d7547f1a371409793d7cc2e5f67d729"
      }
     },
     "417d4660c0684d73b14d876b04be9db0": {
      "model_module": "@jupyter-widgets/controls",
      "model_module_version": "1.4.0",
      "model_name": "LabelModel",
      "state": {
       "layout": "IPY_MODEL_5af2b1372db94701816de9d570d6af0d",
       "style": "IPY_MODEL_0c95743624f3406b94fdf24395f109ea",
       "value": "La:"
      }
     },
     "4255965f2e914f35bb60cb680011283c": {
      "model_module": "@jupyter-widgets/controls",
      "model_module_version": "1.4.0",
      "model_name": "DescriptionStyleModel",
      "state": {
       "description_width": ""
      }
     },
     "4270a3ab84d24c2a87739c20e2005d65": {
      "model_module": "@jupyter-widgets/base",
      "model_module_version": "1.1.0",
      "model_name": "LayoutModel",
      "state": {}
     },
     "4278af2ea2454105a0438aceb142c914": {
      "model_module": "@jupyter-widgets/controls",
      "model_module_version": "1.4.0",
      "model_name": "DescriptionStyleModel",
      "state": {
       "description_width": ""
      }
     },
     "427a705fa0bf44fca560fc285307c61f": {
      "model_module": "@jupyter-widgets/controls",
      "model_module_version": "1.4.0",
      "model_name": "LabelModel",
      "state": {
       "layout": "IPY_MODEL_31e2e456b00d48d490d2402eb557ec37",
       "style": "IPY_MODEL_375787cc30e24e26abe571c28c5b73b7"
      }
     },
     "4290b132dc4242809a5d43b88a892c72": {
      "model_module": "@jupyter-widgets/base",
      "model_module_version": "1.1.0",
      "model_name": "LayoutModel",
      "state": {}
     },
     "42984b879b2d416b85cd418d253039ed": {
      "model_module": "@jupyter-widgets/base",
      "model_module_version": "1.1.0",
      "model_name": "LayoutModel",
      "state": {}
     },
     "42a057f2f2d54c2580b4c3ae90d7ce09": {
      "model_module": "@jupyter-widgets/controls",
      "model_module_version": "1.4.0",
      "model_name": "LabelModel",
      "state": {
       "layout": "IPY_MODEL_4b53f46309d04356a1f1b6d49a909ef5",
       "style": "IPY_MODEL_8b87c03ea80e4a8496fef495518e5222"
      }
     },
     "42c5e51edfbf418ea107735f899209ac": {
      "model_module": "@jupyter-widgets/controls",
      "model_module_version": "1.4.0",
      "model_name": "HBoxModel",
      "state": {
       "children": [
        "IPY_MODEL_2b60f2474af2416cb1d242ccc4c6ddb3"
       ],
       "layout": "IPY_MODEL_ca355890e53a4b8bb1d0575dac3c1bfc"
      }
     },
     "43501d55a4fd47a6b16ef8b1b85e7d65": {
      "model_module": "@jupyter-widgets/base",
      "model_module_version": "1.1.0",
      "model_name": "LayoutModel",
      "state": {
       "width": "90px"
      }
     },
     "439dd39502fa4ee18378ac424aae7331": {
      "model_module": "@jupyter-widgets/controls",
      "model_module_version": "1.4.0",
      "model_name": "DescriptionStyleModel",
      "state": {
       "description_width": ""
      }
     },
     "43a0c9eb7bef445fa7bd7a3b3fc8b432": {
      "model_module": "@jupyter-widgets/base",
      "model_module_version": "1.1.0",
      "model_name": "LayoutModel",
      "state": {
       "width": "90px"
      }
     },
     "4490b6a17a204103a401af35e7fb2214": {
      "model_module": "@jupyter-widgets/controls",
      "model_module_version": "1.4.0",
      "model_name": "LabelModel",
      "state": {
       "layout": "IPY_MODEL_395984fd869345c3adad0f2e04cc2f9d",
       "style": "IPY_MODEL_1513832cf7b54c038400c36ff44ca0ef"
      }
     },
     "44ebb6efb3744575a1946cfd67255633": {
      "model_module": "@jupyter-widgets/controls",
      "model_module_version": "1.4.0",
      "model_name": "FloatTextModel",
      "state": {
       "layout": "IPY_MODEL_4cd17dd1a06d4b90ba7d4bbc88627449",
       "step": null,
       "style": "IPY_MODEL_3d1b0136b7ff46baa784387eceafc392"
      }
     },
     "45252723ac28472a970b95e3e6e933d5": {
      "model_module": "@jupyter-widgets/controls",
      "model_module_version": "1.4.0",
      "model_name": "DescriptionStyleModel",
      "state": {
       "description_width": ""
      }
     },
     "45c69bfc454c48e597a023be2fcf2369": {
      "model_module": "@jupyter-widgets/base",
      "model_module_version": "1.1.0",
      "model_name": "LayoutModel",
      "state": {}
     },
     "460300bb7cfb4e759ba669fd07f3b123": {
      "model_module": "@jupyter-widgets/base",
      "model_module_version": "1.1.0",
      "model_name": "LayoutModel",
      "state": {}
     },
     "461957a3da1741a79e15d991cb7034b3": {
      "model_module": "@jupyter-widgets/base",
      "model_module_version": "1.1.0",
      "model_name": "LayoutModel",
      "state": {
       "width": "90px"
      }
     },
     "472fafbcc5de4d8bbdea2c2f162640a3": {
      "model_module": "@jupyter-widgets/controls",
      "model_module_version": "1.4.0",
      "model_name": "LabelModel",
      "state": {
       "layout": "IPY_MODEL_4c9623fc7bca47c2936c988083e1ad51",
       "style": "IPY_MODEL_a35a317a47864a4bbdf20780013db7d8"
      }
     },
     "47598cf9791a4324b5119eb4da288b2f": {
      "model_module": "@jupyter-widgets/controls",
      "model_module_version": "1.4.0",
      "model_name": "DescriptionStyleModel",
      "state": {
       "description_width": ""
      }
     },
     "47aecddedfd64f07a36ec50b49227ec5": {
      "model_module": "@jupyter-widgets/base",
      "model_module_version": "1.1.0",
      "model_name": "LayoutModel",
      "state": {}
     },
     "480976956b5e49b29e0a8fb9ddc1311d": {
      "model_module": "@jupyter-widgets/base",
      "model_module_version": "1.1.0",
      "model_name": "LayoutModel",
      "state": {}
     },
     "481707a8f18e4ad6925355876653507c": {
      "model_module": "@jupyter-widgets/controls",
      "model_module_version": "1.4.0",
      "model_name": "FloatTextModel",
      "state": {
       "layout": "IPY_MODEL_43a0c9eb7bef445fa7bd7a3b3fc8b432",
       "step": null,
       "style": "IPY_MODEL_a428fbacff1a4a828a289047af365d41",
       "value": -10
      }
     },
     "4896fb1125f843749d6859f7cbe31ce0": {
      "model_module": "@jupyter-widgets/base",
      "model_module_version": "1.1.0",
      "model_name": "LayoutModel",
      "state": {}
     },
     "491cd4b112cf45e3aba71d0563e0768d": {
      "model_module": "@jupyter-widgets/base",
      "model_module_version": "1.1.0",
      "model_name": "LayoutModel",
      "state": {}
     },
     "4938fabbd6f84e558cdf38f0d008750d": {
      "model_module": "@jupyter-widgets/controls",
      "model_module_version": "1.4.0",
      "model_name": "FloatTextModel",
      "state": {
       "layout": "IPY_MODEL_cf7241c197e44ea78648dd7ece9cf032",
       "step": null,
       "style": "IPY_MODEL_f8067f8c672e4164a2165c0319b30ee6"
      }
     },
     "49bb0a8604b14c99a08b92915c5fc8d4": {
      "model_module": "@jupyter-widgets/base",
      "model_module_version": "1.1.0",
      "model_name": "LayoutModel",
      "state": {}
     },
     "4a170c180505407b9ea430c1cd492f2c": {
      "model_module": "@jupyter-widgets/base",
      "model_module_version": "1.1.0",
      "model_name": "LayoutModel",
      "state": {
       "width": "90px"
      }
     },
     "4a54fbb8de4440d9b0e3819d4cf15310": {
      "model_module": "@jupyter-widgets/controls",
      "model_module_version": "1.4.0",
      "model_name": "FloatTextModel",
      "state": {
       "layout": "IPY_MODEL_5a0c6b92ed2c43edb23183d8dacce8ff",
       "step": null,
       "style": "IPY_MODEL_1813f2fd50cb46aa9b888f8b5f8af0b2"
      }
     },
     "4a70bf95f528481b8ff74c3afd8143cc": {
      "model_module": "@jupyter-widgets/controls",
      "model_module_version": "1.4.0",
      "model_name": "LabelModel",
      "state": {
       "layout": "IPY_MODEL_64201b9e59164194b1346370c1c83cd4",
       "style": "IPY_MODEL_7bcae1bb58ed4f80aad0ed229811dd6f"
      }
     },
     "4b0f91c2788d4bc5b8ba3927f6b2b871": {
      "model_module": "@jupyter-widgets/controls",
      "model_module_version": "1.4.0",
      "model_name": "DropdownModel",
      "state": {
       "_options_labels": [
        "Set Ka and La",
        "Set the eigenvalues"
       ],
       "index": 0,
       "layout": "IPY_MODEL_13b8b4e1c72d4263a37e6d0db2857f38",
       "style": "IPY_MODEL_1499b17a4da64101a9270bd56fcd4356"
      }
     },
     "4b259b5b03184b90a070f5f191d66806": {
      "model_module": "@jupyter-widgets/controls",
      "model_module_version": "1.4.0",
      "model_name": "ButtonModel",
      "state": {
       "description": "Test",
       "icon": "check",
       "layout": "IPY_MODEL_fe99c96f7d5a47c689cfa08b35724327",
       "style": "IPY_MODEL_4cbc98ef5e9744df9a5215ea6d5c5a92",
       "tooltip": "Test"
      }
     },
     "4b53f46309d04356a1f1b6d49a909ef5": {
      "model_module": "@jupyter-widgets/base",
      "model_module_version": "1.1.0",
      "model_name": "LayoutModel",
      "state": {}
     },
     "4b6ed1f5b4e8433a9a93b2f387086660": {
      "model_module": "@jupyter-widgets/controls",
      "model_module_version": "1.4.0",
      "model_name": "HBoxModel",
      "state": {
       "children": [
        "IPY_MODEL_9d2107f7a8294bb5a1e31ad3096c399e",
        "IPY_MODEL_826635bf7c224e2fa9e2222e72dbf5a4",
        "IPY_MODEL_4def2e9f87e44960a0c9ad77a3d7dd0f"
       ],
       "layout": "IPY_MODEL_ff23ed97b5014a51ac0d66101e37cbb1"
      }
     },
     "4b7fe40ee3a5498084895bbb1dede424": {
      "model_module": "@jupyter-widgets/base",
      "model_module_version": "1.1.0",
      "model_name": "LayoutModel",
      "state": {
       "width": "90px"
      }
     },
     "4bdfb3011517401eace9dacb974b719c": {
      "model_module": "@jupyter-widgets/controls",
      "model_module_version": "1.4.0",
      "model_name": "DescriptionStyleModel",
      "state": {
       "description_width": ""
      }
     },
     "4c2c1962f1e24a4ead7d36ae79cc2236": {
      "model_module": "@jupyter-widgets/controls",
      "model_module_version": "1.4.0",
      "model_name": "DescriptionStyleModel",
      "state": {
       "description_width": ""
      }
     },
     "4c44c42077ed435898d338ddb0ba0436": {
      "model_module": "@jupyter-widgets/controls",
      "model_module_version": "1.4.0",
      "model_name": "DescriptionStyleModel",
      "state": {
       "description_width": ""
      }
     },
     "4c4a53b62fd44b28b1cce41d159b39bf": {
      "model_module": "@jupyter-widgets/base",
      "model_module_version": "1.1.0",
      "model_name": "LayoutModel",
      "state": {}
     },
     "4c88f970164e400a9fdb30163e7153f1": {
      "model_module": "@jupyter-widgets/controls",
      "model_module_version": "1.4.0",
      "model_name": "DescriptionStyleModel",
      "state": {
       "description_width": ""
      }
     },
     "4c8e37c41a2d416a8c037d763d6ba024": {
      "model_module": "@jupyter-widgets/controls",
      "model_module_version": "1.4.0",
      "model_name": "VBoxModel",
      "state": {
       "children": [
        "IPY_MODEL_ee6a33ca9388418faed0c5e29b4b9ad3"
       ],
       "layout": "IPY_MODEL_01bcc377646640c7a87abaf47a341335"
      }
     },
     "4c9623fc7bca47c2936c988083e1ad51": {
      "model_module": "@jupyter-widgets/base",
      "model_module_version": "1.1.0",
      "model_name": "LayoutModel",
      "state": {}
     },
     "4cb46cd0fbe245c188dd480c40e5a1d1": {
      "model_module": "@jupyter-widgets/base",
      "model_module_version": "1.1.0",
      "model_name": "LayoutModel",
      "state": {}
     },
     "4cbc98ef5e9744df9a5215ea6d5c5a92": {
      "model_module": "@jupyter-widgets/controls",
      "model_module_version": "1.4.0",
      "model_name": "ButtonStyleModel",
      "state": {}
     },
     "4cd17dd1a06d4b90ba7d4bbc88627449": {
      "model_module": "@jupyter-widgets/base",
      "model_module_version": "1.1.0",
      "model_name": "LayoutModel",
      "state": {
       "height": "0px",
       "width": "0px"
      }
     },
     "4d2f31be201045a6af6ff6ed5f2d6c7d": {
      "model_module": "@jupyter-widgets/controls",
      "model_module_version": "1.4.0",
      "model_name": "VBoxModel",
      "state": {
       "children": [
        "IPY_MODEL_d29d0b24a5734139942bdffc549f83e2",
        "IPY_MODEL_f86a60dda4fc42509dc33d6808857b59"
       ],
       "layout": "IPY_MODEL_bd94108b305f407c92c6883909612aa9"
      }
     },
     "4d59d06b755e49e1ac0c6d996a44da1e": {
      "model_module": "@jupyter-widgets/base",
      "model_module_version": "1.1.0",
      "model_name": "LayoutModel",
      "state": {}
     },
     "4ddaa11b8783416d8518d303745b09a7": {
      "model_module": "@jupyter-widgets/controls",
      "model_module_version": "1.4.0",
      "model_name": "LabelModel",
      "state": {
       "layout": "IPY_MODEL_9adf73266e5b41fca5ffa68f3c06d757",
       "style": "IPY_MODEL_8cd3e95c3acf4bdab4dfdc7205fe8fde"
      }
     },
     "4def2e9f87e44960a0c9ad77a3d7dd0f": {
      "model_module": "@jupyter-widgets/controls",
      "model_module_version": "1.4.0",
      "model_name": "DropdownModel",
      "state": {
       "_options_labels": [
        "0 complex eigenvalues",
        "2 complex eigenvalues"
       ],
       "description": "Aobs:",
       "disabled": true,
       "index": 0,
       "layout": "IPY_MODEL_a3e62160c9b54b1d8127e609d6602571",
       "style": "IPY_MODEL_cf52400e360c4a298036c4d771b8ae29"
      }
     },
     "4e069a3035154c4d8c0a47e5fe1f3b9b": {
      "model_module": "@jupyter-widgets/base",
      "model_module_version": "1.1.0",
      "model_name": "LayoutModel",
      "state": {}
     },
     "4e55b368a6894071936164175298b092": {
      "model_module": "@jupyter-widgets/base",
      "model_module_version": "1.1.0",
      "model_name": "LayoutModel",
      "state": {}
     },
     "4e67dcb5f4e6455f952604f8193dbae0": {
      "model_module": "@jupyter-widgets/base",
      "model_module_version": "1.1.0",
      "model_name": "LayoutModel",
      "state": {}
     },
     "4e79a7019f0e46f1b434fef2c9d752a4": {
      "model_module": "@jupyter-widgets/base",
      "model_module_version": "1.1.0",
      "model_name": "LayoutModel",
      "state": {
       "width": "90px"
      }
     },
     "4ec30f2860a74ef0a6f495243611dd88": {
      "model_module": "@jupyter-widgets/base",
      "model_module_version": "1.1.0",
      "model_name": "LayoutModel",
      "state": {}
     },
     "4ef500d8895b4bd3a5e040da5cad74a7": {
      "model_module": "@jupyter-widgets/controls",
      "model_module_version": "1.4.0",
      "model_name": "DescriptionStyleModel",
      "state": {
       "description_width": ""
      }
     },
     "4efaeb6c9bf841bfaef134c3c3b36e90": {
      "model_module": "@jupyter-widgets/base",
      "model_module_version": "1.1.0",
      "model_name": "LayoutModel",
      "state": {}
     },
     "4f1921a9f6484511a8d14907d72e0e23": {
      "model_module": "@jupyter-widgets/base",
      "model_module_version": "1.1.0",
      "model_name": "LayoutModel",
      "state": {}
     },
     "4f37e4abf7044e669b4f94075743f4dc": {
      "model_module": "@jupyter-widgets/controls",
      "model_module_version": "1.4.0",
      "model_name": "LabelModel",
      "state": {
       "layout": "IPY_MODEL_f9982efc85a34595ba056a20e5f29111",
       "style": "IPY_MODEL_cb3ccf44448e4da3abbc0bb88947e975"
      }
     },
     "4f760a5b774c4487878113061d5224d7": {
      "model_module": "@jupyter-widgets/base",
      "model_module_version": "1.1.0",
      "model_name": "LayoutModel",
      "state": {}
     },
     "4fb69747e2b94cc39379030795002c6b": {
      "model_module": "@jupyter-widgets/controls",
      "model_module_version": "1.4.0",
      "model_name": "DropdownModel",
      "state": {
       "_options_labels": [
        "Set Ka and La",
        "Set the eigenvalues"
       ],
       "index": 0,
       "layout": "IPY_MODEL_ada0e8828ac343df9e9760d6df6d9714",
       "style": "IPY_MODEL_c3862d402b5e4ae38fd7d2f0b2414ef0"
      }
     },
     "50979c39461b47e8bc2fd3cbcdd20729": {
      "model_module": "@jupyter-widgets/base",
      "model_module_version": "1.1.0",
      "model_name": "LayoutModel",
      "state": {}
     },
     "50b250cd0c344a809899fa9c03f47e6c": {
      "model_module": "@jupyter-widgets/base",
      "model_module_version": "1.1.0",
      "model_name": "LayoutModel",
      "state": {}
     },
     "50da8e9b3fe449d8bd0f82c813a0d190": {
      "model_module": "@jupyter-widgets/controls",
      "model_module_version": "1.4.0",
      "model_name": "HBoxModel",
      "state": {
       "children": [
        "IPY_MODEL_dd34ed0f11bf4739983f6875ef0c9382",
        "IPY_MODEL_6d68637432684016b0727f506afe0df5",
        "IPY_MODEL_f01b454caf0243f89fac5809d26d4cf2",
        "IPY_MODEL_3fe63ac60ab64ded984e9abeeff7abf5",
        "IPY_MODEL_317ee220faa84115bad387393653c51c",
        "IPY_MODEL_587e0f7d832d4ecc866fb0f39ea9d990",
        "IPY_MODEL_6f5919fe2a494d8092c2b109d3cb8dff",
        "IPY_MODEL_8011100f6a6b4ddc9ecbb972b727eaf7",
        "IPY_MODEL_b2d05cd7284844c9a283bfeaa163772d",
        "IPY_MODEL_a3c2a24a94aa456cbd6779a86c1f06ad",
        "IPY_MODEL_25be128dd26d4cd298247bbbc5bbe06a"
       ],
       "layout": "IPY_MODEL_dbb050e8d85846bf845411834a32a4c5"
      }
     },
     "5110c78f84674366b27efb186b131882": {
      "model_module": "@jupyter-widgets/controls",
      "model_module_version": "1.4.0",
      "model_name": "DescriptionStyleModel",
      "state": {
       "description_width": ""
      }
     },
     "518df1a391454a7b9ae94325ff2cd3b0": {
      "model_module": "@jupyter-widgets/base",
      "model_module_version": "1.1.0",
      "model_name": "LayoutModel",
      "state": {}
     },
     "51c5d8276bd747b39c3117b7fe0d1529": {
      "model_module": "@jupyter-widgets/base",
      "model_module_version": "1.1.0",
      "model_name": "LayoutModel",
      "state": {}
     },
     "5232c359d050473bbaf3e0e85f18eeb0": {
      "model_module": "@jupyter-widgets/controls",
      "model_module_version": "1.4.0",
      "model_name": "DescriptionStyleModel",
      "state": {
       "description_width": ""
      }
     },
     "5241a01ecea844bb9b680efbd89455ae": {
      "model_module": "@jupyter-widgets/controls",
      "model_module_version": "1.4.0",
      "model_name": "VBoxModel",
      "state": {
       "children": [
        "IPY_MODEL_f3e6fb5eb49042e08cb1f9909bc388ea",
        "IPY_MODEL_168bc40c3b9245fb833055cc8b0cf9d8",
        "IPY_MODEL_fa694349488843568882bce05ddefe64",
        "IPY_MODEL_543a7c0c9f434b2da64bf57122e7c4b5",
        "IPY_MODEL_ac58d08f3ce54afa8fe5fd6c045ae5af",
        "IPY_MODEL_94d262c9132f4dee8a1ebacba7959d25",
        "IPY_MODEL_5497c799c8b04c7bb967ac6f9b66af23"
       ],
       "layout": "IPY_MODEL_3a78eccc26a74ba981dce7448a66b11a"
      }
     },
     "524e523ee79e43c987c381c69c9afe85": {
      "model_module": "@jupyter-widgets/controls",
      "model_module_version": "1.4.0",
      "model_name": "DescriptionStyleModel",
      "state": {
       "description_width": ""
      }
     },
     "52536282f3184f26aed9ccb231e684c9": {
      "model_module": "@jupyter-widgets/base",
      "model_module_version": "1.1.0",
      "model_name": "LayoutModel",
      "state": {}
     },
     "526b7fddb1074a07a22a2925248f71e7": {
      "model_module": "@jupyter-widgets/controls",
      "model_module_version": "1.4.0",
      "model_name": "FloatTextModel",
      "state": {
       "layout": "IPY_MODEL_e6f9740ecb9c4b1e890dc2e32b0d34a7",
       "step": null,
       "style": "IPY_MODEL_0887c7cb985246f0bd413b295949e2d4"
      }
     },
     "52acf9658bbb43a0bb470d183fef21f7": {
      "model_module": "@jupyter-widgets/base",
      "model_module_version": "1.1.0",
      "model_name": "LayoutModel",
      "state": {}
     },
     "52d2c84751bb4e7cba68bcd9a091bba1": {
      "model_module": "@jupyter-widgets/base",
      "model_module_version": "1.1.0",
      "model_name": "LayoutModel",
      "state": {}
     },
     "5393a1ec3e0d47feb72f398a7cfa584e": {
      "model_module": "@jupyter-widgets/controls",
      "model_module_version": "1.4.0",
      "model_name": "ButtonModel",
      "state": {
       "description": "Test",
       "icon": "check",
       "layout": "IPY_MODEL_0dc42ed578324e9698fd4ff6083ef49b",
       "style": "IPY_MODEL_f9efcf465553492696c39a2edafe44fc",
       "tooltip": "Test"
      }
     },
     "53d173abcf8b4242ab7d38a319621de6": {
      "model_module": "@jupyter-widgets/base",
      "model_module_version": "1.1.0",
      "model_name": "LayoutModel",
      "state": {}
     },
     "5433f855b1e144bd9f99ee35a93dddd2": {
      "model_module": "@jupyter-widgets/controls",
      "model_module_version": "1.4.0",
      "model_name": "LabelModel",
      "state": {
       "layout": "IPY_MODEL_c6c48010219b4fb3bd1099d57920ba98",
       "style": "IPY_MODEL_690061d224354464bbf9acac7d551e8b",
       "value": "La:"
      }
     },
     "543a7c0c9f434b2da64bf57122e7c4b5": {
      "model_module": "@jupyter-widgets/controls",
      "model_module_version": "1.4.0",
      "model_name": "LabelModel",
      "state": {
       "layout": "IPY_MODEL_8d93505090b24b7392dd19fdafe1ebb7",
       "style": "IPY_MODEL_967ea0cea3b44232b483737bad238961"
      }
     },
     "5480124c50004a86b7b7cb590e0ac139": {
      "model_module": "@jupyter-widgets/base",
      "model_module_version": "1.1.0",
      "model_name": "LayoutModel",
      "state": {}
     },
     "5497c799c8b04c7bb967ac6f9b66af23": {
      "model_module": "@jupyter-widgets/controls",
      "model_module_version": "1.4.0",
      "model_name": "HBoxModel",
      "state": {
       "children": [
        "IPY_MODEL_0f26c8afca96402aa66b81bc451a3559",
        "IPY_MODEL_ab5d1f7943974b4ea254b5b26a1c85d8",
        "IPY_MODEL_072696cc4bea46d4b484be7695a09054",
        "IPY_MODEL_a9c2a999751c47b590d4150abf7bbb56",
        "IPY_MODEL_644ddd72b7234e6c90b95fcc50538cd5"
       ],
       "layout": "IPY_MODEL_ef440a7110ee47b08f272167ab804708"
      }
     },
     "54a95624e0a04f319da0e5b1221e8e55": {
      "model_module": "@jupyter-widgets/controls",
      "model_module_version": "1.4.0",
      "model_name": "DescriptionStyleModel",
      "state": {
       "description_width": ""
      }
     },
     "54be1d26068e4711a23c153183b65073": {
      "model_module": "@jupyter-widgets/controls",
      "model_module_version": "1.4.0",
      "model_name": "DescriptionStyleModel",
      "state": {
       "description_width": ""
      }
     },
     "554aed59f6334683b982c0431b17c297": {
      "model_module": "@jupyter-widgets/controls",
      "model_module_version": "1.4.0",
      "model_name": "FloatTextModel",
      "state": {
       "layout": "IPY_MODEL_5c1a1250913f409c967bf3e7477a6c22",
       "step": null,
       "style": "IPY_MODEL_1847186fe1ec42328cf7cbcf68a6b4db"
      }
     },
     "5555dc11b3b349c3afd005027d05a68b": {
      "model_module": "@jupyter-widgets/controls",
      "model_module_version": "1.4.0",
      "model_name": "LabelModel",
      "state": {
       "layout": "IPY_MODEL_d636b43c569f4fd99bb74ab2d8a9ca71",
       "style": "IPY_MODEL_3ce4a805f8a54027b572fe652407fe63"
      }
     },
     "555f1c8fd1be494ba25714e40361ee35": {
      "model_module": "@jupyter-widgets/controls",
      "model_module_version": "1.4.0",
      "model_name": "LabelModel",
      "state": {
       "layout": "IPY_MODEL_09c1c777399449b3a0a0b485453ab341",
       "style": "IPY_MODEL_febb6c29d5cb4d519b06da40a32c101c"
      }
     },
     "565da34ae18a4fc786b756dafbc04788": {
      "model_module": "@jupyter-widgets/controls",
      "model_module_version": "1.4.0",
      "model_name": "DescriptionStyleModel",
      "state": {
       "description_width": ""
      }
     },
     "56d0ad94a1ab41bf9b1226b301dc34c5": {
      "model_module": "@jupyter-widgets/controls",
      "model_module_version": "1.4.0",
      "model_name": "DescriptionStyleModel",
      "state": {
       "description_width": ""
      }
     },
     "5726c2125b484b7b9f531b64aad3748a": {
      "model_module": "@jupyter-widgets/base",
      "model_module_version": "1.1.0",
      "model_name": "LayoutModel",
      "state": {
       "width": "90px"
      }
     },
     "577aaa8c389e41888c3f64239f36e562": {
      "model_module": "@jupyter-widgets/controls",
      "model_module_version": "1.4.0",
      "model_name": "HBoxModel",
      "state": {
       "children": [
        "IPY_MODEL_6011560492ab4e37a4c7bf6ef2fe9c23",
        "IPY_MODEL_7f7d8c159bdc42c3aeffdc050655131b",
        "IPY_MODEL_9f2b0ec4d4034ae3ad81a74617b85dd9"
       ],
       "layout": "IPY_MODEL_c1df267ba8884d4089f041f8885d57a9"
      }
     },
     "57f647ac81c04c9e8d05a298607c024c": {
      "model_module": "@jupyter-widgets/controls",
      "model_module_version": "1.4.0",
      "model_name": "LabelModel",
      "state": {
       "layout": "IPY_MODEL_c83210e37cf143c6a1e10c38173aaf36",
       "style": "IPY_MODEL_2b099bf547704ef4a5d5b71337dae026"
      }
     },
     "580f187efa7642398bec0a2ae1ea2954": {
      "model_module": "@jupyter-widgets/base",
      "model_module_version": "1.1.0",
      "model_name": "LayoutModel",
      "state": {
       "width": "90px"
      }
     },
     "587e0f7d832d4ecc866fb0f39ea9d990": {
      "model_module": "@jupyter-widgets/controls",
      "model_module_version": "1.4.0",
      "model_name": "VBoxModel",
      "state": {
       "children": [
        "IPY_MODEL_a5628dd710ed40f0836562eea9957797"
       ],
       "layout": "IPY_MODEL_d602a0f11576447b8ef3d438d93728df"
      }
     },
     "58a2970073704e67a4a30380a7830767": {
      "model_module": "@jupyter-widgets/base",
      "model_module_version": "1.1.0",
      "model_name": "LayoutModel",
      "state": {}
     },
     "58dabb22e34a44d890df2e51d5b9a651": {
      "model_module": "@jupyter-widgets/controls",
      "model_module_version": "1.4.0",
      "model_name": "LabelModel",
      "state": {
       "layout": "IPY_MODEL_865c7e9a6659400080d4e6b55eadd65c",
       "style": "IPY_MODEL_21959bf2c265467dbf5cac2aaf1816e0"
      }
     },
     "59ebaba388dc4577ada44ad233f34d00": {
      "model_module": "@jupyter-widgets/base",
      "model_module_version": "1.1.0",
      "model_name": "LayoutModel",
      "state": {}
     },
     "59ec2c46649641599ebed481a8758b4f": {
      "model_module": "@jupyter-widgets/controls",
      "model_module_version": "1.4.0",
      "model_name": "LabelModel",
      "state": {
       "layout": "IPY_MODEL_1df123d7b60c4f70bfaa95a3a98028b2",
       "style": "IPY_MODEL_996a0fc2c31d488089176d41d8206f99"
      }
     },
     "59fa07d6295e403fb187b29b6a589349": {
      "model_module": "@jupyter-widgets/controls",
      "model_module_version": "1.4.0",
      "model_name": "DescriptionStyleModel",
      "state": {
       "description_width": ""
      }
     },
     "5a0c6b92ed2c43edb23183d8dacce8ff": {
      "model_module": "@jupyter-widgets/base",
      "model_module_version": "1.1.0",
      "model_name": "LayoutModel",
      "state": {
       "height": "0px",
       "width": "0px"
      }
     },
     "5a490e92a1344cf0abc18bf0425bbb92": {
      "model_module": "@jupyter-widgets/controls",
      "model_module_version": "1.4.0",
      "model_name": "DescriptionStyleModel",
      "state": {
       "description_width": ""
      }
     },
     "5a867080f23547f5ba9fce9c078589d9": {
      "model_module": "@jupyter-widgets/controls",
      "model_module_version": "1.4.0",
      "model_name": "DescriptionStyleModel",
      "state": {
       "description_width": ""
      }
     },
     "5af2b1372db94701816de9d570d6af0d": {
      "model_module": "@jupyter-widgets/base",
      "model_module_version": "1.1.0",
      "model_name": "LayoutModel",
      "state": {}
     },
     "5b2fc3f1aef246b3b6b674a954b252c7": {
      "model_module": "@jupyter-widgets/controls",
      "model_module_version": "1.4.0",
      "model_name": "ButtonStyleModel",
      "state": {}
     },
     "5b395b3d7f904213b837ead1c36a16d9": {
      "model_module": "@jupyter-widgets/controls",
      "model_module_version": "1.4.0",
      "model_name": "DropdownModel",
      "state": {
       "_options_labels": [
        "0 complex eigenvalues",
        "2 complex eigenvalues"
       ],
       "description": "Aobs:",
       "disabled": true,
       "index": 0,
       "layout": "IPY_MODEL_4e67dcb5f4e6455f952604f8193dbae0",
       "style": "IPY_MODEL_7ee747b400ad462e8ac9835d6e19339a"
      }
     },
     "5b85b3143bdd4151baf0b1b98839a627": {
      "model_module": "@jupyter-widgets/controls",
      "model_module_version": "1.4.0",
      "model_name": "LabelModel",
      "state": {
       "layout": "IPY_MODEL_4efaeb6c9bf841bfaef134c3c3b36e90",
       "style": "IPY_MODEL_17cebb2684274838bfed4999e9fbd809",
       "value": "Aa's eigs:"
      }
     },
     "5bb3813b66d04d2e8d925c77a06ea469": {
      "model_module": "@jupyter-widgets/base",
      "model_module_version": "1.1.0",
      "model_name": "LayoutModel",
      "state": {}
     },
     "5c1a1250913f409c967bf3e7477a6c22": {
      "model_module": "@jupyter-widgets/base",
      "model_module_version": "1.1.0",
      "model_name": "LayoutModel",
      "state": {
       "width": "90px"
      }
     },
     "5c81d6ad649d4942907fecd01757d79a": {
      "model_module": "@jupyter-widgets/controls",
      "model_module_version": "1.4.0",
      "model_name": "LabelModel",
      "state": {
       "layout": "IPY_MODEL_6f3325c696374e7ba2fefe95a423c990",
       "style": "IPY_MODEL_c422d11f60d5455bae304a583648d393"
      }
     },
     "5ca9d6cfbf1e4f5a95615e0dba52d25b": {
      "model_module": "@jupyter-widgets/controls",
      "model_module_version": "1.4.0",
      "model_name": "FloatTextModel",
      "state": {
       "layout": "IPY_MODEL_fe865e4851b4495a95e3dc2cc31cfaa9",
       "step": null,
       "style": "IPY_MODEL_5e00d94431b1401bba0ff47010421a7a",
       "value": 13861
      }
     },
     "5cf0c5c499384c6f96f84a0eae53b53c": {
      "model_module": "@jupyter-widgets/base",
      "model_module_version": "1.1.0",
      "model_name": "LayoutModel",
      "state": {
       "width": "90px"
      }
     },
     "5d2586944fee45ffa773e7d3ad5c2d02": {
      "model_module": "@jupyter-widgets/controls",
      "model_module_version": "1.4.0",
      "model_name": "LabelModel",
      "state": {
       "layout": "IPY_MODEL_f9e272cddc0d46a8b29b88bc2031a7b6",
       "style": "IPY_MODEL_0e00eb2261824321ba3db263816e459b"
      }
     },
     "5d4ef33cadc94f08ace19b791efefc1e": {
      "model_module": "@jupyter-widgets/base",
      "model_module_version": "1.1.0",
      "model_name": "LayoutModel",
      "state": {}
     },
     "5d6ef847aa5b48c8a1d6f71e115505d6": {
      "model_module": "@jupyter-widgets/base",
      "model_module_version": "1.1.0",
      "model_name": "LayoutModel",
      "state": {}
     },
     "5de9a778360a49198d5e6e1e23bc58d3": {
      "model_module": "@jupyter-widgets/controls",
      "model_module_version": "1.4.0",
      "model_name": "VBoxModel",
      "state": {
       "children": [
        "IPY_MODEL_7de4c30003744cce8d20d24d1bf5bb23",
        "IPY_MODEL_882808f04e1648329b3ae5a769379755"
       ],
       "layout": "IPY_MODEL_22d7fc6100c34ec68f93bd5a4fa77bce"
      }
     },
     "5e00d94431b1401bba0ff47010421a7a": {
      "model_module": "@jupyter-widgets/controls",
      "model_module_version": "1.4.0",
      "model_name": "DescriptionStyleModel",
      "state": {
       "description_width": ""
      }
     },
     "5e19f43ea55f42219de81bad36116894": {
      "model_module": "@jupyter-widgets/controls",
      "model_module_version": "1.4.0",
      "model_name": "DescriptionStyleModel",
      "state": {
       "description_width": ""
      }
     },
     "5e5ca3c81ee24215909e7e2b23040bdd": {
      "model_module": "@jupyter-widgets/base",
      "model_module_version": "1.1.0",
      "model_name": "LayoutModel",
      "state": {}
     },
     "5e837cafb6a844dd926b00ccdd43440d": {
      "model_module": "@jupyter-widgets/base",
      "model_module_version": "1.1.0",
      "model_name": "LayoutModel",
      "state": {}
     },
     "5e9531f6af9b44a5acb5ee578ef622a0": {
      "model_module": "@jupyter-widgets/controls",
      "model_module_version": "1.4.0",
      "model_name": "DescriptionStyleModel",
      "state": {
       "description_width": ""
      }
     },
     "5e97027777614640b556526766aab474": {
      "model_module": "@jupyter-widgets/controls",
      "model_module_version": "1.4.0",
      "model_name": "DescriptionStyleModel",
      "state": {
       "description_width": ""
      }
     },
     "5f4fd9d6e5fc4790959289c680e862cf": {
      "model_module": "@jupyter-widgets/controls",
      "model_module_version": "1.4.0",
      "model_name": "LabelModel",
      "state": {
       "layout": "IPY_MODEL_3233aafe18be46e7a62f972550b668ba",
       "style": "IPY_MODEL_cb9817ceda68404cbe65210d6c0e84ad",
       "value": "Aa's eigs:"
      }
     },
     "5f6179517cf942c9a57020ef64c975a6": {
      "model_module": "@jupyter-widgets/controls",
      "model_module_version": "1.4.0",
      "model_name": "VBoxModel",
      "state": {
       "children": [
        "IPY_MODEL_0a176961dc994c7d85ace2bb0be6e5fc"
       ],
       "layout": "IPY_MODEL_2f9198fbd0b341cf8d4432260b3fa514"
      }
     },
     "5fd329d9eb304ad5a6bce400ae2719bd": {
      "model_module": "@jupyter-widgets/base",
      "model_module_version": "1.1.0",
      "model_name": "LayoutModel",
      "state": {}
     },
     "6011560492ab4e37a4c7bf6ef2fe9c23": {
      "model_module": "@jupyter-widgets/controls",
      "model_module_version": "1.4.0",
      "model_name": "FloatTextModel",
      "state": {
       "layout": "IPY_MODEL_caa6f261eca948c6b258eef4da69c2e3",
       "step": null,
       "style": "IPY_MODEL_565da34ae18a4fc786b756dafbc04788"
      }
     },
     "602f92a285884868bacf7120c085d472": {
      "model_module": "@jupyter-widgets/controls",
      "model_module_version": "1.4.0",
      "model_name": "DescriptionStyleModel",
      "state": {
       "description_width": ""
      }
     },
     "60b41869c40d4bd39090be64275ae341": {
      "model_module": "@jupyter-widgets/base",
      "model_module_version": "1.1.0",
      "model_name": "LayoutModel",
      "state": {}
     },
     "60cdc74037934e1eb900c2994a7fd6fa": {
      "model_module": "@jupyter-widgets/base",
      "model_module_version": "1.1.0",
      "model_name": "LayoutModel",
      "state": {}
     },
     "6157e5ac18a04380bfcdf3e5360c1f10": {
      "model_module": "@jupyter-widgets/controls",
      "model_module_version": "1.4.0",
      "model_name": "FloatTextModel",
      "state": {
       "disabled": true,
       "layout": "IPY_MODEL_4e79a7019f0e46f1b434fef2c9d752a4",
       "step": null,
       "style": "IPY_MODEL_74043b22bf0a41998bb66498b4bef156",
       "value": -0.6
      }
     },
     "61c6a8a15add4ded9fd4e987a755ab38": {
      "model_module": "@jupyter-widgets/controls",
      "model_module_version": "1.4.0",
      "model_name": "HBoxModel",
      "state": {
       "children": [
        "IPY_MODEL_4b0f91c2788d4bc5b8ba3927f6b2b871",
        "IPY_MODEL_9c5f455366254c98bcb2a632ba62746f",
        "IPY_MODEL_99e3340dccac4f1a9ed489a4bb4d53b8"
       ],
       "layout": "IPY_MODEL_7a5bb58e5cf945d5883300d227b2e802"
      }
     },
     "628ee5ba78994b169e2e9670c25e3f71": {
      "model_module": "@jupyter-widgets/controls",
      "model_module_version": "1.4.0",
      "model_name": "DescriptionStyleModel",
      "state": {
       "description_width": ""
      }
     },
     "62d546d4642b403fb7e1f9e62e818f03": {
      "model_module": "@jupyter-widgets/base",
      "model_module_version": "1.1.0",
      "model_name": "LayoutModel",
      "state": {}
     },
     "62df66a2062b4fb6b65a3ec5bd498614": {
      "model_module": "@jupyter-widgets/base",
      "model_module_version": "1.1.0",
      "model_name": "LayoutModel",
      "state": {
       "width": "90px"
      }
     },
     "6313022924144436af1f7f4cd8e9779c": {
      "model_module": "@jupyter-widgets/controls",
      "model_module_version": "1.4.0",
      "model_name": "FloatTextModel",
      "state": {
       "layout": "IPY_MODEL_3b285e8c99594a9d846cf082b34290f0",
       "step": null,
       "style": "IPY_MODEL_e4959a4ff1d6428da5531fb2bf42b5eb",
       "value": -10
      }
     },
     "63256349f2f3454c8059f5412b0862a7": {
      "model_module": "@jupyter-widgets/base",
      "model_module_version": "1.1.0",
      "model_name": "LayoutModel",
      "state": {}
     },
     "637824522a5343b0944c5428ef57aa0e": {
      "model_module": "@jupyter-widgets/base",
      "model_module_version": "1.1.0",
      "model_name": "LayoutModel",
      "state": {}
     },
     "6379b256d4304329ae701b41c39b671f": {
      "model_module": "@jupyter-widgets/controls",
      "model_module_version": "1.4.0",
      "model_name": "LabelModel",
      "state": {
       "layout": "IPY_MODEL_00bcf6e5f88d4478b2238275ce14a469",
       "style": "IPY_MODEL_67c65455a284481fb5d3debce14b1bda"
      }
     },
     "63bd776089dc4508bd21c8789ad803bb": {
      "model_module": "@jupyter-widgets/controls",
      "model_module_version": "1.4.0",
      "model_name": "DescriptionStyleModel",
      "state": {
       "description_width": ""
      }
     },
     "63f8d3b2a0994c6a87843ac859f6b4cf": {
      "model_module": "@jupyter-widgets/controls",
      "model_module_version": "1.4.0",
      "model_name": "DropdownModel",
      "state": {
       "_options_labels": [
        "Set Ka and La",
        "Set the eigenvalues"
       ],
       "index": 0,
       "layout": "IPY_MODEL_a4d1a29d08444259bc6ac049b78ec661",
       "style": "IPY_MODEL_8049641b56e14f94a6cdc101f458c699"
      }
     },
     "64201b9e59164194b1346370c1c83cd4": {
      "model_module": "@jupyter-widgets/base",
      "model_module_version": "1.1.0",
      "model_name": "LayoutModel",
      "state": {}
     },
     "644ddd72b7234e6c90b95fcc50538cd5": {
      "model_module": "@jupyter-widgets/controls",
      "model_module_version": "1.4.0",
      "model_name": "ButtonModel",
      "state": {
       "description": "Test",
       "icon": "check",
       "layout": "IPY_MODEL_37ecefc90ca24246a5e1f966458ec837",
       "style": "IPY_MODEL_5b2fc3f1aef246b3b6b674a954b252c7",
       "tooltip": "Test"
      }
     },
     "652517d930ef4076ae1a91b0e2a3be6c": {
      "model_module": "@jupyter-widgets/controls",
      "model_module_version": "1.4.0",
      "model_name": "DescriptionStyleModel",
      "state": {
       "description_width": ""
      }
     },
     "65deab75d13c4bf1bef36f3c38182f6b": {
      "model_module": "@jupyter-widgets/controls",
      "model_module_version": "1.4.0",
      "model_name": "DescriptionStyleModel",
      "state": {
       "description_width": ""
      }
     },
     "6672827f1251434cafa61ba9bb202373": {
      "model_module": "@jupyter-widgets/base",
      "model_module_version": "1.1.0",
      "model_name": "LayoutModel",
      "state": {}
     },
     "668d43e659984f9c83d702a230efee49": {
      "model_module": "@jupyter-widgets/base",
      "model_module_version": "1.1.0",
      "model_name": "LayoutModel",
      "state": {
       "width": "90px"
      }
     },
     "66b0c1e2ed6d42b4934c79d6d7cb6bc6": {
      "model_module": "@jupyter-widgets/controls",
      "model_module_version": "1.4.0",
      "model_name": "DescriptionStyleModel",
      "state": {
       "description_width": ""
      }
     },
     "678800f9d35b4543892ff9d4b8c3009b": {
      "model_module": "@jupyter-widgets/controls",
      "model_module_version": "1.4.0",
      "model_name": "FloatTextModel",
      "state": {
       "layout": "IPY_MODEL_69bc40c1e3664a96baf1c35ecb11fd7d",
       "step": null,
       "style": "IPY_MODEL_c7b00e61644b476db2435289f46ce89e"
      }
     },
     "67a96f99e9b841eaaff526b823dd21aa": {
      "model_module": "@jupyter-widgets/controls",
      "model_module_version": "1.4.0",
      "model_name": "LabelModel",
      "state": {
       "layout": "IPY_MODEL_01dc0a5c652f458280935dd0ec1df02e",
       "style": "IPY_MODEL_885e5afc93a543b28ab8ce2723aba576"
      }
     },
     "67c65455a284481fb5d3debce14b1bda": {
      "model_module": "@jupyter-widgets/controls",
      "model_module_version": "1.4.0",
      "model_name": "DescriptionStyleModel",
      "state": {
       "description_width": ""
      }
     },
     "67eca683eeac421c9b2621d685db768f": {
      "model_module": "@jupyter-widgets/controls",
      "model_module_version": "1.4.0",
      "model_name": "LabelModel",
      "state": {
       "layout": "IPY_MODEL_3fb718490de04afca4411b2acf4987e6",
       "style": "IPY_MODEL_54be1d26068e4711a23c153183b65073",
       "value": "La:"
      }
     },
     "67fdcd9c576d486ab16af60e71f00dec": {
      "model_module": "@jupyter-widgets/base",
      "model_module_version": "1.1.0",
      "model_name": "LayoutModel",
      "state": {}
     },
     "6813d187c1be497cb6ed99d0f1315fb5": {
      "model_module": "@jupyter-widgets/controls",
      "model_module_version": "1.4.0",
      "model_name": "LabelModel",
      "state": {
       "layout": "IPY_MODEL_acce651c42c84a9894a543393f8a167c",
       "style": "IPY_MODEL_286c6d083d32468c8da6d9a651c6a4cb"
      }
     },
     "68537adbed234b189596496e5d19778e": {
      "model_module": "@jupyter-widgets/controls",
      "model_module_version": "1.4.0",
      "model_name": "DescriptionStyleModel",
      "state": {
       "description_width": ""
      }
     },
     "68cb20eccc494d0e897dfcc89aa2b844": {
      "model_module": "@jupyter-widgets/controls",
      "model_module_version": "1.4.0",
      "model_name": "FloatTextModel",
      "state": {
       "layout": "IPY_MODEL_de50dcc76518449ca4190d0da5b78f9d",
       "step": null,
       "style": "IPY_MODEL_19b8bdf890664f71885c84f552c3f3c0",
       "value": -1
      }
     },
     "68d3152ea522432d8b26d8ef18d3a3f0": {
      "model_module": "@jupyter-widgets/base",
      "model_module_version": "1.1.0",
      "model_name": "LayoutModel",
      "state": {
       "width": "90px"
      }
     },
     "690061d224354464bbf9acac7d551e8b": {
      "model_module": "@jupyter-widgets/controls",
      "model_module_version": "1.4.0",
      "model_name": "DescriptionStyleModel",
      "state": {
       "description_width": ""
      }
     },
     "694dd07aee66466bb45bfff329e60483": {
      "model_module": "@jupyter-widgets/base",
      "model_module_version": "1.1.0",
      "model_name": "LayoutModel",
      "state": {}
     },
     "69596f18125f465a842253c4a56b8254": {
      "model_module": "@jupyter-widgets/controls",
      "model_module_version": "1.4.0",
      "model_name": "DescriptionStyleModel",
      "state": {
       "description_width": ""
      }
     },
     "699c82ce7721494b827c9191334677f0": {
      "model_module": "@jupyter-widgets/base",
      "model_module_version": "1.1.0",
      "model_name": "LayoutModel",
      "state": {}
     },
     "69bc40c1e3664a96baf1c35ecb11fd7d": {
      "model_module": "@jupyter-widgets/base",
      "model_module_version": "1.1.0",
      "model_name": "LayoutModel",
      "state": {
       "width": "90px"
      }
     },
     "6a7a36202cba49eb8397c164b18c614b": {
      "model_module": "@jupyter-widgets/base",
      "model_module_version": "1.1.0",
      "model_name": "LayoutModel",
      "state": {}
     },
     "6aa250d5c0944d639991a61220a87849": {
      "model_module": "@jupyter-widgets/base",
      "model_module_version": "1.1.0",
      "model_name": "LayoutModel",
      "state": {}
     },
     "6b1eb3d2914f436ebdc338c44a701edf": {
      "model_module": "@jupyter-widgets/base",
      "model_module_version": "1.1.0",
      "model_name": "LayoutModel",
      "state": {}
     },
     "6b9803e06bfc477592188dfb15adc5d6": {
      "model_module": "@jupyter-widgets/controls",
      "model_module_version": "1.4.0",
      "model_name": "HBoxModel",
      "state": {
       "children": [
        "IPY_MODEL_c8e3b70f79e64a5a899729030d7b6963"
       ],
       "layout": "IPY_MODEL_67fdcd9c576d486ab16af60e71f00dec"
      }
     },
     "6bdb46374a01452f878caf37f3b7dc57": {
      "model_module": "@jupyter-widgets/base",
      "model_module_version": "1.1.0",
      "model_name": "LayoutModel",
      "state": {}
     },
     "6c5bde8b5bac48509228c5bee9f36bbd": {
      "model_module": "@jupyter-widgets/base",
      "model_module_version": "1.1.0",
      "model_name": "LayoutModel",
      "state": {}
     },
     "6caafdd1e1cd4b19a7eeab28deadac64": {
      "model_module": "@jupyter-widgets/controls",
      "model_module_version": "1.4.0",
      "model_name": "HBoxModel",
      "state": {
       "children": [
        "IPY_MODEL_faefe63476c24a01aaf13a0d22a20e41",
        "IPY_MODEL_e5ea03176a6d413cbda448812f9f9fac",
        "IPY_MODEL_795fd5c2cf384cbc84210d4663ce475b"
       ],
       "layout": "IPY_MODEL_50b250cd0c344a809899fa9c03f47e6c"
      }
     },
     "6ccca8cd1dd94a44bbc5840816353ae3": {
      "model_module": "@jupyter-widgets/controls",
      "model_module_version": "1.4.0",
      "model_name": "FloatTextModel",
      "state": {
       "disabled": true,
       "layout": "IPY_MODEL_4a170c180505407b9ea430c1cd492f2c",
       "step": null,
       "style": "IPY_MODEL_3a6b565f3ce4429b83a21e3d564ff894",
       "value": -0.35
      }
     },
     "6d50e2c21b10474f969fa3e17a94ff8c": {
      "model_module": "@jupyter-widgets/controls",
      "model_module_version": "1.4.0",
      "model_name": "SliderStyleModel",
      "state": {
       "description_width": ""
      }
     },
     "6d68637432684016b0727f506afe0df5": {
      "model_module": "@jupyter-widgets/controls",
      "model_module_version": "1.4.0",
      "model_name": "VBoxModel",
      "state": {
       "children": [
        "IPY_MODEL_6b9803e06bfc477592188dfb15adc5d6"
       ],
       "layout": "IPY_MODEL_90b70496121147c0a1e387dee2f323b8"
      }
     },
     "6db5adb08c1948be8929194ebea1a7e7": {
      "model_module": "@jupyter-widgets/controls",
      "model_module_version": "1.4.0",
      "model_name": "FloatTextModel",
      "state": {
       "layout": "IPY_MODEL_43501d55a4fd47a6b16ef8b1b85e7d65",
       "step": null,
       "style": "IPY_MODEL_86f0283019914320900a091de5704fd1",
       "value": -1
      }
     },
     "6e7e97282d8646a99e47bb6ba752331d": {
      "model_module": "@jupyter-widgets/controls",
      "model_module_version": "1.4.0",
      "model_name": "LabelModel",
      "state": {
       "layout": "IPY_MODEL_52acf9658bbb43a0bb470d183fef21f7",
       "style": "IPY_MODEL_d27c9566e96940a7806b2168e19f1ce9"
      }
     },
     "6ebbbf84215946a39d42606ed8a7c1f2": {
      "model_module": "@jupyter-widgets/controls",
      "model_module_version": "1.4.0",
      "model_name": "FloatTextModel",
      "state": {
       "layout": "IPY_MODEL_184b23bb39dd4047977c1005e03a95c0",
       "step": null,
       "style": "IPY_MODEL_0c7ccc0d90d14893a1798e9bec0ccfad",
       "value": -13.333333333333334
      }
     },
     "6ebe86c6b2624222a1c2427ed2c6bb6e": {
      "model_module": "@jupyter-widgets/base",
      "model_module_version": "1.1.0",
      "model_name": "LayoutModel",
      "state": {}
     },
     "6ed5ec8dc40b4d3cb6058441525e4f2d": {
      "model_module": "@jupyter-widgets/base",
      "model_module_version": "1.1.0",
      "model_name": "LayoutModel",
      "state": {
       "width": "90px"
      }
     },
     "6f10c2a2cc4f4d5cb7cd361d5fd117bb": {
      "model_module": "@jupyter-widgets/base",
      "model_module_version": "1.1.0",
      "model_name": "LayoutModel",
      "state": {}
     },
     "6f3325c696374e7ba2fefe95a423c990": {
      "model_module": "@jupyter-widgets/base",
      "model_module_version": "1.1.0",
      "model_name": "LayoutModel",
      "state": {}
     },
     "6f5919fe2a494d8092c2b109d3cb8dff": {
      "model_module": "@jupyter-widgets/controls",
      "model_module_version": "1.4.0",
      "model_name": "LabelModel",
      "state": {
       "layout": "IPY_MODEL_91f3e31e4795465f9f5adb9155b2d603",
       "style": "IPY_MODEL_e7631457cbcc4012bd350f9a84cef00c"
      }
     },
     "6f5b16ca245c4071ab3278214307b695": {
      "model_module": "@jupyter-widgets/base",
      "model_module_version": "1.1.0",
      "model_name": "LayoutModel",
      "state": {}
     },
     "6f85f9a4db194b509b78ff37a0f3f35a": {
      "model_module": "@jupyter-widgets/controls",
      "model_module_version": "1.4.0",
      "model_name": "HBoxModel",
      "state": {
       "children": [
        "IPY_MODEL_ef1dd140766840bb8e931471f5f301c9"
       ],
       "layout": "IPY_MODEL_0fdc2e9573724ffca381dcdc06cfb1b0"
      }
     },
     "703688b40d404ccbae95be27274af0cd": {
      "model_module": "@jupyter-widgets/controls",
      "model_module_version": "1.4.0",
      "model_name": "HBoxModel",
      "state": {
       "children": [
        "IPY_MODEL_554aed59f6334683b982c0431b17c297",
        "IPY_MODEL_9efb9c3136cb4814bbbbb397033e6d24",
        "IPY_MODEL_171a1b1507054bbfbefb5a2121471844"
       ],
       "layout": "IPY_MODEL_30c069a9f1e64b8fa42c228c79bc01d4"
      }
     },
     "70d8d323e1e7445ea9fe3e32ee56bd7f": {
      "model_module": "@jupyter-widgets/base",
      "model_module_version": "1.1.0",
      "model_name": "LayoutModel",
      "state": {}
     },
     "728c92f846734c939fcd10d6e4ef68e3": {
      "model_module": "@jupyter-widgets/controls",
      "model_module_version": "1.4.0",
      "model_name": "DescriptionStyleModel",
      "state": {
       "description_width": ""
      }
     },
     "7293c820e63d4fa5a06348c87ef770e1": {
      "model_module": "@jupyter-widgets/controls",
      "model_module_version": "1.4.0",
      "model_name": "LabelModel",
      "state": {
       "layout": "IPY_MODEL_b7e50fc8f17b4abca78f401029a01bc2",
       "style": "IPY_MODEL_db0dab36d9de4171987fb292d7f515ea",
       "value": "La:"
      }
     },
     "72a35b0bc2d9418bb099da42dd65c976": {
      "model_module": "@jupyter-widgets/controls",
      "model_module_version": "1.4.0",
      "model_name": "DescriptionStyleModel",
      "state": {
       "description_width": ""
      }
     },
     "72d88d2553ac41c4ac690fe0e067324e": {
      "model_module": "@jupyter-widgets/base",
      "model_module_version": "1.1.0",
      "model_name": "LayoutModel",
      "state": {}
     },
     "72e031c0e7e349a0b081d2221742bd29": {
      "model_module": "@jupyter-widgets/base",
      "model_module_version": "1.1.0",
      "model_name": "LayoutModel",
      "state": {
       "width": "90px"
      }
     },
     "72e8f2c8610c47fd8096faa84eb921f8": {
      "model_module": "@jupyter-widgets/controls",
      "model_module_version": "1.4.0",
      "model_name": "LabelModel",
      "state": {
       "layout": "IPY_MODEL_0412e3d10df841038ecf3f8250e2b120",
       "style": "IPY_MODEL_0137a8c0e143408997be4713d0929fd0"
      }
     },
     "7371a287f94840aa829ef2d8d94c4853": {
      "model_module": "@jupyter-widgets/base",
      "model_module_version": "1.1.0",
      "model_name": "LayoutModel",
      "state": {}
     },
     "74043b22bf0a41998bb66498b4bef156": {
      "model_module": "@jupyter-widgets/controls",
      "model_module_version": "1.4.0",
      "model_name": "DescriptionStyleModel",
      "state": {
       "description_width": ""
      }
     },
     "74b2c32160214088bd33ae84127e92bc": {
      "model_module": "@jupyter-widgets/base",
      "model_module_version": "1.1.0",
      "model_name": "LayoutModel",
      "state": {
       "width": "90px"
      }
     },
     "74c94f204a60426bb3deb13977d4a89b": {
      "model_module": "@jupyter-widgets/controls",
      "model_module_version": "1.4.0",
      "model_name": "FloatTextModel",
      "state": {
       "layout": "IPY_MODEL_fdc20dbc4d12432c889e338ca9f4f2e0",
       "step": null,
       "style": "IPY_MODEL_075ef8840b254dfe8e812d7716b6f101",
       "value": -1
      }
     },
     "751f4dd6192f4b71b9ffc8b626f4ab84": {
      "model_module": "@jupyter-widgets/controls",
      "model_module_version": "1.4.0",
      "model_name": "HBoxModel",
      "state": {
       "children": [
        "IPY_MODEL_3967a131ab114f1d903a90585ec37c1b"
       ],
       "layout": "IPY_MODEL_edf2c458601a4c2986e9084a559dcd3a"
      }
     },
     "754e87a1a8c54875b3b917f54d2c9b58": {
      "model_module": "@jupyter-widgets/controls",
      "model_module_version": "1.4.0",
      "model_name": "DescriptionStyleModel",
      "state": {
       "description_width": ""
      }
     },
     "7571abb03f0040679517c6245bf38472": {
      "model_module": "@jupyter-widgets/controls",
      "model_module_version": "1.4.0",
      "model_name": "FloatTextModel",
      "state": {
       "layout": "IPY_MODEL_1356dd4e149949aa8da63f5c73164b03",
       "step": null,
       "style": "IPY_MODEL_5110c78f84674366b27efb186b131882",
       "value": 6244
      }
     },
     "75b5652b09e4461cb6a99471967a68ea": {
      "model_module": "@jupyter-widgets/controls",
      "model_module_version": "1.4.0",
      "model_name": "DescriptionStyleModel",
      "state": {
       "description_width": ""
      }
     },
     "75eb8481312149b8a778baff39c99828": {
      "model_module": "@jupyter-widgets/controls",
      "model_module_version": "1.4.0",
      "model_name": "DescriptionStyleModel",
      "state": {
       "description_width": ""
      }
     },
     "76017c8704c44e04825f3e352bacd669": {
      "model_module": "@jupyter-widgets/controls",
      "model_module_version": "1.4.0",
      "model_name": "DescriptionStyleModel",
      "state": {
       "description_width": ""
      }
     },
     "7637a14720e140b2bcd66ed4939ec5a9": {
      "model_module": "@jupyter-widgets/controls",
      "model_module_version": "1.4.0",
      "model_name": "HBoxModel",
      "state": {
       "children": [
        "IPY_MODEL_63f8d3b2a0994c6a87843ac859f6b4cf",
        "IPY_MODEL_d9674b7571de42baa745dd6b7c6ecbe8",
        "IPY_MODEL_b5581d35824c472bb9eaac0a5762f404"
       ],
       "layout": "IPY_MODEL_eed4b893f8914ebb9d38fb0d061e5369"
      }
     },
     "770bc17e71b2425a9baa0f95f322df5b": {
      "model_module": "@jupyter-widgets/base",
      "model_module_version": "1.1.0",
      "model_name": "LayoutModel",
      "state": {}
     },
     "77216fe31d084b58b18e146e8a6b8be1": {
      "model_module": "@jupyter-widgets/base",
      "model_module_version": "1.1.0",
      "model_name": "LayoutModel",
      "state": {}
     },
     "775ff011a0444c48b7e5fea4746a0b23": {
      "model_module": "@jupyter-widgets/controls",
      "model_module_version": "1.4.0",
      "model_name": "DescriptionStyleModel",
      "state": {
       "description_width": ""
      }
     },
     "7799c212da6243439092d8e652f3343a": {
      "model_module": "@jupyter-widgets/base",
      "model_module_version": "1.1.0",
      "model_name": "LayoutModel",
      "state": {}
     },
     "779c0d356e134116a834edf79e733609": {
      "model_module": "@jupyter-widgets/controls",
      "model_module_version": "1.4.0",
      "model_name": "DescriptionStyleModel",
      "state": {
       "description_width": ""
      }
     },
     "78331c89a55344a69e9fb04c10aee086": {
      "model_module": "@jupyter-widgets/controls",
      "model_module_version": "1.4.0",
      "model_name": "ButtonModel",
      "state": {
       "description": "Test",
       "icon": "check",
       "layout": "IPY_MODEL_a2ad8cd0ada14749b6cff38db8256c77",
       "style": "IPY_MODEL_7e93ef2d8c064e21ae0329b1f49e0037",
       "tooltip": "Test"
      }
     },
     "784694adeef14254b06506b91ca25387": {
      "model_module": "@jupyter-widgets/controls",
      "model_module_version": "1.4.0",
      "model_name": "FloatTextModel",
      "state": {
       "layout": "IPY_MODEL_e02b4d0e91cd456eb60b5d5243ba5cb5",
       "step": null,
       "style": "IPY_MODEL_b735c37b54aa43c8a0944fb020c85b42",
       "value": 316
      }
     },
     "78e0cf59f666429ba0b284f17cd837f0": {
      "model_module": "@jupyter-widgets/controls",
      "model_module_version": "1.4.0",
      "model_name": "DescriptionStyleModel",
      "state": {
       "description_width": ""
      }
     },
     "78e89fda875349468498d5f62b2914a0": {
      "model_module": "@jupyter-widgets/controls",
      "model_module_version": "1.4.0",
      "model_name": "DescriptionStyleModel",
      "state": {
       "description_width": ""
      }
     },
     "78faa778293e4233bc1fa7fd155fb559": {
      "model_module": "@jupyter-widgets/base",
      "model_module_version": "1.1.0",
      "model_name": "LayoutModel",
      "state": {}
     },
     "791fe235250446a6a034c1a07655e400": {
      "model_module": "@jupyter-widgets/base",
      "model_module_version": "1.1.0",
      "model_name": "LayoutModel",
      "state": {}
     },
     "7922325f544a4df3b7a664440ab450f3": {
      "model_module": "@jupyter-widgets/controls",
      "model_module_version": "1.4.0",
      "model_name": "DescriptionStyleModel",
      "state": {
       "description_width": ""
      }
     },
     "7959bdda77b0475b8c3a81a8686baf94": {
      "model_module": "@jupyter-widgets/controls",
      "model_module_version": "1.4.0",
      "model_name": "DescriptionStyleModel",
      "state": {
       "description_width": ""
      }
     },
     "795fd5c2cf384cbc84210d4663ce475b": {
      "model_module": "@jupyter-widgets/controls",
      "model_module_version": "1.4.0",
      "model_name": "DropdownModel",
      "state": {
       "_options_labels": [
        "0 complex eigenvalues",
        "2 complex eigenvalues"
       ],
       "description": "Aobs:",
       "disabled": true,
       "index": 0,
       "layout": "IPY_MODEL_ae2970f665224c9fbc4420c1cffb665d",
       "style": "IPY_MODEL_fe72029372074064a0a2d7f32b95cc43"
      }
     },
     "79f34c11930f44ef87434b7bbc4a62a2": {
      "model_module": "@jupyter-widgets/controls",
      "model_module_version": "1.4.0",
      "model_name": "FloatTextModel",
      "state": {
       "layout": "IPY_MODEL_c292b8874c4f4bcebed1c9a360df2964",
       "step": null,
       "style": "IPY_MODEL_f0784b65c1cf46f9af5e149ad2e1bf93",
       "value": -1
      }
     },
     "7a2c5d36b676498d86709b794261b2e5": {
      "model_module": "@jupyter-widgets/controls",
      "model_module_version": "1.4.0",
      "model_name": "VBoxModel",
      "state": {
       "children": [
        "IPY_MODEL_8b38ec716be944e0b46bf019ffd46326"
       ],
       "layout": "IPY_MODEL_1305375218104eaf84b665587f869b4a"
      }
     },
     "7a5bb58e5cf945d5883300d227b2e802": {
      "model_module": "@jupyter-widgets/base",
      "model_module_version": "1.1.0",
      "model_name": "LayoutModel",
      "state": {}
     },
     "7a5fad3a8ed14b8c8672e83a713b5ee7": {
      "model_module": "@jupyter-widgets/base",
      "model_module_version": "1.1.0",
      "model_name": "LayoutModel",
      "state": {}
     },
     "7a86b8685c0d4d4ab4dfd942b31e689e": {
      "model_module": "@jupyter-widgets/controls",
      "model_module_version": "1.4.0",
      "model_name": "DescriptionStyleModel",
      "state": {
       "description_width": ""
      }
     },
     "7a9f39ecd9174a5a8dc508b3f593a736": {
      "model_module": "@jupyter-widgets/base",
      "model_module_version": "1.1.0",
      "model_name": "LayoutModel",
      "state": {
       "width": "90px"
      }
     },
     "7acc1d43c7b04f48ada380ce26debb40": {
      "model_module": "@jupyter-widgets/controls",
      "model_module_version": "1.4.0",
      "model_name": "LabelModel",
      "state": {
       "layout": "IPY_MODEL_af33c6205ab247349a81557418e23272",
       "style": "IPY_MODEL_3560f888f8714d7380f8ec397da7b315"
      }
     },
     "7b620fcf26764dc59856cf8c17e225c6": {
      "model_module": "@jupyter-widgets/base",
      "model_module_version": "1.1.0",
      "model_name": "LayoutModel",
      "state": {}
     },
     "7b6fe30e232e400583497734a4b6a5c7": {
      "model_module": "@jupyter-widgets/controls",
      "model_module_version": "1.4.0",
      "model_name": "ButtonStyleModel",
      "state": {}
     },
     "7bcae1bb58ed4f80aad0ed229811dd6f": {
      "model_module": "@jupyter-widgets/controls",
      "model_module_version": "1.4.0",
      "model_name": "DescriptionStyleModel",
      "state": {
       "description_width": ""
      }
     },
     "7bec55103402411195944e1352e9ee8f": {
      "model_module": "@jupyter-widgets/controls",
      "model_module_version": "1.4.0",
      "model_name": "FloatTextModel",
      "state": {
       "layout": "IPY_MODEL_68d3152ea522432d8b26d8ef18d3a3f0",
       "step": null,
       "style": "IPY_MODEL_da90a50bcb3b4b1ab14fcb5e9ddde844",
       "value": -66.66666666666667
      }
     },
     "7c71e94f7fd8465382677754c8e6a982": {
      "model_module": "@jupyter-widgets/base",
      "model_module_version": "1.1.0",
      "model_name": "LayoutModel",
      "state": {}
     },
     "7c92b5b89e8b44fc9d282249225339c6": {
      "model_module": "@jupyter-widgets/controls",
      "model_module_version": "1.4.0",
      "model_name": "HBoxModel",
      "state": {
       "children": [
        "IPY_MODEL_74c94f204a60426bb3deb13977d4a89b"
       ],
       "layout": "IPY_MODEL_5d4ef33cadc94f08ace19b791efefc1e"
      }
     },
     "7d01dc2c0b4d48d98e763efa1f17a404": {
      "model_module": "@jupyter-widgets/controls",
      "model_module_version": "1.4.0",
      "model_name": "LabelModel",
      "state": {
       "layout": "IPY_MODEL_ace5b89dbb38430baaca9d95f8928041",
       "style": "IPY_MODEL_ba39f17a808848619246755a9efb4013"
      }
     },
     "7d2ee53e7c144fdb9bf865c1baf9fe1e": {
      "model_module": "@jupyter-widgets/controls",
      "model_module_version": "1.4.0",
      "model_name": "HBoxModel",
      "state": {
       "children": [
        "IPY_MODEL_0aa0bfe4046d4bbd9e3b8fc7e923c19e",
        "IPY_MODEL_eb895777800d4b5dad6593c98477136a",
        "IPY_MODEL_59ec2c46649641599ebed481a8758b4f",
        "IPY_MODEL_6379b256d4304329ae701b41c39b671f",
        "IPY_MODEL_a33161fb781f43298700965957684f1e"
       ],
       "layout": "IPY_MODEL_15cf45b6a5954be0ac6b6415d1d48bca"
      }
     },
     "7d35e7ff219645d8928897423c98458f": {
      "model_module": "@jupyter-widgets/controls",
      "model_module_version": "1.4.0",
      "model_name": "HBoxModel",
      "state": {
       "children": [
        "IPY_MODEL_093f7ad7ff10484c9dc83f64e83edf68",
        "IPY_MODEL_d15a903d9d274ec1921c31e4c33039b4",
        "IPY_MODEL_eda9ff75f90e4e86815627781902014a"
       ],
       "layout": "IPY_MODEL_955a72f962644df8bea0b03467a6d2e3"
      }
     },
     "7d56c23f8f9747278ec3ee7edb579413": {
      "model_module": "@jupyter-widgets/output",
      "model_module_version": "1.0.0",
      "model_name": "OutputModel",
      "state": {
       "layout": "IPY_MODEL_9a5f4e5b037a43a9b59844db56f0835f",
       "outputs": [
        {
         "name": "stdout",
         "output_type": "stream",
         "text": "The Aa's eigenvalues are: -2.24+2.23j, -2.24+-2.23j, -0.28+0.00j, -0.26+0.32j and -0.26+-0.32j\nThe observer\\s eigenvalues are: -10.00+0.00j and -10.00+0.00j\n"
        }
       ]
      }
     },
     "7d6a609ca45c4507b010733c5e884ae6": {
      "model_module": "@jupyter-widgets/controls",
      "model_module_version": "1.4.0",
      "model_name": "DescriptionStyleModel",
      "state": {
       "description_width": ""
      }
     },
     "7da585dfee764bdb8782ac35b6e142c6": {
      "model_module": "@jupyter-widgets/controls",
      "model_module_version": "1.4.0",
      "model_name": "DescriptionStyleModel",
      "state": {
       "description_width": ""
      }
     },
     "7de4c30003744cce8d20d24d1bf5bb23": {
      "model_module": "@jupyter-widgets/controls",
      "model_module_version": "1.4.0",
      "model_name": "HBoxModel",
      "state": {
       "children": [
        "IPY_MODEL_fe8d4c19a86346019352770ba2a10a08"
       ],
       "layout": "IPY_MODEL_14ee82ae6a44446aaf4a813482e9e609"
      }
     },
     "7e247cd9b0e54844af224969b6c41f28": {
      "model_module": "@jupyter-widgets/controls",
      "model_module_version": "1.4.0",
      "model_name": "LabelModel",
      "state": {
       "layout": "IPY_MODEL_8c6ff49f59ac4ae19bf1989f184e29e9",
       "style": "IPY_MODEL_4ef500d8895b4bd3a5e040da5cad74a7"
      }
     },
     "7e442b8c4332480e8548cbdceab3a51f": {
      "model_module": "@jupyter-widgets/base",
      "model_module_version": "1.1.0",
      "model_name": "LayoutModel",
      "state": {}
     },
     "7e4e7d01deec4ad28120e3a5353c32be": {
      "model_module": "@jupyter-widgets/controls",
      "model_module_version": "1.4.0",
      "model_name": "HBoxModel",
      "state": {
       "children": [
        "IPY_MODEL_d4a0305616f9402ea84a9e8b0e1fae85"
       ],
       "layout": "IPY_MODEL_f86ef0c63af448cbba07abd5003acb2c"
      }
     },
     "7e93ef2d8c064e21ae0329b1f49e0037": {
      "model_module": "@jupyter-widgets/controls",
      "model_module_version": "1.4.0",
      "model_name": "ButtonStyleModel",
      "state": {}
     },
     "7ebbc139ae8c405bbaa34222e70c1838": {
      "model_module": "@jupyter-widgets/controls",
      "model_module_version": "1.4.0",
      "model_name": "DescriptionStyleModel",
      "state": {
       "description_width": ""
      }
     },
     "7ee747b400ad462e8ac9835d6e19339a": {
      "model_module": "@jupyter-widgets/controls",
      "model_module_version": "1.4.0",
      "model_name": "DescriptionStyleModel",
      "state": {
       "description_width": ""
      }
     },
     "7f7d8c159bdc42c3aeffdc050655131b": {
      "model_module": "@jupyter-widgets/controls",
      "model_module_version": "1.4.0",
      "model_name": "FloatTextModel",
      "state": {
       "layout": "IPY_MODEL_72e031c0e7e349a0b081d2221742bd29",
       "step": null,
       "style": "IPY_MODEL_b60b7d037b5b45aba5cce6360c0cb3fe",
       "value": -66.66666666666667
      }
     },
     "7fbf0af948254d5e833df4b7c1f732c3": {
      "model_module": "@jupyter-widgets/base",
      "model_module_version": "1.1.0",
      "model_name": "LayoutModel",
      "state": {}
     },
     "7fe5127d89ef40799cbefafadbcce0d4": {
      "model_module": "@jupyter-widgets/controls",
      "model_module_version": "1.4.0",
      "model_name": "FloatTextModel",
      "state": {
       "layout": "IPY_MODEL_cea5f3291cc74af99d0e1ea2481ba90a",
       "step": null,
       "style": "IPY_MODEL_19f1831249fc404885a8c590f402427e"
      }
     },
     "7ffaa79fb9994c4bae603296d84f245e": {
      "model_module": "@jupyter-widgets/controls",
      "model_module_version": "1.4.0",
      "model_name": "LabelModel",
      "state": {
       "layout": "IPY_MODEL_3155eee3f9a64ff3b2f1ce3c8f7d18cc",
       "style": "IPY_MODEL_c2e6bb3678aa4fb989cae61d26337c34",
       "value": "La:"
      }
     },
     "7ffe130777e247649d8ed2b515a9ca8b": {
      "model_module": "@jupyter-widgets/controls",
      "model_module_version": "1.4.0",
      "model_name": "LabelModel",
      "state": {
       "layout": "IPY_MODEL_a5808a4c8deb4864a3bf6c22210b4579",
       "style": "IPY_MODEL_3ff22a9f887a4c8fa9623d0ab0ef1724"
      }
     },
     "8011100f6a6b4ddc9ecbb972b727eaf7": {
      "model_module": "@jupyter-widgets/controls",
      "model_module_version": "1.4.0",
      "model_name": "LabelModel",
      "state": {
       "layout": "IPY_MODEL_3bf317625e154845b6a9f8e0b72e9040",
       "style": "IPY_MODEL_e497f72ac994442e867e12b0d2d6c200"
      }
     },
     "8049641b56e14f94a6cdc101f458c699": {
      "model_module": "@jupyter-widgets/controls",
      "model_module_version": "1.4.0",
      "model_name": "DescriptionStyleModel",
      "state": {
       "description_width": ""
      }
     },
     "805372bc02a045c08c710be04f5bfce1": {
      "model_module": "@jupyter-widgets/controls",
      "model_module_version": "1.4.0",
      "model_name": "HBoxModel",
      "state": {
       "children": [
        "IPY_MODEL_18f82af6d5b2431ba4c48da55efab544",
        "IPY_MODEL_007459f4f397435698168869e682fe15",
        "IPY_MODEL_5b395b3d7f904213b837ead1c36a16d9"
       ],
       "layout": "IPY_MODEL_ab62f7fb8f884a83b7a1a8cd07fc402b"
      }
     },
     "808008c7a6d64220a24e0e57526aee9a": {
      "model_module": "@jupyter-widgets/base",
      "model_module_version": "1.1.0",
      "model_name": "LayoutModel",
      "state": {}
     },
     "8104af496003451c99d75ef542e131e5": {
      "model_module": "@jupyter-widgets/controls",
      "model_module_version": "1.4.0",
      "model_name": "HBoxModel",
      "state": {
       "children": [
        "IPY_MODEL_6db5adb08c1948be8929194ebea1a7e7"
       ],
       "layout": "IPY_MODEL_8f25d2239f6749908f18c36b549526f2"
      }
     },
     "826635bf7c224e2fa9e2222e72dbf5a4": {
      "model_module": "@jupyter-widgets/controls",
      "model_module_version": "1.4.0",
      "model_name": "DropdownModel",
      "state": {
       "_options_labels": [
        "0 complex eigenvalues",
        "2 complex eigenvalues",
        "4 complex eigenvalues"
       ],
       "description": "Aa:",
       "disabled": true,
       "index": 0,
       "layout": "IPY_MODEL_bb953ac90d224d4f936514edcfe673ca",
       "style": "IPY_MODEL_7da585dfee764bdb8782ac35b6e142c6"
      }
     },
     "8390228ad1364aa68a86b96bf642bf61": {
      "model_module": "@jupyter-widgets/controls",
      "model_module_version": "1.4.0",
      "model_name": "DescriptionStyleModel",
      "state": {
       "description_width": ""
      }
     },
     "83cff18e6a264988ae36134b674e5a85": {
      "model_module": "@jupyter-widgets/controls",
      "model_module_version": "1.4.0",
      "model_name": "ButtonModel",
      "state": {
       "description": "Test",
       "icon": "check",
       "layout": "IPY_MODEL_0cd7629dd3c9461fbd0c47b84ef58eb5",
       "style": "IPY_MODEL_3b2defae62294f9bbd4aaf5e793002c0",
       "tooltip": "Test"
      }
     },
     "842a3f1f0a374c2581602ab8e7600ef6": {
      "model_module": "@jupyter-widgets/controls",
      "model_module_version": "1.4.0",
      "model_name": "LabelModel",
      "state": {
       "layout": "IPY_MODEL_9a4bb58b105e4702af8bc3d718dfd1c3",
       "style": "IPY_MODEL_0f70af7c61ff4ba88081ed4f671ea6fb"
      }
     },
     "8471ba81fc7a4b87adf19a11d05e4af8": {
      "model_module": "@jupyter-widgets/controls",
      "model_module_version": "1.4.0",
      "model_name": "FloatTextModel",
      "state": {
       "layout": "IPY_MODEL_882e1a8d54f245feb71c1266aab6d5aa",
       "step": null,
       "style": "IPY_MODEL_628ee5ba78994b169e2e9670c25e3f71"
      }
     },
     "84978a101c7e4f339808d159363a8bda": {
      "model_module": "@jupyter-widgets/base",
      "model_module_version": "1.1.0",
      "model_name": "LayoutModel",
      "state": {}
     },
     "84a0b15ddb034a2092338bd2b2ed63e9": {
      "model_module": "@jupyter-widgets/controls",
      "model_module_version": "1.4.0",
      "model_name": "VBoxModel",
      "state": {
       "children": [
        "IPY_MODEL_8104af496003451c99d75ef542e131e5"
       ],
       "layout": "IPY_MODEL_ac57f9372bfa4b58a5c390e8d098726c"
      }
     },
     "84cbb61cc3c5445a88ac64650b4b8dfc": {
      "model_module": "@jupyter-widgets/controls",
      "model_module_version": "1.4.0",
      "model_name": "HBoxModel",
      "state": {
       "children": [
        "IPY_MODEL_0f26c8afca96402aa66b81bc451a3559",
        "IPY_MODEL_57f647ac81c04c9e8d05a298607c024c",
        "IPY_MODEL_360875116090414dbddbecaa83b47342",
        "IPY_MODEL_472fafbcc5de4d8bbdea2c2f162640a3",
        "IPY_MODEL_5393a1ec3e0d47feb72f398a7cfa584e"
       ],
       "layout": "IPY_MODEL_1c9b2f53ecbb4da79d03c3c35e70cf14"
      }
     },
     "84e0e3299523499e8fd5a56d12529891": {
      "model_module": "@jupyter-widgets/controls",
      "model_module_version": "1.4.0",
      "model_name": "LabelModel",
      "state": {
       "layout": "IPY_MODEL_341a67e1961c4efaba9cd46195f445c9",
       "style": "IPY_MODEL_b6fa08a5501e4a248ede49d190466047",
       "value": "Ka:"
      }
     },
     "850d20061cb147999055d5ad4f3f4e9c": {
      "model_module": "@jupyter-widgets/base",
      "model_module_version": "1.1.0",
      "model_name": "LayoutModel",
      "state": {}
     },
     "8517bf96ffdc43c0becaa4f3824b62ae": {
      "model_module": "@jupyter-widgets/controls",
      "model_module_version": "1.4.0",
      "model_name": "FloatTextModel",
      "state": {
       "layout": "IPY_MODEL_151cd4e8dcf14832a226f806c78e36e0",
       "step": null,
       "style": "IPY_MODEL_33357e60e03e468ca65e98dd38c74e9f",
       "value": 6244
      }
     },
     "851b1adaff55422a86338f42883ee062": {
      "model_module": "@jupyter-widgets/base",
      "model_module_version": "1.1.0",
      "model_name": "LayoutModel",
      "state": {}
     },
     "85217905f330467f8b5be2ca26a9808f": {
      "model_module": "@jupyter-widgets/controls",
      "model_module_version": "1.4.0",
      "model_name": "DescriptionStyleModel",
      "state": {
       "description_width": ""
      }
     },
     "855199fe1b46419e8a5c73a3e0e43e90": {
      "model_module": "@jupyter-widgets/controls",
      "model_module_version": "1.4.0",
      "model_name": "FloatTextModel",
      "state": {
       "layout": "IPY_MODEL_bfccc83056ff48b88eb7630784f232d4",
       "step": null,
       "style": "IPY_MODEL_dd21852b6b3d4d24a5e9dbedfd3b63e8"
      }
     },
     "865c7e9a6659400080d4e6b55eadd65c": {
      "model_module": "@jupyter-widgets/base",
      "model_module_version": "1.1.0",
      "model_name": "LayoutModel",
      "state": {}
     },
     "8694d410e6384208982d61b29be57d7b": {
      "model_module": "@jupyter-widgets/controls",
      "model_module_version": "1.4.0",
      "model_name": "LabelModel",
      "state": {
       "layout": "IPY_MODEL_45c69bfc454c48e597a023be2fcf2369",
       "style": "IPY_MODEL_2b684e1c6b254b9fa313b5d68cbac70e"
      }
     },
     "86dffef0637946b6bdce07bd18233633": {
      "model_module": "@jupyter-widgets/base",
      "model_module_version": "1.1.0",
      "model_name": "LayoutModel",
      "state": {
       "width": "90px"
      }
     },
     "86f0283019914320900a091de5704fd1": {
      "model_module": "@jupyter-widgets/controls",
      "model_module_version": "1.4.0",
      "model_name": "DescriptionStyleModel",
      "state": {
       "description_width": ""
      }
     },
     "87536ddd51344558bd4978bbb9aa5d77": {
      "model_module": "@jupyter-widgets/base",
      "model_module_version": "1.1.0",
      "model_name": "LayoutModel",
      "state": {
       "width": "90px"
      }
     },
     "87deb80624884ebfa254f62114e25930": {
      "model_module": "@jupyter-widgets/controls",
      "model_module_version": "1.4.0",
      "model_name": "VBoxModel",
      "state": {
       "children": [
        "IPY_MODEL_8f91de1e6ed149e68483c46b8e206da1",
        "IPY_MODEL_125f923ed5a34fe3a28d2f6851a46911"
       ],
       "layout": "IPY_MODEL_10c2b023fe28454a9f66efb594599e4a"
      }
     },
     "882808f04e1648329b3ae5a769379755": {
      "model_module": "@jupyter-widgets/controls",
      "model_module_version": "1.4.0",
      "model_name": "HBoxModel",
      "state": {
       "children": [
        "IPY_MODEL_1c6c62d211f44583a849017a71d78956"
       ],
       "layout": "IPY_MODEL_518df1a391454a7b9ae94325ff2cd3b0"
      }
     },
     "882e1a8d54f245feb71c1266aab6d5aa": {
      "model_module": "@jupyter-widgets/base",
      "model_module_version": "1.1.0",
      "model_name": "LayoutModel",
      "state": {
       "width": "90px"
      }
     },
     "885e5afc93a543b28ab8ce2723aba576": {
      "model_module": "@jupyter-widgets/controls",
      "model_module_version": "1.4.0",
      "model_name": "DescriptionStyleModel",
      "state": {
       "description_width": ""
      }
     },
     "88608d2bd3564091bb944cd23789d33c": {
      "model_module": "@jupyter-widgets/base",
      "model_module_version": "1.1.0",
      "model_name": "LayoutModel",
      "state": {}
     },
     "88eb02c3dc4f44948a1aec3fdbc15243": {
      "model_module": "@jupyter-widgets/controls",
      "model_module_version": "1.4.0",
      "model_name": "DescriptionStyleModel",
      "state": {
       "description_width": ""
      }
     },
     "8940fedfa6b94154bbecb9b93aa2c282": {
      "model_module": "@jupyter-widgets/controls",
      "model_module_version": "1.4.0",
      "model_name": "ButtonStyleModel",
      "state": {}
     },
     "895850746fc047c089a3bab1559d9f9d": {
      "model_module": "@jupyter-widgets/controls",
      "model_module_version": "1.4.0",
      "model_name": "HBoxModel",
      "state": {
       "children": [
        "IPY_MODEL_1b064c01ef0f4056b7748e7fa4e8d0ae",
        "IPY_MODEL_dbcee9f186f7420d9ea831d5ef775039",
        "IPY_MODEL_f4ddf9715a014e14be8ecb2b3ae86c47"
       ],
       "layout": "IPY_MODEL_63256349f2f3454c8059f5412b0862a7"
      }
     },
     "8a079245fbbe4ddf920422f8deed31bb": {
      "model_module": "@jupyter-widgets/controls",
      "model_module_version": "1.4.0",
      "model_name": "HBoxModel",
      "state": {
       "children": [
        "IPY_MODEL_d5eaac2f67684a7b8ea7dd4c17f0b57e",
        "IPY_MODEL_6d68637432684016b0727f506afe0df5",
        "IPY_MODEL_f01b454caf0243f89fac5809d26d4cf2",
        "IPY_MODEL_3fe63ac60ab64ded984e9abeeff7abf5",
        "IPY_MODEL_317ee220faa84115bad387393653c51c",
        "IPY_MODEL_587e0f7d832d4ecc866fb0f39ea9d990",
        "IPY_MODEL_135f645700374f52895dcc521e40d207",
        "IPY_MODEL_555f1c8fd1be494ba25714e40361ee35",
        "IPY_MODEL_cf979171315d44bfbc2c0d6d41f6c225",
        "IPY_MODEL_a3c2a24a94aa456cbd6779a86c1f06ad",
        "IPY_MODEL_25be128dd26d4cd298247bbbc5bbe06a"
       ],
       "layout": "IPY_MODEL_8a6ef5b88fa14169aa167d89c57d71eb"
      }
     },
     "8a6ef5b88fa14169aa167d89c57d71eb": {
      "model_module": "@jupyter-widgets/base",
      "model_module_version": "1.1.0",
      "model_name": "LayoutModel",
      "state": {}
     },
     "8a9bc422e2cc4f8e806f955c0698cf32": {
      "model_module": "@jupyter-widgets/controls",
      "model_module_version": "1.4.0",
      "model_name": "DescriptionStyleModel",
      "state": {
       "description_width": ""
      }
     },
     "8b38ec716be944e0b46bf019ffd46326": {
      "model_module": "@jupyter-widgets/controls",
      "model_module_version": "1.4.0",
      "model_name": "HBoxModel",
      "state": {
       "children": [
        "IPY_MODEL_be0cf595c1f14317a7aaeb76f485754c",
        "IPY_MODEL_8517bf96ffdc43c0becaa4f3824b62ae",
        "IPY_MODEL_ed5069a98fda4fd89f8f6f2f037d4397",
        "IPY_MODEL_aa1c87d6fda14c1980b7d432ee2fe366",
        "IPY_MODEL_f6adbb16255046328fb88ed295414e1e"
       ],
       "layout": "IPY_MODEL_951ff7c9dfad42808f1dc9d409ff2c4c"
      }
     },
     "8b87c03ea80e4a8496fef495518e5222": {
      "model_module": "@jupyter-widgets/controls",
      "model_module_version": "1.4.0",
      "model_name": "DescriptionStyleModel",
      "state": {
       "description_width": ""
      }
     },
     "8b978cd8527c4af38f96b899ad856ff9": {
      "model_module": "@jupyter-widgets/base",
      "model_module_version": "1.1.0",
      "model_name": "LayoutModel",
      "state": {
       "width": "90px"
      }
     },
     "8bd8a16f4c984ae9a3b83d639201f311": {
      "model_module": "@jupyter-widgets/controls",
      "model_module_version": "1.4.0",
      "model_name": "DescriptionStyleModel",
      "state": {
       "description_width": ""
      }
     },
     "8bfd28108db14cf7af63c45afb29a893": {
      "model_module": "@jupyter-widgets/base",
      "model_module_version": "1.1.0",
      "model_name": "LayoutModel",
      "state": {
       "width": "90px"
      }
     },
     "8c56ab7322684d198695ba83389a51a8": {
      "model_module": "@jupyter-widgets/base",
      "model_module_version": "1.1.0",
      "model_name": "LayoutModel",
      "state": {}
     },
     "8c6ff49f59ac4ae19bf1989f184e29e9": {
      "model_module": "@jupyter-widgets/base",
      "model_module_version": "1.1.0",
      "model_name": "LayoutModel",
      "state": {}
     },
     "8c91254678864b30a16507999fae5742": {
      "model_module": "@jupyter-widgets/base",
      "model_module_version": "1.1.0",
      "model_name": "LayoutModel",
      "state": {}
     },
     "8cd3e95c3acf4bdab4dfdc7205fe8fde": {
      "model_module": "@jupyter-widgets/controls",
      "model_module_version": "1.4.0",
      "model_name": "DescriptionStyleModel",
      "state": {
       "description_width": ""
      }
     },
     "8d93505090b24b7392dd19fdafe1ebb7": {
      "model_module": "@jupyter-widgets/base",
      "model_module_version": "1.1.0",
      "model_name": "LayoutModel",
      "state": {}
     },
     "8eb6aa9cb43341ccb9ce62f5ca112617": {
      "model_module": "@jupyter-widgets/base",
      "model_module_version": "1.1.0",
      "model_name": "LayoutModel",
      "state": {}
     },
     "8ef057c6d9fc4db8b615a215a2b5a000": {
      "model_module": "@jupyter-widgets/controls",
      "model_module_version": "1.4.0",
      "model_name": "SliderStyleModel",
      "state": {
       "description_width": ""
      }
     },
     "8f25d2239f6749908f18c36b549526f2": {
      "model_module": "@jupyter-widgets/base",
      "model_module_version": "1.1.0",
      "model_name": "LayoutModel",
      "state": {}
     },
     "8f91de1e6ed149e68483c46b8e206da1": {
      "model_module": "@jupyter-widgets/controls",
      "model_module_version": "1.4.0",
      "model_name": "HBoxModel",
      "state": {
       "children": [
        "IPY_MODEL_eef564791f8b41739add71b75be481ec"
       ],
       "layout": "IPY_MODEL_de0f1909c75e430a86358a3fa0b9a995"
      }
     },
     "8fd79a5d01cf4dd2bd6af523b19f7ddc": {
      "model_module": "@jupyter-widgets/controls",
      "model_module_version": "1.4.0",
      "model_name": "DescriptionStyleModel",
      "state": {
       "description_width": ""
      }
     },
     "90289c97f60843f89f00cd95a0fca4b9": {
      "model_module": "@jupyter-widgets/base",
      "model_module_version": "1.1.0",
      "model_name": "LayoutModel",
      "state": {}
     },
     "90428d44e77d4165ac20f73f2cc388b9": {
      "model_module": "@jupyter-widgets/controls",
      "model_module_version": "1.4.0",
      "model_name": "FloatTextModel",
      "state": {
       "layout": "IPY_MODEL_6ed5ec8dc40b4d3cb6058441525e4f2d",
       "step": null,
       "style": "IPY_MODEL_c528fa3f72494a119beabba3a6213bb7",
       "value": -1
      }
     },
     "90b70496121147c0a1e387dee2f323b8": {
      "model_module": "@jupyter-widgets/base",
      "model_module_version": "1.1.0",
      "model_name": "LayoutModel",
      "state": {}
     },
     "9107b64326ee404abe9f223d27d7cb58": {
      "model_module": "@jupyter-widgets/base",
      "model_module_version": "1.1.0",
      "model_name": "LayoutModel",
      "state": {}
     },
     "912150cf7dd545c9be27f06e2420e9fd": {
      "model_module": "@jupyter-widgets/controls",
      "model_module_version": "1.4.0",
      "model_name": "FloatTextModel",
      "state": {
       "layout": "IPY_MODEL_8b978cd8527c4af38f96b899ad856ff9",
       "step": null,
       "style": "IPY_MODEL_56d0ad94a1ab41bf9b1226b301dc34c5",
       "value": -10
      }
     },
     "913286bb22214d3cb6367fff535d9581": {
      "model_module": "@jupyter-widgets/base",
      "model_module_version": "1.1.0",
      "model_name": "LayoutModel",
      "state": {}
     },
     "9157d2ff6f494800ac8ae9cdc1fde052": {
      "model_module": "@jupyter-widgets/base",
      "model_module_version": "1.1.0",
      "model_name": "LayoutModel",
      "state": {}
     },
     "91f3e31e4795465f9f5adb9155b2d603": {
      "model_module": "@jupyter-widgets/base",
      "model_module_version": "1.1.0",
      "model_name": "LayoutModel",
      "state": {}
     },
     "9227470751ed48d1979a8ab2c991e0cf": {
      "model_module": "@jupyter-widgets/base",
      "model_module_version": "1.1.0",
      "model_name": "LayoutModel",
      "state": {
       "height": "0px",
       "width": "0px"
      }
     },
     "93937d7b6ac642c29e9b061c59a3db2a": {
      "model_module": "@jupyter-widgets/base",
      "model_module_version": "1.1.0",
      "model_name": "LayoutModel",
      "state": {}
     },
     "94109630a2764b6fb9c1f2deaa4eff3f": {
      "model_module": "@jupyter-widgets/controls",
      "model_module_version": "1.4.0",
      "model_name": "FloatTextModel",
      "state": {
       "layout": "IPY_MODEL_9227470751ed48d1979a8ab2c991e0cf",
       "step": null,
       "style": "IPY_MODEL_cda7d59ecf3b463e83fbcca7d6ded37f"
      }
     },
     "94c62e1f059546eaa77c67a8748086d9": {
      "model_module": "@jupyter-widgets/controls",
      "model_module_version": "1.4.0",
      "model_name": "DescriptionStyleModel",
      "state": {
       "description_width": ""
      }
     },
     "94d262c9132f4dee8a1ebacba7959d25": {
      "model_module": "@jupyter-widgets/controls",
      "model_module_version": "1.4.0",
      "model_name": "LabelModel",
      "state": {
       "layout": "IPY_MODEL_de0e0312dad54b3aac1bda5344f2766f",
       "style": "IPY_MODEL_5e19f43ea55f42219de81bad36116894"
      }
     },
     "951ff7c9dfad42808f1dc9d409ff2c4c": {
      "model_module": "@jupyter-widgets/base",
      "model_module_version": "1.1.0",
      "model_name": "LayoutModel",
      "state": {}
     },
     "9556274e90b64a4bb51b8e1a2eb0462e": {
      "model_module": "@jupyter-widgets/base",
      "model_module_version": "1.1.0",
      "model_name": "LayoutModel",
      "state": {}
     },
     "955a72f962644df8bea0b03467a6d2e3": {
      "model_module": "@jupyter-widgets/base",
      "model_module_version": "1.1.0",
      "model_name": "LayoutModel",
      "state": {}
     },
     "965ba5aa3bb648c899f8ba33fda5cf31": {
      "model_module": "@jupyter-widgets/controls",
      "model_module_version": "1.4.0",
      "model_name": "FloatTextModel",
      "state": {
       "layout": "IPY_MODEL_74b2c32160214088bd33ae84127e92bc",
       "step": null,
       "style": "IPY_MODEL_a5c61a105e6e45afa9758af74b614962",
       "value": 2225
      }
     },
     "967ea0cea3b44232b483737bad238961": {
      "model_module": "@jupyter-widgets/controls",
      "model_module_version": "1.4.0",
      "model_name": "DescriptionStyleModel",
      "state": {
       "description_width": ""
      }
     },
     "9850692dac5444339af116e293364b98": {
      "model_module": "@jupyter-widgets/controls",
      "model_module_version": "1.4.0",
      "model_name": "LabelModel",
      "state": {
       "layout": "IPY_MODEL_364239ea052146749c210d876d457052",
       "style": "IPY_MODEL_a17e77cf8e2d4cd1b086d4dda0b399ce"
      }
     },
     "991efac838994f0ab46af4dd67a6cce2": {
      "model_module": "@jupyter-widgets/base",
      "model_module_version": "1.1.0",
      "model_name": "LayoutModel",
      "state": {}
     },
     "992c66e245f641c19dbfccd1fcf3dc9b": {
      "model_module": "@jupyter-widgets/controls",
      "model_module_version": "1.4.0",
      "model_name": "LabelModel",
      "state": {
       "layout": "IPY_MODEL_c355d1874a554165b4099d8da3d35aef",
       "style": "IPY_MODEL_0e3a382431764e918183d36d775bca91",
       "value": "La:"
      }
     },
     "992d4f926f4b47b79dee5492a88d012f": {
      "model_module": "@jupyter-widgets/controls",
      "model_module_version": "1.4.0",
      "model_name": "FloatTextModel",
      "state": {
       "disabled": true,
       "layout": "IPY_MODEL_eb845b48322e45158642a399f660afa0",
       "step": null,
       "style": "IPY_MODEL_69596f18125f465a842253c4a56b8254",
       "value": -0.35
      }
     },
     "996a0fc2c31d488089176d41d8206f99": {
      "model_module": "@jupyter-widgets/controls",
      "model_module_version": "1.4.0",
      "model_name": "DescriptionStyleModel",
      "state": {
       "description_width": ""
      }
     },
     "99e3340dccac4f1a9ed489a4bb4d53b8": {
      "model_module": "@jupyter-widgets/controls",
      "model_module_version": "1.4.0",
      "model_name": "DropdownModel",
      "state": {
       "_options_labels": [
        "0 complex eigenvalues",
        "2 complex eigenvalues"
       ],
       "description": "Aobs:",
       "disabled": true,
       "index": 0,
       "layout": "IPY_MODEL_217df9fb08f841e0b881ed5ff541226f",
       "style": "IPY_MODEL_def75223186b46c2ab6eb64e80dbe69d"
      }
     },
     "9a30578514a043dc80c647d4b5ab588d": {
      "model_module": "@jupyter-widgets/controls",
      "model_module_version": "1.4.0",
      "model_name": "LabelModel",
      "state": {
       "layout": "IPY_MODEL_c3383bbe576346f085ed887be29c1071",
       "style": "IPY_MODEL_78e0cf59f666429ba0b284f17cd837f0"
      }
     },
     "9a4bb58b105e4702af8bc3d718dfd1c3": {
      "model_module": "@jupyter-widgets/base",
      "model_module_version": "1.1.0",
      "model_name": "LayoutModel",
      "state": {}
     },
     "9a5f4e5b037a43a9b59844db56f0835f": {
      "model_module": "@jupyter-widgets/base",
      "model_module_version": "1.1.0",
      "model_name": "LayoutModel",
      "state": {}
     },
     "9aa8d3ec40df4e009aab31ecae602e3a": {
      "model_module": "@jupyter-widgets/base",
      "model_module_version": "1.1.0",
      "model_name": "LayoutModel",
      "state": {}
     },
     "9adf73266e5b41fca5ffa68f3c06d757": {
      "model_module": "@jupyter-widgets/base",
      "model_module_version": "1.1.0",
      "model_name": "LayoutModel",
      "state": {}
     },
     "9b5dafc61d3444c5ad1d3934f7051d68": {
      "model_module": "@jupyter-widgets/base",
      "model_module_version": "1.1.0",
      "model_name": "LayoutModel",
      "state": {}
     },
     "9be6a001337f487e922bd0dfa9a78022": {
      "model_module": "@jupyter-widgets/controls",
      "model_module_version": "1.4.0",
      "model_name": "LabelModel",
      "state": {
       "layout": "IPY_MODEL_6c5bde8b5bac48509228c5bee9f36bbd",
       "style": "IPY_MODEL_65deab75d13c4bf1bef36f3c38182f6b",
       "value": "Aobs's eigs:"
      }
     },
     "9c510b94c02845c18cef93c5f4a2484f": {
      "model_module": "@jupyter-widgets/base",
      "model_module_version": "1.1.0",
      "model_name": "LayoutModel",
      "state": {}
     },
     "9c5f455366254c98bcb2a632ba62746f": {
      "model_module": "@jupyter-widgets/controls",
      "model_module_version": "1.4.0",
      "model_name": "DropdownModel",
      "state": {
       "_options_labels": [
        "0 complex eigenvalues",
        "2 complex eigenvalues",
        "4 complex eigenvalues"
       ],
       "description": "Aa:",
       "disabled": true,
       "index": 0,
       "layout": "IPY_MODEL_8c91254678864b30a16507999fae5742",
       "style": "IPY_MODEL_0ffabbd5de5b4e49b39460918d7833c9"
      }
     },
     "9c7326c1824c4d51bcba36be24cfd780": {
      "model_module": "@jupyter-widgets/controls",
      "model_module_version": "1.4.0",
      "model_name": "DescriptionStyleModel",
      "state": {
       "description_width": ""
      }
     },
     "9d157d49b60d48c9ae30175ff22d2776": {
      "model_module": "@jupyter-widgets/base",
      "model_module_version": "1.1.0",
      "model_name": "LayoutModel",
      "state": {}
     },
     "9d2107f7a8294bb5a1e31ad3096c399e": {
      "model_module": "@jupyter-widgets/controls",
      "model_module_version": "1.4.0",
      "model_name": "DropdownModel",
      "state": {
       "_options_labels": [
        "Set Ka and La",
        "Set the eigenvalues"
       ],
       "index": 0,
       "layout": "IPY_MODEL_d6431a11b46943d48afc9b025482f791",
       "style": "IPY_MODEL_24dd982e2a6149fa8600278128d390d9"
      }
     },
     "9e0c7264530f48d8a6e52208066546ff": {
      "model_module": "@jupyter-widgets/controls",
      "model_module_version": "1.4.0",
      "model_name": "VBoxModel",
      "state": {
       "children": [
        "IPY_MODEL_c566d7ba152c41a9bb70e0b1399a0f3e",
        "IPY_MODEL_ffc5676e98b545a9897040da8eda7dc9"
       ],
       "layout": "IPY_MODEL_dd750e074b794c73b436f80106ff3f09"
      }
     },
     "9e3dc09502d8495584a6ac12c8f8ac5a": {
      "model_module": "@jupyter-widgets/base",
      "model_module_version": "1.1.0",
      "model_name": "LayoutModel",
      "state": {}
     },
     "9e4fb7fb6cee4738ab762e038ba437ba": {
      "model_module": "@jupyter-widgets/base",
      "model_module_version": "1.1.0",
      "model_name": "LayoutModel",
      "state": {}
     },
     "9edf3cd601b845089ed8bd5d7bc8d3eb": {
      "model_module": "@jupyter-widgets/base",
      "model_module_version": "1.1.0",
      "model_name": "LayoutModel",
      "state": {}
     },
     "9efb9c3136cb4814bbbbb397033e6d24": {
      "model_module": "@jupyter-widgets/controls",
      "model_module_version": "1.4.0",
      "model_name": "FloatTextModel",
      "state": {
       "layout": "IPY_MODEL_5cf0c5c499384c6f96f84a0eae53b53c",
       "step": null,
       "style": "IPY_MODEL_32a09d78e0b3416a94dc5ac17c5bb0d0",
       "value": -66.66666666666667
      }
     },
     "9f2b0ec4d4034ae3ad81a74617b85dd9": {
      "model_module": "@jupyter-widgets/controls",
      "model_module_version": "1.4.0",
      "model_name": "FloatTextModel",
      "state": {
       "layout": "IPY_MODEL_e35ded94ccdb411fb3f03b38368623d6",
       "step": null,
       "style": "IPY_MODEL_f971744a6b6f4c44b945449b4acd81c4"
      }
     },
     "9f426cacd41c42aca1af846e019bfa02": {
      "model_module": "@jupyter-widgets/controls",
      "model_module_version": "1.4.0",
      "model_name": "LabelModel",
      "state": {
       "layout": "IPY_MODEL_226ecd100d9b43bdb15a7c6850582d90",
       "style": "IPY_MODEL_b33e7488490b4fa8ba525c1d8fbb4126"
      }
     },
     "9f7de2b91d5f4664b24e72fafb4248bf": {
      "model_module": "@jupyter-widgets/controls",
      "model_module_version": "1.4.0",
      "model_name": "LabelModel",
      "state": {
       "layout": "IPY_MODEL_460300bb7cfb4e759ba669fd07f3b123",
       "style": "IPY_MODEL_ea21094a446f4ef5a10ba3ec7281a8e1"
      }
     },
     "a016d7fcf44b4c7988226f529ae389e7": {
      "model_module": "@jupyter-widgets/controls",
      "model_module_version": "1.4.0",
      "model_name": "LabelModel",
      "state": {
       "layout": "IPY_MODEL_28145b3fa0c947388e212e724a9d4113",
       "style": "IPY_MODEL_bc95ce86f973460686ff28ab1ad25643",
       "value": "La:"
      }
     },
     "a17e77cf8e2d4cd1b086d4dda0b399ce": {
      "model_module": "@jupyter-widgets/controls",
      "model_module_version": "1.4.0",
      "model_name": "DescriptionStyleModel",
      "state": {
       "description_width": ""
      }
     },
     "a1e753b9be3c4fb18a402f4d11ad7622": {
      "model_module": "@jupyter-widgets/output",
      "model_module_version": "1.0.0",
      "model_name": "OutputModel",
      "state": {
       "layout": "IPY_MODEL_2ad36e1cd7c6491ebd207e23495eaf5f",
       "outputs": [
        {
         "name": "stdout",
         "output_type": "stream",
         "text": "The Aa's eigenvalues are: -2.24+2.23j, -2.24+-2.23j, -0.28+0.00j, -0.26+0.32j and -0.26+-0.32j\nThe observer\\s eigenvalues are: -10.00+0.00j and -10.00+0.00j\n"
        }
       ]
      }
     },
     "a1f873543ca745e8869870277844004a": {
      "model_module": "@jupyter-widgets/controls",
      "model_module_version": "1.4.0",
      "model_name": "FloatTextModel",
      "state": {
       "disabled": true,
       "layout": "IPY_MODEL_abd294ef813b4562ba3af45c793fa8cd",
       "step": null,
       "style": "IPY_MODEL_186de4e4fe0949228939f5d0f3901124"
      }
     },
     "a225f194cbbc4a6dbf9bed6cdfccc646": {
      "model_module": "@jupyter-widgets/controls",
      "model_module_version": "1.4.0",
      "model_name": "DescriptionStyleModel",
      "state": {
       "description_width": ""
      }
     },
     "a233f2749697478193516c67501f9bf6": {
      "model_module": "@jupyter-widgets/controls",
      "model_module_version": "1.4.0",
      "model_name": "HBoxModel",
      "state": {
       "children": [
        "IPY_MODEL_3fcf20770fa04a8f99220ecff57a919c",
        "IPY_MODEL_7571abb03f0040679517c6245bf38472",
        "IPY_MODEL_5ca9d6cfbf1e4f5a95615e0dba52d25b",
        "IPY_MODEL_fbb1d9058ea14688b02e1bf1f255cd4f",
        "IPY_MODEL_784694adeef14254b06506b91ca25387"
       ],
       "layout": "IPY_MODEL_d12e5a5b011349588613791490b0f7e0"
      }
     },
     "a267df06d1fd4abdbeeaa4b209f965f6": {
      "model_module": "@jupyter-widgets/controls",
      "model_module_version": "1.4.0",
      "model_name": "VBoxModel",
      "state": {
       "children": [
        "IPY_MODEL_ce2edb54fe42459ca62c2936d6529836",
        "IPY_MODEL_bd3eeb55a66a4475a7aca37d905b30d1"
       ],
       "layout": "IPY_MODEL_296ca86ae0ed488dbcf495fcee09b2d4"
      }
     },
     "a2730760d6e340dd9350b3d45baf8886": {
      "model_module": "@jupyter-widgets/controls",
      "model_module_version": "1.4.0",
      "model_name": "DescriptionStyleModel",
      "state": {
       "description_width": ""
      }
     },
     "a2a23603747a44b8b4b99e05ba1585cc": {
      "model_module": "@jupyter-widgets/controls",
      "model_module_version": "1.4.0",
      "model_name": "DescriptionStyleModel",
      "state": {
       "description_width": ""
      }
     },
     "a2ad8cd0ada14749b6cff38db8256c77": {
      "model_module": "@jupyter-widgets/base",
      "model_module_version": "1.1.0",
      "model_name": "LayoutModel",
      "state": {}
     },
     "a2b1153c0b734d19bbbe9e4cb71dfd22": {
      "model_module": "@jupyter-widgets/base",
      "model_module_version": "1.1.0",
      "model_name": "LayoutModel",
      "state": {}
     },
     "a33161fb781f43298700965957684f1e": {
      "model_module": "@jupyter-widgets/controls",
      "model_module_version": "1.4.0",
      "model_name": "ButtonModel",
      "state": {
       "description": "Test",
       "icon": "check",
       "layout": "IPY_MODEL_6672827f1251434cafa61ba9bb202373",
       "style": "IPY_MODEL_eb04c670a97349aa81672b123aa0368f",
       "tooltip": "Test"
      }
     },
     "a35a317a47864a4bbdf20780013db7d8": {
      "model_module": "@jupyter-widgets/controls",
      "model_module_version": "1.4.0",
      "model_name": "DescriptionStyleModel",
      "state": {
       "description_width": ""
      }
     },
     "a3c2a24a94aa456cbd6779a86c1f06ad": {
      "model_module": "@jupyter-widgets/controls",
      "model_module_version": "1.4.0",
      "model_name": "VBoxModel",
      "state": {
       "children": [
        "IPY_MODEL_f66682badded4087a8e4129a3e4d524b"
       ],
       "layout": "IPY_MODEL_3b4c40f6dee64918a393d35056e0c706"
      }
     },
     "a3e62160c9b54b1d8127e609d6602571": {
      "model_module": "@jupyter-widgets/base",
      "model_module_version": "1.1.0",
      "model_name": "LayoutModel",
      "state": {}
     },
     "a428fbacff1a4a828a289047af365d41": {
      "model_module": "@jupyter-widgets/controls",
      "model_module_version": "1.4.0",
      "model_name": "DescriptionStyleModel",
      "state": {
       "description_width": ""
      }
     },
     "a4573b1d69b94da6abe2d29a5940a904": {
      "model_module": "@jupyter-widgets/controls",
      "model_module_version": "1.4.0",
      "model_name": "DescriptionStyleModel",
      "state": {
       "description_width": ""
      }
     },
     "a460952c12254a589008273d3b2199a9": {
      "model_module": "@jupyter-widgets/base",
      "model_module_version": "1.1.0",
      "model_name": "LayoutModel",
      "state": {}
     },
     "a4d1a29d08444259bc6ac049b78ec661": {
      "model_module": "@jupyter-widgets/base",
      "model_module_version": "1.1.0",
      "model_name": "LayoutModel",
      "state": {}
     },
     "a5628dd710ed40f0836562eea9957797": {
      "model_module": "@jupyter-widgets/controls",
      "model_module_version": "1.4.0",
      "model_name": "HBoxModel",
      "state": {
       "children": [
        "IPY_MODEL_90428d44e77d4165ac20f73f2cc388b9"
       ],
       "layout": "IPY_MODEL_4ec30f2860a74ef0a6f495243611dd88"
      }
     },
     "a5808a4c8deb4864a3bf6c22210b4579": {
      "model_module": "@jupyter-widgets/base",
      "model_module_version": "1.1.0",
      "model_name": "LayoutModel",
      "state": {}
     },
     "a5b53e522d8e4962a7d78f2bf1ad4c12": {
      "model_module": "@jupyter-widgets/controls",
      "model_module_version": "1.4.0",
      "model_name": "HBoxModel",
      "state": {
       "children": [
        "IPY_MODEL_0f26c8afca96402aa66b81bc451a3559",
        "IPY_MODEL_4ddaa11b8783416d8518d303745b09a7",
        "IPY_MODEL_6e7e97282d8646a99e47bb6ba752331d",
        "IPY_MODEL_bf5b937f5c5c49df9d883ad5b1642e3c",
        "IPY_MODEL_36b4c1c517ff44af830b4f3695cbd377"
       ],
       "layout": "IPY_MODEL_5fd329d9eb304ad5a6bce400ae2719bd"
      }
     },
     "a5c61a105e6e45afa9758af74b614962": {
      "model_module": "@jupyter-widgets/controls",
      "model_module_version": "1.4.0",
      "model_name": "DescriptionStyleModel",
      "state": {
       "description_width": ""
      }
     },
     "a632af6c959f4150a8552cf2868f1563": {
      "model_module": "@jupyter-widgets/controls",
      "model_module_version": "1.4.0",
      "model_name": "HBoxModel",
      "state": {
       "children": [
        "IPY_MODEL_a1f873543ca745e8869870277844004a"
       ],
       "layout": "IPY_MODEL_37327690f2424d65b8d49eece9eaf6a9"
      }
     },
     "a6ad84dbfce948f98666e1dd20d617e5": {
      "model_module": "@jupyter-widgets/controls",
      "model_module_version": "1.4.0",
      "model_name": "DescriptionStyleModel",
      "state": {
       "description_width": ""
      }
     },
     "a7b4cf28d00f47458db9d6207df4c87c": {
      "model_module": "@jupyter-widgets/base",
      "model_module_version": "1.1.0",
      "model_name": "LayoutModel",
      "state": {}
     },
     "a8c021ecd91740e0a4a051e52059b3e9": {
      "model_module": "@jupyter-widgets/base",
      "model_module_version": "1.1.0",
      "model_name": "LayoutModel",
      "state": {}
     },
     "a91bbca18081424791e2d1ee5f5cce53": {
      "model_module": "@jupyter-widgets/controls",
      "model_module_version": "1.4.0",
      "model_name": "HBoxModel",
      "state": {
       "children": [
        "IPY_MODEL_1c47caf2cb4b47a3a6d0d38a124adb42",
        "IPY_MODEL_e64a1f67ddd246a4b2817a99b07cca56",
        "IPY_MODEL_e7eba20de0944e0c98115502cd135383",
        "IPY_MODEL_7d01dc2c0b4d48d98e763efa1f17a404",
        "IPY_MODEL_7ffaa79fb9994c4bae603296d84f245e",
        "IPY_MODEL_df4f2e5f7cac45da9930e46f5690c3a4"
       ],
       "layout": "IPY_MODEL_4c4a53b62fd44b28b1cce41d159b39bf"
      }
     },
     "a9c2a999751c47b590d4150abf7bbb56": {
      "model_module": "@jupyter-widgets/controls",
      "model_module_version": "1.4.0",
      "model_name": "LabelModel",
      "state": {
       "layout": "IPY_MODEL_28eeaa6532d64589be32837e44b6116e",
       "style": "IPY_MODEL_bfc0aca326e44e0e8cfa33e7a1b1d630"
      }
     },
     "a9df4eb6b13f4772b2ba3fc42ce6a654": {
      "model_module": "@jupyter-widgets/controls",
      "model_module_version": "1.4.0",
      "model_name": "DescriptionStyleModel",
      "state": {
       "description_width": ""
      }
     },
     "aa1c17dc86e6441485062eed23d3ab0a": {
      "model_module": "@jupyter-widgets/base",
      "model_module_version": "1.1.0",
      "model_name": "LayoutModel",
      "state": {}
     },
     "aa1c87d6fda14c1980b7d432ee2fe366": {
      "model_module": "@jupyter-widgets/controls",
      "model_module_version": "1.4.0",
      "model_name": "FloatTextModel",
      "state": {
       "layout": "IPY_MODEL_86dffef0637946b6bdce07bd18233633",
       "step": null,
       "style": "IPY_MODEL_4278af2ea2454105a0438aceb142c914",
       "value": 5275
      }
     },
     "aa396f910ca1429e83f9525d6adb3ba8": {
      "model_module": "@jupyter-widgets/base",
      "model_module_version": "1.1.0",
      "model_name": "LayoutModel",
      "state": {}
     },
     "aa41ddcb506d4d6a8ae6f55403ae7d59": {
      "model_module": "@jupyter-widgets/base",
      "model_module_version": "1.1.0",
      "model_name": "LayoutModel",
      "state": {
       "width": "90px"
      }
     },
     "ab5d1f7943974b4ea254b5b26a1c85d8": {
      "model_module": "@jupyter-widgets/controls",
      "model_module_version": "1.4.0",
      "model_name": "LabelModel",
      "state": {
       "layout": "IPY_MODEL_16112e01e61a4c7a852edd7bb209d2be",
       "style": "IPY_MODEL_7922325f544a4df3b7a664440ab450f3"
      }
     },
     "ab62f7fb8f884a83b7a1a8cd07fc402b": {
      "model_module": "@jupyter-widgets/base",
      "model_module_version": "1.1.0",
      "model_name": "LayoutModel",
      "state": {}
     },
     "abbda41855ae4751925c4c1c2e1ecad3": {
      "model_module": "@jupyter-widgets/controls",
      "model_module_version": "1.4.0",
      "model_name": "FloatTextModel",
      "state": {
       "layout": "IPY_MODEL_37e3d4ef915442e587ab592c14598b61",
       "step": null,
       "style": "IPY_MODEL_0f6c3a9260604cbfabe83a35c70edc75"
      }
     },
     "abd294ef813b4562ba3af45c793fa8cd": {
      "model_module": "@jupyter-widgets/base",
      "model_module_version": "1.1.0",
      "model_name": "LayoutModel",
      "state": {
       "width": "90px"
      }
     },
     "ac0ffe7011a04929a5584f8a14bbb898": {
      "model_module": "@jupyter-widgets/controls",
      "model_module_version": "1.4.0",
      "model_name": "DescriptionStyleModel",
      "state": {
       "description_width": ""
      }
     },
     "ac1bd1734d2c4d0182e333fa5842cb67": {
      "model_module": "@jupyter-widgets/controls",
      "model_module_version": "1.4.0",
      "model_name": "FloatTextModel",
      "state": {
       "layout": "IPY_MODEL_2bf0392a0f39437ba55867d895e68ba0",
       "step": null,
       "style": "IPY_MODEL_daf87ceba6fc4cff807558eed8167824"
      }
     },
     "ac57f9372bfa4b58a5c390e8d098726c": {
      "model_module": "@jupyter-widgets/base",
      "model_module_version": "1.1.0",
      "model_name": "LayoutModel",
      "state": {}
     },
     "ac58d08f3ce54afa8fe5fd6c045ae5af": {
      "model_module": "@jupyter-widgets/controls",
      "model_module_version": "1.4.0",
      "model_name": "HBoxModel",
      "state": {
       "children": [
        "IPY_MODEL_1cf2e125728c4d5e8c8fea95a6038064",
        "IPY_MODEL_6d68637432684016b0727f506afe0df5",
        "IPY_MODEL_f01b454caf0243f89fac5809d26d4cf2",
        "IPY_MODEL_3fe63ac60ab64ded984e9abeeff7abf5",
        "IPY_MODEL_317ee220faa84115bad387393653c51c",
        "IPY_MODEL_587e0f7d832d4ecc866fb0f39ea9d990",
        "IPY_MODEL_212cbb388f3446d9be9fc9ea66b8a4ef",
        "IPY_MODEL_9850692dac5444339af116e293364b98",
        "IPY_MODEL_9be6a001337f487e922bd0dfa9a78022",
        "IPY_MODEL_a3c2a24a94aa456cbd6779a86c1f06ad",
        "IPY_MODEL_25be128dd26d4cd298247bbbc5bbe06a"
       ],
       "layout": "IPY_MODEL_9157d2ff6f494800ac8ae9cdc1fde052"
      }
     },
     "ac8c59c13a5f406eab4c4e5831aab8c5": {
      "model_module": "@jupyter-widgets/controls",
      "model_module_version": "1.4.0",
      "model_name": "DescriptionStyleModel",
      "state": {
       "description_width": ""
      }
     },
     "acc2a1e4067f46c38bb2cbd0039ce326": {
      "model_module": "@jupyter-widgets/base",
      "model_module_version": "1.1.0",
      "model_name": "LayoutModel",
      "state": {}
     },
     "acce651c42c84a9894a543393f8a167c": {
      "model_module": "@jupyter-widgets/base",
      "model_module_version": "1.1.0",
      "model_name": "LayoutModel",
      "state": {}
     },
     "ace5b89dbb38430baaca9d95f8928041": {
      "model_module": "@jupyter-widgets/base",
      "model_module_version": "1.1.0",
      "model_name": "LayoutModel",
      "state": {}
     },
     "acecc2cb78574027ab0f5990fddab600": {
      "model_module": "@jupyter-widgets/controls",
      "model_module_version": "1.4.0",
      "model_name": "LabelModel",
      "state": {
       "layout": "IPY_MODEL_f699eb1a696a488fab7f9c72c92dee1a",
       "style": "IPY_MODEL_59fa07d6295e403fb187b29b6a589349"
      }
     },
     "acfff617198a4fed9692133377da3b47": {
      "model_module": "@jupyter-widgets/base",
      "model_module_version": "1.1.0",
      "model_name": "LayoutModel",
      "state": {}
     },
     "ad34d26874a24d2c89c2f16a3cf953ee": {
      "model_module": "@jupyter-widgets/controls",
      "model_module_version": "1.4.0",
      "model_name": "LabelModel",
      "state": {
       "layout": "IPY_MODEL_9c510b94c02845c18cef93c5f4a2484f",
       "style": "IPY_MODEL_779c0d356e134116a834edf79e733609"
      }
     },
     "ad7ee93bc69e44238236082c27729623": {
      "model_module": "@jupyter-widgets/controls",
      "model_module_version": "1.4.0",
      "model_name": "LabelModel",
      "state": {
       "layout": "IPY_MODEL_32c998c40fcb45f29c5f62895b3ae599",
       "style": "IPY_MODEL_3e952182f68c4e9ab7e75f184898c9a2",
       "value": "Ka:"
      }
     },
     "ad88204fbe9a48e0978492ccd91ad57b": {
      "model_module": "@jupyter-widgets/base",
      "model_module_version": "1.1.0",
      "model_name": "LayoutModel",
      "state": {}
     },
     "ad8f79d762fa4eb4b640314da6950629": {
      "model_module": "@jupyter-widgets/controls",
      "model_module_version": "1.4.0",
      "model_name": "HBoxModel",
      "state": {
       "children": [
        "IPY_MODEL_6313022924144436af1f7f4cd8e9779c"
       ],
       "layout": "IPY_MODEL_c51bdfc13b47415f9460f0ee83c1df87"
      }
     },
     "ada0e8828ac343df9e9760d6df6d9714": {
      "model_module": "@jupyter-widgets/base",
      "model_module_version": "1.1.0",
      "model_name": "LayoutModel",
      "state": {}
     },
     "adb4d4606a424246aaccb800cd1f30df": {
      "model_module": "@jupyter-widgets/base",
      "model_module_version": "1.1.0",
      "model_name": "LayoutModel",
      "state": {}
     },
     "add2942f83e541c2af6d4410e83b6dde": {
      "model_module": "@jupyter-widgets/base",
      "model_module_version": "1.1.0",
      "model_name": "LayoutModel",
      "state": {}
     },
     "add9bf7eae994418b676c6558ec5f0f1": {
      "model_module": "@jupyter-widgets/controls",
      "model_module_version": "1.4.0",
      "model_name": "DescriptionStyleModel",
      "state": {
       "description_width": ""
      }
     },
     "ade065b9c0274c9f8243ed695fe68333": {
      "model_module": "@jupyter-widgets/controls",
      "model_module_version": "1.4.0",
      "model_name": "DescriptionStyleModel",
      "state": {
       "description_width": ""
      }
     },
     "ade07f29b03d42f9af3c3c14c7d31ea0": {
      "model_module": "@jupyter-widgets/base",
      "model_module_version": "1.1.0",
      "model_name": "LayoutModel",
      "state": {}
     },
     "ae2970f665224c9fbc4420c1cffb665d": {
      "model_module": "@jupyter-widgets/base",
      "model_module_version": "1.1.0",
      "model_name": "LayoutModel",
      "state": {}
     },
     "ae665ed5b04d42f1b2b624cfbc726e6f": {
      "model_module": "@jupyter-widgets/base",
      "model_module_version": "1.1.0",
      "model_name": "LayoutModel",
      "state": {}
     },
     "aec6d0f1383e406296db3be22810ad9c": {
      "model_module": "@jupyter-widgets/controls",
      "model_module_version": "1.4.0",
      "model_name": "LabelModel",
      "state": {
       "layout": "IPY_MODEL_409aba40e57f41d5bb4f1379e4152d4e",
       "style": "IPY_MODEL_f48ce26f0db74d56b4257564f06b803e",
       "value": "La:"
      }
     },
     "aecb9207ab8d41ffb563fc62ebc16006": {
      "model_module": "@jupyter-widgets/output",
      "model_module_version": "1.0.0",
      "model_name": "OutputModel",
      "state": {
       "layout": "IPY_MODEL_3882f6bf357a4adab0cd5691b4c6c866",
       "outputs": [
        {
         "name": "stdout",
         "output_type": "stream",
         "text": "The Aa's eigenvalues are: -2.24+2.23j, -2.24+-2.23j, -0.28+0.00j, -0.26+0.32j and -0.26+-0.32j\nThe observer\\s eigenvalues are: -10.00+0.00j and -10.00+0.00j\n"
        }
       ]
      }
     },
     "aef9a5d2035249b8a3333a29aded71de": {
      "model_module": "@jupyter-widgets/controls",
      "model_module_version": "1.4.0",
      "model_name": "FloatTextModel",
      "state": {
       "layout": "IPY_MODEL_aa41ddcb506d4d6a8ae6f55403ae7d59",
       "step": null,
       "style": "IPY_MODEL_0706e16b9ab64db69dc8b23ae2724d9e",
       "value": -0.5
      }
     },
     "af33c6205ab247349a81557418e23272": {
      "model_module": "@jupyter-widgets/base",
      "model_module_version": "1.1.0",
      "model_name": "LayoutModel",
      "state": {}
     },
     "af6f99f25c5f46168e1651111b8ad41b": {
      "model_module": "@jupyter-widgets/controls",
      "model_module_version": "1.4.0",
      "model_name": "DescriptionStyleModel",
      "state": {
       "description_width": ""
      }
     },
     "b05b346ca5f149c68313830c8017a0c4": {
      "model_module": "@jupyter-widgets/controls",
      "model_module_version": "1.4.0",
      "model_name": "LabelModel",
      "state": {
       "layout": "IPY_MODEL_37d23d6207874b9db8948c62f4cd0835",
       "style": "IPY_MODEL_4bdfb3011517401eace9dacb974b719c"
      }
     },
     "b080ba2fe8b74e95941fc70e47b839e1": {
      "model_module": "@jupyter-widgets/controls",
      "model_module_version": "1.4.0",
      "model_name": "VBoxModel",
      "state": {
       "children": [
        "IPY_MODEL_ad8f79d762fa4eb4b640314da6950629"
       ],
       "layout": "IPY_MODEL_deaede3f369447fa81a975c26718206a"
      }
     },
     "b091aa29372a4b588df50dbfdb73bfca": {
      "model_module": "@jupyter-widgets/controls",
      "model_module_version": "1.4.0",
      "model_name": "DescriptionStyleModel",
      "state": {
       "description_width": ""
      }
     },
     "b099da3d4c434dc5847966b8cdd77694": {
      "model_module": "@jupyter-widgets/base",
      "model_module_version": "1.1.0",
      "model_name": "LayoutModel",
      "state": {}
     },
     "b16de3267e844d5893eb86aa89317258": {
      "model_module": "@jupyter-widgets/base",
      "model_module_version": "1.1.0",
      "model_name": "LayoutModel",
      "state": {}
     },
     "b21b2a2d1b35450395e3c319fc54c196": {
      "model_module": "@jupyter-widgets/controls",
      "model_module_version": "1.4.0",
      "model_name": "FloatTextModel",
      "state": {
       "layout": "IPY_MODEL_e2a06b360f0e49c6be50c844c97854d2",
       "step": null,
       "style": "IPY_MODEL_a6ad84dbfce948f98666e1dd20d617e5",
       "value": -0.6
      }
     },
     "b2d05cd7284844c9a283bfeaa163772d": {
      "model_module": "@jupyter-widgets/controls",
      "model_module_version": "1.4.0",
      "model_name": "LabelModel",
      "state": {
       "layout": "IPY_MODEL_3e59c5655b3f41d1aaf0f24e30cdd54c",
       "style": "IPY_MODEL_2bc216ef3e2d46c8b160d194b072936c",
       "value": "Aobs's eigs:"
      }
     },
     "b33e7488490b4fa8ba525c1d8fbb4126": {
      "model_module": "@jupyter-widgets/controls",
      "model_module_version": "1.4.0",
      "model_name": "DescriptionStyleModel",
      "state": {
       "description_width": ""
      }
     },
     "b438c6c4dba24c86a5f99cb78a66dc10": {
      "model_module": "@jupyter-widgets/base",
      "model_module_version": "1.1.0",
      "model_name": "LayoutModel",
      "state": {}
     },
     "b44a86c421fc453e90a3fbdd66345770": {
      "model_module": "@jupyter-widgets/base",
      "model_module_version": "1.1.0",
      "model_name": "LayoutModel",
      "state": {}
     },
     "b45ddf3e5d6349ee82a4176a026af3aa": {
      "model_module": "@jupyter-widgets/controls",
      "model_module_version": "1.4.0",
      "model_name": "DescriptionStyleModel",
      "state": {
       "description_width": ""
      }
     },
     "b5581d35824c472bb9eaac0a5762f404": {
      "model_module": "@jupyter-widgets/controls",
      "model_module_version": "1.4.0",
      "model_name": "DropdownModel",
      "state": {
       "_options_labels": [
        "0 complex eigenvalues",
        "2 complex eigenvalues"
       ],
       "description": "Aobs:",
       "disabled": true,
       "index": 0,
       "layout": "IPY_MODEL_ebb16ece53454ebcaf4e7e76b58df6c0",
       "style": "IPY_MODEL_b45ddf3e5d6349ee82a4176a026af3aa"
      }
     },
     "b55b9482c3094a98a8cf619d230dbc9b": {
      "model_module": "@jupyter-widgets/controls",
      "model_module_version": "1.4.0",
      "model_name": "LabelModel",
      "state": {
       "layout": "IPY_MODEL_ca11427347f64c5f951f50f087770cb1",
       "style": "IPY_MODEL_fa6b3a1cd38f4591b1ea46c619cb3030"
      }
     },
     "b56385a123a9454aa4c26e576ee9e00e": {
      "model_module": "@jupyter-widgets/controls",
      "model_module_version": "1.4.0",
      "model_name": "LabelModel",
      "state": {
       "layout": "IPY_MODEL_285f9014036e4d5485f9c4c625564664",
       "style": "IPY_MODEL_ddcde07e7b004058846b6f64691c5b1b",
       "value": "Aa's eigs:"
      }
     },
     "b5a41552b1c54b3b8c58bfc026388d4f": {
      "model_module": "@jupyter-widgets/controls",
      "model_module_version": "1.4.0",
      "model_name": "DescriptionStyleModel",
      "state": {
       "description_width": ""
      }
     },
     "b60b7d037b5b45aba5cce6360c0cb3fe": {
      "model_module": "@jupyter-widgets/controls",
      "model_module_version": "1.4.0",
      "model_name": "DescriptionStyleModel",
      "state": {
       "description_width": ""
      }
     },
     "b6573d23f34546ba8e2cbf2b6767a8e1": {
      "model_module": "@jupyter-widgets/base",
      "model_module_version": "1.1.0",
      "model_name": "LayoutModel",
      "state": {
       "width": "90px"
      }
     },
     "b6800bb5073f4fb49de9e3b04e45f578": {
      "model_module": "@jupyter-widgets/controls",
      "model_module_version": "1.4.0",
      "model_name": "FloatTextModel",
      "state": {
       "layout": "IPY_MODEL_f13fe2c0b63c45769a832e70c2b163af",
       "step": null,
       "style": "IPY_MODEL_4255965f2e914f35bb60cb680011283c",
       "value": -1
      }
     },
     "b6fa08a5501e4a248ede49d190466047": {
      "model_module": "@jupyter-widgets/controls",
      "model_module_version": "1.4.0",
      "model_name": "DescriptionStyleModel",
      "state": {
       "description_width": ""
      }
     },
     "b71de6e879bf43289b585f20d30e8ed5": {
      "model_module": "@jupyter-widgets/controls",
      "model_module_version": "1.4.0",
      "model_name": "LabelModel",
      "state": {
       "layout": "IPY_MODEL_bb537de9ef7642bb900cce4aa0f97117",
       "style": "IPY_MODEL_8bd8a16f4c984ae9a3b83d639201f311"
      }
     },
     "b735c37b54aa43c8a0944fb020c85b42": {
      "model_module": "@jupyter-widgets/controls",
      "model_module_version": "1.4.0",
      "model_name": "DescriptionStyleModel",
      "state": {
       "description_width": ""
      }
     },
     "b7643201185d4a7eb66c0e9807d1fef7": {
      "model_module": "@jupyter-widgets/controls",
      "model_module_version": "1.4.0",
      "model_name": "FloatTextModel",
      "state": {
       "layout": "IPY_MODEL_dd481a0bcf16447a9ec5d9d36bfe144d",
       "step": null,
       "style": "IPY_MODEL_07cc0da023a94e43b22b059533bc0e4a",
       "value": -13.333333333333334
      }
     },
     "b797a5ddd90043d48dd5a77c0f954f95": {
      "model_module": "@jupyter-widgets/base",
      "model_module_version": "1.1.0",
      "model_name": "LayoutModel",
      "state": {}
     },
     "b7a97461761e4eecb7aa7b1254c26810": {
      "model_module": "@jupyter-widgets/base",
      "model_module_version": "1.1.0",
      "model_name": "LayoutModel",
      "state": {}
     },
     "b7ba6d95d1874a64bb2fb648a182f59f": {
      "model_module": "@jupyter-widgets/base",
      "model_module_version": "1.1.0",
      "model_name": "LayoutModel",
      "state": {}
     },
     "b7e50fc8f17b4abca78f401029a01bc2": {
      "model_module": "@jupyter-widgets/base",
      "model_module_version": "1.1.0",
      "model_name": "LayoutModel",
      "state": {}
     },
     "b834c7522897405288cb212a55b55289": {
      "model_module": "@jupyter-widgets/controls",
      "model_module_version": "1.4.0",
      "model_name": "FloatTextModel",
      "state": {
       "layout": "IPY_MODEL_7a9f39ecd9174a5a8dc508b3f593a736",
       "step": null,
       "style": "IPY_MODEL_3430f1d432be4157a235f074511b7e3e",
       "value": -0.2
      }
     },
     "b8b2f07ee6c64dc180f184dafa3db11a": {
      "model_module": "@jupyter-widgets/controls",
      "model_module_version": "1.4.0",
      "model_name": "DescriptionStyleModel",
      "state": {
       "description_width": ""
      }
     },
     "b952ba902f6a46968b42685d2716bfea": {
      "model_module": "@jupyter-widgets/controls",
      "model_module_version": "1.4.0",
      "model_name": "DropdownModel",
      "state": {
       "_options_labels": [
        "0 complex eigenvalues",
        "2 complex eigenvalues",
        "4 complex eigenvalues"
       ],
       "description": "Aa:",
       "disabled": true,
       "index": 0,
       "layout": "IPY_MODEL_000b9c5ed55f49e3a82cde3b11cd106c",
       "style": "IPY_MODEL_cea3dc89a5674bed860a1c0e14d1b995"
      }
     },
     "b96be3625e894b758c148ca1a3566d8e": {
      "model_module": "@jupyter-widgets/base",
      "model_module_version": "1.1.0",
      "model_name": "LayoutModel",
      "state": {}
     },
     "b9934d2ea426442b947bc55a6a98475c": {
      "model_module": "@jupyter-widgets/controls",
      "model_module_version": "1.4.0",
      "model_name": "LabelModel",
      "state": {
       "layout": "IPY_MODEL_58a2970073704e67a4a30380a7830767",
       "style": "IPY_MODEL_68537adbed234b189596496e5d19778e",
       "value": "Ka:"
      }
     },
     "b9ab7a820e01496bac78cac867d8987e": {
      "model_module": "@jupyter-widgets/base",
      "model_module_version": "1.1.0",
      "model_name": "LayoutModel",
      "state": {}
     },
     "ba39f17a808848619246755a9efb4013": {
      "model_module": "@jupyter-widgets/controls",
      "model_module_version": "1.4.0",
      "model_name": "DescriptionStyleModel",
      "state": {
       "description_width": ""
      }
     },
     "bad08b1eee074bc3b71be5dc3ac3cdde": {
      "model_module": "@jupyter-widgets/controls",
      "model_module_version": "1.4.0",
      "model_name": "HBoxModel",
      "state": {
       "children": [
        "IPY_MODEL_33330d6c86ba41eab73940f2280afb9a"
       ],
       "layout": "IPY_MODEL_78faa778293e4233bc1fa7fd155fb559"
      }
     },
     "bb1503441b804f2caeba60eca1ccbe5f": {
      "model_module": "@jupyter-widgets/controls",
      "model_module_version": "1.4.0",
      "model_name": "DescriptionStyleModel",
      "state": {
       "description_width": ""
      }
     },
     "bb537de9ef7642bb900cce4aa0f97117": {
      "model_module": "@jupyter-widgets/base",
      "model_module_version": "1.1.0",
      "model_name": "LayoutModel",
      "state": {}
     },
     "bb953ac90d224d4f936514edcfe673ca": {
      "model_module": "@jupyter-widgets/base",
      "model_module_version": "1.1.0",
      "model_name": "LayoutModel",
      "state": {}
     },
     "bc57fb4c89304c8489fdd40e587aba43": {
      "model_module": "@jupyter-widgets/controls",
      "model_module_version": "1.4.0",
      "model_name": "LabelModel",
      "state": {
       "layout": "IPY_MODEL_3a5b38eedfc246fb8c78fd0753841d63",
       "style": "IPY_MODEL_7ebbc139ae8c405bbaa34222e70c1838"
      }
     },
     "bc95ce86f973460686ff28ab1ad25643": {
      "model_module": "@jupyter-widgets/controls",
      "model_module_version": "1.4.0",
      "model_name": "DescriptionStyleModel",
      "state": {
       "description_width": ""
      }
     },
     "bcfa49fa72d34a4ea767dcb731e0630f": {
      "model_module": "@jupyter-widgets/base",
      "model_module_version": "1.1.0",
      "model_name": "LayoutModel",
      "state": {}
     },
     "bd3eeb55a66a4475a7aca37d905b30d1": {
      "model_module": "@jupyter-widgets/controls",
      "model_module_version": "1.4.0",
      "model_name": "HBoxModel",
      "state": {
       "children": [
        "IPY_MODEL_992d4f926f4b47b79dee5492a88d012f"
       ],
       "layout": "IPY_MODEL_fbf8566bdb534d5dbaa859344be12c0e"
      }
     },
     "bd60702069184fb9b8892a8ebb072f01": {
      "model_module": "@jupyter-widgets/controls",
      "model_module_version": "1.4.0",
      "model_name": "DescriptionStyleModel",
      "state": {
       "description_width": ""
      }
     },
     "bd94108b305f407c92c6883909612aa9": {
      "model_module": "@jupyter-widgets/base",
      "model_module_version": "1.1.0",
      "model_name": "LayoutModel",
      "state": {}
     },
     "bd9ea8fefa454648bd9002246ab78f65": {
      "model_module": "@jupyter-widgets/base",
      "model_module_version": "1.1.0",
      "model_name": "LayoutModel",
      "state": {}
     },
     "bde8952344054e1a9af20bcf7482c849": {
      "model_module": "@jupyter-widgets/controls",
      "model_module_version": "1.4.0",
      "model_name": "DescriptionStyleModel",
      "state": {
       "description_width": ""
      }
     },
     "be0cf595c1f14317a7aaeb76f485754c": {
      "model_module": "@jupyter-widgets/controls",
      "model_module_version": "1.4.0",
      "model_name": "FloatTextModel",
      "state": {
       "layout": "IPY_MODEL_ddcab2b7d2f24f068e314b8d90dc90c0",
       "step": null,
       "style": "IPY_MODEL_d75a7d3e1ca540808fcdb68964032440",
       "value": 2225
      }
     },
     "bebe51591c7f4204987782700ddac779": {
      "model_module": "@jupyter-widgets/base",
      "model_module_version": "1.1.0",
      "model_name": "LayoutModel",
      "state": {
       "height": "0px",
       "width": "0px"
      }
     },
     "bf122223b2724a248d55dd42cc9b3191": {
      "model_module": "@jupyter-widgets/base",
      "model_module_version": "1.1.0",
      "model_name": "LayoutModel",
      "state": {}
     },
     "bf2afba8a3e24272b0f88f8f1da4703f": {
      "model_module": "@jupyter-widgets/output",
      "model_module_version": "1.0.0",
      "model_name": "OutputModel",
      "state": {
       "layout": "IPY_MODEL_2d87c6683db741b78597a76dece4e1fc",
       "outputs": [
        {
         "name": "stdout",
         "output_type": "stream",
         "text": "The Aa's eigenvalues are: -2.24+2.23j, -2.24+-2.23j, -0.28+0.00j, -0.26+0.32j and -0.26+-0.32j\nThe observer\\s eigenvalues are: -10.00+0.00j and -10.00+0.00j\n"
        }
       ]
      }
     },
     "bf5b937f5c5c49df9d883ad5b1642e3c": {
      "model_module": "@jupyter-widgets/controls",
      "model_module_version": "1.4.0",
      "model_name": "LabelModel",
      "state": {
       "layout": "IPY_MODEL_27928ffdf5e14aceb43b8fca906689b0",
       "style": "IPY_MODEL_add9bf7eae994418b676c6558ec5f0f1"
      }
     },
     "bf60fd5a02a84f84b747fdca371c5248": {
      "model_module": "@jupyter-widgets/controls",
      "model_module_version": "1.4.0",
      "model_name": "LabelModel",
      "state": {
       "layout": "IPY_MODEL_93937d7b6ac642c29e9b061c59a3db2a",
       "style": "IPY_MODEL_a4573b1d69b94da6abe2d29a5940a904",
       "value": "Aobs's eigs:"
      }
     },
     "bf796660e99f47128f6d0e118966cbdd": {
      "model_module": "@jupyter-widgets/controls",
      "model_module_version": "1.4.0",
      "model_name": "DescriptionStyleModel",
      "state": {
       "description_width": ""
      }
     },
     "bfc0aca326e44e0e8cfa33e7a1b1d630": {
      "model_module": "@jupyter-widgets/controls",
      "model_module_version": "1.4.0",
      "model_name": "DescriptionStyleModel",
      "state": {
       "description_width": ""
      }
     },
     "bfccc83056ff48b88eb7630784f232d4": {
      "model_module": "@jupyter-widgets/base",
      "model_module_version": "1.1.0",
      "model_name": "LayoutModel",
      "state": {
       "height": "0px",
       "width": "0px"
      }
     },
     "c10b5ac94db5488995240984fb80572d": {
      "model_module": "@jupyter-widgets/base",
      "model_module_version": "1.1.0",
      "model_name": "LayoutModel",
      "state": {
       "width": "90px"
      }
     },
     "c17f2e2a351e46d0911e870da02c8ea4": {
      "model_module": "@jupyter-widgets/controls",
      "model_module_version": "1.4.0",
      "model_name": "DescriptionStyleModel",
      "state": {
       "description_width": ""
      }
     },
     "c1cafa8250424af186c85c0f7a037d00": {
      "model_module": "@jupyter-widgets/controls",
      "model_module_version": "1.4.0",
      "model_name": "FloatTextModel",
      "state": {
       "layout": "IPY_MODEL_4b7fe40ee3a5498084895bbb1dede424",
       "step": null,
       "style": "IPY_MODEL_8fd79a5d01cf4dd2bd6af523b19f7ddc",
       "value": 13861
      }
     },
     "c1df267ba8884d4089f041f8885d57a9": {
      "model_module": "@jupyter-widgets/base",
      "model_module_version": "1.1.0",
      "model_name": "LayoutModel",
      "state": {}
     },
     "c20d04cf967e4aedb49c4c95999480fc": {
      "model_module": "@jupyter-widgets/base",
      "model_module_version": "1.1.0",
      "model_name": "LayoutModel",
      "state": {}
     },
     "c292b8874c4f4bcebed1c9a360df2964": {
      "model_module": "@jupyter-widgets/base",
      "model_module_version": "1.1.0",
      "model_name": "LayoutModel",
      "state": {
       "width": "90px"
      }
     },
     "c2b94464fe8c46c4bc766fc9342971bc": {
      "model_module": "@jupyter-widgets/base",
      "model_module_version": "1.1.0",
      "model_name": "LayoutModel",
      "state": {}
     },
     "c2e6bb3678aa4fb989cae61d26337c34": {
      "model_module": "@jupyter-widgets/controls",
      "model_module_version": "1.4.0",
      "model_name": "DescriptionStyleModel",
      "state": {
       "description_width": ""
      }
     },
     "c3383bbe576346f085ed887be29c1071": {
      "model_module": "@jupyter-widgets/base",
      "model_module_version": "1.1.0",
      "model_name": "LayoutModel",
      "state": {}
     },
     "c355d1874a554165b4099d8da3d35aef": {
      "model_module": "@jupyter-widgets/base",
      "model_module_version": "1.1.0",
      "model_name": "LayoutModel",
      "state": {}
     },
     "c362d636f1984bdd87b4377f49a3dfad": {
      "model_module": "@jupyter-widgets/base",
      "model_module_version": "1.1.0",
      "model_name": "LayoutModel",
      "state": {}
     },
     "c3862d402b5e4ae38fd7d2f0b2414ef0": {
      "model_module": "@jupyter-widgets/controls",
      "model_module_version": "1.4.0",
      "model_name": "DescriptionStyleModel",
      "state": {
       "description_width": ""
      }
     },
     "c422d11f60d5455bae304a583648d393": {
      "model_module": "@jupyter-widgets/controls",
      "model_module_version": "1.4.0",
      "model_name": "DescriptionStyleModel",
      "state": {
       "description_width": ""
      }
     },
     "c443bd8d6997435e91d118677137d5b6": {
      "model_module": "@jupyter-widgets/base",
      "model_module_version": "1.1.0",
      "model_name": "LayoutModel",
      "state": {}
     },
     "c4740552de6548d296f8e504838955f6": {
      "model_module": "@jupyter-widgets/controls",
      "model_module_version": "1.4.0",
      "model_name": "LabelModel",
      "state": {
       "layout": "IPY_MODEL_7fbf0af948254d5e833df4b7c1f732c3",
       "style": "IPY_MODEL_ca7a9803f8d347a8bbfd489404d2a012"
      }
     },
     "c4f81b149ff14f9db55f7a813b4739fd": {
      "model_module": "@jupyter-widgets/controls",
      "model_module_version": "1.4.0",
      "model_name": "FloatTextModel",
      "state": {
       "layout": "IPY_MODEL_2e269a8bd2094127a2842dba4c1a9b3e",
       "step": null,
       "style": "IPY_MODEL_b8b2f07ee6c64dc180f184dafa3db11a"
      }
     },
     "c51bdfc13b47415f9460f0ee83c1df87": {
      "model_module": "@jupyter-widgets/base",
      "model_module_version": "1.1.0",
      "model_name": "LayoutModel",
      "state": {}
     },
     "c528fa3f72494a119beabba3a6213bb7": {
      "model_module": "@jupyter-widgets/controls",
      "model_module_version": "1.4.0",
      "model_name": "DescriptionStyleModel",
      "state": {
       "description_width": ""
      }
     },
     "c52b71d3ecdd45499b48a31dc291647b": {
      "model_module": "@jupyter-widgets/controls",
      "model_module_version": "1.4.0",
      "model_name": "VBoxModel",
      "state": {
       "children": [
        "IPY_MODEL_239576f3ce7641f5ab0c6dbab3e5de53",
        "IPY_MODEL_577aaa8c389e41888c3f64239f36e562"
       ],
       "layout": "IPY_MODEL_4cb46cd0fbe245c188dd480c40e5a1d1"
      }
     },
     "c566d7ba152c41a9bb70e0b1399a0f3e": {
      "model_module": "@jupyter-widgets/controls",
      "model_module_version": "1.4.0",
      "model_name": "HBoxModel",
      "state": {
       "children": [
        "IPY_MODEL_361e3aca296d43a68f658aa71fa8a732",
        "IPY_MODEL_6ebbbf84215946a39d42606ed8a7c1f2",
        "IPY_MODEL_7fe5127d89ef40799cbefafadbcce0d4"
       ],
       "layout": "IPY_MODEL_bd9ea8fefa454648bd9002246ab78f65"
      }
     },
     "c6978c346278421ab9d3e0060569d705": {
      "model_module": "@jupyter-widgets/controls",
      "model_module_version": "1.4.0",
      "model_name": "DropdownModel",
      "state": {
       "_options_labels": [
        "Set Ka and La",
        "Set the eigenvalues"
       ],
       "index": 0,
       "layout": "IPY_MODEL_2c4fbbc1825c495c86831ef2286a8258",
       "style": "IPY_MODEL_75eb8481312149b8a778baff39c99828"
      }
     },
     "c6c48010219b4fb3bd1099d57920ba98": {
      "model_module": "@jupyter-widgets/base",
      "model_module_version": "1.1.0",
      "model_name": "LayoutModel",
      "state": {}
     },
     "c78317dc61044dcebc3800ab9500df9b": {
      "model_module": "@jupyter-widgets/base",
      "model_module_version": "1.1.0",
      "model_name": "LayoutModel",
      "state": {}
     },
     "c7b00e61644b476db2435289f46ce89e": {
      "model_module": "@jupyter-widgets/controls",
      "model_module_version": "1.4.0",
      "model_name": "DescriptionStyleModel",
      "state": {
       "description_width": ""
      }
     },
     "c7f5c40ad2064d6b9c79b7f03511bb7a": {
      "model_module": "@jupyter-widgets/controls",
      "model_module_version": "1.4.0",
      "model_name": "DescriptionStyleModel",
      "state": {
       "description_width": ""
      }
     },
     "c83210e37cf143c6a1e10c38173aaf36": {
      "model_module": "@jupyter-widgets/base",
      "model_module_version": "1.1.0",
      "model_name": "LayoutModel",
      "state": {}
     },
     "c833196d4f674ec093217cd10c5464e5": {
      "model_module": "@jupyter-widgets/base",
      "model_module_version": "1.1.0",
      "model_name": "LayoutModel",
      "state": {}
     },
     "c864e9e808124124b719b91097e41a7f": {
      "model_module": "@jupyter-widgets/base",
      "model_module_version": "1.1.0",
      "model_name": "LayoutModel",
      "state": {}
     },
     "c8ac5668b317410a9bcde617b0967dbc": {
      "model_module": "@jupyter-widgets/controls",
      "model_module_version": "1.4.0",
      "model_name": "VBoxModel",
      "state": {
       "children": [
        "IPY_MODEL_805372bc02a045c08c710be04f5bfce1",
        "IPY_MODEL_2529e49926cd4f8eb55dcc45178ec8f5",
        "IPY_MODEL_d823d4e7406a48cc92133077b3296559",
        "IPY_MODEL_4022fdb8345a466281cb4fb4e0f5a38e",
        "IPY_MODEL_05041977ab73417bb69ef1b71c64c7d9",
        "IPY_MODEL_0809ffdf306c4572b2936a4003504ebc",
        "IPY_MODEL_000105fdb4764586b8ebfab252a36567"
       ],
       "layout": "IPY_MODEL_10f2e8ae48e64a069fdfeda800e6969d"
      }
     },
     "c8e3b70f79e64a5a899729030d7b6963": {
      "model_module": "@jupyter-widgets/controls",
      "model_module_version": "1.4.0",
      "model_name": "FloatTextModel",
      "state": {
       "layout": "IPY_MODEL_3d7b33626e8645189c174b708efd6e17",
       "step": null,
       "style": "IPY_MODEL_307ff552afd445f8aa1f661c0d2a70ab",
       "value": -0.6
      }
     },
     "c9d80ab78eb147b392f2a6bc4c7e0cc4": {
      "model_module": "@jupyter-widgets/controls",
      "model_module_version": "1.4.0",
      "model_name": "VBoxModel",
      "state": {
       "children": [
        "IPY_MODEL_4b6ed1f5b4e8433a9a93b2f387086660",
        "IPY_MODEL_427a705fa0bf44fca560fc285307c61f",
        "IPY_MODEL_2ea7fb5a0dc94b24bc86d1d1361bf465",
        "IPY_MODEL_5555dc11b3b349c3afd005027d05a68b",
        "IPY_MODEL_ead2d37f897d4fdba7cc15fec55eb049",
        "IPY_MODEL_8694d410e6384208982d61b29be57d7b",
        "IPY_MODEL_84cbb61cc3c5445a88ac64650b4b8dfc"
       ],
       "layout": "IPY_MODEL_acc2a1e4067f46c38bb2cbd0039ce326"
      }
     },
     "ca11427347f64c5f951f50f087770cb1": {
      "model_module": "@jupyter-widgets/base",
      "model_module_version": "1.1.0",
      "model_name": "LayoutModel",
      "state": {}
     },
     "ca355890e53a4b8bb1d0575dac3c1bfc": {
      "model_module": "@jupyter-widgets/base",
      "model_module_version": "1.1.0",
      "model_name": "LayoutModel",
      "state": {}
     },
     "ca7a9803f8d347a8bbfd489404d2a012": {
      "model_module": "@jupyter-widgets/controls",
      "model_module_version": "1.4.0",
      "model_name": "DescriptionStyleModel",
      "state": {
       "description_width": ""
      }
     },
     "ca9c829a996f4f7c845b56e8cf922fbd": {
      "model_module": "@jupyter-widgets/controls",
      "model_module_version": "1.4.0",
      "model_name": "DescriptionStyleModel",
      "state": {
       "description_width": ""
      }
     },
     "caa6f261eca948c6b258eef4da69c2e3": {
      "model_module": "@jupyter-widgets/base",
      "model_module_version": "1.1.0",
      "model_name": "LayoutModel",
      "state": {
       "width": "90px"
      }
     },
     "caf38c4519e040de9884ca0747ab7001": {
      "model_module": "@jupyter-widgets/base",
      "model_module_version": "1.1.0",
      "model_name": "LayoutModel",
      "state": {
       "width": "90px"
      }
     },
     "cb3ccf44448e4da3abbc0bb88947e975": {
      "model_module": "@jupyter-widgets/controls",
      "model_module_version": "1.4.0",
      "model_name": "DescriptionStyleModel",
      "state": {
       "description_width": ""
      }
     },
     "cb9817ceda68404cbe65210d6c0e84ad": {
      "model_module": "@jupyter-widgets/controls",
      "model_module_version": "1.4.0",
      "model_name": "DescriptionStyleModel",
      "state": {
       "description_width": ""
      }
     },
     "cbd305ecffbf4083b47607d4767cdc71": {
      "model_module": "@jupyter-widgets/base",
      "model_module_version": "1.1.0",
      "model_name": "LayoutModel",
      "state": {}
     },
     "cc3ae6556e6544b3933ff37fcdc8b124": {
      "model_module": "@jupyter-widgets/controls",
      "model_module_version": "1.4.0",
      "model_name": "LabelModel",
      "state": {
       "layout": "IPY_MODEL_eea30c23809947ecacd9938a63398f49",
       "style": "IPY_MODEL_2b97208d6c1a4fd1966375b6e494aa89"
      }
     },
     "cc47e48caf85445fa010ce953bda0ba2": {
      "model_module": "@jupyter-widgets/base",
      "model_module_version": "1.1.0",
      "model_name": "LayoutModel",
      "state": {
       "width": "90px"
      }
     },
     "ccda01baacc445178323a8cafe80bd7a": {
      "model_module": "@jupyter-widgets/controls",
      "model_module_version": "1.4.0",
      "model_name": "LabelModel",
      "state": {
       "layout": "IPY_MODEL_7e442b8c4332480e8548cbdceab3a51f",
       "style": "IPY_MODEL_0fb6ebd5d60540b4a5135eecb46702e9",
       "value": "Aobs's eigs:"
      }
     },
     "cd02878c94fa4261b5a2f0b343ac62bb": {
      "model_module": "@jupyter-widgets/controls",
      "model_module_version": "1.4.0",
      "model_name": "LabelModel",
      "state": {
       "layout": "IPY_MODEL_3867427d28c94cc5bb52fa78e2eae3e1",
       "style": "IPY_MODEL_7959bdda77b0475b8c3a81a8686baf94"
      }
     },
     "cda7d59ecf3b463e83fbcca7d6ded37f": {
      "model_module": "@jupyter-widgets/controls",
      "model_module_version": "1.4.0",
      "model_name": "DescriptionStyleModel",
      "state": {
       "description_width": ""
      }
     },
     "cde5b2b3ac144657b77fc9480ee3664e": {
      "model_module": "@jupyter-widgets/controls",
      "model_module_version": "1.4.0",
      "model_name": "DescriptionStyleModel",
      "state": {
       "description_width": ""
      }
     },
     "ce2edb54fe42459ca62c2936d6529836": {
      "model_module": "@jupyter-widgets/controls",
      "model_module_version": "1.4.0",
      "model_name": "HBoxModel",
      "state": {
       "children": [
        "IPY_MODEL_aef9a5d2035249b8a3333a29aded71de"
       ],
       "layout": "IPY_MODEL_aa1c17dc86e6441485062eed23d3ab0a"
      }
     },
     "ce92781cb1694e5bae6daa60cfb2a7a9": {
      "model_module": "@jupyter-widgets/controls",
      "model_module_version": "1.4.0",
      "model_name": "FloatTextModel",
      "state": {
       "layout": "IPY_MODEL_1011a14be8014506987e6ff204d26d35",
       "step": null,
       "style": "IPY_MODEL_dcaa65dadfb54c3ebac14f03ddafbc15"
      }
     },
     "cea3dc89a5674bed860a1c0e14d1b995": {
      "model_module": "@jupyter-widgets/controls",
      "model_module_version": "1.4.0",
      "model_name": "DescriptionStyleModel",
      "state": {
       "description_width": ""
      }
     },
     "cea5f3291cc74af99d0e1ea2481ba90a": {
      "model_module": "@jupyter-widgets/base",
      "model_module_version": "1.1.0",
      "model_name": "LayoutModel",
      "state": {
       "width": "90px"
      }
     },
     "cf4f9f2b6fd841228e693206362f7c86": {
      "model_module": "@jupyter-widgets/controls",
      "model_module_version": "1.4.0",
      "model_name": "HBoxModel",
      "state": {
       "children": [
        "IPY_MODEL_5f4fd9d6e5fc4790959289c680e862cf",
        "IPY_MODEL_4c8e37c41a2d416a8c037d763d6ba024",
        "IPY_MODEL_a267df06d1fd4abdbeeaa4b209f965f6",
        "IPY_MODEL_4d2f31be201045a6af6ff6ed5f2d6c7d",
        "IPY_MODEL_84a0b15ddb034a2092338bd2b2ed63e9",
        "IPY_MODEL_f4b016746bb84426baca5c76043f6338",
        "IPY_MODEL_df169b343479430daedc153abc22243f",
        "IPY_MODEL_4f37e4abf7044e669b4f94075743f4dc",
        "IPY_MODEL_ccda01baacc445178323a8cafe80bd7a",
        "IPY_MODEL_b080ba2fe8b74e95941fc70e47b839e1",
        "IPY_MODEL_30ad82f4d06f4c2daaa68aeb2a06dd47"
       ],
       "layout": "IPY_MODEL_f7bd3d3a570f462a94866d884ec485ea"
      }
     },
     "cf52400e360c4a298036c4d771b8ae29": {
      "model_module": "@jupyter-widgets/controls",
      "model_module_version": "1.4.0",
      "model_name": "DescriptionStyleModel",
      "state": {
       "description_width": ""
      }
     },
     "cf7241c197e44ea78648dd7ece9cf032": {
      "model_module": "@jupyter-widgets/base",
      "model_module_version": "1.1.0",
      "model_name": "LayoutModel",
      "state": {
       "height": "0px",
       "width": "0px"
      }
     },
     "cf979171315d44bfbc2c0d6d41f6c225": {
      "model_module": "@jupyter-widgets/controls",
      "model_module_version": "1.4.0",
      "model_name": "LabelModel",
      "state": {
       "layout": "IPY_MODEL_00038a7d51314ae9804a45c996c3038a",
       "style": "IPY_MODEL_2158a36c2a104d1fae5f6a0fdcbc1e78",
       "value": "Aobs's eigs:"
      }
     },
     "cfac6a49ddc04836ab8776cb1d3b44a6": {
      "model_module": "@jupyter-widgets/controls",
      "model_module_version": "1.4.0",
      "model_name": "DescriptionStyleModel",
      "state": {
       "description_width": ""
      }
     },
     "d086c2b805214a99ac336e6b38227e34": {
      "model_module": "@jupyter-widgets/controls",
      "model_module_version": "1.4.0",
      "model_name": "LabelModel",
      "state": {
       "layout": "IPY_MODEL_b9ab7a820e01496bac78cac867d8987e",
       "style": "IPY_MODEL_439dd39502fa4ee18378ac424aae7331"
      }
     },
     "d116ebf0025c483093a9d7c0d666be31": {
      "model_module": "@jupyter-widgets/controls",
      "model_module_version": "1.4.0",
      "model_name": "LabelModel",
      "state": {
       "layout": "IPY_MODEL_5480124c50004a86b7b7cb590e0ac139",
       "style": "IPY_MODEL_775ff011a0444c48b7e5fea4746a0b23"
      }
     },
     "d11f6fc17f944785abd9427772fd5a6d": {
      "model_module": "@jupyter-widgets/base",
      "model_module_version": "1.1.0",
      "model_name": "LayoutModel",
      "state": {}
     },
     "d120caa23d324631a5a9da5ed06acf60": {
      "model_module": "@jupyter-widgets/controls",
      "model_module_version": "1.4.0",
      "model_name": "LabelModel",
      "state": {
       "layout": "IPY_MODEL_0a273f0c4e6e469698eb36d71e786546",
       "style": "IPY_MODEL_f1ebf687e130423a96df29607461d421"
      }
     },
     "d12e5a5b011349588613791490b0f7e0": {
      "model_module": "@jupyter-widgets/base",
      "model_module_version": "1.1.0",
      "model_name": "LayoutModel",
      "state": {}
     },
     "d15a903d9d274ec1921c31e4c33039b4": {
      "model_module": "@jupyter-widgets/controls",
      "model_module_version": "1.4.0",
      "model_name": "DropdownModel",
      "state": {
       "_options_labels": [
        "0 complex eigenvalues",
        "2 complex eigenvalues",
        "4 complex eigenvalues"
       ],
       "description": "Aa:",
       "disabled": true,
       "index": 0,
       "layout": "IPY_MODEL_c20d04cf967e4aedb49c4c95999480fc",
       "style": "IPY_MODEL_3737cb895e114ff3a7264b637d8ad44b"
      }
     },
     "d27c9566e96940a7806b2168e19f1ce9": {
      "model_module": "@jupyter-widgets/controls",
      "model_module_version": "1.4.0",
      "model_name": "DescriptionStyleModel",
      "state": {
       "description_width": ""
      }
     },
     "d29d0b24a5734139942bdffc549f83e2": {
      "model_module": "@jupyter-widgets/controls",
      "model_module_version": "1.4.0",
      "model_name": "HBoxModel",
      "state": {
       "children": [
        "IPY_MODEL_b834c7522897405288cb212a55b55289"
       ],
       "layout": "IPY_MODEL_ad88204fbe9a48e0978492ccd91ad57b"
      }
     },
     "d34a230dde2c42bdb1c91cd1929452d1": {
      "model_module": "@jupyter-widgets/base",
      "model_module_version": "1.1.0",
      "model_name": "LayoutModel",
      "state": {}
     },
     "d4a0305616f9402ea84a9e8b0e1fae85": {
      "model_module": "@jupyter-widgets/controls",
      "model_module_version": "1.4.0",
      "model_name": "FloatTextModel",
      "state": {
       "layout": "IPY_MODEL_62df66a2062b4fb6b65a3ec5bd498614",
       "step": null,
       "style": "IPY_MODEL_b5a41552b1c54b3b8c58bfc026388d4f",
       "value": -0.6
      }
     },
     "d4f898ed505f4e5a918ae8166d217c23": {
      "model_module": "@jupyter-widgets/base",
      "model_module_version": "1.1.0",
      "model_name": "LayoutModel",
      "state": {
       "width": "90px"
      }
     },
     "d5286389e31f44d0a068455235d65e4f": {
      "model_module": "@jupyter-widgets/controls",
      "model_module_version": "1.4.0",
      "model_name": "VBoxModel",
      "state": {
       "children": [
        "IPY_MODEL_a233f2749697478193516c67501f9bf6"
       ],
       "layout": "IPY_MODEL_da4ae4ef89f24d84aa942554a50d86d2"
      }
     },
     "d55492cfde34474dbdce90063cf320f9": {
      "model_module": "@jupyter-widgets/controls",
      "model_module_version": "1.4.0",
      "model_name": "HBoxModel",
      "state": {
       "children": [
        "IPY_MODEL_0aa0bfe4046d4bbd9e3b8fc7e923c19e",
        "IPY_MODEL_6813d187c1be497cb6ed99d0f1315fb5",
        "IPY_MODEL_acecc2cb78574027ab0f5990fddab600",
        "IPY_MODEL_58dabb22e34a44d890df2e51d5b9a651",
        "IPY_MODEL_78331c89a55344a69e9fb04c10aee086"
       ],
       "layout": "IPY_MODEL_8c56ab7322684d198695ba83389a51a8"
      }
     },
     "d5837d49afb144f4b62497a1eee8836b": {
      "model_module": "@jupyter-widgets/controls",
      "model_module_version": "1.4.0",
      "model_name": "LabelModel",
      "state": {
       "layout": "IPY_MODEL_e27cc49491614eb690e345b1f6bdc61a",
       "style": "IPY_MODEL_cde5b2b3ac144657b77fc9480ee3664e"
      }
     },
     "d5eaac2f67684a7b8ea7dd4c17f0b57e": {
      "model_module": "@jupyter-widgets/controls",
      "model_module_version": "1.4.0",
      "model_name": "LabelModel",
      "state": {
       "layout": "IPY_MODEL_1be046e383e644d6a6cfcf29b3777c99",
       "style": "IPY_MODEL_54a95624e0a04f319da0e5b1221e8e55",
       "value": "Aa's eigs:"
      }
     },
     "d602a0f11576447b8ef3d438d93728df": {
      "model_module": "@jupyter-widgets/base",
      "model_module_version": "1.1.0",
      "model_name": "LayoutModel",
      "state": {}
     },
     "d6271142c5a94a4084c7ba3c91dac19b": {
      "model_module": "@jupyter-widgets/controls",
      "model_module_version": "1.4.0",
      "model_name": "DescriptionStyleModel",
      "state": {
       "description_width": ""
      }
     },
     "d636b43c569f4fd99bb74ab2d8a9ca71": {
      "model_module": "@jupyter-widgets/base",
      "model_module_version": "1.1.0",
      "model_name": "LayoutModel",
      "state": {}
     },
     "d6431a11b46943d48afc9b025482f791": {
      "model_module": "@jupyter-widgets/base",
      "model_module_version": "1.1.0",
      "model_name": "LayoutModel",
      "state": {}
     },
     "d6839054cd8f4840b7ceabe64adb74a1": {
      "model_module": "@jupyter-widgets/base",
      "model_module_version": "1.1.0",
      "model_name": "LayoutModel",
      "state": {
       "width": "90px"
      }
     },
     "d7419d00e6774ceb8dbccfc5cf652bfd": {
      "model_module": "@jupyter-widgets/controls",
      "model_module_version": "1.4.0",
      "model_name": "VBoxModel",
      "state": {
       "children": [
        "IPY_MODEL_4115501ee8ec4fccaf278e05a7084396"
       ],
       "layout": "IPY_MODEL_770bc17e71b2425a9baa0f95f322df5b"
      }
     },
     "d75a7d3e1ca540808fcdb68964032440": {
      "model_module": "@jupyter-widgets/controls",
      "model_module_version": "1.4.0",
      "model_name": "DescriptionStyleModel",
      "state": {
       "description_width": ""
      }
     },
     "d823d4e7406a48cc92133077b3296559": {
      "model_module": "@jupyter-widgets/controls",
      "model_module_version": "1.4.0",
      "model_name": "HBoxModel",
      "state": {
       "children": [
        "IPY_MODEL_84e0e3299523499e8fd5a56d12529891",
        "IPY_MODEL_d5286389e31f44d0a068455235d65e4f",
        "IPY_MODEL_842a3f1f0a374c2581602ab8e7600ef6",
        "IPY_MODEL_0f14d36f2e474b439c5338a92acccce0",
        "IPY_MODEL_1fd1af9aa2e34834a4365140e0e3935c",
        "IPY_MODEL_c52b71d3ecdd45499b48a31dc291647b"
       ],
       "layout": "IPY_MODEL_23c82a3754bb4588a4f865849a294568"
      }
     },
     "d859c2d997d6489089f973bec38b3477": {
      "model_module": "@jupyter-widgets/base",
      "model_module_version": "1.1.0",
      "model_name": "LayoutModel",
      "state": {}
     },
     "d8ddf5e62d8a4ddb9e10b54c206800f0": {
      "model_module": "@jupyter-widgets/base",
      "model_module_version": "1.1.0",
      "model_name": "LayoutModel",
      "state": {}
     },
     "d8e55f37c7ae4f07a6fe84a107d33436": {
      "model_module": "@jupyter-widgets/controls",
      "model_module_version": "1.4.0",
      "model_name": "VBoxModel",
      "state": {
       "children": [
        "IPY_MODEL_6caafdd1e1cd4b19a7eeab28deadac64",
        "IPY_MODEL_7acc1d43c7b04f48ada380ce26debb40",
        "IPY_MODEL_3f1ae226f21a4f758daa4a0993a2a3de",
        "IPY_MODEL_42a057f2f2d54c2580b4c3ae90d7ce09",
        "IPY_MODEL_cf4f9f2b6fd841228e693206362f7c86",
        "IPY_MODEL_fa577bc5c8a24267b971d8d0213279dd",
        "IPY_MODEL_7d2ee53e7c144fdb9bf865c1baf9fe1e"
       ],
       "layout": "IPY_MODEL_6ebe86c6b2624222a1c2427ed2c6bb6e"
      }
     },
     "d8ff54fe12f1431ea8b625991bef5e76": {
      "model_module": "@jupyter-widgets/base",
      "model_module_version": "1.1.0",
      "model_name": "LayoutModel",
      "state": {}
     },
     "d9674b7571de42baa745dd6b7c6ecbe8": {
      "model_module": "@jupyter-widgets/controls",
      "model_module_version": "1.4.0",
      "model_name": "DropdownModel",
      "state": {
       "_options_labels": [
        "0 complex eigenvalues",
        "2 complex eigenvalues",
        "4 complex eigenvalues"
       ],
       "description": "Aa:",
       "disabled": true,
       "index": 0,
       "layout": "IPY_MODEL_adb4d4606a424246aaccb800cd1f30df",
       "style": "IPY_MODEL_bd60702069184fb9b8892a8ebb072f01"
      }
     },
     "d9db35bcd55b452caf07ceee07f65e96": {
      "model_module": "@jupyter-widgets/controls",
      "model_module_version": "1.4.0",
      "model_name": "DescriptionStyleModel",
      "state": {
       "description_width": ""
      }
     },
     "da40a5d500a24119bae8200ab190284c": {
      "model_module": "@jupyter-widgets/controls",
      "model_module_version": "1.4.0",
      "model_name": "FloatTextModel",
      "state": {
       "layout": "IPY_MODEL_87536ddd51344558bd4978bbb9aa5d77",
       "step": null,
       "style": "IPY_MODEL_e1298497023e4a4ba0be17974a39ac75",
       "value": -10
      }
     },
     "da4ae4ef89f24d84aa942554a50d86d2": {
      "model_module": "@jupyter-widgets/base",
      "model_module_version": "1.1.0",
      "model_name": "LayoutModel",
      "state": {}
     },
     "da90a50bcb3b4b1ab14fcb5e9ddde844": {
      "model_module": "@jupyter-widgets/controls",
      "model_module_version": "1.4.0",
      "model_name": "DescriptionStyleModel",
      "state": {
       "description_width": ""
      }
     },
     "daf87ceba6fc4cff807558eed8167824": {
      "model_module": "@jupyter-widgets/controls",
      "model_module_version": "1.4.0",
      "model_name": "DescriptionStyleModel",
      "state": {
       "description_width": ""
      }
     },
     "db0dab36d9de4171987fb292d7f515ea": {
      "model_module": "@jupyter-widgets/controls",
      "model_module_version": "1.4.0",
      "model_name": "DescriptionStyleModel",
      "state": {
       "description_width": ""
      }
     },
     "db0e4a9359f5475aa13393f9164115b8": {
      "model_module": "@jupyter-widgets/controls",
      "model_module_version": "1.4.0",
      "model_name": "DescriptionStyleModel",
      "state": {
       "description_width": ""
      }
     },
     "db615f930a5444898a71cb10d3e0db3d": {
      "model_module": "@jupyter-widgets/controls",
      "model_module_version": "1.4.0",
      "model_name": "LabelModel",
      "state": {
       "layout": "IPY_MODEL_1a89916030dc4f8ba8438c3a8c5bbd69",
       "style": "IPY_MODEL_c17f2e2a351e46d0911e870da02c8ea4"
      }
     },
     "db9be7d14e6e4c8ba51e903b13c55e3b": {
      "model_module": "@jupyter-widgets/controls",
      "model_module_version": "1.4.0",
      "model_name": "DescriptionStyleModel",
      "state": {
       "description_width": ""
      }
     },
     "dbb050e8d85846bf845411834a32a4c5": {
      "model_module": "@jupyter-widgets/base",
      "model_module_version": "1.1.0",
      "model_name": "LayoutModel",
      "state": {}
     },
     "dbcee9f186f7420d9ea831d5ef775039": {
      "model_module": "@jupyter-widgets/controls",
      "model_module_version": "1.4.0",
      "model_name": "DropdownModel",
      "state": {
       "_options_labels": [
        "0 complex eigenvalues",
        "2 complex eigenvalues",
        "4 complex eigenvalues"
       ],
       "description": "Aa:",
       "disabled": true,
       "index": 0,
       "layout": "IPY_MODEL_4e069a3035154c4d8c0a47e5fe1f3b9b",
       "style": "IPY_MODEL_2130431e014a406d94f539f123ff4781"
      }
     },
     "dc452b89802e4d66ab5371b81f4bb4a2": {
      "model_module": "@jupyter-widgets/controls",
      "model_module_version": "1.4.0",
      "model_name": "DescriptionStyleModel",
      "state": {
       "description_width": ""
      }
     },
     "dcaa65dadfb54c3ebac14f03ddafbc15": {
      "model_module": "@jupyter-widgets/controls",
      "model_module_version": "1.4.0",
      "model_name": "DescriptionStyleModel",
      "state": {
       "description_width": ""
      }
     },
     "dce3a2ee8dff4853a756267ce47660ed": {
      "model_module": "@jupyter-widgets/base",
      "model_module_version": "1.1.0",
      "model_name": "LayoutModel",
      "state": {}
     },
     "dd21852b6b3d4d24a5e9dbedfd3b63e8": {
      "model_module": "@jupyter-widgets/controls",
      "model_module_version": "1.4.0",
      "model_name": "DescriptionStyleModel",
      "state": {
       "description_width": ""
      }
     },
     "dd34ed0f11bf4739983f6875ef0c9382": {
      "model_module": "@jupyter-widgets/controls",
      "model_module_version": "1.4.0",
      "model_name": "LabelModel",
      "state": {
       "layout": "IPY_MODEL_9edf3cd601b845089ed8bd5d7bc8d3eb",
       "style": "IPY_MODEL_db9be7d14e6e4c8ba51e903b13c55e3b",
       "value": "Aa's eigs:"
      }
     },
     "dd481a0bcf16447a9ec5d9d36bfe144d": {
      "model_module": "@jupyter-widgets/base",
      "model_module_version": "1.1.0",
      "model_name": "LayoutModel",
      "state": {
       "width": "90px"
      }
     },
     "dd750e074b794c73b436f80106ff3f09": {
      "model_module": "@jupyter-widgets/base",
      "model_module_version": "1.1.0",
      "model_name": "LayoutModel",
      "state": {}
     },
     "ddcab2b7d2f24f068e314b8d90dc90c0": {
      "model_module": "@jupyter-widgets/base",
      "model_module_version": "1.1.0",
      "model_name": "LayoutModel",
      "state": {
       "width": "90px"
      }
     },
     "ddcde07e7b004058846b6f64691c5b1b": {
      "model_module": "@jupyter-widgets/controls",
      "model_module_version": "1.4.0",
      "model_name": "DescriptionStyleModel",
      "state": {
       "description_width": ""
      }
     },
     "de0e0312dad54b3aac1bda5344f2766f": {
      "model_module": "@jupyter-widgets/base",
      "model_module_version": "1.1.0",
      "model_name": "LayoutModel",
      "state": {}
     },
     "de0f1909c75e430a86358a3fa0b9a995": {
      "model_module": "@jupyter-widgets/base",
      "model_module_version": "1.1.0",
      "model_name": "LayoutModel",
      "state": {}
     },
     "de50dcc76518449ca4190d0da5b78f9d": {
      "model_module": "@jupyter-widgets/base",
      "model_module_version": "1.1.0",
      "model_name": "LayoutModel",
      "state": {
       "width": "90px"
      }
     },
     "deaede3f369447fa81a975c26718206a": {
      "model_module": "@jupyter-widgets/base",
      "model_module_version": "1.1.0",
      "model_name": "LayoutModel",
      "state": {}
     },
     "def75223186b46c2ab6eb64e80dbe69d": {
      "model_module": "@jupyter-widgets/controls",
      "model_module_version": "1.4.0",
      "model_name": "DescriptionStyleModel",
      "state": {
       "description_width": ""
      }
     },
     "df169b343479430daedc153abc22243f": {
      "model_module": "@jupyter-widgets/controls",
      "model_module_version": "1.4.0",
      "model_name": "LabelModel",
      "state": {
       "layout": "IPY_MODEL_acfff617198a4fed9692133377da3b47",
       "style": "IPY_MODEL_01722e6449294095b69c3399e6500959"
      }
     },
     "df3fedfe68e347c793fc31f53922c394": {
      "model_module": "@jupyter-widgets/controls",
      "model_module_version": "1.4.0",
      "model_name": "LabelModel",
      "state": {
       "layout": "IPY_MODEL_b7ba6d95d1874a64bb2fb648a182f59f",
       "style": "IPY_MODEL_dfb9abd2d0f14f1daead298e97c516d9",
       "value": "Aobs's eigs:"
      }
     },
     "df4f2e5f7cac45da9930e46f5690c3a4": {
      "model_module": "@jupyter-widgets/controls",
      "model_module_version": "1.4.0",
      "model_name": "VBoxModel",
      "state": {
       "children": [
        "IPY_MODEL_eab4cc52bba041929aae83ca52b86262",
        "IPY_MODEL_703688b40d404ccbae95be27274af0cd"
       ],
       "layout": "IPY_MODEL_62d546d4642b403fb7e1f9e62e818f03"
      }
     },
     "df7ca8e6b4e943ab931b5b3d5c5c261c": {
      "model_module": "@jupyter-widgets/controls",
      "model_module_version": "1.4.0",
      "model_name": "DescriptionStyleModel",
      "state": {
       "description_width": ""
      }
     },
     "df806b0f9ea746d4b381b0f1ebe18cb0": {
      "model_module": "@jupyter-widgets/controls",
      "model_module_version": "1.4.0",
      "model_name": "HBoxModel",
      "state": {
       "children": [
        "IPY_MODEL_965ba5aa3bb648c899f8ba33fda5cf31",
        "IPY_MODEL_2207ee2b08c4446987f7e6023e83a82b",
        "IPY_MODEL_c1cafa8250424af186c85c0f7a037d00",
        "IPY_MODEL_1fc3130926714e67a16a6fa21598e553",
        "IPY_MODEL_356747a968bb4a48b3b7722036ed8bf4"
       ],
       "layout": "IPY_MODEL_290c5edce3fd4ba59715d66705fcdd2e"
      }
     },
     "dfb9abd2d0f14f1daead298e97c516d9": {
      "model_module": "@jupyter-widgets/controls",
      "model_module_version": "1.4.0",
      "model_name": "DescriptionStyleModel",
      "state": {
       "description_width": ""
      }
     },
     "e02b4d0e91cd456eb60b5d5243ba5cb5": {
      "model_module": "@jupyter-widgets/base",
      "model_module_version": "1.1.0",
      "model_name": "LayoutModel",
      "state": {
       "width": "90px"
      }
     },
     "e05554ca65324a6b8574c72ca47cf5b7": {
      "model_module": "@jupyter-widgets/controls",
      "model_module_version": "1.4.0",
      "model_name": "DescriptionStyleModel",
      "state": {
       "description_width": ""
      }
     },
     "e07495be61da490a943fd962a0b2267b": {
      "model_module": "@jupyter-widgets/controls",
      "model_module_version": "1.4.0",
      "model_name": "LabelModel",
      "state": {
       "layout": "IPY_MODEL_b16de3267e844d5893eb86aa89317258",
       "style": "IPY_MODEL_d6271142c5a94a4084c7ba3c91dac19b",
       "value": "Aobs's eigs:"
      }
     },
     "e07f8d2fd0284db8ac22cb54ea409be1": {
      "model_module": "@jupyter-widgets/controls",
      "model_module_version": "1.4.0",
      "model_name": "DescriptionStyleModel",
      "state": {
       "description_width": ""
      }
     },
     "e1298497023e4a4ba0be17974a39ac75": {
      "model_module": "@jupyter-widgets/controls",
      "model_module_version": "1.4.0",
      "model_name": "DescriptionStyleModel",
      "state": {
       "description_width": ""
      }
     },
     "e24fb2aa34f844d99bef9c6b7ccac677": {
      "model_module": "@jupyter-widgets/base",
      "model_module_version": "1.1.0",
      "model_name": "LayoutModel",
      "state": {}
     },
     "e25d85fff72e488ea4647079ab727aff": {
      "model_module": "@jupyter-widgets/controls",
      "model_module_version": "1.4.0",
      "model_name": "DescriptionStyleModel",
      "state": {
       "description_width": ""
      }
     },
     "e27cc49491614eb690e345b1f6bdc61a": {
      "model_module": "@jupyter-widgets/base",
      "model_module_version": "1.1.0",
      "model_name": "LayoutModel",
      "state": {}
     },
     "e2a06b360f0e49c6be50c844c97854d2": {
      "model_module": "@jupyter-widgets/base",
      "model_module_version": "1.1.0",
      "model_name": "LayoutModel",
      "state": {
       "width": "90px"
      }
     },
     "e2a1c41856004ffc9cd0fc59df88997a": {
      "model_module": "@jupyter-widgets/controls",
      "model_module_version": "1.4.0",
      "model_name": "DescriptionStyleModel",
      "state": {
       "description_width": ""
      }
     },
     "e2e6de4db47f4ddbacdbd9c843e1e45a": {
      "model_module": "@jupyter-widgets/controls",
      "model_module_version": "1.4.0",
      "model_name": "DescriptionStyleModel",
      "state": {
       "description_width": ""
      }
     },
     "e2f7fa09709b4f89842d92760ea43a0b": {
      "model_module": "@jupyter-widgets/controls",
      "model_module_version": "1.4.0",
      "model_name": "LabelModel",
      "state": {
       "layout": "IPY_MODEL_637824522a5343b0944c5428ef57aa0e",
       "style": "IPY_MODEL_fe09b783fe0d4b9099f6673b2feb299b"
      }
     },
     "e35ded94ccdb411fb3f03b38368623d6": {
      "model_module": "@jupyter-widgets/base",
      "model_module_version": "1.1.0",
      "model_name": "LayoutModel",
      "state": {
       "width": "90px"
      }
     },
     "e3f770ce4cf241e991c713aa951e5765": {
      "model_module": "@jupyter-widgets/controls",
      "model_module_version": "1.4.0",
      "model_name": "LabelModel",
      "state": {
       "layout": "IPY_MODEL_d8ff54fe12f1431ea8b625991bef5e76",
       "style": "IPY_MODEL_bb1503441b804f2caeba60eca1ccbe5f"
      }
     },
     "e4959a4ff1d6428da5531fb2bf42b5eb": {
      "model_module": "@jupyter-widgets/controls",
      "model_module_version": "1.4.0",
      "model_name": "DescriptionStyleModel",
      "state": {
       "description_width": ""
      }
     },
     "e497f72ac994442e867e12b0d2d6c200": {
      "model_module": "@jupyter-widgets/controls",
      "model_module_version": "1.4.0",
      "model_name": "DescriptionStyleModel",
      "state": {
       "description_width": ""
      }
     },
     "e53e8f35bab440248da43e8cba202569": {
      "model_module": "@jupyter-widgets/controls",
      "model_module_version": "1.4.0",
      "model_name": "LabelModel",
      "state": {
       "layout": "IPY_MODEL_3223149f706c4dd4ba260fe3446b92e8",
       "style": "IPY_MODEL_75b5652b09e4461cb6a99471967a68ea"
      }
     },
     "e5ab92b29f3841ce94407c273422297e": {
      "model_module": "@jupyter-widgets/output",
      "model_module_version": "1.0.0",
      "model_name": "OutputModel",
      "state": {
       "layout": "IPY_MODEL_ed2d5f8703174f18b4ac11810f7fc733",
       "outputs": [
        {
         "name": "stdout",
         "output_type": "stream",
         "text": "The Aa's eigenvalues are: -2.24+2.23j, -2.24+-2.23j, -0.28+0.00j, -0.26+0.32j and -0.26+-0.32j\nThe observer\\s eigenvalues are: -10.00+0.00j and -10.00+0.00j\n"
        }
       ]
      }
     },
     "e5ea03176a6d413cbda448812f9f9fac": {
      "model_module": "@jupyter-widgets/controls",
      "model_module_version": "1.4.0",
      "model_name": "DropdownModel",
      "state": {
       "_options_labels": [
        "0 complex eigenvalues",
        "2 complex eigenvalues",
        "4 complex eigenvalues"
       ],
       "description": "Aa:",
       "disabled": true,
       "index": 0,
       "layout": "IPY_MODEL_7799c212da6243439092d8e652f3343a",
       "style": "IPY_MODEL_3bcadc2f01354f5ebada7a948f377681"
      }
     },
     "e6198233953c4e6a91250039d906d212": {
      "model_module": "@jupyter-widgets/controls",
      "model_module_version": "1.4.0",
      "model_name": "HBoxModel",
      "state": {
       "children": [
        "IPY_MODEL_414f93245d2d4a25887f5123fa09bf44",
        "IPY_MODEL_6d68637432684016b0727f506afe0df5",
        "IPY_MODEL_f01b454caf0243f89fac5809d26d4cf2",
        "IPY_MODEL_3fe63ac60ab64ded984e9abeeff7abf5",
        "IPY_MODEL_317ee220faa84115bad387393653c51c",
        "IPY_MODEL_587e0f7d832d4ecc866fb0f39ea9d990",
        "IPY_MODEL_cc3ae6556e6544b3933ff37fcdc8b124",
        "IPY_MODEL_9f7de2b91d5f4664b24e72fafb4248bf",
        "IPY_MODEL_e07495be61da490a943fd962a0b2267b",
        "IPY_MODEL_a3c2a24a94aa456cbd6779a86c1f06ad",
        "IPY_MODEL_25be128dd26d4cd298247bbbc5bbe06a"
       ],
       "layout": "IPY_MODEL_5d6ef847aa5b48c8a1d6f71e115505d6"
      }
     },
     "e64a1f67ddd246a4b2817a99b07cca56": {
      "model_module": "@jupyter-widgets/controls",
      "model_module_version": "1.4.0",
      "model_name": "VBoxModel",
      "state": {
       "children": [
        "IPY_MODEL_df806b0f9ea746d4b381b0f1ebe18cb0"
       ],
       "layout": "IPY_MODEL_108b967aa86f464994fc814c54533fec"
      }
     },
     "e6710c1e57c84d0a8ac493e844396d61": {
      "model_module": "@jupyter-widgets/base",
      "model_module_version": "1.1.0",
      "model_name": "LayoutModel",
      "state": {}
     },
     "e675d75bec4b474dba2d599e91931cd2": {
      "model_module": "@jupyter-widgets/controls",
      "model_module_version": "1.4.0",
      "model_name": "HBoxModel",
      "state": {
       "children": [
        "IPY_MODEL_c6978c346278421ab9d3e0060569d705",
        "IPY_MODEL_b952ba902f6a46968b42685d2716bfea",
        "IPY_MODEL_416b8f7b106846d0870026946b4f6b5a"
       ],
       "layout": "IPY_MODEL_c833196d4f674ec093217cd10c5464e5"
      }
     },
     "e6f9740ecb9c4b1e890dc2e32b0d34a7": {
      "model_module": "@jupyter-widgets/base",
      "model_module_version": "1.1.0",
      "model_name": "LayoutModel",
      "state": {
       "height": "0px",
       "width": "0px"
      }
     },
     "e740dfcb3cf649d4bee10bf6ee195301": {
      "model_module": "@jupyter-widgets/controls",
      "model_module_version": "1.4.0",
      "model_name": "LabelModel",
      "state": {
       "layout": "IPY_MODEL_c864e9e808124124b719b91097e41a7f",
       "style": "IPY_MODEL_c7f5c40ad2064d6b9c79b7f03511bb7a"
      }
     },
     "e75eff08ebb144498999ffac93f14395": {
      "model_module": "@jupyter-widgets/base",
      "model_module_version": "1.1.0",
      "model_name": "LayoutModel",
      "state": {
       "width": "90px"
      }
     },
     "e7631457cbcc4012bd350f9a84cef00c": {
      "model_module": "@jupyter-widgets/controls",
      "model_module_version": "1.4.0",
      "model_name": "DescriptionStyleModel",
      "state": {
       "description_width": ""
      }
     },
     "e7eba20de0944e0c98115502cd135383": {
      "model_module": "@jupyter-widgets/controls",
      "model_module_version": "1.4.0",
      "model_name": "LabelModel",
      "state": {
       "layout": "IPY_MODEL_694dd07aee66466bb45bfff329e60483",
       "style": "IPY_MODEL_db0e4a9359f5475aa13393f9164115b8"
      }
     },
     "e803009919e34d8eaf8b05eec6e7095e": {
      "model_module": "@jupyter-widgets/controls",
      "model_module_version": "1.4.0",
      "model_name": "LabelModel",
      "state": {
       "layout": "IPY_MODEL_7371a287f94840aa829ef2d8d94c4853",
       "style": "IPY_MODEL_45252723ac28472a970b95e3e6e933d5"
      }
     },
     "e80abac93ac54bc8a6d91a52c4fd70cc": {
      "model_module": "@jupyter-widgets/controls",
      "model_module_version": "1.4.0",
      "model_name": "DescriptionStyleModel",
      "state": {
       "description_width": ""
      }
     },
     "e819fefb797041e89e4f72749e00edab": {
      "model_module": "@jupyter-widgets/controls",
      "model_module_version": "1.4.0",
      "model_name": "LabelModel",
      "state": {
       "layout": "IPY_MODEL_07fef6b966c54e33b18032e66099953d",
       "style": "IPY_MODEL_524e523ee79e43c987c381c69c9afe85"
      }
     },
     "e81bb22a34de44a18e29476b4d713e71": {
      "model_module": "@jupyter-widgets/base",
      "model_module_version": "1.1.0",
      "model_name": "LayoutModel",
      "state": {}
     },
     "e89ff4014f0e49528bbf4e98a760fe39": {
      "model_module": "@jupyter-widgets/controls",
      "model_module_version": "1.4.0",
      "model_name": "FloatTextModel",
      "state": {
       "disabled": true,
       "layout": "IPY_MODEL_14cf269aca7449979c09408a3fc45663",
       "step": null,
       "style": "IPY_MODEL_4c88f970164e400a9fdb30163e7153f1",
       "value": -0.6
      }
     },
     "e946f509a27349d3ad44c1af4e53fc3a": {
      "model_module": "@jupyter-widgets/controls",
      "model_module_version": "1.4.0",
      "model_name": "HBoxModel",
      "state": {
       "children": [
        "IPY_MODEL_0f26c8afca96402aa66b81bc451a3559",
        "IPY_MODEL_d116ebf0025c483093a9d7c0d666be31",
        "IPY_MODEL_f7db352aad7f48b287d557cc324204f9",
        "IPY_MODEL_e2f7fa09709b4f89842d92760ea43a0b",
        "IPY_MODEL_83cff18e6a264988ae36134b674e5a85"
       ],
       "layout": "IPY_MODEL_7b620fcf26764dc59856cf8c17e225c6"
      }
     },
     "e9a73fa1f34747818d3505be6015e5a8": {
      "model_module": "@jupyter-widgets/controls",
      "model_module_version": "1.4.0",
      "model_name": "DescriptionStyleModel",
      "state": {
       "description_width": ""
      }
     },
     "ea21094a446f4ef5a10ba3ec7281a8e1": {
      "model_module": "@jupyter-widgets/controls",
      "model_module_version": "1.4.0",
      "model_name": "DescriptionStyleModel",
      "state": {
       "description_width": ""
      }
     },
     "eab4cc52bba041929aae83ca52b86262": {
      "model_module": "@jupyter-widgets/controls",
      "model_module_version": "1.4.0",
      "model_name": "HBoxModel",
      "state": {
       "children": [
        "IPY_MODEL_20cb9075c7db4936a347bd454de3b582",
        "IPY_MODEL_22374c75f7794f22a5f88e46fc333e82",
        "IPY_MODEL_ce92781cb1694e5bae6daa60cfb2a7a9"
       ],
       "layout": "IPY_MODEL_6aa250d5c0944d639991a61220a87849"
      }
     },
     "ead2d37f897d4fdba7cc15fec55eb049": {
      "model_module": "@jupyter-widgets/controls",
      "model_module_version": "1.4.0",
      "model_name": "HBoxModel",
      "state": {
       "children": [
        "IPY_MODEL_21b672a6f2cb476a859c6c8b77770295",
        "IPY_MODEL_6d68637432684016b0727f506afe0df5",
        "IPY_MODEL_f01b454caf0243f89fac5809d26d4cf2",
        "IPY_MODEL_3fe63ac60ab64ded984e9abeeff7abf5",
        "IPY_MODEL_317ee220faa84115bad387393653c51c",
        "IPY_MODEL_587e0f7d832d4ecc866fb0f39ea9d990",
        "IPY_MODEL_fa04e72257b6472aa13cb02af3130812",
        "IPY_MODEL_f052288ca5ad43bb81cb89f7166b583e",
        "IPY_MODEL_019c9aac684248e991ad2ca479ca9e54",
        "IPY_MODEL_a3c2a24a94aa456cbd6779a86c1f06ad",
        "IPY_MODEL_25be128dd26d4cd298247bbbc5bbe06a"
       ],
       "layout": "IPY_MODEL_cbd305ecffbf4083b47607d4767cdc71"
      }
     },
     "eb04c670a97349aa81672b123aa0368f": {
      "model_module": "@jupyter-widgets/controls",
      "model_module_version": "1.4.0",
      "model_name": "ButtonStyleModel",
      "state": {}
     },
     "eb3ee6a786584c6d9f2da7657cac6d2a": {
      "model_module": "@jupyter-widgets/controls",
      "model_module_version": "1.4.0",
      "model_name": "LabelModel",
      "state": {
       "layout": "IPY_MODEL_d34a230dde2c42bdb1c91cd1929452d1",
       "style": "IPY_MODEL_0b517246f8e34440abe426b02300a069",
       "value": "Aobs's eigs:"
      }
     },
     "eb845b48322e45158642a399f660afa0": {
      "model_module": "@jupyter-widgets/base",
      "model_module_version": "1.1.0",
      "model_name": "LayoutModel",
      "state": {
       "width": "90px"
      }
     },
     "eb895777800d4b5dad6593c98477136a": {
      "model_module": "@jupyter-widgets/controls",
      "model_module_version": "1.4.0",
      "model_name": "LabelModel",
      "state": {
       "layout": "IPY_MODEL_c78317dc61044dcebc3800ab9500df9b",
       "style": "IPY_MODEL_14197243320e4c27bf97e564d6f16016"
      }
     },
     "eba8111f91b243d0b9783cc3e4381001": {
      "model_module": "@jupyter-widgets/controls",
      "model_module_version": "1.4.0",
      "model_name": "DescriptionStyleModel",
      "state": {
       "description_width": ""
      }
     },
     "ebb16ece53454ebcaf4e7e76b58df6c0": {
      "model_module": "@jupyter-widgets/base",
      "model_module_version": "1.1.0",
      "model_name": "LayoutModel",
      "state": {}
     },
     "ebb77dc0261f4b568809a80141cc5e95": {
      "model_module": "@jupyter-widgets/controls",
      "model_module_version": "1.4.0",
      "model_name": "LabelModel",
      "state": {
       "layout": "IPY_MODEL_72d88d2553ac41c4ac690fe0e067324e",
       "style": "IPY_MODEL_85217905f330467f8b5be2ca26a9808f"
      }
     },
     "ebf0f598131a450587d040772038e710": {
      "model_module": "@jupyter-widgets/controls",
      "model_module_version": "1.4.0",
      "model_name": "LabelModel",
      "state": {
       "layout": "IPY_MODEL_a7b4cf28d00f47458db9d6207df4c87c",
       "style": "IPY_MODEL_4112fde42af14183bbd1dc0f0588e5c3"
      }
     },
     "ec3fff96409f451e8c01a23c1f99995c": {
      "model_module": "@jupyter-widgets/controls",
      "model_module_version": "1.4.0",
      "model_name": "LabelModel",
      "state": {
       "layout": "IPY_MODEL_1dc05884ae5f4e7d823343a71c5d6ddd",
       "style": "IPY_MODEL_66b0c1e2ed6d42b4934c79d6d7cb6bc6"
      }
     },
     "ecd20c3dc57245719c571ef17d01685c": {
      "model_module": "@jupyter-widgets/base",
      "model_module_version": "1.1.0",
      "model_name": "LayoutModel",
      "state": {
       "width": "90px"
      }
     },
     "ed2d5f8703174f18b4ac11810f7fc733": {
      "model_module": "@jupyter-widgets/base",
      "model_module_version": "1.1.0",
      "model_name": "LayoutModel",
      "state": {}
     },
     "ed2d8c9e95644c48982990fdeaf43bbe": {
      "model_module": "@jupyter-widgets/base",
      "model_module_version": "1.1.0",
      "model_name": "LayoutModel",
      "state": {
       "width": "90px"
      }
     },
     "ed387f51cefd4c6e9562fcd544998001": {
      "model_module": "@jupyter-widgets/controls",
      "model_module_version": "1.4.0",
      "model_name": "FloatTextModel",
      "state": {
       "layout": "IPY_MODEL_5726c2125b484b7b9f531b64aad3748a",
       "step": null,
       "style": "IPY_MODEL_ef8369410e284bcba956b8650a4efe64",
       "value": -10
      }
     },
     "ed5069a98fda4fd89f8f6f2f037d4397": {
      "model_module": "@jupyter-widgets/controls",
      "model_module_version": "1.4.0",
      "model_name": "FloatTextModel",
      "state": {
       "layout": "IPY_MODEL_c10b5ac94db5488995240984fb80572d",
       "step": null,
       "style": "IPY_MODEL_f4484867d9a2404b8af89c12d9fee1b5",
       "value": 13861
      }
     },
     "ed7dd44c3eaa46c784871681f16bc0f0": {
      "model_module": "@jupyter-widgets/base",
      "model_module_version": "1.1.0",
      "model_name": "LayoutModel",
      "state": {}
     },
     "eda9ff75f90e4e86815627781902014a": {
      "model_module": "@jupyter-widgets/controls",
      "model_module_version": "1.4.0",
      "model_name": "DropdownModel",
      "state": {
       "_options_labels": [
        "0 complex eigenvalues",
        "2 complex eigenvalues"
       ],
       "description": "Aobs:",
       "disabled": true,
       "index": 0,
       "layout": "IPY_MODEL_b797a5ddd90043d48dd5a77c0f954f95",
       "style": "IPY_MODEL_ac0ffe7011a04929a5584f8a14bbb898"
      }
     },
     "edb98a49aed04ce2b99d3a4898054f4d": {
      "model_module": "@jupyter-widgets/controls",
      "model_module_version": "1.4.0",
      "model_name": "LabelModel",
      "state": {
       "layout": "IPY_MODEL_9d157d49b60d48c9ae30175ff22d2776",
       "style": "IPY_MODEL_9c7326c1824c4d51bcba36be24cfd780"
      }
     },
     "edf2c458601a4c2986e9084a559dcd3a": {
      "model_module": "@jupyter-widgets/base",
      "model_module_version": "1.1.0",
      "model_name": "LayoutModel",
      "state": {}
     },
     "ee4aa316d9714e888f3c23995436d5e6": {
      "model_module": "@jupyter-widgets/controls",
      "model_module_version": "1.4.0",
      "model_name": "HBoxModel",
      "state": {
       "children": [
        "IPY_MODEL_b6800bb5073f4fb49de9e3b04e45f578"
       ],
       "layout": "IPY_MODEL_36b6b604c9464f058cab5c96b0e7fd11"
      }
     },
     "ee6a33ca9388418faed0c5e29b4b9ad3": {
      "model_module": "@jupyter-widgets/controls",
      "model_module_version": "1.4.0",
      "model_name": "HBoxModel",
      "state": {
       "children": [
        "IPY_MODEL_b21b2a2d1b35450395e3c319fc54c196"
       ],
       "layout": "IPY_MODEL_90289c97f60843f89f00cd95a0fca4b9"
      }
     },
     "eea30c23809947ecacd9938a63398f49": {
      "model_module": "@jupyter-widgets/base",
      "model_module_version": "1.1.0",
      "model_name": "LayoutModel",
      "state": {}
     },
     "eed4b893f8914ebb9d38fb0d061e5369": {
      "model_module": "@jupyter-widgets/base",
      "model_module_version": "1.1.0",
      "model_name": "LayoutModel",
      "state": {}
     },
     "eeea2616635d4149881ea9df9f5a14cb": {
      "model_module": "@jupyter-widgets/controls",
      "model_module_version": "1.4.0",
      "model_name": "LabelModel",
      "state": {
       "layout": "IPY_MODEL_1e33b781497341b1996b09276820d8e0",
       "style": "IPY_MODEL_208dd43bf82041139b3985a6cc8b89b3"
      }
     },
     "eef564791f8b41739add71b75be481ec": {
      "model_module": "@jupyter-widgets/controls",
      "model_module_version": "1.4.0",
      "model_name": "FloatTextModel",
      "state": {
       "layout": "IPY_MODEL_d4f898ed505f4e5a918ae8166d217c23",
       "step": null,
       "style": "IPY_MODEL_e2e6de4db47f4ddbacdbd9c843e1e45a",
       "value": -0.2
      }
     },
     "ef1dd140766840bb8e931471f5f301c9": {
      "model_module": "@jupyter-widgets/controls",
      "model_module_version": "1.4.0",
      "model_name": "FloatTextModel",
      "state": {
       "disabled": true,
       "layout": "IPY_MODEL_cc47e48caf85445fa010ce953bda0ba2",
       "step": null,
       "style": "IPY_MODEL_7a86b8685c0d4d4ab4dfd942b31e689e"
      }
     },
     "ef440a7110ee47b08f272167ab804708": {
      "model_module": "@jupyter-widgets/base",
      "model_module_version": "1.1.0",
      "model_name": "LayoutModel",
      "state": {}
     },
     "ef8032f4b5344c16ae90cfbfd02231d6": {
      "model_module": "@jupyter-widgets/controls",
      "model_module_version": "1.4.0",
      "model_name": "LabelModel",
      "state": {
       "layout": "IPY_MODEL_bf122223b2724a248d55dd42cc9b3191",
       "style": "IPY_MODEL_f01c7a1026c14bdfa39a40648f44556d"
      }
     },
     "ef8369410e284bcba956b8650a4efe64": {
      "model_module": "@jupyter-widgets/controls",
      "model_module_version": "1.4.0",
      "model_name": "DescriptionStyleModel",
      "state": {
       "description_width": ""
      }
     },
     "f01b454caf0243f89fac5809d26d4cf2": {
      "model_module": "@jupyter-widgets/controls",
      "model_module_version": "1.4.0",
      "model_name": "VBoxModel",
      "state": {
       "children": [
        "IPY_MODEL_751f4dd6192f4b71b9ffc8b626f4ab84",
        "IPY_MODEL_0b4ba8575fd04aaaaea39527815d5e55"
       ],
       "layout": "IPY_MODEL_0e87eb36298b40c88aa507280a88673b"
      }
     },
     "f01c7a1026c14bdfa39a40648f44556d": {
      "model_module": "@jupyter-widgets/controls",
      "model_module_version": "1.4.0",
      "model_name": "DescriptionStyleModel",
      "state": {
       "description_width": ""
      }
     },
     "f052288ca5ad43bb81cb89f7166b583e": {
      "model_module": "@jupyter-widgets/controls",
      "model_module_version": "1.4.0",
      "model_name": "LabelModel",
      "state": {
       "layout": "IPY_MODEL_363c1e3703ab462a93ff019e7bc417eb",
       "style": "IPY_MODEL_38105898ff504547a93e80b47afac00d"
      }
     },
     "f0784b65c1cf46f9af5e149ad2e1bf93": {
      "model_module": "@jupyter-widgets/controls",
      "model_module_version": "1.4.0",
      "model_name": "DescriptionStyleModel",
      "state": {
       "description_width": ""
      }
     },
     "f13fe2c0b63c45769a832e70c2b163af": {
      "model_module": "@jupyter-widgets/base",
      "model_module_version": "1.1.0",
      "model_name": "LayoutModel",
      "state": {
       "width": "90px"
      }
     },
     "f1ebf687e130423a96df29607461d421": {
      "model_module": "@jupyter-widgets/controls",
      "model_module_version": "1.4.0",
      "model_name": "DescriptionStyleModel",
      "state": {
       "description_width": ""
      }
     },
     "f24072b2fc174c678db9de5d308468b8": {
      "model_module": "@jupyter-widgets/base",
      "model_module_version": "1.1.0",
      "model_name": "LayoutModel",
      "state": {}
     },
     "f2b45504c367429daa45903dc955e9f7": {
      "model_module": "@jupyter-widgets/output",
      "model_module_version": "1.0.0",
      "model_name": "OutputModel",
      "state": {
       "layout": "IPY_MODEL_b7a97461761e4eecb7aa7b1254c26810",
       "outputs": [
        {
         "name": "stdout",
         "output_type": "stream",
         "text": "The Aa's eigenvalues are: -2.24+2.23j, -2.24+-2.23j, -0.28+0.00j, -0.26+0.32j and -0.26+-0.32j\nThe observer\\s eigenvalues are: -10.00+0.00j and -10.00+0.00j\n"
        }
       ]
      }
     },
     "f342b0e683a541f88af64b284dcd2a0f": {
      "model_module": "@jupyter-widgets/controls",
      "model_module_version": "1.4.0",
      "model_name": "HBoxModel",
      "state": {
       "children": [
        "IPY_MODEL_402c9bde36d74803b3e44a1d9d24a7bf"
       ],
       "layout": "IPY_MODEL_ed7dd44c3eaa46c784871681f16bc0f0"
      }
     },
     "f3ccbef2b83d4b939389534c7a034c8e": {
      "model_module": "@jupyter-widgets/controls",
      "model_module_version": "1.4.0",
      "model_name": "LabelModel",
      "state": {
       "layout": "IPY_MODEL_c2b94464fe8c46c4bc766fc9342971bc",
       "style": "IPY_MODEL_4c44c42077ed435898d338ddb0ba0436",
       "value": "Ka:"
      }
     },
     "f3e6fb5eb49042e08cb1f9909bc388ea": {
      "model_module": "@jupyter-widgets/controls",
      "model_module_version": "1.4.0",
      "model_name": "HBoxModel",
      "state": {
       "children": [
        "IPY_MODEL_4fb69747e2b94cc39379030795002c6b",
        "IPY_MODEL_21eabbad715941b99f63fe2a4776bc00",
        "IPY_MODEL_13b9e1059bd644deab53f4bbff6caec0"
       ],
       "layout": "IPY_MODEL_8eb6aa9cb43341ccb9ce62f5ca112617"
      }
     },
     "f42e19a237c34b6180896202e734db4b": {
      "model_module": "@jupyter-widgets/controls",
      "model_module_version": "1.4.0",
      "model_name": "DescriptionStyleModel",
      "state": {
       "description_width": ""
      }
     },
     "f4484867d9a2404b8af89c12d9fee1b5": {
      "model_module": "@jupyter-widgets/controls",
      "model_module_version": "1.4.0",
      "model_name": "DescriptionStyleModel",
      "state": {
       "description_width": ""
      }
     },
     "f48ce26f0db74d56b4257564f06b803e": {
      "model_module": "@jupyter-widgets/controls",
      "model_module_version": "1.4.0",
      "model_name": "DescriptionStyleModel",
      "state": {
       "description_width": ""
      }
     },
     "f4b016746bb84426baca5c76043f6338": {
      "model_module": "@jupyter-widgets/controls",
      "model_module_version": "1.4.0",
      "model_name": "VBoxModel",
      "state": {
       "children": [
        "IPY_MODEL_07f5abd468dd4c468a64aed63128e248"
       ],
       "layout": "IPY_MODEL_4270a3ab84d24c2a87739c20e2005d65"
      }
     },
     "f4ddf9715a014e14be8ecb2b3ae86c47": {
      "model_module": "@jupyter-widgets/controls",
      "model_module_version": "1.4.0",
      "model_name": "DropdownModel",
      "state": {
       "_options_labels": [
        "0 complex eigenvalues",
        "2 complex eigenvalues"
       ],
       "description": "Aobs:",
       "disabled": true,
       "index": 0,
       "layout": "IPY_MODEL_e6710c1e57c84d0a8ac493e844396d61",
       "style": "IPY_MODEL_0a7c3f2ed52f4978a43c2ce6b2ed5a0d"
      }
     },
     "f60d5a9a35db4218bf1cb50b763bfbd8": {
      "model_module": "@jupyter-widgets/controls",
      "model_module_version": "1.4.0",
      "model_name": "DescriptionStyleModel",
      "state": {
       "description_width": ""
      }
     },
     "f66682badded4087a8e4129a3e4d524b": {
      "model_module": "@jupyter-widgets/controls",
      "model_module_version": "1.4.0",
      "model_name": "HBoxModel",
      "state": {
       "children": [
        "IPY_MODEL_da40a5d500a24119bae8200ab190284c"
       ],
       "layout": "IPY_MODEL_9aa8d3ec40df4e009aab31ecae602e3a"
      }
     },
     "f699eb1a696a488fab7f9c72c92dee1a": {
      "model_module": "@jupyter-widgets/base",
      "model_module_version": "1.1.0",
      "model_name": "LayoutModel",
      "state": {}
     },
     "f6adbb16255046328fb88ed295414e1e": {
      "model_module": "@jupyter-widgets/controls",
      "model_module_version": "1.4.0",
      "model_name": "FloatTextModel",
      "state": {
       "layout": "IPY_MODEL_f9bc59ff9da64788aab62303d63ab728",
       "step": null,
       "style": "IPY_MODEL_ade065b9c0274c9f8243ed695fe68333",
       "value": 316
      }
     },
     "f7bd3d3a570f462a94866d884ec485ea": {
      "model_module": "@jupyter-widgets/base",
      "model_module_version": "1.1.0",
      "model_name": "LayoutModel",
      "state": {}
     },
     "f7db352aad7f48b287d557cc324204f9": {
      "model_module": "@jupyter-widgets/controls",
      "model_module_version": "1.4.0",
      "model_name": "LabelModel",
      "state": {
       "layout": "IPY_MODEL_fb95f930529d4f57b36b5e52f981ab6b",
       "style": "IPY_MODEL_8390228ad1364aa68a86b96bf642bf61"
      }
     },
     "f8067f8c672e4164a2165c0319b30ee6": {
      "model_module": "@jupyter-widgets/controls",
      "model_module_version": "1.4.0",
      "model_name": "DescriptionStyleModel",
      "state": {
       "description_width": ""
      }
     },
     "f86a60dda4fc42509dc33d6808857b59": {
      "model_module": "@jupyter-widgets/controls",
      "model_module_version": "1.4.0",
      "model_name": "HBoxModel",
      "state": {
       "children": [
        "IPY_MODEL_6157e5ac18a04380bfcdf3e5360c1f10"
       ],
       "layout": "IPY_MODEL_a8c021ecd91740e0a4a051e52059b3e9"
      }
     },
     "f86ef0c63af448cbba07abd5003acb2c": {
      "model_module": "@jupyter-widgets/base",
      "model_module_version": "1.1.0",
      "model_name": "LayoutModel",
      "state": {}
     },
     "f971744a6b6f4c44b945449b4acd81c4": {
      "model_module": "@jupyter-widgets/controls",
      "model_module_version": "1.4.0",
      "model_name": "DescriptionStyleModel",
      "state": {
       "description_width": ""
      }
     },
     "f9982efc85a34595ba056a20e5f29111": {
      "model_module": "@jupyter-widgets/base",
      "model_module_version": "1.1.0",
      "model_name": "LayoutModel",
      "state": {}
     },
     "f9a795a7869345c3a2ebfa402d45f25b": {
      "model_module": "@jupyter-widgets/controls",
      "model_module_version": "1.4.0",
      "model_name": "DescriptionStyleModel",
      "state": {
       "description_width": ""
      }
     },
     "f9bc59ff9da64788aab62303d63ab728": {
      "model_module": "@jupyter-widgets/base",
      "model_module_version": "1.1.0",
      "model_name": "LayoutModel",
      "state": {
       "width": "90px"
      }
     },
     "f9d812c863db402d90b2c980d38bb13c": {
      "model_module": "@jupyter-widgets/base",
      "model_module_version": "1.1.0",
      "model_name": "LayoutModel",
      "state": {}
     },
     "f9e272cddc0d46a8b29b88bc2031a7b6": {
      "model_module": "@jupyter-widgets/base",
      "model_module_version": "1.1.0",
      "model_name": "LayoutModel",
      "state": {}
     },
     "f9efcf465553492696c39a2edafe44fc": {
      "model_module": "@jupyter-widgets/controls",
      "model_module_version": "1.4.0",
      "model_name": "ButtonStyleModel",
      "state": {}
     },
     "fa04e72257b6472aa13cb02af3130812": {
      "model_module": "@jupyter-widgets/controls",
      "model_module_version": "1.4.0",
      "model_name": "LabelModel",
      "state": {
       "layout": "IPY_MODEL_52d2c84751bb4e7cba68bcd9a091bba1",
       "style": "IPY_MODEL_eba8111f91b243d0b9783cc3e4381001"
      }
     },
     "fa577bc5c8a24267b971d8d0213279dd": {
      "model_module": "@jupyter-widgets/controls",
      "model_module_version": "1.4.0",
      "model_name": "LabelModel",
      "state": {
       "layout": "IPY_MODEL_e81bb22a34de44a18e29476b4d713e71",
       "style": "IPY_MODEL_1b74db63daf04430bfbc9b90a4d2a0b9"
      }
     },
     "fa694349488843568882bce05ddefe64": {
      "model_module": "@jupyter-widgets/controls",
      "model_module_version": "1.4.0",
      "model_name": "HBoxModel",
      "state": {
       "children": [
        "IPY_MODEL_b9934d2ea426442b947bc55a6a98475c",
        "IPY_MODEL_d5286389e31f44d0a068455235d65e4f",
        "IPY_MODEL_db615f930a5444898a71cb10d3e0db3d",
        "IPY_MODEL_0fbab12f3fc8478a8d773b74b0d46c8b",
        "IPY_MODEL_992c66e245f641c19dbfccd1fcf3dc9b",
        "IPY_MODEL_c52b71d3ecdd45499b48a31dc291647b"
       ],
       "layout": "IPY_MODEL_51c5d8276bd747b39c3117b7fe0d1529"
      }
     },
     "fa6b3a1cd38f4591b1ea46c619cb3030": {
      "model_module": "@jupyter-widgets/controls",
      "model_module_version": "1.4.0",
      "model_name": "DescriptionStyleModel",
      "state": {
       "description_width": ""
      }
     },
     "fa779ef2a19142449b6539ff5c0afb2a": {
      "model_module": "@jupyter-widgets/controls",
      "model_module_version": "1.4.0",
      "model_name": "LabelModel",
      "state": {
       "layout": "IPY_MODEL_808008c7a6d64220a24e0e57526aee9a",
       "style": "IPY_MODEL_33bfa08767d84ae4a47341c4859c6d8e",
       "value": "Ka:"
      }
     },
     "fae3f97f39754d1ba4c31c0a281630ef": {
      "model_module": "@jupyter-widgets/base",
      "model_module_version": "1.1.0",
      "model_name": "LayoutModel",
      "state": {}
     },
     "faefe63476c24a01aaf13a0d22a20e41": {
      "model_module": "@jupyter-widgets/controls",
      "model_module_version": "1.4.0",
      "model_name": "DropdownModel",
      "state": {
       "_options_labels": [
        "Set Ka and La",
        "Set the eigenvalues"
       ],
       "index": 0,
       "layout": "IPY_MODEL_491cd4b112cf45e3aba71d0563e0768d",
       "style": "IPY_MODEL_f9a795a7869345c3a2ebfa402d45f25b"
      }
     },
     "fb4bc4d4d3a648d7a6a9df184cce12b6": {
      "model_module": "@jupyter-widgets/controls",
      "model_module_version": "1.4.0",
      "model_name": "HBoxModel",
      "state": {
       "children": [
        "IPY_MODEL_2f3e230ec0f74c2db5e3641c839f2213",
        "IPY_MODEL_d5286389e31f44d0a068455235d65e4f",
        "IPY_MODEL_67a96f99e9b841eaaff526b823dd21aa",
        "IPY_MODEL_b71de6e879bf43289b585f20d30e8ed5",
        "IPY_MODEL_5433f855b1e144bd9f99ee35a93dddd2",
        "IPY_MODEL_c52b71d3ecdd45499b48a31dc291647b"
       ],
       "layout": "IPY_MODEL_49bb0a8604b14c99a08b92915c5fc8d4"
      }
     },
     "fb95f930529d4f57b36b5e52f981ab6b": {
      "model_module": "@jupyter-widgets/base",
      "model_module_version": "1.1.0",
      "model_name": "LayoutModel",
      "state": {}
     },
     "fbb1d9058ea14688b02e1bf1f255cd4f": {
      "model_module": "@jupyter-widgets/controls",
      "model_module_version": "1.4.0",
      "model_name": "FloatTextModel",
      "state": {
       "layout": "IPY_MODEL_d6839054cd8f4840b7ceabe64adb74a1",
       "step": null,
       "style": "IPY_MODEL_94c62e1f059546eaa77c67a8748086d9",
       "value": 5275
      }
     },
     "fbf8566bdb534d5dbaa859344be12c0e": {
      "model_module": "@jupyter-widgets/base",
      "model_module_version": "1.1.0",
      "model_name": "LayoutModel",
      "state": {}
     },
     "fc243b3b10e846438dd07009179844f7": {
      "model_module": "@jupyter-widgets/base",
      "model_module_version": "1.1.0",
      "model_name": "LayoutModel",
      "state": {}
     },
     "fcea6582999f41d3998d812ef0156748": {
      "model_module": "@jupyter-widgets/base",
      "model_module_version": "1.1.0",
      "model_name": "LayoutModel",
      "state": {}
     },
     "fd59bda6f0d24120b0d6c12b5f6b8722": {
      "model_module": "@jupyter-widgets/controls",
      "model_module_version": "1.4.0",
      "model_name": "HBoxModel",
      "state": {
       "children": [
        "IPY_MODEL_f3ccbef2b83d4b939389534c7a034c8e",
        "IPY_MODEL_7a2c5d36b676498d86709b794261b2e5",
        "IPY_MODEL_5c81d6ad649d4942907fecd01757d79a",
        "IPY_MODEL_3ae048ad15b44938b8b8c0d5af7219e8",
        "IPY_MODEL_417d4660c0684d73b14d876b04be9db0",
        "IPY_MODEL_9e0c7264530f48d8a6e52208066546ff"
       ],
       "layout": "IPY_MODEL_84978a101c7e4f339808d159363a8bda"
      }
     },
     "fdc20dbc4d12432c889e338ca9f4f2e0": {
      "model_module": "@jupyter-widgets/base",
      "model_module_version": "1.1.0",
      "model_name": "LayoutModel",
      "state": {
       "width": "90px"
      }
     },
     "fdce31ba7cd54e7599882f799a6e6e33": {
      "model_module": "@jupyter-widgets/controls",
      "model_module_version": "1.4.0",
      "model_name": "LabelModel",
      "state": {
       "layout": "IPY_MODEL_47aecddedfd64f07a36ec50b49227ec5",
       "style": "IPY_MODEL_5232c359d050473bbaf3e0e85f18eeb0"
      }
     },
     "fe09b783fe0d4b9099f6673b2feb299b": {
      "model_module": "@jupyter-widgets/controls",
      "model_module_version": "1.4.0",
      "model_name": "DescriptionStyleModel",
      "state": {
       "description_width": ""
      }
     },
     "fe452383f5644078905bb160d1205007": {
      "model_module": "@jupyter-widgets/controls",
      "model_module_version": "1.4.0",
      "model_name": "LabelModel",
      "state": {
       "layout": "IPY_MODEL_f9d812c863db402d90b2c980d38bb13c",
       "style": "IPY_MODEL_8a9bc422e2cc4f8e806f955c0698cf32"
      }
     },
     "fe72029372074064a0a2d7f32b95cc43": {
      "model_module": "@jupyter-widgets/controls",
      "model_module_version": "1.4.0",
      "model_name": "DescriptionStyleModel",
      "state": {
       "description_width": ""
      }
     },
     "fe865e4851b4495a95e3dc2cc31cfaa9": {
      "model_module": "@jupyter-widgets/base",
      "model_module_version": "1.1.0",
      "model_name": "LayoutModel",
      "state": {
       "width": "90px"
      }
     },
     "fe8d4c19a86346019352770ba2a10a08": {
      "model_module": "@jupyter-widgets/controls",
      "model_module_version": "1.4.0",
      "model_name": "FloatTextModel",
      "state": {
       "layout": "IPY_MODEL_0a02add7505f44028df61c521bfc1df6",
       "step": null,
       "style": "IPY_MODEL_e80abac93ac54bc8a6d91a52c4fd70cc",
       "value": -0.5
      }
     },
     "fe99c96f7d5a47c689cfa08b35724327": {
      "model_module": "@jupyter-widgets/base",
      "model_module_version": "1.1.0",
      "model_name": "LayoutModel",
      "state": {}
     },
     "fea917e7b46743788590dd87985dcee4": {
      "model_module": "@jupyter-widgets/controls",
      "model_module_version": "1.4.0",
      "model_name": "DescriptionStyleModel",
      "state": {
       "description_width": ""
      }
     },
     "febb6c29d5cb4d519b06da40a32c101c": {
      "model_module": "@jupyter-widgets/controls",
      "model_module_version": "1.4.0",
      "model_name": "DescriptionStyleModel",
      "state": {
       "description_width": ""
      }
     },
     "fedc86dc603d43e08f7f162b326f729d": {
      "model_module": "@jupyter-widgets/controls",
      "model_module_version": "1.4.0",
      "model_name": "LabelModel",
      "state": {
       "layout": "IPY_MODEL_3b7b8cd8f40f46f7a6af377e08229a20",
       "style": "IPY_MODEL_189961caab4941f481899c87788c12aa"
      }
     },
     "ff14f4f3069442e09be6386b056e4f65": {
      "model_module": "@jupyter-widgets/controls",
      "model_module_version": "1.4.0",
      "model_name": "DescriptionStyleModel",
      "state": {
       "description_width": ""
      }
     },
     "ff23ed97b5014a51ac0d66101e37cbb1": {
      "model_module": "@jupyter-widgets/base",
      "model_module_version": "1.1.0",
      "model_name": "LayoutModel",
      "state": {}
     },
     "ffc5676e98b545a9897040da8eda7dc9": {
      "model_module": "@jupyter-widgets/controls",
      "model_module_version": "1.4.0",
      "model_name": "HBoxModel",
      "state": {
       "children": [
        "IPY_MODEL_36ac1087021c41399d70cc006def027e",
        "IPY_MODEL_7bec55103402411195944e1352e9ee8f",
        "IPY_MODEL_ac1bd1734d2c4d0182e333fa5842cb67"
       ],
       "layout": "IPY_MODEL_913286bb22214d3cb6367fff535d9581"
      }
     },
     "ffd9845674134373a41db40934c7be0d": {
      "model_module": "@jupyter-widgets/controls",
      "model_module_version": "1.4.0",
      "model_name": "DescriptionStyleModel",
      "state": {
       "description_width": ""
      }
     },
     "ffe99539e150450583ae31daaf3d9322": {
      "model_module": "@jupyter-widgets/base",
      "model_module_version": "1.1.0",
      "model_name": "LayoutModel",
      "state": {}
     }
    },
    "version_major": 2,
    "version_minor": 0
   }
  }
 },
 "nbformat": 4,
 "nbformat_minor": 4
}
