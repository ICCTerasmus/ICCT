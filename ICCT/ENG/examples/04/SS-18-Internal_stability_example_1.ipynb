{
 "cells": [
  {
   "cell_type": "code",
   "execution_count": 1,
   "metadata": {
    "id": "6TmxAertROC_",
    "outputId": "99ce7775-5abb-4197-db66-27a976a1d828"
   },
   "outputs": [
    {
     "data": {
      "text/html": [
       "<script>\n",
       "code_show=true; \n",
       "function code_toggle() {\n",
       "    if (code_show){\n",
       "        $('div.input').hide()\n",
       "    } else {\n",
       "        $('div.input').show()\n",
       "    }\n",
       "    code_show = !code_show\n",
       "} \n",
       "$( document ).ready(code_toggle);\n",
       "</script>\n",
       "Toggle cell visibility <a href=\"javascript:code_toggle()\">here</a>."
      ],
      "text/plain": [
       "<IPython.core.display.HTML object>"
      ]
     },
     "metadata": {},
     "output_type": "display_data"
    }
   ],
   "source": [
    "# Erasmus+ ICCT project (2018-1-SI01-KA203-047081)\n",
    "\n",
    "# Toggle cell visibility\n",
    "\n",
    "from IPython.display import HTML\n",
    "tag = HTML('''<script>\n",
    "code_show=true; \n",
    "function code_toggle() {\n",
    "    if (code_show){\n",
    "        $('div.input').hide()\n",
    "    } else {\n",
    "        $('div.input').show()\n",
    "    }\n",
    "    code_show = !code_show\n",
    "} \n",
    "$( document ).ready(code_toggle);\n",
    "</script>\n",
    "Toggle cell visibility <a href=\"javascript:code_toggle()\">here</a>.''')\n",
    "display(tag)\n",
    "\n",
    "# Hide the code completely\n",
    "\n",
    "# from IPython.display import HTML\n",
    "# tag = HTML('''<style>\n",
    "# div.input {\n",
    "#     display:none;\n",
    "# }\n",
    "# </style>''')\n",
    "# display(tag)\n"
   ]
  },
  {
   "cell_type": "markdown",
   "metadata": {
    "id": "2bN-eUkiRODJ"
   },
   "source": [
    "## Internal stability example 1\n",
    "\n",
    "### How to use this notebook?\n",
    "\n",
    "Given the <u>stable</u> system below, try to obtain a divergent response by changing only the initial conditions.\n",
    "\n",
    "$$\n",
    "\\dot{x} = \\underbrace{\\begin{bmatrix}0&1\\\\-0.8&-0.5\\end{bmatrix}}_{A}x\n",
    "$$\n",
    "\n",
    "Try to answer:\n",
    "- Is it possible to achieve divergent response for this system?\n",
    "- Is it possible to achieve it for any other stable system?"
   ]
  },
  {
   "cell_type": "code",
   "execution_count": 2,
   "metadata": {
    "id": "Y0hkF1XHRODL"
   },
   "outputs": [],
   "source": [
    "%matplotlib inline\n",
    "import control as control\n",
    "import numpy\n",
    "import sympy as sym\n",
    "from IPython.display import display, Markdown\n",
    "import ipywidgets as widgets\n",
    "import matplotlib.pyplot as plt\n",
    "\n",
    "#matrixWidget is a matrix looking widget built with a VBox of HBox(es) that returns a numPy array as value !\n",
    "class matrixWidget(widgets.VBox):\n",
    "    def updateM(self,change):\n",
    "        for irow in range(0,self.n):\n",
    "            for icol in range(0,self.m):\n",
    "                self.M_[irow,icol] = self.children[irow].children[icol].value\n",
    "                #print(self.M_[irow,icol])\n",
    "        self.value = self.M_\n",
    "\n",
    "    def dummychangecallback(self,change):\n",
    "        pass\n",
    "    \n",
    "    \n",
    "    def __init__(self,n,m):\n",
    "        self.n = n\n",
    "        self.m = m\n",
    "        self.M_ = numpy.matrix(numpy.zeros((self.n,self.m)))\n",
    "        self.value = self.M_\n",
    "        widgets.VBox.__init__(self,\n",
    "                             children = [\n",
    "                                 widgets.HBox(children = \n",
    "                                              [widgets.FloatText(value=0.0, layout=widgets.Layout(width='90px')) for i in range(m)]\n",
    "                                             ) \n",
    "                                 for j in range(n)\n",
    "                             ])\n",
    "        \n",
    "        #fill in widgets and tell interact to call updateM each time a children changes value\n",
    "        for irow in range(0,self.n):\n",
    "            for icol in range(0,self.m):\n",
    "                self.children[irow].children[icol].value = self.M_[irow,icol]\n",
    "                self.children[irow].children[icol].observe(self.updateM, names='value')\n",
    "        #value = Unicode('example@example.com', help=\"The email value.\").tag(sync=True)\n",
    "        self.observe(self.updateM, names='value', type= 'All')\n",
    "        \n",
    "    def setM(self, newM):\n",
    "        #disable callbacks, change values, and reenable\n",
    "        self.unobserve(self.updateM, names='value', type= 'All')\n",
    "        for irow in range(0,self.n):\n",
    "            for icol in range(0,self.m):\n",
    "                self.children[irow].children[icol].unobserve(self.updateM, names='value')\n",
    "        self.M_ = newM\n",
    "        self.value = self.M_\n",
    "        for irow in range(0,self.n):\n",
    "            for icol in range(0,self.m):\n",
    "                self.children[irow].children[icol].value = self.M_[irow,icol]\n",
    "        for irow in range(0,self.n):\n",
    "            for icol in range(0,self.m):\n",
    "                self.children[irow].children[icol].observe(self.updateM, names='value')\n",
    "        self.observe(self.updateM, names='value', type= 'All')        \n",
    "\n",
    "                #self.children[irow].children[icol].observe(self.updateM, names='value')\n",
    "\n",
    "             \n",
    "#overlaod class for state space systems that DO NOT remove \"useless\" states (what \"professor\" of automatic control would do this?)\n",
    "class sss(control.StateSpace):\n",
    "    def __init__(self,*args):\n",
    "        #call base class init constructor\n",
    "        control.StateSpace.__init__(self,*args)\n",
    "    #disable function below in base class\n",
    "    def _remove_useless_states(self):\n",
    "        pass"
   ]
  },
  {
   "cell_type": "code",
   "execution_count": 3,
   "metadata": {
    "id": "xT6f0hIoRODM"
   },
   "outputs": [],
   "source": [
    "# Preparatory cell\n",
    "\n",
    "A = numpy.matrix([[0.,1.],[-4.0/5.0,-5.0/10.0]])\n",
    "X0 = numpy.matrix([[0.0],[0.0]])\n",
    "\n",
    "Aw = matrixWidget(2,2)\n",
    "Aw.setM(A)\n",
    "X0w = matrixWidget(2,1)\n",
    "X0w.setM(X0)"
   ]
  },
  {
   "cell_type": "code",
   "execution_count": 4,
   "metadata": {
    "id": "ijQhFdBARODM"
   },
   "outputs": [],
   "source": [
    "# Misc\n",
    "\n",
    "#create dummy widget \n",
    "DW = widgets.FloatText(layout=widgets.Layout(width='0px', height='0px'))\n",
    "\n",
    "#create button widget\n",
    "START = widgets.Button(\n",
    "    description='Test',\n",
    "    disabled=False,\n",
    "    button_style='', # 'success', 'info', 'warning', 'danger' or ''\n",
    "    tooltip='Test',\n",
    "    icon='check'\n",
    ")\n",
    "                       \n",
    "def on_start_button_clicked(b):\n",
    "    #This is a workaround to have intreactive_output call the callback:\n",
    "    #   force the value of the dummy widget to change\n",
    "    if DW.value> 0 :\n",
    "        DW.value = -1\n",
    "    else: \n",
    "        DW.value = 1\n",
    "    pass\n",
    "START.on_click(on_start_button_clicked)"
   ]
  },
  {
   "cell_type": "code",
   "execution_count": 5,
   "metadata": {
    "colab": {
     "referenced_widgets": [
      "3149847cb3b14c7d99cd38eac3354782",
      "63f8bb97daca4afd8071d281f9923d27"
     ]
    },
    "id": "r8_NvD8jRODM",
    "outputId": "505f71b4-b208-4842-a058-a03f2ed6868d",
    "scrolled": false
   },
   "outputs": [
    {
     "data": {
      "application/vnd.jupyter.widget-view+json": {
       "model_id": "225da472025c421a86931df8a360c71b",
       "version_major": 2,
       "version_minor": 0
      },
      "text/plain": [
       "Output(layout=Layout(height='350px'))"
      ]
     },
     "metadata": {},
     "output_type": "display_data"
    },
    {
     "data": {
      "application/vnd.jupyter.widget-view+json": {
       "model_id": "1c040837f67948b280ccfee37b4d092e",
       "version_major": 2,
       "version_minor": 0
      },
      "text/plain": [
       "VBox(children=(HBox(children=(Label(value='$A$:'), matrixWidget(children=(HBox(children=(FloatText(value=0.0, …"
      ]
     },
     "metadata": {},
     "output_type": "display_data"
    }
   ],
   "source": [
    "# Main cell\n",
    "\n",
    "def main_callback(A, X0, DW):\n",
    "    sols = numpy.linalg.eig(A)\n",
    "    sys = sss(A,[[1],[0]],[0,1],0)\n",
    "    pole = control.pole(sys)\n",
    "    if numpy.real(pole[0]) != 0:\n",
    "        p1r = abs(numpy.real(pole[0]))\n",
    "    else:\n",
    "        p1r = 1\n",
    "    if numpy.real(pole[1]) != 0:\n",
    "        p2r = abs(numpy.real(pole[1]))\n",
    "    else:\n",
    "        p2r = 1\n",
    "    if numpy.imag(pole[0]) != 0:\n",
    "        p1i = abs(numpy.imag(pole[0]))\n",
    "    else:\n",
    "        p1i = 1\n",
    "    if numpy.imag(pole[1]) != 0:\n",
    "        p2i = abs(numpy.imag(pole[1]))\n",
    "    else:\n",
    "        p2i = 1\n",
    "    \n",
    "    print('A\\'s eigenvalues are:',round(sols[0][0],4),'and',round(sols[0][1],4))\n",
    "    \n",
    "    #T = numpy.linspace(0, 60, 1000)\n",
    "    T, yout, xout = control.initial_response(sys,X0=X0,return_x=True)\n",
    "    \n",
    "    fig = plt.figure(\"Free response\", figsize=(16,5))\n",
    "    ax = fig.add_subplot(121)\n",
    "    plt.plot(T,xout[0])\n",
    "    plt.grid()\n",
    "    ax.set_xlabel('time [s]')\n",
    "    ax.set_ylabel(r'$x_1$')\n",
    "\n",
    "    ax1 = fig.add_subplot(122)\n",
    "    plt.plot(T,xout[1])\n",
    "    plt.grid()\n",
    "    ax1.set_xlabel('time [s]')\n",
    "    ax1.set_ylabel(r'$x_2$')\n",
    "\n",
    "    \n",
    "\n",
    "    \n",
    "alltogether = widgets.VBox([widgets.HBox([widgets.Label('$A$:',border=3),\n",
    "                                          Aw,\n",
    "                                          widgets.Label('   ',border=3),\n",
    "                                          widgets.Label('$X_0$:',border=3),\n",
    "                                          X0w,\n",
    "                                          START])])\n",
    "out = widgets.interactive_output(main_callback, {'A':Aw, 'X0':X0w, 'DW':DW})\n",
    "out.layout.height = '350px'\n",
    "display(out, alltogether)"
   ]
  },
  {
   "cell_type": "code",
   "execution_count": 6,
   "metadata": {},
   "outputs": [
    {
     "data": {
      "application/vnd.jupyter.widget-view+json": {
       "model_id": "5f372a6d85ae44a2aa2410805acf27c0",
       "version_major": 2,
       "version_minor": 0
      },
      "text/plain": [
       "Output()"
      ]
     },
     "metadata": {},
     "output_type": "display_data"
    },
    {
     "data": {
      "application/vnd.jupyter.widget-view+json": {
       "model_id": "ceb62ff8768044929af05664e940d2bb",
       "version_major": 2,
       "version_minor": 0
      },
      "text/plain": [
       "VBox(children=(Button(description='Show answers', icon='check', style=ButtonStyle(), tooltip='Click for view t…"
      ]
     },
     "metadata": {},
     "output_type": "display_data"
    }
   ],
   "source": [
    "#create dummy widget 2\n",
    "DW2 = widgets.FloatText(layout=widgets.Layout(width='0px', height='0px'))\n",
    "DW2.value = -1\n",
    "\n",
    "#create button widget\n",
    "START2 = widgets.Button(\n",
    "    description='Show answers',\n",
    "    disabled=False,\n",
    "    button_style='', # 'success', 'info', 'warning', 'danger' or ''\n",
    "    tooltip='Click for view the answers',\n",
    "    icon='check'\n",
    ")\n",
    "                       \n",
    "def on_start_button_clicked2(b):\n",
    "    #This is a workaround to have intreactive_output call the callback:\n",
    "    #   force the value of the dummy widget to change\n",
    "    if DW2.value> 0 :\n",
    "        DW2.value = -1\n",
    "    else: \n",
    "        DW2.value = 1\n",
    "    pass\n",
    "START2.on_click(on_start_button_clicked2)\n",
    "\n",
    "def main_callback2(DW2):\n",
    "    if DW2 > 0:\n",
    "        display(Markdown(r'''>Answer: System Free response depends only on the eigenvalues of the $A$ matrix and is a linear combination of its modes. Since the system is stable, it has only limited and convergent modes, so, whatever the initial conditions are, the response remains limited in time.'''))\n",
    "    else:\n",
    "        display(Markdown(''))\n",
    "\n",
    "#create a graphic structure to hold all widgets \n",
    "alltogether2 =  widgets.VBox([START2])\n",
    "\n",
    "out2 = widgets.interactive_output(main_callback2,{'DW2':DW2})\n",
    "#out.layout.height = '300px'\n",
    "display(out2,alltogether2)"
   ]
  }
 ],
 "metadata": {
  "colab": {
   "name": "SS-18-Internal_stability_example_1.ipynb",
   "provenance": []
  },
  "kernelspec": {
   "display_name": "Python 3",
   "language": "python",
   "name": "python3"
  },
  "language_info": {
   "codemirror_mode": {
    "name": "ipython",
    "version": 3
   },
   "file_extension": ".py",
   "mimetype": "text/x-python",
   "name": "python",
   "nbconvert_exporter": "python",
   "pygments_lexer": "ipython3",
   "version": "3.6.7"
  }
 },
 "nbformat": 4,
 "nbformat_minor": 1
}
