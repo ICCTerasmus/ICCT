{
 "cells": [
  {
   "cell_type": "code",
   "execution_count": 1,
   "metadata": {},
   "outputs": [
    {
     "data": {
      "text/html": [
       "<script>\n",
       "code_show=true; \n",
       "function code_toggle() {\n",
       "    if (code_show){\n",
       "        $('div.input').hide()\n",
       "    } else {\n",
       "        $('div.input').show()\n",
       "    }\n",
       "    code_show = !code_show\n",
       "} \n",
       "$( document ).ready(code_toggle);\n",
       "</script>\n",
       "Toggle cell visibility <a href=\"javascript:code_toggle()\">here</a>."
      ],
      "text/plain": [
       "<IPython.core.display.HTML object>"
      ]
     },
     "metadata": {},
     "output_type": "display_data"
    }
   ],
   "source": [
    "# Erasmus+ ICCT project (2018-1-SI01-KA203-047081)\n",
    "\n",
    "# Toggle cell visibility\n",
    "\n",
    "from IPython.display import HTML\n",
    "tag = HTML('''<script>\n",
    "code_show=true; \n",
    "function code_toggle() {\n",
    "    if (code_show){\n",
    "        $('div.input').hide()\n",
    "    } else {\n",
    "        $('div.input').show()\n",
    "    }\n",
    "    code_show = !code_show\n",
    "} \n",
    "$( document ).ready(code_toggle);\n",
    "</script>\n",
    "Toggle cell visibility <a href=\"javascript:code_toggle()\">here</a>.''')\n",
    "display(tag)\n",
    "\n",
    "# Hide the code completely\n",
    "\n",
    "# from IPython.display import HTML\n",
    "# tag = HTML('''<style>\n",
    "# div.input {\n",
    "#     display:none;\n",
    "# }\n",
    "# </style>''')\n",
    "# display(tag)"
   ]
  },
  {
   "cell_type": "code",
   "execution_count": 2,
   "metadata": {},
   "outputs": [],
   "source": [
    "import sympy as sp # Symbolic Python\n",
    "import numpy as np # Arrays, matrices and corresponding mathematical operations\n",
    "from IPython.display import Latex, display, Markdown, clear_output # For displaying Markdown and LaTeX code\n",
    "from ipywidgets import widgets # Interactivity module\n",
    "from IPython.display import Javascript\n",
    "\n",
    "# Function for the conversion of array/matrix to LaTeX/Markdown format.\n",
    "def vmatrix(a):\n",
    "    if len(a.shape) > 2:\n",
    "         raise ValueError('bmatrix can at most display two dimensions')\n",
    "    lines = str(a).replace('[', '').replace(']', '').splitlines()\n",
    "    rv = [r'\\begin{vmatrix}']\n",
    "    rv += ['  ' + ' & '.join(l.split()) + r'\\\\' for l in lines]\n",
    "    rv +=  [r'\\end{vmatrix}']\n",
    "    return '\\n'.join(rv)"
   ]
  },
  {
   "cell_type": "markdown",
   "metadata": {
    "lang": "it"
   },
   "source": [
    "## Criteri di stabilità di Routh e Hurwitz\n",
    "\n",
    "Nella teoria del controllo, il criterio di stabilità di Routh – Hurwitz è un test matematico utilizzato per rilevare il numero di poli della funzione di trasferimento a circuito chiuso che hanno parti reali positive (instabili). Il numero dei cambiamenti di segno nella prima colonna della tabella di Routh fornisce il numero di poli nella metà destra del piano complesso. La condizione necessaria e sufficiente per la stabilità di un sistema lineare tempo invariante è che tutti i poli del sistema a circuito chiuso abbiano parti reali negative. Ciò significa che non devono esserci cambiamenti di segno nella prima colonna. Un criterio di stabilità simile, basato sui determinanti, di un sistema è chiamato criterio di Hurwitz.\n",
    "\n",
    "Il punto di partenza per determinare la stabilità del sistema è il polinomio caratteristico definito come:\n",
    "\n",
    "\\begin{equation}\n",
    "    a_ns^n+a_{n-1}s^{n-1}+...+a_1s+a_0\n",
    "\\end{equation}\n",
    "\n",
    "Nel caso del criterio di Routh si forma quindi la tabella di Routh:\n",
    "\n",
    "\n",
    "\\begin{array}{l|ccccc}\n",
    "     & 1 & 2 & 3 & 4 & 5 \\\\\n",
    "     \\hline\n",
    "    s^n & a_n & a_{n-2} & a_{n-4} & a_{n-6} & \\dots \\\\\n",
    "    s^{n-1} & a_{n-1} & a_{n-3} & a_{n-5} & a_{n-7} &\\dots \\\\\n",
    "    s^{n-2} & b_1 & b_2 & b_3 & b_4 & \\dots \\\\\n",
    "    s^{n-3} & c_1 & c_2 & c_3 & c_4 & \\dots \\\\\n",
    "    s^{n-4} & d_1 & d_2 & d_3 & d_4 & \\dots \\\\\n",
    "    \\vdots & \\vdots & \\vdots & \\vdots & \\vdots & \\ddots\\\\\n",
    "\\end{array}\n",
    "\n",
    "\n",
    "I coefficienti nelle prime due righe ($a_i$) sono ottenuti dal polinomio caratteristico. Tutti gli altri vengono determinati utilizzando le seguenti formule:\n",
    "\n",
    "\\begin{array}{cccc}\n",
    "    \\,  \\! \\! \\! \\! b_1 \\! = \\! \\frac{a_{n-1}a_{n-2}-a_n a_{n-3}}{a_{n-1}} & \\! \\!  \\! \\! \\,  \\! \\! b_2 \\!  = \\!  \\frac{a_{n-1}a_{n-4}-a_n a_{n-5}}{a_{n-1}} & \\,  \\! \\! b_3 \\! = \\! \\frac{a_{n-1}a_{n-6}-a_n a_{n-7}}{a_{n-1}} & \\, \\! \\! \\! \\! \\dots \\\\\n",
    "     c_1=\\frac{b_1a_{n-3}-a_{n-1} b_2}{b_1} & c_2=\\frac{b_1a_{n-5}-a_{n-1}b_3}{b_1} & c_3=\\frac{b_1a_{n-7}-a_{n-1}b_4}{b_1} & \\, \\! \\! \\! \\! \\dots \\\\\n",
    "     d_1=\\frac{c_1 b_2-b_1 c_2}{c_1} & d_2=\\frac{c_1 b_3-b_1 c_3}{c_1} & d_3=\\frac{c_1 b_4-b_1 c_4}{c_1} & \\, \\! \\! \\! \\! \\dots \\\\\n",
    "    \\vdots & \\vdots & \\vdots & \\, \\! \\! \\! \\! \\ddots \\\\\n",
    "\\end{array}\n",
    "\n",
    "Se tutti i coefficienti nella prima colonna (coefficienti $n+1$) hanno lo stesso segno (tutti positivi o tutti negativi), il sistema è stabile. Il numero di cambi di segno nella prima colonna ci dà il numero delle radici del polinomio caratteristico che giacciono nella metà destra del piano complesso.\n",
    "\n",
    "Nel caso del criterio di Hurwitz si forma un determinante $\\Delta_n$ con le dimensioni $n\\times n$ in base al polinomio caratteristico.\n",
    "\n",
    "\\begin{equation}\n",
    "    \\Delta_n=\n",
    "    \\begin{array}{|cccccccc|}\n",
    "        a_{n-1} & a_{n-3} & a_{n-5} & \\dots & \\left[ \\begin{array}{cc} a_0 & \\mbox{se\n",
    "        }n \\mbox{ è dispari} \\\\ a_1 & \\mbox{se }n \\mbox{ è pari} \\end{array}\n",
    "        \\right] & 0 & \\dots & 0  \\\\[3mm]\n",
    "        a_{n} & a_{n-2} & a_{n-4} & \\dots & \\left[ \\begin{array}{cc} a_1 & \\mbox{se }n \\mbox{ è dispari} \\\\ a_0 & \\mbox{se }n \\mbox{ è pari} \\end{array} \\right] & 0 & \\dots & 0 \\\\\n",
    "        0 & a_{n-1} & a_{n-3} & a_{n-5} & \\dots &  \\dots & \\dots & 0 \\\\\n",
    "        0 & a_{n} & a_{n-2} & a_{n-4} & \\dots &  \\dots & \\dots & 0 \\\\\n",
    "        0 & 0 & a_{n-1} & a_{n-3} & \\dots &  \\dots & \\dots & 0 \\\\\n",
    "        0 & 0 & a_{n} & a_{n-2} & \\dots &  \\dots & \\dots & 0 \\\\\n",
    "        \\vdots & \\vdots & \\vdots & \\vdots & \\vdots & \\vdots & \\vdots & \\vdots \\\\\n",
    "        0 & \\dots & \\dots & \\dots & \\dots & \\dots & \\dots & a_0 \\\\\n",
    "    \\end{array}\n",
    "\\end{equation}\n",
    "\n",
    "\n",
    "Sulla base del determinante $\\Delta_n$ si calcolano i sottodeterminanti sulla diagonale principale. Il sottodeterminante $\\Delta_1$ è uguale a\n",
    "\n",
    "\\begin{equation}\n",
    "    \\Delta_1=a_{n-1},\n",
    "\\end{equation}\n",
    "\n",
    "il sottodeterminante $\\Delta_2$ a\n",
    "\n",
    "\\begin{equation}\n",
    "    \\Delta_2=\n",
    "    \\begin{array}{|cc|}\n",
    "    a_{n-1} & a_{n-3} \\\\\n",
    "    a_{n} & a_{n-2} \\\\\n",
    "    \\end{array},\n",
    "\\end{equation}\n",
    "\n",
    "e il sottodeterminante $\\Delta_3$ a\n",
    "\n",
    "\\begin{equation}\n",
    "    \\Delta_3=\n",
    "    \\begin{array}{|ccc|}\n",
    "    a_{n-1} & a_{n-3} & a_{n-5} \\\\\n",
    "    a_{n} & a_{n-2} & a_{n-4} \\\\\n",
    "    0 & a_{n-1} & a_{n-3} \\\\\n",
    "    \\end{array}.\n",
    "\\end{equation}\n",
    "\n",
    "Si continua in questo modo fino ad arrivare al sottodeterminante\n",
    "$\\Delta_{n-1}$. Il sistema è stabile se tutti i sottodeterminanti sulla diagonale principale (da $\\Delta_1$ a $\\Delta_{n-1}$) e il determinante $\\Delta_n$ sono strettamente maggiori di zero.\n",
    "\n",
    "---\n",
    "\n",
    "### Come usare questo notebook?\n",
    "\n",
    "Si definisce il polinomio caratteristico di interesse inserendo il suo ordine e i coefficienti corrispondenti, quindi si sceglie il criterio di stabilità desiderato (Routh o Hurwitz)."
   ]
  },
  {
   "cell_type": "code",
   "execution_count": 8,
   "metadata": {
    "scrolled": false
   },
   "outputs": [
    {
     "data": {
      "text/markdown": [
       "Il polinomio caratteristico è:"
      ],
      "text/plain": [
       "<IPython.core.display.Markdown object>"
      ]
     },
     "metadata": {},
     "output_type": "display_data"
    },
    {
     "data": {
      "text/markdown": [
       "$Ks^4+4.0s^3+3.0s^2+3.0s+1.0$"
      ],
      "text/plain": [
       "<IPython.core.display.Markdown object>"
      ]
     },
     "metadata": {},
     "output_type": "display_data"
    },
    {
     "data": {
      "text/markdown": [
       "Vuoi utilizzare il criterio di Routh o di Hurwitz per verificare la stabilità?"
      ],
      "text/plain": [
       "<IPython.core.display.Markdown object>"
      ]
     },
     "metadata": {},
     "output_type": "display_data"
    },
    {
     "data": {
      "application/vnd.jupyter.widget-view+json": {
       "model_id": "4d1897dfc9274f06b544f1c4bbb2c2fc",
       "version_major": 2,
       "version_minor": 0
      },
      "text/plain": [
       "Select(description='Seleziona:', options=('Routh', 'Hurwitz'), rows=3, value='Routh')"
      ]
     },
     "metadata": {},
     "output_type": "display_data"
    },
    {
     "data": {
      "application/vnd.jupyter.widget-view+json": {
       "model_id": "9136b30d980f4c2fb3e13b9fc61fcf15",
       "version_major": 2,
       "version_minor": 0
      },
      "text/plain": [
       "HBox(children=(Button(description='Conferma', style=ButtonStyle()), Button(description='Reset', style=ButtonSt…"
      ]
     },
     "metadata": {},
     "output_type": "display_data"
    },
    {
     "data": {
      "application/vnd.jupyter.widget-view+json": {
       "model_id": "77ffc0cf0abf4081a2090e225472ee4e",
       "version_major": 2,
       "version_minor": 0
      },
      "text/plain": [
       "Output()"
      ]
     },
     "metadata": {},
     "output_type": "display_data"
    },
    {
     "data": {
      "text/markdown": [
       "$\\Delta_{1}=$$\\begin{vmatrix}\n",
       "  4.0\\\\\n",
       "\\end{vmatrix}$$=4.00000000000000$"
      ],
      "text/plain": [
       "<IPython.core.display.Markdown object>"
      ]
     },
     "metadata": {},
     "output_type": "display_data"
    },
    {
     "data": {
      "text/markdown": [
       "$\\Delta_{2}=$$\\begin{vmatrix}\n",
       "  4.0 & 3.0\\\\\n",
       "  K & 3.0\\\\\n",
       "\\end{vmatrix}$$=12.0 - 3.0*K$"
      ],
      "text/plain": [
       "<IPython.core.display.Markdown object>"
      ]
     },
     "metadata": {},
     "output_type": "display_data"
    },
    {
     "data": {
      "text/markdown": [
       "$\\Delta_{3}=$$\\begin{vmatrix}\n",
       "  4.0 & 3.0 & 0\\\\\n",
       "  K & 3.0 & 1.0\\\\\n",
       "  0 & 4.0 & 3.0\\\\\n",
       "\\end{vmatrix}$$=20.0 - 9.0*K$"
      ],
      "text/plain": [
       "<IPython.core.display.Markdown object>"
      ]
     },
     "metadata": {},
     "output_type": "display_data"
    },
    {
     "data": {
      "text/markdown": [
       "$\\Delta_{4}=$$\\begin{vmatrix}\n",
       "  4.0 & 3.0 & 0 & 0\\\\\n",
       "  K & 3.0 & 1.0 & 0\\\\\n",
       "  0 & 4.0 & 3.0 & 0\\\\\n",
       "  0 & K & 3.0 & 1.0\\\\\n",
       "\\end{vmatrix}$$=20.0 - 9.0*K$"
      ],
      "text/plain": [
       "<IPython.core.display.Markdown object>"
      ]
     },
     "metadata": {},
     "output_type": "display_data"
    },
    {
     "data": {
      "text/markdown": [
       "Il sistema è stabile per:"
      ],
      "text/plain": [
       "<IPython.core.display.Markdown object>"
      ]
     },
     "metadata": {},
     "output_type": "display_data"
    },
    {
     "name": "stdout",
     "output_type": "stream",
     "text": [
      "[(-oo < K) & (K < 4.0), (-oo < K) & (K < 2.22222222222222), (-oo < K) & (K < 2.22222222222222)]\n"
     ]
    }
   ],
   "source": [
    "polynomialOrder = input (\"Inserisci l'ordine del polinomio caratteristico (Invio per confermare):\")\n",
    "try:\n",
    "    val = int(polynomialOrder)\n",
    "except ValueError:\n",
    "    display(Markdown('L\\'ordine del polinomio deve essere un intero. Inserisci nuovamente il valore.'))\n",
    "display(Markdown('Inserisci i coefficienti del polinomio caratteristico (usa $K$ maiuscola per i coefficienti non definiti) e premi \"Conferma\".'))\n",
    "text=[None]*(int(polynomialOrder)+1)\n",
    "for i in range(int(polynomialOrder)+1):\n",
    "    text[i]=widgets.Text(description=('$s^%i$'%(-(i-int(polynomialOrder)))))\n",
    "    display(text[i])\n",
    "btn1=widgets.Button(description=\"Conferma\")\n",
    "btnReset=widgets.Button(description=\"Reset\")\n",
    "display(widgets.HBox((btn1, btnReset)))\n",
    "\n",
    "btn2=widgets.Button(description=\"Conferma\")\n",
    "w=widgets.Select(\n",
    "    options=['Routh', 'Hurwitz'],\n",
    "    rows=3,\n",
    "    description='Seleziona:',\n",
    "    disabled=False\n",
    ")\n",
    "\n",
    "coef=[None]*(int(polynomialOrder)+1)\n",
    "\n",
    "def on_button_clickedReset(ev):\n",
    "    display(Javascript(\"Jupyter.notebook.execute_cells_below()\"))\n",
    "\n",
    "\n",
    "def on_button_clicked1(btn1):\n",
    "    clear_output()\n",
    "    for i in range(int(polynomialOrder)+1):\n",
    "        if text[i].value=='' or text[i].value=='Inserisci il coefficiente':\n",
    "            text[i].value='Inserisci il coefficiente'\n",
    "        else:\n",
    "            try:\n",
    "                coef[i]=float(text[i].value)\n",
    "            except ValueError:\n",
    "                if text[i].value!='' or text[i].value!='Inserisci il coefficiente':\n",
    "                    coef[i]=sp.var(text[i].value)\n",
    "    coef.reverse()\n",
    "    enacba=\"$\"\n",
    "    for i in range (int(polynomialOrder),-1,-1):\n",
    "        if i==int(polynomialOrder):\n",
    "            enacba=enacba+str(coef[i])+\"s^\"+str(i)\n",
    "        elif i==1:\n",
    "            enacba=enacba+\"+\"+str(coef[i])+\"s\"\n",
    "        elif i==0:\n",
    "            enacba=enacba+\"+\"+str(coef[i])+\"$\"\n",
    "        else:\n",
    "            enacba=enacba+\"+\"+str(coef[i])+\"s^\"+str(i)\n",
    "    coef.reverse()\n",
    "    display(Markdown('Il polinomio caratteristico è:'), Markdown(enacba))\n",
    "    display(Markdown('Vuoi utilizzare il criterio di Routh o di Hurwitz per verificare la stabilità?'))\n",
    "    display(w)\n",
    "    display(widgets.HBox((btn2, btnReset)))\n",
    "    display(out)\n",
    "\n",
    "def on_button_clicked2(btn2):\n",
    "    \n",
    "    if w.value=='Routh':\n",
    "\n",
    "        s=np.zeros((len(coef), len(coef)//2+(len(coef)%2)),dtype=object)\n",
    "        xx=np.zeros((len(coef), len(coef)//2+(len(coef)%2)),dtype=object)\n",
    "        check_index=0\n",
    "        \n",
    "        if len(s[0]) == len(coef[::2]):\n",
    "            s[0] = coef[::2]\n",
    "        elif len(s[0])-1 == len(coef[::2]):\n",
    "            s[0,:-1] = coef[::2]\n",
    "        #soda mesta\n",
    "        if len(s[1]) == len(coef[1::2]):\n",
    "            s[1] = coef[1::2]\n",
    "        elif len(s[1])-1 == len(coef[1::2]):\n",
    "            s[1,:-1] = coef[1::2]\n",
    "            \n",
    "        for i in range(len(s[2:,:])):\n",
    "            i+=2\n",
    "            for j in range(len(s[0,0:-1])):\n",
    "                s[i,j] = (s[i-1,0]*s[i-2,j+1]-s[i-2,0]*s[i-1,j+1]) / s[i-1,0]\n",
    "                if s[i,0] == 0:\n",
    "                    epsilon=sp.Symbol('\\u03B5')\n",
    "                    s[i,0] = epsilon\n",
    "                    check_index=1\n",
    "        \n",
    "        if check_index==1:\n",
    "            for i in range(len(s)):\n",
    "                for j in range(len(s[0])):\n",
    "                    xx[i,j] = sp.limit(s[i,j],epsilon,0)\n",
    "            \n",
    "            positive_check=xx[:,0]>0\n",
    "            negative_check=xx[:,0]<0\n",
    "            if all(positive_check)==True:\n",
    "                with out:\n",
    "                    clear_output()\n",
    "                    display(Markdown('Uno degli elementi nella tabella di Routh è 0. Lo si sostituisce con $\\epsilon$ e si studiano i valori degli elementi per $\\epsilon$ che tende a 0.')) \n",
    "                    display(Markdown('Tabella di Routh $%s$\\n' % vmatrix(s)))\n",
    "                    display(Markdown('Il sistema è stabile perché tutti gli elementi della prima colonna sono positivi.'))\n",
    "                    display(Markdown('Tabella di Routh $%s$\\n' % vmatrix(xx)))\n",
    "\n",
    "            elif all(negative_check)==True:\n",
    "                with out:\n",
    "                    clear_output()\n",
    "                    display(Markdown('Uno degli elementi nella tabella di Routh è 0. Lo si sostituisce con $\\epsilon$ e si studiano i valori degli elementi per $\\epsilon$ che tende a 0.')) \n",
    "                    display(Markdown('Tabella di Routh $%s$\\n' % vmatrix(s)))\n",
    "                    display(Markdown('Il sistema è stabile perché tutti gli elementi della prima colonna sono negativi.'))\n",
    "                    display(Markdown('Tabella di Routh $%s$\\n' % vmatrix(xx)))           \n",
    "            else:\n",
    "                with out:\n",
    "                    clear_output()\n",
    "                    display(Markdown('Uno degli elementi nella tabella di Routh è 0. Lo si sostituisce con $\\epsilon$ e si studiano i valori degli elementi per $\\epsilon$ che tende a 0.')) \n",
    "                    display(Markdown('Tabella di Routh $%s$\\n' % vmatrix(s)))\n",
    "                    display(Markdown('Il sistema è instabile perché gli elementi della prima colonna non hanno tutti lo stesso segno.'))\n",
    "                    display(Markdown('Tabella di Routh $%s$\\n' % vmatrix(xx)))\n",
    "            \n",
    "            \n",
    "        elif check_index==0:      \n",
    "\n",
    "            if all(isinstance(x, (int,float)) for x in coef):\n",
    "                positive_check=s[:,0]>0\n",
    "                negative_check=s[:,0]<0\n",
    "                if all(positive_check)==True:\n",
    "                    with out:\n",
    "                        clear_output()\n",
    "                        display(Markdown('Il sistema è stabile perché tutti gli elementi della prima colonna sono positivi.'))\n",
    "                        display(Markdown('Tabella di Routh $%s$' % vmatrix(s)))\n",
    "                elif all(negative_check)==True:\n",
    "                    with out:\n",
    "                        clear_output()\n",
    "                        display(Markdown('Il sistema è stabile perché tutti gli elementi della prima colonna sono negativi.'))\n",
    "                        display(Markdown('Tabella di Routh $%s$' % vmatrix(s)))\n",
    "                else:\n",
    "                    with out:\n",
    "                        clear_output()\n",
    "                        display(Markdown('Il sistema è instabile perché gli elementi della prima colonna non hanno tutti lo stesso segno.'))\n",
    "                        display(Markdown('Tabella di Routh $%s$' % vmatrix(s)))\n",
    "\n",
    "            else:\n",
    "                testSign=[]\n",
    "                for i in range(len(s)):\n",
    "                    if isinstance(s[i,0],(int,float)):\n",
    "                        testSign.append(s[i,0]>0)\n",
    "                solution=[]\n",
    "                if all(elem == True for elem in testSign):\n",
    "                    for x in s[:,0]:\n",
    "                        if not isinstance(x,(sp.numbers.Integer,sp.numbers.Float,int,float)):\n",
    "                            solution.append(sp.solve(x>0,K)) # Define the solution for each value of the determinant\n",
    "                    with out:\n",
    "                        clear_output()\n",
    "                        display(Markdown('Tabella di Routh $%s$' % vmatrix(s)))\n",
    "                        display(Markdown('Tutti i coefficienti conosciuti della prima colonna della tabella di Routh sono positivi, quindi il sistema è stabile per:'))\n",
    "                        print(solution)            \n",
    "                elif all(elem == False for elem in test):\n",
    "                    for x in s[:,0]:\n",
    "                        if not isinstance(x,(sp.numbers.Integer,sp.numbers.Float,int,float)):\n",
    "                            solution.append(sp.solve(x<0,K)) # Define the solution for each value of the determinant\n",
    "                    with out:\n",
    "                        clear_output()\n",
    "                        display(Markdown('Tabella di Routh $%s$' % vmatrix(s)))\n",
    "                        display(Markdown('Tutti i coefficienti conosciuti della prima colonna della tabella di Routh sono negativi, quindi il sistema è stabile per:'))\n",
    "                        print(solution)\n",
    "                else:\n",
    "                    with out:\n",
    "                        display(Markdown('Tabella di Routh $%s$' % vmatrix(s)))\n",
    "                        display(Markdown('Il sistema è instabile perché gli elementi della prima colonna non hanno tutti lo stesso segno.'))\n",
    "\n",
    "\n",
    "\n",
    "    elif w.value=='Hurwitz':\n",
    "        \n",
    "\n",
    "\n",
    "        # Check if all the coefficients are numbers or not and preallocate basic determinant.\n",
    "\n",
    "        if all(isinstance(x, (int,float)) for x in coef):\n",
    "            determinant=np.zeros([len(coef)-1,len(coef)-1])\n",
    "        else:\n",
    "            determinant=np.zeros([len(coef)-1,len(coef)-1],dtype=object)\n",
    "\n",
    "        # Define the first two rows of the basic determinant.    \n",
    "        for i in range(len(coef)-1):\n",
    "            try:\n",
    "                determinant[0,i]=coef[2*i+1]\n",
    "            except:\n",
    "                determinant[0,i]=0\n",
    "\n",
    "        for i in range(len(coef)-1):\n",
    "            try:\n",
    "                determinant[1,i]=coef[2*i]\n",
    "            except:\n",
    "                determinant[1,i]=0\n",
    "        # Define the remaining rows of the basic determinant by shifting the first two rows.        \n",
    "        for i in range(2,len(coef)-1):\n",
    "            determinant[i,:]=np.roll(determinant[i-2,:],1)\n",
    "            determinant[2:,0]=0\n",
    "\n",
    "        # Define all the subdeterminants.\n",
    "        subdet=[];\n",
    "        \n",
    "        for i in range(len(determinant)-1):\n",
    "            subdet.append(determinant[0:i+1,0:i+1])\n",
    "\n",
    "        # Append the basic determinant to the subdeterminants' array.\n",
    "        subdet.append(determinant)\n",
    "\n",
    "        # Check if all coefficients are numbers.\n",
    "        if all(isinstance(x, (int,float)) for x in coef):\n",
    "            det_value=[] # Preallocate array containing values of all determinants.\n",
    "            for i in range(len(subdet)):\n",
    "                det_value.append(np.linalg.det(subdet[i])); # Calculate determinant and append the values to det_value.\n",
    "\n",
    "            if all(i > 0 for i in det_value)==True: # Check if all values in det_value are positive or not.\n",
    "                with out:\n",
    "                    clear_output()\n",
    "                    display(Markdown('Il sistema è stabile perché tutti i determinanti sono positivi.'))\n",
    "                    for i in range(len(subdet)):\n",
    "                        display(Markdown('$\\Delta_{%i}=$'%(i+1) + '$%s$' %vmatrix(subdet[i]) + '$=%s$' %det_value[i]))\n",
    "            else:\n",
    "                with out:\n",
    "                    clear_output()\n",
    "                    display(Markdown('Il sistema è instabile perché non tutti i determinanti sono positivi.'))\n",
    "                    for i in range(len(subdet)):\n",
    "                        display(Markdown('$\\Delta_{%i}=$'%(i+1) + '$%s$' %vmatrix(subdet[i]) + '$=%s$' %det_value[i]))\n",
    "        else:\n",
    "            subdetSym=[] # Preallocate subdetSym.\n",
    "            det_value=[] # Preallocate det_value.\n",
    "            solution=[] # Preallocate solution.\n",
    "            \n",
    "            for i in subdet:\n",
    "                subdetSym.append(sp.Matrix(i)) # Transform matrix subdet to symbolic.\n",
    "            for i in range(len(subdetSym)):\n",
    "                det_value.append(subdetSym[i].det()) # Calculate the value of the determinant.\n",
    "            \n",
    "            testSign=[]\n",
    "            \n",
    "            for i in range(len(det_value)):\n",
    "                if isinstance(det_value[i],(int,float,sp.numbers.Integer,sp.numbers.Float)):\n",
    "                    testSign.append(det_value[i]>0)\n",
    "            \n",
    "            if all(elem == True for elem in testSign):\n",
    "                solution=[]\n",
    "                for x in det_value:\n",
    "                    if not isinstance(x,(sp.numbers.Integer,sp.numbers.Float,int,float)):\n",
    "                        solution.append(sp.solve(x>0,K)) # Define the solution for each value of the determinant\n",
    "                \n",
    "                with out:\n",
    "                    clear_output()                    \n",
    "                for i in range(len(subdet)):\n",
    "                    display(Markdown('$\\Delta_{%i}=$'%(i+1) + '$%s$' %vmatrix(subdet[i]) + '$=%s$' %det_value[i]))\n",
    "                display(Markdown('Il sistema è stabile per:'))\n",
    "                print(solution)    \n",
    "\n",
    "            else:\n",
    "                with out:\n",
    "                    clear_output()\n",
    "                    display(Markdown('Il sistema è instabile perché non tutti i determinanti conosciuti sono positivi.'))\n",
    "                for i in range(len(subdet)):\n",
    "                    display(Markdown('$\\Delta_{%i}=$'%(i+1) + '$%s$' %vmatrix(subdet[i]) + '$=%s$' %det_value[i]))\n",
    "\n",
    "global out\n",
    "out=widgets.Output()\n",
    "\n",
    "btn3=widgets.Button(description=\"Resetta tutto\")\n",
    "w=widgets.Select(\n",
    "    options=['Routh', 'Hurwitz'],\n",
    "    rows=3,\n",
    "    description='Seleziona:',\n",
    "    disabled=False\n",
    ")\n",
    "\n",
    "btn1.on_click(on_button_clicked1)\n",
    "btn2.on_click(on_button_clicked2)       \n",
    "btnReset.on_click(on_button_clickedReset) "
   ]
  }
 ],
 "metadata": {
  "kernelspec": {
   "display_name": "Python 3",
   "language": "python",
   "name": "python3"
  },
  "language_info": {
   "codemirror_mode": {
    "name": "ipython",
    "version": 3
   },
   "file_extension": ".py",
   "mimetype": "text/x-python",
   "name": "python",
   "nbconvert_exporter": "python",
   "pygments_lexer": "ipython3",
   "version": "3.6.7"
  },
  "nbTranslate": {
   "displayLangs": [
    "it"
   ],
   "hotkey": "alt-t",
   "langInMainMenu": true,
   "sourceLang": "en",
   "targetLang": "it",
   "useGoogleTranslate": true
  }
 },
 "nbformat": 4,
 "nbformat_minor": 2
}
