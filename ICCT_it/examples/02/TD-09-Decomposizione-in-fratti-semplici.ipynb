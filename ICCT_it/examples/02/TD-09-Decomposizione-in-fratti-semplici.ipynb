{
 "cells": [
  {
   "cell_type": "code",
   "execution_count": 1,
   "metadata": {},
   "outputs": [
    {
     "data": {
      "text/html": [
       "<script>\n",
       "code_show=true; \n",
       "function code_toggle() {\n",
       "    if (code_show){\n",
       "        $('div.input').hide()\n",
       "    } else {\n",
       "        $('div.input').show()\n",
       "    }\n",
       "    code_show = !code_show\n",
       "} \n",
       "$( document ).ready(code_toggle);\n",
       "</script>\n",
       "Toggle cell visibility <a href=\"javascript:code_toggle()\">here</a>."
      ],
      "text/plain": [
       "<IPython.core.display.HTML object>"
      ]
     },
     "metadata": {},
     "output_type": "display_data"
    }
   ],
   "source": [
    "# Erasmus+ ICCT project (2018-1-SI01-KA203-047081)\n",
    "\n",
    "# Toggle cell visibility\n",
    "\n",
    "from IPython.display import HTML\n",
    "tag = HTML('''<script>\n",
    "code_show=true; \n",
    "function code_toggle() {\n",
    "    if (code_show){\n",
    "        $('div.input').hide()\n",
    "    } else {\n",
    "        $('div.input').show()\n",
    "    }\n",
    "    code_show = !code_show\n",
    "} \n",
    "$( document ).ready(code_toggle);\n",
    "</script>\n",
    "Toggle cell visibility <a href=\"javascript:code_toggle()\">here</a>.''')\n",
    "display(tag)\n",
    "\n",
    "# Hide the code completely\n",
    "\n",
    "# from IPython.display import HTML\n",
    "# tag = HTML('''<style>\n",
    "# div.input {\n",
    "#     display:none;\n",
    "# }\n",
    "# </style>''')\n",
    "# display(tag)"
   ]
  },
  {
   "cell_type": "code",
   "execution_count": 2,
   "metadata": {},
   "outputs": [],
   "source": [
    "# Examples: \n",
    "# Factored form: 1/(x**2*(x**2 + 1))\n",
    "# Expanded form: 1/(x**4+x**2)\n",
    "\n",
    "import sympy as sym\n",
    "from IPython.display import Latex, display, Markdown, Javascript, clear_output\n",
    "from ipywidgets import widgets, Layout # Interactivity module"
   ]
  },
  {
   "cell_type": "markdown",
   "metadata": {
    "lang": "it"
   },
   "source": [
    "## Decomposizione in fratti semplici\n",
    "\n",
    "Quando si utilizza la trasformata di Laplace per l'analisi dei sistemi, la trasformata di Laplace del segnale di uscita si ottiene come prodotto della funzione di trasferimento del sistema per la trasformata di Laplace del segnale di ingresso. Il risultato di questa moltiplicazione solitamente è abbastanza complesso da interpretare. Per eseguire la trasformata inversa di Laplace, si esegue prima la decomposizione in fratti semplici. Questo esempio dimostra questa procedura.\n",
    "\n",
    "---\n",
    "\n",
    "### Come usare questo notebook?\n",
    "Alterna tra l'opzione *Input da funzione* o *Input da coefficienti polinomiali*.\n",
    "\n",
    "1. *Input da funzione*:\n",
    " * Esempio: per inserire la funzione $\\frac{1}{x^2(x^2 + 1)}$ (formato fattorizzato) digitare 1/(x\\*\\*2\\*(x\\*\\*2 + 1)); per inserire la stessa funzione nella forma espansa ($\\frac{1}{x^4+x^2}$) digitare 1/(x\\*\\*4+x\\*\\*2).\n",
    "\n",
    "2. *Input da coefficienti polinomiali*:\n",
    " * Usa i cursori per selezionare l'ordine del numeratore e del denominatore della funzione razionale di interesse.\n",
    " * Inserisci i coefficienti sia del numeratore che del denominatore nelle caselle di testo dedicate e fai clic su *Conferma*."
   ]
  },
  {
   "cell_type": "code",
   "execution_count": 6,
   "metadata": {},
   "outputs": [
    {
     "data": {
      "application/vnd.jupyter.widget-view+json": {
       "model_id": "8e17ed11494b44ea8d2d16077060675d",
       "version_major": 2,
       "version_minor": 0
      },
      "text/plain": [
       "ToggleButtons(description='Select: ', options=(('Input da funzione', 0), ('Input da coefficienti polinomiali',…"
      ]
     },
     "metadata": {},
     "output_type": "display_data"
    },
    {
     "data": {
      "application/vnd.jupyter.widget-view+json": {
       "model_id": "e9a4cc8fedf342fd90aa85eed2eaf0fd",
       "version_major": 2,
       "version_minor": 0
      },
      "text/plain": [
       "Output()"
      ]
     },
     "metadata": {},
     "output_type": "display_data"
    }
   ],
   "source": [
    "## System selector buttons\n",
    "style = {'description_width': 'initial'}\n",
    "typeSelect = widgets.ToggleButtons(\n",
    "    options=[('Input da funzione', 0), ('Input da coefficienti polinomiali', 1),],\n",
    "    description='Select: ',style={'button_width':'230px'})\n",
    "\n",
    "btnReset=widgets.Button(description=\"Reset\")\n",
    "\n",
    "# function\n",
    "textbox=widgets.Text(description=('Inserisci la funzione:'),style=style)\n",
    "btnConfirmFunc=widgets.Button(description=\"Conferma\") # ex btnConfirm\n",
    "\n",
    "# poly\n",
    "btnConfirmPoly=widgets.Button(description=\"Conferma\") # ex btn\n",
    "\n",
    "display(typeSelect)\n",
    "\n",
    "def on_button_clickedReset(ev):\n",
    "    display(Javascript(\"Jupyter.notebook.execute_cells_below()\"))\n",
    "\n",
    "def on_button_clickedFunc(ev):\n",
    "    eq = sym.sympify(textbox.value)\n",
    "\n",
    "    if eq==sym.factor(eq):\n",
    "        display(Markdown('La funzione $%s$ è scritta in forma fattorizzata. ' %sym.latex(eq) + 'La sua forma espansa è $%s$.' %sym.latex(sym.expand(eq))))\n",
    "        \n",
    "    else:\n",
    "        display(Markdown('La funzione $%s$ è scritta in forma espansa. ' %sym.latex(eq) + 'La sua forma fattorizzata è $%s$.' %sym.latex(sym.factor(eq))))\n",
    "    \n",
    "    display(Markdown('Il risultato della decomposizione in fratti semplici è: $%s$' %sym.latex(sym.apart(eq)) + '.'))\n",
    "    display(btnReset)\n",
    "    \n",
    "def transfer_function(num,denom):\n",
    "    num = np.array(num, dtype=np.float64)\n",
    "    denom = np.array(denom, dtype=np.float64)\n",
    "    len_dif = len(denom) - len(num)\n",
    "    if len_dif<0:\n",
    "        temp = np.zeros(abs(len_dif))\n",
    "        denom = np.concatenate((temp, denom))\n",
    "        transferf = np.vstack((num, denom))\n",
    "    elif len_dif>0:\n",
    "        temp = np.zeros(len_dif)\n",
    "        num = np.concatenate((temp, num))\n",
    "        transferf = np.vstack((num, denom))\n",
    "    return transferf\n",
    "\n",
    "def f(orderNum, orderDenom):\n",
    "    global text1, text2\n",
    "    text1=[None]*(int(orderNum)+1)\n",
    "    text2=[None]*(int(orderDenom)+1)\n",
    "    display(Markdown('2. Inserisci i coefficienti del numeratore.'))\n",
    "    for i in range(orderNum+1):\n",
    "        text1[i]=widgets.Text(description=(r'a%i'%(orderNum-i)))\n",
    "        display(text1[i])\n",
    "    display(Markdown('3. Inserisci i coefficienti del denominatore.'))    \n",
    "    for j in range(orderDenom+1):\n",
    "        text2[j]=widgets.Text(description=(r'b%i'%(orderDenom-j)))\n",
    "        display(text2[j])\n",
    "    global orderNum1, orderDenom1\n",
    "    orderNum1=orderNum\n",
    "    orderDenom1=orderDenom\n",
    "\n",
    "def on_button_clickedPoly(btn):\n",
    "    clear_output()\n",
    "    global num,denom\n",
    "    enacbaNum=\"\"\n",
    "    enacbaDenom=\"\"\n",
    "    num=[None]*(int(orderNum1)+1)\n",
    "    denom=[None]*(int(orderDenom1)+1)\n",
    "    for i in range(int(orderNum1)+1):\n",
    "        if text1[i].value=='' or text1[i].value=='Please insert a coefficient':\n",
    "            text1[i].value='Please insert a coefficient'\n",
    "        else:\n",
    "            try:\n",
    "                num[i]=int(text1[i].value)\n",
    "            except ValueError:\n",
    "                if text1[i].value!='' or text1[i].value!='Please insert a coefficient':\n",
    "                    num[i]=sym.var(text1[i].value)\n",
    "    \n",
    "    for i in range (len(num)-1,-1,-1):\n",
    "        if i==0:\n",
    "            enacbaNum=enacbaNum+str(num[len(num)-i-1])\n",
    "        elif i==1:\n",
    "            enacbaNum=enacbaNum+\"+\"+str(num[len(num)-i-1])+\"*x+\"\n",
    "        elif i==int(len(num)-1):\n",
    "            enacbaNum=enacbaNum+str(num[0])+\"*x**\"+str(len(num)-1)\n",
    "        else:\n",
    "            enacbaNum=enacbaNum+\"+\"+str(num[len(num)-i-1])+\"*x**\"+str(i) \n",
    "    \n",
    "    for j in range(int(orderDenom1)+1):\n",
    "        if text2[j].value=='' or text2[j].value=='Please insert a coefficient':\n",
    "            text2[j].value='Please insert a coefficient'\n",
    "        else:\n",
    "            try:\n",
    "                denom[j]=int(text2[j].value)\n",
    "            except ValueError:\n",
    "                if text2[j].value!='' or text2[j].value!='Please insert a coefficient':\n",
    "                    denom[j]=sym.var(text2[j].value)\n",
    "                    \n",
    "    for i in range (len(denom)-1,-1,-1):\n",
    "        if i==0:\n",
    "            enacbaDenom=enacbaDenom+\"+\"+str(denom[len(denom)-i-1])\n",
    "        elif i==1:\n",
    "            enacbaDenom=enacbaDenom+\"+\"+str(denom[len(denom)-i-1])+\"*x\"\n",
    "        elif i==int(len(denom)-1):\n",
    "            enacbaDenom=enacbaDenom+str(denom[0])+\"*x**\"+str(len(denom)-1)\n",
    "        else:\n",
    "            enacbaDenom=enacbaDenom+\"+\"+str(denom[len(denom)-i-1])+\"*x**\"+str(i)\n",
    "        \n",
    "    funcSym=sym.sympify('('+enacbaNum+')/('+enacbaDenom+')')\n",
    "\n",
    "    DenomSym=sym.sympify(enacbaDenom)\n",
    "    NumSym=sym.sympify(enacbaNum)\n",
    "    DenomSymFact=sym.factor(DenomSym);\n",
    "    funcFactSym=NumSym/DenomSymFact;\n",
    "    \n",
    "    if DenomSym==sym.expand(enacbaDenom):\n",
    "        if DenomSym==DenomSymFact:\n",
    "            display(Markdown('La funzione di interesse è: $%s$. Il numeratore non può essere fattorizzato.' %sym.latex(funcSym)))\n",
    "        else:\n",
    "            display(Markdown('La funzione di interesse è: $%s$. Il numeratore non può essere fattorizzato. La funzione con il denominatore fattorizzato è: $%s$.' %(sym.latex(funcSym), sym.latex(funcFactSym))))\n",
    "\n",
    "    if sym.apart(funcSym)==funcSym:\n",
    "        display(Markdown('La decomposizione in fratti semplici non può essere eseguita.'))\n",
    "    else:\n",
    "        display(Markdown('Il risultato della decomposizione in fratti semplici è: $%s$' %sym.latex(sym.apart(funcSym)) + '.'))\n",
    "        \n",
    "    btnReset.on_click(on_button_clickedReset)\n",
    "    display(btnReset)\n",
    "    \n",
    "def partial_frac(index):\n",
    "\n",
    "    if index==0:\n",
    "        x = sym.Symbol('x')        \n",
    "        display(widgets.HBox((textbox, btnConfirmFunc)))\n",
    "        btnConfirmFunc.on_click(on_button_clickedFunc)\n",
    "        btnReset.on_click(on_button_clickedReset)\n",
    "    \n",
    "    elif index==1:\n",
    "        display(Markdown('1. Definisci l\\'ordine del numeratore (orderNum) e del denominatore (orderDenom).'))\n",
    "        widgets.interact(f, orderNum=widgets.IntSlider(min=0,max=10,step=1,value=0),\n",
    "                 orderDenom=widgets.IntSlider(min=0,max=10,step=1,value=0));\n",
    "        btnConfirmPoly.on_click(on_button_clickedPoly)\n",
    "        display(btnConfirmPoly)      \n",
    "\n",
    "input_data=widgets.interactive_output(partial_frac,{'index':typeSelect})\n",
    "display(input_data)"
   ]
  }
 ],
 "metadata": {
  "kernelspec": {
   "display_name": "Python 3",
   "language": "python",
   "name": "python3"
  },
  "language_info": {
   "codemirror_mode": {
    "name": "ipython",
    "version": 3
   },
   "file_extension": ".py",
   "mimetype": "text/x-python",
   "name": "python",
   "nbconvert_exporter": "python",
   "pygments_lexer": "ipython3",
   "version": "3.6.7"
  },
  "nbTranslate": {
   "displayLangs": [
    "it"
   ],
   "hotkey": "alt-t",
   "langInMainMenu": true,
   "sourceLang": "en",
   "targetLang": "it",
   "useGoogleTranslate": true
  }
 },
 "nbformat": 4,
 "nbformat_minor": 4
}
