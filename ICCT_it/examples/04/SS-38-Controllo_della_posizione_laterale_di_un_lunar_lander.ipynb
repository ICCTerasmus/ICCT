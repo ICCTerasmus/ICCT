{
 "cells": [
  {
   "cell_type": "code",
   "execution_count": 1,
   "metadata": {},
   "outputs": [
    {
     "data": {
      "text/html": [
       "<script>\n",
       "code_show=true; \n",
       "function code_toggle() {\n",
       "    if (code_show){\n",
       "        $('div.input').hide()\n",
       "    } else {\n",
       "        $('div.input').show()\n",
       "    }\n",
       "    code_show = !code_show\n",
       "} \n",
       "$( document ).ready(code_toggle);\n",
       "</script>\n",
       "Toggle cell visibility <a href=\"javascript:code_toggle()\">here</a>."
      ],
      "text/plain": [
       "<IPython.core.display.HTML object>"
      ]
     },
     "metadata": {},
     "output_type": "display_data"
    }
   ],
   "source": [
    "#remove cell visibility\n",
    "from IPython.display import HTML\n",
    "tag = HTML('''<script>\n",
    "code_show=true; \n",
    "function code_toggle() {\n",
    "    if (code_show){\n",
    "        $('div.input').hide()\n",
    "    } else {\n",
    "        $('div.input').show()\n",
    "    }\n",
    "    code_show = !code_show\n",
    "} \n",
    "$( document ).ready(code_toggle);\n",
    "</script>\n",
    "Toggle cell visibility <a href=\"javascript:code_toggle()\">here</a>.''')\n",
    "display(tag)"
   ]
  },
  {
   "cell_type": "markdown",
   "metadata": {
    "lang": "it"
   },
   "source": [
    "## Controllo della posizione laterale di un lander lunare\n",
    "\n",
    "Questo esempio illustra lo sviluppo di un regolatore (osservatore e controllore sotto forma di feedback dello stato) per la posizione laterale di un lander lunare a partire dalle equazioni del sistema.\n",
    "\n",
    "<img src=\"Images\\lunarlander.PNG\" alt=\"drawing\" width=\"500x800\">\n",
    "\n",
    "Il sistema è rappresentato nella figura sopra, la discesa verticale viene rallentata tramite un propulsore verticale che produce la forza costante $F$. Il movimento orizzontale può essere ottenuto inclinando leggermente il lander di un angolo $\\theta$; l'inclinazione genera una forza laterale che è approssimativamente uguale a $F\\theta$. L'inclinazione si ottiene generando la coppia $T$ utilizzando una serie di razzi sterzanti controllabili (la cui coppia massima è 500 Nm). L'angolo di inclinazione deve essere compreso tra $\\pm15$ gradi per evitare un pericoloso aumento della velocità di discesa verticale. Le grandezze misurate sono la posizione laterale e la velocità. Si presume che la resistenza atmosferica sia trascurabile. I valori dei parametri sono elencati nella tabella sottostante.\n",
    "\n",
    "| Parametro |                          Valore |\n",
    "|-----------|-------------------------------:|\n",
    "|$m$        |                        1000 kg |\n",
    "|$J$        |           1000 kg$\\text{m}^2$ |\n",
    "|$F$        |                         1500 N |\n",
    "\n",
    "L'obiettivo della progettazione del sistema di controllo è di raggiungere le seguenti prestazioni per la regolazione della posizione orizzontale $z$:\n",
    "1. Overshoot massimo del 30%.\n",
    "2. Tempo di assestamento al 5% inferiore a 15 secondi.\n",
    "3. Angolo $\\theta$ sempre dentro i suoi limiti per una variazione laterale massima desiderata di 10 metri.\n",
    "4. Errore di regime nullo in risposta a un gradino.\n",
    "\n",
    "Le equazioni del sistema sono:\n",
    "\n",
    "\\begin{cases}\n",
    "J\\ddot{\\theta}=T \\\\\n",
    "m\\ddot{z}=F\\theta\n",
    "\\end{cases}\n",
    "e definendo $\\textbf{x}=[x_1,x_2,x_3,x_4]^T=[z,\\dot{z},\\theta,\\dot{\\theta}]^T$ come vettore degli stati e $u=T$ come ingresso, nella forma di stato diventano:\n",
    "\n",
    "\\begin{cases}\n",
    "\\dot{\\textbf{x}}=\\underbrace{\\begin{bmatrix}0&1&0&0 \\\\ 0&0&F/m&0 \\\\ 0&0&0&1 \\\\ 0&0&0&0\\end{bmatrix}}_{A}\\textbf{x}+\\underbrace{\\begin{bmatrix}0\\\\0\\\\0\\\\1/J\\end{bmatrix}}_{B}u \\\\ \\\\\n",
    "\\textbf{y}=\\underbrace{\\begin{bmatrix}1&0&0&0 \\\\ 0&1&0&0\\end{bmatrix}}_{C}\\textbf{x}.\n",
    "\\end{cases}\n",
    "\n",
    "### Design del controller\n",
    "Per avere errore nullo a regime in risposta a un riferimento a gradino, il sistema viene aumentato aggiungendo un nuovo stato $\\dot{x_5}=y_1-y_d$ dove $y_1$ è la posizione laterale misurata e $y_d$ è il valore di posizione desiderato. Il sistema aumentato è quindi:\n",
    "\n",
    "\\begin{cases}\n",
    "\\dot{\\textbf{x}_a}=\\underbrace{\\begin{bmatrix}0&1&0&0&0 \\\\ 0&0&F/m&0&0 \\\\ 0&0&0&1&0 \\\\ 0&0&0&0&0 \\\\ 1&0&0&0&0 \\end{bmatrix}}_{A_a}\\textbf{x}_a+\\underbrace{\\begin{bmatrix} 0&0\\\\0&0\\\\0&0\\\\1/J&0\\\\0&-1 \\end{bmatrix}}_{B_a}\\underbrace{\\begin{bmatrix} u\\\\y_d \\end{bmatrix}}_{u_a} \\\\ \\\\\n",
    "\\textbf{y}_a=\\underbrace{\\begin{bmatrix}1&0&0&0&0\\\\0&1&0&0&0\\\\0&0&0&0&1\\end{bmatrix}}_{C_a}\\textbf{x}_a\n",
    "\\end{cases}\n",
    "\n",
    "che è controllabile con la prima colonna di $B_a$, quindi è possibile utilizzare il metodo di posizionamento dei poli. Si noti che per mantenere l'osservabilità del sistema, è stata aggiunta una riga nella matrice $C$ perché il nuovo stato $x_5$ è noto.\n",
    "\n",
    "La matrice di guadagno $K_a$ che soddisfa tutti i requisiti è:\n",
    "$$\n",
    "K_a=\\begin{bmatrix}2225.0&6244.0&13861.0&5275.0&316.0\\end{bmatrix}\n",
    "$$\n",
    "e posiziona i poli di $(A_a-B_aK_a)$ in $-0.28$, $-2.24+2.23i$, $-2.24-2.23i$, $-0.26+0.32i$ e $-0.26-0.32i$.\n",
    "\n",
    "### Design dell'osservatore\n",
    "Il sistema è osservabile e, poiché vengono misurati tre stati, è possibile progettare un osservatore dello stato ridotto (per $\\theta$ e $\\dot{\\theta}$) che ha la struttura:\n",
    "$$\n",
    "\\dot{\\hat{\\textbf{v}}}=(A_{11}+L_aA_{21})\\hat{\\textbf{v}}+(A_{12}+L_aA_{22}-A_{11}L_a-L_aA_{21}L_a)\\textbf{y}_a+(B_1+L_aB_2)u_a,\n",
    "$$\n",
    "dove\n",
    "$$\n",
    "T^{-1}A_aT=\\begin{bmatrix}A_{11}&A_{12} \\\\ A_{21}&A_{22}\\end{bmatrix}, \n",
    "\\quad T^{-1}B_a=\\begin{bmatrix}B_1 \\\\ B_2\\end{bmatrix}, \n",
    "\\quad \\overline{\\textbf{x}_a}=T^{-1}\\textbf{x}_a=\\begin{bmatrix}V \\\\ C\\end{bmatrix}\\textbf{x}_a, \n",
    "\\quad V=\\begin{bmatrix}0&0&1&0&0 \\\\ 0&0&0&1&0\\end{bmatrix}, \n",
    "\\quad \\hat{\\textbf{x}_a}=\\begin{bmatrix}\\hat{\\textbf{v}}-L_a\\textbf{y}_a \\\\ \\textbf{y}_a\\end{bmatrix}.\n",
    "$$\n",
    "\n",
    "La scelta degli autovalori dell'osservatore è fatta in modo che la dinamica dell'errore converga più velocemente delle dinamiche del sistema specificate dai requisiti. Gli autovalori selezionati per $A_{11}+L_aA_{21}$ sono $\\lambda_i=-10$ rad/s, $i=1,2$ con\n",
    "$$ L_a=\\begin{bmatrix}0&-\\frac{40}{3}&0 \\\\ 0&-\\frac{200}{3}&0\\end{bmatrix}. $$\n",
    "\n",
    "\n",
    "### Come usare questo notebook?\n",
    "È possibile controllare le prestazioni del sistema con il regolatore sviluppato e modificare direttamente il controller e l'osservatore. La simulazione inizia con un errore iniziale sull'osservatore."
   ]
  },
  {
   "cell_type": "code",
   "execution_count": 2,
   "metadata": {},
   "outputs": [],
   "source": [
    "#Preparatory Cell \n",
    "\n",
    "%matplotlib notebook\n",
    "import control as ctrl\n",
    "import numpy\n",
    "import sympy as sym\n",
    "from IPython.display import display, Markdown\n",
    "import ipywidgets as widgets\n",
    "import matplotlib.pyplot as plt\n",
    "import matplotlib.animation as animation\n",
    "import matplotlib.patches as patches\n",
    "import matplotlib.transforms as transforms\n",
    "import matplotlib.lines as lines\n",
    "\n",
    "#print a matrix latex-like\n",
    "def bmatrix(a):\n",
    "     \"\"\"Returns a LaTeX bmatrix - by Damir Arbula (ICCT project)\n",
    "\n",
    "     :a: numpy array\n",
    "     :returns: LaTeX bmatrix as a string\n",
    "     \"\"\"\n",
    "     if len(a.shape) > 2:\n",
    "         raise ValueError('bmatrix can at most display two dimensions')\n",
    "     lines = str(a).replace('[', '').replace(']', '').splitlines()\n",
    "     rv = [r'\\begin{bmatrix}']\n",
    "     rv += ['  ' + ' & '.join(l.split()) + r'\\\\' for l in lines]\n",
    "     rv +=  [r'\\end{bmatrix}']\n",
    "     return '\\n'.join(rv)\n",
    "\n",
    "\n",
    "# Display formatted matrix: \n",
    "def vmatrix(a):\n",
    "    if len(a.shape) > 2:\n",
    "         raise ValueError('bmatrix can at most display two dimensions')\n",
    "    lines = str(a).replace('[', '').replace(']', '').splitlines()\n",
    "    rv = [r'\\begin{vmatrix}']\n",
    "    rv += ['  ' + ' & '.join(l.split()) + r'\\\\' for l in lines]\n",
    "    rv +=  [r'\\end{vmatrix}']\n",
    "    return '\\n'.join(rv)\n",
    "\n",
    "\n",
    "#matrixWidget is a matrix looking widget built with a VBox of HBox(es) that returns a numPy array as value !\n",
    "class matrixWidget(widgets.VBox):\n",
    "    def updateM(self,change):\n",
    "        for irow in range(0,self.n):\n",
    "            for icol in range(0,self.m):\n",
    "                self.M_[irow,icol] = self.children[irow].children[icol].value\n",
    "                #print(self.M_[irow,icol])\n",
    "        self.value = self.M_\n",
    "\n",
    "    def dummychangecallback(self,change):\n",
    "        pass\n",
    "    \n",
    "    \n",
    "    def __init__(self,n,m):\n",
    "        self.n = n\n",
    "        self.m = m\n",
    "        self.M_ = numpy.matrix(numpy.zeros((self.n,self.m)))\n",
    "        self.value = self.M_\n",
    "        widgets.VBox.__init__(self,\n",
    "                             children = [\n",
    "                                 widgets.HBox(children = \n",
    "                                              [widgets.FloatText(value=0.0, layout=widgets.Layout(width='90px')) for i in range(m)]\n",
    "                                             ) \n",
    "                                 for j in range(n)\n",
    "                             ])\n",
    "        \n",
    "        #fill in widgets and tell interact to call updateM each time a children changes value\n",
    "        for irow in range(0,self.n):\n",
    "            for icol in range(0,self.m):\n",
    "                self.children[irow].children[icol].value = self.M_[irow,icol]\n",
    "                self.children[irow].children[icol].observe(self.updateM, names='value')\n",
    "        #value = Unicode('example@example.com', help=\"The email value.\").tag(sync=True)\n",
    "        self.observe(self.updateM, names='value', type= 'All')\n",
    "        \n",
    "    def setM(self, newM):\n",
    "        #disable callbacks, change values, and reenable\n",
    "        self.unobserve(self.updateM, names='value', type= 'All')\n",
    "        for irow in range(0,self.n):\n",
    "            for icol in range(0,self.m):\n",
    "                self.children[irow].children[icol].unobserve(self.updateM, names='value')\n",
    "        self.M_ = newM\n",
    "        self.value = self.M_\n",
    "        for irow in range(0,self.n):\n",
    "            for icol in range(0,self.m):\n",
    "                self.children[irow].children[icol].value = self.M_[irow,icol]\n",
    "        for irow in range(0,self.n):\n",
    "            for icol in range(0,self.m):\n",
    "                self.children[irow].children[icol].observe(self.updateM, names='value')\n",
    "        self.observe(self.updateM, names='value', type= 'All')        \n",
    "\n",
    "                #self.children[irow].children[icol].observe(self.updateM, names='value')\n",
    "\n",
    "             \n",
    "#overlaod class for state space systems that DO NOT remove \"useless\" states (what \"professor\" of automatic control would do this?)\n",
    "class sss(ctrl.StateSpace):\n",
    "    def __init__(self,*args):\n",
    "        #call base class init constructor\n",
    "        ctrl.StateSpace.__init__(self,*args)\n",
    "    #disable function below in base class\n",
    "    def _remove_useless_states(self):\n",
    "        pass"
   ]
  },
  {
   "cell_type": "code",
   "execution_count": 3,
   "metadata": {},
   "outputs": [],
   "source": [
    "# Define matrixes\n",
    "\n",
    "A = numpy.matrix('0 1 0 0; 0 0 1.5 0; 0 0 0 1; 0 0 0 0')\n",
    "B = numpy.matrix('0;0;0;0.001')\n",
    "C = numpy.matrix('1 0 0 0; 0 1 0 0')\n",
    "Aa = numpy.matrix('0 1 0 0 0; 0 0 1.5 0 0; 0 0 0 1 0; 0 0 0 0 0; 1 0 0 0 0')\n",
    "Ba = numpy.matrix('0 0;0 0;0 0;0.001 0;0 -1')\n",
    "Ca = numpy.matrix('1 0 0 0 0; 0 1 0 0 0; 0 0 0 0 1')\n",
    "Ka1 = numpy.matrix('[2225.0, 6244.0, 13861.0, 5275.0, 316.0') #318.9333 835 2012.5 2000 59.6\n",
    "Ta = (numpy.matrix('0 0 1 0 0; 0 0 0 1 0; 1 0 0 0 0;0 1 0 0 0; 0 0 0 0 1'))**(-1)\n",
    "Ar = Ta**(-1)*Aa*Ta\n",
    "Br = Ta**(-1)*Ba\n",
    "A11 = Ar[0:2,0:2]\n",
    "A12 = Ar[0:2,2:5]\n",
    "A21 = Ar[2:5,0:2]\n",
    "A22 = Ar[2:5,2:5]\n",
    "B1 = Br[0:2,:]\n",
    "B2 = Br[2:5,:]\n",
    "La1 = numpy.matrix([[0, -4*10/3, 0],[0, -3/8*(-4*10/3)**2, 0]])\n",
    "X0a = numpy.matrix('0;0;0;0;0;0;0;0;0;0;0.002;0.002;0;0;0;0;0;0.002;0.002;0;0;0;0;0')\n",
    "# X0a = numpy.matrix('0;0;0;0;0')\n",
    "# V0 = numpy.matrix('0;0')"
   ]
  },
  {
   "cell_type": "code",
   "execution_count": 4,
   "metadata": {},
   "outputs": [],
   "source": [
    "# Define matrixes widget\n",
    "Kaw = matrixWidget(1,5)\n",
    "Law = matrixWidget(2,3)\n",
    "eig1 = matrixWidget(1,1)\n",
    "eig2 = matrixWidget(2,1)\n",
    "eig3 = matrixWidget(2,1)\n",
    "eig4 = matrixWidget(1,1)\n",
    "eig5 = matrixWidget(1,1)\n",
    "eig1o = matrixWidget(1,1)\n",
    "eig2o = matrixWidget(2,1)\n",
    "\n",
    "Ydw = widgets.FloatSlider(\n",
    "                         value=10,\n",
    "                         min=0,\n",
    "                         max=10.0,\n",
    "                         step=0.1,\n",
    "                         description='$y_d$:',\n",
    "                         disabled=False,\n",
    "                         continuous_update=False,\n",
    "                         orientation='horizontal',\n",
    "                         readout=True,\n",
    "                         readout_format='.1f',\n",
    "                        )\n",
    "\n",
    "# Init matrix widgets\n",
    "Kaw.setM(Ka1) \n",
    "Law.setM(La1)\n",
    "#[-0.6,-0.5-0.35j,-0.5+0.35j,-0.2-0.6j,-0.2+0.6j]\n",
    "eig1.setM(numpy.matrix([-0.28]))\n",
    "eig2.setM(numpy.matrix([[-2.24],[-2.23]]))\n",
    "eig3.setM(numpy.matrix([[-0.26],[-0.32]])) \n",
    "eig4.setM(numpy.matrix([-1])) \n",
    "eig5.setM(numpy.matrix([-1])) \n",
    "eig1o.setM(numpy.matrix([-10])) \n",
    "eig2o.setM(numpy.matrix([[-10],[0]])) "
   ]
  },
  {
   "cell_type": "code",
   "execution_count": 5,
   "metadata": {},
   "outputs": [],
   "source": [
    "# Support functions\n",
    "# Simulation function\n",
    "def simulation(Aa, Baa, Ca, A11, A12, A21, A22, B1, B2, La, Ka, Ta):\n",
    "    Aa, Baa, Ca = sym.Matrix(Aa), sym.Matrix(Baa), sym.Matrix(Ca)\n",
    "    A11, A12, A21, A22 = sym.Matrix(A11), sym.Matrix(A12), sym.Matrix(A21), sym.Matrix(A22)\n",
    "    B1, B2 = sym.Matrix(B1), sym.Matrix(B2)\n",
    "    La, Ka = sym.Matrix(La), sym.Matrix(Ka)\n",
    "    Ta = sym.Matrix(Ta)\n",
    "    sysS = sss(Aa, Baa, Ca, sym.zeros(3,2))\n",
    "    sysX = sss(Aa, Baa, sym.eye(5), sym.zeros(5,2))\n",
    "    sysO1 = sss((A11+La*A21), (B1+La*B2).row_join(A12+La*A22-A11*La-La*A21*La), sym.eye(2), sym.zeros(2,5))\n",
    "    sysO2 = ctrl.append(sysO1, sysS)\n",
    "    sysO3 = ctrl.connect(sysO2, [[3, 3], [4, 4], [5, 5]], [1, 2, 6, 7], [1, 2, 3, 4, 5])\n",
    "    sysO = sss(sysO3.A,\n",
    "               sysO3.B*sym.eye(2).col_join(sym.eye(2)),\n",
    "               Ta*(sym.eye(2).row_join(-La)).col_join(sym.zeros(3, 2).row_join(sym.eye(3)))*sysO3.C,\n",
    "               sym.zeros(5,2))\n",
    "    sysU = sss(sysO.A, sysO.B, -Ka*sysO.C, sym.zeros(1,2))\n",
    "    sysT = ctrl.append(sysS, sysX, sysO, sysU)\n",
    "    sysT1 = ctrl.connect(sysT, [[1, 14], [3, 14], [5, 14], [7, 14]], [2, 4, 6, 8], [i for i in range(1, 15)])\n",
    "    sys = sss(sysT1.A, sysT1.B*sym.Matrix([1, 1, 1, 1]), sysT1.C, sym.zeros(14, 1))\n",
    "    return sys\n",
    "\n",
    "# check functions\n",
    "def eigen_choice(selc,selo):\n",
    "    if selc == '0 complex eigenvalues':\n",
    "        eig2.children[1].children[0].disabled = True\n",
    "        eig3.children[1].children[0].disabled = True\n",
    "        eig3.children[0].children[0].disabled = False\n",
    "        eig4.children[0].children[0].disabled = False\n",
    "        eig5.children[0].children[0].disabled = False\n",
    "        eigc = 0\n",
    "    if selc == '2 complex eigenvalues':\n",
    "        eig2.children[1].children[0].disabled = False\n",
    "        eig3.children[1].children[0].disabled = True\n",
    "        eig3.children[0].children[0].disabled = True\n",
    "        eig4.children[0].children[0].disabled = False\n",
    "        eig5.children[0].children[0].disabled = False\n",
    "        eigc = 2\n",
    "    if selc == '4 complex eigenvalues':\n",
    "        eig2.children[1].children[0].disabled = False\n",
    "        eig3.children[1].children[0].disabled = False\n",
    "        eig3.children[0].children[0].disabled = False\n",
    "        eig4.children[0].children[0].disabled = True\n",
    "        eig5.children[0].children[0].disabled = True\n",
    "        eigc = 4\n",
    "    if selo == '0 complex eigenvalues':\n",
    "        eig1o.children[0].children[0].disabled = False\n",
    "        eig2o.children[1].children[0].disabled = True\n",
    "        eigo = 0\n",
    "    if selo == '2 complex eigenvalues':\n",
    "        eig1o.children[0].children[0].disabled = True\n",
    "        eig2o.children[1].children[0].disabled = False\n",
    "        eigo = 2\n",
    "    return (eigc, eigo)\n",
    "\n",
    "def method_choice(selm):\n",
    "    if selm == 'Set Ka and La':\n",
    "        method = 1\n",
    "        selc.disabled = True\n",
    "        selo.disabled = True\n",
    "    if selm == 'Set the eigenvalues':\n",
    "        method = 2\n",
    "        selc.disabled = False\n",
    "        selo.disabled = False\n",
    "    return method\n",
    "\n",
    "# Animation functions\n",
    "def fun_animation(index):\n",
    "    global Ydw, yout, T\n",
    "    yd = Ydw.value\n",
    "    frame = 1\n",
    "    \n",
    "    linez.set_data(T[0:index*frame],yd*yout[0][0:index*frame])\n",
    "    linezv.set_data(T[0:index*frame],yd*yout[1][0:index*frame])\n",
    "    lined.set_data(T,[yd for i in range(0,len(T))])\n",
    "    lineu.set_data(T[0:index*frame],yd*yout[13][0:index*frame])\n",
    "    linelimu1.set_data(T,[500 for j in range(0,len(T))])\n",
    "    linelimu2.set_data(T,[-500 for j in range(0,len(T))])\n",
    "    linethetaest.set_data(T[0:index*frame],yd*yout[10][0:index*frame]*180/numpy.pi)\n",
    "    linetheta.set_data(T[0:index*frame],yd*yout[5][0:index*frame]*180/numpy.pi)\n",
    "    \n",
    "    \n",
    "    rotation_transform.clear().translate(yd*yout[0][index*frame]*numpy.cos(float(yd*yout[6][index*frame])), yd*yout[0][index*frame]*numpy.sin(float(yd*yout[6][index*frame]))).rotate(float(-yd*yout[6][index*frame]))\n",
    "    \n",
    "    return (linez,linezv,lined,lineu,linelimu1,linelimu2,linethetaest,linetheta)\n",
    "\n",
    "def anim_init():\n",
    "    linez.set_data([], [])\n",
    "    linezv.set_data([], [])\n",
    "    lined.set_data([], [])\n",
    "    lineu.set_data([], [])\n",
    "    linelimu1.set_data([], [])\n",
    "    linelimu2.set_data([], [])\n",
    "    linethetaest.set_data([], [])\n",
    "    linetheta.set_data([], [])\n",
    "    return (linez,linezv,lined,lineu,linelimu1,linelimu2,linethetaest,linetheta)\n"
   ]
  },
  {
   "cell_type": "code",
   "execution_count": 6,
   "metadata": {
    "scrolled": false
   },
   "outputs": [
    {
     "data": {
      "application/javascript": [
       "/* Put everything inside the global mpl namespace */\n",
       "window.mpl = {};\n",
       "\n",
       "\n",
       "mpl.get_websocket_type = function() {\n",
       "    if (typeof(WebSocket) !== 'undefined') {\n",
       "        return WebSocket;\n",
       "    } else if (typeof(MozWebSocket) !== 'undefined') {\n",
       "        return MozWebSocket;\n",
       "    } else {\n",
       "        alert('Your browser does not have WebSocket support. ' +\n",
       "              'Please try Chrome, Safari or Firefox ≥ 6. ' +\n",
       "              'Firefox 4 and 5 are also supported but you ' +\n",
       "              'have to enable WebSockets in about:config.');\n",
       "    };\n",
       "}\n",
       "\n",
       "mpl.figure = function(figure_id, websocket, ondownload, parent_element) {\n",
       "    this.id = figure_id;\n",
       "\n",
       "    this.ws = websocket;\n",
       "\n",
       "    this.supports_binary = (this.ws.binaryType != undefined);\n",
       "\n",
       "    if (!this.supports_binary) {\n",
       "        var warnings = document.getElementById(\"mpl-warnings\");\n",
       "        if (warnings) {\n",
       "            warnings.style.display = 'block';\n",
       "            warnings.textContent = (\n",
       "                \"This browser does not support binary websocket messages. \" +\n",
       "                    \"Performance may be slow.\");\n",
       "        }\n",
       "    }\n",
       "\n",
       "    this.imageObj = new Image();\n",
       "\n",
       "    this.context = undefined;\n",
       "    this.message = undefined;\n",
       "    this.canvas = undefined;\n",
       "    this.rubberband_canvas = undefined;\n",
       "    this.rubberband_context = undefined;\n",
       "    this.format_dropdown = undefined;\n",
       "\n",
       "    this.image_mode = 'full';\n",
       "\n",
       "    this.root = $('<div/>');\n",
       "    this._root_extra_style(this.root)\n",
       "    this.root.attr('style', 'display: inline-block');\n",
       "\n",
       "    $(parent_element).append(this.root);\n",
       "\n",
       "    this._init_header(this);\n",
       "    this._init_canvas(this);\n",
       "    this._init_toolbar(this);\n",
       "\n",
       "    var fig = this;\n",
       "\n",
       "    this.waiting = false;\n",
       "\n",
       "    this.ws.onopen =  function () {\n",
       "            fig.send_message(\"supports_binary\", {value: fig.supports_binary});\n",
       "            fig.send_message(\"send_image_mode\", {});\n",
       "            if (mpl.ratio != 1) {\n",
       "                fig.send_message(\"set_dpi_ratio\", {'dpi_ratio': mpl.ratio});\n",
       "            }\n",
       "            fig.send_message(\"refresh\", {});\n",
       "        }\n",
       "\n",
       "    this.imageObj.onload = function() {\n",
       "            if (fig.image_mode == 'full') {\n",
       "                // Full images could contain transparency (where diff images\n",
       "                // almost always do), so we need to clear the canvas so that\n",
       "                // there is no ghosting.\n",
       "                fig.context.clearRect(0, 0, fig.canvas.width, fig.canvas.height);\n",
       "            }\n",
       "            fig.context.drawImage(fig.imageObj, 0, 0);\n",
       "        };\n",
       "\n",
       "    this.imageObj.onunload = function() {\n",
       "        fig.ws.close();\n",
       "    }\n",
       "\n",
       "    this.ws.onmessage = this._make_on_message_function(this);\n",
       "\n",
       "    this.ondownload = ondownload;\n",
       "}\n",
       "\n",
       "mpl.figure.prototype._init_header = function() {\n",
       "    var titlebar = $(\n",
       "        '<div class=\"ui-dialog-titlebar ui-widget-header ui-corner-all ' +\n",
       "        'ui-helper-clearfix\"/>');\n",
       "    var titletext = $(\n",
       "        '<div class=\"ui-dialog-title\" style=\"width: 100%; ' +\n",
       "        'text-align: center; padding: 3px;\"/>');\n",
       "    titlebar.append(titletext)\n",
       "    this.root.append(titlebar);\n",
       "    this.header = titletext[0];\n",
       "}\n",
       "\n",
       "\n",
       "\n",
       "mpl.figure.prototype._canvas_extra_style = function(canvas_div) {\n",
       "\n",
       "}\n",
       "\n",
       "\n",
       "mpl.figure.prototype._root_extra_style = function(canvas_div) {\n",
       "\n",
       "}\n",
       "\n",
       "mpl.figure.prototype._init_canvas = function() {\n",
       "    var fig = this;\n",
       "\n",
       "    var canvas_div = $('<div/>');\n",
       "\n",
       "    canvas_div.attr('style', 'position: relative; clear: both; outline: 0');\n",
       "\n",
       "    function canvas_keyboard_event(event) {\n",
       "        return fig.key_event(event, event['data']);\n",
       "    }\n",
       "\n",
       "    canvas_div.keydown('key_press', canvas_keyboard_event);\n",
       "    canvas_div.keyup('key_release', canvas_keyboard_event);\n",
       "    this.canvas_div = canvas_div\n",
       "    this._canvas_extra_style(canvas_div)\n",
       "    this.root.append(canvas_div);\n",
       "\n",
       "    var canvas = $('<canvas/>');\n",
       "    canvas.addClass('mpl-canvas');\n",
       "    canvas.attr('style', \"left: 0; top: 0; z-index: 0; outline: 0\")\n",
       "\n",
       "    this.canvas = canvas[0];\n",
       "    this.context = canvas[0].getContext(\"2d\");\n",
       "\n",
       "    var backingStore = this.context.backingStorePixelRatio ||\n",
       "\tthis.context.webkitBackingStorePixelRatio ||\n",
       "\tthis.context.mozBackingStorePixelRatio ||\n",
       "\tthis.context.msBackingStorePixelRatio ||\n",
       "\tthis.context.oBackingStorePixelRatio ||\n",
       "\tthis.context.backingStorePixelRatio || 1;\n",
       "\n",
       "    mpl.ratio = (window.devicePixelRatio || 1) / backingStore;\n",
       "\n",
       "    var rubberband = $('<canvas/>');\n",
       "    rubberband.attr('style', \"position: absolute; left: 0; top: 0; z-index: 1;\")\n",
       "\n",
       "    var pass_mouse_events = true;\n",
       "\n",
       "    canvas_div.resizable({\n",
       "        start: function(event, ui) {\n",
       "            pass_mouse_events = false;\n",
       "        },\n",
       "        resize: function(event, ui) {\n",
       "            fig.request_resize(ui.size.width, ui.size.height);\n",
       "        },\n",
       "        stop: function(event, ui) {\n",
       "            pass_mouse_events = true;\n",
       "            fig.request_resize(ui.size.width, ui.size.height);\n",
       "        },\n",
       "    });\n",
       "\n",
       "    function mouse_event_fn(event) {\n",
       "        if (pass_mouse_events)\n",
       "            return fig.mouse_event(event, event['data']);\n",
       "    }\n",
       "\n",
       "    rubberband.mousedown('button_press', mouse_event_fn);\n",
       "    rubberband.mouseup('button_release', mouse_event_fn);\n",
       "    // Throttle sequential mouse events to 1 every 20ms.\n",
       "    rubberband.mousemove('motion_notify', mouse_event_fn);\n",
       "\n",
       "    rubberband.mouseenter('figure_enter', mouse_event_fn);\n",
       "    rubberband.mouseleave('figure_leave', mouse_event_fn);\n",
       "\n",
       "    canvas_div.on(\"wheel\", function (event) {\n",
       "        event = event.originalEvent;\n",
       "        event['data'] = 'scroll'\n",
       "        if (event.deltaY < 0) {\n",
       "            event.step = 1;\n",
       "        } else {\n",
       "            event.step = -1;\n",
       "        }\n",
       "        mouse_event_fn(event);\n",
       "    });\n",
       "\n",
       "    canvas_div.append(canvas);\n",
       "    canvas_div.append(rubberband);\n",
       "\n",
       "    this.rubberband = rubberband;\n",
       "    this.rubberband_canvas = rubberband[0];\n",
       "    this.rubberband_context = rubberband[0].getContext(\"2d\");\n",
       "    this.rubberband_context.strokeStyle = \"#000000\";\n",
       "\n",
       "    this._resize_canvas = function(width, height) {\n",
       "        // Keep the size of the canvas, canvas container, and rubber band\n",
       "        // canvas in synch.\n",
       "        canvas_div.css('width', width)\n",
       "        canvas_div.css('height', height)\n",
       "\n",
       "        canvas.attr('width', width * mpl.ratio);\n",
       "        canvas.attr('height', height * mpl.ratio);\n",
       "        canvas.attr('style', 'width: ' + width + 'px; height: ' + height + 'px;');\n",
       "\n",
       "        rubberband.attr('width', width);\n",
       "        rubberband.attr('height', height);\n",
       "    }\n",
       "\n",
       "    // Set the figure to an initial 600x600px, this will subsequently be updated\n",
       "    // upon first draw.\n",
       "    this._resize_canvas(600, 600);\n",
       "\n",
       "    // Disable right mouse context menu.\n",
       "    $(this.rubberband_canvas).bind(\"contextmenu\",function(e){\n",
       "        return false;\n",
       "    });\n",
       "\n",
       "    function set_focus () {\n",
       "        canvas.focus();\n",
       "        canvas_div.focus();\n",
       "    }\n",
       "\n",
       "    window.setTimeout(set_focus, 100);\n",
       "}\n",
       "\n",
       "mpl.figure.prototype._init_toolbar = function() {\n",
       "    var fig = this;\n",
       "\n",
       "    var nav_element = $('<div/>');\n",
       "    nav_element.attr('style', 'width: 100%');\n",
       "    this.root.append(nav_element);\n",
       "\n",
       "    // Define a callback function for later on.\n",
       "    function toolbar_event(event) {\n",
       "        return fig.toolbar_button_onclick(event['data']);\n",
       "    }\n",
       "    function toolbar_mouse_event(event) {\n",
       "        return fig.toolbar_button_onmouseover(event['data']);\n",
       "    }\n",
       "\n",
       "    for(var toolbar_ind in mpl.toolbar_items) {\n",
       "        var name = mpl.toolbar_items[toolbar_ind][0];\n",
       "        var tooltip = mpl.toolbar_items[toolbar_ind][1];\n",
       "        var image = mpl.toolbar_items[toolbar_ind][2];\n",
       "        var method_name = mpl.toolbar_items[toolbar_ind][3];\n",
       "\n",
       "        if (!name) {\n",
       "            // put a spacer in here.\n",
       "            continue;\n",
       "        }\n",
       "        var button = $('<button/>');\n",
       "        button.addClass('ui-button ui-widget ui-state-default ui-corner-all ' +\n",
       "                        'ui-button-icon-only');\n",
       "        button.attr('role', 'button');\n",
       "        button.attr('aria-disabled', 'false');\n",
       "        button.click(method_name, toolbar_event);\n",
       "        button.mouseover(tooltip, toolbar_mouse_event);\n",
       "\n",
       "        var icon_img = $('<span/>');\n",
       "        icon_img.addClass('ui-button-icon-primary ui-icon');\n",
       "        icon_img.addClass(image);\n",
       "        icon_img.addClass('ui-corner-all');\n",
       "\n",
       "        var tooltip_span = $('<span/>');\n",
       "        tooltip_span.addClass('ui-button-text');\n",
       "        tooltip_span.html(tooltip);\n",
       "\n",
       "        button.append(icon_img);\n",
       "        button.append(tooltip_span);\n",
       "\n",
       "        nav_element.append(button);\n",
       "    }\n",
       "\n",
       "    var fmt_picker_span = $('<span/>');\n",
       "\n",
       "    var fmt_picker = $('<select/>');\n",
       "    fmt_picker.addClass('mpl-toolbar-option ui-widget ui-widget-content');\n",
       "    fmt_picker_span.append(fmt_picker);\n",
       "    nav_element.append(fmt_picker_span);\n",
       "    this.format_dropdown = fmt_picker[0];\n",
       "\n",
       "    for (var ind in mpl.extensions) {\n",
       "        var fmt = mpl.extensions[ind];\n",
       "        var option = $(\n",
       "            '<option/>', {selected: fmt === mpl.default_extension}).html(fmt);\n",
       "        fmt_picker.append(option);\n",
       "    }\n",
       "\n",
       "    // Add hover states to the ui-buttons\n",
       "    $( \".ui-button\" ).hover(\n",
       "        function() { $(this).addClass(\"ui-state-hover\");},\n",
       "        function() { $(this).removeClass(\"ui-state-hover\");}\n",
       "    );\n",
       "\n",
       "    var status_bar = $('<span class=\"mpl-message\"/>');\n",
       "    nav_element.append(status_bar);\n",
       "    this.message = status_bar[0];\n",
       "}\n",
       "\n",
       "mpl.figure.prototype.request_resize = function(x_pixels, y_pixels) {\n",
       "    // Request matplotlib to resize the figure. Matplotlib will then trigger a resize in the client,\n",
       "    // which will in turn request a refresh of the image.\n",
       "    this.send_message('resize', {'width': x_pixels, 'height': y_pixels});\n",
       "}\n",
       "\n",
       "mpl.figure.prototype.send_message = function(type, properties) {\n",
       "    properties['type'] = type;\n",
       "    properties['figure_id'] = this.id;\n",
       "    this.ws.send(JSON.stringify(properties));\n",
       "}\n",
       "\n",
       "mpl.figure.prototype.send_draw_message = function() {\n",
       "    if (!this.waiting) {\n",
       "        this.waiting = true;\n",
       "        this.ws.send(JSON.stringify({type: \"draw\", figure_id: this.id}));\n",
       "    }\n",
       "}\n",
       "\n",
       "\n",
       "mpl.figure.prototype.handle_save = function(fig, msg) {\n",
       "    var format_dropdown = fig.format_dropdown;\n",
       "    var format = format_dropdown.options[format_dropdown.selectedIndex].value;\n",
       "    fig.ondownload(fig, format);\n",
       "}\n",
       "\n",
       "\n",
       "mpl.figure.prototype.handle_resize = function(fig, msg) {\n",
       "    var size = msg['size'];\n",
       "    if (size[0] != fig.canvas.width || size[1] != fig.canvas.height) {\n",
       "        fig._resize_canvas(size[0], size[1]);\n",
       "        fig.send_message(\"refresh\", {});\n",
       "    };\n",
       "}\n",
       "\n",
       "mpl.figure.prototype.handle_rubberband = function(fig, msg) {\n",
       "    var x0 = msg['x0'] / mpl.ratio;\n",
       "    var y0 = (fig.canvas.height - msg['y0']) / mpl.ratio;\n",
       "    var x1 = msg['x1'] / mpl.ratio;\n",
       "    var y1 = (fig.canvas.height - msg['y1']) / mpl.ratio;\n",
       "    x0 = Math.floor(x0) + 0.5;\n",
       "    y0 = Math.floor(y0) + 0.5;\n",
       "    x1 = Math.floor(x1) + 0.5;\n",
       "    y1 = Math.floor(y1) + 0.5;\n",
       "    var min_x = Math.min(x0, x1);\n",
       "    var min_y = Math.min(y0, y1);\n",
       "    var width = Math.abs(x1 - x0);\n",
       "    var height = Math.abs(y1 - y0);\n",
       "\n",
       "    fig.rubberband_context.clearRect(\n",
       "        0, 0, fig.canvas.width / mpl.ratio, fig.canvas.height / mpl.ratio);\n",
       "\n",
       "    fig.rubberband_context.strokeRect(min_x, min_y, width, height);\n",
       "}\n",
       "\n",
       "mpl.figure.prototype.handle_figure_label = function(fig, msg) {\n",
       "    // Updates the figure title.\n",
       "    fig.header.textContent = msg['label'];\n",
       "}\n",
       "\n",
       "mpl.figure.prototype.handle_cursor = function(fig, msg) {\n",
       "    var cursor = msg['cursor'];\n",
       "    switch(cursor)\n",
       "    {\n",
       "    case 0:\n",
       "        cursor = 'pointer';\n",
       "        break;\n",
       "    case 1:\n",
       "        cursor = 'default';\n",
       "        break;\n",
       "    case 2:\n",
       "        cursor = 'crosshair';\n",
       "        break;\n",
       "    case 3:\n",
       "        cursor = 'move';\n",
       "        break;\n",
       "    }\n",
       "    fig.rubberband_canvas.style.cursor = cursor;\n",
       "}\n",
       "\n",
       "mpl.figure.prototype.handle_message = function(fig, msg) {\n",
       "    fig.message.textContent = msg['message'];\n",
       "}\n",
       "\n",
       "mpl.figure.prototype.handle_draw = function(fig, msg) {\n",
       "    // Request the server to send over a new figure.\n",
       "    fig.send_draw_message();\n",
       "}\n",
       "\n",
       "mpl.figure.prototype.handle_image_mode = function(fig, msg) {\n",
       "    fig.image_mode = msg['mode'];\n",
       "}\n",
       "\n",
       "mpl.figure.prototype.updated_canvas_event = function() {\n",
       "    // Called whenever the canvas gets updated.\n",
       "    this.send_message(\"ack\", {});\n",
       "}\n",
       "\n",
       "// A function to construct a web socket function for onmessage handling.\n",
       "// Called in the figure constructor.\n",
       "mpl.figure.prototype._make_on_message_function = function(fig) {\n",
       "    return function socket_on_message(evt) {\n",
       "        if (evt.data instanceof Blob) {\n",
       "            /* FIXME: We get \"Resource interpreted as Image but\n",
       "             * transferred with MIME type text/plain:\" errors on\n",
       "             * Chrome.  But how to set the MIME type?  It doesn't seem\n",
       "             * to be part of the websocket stream */\n",
       "            evt.data.type = \"image/png\";\n",
       "\n",
       "            /* Free the memory for the previous frames */\n",
       "            if (fig.imageObj.src) {\n",
       "                (window.URL || window.webkitURL).revokeObjectURL(\n",
       "                    fig.imageObj.src);\n",
       "            }\n",
       "\n",
       "            fig.imageObj.src = (window.URL || window.webkitURL).createObjectURL(\n",
       "                evt.data);\n",
       "            fig.updated_canvas_event();\n",
       "            fig.waiting = false;\n",
       "            return;\n",
       "        }\n",
       "        else if (typeof evt.data === 'string' && evt.data.slice(0, 21) == \"data:image/png;base64\") {\n",
       "            fig.imageObj.src = evt.data;\n",
       "            fig.updated_canvas_event();\n",
       "            fig.waiting = false;\n",
       "            return;\n",
       "        }\n",
       "\n",
       "        var msg = JSON.parse(evt.data);\n",
       "        var msg_type = msg['type'];\n",
       "\n",
       "        // Call the  \"handle_{type}\" callback, which takes\n",
       "        // the figure and JSON message as its only arguments.\n",
       "        try {\n",
       "            var callback = fig[\"handle_\" + msg_type];\n",
       "        } catch (e) {\n",
       "            console.log(\"No handler for the '\" + msg_type + \"' message type: \", msg);\n",
       "            return;\n",
       "        }\n",
       "\n",
       "        if (callback) {\n",
       "            try {\n",
       "                // console.log(\"Handling '\" + msg_type + \"' message: \", msg);\n",
       "                callback(fig, msg);\n",
       "            } catch (e) {\n",
       "                console.log(\"Exception inside the 'handler_\" + msg_type + \"' callback:\", e, e.stack, msg);\n",
       "            }\n",
       "        }\n",
       "    };\n",
       "}\n",
       "\n",
       "// from http://stackoverflow.com/questions/1114465/getting-mouse-location-in-canvas\n",
       "mpl.findpos = function(e) {\n",
       "    //this section is from http://www.quirksmode.org/js/events_properties.html\n",
       "    var targ;\n",
       "    if (!e)\n",
       "        e = window.event;\n",
       "    if (e.target)\n",
       "        targ = e.target;\n",
       "    else if (e.srcElement)\n",
       "        targ = e.srcElement;\n",
       "    if (targ.nodeType == 3) // defeat Safari bug\n",
       "        targ = targ.parentNode;\n",
       "\n",
       "    // jQuery normalizes the pageX and pageY\n",
       "    // pageX,Y are the mouse positions relative to the document\n",
       "    // offset() returns the position of the element relative to the document\n",
       "    var x = e.pageX - $(targ).offset().left;\n",
       "    var y = e.pageY - $(targ).offset().top;\n",
       "\n",
       "    return {\"x\": x, \"y\": y};\n",
       "};\n",
       "\n",
       "/*\n",
       " * return a copy of an object with only non-object keys\n",
       " * we need this to avoid circular references\n",
       " * http://stackoverflow.com/a/24161582/3208463\n",
       " */\n",
       "function simpleKeys (original) {\n",
       "  return Object.keys(original).reduce(function (obj, key) {\n",
       "    if (typeof original[key] !== 'object')\n",
       "        obj[key] = original[key]\n",
       "    return obj;\n",
       "  }, {});\n",
       "}\n",
       "\n",
       "mpl.figure.prototype.mouse_event = function(event, name) {\n",
       "    var canvas_pos = mpl.findpos(event)\n",
       "\n",
       "    if (name === 'button_press')\n",
       "    {\n",
       "        this.canvas.focus();\n",
       "        this.canvas_div.focus();\n",
       "    }\n",
       "\n",
       "    var x = canvas_pos.x * mpl.ratio;\n",
       "    var y = canvas_pos.y * mpl.ratio;\n",
       "\n",
       "    this.send_message(name, {x: x, y: y, button: event.button,\n",
       "                             step: event.step,\n",
       "                             guiEvent: simpleKeys(event)});\n",
       "\n",
       "    /* This prevents the web browser from automatically changing to\n",
       "     * the text insertion cursor when the button is pressed.  We want\n",
       "     * to control all of the cursor setting manually through the\n",
       "     * 'cursor' event from matplotlib */\n",
       "    event.preventDefault();\n",
       "    return false;\n",
       "}\n",
       "\n",
       "mpl.figure.prototype._key_event_extra = function(event, name) {\n",
       "    // Handle any extra behaviour associated with a key event\n",
       "}\n",
       "\n",
       "mpl.figure.prototype.key_event = function(event, name) {\n",
       "\n",
       "    // Prevent repeat events\n",
       "    if (name == 'key_press')\n",
       "    {\n",
       "        if (event.which === this._key)\n",
       "            return;\n",
       "        else\n",
       "            this._key = event.which;\n",
       "    }\n",
       "    if (name == 'key_release')\n",
       "        this._key = null;\n",
       "\n",
       "    var value = '';\n",
       "    if (event.ctrlKey && event.which != 17)\n",
       "        value += \"ctrl+\";\n",
       "    if (event.altKey && event.which != 18)\n",
       "        value += \"alt+\";\n",
       "    if (event.shiftKey && event.which != 16)\n",
       "        value += \"shift+\";\n",
       "\n",
       "    value += 'k';\n",
       "    value += event.which.toString();\n",
       "\n",
       "    this._key_event_extra(event, name);\n",
       "\n",
       "    this.send_message(name, {key: value,\n",
       "                             guiEvent: simpleKeys(event)});\n",
       "    return false;\n",
       "}\n",
       "\n",
       "mpl.figure.prototype.toolbar_button_onclick = function(name) {\n",
       "    if (name == 'download') {\n",
       "        this.handle_save(this, null);\n",
       "    } else {\n",
       "        this.send_message(\"toolbar_button\", {name: name});\n",
       "    }\n",
       "};\n",
       "\n",
       "mpl.figure.prototype.toolbar_button_onmouseover = function(tooltip) {\n",
       "    this.message.textContent = tooltip;\n",
       "};\n",
       "mpl.toolbar_items = [[\"Home\", \"Reset original view\", \"fa fa-home icon-home\", \"home\"], [\"Back\", \"Back to previous view\", \"fa fa-arrow-left icon-arrow-left\", \"back\"], [\"Forward\", \"Forward to next view\", \"fa fa-arrow-right icon-arrow-right\", \"forward\"], [\"\", \"\", \"\", \"\"], [\"Pan\", \"Pan axes with left mouse, zoom with right\", \"fa fa-arrows icon-move\", \"pan\"], [\"Zoom\", \"Zoom to rectangle\", \"fa fa-square-o icon-check-empty\", \"zoom\"], [\"\", \"\", \"\", \"\"], [\"Download\", \"Download plot\", \"fa fa-floppy-o icon-save\", \"download\"]];\n",
       "\n",
       "mpl.extensions = [\"eps\", \"pdf\", \"png\", \"ps\", \"raw\", \"svg\"];\n",
       "\n",
       "mpl.default_extension = \"png\";var comm_websocket_adapter = function(comm) {\n",
       "    // Create a \"websocket\"-like object which calls the given IPython comm\n",
       "    // object with the appropriate methods. Currently this is a non binary\n",
       "    // socket, so there is still some room for performance tuning.\n",
       "    var ws = {};\n",
       "\n",
       "    ws.close = function() {\n",
       "        comm.close()\n",
       "    };\n",
       "    ws.send = function(m) {\n",
       "        //console.log('sending', m);\n",
       "        comm.send(m);\n",
       "    };\n",
       "    // Register the callback with on_msg.\n",
       "    comm.on_msg(function(msg) {\n",
       "        //console.log('receiving', msg['content']['data'], msg);\n",
       "        // Pass the mpl event to the overridden (by mpl) onmessage function.\n",
       "        ws.onmessage(msg['content']['data'])\n",
       "    });\n",
       "    return ws;\n",
       "}\n",
       "\n",
       "mpl.mpl_figure_comm = function(comm, msg) {\n",
       "    // This is the function which gets called when the mpl process\n",
       "    // starts-up an IPython Comm through the \"matplotlib\" channel.\n",
       "\n",
       "    var id = msg.content.data.id;\n",
       "    // Get hold of the div created by the display call when the Comm\n",
       "    // socket was opened in Python.\n",
       "    var element = $(\"#\" + id);\n",
       "    var ws_proxy = comm_websocket_adapter(comm)\n",
       "\n",
       "    function ondownload(figure, format) {\n",
       "        window.open(figure.imageObj.src);\n",
       "    }\n",
       "\n",
       "    var fig = new mpl.figure(id, ws_proxy,\n",
       "                           ondownload,\n",
       "                           element.get(0));\n",
       "\n",
       "    // Call onopen now - mpl needs it, as it is assuming we've passed it a real\n",
       "    // web socket which is closed, not our websocket->open comm proxy.\n",
       "    ws_proxy.onopen();\n",
       "\n",
       "    fig.parent_element = element.get(0);\n",
       "    fig.cell_info = mpl.find_output_cell(\"<div id='\" + id + \"'></div>\");\n",
       "    if (!fig.cell_info) {\n",
       "        console.error(\"Failed to find cell for figure\", id, fig);\n",
       "        return;\n",
       "    }\n",
       "\n",
       "    var output_index = fig.cell_info[2]\n",
       "    var cell = fig.cell_info[0];\n",
       "\n",
       "};\n",
       "\n",
       "mpl.figure.prototype.handle_close = function(fig, msg) {\n",
       "    var width = fig.canvas.width/mpl.ratio\n",
       "    fig.root.unbind('remove')\n",
       "\n",
       "    // Update the output cell to use the data from the current canvas.\n",
       "    fig.push_to_output();\n",
       "    var dataURL = fig.canvas.toDataURL();\n",
       "    // Re-enable the keyboard manager in IPython - without this line, in FF,\n",
       "    // the notebook keyboard shortcuts fail.\n",
       "    IPython.keyboard_manager.enable()\n",
       "    $(fig.parent_element).html('<img src=\"' + dataURL + '\" width=\"' + width + '\">');\n",
       "    fig.close_ws(fig, msg);\n",
       "}\n",
       "\n",
       "mpl.figure.prototype.close_ws = function(fig, msg){\n",
       "    fig.send_message('closing', msg);\n",
       "    // fig.ws.close()\n",
       "}\n",
       "\n",
       "mpl.figure.prototype.push_to_output = function(remove_interactive) {\n",
       "    // Turn the data on the canvas into data in the output cell.\n",
       "    var width = this.canvas.width/mpl.ratio\n",
       "    var dataURL = this.canvas.toDataURL();\n",
       "    this.cell_info[1]['text/html'] = '<img src=\"' + dataURL + '\" width=\"' + width + '\">';\n",
       "}\n",
       "\n",
       "mpl.figure.prototype.updated_canvas_event = function() {\n",
       "    // Tell IPython that the notebook contents must change.\n",
       "    IPython.notebook.set_dirty(true);\n",
       "    this.send_message(\"ack\", {});\n",
       "    var fig = this;\n",
       "    // Wait a second, then push the new image to the DOM so\n",
       "    // that it is saved nicely (might be nice to debounce this).\n",
       "    setTimeout(function () { fig.push_to_output() }, 1000);\n",
       "}\n",
       "\n",
       "mpl.figure.prototype._init_toolbar = function() {\n",
       "    var fig = this;\n",
       "\n",
       "    var nav_element = $('<div/>');\n",
       "    nav_element.attr('style', 'width: 100%');\n",
       "    this.root.append(nav_element);\n",
       "\n",
       "    // Define a callback function for later on.\n",
       "    function toolbar_event(event) {\n",
       "        return fig.toolbar_button_onclick(event['data']);\n",
       "    }\n",
       "    function toolbar_mouse_event(event) {\n",
       "        return fig.toolbar_button_onmouseover(event['data']);\n",
       "    }\n",
       "\n",
       "    for(var toolbar_ind in mpl.toolbar_items){\n",
       "        var name = mpl.toolbar_items[toolbar_ind][0];\n",
       "        var tooltip = mpl.toolbar_items[toolbar_ind][1];\n",
       "        var image = mpl.toolbar_items[toolbar_ind][2];\n",
       "        var method_name = mpl.toolbar_items[toolbar_ind][3];\n",
       "\n",
       "        if (!name) { continue; };\n",
       "\n",
       "        var button = $('<button class=\"btn btn-default\" href=\"#\" title=\"' + name + '\"><i class=\"fa ' + image + ' fa-lg\"></i></button>');\n",
       "        button.click(method_name, toolbar_event);\n",
       "        button.mouseover(tooltip, toolbar_mouse_event);\n",
       "        nav_element.append(button);\n",
       "    }\n",
       "\n",
       "    // Add the status bar.\n",
       "    var status_bar = $('<span class=\"mpl-message\" style=\"text-align:right; float: right;\"/>');\n",
       "    nav_element.append(status_bar);\n",
       "    this.message = status_bar[0];\n",
       "\n",
       "    // Add the close button to the window.\n",
       "    var buttongrp = $('<div class=\"btn-group inline pull-right\"></div>');\n",
       "    var button = $('<button class=\"btn btn-mini btn-primary\" href=\"#\" title=\"Stop Interaction\"><i class=\"fa fa-power-off icon-remove icon-large\"></i></button>');\n",
       "    button.click(function (evt) { fig.handle_close(fig, {}); } );\n",
       "    button.mouseover('Stop Interaction', toolbar_mouse_event);\n",
       "    buttongrp.append(button);\n",
       "    var titlebar = this.root.find($('.ui-dialog-titlebar'));\n",
       "    titlebar.prepend(buttongrp);\n",
       "}\n",
       "\n",
       "mpl.figure.prototype._root_extra_style = function(el){\n",
       "    var fig = this\n",
       "    el.on(\"remove\", function(){\n",
       "\tfig.close_ws(fig, {});\n",
       "    });\n",
       "}\n",
       "\n",
       "mpl.figure.prototype._canvas_extra_style = function(el){\n",
       "    // this is important to make the div 'focusable\n",
       "    el.attr('tabindex', 0)\n",
       "    // reach out to IPython and tell the keyboard manager to turn it's self\n",
       "    // off when our div gets focus\n",
       "\n",
       "    // location in version 3\n",
       "    if (IPython.notebook.keyboard_manager) {\n",
       "        IPython.notebook.keyboard_manager.register_events(el);\n",
       "    }\n",
       "    else {\n",
       "        // location in version 2\n",
       "        IPython.keyboard_manager.register_events(el);\n",
       "    }\n",
       "\n",
       "}\n",
       "\n",
       "mpl.figure.prototype._key_event_extra = function(event, name) {\n",
       "    var manager = IPython.notebook.keyboard_manager;\n",
       "    if (!manager)\n",
       "        manager = IPython.keyboard_manager;\n",
       "\n",
       "    // Check for shift+enter\n",
       "    if (event.shiftKey && event.which == 13) {\n",
       "        this.canvas_div.blur();\n",
       "        event.shiftKey = false;\n",
       "        // Send a \"J\" for go to next cell\n",
       "        event.which = 74;\n",
       "        event.keyCode = 74;\n",
       "        manager.command_mode();\n",
       "        manager.handle_keydown(event);\n",
       "    }\n",
       "}\n",
       "\n",
       "mpl.figure.prototype.handle_save = function(fig, msg) {\n",
       "    fig.ondownload(fig, null);\n",
       "}\n",
       "\n",
       "\n",
       "mpl.find_output_cell = function(html_output) {\n",
       "    // Return the cell and output element which can be found *uniquely* in the notebook.\n",
       "    // Note - this is a bit hacky, but it is done because the \"notebook_saving.Notebook\"\n",
       "    // IPython event is triggered only after the cells have been serialised, which for\n",
       "    // our purposes (turning an active figure into a static one), is too late.\n",
       "    var cells = IPython.notebook.get_cells();\n",
       "    var ncells = cells.length;\n",
       "    for (var i=0; i<ncells; i++) {\n",
       "        var cell = cells[i];\n",
       "        if (cell.cell_type === 'code'){\n",
       "            for (var j=0; j<cell.output_area.outputs.length; j++) {\n",
       "                var data = cell.output_area.outputs[j];\n",
       "                if (data.data) {\n",
       "                    // IPython >= 3 moved mimebundle to data attribute of output\n",
       "                    data = data.data;\n",
       "                }\n",
       "                if (data['text/html'] == html_output) {\n",
       "                    return [cell, data, j];\n",
       "                }\n",
       "            }\n",
       "        }\n",
       "    }\n",
       "}\n",
       "\n",
       "// Register the function which deals with the matplotlib target/channel.\n",
       "// The kernel may be null if the page has been refreshed.\n",
       "if (IPython.notebook.kernel != null) {\n",
       "    IPython.notebook.kernel.comm_manager.register_target('matplotlib', mpl.mpl_figure_comm);\n",
       "}\n"
      ],
      "text/plain": [
       "<IPython.core.display.Javascript object>"
      ]
     },
     "metadata": {},
     "output_type": "display_data"
    },
    {
     "data": {
      "text/html": [
       "<img src=\"data:image/png;base64,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\" width=\"980\">"
      ],
      "text/plain": [
       "<IPython.core.display.HTML object>"
      ]
     },
     "metadata": {},
     "output_type": "display_data"
    },
    {
     "data": {
      "application/vnd.jupyter.widget-view+json": {
       "model_id": "3b63eb0f612b41a5ac42ca8786361b4d",
       "version_major": 2,
       "version_minor": 0
      },
      "text/plain": [
       "Output()"
      ]
     },
     "metadata": {},
     "output_type": "display_data"
    },
    {
     "data": {
      "application/vnd.jupyter.widget-view+json": {
       "model_id": "f6d87fda2b764e208d9965d8dde67b5f",
       "version_major": 2,
       "version_minor": 0
      },
      "text/plain": [
       "VBox(children=(HBox(children=(Dropdown(options=(('Imposta Ka e La', 'Set Ka and La'), ('Imposta gli autovalori…"
      ]
     },
     "metadata": {},
     "output_type": "display_data"
    }
   ],
   "source": [
    "# Main cell\n",
    "# Data\n",
    "global yd, T, yout\n",
    "yd = 10.\n",
    "T = []\n",
    "yout = []\n",
    "\n",
    "# Figures\n",
    "fig = plt.figure(num='Simulazione del controllo della posizione laterale del lander lunare')\n",
    "fig.set_size_inches((9.8, 6))\n",
    "fig.set_tight_layout(True)\n",
    "\n",
    "ax0 = fig.add_subplot(221)\n",
    "ax0.set_title('Lander lunare')\n",
    "ax0.set_xlim(-12,12)\n",
    "ax0.set_ylim(-4,4)\n",
    "ax0.grid()\n",
    "# ax0.axis('off')\n",
    "\n",
    "ax1 = fig.add_subplot(222)\n",
    "linez = ax1.plot([],[])[0]\n",
    "linezv = ax1.plot([],[])[0]\n",
    "lined = ax1.plot([],[])[0]\n",
    "ax1.set_title('Posizione laterale e velocità')\n",
    "ax1.set_xlabel('$t$ [s]')\n",
    "ax1.set_ylabel('y [m], $\\dot y$ [m/s]')\n",
    "ax1.set_xlim([0,17])\n",
    "ax1.axvline(x=0,color='black',linewidth=0.8)\n",
    "ax1.axhline(y=0,color='black',linewidth=0.8)\n",
    "ax1.grid()\n",
    "ax1.legend(['Posizione laterale','Velocità laterale','Valore desiderato'])\n",
    "\n",
    "ax2 = fig.add_subplot(223)\n",
    "lineu = ax2.plot([],[])[0]\n",
    "linelimu1 = ax2.plot([],[],'r')[0]\n",
    "linelimu2 = ax2.plot([],[],'r')[0]\n",
    "ax2.set_title('Coppia T')\n",
    "ax2.set_xlabel('$t$ [s]')\n",
    "ax2.set_ylabel('$T$ [Nm]')\n",
    "ax2.set_xlim([0,17])\n",
    "ax2.axvline(x=0,color='black',linewidth=0.8)\n",
    "ax2.axhline(y=0,color='black',linewidth=0.8)\n",
    "ax2.grid()\n",
    "ax2.legend(['T','Limite'])\n",
    "\n",
    "ax3 = fig.add_subplot(224)\n",
    "linethetaest = ax3.plot([],[])[0]\n",
    "linetheta = ax3.plot([],[])[0]\n",
    "ax3.set_title(r'$\\theta_{stim}$ vs $\\theta$')\n",
    "ax3.set_xlabel('$t$ [s]')\n",
    "ax3.set_ylabel(r'$\\theta$ [deg]')\n",
    "ax3.axvline(x=0,color='black',linewidth=0.8)\n",
    "ax3.axhline(y=0,color='black',linewidth=0.8)\n",
    "ax3.set_xlim([0,17])\n",
    "ax3.grid()\n",
    "\n",
    "# Patches\n",
    "rotation_transform = transforms.Affine2D()\n",
    "circle = patches.Circle((0, 0.6), fill=True, radius=0.5, ec='black', fc='gray', lw=1, zorder=20, \n",
    "                        transform=rotation_transform + ax0.transData)\n",
    "rect = patches.Rectangle((-1, -0.4), 2, 0.5, fill=True, ec='black', fc='gray', lw=1, zorder=20, \n",
    "                         transform=rotation_transform + ax0.transData)\n",
    "poly = patches.Polygon(numpy.stack(([-0.25, -0.15, 0.15, 0.25], [-0.8, -0.4, -0.4, -0.8])).T, \n",
    "                       closed=True, fill=True, ec='black', fc='black', lw=1, zorder=20, \n",
    "                       transform=rotation_transform + ax0.transData)\n",
    "lleg = patches.Rectangle((-1, -1.2), 0.05, 1, angle=-15, fill=True, ec='black', fc='black', lw=1, zorder=10, \n",
    "                         transform=rotation_transform + ax0.transData)\n",
    "rleg = patches.Rectangle((1, -1.2), 0.05, 1, angle=15, fill=True, ec='black', fc='black', lw=1, zorder=10, \n",
    "                         transform=rotation_transform + ax0.transData)\n",
    "lfoot = patches.Rectangle((-1.1, -1.2), 0.2, 0.05, fill=True, ec='black', fc='black', lw=1, zorder=20, \n",
    "                         transform=rotation_transform + ax0.transData)\n",
    "rfoot = patches.Rectangle((0.9, -1.2), 0.2, 0.05, fill=True, ec='black', fc='black', lw=1, zorder=20, \n",
    "                         transform=rotation_transform + ax0.transData)\n",
    "ax0.add_patch(circle)\n",
    "ax0.add_patch(rect)\n",
    "ax0.add_patch(poly)\n",
    "ax0.add_patch(lleg)\n",
    "ax0.add_patch(rleg)\n",
    "ax0.add_patch(lfoot)\n",
    "ax0.add_patch(rfoot)\n",
    "plt.show()\n",
    "\n",
    "# Functions\n",
    "def main_function(Ka,La,Ydw,eig1,eig2,eig3,eig4,eig5,eig1o,eig2o,selm,selc,selo,DW):\n",
    "    global T, yout, yd, Aa, Ba, A11, A21\n",
    "    method = method_choice(selm)\n",
    "    eigc, eigo = eigen_choice(selc,selo)\n",
    "    yd = Ydw\n",
    "    ax1.set_ylim([-0.1*yd,yd*1.5])\n",
    "    ax2.set_ylim([-51*yd,51*yd])\n",
    "    ax3.set_ylim([-15,15])\n",
    "    \n",
    "    if method == 1: #Setted matrix gain\n",
    "        sol = numpy.linalg.eig((Aa-Ba[:,0]*Ka))\n",
    "        print('Gli autovalori di Aa sono: '+str(round(sol[0][0],3))+', '+str(round(sol[0][1],3))+', '+str(round(sol[0][2],3))+', '+str(round(sol[0][3],3))+' e '+str(round(sol[0][4],3)))\n",
    "        sol = numpy.linalg.eig(A11+La*A21)\n",
    "        print('Gli autovalori di A11+La*A21 sono: '+str(round(sol[0][0],3))+' e '+str(round(sol[0][1],3))) \n",
    "        sys = simulation(Aa, Ba, Ca, A11, A12, A21, A22, B1, B2, La, Ka, Ta)\n",
    "        T = numpy.linspace(0, 17, 100)\n",
    "        T, yout = ctrl.step_response(sys, T, X0a)\n",
    "    if method == 2: #Setted eigenvalues\n",
    "        if eigc == 0:\n",
    "            Ka = ctrl.acker(Aa, Ba[:,0], [eig1[0,0], eig2[0,0], eig3[0,0], eig4[0,0], eig5[0,0]])\n",
    "            Kaw.setM(Ka)\n",
    "        if eigc == 2:\n",
    "            Ka = ctrl.acker(Aa, Ba[:,0], [eig1[0,0], numpy.complex(eig2[0,0],eig2[1,0]), numpy.complex(eig2[0,0],-eig2[1,0]), eig4[0,0], eig5[0,0]])\n",
    "            Kaw.setM(Ka)\n",
    "        if eigc == 4:\n",
    "            Ka = ctrl.acker(Aa, Ba[:,0], [eig1[0,0], numpy.complex(eig2[0,0],eig2[1,0]), numpy.complex(eig2[0,0],-eig2[1,0]), numpy.complex(eig3[0,0],eig3[1,0]), numpy.complex(eig3[0,0],-eig3[1,0])])\n",
    "            Kaw.setM(Ka)\n",
    "        if eigo == 0:\n",
    "            La = numpy.matrix([[0, 2*eig1o[0,0]/3 + 2*eig2o[0,0]/3, 0], [0, -2*eig1o[0,0]*eig2o[0,0]/3, 0]])\n",
    "            Law.setM(La) \n",
    "        if eigo == 2:\n",
    "            La = numpy.matrix([[0, 2*numpy.complex(eig2o[0,0],eig2o[1,0])/3 + 2*numpy.complex(eig2o[0,0],-eig2o[1,0])/3, 0], [0, -2*numpy.complex(eig2o[0,0],eig2o[1,0])*numpy.complex(eig2o[0,0],-eig2o[1,0])/3, 0]])\n",
    "            Law.setM(La)\n",
    "        sol = numpy.linalg.eig((Aa-Ba[:,0]*Ka))\n",
    "        print('Gli autovalori di Aa sono: '+str(round(sol[0][0],3))+', '+str(round(sol[0][1],3))+', '+str(round(sol[0][2],3))+', '+str(round(sol[0][3],3))+' e '+str(round(sol[0][4],3)))\n",
    "        sol = numpy.linalg.eig(A11+La*A21)\n",
    "        print('Gli autovalori di A11+La*A21 sono: '+str(round(sol[0][0],3))+' e '+str(round(sol[0][1],3))) \n",
    "        sys = simulation(Aa, Ba, Ca, A11, A12, A21, A22, B1, B2, La, Ka, Ta)\n",
    "        T = numpy.linspace(0, 17, 100)\n",
    "        T, yout = ctrl.step_response(sys, T, X0a)\n",
    "\n",
    "ani = animation.FuncAnimation(fig, fun_animation, init_func=anim_init, frames=100, repeat=True, interval=170, blit=True)\n",
    "\n",
    "\n",
    "#create dummy widget \n",
    "DW = widgets.FloatText(layout=widgets.Layout(width='0px', height='0px'))\n",
    "\n",
    "#create button widget\n",
    "START = widgets.Button(\n",
    "    description='Test',\n",
    "    disabled=False,\n",
    "    button_style='', # 'success', 'info', 'warning', 'danger' or ''\n",
    "    tooltip='Test',\n",
    "    icon='check'\n",
    ")\n",
    "                       \n",
    "def on_start_button_clicked(b):\n",
    "    #This is a workaround to have intreactive_output call the callback:\n",
    "    #   force the value of the dummy widget to change\n",
    "    if DW.value> 0 :\n",
    "        DW.value = -1\n",
    "    else: \n",
    "        DW.value = 1\n",
    "    pass\n",
    "START.on_click(on_start_button_clicked)\n",
    "\n",
    "# Define type of method \n",
    "selm = widgets.Dropdown(\n",
    "    options= [('Imposta Ka e La','Set Ka and La'), ('Imposta gli autovalori','Set the eigenvalues')],\n",
    "    value= 'Set Ka and La',\n",
    "    description='',\n",
    "    disabled=False\n",
    ")\n",
    "\n",
    "# Define the number of complex eigenvalues for the controller\n",
    "selc = widgets.Dropdown(\n",
    "    options= [('0 autovalori complessi','0 complex eigenvalues'), ('2 autovalori complessi','2 complex eigenvalues'), ('4 autovalori complessi','4 complex eigenvalues')],\n",
    "    value= '4 complex eigenvalues',\n",
    "    description='Aa:',\n",
    "    style = {'description_width': 'initial'},\n",
    "    disabled=False\n",
    ")\n",
    "\n",
    "# Define the number of complex eigenvalues for the observer\n",
    "selo = widgets.Dropdown(\n",
    "    options= [('0 autovalori complessi','0 complex eigenvalues'), ('2 autovalori complessi','2 complex eigenvalues')],\n",
    "    value= '0 complex eigenvalues',\n",
    "    description='Aoss:',\n",
    "    style = {'description_width': 'initial'},\n",
    "    disabled=False\n",
    ")\n",
    "\n",
    "alltogether = widgets.VBox([\n",
    "    widgets.HBox([\n",
    "        selm,\n",
    "        selc,\n",
    "        selo\n",
    "    ]),\n",
    "    widgets.Label('',border=3),\n",
    "    widgets.HBox([\n",
    "        widgets.Label('Ka:',border=3),\n",
    "        Kaw,\n",
    "        widgets.Label('',border=3),\n",
    "        widgets.Label('',border=3),\n",
    "        widgets.Label('La:',border=3),\n",
    "        Law\n",
    "    ]),\n",
    "    widgets.Label('',border=3),\n",
    "    widgets.HBox([\n",
    "        widgets.Label('Autovalori di Aa:',border=3),\n",
    "        eig1, eig2, eig3, eig4, eig5,\n",
    "        widgets.Label('',border=3),\n",
    "        widgets.Label('',border=3),\n",
    "        widgets.Label('Autovalori di Aoss:',border=3),\n",
    "        eig1o, eig2o\n",
    "    ]),\n",
    "    widgets.Label('',border=3),\n",
    "    widgets.HBox([\n",
    "        Ydw,\n",
    "        widgets.Label('',border=3),\n",
    "        widgets.Label('',border=3),\n",
    "        widgets.Label('',border=3),\n",
    "        START\n",
    "    ])\n",
    "])\n",
    "\n",
    "out = widgets.interactive_output(main_function,{'Ka':Kaw, 'La':Law, 'Ydw':Ydw, 'eig1':eig1, 'eig2':eig2, \n",
    "                                                'eig3':eig3, 'eig4':eig4, 'eig5':eig5,\n",
    "                                                'eig1o':eig1o, 'eig2o':eig2o,\n",
    "                                                'selm':selm, 'selc':selc, 'selo':selo, 'DW':DW})\n",
    "display(out, alltogether)"
   ]
  }
 ],
 "metadata": {
  "kernelspec": {
   "display_name": "Python 3",
   "language": "python",
   "name": "python3"
  },
  "language_info": {
   "codemirror_mode": {
    "name": "ipython",
    "version": 3
   },
   "file_extension": ".py",
   "mimetype": "text/x-python",
   "name": "python",
   "nbconvert_exporter": "python",
   "pygments_lexer": "ipython3",
   "version": "3.6.7"
  },
  "nbTranslate": {
   "displayLangs": [
    "it"
   ],
   "hotkey": "alt-t",
   "langInMainMenu": true,
   "sourceLang": "en",
   "targetLang": "it",
   "useGoogleTranslate": true
  },
  "widgets": {
   "application/vnd.jupyter.widget-state+json": {
    "state": {
     "000105fdb4764586b8ebfab252a36567": {
      "model_module": "@jupyter-widgets/controls",
      "model_module_version": "1.4.0",
      "model_name": "HBoxModel",
      "state": {
       "children": [
        "IPY_MODEL_0f26c8afca96402aa66b81bc451a3559",
        "IPY_MODEL_ef8032f4b5344c16ae90cfbfd02231d6",
        "IPY_MODEL_9f426cacd41c42aca1af846e019bfa02",
        "IPY_MODEL_e3f770ce4cf241e991c713aa951e5765",
        "IPY_MODEL_11edfefeb4ca410ab09a2f5ddc3d5026"
       ],
       "layout": "IPY_MODEL_fae3f97f39754d1ba4c31c0a281630ef"
      }
     },
     "00038a7d51314ae9804a45c996c3038a": {
      "model_module": "@jupyter-widgets/base",
      "model_module_version": "1.1.0",
      "model_name": "LayoutModel",
      "state": {}
     },
     "000b9c5ed55f49e3a82cde3b11cd106c": {
      "model_module": "@jupyter-widgets/base",
      "model_module_version": "1.1.0",
      "model_name": "LayoutModel",
      "state": {}
     },
     "007459f4f397435698168869e682fe15": {
      "model_module": "@jupyter-widgets/controls",
      "model_module_version": "1.4.0",
      "model_name": "DropdownModel",
      "state": {
       "_options_labels": [
        "0 complex eigenvalues",
        "2 complex eigenvalues",
        "4 complex eigenvalues"
       ],
       "description": "Aa:",
       "disabled": true,
       "index": 0,
       "layout": "IPY_MODEL_52536282f3184f26aed9ccb231e684c9",
       "style": "IPY_MODEL_f60d5a9a35db4218bf1cb50b763bfbd8"
      }
     },
     "008c5b54603f4375ad913b4e47b37a95": {
      "model_module": "@jupyter-widgets/controls",
      "model_module_version": "1.4.0",
      "model_name": "LabelModel",
      "state": {
       "layout": "IPY_MODEL_3352f8a79a714a1f8fd27b8fd25f0a52",
       "style": "IPY_MODEL_a225f194cbbc4a6dbf9bed6cdfccc646",
       "value": "Ka:"
      }
     },
     "00bcf6e5f88d4478b2238275ce14a469": {
      "model_module": "@jupyter-widgets/base",
      "model_module_version": "1.1.0",
      "model_name": "LayoutModel",
      "state": {}
     },
     "0120a3cda0234f828ce07773febed775": {
      "model_module": "@jupyter-widgets/controls",
      "model_module_version": "1.4.0",
      "model_name": "DescriptionStyleModel",
      "state": {
       "description_width": ""
      }
     },
     "0137a8c0e143408997be4713d0929fd0": {
      "model_module": "@jupyter-widgets/controls",
      "model_module_version": "1.4.0",
      "model_name": "DescriptionStyleModel",
      "state": {
       "description_width": ""
      }
     },
     "014b81ae692c4db1abb4de5ebe4c554c": {
      "model_module": "@jupyter-widgets/base",
      "model_module_version": "1.1.0",
      "model_name": "LayoutModel",
      "state": {}
     },
     "01722e6449294095b69c3399e6500959": {
      "model_module": "@jupyter-widgets/controls",
      "model_module_version": "1.4.0",
      "model_name": "DescriptionStyleModel",
      "state": {
       "description_width": ""
      }
     },
     "019c9aac684248e991ad2ca479ca9e54": {
      "model_module": "@jupyter-widgets/controls",
      "model_module_version": "1.4.0",
      "model_name": "LabelModel",
      "state": {
       "layout": "IPY_MODEL_f24072b2fc174c678db9de5d308468b8",
       "style": "IPY_MODEL_602f92a285884868bacf7120c085d472",
       "value": "Aobs's eigs:"
      }
     },
     "01bcc377646640c7a87abaf47a341335": {
      "model_module": "@jupyter-widgets/base",
      "model_module_version": "1.1.0",
      "model_name": "LayoutModel",
      "state": {}
     },
     "01dc0a5c652f458280935dd0ec1df02e": {
      "model_module": "@jupyter-widgets/base",
      "model_module_version": "1.1.0",
      "model_name": "LayoutModel",
      "state": {}
     },
     "03aea743d5e74fc58ade7e8bd43412e5": {
      "model_module": "@jupyter-widgets/controls",
      "model_module_version": "1.4.0",
      "model_name": "DescriptionStyleModel",
      "state": {
       "description_width": ""
      }
     },
     "0412e3d10df841038ecf3f8250e2b120": {
      "model_module": "@jupyter-widgets/base",
      "model_module_version": "1.1.0",
      "model_name": "LayoutModel",
      "state": {}
     },
     "05041977ab73417bb69ef1b71c64c7d9": {
      "model_module": "@jupyter-widgets/controls",
      "model_module_version": "1.4.0",
      "model_name": "HBoxModel",
      "state": {
       "children": [
        "IPY_MODEL_0a0237317d414d94b0d63364806850e5",
        "IPY_MODEL_6d68637432684016b0727f506afe0df5",
        "IPY_MODEL_f01b454caf0243f89fac5809d26d4cf2",
        "IPY_MODEL_3fe63ac60ab64ded984e9abeeff7abf5",
        "IPY_MODEL_317ee220faa84115bad387393653c51c",
        "IPY_MODEL_587e0f7d832d4ecc866fb0f39ea9d990",
        "IPY_MODEL_e740dfcb3cf649d4bee10bf6ee195301",
        "IPY_MODEL_e819fefb797041e89e4f72749e00edab",
        "IPY_MODEL_df3fedfe68e347c793fc31f53922c394",
        "IPY_MODEL_a3c2a24a94aa456cbd6779a86c1f06ad",
        "IPY_MODEL_25be128dd26d4cd298247bbbc5bbe06a"
       ],
       "layout": "IPY_MODEL_7a5fad3a8ed14b8c8672e83a713b5ee7"
      }
     },
     "0706e16b9ab64db69dc8b23ae2724d9e": {
      "model_module": "@jupyter-widgets/controls",
      "model_module_version": "1.4.0",
      "model_name": "DescriptionStyleModel",
      "state": {
       "description_width": ""
      }
     },
     "072696cc4bea46d4b484be7695a09054": {
      "model_module": "@jupyter-widgets/controls",
      "model_module_version": "1.4.0",
      "model_name": "LabelModel",
      "state": {
       "layout": "IPY_MODEL_6f5b16ca245c4071ab3278214307b695",
       "style": "IPY_MODEL_fea917e7b46743788590dd87985dcee4"
      }
     },
     "073260c1189244649e842178ffd838db": {
      "model_module": "@jupyter-widgets/controls",
      "model_module_version": "1.4.0",
      "model_name": "LabelModel",
      "state": {
       "layout": "IPY_MODEL_850d20061cb147999055d5ad4f3f4e9c",
       "style": "IPY_MODEL_27173e1eefb9498a854df87487b14839",
       "value": "Ka:"
      }
     },
     "075ef8840b254dfe8e812d7716b6f101": {
      "model_module": "@jupyter-widgets/controls",
      "model_module_version": "1.4.0",
      "model_name": "DescriptionStyleModel",
      "state": {
       "description_width": ""
      }
     },
     "07cc0da023a94e43b22b059533bc0e4a": {
      "model_module": "@jupyter-widgets/controls",
      "model_module_version": "1.4.0",
      "model_name": "DescriptionStyleModel",
      "state": {
       "description_width": ""
      }
     },
     "07f5abd468dd4c468a64aed63128e248": {
      "model_module": "@jupyter-widgets/controls",
      "model_module_version": "1.4.0",
      "model_name": "HBoxModel",
      "state": {
       "children": [
        "IPY_MODEL_68cb20eccc494d0e897dfcc89aa2b844"
       ],
       "layout": "IPY_MODEL_e24fb2aa34f844d99bef9c6b7ccac677"
      }
     },
     "07fef6b966c54e33b18032e66099953d": {
      "model_module": "@jupyter-widgets/base",
      "model_module_version": "1.1.0",
      "model_name": "LayoutModel",
      "state": {}
     },
     "0809ffdf306c4572b2936a4003504ebc": {
      "model_module": "@jupyter-widgets/controls",
      "model_module_version": "1.4.0",
      "model_name": "LabelModel",
      "state": {
       "layout": "IPY_MODEL_32b7e93c96b443a3af782fb2be831b3b",
       "style": "IPY_MODEL_76017c8704c44e04825f3e352bacd669"
      }
     },
     "0887c7cb985246f0bd413b295949e2d4": {
      "model_module": "@jupyter-widgets/controls",
      "model_module_version": "1.4.0",
      "model_name": "DescriptionStyleModel",
      "state": {
       "description_width": ""
      }
     },
     "093f7ad7ff10484c9dc83f64e83edf68": {
      "model_module": "@jupyter-widgets/controls",
      "model_module_version": "1.4.0",
      "model_name": "DropdownModel",
      "state": {
       "_options_labels": [
        "Set Ka and La",
        "Set the eigenvalues"
       ],
       "index": 0,
       "layout": "IPY_MODEL_3737cb1f394e4b8d993a13254b0b1c5e",
       "style": "IPY_MODEL_e9a73fa1f34747818d3505be6015e5a8"
      }
     },
     "09c1c777399449b3a0a0b485453ab341": {
      "model_module": "@jupyter-widgets/base",
      "model_module_version": "1.1.0",
      "model_name": "LayoutModel",
      "state": {}
     },
     "0a0237317d414d94b0d63364806850e5": {
      "model_module": "@jupyter-widgets/controls",
      "model_module_version": "1.4.0",
      "model_name": "LabelModel",
      "state": {
       "layout": "IPY_MODEL_991efac838994f0ab46af4dd67a6cce2",
       "style": "IPY_MODEL_af6f99f25c5f46168e1651111b8ad41b",
       "value": "Aa's eigs:"
      }
     },
     "0a02add7505f44028df61c521bfc1df6": {
      "model_module": "@jupyter-widgets/base",
      "model_module_version": "1.1.0",
      "model_name": "LayoutModel",
      "state": {
       "width": "90px"
      }
     },
     "0a176961dc994c7d85ace2bb0be6e5fc": {
      "model_module": "@jupyter-widgets/controls",
      "model_module_version": "1.4.0",
      "model_name": "HBoxModel",
      "state": {
       "children": [
        "IPY_MODEL_ed387f51cefd4c6e9562fcd544998001"
       ],
       "layout": "IPY_MODEL_9e3dc09502d8495584a6ac12c8f8ac5a"
      }
     },
     "0a273f0c4e6e469698eb36d71e786546": {
      "model_module": "@jupyter-widgets/base",
      "model_module_version": "1.1.0",
      "model_name": "LayoutModel",
      "state": {}
     },
     "0a7c3f2ed52f4978a43c2ce6b2ed5a0d": {
      "model_module": "@jupyter-widgets/controls",
      "model_module_version": "1.4.0",
      "model_name": "DescriptionStyleModel",
      "state": {
       "description_width": ""
      }
     },
     "0a82875190184a69b8227b138ce1554c": {
      "model_module": "@jupyter-widgets/controls",
      "model_module_version": "1.4.0",
      "model_name": "LabelModel",
      "state": {
       "layout": "IPY_MODEL_d8ddf5e62d8a4ddb9e10b54c206800f0",
       "style": "IPY_MODEL_5a490e92a1344cf0abc18bf0425bbb92"
      }
     },
     "0aa0bfe4046d4bbd9e3b8fc7e923c19e": {
      "model_module": "@jupyter-widgets/controls",
      "model_module_version": "1.4.0",
      "model_name": "FloatSliderModel",
      "state": {
       "continuous_update": false,
       "description": "$y_d$:",
       "layout": "IPY_MODEL_1d157278113043c9856d8a9417a13918",
       "max": 10,
       "readout_format": ".1f",
       "step": 0.1,
       "style": "IPY_MODEL_0f2b83b6f05148a3b373bebc85945789",
       "value": 10
      }
     },
     "0b4ba8575fd04aaaaea39527815d5e55": {
      "model_module": "@jupyter-widgets/controls",
      "model_module_version": "1.4.0",
      "model_name": "HBoxModel",
      "state": {
       "children": [
        "IPY_MODEL_6ccca8cd1dd94a44bbc5840816353ae3"
       ],
       "layout": "IPY_MODEL_b099da3d4c434dc5847966b8cdd77694"
      }
     },
     "0b517246f8e34440abe426b02300a069": {
      "model_module": "@jupyter-widgets/controls",
      "model_module_version": "1.4.0",
      "model_name": "DescriptionStyleModel",
      "state": {
       "description_width": ""
      }
     },
     "0bef75a1591f4b5f8b32b8b6479d62c9": {
      "model_module": "@jupyter-widgets/controls",
      "model_module_version": "1.4.0",
      "model_name": "VBoxModel",
      "state": {
       "children": [
        "IPY_MODEL_7d35e7ff219645d8928897423c98458f",
        "IPY_MODEL_0d089a6ffc9842b5bd9fc04d7aa0246b",
        "IPY_MODEL_fd59bda6f0d24120b0d6c12b5f6b8722",
        "IPY_MODEL_ec3fff96409f451e8c01a23c1f99995c",
        "IPY_MODEL_1fdde251769a4b17b82f768dd2b4dd9e",
        "IPY_MODEL_0a82875190184a69b8227b138ce1554c",
        "IPY_MODEL_d55492cfde34474dbdce90063cf320f9"
       ],
       "layout": "IPY_MODEL_add2942f83e541c2af6d4410e83b6dde"
      }
     },
     "0c7ccc0d90d14893a1798e9bec0ccfad": {
      "model_module": "@jupyter-widgets/controls",
      "model_module_version": "1.4.0",
      "model_name": "DescriptionStyleModel",
      "state": {
       "description_width": ""
      }
     },
     "0c95743624f3406b94fdf24395f109ea": {
      "model_module": "@jupyter-widgets/controls",
      "model_module_version": "1.4.0",
      "model_name": "DescriptionStyleModel",
      "state": {
       "description_width": ""
      }
     },
     "0cd7629dd3c9461fbd0c47b84ef58eb5": {
      "model_module": "@jupyter-widgets/base",
      "model_module_version": "1.1.0",
      "model_name": "LayoutModel",
      "state": {}
     },
     "0d089a6ffc9842b5bd9fc04d7aa0246b": {
      "model_module": "@jupyter-widgets/controls",
      "model_module_version": "1.4.0",
      "model_name": "LabelModel",
      "state": {
       "layout": "IPY_MODEL_12abd72a94064ce59f1ddbba55496559",
       "style": "IPY_MODEL_e05554ca65324a6b8574c72ca47cf5b7"
      }
     },
     "0d0a5a3b1371435bbf4f922a1c0b4595": {
      "model_module": "@jupyter-widgets/controls",
      "model_module_version": "1.4.0",
      "model_name": "ButtonStyleModel",
      "state": {}
     },
     "0dc42ed578324e9698fd4ff6083ef49b": {
      "model_module": "@jupyter-widgets/base",
      "model_module_version": "1.1.0",
      "model_name": "LayoutModel",
      "state": {}
     },
     "0deef1dc66c5431fa7af43270cd27cbe": {
      "model_module": "@jupyter-widgets/base",
      "model_module_version": "1.1.0",
      "model_name": "LayoutModel",
      "state": {}
     },
     "0e00eb2261824321ba3db263816e459b": {
      "model_module": "@jupyter-widgets/controls",
      "model_module_version": "1.4.0",
      "model_name": "DescriptionStyleModel",
      "state": {
       "description_width": ""
      }
     },
     "0e3a382431764e918183d36d775bca91": {
      "model_module": "@jupyter-widgets/controls",
      "model_module_version": "1.4.0",
      "model_name": "DescriptionStyleModel",
      "state": {
       "description_width": ""
      }
     },
     "0e87eb36298b40c88aa507280a88673b": {
      "model_module": "@jupyter-widgets/base",
      "model_module_version": "1.1.0",
      "model_name": "LayoutModel",
      "state": {}
     },
     "0ea5534b93a641a280950cebc7dd7424": {
      "model_module": "@jupyter-widgets/controls",
      "model_module_version": "1.4.0",
      "model_name": "LabelModel",
      "state": {
       "layout": "IPY_MODEL_6b1eb3d2914f436ebdc338c44a701edf",
       "style": "IPY_MODEL_2b9259b59b92447390e7b296c315363e"
      }
     },
     "0f14d36f2e474b439c5338a92acccce0": {
      "model_module": "@jupyter-widgets/controls",
      "model_module_version": "1.4.0",
      "model_name": "LabelModel",
      "state": {
       "layout": "IPY_MODEL_d11f6fc17f944785abd9427772fd5a6d",
       "style": "IPY_MODEL_3ac1014816f74fb1b52fa1463185a00e"
      }
     },
     "0f26c8afca96402aa66b81bc451a3559": {
      "model_module": "@jupyter-widgets/controls",
      "model_module_version": "1.4.0",
      "model_name": "FloatSliderModel",
      "state": {
       "continuous_update": false,
       "description": "$y_d$:",
       "layout": "IPY_MODEL_5e5ca3c81ee24215909e7e2b23040bdd",
       "max": 10,
       "readout_format": ".1f",
       "step": 0.1,
       "style": "IPY_MODEL_6d50e2c21b10474f969fa3e17a94ff8c",
       "value": 10
      }
     },
     "0f2b83b6f05148a3b373bebc85945789": {
      "model_module": "@jupyter-widgets/controls",
      "model_module_version": "1.4.0",
      "model_name": "SliderStyleModel",
      "state": {
       "description_width": ""
      }
     },
     "0f6c3a9260604cbfabe83a35c70edc75": {
      "model_module": "@jupyter-widgets/controls",
      "model_module_version": "1.4.0",
      "model_name": "DescriptionStyleModel",
      "state": {
       "description_width": ""
      }
     },
     "0f70af7c61ff4ba88081ed4f671ea6fb": {
      "model_module": "@jupyter-widgets/controls",
      "model_module_version": "1.4.0",
      "model_name": "DescriptionStyleModel",
      "state": {
       "description_width": ""
      }
     },
     "0fb6ebd5d60540b4a5135eecb46702e9": {
      "model_module": "@jupyter-widgets/controls",
      "model_module_version": "1.4.0",
      "model_name": "DescriptionStyleModel",
      "state": {
       "description_width": ""
      }
     },
     "0fbab12f3fc8478a8d773b74b0d46c8b": {
      "model_module": "@jupyter-widgets/controls",
      "model_module_version": "1.4.0",
      "model_name": "LabelModel",
      "state": {
       "layout": "IPY_MODEL_699c82ce7721494b827c9191334677f0",
       "style": "IPY_MODEL_63bd776089dc4508bd21c8789ad803bb"
      }
     },
     "0fdc2e9573724ffca381dcdc06cfb1b0": {
      "model_module": "@jupyter-widgets/base",
      "model_module_version": "1.1.0",
      "model_name": "LayoutModel",
      "state": {}
     },
     "0ffabbd5de5b4e49b39460918d7833c9": {
      "model_module": "@jupyter-widgets/controls",
      "model_module_version": "1.4.0",
      "model_name": "DescriptionStyleModel",
      "state": {
       "description_width": ""
      }
     },
     "1011a14be8014506987e6ff204d26d35": {
      "model_module": "@jupyter-widgets/base",
      "model_module_version": "1.1.0",
      "model_name": "LayoutModel",
      "state": {
       "width": "90px"
      }
     },
     "108b967aa86f464994fc814c54533fec": {
      "model_module": "@jupyter-widgets/base",
      "model_module_version": "1.1.0",
      "model_name": "LayoutModel",
      "state": {}
     },
     "10c2b023fe28454a9f66efb594599e4a": {
      "model_module": "@jupyter-widgets/base",
      "model_module_version": "1.1.0",
      "model_name": "LayoutModel",
      "state": {}
     },
     "10f2e8ae48e64a069fdfeda800e6969d": {
      "model_module": "@jupyter-widgets/base",
      "model_module_version": "1.1.0",
      "model_name": "LayoutModel",
      "state": {}
     },
     "11edfefeb4ca410ab09a2f5ddc3d5026": {
      "model_module": "@jupyter-widgets/controls",
      "model_module_version": "1.4.0",
      "model_name": "ButtonModel",
      "state": {
       "description": "Test",
       "icon": "check",
       "layout": "IPY_MODEL_2f66cfe8ed134acfb204b483546b9c8d",
       "style": "IPY_MODEL_7b6fe30e232e400583497734a4b6a5c7",
       "tooltip": "Test"
      }
     },
     "1205db0490524afe8643ea75eac4d13f": {
      "model_module": "@jupyter-widgets/controls",
      "model_module_version": "1.4.0",
      "model_name": "HBoxModel",
      "state": {
       "children": [
        "IPY_MODEL_1fb66c1b76f545669fe28804b306ecd2"
       ],
       "layout": "IPY_MODEL_6bdb46374a01452f878caf37f3b7dc57"
      }
     },
     "1244287ff9b84bed9a68f406b6271d4a": {
      "model_module": "@jupyter-widgets/controls",
      "model_module_version": "1.4.0",
      "model_name": "LabelModel",
      "state": {
       "layout": "IPY_MODEL_d859c2d997d6489089f973bec38b3477",
       "style": "IPY_MODEL_72a35b0bc2d9418bb099da42dd65c976"
      }
     },
     "125f923ed5a34fe3a28d2f6851a46911": {
      "model_module": "@jupyter-widgets/controls",
      "model_module_version": "1.4.0",
      "model_name": "HBoxModel",
      "state": {
       "children": [
        "IPY_MODEL_e89ff4014f0e49528bbf4e98a760fe39"
       ],
       "layout": "IPY_MODEL_fc243b3b10e846438dd07009179844f7"
      }
     },
     "127f6407d3334b2c811379e3be485ea4": {
      "model_module": "@jupyter-widgets/controls",
      "model_module_version": "1.4.0",
      "model_name": "DescriptionStyleModel",
      "state": {
       "description_width": ""
      }
     },
     "12abd72a94064ce59f1ddbba55496559": {
      "model_module": "@jupyter-widgets/base",
      "model_module_version": "1.1.0",
      "model_name": "LayoutModel",
      "state": {}
     },
     "1305375218104eaf84b665587f869b4a": {
      "model_module": "@jupyter-widgets/base",
      "model_module_version": "1.1.0",
      "model_name": "LayoutModel",
      "state": {}
     },
     "1356dd4e149949aa8da63f5c73164b03": {
      "model_module": "@jupyter-widgets/base",
      "model_module_version": "1.1.0",
      "model_name": "LayoutModel",
      "state": {
       "width": "90px"
      }
     },
     "135f645700374f52895dcc521e40d207": {
      "model_module": "@jupyter-widgets/controls",
      "model_module_version": "1.4.0",
      "model_name": "LabelModel",
      "state": {
       "layout": "IPY_MODEL_7c71e94f7fd8465382677754c8e6a982",
       "style": "IPY_MODEL_88eb02c3dc4f44948a1aec3fdbc15243"
      }
     },
     "13b8b4e1c72d4263a37e6d0db2857f38": {
      "model_module": "@jupyter-widgets/base",
      "model_module_version": "1.1.0",
      "model_name": "LayoutModel",
      "state": {}
     },
     "13b9e1059bd644deab53f4bbff6caec0": {
      "model_module": "@jupyter-widgets/controls",
      "model_module_version": "1.4.0",
      "model_name": "DropdownModel",
      "state": {
       "_options_labels": [
        "0 complex eigenvalues",
        "2 complex eigenvalues"
       ],
       "description": "Aobs:",
       "disabled": true,
       "index": 0,
       "layout": "IPY_MODEL_308eee1c1f63417596941451831e56d9",
       "style": "IPY_MODEL_b091aa29372a4b588df50dbfdb73bfca"
      }
     },
     "13f0e2e48ed94fb2b3e92e36a92bd6ab": {
      "model_module": "@jupyter-widgets/output",
      "model_module_version": "1.0.0",
      "model_name": "OutputModel",
      "state": {
       "layout": "IPY_MODEL_791fe235250446a6a034c1a07655e400",
       "outputs": [
        {
         "name": "stdout",
         "output_type": "stream",
         "text": "The Aa's eigenvalues are: -2.24+2.23j, -2.24+-2.23j, -0.28+0.00j, -0.26+0.32j and -0.26+-0.32j\nThe observer\\s eigenvalues are: -10.00+0.00j and -10.00+0.00j\n"
        }
       ]
      }
     },
     "14197243320e4c27bf97e564d6f16016": {
      "model_module": "@jupyter-widgets/controls",
      "model_module_version": "1.4.0",
      "model_name": "DescriptionStyleModel",
      "state": {
       "description_width": ""
      }
     },
     "1499b17a4da64101a9270bd56fcd4356": {
      "model_module": "@jupyter-widgets/controls",
      "model_module_version": "1.4.0",
      "model_name": "DescriptionStyleModel",
      "state": {
       "description_width": ""
      }
     },
     "14cf269aca7449979c09408a3fc45663": {
      "model_module": "@jupyter-widgets/base",
      "model_module_version": "1.1.0",
      "model_name": "LayoutModel",
      "state": {
       "width": "90px"
      }
     },
     "14ee82ae6a44446aaf4a813482e9e609": {
      "model_module": "@jupyter-widgets/base",
      "model_module_version": "1.1.0",
      "model_name": "LayoutModel",
      "state": {}
     },
     "1513832cf7b54c038400c36ff44ca0ef": {
      "model_module": "@jupyter-widgets/controls",
      "model_module_version": "1.4.0",
      "model_name": "DescriptionStyleModel",
      "state": {
       "description_width": ""
      }
     },
     "151cd4e8dcf14832a226f806c78e36e0": {
      "model_module": "@jupyter-widgets/base",
      "model_module_version": "1.1.0",
      "model_name": "LayoutModel",
      "state": {
       "width": "90px"
      }
     },
     "15cf45b6a5954be0ac6b6415d1d48bca": {
      "model_module": "@jupyter-widgets/base",
      "model_module_version": "1.1.0",
      "model_name": "LayoutModel",
      "state": {}
     },
     "16112e01e61a4c7a852edd7bb209d2be": {
      "model_module": "@jupyter-widgets/base",
      "model_module_version": "1.1.0",
      "model_name": "LayoutModel",
      "state": {}
     },
     "168bc40c3b9245fb833055cc8b0cf9d8": {
      "model_module": "@jupyter-widgets/controls",
      "model_module_version": "1.4.0",
      "model_name": "LabelModel",
      "state": {
       "layout": "IPY_MODEL_b438c6c4dba24c86a5f99cb78a66dc10",
       "style": "IPY_MODEL_5e9531f6af9b44a5acb5ee578ef622a0"
      }
     },
     "171a1b1507054bbfbefb5a2121471844": {
      "model_module": "@jupyter-widgets/controls",
      "model_module_version": "1.4.0",
      "model_name": "FloatTextModel",
      "state": {
       "layout": "IPY_MODEL_668d43e659984f9c83d702a230efee49",
       "step": null,
       "style": "IPY_MODEL_652517d930ef4076ae1a91b0e2a3be6c"
      }
     },
     "17cebb2684274838bfed4999e9fbd809": {
      "model_module": "@jupyter-widgets/controls",
      "model_module_version": "1.4.0",
      "model_name": "DescriptionStyleModel",
      "state": {
       "description_width": ""
      }
     },
     "1813f2fd50cb46aa9b888f8b5f8af0b2": {
      "model_module": "@jupyter-widgets/controls",
      "model_module_version": "1.4.0",
      "model_name": "DescriptionStyleModel",
      "state": {
       "description_width": ""
      }
     },
     "1847186fe1ec42328cf7cbcf68a6b4db": {
      "model_module": "@jupyter-widgets/controls",
      "model_module_version": "1.4.0",
      "model_name": "DescriptionStyleModel",
      "state": {
       "description_width": ""
      }
     },
     "184b23bb39dd4047977c1005e03a95c0": {
      "model_module": "@jupyter-widgets/base",
      "model_module_version": "1.1.0",
      "model_name": "LayoutModel",
      "state": {
       "width": "90px"
      }
     },
     "186de4e4fe0949228939f5d0f3901124": {
      "model_module": "@jupyter-widgets/controls",
      "model_module_version": "1.4.0",
      "model_name": "DescriptionStyleModel",
      "state": {
       "description_width": ""
      }
     },
     "189961caab4941f481899c87788c12aa": {
      "model_module": "@jupyter-widgets/controls",
      "model_module_version": "1.4.0",
      "model_name": "DescriptionStyleModel",
      "state": {
       "description_width": ""
      }
     },
     "18f82af6d5b2431ba4c48da55efab544": {
      "model_module": "@jupyter-widgets/controls",
      "model_module_version": "1.4.0",
      "model_name": "DropdownModel",
      "state": {
       "_options_labels": [
        "Set Ka and La",
        "Set the eigenvalues"
       ],
       "index": 0,
       "layout": "IPY_MODEL_aa396f910ca1429e83f9525d6adb3ba8",
       "style": "IPY_MODEL_d9db35bcd55b452caf07ceee07f65e96"
      }
     },
     "190c4ee57fdf40c88d86937fbd97fb58": {
      "model_module": "@jupyter-widgets/base",
      "model_module_version": "1.1.0",
      "model_name": "LayoutModel",
      "state": {}
     },
     "19233d4c075b48e5be2e4e129eb9e1d1": {
      "model_module": "@jupyter-widgets/controls",
      "model_module_version": "1.4.0",
      "model_name": "VBoxModel",
      "state": {
       "children": [
        "IPY_MODEL_7637a14720e140b2bcd66ed4939ec5a9",
        "IPY_MODEL_0ea5534b93a641a280950cebc7dd7424",
        "IPY_MODEL_22275515a1f04bd8be66e809c0605552",
        "IPY_MODEL_d120caa23d324631a5a9da5ed06acf60",
        "IPY_MODEL_e6198233953c4e6a91250039d906d212",
        "IPY_MODEL_fedc86dc603d43e08f7f162b326f729d",
        "IPY_MODEL_a5b53e522d8e4962a7d78f2bf1ad4c12"
       ],
       "layout": "IPY_MODEL_4290b132dc4242809a5d43b88a892c72"
      }
     },
     "193fab7eb40b4355997b20e097125ced": {
      "model_module": "@jupyter-widgets/output",
      "model_module_version": "1.0.0",
      "model_name": "OutputModel",
      "state": {
       "layout": "IPY_MODEL_b44a86c421fc453e90a3fbdd66345770",
       "outputs": [
        {
         "name": "stdout",
         "output_type": "stream",
         "text": "The Aa's eigenvalues are: -2.24+2.23j, -2.24+-2.23j, -0.28+0.00j, -0.26+0.32j and -0.26+-0.32j\nThe observer\\s eigenvalues are: -10.00+0.00j and -10.00+0.00j\n"
        }
       ]
      }
     },
     "19b8bdf890664f71885c84f552c3f3c0": {
      "model_module": "@jupyter-widgets/controls",
      "model_module_version": "1.4.0",
      "model_name": "DescriptionStyleModel",
      "state": {
       "description_width": ""
      }
     },
     "19f1831249fc404885a8c590f402427e": {
      "model_module": "@jupyter-widgets/controls",
      "model_module_version": "1.4.0",
      "model_name": "DescriptionStyleModel",
      "state": {
       "description_width": ""
      }
     },
     "1a89916030dc4f8ba8438c3a8c5bbd69": {
      "model_module": "@jupyter-widgets/base",
      "model_module_version": "1.1.0",
      "model_name": "LayoutModel",
      "state": {}
     },
     "1b064c01ef0f4056b7748e7fa4e8d0ae": {
      "model_module": "@jupyter-widgets/controls",
      "model_module_version": "1.4.0",
      "model_name": "DropdownModel",
      "state": {
       "_options_labels": [
        "Set Ka and La",
        "Set the eigenvalues"
       ],
       "index": 0,
       "layout": "IPY_MODEL_ade07f29b03d42f9af3c3c14c7d31ea0",
       "style": "IPY_MODEL_370ecf9131524d678e6b68bd2392087b"
      }
     },
     "1b74db63daf04430bfbc9b90a4d2a0b9": {
      "model_module": "@jupyter-widgets/controls",
      "model_module_version": "1.4.0",
      "model_name": "DescriptionStyleModel",
      "state": {
       "description_width": ""
      }
     },
     "1be046e383e644d6a6cfcf29b3777c99": {
      "model_module": "@jupyter-widgets/base",
      "model_module_version": "1.1.0",
      "model_name": "LayoutModel",
      "state": {}
     },
     "1c3b4a0e02094103b9696eab44638dc6": {
      "model_module": "@jupyter-widgets/base",
      "model_module_version": "1.1.0",
      "model_name": "LayoutModel",
      "state": {
       "width": "90px"
      }
     },
     "1c47caf2cb4b47a3a6d0d38a124adb42": {
      "model_module": "@jupyter-widgets/controls",
      "model_module_version": "1.4.0",
      "model_name": "LabelModel",
      "state": {
       "layout": "IPY_MODEL_4f760a5b774c4487878113061d5224d7",
       "style": "IPY_MODEL_0120a3cda0234f828ce07773febed775",
       "value": "Ka:"
      }
     },
     "1c6c62d211f44583a849017a71d78956": {
      "model_module": "@jupyter-widgets/controls",
      "model_module_version": "1.4.0",
      "model_name": "FloatTextModel",
      "state": {
       "disabled": true,
       "layout": "IPY_MODEL_461957a3da1741a79e15d991cb7034b3",
       "step": null,
       "style": "IPY_MODEL_4c2c1962f1e24a4ead7d36ae79cc2236",
       "value": -0.35
      }
     },
     "1c9b2f53ecbb4da79d03c3c35e70cf14": {
      "model_module": "@jupyter-widgets/base",
      "model_module_version": "1.1.0",
      "model_name": "LayoutModel",
      "state": {}
     },
     "1cf2e125728c4d5e8c8fea95a6038064": {
      "model_module": "@jupyter-widgets/controls",
      "model_module_version": "1.4.0",
      "model_name": "LabelModel",
      "state": {
       "layout": "IPY_MODEL_480976956b5e49b29e0a8fb9ddc1311d",
       "style": "IPY_MODEL_47598cf9791a4324b5119eb4da288b2f",
       "value": "Aa's eigs:"
      }
     },
     "1d157278113043c9856d8a9417a13918": {
      "model_module": "@jupyter-widgets/base",
      "model_module_version": "1.1.0",
      "model_name": "LayoutModel",
      "state": {}
     },
     "1dc05884ae5f4e7d823343a71c5d6ddd": {
      "model_module": "@jupyter-widgets/base",
      "model_module_version": "1.1.0",
      "model_name": "LayoutModel",
      "state": {}
     },
     "1df123d7b60c4f70bfaa95a3a98028b2": {
      "model_module": "@jupyter-widgets/base",
      "model_module_version": "1.1.0",
      "model_name": "LayoutModel",
      "state": {}
     },
     "1e33b781497341b1996b09276820d8e0": {
      "model_module": "@jupyter-widgets/base",
      "model_module_version": "1.1.0",
      "model_name": "LayoutModel",
      "state": {}
     },
     "1f72a1ea109f4f659eb106984a52f1f6": {
      "model_module": "@jupyter-widgets/controls",
      "model_module_version": "1.4.0",
      "model_name": "DescriptionStyleModel",
      "state": {
       "description_width": ""
      }
     },
     "1fb66c1b76f545669fe28804b306ecd2": {
      "model_module": "@jupyter-widgets/controls",
      "model_module_version": "1.4.0",
      "model_name": "FloatTextModel",
      "state": {
       "layout": "IPY_MODEL_e75eff08ebb144498999ffac93f14395",
       "step": null,
       "style": "IPY_MODEL_bde8952344054e1a9af20bcf7482c849",
       "value": -0.2
      }
     },
     "1fc3130926714e67a16a6fa21598e553": {
      "model_module": "@jupyter-widgets/controls",
      "model_module_version": "1.4.0",
      "model_name": "FloatTextModel",
      "state": {
       "layout": "IPY_MODEL_ecd20c3dc57245719c571ef17d01685c",
       "step": null,
       "style": "IPY_MODEL_5a867080f23547f5ba9fce9c078589d9",
       "value": 5275
      }
     },
     "1fd1af9aa2e34834a4365140e0e3935c": {
      "model_module": "@jupyter-widgets/controls",
      "model_module_version": "1.4.0",
      "model_name": "LabelModel",
      "state": {
       "layout": "IPY_MODEL_5bb3813b66d04d2e8d925c77a06ea469",
       "style": "IPY_MODEL_127f6407d3334b2c811379e3be485ea4",
       "value": "La:"
      }
     },
     "1fd782fda2594830a668c84ee5d9f831": {
      "model_module": "@jupyter-widgets/controls",
      "model_module_version": "1.4.0",
      "model_name": "DescriptionStyleModel",
      "state": {
       "description_width": ""
      }
     },
     "1fdde251769a4b17b82f768dd2b4dd9e": {
      "model_module": "@jupyter-widgets/controls",
      "model_module_version": "1.4.0",
      "model_name": "HBoxModel",
      "state": {
       "children": [
        "IPY_MODEL_b56385a123a9454aa4c26e576ee9e00e",
        "IPY_MODEL_4c8e37c41a2d416a8c037d763d6ba024",
        "IPY_MODEL_a267df06d1fd4abdbeeaa4b209f965f6",
        "IPY_MODEL_4d2f31be201045a6af6ff6ed5f2d6c7d",
        "IPY_MODEL_84a0b15ddb034a2092338bd2b2ed63e9",
        "IPY_MODEL_f4b016746bb84426baca5c76043f6338",
        "IPY_MODEL_bc57fb4c89304c8489fdd40e587aba43",
        "IPY_MODEL_d5837d49afb144f4b62497a1eee8836b",
        "IPY_MODEL_eb3ee6a786584c6d9f2da7657cac6d2a",
        "IPY_MODEL_b080ba2fe8b74e95941fc70e47b839e1",
        "IPY_MODEL_30ad82f4d06f4c2daaa68aeb2a06dd47"
       ],
       "layout": "IPY_MODEL_4f1921a9f6484511a8d14907d72e0e23"
      }
     },
     "208dd43bf82041139b3985a6cc8b89b3": {
      "model_module": "@jupyter-widgets/controls",
      "model_module_version": "1.4.0",
      "model_name": "DescriptionStyleModel",
      "state": {
       "description_width": ""
      }
     },
     "2093b6224f914effb15b3638f1187eb6": {
      "model_module": "@jupyter-widgets/controls",
      "model_module_version": "1.4.0",
      "model_name": "VBoxModel",
      "state": {
       "children": [
        "IPY_MODEL_7e4e7d01deec4ad28120e3a5353c32be"
       ],
       "layout": "IPY_MODEL_60b41869c40d4bd39090be64275ae341"
      }
     },
     "20cb9075c7db4936a347bd454de3b582": {
      "model_module": "@jupyter-widgets/controls",
      "model_module_version": "1.4.0",
      "model_name": "FloatTextModel",
      "state": {
       "layout": "IPY_MODEL_37ff28d148404455adda4f35d2af9e04",
       "step": null,
       "style": "IPY_MODEL_df7ca8e6b4e943ab931b5b3d5c5c261c"
      }
     },
     "212cbb388f3446d9be9fc9ea66b8a4ef": {
      "model_module": "@jupyter-widgets/controls",
      "model_module_version": "1.4.0",
      "model_name": "LabelModel",
      "state": {
       "layout": "IPY_MODEL_53d173abcf8b4242ab7d38a319621de6",
       "style": "IPY_MODEL_7d6a609ca45c4507b010733c5e884ae6"
      }
     },
     "2130431e014a406d94f539f123ff4781": {
      "model_module": "@jupyter-widgets/controls",
      "model_module_version": "1.4.0",
      "model_name": "DescriptionStyleModel",
      "state": {
       "description_width": ""
      }
     },
     "2158a36c2a104d1fae5f6a0fdcbc1e78": {
      "model_module": "@jupyter-widgets/controls",
      "model_module_version": "1.4.0",
      "model_name": "DescriptionStyleModel",
      "state": {
       "description_width": ""
      }
     },
     "217df9fb08f841e0b881ed5ff541226f": {
      "model_module": "@jupyter-widgets/base",
      "model_module_version": "1.1.0",
      "model_name": "LayoutModel",
      "state": {}
     },
     "21959bf2c265467dbf5cac2aaf1816e0": {
      "model_module": "@jupyter-widgets/controls",
      "model_module_version": "1.4.0",
      "model_name": "DescriptionStyleModel",
      "state": {
       "description_width": ""
      }
     },
     "21b672a6f2cb476a859c6c8b77770295": {
      "model_module": "@jupyter-widgets/controls",
      "model_module_version": "1.4.0",
      "model_name": "LabelModel",
      "state": {
       "layout": "IPY_MODEL_50979c39461b47e8bc2fd3cbcdd20729",
       "style": "IPY_MODEL_e25d85fff72e488ea4647079ab727aff",
       "value": "Aa's eigs:"
      }
     },
     "21eabbad715941b99f63fe2a4776bc00": {
      "model_module": "@jupyter-widgets/controls",
      "model_module_version": "1.4.0",
      "model_name": "DropdownModel",
      "state": {
       "_options_labels": [
        "0 complex eigenvalues",
        "2 complex eigenvalues",
        "4 complex eigenvalues"
       ],
       "description": "Aa:",
       "disabled": true,
       "index": 0,
       "layout": "IPY_MODEL_3c6b454038614f7698738e0b9ce8fec4",
       "style": "IPY_MODEL_a9df4eb6b13f4772b2ba3fc42ce6a654"
      }
     },
     "2207ee2b08c4446987f7e6023e83a82b": {
      "model_module": "@jupyter-widgets/controls",
      "model_module_version": "1.4.0",
      "model_name": "FloatTextModel",
      "state": {
       "layout": "IPY_MODEL_b6573d23f34546ba8e2cbf2b6767a8e1",
       "step": null,
       "style": "IPY_MODEL_a2730760d6e340dd9350b3d45baf8886",
       "value": 6244
      }
     },
     "22275515a1f04bd8be66e809c0605552": {
      "model_module": "@jupyter-widgets/controls",
      "model_module_version": "1.4.0",
      "model_name": "HBoxModel",
      "state": {
       "children": [
        "IPY_MODEL_073260c1189244649e842178ffd838db",
        "IPY_MODEL_d5286389e31f44d0a068455235d65e4f",
        "IPY_MODEL_72e8f2c8610c47fd8096faa84eb921f8",
        "IPY_MODEL_eeea2616635d4149881ea9df9f5a14cb",
        "IPY_MODEL_a016d7fcf44b4c7988226f529ae389e7",
        "IPY_MODEL_c52b71d3ecdd45499b48a31dc291647b"
       ],
       "layout": "IPY_MODEL_42984b879b2d416b85cd418d253039ed"
      }
     },
     "22374c75f7794f22a5f88e46fc333e82": {
      "model_module": "@jupyter-widgets/controls",
      "model_module_version": "1.4.0",
      "model_name": "FloatTextModel",
      "state": {
       "layout": "IPY_MODEL_40791dfb3cc8474eb7d54e2189b6b60c",
       "step": null,
       "style": "IPY_MODEL_ca9c829a996f4f7c845b56e8cf922fbd",
       "value": -13.333333333333334
      }
     },
     "226ecd100d9b43bdb15a7c6850582d90": {
      "model_module": "@jupyter-widgets/base",
      "model_module_version": "1.1.0",
      "model_name": "LayoutModel",
      "state": {}
     },
     "2286c81d4a3a4f93a0f895e50a34fe05": {
      "model_module": "@jupyter-widgets/controls",
      "model_module_version": "1.4.0",
      "model_name": "HBoxModel",
      "state": {
       "children": [
        "IPY_MODEL_3c7c916361f84919ace94112d0857e8d",
        "IPY_MODEL_b05b346ca5f149c68313830c8017a0c4",
        "IPY_MODEL_2661ca0349f54248a71dd5a7e08fc265",
        "IPY_MODEL_b55b9482c3094a98a8cf619d230dbc9b",
        "IPY_MODEL_247e86cfc95f417a8bcb4fcfcdbe3a0c"
       ],
       "layout": "IPY_MODEL_fcea6582999f41d3998d812ef0156748"
      }
     },
     "22d7fc6100c34ec68f93bd5a4fa77bce": {
      "model_module": "@jupyter-widgets/base",
      "model_module_version": "1.1.0",
      "model_name": "LayoutModel",
      "state": {}
     },
     "239576f3ce7641f5ab0c6dbab3e5de53": {
      "model_module": "@jupyter-widgets/controls",
      "model_module_version": "1.4.0",
      "model_name": "HBoxModel",
      "state": {
       "children": [
        "IPY_MODEL_8471ba81fc7a4b87adf19a11d05e4af8",
        "IPY_MODEL_b7643201185d4a7eb66c0e9807d1fef7",
        "IPY_MODEL_678800f9d35b4543892ff9d4b8c3009b"
       ],
       "layout": "IPY_MODEL_88608d2bd3564091bb944cd23789d33c"
      }
     },
     "23c82a3754bb4588a4f865849a294568": {
      "model_module": "@jupyter-widgets/base",
      "model_module_version": "1.1.0",
      "model_name": "LayoutModel",
      "state": {}
     },
     "247e86cfc95f417a8bcb4fcfcdbe3a0c": {
      "model_module": "@jupyter-widgets/controls",
      "model_module_version": "1.4.0",
      "model_name": "ButtonModel",
      "state": {
       "description": "Test",
       "icon": "check",
       "layout": "IPY_MODEL_c443bd8d6997435e91d118677137d5b6",
       "style": "IPY_MODEL_8940fedfa6b94154bbecb9b93aa2c282",
       "tooltip": "Test"
      }
     },
     "24dd982e2a6149fa8600278128d390d9": {
      "model_module": "@jupyter-widgets/controls",
      "model_module_version": "1.4.0",
      "model_name": "DescriptionStyleModel",
      "state": {
       "description_width": ""
      }
     },
     "2529e49926cd4f8eb55dcc45178ec8f5": {
      "model_module": "@jupyter-widgets/controls",
      "model_module_version": "1.4.0",
      "model_name": "LabelModel",
      "state": {
       "layout": "IPY_MODEL_9e4fb7fb6cee4738ab762e038ba437ba",
       "style": "IPY_MODEL_728c92f846734c939fcd10d6e4ef68e3"
      }
     },
     "25be128dd26d4cd298247bbbc5bbe06a": {
      "model_module": "@jupyter-widgets/controls",
      "model_module_version": "1.4.0",
      "model_name": "VBoxModel",
      "state": {
       "children": [
        "IPY_MODEL_3de384452e1d48d09b464ccad972e82a",
        "IPY_MODEL_a632af6c959f4150a8552cf2868f1563"
       ],
       "layout": "IPY_MODEL_6f10c2a2cc4f4d5cb7cd361d5fd117bb"
      }
     },
     "25f2ec29d73b41f7a2dc273b04bff9ce": {
      "model_module": "@jupyter-widgets/base",
      "model_module_version": "1.1.0",
      "model_name": "LayoutModel",
      "state": {}
     },
     "26342618d87e467fab891aa5cda81036": {
      "model_module": "@jupyter-widgets/controls",
      "model_module_version": "1.4.0",
      "model_name": "VBoxModel",
      "state": {
       "children": [
        "IPY_MODEL_e675d75bec4b474dba2d599e91931cd2",
        "IPY_MODEL_c4740552de6548d296f8e504838955f6",
        "IPY_MODEL_a91bbca18081424791e2d1ee5f5cce53",
        "IPY_MODEL_e53e8f35bab440248da43e8cba202569",
        "IPY_MODEL_3e64d9fd2e1746cea195f645cdd6949d",
        "IPY_MODEL_fdce31ba7cd54e7599882f799a6e6e33",
        "IPY_MODEL_2286c81d4a3a4f93a0f895e50a34fe05"
       ],
       "layout": "IPY_MODEL_4e55b368a6894071936164175298b092"
      }
     },
     "2661ca0349f54248a71dd5a7e08fc265": {
      "model_module": "@jupyter-widgets/controls",
      "model_module_version": "1.4.0",
      "model_name": "LabelModel",
      "state": {
       "layout": "IPY_MODEL_a2b1153c0b734d19bbbe9e4cb71dfd22",
       "style": "IPY_MODEL_f42e19a237c34b6180896202e734db4b"
      }
     },
     "27173e1eefb9498a854df87487b14839": {
      "model_module": "@jupyter-widgets/controls",
      "model_module_version": "1.4.0",
      "model_name": "DescriptionStyleModel",
      "state": {
       "description_width": ""
      }
     },
     "27928ffdf5e14aceb43b8fca906689b0": {
      "model_module": "@jupyter-widgets/base",
      "model_module_version": "1.1.0",
      "model_name": "LayoutModel",
      "state": {}
     },
     "27bf1cd698f244de864097f2c1026f29": {
      "model_module": "@jupyter-widgets/controls",
      "model_module_version": "1.4.0",
      "model_name": "VBoxModel",
      "state": {
       "children": [
        "IPY_MODEL_bad08b1eee074bc3b71be5dc3ac3cdde",
        "IPY_MODEL_42c5e51edfbf418ea107735f899209ac"
       ],
       "layout": "IPY_MODEL_9b5dafc61d3444c5ad1d3934f7051d68"
      }
     },
     "28145b3fa0c947388e212e724a9d4113": {
      "model_module": "@jupyter-widgets/base",
      "model_module_version": "1.1.0",
      "model_name": "LayoutModel",
      "state": {}
     },
     "2858ff7ee73a49599f2605631773233e": {
      "model_module": "@jupyter-widgets/base",
      "model_module_version": "1.1.0",
      "model_name": "LayoutModel",
      "state": {
       "width": "90px"
      }
     },
     "285f9014036e4d5485f9c4c625564664": {
      "model_module": "@jupyter-widgets/base",
      "model_module_version": "1.1.0",
      "model_name": "LayoutModel",
      "state": {}
     },
     "286c6d083d32468c8da6d9a651c6a4cb": {
      "model_module": "@jupyter-widgets/controls",
      "model_module_version": "1.4.0",
      "model_name": "DescriptionStyleModel",
      "state": {
       "description_width": ""
      }
     },
     "28eeaa6532d64589be32837e44b6116e": {
      "model_module": "@jupyter-widgets/base",
      "model_module_version": "1.1.0",
      "model_name": "LayoutModel",
      "state": {}
     },
     "290c5edce3fd4ba59715d66705fcdd2e": {
      "model_module": "@jupyter-widgets/base",
      "model_module_version": "1.1.0",
      "model_name": "LayoutModel",
      "state": {}
     },
     "296ca86ae0ed488dbcf495fcee09b2d4": {
      "model_module": "@jupyter-widgets/base",
      "model_module_version": "1.1.0",
      "model_name": "LayoutModel",
      "state": {}
     },
     "29a5ffd39c2f4cfbbb7189829553bcde": {
      "model_module": "@jupyter-widgets/controls",
      "model_module_version": "1.4.0",
      "model_name": "LabelModel",
      "state": {
       "layout": "IPY_MODEL_5e837cafb6a844dd926b00ccdd43440d",
       "style": "IPY_MODEL_a2a23603747a44b8b4b99e05ba1585cc"
      }
     },
     "2a4c4be27bb545dd87185740c74ca9e5": {
      "model_module": "@jupyter-widgets/controls",
      "model_module_version": "1.4.0",
      "model_name": "FloatTextModel",
      "state": {
       "layout": "IPY_MODEL_bebe51591c7f4204987782700ddac779",
       "step": null,
       "style": "IPY_MODEL_5e97027777614640b556526766aab474"
      }
     },
     "2ad36e1cd7c6491ebd207e23495eaf5f": {
      "model_module": "@jupyter-widgets/base",
      "model_module_version": "1.1.0",
      "model_name": "LayoutModel",
      "state": {}
     },
     "2b099bf547704ef4a5d5b71337dae026": {
      "model_module": "@jupyter-widgets/controls",
      "model_module_version": "1.4.0",
      "model_name": "DescriptionStyleModel",
      "state": {
       "description_width": ""
      }
     },
     "2b60f2474af2416cb1d242ccc4c6ddb3": {
      "model_module": "@jupyter-widgets/controls",
      "model_module_version": "1.4.0",
      "model_name": "FloatTextModel",
      "state": {
       "disabled": true,
       "layout": "IPY_MODEL_580f187efa7642398bec0a2ae1ea2954",
       "step": null,
       "style": "IPY_MODEL_e2a1c41856004ffc9cd0fc59df88997a"
      }
     },
     "2b684e1c6b254b9fa313b5d68cbac70e": {
      "model_module": "@jupyter-widgets/controls",
      "model_module_version": "1.4.0",
      "model_name": "DescriptionStyleModel",
      "state": {
       "description_width": ""
      }
     },
     "2b9259b59b92447390e7b296c315363e": {
      "model_module": "@jupyter-widgets/controls",
      "model_module_version": "1.4.0",
      "model_name": "DescriptionStyleModel",
      "state": {
       "description_width": ""
      }
     },
     "2b97208d6c1a4fd1966375b6e494aa89": {
      "model_module": "@jupyter-widgets/controls",
      "model_module_version": "1.4.0",
      "model_name": "DescriptionStyleModel",
      "state": {
       "description_width": ""
      }
     },
     "2bc216ef3e2d46c8b160d194b072936c": {
      "model_module": "@jupyter-widgets/controls",
      "model_module_version": "1.4.0",
      "model_name": "DescriptionStyleModel",
      "state": {
       "description_width": ""
      }
     },
     "2bf0392a0f39437ba55867d895e68ba0": {
      "model_module": "@jupyter-widgets/base",
      "model_module_version": "1.1.0",
      "model_name": "LayoutModel",
      "state": {
       "width": "90px"
      }
     },
     "2c4fbbc1825c495c86831ef2286a8258": {
      "model_module": "@jupyter-widgets/base",
      "model_module_version": "1.1.0",
      "model_name": "LayoutModel",
      "state": {}
     },
     "2cb9c1ebcf564a40a34b90a63d030464": {
      "model_module": "@jupyter-widgets/controls",
      "model_module_version": "1.4.0",
      "model_name": "VBoxModel",
      "state": {
       "children": [
        "IPY_MODEL_ee4aa316d9714e888f3c23995436d5e6"
       ],
       "layout": "IPY_MODEL_190c4ee57fdf40c88d86937fbd97fb58"
      }
     },
     "2d2e3175df1d471bbb45873e4da0007e": {
      "model_module": "@jupyter-widgets/output",
      "model_module_version": "1.0.0",
      "model_name": "OutputModel",
      "state": {
       "layout": "IPY_MODEL_4896fb1125f843749d6859f7cbe31ce0",
       "outputs": [
        {
         "name": "stdout",
         "output_type": "stream",
         "text": "The Aa's eigenvalues are: -2.24+2.23j, -2.24+-2.23j, -0.28+0.00j, -0.26+0.32j and -0.26+-0.32j\nThe observer\\s eigenvalues are: -10.00+0.00j and -10.00+0.00j\n"
        }
       ]
      }
     },
     "2d7547f1a371409793d7cc2e5f67d729": {
      "model_module": "@jupyter-widgets/controls",
      "model_module_version": "1.4.0",
      "model_name": "DescriptionStyleModel",
      "state": {
       "description_width": ""
      }
     },
     "2d87c6683db741b78597a76dece4e1fc": {
      "model_module": "@jupyter-widgets/base",
      "model_module_version": "1.1.0",
      "model_name": "LayoutModel",
      "state": {}
     },
     "2e269a8bd2094127a2842dba4c1a9b3e": {
      "model_module": "@jupyter-widgets/base",
      "model_module_version": "1.1.0",
      "model_name": "LayoutModel",
      "state": {
       "height": "0px",
       "width": "0px"
      }
     },
     "2ea7fb5a0dc94b24bc86d1d1361bf465": {
      "model_module": "@jupyter-widgets/controls",
      "model_module_version": "1.4.0",
      "model_name": "HBoxModel",
      "state": {
       "children": [
        "IPY_MODEL_ad7ee93bc69e44238236082c27729623",
        "IPY_MODEL_d5286389e31f44d0a068455235d65e4f",
        "IPY_MODEL_e803009919e34d8eaf8b05eec6e7095e",
        "IPY_MODEL_7e247cd9b0e54844af224969b6c41f28",
        "IPY_MODEL_67eca683eeac421c9b2621d685db768f",
        "IPY_MODEL_c52b71d3ecdd45499b48a31dc291647b"
       ],
       "layout": "IPY_MODEL_59ebaba388dc4577ada44ad233f34d00"
      }
     },
     "2f3e230ec0f74c2db5e3641c839f2213": {
      "model_module": "@jupyter-widgets/controls",
      "model_module_version": "1.4.0",
      "model_name": "LabelModel",
      "state": {
       "layout": "IPY_MODEL_ffe99539e150450583ae31daaf3d9322",
       "style": "IPY_MODEL_1f72a1ea109f4f659eb106984a52f1f6",
       "value": "Ka:"
      }
     },
     "2f66cfe8ed134acfb204b483546b9c8d": {
      "model_module": "@jupyter-widgets/base",
      "model_module_version": "1.1.0",
      "model_name": "LayoutModel",
      "state": {}
     },
     "2f9198fbd0b341cf8d4432260b3fa514": {
      "model_module": "@jupyter-widgets/base",
      "model_module_version": "1.1.0",
      "model_name": "LayoutModel",
      "state": {}
     },
     "2fdeaa5e4bf3400f8579ebce0f57f204": {
      "model_module": "@jupyter-widgets/controls",
      "model_module_version": "1.4.0",
      "model_name": "HBoxModel",
      "state": {
       "children": [
        "IPY_MODEL_912150cf7dd545c9be27f06e2420e9fd"
       ],
       "layout": "IPY_MODEL_9107b64326ee404abe9f223d27d7cb58"
      }
     },
     "307ff552afd445f8aa1f661c0d2a70ab": {
      "model_module": "@jupyter-widgets/controls",
      "model_module_version": "1.4.0",
      "model_name": "DescriptionStyleModel",
      "state": {
       "description_width": ""
      }
     },
     "308eee1c1f63417596941451831e56d9": {
      "model_module": "@jupyter-widgets/base",
      "model_module_version": "1.1.0",
      "model_name": "LayoutModel",
      "state": {}
     },
     "30ad82f4d06f4c2daaa68aeb2a06dd47": {
      "model_module": "@jupyter-widgets/controls",
      "model_module_version": "1.4.0",
      "model_name": "VBoxModel",
      "state": {
       "children": [
        "IPY_MODEL_2fdeaa5e4bf3400f8579ebce0f57f204",
        "IPY_MODEL_6f85f9a4db194b509b78ff37a0f3f35a"
       ],
       "layout": "IPY_MODEL_dce3a2ee8dff4853a756267ce47660ed"
      }
     },
     "30c069a9f1e64b8fa42c228c79bc01d4": {
      "model_module": "@jupyter-widgets/base",
      "model_module_version": "1.1.0",
      "model_name": "LayoutModel",
      "state": {}
     },
     "3155eee3f9a64ff3b2f1ce3c8f7d18cc": {
      "model_module": "@jupyter-widgets/base",
      "model_module_version": "1.1.0",
      "model_name": "LayoutModel",
      "state": {}
     },
     "317ee220faa84115bad387393653c51c": {
      "model_module": "@jupyter-widgets/controls",
      "model_module_version": "1.4.0",
      "model_name": "VBoxModel",
      "state": {
       "children": [
        "IPY_MODEL_7c92b5b89e8b44fc9d282249225339c6"
       ],
       "layout": "IPY_MODEL_a460952c12254a589008273d3b2199a9"
      }
     },
     "31e2e456b00d48d490d2402eb557ec37": {
      "model_module": "@jupyter-widgets/base",
      "model_module_version": "1.1.0",
      "model_name": "LayoutModel",
      "state": {}
     },
     "3223149f706c4dd4ba260fe3446b92e8": {
      "model_module": "@jupyter-widgets/base",
      "model_module_version": "1.1.0",
      "model_name": "LayoutModel",
      "state": {}
     },
     "3233aafe18be46e7a62f972550b668ba": {
      "model_module": "@jupyter-widgets/base",
      "model_module_version": "1.1.0",
      "model_name": "LayoutModel",
      "state": {}
     },
     "32a09d78e0b3416a94dc5ac17c5bb0d0": {
      "model_module": "@jupyter-widgets/controls",
      "model_module_version": "1.4.0",
      "model_name": "DescriptionStyleModel",
      "state": {
       "description_width": ""
      }
     },
     "32b7e93c96b443a3af782fb2be831b3b": {
      "model_module": "@jupyter-widgets/base",
      "model_module_version": "1.1.0",
      "model_name": "LayoutModel",
      "state": {}
     },
     "32c998c40fcb45f29c5f62895b3ae599": {
      "model_module": "@jupyter-widgets/base",
      "model_module_version": "1.1.0",
      "model_name": "LayoutModel",
      "state": {}
     },
     "33330d6c86ba41eab73940f2280afb9a": {
      "model_module": "@jupyter-widgets/controls",
      "model_module_version": "1.4.0",
      "model_name": "FloatTextModel",
      "state": {
       "layout": "IPY_MODEL_3a65fbb08de74d909d5fd1814e6230ac",
       "step": null,
       "style": "IPY_MODEL_754e87a1a8c54875b3b917f54d2c9b58",
       "value": -10
      }
     },
     "33357e60e03e468ca65e98dd38c74e9f": {
      "model_module": "@jupyter-widgets/controls",
      "model_module_version": "1.4.0",
      "model_name": "DescriptionStyleModel",
      "state": {
       "description_width": ""
      }
     },
     "3352f8a79a714a1f8fd27b8fd25f0a52": {
      "model_module": "@jupyter-widgets/base",
      "model_module_version": "1.1.0",
      "model_name": "LayoutModel",
      "state": {}
     },
     "33bfa08767d84ae4a47341c4859c6d8e": {
      "model_module": "@jupyter-widgets/controls",
      "model_module_version": "1.4.0",
      "model_name": "DescriptionStyleModel",
      "state": {
       "description_width": ""
      }
     },
     "33f481d047974c82b48e773a14c5277e": {
      "model_module": "@jupyter-widgets/controls",
      "model_module_version": "1.4.0",
      "model_name": "DescriptionStyleModel",
      "state": {
       "description_width": ""
      }
     },
     "34022ccc088d4f659df4623873bb8338": {
      "model_module": "@jupyter-widgets/base",
      "model_module_version": "1.1.0",
      "model_name": "LayoutModel",
      "state": {}
     },
     "341a67e1961c4efaba9cd46195f445c9": {
      "model_module": "@jupyter-widgets/base",
      "model_module_version": "1.1.0",
      "model_name": "LayoutModel",
      "state": {}
     },
     "3430f1d432be4157a235f074511b7e3e": {
      "model_module": "@jupyter-widgets/controls",
      "model_module_version": "1.4.0",
      "model_name": "DescriptionStyleModel",
      "state": {
       "description_width": ""
      }
     },
     "3560f888f8714d7380f8ec397da7b315": {
      "model_module": "@jupyter-widgets/controls",
      "model_module_version": "1.4.0",
      "model_name": "DescriptionStyleModel",
      "state": {
       "description_width": ""
      }
     },
     "356747a968bb4a48b3b7722036ed8bf4": {
      "model_module": "@jupyter-widgets/controls",
      "model_module_version": "1.4.0",
      "model_name": "FloatTextModel",
      "state": {
       "layout": "IPY_MODEL_2858ff7ee73a49599f2605631773233e",
       "step": null,
       "style": "IPY_MODEL_1fd782fda2594830a668c84ee5d9f831",
       "value": 316
      }
     },
     "360875116090414dbddbecaa83b47342": {
      "model_module": "@jupyter-widgets/controls",
      "model_module_version": "1.4.0",
      "model_name": "LabelModel",
      "state": {
       "layout": "IPY_MODEL_851b1adaff55422a86338f42883ee062",
       "style": "IPY_MODEL_ff14f4f3069442e09be6386b056e4f65"
      }
     },
     "361e3aca296d43a68f658aa71fa8a732": {
      "model_module": "@jupyter-widgets/controls",
      "model_module_version": "1.4.0",
      "model_name": "FloatTextModel",
      "state": {
       "layout": "IPY_MODEL_caf38c4519e040de9884ca0747ab7001",
       "step": null,
       "style": "IPY_MODEL_bf796660e99f47128f6d0e118966cbdd"
      }
     },
     "363c1e3703ab462a93ff019e7bc417eb": {
      "model_module": "@jupyter-widgets/base",
      "model_module_version": "1.1.0",
      "model_name": "LayoutModel",
      "state": {}
     },
     "364239ea052146749c210d876d457052": {
      "model_module": "@jupyter-widgets/base",
      "model_module_version": "1.1.0",
      "model_name": "LayoutModel",
      "state": {}
     },
     "36ac1087021c41399d70cc006def027e": {
      "model_module": "@jupyter-widgets/controls",
      "model_module_version": "1.4.0",
      "model_name": "FloatTextModel",
      "state": {
       "layout": "IPY_MODEL_3dae996603af49d89a680674a3ee2aec",
       "step": null,
       "style": "IPY_MODEL_33f481d047974c82b48e773a14c5277e"
      }
     },
     "36b4c1c517ff44af830b4f3695cbd377": {
      "model_module": "@jupyter-widgets/controls",
      "model_module_version": "1.4.0",
      "model_name": "ButtonModel",
      "state": {
       "description": "Test",
       "icon": "check",
       "layout": "IPY_MODEL_4d59d06b755e49e1ac0c6d996a44da1e",
       "style": "IPY_MODEL_0d0a5a3b1371435bbf4f922a1c0b4595",
       "tooltip": "Test"
      }
     },
     "36b6b604c9464f058cab5c96b0e7fd11": {
      "model_module": "@jupyter-widgets/base",
      "model_module_version": "1.1.0",
      "model_name": "LayoutModel",
      "state": {}
     },
     "370ecf9131524d678e6b68bd2392087b": {
      "model_module": "@jupyter-widgets/controls",
      "model_module_version": "1.4.0",
      "model_name": "DescriptionStyleModel",
      "state": {
       "description_width": ""
      }
     },
     "37327690f2424d65b8d49eece9eaf6a9": {
      "model_module": "@jupyter-widgets/base",
      "model_module_version": "1.1.0",
      "model_name": "LayoutModel",
      "state": {}
     },
     "3737cb1f394e4b8d993a13254b0b1c5e": {
      "model_module": "@jupyter-widgets/base",
      "model_module_version": "1.1.0",
      "model_name": "LayoutModel",
      "state": {}
     },
     "3737cb895e114ff3a7264b637d8ad44b": {
      "model_module": "@jupyter-widgets/controls",
      "model_module_version": "1.4.0",
      "model_name": "DescriptionStyleModel",
      "state": {
       "description_width": ""
      }
     },
     "375787cc30e24e26abe571c28c5b73b7": {
      "model_module": "@jupyter-widgets/controls",
      "model_module_version": "1.4.0",
      "model_name": "DescriptionStyleModel",
      "state": {
       "description_width": ""
      }
     },
     "37d23d6207874b9db8948c62f4cd0835": {
      "model_module": "@jupyter-widgets/base",
      "model_module_version": "1.1.0",
      "model_name": "LayoutModel",
      "state": {}
     },
     "37d8d5e4068d43cda833bfa5b2deb3d6": {
      "model_module": "@jupyter-widgets/controls",
      "model_module_version": "1.4.0",
      "model_name": "VBoxModel",
      "state": {
       "children": [
        "IPY_MODEL_895850746fc047c089a3bab1559d9f9d",
        "IPY_MODEL_ebf0f598131a450587d040772038e710",
        "IPY_MODEL_3d9418f5694c40a68a7dbd749231b227",
        "IPY_MODEL_ad34d26874a24d2c89c2f16a3cf953ee",
        "IPY_MODEL_50da8e9b3fe449d8bd0f82c813a0d190",
        "IPY_MODEL_4490b6a17a204103a401af35e7fb2214",
        "IPY_MODEL_e946f509a27349d3ad44c1af4e53fc3a"
       ],
       "layout": "IPY_MODEL_ae665ed5b04d42f1b2b624cfbc726e6f"
      }
     },
     "37e3d4ef915442e587ab592c14598b61": {
      "model_module": "@jupyter-widgets/base",
      "model_module_version": "1.1.0",
      "model_name": "LayoutModel",
      "state": {
       "height": "0px",
       "width": "0px"
      }
     },
     "37ecefc90ca24246a5e1f966458ec837": {
      "model_module": "@jupyter-widgets/base",
      "model_module_version": "1.1.0",
      "model_name": "LayoutModel",
      "state": {}
     },
     "37ff28d148404455adda4f35d2af9e04": {
      "model_module": "@jupyter-widgets/base",
      "model_module_version": "1.1.0",
      "model_name": "LayoutModel",
      "state": {
       "width": "90px"
      }
     },
     "3804bdbe25a84136b554ce66d5068797": {
      "model_module": "@jupyter-widgets/controls",
      "model_module_version": "1.4.0",
      "model_name": "VBoxModel",
      "state": {
       "children": [
        "IPY_MODEL_61c6a8a15add4ded9fd4e987a755ab38",
        "IPY_MODEL_d086c2b805214a99ac336e6b38227e34",
        "IPY_MODEL_fb4bc4d4d3a648d7a6a9df184cce12b6",
        "IPY_MODEL_9a30578514a043dc80c647d4b5ab588d",
        "IPY_MODEL_8a079245fbbe4ddf920422f8deed31bb",
        "IPY_MODEL_5d2586944fee45ffa773e7d3ad5c2d02",
        "IPY_MODEL_3fb90a3282a44bb1b6810e5cba75ebc1"
       ],
       "layout": "IPY_MODEL_70d8d323e1e7445ea9fe3e32ee56bd7f"
      }
     },
     "38105898ff504547a93e80b47afac00d": {
      "model_module": "@jupyter-widgets/controls",
      "model_module_version": "1.4.0",
      "model_name": "DescriptionStyleModel",
      "state": {
       "description_width": ""
      }
     },
     "3867427d28c94cc5bb52fa78e2eae3e1": {
      "model_module": "@jupyter-widgets/base",
      "model_module_version": "1.1.0",
      "model_name": "LayoutModel",
      "state": {}
     },
     "3882f6bf357a4adab0cd5691b4c6c866": {
      "model_module": "@jupyter-widgets/base",
      "model_module_version": "1.1.0",
      "model_name": "LayoutModel",
      "state": {}
     },
     "395984fd869345c3adad0f2e04cc2f9d": {
      "model_module": "@jupyter-widgets/base",
      "model_module_version": "1.1.0",
      "model_name": "LayoutModel",
      "state": {}
     },
     "3967a131ab114f1d903a90585ec37c1b": {
      "model_module": "@jupyter-widgets/controls",
      "model_module_version": "1.4.0",
      "model_name": "FloatTextModel",
      "state": {
       "layout": "IPY_MODEL_8bfd28108db14cf7af63c45afb29a893",
       "step": null,
       "style": "IPY_MODEL_ffd9845674134373a41db40934c7be0d",
       "value": -0.5
      }
     },
     "3a5b38eedfc246fb8c78fd0753841d63": {
      "model_module": "@jupyter-widgets/base",
      "model_module_version": "1.1.0",
      "model_name": "LayoutModel",
      "state": {}
     },
     "3a65fbb08de74d909d5fd1814e6230ac": {
      "model_module": "@jupyter-widgets/base",
      "model_module_version": "1.1.0",
      "model_name": "LayoutModel",
      "state": {
       "width": "90px"
      }
     },
     "3a6b565f3ce4429b83a21e3d564ff894": {
      "model_module": "@jupyter-widgets/controls",
      "model_module_version": "1.4.0",
      "model_name": "DescriptionStyleModel",
      "state": {
       "description_width": ""
      }
     },
     "3a78eccc26a74ba981dce7448a66b11a": {
      "model_module": "@jupyter-widgets/base",
      "model_module_version": "1.1.0",
      "model_name": "LayoutModel",
      "state": {}
     },
     "3ac1014816f74fb1b52fa1463185a00e": {
      "model_module": "@jupyter-widgets/controls",
      "model_module_version": "1.4.0",
      "model_name": "DescriptionStyleModel",
      "state": {
       "description_width": ""
      }
     },
     "3ae048ad15b44938b8b8c0d5af7219e8": {
      "model_module": "@jupyter-widgets/controls",
      "model_module_version": "1.4.0",
      "model_name": "LabelModel",
      "state": {
       "layout": "IPY_MODEL_60cdc74037934e1eb900c2994a7fd6fa",
       "style": "IPY_MODEL_dc452b89802e4d66ab5371b81f4bb4a2"
      }
     },
     "3b285e8c99594a9d846cf082b34290f0": {
      "model_module": "@jupyter-widgets/base",
      "model_module_version": "1.1.0",
      "model_name": "LayoutModel",
      "state": {
       "width": "90px"
      }
     },
     "3b2defae62294f9bbd4aaf5e793002c0": {
      "model_module": "@jupyter-widgets/controls",
      "model_module_version": "1.4.0",
      "model_name": "ButtonStyleModel",
      "state": {}
     },
     "3b4c40f6dee64918a393d35056e0c706": {
      "model_module": "@jupyter-widgets/base",
      "model_module_version": "1.1.0",
      "model_name": "LayoutModel",
      "state": {}
     },
     "3b7b8cd8f40f46f7a6af377e08229a20": {
      "model_module": "@jupyter-widgets/base",
      "model_module_version": "1.1.0",
      "model_name": "LayoutModel",
      "state": {}
     },
     "3bcadc2f01354f5ebada7a948f377681": {
      "model_module": "@jupyter-widgets/controls",
      "model_module_version": "1.4.0",
      "model_name": "DescriptionStyleModel",
      "state": {
       "description_width": ""
      }
     },
     "3bf317625e154845b6a9f8e0b72e9040": {
      "model_module": "@jupyter-widgets/base",
      "model_module_version": "1.1.0",
      "model_name": "LayoutModel",
      "state": {}
     },
     "3c6b454038614f7698738e0b9ce8fec4": {
      "model_module": "@jupyter-widgets/base",
      "model_module_version": "1.1.0",
      "model_name": "LayoutModel",
      "state": {}
     },
     "3c7c916361f84919ace94112d0857e8d": {
      "model_module": "@jupyter-widgets/controls",
      "model_module_version": "1.4.0",
      "model_name": "FloatSliderModel",
      "state": {
       "continuous_update": false,
       "description": "$y_d$:",
       "layout": "IPY_MODEL_3e22cf6d526e4976852d76dee6c4afee",
       "max": 10,
       "readout_format": ".1f",
       "step": 0.1,
       "style": "IPY_MODEL_8ef057c6d9fc4db8b615a215a2b5a000",
       "value": 10
      }
     },
     "3ce4a805f8a54027b572fe652407fe63": {
      "model_module": "@jupyter-widgets/controls",
      "model_module_version": "1.4.0",
      "model_name": "DescriptionStyleModel",
      "state": {
       "description_width": ""
      }
     },
     "3d1b0136b7ff46baa784387eceafc392": {
      "model_module": "@jupyter-widgets/controls",
      "model_module_version": "1.4.0",
      "model_name": "DescriptionStyleModel",
      "state": {
       "description_width": ""
      }
     },
     "3d7b33626e8645189c174b708efd6e17": {
      "model_module": "@jupyter-widgets/base",
      "model_module_version": "1.1.0",
      "model_name": "LayoutModel",
      "state": {
       "width": "90px"
      }
     },
     "3d9418f5694c40a68a7dbd749231b227": {
      "model_module": "@jupyter-widgets/controls",
      "model_module_version": "1.4.0",
      "model_name": "HBoxModel",
      "state": {
       "children": [
        "IPY_MODEL_fa779ef2a19142449b6539ff5c0afb2a",
        "IPY_MODEL_d5286389e31f44d0a068455235d65e4f",
        "IPY_MODEL_7ffe130777e247649d8ed2b515a9ca8b",
        "IPY_MODEL_4a70bf95f528481b8ff74c3afd8143cc",
        "IPY_MODEL_7293c820e63d4fa5a06348c87ef770e1",
        "IPY_MODEL_c52b71d3ecdd45499b48a31dc291647b"
       ],
       "layout": "IPY_MODEL_c362d636f1984bdd87b4377f49a3dfad"
      }
     },
     "3dae996603af49d89a680674a3ee2aec": {
      "model_module": "@jupyter-widgets/base",
      "model_module_version": "1.1.0",
      "model_name": "LayoutModel",
      "state": {
       "width": "90px"
      }
     },
     "3de384452e1d48d09b464ccad972e82a": {
      "model_module": "@jupyter-widgets/controls",
      "model_module_version": "1.4.0",
      "model_name": "HBoxModel",
      "state": {
       "children": [
        "IPY_MODEL_481707a8f18e4ad6925355876653507c"
       ],
       "layout": "IPY_MODEL_b96be3625e894b758c148ca1a3566d8e"
      }
     },
     "3e22cf6d526e4976852d76dee6c4afee": {
      "model_module": "@jupyter-widgets/base",
      "model_module_version": "1.1.0",
      "model_name": "LayoutModel",
      "state": {}
     },
     "3e59c5655b3f41d1aaf0f24e30cdd54c": {
      "model_module": "@jupyter-widgets/base",
      "model_module_version": "1.1.0",
      "model_name": "LayoutModel",
      "state": {}
     },
     "3e64d9fd2e1746cea195f645cdd6949d": {
      "model_module": "@jupyter-widgets/controls",
      "model_module_version": "1.4.0",
      "model_name": "HBoxModel",
      "state": {
       "children": [
        "IPY_MODEL_5b85b3143bdd4151baf0b1b98839a627",
        "IPY_MODEL_2093b6224f914effb15b3638f1187eb6",
        "IPY_MODEL_5de9a778360a49198d5e6e1e23bc58d3",
        "IPY_MODEL_87deb80624884ebfa254f62114e25930",
        "IPY_MODEL_2cb9c1ebcf564a40a34b90a63d030464",
        "IPY_MODEL_d7419d00e6774ceb8dbccfc5cf652bfd",
        "IPY_MODEL_1244287ff9b84bed9a68f406b6271d4a",
        "IPY_MODEL_fe452383f5644078905bb160d1205007",
        "IPY_MODEL_bf60fd5a02a84f84b747fdca371c5248",
        "IPY_MODEL_5f6179517cf942c9a57020ef64c975a6",
        "IPY_MODEL_27bf1cd698f244de864097f2c1026f29"
       ],
       "layout": "IPY_MODEL_3f412669281442aaa4b98dd280741c00"
      }
     },
     "3e952182f68c4e9ab7e75f184898c9a2": {
      "model_module": "@jupyter-widgets/controls",
      "model_module_version": "1.4.0",
      "model_name": "DescriptionStyleModel",
      "state": {
       "description_width": ""
      }
     },
     "3f1ae226f21a4f758daa4a0993a2a3de": {
      "model_module": "@jupyter-widgets/controls",
      "model_module_version": "1.4.0",
      "model_name": "HBoxModel",
      "state": {
       "children": [
        "IPY_MODEL_008c5b54603f4375ad913b4e47b37a95",
        "IPY_MODEL_7a2c5d36b676498d86709b794261b2e5",
        "IPY_MODEL_3f8d6e010056475ba09296b2de5793c4",
        "IPY_MODEL_edb98a49aed04ce2b99d3a4898054f4d",
        "IPY_MODEL_aec6d0f1383e406296db3be22810ad9c",
        "IPY_MODEL_9e0c7264530f48d8a6e52208066546ff"
       ],
       "layout": "IPY_MODEL_34022ccc088d4f659df4623873bb8338"
      }
     },
     "3f412669281442aaa4b98dd280741c00": {
      "model_module": "@jupyter-widgets/base",
      "model_module_version": "1.1.0",
      "model_name": "LayoutModel",
      "state": {}
     },
     "3f8d6e010056475ba09296b2de5793c4": {
      "model_module": "@jupyter-widgets/controls",
      "model_module_version": "1.4.0",
      "model_name": "LabelModel",
      "state": {
       "layout": "IPY_MODEL_014b81ae692c4db1abb4de5ebe4c554c",
       "style": "IPY_MODEL_ac8c59c13a5f406eab4c4e5831aab8c5"
      }
     },
     "3fb718490de04afca4411b2acf4987e6": {
      "model_module": "@jupyter-widgets/base",
      "model_module_version": "1.1.0",
      "model_name": "LayoutModel",
      "state": {}
     },
     "3fb90a3282a44bb1b6810e5cba75ebc1": {
      "model_module": "@jupyter-widgets/controls",
      "model_module_version": "1.4.0",
      "model_name": "HBoxModel",
      "state": {
       "children": [
        "IPY_MODEL_0f26c8afca96402aa66b81bc451a3559",
        "IPY_MODEL_cd02878c94fa4261b5a2f0b343ac62bb",
        "IPY_MODEL_29a5ffd39c2f4cfbbb7189829553bcde",
        "IPY_MODEL_ebb77dc0261f4b568809a80141cc5e95",
        "IPY_MODEL_4b259b5b03184b90a070f5f191d66806"
       ],
       "layout": "IPY_MODEL_6a7a36202cba49eb8397c164b18c614b"
      }
     },
     "3fcf20770fa04a8f99220ecff57a919c": {
      "model_module": "@jupyter-widgets/controls",
      "model_module_version": "1.4.0",
      "model_name": "FloatTextModel",
      "state": {
       "layout": "IPY_MODEL_ed2d8c9e95644c48982990fdeaf43bbe",
       "step": null,
       "style": "IPY_MODEL_03aea743d5e74fc58ade7e8bd43412e5",
       "value": 2225
      }
     },
     "3fe63ac60ab64ded984e9abeeff7abf5": {
      "model_module": "@jupyter-widgets/controls",
      "model_module_version": "1.4.0",
      "model_name": "VBoxModel",
      "state": {
       "children": [
        "IPY_MODEL_1205db0490524afe8643ea75eac4d13f",
        "IPY_MODEL_f342b0e683a541f88af64b284dcd2a0f"
       ],
       "layout": "IPY_MODEL_0deef1dc66c5431fa7af43270cd27cbe"
      }
     },
     "3ff22a9f887a4c8fa9623d0ab0ef1724": {
      "model_module": "@jupyter-widgets/controls",
      "model_module_version": "1.4.0",
      "model_name": "DescriptionStyleModel",
      "state": {
       "description_width": ""
      }
     },
     "4022fdb8345a466281cb4fb4e0f5a38e": {
      "model_module": "@jupyter-widgets/controls",
      "model_module_version": "1.4.0",
      "model_name": "LabelModel",
      "state": {
       "layout": "IPY_MODEL_9556274e90b64a4bb51b8e1a2eb0462e",
       "style": "IPY_MODEL_e07f8d2fd0284db8ac22cb54ea409be1"
      }
     },
     "402c9bde36d74803b3e44a1d9d24a7bf": {
      "model_module": "@jupyter-widgets/controls",
      "model_module_version": "1.4.0",
      "model_name": "FloatTextModel",
      "state": {
       "disabled": true,
       "layout": "IPY_MODEL_1c3b4a0e02094103b9696eab44638dc6",
       "step": null,
       "style": "IPY_MODEL_78e89fda875349468498d5f62b2914a0",
       "value": -0.6
      }
     },
     "40791dfb3cc8474eb7d54e2189b6b60c": {
      "model_module": "@jupyter-widgets/base",
      "model_module_version": "1.1.0",
      "model_name": "LayoutModel",
      "state": {
       "width": "90px"
      }
     },
     "409aba40e57f41d5bb4f1379e4152d4e": {
      "model_module": "@jupyter-widgets/base",
      "model_module_version": "1.1.0",
      "model_name": "LayoutModel",
      "state": {}
     },
     "4112fde42af14183bbd1dc0f0588e5c3": {
      "model_module": "@jupyter-widgets/controls",
      "model_module_version": "1.4.0",
      "model_name": "DescriptionStyleModel",
      "state": {
       "description_width": ""
      }
     },
     "4115501ee8ec4fccaf278e05a7084396": {
      "model_module": "@jupyter-widgets/controls",
      "model_module_version": "1.4.0",
      "model_name": "HBoxModel",
      "state": {
       "children": [
        "IPY_MODEL_79f34c11930f44ef87434b7bbc4a62a2"
       ],
       "layout": "IPY_MODEL_25f2ec29d73b41f7a2dc273b04bff9ce"
      }
     },
     "414f93245d2d4a25887f5123fa09bf44": {
      "model_module": "@jupyter-widgets/controls",
      "model_module_version": "1.4.0",
      "model_name": "LabelModel",
      "state": {
       "layout": "IPY_MODEL_bcfa49fa72d34a4ea767dcb731e0630f",
       "style": "IPY_MODEL_cfac6a49ddc04836ab8776cb1d3b44a6",
       "value": "Aa's eigs:"
      }
     },
     "416b8f7b106846d0870026946b4f6b5a": {
      "model_module": "@jupyter-widgets/controls",
      "model_module_version": "1.4.0",
      "model_name": "DropdownModel",
      "state": {
       "_options_labels": [
        "0 complex eigenvalues",
        "2 complex eigenvalues"
       ],
       "description": "Aobs:",
       "disabled": true,
       "index": 0,
       "layout": "IPY_MODEL_77216fe31d084b58b18e146e8a6b8be1",
       "style": "IPY_MODEL_2d7547f1a371409793d7cc2e5f67d729"
      }
     },
     "417d4660c0684d73b14d876b04be9db0": {
      "model_module": "@jupyter-widgets/controls",
      "model_module_version": "1.4.0",
      "model_name": "LabelModel",
      "state": {
       "layout": "IPY_MODEL_5af2b1372db94701816de9d570d6af0d",
       "style": "IPY_MODEL_0c95743624f3406b94fdf24395f109ea",
       "value": "La:"
      }
     },
     "4255965f2e914f35bb60cb680011283c": {
      "model_module": "@jupyter-widgets/controls",
      "model_module_version": "1.4.0",
      "model_name": "DescriptionStyleModel",
      "state": {
       "description_width": ""
      }
     },
     "4270a3ab84d24c2a87739c20e2005d65": {
      "model_module": "@jupyter-widgets/base",
      "model_module_version": "1.1.0",
      "model_name": "LayoutModel",
      "state": {}
     },
     "4278af2ea2454105a0438aceb142c914": {
      "model_module": "@jupyter-widgets/controls",
      "model_module_version": "1.4.0",
      "model_name": "DescriptionStyleModel",
      "state": {
       "description_width": ""
      }
     },
     "427a705fa0bf44fca560fc285307c61f": {
      "model_module": "@jupyter-widgets/controls",
      "model_module_version": "1.4.0",
      "model_name": "LabelModel",
      "state": {
       "layout": "IPY_MODEL_31e2e456b00d48d490d2402eb557ec37",
       "style": "IPY_MODEL_375787cc30e24e26abe571c28c5b73b7"
      }
     },
     "4290b132dc4242809a5d43b88a892c72": {
      "model_module": "@jupyter-widgets/base",
      "model_module_version": "1.1.0",
      "model_name": "LayoutModel",
      "state": {}
     },
     "42984b879b2d416b85cd418d253039ed": {
      "model_module": "@jupyter-widgets/base",
      "model_module_version": "1.1.0",
      "model_name": "LayoutModel",
      "state": {}
     },
     "42a057f2f2d54c2580b4c3ae90d7ce09": {
      "model_module": "@jupyter-widgets/controls",
      "model_module_version": "1.4.0",
      "model_name": "LabelModel",
      "state": {
       "layout": "IPY_MODEL_4b53f46309d04356a1f1b6d49a909ef5",
       "style": "IPY_MODEL_8b87c03ea80e4a8496fef495518e5222"
      }
     },
     "42c5e51edfbf418ea107735f899209ac": {
      "model_module": "@jupyter-widgets/controls",
      "model_module_version": "1.4.0",
      "model_name": "HBoxModel",
      "state": {
       "children": [
        "IPY_MODEL_2b60f2474af2416cb1d242ccc4c6ddb3"
       ],
       "layout": "IPY_MODEL_ca355890e53a4b8bb1d0575dac3c1bfc"
      }
     },
     "43501d55a4fd47a6b16ef8b1b85e7d65": {
      "model_module": "@jupyter-widgets/base",
      "model_module_version": "1.1.0",
      "model_name": "LayoutModel",
      "state": {
       "width": "90px"
      }
     },
     "439dd39502fa4ee18378ac424aae7331": {
      "model_module": "@jupyter-widgets/controls",
      "model_module_version": "1.4.0",
      "model_name": "DescriptionStyleModel",
      "state": {
       "description_width": ""
      }
     },
     "43a0c9eb7bef445fa7bd7a3b3fc8b432": {
      "model_module": "@jupyter-widgets/base",
      "model_module_version": "1.1.0",
      "model_name": "LayoutModel",
      "state": {
       "width": "90px"
      }
     },
     "4490b6a17a204103a401af35e7fb2214": {
      "model_module": "@jupyter-widgets/controls",
      "model_module_version": "1.4.0",
      "model_name": "LabelModel",
      "state": {
       "layout": "IPY_MODEL_395984fd869345c3adad0f2e04cc2f9d",
       "style": "IPY_MODEL_1513832cf7b54c038400c36ff44ca0ef"
      }
     },
     "44ebb6efb3744575a1946cfd67255633": {
      "model_module": "@jupyter-widgets/controls",
      "model_module_version": "1.4.0",
      "model_name": "FloatTextModel",
      "state": {
       "layout": "IPY_MODEL_4cd17dd1a06d4b90ba7d4bbc88627449",
       "step": null,
       "style": "IPY_MODEL_3d1b0136b7ff46baa784387eceafc392"
      }
     },
     "45252723ac28472a970b95e3e6e933d5": {
      "model_module": "@jupyter-widgets/controls",
      "model_module_version": "1.4.0",
      "model_name": "DescriptionStyleModel",
      "state": {
       "description_width": ""
      }
     },
     "45c69bfc454c48e597a023be2fcf2369": {
      "model_module": "@jupyter-widgets/base",
      "model_module_version": "1.1.0",
      "model_name": "LayoutModel",
      "state": {}
     },
     "460300bb7cfb4e759ba669fd07f3b123": {
      "model_module": "@jupyter-widgets/base",
      "model_module_version": "1.1.0",
      "model_name": "LayoutModel",
      "state": {}
     },
     "461957a3da1741a79e15d991cb7034b3": {
      "model_module": "@jupyter-widgets/base",
      "model_module_version": "1.1.0",
      "model_name": "LayoutModel",
      "state": {
       "width": "90px"
      }
     },
     "472fafbcc5de4d8bbdea2c2f162640a3": {
      "model_module": "@jupyter-widgets/controls",
      "model_module_version": "1.4.0",
      "model_name": "LabelModel",
      "state": {
       "layout": "IPY_MODEL_4c9623fc7bca47c2936c988083e1ad51",
       "style": "IPY_MODEL_a35a317a47864a4bbdf20780013db7d8"
      }
     },
     "47598cf9791a4324b5119eb4da288b2f": {
      "model_module": "@jupyter-widgets/controls",
      "model_module_version": "1.4.0",
      "model_name": "DescriptionStyleModel",
      "state": {
       "description_width": ""
      }
     },
     "47aecddedfd64f07a36ec50b49227ec5": {
      "model_module": "@jupyter-widgets/base",
      "model_module_version": "1.1.0",
      "model_name": "LayoutModel",
      "state": {}
     },
     "480976956b5e49b29e0a8fb9ddc1311d": {
      "model_module": "@jupyter-widgets/base",
      "model_module_version": "1.1.0",
      "model_name": "LayoutModel",
      "state": {}
     },
     "481707a8f18e4ad6925355876653507c": {
      "model_module": "@jupyter-widgets/controls",
      "model_module_version": "1.4.0",
      "model_name": "FloatTextModel",
      "state": {
       "layout": "IPY_MODEL_43a0c9eb7bef445fa7bd7a3b3fc8b432",
       "step": null,
       "style": "IPY_MODEL_a428fbacff1a4a828a289047af365d41",
       "value": -10
      }
     },
     "4896fb1125f843749d6859f7cbe31ce0": {
      "model_module": "@jupyter-widgets/base",
      "model_module_version": "1.1.0",
      "model_name": "LayoutModel",
      "state": {}
     },
     "491cd4b112cf45e3aba71d0563e0768d": {
      "model_module": "@jupyter-widgets/base",
      "model_module_version": "1.1.0",
      "model_name": "LayoutModel",
      "state": {}
     },
     "4938fabbd6f84e558cdf38f0d008750d": {
      "model_module": "@jupyter-widgets/controls",
      "model_module_version": "1.4.0",
      "model_name": "FloatTextModel",
      "state": {
       "layout": "IPY_MODEL_cf7241c197e44ea78648dd7ece9cf032",
       "step": null,
       "style": "IPY_MODEL_f8067f8c672e4164a2165c0319b30ee6"
      }
     },
     "49bb0a8604b14c99a08b92915c5fc8d4": {
      "model_module": "@jupyter-widgets/base",
      "model_module_version": "1.1.0",
      "model_name": "LayoutModel",
      "state": {}
     },
     "4a170c180505407b9ea430c1cd492f2c": {
      "model_module": "@jupyter-widgets/base",
      "model_module_version": "1.1.0",
      "model_name": "LayoutModel",
      "state": {
       "width": "90px"
      }
     },
     "4a54fbb8de4440d9b0e3819d4cf15310": {
      "model_module": "@jupyter-widgets/controls",
      "model_module_version": "1.4.0",
      "model_name": "FloatTextModel",
      "state": {
       "layout": "IPY_MODEL_5a0c6b92ed2c43edb23183d8dacce8ff",
       "step": null,
       "style": "IPY_MODEL_1813f2fd50cb46aa9b888f8b5f8af0b2"
      }
     },
     "4a70bf95f528481b8ff74c3afd8143cc": {
      "model_module": "@jupyter-widgets/controls",
      "model_module_version": "1.4.0",
      "model_name": "LabelModel",
      "state": {
       "layout": "IPY_MODEL_64201b9e59164194b1346370c1c83cd4",
       "style": "IPY_MODEL_7bcae1bb58ed4f80aad0ed229811dd6f"
      }
     },
     "4b0f91c2788d4bc5b8ba3927f6b2b871": {
      "model_module": "@jupyter-widgets/controls",
      "model_module_version": "1.4.0",
      "model_name": "DropdownModel",
      "state": {
       "_options_labels": [
        "Set Ka and La",
        "Set the eigenvalues"
       ],
       "index": 0,
       "layout": "IPY_MODEL_13b8b4e1c72d4263a37e6d0db2857f38",
       "style": "IPY_MODEL_1499b17a4da64101a9270bd56fcd4356"
      }
     },
     "4b259b5b03184b90a070f5f191d66806": {
      "model_module": "@jupyter-widgets/controls",
      "model_module_version": "1.4.0",
      "model_name": "ButtonModel",
      "state": {
       "description": "Test",
       "icon": "check",
       "layout": "IPY_MODEL_fe99c96f7d5a47c689cfa08b35724327",
       "style": "IPY_MODEL_4cbc98ef5e9744df9a5215ea6d5c5a92",
       "tooltip": "Test"
      }
     },
     "4b53f46309d04356a1f1b6d49a909ef5": {
      "model_module": "@jupyter-widgets/base",
      "model_module_version": "1.1.0",
      "model_name": "LayoutModel",
      "state": {}
     },
     "4b6ed1f5b4e8433a9a93b2f387086660": {
      "model_module": "@jupyter-widgets/controls",
      "model_module_version": "1.4.0",
      "model_name": "HBoxModel",
      "state": {
       "children": [
        "IPY_MODEL_9d2107f7a8294bb5a1e31ad3096c399e",
        "IPY_MODEL_826635bf7c224e2fa9e2222e72dbf5a4",
        "IPY_MODEL_4def2e9f87e44960a0c9ad77a3d7dd0f"
       ],
       "layout": "IPY_MODEL_ff23ed97b5014a51ac0d66101e37cbb1"
      }
     },
     "4b7fe40ee3a5498084895bbb1dede424": {
      "model_module": "@jupyter-widgets/base",
      "model_module_version": "1.1.0",
      "model_name": "LayoutModel",
      "state": {
       "width": "90px"
      }
     },
     "4bdfb3011517401eace9dacb974b719c": {
      "model_module": "@jupyter-widgets/controls",
      "model_module_version": "1.4.0",
      "model_name": "DescriptionStyleModel",
      "state": {
       "description_width": ""
      }
     },
     "4c2c1962f1e24a4ead7d36ae79cc2236": {
      "model_module": "@jupyter-widgets/controls",
      "model_module_version": "1.4.0",
      "model_name": "DescriptionStyleModel",
      "state": {
       "description_width": ""
      }
     },
     "4c44c42077ed435898d338ddb0ba0436": {
      "model_module": "@jupyter-widgets/controls",
      "model_module_version": "1.4.0",
      "model_name": "DescriptionStyleModel",
      "state": {
       "description_width": ""
      }
     },
     "4c4a53b62fd44b28b1cce41d159b39bf": {
      "model_module": "@jupyter-widgets/base",
      "model_module_version": "1.1.0",
      "model_name": "LayoutModel",
      "state": {}
     },
     "4c88f970164e400a9fdb30163e7153f1": {
      "model_module": "@jupyter-widgets/controls",
      "model_module_version": "1.4.0",
      "model_name": "DescriptionStyleModel",
      "state": {
       "description_width": ""
      }
     },
     "4c8e37c41a2d416a8c037d763d6ba024": {
      "model_module": "@jupyter-widgets/controls",
      "model_module_version": "1.4.0",
      "model_name": "VBoxModel",
      "state": {
       "children": [
        "IPY_MODEL_ee6a33ca9388418faed0c5e29b4b9ad3"
       ],
       "layout": "IPY_MODEL_01bcc377646640c7a87abaf47a341335"
      }
     },
     "4c9623fc7bca47c2936c988083e1ad51": {
      "model_module": "@jupyter-widgets/base",
      "model_module_version": "1.1.0",
      "model_name": "LayoutModel",
      "state": {}
     },
     "4cb46cd0fbe245c188dd480c40e5a1d1": {
      "model_module": "@jupyter-widgets/base",
      "model_module_version": "1.1.0",
      "model_name": "LayoutModel",
      "state": {}
     },
     "4cbc98ef5e9744df9a5215ea6d5c5a92": {
      "model_module": "@jupyter-widgets/controls",
      "model_module_version": "1.4.0",
      "model_name": "ButtonStyleModel",
      "state": {}
     },
     "4cd17dd1a06d4b90ba7d4bbc88627449": {
      "model_module": "@jupyter-widgets/base",
      "model_module_version": "1.1.0",
      "model_name": "LayoutModel",
      "state": {
       "height": "0px",
       "width": "0px"
      }
     },
     "4d2f31be201045a6af6ff6ed5f2d6c7d": {
      "model_module": "@jupyter-widgets/controls",
      "model_module_version": "1.4.0",
      "model_name": "VBoxModel",
      "state": {
       "children": [
        "IPY_MODEL_d29d0b24a5734139942bdffc549f83e2",
        "IPY_MODEL_f86a60dda4fc42509dc33d6808857b59"
       ],
       "layout": "IPY_MODEL_bd94108b305f407c92c6883909612aa9"
      }
     },
     "4d59d06b755e49e1ac0c6d996a44da1e": {
      "model_module": "@jupyter-widgets/base",
      "model_module_version": "1.1.0",
      "model_name": "LayoutModel",
      "state": {}
     },
     "4ddaa11b8783416d8518d303745b09a7": {
      "model_module": "@jupyter-widgets/controls",
      "model_module_version": "1.4.0",
      "model_name": "LabelModel",
      "state": {
       "layout": "IPY_MODEL_9adf73266e5b41fca5ffa68f3c06d757",
       "style": "IPY_MODEL_8cd3e95c3acf4bdab4dfdc7205fe8fde"
      }
     },
     "4def2e9f87e44960a0c9ad77a3d7dd0f": {
      "model_module": "@jupyter-widgets/controls",
      "model_module_version": "1.4.0",
      "model_name": "DropdownModel",
      "state": {
       "_options_labels": [
        "0 complex eigenvalues",
        "2 complex eigenvalues"
       ],
       "description": "Aobs:",
       "disabled": true,
       "index": 0,
       "layout": "IPY_MODEL_a3e62160c9b54b1d8127e609d6602571",
       "style": "IPY_MODEL_cf52400e360c4a298036c4d771b8ae29"
      }
     },
     "4e069a3035154c4d8c0a47e5fe1f3b9b": {
      "model_module": "@jupyter-widgets/base",
      "model_module_version": "1.1.0",
      "model_name": "LayoutModel",
      "state": {}
     },
     "4e55b368a6894071936164175298b092": {
      "model_module": "@jupyter-widgets/base",
      "model_module_version": "1.1.0",
      "model_name": "LayoutModel",
      "state": {}
     },
     "4e67dcb5f4e6455f952604f8193dbae0": {
      "model_module": "@jupyter-widgets/base",
      "model_module_version": "1.1.0",
      "model_name": "LayoutModel",
      "state": {}
     },
     "4e79a7019f0e46f1b434fef2c9d752a4": {
      "model_module": "@jupyter-widgets/base",
      "model_module_version": "1.1.0",
      "model_name": "LayoutModel",
      "state": {
       "width": "90px"
      }
     },
     "4ec30f2860a74ef0a6f495243611dd88": {
      "model_module": "@jupyter-widgets/base",
      "model_module_version": "1.1.0",
      "model_name": "LayoutModel",
      "state": {}
     },
     "4ef500d8895b4bd3a5e040da5cad74a7": {
      "model_module": "@jupyter-widgets/controls",
      "model_module_version": "1.4.0",
      "model_name": "DescriptionStyleModel",
      "state": {
       "description_width": ""
      }
     },
     "4efaeb6c9bf841bfaef134c3c3b36e90": {
      "model_module": "@jupyter-widgets/base",
      "model_module_version": "1.1.0",
      "model_name": "LayoutModel",
      "state": {}
     },
     "4f1921a9f6484511a8d14907d72e0e23": {
      "model_module": "@jupyter-widgets/base",
      "model_module_version": "1.1.0",
      "model_name": "LayoutModel",
      "state": {}
     },
     "4f37e4abf7044e669b4f94075743f4dc": {
      "model_module": "@jupyter-widgets/controls",
      "model_module_version": "1.4.0",
      "model_name": "LabelModel",
      "state": {
       "layout": "IPY_MODEL_f9982efc85a34595ba056a20e5f29111",
       "style": "IPY_MODEL_cb3ccf44448e4da3abbc0bb88947e975"
      }
     },
     "4f760a5b774c4487878113061d5224d7": {
      "model_module": "@jupyter-widgets/base",
      "model_module_version": "1.1.0",
      "model_name": "LayoutModel",
      "state": {}
     },
     "4fb69747e2b94cc39379030795002c6b": {
      "model_module": "@jupyter-widgets/controls",
      "model_module_version": "1.4.0",
      "model_name": "DropdownModel",
      "state": {
       "_options_labels": [
        "Set Ka and La",
        "Set the eigenvalues"
       ],
       "index": 0,
       "layout": "IPY_MODEL_ada0e8828ac343df9e9760d6df6d9714",
       "style": "IPY_MODEL_c3862d402b5e4ae38fd7d2f0b2414ef0"
      }
     },
     "50979c39461b47e8bc2fd3cbcdd20729": {
      "model_module": "@jupyter-widgets/base",
      "model_module_version": "1.1.0",
      "model_name": "LayoutModel",
      "state": {}
     },
     "50b250cd0c344a809899fa9c03f47e6c": {
      "model_module": "@jupyter-widgets/base",
      "model_module_version": "1.1.0",
      "model_name": "LayoutModel",
      "state": {}
     },
     "50da8e9b3fe449d8bd0f82c813a0d190": {
      "model_module": "@jupyter-widgets/controls",
      "model_module_version": "1.4.0",
      "model_name": "HBoxModel",
      "state": {
       "children": [
        "IPY_MODEL_dd34ed0f11bf4739983f6875ef0c9382",
        "IPY_MODEL_6d68637432684016b0727f506afe0df5",
        "IPY_MODEL_f01b454caf0243f89fac5809d26d4cf2",
        "IPY_MODEL_3fe63ac60ab64ded984e9abeeff7abf5",
        "IPY_MODEL_317ee220faa84115bad387393653c51c",
        "IPY_MODEL_587e0f7d832d4ecc866fb0f39ea9d990",
        "IPY_MODEL_6f5919fe2a494d8092c2b109d3cb8dff",
        "IPY_MODEL_8011100f6a6b4ddc9ecbb972b727eaf7",
        "IPY_MODEL_b2d05cd7284844c9a283bfeaa163772d",
        "IPY_MODEL_a3c2a24a94aa456cbd6779a86c1f06ad",
        "IPY_MODEL_25be128dd26d4cd298247bbbc5bbe06a"
       ],
       "layout": "IPY_MODEL_dbb050e8d85846bf845411834a32a4c5"
      }
     },
     "5110c78f84674366b27efb186b131882": {
      "model_module": "@jupyter-widgets/controls",
      "model_module_version": "1.4.0",
      "model_name": "DescriptionStyleModel",
      "state": {
       "description_width": ""
      }
     },
     "518df1a391454a7b9ae94325ff2cd3b0": {
      "model_module": "@jupyter-widgets/base",
      "model_module_version": "1.1.0",
      "model_name": "LayoutModel",
      "state": {}
     },
     "51c5d8276bd747b39c3117b7fe0d1529": {
      "model_module": "@jupyter-widgets/base",
      "model_module_version": "1.1.0",
      "model_name": "LayoutModel",
      "state": {}
     },
     "5232c359d050473bbaf3e0e85f18eeb0": {
      "model_module": "@jupyter-widgets/controls",
      "model_module_version": "1.4.0",
      "model_name": "DescriptionStyleModel",
      "state": {
       "description_width": ""
      }
     },
     "5241a01ecea844bb9b680efbd89455ae": {
      "model_module": "@jupyter-widgets/controls",
      "model_module_version": "1.4.0",
      "model_name": "VBoxModel",
      "state": {
       "children": [
        "IPY_MODEL_f3e6fb5eb49042e08cb1f9909bc388ea",
        "IPY_MODEL_168bc40c3b9245fb833055cc8b0cf9d8",
        "IPY_MODEL_fa694349488843568882bce05ddefe64",
        "IPY_MODEL_543a7c0c9f434b2da64bf57122e7c4b5",
        "IPY_MODEL_ac58d08f3ce54afa8fe5fd6c045ae5af",
        "IPY_MODEL_94d262c9132f4dee8a1ebacba7959d25",
        "IPY_MODEL_5497c799c8b04c7bb967ac6f9b66af23"
       ],
       "layout": "IPY_MODEL_3a78eccc26a74ba981dce7448a66b11a"
      }
     },
     "524e523ee79e43c987c381c69c9afe85": {
      "model_module": "@jupyter-widgets/controls",
      "model_module_version": "1.4.0",
      "model_name": "DescriptionStyleModel",
      "state": {
       "description_width": ""
      }
     },
     "52536282f3184f26aed9ccb231e684c9": {
      "model_module": "@jupyter-widgets/base",
      "model_module_version": "1.1.0",
      "model_name": "LayoutModel",
      "state": {}
     },
     "526b7fddb1074a07a22a2925248f71e7": {
      "model_module": "@jupyter-widgets/controls",
      "model_module_version": "1.4.0",
      "model_name": "FloatTextModel",
      "state": {
       "layout": "IPY_MODEL_e6f9740ecb9c4b1e890dc2e32b0d34a7",
       "step": null,
       "style": "IPY_MODEL_0887c7cb985246f0bd413b295949e2d4"
      }
     },
     "52acf9658bbb43a0bb470d183fef21f7": {
      "model_module": "@jupyter-widgets/base",
      "model_module_version": "1.1.0",
      "model_name": "LayoutModel",
      "state": {}
     },
     "52d2c84751bb4e7cba68bcd9a091bba1": {
      "model_module": "@jupyter-widgets/base",
      "model_module_version": "1.1.0",
      "model_name": "LayoutModel",
      "state": {}
     },
     "5393a1ec3e0d47feb72f398a7cfa584e": {
      "model_module": "@jupyter-widgets/controls",
      "model_module_version": "1.4.0",
      "model_name": "ButtonModel",
      "state": {
       "description": "Test",
       "icon": "check",
       "layout": "IPY_MODEL_0dc42ed578324e9698fd4ff6083ef49b",
       "style": "IPY_MODEL_f9efcf465553492696c39a2edafe44fc",
       "tooltip": "Test"
      }
     },
     "53d173abcf8b4242ab7d38a319621de6": {
      "model_module": "@jupyter-widgets/base",
      "model_module_version": "1.1.0",
      "model_name": "LayoutModel",
      "state": {}
     },
     "5433f855b1e144bd9f99ee35a93dddd2": {
      "model_module": "@jupyter-widgets/controls",
      "model_module_version": "1.4.0",
      "model_name": "LabelModel",
      "state": {
       "layout": "IPY_MODEL_c6c48010219b4fb3bd1099d57920ba98",
       "style": "IPY_MODEL_690061d224354464bbf9acac7d551e8b",
       "value": "La:"
      }
     },
     "543a7c0c9f434b2da64bf57122e7c4b5": {
      "model_module": "@jupyter-widgets/controls",
      "model_module_version": "1.4.0",
      "model_name": "LabelModel",
      "state": {
       "layout": "IPY_MODEL_8d93505090b24b7392dd19fdafe1ebb7",
       "style": "IPY_MODEL_967ea0cea3b44232b483737bad238961"
      }
     },
     "5480124c50004a86b7b7cb590e0ac139": {
      "model_module": "@jupyter-widgets/base",
      "model_module_version": "1.1.0",
      "model_name": "LayoutModel",
      "state": {}
     },
     "5497c799c8b04c7bb967ac6f9b66af23": {
      "model_module": "@jupyter-widgets/controls",
      "model_module_version": "1.4.0",
      "model_name": "HBoxModel",
      "state": {
       "children": [
        "IPY_MODEL_0f26c8afca96402aa66b81bc451a3559",
        "IPY_MODEL_ab5d1f7943974b4ea254b5b26a1c85d8",
        "IPY_MODEL_072696cc4bea46d4b484be7695a09054",
        "IPY_MODEL_a9c2a999751c47b590d4150abf7bbb56",
        "IPY_MODEL_644ddd72b7234e6c90b95fcc50538cd5"
       ],
       "layout": "IPY_MODEL_ef440a7110ee47b08f272167ab804708"
      }
     },
     "54a95624e0a04f319da0e5b1221e8e55": {
      "model_module": "@jupyter-widgets/controls",
      "model_module_version": "1.4.0",
      "model_name": "DescriptionStyleModel",
      "state": {
       "description_width": ""
      }
     },
     "54be1d26068e4711a23c153183b65073": {
      "model_module": "@jupyter-widgets/controls",
      "model_module_version": "1.4.0",
      "model_name": "DescriptionStyleModel",
      "state": {
       "description_width": ""
      }
     },
     "554aed59f6334683b982c0431b17c297": {
      "model_module": "@jupyter-widgets/controls",
      "model_module_version": "1.4.0",
      "model_name": "FloatTextModel",
      "state": {
       "layout": "IPY_MODEL_5c1a1250913f409c967bf3e7477a6c22",
       "step": null,
       "style": "IPY_MODEL_1847186fe1ec42328cf7cbcf68a6b4db"
      }
     },
     "5555dc11b3b349c3afd005027d05a68b": {
      "model_module": "@jupyter-widgets/controls",
      "model_module_version": "1.4.0",
      "model_name": "LabelModel",
      "state": {
       "layout": "IPY_MODEL_d636b43c569f4fd99bb74ab2d8a9ca71",
       "style": "IPY_MODEL_3ce4a805f8a54027b572fe652407fe63"
      }
     },
     "555f1c8fd1be494ba25714e40361ee35": {
      "model_module": "@jupyter-widgets/controls",
      "model_module_version": "1.4.0",
      "model_name": "LabelModel",
      "state": {
       "layout": "IPY_MODEL_09c1c777399449b3a0a0b485453ab341",
       "style": "IPY_MODEL_febb6c29d5cb4d519b06da40a32c101c"
      }
     },
     "565da34ae18a4fc786b756dafbc04788": {
      "model_module": "@jupyter-widgets/controls",
      "model_module_version": "1.4.0",
      "model_name": "DescriptionStyleModel",
      "state": {
       "description_width": ""
      }
     },
     "56d0ad94a1ab41bf9b1226b301dc34c5": {
      "model_module": "@jupyter-widgets/controls",
      "model_module_version": "1.4.0",
      "model_name": "DescriptionStyleModel",
      "state": {
       "description_width": ""
      }
     },
     "5726c2125b484b7b9f531b64aad3748a": {
      "model_module": "@jupyter-widgets/base",
      "model_module_version": "1.1.0",
      "model_name": "LayoutModel",
      "state": {
       "width": "90px"
      }
     },
     "577aaa8c389e41888c3f64239f36e562": {
      "model_module": "@jupyter-widgets/controls",
      "model_module_version": "1.4.0",
      "model_name": "HBoxModel",
      "state": {
       "children": [
        "IPY_MODEL_6011560492ab4e37a4c7bf6ef2fe9c23",
        "IPY_MODEL_7f7d8c159bdc42c3aeffdc050655131b",
        "IPY_MODEL_9f2b0ec4d4034ae3ad81a74617b85dd9"
       ],
       "layout": "IPY_MODEL_c1df267ba8884d4089f041f8885d57a9"
      }
     },
     "57f647ac81c04c9e8d05a298607c024c": {
      "model_module": "@jupyter-widgets/controls",
      "model_module_version": "1.4.0",
      "model_name": "LabelModel",
      "state": {
       "layout": "IPY_MODEL_c83210e37cf143c6a1e10c38173aaf36",
       "style": "IPY_MODEL_2b099bf547704ef4a5d5b71337dae026"
      }
     },
     "580f187efa7642398bec0a2ae1ea2954": {
      "model_module": "@jupyter-widgets/base",
      "model_module_version": "1.1.0",
      "model_name": "LayoutModel",
      "state": {
       "width": "90px"
      }
     },
     "587e0f7d832d4ecc866fb0f39ea9d990": {
      "model_module": "@jupyter-widgets/controls",
      "model_module_version": "1.4.0",
      "model_name": "VBoxModel",
      "state": {
       "children": [
        "IPY_MODEL_a5628dd710ed40f0836562eea9957797"
       ],
       "layout": "IPY_MODEL_d602a0f11576447b8ef3d438d93728df"
      }
     },
     "58a2970073704e67a4a30380a7830767": {
      "model_module": "@jupyter-widgets/base",
      "model_module_version": "1.1.0",
      "model_name": "LayoutModel",
      "state": {}
     },
     "58dabb22e34a44d890df2e51d5b9a651": {
      "model_module": "@jupyter-widgets/controls",
      "model_module_version": "1.4.0",
      "model_name": "LabelModel",
      "state": {
       "layout": "IPY_MODEL_865c7e9a6659400080d4e6b55eadd65c",
       "style": "IPY_MODEL_21959bf2c265467dbf5cac2aaf1816e0"
      }
     },
     "59ebaba388dc4577ada44ad233f34d00": {
      "model_module": "@jupyter-widgets/base",
      "model_module_version": "1.1.0",
      "model_name": "LayoutModel",
      "state": {}
     },
     "59ec2c46649641599ebed481a8758b4f": {
      "model_module": "@jupyter-widgets/controls",
      "model_module_version": "1.4.0",
      "model_name": "LabelModel",
      "state": {
       "layout": "IPY_MODEL_1df123d7b60c4f70bfaa95a3a98028b2",
       "style": "IPY_MODEL_996a0fc2c31d488089176d41d8206f99"
      }
     },
     "59fa07d6295e403fb187b29b6a589349": {
      "model_module": "@jupyter-widgets/controls",
      "model_module_version": "1.4.0",
      "model_name": "DescriptionStyleModel",
      "state": {
       "description_width": ""
      }
     },
     "5a0c6b92ed2c43edb23183d8dacce8ff": {
      "model_module": "@jupyter-widgets/base",
      "model_module_version": "1.1.0",
      "model_name": "LayoutModel",
      "state": {
       "height": "0px",
       "width": "0px"
      }
     },
     "5a490e92a1344cf0abc18bf0425bbb92": {
      "model_module": "@jupyter-widgets/controls",
      "model_module_version": "1.4.0",
      "model_name": "DescriptionStyleModel",
      "state": {
       "description_width": ""
      }
     },
     "5a867080f23547f5ba9fce9c078589d9": {
      "model_module": "@jupyter-widgets/controls",
      "model_module_version": "1.4.0",
      "model_name": "DescriptionStyleModel",
      "state": {
       "description_width": ""
      }
     },
     "5af2b1372db94701816de9d570d6af0d": {
      "model_module": "@jupyter-widgets/base",
      "model_module_version": "1.1.0",
      "model_name": "LayoutModel",
      "state": {}
     },
     "5b2fc3f1aef246b3b6b674a954b252c7": {
      "model_module": "@jupyter-widgets/controls",
      "model_module_version": "1.4.0",
      "model_name": "ButtonStyleModel",
      "state": {}
     },
     "5b395b3d7f904213b837ead1c36a16d9": {
      "model_module": "@jupyter-widgets/controls",
      "model_module_version": "1.4.0",
      "model_name": "DropdownModel",
      "state": {
       "_options_labels": [
        "0 complex eigenvalues",
        "2 complex eigenvalues"
       ],
       "description": "Aobs:",
       "disabled": true,
       "index": 0,
       "layout": "IPY_MODEL_4e67dcb5f4e6455f952604f8193dbae0",
       "style": "IPY_MODEL_7ee747b400ad462e8ac9835d6e19339a"
      }
     },
     "5b85b3143bdd4151baf0b1b98839a627": {
      "model_module": "@jupyter-widgets/controls",
      "model_module_version": "1.4.0",
      "model_name": "LabelModel",
      "state": {
       "layout": "IPY_MODEL_4efaeb6c9bf841bfaef134c3c3b36e90",
       "style": "IPY_MODEL_17cebb2684274838bfed4999e9fbd809",
       "value": "Aa's eigs:"
      }
     },
     "5bb3813b66d04d2e8d925c77a06ea469": {
      "model_module": "@jupyter-widgets/base",
      "model_module_version": "1.1.0",
      "model_name": "LayoutModel",
      "state": {}
     },
     "5c1a1250913f409c967bf3e7477a6c22": {
      "model_module": "@jupyter-widgets/base",
      "model_module_version": "1.1.0",
      "model_name": "LayoutModel",
      "state": {
       "width": "90px"
      }
     },
     "5c81d6ad649d4942907fecd01757d79a": {
      "model_module": "@jupyter-widgets/controls",
      "model_module_version": "1.4.0",
      "model_name": "LabelModel",
      "state": {
       "layout": "IPY_MODEL_6f3325c696374e7ba2fefe95a423c990",
       "style": "IPY_MODEL_c422d11f60d5455bae304a583648d393"
      }
     },
     "5ca9d6cfbf1e4f5a95615e0dba52d25b": {
      "model_module": "@jupyter-widgets/controls",
      "model_module_version": "1.4.0",
      "model_name": "FloatTextModel",
      "state": {
       "layout": "IPY_MODEL_fe865e4851b4495a95e3dc2cc31cfaa9",
       "step": null,
       "style": "IPY_MODEL_5e00d94431b1401bba0ff47010421a7a",
       "value": 13861
      }
     },
     "5cf0c5c499384c6f96f84a0eae53b53c": {
      "model_module": "@jupyter-widgets/base",
      "model_module_version": "1.1.0",
      "model_name": "LayoutModel",
      "state": {
       "width": "90px"
      }
     },
     "5d2586944fee45ffa773e7d3ad5c2d02": {
      "model_module": "@jupyter-widgets/controls",
      "model_module_version": "1.4.0",
      "model_name": "LabelModel",
      "state": {
       "layout": "IPY_MODEL_f9e272cddc0d46a8b29b88bc2031a7b6",
       "style": "IPY_MODEL_0e00eb2261824321ba3db263816e459b"
      }
     },
     "5d4ef33cadc94f08ace19b791efefc1e": {
      "model_module": "@jupyter-widgets/base",
      "model_module_version": "1.1.0",
      "model_name": "LayoutModel",
      "state": {}
     },
     "5d6ef847aa5b48c8a1d6f71e115505d6": {
      "model_module": "@jupyter-widgets/base",
      "model_module_version": "1.1.0",
      "model_name": "LayoutModel",
      "state": {}
     },
     "5de9a778360a49198d5e6e1e23bc58d3": {
      "model_module": "@jupyter-widgets/controls",
      "model_module_version": "1.4.0",
      "model_name": "VBoxModel",
      "state": {
       "children": [
        "IPY_MODEL_7de4c30003744cce8d20d24d1bf5bb23",
        "IPY_MODEL_882808f04e1648329b3ae5a769379755"
       ],
       "layout": "IPY_MODEL_22d7fc6100c34ec68f93bd5a4fa77bce"
      }
     },
     "5e00d94431b1401bba0ff47010421a7a": {
      "model_module": "@jupyter-widgets/controls",
      "model_module_version": "1.4.0",
      "model_name": "DescriptionStyleModel",
      "state": {
       "description_width": ""
      }
     },
     "5e19f43ea55f42219de81bad36116894": {
      "model_module": "@jupyter-widgets/controls",
      "model_module_version": "1.4.0",
      "model_name": "DescriptionStyleModel",
      "state": {
       "description_width": ""
      }
     },
     "5e5ca3c81ee24215909e7e2b23040bdd": {
      "model_module": "@jupyter-widgets/base",
      "model_module_version": "1.1.0",
      "model_name": "LayoutModel",
      "state": {}
     },
     "5e837cafb6a844dd926b00ccdd43440d": {
      "model_module": "@jupyter-widgets/base",
      "model_module_version": "1.1.0",
      "model_name": "LayoutModel",
      "state": {}
     },
     "5e9531f6af9b44a5acb5ee578ef622a0": {
      "model_module": "@jupyter-widgets/controls",
      "model_module_version": "1.4.0",
      "model_name": "DescriptionStyleModel",
      "state": {
       "description_width": ""
      }
     },
     "5e97027777614640b556526766aab474": {
      "model_module": "@jupyter-widgets/controls",
      "model_module_version": "1.4.0",
      "model_name": "DescriptionStyleModel",
      "state": {
       "description_width": ""
      }
     },
     "5f4fd9d6e5fc4790959289c680e862cf": {
      "model_module": "@jupyter-widgets/controls",
      "model_module_version": "1.4.0",
      "model_name": "LabelModel",
      "state": {
       "layout": "IPY_MODEL_3233aafe18be46e7a62f972550b668ba",
       "style": "IPY_MODEL_cb9817ceda68404cbe65210d6c0e84ad",
       "value": "Aa's eigs:"
      }
     },
     "5f6179517cf942c9a57020ef64c975a6": {
      "model_module": "@jupyter-widgets/controls",
      "model_module_version": "1.4.0",
      "model_name": "VBoxModel",
      "state": {
       "children": [
        "IPY_MODEL_0a176961dc994c7d85ace2bb0be6e5fc"
       ],
       "layout": "IPY_MODEL_2f9198fbd0b341cf8d4432260b3fa514"
      }
     },
     "5fd329d9eb304ad5a6bce400ae2719bd": {
      "model_module": "@jupyter-widgets/base",
      "model_module_version": "1.1.0",
      "model_name": "LayoutModel",
      "state": {}
     },
     "6011560492ab4e37a4c7bf6ef2fe9c23": {
      "model_module": "@jupyter-widgets/controls",
      "model_module_version": "1.4.0",
      "model_name": "FloatTextModel",
      "state": {
       "layout": "IPY_MODEL_caa6f261eca948c6b258eef4da69c2e3",
       "step": null,
       "style": "IPY_MODEL_565da34ae18a4fc786b756dafbc04788"
      }
     },
     "602f92a285884868bacf7120c085d472": {
      "model_module": "@jupyter-widgets/controls",
      "model_module_version": "1.4.0",
      "model_name": "DescriptionStyleModel",
      "state": {
       "description_width": ""
      }
     },
     "60b41869c40d4bd39090be64275ae341": {
      "model_module": "@jupyter-widgets/base",
      "model_module_version": "1.1.0",
      "model_name": "LayoutModel",
      "state": {}
     },
     "60cdc74037934e1eb900c2994a7fd6fa": {
      "model_module": "@jupyter-widgets/base",
      "model_module_version": "1.1.0",
      "model_name": "LayoutModel",
      "state": {}
     },
     "6157e5ac18a04380bfcdf3e5360c1f10": {
      "model_module": "@jupyter-widgets/controls",
      "model_module_version": "1.4.0",
      "model_name": "FloatTextModel",
      "state": {
       "disabled": true,
       "layout": "IPY_MODEL_4e79a7019f0e46f1b434fef2c9d752a4",
       "step": null,
       "style": "IPY_MODEL_74043b22bf0a41998bb66498b4bef156",
       "value": -0.6
      }
     },
     "61c6a8a15add4ded9fd4e987a755ab38": {
      "model_module": "@jupyter-widgets/controls",
      "model_module_version": "1.4.0",
      "model_name": "HBoxModel",
      "state": {
       "children": [
        "IPY_MODEL_4b0f91c2788d4bc5b8ba3927f6b2b871",
        "IPY_MODEL_9c5f455366254c98bcb2a632ba62746f",
        "IPY_MODEL_99e3340dccac4f1a9ed489a4bb4d53b8"
       ],
       "layout": "IPY_MODEL_7a5bb58e5cf945d5883300d227b2e802"
      }
     },
     "628ee5ba78994b169e2e9670c25e3f71": {
      "model_module": "@jupyter-widgets/controls",
      "model_module_version": "1.4.0",
      "model_name": "DescriptionStyleModel",
      "state": {
       "description_width": ""
      }
     },
     "62d546d4642b403fb7e1f9e62e818f03": {
      "model_module": "@jupyter-widgets/base",
      "model_module_version": "1.1.0",
      "model_name": "LayoutModel",
      "state": {}
     },
     "62df66a2062b4fb6b65a3ec5bd498614": {
      "model_module": "@jupyter-widgets/base",
      "model_module_version": "1.1.0",
      "model_name": "LayoutModel",
      "state": {
       "width": "90px"
      }
     },
     "6313022924144436af1f7f4cd8e9779c": {
      "model_module": "@jupyter-widgets/controls",
      "model_module_version": "1.4.0",
      "model_name": "FloatTextModel",
      "state": {
       "layout": "IPY_MODEL_3b285e8c99594a9d846cf082b34290f0",
       "step": null,
       "style": "IPY_MODEL_e4959a4ff1d6428da5531fb2bf42b5eb",
       "value": -10
      }
     },
     "63256349f2f3454c8059f5412b0862a7": {
      "model_module": "@jupyter-widgets/base",
      "model_module_version": "1.1.0",
      "model_name": "LayoutModel",
      "state": {}
     },
     "637824522a5343b0944c5428ef57aa0e": {
      "model_module": "@jupyter-widgets/base",
      "model_module_version": "1.1.0",
      "model_name": "LayoutModel",
      "state": {}
     },
     "6379b256d4304329ae701b41c39b671f": {
      "model_module": "@jupyter-widgets/controls",
      "model_module_version": "1.4.0",
      "model_name": "LabelModel",
      "state": {
       "layout": "IPY_MODEL_00bcf6e5f88d4478b2238275ce14a469",
       "style": "IPY_MODEL_67c65455a284481fb5d3debce14b1bda"
      }
     },
     "63bd776089dc4508bd21c8789ad803bb": {
      "model_module": "@jupyter-widgets/controls",
      "model_module_version": "1.4.0",
      "model_name": "DescriptionStyleModel",
      "state": {
       "description_width": ""
      }
     },
     "63f8d3b2a0994c6a87843ac859f6b4cf": {
      "model_module": "@jupyter-widgets/controls",
      "model_module_version": "1.4.0",
      "model_name": "DropdownModel",
      "state": {
       "_options_labels": [
        "Set Ka and La",
        "Set the eigenvalues"
       ],
       "index": 0,
       "layout": "IPY_MODEL_a4d1a29d08444259bc6ac049b78ec661",
       "style": "IPY_MODEL_8049641b56e14f94a6cdc101f458c699"
      }
     },
     "64201b9e59164194b1346370c1c83cd4": {
      "model_module": "@jupyter-widgets/base",
      "model_module_version": "1.1.0",
      "model_name": "LayoutModel",
      "state": {}
     },
     "644ddd72b7234e6c90b95fcc50538cd5": {
      "model_module": "@jupyter-widgets/controls",
      "model_module_version": "1.4.0",
      "model_name": "ButtonModel",
      "state": {
       "description": "Test",
       "icon": "check",
       "layout": "IPY_MODEL_37ecefc90ca24246a5e1f966458ec837",
       "style": "IPY_MODEL_5b2fc3f1aef246b3b6b674a954b252c7",
       "tooltip": "Test"
      }
     },
     "652517d930ef4076ae1a91b0e2a3be6c": {
      "model_module": "@jupyter-widgets/controls",
      "model_module_version": "1.4.0",
      "model_name": "DescriptionStyleModel",
      "state": {
       "description_width": ""
      }
     },
     "65deab75d13c4bf1bef36f3c38182f6b": {
      "model_module": "@jupyter-widgets/controls",
      "model_module_version": "1.4.0",
      "model_name": "DescriptionStyleModel",
      "state": {
       "description_width": ""
      }
     },
     "6672827f1251434cafa61ba9bb202373": {
      "model_module": "@jupyter-widgets/base",
      "model_module_version": "1.1.0",
      "model_name": "LayoutModel",
      "state": {}
     },
     "668d43e659984f9c83d702a230efee49": {
      "model_module": "@jupyter-widgets/base",
      "model_module_version": "1.1.0",
      "model_name": "LayoutModel",
      "state": {
       "width": "90px"
      }
     },
     "66b0c1e2ed6d42b4934c79d6d7cb6bc6": {
      "model_module": "@jupyter-widgets/controls",
      "model_module_version": "1.4.0",
      "model_name": "DescriptionStyleModel",
      "state": {
       "description_width": ""
      }
     },
     "678800f9d35b4543892ff9d4b8c3009b": {
      "model_module": "@jupyter-widgets/controls",
      "model_module_version": "1.4.0",
      "model_name": "FloatTextModel",
      "state": {
       "layout": "IPY_MODEL_69bc40c1e3664a96baf1c35ecb11fd7d",
       "step": null,
       "style": "IPY_MODEL_c7b00e61644b476db2435289f46ce89e"
      }
     },
     "67a96f99e9b841eaaff526b823dd21aa": {
      "model_module": "@jupyter-widgets/controls",
      "model_module_version": "1.4.0",
      "model_name": "LabelModel",
      "state": {
       "layout": "IPY_MODEL_01dc0a5c652f458280935dd0ec1df02e",
       "style": "IPY_MODEL_885e5afc93a543b28ab8ce2723aba576"
      }
     },
     "67c65455a284481fb5d3debce14b1bda": {
      "model_module": "@jupyter-widgets/controls",
      "model_module_version": "1.4.0",
      "model_name": "DescriptionStyleModel",
      "state": {
       "description_width": ""
      }
     },
     "67eca683eeac421c9b2621d685db768f": {
      "model_module": "@jupyter-widgets/controls",
      "model_module_version": "1.4.0",
      "model_name": "LabelModel",
      "state": {
       "layout": "IPY_MODEL_3fb718490de04afca4411b2acf4987e6",
       "style": "IPY_MODEL_54be1d26068e4711a23c153183b65073",
       "value": "La:"
      }
     },
     "67fdcd9c576d486ab16af60e71f00dec": {
      "model_module": "@jupyter-widgets/base",
      "model_module_version": "1.1.0",
      "model_name": "LayoutModel",
      "state": {}
     },
     "6813d187c1be497cb6ed99d0f1315fb5": {
      "model_module": "@jupyter-widgets/controls",
      "model_module_version": "1.4.0",
      "model_name": "LabelModel",
      "state": {
       "layout": "IPY_MODEL_acce651c42c84a9894a543393f8a167c",
       "style": "IPY_MODEL_286c6d083d32468c8da6d9a651c6a4cb"
      }
     },
     "68537adbed234b189596496e5d19778e": {
      "model_module": "@jupyter-widgets/controls",
      "model_module_version": "1.4.0",
      "model_name": "DescriptionStyleModel",
      "state": {
       "description_width": ""
      }
     },
     "68cb20eccc494d0e897dfcc89aa2b844": {
      "model_module": "@jupyter-widgets/controls",
      "model_module_version": "1.4.0",
      "model_name": "FloatTextModel",
      "state": {
       "layout": "IPY_MODEL_de50dcc76518449ca4190d0da5b78f9d",
       "step": null,
       "style": "IPY_MODEL_19b8bdf890664f71885c84f552c3f3c0",
       "value": -1
      }
     },
     "68d3152ea522432d8b26d8ef18d3a3f0": {
      "model_module": "@jupyter-widgets/base",
      "model_module_version": "1.1.0",
      "model_name": "LayoutModel",
      "state": {
       "width": "90px"
      }
     },
     "690061d224354464bbf9acac7d551e8b": {
      "model_module": "@jupyter-widgets/controls",
      "model_module_version": "1.4.0",
      "model_name": "DescriptionStyleModel",
      "state": {
       "description_width": ""
      }
     },
     "694dd07aee66466bb45bfff329e60483": {
      "model_module": "@jupyter-widgets/base",
      "model_module_version": "1.1.0",
      "model_name": "LayoutModel",
      "state": {}
     },
     "69596f18125f465a842253c4a56b8254": {
      "model_module": "@jupyter-widgets/controls",
      "model_module_version": "1.4.0",
      "model_name": "DescriptionStyleModel",
      "state": {
       "description_width": ""
      }
     },
     "699c82ce7721494b827c9191334677f0": {
      "model_module": "@jupyter-widgets/base",
      "model_module_version": "1.1.0",
      "model_name": "LayoutModel",
      "state": {}
     },
     "69bc40c1e3664a96baf1c35ecb11fd7d": {
      "model_module": "@jupyter-widgets/base",
      "model_module_version": "1.1.0",
      "model_name": "LayoutModel",
      "state": {
       "width": "90px"
      }
     },
     "6a7a36202cba49eb8397c164b18c614b": {
      "model_module": "@jupyter-widgets/base",
      "model_module_version": "1.1.0",
      "model_name": "LayoutModel",
      "state": {}
     },
     "6aa250d5c0944d639991a61220a87849": {
      "model_module": "@jupyter-widgets/base",
      "model_module_version": "1.1.0",
      "model_name": "LayoutModel",
      "state": {}
     },
     "6b1eb3d2914f436ebdc338c44a701edf": {
      "model_module": "@jupyter-widgets/base",
      "model_module_version": "1.1.0",
      "model_name": "LayoutModel",
      "state": {}
     },
     "6b9803e06bfc477592188dfb15adc5d6": {
      "model_module": "@jupyter-widgets/controls",
      "model_module_version": "1.4.0",
      "model_name": "HBoxModel",
      "state": {
       "children": [
        "IPY_MODEL_c8e3b70f79e64a5a899729030d7b6963"
       ],
       "layout": "IPY_MODEL_67fdcd9c576d486ab16af60e71f00dec"
      }
     },
     "6bdb46374a01452f878caf37f3b7dc57": {
      "model_module": "@jupyter-widgets/base",
      "model_module_version": "1.1.0",
      "model_name": "LayoutModel",
      "state": {}
     },
     "6c5bde8b5bac48509228c5bee9f36bbd": {
      "model_module": "@jupyter-widgets/base",
      "model_module_version": "1.1.0",
      "model_name": "LayoutModel",
      "state": {}
     },
     "6caafdd1e1cd4b19a7eeab28deadac64": {
      "model_module": "@jupyter-widgets/controls",
      "model_module_version": "1.4.0",
      "model_name": "HBoxModel",
      "state": {
       "children": [
        "IPY_MODEL_faefe63476c24a01aaf13a0d22a20e41",
        "IPY_MODEL_e5ea03176a6d413cbda448812f9f9fac",
        "IPY_MODEL_795fd5c2cf384cbc84210d4663ce475b"
       ],
       "layout": "IPY_MODEL_50b250cd0c344a809899fa9c03f47e6c"
      }
     },
     "6ccca8cd1dd94a44bbc5840816353ae3": {
      "model_module": "@jupyter-widgets/controls",
      "model_module_version": "1.4.0",
      "model_name": "FloatTextModel",
      "state": {
       "disabled": true,
       "layout": "IPY_MODEL_4a170c180505407b9ea430c1cd492f2c",
       "step": null,
       "style": "IPY_MODEL_3a6b565f3ce4429b83a21e3d564ff894",
       "value": -0.35
      }
     },
     "6d50e2c21b10474f969fa3e17a94ff8c": {
      "model_module": "@jupyter-widgets/controls",
      "model_module_version": "1.4.0",
      "model_name": "SliderStyleModel",
      "state": {
       "description_width": ""
      }
     },
     "6d68637432684016b0727f506afe0df5": {
      "model_module": "@jupyter-widgets/controls",
      "model_module_version": "1.4.0",
      "model_name": "VBoxModel",
      "state": {
       "children": [
        "IPY_MODEL_6b9803e06bfc477592188dfb15adc5d6"
       ],
       "layout": "IPY_MODEL_90b70496121147c0a1e387dee2f323b8"
      }
     },
     "6db5adb08c1948be8929194ebea1a7e7": {
      "model_module": "@jupyter-widgets/controls",
      "model_module_version": "1.4.0",
      "model_name": "FloatTextModel",
      "state": {
       "layout": "IPY_MODEL_43501d55a4fd47a6b16ef8b1b85e7d65",
       "step": null,
       "style": "IPY_MODEL_86f0283019914320900a091de5704fd1",
       "value": -1
      }
     },
     "6e7e97282d8646a99e47bb6ba752331d": {
      "model_module": "@jupyter-widgets/controls",
      "model_module_version": "1.4.0",
      "model_name": "LabelModel",
      "state": {
       "layout": "IPY_MODEL_52acf9658bbb43a0bb470d183fef21f7",
       "style": "IPY_MODEL_d27c9566e96940a7806b2168e19f1ce9"
      }
     },
     "6ebbbf84215946a39d42606ed8a7c1f2": {
      "model_module": "@jupyter-widgets/controls",
      "model_module_version": "1.4.0",
      "model_name": "FloatTextModel",
      "state": {
       "layout": "IPY_MODEL_184b23bb39dd4047977c1005e03a95c0",
       "step": null,
       "style": "IPY_MODEL_0c7ccc0d90d14893a1798e9bec0ccfad",
       "value": -13.333333333333334
      }
     },
     "6ebe86c6b2624222a1c2427ed2c6bb6e": {
      "model_module": "@jupyter-widgets/base",
      "model_module_version": "1.1.0",
      "model_name": "LayoutModel",
      "state": {}
     },
     "6ed5ec8dc40b4d3cb6058441525e4f2d": {
      "model_module": "@jupyter-widgets/base",
      "model_module_version": "1.1.0",
      "model_name": "LayoutModel",
      "state": {
       "width": "90px"
      }
     },
     "6f10c2a2cc4f4d5cb7cd361d5fd117bb": {
      "model_module": "@jupyter-widgets/base",
      "model_module_version": "1.1.0",
      "model_name": "LayoutModel",
      "state": {}
     },
     "6f3325c696374e7ba2fefe95a423c990": {
      "model_module": "@jupyter-widgets/base",
      "model_module_version": "1.1.0",
      "model_name": "LayoutModel",
      "state": {}
     },
     "6f5919fe2a494d8092c2b109d3cb8dff": {
      "model_module": "@jupyter-widgets/controls",
      "model_module_version": "1.4.0",
      "model_name": "LabelModel",
      "state": {
       "layout": "IPY_MODEL_91f3e31e4795465f9f5adb9155b2d603",
       "style": "IPY_MODEL_e7631457cbcc4012bd350f9a84cef00c"
      }
     },
     "6f5b16ca245c4071ab3278214307b695": {
      "model_module": "@jupyter-widgets/base",
      "model_module_version": "1.1.0",
      "model_name": "LayoutModel",
      "state": {}
     },
     "6f85f9a4db194b509b78ff37a0f3f35a": {
      "model_module": "@jupyter-widgets/controls",
      "model_module_version": "1.4.0",
      "model_name": "HBoxModel",
      "state": {
       "children": [
        "IPY_MODEL_ef1dd140766840bb8e931471f5f301c9"
       ],
       "layout": "IPY_MODEL_0fdc2e9573724ffca381dcdc06cfb1b0"
      }
     },
     "703688b40d404ccbae95be27274af0cd": {
      "model_module": "@jupyter-widgets/controls",
      "model_module_version": "1.4.0",
      "model_name": "HBoxModel",
      "state": {
       "children": [
        "IPY_MODEL_554aed59f6334683b982c0431b17c297",
        "IPY_MODEL_9efb9c3136cb4814bbbbb397033e6d24",
        "IPY_MODEL_171a1b1507054bbfbefb5a2121471844"
       ],
       "layout": "IPY_MODEL_30c069a9f1e64b8fa42c228c79bc01d4"
      }
     },
     "70d8d323e1e7445ea9fe3e32ee56bd7f": {
      "model_module": "@jupyter-widgets/base",
      "model_module_version": "1.1.0",
      "model_name": "LayoutModel",
      "state": {}
     },
     "728c92f846734c939fcd10d6e4ef68e3": {
      "model_module": "@jupyter-widgets/controls",
      "model_module_version": "1.4.0",
      "model_name": "DescriptionStyleModel",
      "state": {
       "description_width": ""
      }
     },
     "7293c820e63d4fa5a06348c87ef770e1": {
      "model_module": "@jupyter-widgets/controls",
      "model_module_version": "1.4.0",
      "model_name": "LabelModel",
      "state": {
       "layout": "IPY_MODEL_b7e50fc8f17b4abca78f401029a01bc2",
       "style": "IPY_MODEL_db0dab36d9de4171987fb292d7f515ea",
       "value": "La:"
      }
     },
     "72a35b0bc2d9418bb099da42dd65c976": {
      "model_module": "@jupyter-widgets/controls",
      "model_module_version": "1.4.0",
      "model_name": "DescriptionStyleModel",
      "state": {
       "description_width": ""
      }
     },
     "72d88d2553ac41c4ac690fe0e067324e": {
      "model_module": "@jupyter-widgets/base",
      "model_module_version": "1.1.0",
      "model_name": "LayoutModel",
      "state": {}
     },
     "72e031c0e7e349a0b081d2221742bd29": {
      "model_module": "@jupyter-widgets/base",
      "model_module_version": "1.1.0",
      "model_name": "LayoutModel",
      "state": {
       "width": "90px"
      }
     },
     "72e8f2c8610c47fd8096faa84eb921f8": {
      "model_module": "@jupyter-widgets/controls",
      "model_module_version": "1.4.0",
      "model_name": "LabelModel",
      "state": {
       "layout": "IPY_MODEL_0412e3d10df841038ecf3f8250e2b120",
       "style": "IPY_MODEL_0137a8c0e143408997be4713d0929fd0"
      }
     },
     "7371a287f94840aa829ef2d8d94c4853": {
      "model_module": "@jupyter-widgets/base",
      "model_module_version": "1.1.0",
      "model_name": "LayoutModel",
      "state": {}
     },
     "74043b22bf0a41998bb66498b4bef156": {
      "model_module": "@jupyter-widgets/controls",
      "model_module_version": "1.4.0",
      "model_name": "DescriptionStyleModel",
      "state": {
       "description_width": ""
      }
     },
     "74b2c32160214088bd33ae84127e92bc": {
      "model_module": "@jupyter-widgets/base",
      "model_module_version": "1.1.0",
      "model_name": "LayoutModel",
      "state": {
       "width": "90px"
      }
     },
     "74c94f204a60426bb3deb13977d4a89b": {
      "model_module": "@jupyter-widgets/controls",
      "model_module_version": "1.4.0",
      "model_name": "FloatTextModel",
      "state": {
       "layout": "IPY_MODEL_fdc20dbc4d12432c889e338ca9f4f2e0",
       "step": null,
       "style": "IPY_MODEL_075ef8840b254dfe8e812d7716b6f101",
       "value": -1
      }
     },
     "751f4dd6192f4b71b9ffc8b626f4ab84": {
      "model_module": "@jupyter-widgets/controls",
      "model_module_version": "1.4.0",
      "model_name": "HBoxModel",
      "state": {
       "children": [
        "IPY_MODEL_3967a131ab114f1d903a90585ec37c1b"
       ],
       "layout": "IPY_MODEL_edf2c458601a4c2986e9084a559dcd3a"
      }
     },
     "754e87a1a8c54875b3b917f54d2c9b58": {
      "model_module": "@jupyter-widgets/controls",
      "model_module_version": "1.4.0",
      "model_name": "DescriptionStyleModel",
      "state": {
       "description_width": ""
      }
     },
     "7571abb03f0040679517c6245bf38472": {
      "model_module": "@jupyter-widgets/controls",
      "model_module_version": "1.4.0",
      "model_name": "FloatTextModel",
      "state": {
       "layout": "IPY_MODEL_1356dd4e149949aa8da63f5c73164b03",
       "step": null,
       "style": "IPY_MODEL_5110c78f84674366b27efb186b131882",
       "value": 6244
      }
     },
     "75b5652b09e4461cb6a99471967a68ea": {
      "model_module": "@jupyter-widgets/controls",
      "model_module_version": "1.4.0",
      "model_name": "DescriptionStyleModel",
      "state": {
       "description_width": ""
      }
     },
     "75eb8481312149b8a778baff39c99828": {
      "model_module": "@jupyter-widgets/controls",
      "model_module_version": "1.4.0",
      "model_name": "DescriptionStyleModel",
      "state": {
       "description_width": ""
      }
     },
     "76017c8704c44e04825f3e352bacd669": {
      "model_module": "@jupyter-widgets/controls",
      "model_module_version": "1.4.0",
      "model_name": "DescriptionStyleModel",
      "state": {
       "description_width": ""
      }
     },
     "7637a14720e140b2bcd66ed4939ec5a9": {
      "model_module": "@jupyter-widgets/controls",
      "model_module_version": "1.4.0",
      "model_name": "HBoxModel",
      "state": {
       "children": [
        "IPY_MODEL_63f8d3b2a0994c6a87843ac859f6b4cf",
        "IPY_MODEL_d9674b7571de42baa745dd6b7c6ecbe8",
        "IPY_MODEL_b5581d35824c472bb9eaac0a5762f404"
       ],
       "layout": "IPY_MODEL_eed4b893f8914ebb9d38fb0d061e5369"
      }
     },
     "770bc17e71b2425a9baa0f95f322df5b": {
      "model_module": "@jupyter-widgets/base",
      "model_module_version": "1.1.0",
      "model_name": "LayoutModel",
      "state": {}
     },
     "77216fe31d084b58b18e146e8a6b8be1": {
      "model_module": "@jupyter-widgets/base",
      "model_module_version": "1.1.0",
      "model_name": "LayoutModel",
      "state": {}
     },
     "775ff011a0444c48b7e5fea4746a0b23": {
      "model_module": "@jupyter-widgets/controls",
      "model_module_version": "1.4.0",
      "model_name": "DescriptionStyleModel",
      "state": {
       "description_width": ""
      }
     },
     "7799c212da6243439092d8e652f3343a": {
      "model_module": "@jupyter-widgets/base",
      "model_module_version": "1.1.0",
      "model_name": "LayoutModel",
      "state": {}
     },
     "779c0d356e134116a834edf79e733609": {
      "model_module": "@jupyter-widgets/controls",
      "model_module_version": "1.4.0",
      "model_name": "DescriptionStyleModel",
      "state": {
       "description_width": ""
      }
     },
     "78331c89a55344a69e9fb04c10aee086": {
      "model_module": "@jupyter-widgets/controls",
      "model_module_version": "1.4.0",
      "model_name": "ButtonModel",
      "state": {
       "description": "Test",
       "icon": "check",
       "layout": "IPY_MODEL_a2ad8cd0ada14749b6cff38db8256c77",
       "style": "IPY_MODEL_7e93ef2d8c064e21ae0329b1f49e0037",
       "tooltip": "Test"
      }
     },
     "784694adeef14254b06506b91ca25387": {
      "model_module": "@jupyter-widgets/controls",
      "model_module_version": "1.4.0",
      "model_name": "FloatTextModel",
      "state": {
       "layout": "IPY_MODEL_e02b4d0e91cd456eb60b5d5243ba5cb5",
       "step": null,
       "style": "IPY_MODEL_b735c37b54aa43c8a0944fb020c85b42",
       "value": 316
      }
     },
     "78e0cf59f666429ba0b284f17cd837f0": {
      "model_module": "@jupyter-widgets/controls",
      "model_module_version": "1.4.0",
      "model_name": "DescriptionStyleModel",
      "state": {
       "description_width": ""
      }
     },
     "78e89fda875349468498d5f62b2914a0": {
      "model_module": "@jupyter-widgets/controls",
      "model_module_version": "1.4.0",
      "model_name": "DescriptionStyleModel",
      "state": {
       "description_width": ""
      }
     },
     "78faa778293e4233bc1fa7fd155fb559": {
      "model_module": "@jupyter-widgets/base",
      "model_module_version": "1.1.0",
      "model_name": "LayoutModel",
      "state": {}
     },
     "791fe235250446a6a034c1a07655e400": {
      "model_module": "@jupyter-widgets/base",
      "model_module_version": "1.1.0",
      "model_name": "LayoutModel",
      "state": {}
     },
     "7922325f544a4df3b7a664440ab450f3": {
      "model_module": "@jupyter-widgets/controls",
      "model_module_version": "1.4.0",
      "model_name": "DescriptionStyleModel",
      "state": {
       "description_width": ""
      }
     },
     "7959bdda77b0475b8c3a81a8686baf94": {
      "model_module": "@jupyter-widgets/controls",
      "model_module_version": "1.4.0",
      "model_name": "DescriptionStyleModel",
      "state": {
       "description_width": ""
      }
     },
     "795fd5c2cf384cbc84210d4663ce475b": {
      "model_module": "@jupyter-widgets/controls",
      "model_module_version": "1.4.0",
      "model_name": "DropdownModel",
      "state": {
       "_options_labels": [
        "0 complex eigenvalues",
        "2 complex eigenvalues"
       ],
       "description": "Aobs:",
       "disabled": true,
       "index": 0,
       "layout": "IPY_MODEL_ae2970f665224c9fbc4420c1cffb665d",
       "style": "IPY_MODEL_fe72029372074064a0a2d7f32b95cc43"
      }
     },
     "79f34c11930f44ef87434b7bbc4a62a2": {
      "model_module": "@jupyter-widgets/controls",
      "model_module_version": "1.4.0",
      "model_name": "FloatTextModel",
      "state": {
       "layout": "IPY_MODEL_c292b8874c4f4bcebed1c9a360df2964",
       "step": null,
       "style": "IPY_MODEL_f0784b65c1cf46f9af5e149ad2e1bf93",
       "value": -1
      }
     },
     "7a2c5d36b676498d86709b794261b2e5": {
      "model_module": "@jupyter-widgets/controls",
      "model_module_version": "1.4.0",
      "model_name": "VBoxModel",
      "state": {
       "children": [
        "IPY_MODEL_8b38ec716be944e0b46bf019ffd46326"
       ],
       "layout": "IPY_MODEL_1305375218104eaf84b665587f869b4a"
      }
     },
     "7a5bb58e5cf945d5883300d227b2e802": {
      "model_module": "@jupyter-widgets/base",
      "model_module_version": "1.1.0",
      "model_name": "LayoutModel",
      "state": {}
     },
     "7a5fad3a8ed14b8c8672e83a713b5ee7": {
      "model_module": "@jupyter-widgets/base",
      "model_module_version": "1.1.0",
      "model_name": "LayoutModel",
      "state": {}
     },
     "7a86b8685c0d4d4ab4dfd942b31e689e": {
      "model_module": "@jupyter-widgets/controls",
      "model_module_version": "1.4.0",
      "model_name": "DescriptionStyleModel",
      "state": {
       "description_width": ""
      }
     },
     "7a9f39ecd9174a5a8dc508b3f593a736": {
      "model_module": "@jupyter-widgets/base",
      "model_module_version": "1.1.0",
      "model_name": "LayoutModel",
      "state": {
       "width": "90px"
      }
     },
     "7acc1d43c7b04f48ada380ce26debb40": {
      "model_module": "@jupyter-widgets/controls",
      "model_module_version": "1.4.0",
      "model_name": "LabelModel",
      "state": {
       "layout": "IPY_MODEL_af33c6205ab247349a81557418e23272",
       "style": "IPY_MODEL_3560f888f8714d7380f8ec397da7b315"
      }
     },
     "7b620fcf26764dc59856cf8c17e225c6": {
      "model_module": "@jupyter-widgets/base",
      "model_module_version": "1.1.0",
      "model_name": "LayoutModel",
      "state": {}
     },
     "7b6fe30e232e400583497734a4b6a5c7": {
      "model_module": "@jupyter-widgets/controls",
      "model_module_version": "1.4.0",
      "model_name": "ButtonStyleModel",
      "state": {}
     },
     "7bcae1bb58ed4f80aad0ed229811dd6f": {
      "model_module": "@jupyter-widgets/controls",
      "model_module_version": "1.4.0",
      "model_name": "DescriptionStyleModel",
      "state": {
       "description_width": ""
      }
     },
     "7bec55103402411195944e1352e9ee8f": {
      "model_module": "@jupyter-widgets/controls",
      "model_module_version": "1.4.0",
      "model_name": "FloatTextModel",
      "state": {
       "layout": "IPY_MODEL_68d3152ea522432d8b26d8ef18d3a3f0",
       "step": null,
       "style": "IPY_MODEL_da90a50bcb3b4b1ab14fcb5e9ddde844",
       "value": -66.66666666666667
      }
     },
     "7c71e94f7fd8465382677754c8e6a982": {
      "model_module": "@jupyter-widgets/base",
      "model_module_version": "1.1.0",
      "model_name": "LayoutModel",
      "state": {}
     },
     "7c92b5b89e8b44fc9d282249225339c6": {
      "model_module": "@jupyter-widgets/controls",
      "model_module_version": "1.4.0",
      "model_name": "HBoxModel",
      "state": {
       "children": [
        "IPY_MODEL_74c94f204a60426bb3deb13977d4a89b"
       ],
       "layout": "IPY_MODEL_5d4ef33cadc94f08ace19b791efefc1e"
      }
     },
     "7d01dc2c0b4d48d98e763efa1f17a404": {
      "model_module": "@jupyter-widgets/controls",
      "model_module_version": "1.4.0",
      "model_name": "LabelModel",
      "state": {
       "layout": "IPY_MODEL_ace5b89dbb38430baaca9d95f8928041",
       "style": "IPY_MODEL_ba39f17a808848619246755a9efb4013"
      }
     },
     "7d2ee53e7c144fdb9bf865c1baf9fe1e": {
      "model_module": "@jupyter-widgets/controls",
      "model_module_version": "1.4.0",
      "model_name": "HBoxModel",
      "state": {
       "children": [
        "IPY_MODEL_0aa0bfe4046d4bbd9e3b8fc7e923c19e",
        "IPY_MODEL_eb895777800d4b5dad6593c98477136a",
        "IPY_MODEL_59ec2c46649641599ebed481a8758b4f",
        "IPY_MODEL_6379b256d4304329ae701b41c39b671f",
        "IPY_MODEL_a33161fb781f43298700965957684f1e"
       ],
       "layout": "IPY_MODEL_15cf45b6a5954be0ac6b6415d1d48bca"
      }
     },
     "7d35e7ff219645d8928897423c98458f": {
      "model_module": "@jupyter-widgets/controls",
      "model_module_version": "1.4.0",
      "model_name": "HBoxModel",
      "state": {
       "children": [
        "IPY_MODEL_093f7ad7ff10484c9dc83f64e83edf68",
        "IPY_MODEL_d15a903d9d274ec1921c31e4c33039b4",
        "IPY_MODEL_eda9ff75f90e4e86815627781902014a"
       ],
       "layout": "IPY_MODEL_955a72f962644df8bea0b03467a6d2e3"
      }
     },
     "7d56c23f8f9747278ec3ee7edb579413": {
      "model_module": "@jupyter-widgets/output",
      "model_module_version": "1.0.0",
      "model_name": "OutputModel",
      "state": {
       "layout": "IPY_MODEL_9a5f4e5b037a43a9b59844db56f0835f",
       "outputs": [
        {
         "name": "stdout",
         "output_type": "stream",
         "text": "The Aa's eigenvalues are: -2.24+2.23j, -2.24+-2.23j, -0.28+0.00j, -0.26+0.32j and -0.26+-0.32j\nThe observer\\s eigenvalues are: -10.00+0.00j and -10.00+0.00j\n"
        }
       ]
      }
     },
     "7d6a609ca45c4507b010733c5e884ae6": {
      "model_module": "@jupyter-widgets/controls",
      "model_module_version": "1.4.0",
      "model_name": "DescriptionStyleModel",
      "state": {
       "description_width": ""
      }
     },
     "7da585dfee764bdb8782ac35b6e142c6": {
      "model_module": "@jupyter-widgets/controls",
      "model_module_version": "1.4.0",
      "model_name": "DescriptionStyleModel",
      "state": {
       "description_width": ""
      }
     },
     "7de4c30003744cce8d20d24d1bf5bb23": {
      "model_module": "@jupyter-widgets/controls",
      "model_module_version": "1.4.0",
      "model_name": "HBoxModel",
      "state": {
       "children": [
        "IPY_MODEL_fe8d4c19a86346019352770ba2a10a08"
       ],
       "layout": "IPY_MODEL_14ee82ae6a44446aaf4a813482e9e609"
      }
     },
     "7e247cd9b0e54844af224969b6c41f28": {
      "model_module": "@jupyter-widgets/controls",
      "model_module_version": "1.4.0",
      "model_name": "LabelModel",
      "state": {
       "layout": "IPY_MODEL_8c6ff49f59ac4ae19bf1989f184e29e9",
       "style": "IPY_MODEL_4ef500d8895b4bd3a5e040da5cad74a7"
      }
     },
     "7e442b8c4332480e8548cbdceab3a51f": {
      "model_module": "@jupyter-widgets/base",
      "model_module_version": "1.1.0",
      "model_name": "LayoutModel",
      "state": {}
     },
     "7e4e7d01deec4ad28120e3a5353c32be": {
      "model_module": "@jupyter-widgets/controls",
      "model_module_version": "1.4.0",
      "model_name": "HBoxModel",
      "state": {
       "children": [
        "IPY_MODEL_d4a0305616f9402ea84a9e8b0e1fae85"
       ],
       "layout": "IPY_MODEL_f86ef0c63af448cbba07abd5003acb2c"
      }
     },
     "7e93ef2d8c064e21ae0329b1f49e0037": {
      "model_module": "@jupyter-widgets/controls",
      "model_module_version": "1.4.0",
      "model_name": "ButtonStyleModel",
      "state": {}
     },
     "7ebbc139ae8c405bbaa34222e70c1838": {
      "model_module": "@jupyter-widgets/controls",
      "model_module_version": "1.4.0",
      "model_name": "DescriptionStyleModel",
      "state": {
       "description_width": ""
      }
     },
     "7ee747b400ad462e8ac9835d6e19339a": {
      "model_module": "@jupyter-widgets/controls",
      "model_module_version": "1.4.0",
      "model_name": "DescriptionStyleModel",
      "state": {
       "description_width": ""
      }
     },
     "7f7d8c159bdc42c3aeffdc050655131b": {
      "model_module": "@jupyter-widgets/controls",
      "model_module_version": "1.4.0",
      "model_name": "FloatTextModel",
      "state": {
       "layout": "IPY_MODEL_72e031c0e7e349a0b081d2221742bd29",
       "step": null,
       "style": "IPY_MODEL_b60b7d037b5b45aba5cce6360c0cb3fe",
       "value": -66.66666666666667
      }
     },
     "7fbf0af948254d5e833df4b7c1f732c3": {
      "model_module": "@jupyter-widgets/base",
      "model_module_version": "1.1.0",
      "model_name": "LayoutModel",
      "state": {}
     },
     "7fe5127d89ef40799cbefafadbcce0d4": {
      "model_module": "@jupyter-widgets/controls",
      "model_module_version": "1.4.0",
      "model_name": "FloatTextModel",
      "state": {
       "layout": "IPY_MODEL_cea5f3291cc74af99d0e1ea2481ba90a",
       "step": null,
       "style": "IPY_MODEL_19f1831249fc404885a8c590f402427e"
      }
     },
     "7ffaa79fb9994c4bae603296d84f245e": {
      "model_module": "@jupyter-widgets/controls",
      "model_module_version": "1.4.0",
      "model_name": "LabelModel",
      "state": {
       "layout": "IPY_MODEL_3155eee3f9a64ff3b2f1ce3c8f7d18cc",
       "style": "IPY_MODEL_c2e6bb3678aa4fb989cae61d26337c34",
       "value": "La:"
      }
     },
     "7ffe130777e247649d8ed2b515a9ca8b": {
      "model_module": "@jupyter-widgets/controls",
      "model_module_version": "1.4.0",
      "model_name": "LabelModel",
      "state": {
       "layout": "IPY_MODEL_a5808a4c8deb4864a3bf6c22210b4579",
       "style": "IPY_MODEL_3ff22a9f887a4c8fa9623d0ab0ef1724"
      }
     },
     "8011100f6a6b4ddc9ecbb972b727eaf7": {
      "model_module": "@jupyter-widgets/controls",
      "model_module_version": "1.4.0",
      "model_name": "LabelModel",
      "state": {
       "layout": "IPY_MODEL_3bf317625e154845b6a9f8e0b72e9040",
       "style": "IPY_MODEL_e497f72ac994442e867e12b0d2d6c200"
      }
     },
     "8049641b56e14f94a6cdc101f458c699": {
      "model_module": "@jupyter-widgets/controls",
      "model_module_version": "1.4.0",
      "model_name": "DescriptionStyleModel",
      "state": {
       "description_width": ""
      }
     },
     "805372bc02a045c08c710be04f5bfce1": {
      "model_module": "@jupyter-widgets/controls",
      "model_module_version": "1.4.0",
      "model_name": "HBoxModel",
      "state": {
       "children": [
        "IPY_MODEL_18f82af6d5b2431ba4c48da55efab544",
        "IPY_MODEL_007459f4f397435698168869e682fe15",
        "IPY_MODEL_5b395b3d7f904213b837ead1c36a16d9"
       ],
       "layout": "IPY_MODEL_ab62f7fb8f884a83b7a1a8cd07fc402b"
      }
     },
     "808008c7a6d64220a24e0e57526aee9a": {
      "model_module": "@jupyter-widgets/base",
      "model_module_version": "1.1.0",
      "model_name": "LayoutModel",
      "state": {}
     },
     "8104af496003451c99d75ef542e131e5": {
      "model_module": "@jupyter-widgets/controls",
      "model_module_version": "1.4.0",
      "model_name": "HBoxModel",
      "state": {
       "children": [
        "IPY_MODEL_6db5adb08c1948be8929194ebea1a7e7"
       ],
       "layout": "IPY_MODEL_8f25d2239f6749908f18c36b549526f2"
      }
     },
     "826635bf7c224e2fa9e2222e72dbf5a4": {
      "model_module": "@jupyter-widgets/controls",
      "model_module_version": "1.4.0",
      "model_name": "DropdownModel",
      "state": {
       "_options_labels": [
        "0 complex eigenvalues",
        "2 complex eigenvalues",
        "4 complex eigenvalues"
       ],
       "description": "Aa:",
       "disabled": true,
       "index": 0,
       "layout": "IPY_MODEL_bb953ac90d224d4f936514edcfe673ca",
       "style": "IPY_MODEL_7da585dfee764bdb8782ac35b6e142c6"
      }
     },
     "8390228ad1364aa68a86b96bf642bf61": {
      "model_module": "@jupyter-widgets/controls",
      "model_module_version": "1.4.0",
      "model_name": "DescriptionStyleModel",
      "state": {
       "description_width": ""
      }
     },
     "83cff18e6a264988ae36134b674e5a85": {
      "model_module": "@jupyter-widgets/controls",
      "model_module_version": "1.4.0",
      "model_name": "ButtonModel",
      "state": {
       "description": "Test",
       "icon": "check",
       "layout": "IPY_MODEL_0cd7629dd3c9461fbd0c47b84ef58eb5",
       "style": "IPY_MODEL_3b2defae62294f9bbd4aaf5e793002c0",
       "tooltip": "Test"
      }
     },
     "842a3f1f0a374c2581602ab8e7600ef6": {
      "model_module": "@jupyter-widgets/controls",
      "model_module_version": "1.4.0",
      "model_name": "LabelModel",
      "state": {
       "layout": "IPY_MODEL_9a4bb58b105e4702af8bc3d718dfd1c3",
       "style": "IPY_MODEL_0f70af7c61ff4ba88081ed4f671ea6fb"
      }
     },
     "8471ba81fc7a4b87adf19a11d05e4af8": {
      "model_module": "@jupyter-widgets/controls",
      "model_module_version": "1.4.0",
      "model_name": "FloatTextModel",
      "state": {
       "layout": "IPY_MODEL_882e1a8d54f245feb71c1266aab6d5aa",
       "step": null,
       "style": "IPY_MODEL_628ee5ba78994b169e2e9670c25e3f71"
      }
     },
     "84978a101c7e4f339808d159363a8bda": {
      "model_module": "@jupyter-widgets/base",
      "model_module_version": "1.1.0",
      "model_name": "LayoutModel",
      "state": {}
     },
     "84a0b15ddb034a2092338bd2b2ed63e9": {
      "model_module": "@jupyter-widgets/controls",
      "model_module_version": "1.4.0",
      "model_name": "VBoxModel",
      "state": {
       "children": [
        "IPY_MODEL_8104af496003451c99d75ef542e131e5"
       ],
       "layout": "IPY_MODEL_ac57f9372bfa4b58a5c390e8d098726c"
      }
     },
     "84cbb61cc3c5445a88ac64650b4b8dfc": {
      "model_module": "@jupyter-widgets/controls",
      "model_module_version": "1.4.0",
      "model_name": "HBoxModel",
      "state": {
       "children": [
        "IPY_MODEL_0f26c8afca96402aa66b81bc451a3559",
        "IPY_MODEL_57f647ac81c04c9e8d05a298607c024c",
        "IPY_MODEL_360875116090414dbddbecaa83b47342",
        "IPY_MODEL_472fafbcc5de4d8bbdea2c2f162640a3",
        "IPY_MODEL_5393a1ec3e0d47feb72f398a7cfa584e"
       ],
       "layout": "IPY_MODEL_1c9b2f53ecbb4da79d03c3c35e70cf14"
      }
     },
     "84e0e3299523499e8fd5a56d12529891": {
      "model_module": "@jupyter-widgets/controls",
      "model_module_version": "1.4.0",
      "model_name": "LabelModel",
      "state": {
       "layout": "IPY_MODEL_341a67e1961c4efaba9cd46195f445c9",
       "style": "IPY_MODEL_b6fa08a5501e4a248ede49d190466047",
       "value": "Ka:"
      }
     },
     "850d20061cb147999055d5ad4f3f4e9c": {
      "model_module": "@jupyter-widgets/base",
      "model_module_version": "1.1.0",
      "model_name": "LayoutModel",
      "state": {}
     },
     "8517bf96ffdc43c0becaa4f3824b62ae": {
      "model_module": "@jupyter-widgets/controls",
      "model_module_version": "1.4.0",
      "model_name": "FloatTextModel",
      "state": {
       "layout": "IPY_MODEL_151cd4e8dcf14832a226f806c78e36e0",
       "step": null,
       "style": "IPY_MODEL_33357e60e03e468ca65e98dd38c74e9f",
       "value": 6244
      }
     },
     "851b1adaff55422a86338f42883ee062": {
      "model_module": "@jupyter-widgets/base",
      "model_module_version": "1.1.0",
      "model_name": "LayoutModel",
      "state": {}
     },
     "85217905f330467f8b5be2ca26a9808f": {
      "model_module": "@jupyter-widgets/controls",
      "model_module_version": "1.4.0",
      "model_name": "DescriptionStyleModel",
      "state": {
       "description_width": ""
      }
     },
     "855199fe1b46419e8a5c73a3e0e43e90": {
      "model_module": "@jupyter-widgets/controls",
      "model_module_version": "1.4.0",
      "model_name": "FloatTextModel",
      "state": {
       "layout": "IPY_MODEL_bfccc83056ff48b88eb7630784f232d4",
       "step": null,
       "style": "IPY_MODEL_dd21852b6b3d4d24a5e9dbedfd3b63e8"
      }
     },
     "865c7e9a6659400080d4e6b55eadd65c": {
      "model_module": "@jupyter-widgets/base",
      "model_module_version": "1.1.0",
      "model_name": "LayoutModel",
      "state": {}
     },
     "8694d410e6384208982d61b29be57d7b": {
      "model_module": "@jupyter-widgets/controls",
      "model_module_version": "1.4.0",
      "model_name": "LabelModel",
      "state": {
       "layout": "IPY_MODEL_45c69bfc454c48e597a023be2fcf2369",
       "style": "IPY_MODEL_2b684e1c6b254b9fa313b5d68cbac70e"
      }
     },
     "86dffef0637946b6bdce07bd18233633": {
      "model_module": "@jupyter-widgets/base",
      "model_module_version": "1.1.0",
      "model_name": "LayoutModel",
      "state": {
       "width": "90px"
      }
     },
     "86f0283019914320900a091de5704fd1": {
      "model_module": "@jupyter-widgets/controls",
      "model_module_version": "1.4.0",
      "model_name": "DescriptionStyleModel",
      "state": {
       "description_width": ""
      }
     },
     "87536ddd51344558bd4978bbb9aa5d77": {
      "model_module": "@jupyter-widgets/base",
      "model_module_version": "1.1.0",
      "model_name": "LayoutModel",
      "state": {
       "width": "90px"
      }
     },
     "87deb80624884ebfa254f62114e25930": {
      "model_module": "@jupyter-widgets/controls",
      "model_module_version": "1.4.0",
      "model_name": "VBoxModel",
      "state": {
       "children": [
        "IPY_MODEL_8f91de1e6ed149e68483c46b8e206da1",
        "IPY_MODEL_125f923ed5a34fe3a28d2f6851a46911"
       ],
       "layout": "IPY_MODEL_10c2b023fe28454a9f66efb594599e4a"
      }
     },
     "882808f04e1648329b3ae5a769379755": {
      "model_module": "@jupyter-widgets/controls",
      "model_module_version": "1.4.0",
      "model_name": "HBoxModel",
      "state": {
       "children": [
        "IPY_MODEL_1c6c62d211f44583a849017a71d78956"
       ],
       "layout": "IPY_MODEL_518df1a391454a7b9ae94325ff2cd3b0"
      }
     },
     "882e1a8d54f245feb71c1266aab6d5aa": {
      "model_module": "@jupyter-widgets/base",
      "model_module_version": "1.1.0",
      "model_name": "LayoutModel",
      "state": {
       "width": "90px"
      }
     },
     "885e5afc93a543b28ab8ce2723aba576": {
      "model_module": "@jupyter-widgets/controls",
      "model_module_version": "1.4.0",
      "model_name": "DescriptionStyleModel",
      "state": {
       "description_width": ""
      }
     },
     "88608d2bd3564091bb944cd23789d33c": {
      "model_module": "@jupyter-widgets/base",
      "model_module_version": "1.1.0",
      "model_name": "LayoutModel",
      "state": {}
     },
     "88eb02c3dc4f44948a1aec3fdbc15243": {
      "model_module": "@jupyter-widgets/controls",
      "model_module_version": "1.4.0",
      "model_name": "DescriptionStyleModel",
      "state": {
       "description_width": ""
      }
     },
     "8940fedfa6b94154bbecb9b93aa2c282": {
      "model_module": "@jupyter-widgets/controls",
      "model_module_version": "1.4.0",
      "model_name": "ButtonStyleModel",
      "state": {}
     },
     "895850746fc047c089a3bab1559d9f9d": {
      "model_module": "@jupyter-widgets/controls",
      "model_module_version": "1.4.0",
      "model_name": "HBoxModel",
      "state": {
       "children": [
        "IPY_MODEL_1b064c01ef0f4056b7748e7fa4e8d0ae",
        "IPY_MODEL_dbcee9f186f7420d9ea831d5ef775039",
        "IPY_MODEL_f4ddf9715a014e14be8ecb2b3ae86c47"
       ],
       "layout": "IPY_MODEL_63256349f2f3454c8059f5412b0862a7"
      }
     },
     "8a079245fbbe4ddf920422f8deed31bb": {
      "model_module": "@jupyter-widgets/controls",
      "model_module_version": "1.4.0",
      "model_name": "HBoxModel",
      "state": {
       "children": [
        "IPY_MODEL_d5eaac2f67684a7b8ea7dd4c17f0b57e",
        "IPY_MODEL_6d68637432684016b0727f506afe0df5",
        "IPY_MODEL_f01b454caf0243f89fac5809d26d4cf2",
        "IPY_MODEL_3fe63ac60ab64ded984e9abeeff7abf5",
        "IPY_MODEL_317ee220faa84115bad387393653c51c",
        "IPY_MODEL_587e0f7d832d4ecc866fb0f39ea9d990",
        "IPY_MODEL_135f645700374f52895dcc521e40d207",
        "IPY_MODEL_555f1c8fd1be494ba25714e40361ee35",
        "IPY_MODEL_cf979171315d44bfbc2c0d6d41f6c225",
        "IPY_MODEL_a3c2a24a94aa456cbd6779a86c1f06ad",
        "IPY_MODEL_25be128dd26d4cd298247bbbc5bbe06a"
       ],
       "layout": "IPY_MODEL_8a6ef5b88fa14169aa167d89c57d71eb"
      }
     },
     "8a6ef5b88fa14169aa167d89c57d71eb": {
      "model_module": "@jupyter-widgets/base",
      "model_module_version": "1.1.0",
      "model_name": "LayoutModel",
      "state": {}
     },
     "8a9bc422e2cc4f8e806f955c0698cf32": {
      "model_module": "@jupyter-widgets/controls",
      "model_module_version": "1.4.0",
      "model_name": "DescriptionStyleModel",
      "state": {
       "description_width": ""
      }
     },
     "8b38ec716be944e0b46bf019ffd46326": {
      "model_module": "@jupyter-widgets/controls",
      "model_module_version": "1.4.0",
      "model_name": "HBoxModel",
      "state": {
       "children": [
        "IPY_MODEL_be0cf595c1f14317a7aaeb76f485754c",
        "IPY_MODEL_8517bf96ffdc43c0becaa4f3824b62ae",
        "IPY_MODEL_ed5069a98fda4fd89f8f6f2f037d4397",
        "IPY_MODEL_aa1c87d6fda14c1980b7d432ee2fe366",
        "IPY_MODEL_f6adbb16255046328fb88ed295414e1e"
       ],
       "layout": "IPY_MODEL_951ff7c9dfad42808f1dc9d409ff2c4c"
      }
     },
     "8b87c03ea80e4a8496fef495518e5222": {
      "model_module": "@jupyter-widgets/controls",
      "model_module_version": "1.4.0",
      "model_name": "DescriptionStyleModel",
      "state": {
       "description_width": ""
      }
     },
     "8b978cd8527c4af38f96b899ad856ff9": {
      "model_module": "@jupyter-widgets/base",
      "model_module_version": "1.1.0",
      "model_name": "LayoutModel",
      "state": {
       "width": "90px"
      }
     },
     "8bd8a16f4c984ae9a3b83d639201f311": {
      "model_module": "@jupyter-widgets/controls",
      "model_module_version": "1.4.0",
      "model_name": "DescriptionStyleModel",
      "state": {
       "description_width": ""
      }
     },
     "8bfd28108db14cf7af63c45afb29a893": {
      "model_module": "@jupyter-widgets/base",
      "model_module_version": "1.1.0",
      "model_name": "LayoutModel",
      "state": {
       "width": "90px"
      }
     },
     "8c56ab7322684d198695ba83389a51a8": {
      "model_module": "@jupyter-widgets/base",
      "model_module_version": "1.1.0",
      "model_name": "LayoutModel",
      "state": {}
     },
     "8c6ff49f59ac4ae19bf1989f184e29e9": {
      "model_module": "@jupyter-widgets/base",
      "model_module_version": "1.1.0",
      "model_name": "LayoutModel",
      "state": {}
     },
     "8c91254678864b30a16507999fae5742": {
      "model_module": "@jupyter-widgets/base",
      "model_module_version": "1.1.0",
      "model_name": "LayoutModel",
      "state": {}
     },
     "8cd3e95c3acf4bdab4dfdc7205fe8fde": {
      "model_module": "@jupyter-widgets/controls",
      "model_module_version": "1.4.0",
      "model_name": "DescriptionStyleModel",
      "state": {
       "description_width": ""
      }
     },
     "8d93505090b24b7392dd19fdafe1ebb7": {
      "model_module": "@jupyter-widgets/base",
      "model_module_version": "1.1.0",
      "model_name": "LayoutModel",
      "state": {}
     },
     "8eb6aa9cb43341ccb9ce62f5ca112617": {
      "model_module": "@jupyter-widgets/base",
      "model_module_version": "1.1.0",
      "model_name": "LayoutModel",
      "state": {}
     },
     "8ef057c6d9fc4db8b615a215a2b5a000": {
      "model_module": "@jupyter-widgets/controls",
      "model_module_version": "1.4.0",
      "model_name": "SliderStyleModel",
      "state": {
       "description_width": ""
      }
     },
     "8f25d2239f6749908f18c36b549526f2": {
      "model_module": "@jupyter-widgets/base",
      "model_module_version": "1.1.0",
      "model_name": "LayoutModel",
      "state": {}
     },
     "8f91de1e6ed149e68483c46b8e206da1": {
      "model_module": "@jupyter-widgets/controls",
      "model_module_version": "1.4.0",
      "model_name": "HBoxModel",
      "state": {
       "children": [
        "IPY_MODEL_eef564791f8b41739add71b75be481ec"
       ],
       "layout": "IPY_MODEL_de0f1909c75e430a86358a3fa0b9a995"
      }
     },
     "8fd79a5d01cf4dd2bd6af523b19f7ddc": {
      "model_module": "@jupyter-widgets/controls",
      "model_module_version": "1.4.0",
      "model_name": "DescriptionStyleModel",
      "state": {
       "description_width": ""
      }
     },
     "90289c97f60843f89f00cd95a0fca4b9": {
      "model_module": "@jupyter-widgets/base",
      "model_module_version": "1.1.0",
      "model_name": "LayoutModel",
      "state": {}
     },
     "90428d44e77d4165ac20f73f2cc388b9": {
      "model_module": "@jupyter-widgets/controls",
      "model_module_version": "1.4.0",
      "model_name": "FloatTextModel",
      "state": {
       "layout": "IPY_MODEL_6ed5ec8dc40b4d3cb6058441525e4f2d",
       "step": null,
       "style": "IPY_MODEL_c528fa3f72494a119beabba3a6213bb7",
       "value": -1
      }
     },
     "90b70496121147c0a1e387dee2f323b8": {
      "model_module": "@jupyter-widgets/base",
      "model_module_version": "1.1.0",
      "model_name": "LayoutModel",
      "state": {}
     },
     "9107b64326ee404abe9f223d27d7cb58": {
      "model_module": "@jupyter-widgets/base",
      "model_module_version": "1.1.0",
      "model_name": "LayoutModel",
      "state": {}
     },
     "912150cf7dd545c9be27f06e2420e9fd": {
      "model_module": "@jupyter-widgets/controls",
      "model_module_version": "1.4.0",
      "model_name": "FloatTextModel",
      "state": {
       "layout": "IPY_MODEL_8b978cd8527c4af38f96b899ad856ff9",
       "step": null,
       "style": "IPY_MODEL_56d0ad94a1ab41bf9b1226b301dc34c5",
       "value": -10
      }
     },
     "913286bb22214d3cb6367fff535d9581": {
      "model_module": "@jupyter-widgets/base",
      "model_module_version": "1.1.0",
      "model_name": "LayoutModel",
      "state": {}
     },
     "9157d2ff6f494800ac8ae9cdc1fde052": {
      "model_module": "@jupyter-widgets/base",
      "model_module_version": "1.1.0",
      "model_name": "LayoutModel",
      "state": {}
     },
     "91f3e31e4795465f9f5adb9155b2d603": {
      "model_module": "@jupyter-widgets/base",
      "model_module_version": "1.1.0",
      "model_name": "LayoutModel",
      "state": {}
     },
     "9227470751ed48d1979a8ab2c991e0cf": {
      "model_module": "@jupyter-widgets/base",
      "model_module_version": "1.1.0",
      "model_name": "LayoutModel",
      "state": {
       "height": "0px",
       "width": "0px"
      }
     },
     "93937d7b6ac642c29e9b061c59a3db2a": {
      "model_module": "@jupyter-widgets/base",
      "model_module_version": "1.1.0",
      "model_name": "LayoutModel",
      "state": {}
     },
     "94109630a2764b6fb9c1f2deaa4eff3f": {
      "model_module": "@jupyter-widgets/controls",
      "model_module_version": "1.4.0",
      "model_name": "FloatTextModel",
      "state": {
       "layout": "IPY_MODEL_9227470751ed48d1979a8ab2c991e0cf",
       "step": null,
       "style": "IPY_MODEL_cda7d59ecf3b463e83fbcca7d6ded37f"
      }
     },
     "94c62e1f059546eaa77c67a8748086d9": {
      "model_module": "@jupyter-widgets/controls",
      "model_module_version": "1.4.0",
      "model_name": "DescriptionStyleModel",
      "state": {
       "description_width": ""
      }
     },
     "94d262c9132f4dee8a1ebacba7959d25": {
      "model_module": "@jupyter-widgets/controls",
      "model_module_version": "1.4.0",
      "model_name": "LabelModel",
      "state": {
       "layout": "IPY_MODEL_de0e0312dad54b3aac1bda5344f2766f",
       "style": "IPY_MODEL_5e19f43ea55f42219de81bad36116894"
      }
     },
     "951ff7c9dfad42808f1dc9d409ff2c4c": {
      "model_module": "@jupyter-widgets/base",
      "model_module_version": "1.1.0",
      "model_name": "LayoutModel",
      "state": {}
     },
     "9556274e90b64a4bb51b8e1a2eb0462e": {
      "model_module": "@jupyter-widgets/base",
      "model_module_version": "1.1.0",
      "model_name": "LayoutModel",
      "state": {}
     },
     "955a72f962644df8bea0b03467a6d2e3": {
      "model_module": "@jupyter-widgets/base",
      "model_module_version": "1.1.0",
      "model_name": "LayoutModel",
      "state": {}
     },
     "965ba5aa3bb648c899f8ba33fda5cf31": {
      "model_module": "@jupyter-widgets/controls",
      "model_module_version": "1.4.0",
      "model_name": "FloatTextModel",
      "state": {
       "layout": "IPY_MODEL_74b2c32160214088bd33ae84127e92bc",
       "step": null,
       "style": "IPY_MODEL_a5c61a105e6e45afa9758af74b614962",
       "value": 2225
      }
     },
     "967ea0cea3b44232b483737bad238961": {
      "model_module": "@jupyter-widgets/controls",
      "model_module_version": "1.4.0",
      "model_name": "DescriptionStyleModel",
      "state": {
       "description_width": ""
      }
     },
     "9850692dac5444339af116e293364b98": {
      "model_module": "@jupyter-widgets/controls",
      "model_module_version": "1.4.0",
      "model_name": "LabelModel",
      "state": {
       "layout": "IPY_MODEL_364239ea052146749c210d876d457052",
       "style": "IPY_MODEL_a17e77cf8e2d4cd1b086d4dda0b399ce"
      }
     },
     "991efac838994f0ab46af4dd67a6cce2": {
      "model_module": "@jupyter-widgets/base",
      "model_module_version": "1.1.0",
      "model_name": "LayoutModel",
      "state": {}
     },
     "992c66e245f641c19dbfccd1fcf3dc9b": {
      "model_module": "@jupyter-widgets/controls",
      "model_module_version": "1.4.0",
      "model_name": "LabelModel",
      "state": {
       "layout": "IPY_MODEL_c355d1874a554165b4099d8da3d35aef",
       "style": "IPY_MODEL_0e3a382431764e918183d36d775bca91",
       "value": "La:"
      }
     },
     "992d4f926f4b47b79dee5492a88d012f": {
      "model_module": "@jupyter-widgets/controls",
      "model_module_version": "1.4.0",
      "model_name": "FloatTextModel",
      "state": {
       "disabled": true,
       "layout": "IPY_MODEL_eb845b48322e45158642a399f660afa0",
       "step": null,
       "style": "IPY_MODEL_69596f18125f465a842253c4a56b8254",
       "value": -0.35
      }
     },
     "996a0fc2c31d488089176d41d8206f99": {
      "model_module": "@jupyter-widgets/controls",
      "model_module_version": "1.4.0",
      "model_name": "DescriptionStyleModel",
      "state": {
       "description_width": ""
      }
     },
     "99e3340dccac4f1a9ed489a4bb4d53b8": {
      "model_module": "@jupyter-widgets/controls",
      "model_module_version": "1.4.0",
      "model_name": "DropdownModel",
      "state": {
       "_options_labels": [
        "0 complex eigenvalues",
        "2 complex eigenvalues"
       ],
       "description": "Aobs:",
       "disabled": true,
       "index": 0,
       "layout": "IPY_MODEL_217df9fb08f841e0b881ed5ff541226f",
       "style": "IPY_MODEL_def75223186b46c2ab6eb64e80dbe69d"
      }
     },
     "9a30578514a043dc80c647d4b5ab588d": {
      "model_module": "@jupyter-widgets/controls",
      "model_module_version": "1.4.0",
      "model_name": "LabelModel",
      "state": {
       "layout": "IPY_MODEL_c3383bbe576346f085ed887be29c1071",
       "style": "IPY_MODEL_78e0cf59f666429ba0b284f17cd837f0"
      }
     },
     "9a4bb58b105e4702af8bc3d718dfd1c3": {
      "model_module": "@jupyter-widgets/base",
      "model_module_version": "1.1.0",
      "model_name": "LayoutModel",
      "state": {}
     },
     "9a5f4e5b037a43a9b59844db56f0835f": {
      "model_module": "@jupyter-widgets/base",
      "model_module_version": "1.1.0",
      "model_name": "LayoutModel",
      "state": {}
     },
     "9aa8d3ec40df4e009aab31ecae602e3a": {
      "model_module": "@jupyter-widgets/base",
      "model_module_version": "1.1.0",
      "model_name": "LayoutModel",
      "state": {}
     },
     "9adf73266e5b41fca5ffa68f3c06d757": {
      "model_module": "@jupyter-widgets/base",
      "model_module_version": "1.1.0",
      "model_name": "LayoutModel",
      "state": {}
     },
     "9b5dafc61d3444c5ad1d3934f7051d68": {
      "model_module": "@jupyter-widgets/base",
      "model_module_version": "1.1.0",
      "model_name": "LayoutModel",
      "state": {}
     },
     "9be6a001337f487e922bd0dfa9a78022": {
      "model_module": "@jupyter-widgets/controls",
      "model_module_version": "1.4.0",
      "model_name": "LabelModel",
      "state": {
       "layout": "IPY_MODEL_6c5bde8b5bac48509228c5bee9f36bbd",
       "style": "IPY_MODEL_65deab75d13c4bf1bef36f3c38182f6b",
       "value": "Aobs's eigs:"
      }
     },
     "9c510b94c02845c18cef93c5f4a2484f": {
      "model_module": "@jupyter-widgets/base",
      "model_module_version": "1.1.0",
      "model_name": "LayoutModel",
      "state": {}
     },
     "9c5f455366254c98bcb2a632ba62746f": {
      "model_module": "@jupyter-widgets/controls",
      "model_module_version": "1.4.0",
      "model_name": "DropdownModel",
      "state": {
       "_options_labels": [
        "0 complex eigenvalues",
        "2 complex eigenvalues",
        "4 complex eigenvalues"
       ],
       "description": "Aa:",
       "disabled": true,
       "index": 0,
       "layout": "IPY_MODEL_8c91254678864b30a16507999fae5742",
       "style": "IPY_MODEL_0ffabbd5de5b4e49b39460918d7833c9"
      }
     },
     "9c7326c1824c4d51bcba36be24cfd780": {
      "model_module": "@jupyter-widgets/controls",
      "model_module_version": "1.4.0",
      "model_name": "DescriptionStyleModel",
      "state": {
       "description_width": ""
      }
     },
     "9d157d49b60d48c9ae30175ff22d2776": {
      "model_module": "@jupyter-widgets/base",
      "model_module_version": "1.1.0",
      "model_name": "LayoutModel",
      "state": {}
     },
     "9d2107f7a8294bb5a1e31ad3096c399e": {
      "model_module": "@jupyter-widgets/controls",
      "model_module_version": "1.4.0",
      "model_name": "DropdownModel",
      "state": {
       "_options_labels": [
        "Set Ka and La",
        "Set the eigenvalues"
       ],
       "index": 0,
       "layout": "IPY_MODEL_d6431a11b46943d48afc9b025482f791",
       "style": "IPY_MODEL_24dd982e2a6149fa8600278128d390d9"
      }
     },
     "9e0c7264530f48d8a6e52208066546ff": {
      "model_module": "@jupyter-widgets/controls",
      "model_module_version": "1.4.0",
      "model_name": "VBoxModel",
      "state": {
       "children": [
        "IPY_MODEL_c566d7ba152c41a9bb70e0b1399a0f3e",
        "IPY_MODEL_ffc5676e98b545a9897040da8eda7dc9"
       ],
       "layout": "IPY_MODEL_dd750e074b794c73b436f80106ff3f09"
      }
     },
     "9e3dc09502d8495584a6ac12c8f8ac5a": {
      "model_module": "@jupyter-widgets/base",
      "model_module_version": "1.1.0",
      "model_name": "LayoutModel",
      "state": {}
     },
     "9e4fb7fb6cee4738ab762e038ba437ba": {
      "model_module": "@jupyter-widgets/base",
      "model_module_version": "1.1.0",
      "model_name": "LayoutModel",
      "state": {}
     },
     "9edf3cd601b845089ed8bd5d7bc8d3eb": {
      "model_module": "@jupyter-widgets/base",
      "model_module_version": "1.1.0",
      "model_name": "LayoutModel",
      "state": {}
     },
     "9efb9c3136cb4814bbbbb397033e6d24": {
      "model_module": "@jupyter-widgets/controls",
      "model_module_version": "1.4.0",
      "model_name": "FloatTextModel",
      "state": {
       "layout": "IPY_MODEL_5cf0c5c499384c6f96f84a0eae53b53c",
       "step": null,
       "style": "IPY_MODEL_32a09d78e0b3416a94dc5ac17c5bb0d0",
       "value": -66.66666666666667
      }
     },
     "9f2b0ec4d4034ae3ad81a74617b85dd9": {
      "model_module": "@jupyter-widgets/controls",
      "model_module_version": "1.4.0",
      "model_name": "FloatTextModel",
      "state": {
       "layout": "IPY_MODEL_e35ded94ccdb411fb3f03b38368623d6",
       "step": null,
       "style": "IPY_MODEL_f971744a6b6f4c44b945449b4acd81c4"
      }
     },
     "9f426cacd41c42aca1af846e019bfa02": {
      "model_module": "@jupyter-widgets/controls",
      "model_module_version": "1.4.0",
      "model_name": "LabelModel",
      "state": {
       "layout": "IPY_MODEL_226ecd100d9b43bdb15a7c6850582d90",
       "style": "IPY_MODEL_b33e7488490b4fa8ba525c1d8fbb4126"
      }
     },
     "9f7de2b91d5f4664b24e72fafb4248bf": {
      "model_module": "@jupyter-widgets/controls",
      "model_module_version": "1.4.0",
      "model_name": "LabelModel",
      "state": {
       "layout": "IPY_MODEL_460300bb7cfb4e759ba669fd07f3b123",
       "style": "IPY_MODEL_ea21094a446f4ef5a10ba3ec7281a8e1"
      }
     },
     "a016d7fcf44b4c7988226f529ae389e7": {
      "model_module": "@jupyter-widgets/controls",
      "model_module_version": "1.4.0",
      "model_name": "LabelModel",
      "state": {
       "layout": "IPY_MODEL_28145b3fa0c947388e212e724a9d4113",
       "style": "IPY_MODEL_bc95ce86f973460686ff28ab1ad25643",
       "value": "La:"
      }
     },
     "a17e77cf8e2d4cd1b086d4dda0b399ce": {
      "model_module": "@jupyter-widgets/controls",
      "model_module_version": "1.4.0",
      "model_name": "DescriptionStyleModel",
      "state": {
       "description_width": ""
      }
     },
     "a1e753b9be3c4fb18a402f4d11ad7622": {
      "model_module": "@jupyter-widgets/output",
      "model_module_version": "1.0.0",
      "model_name": "OutputModel",
      "state": {
       "layout": "IPY_MODEL_2ad36e1cd7c6491ebd207e23495eaf5f",
       "outputs": [
        {
         "name": "stdout",
         "output_type": "stream",
         "text": "The Aa's eigenvalues are: -2.24+2.23j, -2.24+-2.23j, -0.28+0.00j, -0.26+0.32j and -0.26+-0.32j\nThe observer\\s eigenvalues are: -10.00+0.00j and -10.00+0.00j\n"
        }
       ]
      }
     },
     "a1f873543ca745e8869870277844004a": {
      "model_module": "@jupyter-widgets/controls",
      "model_module_version": "1.4.0",
      "model_name": "FloatTextModel",
      "state": {
       "disabled": true,
       "layout": "IPY_MODEL_abd294ef813b4562ba3af45c793fa8cd",
       "step": null,
       "style": "IPY_MODEL_186de4e4fe0949228939f5d0f3901124"
      }
     },
     "a225f194cbbc4a6dbf9bed6cdfccc646": {
      "model_module": "@jupyter-widgets/controls",
      "model_module_version": "1.4.0",
      "model_name": "DescriptionStyleModel",
      "state": {
       "description_width": ""
      }
     },
     "a233f2749697478193516c67501f9bf6": {
      "model_module": "@jupyter-widgets/controls",
      "model_module_version": "1.4.0",
      "model_name": "HBoxModel",
      "state": {
       "children": [
        "IPY_MODEL_3fcf20770fa04a8f99220ecff57a919c",
        "IPY_MODEL_7571abb03f0040679517c6245bf38472",
        "IPY_MODEL_5ca9d6cfbf1e4f5a95615e0dba52d25b",
        "IPY_MODEL_fbb1d9058ea14688b02e1bf1f255cd4f",
        "IPY_MODEL_784694adeef14254b06506b91ca25387"
       ],
       "layout": "IPY_MODEL_d12e5a5b011349588613791490b0f7e0"
      }
     },
     "a267df06d1fd4abdbeeaa4b209f965f6": {
      "model_module": "@jupyter-widgets/controls",
      "model_module_version": "1.4.0",
      "model_name": "VBoxModel",
      "state": {
       "children": [
        "IPY_MODEL_ce2edb54fe42459ca62c2936d6529836",
        "IPY_MODEL_bd3eeb55a66a4475a7aca37d905b30d1"
       ],
       "layout": "IPY_MODEL_296ca86ae0ed488dbcf495fcee09b2d4"
      }
     },
     "a2730760d6e340dd9350b3d45baf8886": {
      "model_module": "@jupyter-widgets/controls",
      "model_module_version": "1.4.0",
      "model_name": "DescriptionStyleModel",
      "state": {
       "description_width": ""
      }
     },
     "a2a23603747a44b8b4b99e05ba1585cc": {
      "model_module": "@jupyter-widgets/controls",
      "model_module_version": "1.4.0",
      "model_name": "DescriptionStyleModel",
      "state": {
       "description_width": ""
      }
     },
     "a2ad8cd0ada14749b6cff38db8256c77": {
      "model_module": "@jupyter-widgets/base",
      "model_module_version": "1.1.0",
      "model_name": "LayoutModel",
      "state": {}
     },
     "a2b1153c0b734d19bbbe9e4cb71dfd22": {
      "model_module": "@jupyter-widgets/base",
      "model_module_version": "1.1.0",
      "model_name": "LayoutModel",
      "state": {}
     },
     "a33161fb781f43298700965957684f1e": {
      "model_module": "@jupyter-widgets/controls",
      "model_module_version": "1.4.0",
      "model_name": "ButtonModel",
      "state": {
       "description": "Test",
       "icon": "check",
       "layout": "IPY_MODEL_6672827f1251434cafa61ba9bb202373",
       "style": "IPY_MODEL_eb04c670a97349aa81672b123aa0368f",
       "tooltip": "Test"
      }
     },
     "a35a317a47864a4bbdf20780013db7d8": {
      "model_module": "@jupyter-widgets/controls",
      "model_module_version": "1.4.0",
      "model_name": "DescriptionStyleModel",
      "state": {
       "description_width": ""
      }
     },
     "a3c2a24a94aa456cbd6779a86c1f06ad": {
      "model_module": "@jupyter-widgets/controls",
      "model_module_version": "1.4.0",
      "model_name": "VBoxModel",
      "state": {
       "children": [
        "IPY_MODEL_f66682badded4087a8e4129a3e4d524b"
       ],
       "layout": "IPY_MODEL_3b4c40f6dee64918a393d35056e0c706"
      }
     },
     "a3e62160c9b54b1d8127e609d6602571": {
      "model_module": "@jupyter-widgets/base",
      "model_module_version": "1.1.0",
      "model_name": "LayoutModel",
      "state": {}
     },
     "a428fbacff1a4a828a289047af365d41": {
      "model_module": "@jupyter-widgets/controls",
      "model_module_version": "1.4.0",
      "model_name": "DescriptionStyleModel",
      "state": {
       "description_width": ""
      }
     },
     "a4573b1d69b94da6abe2d29a5940a904": {
      "model_module": "@jupyter-widgets/controls",
      "model_module_version": "1.4.0",
      "model_name": "DescriptionStyleModel",
      "state": {
       "description_width": ""
      }
     },
     "a460952c12254a589008273d3b2199a9": {
      "model_module": "@jupyter-widgets/base",
      "model_module_version": "1.1.0",
      "model_name": "LayoutModel",
      "state": {}
     },
     "a4d1a29d08444259bc6ac049b78ec661": {
      "model_module": "@jupyter-widgets/base",
      "model_module_version": "1.1.0",
      "model_name": "LayoutModel",
      "state": {}
     },
     "a5628dd710ed40f0836562eea9957797": {
      "model_module": "@jupyter-widgets/controls",
      "model_module_version": "1.4.0",
      "model_name": "HBoxModel",
      "state": {
       "children": [
        "IPY_MODEL_90428d44e77d4165ac20f73f2cc388b9"
       ],
       "layout": "IPY_MODEL_4ec30f2860a74ef0a6f495243611dd88"
      }
     },
     "a5808a4c8deb4864a3bf6c22210b4579": {
      "model_module": "@jupyter-widgets/base",
      "model_module_version": "1.1.0",
      "model_name": "LayoutModel",
      "state": {}
     },
     "a5b53e522d8e4962a7d78f2bf1ad4c12": {
      "model_module": "@jupyter-widgets/controls",
      "model_module_version": "1.4.0",
      "model_name": "HBoxModel",
      "state": {
       "children": [
        "IPY_MODEL_0f26c8afca96402aa66b81bc451a3559",
        "IPY_MODEL_4ddaa11b8783416d8518d303745b09a7",
        "IPY_MODEL_6e7e97282d8646a99e47bb6ba752331d",
        "IPY_MODEL_bf5b937f5c5c49df9d883ad5b1642e3c",
        "IPY_MODEL_36b4c1c517ff44af830b4f3695cbd377"
       ],
       "layout": "IPY_MODEL_5fd329d9eb304ad5a6bce400ae2719bd"
      }
     },
     "a5c61a105e6e45afa9758af74b614962": {
      "model_module": "@jupyter-widgets/controls",
      "model_module_version": "1.4.0",
      "model_name": "DescriptionStyleModel",
      "state": {
       "description_width": ""
      }
     },
     "a632af6c959f4150a8552cf2868f1563": {
      "model_module": "@jupyter-widgets/controls",
      "model_module_version": "1.4.0",
      "model_name": "HBoxModel",
      "state": {
       "children": [
        "IPY_MODEL_a1f873543ca745e8869870277844004a"
       ],
       "layout": "IPY_MODEL_37327690f2424d65b8d49eece9eaf6a9"
      }
     },
     "a6ad84dbfce948f98666e1dd20d617e5": {
      "model_module": "@jupyter-widgets/controls",
      "model_module_version": "1.4.0",
      "model_name": "DescriptionStyleModel",
      "state": {
       "description_width": ""
      }
     },
     "a7b4cf28d00f47458db9d6207df4c87c": {
      "model_module": "@jupyter-widgets/base",
      "model_module_version": "1.1.0",
      "model_name": "LayoutModel",
      "state": {}
     },
     "a8c021ecd91740e0a4a051e52059b3e9": {
      "model_module": "@jupyter-widgets/base",
      "model_module_version": "1.1.0",
      "model_name": "LayoutModel",
      "state": {}
     },
     "a91bbca18081424791e2d1ee5f5cce53": {
      "model_module": "@jupyter-widgets/controls",
      "model_module_version": "1.4.0",
      "model_name": "HBoxModel",
      "state": {
       "children": [
        "IPY_MODEL_1c47caf2cb4b47a3a6d0d38a124adb42",
        "IPY_MODEL_e64a1f67ddd246a4b2817a99b07cca56",
        "IPY_MODEL_e7eba20de0944e0c98115502cd135383",
        "IPY_MODEL_7d01dc2c0b4d48d98e763efa1f17a404",
        "IPY_MODEL_7ffaa79fb9994c4bae603296d84f245e",
        "IPY_MODEL_df4f2e5f7cac45da9930e46f5690c3a4"
       ],
       "layout": "IPY_MODEL_4c4a53b62fd44b28b1cce41d159b39bf"
      }
     },
     "a9c2a999751c47b590d4150abf7bbb56": {
      "model_module": "@jupyter-widgets/controls",
      "model_module_version": "1.4.0",
      "model_name": "LabelModel",
      "state": {
       "layout": "IPY_MODEL_28eeaa6532d64589be32837e44b6116e",
       "style": "IPY_MODEL_bfc0aca326e44e0e8cfa33e7a1b1d630"
      }
     },
     "a9df4eb6b13f4772b2ba3fc42ce6a654": {
      "model_module": "@jupyter-widgets/controls",
      "model_module_version": "1.4.0",
      "model_name": "DescriptionStyleModel",
      "state": {
       "description_width": ""
      }
     },
     "aa1c17dc86e6441485062eed23d3ab0a": {
      "model_module": "@jupyter-widgets/base",
      "model_module_version": "1.1.0",
      "model_name": "LayoutModel",
      "state": {}
     },
     "aa1c87d6fda14c1980b7d432ee2fe366": {
      "model_module": "@jupyter-widgets/controls",
      "model_module_version": "1.4.0",
      "model_name": "FloatTextModel",
      "state": {
       "layout": "IPY_MODEL_86dffef0637946b6bdce07bd18233633",
       "step": null,
       "style": "IPY_MODEL_4278af2ea2454105a0438aceb142c914",
       "value": 5275
      }
     },
     "aa396f910ca1429e83f9525d6adb3ba8": {
      "model_module": "@jupyter-widgets/base",
      "model_module_version": "1.1.0",
      "model_name": "LayoutModel",
      "state": {}
     },
     "aa41ddcb506d4d6a8ae6f55403ae7d59": {
      "model_module": "@jupyter-widgets/base",
      "model_module_version": "1.1.0",
      "model_name": "LayoutModel",
      "state": {
       "width": "90px"
      }
     },
     "ab5d1f7943974b4ea254b5b26a1c85d8": {
      "model_module": "@jupyter-widgets/controls",
      "model_module_version": "1.4.0",
      "model_name": "LabelModel",
      "state": {
       "layout": "IPY_MODEL_16112e01e61a4c7a852edd7bb209d2be",
       "style": "IPY_MODEL_7922325f544a4df3b7a664440ab450f3"
      }
     },
     "ab62f7fb8f884a83b7a1a8cd07fc402b": {
      "model_module": "@jupyter-widgets/base",
      "model_module_version": "1.1.0",
      "model_name": "LayoutModel",
      "state": {}
     },
     "abbda41855ae4751925c4c1c2e1ecad3": {
      "model_module": "@jupyter-widgets/controls",
      "model_module_version": "1.4.0",
      "model_name": "FloatTextModel",
      "state": {
       "layout": "IPY_MODEL_37e3d4ef915442e587ab592c14598b61",
       "step": null,
       "style": "IPY_MODEL_0f6c3a9260604cbfabe83a35c70edc75"
      }
     },
     "abd294ef813b4562ba3af45c793fa8cd": {
      "model_module": "@jupyter-widgets/base",
      "model_module_version": "1.1.0",
      "model_name": "LayoutModel",
      "state": {
       "width": "90px"
      }
     },
     "ac0ffe7011a04929a5584f8a14bbb898": {
      "model_module": "@jupyter-widgets/controls",
      "model_module_version": "1.4.0",
      "model_name": "DescriptionStyleModel",
      "state": {
       "description_width": ""
      }
     },
     "ac1bd1734d2c4d0182e333fa5842cb67": {
      "model_module": "@jupyter-widgets/controls",
      "model_module_version": "1.4.0",
      "model_name": "FloatTextModel",
      "state": {
       "layout": "IPY_MODEL_2bf0392a0f39437ba55867d895e68ba0",
       "step": null,
       "style": "IPY_MODEL_daf87ceba6fc4cff807558eed8167824"
      }
     },
     "ac57f9372bfa4b58a5c390e8d098726c": {
      "model_module": "@jupyter-widgets/base",
      "model_module_version": "1.1.0",
      "model_name": "LayoutModel",
      "state": {}
     },
     "ac58d08f3ce54afa8fe5fd6c045ae5af": {
      "model_module": "@jupyter-widgets/controls",
      "model_module_version": "1.4.0",
      "model_name": "HBoxModel",
      "state": {
       "children": [
        "IPY_MODEL_1cf2e125728c4d5e8c8fea95a6038064",
        "IPY_MODEL_6d68637432684016b0727f506afe0df5",
        "IPY_MODEL_f01b454caf0243f89fac5809d26d4cf2",
        "IPY_MODEL_3fe63ac60ab64ded984e9abeeff7abf5",
        "IPY_MODEL_317ee220faa84115bad387393653c51c",
        "IPY_MODEL_587e0f7d832d4ecc866fb0f39ea9d990",
        "IPY_MODEL_212cbb388f3446d9be9fc9ea66b8a4ef",
        "IPY_MODEL_9850692dac5444339af116e293364b98",
        "IPY_MODEL_9be6a001337f487e922bd0dfa9a78022",
        "IPY_MODEL_a3c2a24a94aa456cbd6779a86c1f06ad",
        "IPY_MODEL_25be128dd26d4cd298247bbbc5bbe06a"
       ],
       "layout": "IPY_MODEL_9157d2ff6f494800ac8ae9cdc1fde052"
      }
     },
     "ac8c59c13a5f406eab4c4e5831aab8c5": {
      "model_module": "@jupyter-widgets/controls",
      "model_module_version": "1.4.0",
      "model_name": "DescriptionStyleModel",
      "state": {
       "description_width": ""
      }
     },
     "acc2a1e4067f46c38bb2cbd0039ce326": {
      "model_module": "@jupyter-widgets/base",
      "model_module_version": "1.1.0",
      "model_name": "LayoutModel",
      "state": {}
     },
     "acce651c42c84a9894a543393f8a167c": {
      "model_module": "@jupyter-widgets/base",
      "model_module_version": "1.1.0",
      "model_name": "LayoutModel",
      "state": {}
     },
     "ace5b89dbb38430baaca9d95f8928041": {
      "model_module": "@jupyter-widgets/base",
      "model_module_version": "1.1.0",
      "model_name": "LayoutModel",
      "state": {}
     },
     "acecc2cb78574027ab0f5990fddab600": {
      "model_module": "@jupyter-widgets/controls",
      "model_module_version": "1.4.0",
      "model_name": "LabelModel",
      "state": {
       "layout": "IPY_MODEL_f699eb1a696a488fab7f9c72c92dee1a",
       "style": "IPY_MODEL_59fa07d6295e403fb187b29b6a589349"
      }
     },
     "acfff617198a4fed9692133377da3b47": {
      "model_module": "@jupyter-widgets/base",
      "model_module_version": "1.1.0",
      "model_name": "LayoutModel",
      "state": {}
     },
     "ad34d26874a24d2c89c2f16a3cf953ee": {
      "model_module": "@jupyter-widgets/controls",
      "model_module_version": "1.4.0",
      "model_name": "LabelModel",
      "state": {
       "layout": "IPY_MODEL_9c510b94c02845c18cef93c5f4a2484f",
       "style": "IPY_MODEL_779c0d356e134116a834edf79e733609"
      }
     },
     "ad7ee93bc69e44238236082c27729623": {
      "model_module": "@jupyter-widgets/controls",
      "model_module_version": "1.4.0",
      "model_name": "LabelModel",
      "state": {
       "layout": "IPY_MODEL_32c998c40fcb45f29c5f62895b3ae599",
       "style": "IPY_MODEL_3e952182f68c4e9ab7e75f184898c9a2",
       "value": "Ka:"
      }
     },
     "ad88204fbe9a48e0978492ccd91ad57b": {
      "model_module": "@jupyter-widgets/base",
      "model_module_version": "1.1.0",
      "model_name": "LayoutModel",
      "state": {}
     },
     "ad8f79d762fa4eb4b640314da6950629": {
      "model_module": "@jupyter-widgets/controls",
      "model_module_version": "1.4.0",
      "model_name": "HBoxModel",
      "state": {
       "children": [
        "IPY_MODEL_6313022924144436af1f7f4cd8e9779c"
       ],
       "layout": "IPY_MODEL_c51bdfc13b47415f9460f0ee83c1df87"
      }
     },
     "ada0e8828ac343df9e9760d6df6d9714": {
      "model_module": "@jupyter-widgets/base",
      "model_module_version": "1.1.0",
      "model_name": "LayoutModel",
      "state": {}
     },
     "adb4d4606a424246aaccb800cd1f30df": {
      "model_module": "@jupyter-widgets/base",
      "model_module_version": "1.1.0",
      "model_name": "LayoutModel",
      "state": {}
     },
     "add2942f83e541c2af6d4410e83b6dde": {
      "model_module": "@jupyter-widgets/base",
      "model_module_version": "1.1.0",
      "model_name": "LayoutModel",
      "state": {}
     },
     "add9bf7eae994418b676c6558ec5f0f1": {
      "model_module": "@jupyter-widgets/controls",
      "model_module_version": "1.4.0",
      "model_name": "DescriptionStyleModel",
      "state": {
       "description_width": ""
      }
     },
     "ade065b9c0274c9f8243ed695fe68333": {
      "model_module": "@jupyter-widgets/controls",
      "model_module_version": "1.4.0",
      "model_name": "DescriptionStyleModel",
      "state": {
       "description_width": ""
      }
     },
     "ade07f29b03d42f9af3c3c14c7d31ea0": {
      "model_module": "@jupyter-widgets/base",
      "model_module_version": "1.1.0",
      "model_name": "LayoutModel",
      "state": {}
     },
     "ae2970f665224c9fbc4420c1cffb665d": {
      "model_module": "@jupyter-widgets/base",
      "model_module_version": "1.1.0",
      "model_name": "LayoutModel",
      "state": {}
     },
     "ae665ed5b04d42f1b2b624cfbc726e6f": {
      "model_module": "@jupyter-widgets/base",
      "model_module_version": "1.1.0",
      "model_name": "LayoutModel",
      "state": {}
     },
     "aec6d0f1383e406296db3be22810ad9c": {
      "model_module": "@jupyter-widgets/controls",
      "model_module_version": "1.4.0",
      "model_name": "LabelModel",
      "state": {
       "layout": "IPY_MODEL_409aba40e57f41d5bb4f1379e4152d4e",
       "style": "IPY_MODEL_f48ce26f0db74d56b4257564f06b803e",
       "value": "La:"
      }
     },
     "aecb9207ab8d41ffb563fc62ebc16006": {
      "model_module": "@jupyter-widgets/output",
      "model_module_version": "1.0.0",
      "model_name": "OutputModel",
      "state": {
       "layout": "IPY_MODEL_3882f6bf357a4adab0cd5691b4c6c866",
       "outputs": [
        {
         "name": "stdout",
         "output_type": "stream",
         "text": "The Aa's eigenvalues are: -2.24+2.23j, -2.24+-2.23j, -0.28+0.00j, -0.26+0.32j and -0.26+-0.32j\nThe observer\\s eigenvalues are: -10.00+0.00j and -10.00+0.00j\n"
        }
       ]
      }
     },
     "aef9a5d2035249b8a3333a29aded71de": {
      "model_module": "@jupyter-widgets/controls",
      "model_module_version": "1.4.0",
      "model_name": "FloatTextModel",
      "state": {
       "layout": "IPY_MODEL_aa41ddcb506d4d6a8ae6f55403ae7d59",
       "step": null,
       "style": "IPY_MODEL_0706e16b9ab64db69dc8b23ae2724d9e",
       "value": -0.5
      }
     },
     "af33c6205ab247349a81557418e23272": {
      "model_module": "@jupyter-widgets/base",
      "model_module_version": "1.1.0",
      "model_name": "LayoutModel",
      "state": {}
     },
     "af6f99f25c5f46168e1651111b8ad41b": {
      "model_module": "@jupyter-widgets/controls",
      "model_module_version": "1.4.0",
      "model_name": "DescriptionStyleModel",
      "state": {
       "description_width": ""
      }
     },
     "b05b346ca5f149c68313830c8017a0c4": {
      "model_module": "@jupyter-widgets/controls",
      "model_module_version": "1.4.0",
      "model_name": "LabelModel",
      "state": {
       "layout": "IPY_MODEL_37d23d6207874b9db8948c62f4cd0835",
       "style": "IPY_MODEL_4bdfb3011517401eace9dacb974b719c"
      }
     },
     "b080ba2fe8b74e95941fc70e47b839e1": {
      "model_module": "@jupyter-widgets/controls",
      "model_module_version": "1.4.0",
      "model_name": "VBoxModel",
      "state": {
       "children": [
        "IPY_MODEL_ad8f79d762fa4eb4b640314da6950629"
       ],
       "layout": "IPY_MODEL_deaede3f369447fa81a975c26718206a"
      }
     },
     "b091aa29372a4b588df50dbfdb73bfca": {
      "model_module": "@jupyter-widgets/controls",
      "model_module_version": "1.4.0",
      "model_name": "DescriptionStyleModel",
      "state": {
       "description_width": ""
      }
     },
     "b099da3d4c434dc5847966b8cdd77694": {
      "model_module": "@jupyter-widgets/base",
      "model_module_version": "1.1.0",
      "model_name": "LayoutModel",
      "state": {}
     },
     "b16de3267e844d5893eb86aa89317258": {
      "model_module": "@jupyter-widgets/base",
      "model_module_version": "1.1.0",
      "model_name": "LayoutModel",
      "state": {}
     },
     "b21b2a2d1b35450395e3c319fc54c196": {
      "model_module": "@jupyter-widgets/controls",
      "model_module_version": "1.4.0",
      "model_name": "FloatTextModel",
      "state": {
       "layout": "IPY_MODEL_e2a06b360f0e49c6be50c844c97854d2",
       "step": null,
       "style": "IPY_MODEL_a6ad84dbfce948f98666e1dd20d617e5",
       "value": -0.6
      }
     },
     "b2d05cd7284844c9a283bfeaa163772d": {
      "model_module": "@jupyter-widgets/controls",
      "model_module_version": "1.4.0",
      "model_name": "LabelModel",
      "state": {
       "layout": "IPY_MODEL_3e59c5655b3f41d1aaf0f24e30cdd54c",
       "style": "IPY_MODEL_2bc216ef3e2d46c8b160d194b072936c",
       "value": "Aobs's eigs:"
      }
     },
     "b33e7488490b4fa8ba525c1d8fbb4126": {
      "model_module": "@jupyter-widgets/controls",
      "model_module_version": "1.4.0",
      "model_name": "DescriptionStyleModel",
      "state": {
       "description_width": ""
      }
     },
     "b438c6c4dba24c86a5f99cb78a66dc10": {
      "model_module": "@jupyter-widgets/base",
      "model_module_version": "1.1.0",
      "model_name": "LayoutModel",
      "state": {}
     },
     "b44a86c421fc453e90a3fbdd66345770": {
      "model_module": "@jupyter-widgets/base",
      "model_module_version": "1.1.0",
      "model_name": "LayoutModel",
      "state": {}
     },
     "b45ddf3e5d6349ee82a4176a026af3aa": {
      "model_module": "@jupyter-widgets/controls",
      "model_module_version": "1.4.0",
      "model_name": "DescriptionStyleModel",
      "state": {
       "description_width": ""
      }
     },
     "b5581d35824c472bb9eaac0a5762f404": {
      "model_module": "@jupyter-widgets/controls",
      "model_module_version": "1.4.0",
      "model_name": "DropdownModel",
      "state": {
       "_options_labels": [
        "0 complex eigenvalues",
        "2 complex eigenvalues"
       ],
       "description": "Aobs:",
       "disabled": true,
       "index": 0,
       "layout": "IPY_MODEL_ebb16ece53454ebcaf4e7e76b58df6c0",
       "style": "IPY_MODEL_b45ddf3e5d6349ee82a4176a026af3aa"
      }
     },
     "b55b9482c3094a98a8cf619d230dbc9b": {
      "model_module": "@jupyter-widgets/controls",
      "model_module_version": "1.4.0",
      "model_name": "LabelModel",
      "state": {
       "layout": "IPY_MODEL_ca11427347f64c5f951f50f087770cb1",
       "style": "IPY_MODEL_fa6b3a1cd38f4591b1ea46c619cb3030"
      }
     },
     "b56385a123a9454aa4c26e576ee9e00e": {
      "model_module": "@jupyter-widgets/controls",
      "model_module_version": "1.4.0",
      "model_name": "LabelModel",
      "state": {
       "layout": "IPY_MODEL_285f9014036e4d5485f9c4c625564664",
       "style": "IPY_MODEL_ddcde07e7b004058846b6f64691c5b1b",
       "value": "Aa's eigs:"
      }
     },
     "b5a41552b1c54b3b8c58bfc026388d4f": {
      "model_module": "@jupyter-widgets/controls",
      "model_module_version": "1.4.0",
      "model_name": "DescriptionStyleModel",
      "state": {
       "description_width": ""
      }
     },
     "b60b7d037b5b45aba5cce6360c0cb3fe": {
      "model_module": "@jupyter-widgets/controls",
      "model_module_version": "1.4.0",
      "model_name": "DescriptionStyleModel",
      "state": {
       "description_width": ""
      }
     },
     "b6573d23f34546ba8e2cbf2b6767a8e1": {
      "model_module": "@jupyter-widgets/base",
      "model_module_version": "1.1.0",
      "model_name": "LayoutModel",
      "state": {
       "width": "90px"
      }
     },
     "b6800bb5073f4fb49de9e3b04e45f578": {
      "model_module": "@jupyter-widgets/controls",
      "model_module_version": "1.4.0",
      "model_name": "FloatTextModel",
      "state": {
       "layout": "IPY_MODEL_f13fe2c0b63c45769a832e70c2b163af",
       "step": null,
       "style": "IPY_MODEL_4255965f2e914f35bb60cb680011283c",
       "value": -1
      }
     },
     "b6fa08a5501e4a248ede49d190466047": {
      "model_module": "@jupyter-widgets/controls",
      "model_module_version": "1.4.0",
      "model_name": "DescriptionStyleModel",
      "state": {
       "description_width": ""
      }
     },
     "b71de6e879bf43289b585f20d30e8ed5": {
      "model_module": "@jupyter-widgets/controls",
      "model_module_version": "1.4.0",
      "model_name": "LabelModel",
      "state": {
       "layout": "IPY_MODEL_bb537de9ef7642bb900cce4aa0f97117",
       "style": "IPY_MODEL_8bd8a16f4c984ae9a3b83d639201f311"
      }
     },
     "b735c37b54aa43c8a0944fb020c85b42": {
      "model_module": "@jupyter-widgets/controls",
      "model_module_version": "1.4.0",
      "model_name": "DescriptionStyleModel",
      "state": {
       "description_width": ""
      }
     },
     "b7643201185d4a7eb66c0e9807d1fef7": {
      "model_module": "@jupyter-widgets/controls",
      "model_module_version": "1.4.0",
      "model_name": "FloatTextModel",
      "state": {
       "layout": "IPY_MODEL_dd481a0bcf16447a9ec5d9d36bfe144d",
       "step": null,
       "style": "IPY_MODEL_07cc0da023a94e43b22b059533bc0e4a",
       "value": -13.333333333333334
      }
     },
     "b797a5ddd90043d48dd5a77c0f954f95": {
      "model_module": "@jupyter-widgets/base",
      "model_module_version": "1.1.0",
      "model_name": "LayoutModel",
      "state": {}
     },
     "b7a97461761e4eecb7aa7b1254c26810": {
      "model_module": "@jupyter-widgets/base",
      "model_module_version": "1.1.0",
      "model_name": "LayoutModel",
      "state": {}
     },
     "b7ba6d95d1874a64bb2fb648a182f59f": {
      "model_module": "@jupyter-widgets/base",
      "model_module_version": "1.1.0",
      "model_name": "LayoutModel",
      "state": {}
     },
     "b7e50fc8f17b4abca78f401029a01bc2": {
      "model_module": "@jupyter-widgets/base",
      "model_module_version": "1.1.0",
      "model_name": "LayoutModel",
      "state": {}
     },
     "b834c7522897405288cb212a55b55289": {
      "model_module": "@jupyter-widgets/controls",
      "model_module_version": "1.4.0",
      "model_name": "FloatTextModel",
      "state": {
       "layout": "IPY_MODEL_7a9f39ecd9174a5a8dc508b3f593a736",
       "step": null,
       "style": "IPY_MODEL_3430f1d432be4157a235f074511b7e3e",
       "value": -0.2
      }
     },
     "b8b2f07ee6c64dc180f184dafa3db11a": {
      "model_module": "@jupyter-widgets/controls",
      "model_module_version": "1.4.0",
      "model_name": "DescriptionStyleModel",
      "state": {
       "description_width": ""
      }
     },
     "b952ba902f6a46968b42685d2716bfea": {
      "model_module": "@jupyter-widgets/controls",
      "model_module_version": "1.4.0",
      "model_name": "DropdownModel",
      "state": {
       "_options_labels": [
        "0 complex eigenvalues",
        "2 complex eigenvalues",
        "4 complex eigenvalues"
       ],
       "description": "Aa:",
       "disabled": true,
       "index": 0,
       "layout": "IPY_MODEL_000b9c5ed55f49e3a82cde3b11cd106c",
       "style": "IPY_MODEL_cea3dc89a5674bed860a1c0e14d1b995"
      }
     },
     "b96be3625e894b758c148ca1a3566d8e": {
      "model_module": "@jupyter-widgets/base",
      "model_module_version": "1.1.0",
      "model_name": "LayoutModel",
      "state": {}
     },
     "b9934d2ea426442b947bc55a6a98475c": {
      "model_module": "@jupyter-widgets/controls",
      "model_module_version": "1.4.0",
      "model_name": "LabelModel",
      "state": {
       "layout": "IPY_MODEL_58a2970073704e67a4a30380a7830767",
       "style": "IPY_MODEL_68537adbed234b189596496e5d19778e",
       "value": "Ka:"
      }
     },
     "b9ab7a820e01496bac78cac867d8987e": {
      "model_module": "@jupyter-widgets/base",
      "model_module_version": "1.1.0",
      "model_name": "LayoutModel",
      "state": {}
     },
     "ba39f17a808848619246755a9efb4013": {
      "model_module": "@jupyter-widgets/controls",
      "model_module_version": "1.4.0",
      "model_name": "DescriptionStyleModel",
      "state": {
       "description_width": ""
      }
     },
     "bad08b1eee074bc3b71be5dc3ac3cdde": {
      "model_module": "@jupyter-widgets/controls",
      "model_module_version": "1.4.0",
      "model_name": "HBoxModel",
      "state": {
       "children": [
        "IPY_MODEL_33330d6c86ba41eab73940f2280afb9a"
       ],
       "layout": "IPY_MODEL_78faa778293e4233bc1fa7fd155fb559"
      }
     },
     "bb1503441b804f2caeba60eca1ccbe5f": {
      "model_module": "@jupyter-widgets/controls",
      "model_module_version": "1.4.0",
      "model_name": "DescriptionStyleModel",
      "state": {
       "description_width": ""
      }
     },
     "bb537de9ef7642bb900cce4aa0f97117": {
      "model_module": "@jupyter-widgets/base",
      "model_module_version": "1.1.0",
      "model_name": "LayoutModel",
      "state": {}
     },
     "bb953ac90d224d4f936514edcfe673ca": {
      "model_module": "@jupyter-widgets/base",
      "model_module_version": "1.1.0",
      "model_name": "LayoutModel",
      "state": {}
     },
     "bc57fb4c89304c8489fdd40e587aba43": {
      "model_module": "@jupyter-widgets/controls",
      "model_module_version": "1.4.0",
      "model_name": "LabelModel",
      "state": {
       "layout": "IPY_MODEL_3a5b38eedfc246fb8c78fd0753841d63",
       "style": "IPY_MODEL_7ebbc139ae8c405bbaa34222e70c1838"
      }
     },
     "bc95ce86f973460686ff28ab1ad25643": {
      "model_module": "@jupyter-widgets/controls",
      "model_module_version": "1.4.0",
      "model_name": "DescriptionStyleModel",
      "state": {
       "description_width": ""
      }
     },
     "bcfa49fa72d34a4ea767dcb731e0630f": {
      "model_module": "@jupyter-widgets/base",
      "model_module_version": "1.1.0",
      "model_name": "LayoutModel",
      "state": {}
     },
     "bd3eeb55a66a4475a7aca37d905b30d1": {
      "model_module": "@jupyter-widgets/controls",
      "model_module_version": "1.4.0",
      "model_name": "HBoxModel",
      "state": {
       "children": [
        "IPY_MODEL_992d4f926f4b47b79dee5492a88d012f"
       ],
       "layout": "IPY_MODEL_fbf8566bdb534d5dbaa859344be12c0e"
      }
     },
     "bd60702069184fb9b8892a8ebb072f01": {
      "model_module": "@jupyter-widgets/controls",
      "model_module_version": "1.4.0",
      "model_name": "DescriptionStyleModel",
      "state": {
       "description_width": ""
      }
     },
     "bd94108b305f407c92c6883909612aa9": {
      "model_module": "@jupyter-widgets/base",
      "model_module_version": "1.1.0",
      "model_name": "LayoutModel",
      "state": {}
     },
     "bd9ea8fefa454648bd9002246ab78f65": {
      "model_module": "@jupyter-widgets/base",
      "model_module_version": "1.1.0",
      "model_name": "LayoutModel",
      "state": {}
     },
     "bde8952344054e1a9af20bcf7482c849": {
      "model_module": "@jupyter-widgets/controls",
      "model_module_version": "1.4.0",
      "model_name": "DescriptionStyleModel",
      "state": {
       "description_width": ""
      }
     },
     "be0cf595c1f14317a7aaeb76f485754c": {
      "model_module": "@jupyter-widgets/controls",
      "model_module_version": "1.4.0",
      "model_name": "FloatTextModel",
      "state": {
       "layout": "IPY_MODEL_ddcab2b7d2f24f068e314b8d90dc90c0",
       "step": null,
       "style": "IPY_MODEL_d75a7d3e1ca540808fcdb68964032440",
       "value": 2225
      }
     },
     "bebe51591c7f4204987782700ddac779": {
      "model_module": "@jupyter-widgets/base",
      "model_module_version": "1.1.0",
      "model_name": "LayoutModel",
      "state": {
       "height": "0px",
       "width": "0px"
      }
     },
     "bf122223b2724a248d55dd42cc9b3191": {
      "model_module": "@jupyter-widgets/base",
      "model_module_version": "1.1.0",
      "model_name": "LayoutModel",
      "state": {}
     },
     "bf2afba8a3e24272b0f88f8f1da4703f": {
      "model_module": "@jupyter-widgets/output",
      "model_module_version": "1.0.0",
      "model_name": "OutputModel",
      "state": {
       "layout": "IPY_MODEL_2d87c6683db741b78597a76dece4e1fc",
       "outputs": [
        {
         "name": "stdout",
         "output_type": "stream",
         "text": "The Aa's eigenvalues are: -2.24+2.23j, -2.24+-2.23j, -0.28+0.00j, -0.26+0.32j and -0.26+-0.32j\nThe observer\\s eigenvalues are: -10.00+0.00j and -10.00+0.00j\n"
        }
       ]
      }
     },
     "bf5b937f5c5c49df9d883ad5b1642e3c": {
      "model_module": "@jupyter-widgets/controls",
      "model_module_version": "1.4.0",
      "model_name": "LabelModel",
      "state": {
       "layout": "IPY_MODEL_27928ffdf5e14aceb43b8fca906689b0",
       "style": "IPY_MODEL_add9bf7eae994418b676c6558ec5f0f1"
      }
     },
     "bf60fd5a02a84f84b747fdca371c5248": {
      "model_module": "@jupyter-widgets/controls",
      "model_module_version": "1.4.0",
      "model_name": "LabelModel",
      "state": {
       "layout": "IPY_MODEL_93937d7b6ac642c29e9b061c59a3db2a",
       "style": "IPY_MODEL_a4573b1d69b94da6abe2d29a5940a904",
       "value": "Aobs's eigs:"
      }
     },
     "bf796660e99f47128f6d0e118966cbdd": {
      "model_module": "@jupyter-widgets/controls",
      "model_module_version": "1.4.0",
      "model_name": "DescriptionStyleModel",
      "state": {
       "description_width": ""
      }
     },
     "bfc0aca326e44e0e8cfa33e7a1b1d630": {
      "model_module": "@jupyter-widgets/controls",
      "model_module_version": "1.4.0",
      "model_name": "DescriptionStyleModel",
      "state": {
       "description_width": ""
      }
     },
     "bfccc83056ff48b88eb7630784f232d4": {
      "model_module": "@jupyter-widgets/base",
      "model_module_version": "1.1.0",
      "model_name": "LayoutModel",
      "state": {
       "height": "0px",
       "width": "0px"
      }
     },
     "c10b5ac94db5488995240984fb80572d": {
      "model_module": "@jupyter-widgets/base",
      "model_module_version": "1.1.0",
      "model_name": "LayoutModel",
      "state": {
       "width": "90px"
      }
     },
     "c17f2e2a351e46d0911e870da02c8ea4": {
      "model_module": "@jupyter-widgets/controls",
      "model_module_version": "1.4.0",
      "model_name": "DescriptionStyleModel",
      "state": {
       "description_width": ""
      }
     },
     "c1cafa8250424af186c85c0f7a037d00": {
      "model_module": "@jupyter-widgets/controls",
      "model_module_version": "1.4.0",
      "model_name": "FloatTextModel",
      "state": {
       "layout": "IPY_MODEL_4b7fe40ee3a5498084895bbb1dede424",
       "step": null,
       "style": "IPY_MODEL_8fd79a5d01cf4dd2bd6af523b19f7ddc",
       "value": 13861
      }
     },
     "c1df267ba8884d4089f041f8885d57a9": {
      "model_module": "@jupyter-widgets/base",
      "model_module_version": "1.1.0",
      "model_name": "LayoutModel",
      "state": {}
     },
     "c20d04cf967e4aedb49c4c95999480fc": {
      "model_module": "@jupyter-widgets/base",
      "model_module_version": "1.1.0",
      "model_name": "LayoutModel",
      "state": {}
     },
     "c292b8874c4f4bcebed1c9a360df2964": {
      "model_module": "@jupyter-widgets/base",
      "model_module_version": "1.1.0",
      "model_name": "LayoutModel",
      "state": {
       "width": "90px"
      }
     },
     "c2b94464fe8c46c4bc766fc9342971bc": {
      "model_module": "@jupyter-widgets/base",
      "model_module_version": "1.1.0",
      "model_name": "LayoutModel",
      "state": {}
     },
     "c2e6bb3678aa4fb989cae61d26337c34": {
      "model_module": "@jupyter-widgets/controls",
      "model_module_version": "1.4.0",
      "model_name": "DescriptionStyleModel",
      "state": {
       "description_width": ""
      }
     },
     "c3383bbe576346f085ed887be29c1071": {
      "model_module": "@jupyter-widgets/base",
      "model_module_version": "1.1.0",
      "model_name": "LayoutModel",
      "state": {}
     },
     "c355d1874a554165b4099d8da3d35aef": {
      "model_module": "@jupyter-widgets/base",
      "model_module_version": "1.1.0",
      "model_name": "LayoutModel",
      "state": {}
     },
     "c362d636f1984bdd87b4377f49a3dfad": {
      "model_module": "@jupyter-widgets/base",
      "model_module_version": "1.1.0",
      "model_name": "LayoutModel",
      "state": {}
     },
     "c3862d402b5e4ae38fd7d2f0b2414ef0": {
      "model_module": "@jupyter-widgets/controls",
      "model_module_version": "1.4.0",
      "model_name": "DescriptionStyleModel",
      "state": {
       "description_width": ""
      }
     },
     "c422d11f60d5455bae304a583648d393": {
      "model_module": "@jupyter-widgets/controls",
      "model_module_version": "1.4.0",
      "model_name": "DescriptionStyleModel",
      "state": {
       "description_width": ""
      }
     },
     "c443bd8d6997435e91d118677137d5b6": {
      "model_module": "@jupyter-widgets/base",
      "model_module_version": "1.1.0",
      "model_name": "LayoutModel",
      "state": {}
     },
     "c4740552de6548d296f8e504838955f6": {
      "model_module": "@jupyter-widgets/controls",
      "model_module_version": "1.4.0",
      "model_name": "LabelModel",
      "state": {
       "layout": "IPY_MODEL_7fbf0af948254d5e833df4b7c1f732c3",
       "style": "IPY_MODEL_ca7a9803f8d347a8bbfd489404d2a012"
      }
     },
     "c4f81b149ff14f9db55f7a813b4739fd": {
      "model_module": "@jupyter-widgets/controls",
      "model_module_version": "1.4.0",
      "model_name": "FloatTextModel",
      "state": {
       "layout": "IPY_MODEL_2e269a8bd2094127a2842dba4c1a9b3e",
       "step": null,
       "style": "IPY_MODEL_b8b2f07ee6c64dc180f184dafa3db11a"
      }
     },
     "c51bdfc13b47415f9460f0ee83c1df87": {
      "model_module": "@jupyter-widgets/base",
      "model_module_version": "1.1.0",
      "model_name": "LayoutModel",
      "state": {}
     },
     "c528fa3f72494a119beabba3a6213bb7": {
      "model_module": "@jupyter-widgets/controls",
      "model_module_version": "1.4.0",
      "model_name": "DescriptionStyleModel",
      "state": {
       "description_width": ""
      }
     },
     "c52b71d3ecdd45499b48a31dc291647b": {
      "model_module": "@jupyter-widgets/controls",
      "model_module_version": "1.4.0",
      "model_name": "VBoxModel",
      "state": {
       "children": [
        "IPY_MODEL_239576f3ce7641f5ab0c6dbab3e5de53",
        "IPY_MODEL_577aaa8c389e41888c3f64239f36e562"
       ],
       "layout": "IPY_MODEL_4cb46cd0fbe245c188dd480c40e5a1d1"
      }
     },
     "c566d7ba152c41a9bb70e0b1399a0f3e": {
      "model_module": "@jupyter-widgets/controls",
      "model_module_version": "1.4.0",
      "model_name": "HBoxModel",
      "state": {
       "children": [
        "IPY_MODEL_361e3aca296d43a68f658aa71fa8a732",
        "IPY_MODEL_6ebbbf84215946a39d42606ed8a7c1f2",
        "IPY_MODEL_7fe5127d89ef40799cbefafadbcce0d4"
       ],
       "layout": "IPY_MODEL_bd9ea8fefa454648bd9002246ab78f65"
      }
     },
     "c6978c346278421ab9d3e0060569d705": {
      "model_module": "@jupyter-widgets/controls",
      "model_module_version": "1.4.0",
      "model_name": "DropdownModel",
      "state": {
       "_options_labels": [
        "Set Ka and La",
        "Set the eigenvalues"
       ],
       "index": 0,
       "layout": "IPY_MODEL_2c4fbbc1825c495c86831ef2286a8258",
       "style": "IPY_MODEL_75eb8481312149b8a778baff39c99828"
      }
     },
     "c6c48010219b4fb3bd1099d57920ba98": {
      "model_module": "@jupyter-widgets/base",
      "model_module_version": "1.1.0",
      "model_name": "LayoutModel",
      "state": {}
     },
     "c78317dc61044dcebc3800ab9500df9b": {
      "model_module": "@jupyter-widgets/base",
      "model_module_version": "1.1.0",
      "model_name": "LayoutModel",
      "state": {}
     },
     "c7b00e61644b476db2435289f46ce89e": {
      "model_module": "@jupyter-widgets/controls",
      "model_module_version": "1.4.0",
      "model_name": "DescriptionStyleModel",
      "state": {
       "description_width": ""
      }
     },
     "c7f5c40ad2064d6b9c79b7f03511bb7a": {
      "model_module": "@jupyter-widgets/controls",
      "model_module_version": "1.4.0",
      "model_name": "DescriptionStyleModel",
      "state": {
       "description_width": ""
      }
     },
     "c83210e37cf143c6a1e10c38173aaf36": {
      "model_module": "@jupyter-widgets/base",
      "model_module_version": "1.1.0",
      "model_name": "LayoutModel",
      "state": {}
     },
     "c833196d4f674ec093217cd10c5464e5": {
      "model_module": "@jupyter-widgets/base",
      "model_module_version": "1.1.0",
      "model_name": "LayoutModel",
      "state": {}
     },
     "c864e9e808124124b719b91097e41a7f": {
      "model_module": "@jupyter-widgets/base",
      "model_module_version": "1.1.0",
      "model_name": "LayoutModel",
      "state": {}
     },
     "c8ac5668b317410a9bcde617b0967dbc": {
      "model_module": "@jupyter-widgets/controls",
      "model_module_version": "1.4.0",
      "model_name": "VBoxModel",
      "state": {
       "children": [
        "IPY_MODEL_805372bc02a045c08c710be04f5bfce1",
        "IPY_MODEL_2529e49926cd4f8eb55dcc45178ec8f5",
        "IPY_MODEL_d823d4e7406a48cc92133077b3296559",
        "IPY_MODEL_4022fdb8345a466281cb4fb4e0f5a38e",
        "IPY_MODEL_05041977ab73417bb69ef1b71c64c7d9",
        "IPY_MODEL_0809ffdf306c4572b2936a4003504ebc",
        "IPY_MODEL_000105fdb4764586b8ebfab252a36567"
       ],
       "layout": "IPY_MODEL_10f2e8ae48e64a069fdfeda800e6969d"
      }
     },
     "c8e3b70f79e64a5a899729030d7b6963": {
      "model_module": "@jupyter-widgets/controls",
      "model_module_version": "1.4.0",
      "model_name": "FloatTextModel",
      "state": {
       "layout": "IPY_MODEL_3d7b33626e8645189c174b708efd6e17",
       "step": null,
       "style": "IPY_MODEL_307ff552afd445f8aa1f661c0d2a70ab",
       "value": -0.6
      }
     },
     "c9d80ab78eb147b392f2a6bc4c7e0cc4": {
      "model_module": "@jupyter-widgets/controls",
      "model_module_version": "1.4.0",
      "model_name": "VBoxModel",
      "state": {
       "children": [
        "IPY_MODEL_4b6ed1f5b4e8433a9a93b2f387086660",
        "IPY_MODEL_427a705fa0bf44fca560fc285307c61f",
        "IPY_MODEL_2ea7fb5a0dc94b24bc86d1d1361bf465",
        "IPY_MODEL_5555dc11b3b349c3afd005027d05a68b",
        "IPY_MODEL_ead2d37f897d4fdba7cc15fec55eb049",
        "IPY_MODEL_8694d410e6384208982d61b29be57d7b",
        "IPY_MODEL_84cbb61cc3c5445a88ac64650b4b8dfc"
       ],
       "layout": "IPY_MODEL_acc2a1e4067f46c38bb2cbd0039ce326"
      }
     },
     "ca11427347f64c5f951f50f087770cb1": {
      "model_module": "@jupyter-widgets/base",
      "model_module_version": "1.1.0",
      "model_name": "LayoutModel",
      "state": {}
     },
     "ca355890e53a4b8bb1d0575dac3c1bfc": {
      "model_module": "@jupyter-widgets/base",
      "model_module_version": "1.1.0",
      "model_name": "LayoutModel",
      "state": {}
     },
     "ca7a9803f8d347a8bbfd489404d2a012": {
      "model_module": "@jupyter-widgets/controls",
      "model_module_version": "1.4.0",
      "model_name": "DescriptionStyleModel",
      "state": {
       "description_width": ""
      }
     },
     "ca9c829a996f4f7c845b56e8cf922fbd": {
      "model_module": "@jupyter-widgets/controls",
      "model_module_version": "1.4.0",
      "model_name": "DescriptionStyleModel",
      "state": {
       "description_width": ""
      }
     },
     "caa6f261eca948c6b258eef4da69c2e3": {
      "model_module": "@jupyter-widgets/base",
      "model_module_version": "1.1.0",
      "model_name": "LayoutModel",
      "state": {
       "width": "90px"
      }
     },
     "caf38c4519e040de9884ca0747ab7001": {
      "model_module": "@jupyter-widgets/base",
      "model_module_version": "1.1.0",
      "model_name": "LayoutModel",
      "state": {
       "width": "90px"
      }
     },
     "cb3ccf44448e4da3abbc0bb88947e975": {
      "model_module": "@jupyter-widgets/controls",
      "model_module_version": "1.4.0",
      "model_name": "DescriptionStyleModel",
      "state": {
       "description_width": ""
      }
     },
     "cb9817ceda68404cbe65210d6c0e84ad": {
      "model_module": "@jupyter-widgets/controls",
      "model_module_version": "1.4.0",
      "model_name": "DescriptionStyleModel",
      "state": {
       "description_width": ""
      }
     },
     "cbd305ecffbf4083b47607d4767cdc71": {
      "model_module": "@jupyter-widgets/base",
      "model_module_version": "1.1.0",
      "model_name": "LayoutModel",
      "state": {}
     },
     "cc3ae6556e6544b3933ff37fcdc8b124": {
      "model_module": "@jupyter-widgets/controls",
      "model_module_version": "1.4.0",
      "model_name": "LabelModel",
      "state": {
       "layout": "IPY_MODEL_eea30c23809947ecacd9938a63398f49",
       "style": "IPY_MODEL_2b97208d6c1a4fd1966375b6e494aa89"
      }
     },
     "cc47e48caf85445fa010ce953bda0ba2": {
      "model_module": "@jupyter-widgets/base",
      "model_module_version": "1.1.0",
      "model_name": "LayoutModel",
      "state": {
       "width": "90px"
      }
     },
     "ccda01baacc445178323a8cafe80bd7a": {
      "model_module": "@jupyter-widgets/controls",
      "model_module_version": "1.4.0",
      "model_name": "LabelModel",
      "state": {
       "layout": "IPY_MODEL_7e442b8c4332480e8548cbdceab3a51f",
       "style": "IPY_MODEL_0fb6ebd5d60540b4a5135eecb46702e9",
       "value": "Aobs's eigs:"
      }
     },
     "cd02878c94fa4261b5a2f0b343ac62bb": {
      "model_module": "@jupyter-widgets/controls",
      "model_module_version": "1.4.0",
      "model_name": "LabelModel",
      "state": {
       "layout": "IPY_MODEL_3867427d28c94cc5bb52fa78e2eae3e1",
       "style": "IPY_MODEL_7959bdda77b0475b8c3a81a8686baf94"
      }
     },
     "cda7d59ecf3b463e83fbcca7d6ded37f": {
      "model_module": "@jupyter-widgets/controls",
      "model_module_version": "1.4.0",
      "model_name": "DescriptionStyleModel",
      "state": {
       "description_width": ""
      }
     },
     "cde5b2b3ac144657b77fc9480ee3664e": {
      "model_module": "@jupyter-widgets/controls",
      "model_module_version": "1.4.0",
      "model_name": "DescriptionStyleModel",
      "state": {
       "description_width": ""
      }
     },
     "ce2edb54fe42459ca62c2936d6529836": {
      "model_module": "@jupyter-widgets/controls",
      "model_module_version": "1.4.0",
      "model_name": "HBoxModel",
      "state": {
       "children": [
        "IPY_MODEL_aef9a5d2035249b8a3333a29aded71de"
       ],
       "layout": "IPY_MODEL_aa1c17dc86e6441485062eed23d3ab0a"
      }
     },
     "ce92781cb1694e5bae6daa60cfb2a7a9": {
      "model_module": "@jupyter-widgets/controls",
      "model_module_version": "1.4.0",
      "model_name": "FloatTextModel",
      "state": {
       "layout": "IPY_MODEL_1011a14be8014506987e6ff204d26d35",
       "step": null,
       "style": "IPY_MODEL_dcaa65dadfb54c3ebac14f03ddafbc15"
      }
     },
     "cea3dc89a5674bed860a1c0e14d1b995": {
      "model_module": "@jupyter-widgets/controls",
      "model_module_version": "1.4.0",
      "model_name": "DescriptionStyleModel",
      "state": {
       "description_width": ""
      }
     },
     "cea5f3291cc74af99d0e1ea2481ba90a": {
      "model_module": "@jupyter-widgets/base",
      "model_module_version": "1.1.0",
      "model_name": "LayoutModel",
      "state": {
       "width": "90px"
      }
     },
     "cf4f9f2b6fd841228e693206362f7c86": {
      "model_module": "@jupyter-widgets/controls",
      "model_module_version": "1.4.0",
      "model_name": "HBoxModel",
      "state": {
       "children": [
        "IPY_MODEL_5f4fd9d6e5fc4790959289c680e862cf",
        "IPY_MODEL_4c8e37c41a2d416a8c037d763d6ba024",
        "IPY_MODEL_a267df06d1fd4abdbeeaa4b209f965f6",
        "IPY_MODEL_4d2f31be201045a6af6ff6ed5f2d6c7d",
        "IPY_MODEL_84a0b15ddb034a2092338bd2b2ed63e9",
        "IPY_MODEL_f4b016746bb84426baca5c76043f6338",
        "IPY_MODEL_df169b343479430daedc153abc22243f",
        "IPY_MODEL_4f37e4abf7044e669b4f94075743f4dc",
        "IPY_MODEL_ccda01baacc445178323a8cafe80bd7a",
        "IPY_MODEL_b080ba2fe8b74e95941fc70e47b839e1",
        "IPY_MODEL_30ad82f4d06f4c2daaa68aeb2a06dd47"
       ],
       "layout": "IPY_MODEL_f7bd3d3a570f462a94866d884ec485ea"
      }
     },
     "cf52400e360c4a298036c4d771b8ae29": {
      "model_module": "@jupyter-widgets/controls",
      "model_module_version": "1.4.0",
      "model_name": "DescriptionStyleModel",
      "state": {
       "description_width": ""
      }
     },
     "cf7241c197e44ea78648dd7ece9cf032": {
      "model_module": "@jupyter-widgets/base",
      "model_module_version": "1.1.0",
      "model_name": "LayoutModel",
      "state": {
       "height": "0px",
       "width": "0px"
      }
     },
     "cf979171315d44bfbc2c0d6d41f6c225": {
      "model_module": "@jupyter-widgets/controls",
      "model_module_version": "1.4.0",
      "model_name": "LabelModel",
      "state": {
       "layout": "IPY_MODEL_00038a7d51314ae9804a45c996c3038a",
       "style": "IPY_MODEL_2158a36c2a104d1fae5f6a0fdcbc1e78",
       "value": "Aobs's eigs:"
      }
     },
     "cfac6a49ddc04836ab8776cb1d3b44a6": {
      "model_module": "@jupyter-widgets/controls",
      "model_module_version": "1.4.0",
      "model_name": "DescriptionStyleModel",
      "state": {
       "description_width": ""
      }
     },
     "d086c2b805214a99ac336e6b38227e34": {
      "model_module": "@jupyter-widgets/controls",
      "model_module_version": "1.4.0",
      "model_name": "LabelModel",
      "state": {
       "layout": "IPY_MODEL_b9ab7a820e01496bac78cac867d8987e",
       "style": "IPY_MODEL_439dd39502fa4ee18378ac424aae7331"
      }
     },
     "d116ebf0025c483093a9d7c0d666be31": {
      "model_module": "@jupyter-widgets/controls",
      "model_module_version": "1.4.0",
      "model_name": "LabelModel",
      "state": {
       "layout": "IPY_MODEL_5480124c50004a86b7b7cb590e0ac139",
       "style": "IPY_MODEL_775ff011a0444c48b7e5fea4746a0b23"
      }
     },
     "d11f6fc17f944785abd9427772fd5a6d": {
      "model_module": "@jupyter-widgets/base",
      "model_module_version": "1.1.0",
      "model_name": "LayoutModel",
      "state": {}
     },
     "d120caa23d324631a5a9da5ed06acf60": {
      "model_module": "@jupyter-widgets/controls",
      "model_module_version": "1.4.0",
      "model_name": "LabelModel",
      "state": {
       "layout": "IPY_MODEL_0a273f0c4e6e469698eb36d71e786546",
       "style": "IPY_MODEL_f1ebf687e130423a96df29607461d421"
      }
     },
     "d12e5a5b011349588613791490b0f7e0": {
      "model_module": "@jupyter-widgets/base",
      "model_module_version": "1.1.0",
      "model_name": "LayoutModel",
      "state": {}
     },
     "d15a903d9d274ec1921c31e4c33039b4": {
      "model_module": "@jupyter-widgets/controls",
      "model_module_version": "1.4.0",
      "model_name": "DropdownModel",
      "state": {
       "_options_labels": [
        "0 complex eigenvalues",
        "2 complex eigenvalues",
        "4 complex eigenvalues"
       ],
       "description": "Aa:",
       "disabled": true,
       "index": 0,
       "layout": "IPY_MODEL_c20d04cf967e4aedb49c4c95999480fc",
       "style": "IPY_MODEL_3737cb895e114ff3a7264b637d8ad44b"
      }
     },
     "d27c9566e96940a7806b2168e19f1ce9": {
      "model_module": "@jupyter-widgets/controls",
      "model_module_version": "1.4.0",
      "model_name": "DescriptionStyleModel",
      "state": {
       "description_width": ""
      }
     },
     "d29d0b24a5734139942bdffc549f83e2": {
      "model_module": "@jupyter-widgets/controls",
      "model_module_version": "1.4.0",
      "model_name": "HBoxModel",
      "state": {
       "children": [
        "IPY_MODEL_b834c7522897405288cb212a55b55289"
       ],
       "layout": "IPY_MODEL_ad88204fbe9a48e0978492ccd91ad57b"
      }
     },
     "d34a230dde2c42bdb1c91cd1929452d1": {
      "model_module": "@jupyter-widgets/base",
      "model_module_version": "1.1.0",
      "model_name": "LayoutModel",
      "state": {}
     },
     "d4a0305616f9402ea84a9e8b0e1fae85": {
      "model_module": "@jupyter-widgets/controls",
      "model_module_version": "1.4.0",
      "model_name": "FloatTextModel",
      "state": {
       "layout": "IPY_MODEL_62df66a2062b4fb6b65a3ec5bd498614",
       "step": null,
       "style": "IPY_MODEL_b5a41552b1c54b3b8c58bfc026388d4f",
       "value": -0.6
      }
     },
     "d4f898ed505f4e5a918ae8166d217c23": {
      "model_module": "@jupyter-widgets/base",
      "model_module_version": "1.1.0",
      "model_name": "LayoutModel",
      "state": {
       "width": "90px"
      }
     },
     "d5286389e31f44d0a068455235d65e4f": {
      "model_module": "@jupyter-widgets/controls",
      "model_module_version": "1.4.0",
      "model_name": "VBoxModel",
      "state": {
       "children": [
        "IPY_MODEL_a233f2749697478193516c67501f9bf6"
       ],
       "layout": "IPY_MODEL_da4ae4ef89f24d84aa942554a50d86d2"
      }
     },
     "d55492cfde34474dbdce90063cf320f9": {
      "model_module": "@jupyter-widgets/controls",
      "model_module_version": "1.4.0",
      "model_name": "HBoxModel",
      "state": {
       "children": [
        "IPY_MODEL_0aa0bfe4046d4bbd9e3b8fc7e923c19e",
        "IPY_MODEL_6813d187c1be497cb6ed99d0f1315fb5",
        "IPY_MODEL_acecc2cb78574027ab0f5990fddab600",
        "IPY_MODEL_58dabb22e34a44d890df2e51d5b9a651",
        "IPY_MODEL_78331c89a55344a69e9fb04c10aee086"
       ],
       "layout": "IPY_MODEL_8c56ab7322684d198695ba83389a51a8"
      }
     },
     "d5837d49afb144f4b62497a1eee8836b": {
      "model_module": "@jupyter-widgets/controls",
      "model_module_version": "1.4.0",
      "model_name": "LabelModel",
      "state": {
       "layout": "IPY_MODEL_e27cc49491614eb690e345b1f6bdc61a",
       "style": "IPY_MODEL_cde5b2b3ac144657b77fc9480ee3664e"
      }
     },
     "d5eaac2f67684a7b8ea7dd4c17f0b57e": {
      "model_module": "@jupyter-widgets/controls",
      "model_module_version": "1.4.0",
      "model_name": "LabelModel",
      "state": {
       "layout": "IPY_MODEL_1be046e383e644d6a6cfcf29b3777c99",
       "style": "IPY_MODEL_54a95624e0a04f319da0e5b1221e8e55",
       "value": "Aa's eigs:"
      }
     },
     "d602a0f11576447b8ef3d438d93728df": {
      "model_module": "@jupyter-widgets/base",
      "model_module_version": "1.1.0",
      "model_name": "LayoutModel",
      "state": {}
     },
     "d6271142c5a94a4084c7ba3c91dac19b": {
      "model_module": "@jupyter-widgets/controls",
      "model_module_version": "1.4.0",
      "model_name": "DescriptionStyleModel",
      "state": {
       "description_width": ""
      }
     },
     "d636b43c569f4fd99bb74ab2d8a9ca71": {
      "model_module": "@jupyter-widgets/base",
      "model_module_version": "1.1.0",
      "model_name": "LayoutModel",
      "state": {}
     },
     "d6431a11b46943d48afc9b025482f791": {
      "model_module": "@jupyter-widgets/base",
      "model_module_version": "1.1.0",
      "model_name": "LayoutModel",
      "state": {}
     },
     "d6839054cd8f4840b7ceabe64adb74a1": {
      "model_module": "@jupyter-widgets/base",
      "model_module_version": "1.1.0",
      "model_name": "LayoutModel",
      "state": {
       "width": "90px"
      }
     },
     "d7419d00e6774ceb8dbccfc5cf652bfd": {
      "model_module": "@jupyter-widgets/controls",
      "model_module_version": "1.4.0",
      "model_name": "VBoxModel",
      "state": {
       "children": [
        "IPY_MODEL_4115501ee8ec4fccaf278e05a7084396"
       ],
       "layout": "IPY_MODEL_770bc17e71b2425a9baa0f95f322df5b"
      }
     },
     "d75a7d3e1ca540808fcdb68964032440": {
      "model_module": "@jupyter-widgets/controls",
      "model_module_version": "1.4.0",
      "model_name": "DescriptionStyleModel",
      "state": {
       "description_width": ""
      }
     },
     "d823d4e7406a48cc92133077b3296559": {
      "model_module": "@jupyter-widgets/controls",
      "model_module_version": "1.4.0",
      "model_name": "HBoxModel",
      "state": {
       "children": [
        "IPY_MODEL_84e0e3299523499e8fd5a56d12529891",
        "IPY_MODEL_d5286389e31f44d0a068455235d65e4f",
        "IPY_MODEL_842a3f1f0a374c2581602ab8e7600ef6",
        "IPY_MODEL_0f14d36f2e474b439c5338a92acccce0",
        "IPY_MODEL_1fd1af9aa2e34834a4365140e0e3935c",
        "IPY_MODEL_c52b71d3ecdd45499b48a31dc291647b"
       ],
       "layout": "IPY_MODEL_23c82a3754bb4588a4f865849a294568"
      }
     },
     "d859c2d997d6489089f973bec38b3477": {
      "model_module": "@jupyter-widgets/base",
      "model_module_version": "1.1.0",
      "model_name": "LayoutModel",
      "state": {}
     },
     "d8ddf5e62d8a4ddb9e10b54c206800f0": {
      "model_module": "@jupyter-widgets/base",
      "model_module_version": "1.1.0",
      "model_name": "LayoutModel",
      "state": {}
     },
     "d8e55f37c7ae4f07a6fe84a107d33436": {
      "model_module": "@jupyter-widgets/controls",
      "model_module_version": "1.4.0",
      "model_name": "VBoxModel",
      "state": {
       "children": [
        "IPY_MODEL_6caafdd1e1cd4b19a7eeab28deadac64",
        "IPY_MODEL_7acc1d43c7b04f48ada380ce26debb40",
        "IPY_MODEL_3f1ae226f21a4f758daa4a0993a2a3de",
        "IPY_MODEL_42a057f2f2d54c2580b4c3ae90d7ce09",
        "IPY_MODEL_cf4f9f2b6fd841228e693206362f7c86",
        "IPY_MODEL_fa577bc5c8a24267b971d8d0213279dd",
        "IPY_MODEL_7d2ee53e7c144fdb9bf865c1baf9fe1e"
       ],
       "layout": "IPY_MODEL_6ebe86c6b2624222a1c2427ed2c6bb6e"
      }
     },
     "d8ff54fe12f1431ea8b625991bef5e76": {
      "model_module": "@jupyter-widgets/base",
      "model_module_version": "1.1.0",
      "model_name": "LayoutModel",
      "state": {}
     },
     "d9674b7571de42baa745dd6b7c6ecbe8": {
      "model_module": "@jupyter-widgets/controls",
      "model_module_version": "1.4.0",
      "model_name": "DropdownModel",
      "state": {
       "_options_labels": [
        "0 complex eigenvalues",
        "2 complex eigenvalues",
        "4 complex eigenvalues"
       ],
       "description": "Aa:",
       "disabled": true,
       "index": 0,
       "layout": "IPY_MODEL_adb4d4606a424246aaccb800cd1f30df",
       "style": "IPY_MODEL_bd60702069184fb9b8892a8ebb072f01"
      }
     },
     "d9db35bcd55b452caf07ceee07f65e96": {
      "model_module": "@jupyter-widgets/controls",
      "model_module_version": "1.4.0",
      "model_name": "DescriptionStyleModel",
      "state": {
       "description_width": ""
      }
     },
     "da40a5d500a24119bae8200ab190284c": {
      "model_module": "@jupyter-widgets/controls",
      "model_module_version": "1.4.0",
      "model_name": "FloatTextModel",
      "state": {
       "layout": "IPY_MODEL_87536ddd51344558bd4978bbb9aa5d77",
       "step": null,
       "style": "IPY_MODEL_e1298497023e4a4ba0be17974a39ac75",
       "value": -10
      }
     },
     "da4ae4ef89f24d84aa942554a50d86d2": {
      "model_module": "@jupyter-widgets/base",
      "model_module_version": "1.1.0",
      "model_name": "LayoutModel",
      "state": {}
     },
     "da90a50bcb3b4b1ab14fcb5e9ddde844": {
      "model_module": "@jupyter-widgets/controls",
      "model_module_version": "1.4.0",
      "model_name": "DescriptionStyleModel",
      "state": {
       "description_width": ""
      }
     },
     "daf87ceba6fc4cff807558eed8167824": {
      "model_module": "@jupyter-widgets/controls",
      "model_module_version": "1.4.0",
      "model_name": "DescriptionStyleModel",
      "state": {
       "description_width": ""
      }
     },
     "db0dab36d9de4171987fb292d7f515ea": {
      "model_module": "@jupyter-widgets/controls",
      "model_module_version": "1.4.0",
      "model_name": "DescriptionStyleModel",
      "state": {
       "description_width": ""
      }
     },
     "db0e4a9359f5475aa13393f9164115b8": {
      "model_module": "@jupyter-widgets/controls",
      "model_module_version": "1.4.0",
      "model_name": "DescriptionStyleModel",
      "state": {
       "description_width": ""
      }
     },
     "db615f930a5444898a71cb10d3e0db3d": {
      "model_module": "@jupyter-widgets/controls",
      "model_module_version": "1.4.0",
      "model_name": "LabelModel",
      "state": {
       "layout": "IPY_MODEL_1a89916030dc4f8ba8438c3a8c5bbd69",
       "style": "IPY_MODEL_c17f2e2a351e46d0911e870da02c8ea4"
      }
     },
     "db9be7d14e6e4c8ba51e903b13c55e3b": {
      "model_module": "@jupyter-widgets/controls",
      "model_module_version": "1.4.0",
      "model_name": "DescriptionStyleModel",
      "state": {
       "description_width": ""
      }
     },
     "dbb050e8d85846bf845411834a32a4c5": {
      "model_module": "@jupyter-widgets/base",
      "model_module_version": "1.1.0",
      "model_name": "LayoutModel",
      "state": {}
     },
     "dbcee9f186f7420d9ea831d5ef775039": {
      "model_module": "@jupyter-widgets/controls",
      "model_module_version": "1.4.0",
      "model_name": "DropdownModel",
      "state": {
       "_options_labels": [
        "0 complex eigenvalues",
        "2 complex eigenvalues",
        "4 complex eigenvalues"
       ],
       "description": "Aa:",
       "disabled": true,
       "index": 0,
       "layout": "IPY_MODEL_4e069a3035154c4d8c0a47e5fe1f3b9b",
       "style": "IPY_MODEL_2130431e014a406d94f539f123ff4781"
      }
     },
     "dc452b89802e4d66ab5371b81f4bb4a2": {
      "model_module": "@jupyter-widgets/controls",
      "model_module_version": "1.4.0",
      "model_name": "DescriptionStyleModel",
      "state": {
       "description_width": ""
      }
     },
     "dcaa65dadfb54c3ebac14f03ddafbc15": {
      "model_module": "@jupyter-widgets/controls",
      "model_module_version": "1.4.0",
      "model_name": "DescriptionStyleModel",
      "state": {
       "description_width": ""
      }
     },
     "dce3a2ee8dff4853a756267ce47660ed": {
      "model_module": "@jupyter-widgets/base",
      "model_module_version": "1.1.0",
      "model_name": "LayoutModel",
      "state": {}
     },
     "dd21852b6b3d4d24a5e9dbedfd3b63e8": {
      "model_module": "@jupyter-widgets/controls",
      "model_module_version": "1.4.0",
      "model_name": "DescriptionStyleModel",
      "state": {
       "description_width": ""
      }
     },
     "dd34ed0f11bf4739983f6875ef0c9382": {
      "model_module": "@jupyter-widgets/controls",
      "model_module_version": "1.4.0",
      "model_name": "LabelModel",
      "state": {
       "layout": "IPY_MODEL_9edf3cd601b845089ed8bd5d7bc8d3eb",
       "style": "IPY_MODEL_db9be7d14e6e4c8ba51e903b13c55e3b",
       "value": "Aa's eigs:"
      }
     },
     "dd481a0bcf16447a9ec5d9d36bfe144d": {
      "model_module": "@jupyter-widgets/base",
      "model_module_version": "1.1.0",
      "model_name": "LayoutModel",
      "state": {
       "width": "90px"
      }
     },
     "dd750e074b794c73b436f80106ff3f09": {
      "model_module": "@jupyter-widgets/base",
      "model_module_version": "1.1.0",
      "model_name": "LayoutModel",
      "state": {}
     },
     "ddcab2b7d2f24f068e314b8d90dc90c0": {
      "model_module": "@jupyter-widgets/base",
      "model_module_version": "1.1.0",
      "model_name": "LayoutModel",
      "state": {
       "width": "90px"
      }
     },
     "ddcde07e7b004058846b6f64691c5b1b": {
      "model_module": "@jupyter-widgets/controls",
      "model_module_version": "1.4.0",
      "model_name": "DescriptionStyleModel",
      "state": {
       "description_width": ""
      }
     },
     "de0e0312dad54b3aac1bda5344f2766f": {
      "model_module": "@jupyter-widgets/base",
      "model_module_version": "1.1.0",
      "model_name": "LayoutModel",
      "state": {}
     },
     "de0f1909c75e430a86358a3fa0b9a995": {
      "model_module": "@jupyter-widgets/base",
      "model_module_version": "1.1.0",
      "model_name": "LayoutModel",
      "state": {}
     },
     "de50dcc76518449ca4190d0da5b78f9d": {
      "model_module": "@jupyter-widgets/base",
      "model_module_version": "1.1.0",
      "model_name": "LayoutModel",
      "state": {
       "width": "90px"
      }
     },
     "deaede3f369447fa81a975c26718206a": {
      "model_module": "@jupyter-widgets/base",
      "model_module_version": "1.1.0",
      "model_name": "LayoutModel",
      "state": {}
     },
     "def75223186b46c2ab6eb64e80dbe69d": {
      "model_module": "@jupyter-widgets/controls",
      "model_module_version": "1.4.0",
      "model_name": "DescriptionStyleModel",
      "state": {
       "description_width": ""
      }
     },
     "df169b343479430daedc153abc22243f": {
      "model_module": "@jupyter-widgets/controls",
      "model_module_version": "1.4.0",
      "model_name": "LabelModel",
      "state": {
       "layout": "IPY_MODEL_acfff617198a4fed9692133377da3b47",
       "style": "IPY_MODEL_01722e6449294095b69c3399e6500959"
      }
     },
     "df3fedfe68e347c793fc31f53922c394": {
      "model_module": "@jupyter-widgets/controls",
      "model_module_version": "1.4.0",
      "model_name": "LabelModel",
      "state": {
       "layout": "IPY_MODEL_b7ba6d95d1874a64bb2fb648a182f59f",
       "style": "IPY_MODEL_dfb9abd2d0f14f1daead298e97c516d9",
       "value": "Aobs's eigs:"
      }
     },
     "df4f2e5f7cac45da9930e46f5690c3a4": {
      "model_module": "@jupyter-widgets/controls",
      "model_module_version": "1.4.0",
      "model_name": "VBoxModel",
      "state": {
       "children": [
        "IPY_MODEL_eab4cc52bba041929aae83ca52b86262",
        "IPY_MODEL_703688b40d404ccbae95be27274af0cd"
       ],
       "layout": "IPY_MODEL_62d546d4642b403fb7e1f9e62e818f03"
      }
     },
     "df7ca8e6b4e943ab931b5b3d5c5c261c": {
      "model_module": "@jupyter-widgets/controls",
      "model_module_version": "1.4.0",
      "model_name": "DescriptionStyleModel",
      "state": {
       "description_width": ""
      }
     },
     "df806b0f9ea746d4b381b0f1ebe18cb0": {
      "model_module": "@jupyter-widgets/controls",
      "model_module_version": "1.4.0",
      "model_name": "HBoxModel",
      "state": {
       "children": [
        "IPY_MODEL_965ba5aa3bb648c899f8ba33fda5cf31",
        "IPY_MODEL_2207ee2b08c4446987f7e6023e83a82b",
        "IPY_MODEL_c1cafa8250424af186c85c0f7a037d00",
        "IPY_MODEL_1fc3130926714e67a16a6fa21598e553",
        "IPY_MODEL_356747a968bb4a48b3b7722036ed8bf4"
       ],
       "layout": "IPY_MODEL_290c5edce3fd4ba59715d66705fcdd2e"
      }
     },
     "dfb9abd2d0f14f1daead298e97c516d9": {
      "model_module": "@jupyter-widgets/controls",
      "model_module_version": "1.4.0",
      "model_name": "DescriptionStyleModel",
      "state": {
       "description_width": ""
      }
     },
     "e02b4d0e91cd456eb60b5d5243ba5cb5": {
      "model_module": "@jupyter-widgets/base",
      "model_module_version": "1.1.0",
      "model_name": "LayoutModel",
      "state": {
       "width": "90px"
      }
     },
     "e05554ca65324a6b8574c72ca47cf5b7": {
      "model_module": "@jupyter-widgets/controls",
      "model_module_version": "1.4.0",
      "model_name": "DescriptionStyleModel",
      "state": {
       "description_width": ""
      }
     },
     "e07495be61da490a943fd962a0b2267b": {
      "model_module": "@jupyter-widgets/controls",
      "model_module_version": "1.4.0",
      "model_name": "LabelModel",
      "state": {
       "layout": "IPY_MODEL_b16de3267e844d5893eb86aa89317258",
       "style": "IPY_MODEL_d6271142c5a94a4084c7ba3c91dac19b",
       "value": "Aobs's eigs:"
      }
     },
     "e07f8d2fd0284db8ac22cb54ea409be1": {
      "model_module": "@jupyter-widgets/controls",
      "model_module_version": "1.4.0",
      "model_name": "DescriptionStyleModel",
      "state": {
       "description_width": ""
      }
     },
     "e1298497023e4a4ba0be17974a39ac75": {
      "model_module": "@jupyter-widgets/controls",
      "model_module_version": "1.4.0",
      "model_name": "DescriptionStyleModel",
      "state": {
       "description_width": ""
      }
     },
     "e24fb2aa34f844d99bef9c6b7ccac677": {
      "model_module": "@jupyter-widgets/base",
      "model_module_version": "1.1.0",
      "model_name": "LayoutModel",
      "state": {}
     },
     "e25d85fff72e488ea4647079ab727aff": {
      "model_module": "@jupyter-widgets/controls",
      "model_module_version": "1.4.0",
      "model_name": "DescriptionStyleModel",
      "state": {
       "description_width": ""
      }
     },
     "e27cc49491614eb690e345b1f6bdc61a": {
      "model_module": "@jupyter-widgets/base",
      "model_module_version": "1.1.0",
      "model_name": "LayoutModel",
      "state": {}
     },
     "e2a06b360f0e49c6be50c844c97854d2": {
      "model_module": "@jupyter-widgets/base",
      "model_module_version": "1.1.0",
      "model_name": "LayoutModel",
      "state": {
       "width": "90px"
      }
     },
     "e2a1c41856004ffc9cd0fc59df88997a": {
      "model_module": "@jupyter-widgets/controls",
      "model_module_version": "1.4.0",
      "model_name": "DescriptionStyleModel",
      "state": {
       "description_width": ""
      }
     },
     "e2e6de4db47f4ddbacdbd9c843e1e45a": {
      "model_module": "@jupyter-widgets/controls",
      "model_module_version": "1.4.0",
      "model_name": "DescriptionStyleModel",
      "state": {
       "description_width": ""
      }
     },
     "e2f7fa09709b4f89842d92760ea43a0b": {
      "model_module": "@jupyter-widgets/controls",
      "model_module_version": "1.4.0",
      "model_name": "LabelModel",
      "state": {
       "layout": "IPY_MODEL_637824522a5343b0944c5428ef57aa0e",
       "style": "IPY_MODEL_fe09b783fe0d4b9099f6673b2feb299b"
      }
     },
     "e35ded94ccdb411fb3f03b38368623d6": {
      "model_module": "@jupyter-widgets/base",
      "model_module_version": "1.1.0",
      "model_name": "LayoutModel",
      "state": {
       "width": "90px"
      }
     },
     "e3f770ce4cf241e991c713aa951e5765": {
      "model_module": "@jupyter-widgets/controls",
      "model_module_version": "1.4.0",
      "model_name": "LabelModel",
      "state": {
       "layout": "IPY_MODEL_d8ff54fe12f1431ea8b625991bef5e76",
       "style": "IPY_MODEL_bb1503441b804f2caeba60eca1ccbe5f"
      }
     },
     "e4959a4ff1d6428da5531fb2bf42b5eb": {
      "model_module": "@jupyter-widgets/controls",
      "model_module_version": "1.4.0",
      "model_name": "DescriptionStyleModel",
      "state": {
       "description_width": ""
      }
     },
     "e497f72ac994442e867e12b0d2d6c200": {
      "model_module": "@jupyter-widgets/controls",
      "model_module_version": "1.4.0",
      "model_name": "DescriptionStyleModel",
      "state": {
       "description_width": ""
      }
     },
     "e53e8f35bab440248da43e8cba202569": {
      "model_module": "@jupyter-widgets/controls",
      "model_module_version": "1.4.0",
      "model_name": "LabelModel",
      "state": {
       "layout": "IPY_MODEL_3223149f706c4dd4ba260fe3446b92e8",
       "style": "IPY_MODEL_75b5652b09e4461cb6a99471967a68ea"
      }
     },
     "e5ab92b29f3841ce94407c273422297e": {
      "model_module": "@jupyter-widgets/output",
      "model_module_version": "1.0.0",
      "model_name": "OutputModel",
      "state": {
       "layout": "IPY_MODEL_ed2d5f8703174f18b4ac11810f7fc733",
       "outputs": [
        {
         "name": "stdout",
         "output_type": "stream",
         "text": "The Aa's eigenvalues are: -2.24+2.23j, -2.24+-2.23j, -0.28+0.00j, -0.26+0.32j and -0.26+-0.32j\nThe observer\\s eigenvalues are: -10.00+0.00j and -10.00+0.00j\n"
        }
       ]
      }
     },
     "e5ea03176a6d413cbda448812f9f9fac": {
      "model_module": "@jupyter-widgets/controls",
      "model_module_version": "1.4.0",
      "model_name": "DropdownModel",
      "state": {
       "_options_labels": [
        "0 complex eigenvalues",
        "2 complex eigenvalues",
        "4 complex eigenvalues"
       ],
       "description": "Aa:",
       "disabled": true,
       "index": 0,
       "layout": "IPY_MODEL_7799c212da6243439092d8e652f3343a",
       "style": "IPY_MODEL_3bcadc2f01354f5ebada7a948f377681"
      }
     },
     "e6198233953c4e6a91250039d906d212": {
      "model_module": "@jupyter-widgets/controls",
      "model_module_version": "1.4.0",
      "model_name": "HBoxModel",
      "state": {
       "children": [
        "IPY_MODEL_414f93245d2d4a25887f5123fa09bf44",
        "IPY_MODEL_6d68637432684016b0727f506afe0df5",
        "IPY_MODEL_f01b454caf0243f89fac5809d26d4cf2",
        "IPY_MODEL_3fe63ac60ab64ded984e9abeeff7abf5",
        "IPY_MODEL_317ee220faa84115bad387393653c51c",
        "IPY_MODEL_587e0f7d832d4ecc866fb0f39ea9d990",
        "IPY_MODEL_cc3ae6556e6544b3933ff37fcdc8b124",
        "IPY_MODEL_9f7de2b91d5f4664b24e72fafb4248bf",
        "IPY_MODEL_e07495be61da490a943fd962a0b2267b",
        "IPY_MODEL_a3c2a24a94aa456cbd6779a86c1f06ad",
        "IPY_MODEL_25be128dd26d4cd298247bbbc5bbe06a"
       ],
       "layout": "IPY_MODEL_5d6ef847aa5b48c8a1d6f71e115505d6"
      }
     },
     "e64a1f67ddd246a4b2817a99b07cca56": {
      "model_module": "@jupyter-widgets/controls",
      "model_module_version": "1.4.0",
      "model_name": "VBoxModel",
      "state": {
       "children": [
        "IPY_MODEL_df806b0f9ea746d4b381b0f1ebe18cb0"
       ],
       "layout": "IPY_MODEL_108b967aa86f464994fc814c54533fec"
      }
     },
     "e6710c1e57c84d0a8ac493e844396d61": {
      "model_module": "@jupyter-widgets/base",
      "model_module_version": "1.1.0",
      "model_name": "LayoutModel",
      "state": {}
     },
     "e675d75bec4b474dba2d599e91931cd2": {
      "model_module": "@jupyter-widgets/controls",
      "model_module_version": "1.4.0",
      "model_name": "HBoxModel",
      "state": {
       "children": [
        "IPY_MODEL_c6978c346278421ab9d3e0060569d705",
        "IPY_MODEL_b952ba902f6a46968b42685d2716bfea",
        "IPY_MODEL_416b8f7b106846d0870026946b4f6b5a"
       ],
       "layout": "IPY_MODEL_c833196d4f674ec093217cd10c5464e5"
      }
     },
     "e6f9740ecb9c4b1e890dc2e32b0d34a7": {
      "model_module": "@jupyter-widgets/base",
      "model_module_version": "1.1.0",
      "model_name": "LayoutModel",
      "state": {
       "height": "0px",
       "width": "0px"
      }
     },
     "e740dfcb3cf649d4bee10bf6ee195301": {
      "model_module": "@jupyter-widgets/controls",
      "model_module_version": "1.4.0",
      "model_name": "LabelModel",
      "state": {
       "layout": "IPY_MODEL_c864e9e808124124b719b91097e41a7f",
       "style": "IPY_MODEL_c7f5c40ad2064d6b9c79b7f03511bb7a"
      }
     },
     "e75eff08ebb144498999ffac93f14395": {
      "model_module": "@jupyter-widgets/base",
      "model_module_version": "1.1.0",
      "model_name": "LayoutModel",
      "state": {
       "width": "90px"
      }
     },
     "e7631457cbcc4012bd350f9a84cef00c": {
      "model_module": "@jupyter-widgets/controls",
      "model_module_version": "1.4.0",
      "model_name": "DescriptionStyleModel",
      "state": {
       "description_width": ""
      }
     },
     "e7eba20de0944e0c98115502cd135383": {
      "model_module": "@jupyter-widgets/controls",
      "model_module_version": "1.4.0",
      "model_name": "LabelModel",
      "state": {
       "layout": "IPY_MODEL_694dd07aee66466bb45bfff329e60483",
       "style": "IPY_MODEL_db0e4a9359f5475aa13393f9164115b8"
      }
     },
     "e803009919e34d8eaf8b05eec6e7095e": {
      "model_module": "@jupyter-widgets/controls",
      "model_module_version": "1.4.0",
      "model_name": "LabelModel",
      "state": {
       "layout": "IPY_MODEL_7371a287f94840aa829ef2d8d94c4853",
       "style": "IPY_MODEL_45252723ac28472a970b95e3e6e933d5"
      }
     },
     "e80abac93ac54bc8a6d91a52c4fd70cc": {
      "model_module": "@jupyter-widgets/controls",
      "model_module_version": "1.4.0",
      "model_name": "DescriptionStyleModel",
      "state": {
       "description_width": ""
      }
     },
     "e819fefb797041e89e4f72749e00edab": {
      "model_module": "@jupyter-widgets/controls",
      "model_module_version": "1.4.0",
      "model_name": "LabelModel",
      "state": {
       "layout": "IPY_MODEL_07fef6b966c54e33b18032e66099953d",
       "style": "IPY_MODEL_524e523ee79e43c987c381c69c9afe85"
      }
     },
     "e81bb22a34de44a18e29476b4d713e71": {
      "model_module": "@jupyter-widgets/base",
      "model_module_version": "1.1.0",
      "model_name": "LayoutModel",
      "state": {}
     },
     "e89ff4014f0e49528bbf4e98a760fe39": {
      "model_module": "@jupyter-widgets/controls",
      "model_module_version": "1.4.0",
      "model_name": "FloatTextModel",
      "state": {
       "disabled": true,
       "layout": "IPY_MODEL_14cf269aca7449979c09408a3fc45663",
       "step": null,
       "style": "IPY_MODEL_4c88f970164e400a9fdb30163e7153f1",
       "value": -0.6
      }
     },
     "e946f509a27349d3ad44c1af4e53fc3a": {
      "model_module": "@jupyter-widgets/controls",
      "model_module_version": "1.4.0",
      "model_name": "HBoxModel",
      "state": {
       "children": [
        "IPY_MODEL_0f26c8afca96402aa66b81bc451a3559",
        "IPY_MODEL_d116ebf0025c483093a9d7c0d666be31",
        "IPY_MODEL_f7db352aad7f48b287d557cc324204f9",
        "IPY_MODEL_e2f7fa09709b4f89842d92760ea43a0b",
        "IPY_MODEL_83cff18e6a264988ae36134b674e5a85"
       ],
       "layout": "IPY_MODEL_7b620fcf26764dc59856cf8c17e225c6"
      }
     },
     "e9a73fa1f34747818d3505be6015e5a8": {
      "model_module": "@jupyter-widgets/controls",
      "model_module_version": "1.4.0",
      "model_name": "DescriptionStyleModel",
      "state": {
       "description_width": ""
      }
     },
     "ea21094a446f4ef5a10ba3ec7281a8e1": {
      "model_module": "@jupyter-widgets/controls",
      "model_module_version": "1.4.0",
      "model_name": "DescriptionStyleModel",
      "state": {
       "description_width": ""
      }
     },
     "eab4cc52bba041929aae83ca52b86262": {
      "model_module": "@jupyter-widgets/controls",
      "model_module_version": "1.4.0",
      "model_name": "HBoxModel",
      "state": {
       "children": [
        "IPY_MODEL_20cb9075c7db4936a347bd454de3b582",
        "IPY_MODEL_22374c75f7794f22a5f88e46fc333e82",
        "IPY_MODEL_ce92781cb1694e5bae6daa60cfb2a7a9"
       ],
       "layout": "IPY_MODEL_6aa250d5c0944d639991a61220a87849"
      }
     },
     "ead2d37f897d4fdba7cc15fec55eb049": {
      "model_module": "@jupyter-widgets/controls",
      "model_module_version": "1.4.0",
      "model_name": "HBoxModel",
      "state": {
       "children": [
        "IPY_MODEL_21b672a6f2cb476a859c6c8b77770295",
        "IPY_MODEL_6d68637432684016b0727f506afe0df5",
        "IPY_MODEL_f01b454caf0243f89fac5809d26d4cf2",
        "IPY_MODEL_3fe63ac60ab64ded984e9abeeff7abf5",
        "IPY_MODEL_317ee220faa84115bad387393653c51c",
        "IPY_MODEL_587e0f7d832d4ecc866fb0f39ea9d990",
        "IPY_MODEL_fa04e72257b6472aa13cb02af3130812",
        "IPY_MODEL_f052288ca5ad43bb81cb89f7166b583e",
        "IPY_MODEL_019c9aac684248e991ad2ca479ca9e54",
        "IPY_MODEL_a3c2a24a94aa456cbd6779a86c1f06ad",
        "IPY_MODEL_25be128dd26d4cd298247bbbc5bbe06a"
       ],
       "layout": "IPY_MODEL_cbd305ecffbf4083b47607d4767cdc71"
      }
     },
     "eb04c670a97349aa81672b123aa0368f": {
      "model_module": "@jupyter-widgets/controls",
      "model_module_version": "1.4.0",
      "model_name": "ButtonStyleModel",
      "state": {}
     },
     "eb3ee6a786584c6d9f2da7657cac6d2a": {
      "model_module": "@jupyter-widgets/controls",
      "model_module_version": "1.4.0",
      "model_name": "LabelModel",
      "state": {
       "layout": "IPY_MODEL_d34a230dde2c42bdb1c91cd1929452d1",
       "style": "IPY_MODEL_0b517246f8e34440abe426b02300a069",
       "value": "Aobs's eigs:"
      }
     },
     "eb845b48322e45158642a399f660afa0": {
      "model_module": "@jupyter-widgets/base",
      "model_module_version": "1.1.0",
      "model_name": "LayoutModel",
      "state": {
       "width": "90px"
      }
     },
     "eb895777800d4b5dad6593c98477136a": {
      "model_module": "@jupyter-widgets/controls",
      "model_module_version": "1.4.0",
      "model_name": "LabelModel",
      "state": {
       "layout": "IPY_MODEL_c78317dc61044dcebc3800ab9500df9b",
       "style": "IPY_MODEL_14197243320e4c27bf97e564d6f16016"
      }
     },
     "eba8111f91b243d0b9783cc3e4381001": {
      "model_module": "@jupyter-widgets/controls",
      "model_module_version": "1.4.0",
      "model_name": "DescriptionStyleModel",
      "state": {
       "description_width": ""
      }
     },
     "ebb16ece53454ebcaf4e7e76b58df6c0": {
      "model_module": "@jupyter-widgets/base",
      "model_module_version": "1.1.0",
      "model_name": "LayoutModel",
      "state": {}
     },
     "ebb77dc0261f4b568809a80141cc5e95": {
      "model_module": "@jupyter-widgets/controls",
      "model_module_version": "1.4.0",
      "model_name": "LabelModel",
      "state": {
       "layout": "IPY_MODEL_72d88d2553ac41c4ac690fe0e067324e",
       "style": "IPY_MODEL_85217905f330467f8b5be2ca26a9808f"
      }
     },
     "ebf0f598131a450587d040772038e710": {
      "model_module": "@jupyter-widgets/controls",
      "model_module_version": "1.4.0",
      "model_name": "LabelModel",
      "state": {
       "layout": "IPY_MODEL_a7b4cf28d00f47458db9d6207df4c87c",
       "style": "IPY_MODEL_4112fde42af14183bbd1dc0f0588e5c3"
      }
     },
     "ec3fff96409f451e8c01a23c1f99995c": {
      "model_module": "@jupyter-widgets/controls",
      "model_module_version": "1.4.0",
      "model_name": "LabelModel",
      "state": {
       "layout": "IPY_MODEL_1dc05884ae5f4e7d823343a71c5d6ddd",
       "style": "IPY_MODEL_66b0c1e2ed6d42b4934c79d6d7cb6bc6"
      }
     },
     "ecd20c3dc57245719c571ef17d01685c": {
      "model_module": "@jupyter-widgets/base",
      "model_module_version": "1.1.0",
      "model_name": "LayoutModel",
      "state": {
       "width": "90px"
      }
     },
     "ed2d5f8703174f18b4ac11810f7fc733": {
      "model_module": "@jupyter-widgets/base",
      "model_module_version": "1.1.0",
      "model_name": "LayoutModel",
      "state": {}
     },
     "ed2d8c9e95644c48982990fdeaf43bbe": {
      "model_module": "@jupyter-widgets/base",
      "model_module_version": "1.1.0",
      "model_name": "LayoutModel",
      "state": {
       "width": "90px"
      }
     },
     "ed387f51cefd4c6e9562fcd544998001": {
      "model_module": "@jupyter-widgets/controls",
      "model_module_version": "1.4.0",
      "model_name": "FloatTextModel",
      "state": {
       "layout": "IPY_MODEL_5726c2125b484b7b9f531b64aad3748a",
       "step": null,
       "style": "IPY_MODEL_ef8369410e284bcba956b8650a4efe64",
       "value": -10
      }
     },
     "ed5069a98fda4fd89f8f6f2f037d4397": {
      "model_module": "@jupyter-widgets/controls",
      "model_module_version": "1.4.0",
      "model_name": "FloatTextModel",
      "state": {
       "layout": "IPY_MODEL_c10b5ac94db5488995240984fb80572d",
       "step": null,
       "style": "IPY_MODEL_f4484867d9a2404b8af89c12d9fee1b5",
       "value": 13861
      }
     },
     "ed7dd44c3eaa46c784871681f16bc0f0": {
      "model_module": "@jupyter-widgets/base",
      "model_module_version": "1.1.0",
      "model_name": "LayoutModel",
      "state": {}
     },
     "eda9ff75f90e4e86815627781902014a": {
      "model_module": "@jupyter-widgets/controls",
      "model_module_version": "1.4.0",
      "model_name": "DropdownModel",
      "state": {
       "_options_labels": [
        "0 complex eigenvalues",
        "2 complex eigenvalues"
       ],
       "description": "Aobs:",
       "disabled": true,
       "index": 0,
       "layout": "IPY_MODEL_b797a5ddd90043d48dd5a77c0f954f95",
       "style": "IPY_MODEL_ac0ffe7011a04929a5584f8a14bbb898"
      }
     },
     "edb98a49aed04ce2b99d3a4898054f4d": {
      "model_module": "@jupyter-widgets/controls",
      "model_module_version": "1.4.0",
      "model_name": "LabelModel",
      "state": {
       "layout": "IPY_MODEL_9d157d49b60d48c9ae30175ff22d2776",
       "style": "IPY_MODEL_9c7326c1824c4d51bcba36be24cfd780"
      }
     },
     "edf2c458601a4c2986e9084a559dcd3a": {
      "model_module": "@jupyter-widgets/base",
      "model_module_version": "1.1.0",
      "model_name": "LayoutModel",
      "state": {}
     },
     "ee4aa316d9714e888f3c23995436d5e6": {
      "model_module": "@jupyter-widgets/controls",
      "model_module_version": "1.4.0",
      "model_name": "HBoxModel",
      "state": {
       "children": [
        "IPY_MODEL_b6800bb5073f4fb49de9e3b04e45f578"
       ],
       "layout": "IPY_MODEL_36b6b604c9464f058cab5c96b0e7fd11"
      }
     },
     "ee6a33ca9388418faed0c5e29b4b9ad3": {
      "model_module": "@jupyter-widgets/controls",
      "model_module_version": "1.4.0",
      "model_name": "HBoxModel",
      "state": {
       "children": [
        "IPY_MODEL_b21b2a2d1b35450395e3c319fc54c196"
       ],
       "layout": "IPY_MODEL_90289c97f60843f89f00cd95a0fca4b9"
      }
     },
     "eea30c23809947ecacd9938a63398f49": {
      "model_module": "@jupyter-widgets/base",
      "model_module_version": "1.1.0",
      "model_name": "LayoutModel",
      "state": {}
     },
     "eed4b893f8914ebb9d38fb0d061e5369": {
      "model_module": "@jupyter-widgets/base",
      "model_module_version": "1.1.0",
      "model_name": "LayoutModel",
      "state": {}
     },
     "eeea2616635d4149881ea9df9f5a14cb": {
      "model_module": "@jupyter-widgets/controls",
      "model_module_version": "1.4.0",
      "model_name": "LabelModel",
      "state": {
       "layout": "IPY_MODEL_1e33b781497341b1996b09276820d8e0",
       "style": "IPY_MODEL_208dd43bf82041139b3985a6cc8b89b3"
      }
     },
     "eef564791f8b41739add71b75be481ec": {
      "model_module": "@jupyter-widgets/controls",
      "model_module_version": "1.4.0",
      "model_name": "FloatTextModel",
      "state": {
       "layout": "IPY_MODEL_d4f898ed505f4e5a918ae8166d217c23",
       "step": null,
       "style": "IPY_MODEL_e2e6de4db47f4ddbacdbd9c843e1e45a",
       "value": -0.2
      }
     },
     "ef1dd140766840bb8e931471f5f301c9": {
      "model_module": "@jupyter-widgets/controls",
      "model_module_version": "1.4.0",
      "model_name": "FloatTextModel",
      "state": {
       "disabled": true,
       "layout": "IPY_MODEL_cc47e48caf85445fa010ce953bda0ba2",
       "step": null,
       "style": "IPY_MODEL_7a86b8685c0d4d4ab4dfd942b31e689e"
      }
     },
     "ef440a7110ee47b08f272167ab804708": {
      "model_module": "@jupyter-widgets/base",
      "model_module_version": "1.1.0",
      "model_name": "LayoutModel",
      "state": {}
     },
     "ef8032f4b5344c16ae90cfbfd02231d6": {
      "model_module": "@jupyter-widgets/controls",
      "model_module_version": "1.4.0",
      "model_name": "LabelModel",
      "state": {
       "layout": "IPY_MODEL_bf122223b2724a248d55dd42cc9b3191",
       "style": "IPY_MODEL_f01c7a1026c14bdfa39a40648f44556d"
      }
     },
     "ef8369410e284bcba956b8650a4efe64": {
      "model_module": "@jupyter-widgets/controls",
      "model_module_version": "1.4.0",
      "model_name": "DescriptionStyleModel",
      "state": {
       "description_width": ""
      }
     },
     "f01b454caf0243f89fac5809d26d4cf2": {
      "model_module": "@jupyter-widgets/controls",
      "model_module_version": "1.4.0",
      "model_name": "VBoxModel",
      "state": {
       "children": [
        "IPY_MODEL_751f4dd6192f4b71b9ffc8b626f4ab84",
        "IPY_MODEL_0b4ba8575fd04aaaaea39527815d5e55"
       ],
       "layout": "IPY_MODEL_0e87eb36298b40c88aa507280a88673b"
      }
     },
     "f01c7a1026c14bdfa39a40648f44556d": {
      "model_module": "@jupyter-widgets/controls",
      "model_module_version": "1.4.0",
      "model_name": "DescriptionStyleModel",
      "state": {
       "description_width": ""
      }
     },
     "f052288ca5ad43bb81cb89f7166b583e": {
      "model_module": "@jupyter-widgets/controls",
      "model_module_version": "1.4.0",
      "model_name": "LabelModel",
      "state": {
       "layout": "IPY_MODEL_363c1e3703ab462a93ff019e7bc417eb",
       "style": "IPY_MODEL_38105898ff504547a93e80b47afac00d"
      }
     },
     "f0784b65c1cf46f9af5e149ad2e1bf93": {
      "model_module": "@jupyter-widgets/controls",
      "model_module_version": "1.4.0",
      "model_name": "DescriptionStyleModel",
      "state": {
       "description_width": ""
      }
     },
     "f13fe2c0b63c45769a832e70c2b163af": {
      "model_module": "@jupyter-widgets/base",
      "model_module_version": "1.1.0",
      "model_name": "LayoutModel",
      "state": {
       "width": "90px"
      }
     },
     "f1ebf687e130423a96df29607461d421": {
      "model_module": "@jupyter-widgets/controls",
      "model_module_version": "1.4.0",
      "model_name": "DescriptionStyleModel",
      "state": {
       "description_width": ""
      }
     },
     "f24072b2fc174c678db9de5d308468b8": {
      "model_module": "@jupyter-widgets/base",
      "model_module_version": "1.1.0",
      "model_name": "LayoutModel",
      "state": {}
     },
     "f2b45504c367429daa45903dc955e9f7": {
      "model_module": "@jupyter-widgets/output",
      "model_module_version": "1.0.0",
      "model_name": "OutputModel",
      "state": {
       "layout": "IPY_MODEL_b7a97461761e4eecb7aa7b1254c26810",
       "outputs": [
        {
         "name": "stdout",
         "output_type": "stream",
         "text": "The Aa's eigenvalues are: -2.24+2.23j, -2.24+-2.23j, -0.28+0.00j, -0.26+0.32j and -0.26+-0.32j\nThe observer\\s eigenvalues are: -10.00+0.00j and -10.00+0.00j\n"
        }
       ]
      }
     },
     "f342b0e683a541f88af64b284dcd2a0f": {
      "model_module": "@jupyter-widgets/controls",
      "model_module_version": "1.4.0",
      "model_name": "HBoxModel",
      "state": {
       "children": [
        "IPY_MODEL_402c9bde36d74803b3e44a1d9d24a7bf"
       ],
       "layout": "IPY_MODEL_ed7dd44c3eaa46c784871681f16bc0f0"
      }
     },
     "f3ccbef2b83d4b939389534c7a034c8e": {
      "model_module": "@jupyter-widgets/controls",
      "model_module_version": "1.4.0",
      "model_name": "LabelModel",
      "state": {
       "layout": "IPY_MODEL_c2b94464fe8c46c4bc766fc9342971bc",
       "style": "IPY_MODEL_4c44c42077ed435898d338ddb0ba0436",
       "value": "Ka:"
      }
     },
     "f3e6fb5eb49042e08cb1f9909bc388ea": {
      "model_module": "@jupyter-widgets/controls",
      "model_module_version": "1.4.0",
      "model_name": "HBoxModel",
      "state": {
       "children": [
        "IPY_MODEL_4fb69747e2b94cc39379030795002c6b",
        "IPY_MODEL_21eabbad715941b99f63fe2a4776bc00",
        "IPY_MODEL_13b9e1059bd644deab53f4bbff6caec0"
       ],
       "layout": "IPY_MODEL_8eb6aa9cb43341ccb9ce62f5ca112617"
      }
     },
     "f42e19a237c34b6180896202e734db4b": {
      "model_module": "@jupyter-widgets/controls",
      "model_module_version": "1.4.0",
      "model_name": "DescriptionStyleModel",
      "state": {
       "description_width": ""
      }
     },
     "f4484867d9a2404b8af89c12d9fee1b5": {
      "model_module": "@jupyter-widgets/controls",
      "model_module_version": "1.4.0",
      "model_name": "DescriptionStyleModel",
      "state": {
       "description_width": ""
      }
     },
     "f48ce26f0db74d56b4257564f06b803e": {
      "model_module": "@jupyter-widgets/controls",
      "model_module_version": "1.4.0",
      "model_name": "DescriptionStyleModel",
      "state": {
       "description_width": ""
      }
     },
     "f4b016746bb84426baca5c76043f6338": {
      "model_module": "@jupyter-widgets/controls",
      "model_module_version": "1.4.0",
      "model_name": "VBoxModel",
      "state": {
       "children": [
        "IPY_MODEL_07f5abd468dd4c468a64aed63128e248"
       ],
       "layout": "IPY_MODEL_4270a3ab84d24c2a87739c20e2005d65"
      }
     },
     "f4ddf9715a014e14be8ecb2b3ae86c47": {
      "model_module": "@jupyter-widgets/controls",
      "model_module_version": "1.4.0",
      "model_name": "DropdownModel",
      "state": {
       "_options_labels": [
        "0 complex eigenvalues",
        "2 complex eigenvalues"
       ],
       "description": "Aobs:",
       "disabled": true,
       "index": 0,
       "layout": "IPY_MODEL_e6710c1e57c84d0a8ac493e844396d61",
       "style": "IPY_MODEL_0a7c3f2ed52f4978a43c2ce6b2ed5a0d"
      }
     },
     "f60d5a9a35db4218bf1cb50b763bfbd8": {
      "model_module": "@jupyter-widgets/controls",
      "model_module_version": "1.4.0",
      "model_name": "DescriptionStyleModel",
      "state": {
       "description_width": ""
      }
     },
     "f66682badded4087a8e4129a3e4d524b": {
      "model_module": "@jupyter-widgets/controls",
      "model_module_version": "1.4.0",
      "model_name": "HBoxModel",
      "state": {
       "children": [
        "IPY_MODEL_da40a5d500a24119bae8200ab190284c"
       ],
       "layout": "IPY_MODEL_9aa8d3ec40df4e009aab31ecae602e3a"
      }
     },
     "f699eb1a696a488fab7f9c72c92dee1a": {
      "model_module": "@jupyter-widgets/base",
      "model_module_version": "1.1.0",
      "model_name": "LayoutModel",
      "state": {}
     },
     "f6adbb16255046328fb88ed295414e1e": {
      "model_module": "@jupyter-widgets/controls",
      "model_module_version": "1.4.0",
      "model_name": "FloatTextModel",
      "state": {
       "layout": "IPY_MODEL_f9bc59ff9da64788aab62303d63ab728",
       "step": null,
       "style": "IPY_MODEL_ade065b9c0274c9f8243ed695fe68333",
       "value": 316
      }
     },
     "f7bd3d3a570f462a94866d884ec485ea": {
      "model_module": "@jupyter-widgets/base",
      "model_module_version": "1.1.0",
      "model_name": "LayoutModel",
      "state": {}
     },
     "f7db352aad7f48b287d557cc324204f9": {
      "model_module": "@jupyter-widgets/controls",
      "model_module_version": "1.4.0",
      "model_name": "LabelModel",
      "state": {
       "layout": "IPY_MODEL_fb95f930529d4f57b36b5e52f981ab6b",
       "style": "IPY_MODEL_8390228ad1364aa68a86b96bf642bf61"
      }
     },
     "f8067f8c672e4164a2165c0319b30ee6": {
      "model_module": "@jupyter-widgets/controls",
      "model_module_version": "1.4.0",
      "model_name": "DescriptionStyleModel",
      "state": {
       "description_width": ""
      }
     },
     "f86a60dda4fc42509dc33d6808857b59": {
      "model_module": "@jupyter-widgets/controls",
      "model_module_version": "1.4.0",
      "model_name": "HBoxModel",
      "state": {
       "children": [
        "IPY_MODEL_6157e5ac18a04380bfcdf3e5360c1f10"
       ],
       "layout": "IPY_MODEL_a8c021ecd91740e0a4a051e52059b3e9"
      }
     },
     "f86ef0c63af448cbba07abd5003acb2c": {
      "model_module": "@jupyter-widgets/base",
      "model_module_version": "1.1.0",
      "model_name": "LayoutModel",
      "state": {}
     },
     "f971744a6b6f4c44b945449b4acd81c4": {
      "model_module": "@jupyter-widgets/controls",
      "model_module_version": "1.4.0",
      "model_name": "DescriptionStyleModel",
      "state": {
       "description_width": ""
      }
     },
     "f9982efc85a34595ba056a20e5f29111": {
      "model_module": "@jupyter-widgets/base",
      "model_module_version": "1.1.0",
      "model_name": "LayoutModel",
      "state": {}
     },
     "f9a795a7869345c3a2ebfa402d45f25b": {
      "model_module": "@jupyter-widgets/controls",
      "model_module_version": "1.4.0",
      "model_name": "DescriptionStyleModel",
      "state": {
       "description_width": ""
      }
     },
     "f9bc59ff9da64788aab62303d63ab728": {
      "model_module": "@jupyter-widgets/base",
      "model_module_version": "1.1.0",
      "model_name": "LayoutModel",
      "state": {
       "width": "90px"
      }
     },
     "f9d812c863db402d90b2c980d38bb13c": {
      "model_module": "@jupyter-widgets/base",
      "model_module_version": "1.1.0",
      "model_name": "LayoutModel",
      "state": {}
     },
     "f9e272cddc0d46a8b29b88bc2031a7b6": {
      "model_module": "@jupyter-widgets/base",
      "model_module_version": "1.1.0",
      "model_name": "LayoutModel",
      "state": {}
     },
     "f9efcf465553492696c39a2edafe44fc": {
      "model_module": "@jupyter-widgets/controls",
      "model_module_version": "1.4.0",
      "model_name": "ButtonStyleModel",
      "state": {}
     },
     "fa04e72257b6472aa13cb02af3130812": {
      "model_module": "@jupyter-widgets/controls",
      "model_module_version": "1.4.0",
      "model_name": "LabelModel",
      "state": {
       "layout": "IPY_MODEL_52d2c84751bb4e7cba68bcd9a091bba1",
       "style": "IPY_MODEL_eba8111f91b243d0b9783cc3e4381001"
      }
     },
     "fa577bc5c8a24267b971d8d0213279dd": {
      "model_module": "@jupyter-widgets/controls",
      "model_module_version": "1.4.0",
      "model_name": "LabelModel",
      "state": {
       "layout": "IPY_MODEL_e81bb22a34de44a18e29476b4d713e71",
       "style": "IPY_MODEL_1b74db63daf04430bfbc9b90a4d2a0b9"
      }
     },
     "fa694349488843568882bce05ddefe64": {
      "model_module": "@jupyter-widgets/controls",
      "model_module_version": "1.4.0",
      "model_name": "HBoxModel",
      "state": {
       "children": [
        "IPY_MODEL_b9934d2ea426442b947bc55a6a98475c",
        "IPY_MODEL_d5286389e31f44d0a068455235d65e4f",
        "IPY_MODEL_db615f930a5444898a71cb10d3e0db3d",
        "IPY_MODEL_0fbab12f3fc8478a8d773b74b0d46c8b",
        "IPY_MODEL_992c66e245f641c19dbfccd1fcf3dc9b",
        "IPY_MODEL_c52b71d3ecdd45499b48a31dc291647b"
       ],
       "layout": "IPY_MODEL_51c5d8276bd747b39c3117b7fe0d1529"
      }
     },
     "fa6b3a1cd38f4591b1ea46c619cb3030": {
      "model_module": "@jupyter-widgets/controls",
      "model_module_version": "1.4.0",
      "model_name": "DescriptionStyleModel",
      "state": {
       "description_width": ""
      }
     },
     "fa779ef2a19142449b6539ff5c0afb2a": {
      "model_module": "@jupyter-widgets/controls",
      "model_module_version": "1.4.0",
      "model_name": "LabelModel",
      "state": {
       "layout": "IPY_MODEL_808008c7a6d64220a24e0e57526aee9a",
       "style": "IPY_MODEL_33bfa08767d84ae4a47341c4859c6d8e",
       "value": "Ka:"
      }
     },
     "fae3f97f39754d1ba4c31c0a281630ef": {
      "model_module": "@jupyter-widgets/base",
      "model_module_version": "1.1.0",
      "model_name": "LayoutModel",
      "state": {}
     },
     "faefe63476c24a01aaf13a0d22a20e41": {
      "model_module": "@jupyter-widgets/controls",
      "model_module_version": "1.4.0",
      "model_name": "DropdownModel",
      "state": {
       "_options_labels": [
        "Set Ka and La",
        "Set the eigenvalues"
       ],
       "index": 0,
       "layout": "IPY_MODEL_491cd4b112cf45e3aba71d0563e0768d",
       "style": "IPY_MODEL_f9a795a7869345c3a2ebfa402d45f25b"
      }
     },
     "fb4bc4d4d3a648d7a6a9df184cce12b6": {
      "model_module": "@jupyter-widgets/controls",
      "model_module_version": "1.4.0",
      "model_name": "HBoxModel",
      "state": {
       "children": [
        "IPY_MODEL_2f3e230ec0f74c2db5e3641c839f2213",
        "IPY_MODEL_d5286389e31f44d0a068455235d65e4f",
        "IPY_MODEL_67a96f99e9b841eaaff526b823dd21aa",
        "IPY_MODEL_b71de6e879bf43289b585f20d30e8ed5",
        "IPY_MODEL_5433f855b1e144bd9f99ee35a93dddd2",
        "IPY_MODEL_c52b71d3ecdd45499b48a31dc291647b"
       ],
       "layout": "IPY_MODEL_49bb0a8604b14c99a08b92915c5fc8d4"
      }
     },
     "fb95f930529d4f57b36b5e52f981ab6b": {
      "model_module": "@jupyter-widgets/base",
      "model_module_version": "1.1.0",
      "model_name": "LayoutModel",
      "state": {}
     },
     "fbb1d9058ea14688b02e1bf1f255cd4f": {
      "model_module": "@jupyter-widgets/controls",
      "model_module_version": "1.4.0",
      "model_name": "FloatTextModel",
      "state": {
       "layout": "IPY_MODEL_d6839054cd8f4840b7ceabe64adb74a1",
       "step": null,
       "style": "IPY_MODEL_94c62e1f059546eaa77c67a8748086d9",
       "value": 5275
      }
     },
     "fbf8566bdb534d5dbaa859344be12c0e": {
      "model_module": "@jupyter-widgets/base",
      "model_module_version": "1.1.0",
      "model_name": "LayoutModel",
      "state": {}
     },
     "fc243b3b10e846438dd07009179844f7": {
      "model_module": "@jupyter-widgets/base",
      "model_module_version": "1.1.0",
      "model_name": "LayoutModel",
      "state": {}
     },
     "fcea6582999f41d3998d812ef0156748": {
      "model_module": "@jupyter-widgets/base",
      "model_module_version": "1.1.0",
      "model_name": "LayoutModel",
      "state": {}
     },
     "fd59bda6f0d24120b0d6c12b5f6b8722": {
      "model_module": "@jupyter-widgets/controls",
      "model_module_version": "1.4.0",
      "model_name": "HBoxModel",
      "state": {
       "children": [
        "IPY_MODEL_f3ccbef2b83d4b939389534c7a034c8e",
        "IPY_MODEL_7a2c5d36b676498d86709b794261b2e5",
        "IPY_MODEL_5c81d6ad649d4942907fecd01757d79a",
        "IPY_MODEL_3ae048ad15b44938b8b8c0d5af7219e8",
        "IPY_MODEL_417d4660c0684d73b14d876b04be9db0",
        "IPY_MODEL_9e0c7264530f48d8a6e52208066546ff"
       ],
       "layout": "IPY_MODEL_84978a101c7e4f339808d159363a8bda"
      }
     },
     "fdc20dbc4d12432c889e338ca9f4f2e0": {
      "model_module": "@jupyter-widgets/base",
      "model_module_version": "1.1.0",
      "model_name": "LayoutModel",
      "state": {
       "width": "90px"
      }
     },
     "fdce31ba7cd54e7599882f799a6e6e33": {
      "model_module": "@jupyter-widgets/controls",
      "model_module_version": "1.4.0",
      "model_name": "LabelModel",
      "state": {
       "layout": "IPY_MODEL_47aecddedfd64f07a36ec50b49227ec5",
       "style": "IPY_MODEL_5232c359d050473bbaf3e0e85f18eeb0"
      }
     },
     "fe09b783fe0d4b9099f6673b2feb299b": {
      "model_module": "@jupyter-widgets/controls",
      "model_module_version": "1.4.0",
      "model_name": "DescriptionStyleModel",
      "state": {
       "description_width": ""
      }
     },
     "fe452383f5644078905bb160d1205007": {
      "model_module": "@jupyter-widgets/controls",
      "model_module_version": "1.4.0",
      "model_name": "LabelModel",
      "state": {
       "layout": "IPY_MODEL_f9d812c863db402d90b2c980d38bb13c",
       "style": "IPY_MODEL_8a9bc422e2cc4f8e806f955c0698cf32"
      }
     },
     "fe72029372074064a0a2d7f32b95cc43": {
      "model_module": "@jupyter-widgets/controls",
      "model_module_version": "1.4.0",
      "model_name": "DescriptionStyleModel",
      "state": {
       "description_width": ""
      }
     },
     "fe865e4851b4495a95e3dc2cc31cfaa9": {
      "model_module": "@jupyter-widgets/base",
      "model_module_version": "1.1.0",
      "model_name": "LayoutModel",
      "state": {
       "width": "90px"
      }
     },
     "fe8d4c19a86346019352770ba2a10a08": {
      "model_module": "@jupyter-widgets/controls",
      "model_module_version": "1.4.0",
      "model_name": "FloatTextModel",
      "state": {
       "layout": "IPY_MODEL_0a02add7505f44028df61c521bfc1df6",
       "step": null,
       "style": "IPY_MODEL_e80abac93ac54bc8a6d91a52c4fd70cc",
       "value": -0.5
      }
     },
     "fe99c96f7d5a47c689cfa08b35724327": {
      "model_module": "@jupyter-widgets/base",
      "model_module_version": "1.1.0",
      "model_name": "LayoutModel",
      "state": {}
     },
     "fea917e7b46743788590dd87985dcee4": {
      "model_module": "@jupyter-widgets/controls",
      "model_module_version": "1.4.0",
      "model_name": "DescriptionStyleModel",
      "state": {
       "description_width": ""
      }
     },
     "febb6c29d5cb4d519b06da40a32c101c": {
      "model_module": "@jupyter-widgets/controls",
      "model_module_version": "1.4.0",
      "model_name": "DescriptionStyleModel",
      "state": {
       "description_width": ""
      }
     },
     "fedc86dc603d43e08f7f162b326f729d": {
      "model_module": "@jupyter-widgets/controls",
      "model_module_version": "1.4.0",
      "model_name": "LabelModel",
      "state": {
       "layout": "IPY_MODEL_3b7b8cd8f40f46f7a6af377e08229a20",
       "style": "IPY_MODEL_189961caab4941f481899c87788c12aa"
      }
     },
     "ff14f4f3069442e09be6386b056e4f65": {
      "model_module": "@jupyter-widgets/controls",
      "model_module_version": "1.4.0",
      "model_name": "DescriptionStyleModel",
      "state": {
       "description_width": ""
      }
     },
     "ff23ed97b5014a51ac0d66101e37cbb1": {
      "model_module": "@jupyter-widgets/base",
      "model_module_version": "1.1.0",
      "model_name": "LayoutModel",
      "state": {}
     },
     "ffc5676e98b545a9897040da8eda7dc9": {
      "model_module": "@jupyter-widgets/controls",
      "model_module_version": "1.4.0",
      "model_name": "HBoxModel",
      "state": {
       "children": [
        "IPY_MODEL_36ac1087021c41399d70cc006def027e",
        "IPY_MODEL_7bec55103402411195944e1352e9ee8f",
        "IPY_MODEL_ac1bd1734d2c4d0182e333fa5842cb67"
       ],
       "layout": "IPY_MODEL_913286bb22214d3cb6367fff535d9581"
      }
     },
     "ffd9845674134373a41db40934c7be0d": {
      "model_module": "@jupyter-widgets/controls",
      "model_module_version": "1.4.0",
      "model_name": "DescriptionStyleModel",
      "state": {
       "description_width": ""
      }
     },
     "ffe99539e150450583ae31daaf3d9322": {
      "model_module": "@jupyter-widgets/base",
      "model_module_version": "1.1.0",
      "model_name": "LayoutModel",
      "state": {}
     }
    },
    "version_major": 2,
    "version_minor": 0
   }
  }
 },
 "nbformat": 4,
 "nbformat_minor": 4
}
