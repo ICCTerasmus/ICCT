{
 "cells": [
  {
   "cell_type": "code",
   "execution_count": 1,
   "metadata": {},
   "outputs": [
    {
     "data": {
      "text/html": [
       "<script>\n",
       "code_show=true; \n",
       "function code_toggle() {\n",
       "    if (code_show){\n",
       "        $('div.input').hide()\n",
       "    } else {\n",
       "        $('div.input').show()\n",
       "    }\n",
       "    code_show = !code_show\n",
       "} \n",
       "$( document ).ready(code_toggle);\n",
       "</script>\n",
       "Toggle cell visibility <a href=\"javascript:code_toggle()\">here</a>."
      ],
      "text/plain": [
       "<IPython.core.display.HTML object>"
      ]
     },
     "metadata": {},
     "output_type": "display_data"
    }
   ],
   "source": [
    "# Erasmus+ ICCT project (2018-1-SI01-KA203-047081)\n",
    "\n",
    "# Toggle cell visibility\n",
    "\n",
    "from IPython.display import HTML\n",
    "tag = HTML('''<script>\n",
    "code_show=true; \n",
    "function code_toggle() {\n",
    "    if (code_show){\n",
    "        $('div.input').hide()\n",
    "    } else {\n",
    "        $('div.input').show()\n",
    "    }\n",
    "    code_show = !code_show\n",
    "} \n",
    "$( document ).ready(code_toggle);\n",
    "</script>\n",
    "Toggle cell visibility <a href=\"javascript:code_toggle()\">here</a>.''')\n",
    "display(tag)\n",
    "\n",
    "# Hide the code completely\n",
    "\n",
    "# from IPython.display import HTML\n",
    "# tag = HTML('''<style>\n",
    "# div.input {\n",
    "#     display:none;\n",
    "# }\n",
    "# </style>''')\n",
    "# display(tag)\n"
   ]
  },
  {
   "cell_type": "markdown",
   "metadata": {
    "lang": "it"
   },
   "source": [
    "## Analisi modale del Lunar Lander\n",
    "\n",
    "La matrice dinamica $A$ che rappresenta le dinamiche del Lunar Lander (vedi l'esempio [dinamiche di posizione laterale del lander lunare](SS-11-Lunar_lander_lateral_position_dynamics) per maggiori dettagli) è:\n",
    "\n",
    "$$\n",
    "A=\\begin{bmatrix}0&1&0&0 \\\\ 0&0&F/m&0 \\\\ 0&0&0&1 \\\\ 0&0&0&0\\end{bmatrix},\n",
    "$$\n",
    "\n",
    "dove $F$ è la forza di propulsione e $m$ la massa del lander. Lo stato del sistema è $x=[z,\\dot{z},\\theta,\\dot{\\theta}]^T$, dove $z$ è la posizione laterale, $\\dot{z}$ la velocità laterale, $\\theta$ l'angolo di orientamento del lander rispetto alla verticale e $\\dot{\\theta}$ la sua variazione nel tempo.\n",
    "\n",
    "La matrice dinamica in questa forma mostra quattro autovalori, tutti uguali a 0. Gli autovalori nulli sono spesso chiamati integratori (si ricordi la Trasformata di Laplace dell'integrale di un segnale: qual è la radice del denominatore della sua espressione?). Quindi, questo sistema si dice che ha 4 integratori. Con $F\\neq0$ ($m\\neq0$) il sistema presenta una struttura simile ad un blocco di Jordan $4\\times4$, quindi l'autovalore 0, in questo caso, ha una molteplicità geometrica uguale a 1. Con $F=0$ l'autovalore rimane lo stesso con la stessa molteplicità algebrica ma con una molteplicità geometrica pari a 2.\n",
    "\n",
    "Di seguito è presentato un esempio con $F\\neq0$.\n",
    "\n",
    "### Come utilizzare questo notebook?\n",
    "\n",
    "- Prova a impostare $F=0$ e prova a spiegare cosa implica fisicamente questo caso per il lander, specialmente per le dinamiche $z$ e $\\theta$ e la loro relazione."
   ]
  },
  {
   "cell_type": "code",
   "execution_count": 2,
   "metadata": {},
   "outputs": [],
   "source": [
    "#Preparatory Cell \n",
    "import control\n",
    "import numpy\n",
    "from IPython.display import display, Markdown\n",
    "import ipywidgets as widgets\n",
    "import matplotlib.pyplot as plt\n",
    "\n",
    "%matplotlib inline\n",
    "\n",
    "#matrixWidget is a matrix looking widget built with a VBox of HBox(es) that returns a numPy array as value !\n",
    "class matrixWidget(widgets.VBox):\n",
    "    def updateM(self,change):\n",
    "        for irow in range(0,self.n):\n",
    "            for icol in range(0,self.m):\n",
    "                self.M_[irow,icol] = self.children[irow].children[icol].value\n",
    "                #print(self.M_[irow,icol])\n",
    "        self.value = self.M_\n",
    "\n",
    "    def dummychangecallback(self,change):\n",
    "        pass\n",
    "    \n",
    "    \n",
    "    def __init__(self,n,m):\n",
    "        self.n = n\n",
    "        self.m = m\n",
    "        self.M_ = numpy.matrix(numpy.zeros((self.n,self.m)))\n",
    "        self.value = self.M_\n",
    "        widgets.VBox.__init__(self,\n",
    "                             children = [\n",
    "                                 widgets.HBox(children = \n",
    "                                              [widgets.FloatText(value=0.0, layout=widgets.Layout(width='90px')) for i in range(m)]\n",
    "                                             ) \n",
    "                                 for j in range(n)\n",
    "                             ])\n",
    "        \n",
    "        #fill in widgets and tell interact to call updateM each time a children changes value\n",
    "        for irow in range(0,self.n):\n",
    "            for icol in range(0,self.m):\n",
    "                self.children[irow].children[icol].value = self.M_[irow,icol]\n",
    "                self.children[irow].children[icol].observe(self.updateM, names='value')\n",
    "        #value = Unicode('example@example.com', help=\"The email value.\").tag(sync=True)\n",
    "        self.observe(self.updateM, names='value', type= 'All')\n",
    "        \n",
    "    def setM(self, newM):\n",
    "        #disable callbacks, change values, and reenable\n",
    "        self.unobserve(self.updateM, names='value', type= 'All')\n",
    "        for irow in range(0,self.n):\n",
    "            for icol in range(0,self.m):\n",
    "                self.children[irow].children[icol].unobserve(self.updateM, names='value')\n",
    "        self.M_ = newM\n",
    "        self.value = self.M_\n",
    "        for irow in range(0,self.n):\n",
    "            for icol in range(0,self.m):\n",
    "                self.children[irow].children[icol].value = self.M_[irow,icol]\n",
    "        for irow in range(0,self.n):\n",
    "            for icol in range(0,self.m):\n",
    "                self.children[irow].children[icol].observe(self.updateM, names='value')\n",
    "        self.observe(self.updateM, names='value', type= 'All')        \n",
    "\n",
    "                #self.children[irow].children[icol].observe(self.updateM, names='value')\n",
    "\n",
    "             \n",
    "#overlaod class for state space systems that DO NOT remove \"useless\" states (what \"professor\" of automatic control would do this?)\n",
    "class sss(control.StateSpace):\n",
    "    def __init__(self,*args):\n",
    "        #call base class init constructor\n",
    "        control.StateSpace.__init__(self,*args)\n",
    "    #disable function below in base class\n",
    "    def _remove_useless_states(self):\n",
    "        pass"
   ]
  },
  {
   "cell_type": "code",
   "execution_count": 3,
   "metadata": {},
   "outputs": [],
   "source": [
    "#define the sliders for m, k and c\n",
    "m = widgets.FloatSlider(\n",
    "    value=1000,\n",
    "    min=400,\n",
    "    max=2000,\n",
    "    step=1,\n",
    "    description='$m$ [kg]:',\n",
    "    disabled=False,\n",
    "    continuous_update=False,\n",
    "    orientation='horizontal',\n",
    "    readout=True,\n",
    "    readout_format='.1f',\n",
    ")\n",
    "F = widgets.FloatSlider(\n",
    "    value=1500,\n",
    "    min=0,\n",
    "    max=5000,\n",
    "    step=10,\n",
    "    description='$F$ [N]:',\n",
    "    disabled=False,\n",
    "    continuous_update=False,\n",
    "    orientation='horizontal',\n",
    "    readout=True,\n",
    "    readout_format='.1f',\n",
    ")"
   ]
  },
  {
   "cell_type": "code",
   "execution_count": 4,
   "metadata": {
    "scrolled": false
   },
   "outputs": [
    {
     "data": {
      "application/vnd.jupyter.widget-view+json": {
       "model_id": "1ac06c31ca88484391684b9dbac63260",
       "version_major": 2,
       "version_minor": 0
      },
      "text/plain": [
       "Output()"
      ]
     },
     "metadata": {},
     "output_type": "display_data"
    },
    {
     "data": {
      "application/vnd.jupyter.widget-view+json": {
       "model_id": "1db7fe0b85754d5bb6f056090b39781d",
       "version_major": 2,
       "version_minor": 0
      },
      "text/plain": [
       "HBox(children=(FloatSlider(value=1000.0, continuous_update=False, description='$m$ [kg]:', max=2000.0, min=400…"
      ]
     },
     "metadata": {},
     "output_type": "display_data"
    }
   ],
   "source": [
    "#function that make all the computations\n",
    "def main_callback(m, F):\n",
    "    eig1 = 0\n",
    "    eig2 = 0\n",
    "    eig3 = 0\n",
    "    eig4 = 0\n",
    "    \n",
    "    if numpy.real([eig1,eig2,eig3,eig4])[0] == 0 and numpy.real([eig1,eig2,eig3,eig4])[1] == 0:\n",
    "        T = numpy.linspace(0,20,1000)\n",
    "    else:\n",
    "        if min(numpy.abs(numpy.real([eig1,eig2,eig3,eig4]))) != 0:\n",
    "            T = numpy.linspace(0,7*1/min(numpy.abs(numpy.real([eig1,eig2,eig3,eig4]))),1000)\n",
    "        else:\n",
    "            T = numpy.linspace(0,7*1/max(numpy.abs(numpy.real([eig1,eig2,eig3,eig4]))),1000)\n",
    "    if F==0:\n",
    "        mode1 = numpy.exp(eig1*T)\n",
    "        mode2 = T*mode1\n",
    "        mode3 = mode1\n",
    "        mode4 = mode2\n",
    "    else:\n",
    "        mode1 = numpy.exp(eig1*T)\n",
    "        mode2 = T*mode1\n",
    "        mode3 = T*mode2\n",
    "        mode4 = T*mode3\n",
    "    \n",
    "    fig = plt.figure(figsize=[16, 10])\n",
    "    fig.set_label('Modi')\n",
    "    g1 = fig.add_subplot(221)\n",
    "    g2 = fig.add_subplot(222)\n",
    "    g3 = fig.add_subplot(223)\n",
    "    g4 = fig.add_subplot(224)\n",
    "    \n",
    "    g1.plot(T,mode1)\n",
    "    g1.grid()\n",
    "    g1.set_xlabel('t [s]')\n",
    "    g1.set_ylabel('Primo modo')\n",
    "    \n",
    "    g2.plot(T,mode2)\n",
    "    g2.grid()\n",
    "    g2.set_xlabel('t [s]')\n",
    "    g2.set_ylabel('Secondo modo')\n",
    "    \n",
    "    g3.plot(T,mode3)\n",
    "    g3.grid()\n",
    "    g3.set_xlabel('t [s]')\n",
    "    g3.set_ylabel('Terzo modo')\n",
    "    \n",
    "    g4.plot(T,mode4)\n",
    "    g4.grid()\n",
    "    g4.set_xlabel('t [s]')\n",
    "    g4.set_ylabel('Quarto modo')\n",
    "    \n",
    "    modesString = r'L\\'unico autovalore del sistema è 0 con molteplicità algebrica 4. '\n",
    "    if F==0:\n",
    "        modesString = modesString + r'I modi corrispondenti sono $k$ e $t$.'\n",
    "    else:\n",
    "        modesString = modesString + r'I modi corrispondenti sono $k$, $t$, $\\frac{t^2}{2}$ e $\\frac{t^3}{6}$.'\n",
    "    display(Markdown(modesString))\n",
    "\n",
    "        \n",
    "out = widgets.interactive_output(main_callback,{'m':m,'F':F})\n",
    "sliders = widgets.HBox([m,F])\n",
    "display(out,sliders)"
   ]
  }
 ],
 "metadata": {
  "kernelspec": {
   "display_name": "Python 3",
   "language": "python",
   "name": "python3"
  },
  "language_info": {
   "codemirror_mode": {
    "name": "ipython",
    "version": 3
   },
   "file_extension": ".py",
   "mimetype": "text/x-python",
   "name": "python",
   "nbconvert_exporter": "python",
   "pygments_lexer": "ipython3",
   "version": "3.6.7"
  },
  "nbTranslate": {
   "displayLangs": [
    "it"
   ],
   "hotkey": "alt-t",
   "langInMainMenu": true,
   "sourceLang": "en",
   "targetLang": "it",
   "useGoogleTranslate": true
  }
 },
 "nbformat": 4,
 "nbformat_minor": 4
}
