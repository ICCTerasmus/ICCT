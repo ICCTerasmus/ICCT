{
 "cells": [
  {
   "cell_type": "code",
   "execution_count": 1,
   "metadata": {},
   "outputs": [
    {
     "data": {
      "text/html": [
       "<script>\n",
       "code_show=true; \n",
       "function code_toggle() {\n",
       "    if (code_show){\n",
       "        $('div.input').hide()\n",
       "    } else {\n",
       "        $('div.input').show()\n",
       "    }\n",
       "    code_show = !code_show\n",
       "} \n",
       "$( document ).ready(code_toggle);\n",
       "</script>\n",
       "Toggle cell visibility <a href=\"javascript:code_toggle()\">here</a>."
      ],
      "text/plain": [
       "<IPython.core.display.HTML object>"
      ]
     },
     "metadata": {},
     "output_type": "display_data"
    }
   ],
   "source": [
    "# Erasmus+ ICCT project (2018-1-SI01-KA203-047081)\n",
    "\n",
    "# Toggle cell visibility\n",
    "\n",
    "from IPython.display import HTML\n",
    "tag = HTML('''<script>\n",
    "code_show=true; \n",
    "function code_toggle() {\n",
    "    if (code_show){\n",
    "        $('div.input').hide()\n",
    "    } else {\n",
    "        $('div.input').show()\n",
    "    }\n",
    "    code_show = !code_show\n",
    "} \n",
    "$( document ).ready(code_toggle);\n",
    "</script>\n",
    "Toggle cell visibility <a href=\"javascript:code_toggle()\">here</a>.''')\n",
    "display(tag)\n",
    "\n",
    "# Hide the code completely\n",
    "\n",
    "# from IPython.display import HTML\n",
    "# tag = HTML('''<style>\n",
    "# div.input {\n",
    "#     display:none;\n",
    "# }\n",
    "# </style>''')\n",
    "# display(tag)\n"
   ]
  },
  {
   "cell_type": "markdown",
   "metadata": {
    "lang": "it"
   },
   "source": [
    "## Stabilità interna 4\n",
    "\n",
    "### Come usare questo notebook?\n",
    "Prova a cambiare la matrice dinamica $A$ del sistema lineare stabile di seguito in modo da ottenere un sistema con due modi instabili e poi cambia le condizioni iniziali per nascondere il comportamento divergente.\n",
    "\n",
    "$$\n",
    "\\dot{x} = \\underbrace{\\begin{bmatrix}0&1\\\\-2&-2\\end{bmatrix}}_{A}x\n",
    "$$\n",
    "\n",
    "Prova a rispondere:\n",
    "- È possibile ottenere questo risultato? Se sì, in quale caso particolare?"
   ]
  },
  {
   "cell_type": "code",
   "execution_count": 2,
   "metadata": {},
   "outputs": [],
   "source": [
    "%matplotlib inline\n",
    "import control as control\n",
    "import numpy\n",
    "import sympy as sym\n",
    "from IPython.display import display, Markdown\n",
    "import ipywidgets as widgets\n",
    "import matplotlib.pyplot as plt\n",
    "\n",
    "#matrixWidget is a matrix looking widget built with a VBox of HBox(es) that returns a numPy array as value !\n",
    "class matrixWidget(widgets.VBox):\n",
    "    def updateM(self,change):\n",
    "        for irow in range(0,self.n):\n",
    "            for icol in range(0,self.m):\n",
    "                self.M_[irow,icol] = self.children[irow].children[icol].value\n",
    "                #print(self.M_[irow,icol])\n",
    "        self.value = self.M_\n",
    "\n",
    "    def dummychangecallback(self,change):\n",
    "        pass\n",
    "    \n",
    "    \n",
    "    def __init__(self,n,m):\n",
    "        self.n = n\n",
    "        self.m = m\n",
    "        self.M_ = numpy.matrix(numpy.zeros((self.n,self.m)))\n",
    "        self.value = self.M_\n",
    "        widgets.VBox.__init__(self,\n",
    "                             children = [\n",
    "                                 widgets.HBox(children = \n",
    "                                              [widgets.FloatText(value=0.0, layout=widgets.Layout(width='90px')) for i in range(m)]\n",
    "                                             ) \n",
    "                                 for j in range(n)\n",
    "                             ])\n",
    "        \n",
    "        #fill in widgets and tell interact to call updateM each time a children changes value\n",
    "        for irow in range(0,self.n):\n",
    "            for icol in range(0,self.m):\n",
    "                self.children[irow].children[icol].value = self.M_[irow,icol]\n",
    "                self.children[irow].children[icol].observe(self.updateM, names='value')\n",
    "        #value = Unicode('example@example.com', help=\"The email value.\").tag(sync=True)\n",
    "        self.observe(self.updateM, names='value', type= 'All')\n",
    "        \n",
    "    def setM(self, newM):\n",
    "        #disable callbacks, change values, and reenable\n",
    "        self.unobserve(self.updateM, names='value', type= 'All')\n",
    "        for irow in range(0,self.n):\n",
    "            for icol in range(0,self.m):\n",
    "                self.children[irow].children[icol].unobserve(self.updateM, names='value')\n",
    "        self.M_ = newM\n",
    "        self.value = self.M_\n",
    "        for irow in range(0,self.n):\n",
    "            for icol in range(0,self.m):\n",
    "                self.children[irow].children[icol].value = self.M_[irow,icol]\n",
    "        for irow in range(0,self.n):\n",
    "            for icol in range(0,self.m):\n",
    "                self.children[irow].children[icol].observe(self.updateM, names='value')\n",
    "        self.observe(self.updateM, names='value', type= 'All')        \n",
    "\n",
    "                #self.children[irow].children[icol].observe(self.updateM, names='value')\n",
    "\n",
    "             \n",
    "#overlaod class for state space systems that DO NOT remove \"useless\" states (what \"professor\" of automatic control would do this?)\n",
    "class sss(control.StateSpace):\n",
    "    def __init__(self,*args):\n",
    "        #call base class init constructor\n",
    "        control.StateSpace.__init__(self,*args)\n",
    "    #disable function below in base class\n",
    "    def _remove_useless_states(self):\n",
    "        pass"
   ]
  },
  {
   "cell_type": "code",
   "execution_count": 3,
   "metadata": {},
   "outputs": [],
   "source": [
    "# Preparatory cell\n",
    "\n",
    "A = numpy.matrix([[0.,1.],[-2.,-2.]])\n",
    "X0 = numpy.matrix([[1.],[0.]])\n",
    "\n",
    "Aw = matrixWidget(2,2)\n",
    "Aw.setM(A)\n",
    "X0w = matrixWidget(2,1)\n",
    "X0w.setM(X0)"
   ]
  },
  {
   "cell_type": "code",
   "execution_count": 4,
   "metadata": {},
   "outputs": [],
   "source": [
    "# Misc\n",
    "\n",
    "#create dummy widget \n",
    "DW = widgets.FloatText(layout=widgets.Layout(width='0px', height='0px'))\n",
    "\n",
    "#create button widget\n",
    "START = widgets.Button(\n",
    "    description='Test',\n",
    "    disabled=False,\n",
    "    button_style='', # 'success', 'info', 'warning', 'danger' or ''\n",
    "    tooltip='Test',\n",
    "    icon='check'\n",
    ")\n",
    "                       \n",
    "def on_start_button_clicked(b):\n",
    "    #This is a workaround to have intreactive_output call the callback:\n",
    "    #   force the value of the dummy widget to change\n",
    "    if DW.value> 0 :\n",
    "        DW.value = -1\n",
    "    else: \n",
    "        DW.value = 1\n",
    "    pass\n",
    "START.on_click(on_start_button_clicked)"
   ]
  },
  {
   "cell_type": "code",
   "execution_count": 5,
   "metadata": {
    "scrolled": false
   },
   "outputs": [
    {
     "data": {
      "application/vnd.jupyter.widget-view+json": {
       "model_id": "3cbec45994d24d94bcb6648a1a04582a",
       "version_major": 2,
       "version_minor": 0
      },
      "text/plain": [
       "Output(layout=Layout(height='350px'))"
      ]
     },
     "metadata": {},
     "output_type": "display_data"
    },
    {
     "data": {
      "application/vnd.jupyter.widget-view+json": {
       "model_id": "3b4d25d7b922464f8d998f467af63782",
       "version_major": 2,
       "version_minor": 0
      },
      "text/plain": [
       "HBox(children=(VBox(children=(Label(value='$A$:'), matrixWidget(children=(HBox(children=(FloatText(value=0.0, …"
      ]
     },
     "metadata": {},
     "output_type": "display_data"
    }
   ],
   "source": [
    "# Main cell\n",
    "\n",
    "def main_callback(A, X0, DW):\n",
    "    sols = numpy.linalg.eig(A)\n",
    "    sys = sss(A,[[0],[1]],[1,0],0)\n",
    "    pole = control.pole(sys)\n",
    "    if numpy.real(pole[0]) != 0:\n",
    "        p1r = abs(numpy.real(pole[0]))\n",
    "    else:\n",
    "        p1r = 1\n",
    "    if numpy.real(pole[1]) != 0:\n",
    "        p2r = abs(numpy.real(pole[1]))\n",
    "    else:\n",
    "        p2r = 1\n",
    "    if numpy.imag(pole[0]) != 0:\n",
    "        p1i = abs(numpy.imag(pole[0]))\n",
    "    else:\n",
    "        p1i = 1\n",
    "    if numpy.imag(pole[1]) != 0:\n",
    "        p2i = abs(numpy.imag(pole[1]))\n",
    "    else:\n",
    "        p2i = 1\n",
    "    \n",
    "    print('Gli autovalori di A sono:',round(sols[0][0],4),'e',round(sols[0][1],4))\n",
    "    \n",
    "    #T = numpy.linspace(0, 60, 1000)\n",
    "    T, yout, xout = control.initial_response(sys,X0=X0,return_x=True)\n",
    "    \n",
    "    fig = plt.figure(\"Risposta libera\", figsize=(16,5))\n",
    "    ax = fig.add_subplot(121)\n",
    "    plt.plot(T,xout[0])\n",
    "    plt.grid()\n",
    "    ax.set_xlabel('t [s]')\n",
    "    ax.set_ylabel(r'$x_1$')\n",
    "\n",
    "    ax1 = fig.add_subplot(122)\n",
    "    plt.plot(T,xout[1])\n",
    "    plt.grid()\n",
    "    ax1.set_xlabel('t [s]')\n",
    "    ax1.set_ylabel(r'$x_2$')\n",
    "\n",
    "    \n",
    "\n",
    "    \n",
    "alltogether = widgets.HBox([widgets.VBox([widgets.Label('$A$:',border=3),\n",
    "                                          Aw]),\n",
    "                                          widgets.Label('   ',border=3),\n",
    "                            widgets.VBox([widgets.Label('$X_0$:',border=3),\n",
    "                                          X0w]),\n",
    "                                          START])\n",
    "out = widgets.interactive_output(main_callback, {'A':Aw, 'X0':X0w, 'DW':DW})\n",
    "out.layout.height = '350px'\n",
    "display(out, alltogether)"
   ]
  },
  {
   "cell_type": "code",
   "execution_count": 6,
   "metadata": {},
   "outputs": [
    {
     "data": {
      "application/vnd.jupyter.widget-view+json": {
       "model_id": "b6098a3c652542caa6c6b0c52732790d",
       "version_major": 2,
       "version_minor": 0
      },
      "text/plain": [
       "Output()"
      ]
     },
     "metadata": {},
     "output_type": "display_data"
    },
    {
     "data": {
      "application/vnd.jupyter.widget-view+json": {
       "model_id": "cdf1c43266fb4285a77f6d4c8750e408",
       "version_major": 2,
       "version_minor": 0
      },
      "text/plain": [
       "VBox(children=(Button(description='Mostra le risposte', icon='check', style=ButtonStyle(), tooltip='Clicca per…"
      ]
     },
     "metadata": {},
     "output_type": "display_data"
    }
   ],
   "source": [
    "#create dummy widget 2\n",
    "DW2 = widgets.FloatText(layout=widgets.Layout(width='0px', height='0px'))\n",
    "DW2.value = -1\n",
    "\n",
    "#create button widget\n",
    "START2 = widgets.Button(\n",
    "    description='Mostra le risposte',\n",
    "    disabled=False,\n",
    "    button_style='', # 'success', 'info', 'warning', 'danger' or ''\n",
    "    tooltip='Clicca per vedere le risposte',\n",
    "    icon='check'\n",
    ")\n",
    "                       \n",
    "def on_start_button_clicked2(b):\n",
    "    #This is a workaround to have intreactive_output call the callback:\n",
    "    #   force the value of the dummy widget to change\n",
    "    if DW2.value> 0 :\n",
    "        DW2.value = -1\n",
    "    else: \n",
    "        DW2.value = 1\n",
    "    pass\n",
    "START2.on_click(on_start_button_clicked2)\n",
    "\n",
    "def main_callback2(DW2):\n",
    "    if DW2 > 0:\n",
    "        display(Markdown(r'''>Risposta: La sola condizione iniziale che nasconde il comportamento instabile è l'origine.\n",
    "        $$ $$\n",
    "        Esempio:\n",
    "        $$\n",
    "        A = \\begin{bmatrix} 1 & 0 \\\\ 0 & 1 \\end{bmatrix}\n",
    "        $$'''))\n",
    "    else:\n",
    "        display(Markdown(''))\n",
    "\n",
    "#create a graphic structure to hold all widgets \n",
    "alltogether2 =  widgets.VBox([START2])\n",
    "\n",
    "out2 = widgets.interactive_output(main_callback2,{'DW2':DW2})\n",
    "#out.layout.height = '300px'\n",
    "display(out2,alltogether2)"
   ]
  }
 ],
 "metadata": {
  "kernelspec": {
   "display_name": "Python 3",
   "language": "python",
   "name": "python3"
  },
  "language_info": {
   "codemirror_mode": {
    "name": "ipython",
    "version": 3
   },
   "file_extension": ".py",
   "mimetype": "text/x-python",
   "name": "python",
   "nbconvert_exporter": "python",
   "pygments_lexer": "ipython3",
   "version": "3.7.3"
  },
  "nbTranslate": {
   "displayLangs": [
    "it"
   ],
   "hotkey": "alt-t",
   "langInMainMenu": true,
   "sourceLang": "en",
   "targetLang": "it",
   "useGoogleTranslate": true
  }
 },
 "nbformat": 4,
 "nbformat_minor": 4
}
