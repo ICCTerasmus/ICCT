{
 "cells": [
  {
   "cell_type": "markdown",
   "metadata": {
    "lang": "it"
   },
   "source": [
    "# FAQ\n",
    "\n",
    "***\n",
    "\n",
    "## Informazioni di base\n",
    "\n",
    "***\n",
    "\n",
    "### Posso vedere una dimostrazione degli esempi presenti in questo corso interattivo?\n",
    "\n",
    "Sono disponibili due dimostrazioni video. Il primo video presenta il sistema di controllo del livello dell'acqua ([visualizza su YouTube](https://www.youtube.com/watch?v=YEZxOWY4RtU)) e il secondo la trasformata veloce di Fourier ([visualizza su YouTube](https://www.youtube.com/watch?v=M28kAsWAP8o)).\n",
    "\n",
    "### Vorrei dare ai miei studenti/colleghi brevi istruzioni su come registrarsi al corso, effettuare il login e interagire con gli esempi all'interno del corso. Dove sono disponibili queste istruzioni?\n",
    "\n",
    "Le istruzioni per la registrazione, la procedura di accesso e l'interazione con gli esempi sono disponibili sotto forma di tutorial iorad, disponibile [qui](https://www.iorad.com/player/1760976/Izdelava-uporabni-kega-ra-una-v-te-aju-ICCT-in-navodila-za-uporabo-te-aja?isPopup=true#_).\n",
    "\n",
    "### Dove posso trovare il manuale che accompagna il corso interattivo?\n",
    "\n",
    "La versione PDF del manuale (disponibile in inglese, croato, ungherese, italiano e sloveno) può essere scaricata dalla [pagina web del progetto ICCT](https://icct.cafre.unipi.it/project-results/manual).\n",
    "\n",
    "### Dove posso saperne di più sul progetto ICCT?\n",
    "\n",
    "Puoi visitare il progetto sul [sito web](https://icct.cafre.unipi.it), su [Twitter](https://twitter.com/ICCT_erasmus), su [Reddit](https://www.reddit.com/user/icct_erasmus) e su [GitHub](https://github.com/ICCTerasmus/ICCT#readme) per raccogliere maggiori informazioni. Puoi anche seguire il progetto tramite [ResearchGate](https://www.researchgate.net/project/Interactive-Course-for-Control-Theory-ICCT), [SCIENTIX](http://www.scientix.eu/project/project-detail?articleId=1072810) o [Risultati del progetto Erasmus+](https://ec.europa.eu/programmes/erasmus-plus/projects/eplus-project-details/#project/2018-1-SI01-KA203-047081)."
   ]
  },
  {
   "cell_type": "markdown",
   "metadata": {
    "lang": "it"
   },
   "source": [
    "***\n",
    "\n",
    "## Esami\n",
    "\n",
    "***\n",
    "\n",
    "### Sono uno studente. Come posso sostenere un esame e come ottengo il mio voto?\n",
    "\n",
    "Gli esami possono essere sostenuti dopo che un mentore li ha preparati e rilasciati. Una volta fatto, devi recuperare l'esame e fornire le risposte (vedi [questo tutorial](https://www.iorad.com/player/1645114/ICCT-Platform--for-students----How-to-fetch-an-exam-and-provide-answers-?#trysteps-1) per le istruzioni). Una volta che hai inviato con successo le tue risposte, devi aspettare che un mentore raccolga tutte le consegne, le valuti e generi il feedback. Una volta fatto, sarai in grado di ottenere e controllare il feedback del mentore (vedi [questo tutorial](https://www.iorad.com/player/1652160/ICCT-Platform--for-students----How-to-obtain-and-inspect-feedback-?#trysteps-1) per le istruzioni).\n",
    "\n",
    "### Sono un mentore (insegnante/docente). Come posso preparare un esame per gli studenti?\n",
    "\n",
    "Innanzitutto, devi preparare e rilasciare un esame (vedi [questo tutorial](https://www.iorad.com/player/1651571/ICCT-Platform--for-mentors----How-to-prepare-and-release-an-exam-?#trysteps-1) per maggiori informazioni). Quindi, devi attendere la fine dell'esame, in modo da poter raccogliere tutte le consegne, valutarle automaticamente e generare il feedback per gli studenti (vedi [questo tutorial](https://www.iorad.com/player/1652148/ICCT-Platform--for-mentors----How-to-collect-submissions--autograde-them-and-release-feedback-?#trysteps-1) per ulteriori informazioni). Una volta terminato, gli studenti saranno in grado di ottenere e controllare il feedback fornito."
   ]
  },
  {
   "cell_type": "markdown",
   "metadata": {
    "lang": "it"
   },
   "source": [
    "***\n",
    "\n",
    "## Uso personale e commerciale dei contenuti del corso interattivo\n",
    "\n",
    "***\n",
    "\n",
    "### È possibile scaricare gli esempi e adattarli alle mie esigenze?\n",
    "\n",
    "Sì, il download degli esempi disponibili all'interno del corso interattivo è possibile tramite il repository GitHub del progetto ICCT. Le istruzioni sono disponibili [qui](https://github.com/ICCTerasmus/ICCT#readme). Puoi adottare gli esempi in base alle tue esigenze, tuttavia, il loro utilizzo deve essere conforme alla licenza 3-Clause BSD. Per ulteriori informazioni su questa licenza clicca [qui](https://opensource.org/licenses/BSD-3-Clause).\n",
    "\n",
    "### Vorrei utilizzare gli esempi interattivi per il mio progetto personale/scolastico. È permesso farlo?\n",
    "\n",
    "Tutti gli esempi interattivi (Juypter Notebooks) all'interno del corso sono scritti dal consorzio del progetto ICCT e sono concessi in licenza secondo i termini della licenza 3-Clause BSD, che fa parte delle licenze permissive del software libero. Per ulteriori informazioni a riguardo clicca [qui](https://opensource.org/licenses/BSD-3-Clause).\n",
    "\n",
    "### Vorrei utilizzare gli esempi interattivi per scopi commerciali. È permesso farlo?\n",
    "\n",
    "Tutti gli esempi interattivi (Juypter Notebooks) all'interno del corso sono scritti dal consorzio del progetto ICCT e sono concessi in licenza secondo i termini della licenza 3-Clause BSD, che fa parte delle licenze permissive del software libero. Per ulteriori informazioni a riguardo clicca [qui](https://opensource.org/licenses/BSD-3-Clause).\n",
    "\n",
    "### Vorrei tradurre gli esempi nella mia lingua. È possibile farlo?\n",
    "\n",
    "Sì, gli esempi interattivi possono essere tradotti in qualsiasi lingua da chiunque sia interessato. Prima di iniziare le traduzioni, contattaci tramite <icct.erasmus@gmail.com>, in modo da fornirti le istruzioni. Si prega di notare che il nostro corso è attualmente in fase di traduzione in indonesiano e spagnolo."
   ]
  },
  {
   "cell_type": "markdown",
   "metadata": {
    "lang": "it"
   },
   "source": [
    "***\n",
    "\n",
    "## Problemi\n",
    "\n",
    "***\n",
    "\n",
    "### Dopo aver eseguito l'esempio selezionato facendo clic su *Cell-Run All* o sul pulsante corrispondente nella barra degli strumenti, l'esempio non viene caricato correttamente.\n",
    "\n",
    "- Primo, il notebook dovrebbe essere eseguito solo quando il kernel è pronto. Le \"informazioni transitorie\" sul kernel possono essere viste nella parte in alto a destra del notebook, durante il caricamento iniziale (vedi Figura 1 sotto).\n",
    "- Secondo, attendere che l'icona nella scheda del browser cambi dal simbolo della clessidra al simbolo del libro nella fase di caricamento iniziale (vedere la Figura 2 di seguito). Si noti che gli esempi con simulazioni di lunga durata possono avere la clessidra visibile anche dopo il caricamento iniziale, ad esempio, una volta che la simulazione è effettivamente avviata o quando vengono eseguite alcune elaborazioni in background.\n",
    "- Infine, se nessuna delle soluzioni precedenti funziona, eseguire l'esempio due volte (facendo clic su *Cell-Run All* o nuovamente sul pulsante corrispondente dopo che il kernel è pronto e viene visualizzato il simbolo del libro).\n",
    "\n",
    "<table>\n",
    "    <tr>\n",
    "        <th style=\"text-align:center\">Figura 1. Informazioni sul kernel</th>\n",
    "        <th style=\"text-align:center\">Figura 2. Informazioni sul caricamento</th>\n",
    "    </tr>\n",
    "    <tr>\n",
    "        <td style=\"width:480px; height:150px\"><img src='examples/02/img/kernel-ready.png'></td>\n",
    "        <td style=\"width:250px; height:150px\"><img src='examples/02/img/loading.png'></td>\n",
    "    </tr>\n",
    "    <tr>\n",
    "    </tr>    \n",
    "</table>\n",
    "\n",
    "### Il caricamento e l'esecuzione degli esempi sono piuttosto lenti. Cosa posso fare?\n",
    "\n",
    "- Primo, assicurati di aver chiuso e interrotto gli esempi aperti in precedenza facendo clic su *File-Close and Halt*. Puoi vedere gli esempi che sono ancora in esecuzione nella scheda *In esecuzione* accessibile tramite la pagina iniziale del corso.\n",
    "- Secondo, potrebbero esserci molti utenti contemporaneamente registrati nel corso, il che potrebbe rallentare il sistema.\n",
    "- Se il problema persiste, contattaci tramite <icct.erasmus@gmail.com>.\n",
    "- Nota: puoi anche eseguire sempre i tuoi esempi localmente (i tempi di caricamento e di esecuzione dipenderanno dalle tue risorse). Per ulteriori informazioni clicca [qui](https://github.com/ICCTerasmus/ICCT#readme).\n",
    "\n",
    "### Mi sono registrato al corso e il mio ruolo predefinito è Studente. Come posso cambiarlo in Mentor?\n",
    "\n",
    "Si prega di notare che il ruolo di mentore è disponibile solo per insegnanti/docenti. Per ottenere il ruolo di mentore, invia una richiesta a <icct.erasmus@gmail.com>.\n",
    "\n",
    "### Mi sono già registrato sul vecchio sito del corso (https://icct.riteh.hr). Devo registrarmi nuovamente sul nuovo sito (https://icct.unipi.it)?\n",
    "\n",
    "Sì, devi registrarti anche sul nuovo sito. Si prega di notare che la vecchia pagina non viene più mantenuta e verrà rimossa.\n",
    "\n",
    "### Il mio problema non è elencato qui. Come posso contattare il team del corso interattivo?\n",
    "\n",
    "Puoi contattare il team ICCT via e-mail <icct.erasmus@gmail.com> o tramite uno dei canali elencati nella sezione *Informazioni di base* di queste FAQ."
   ]
  }
 ],
 "metadata": {
  "kernelspec": {
   "display_name": "Python 3",
   "language": "python",
   "name": "python3"
  },
  "language_info": {
   "codemirror_mode": {
    "name": "ipython",
    "version": 3
   },
   "file_extension": ".py",
   "mimetype": "text/x-python",
   "name": "python",
   "nbconvert_exporter": "python",
   "pygments_lexer": "ipython3",
   "version": "3.6.7"
  },
  "nbTranslate": {
   "displayLangs": [
    "it",
    "en"
   ],
   "hotkey": "alt-t",
   "langInMainMenu": true,
   "sourceLang": "en",
   "targetLang": "it",
   "useGoogleTranslate": true
  }
 },
 "nbformat": 4,
 "nbformat_minor": 4
}
