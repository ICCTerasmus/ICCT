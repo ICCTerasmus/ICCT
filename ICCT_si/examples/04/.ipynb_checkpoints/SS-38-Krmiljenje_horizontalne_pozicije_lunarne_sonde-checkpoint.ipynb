{
 "cells": [
  {
   "cell_type": "code",
   "execution_count": 1,
   "metadata": {},
   "outputs": [
    {
     "data": {
      "text/html": [
       "<script>\n",
       "code_show=true; \n",
       "function code_toggle() {\n",
       "    if (code_show){\n",
       "        $('div.input').hide()\n",
       "    } else {\n",
       "        $('div.input').show()\n",
       "    }\n",
       "    code_show = !code_show\n",
       "} \n",
       "$( document ).ready(code_toggle);\n",
       "</script>\n",
       "Toggle cell visibility <a href=\"javascript:code_toggle()\">here</a>."
      ],
      "text/plain": [
       "<IPython.core.display.HTML object>"
      ]
     },
     "metadata": {},
     "output_type": "display_data"
    }
   ],
   "source": [
    "#remove cell visibility\n",
    "from IPython.display import HTML\n",
    "tag = HTML('''<script>\n",
    "code_show=true; \n",
    "function code_toggle() {\n",
    "    if (code_show){\n",
    "        $('div.input').hide()\n",
    "    } else {\n",
    "        $('div.input').show()\n",
    "    }\n",
    "    code_show = !code_show\n",
    "} \n",
    "$( document ).ready(code_toggle);\n",
    "</script>\n",
    "Toggle cell visibility <a href=\"javascript:code_toggle()\">here</a>.''')\n",
    "display(tag)"
   ]
  },
  {
   "cell_type": "markdown",
   "metadata": {},
   "source": [
    "## Krmiljenje horizontalnega pomika lunarne sonde\n",
    "\n",
    "Ta primer prikazuje načrtovanje regulatorja za lateralno pozicijo lunarne sonde, izhajajoč iz dinamičnih enačb sistema.\n",
    "\n",
    "<img src=\"Images\\lunarlander.PNG\" alt=\"drawing\" width=\"500x800\">\n",
    "\n",
    "Sistem je predstavljen na zgornji sliki; navpični spust sistema je upočasnjen z vertikalnim potiskom, ki deluje na sistem s konstantno silo $F$. Horizontalno gibanje dosežemo z rahlim nagibom sonde za kot $\\theta$; nagib povzroči lateralno silo, ki je približno enaka $F\\theta$. Nagib dosežemo z navorom $T$, ki ga povzročajo vodljive pogonske rakete (maksimalni navor znaša 500 Nm). Nagibni kot more biti znotraj intervala vrednosti $\\pm15$, da se prepreči nevarno povečanje hitrosti navpičnega spusta. Merjeni veličini sta lateralni pomik in hitrost, zračni upor zanemarimo, ostali sistemski parametri pa so prikazani v spodnji tabeli:\n",
    "\n",
    "| Parameter |                       Vrednost |\n",
    "|-----------|-------------------------------:|\n",
    "|$m$        |                        1000 kg |\n",
    "|$J$        |           1000 kg$\\text{m}^2$ |\n",
    "|$F$        |                         1500 N |\n",
    "\n",
    "Cilj krmilnega sistema je regulacija horizontalnega pomika $z$ ob izpolnjevanju naslednjih zahtev:\n",
    "1. Maksimalni prenihaj znaša 30%.\n",
    "2. Čas ustalitve krajši od 15 s (dosežena vrednost izhoda naj se razlikuje od tiste v stacionarnem stanju za 5%).\n",
    "3. Kot $\\theta$ naj bo ves čas znotraj omenjenega intervala vrednosti, ki zagotavlja maksimalno lateralne spremembo v velikost 10 m.\n",
    "4. Brez odstopka v stacionarnem stanju v odzivu na koračno funkcijo.\n",
    "\n",
    "Enačbi sistema sta:\n",
    "\n",
    "\\begin{cases}\n",
    "J\\ddot{\\theta}=T \\\\\n",
    "m\\ddot{z}=F\\theta\n",
    "\\end{cases}\n",
    "in ob upoštevanju vektorja stanj $\\textbf{x}=[x_1,x_2,x_3,x_4]^T=[z,\\dot{z},\\theta,\\dot{\\theta}]^T$ ter vhoda $u=T$, ju lahko preoblikujemo v obliko prostora stanj:\n",
    "\n",
    "\\begin{cases}\n",
    "\\dot{\\textbf{x}}=\\underbrace{\\begin{bmatrix}0&1&0&0 \\\\ 0&0&F/m&0 \\\\ 0&0&0&1 \\\\ 0&0&0&0\\end{bmatrix}}_{A}\\textbf{x}+\\underbrace{\\begin{bmatrix}0\\\\0\\\\0\\\\1/J\\end{bmatrix}}_{B}u \\\\ \\\\\n",
    "\\textbf{y}=\\underbrace{\\begin{bmatrix}1&0&0&0 \\\\ 0&1&0&0\\end{bmatrix}}_{C}\\textbf{x}.\n",
    "\\end{cases}\n",
    "\n",
    "### Načrtovanje krmilnika\n",
    "Za dosego ničelnega odstopka v stacionarnem stanju, sistem razširimo z novo spremenljivko stanj $\\dot{x_5}=y_1-y_d$, v kateri $y_1$ predstavlja izmerjeno lateralen pomik, $y_d$ pa zahtevan pomik. Razširjen sistem lahko torej zapišemo kot:\n",
    "\n",
    "\\begin{cases}\n",
    "\\dot{\\textbf{x}_a}=\\underbrace{\\begin{bmatrix}0&1&0&0&0 \\\\ 0&0&F/m&0&0 \\\\ 0&0&0&1&0 \\\\ 0&0&0&0&0 \\\\ 1&0&0&0&0 \\end{bmatrix}}_{A_a}\\textbf{x}_a+\\underbrace{\\begin{bmatrix} 0&0\\\\0&0\\\\0&0\\\\1/J&0\\\\0&-1 \\end{bmatrix}}_{B_a}\\underbrace{\\begin{bmatrix} u\\\\y_d \\end{bmatrix}}_{u_a} \\\\ \\\\\n",
    "\\textbf{y}_a=\\underbrace{\\begin{bmatrix}1&0&0&0&0\\\\0&1&0&0&0\\\\0&0&0&0&1\\end{bmatrix}}_{C_a}\\textbf{x}_a\n",
    "\\end{cases}\n",
    "\n",
    "Sistem je vodljiv glede na prvi stolpec matrike $B_a$, zato lahko uporabimo metodo razporejanja polov. Z namenom ohranitve spoznavnosti sistema, je v matriki $C$ dodana vrstica, ker je novo stanje $x_5$ znano.\n",
    "\n",
    "Matrika ojačanj $K_a$, ki ustreza vsem zahtevam je:\n",
    "$$\n",
    "K_a=\\begin{bmatrix}2225.0&6244.0&13861.0&5275.0&316.0\\end{bmatrix}\n",
    "$$\n",
    "Poli matrike $(A_a-B_aK_a)$ so tako razporejeni v $-0.28$, $-2.24+2.23i$, $-2.24-2.23i$, $-0.26+0.32i$ in $-0.26-0.32i$.\n",
    "\n",
    "### Načrtovanje spoznavalnika\n",
    "Sistem je spoznaven, in ker merimo tri spremenljivke stanj sistema, lahko načrtujemo poenostavljen spoznavalnik stanj (za $\\theta$ in $\\dot{\\theta}$), ki ima naslednjo strukturo:\n",
    "$$\n",
    "\\dot{\\hat{\\textbf{v}}}=(A_{11}+L_aA_{21})\\hat{\\textbf{v}}+(A_{12}+L_aA_{22}-A_{11}L_a-L_aA_{21}L_a)\\textbf{y}_a+(B_1+L_aB_2)u_a,\n",
    "$$\n",
    "pri čemer velja\n",
    "$$\n",
    "T^{-1}A_aT=\\begin{bmatrix}A_{11}&A_{12} \\\\ A_{21}&A_{22}\\end{bmatrix}, \n",
    "\\quad T^{-1}B_a=\\begin{bmatrix}B_1 \\\\ B_2\\end{bmatrix}, \n",
    "\\quad \\overline{\\textbf{x}_a}=T^{-1}\\textbf{x}_a=\\begin{bmatrix}V \\\\ C\\end{bmatrix}\\textbf{x}_a, \n",
    "\\quad V=\\begin{bmatrix}0&0&1&0&0 \\\\ 0&0&0&1&0\\end{bmatrix}, \n",
    "\\quad \\hat{\\textbf{x}_a}=\\begin{bmatrix}\\hat{\\textbf{v}}-L_a\\textbf{y}_a \\\\ \\textbf{y}_a\\end{bmatrix}.\n",
    "$$\n",
    "\n",
    "Izbiro lastnih vrednosti spoznavalnika izvedemo tako, da dinamika napake ocene stanj konvergira hitreje kot pa dinamika sistema, določena z zgornjimi zahtevami. Lastni vrednosti matrike $A_{11}+L_aA_{21}$ sta $\\lambda_i=-10$rad/s, $i=1,2$ z $$ L_a=\\begin{bmatrix}0&-\\frac{40}{3}&0 \\\\ 0&-\\frac{200}{3}&0\\end{bmatrix} $$\n",
    "\n",
    "\n",
    "### Kako upravljati s tem interaktivnim primerom?\n",
    "Opazuj delovanje sistema z načrtovanim regulatorjem in direktno spreminjaj krmilnik in spoznavalnik. Simulacija se vedno začne z začetno napako spoznavalnika."
   ]
  },
  {
   "cell_type": "code",
   "execution_count": 2,
   "metadata": {},
   "outputs": [],
   "source": [
    "#Preparatory Cell \n",
    "\n",
    "%matplotlib notebook\n",
    "import control as ctrl\n",
    "import numpy\n",
    "import sympy as sym\n",
    "from IPython.display import display, Markdown\n",
    "import ipywidgets as widgets\n",
    "import matplotlib.pyplot as plt\n",
    "import matplotlib.animation as animation\n",
    "import matplotlib.patches as patches\n",
    "import matplotlib.transforms as transforms\n",
    "import matplotlib.lines as lines\n",
    "\n",
    "#print a matrix latex-like\n",
    "def bmatrix(a):\n",
    "     \"\"\"Returns a LaTeX bmatrix - by Damir Arbula (ICCT project)\n",
    "\n",
    "     :a: numpy array\n",
    "     :returns: LaTeX bmatrix as a string\n",
    "     \"\"\"\n",
    "     if len(a.shape) > 2:\n",
    "         raise ValueError('bmatrix can at most display two dimensions')\n",
    "     lines = str(a).replace('[', '').replace(']', '').splitlines()\n",
    "     rv = [r'\\begin{bmatrix}']\n",
    "     rv += ['  ' + ' & '.join(l.split()) + r'\\\\' for l in lines]\n",
    "     rv +=  [r'\\end{bmatrix}']\n",
    "     return '\\n'.join(rv)\n",
    "\n",
    "\n",
    "# Display formatted matrix: \n",
    "def vmatrix(a):\n",
    "    if len(a.shape) > 2:\n",
    "         raise ValueError('bmatrix can at most display two dimensions')\n",
    "    lines = str(a).replace('[', '').replace(']', '').splitlines()\n",
    "    rv = [r'\\begin{vmatrix}']\n",
    "    rv += ['  ' + ' & '.join(l.split()) + r'\\\\' for l in lines]\n",
    "    rv +=  [r'\\end{vmatrix}']\n",
    "    return '\\n'.join(rv)\n",
    "\n",
    "\n",
    "#matrixWidget is a matrix looking widget built with a VBox of HBox(es) that returns a numPy array as value !\n",
    "class matrixWidget(widgets.VBox):\n",
    "    def updateM(self,change):\n",
    "        for irow in range(0,self.n):\n",
    "            for icol in range(0,self.m):\n",
    "                self.M_[irow,icol] = self.children[irow].children[icol].value\n",
    "                #print(self.M_[irow,icol])\n",
    "        self.value = self.M_\n",
    "\n",
    "    def dummychangecallback(self,change):\n",
    "        pass\n",
    "    \n",
    "    \n",
    "    def __init__(self,n,m):\n",
    "        self.n = n\n",
    "        self.m = m\n",
    "        self.M_ = numpy.matrix(numpy.zeros((self.n,self.m)))\n",
    "        self.value = self.M_\n",
    "        widgets.VBox.__init__(self,\n",
    "                             children = [\n",
    "                                 widgets.HBox(children = \n",
    "                                              [widgets.FloatText(value=0.0, layout=widgets.Layout(width='90px')) for i in range(m)]\n",
    "                                             ) \n",
    "                                 for j in range(n)\n",
    "                             ])\n",
    "        \n",
    "        #fill in widgets and tell interact to call updateM each time a children changes value\n",
    "        for irow in range(0,self.n):\n",
    "            for icol in range(0,self.m):\n",
    "                self.children[irow].children[icol].value = self.M_[irow,icol]\n",
    "                self.children[irow].children[icol].observe(self.updateM, names='value')\n",
    "        #value = Unicode('example@example.com', help=\"The email value.\").tag(sync=True)\n",
    "        self.observe(self.updateM, names='value', type= 'All')\n",
    "        \n",
    "    def setM(self, newM):\n",
    "        #disable callbacks, change values, and reenable\n",
    "        self.unobserve(self.updateM, names='value', type= 'All')\n",
    "        for irow in range(0,self.n):\n",
    "            for icol in range(0,self.m):\n",
    "                self.children[irow].children[icol].unobserve(self.updateM, names='value')\n",
    "        self.M_ = newM\n",
    "        self.value = self.M_\n",
    "        for irow in range(0,self.n):\n",
    "            for icol in range(0,self.m):\n",
    "                self.children[irow].children[icol].value = self.M_[irow,icol]\n",
    "        for irow in range(0,self.n):\n",
    "            for icol in range(0,self.m):\n",
    "                self.children[irow].children[icol].observe(self.updateM, names='value')\n",
    "        self.observe(self.updateM, names='value', type= 'All')        \n",
    "\n",
    "                #self.children[irow].children[icol].observe(self.updateM, names='value')\n",
    "\n",
    "             \n",
    "#overlaod class for state space systems that DO NOT remove \"useless\" states (what \"professor\" of automatic control would do this?)\n",
    "class sss(ctrl.StateSpace):\n",
    "    def __init__(self,*args):\n",
    "        #call base class init constructor\n",
    "        ctrl.StateSpace.__init__(self,*args)\n",
    "    #disable function below in base class\n",
    "    def _remove_useless_states(self):\n",
    "        pass"
   ]
  },
  {
   "cell_type": "code",
   "execution_count": 3,
   "metadata": {},
   "outputs": [],
   "source": [
    "# Define matrixes\n",
    "\n",
    "A = numpy.matrix('0 1 0 0; 0 0 1.5 0; 0 0 0 1; 0 0 0 0')\n",
    "B = numpy.matrix('0;0;0;0.001')\n",
    "C = numpy.matrix('1 0 0 0; 0 1 0 0')\n",
    "Aa = numpy.matrix('0 1 0 0 0; 0 0 1.5 0 0; 0 0 0 1 0; 0 0 0 0 0; 1 0 0 0 0')\n",
    "Ba = numpy.matrix('0 0;0 0;0 0;0.001 0;0 -1')\n",
    "Ca = numpy.matrix('1 0 0 0 0; 0 1 0 0 0; 0 0 0 0 1')\n",
    "Ka1 = numpy.matrix('[2225.0, 6244.0, 13861.0, 5275.0, 316.0') #318.9333 835 2012.5 2000 59.6\n",
    "Ta = (numpy.matrix('0 0 1 0 0; 0 0 0 1 0; 1 0 0 0 0;0 1 0 0 0; 0 0 0 0 1'))**(-1)\n",
    "Ar = Ta**(-1)*Aa*Ta\n",
    "Br = Ta**(-1)*Ba\n",
    "A11 = Ar[0:2,0:2]\n",
    "A12 = Ar[0:2,2:5]\n",
    "A21 = Ar[2:5,0:2]\n",
    "A22 = Ar[2:5,2:5]\n",
    "B1 = Br[0:2,:]\n",
    "B2 = Br[2:5,:]\n",
    "La1 = numpy.matrix([[0, -4*10/3, 0],[0, -3/8*(-4*10/3)**2, 0]])\n",
    "X0a = numpy.matrix('0;0;0;0;0;0;0;0;0;0;0.002;0.002;0;0;0;0;0;0.002;0.002;0;0;0;0;0')\n",
    "# X0a = numpy.matrix('0;0;0;0;0')\n",
    "# V0 = numpy.matrix('0;0')"
   ]
  },
  {
   "cell_type": "code",
   "execution_count": 4,
   "metadata": {},
   "outputs": [],
   "source": [
    "# Define matrixes widget\n",
    "Kaw = matrixWidget(1,5)\n",
    "Law = matrixWidget(2,3)\n",
    "eig1 = matrixWidget(1,1)\n",
    "eig2 = matrixWidget(2,1)\n",
    "eig3 = matrixWidget(2,1)\n",
    "eig4 = matrixWidget(1,1)\n",
    "eig5 = matrixWidget(1,1)\n",
    "eig1o = matrixWidget(1,1)\n",
    "eig2o = matrixWidget(2,1)\n",
    "\n",
    "Ydw = widgets.FloatSlider(\n",
    "                         value=10,\n",
    "                         min=0,\n",
    "                         max=10.0,\n",
    "                         step=0.1,\n",
    "                         description='$y_d$:',\n",
    "                         disabled=False,\n",
    "                         continuous_update=False,\n",
    "                         orientation='horizontal',\n",
    "                         readout=True,\n",
    "                         readout_format='.1f',\n",
    "                        )\n",
    "\n",
    "# Init matrix widgets\n",
    "Kaw.setM(Ka1) \n",
    "Law.setM(La1)\n",
    "#[-0.6,-0.5-0.35j,-0.5+0.35j,-0.2-0.6j,-0.2+0.6j]\n",
    "eig1.setM(numpy.matrix([-0.28]))\n",
    "eig2.setM(numpy.matrix([[-2.24],[-2.23]]))\n",
    "eig3.setM(numpy.matrix([[-0.26],[-0.32]])) \n",
    "eig4.setM(numpy.matrix([-1])) \n",
    "eig5.setM(numpy.matrix([-1])) \n",
    "eig1o.setM(numpy.matrix([-10])) \n",
    "eig2o.setM(numpy.matrix([[-10],[0]])) "
   ]
  },
  {
   "cell_type": "code",
   "execution_count": 5,
   "metadata": {},
   "outputs": [],
   "source": [
    "# Support functions\n",
    "# Simulation function\n",
    "def simulation(Aa, Baa, Ca, A11, A12, A21, A22, B1, B2, La, Ka, Ta):\n",
    "    Aa, Baa, Ca = sym.Matrix(Aa), sym.Matrix(Baa), sym.Matrix(Ca)\n",
    "    A11, A12, A21, A22 = sym.Matrix(A11), sym.Matrix(A12), sym.Matrix(A21), sym.Matrix(A22)\n",
    "    B1, B2 = sym.Matrix(B1), sym.Matrix(B2)\n",
    "    La, Ka = sym.Matrix(La), sym.Matrix(Ka)\n",
    "    Ta = sym.Matrix(Ta)\n",
    "    sysS = sss(Aa, Baa, Ca, sym.zeros(3,2))\n",
    "    sysX = sss(Aa, Baa, sym.eye(5), sym.zeros(5,2))\n",
    "    sysO1 = sss((A11+La*A21), (B1+La*B2).row_join(A12+La*A22-A11*La-La*A21*La), sym.eye(2), sym.zeros(2,5))\n",
    "    sysO2 = ctrl.append(sysO1, sysS)\n",
    "    sysO3 = ctrl.connect(sysO2, [[3, 3], [4, 4], [5, 5]], [1, 2, 6, 7], [1, 2, 3, 4, 5])\n",
    "    sysO = sss(sysO3.A,\n",
    "               sysO3.B*sym.eye(2).col_join(sym.eye(2)),\n",
    "               Ta*(sym.eye(2).row_join(-La)).col_join(sym.zeros(3, 2).row_join(sym.eye(3)))*sysO3.C,\n",
    "               sym.zeros(5,2))\n",
    "    sysU = sss(sysO.A, sysO.B, -Ka*sysO.C, sym.zeros(1,2))\n",
    "    sysT = ctrl.append(sysS, sysX, sysO, sysU)\n",
    "    sysT1 = ctrl.connect(sysT, [[1, 14], [3, 14], [5, 14], [7, 14]], [2, 4, 6, 8], [i for i in range(1, 15)])\n",
    "    sys = sss(sysT1.A, sysT1.B*sym.Matrix([1, 1, 1, 1]), sysT1.C, sym.zeros(14, 1))\n",
    "    return sys\n",
    "\n",
    "# check functions\n",
    "def eigen_choice(selc,selo):\n",
    "    if selc == 'brez kompleksnih lastnih vrednosti':\n",
    "        eig2.children[1].children[0].disabled = True\n",
    "        eig3.children[1].children[0].disabled = True\n",
    "        eig3.children[0].children[0].disabled = False\n",
    "        eig4.children[0].children[0].disabled = False\n",
    "        eig5.children[0].children[0].disabled = False\n",
    "        eigc = 0\n",
    "    if selc == 'dve kompleksni lastni vrednosti':\n",
    "        eig2.children[1].children[0].disabled = False\n",
    "        eig3.children[1].children[0].disabled = True\n",
    "        eig3.children[0].children[0].disabled = True\n",
    "        eig4.children[0].children[0].disabled = False\n",
    "        eig5.children[0].children[0].disabled = False\n",
    "        eigc = 2\n",
    "    if selc == 'štiri kompleksne lastne vrednosti':\n",
    "        eig2.children[1].children[0].disabled = False\n",
    "        eig3.children[1].children[0].disabled = False\n",
    "        eig3.children[0].children[0].disabled = False\n",
    "        eig4.children[0].children[0].disabled = True\n",
    "        eig5.children[0].children[0].disabled = True\n",
    "        eigc = 4\n",
    "    if selo == 'brez kompleksnih lastnih vrednosti':\n",
    "        eig1o.children[0].children[0].disabled = False\n",
    "        eig2o.children[1].children[0].disabled = True\n",
    "        eigo = 0\n",
    "    if selo == 'dve kompleksni lastni vrednosti':\n",
    "        eig1o.children[0].children[0].disabled = True\n",
    "        eig2o.children[1].children[0].disabled = False\n",
    "        eigo = 2\n",
    "    return (eigc, eigo)\n",
    "\n",
    "def method_choice(selm):\n",
    "    if selm == 'Nastavi Ka in La':\n",
    "        method = 1\n",
    "        selc.disabled = True\n",
    "        selo.disabled = True\n",
    "    if selm == 'Nastavi lastne vrednosti':\n",
    "        method = 2\n",
    "        selc.disabled = False\n",
    "        selo.disabled = False\n",
    "    return method\n",
    "\n",
    "# Animation functions\n",
    "def fun_animation(index):\n",
    "    global Ydw, yout, T\n",
    "    yd = Ydw.value\n",
    "    frame = 1\n",
    "    \n",
    "    linez.set_data(T[0:index*frame],yd*yout[0][0:index*frame])\n",
    "    linezv.set_data(T[0:index*frame],yd*yout[1][0:index*frame])\n",
    "    lined.set_data(T,[yd for i in range(0,len(T))])\n",
    "    lineu.set_data(T[0:index*frame],yd*yout[13][0:index*frame])\n",
    "    linelimu1.set_data(T,[500 for j in range(0,len(T))])\n",
    "    linelimu2.set_data(T,[-500 for j in range(0,len(T))])\n",
    "    linethetaest.set_data(T[0:index*frame],yd*yout[10][0:index*frame]*180/numpy.pi)\n",
    "    linetheta.set_data(T[0:index*frame],yd*yout[5][0:index*frame]*180/numpy.pi)\n",
    "    \n",
    "    \n",
    "    rotation_transform.clear().translate(yd*yout[0][index*frame]*numpy.cos(float(yd*yout[6][index*frame])), yd*yout[0][index*frame]*numpy.sin(float(yd*yout[6][index*frame]))).rotate(float(-yd*yout[6][index*frame]))\n",
    "    \n",
    "    return (linez,linezv,lined,lineu,linelimu1,linelimu2,linethetaest,linetheta)\n",
    "\n",
    "def anim_init():\n",
    "    linez.set_data([], [])\n",
    "    linezv.set_data([], [])\n",
    "    lined.set_data([], [])\n",
    "    lineu.set_data([], [])\n",
    "    linelimu1.set_data([], [])\n",
    "    linelimu2.set_data([], [])\n",
    "    linethetaest.set_data([], [])\n",
    "    linetheta.set_data([], [])\n",
    "    return (linez,linezv,lined,lineu,linelimu1,linelimu2,linethetaest,linetheta)\n"
   ]
  },
  {
   "cell_type": "code",
   "execution_count": 6,
   "metadata": {
    "scrolled": false
   },
   "outputs": [
    {
     "data": {
      "application/javascript": [
       "/* Put everything inside the global mpl namespace */\n",
       "window.mpl = {};\n",
       "\n",
       "\n",
       "mpl.get_websocket_type = function() {\n",
       "    if (typeof(WebSocket) !== 'undefined') {\n",
       "        return WebSocket;\n",
       "    } else if (typeof(MozWebSocket) !== 'undefined') {\n",
       "        return MozWebSocket;\n",
       "    } else {\n",
       "        alert('Your browser does not have WebSocket support. ' +\n",
       "              'Please try Chrome, Safari or Firefox ≥ 6. ' +\n",
       "              'Firefox 4 and 5 are also supported but you ' +\n",
       "              'have to enable WebSockets in about:config.');\n",
       "    };\n",
       "}\n",
       "\n",
       "mpl.figure = function(figure_id, websocket, ondownload, parent_element) {\n",
       "    this.id = figure_id;\n",
       "\n",
       "    this.ws = websocket;\n",
       "\n",
       "    this.supports_binary = (this.ws.binaryType != undefined);\n",
       "\n",
       "    if (!this.supports_binary) {\n",
       "        var warnings = document.getElementById(\"mpl-warnings\");\n",
       "        if (warnings) {\n",
       "            warnings.style.display = 'block';\n",
       "            warnings.textContent = (\n",
       "                \"This browser does not support binary websocket messages. \" +\n",
       "                    \"Performance may be slow.\");\n",
       "        }\n",
       "    }\n",
       "\n",
       "    this.imageObj = new Image();\n",
       "\n",
       "    this.context = undefined;\n",
       "    this.message = undefined;\n",
       "    this.canvas = undefined;\n",
       "    this.rubberband_canvas = undefined;\n",
       "    this.rubberband_context = undefined;\n",
       "    this.format_dropdown = undefined;\n",
       "\n",
       "    this.image_mode = 'full';\n",
       "\n",
       "    this.root = $('<div/>');\n",
       "    this._root_extra_style(this.root)\n",
       "    this.root.attr('style', 'display: inline-block');\n",
       "\n",
       "    $(parent_element).append(this.root);\n",
       "\n",
       "    this._init_header(this);\n",
       "    this._init_canvas(this);\n",
       "    this._init_toolbar(this);\n",
       "\n",
       "    var fig = this;\n",
       "\n",
       "    this.waiting = false;\n",
       "\n",
       "    this.ws.onopen =  function () {\n",
       "            fig.send_message(\"supports_binary\", {value: fig.supports_binary});\n",
       "            fig.send_message(\"send_image_mode\", {});\n",
       "            if (mpl.ratio != 1) {\n",
       "                fig.send_message(\"set_dpi_ratio\", {'dpi_ratio': mpl.ratio});\n",
       "            }\n",
       "            fig.send_message(\"refresh\", {});\n",
       "        }\n",
       "\n",
       "    this.imageObj.onload = function() {\n",
       "            if (fig.image_mode == 'full') {\n",
       "                // Full images could contain transparency (where diff images\n",
       "                // almost always do), so we need to clear the canvas so that\n",
       "                // there is no ghosting.\n",
       "                fig.context.clearRect(0, 0, fig.canvas.width, fig.canvas.height);\n",
       "            }\n",
       "            fig.context.drawImage(fig.imageObj, 0, 0);\n",
       "        };\n",
       "\n",
       "    this.imageObj.onunload = function() {\n",
       "        fig.ws.close();\n",
       "    }\n",
       "\n",
       "    this.ws.onmessage = this._make_on_message_function(this);\n",
       "\n",
       "    this.ondownload = ondownload;\n",
       "}\n",
       "\n",
       "mpl.figure.prototype._init_header = function() {\n",
       "    var titlebar = $(\n",
       "        '<div class=\"ui-dialog-titlebar ui-widget-header ui-corner-all ' +\n",
       "        'ui-helper-clearfix\"/>');\n",
       "    var titletext = $(\n",
       "        '<div class=\"ui-dialog-title\" style=\"width: 100%; ' +\n",
       "        'text-align: center; padding: 3px;\"/>');\n",
       "    titlebar.append(titletext)\n",
       "    this.root.append(titlebar);\n",
       "    this.header = titletext[0];\n",
       "}\n",
       "\n",
       "\n",
       "\n",
       "mpl.figure.prototype._canvas_extra_style = function(canvas_div) {\n",
       "\n",
       "}\n",
       "\n",
       "\n",
       "mpl.figure.prototype._root_extra_style = function(canvas_div) {\n",
       "\n",
       "}\n",
       "\n",
       "mpl.figure.prototype._init_canvas = function() {\n",
       "    var fig = this;\n",
       "\n",
       "    var canvas_div = $('<div/>');\n",
       "\n",
       "    canvas_div.attr('style', 'position: relative; clear: both; outline: 0');\n",
       "\n",
       "    function canvas_keyboard_event(event) {\n",
       "        return fig.key_event(event, event['data']);\n",
       "    }\n",
       "\n",
       "    canvas_div.keydown('key_press', canvas_keyboard_event);\n",
       "    canvas_div.keyup('key_release', canvas_keyboard_event);\n",
       "    this.canvas_div = canvas_div\n",
       "    this._canvas_extra_style(canvas_div)\n",
       "    this.root.append(canvas_div);\n",
       "\n",
       "    var canvas = $('<canvas/>');\n",
       "    canvas.addClass('mpl-canvas');\n",
       "    canvas.attr('style', \"left: 0; top: 0; z-index: 0; outline: 0\")\n",
       "\n",
       "    this.canvas = canvas[0];\n",
       "    this.context = canvas[0].getContext(\"2d\");\n",
       "\n",
       "    var backingStore = this.context.backingStorePixelRatio ||\n",
       "\tthis.context.webkitBackingStorePixelRatio ||\n",
       "\tthis.context.mozBackingStorePixelRatio ||\n",
       "\tthis.context.msBackingStorePixelRatio ||\n",
       "\tthis.context.oBackingStorePixelRatio ||\n",
       "\tthis.context.backingStorePixelRatio || 1;\n",
       "\n",
       "    mpl.ratio = (window.devicePixelRatio || 1) / backingStore;\n",
       "\n",
       "    var rubberband = $('<canvas/>');\n",
       "    rubberband.attr('style', \"position: absolute; left: 0; top: 0; z-index: 1;\")\n",
       "\n",
       "    var pass_mouse_events = true;\n",
       "\n",
       "    canvas_div.resizable({\n",
       "        start: function(event, ui) {\n",
       "            pass_mouse_events = false;\n",
       "        },\n",
       "        resize: function(event, ui) {\n",
       "            fig.request_resize(ui.size.width, ui.size.height);\n",
       "        },\n",
       "        stop: function(event, ui) {\n",
       "            pass_mouse_events = true;\n",
       "            fig.request_resize(ui.size.width, ui.size.height);\n",
       "        },\n",
       "    });\n",
       "\n",
       "    function mouse_event_fn(event) {\n",
       "        if (pass_mouse_events)\n",
       "            return fig.mouse_event(event, event['data']);\n",
       "    }\n",
       "\n",
       "    rubberband.mousedown('button_press', mouse_event_fn);\n",
       "    rubberband.mouseup('button_release', mouse_event_fn);\n",
       "    // Throttle sequential mouse events to 1 every 20ms.\n",
       "    rubberband.mousemove('motion_notify', mouse_event_fn);\n",
       "\n",
       "    rubberband.mouseenter('figure_enter', mouse_event_fn);\n",
       "    rubberband.mouseleave('figure_leave', mouse_event_fn);\n",
       "\n",
       "    canvas_div.on(\"wheel\", function (event) {\n",
       "        event = event.originalEvent;\n",
       "        event['data'] = 'scroll'\n",
       "        if (event.deltaY < 0) {\n",
       "            event.step = 1;\n",
       "        } else {\n",
       "            event.step = -1;\n",
       "        }\n",
       "        mouse_event_fn(event);\n",
       "    });\n",
       "\n",
       "    canvas_div.append(canvas);\n",
       "    canvas_div.append(rubberband);\n",
       "\n",
       "    this.rubberband = rubberband;\n",
       "    this.rubberband_canvas = rubberband[0];\n",
       "    this.rubberband_context = rubberband[0].getContext(\"2d\");\n",
       "    this.rubberband_context.strokeStyle = \"#000000\";\n",
       "\n",
       "    this._resize_canvas = function(width, height) {\n",
       "        // Keep the size of the canvas, canvas container, and rubber band\n",
       "        // canvas in synch.\n",
       "        canvas_div.css('width', width)\n",
       "        canvas_div.css('height', height)\n",
       "\n",
       "        canvas.attr('width', width * mpl.ratio);\n",
       "        canvas.attr('height', height * mpl.ratio);\n",
       "        canvas.attr('style', 'width: ' + width + 'px; height: ' + height + 'px;');\n",
       "\n",
       "        rubberband.attr('width', width);\n",
       "        rubberband.attr('height', height);\n",
       "    }\n",
       "\n",
       "    // Set the figure to an initial 600x600px, this will subsequently be updated\n",
       "    // upon first draw.\n",
       "    this._resize_canvas(600, 600);\n",
       "\n",
       "    // Disable right mouse context menu.\n",
       "    $(this.rubberband_canvas).bind(\"contextmenu\",function(e){\n",
       "        return false;\n",
       "    });\n",
       "\n",
       "    function set_focus () {\n",
       "        canvas.focus();\n",
       "        canvas_div.focus();\n",
       "    }\n",
       "\n",
       "    window.setTimeout(set_focus, 100);\n",
       "}\n",
       "\n",
       "mpl.figure.prototype._init_toolbar = function() {\n",
       "    var fig = this;\n",
       "\n",
       "    var nav_element = $('<div/>');\n",
       "    nav_element.attr('style', 'width: 100%');\n",
       "    this.root.append(nav_element);\n",
       "\n",
       "    // Define a callback function for later on.\n",
       "    function toolbar_event(event) {\n",
       "        return fig.toolbar_button_onclick(event['data']);\n",
       "    }\n",
       "    function toolbar_mouse_event(event) {\n",
       "        return fig.toolbar_button_onmouseover(event['data']);\n",
       "    }\n",
       "\n",
       "    for(var toolbar_ind in mpl.toolbar_items) {\n",
       "        var name = mpl.toolbar_items[toolbar_ind][0];\n",
       "        var tooltip = mpl.toolbar_items[toolbar_ind][1];\n",
       "        var image = mpl.toolbar_items[toolbar_ind][2];\n",
       "        var method_name = mpl.toolbar_items[toolbar_ind][3];\n",
       "\n",
       "        if (!name) {\n",
       "            // put a spacer in here.\n",
       "            continue;\n",
       "        }\n",
       "        var button = $('<button/>');\n",
       "        button.addClass('ui-button ui-widget ui-state-default ui-corner-all ' +\n",
       "                        'ui-button-icon-only');\n",
       "        button.attr('role', 'button');\n",
       "        button.attr('aria-disabled', 'false');\n",
       "        button.click(method_name, toolbar_event);\n",
       "        button.mouseover(tooltip, toolbar_mouse_event);\n",
       "\n",
       "        var icon_img = $('<span/>');\n",
       "        icon_img.addClass('ui-button-icon-primary ui-icon');\n",
       "        icon_img.addClass(image);\n",
       "        icon_img.addClass('ui-corner-all');\n",
       "\n",
       "        var tooltip_span = $('<span/>');\n",
       "        tooltip_span.addClass('ui-button-text');\n",
       "        tooltip_span.html(tooltip);\n",
       "\n",
       "        button.append(icon_img);\n",
       "        button.append(tooltip_span);\n",
       "\n",
       "        nav_element.append(button);\n",
       "    }\n",
       "\n",
       "    var fmt_picker_span = $('<span/>');\n",
       "\n",
       "    var fmt_picker = $('<select/>');\n",
       "    fmt_picker.addClass('mpl-toolbar-option ui-widget ui-widget-content');\n",
       "    fmt_picker_span.append(fmt_picker);\n",
       "    nav_element.append(fmt_picker_span);\n",
       "    this.format_dropdown = fmt_picker[0];\n",
       "\n",
       "    for (var ind in mpl.extensions) {\n",
       "        var fmt = mpl.extensions[ind];\n",
       "        var option = $(\n",
       "            '<option/>', {selected: fmt === mpl.default_extension}).html(fmt);\n",
       "        fmt_picker.append(option);\n",
       "    }\n",
       "\n",
       "    // Add hover states to the ui-buttons\n",
       "    $( \".ui-button\" ).hover(\n",
       "        function() { $(this).addClass(\"ui-state-hover\");},\n",
       "        function() { $(this).removeClass(\"ui-state-hover\");}\n",
       "    );\n",
       "\n",
       "    var status_bar = $('<span class=\"mpl-message\"/>');\n",
       "    nav_element.append(status_bar);\n",
       "    this.message = status_bar[0];\n",
       "}\n",
       "\n",
       "mpl.figure.prototype.request_resize = function(x_pixels, y_pixels) {\n",
       "    // Request matplotlib to resize the figure. Matplotlib will then trigger a resize in the client,\n",
       "    // which will in turn request a refresh of the image.\n",
       "    this.send_message('resize', {'width': x_pixels, 'height': y_pixels});\n",
       "}\n",
       "\n",
       "mpl.figure.prototype.send_message = function(type, properties) {\n",
       "    properties['type'] = type;\n",
       "    properties['figure_id'] = this.id;\n",
       "    this.ws.send(JSON.stringify(properties));\n",
       "}\n",
       "\n",
       "mpl.figure.prototype.send_draw_message = function() {\n",
       "    if (!this.waiting) {\n",
       "        this.waiting = true;\n",
       "        this.ws.send(JSON.stringify({type: \"draw\", figure_id: this.id}));\n",
       "    }\n",
       "}\n",
       "\n",
       "\n",
       "mpl.figure.prototype.handle_save = function(fig, msg) {\n",
       "    var format_dropdown = fig.format_dropdown;\n",
       "    var format = format_dropdown.options[format_dropdown.selectedIndex].value;\n",
       "    fig.ondownload(fig, format);\n",
       "}\n",
       "\n",
       "\n",
       "mpl.figure.prototype.handle_resize = function(fig, msg) {\n",
       "    var size = msg['size'];\n",
       "    if (size[0] != fig.canvas.width || size[1] != fig.canvas.height) {\n",
       "        fig._resize_canvas(size[0], size[1]);\n",
       "        fig.send_message(\"refresh\", {});\n",
       "    };\n",
       "}\n",
       "\n",
       "mpl.figure.prototype.handle_rubberband = function(fig, msg) {\n",
       "    var x0 = msg['x0'] / mpl.ratio;\n",
       "    var y0 = (fig.canvas.height - msg['y0']) / mpl.ratio;\n",
       "    var x1 = msg['x1'] / mpl.ratio;\n",
       "    var y1 = (fig.canvas.height - msg['y1']) / mpl.ratio;\n",
       "    x0 = Math.floor(x0) + 0.5;\n",
       "    y0 = Math.floor(y0) + 0.5;\n",
       "    x1 = Math.floor(x1) + 0.5;\n",
       "    y1 = Math.floor(y1) + 0.5;\n",
       "    var min_x = Math.min(x0, x1);\n",
       "    var min_y = Math.min(y0, y1);\n",
       "    var width = Math.abs(x1 - x0);\n",
       "    var height = Math.abs(y1 - y0);\n",
       "\n",
       "    fig.rubberband_context.clearRect(\n",
       "        0, 0, fig.canvas.width / mpl.ratio, fig.canvas.height / mpl.ratio);\n",
       "\n",
       "    fig.rubberband_context.strokeRect(min_x, min_y, width, height);\n",
       "}\n",
       "\n",
       "mpl.figure.prototype.handle_figure_label = function(fig, msg) {\n",
       "    // Updates the figure title.\n",
       "    fig.header.textContent = msg['label'];\n",
       "}\n",
       "\n",
       "mpl.figure.prototype.handle_cursor = function(fig, msg) {\n",
       "    var cursor = msg['cursor'];\n",
       "    switch(cursor)\n",
       "    {\n",
       "    case 0:\n",
       "        cursor = 'pointer';\n",
       "        break;\n",
       "    case 1:\n",
       "        cursor = 'default';\n",
       "        break;\n",
       "    case 2:\n",
       "        cursor = 'crosshair';\n",
       "        break;\n",
       "    case 3:\n",
       "        cursor = 'move';\n",
       "        break;\n",
       "    }\n",
       "    fig.rubberband_canvas.style.cursor = cursor;\n",
       "}\n",
       "\n",
       "mpl.figure.prototype.handle_message = function(fig, msg) {\n",
       "    fig.message.textContent = msg['message'];\n",
       "}\n",
       "\n",
       "mpl.figure.prototype.handle_draw = function(fig, msg) {\n",
       "    // Request the server to send over a new figure.\n",
       "    fig.send_draw_message();\n",
       "}\n",
       "\n",
       "mpl.figure.prototype.handle_image_mode = function(fig, msg) {\n",
       "    fig.image_mode = msg['mode'];\n",
       "}\n",
       "\n",
       "mpl.figure.prototype.updated_canvas_event = function() {\n",
       "    // Called whenever the canvas gets updated.\n",
       "    this.send_message(\"ack\", {});\n",
       "}\n",
       "\n",
       "// A function to construct a web socket function for onmessage handling.\n",
       "// Called in the figure constructor.\n",
       "mpl.figure.prototype._make_on_message_function = function(fig) {\n",
       "    return function socket_on_message(evt) {\n",
       "        if (evt.data instanceof Blob) {\n",
       "            /* FIXME: We get \"Resource interpreted as Image but\n",
       "             * transferred with MIME type text/plain:\" errors on\n",
       "             * Chrome.  But how to set the MIME type?  It doesn't seem\n",
       "             * to be part of the websocket stream */\n",
       "            evt.data.type = \"image/png\";\n",
       "\n",
       "            /* Free the memory for the previous frames */\n",
       "            if (fig.imageObj.src) {\n",
       "                (window.URL || window.webkitURL).revokeObjectURL(\n",
       "                    fig.imageObj.src);\n",
       "            }\n",
       "\n",
       "            fig.imageObj.src = (window.URL || window.webkitURL).createObjectURL(\n",
       "                evt.data);\n",
       "            fig.updated_canvas_event();\n",
       "            fig.waiting = false;\n",
       "            return;\n",
       "        }\n",
       "        else if (typeof evt.data === 'string' && evt.data.slice(0, 21) == \"data:image/png;base64\") {\n",
       "            fig.imageObj.src = evt.data;\n",
       "            fig.updated_canvas_event();\n",
       "            fig.waiting = false;\n",
       "            return;\n",
       "        }\n",
       "\n",
       "        var msg = JSON.parse(evt.data);\n",
       "        var msg_type = msg['type'];\n",
       "\n",
       "        // Call the  \"handle_{type}\" callback, which takes\n",
       "        // the figure and JSON message as its only arguments.\n",
       "        try {\n",
       "            var callback = fig[\"handle_\" + msg_type];\n",
       "        } catch (e) {\n",
       "            console.log(\"No handler for the '\" + msg_type + \"' message type: \", msg);\n",
       "            return;\n",
       "        }\n",
       "\n",
       "        if (callback) {\n",
       "            try {\n",
       "                // console.log(\"Handling '\" + msg_type + \"' message: \", msg);\n",
       "                callback(fig, msg);\n",
       "            } catch (e) {\n",
       "                console.log(\"Exception inside the 'handler_\" + msg_type + \"' callback:\", e, e.stack, msg);\n",
       "            }\n",
       "        }\n",
       "    };\n",
       "}\n",
       "\n",
       "// from http://stackoverflow.com/questions/1114465/getting-mouse-location-in-canvas\n",
       "mpl.findpos = function(e) {\n",
       "    //this section is from http://www.quirksmode.org/js/events_properties.html\n",
       "    var targ;\n",
       "    if (!e)\n",
       "        e = window.event;\n",
       "    if (e.target)\n",
       "        targ = e.target;\n",
       "    else if (e.srcElement)\n",
       "        targ = e.srcElement;\n",
       "    if (targ.nodeType == 3) // defeat Safari bug\n",
       "        targ = targ.parentNode;\n",
       "\n",
       "    // jQuery normalizes the pageX and pageY\n",
       "    // pageX,Y are the mouse positions relative to the document\n",
       "    // offset() returns the position of the element relative to the document\n",
       "    var x = e.pageX - $(targ).offset().left;\n",
       "    var y = e.pageY - $(targ).offset().top;\n",
       "\n",
       "    return {\"x\": x, \"y\": y};\n",
       "};\n",
       "\n",
       "/*\n",
       " * return a copy of an object with only non-object keys\n",
       " * we need this to avoid circular references\n",
       " * http://stackoverflow.com/a/24161582/3208463\n",
       " */\n",
       "function simpleKeys (original) {\n",
       "  return Object.keys(original).reduce(function (obj, key) {\n",
       "    if (typeof original[key] !== 'object')\n",
       "        obj[key] = original[key]\n",
       "    return obj;\n",
       "  }, {});\n",
       "}\n",
       "\n",
       "mpl.figure.prototype.mouse_event = function(event, name) {\n",
       "    var canvas_pos = mpl.findpos(event)\n",
       "\n",
       "    if (name === 'button_press')\n",
       "    {\n",
       "        this.canvas.focus();\n",
       "        this.canvas_div.focus();\n",
       "    }\n",
       "\n",
       "    var x = canvas_pos.x * mpl.ratio;\n",
       "    var y = canvas_pos.y * mpl.ratio;\n",
       "\n",
       "    this.send_message(name, {x: x, y: y, button: event.button,\n",
       "                             step: event.step,\n",
       "                             guiEvent: simpleKeys(event)});\n",
       "\n",
       "    /* This prevents the web browser from automatically changing to\n",
       "     * the text insertion cursor when the button is pressed.  We want\n",
       "     * to control all of the cursor setting manually through the\n",
       "     * 'cursor' event from matplotlib */\n",
       "    event.preventDefault();\n",
       "    return false;\n",
       "}\n",
       "\n",
       "mpl.figure.prototype._key_event_extra = function(event, name) {\n",
       "    // Handle any extra behaviour associated with a key event\n",
       "}\n",
       "\n",
       "mpl.figure.prototype.key_event = function(event, name) {\n",
       "\n",
       "    // Prevent repeat events\n",
       "    if (name == 'key_press')\n",
       "    {\n",
       "        if (event.which === this._key)\n",
       "            return;\n",
       "        else\n",
       "            this._key = event.which;\n",
       "    }\n",
       "    if (name == 'key_release')\n",
       "        this._key = null;\n",
       "\n",
       "    var value = '';\n",
       "    if (event.ctrlKey && event.which != 17)\n",
       "        value += \"ctrl+\";\n",
       "    if (event.altKey && event.which != 18)\n",
       "        value += \"alt+\";\n",
       "    if (event.shiftKey && event.which != 16)\n",
       "        value += \"shift+\";\n",
       "\n",
       "    value += 'k';\n",
       "    value += event.which.toString();\n",
       "\n",
       "    this._key_event_extra(event, name);\n",
       "\n",
       "    this.send_message(name, {key: value,\n",
       "                             guiEvent: simpleKeys(event)});\n",
       "    return false;\n",
       "}\n",
       "\n",
       "mpl.figure.prototype.toolbar_button_onclick = function(name) {\n",
       "    if (name == 'download') {\n",
       "        this.handle_save(this, null);\n",
       "    } else {\n",
       "        this.send_message(\"toolbar_button\", {name: name});\n",
       "    }\n",
       "};\n",
       "\n",
       "mpl.figure.prototype.toolbar_button_onmouseover = function(tooltip) {\n",
       "    this.message.textContent = tooltip;\n",
       "};\n",
       "mpl.toolbar_items = [[\"Home\", \"Reset original view\", \"fa fa-home icon-home\", \"home\"], [\"Back\", \"Back to previous view\", \"fa fa-arrow-left icon-arrow-left\", \"back\"], [\"Forward\", \"Forward to next view\", \"fa fa-arrow-right icon-arrow-right\", \"forward\"], [\"\", \"\", \"\", \"\"], [\"Pan\", \"Pan axes with left mouse, zoom with right\", \"fa fa-arrows icon-move\", \"pan\"], [\"Zoom\", \"Zoom to rectangle\", \"fa fa-square-o icon-check-empty\", \"zoom\"], [\"\", \"\", \"\", \"\"], [\"Download\", \"Download plot\", \"fa fa-floppy-o icon-save\", \"download\"]];\n",
       "\n",
       "mpl.extensions = [\"eps\", \"pdf\", \"png\", \"ps\", \"raw\", \"svg\"];\n",
       "\n",
       "mpl.default_extension = \"png\";var comm_websocket_adapter = function(comm) {\n",
       "    // Create a \"websocket\"-like object which calls the given IPython comm\n",
       "    // object with the appropriate methods. Currently this is a non binary\n",
       "    // socket, so there is still some room for performance tuning.\n",
       "    var ws = {};\n",
       "\n",
       "    ws.close = function() {\n",
       "        comm.close()\n",
       "    };\n",
       "    ws.send = function(m) {\n",
       "        //console.log('sending', m);\n",
       "        comm.send(m);\n",
       "    };\n",
       "    // Register the callback with on_msg.\n",
       "    comm.on_msg(function(msg) {\n",
       "        //console.log('receiving', msg['content']['data'], msg);\n",
       "        // Pass the mpl event to the overridden (by mpl) onmessage function.\n",
       "        ws.onmessage(msg['content']['data'])\n",
       "    });\n",
       "    return ws;\n",
       "}\n",
       "\n",
       "mpl.mpl_figure_comm = function(comm, msg) {\n",
       "    // This is the function which gets called when the mpl process\n",
       "    // starts-up an IPython Comm through the \"matplotlib\" channel.\n",
       "\n",
       "    var id = msg.content.data.id;\n",
       "    // Get hold of the div created by the display call when the Comm\n",
       "    // socket was opened in Python.\n",
       "    var element = $(\"#\" + id);\n",
       "    var ws_proxy = comm_websocket_adapter(comm)\n",
       "\n",
       "    function ondownload(figure, format) {\n",
       "        window.open(figure.imageObj.src);\n",
       "    }\n",
       "\n",
       "    var fig = new mpl.figure(id, ws_proxy,\n",
       "                           ondownload,\n",
       "                           element.get(0));\n",
       "\n",
       "    // Call onopen now - mpl needs it, as it is assuming we've passed it a real\n",
       "    // web socket which is closed, not our websocket->open comm proxy.\n",
       "    ws_proxy.onopen();\n",
       "\n",
       "    fig.parent_element = element.get(0);\n",
       "    fig.cell_info = mpl.find_output_cell(\"<div id='\" + id + \"'></div>\");\n",
       "    if (!fig.cell_info) {\n",
       "        console.error(\"Failed to find cell for figure\", id, fig);\n",
       "        return;\n",
       "    }\n",
       "\n",
       "    var output_index = fig.cell_info[2]\n",
       "    var cell = fig.cell_info[0];\n",
       "\n",
       "};\n",
       "\n",
       "mpl.figure.prototype.handle_close = function(fig, msg) {\n",
       "    var width = fig.canvas.width/mpl.ratio\n",
       "    fig.root.unbind('remove')\n",
       "\n",
       "    // Update the output cell to use the data from the current canvas.\n",
       "    fig.push_to_output();\n",
       "    var dataURL = fig.canvas.toDataURL();\n",
       "    // Re-enable the keyboard manager in IPython - without this line, in FF,\n",
       "    // the notebook keyboard shortcuts fail.\n",
       "    IPython.keyboard_manager.enable()\n",
       "    $(fig.parent_element).html('<img src=\"' + dataURL + '\" width=\"' + width + '\">');\n",
       "    fig.close_ws(fig, msg);\n",
       "}\n",
       "\n",
       "mpl.figure.prototype.close_ws = function(fig, msg){\n",
       "    fig.send_message('closing', msg);\n",
       "    // fig.ws.close()\n",
       "}\n",
       "\n",
       "mpl.figure.prototype.push_to_output = function(remove_interactive) {\n",
       "    // Turn the data on the canvas into data in the output cell.\n",
       "    var width = this.canvas.width/mpl.ratio\n",
       "    var dataURL = this.canvas.toDataURL();\n",
       "    this.cell_info[1]['text/html'] = '<img src=\"' + dataURL + '\" width=\"' + width + '\">';\n",
       "}\n",
       "\n",
       "mpl.figure.prototype.updated_canvas_event = function() {\n",
       "    // Tell IPython that the notebook contents must change.\n",
       "    IPython.notebook.set_dirty(true);\n",
       "    this.send_message(\"ack\", {});\n",
       "    var fig = this;\n",
       "    // Wait a second, then push the new image to the DOM so\n",
       "    // that it is saved nicely (might be nice to debounce this).\n",
       "    setTimeout(function () { fig.push_to_output() }, 1000);\n",
       "}\n",
       "\n",
       "mpl.figure.prototype._init_toolbar = function() {\n",
       "    var fig = this;\n",
       "\n",
       "    var nav_element = $('<div/>');\n",
       "    nav_element.attr('style', 'width: 100%');\n",
       "    this.root.append(nav_element);\n",
       "\n",
       "    // Define a callback function for later on.\n",
       "    function toolbar_event(event) {\n",
       "        return fig.toolbar_button_onclick(event['data']);\n",
       "    }\n",
       "    function toolbar_mouse_event(event) {\n",
       "        return fig.toolbar_button_onmouseover(event['data']);\n",
       "    }\n",
       "\n",
       "    for(var toolbar_ind in mpl.toolbar_items){\n",
       "        var name = mpl.toolbar_items[toolbar_ind][0];\n",
       "        var tooltip = mpl.toolbar_items[toolbar_ind][1];\n",
       "        var image = mpl.toolbar_items[toolbar_ind][2];\n",
       "        var method_name = mpl.toolbar_items[toolbar_ind][3];\n",
       "\n",
       "        if (!name) { continue; };\n",
       "\n",
       "        var button = $('<button class=\"btn btn-default\" href=\"#\" title=\"' + name + '\"><i class=\"fa ' + image + ' fa-lg\"></i></button>');\n",
       "        button.click(method_name, toolbar_event);\n",
       "        button.mouseover(tooltip, toolbar_mouse_event);\n",
       "        nav_element.append(button);\n",
       "    }\n",
       "\n",
       "    // Add the status bar.\n",
       "    var status_bar = $('<span class=\"mpl-message\" style=\"text-align:right; float: right;\"/>');\n",
       "    nav_element.append(status_bar);\n",
       "    this.message = status_bar[0];\n",
       "\n",
       "    // Add the close button to the window.\n",
       "    var buttongrp = $('<div class=\"btn-group inline pull-right\"></div>');\n",
       "    var button = $('<button class=\"btn btn-mini btn-primary\" href=\"#\" title=\"Stop Interaction\"><i class=\"fa fa-power-off icon-remove icon-large\"></i></button>');\n",
       "    button.click(function (evt) { fig.handle_close(fig, {}); } );\n",
       "    button.mouseover('Stop Interaction', toolbar_mouse_event);\n",
       "    buttongrp.append(button);\n",
       "    var titlebar = this.root.find($('.ui-dialog-titlebar'));\n",
       "    titlebar.prepend(buttongrp);\n",
       "}\n",
       "\n",
       "mpl.figure.prototype._root_extra_style = function(el){\n",
       "    var fig = this\n",
       "    el.on(\"remove\", function(){\n",
       "\tfig.close_ws(fig, {});\n",
       "    });\n",
       "}\n",
       "\n",
       "mpl.figure.prototype._canvas_extra_style = function(el){\n",
       "    // this is important to make the div 'focusable\n",
       "    el.attr('tabindex', 0)\n",
       "    // reach out to IPython and tell the keyboard manager to turn it's self\n",
       "    // off when our div gets focus\n",
       "\n",
       "    // location in version 3\n",
       "    if (IPython.notebook.keyboard_manager) {\n",
       "        IPython.notebook.keyboard_manager.register_events(el);\n",
       "    }\n",
       "    else {\n",
       "        // location in version 2\n",
       "        IPython.keyboard_manager.register_events(el);\n",
       "    }\n",
       "\n",
       "}\n",
       "\n",
       "mpl.figure.prototype._key_event_extra = function(event, name) {\n",
       "    var manager = IPython.notebook.keyboard_manager;\n",
       "    if (!manager)\n",
       "        manager = IPython.keyboard_manager;\n",
       "\n",
       "    // Check for shift+enter\n",
       "    if (event.shiftKey && event.which == 13) {\n",
       "        this.canvas_div.blur();\n",
       "        event.shiftKey = false;\n",
       "        // Send a \"J\" for go to next cell\n",
       "        event.which = 74;\n",
       "        event.keyCode = 74;\n",
       "        manager.command_mode();\n",
       "        manager.handle_keydown(event);\n",
       "    }\n",
       "}\n",
       "\n",
       "mpl.figure.prototype.handle_save = function(fig, msg) {\n",
       "    fig.ondownload(fig, null);\n",
       "}\n",
       "\n",
       "\n",
       "mpl.find_output_cell = function(html_output) {\n",
       "    // Return the cell and output element which can be found *uniquely* in the notebook.\n",
       "    // Note - this is a bit hacky, but it is done because the \"notebook_saving.Notebook\"\n",
       "    // IPython event is triggered only after the cells have been serialised, which for\n",
       "    // our purposes (turning an active figure into a static one), is too late.\n",
       "    var cells = IPython.notebook.get_cells();\n",
       "    var ncells = cells.length;\n",
       "    for (var i=0; i<ncells; i++) {\n",
       "        var cell = cells[i];\n",
       "        if (cell.cell_type === 'code'){\n",
       "            for (var j=0; j<cell.output_area.outputs.length; j++) {\n",
       "                var data = cell.output_area.outputs[j];\n",
       "                if (data.data) {\n",
       "                    // IPython >= 3 moved mimebundle to data attribute of output\n",
       "                    data = data.data;\n",
       "                }\n",
       "                if (data['text/html'] == html_output) {\n",
       "                    return [cell, data, j];\n",
       "                }\n",
       "            }\n",
       "        }\n",
       "    }\n",
       "}\n",
       "\n",
       "// Register the function which deals with the matplotlib target/channel.\n",
       "// The kernel may be null if the page has been refreshed.\n",
       "if (IPython.notebook.kernel != null) {\n",
       "    IPython.notebook.kernel.comm_manager.register_target('matplotlib', mpl.mpl_figure_comm);\n",
       "}\n"
      ],
      "text/plain": [
       "<IPython.core.display.Javascript object>"
      ]
     },
     "metadata": {},
     "output_type": "display_data"
    },
    {
     "data": {
      "text/html": [
       "<img src=\"data:image/png;base64,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\" width=\"979.9999787590725\">"
      ],
      "text/plain": [
       "<IPython.core.display.HTML object>"
      ]
     },
     "metadata": {},
     "output_type": "display_data"
    },
    {
     "data": {
      "application/vnd.jupyter.widget-view+json": {
       "model_id": "967c392b78df41bda5a9476f994be2d4",
       "version_major": 2,
       "version_minor": 0
      },
      "text/plain": [
       "Output()"
      ]
     },
     "metadata": {},
     "output_type": "display_data"
    },
    {
     "data": {
      "application/vnd.jupyter.widget-view+json": {
       "model_id": "900a5eb477e0473a8853d6d5dae78d82",
       "version_major": 2,
       "version_minor": 0
      },
      "text/plain": [
       "VBox(children=(HBox(children=(Dropdown(options=('Nastavi Ka in La', 'Nastavi lastne vrednosti'), value='Nastav…"
      ]
     },
     "metadata": {},
     "output_type": "display_data"
    }
   ],
   "source": [
    "# Main cell\n",
    "# Data\n",
    "global yd, T, yout\n",
    "yd = 10.\n",
    "T = []\n",
    "yout = []\n",
    "\n",
    "# Figures\n",
    "fig = plt.figure(num='Simulacija krmiljenja horizontalnega pomika lunarne sonde')\n",
    "fig.set_size_inches((9.8, 6))\n",
    "fig.set_tight_layout(True)\n",
    "\n",
    "ax0 = fig.add_subplot(221)\n",
    "ax0.set_title('Lunarna sonda')\n",
    "ax0.set_xlim(-12,12)\n",
    "ax0.set_ylim(-4,4)\n",
    "ax0.grid()\n",
    "# ax0.axis('off')\n",
    "\n",
    "ax1 = fig.add_subplot(222)\n",
    "linez = ax1.plot([],[])[0]\n",
    "linezv = ax1.plot([],[])[0]\n",
    "lined = ax1.plot([],[])[0]\n",
    "ax1.set_title('Lateralni pomik in hitrost')\n",
    "ax1.set_xlabel('$t$ [s]')\n",
    "ax1.set_ylabel('y [m], $\\dot y$ [m/s]')\n",
    "ax1.set_xlim([0,17])\n",
    "ax1.axvline(x=0,color='black',linewidth=0.8)\n",
    "ax1.axhline(y=0,color='black',linewidth=0.8)\n",
    "ax1.grid()\n",
    "ax1.legend(['Lateralni pomik','Lateralna hitrost','Zahtevana vrednost'])\n",
    "\n",
    "ax2 = fig.add_subplot(223)\n",
    "lineu = ax2.plot([],[])[0]\n",
    "linelimu1 = ax2.plot([],[],'r')[0]\n",
    "linelimu2 = ax2.plot([],[],'r')[0]\n",
    "ax2.set_title('Vhodni navor T')\n",
    "ax2.set_xlabel('$t$ [s]')\n",
    "ax2.set_ylabel('$T$ [Nm]')\n",
    "ax2.set_xlim([0,17])\n",
    "ax2.axvline(x=0,color='black',linewidth=0.8)\n",
    "ax2.axhline(y=0,color='black',linewidth=0.8)\n",
    "ax2.grid()\n",
    "ax2.legend(['T','Limit'])\n",
    "\n",
    "ax3 = fig.add_subplot(224)\n",
    "linethetaest = ax3.plot([],[])[0]\n",
    "linetheta = ax3.plot([],[])[0]\n",
    "ax3.set_title(r'$\\theta_{est}$ vs $\\theta$')\n",
    "ax3.set_xlabel('$t$ [s]')\n",
    "ax3.set_ylabel(r'$\\theta$ [deg]')\n",
    "ax3.axvline(x=0,color='black',linewidth=0.8)\n",
    "ax3.axhline(y=0,color='black',linewidth=0.8)\n",
    "ax3.set_xlim([0,17])\n",
    "ax3.grid()\n",
    "\n",
    "# Patches\n",
    "rotation_transform = transforms.Affine2D()\n",
    "circle = patches.Circle((0, 0.6), fill=True, radius=0.5, ec='black', fc='gray', lw=1, zorder=20, \n",
    "                        transform=rotation_transform + ax0.transData)\n",
    "rect = patches.Rectangle((-1, -0.4), 2, 0.5, fill=True, ec='black', fc='gray', lw=1, zorder=20, \n",
    "                         transform=rotation_transform + ax0.transData)\n",
    "poly = patches.Polygon(numpy.stack(([-0.25, -0.15, 0.15, 0.25], [-0.8, -0.4, -0.4, -0.8])).T, \n",
    "                       closed=True, fill=True, ec='black', fc='black', lw=1, zorder=20, \n",
    "                       transform=rotation_transform + ax0.transData)\n",
    "lleg = patches.Rectangle((-1, -1.2), 0.05, 1, angle=-15, fill=True, ec='black', fc='black', lw=1, zorder=10, \n",
    "                         transform=rotation_transform + ax0.transData)\n",
    "rleg = patches.Rectangle((1, -1.2), 0.05, 1, angle=15, fill=True, ec='black', fc='black', lw=1, zorder=10, \n",
    "                         transform=rotation_transform + ax0.transData)\n",
    "lfoot = patches.Rectangle((-1.1, -1.2), 0.2, 0.05, fill=True, ec='black', fc='black', lw=1, zorder=20, \n",
    "                         transform=rotation_transform + ax0.transData)\n",
    "rfoot = patches.Rectangle((0.9, -1.2), 0.2, 0.05, fill=True, ec='black', fc='black', lw=1, zorder=20, \n",
    "                         transform=rotation_transform + ax0.transData)\n",
    "ax0.add_patch(circle)\n",
    "ax0.add_patch(rect)\n",
    "ax0.add_patch(poly)\n",
    "ax0.add_patch(lleg)\n",
    "ax0.add_patch(rleg)\n",
    "ax0.add_patch(lfoot)\n",
    "ax0.add_patch(rfoot)\n",
    "plt.show()\n",
    "\n",
    "# Functions\n",
    "def main_function(Ka,La,Ydw,eig1,eig2,eig3,eig4,eig5,eig1o,eig2o,selm,selc,selo,DW):\n",
    "    global T, yout, yd, Aa, Ba, A11, A21\n",
    "    method = method_choice(selm)\n",
    "    eigc, eigo = eigen_choice(selc,selo)\n",
    "    yd = Ydw\n",
    "    ax1.set_ylim([-0.1*yd,yd*1.5])\n",
    "    ax2.set_ylim([-51*yd,51*yd])\n",
    "    ax3.set_ylim([-15,15])\n",
    "    \n",
    "    if method == 1: #Setted matrix gain\n",
    "        sol = numpy.linalg.eig((Aa-Ba[:,0]*Ka))\n",
    "        print('Lastne vrednosti Aa so: '+str(round(sol[0][0],3))+', '+str(round(sol[0][1],3))+', '+str(round(sol[0][2],3))+', '+str(round(sol[0][3],3))+' in '+str(round(sol[0][4],3)))\n",
    "        sol = numpy.linalg.eig(A11+La*A21)\n",
    "        print('Lastni vrednosti A11+La*A21 sta: '+str(round(sol[0][0],3))+' in '+str(round(sol[0][1],3))) \n",
    "        sys = simulation(Aa, Ba, Ca, A11, A12, A21, A22, B1, B2, La, Ka, Ta)\n",
    "        T = numpy.linspace(0, 17, 100)\n",
    "        T, yout = ctrl.step_response(sys, T, X0a)\n",
    "    if method == 2: #Setted eigenvalues\n",
    "        if eigc == 0:\n",
    "            Ka = ctrl.acker(Aa, Ba[:,0], [eig1[0,0], eig2[0,0], eig3[0,0], eig4[0,0], eig5[0,0]])\n",
    "            Kaw.setM(Ka)\n",
    "        if eigc == 2:\n",
    "            Ka = ctrl.acker(Aa, Ba[:,0], [eig1[0,0], numpy.complex(eig2[0,0],eig2[1,0]), numpy.complex(eig2[0,0],-eig2[1,0]), eig4[0,0], eig5[0,0]])\n",
    "            Kaw.setM(Ka)\n",
    "        if eigc == 4:\n",
    "            Ka = ctrl.acker(Aa, Ba[:,0], [eig1[0,0], numpy.complex(eig2[0,0],eig2[1,0]), numpy.complex(eig2[0,0],-eig2[1,0]), numpy.complex(eig3[0,0],eig3[1,0]), numpy.complex(eig3[0,0],-eig3[1,0])])\n",
    "            Kaw.setM(Ka)\n",
    "        if eigo == 0:\n",
    "            La = numpy.matrix([[0, 2*eig1o[0,0]/3 + 2*eig2o[0,0]/3, 0], [0, -2*eig1o[0,0]*eig2o[0,0]/3, 0]])\n",
    "            Law.setM(La) \n",
    "        if eigo == 2:\n",
    "            La = numpy.matrix([[0, 2*numpy.complex(eig2o[0,0],eig2o[1,0])/3 + 2*numpy.complex(eig2o[0,0],-eig2o[1,0])/3, 0], [0, -2*numpy.complex(eig2o[0,0],eig2o[1,0])*numpy.complex(eig2o[0,0],-eig2o[1,0])/3, 0]])\n",
    "            Law.setM(La)\n",
    "        sol = numpy.linalg.eig((Aa-Ba[:,0]*Ka))\n",
    "        print('Lastne vrednosti Aa so: '+str(round(sol[0][0],3))+', '+str(round(sol[0][1],3))+', '+str(round(sol[0][2],3))+', '+str(round(sol[0][3],3))+' in '+str(round(sol[0][4],3)))\n",
    "        sol = numpy.linalg.eig(A11+La*A21)\n",
    "        print('Lastni vrednosti A11+La*A21 sta: '+str(round(sol[0][0],3))+' in '+str(round(sol[0][1],3))) \n",
    "        sys = simulation(Aa, Ba, Ca, A11, A12, A21, A22, B1, B2, La, Ka, Ta)\n",
    "        T = numpy.linspace(0, 17, 100)\n",
    "        T, yout = ctrl.step_response(sys, T, X0a)\n",
    "\n",
    "ani = animation.FuncAnimation(fig, fun_animation, init_func=anim_init, frames=100, repeat=True, interval=170, blit=True)\n",
    "\n",
    "\n",
    "#create dummy widget \n",
    "DW = widgets.FloatText(layout=widgets.Layout(width='0px', height='0px'))\n",
    "\n",
    "#create button widget\n",
    "START = widgets.Button(\n",
    "    description='Test',\n",
    "    disabled=False,\n",
    "    button_style='', # 'success', 'info', 'warning', 'danger' or ''\n",
    "    tooltip='Test',\n",
    "    icon='check'\n",
    ")\n",
    "                       \n",
    "def on_start_button_clicked(b):\n",
    "    #This is a workaround to have intreactive_output call the callback:\n",
    "    #   force the value of the dummy widget to change\n",
    "    if DW.value> 0 :\n",
    "        DW.value = -1\n",
    "    else: \n",
    "        DW.value = 1\n",
    "    pass\n",
    "START.on_click(on_start_button_clicked)\n",
    "\n",
    "# Define type of method \n",
    "selm = widgets.Dropdown(\n",
    "    options= ['Nastavi Ka in La', 'Nastavi lastne vrednosti'],\n",
    "    value= 'Nastavi Ka in La',\n",
    "    description='',\n",
    "    disabled=False\n",
    ")\n",
    "\n",
    "# Define the number of complex eigenvalues for the controller\n",
    "selc = widgets.Dropdown(\n",
    "    options= ['brez kompleksnih lastnih vrednosti', 'dve kompleksni lastni vrednosti', 'štiri kompleksne lastne vrednosti'],\n",
    "    value= 'štiri kompleksne lastne vrednosti',\n",
    "    description='Aa:',\n",
    "    disabled=False\n",
    ")\n",
    "\n",
    "# Define the number of complex eigenvalues for the observer\n",
    "selo = widgets.Dropdown(\n",
    "    options= ['brez kompleksnih lastnih vrednosti', 'dve kompleksni lastni vrednosti'],\n",
    "    value= 'brez kompleksnih lastnih vrednosti',\n",
    "    description='Aobs:',\n",
    "    disabled=False\n",
    ")\n",
    "\n",
    "alltogether = widgets.VBox([\n",
    "    widgets.HBox([\n",
    "        selm,\n",
    "        selc,\n",
    "        selo\n",
    "    ]),\n",
    "    widgets.Label('',border=3),\n",
    "    widgets.HBox([\n",
    "        widgets.Label('Ka:',border=3),\n",
    "        Kaw,\n",
    "        widgets.Label('',border=3),\n",
    "        widgets.Label('',border=3),\n",
    "        widgets.Label('La:',border=3),\n",
    "        Law\n",
    "    ]),\n",
    "    widgets.Label('',border=3),\n",
    "    widgets.HBox([\n",
    "        widgets.Label('Aa\\'s eigs:',border=3),\n",
    "        eig1, eig2, eig3, eig4, eig5,\n",
    "        widgets.Label('',border=3),\n",
    "        widgets.Label('',border=3),\n",
    "        widgets.Label('Aobs\\'s eigs:',border=3),\n",
    "        eig1o, eig2o\n",
    "    ]),\n",
    "    widgets.Label('',border=3),\n",
    "    widgets.HBox([\n",
    "        Ydw,\n",
    "        widgets.Label('',border=3),\n",
    "        widgets.Label('',border=3),\n",
    "        widgets.Label('',border=3),\n",
    "        START\n",
    "    ])\n",
    "])\n",
    "\n",
    "out = widgets.interactive_output(main_function,{'Ka':Kaw, 'La':Law, 'Ydw':Ydw, 'eig1':eig1, 'eig2':eig2, \n",
    "                                                'eig3':eig3, 'eig4':eig4, 'eig5':eig5,\n",
    "                                                'eig1o':eig1o, 'eig2o':eig2o,\n",
    "                                                'selm':selm, 'selc':selc, 'selo':selo, 'DW':DW})\n",
    "display(out, alltogether)"
   ]
  },
  {
   "cell_type": "code",
   "execution_count": null,
   "metadata": {},
   "outputs": [],
   "source": []
  }
 ],
 "metadata": {
  "kernelspec": {
   "display_name": "Python 3",
   "language": "python",
   "name": "python3"
  },
  "language_info": {
   "codemirror_mode": {
    "name": "ipython",
    "version": 3
   },
   "file_extension": ".py",
   "mimetype": "text/x-python",
   "name": "python",
   "nbconvert_exporter": "python",
   "pygments_lexer": "ipython3",
   "version": "3.6.7"
  },
  "widgets": {
   "application/vnd.jupyter.widget-state+json": {
    "state": {
     "000105fdb4764586b8ebfab252a36567": {
      "model_module": "@jupyter-widgets/controls",
      "model_module_version": "1.4.0",
      "model_name": "HBoxModel",
      "state": {
       "children": [
        "IPY_MODEL_0f26c8afca96402aa66b81bc451a3559",
        "IPY_MODEL_ef8032f4b5344c16ae90cfbfd02231d6",
        "IPY_MODEL_9f426cacd41c42aca1af846e019bfa02",
        "IPY_MODEL_e3f770ce4cf241e991c713aa951e5765",
        "IPY_MODEL_11edfefeb4ca410ab09a2f5ddc3d5026"
       ],
       "layout": "IPY_MODEL_fae3f97f39754d1ba4c31c0a281630ef"
      }
     },
     "00038a7d51314ae9804a45c996c3038a": {
      "model_module": "@jupyter-widgets/base",
      "model_module_version": "1.1.0",
      "model_name": "LayoutModel",
      "state": {}
     },
     "000b9c5ed55f49e3a82cde3b11cd106c": {
      "model_module": "@jupyter-widgets/base",
      "model_module_version": "1.1.0",
      "model_name": "LayoutModel",
      "state": {}
     },
     "007459f4f397435698168869e682fe15": {
      "model_module": "@jupyter-widgets/controls",
      "model_module_version": "1.4.0",
      "model_name": "DropdownModel",
      "state": {
       "_options_labels": [
        "0 complex eigenvalues",
        "2 complex eigenvalues",
        "4 complex eigenvalues"
       ],
       "description": "Aa:",
       "disabled": true,
       "index": 0,
       "layout": "IPY_MODEL_52536282f3184f26aed9ccb231e684c9",
       "style": "IPY_MODEL_f60d5a9a35db4218bf1cb50b763bfbd8"
      }
     },
     "008c5b54603f4375ad913b4e47b37a95": {
      "model_module": "@jupyter-widgets/controls",
      "model_module_version": "1.4.0",
      "model_name": "LabelModel",
      "state": {
       "layout": "IPY_MODEL_3352f8a79a714a1f8fd27b8fd25f0a52",
       "style": "IPY_MODEL_a225f194cbbc4a6dbf9bed6cdfccc646",
       "value": "Ka:"
      }
     },
     "00bcf6e5f88d4478b2238275ce14a469": {
      "model_module": "@jupyter-widgets/base",
      "model_module_version": "1.1.0",
      "model_name": "LayoutModel",
      "state": {}
     },
     "0120a3cda0234f828ce07773febed775": {
      "model_module": "@jupyter-widgets/controls",
      "model_module_version": "1.4.0",
      "model_name": "DescriptionStyleModel",
      "state": {
       "description_width": ""
      }
     },
     "0137a8c0e143408997be4713d0929fd0": {
      "model_module": "@jupyter-widgets/controls",
      "model_module_version": "1.4.0",
      "model_name": "DescriptionStyleModel",
      "state": {
       "description_width": ""
      }
     },
     "014b81ae692c4db1abb4de5ebe4c554c": {
      "model_module": "@jupyter-widgets/base",
      "model_module_version": "1.1.0",
      "model_name": "LayoutModel",
      "state": {}
     },
     "01722e6449294095b69c3399e6500959": {
      "model_module": "@jupyter-widgets/controls",
      "model_module_version": "1.4.0",
      "model_name": "DescriptionStyleModel",
      "state": {
       "description_width": ""
      }
     },
     "019c9aac684248e991ad2ca479ca9e54": {
      "model_module": "@jupyter-widgets/controls",
      "model_module_version": "1.4.0",
      "model_name": "LabelModel",
      "state": {
       "layout": "IPY_MODEL_f24072b2fc174c678db9de5d308468b8",
       "style": "IPY_MODEL_602f92a285884868bacf7120c085d472",
       "value": "Aobs's eigs:"
      }
     },
     "01bcc377646640c7a87abaf47a341335": {
      "model_module": "@jupyter-widgets/base",
      "model_module_version": "1.1.0",
      "model_name": "LayoutModel",
      "state": {}
     },
     "01dc0a5c652f458280935dd0ec1df02e": {
      "model_module": "@jupyter-widgets/base",
      "model_module_version": "1.1.0",
      "model_name": "LayoutModel",
      "state": {}
     },
     "03aea743d5e74fc58ade7e8bd43412e5": {
      "model_module": "@jupyter-widgets/controls",
      "model_module_version": "1.4.0",
      "model_name": "DescriptionStyleModel",
      "state": {
       "description_width": ""
      }
     },
     "0412e3d10df841038ecf3f8250e2b120": {
      "model_module": "@jupyter-widgets/base",
      "model_module_version": "1.1.0",
      "model_name": "LayoutModel",
      "state": {}
     },
     "05041977ab73417bb69ef1b71c64c7d9": {
      "model_module": "@jupyter-widgets/controls",
      "model_module_version": "1.4.0",
      "model_name": "HBoxModel",
      "state": {
       "children": [
        "IPY_MODEL_0a0237317d414d94b0d63364806850e5",
        "IPY_MODEL_6d68637432684016b0727f506afe0df5",
        "IPY_MODEL_f01b454caf0243f89fac5809d26d4cf2",
        "IPY_MODEL_3fe63ac60ab64ded984e9abeeff7abf5",
        "IPY_MODEL_317ee220faa84115bad387393653c51c",
        "IPY_MODEL_587e0f7d832d4ecc866fb0f39ea9d990",
        "IPY_MODEL_e740dfcb3cf649d4bee10bf6ee195301",
        "IPY_MODEL_e819fefb797041e89e4f72749e00edab",
        "IPY_MODEL_df3fedfe68e347c793fc31f53922c394",
        "IPY_MODEL_a3c2a24a94aa456cbd6779a86c1f06ad",
        "IPY_MODEL_25be128dd26d4cd298247bbbc5bbe06a"
       ],
       "layout": "IPY_MODEL_7a5fad3a8ed14b8c8672e83a713b5ee7"
      }
     },
     "0706e16b9ab64db69dc8b23ae2724d9e": {
      "model_module": "@jupyter-widgets/controls",
      "model_module_version": "1.4.0",
      "model_name": "DescriptionStyleModel",
      "state": {
       "description_width": ""
      }
     },
     "072696cc4bea46d4b484be7695a09054": {
      "model_module": "@jupyter-widgets/controls",
      "model_module_version": "1.4.0",
      "model_name": "LabelModel",
      "state": {
       "layout": "IPY_MODEL_6f5b16ca245c4071ab3278214307b695",
       "style": "IPY_MODEL_fea917e7b46743788590dd87985dcee4"
      }
     },
     "073260c1189244649e842178ffd838db": {
      "model_module": "@jupyter-widgets/controls",
      "model_module_version": "1.4.0",
      "model_name": "LabelModel",
      "state": {
       "layout": "IPY_MODEL_850d20061cb147999055d5ad4f3f4e9c",
       "style": "IPY_MODEL_27173e1eefb9498a854df87487b14839",
       "value": "Ka:"
      }
     },
     "075ef8840b254dfe8e812d7716b6f101": {
      "model_module": "@jupyter-widgets/controls",
      "model_module_version": "1.4.0",
      "model_name": "DescriptionStyleModel",
      "state": {
       "description_width": ""
      }
     },
     "07cc0da023a94e43b22b059533bc0e4a": {
      "model_module": "@jupyter-widgets/controls",
      "model_module_version": "1.4.0",
      "model_name": "DescriptionStyleModel",
      "state": {
       "description_width": ""
      }
     },
     "07f5abd468dd4c468a64aed63128e248": {
      "model_module": "@jupyter-widgets/controls",
      "model_module_version": "1.4.0",
      "model_name": "HBoxModel",
      "state": {
       "children": [
        "IPY_MODEL_68cb20eccc494d0e897dfcc89aa2b844"
       ],
       "layout": "IPY_MODEL_e24fb2aa34f844d99bef9c6b7ccac677"
      }
     },
     "07fef6b966c54e33b18032e66099953d": {
      "model_module": "@jupyter-widgets/base",
      "model_module_version": "1.1.0",
      "model_name": "LayoutModel",
      "state": {}
     },
     "0809ffdf306c4572b2936a4003504ebc": {
      "model_module": "@jupyter-widgets/controls",
      "model_module_version": "1.4.0",
      "model_name": "LabelModel",
      "state": {
       "layout": "IPY_MODEL_32b7e93c96b443a3af782fb2be831b3b",
       "style": "IPY_MODEL_76017c8704c44e04825f3e352bacd669"
      }
     },
     "0887c7cb985246f0bd413b295949e2d4": {
      "model_module": "@jupyter-widgets/controls",
      "model_module_version": "1.4.0",
      "model_name": "DescriptionStyleModel",
      "state": {
       "description_width": ""
      }
     },
     "093f7ad7ff10484c9dc83f64e83edf68": {
      "model_module": "@jupyter-widgets/controls",
      "model_module_version": "1.4.0",
      "model_name": "DropdownModel",
      "state": {
       "_options_labels": [
        "Set Ka and La",
        "Set the eigenvalues"
       ],
       "index": 0,
       "layout": "IPY_MODEL_3737cb1f394e4b8d993a13254b0b1c5e",
       "style": "IPY_MODEL_e9a73fa1f34747818d3505be6015e5a8"
      }
     },
     "09c1c777399449b3a0a0b485453ab341": {
      "model_module": "@jupyter-widgets/base",
      "model_module_version": "1.1.0",
      "model_name": "LayoutModel",
      "state": {}
     },
     "0a0237317d414d94b0d63364806850e5": {
      "model_module": "@jupyter-widgets/controls",
      "model_module_version": "1.4.0",
      "model_name": "LabelModel",
      "state": {
       "layout": "IPY_MODEL_991efac838994f0ab46af4dd67a6cce2",
       "style": "IPY_MODEL_af6f99f25c5f46168e1651111b8ad41b",
       "value": "Aa's eigs:"
      }
     },
     "0a02add7505f44028df61c521bfc1df6": {
      "model_module": "@jupyter-widgets/base",
      "model_module_version": "1.1.0",
      "model_name": "LayoutModel",
      "state": {
       "width": "90px"
      }
     },
     "0a176961dc994c7d85ace2bb0be6e5fc": {
      "model_module": "@jupyter-widgets/controls",
      "model_module_version": "1.4.0",
      "model_name": "HBoxModel",
      "state": {
       "children": [
        "IPY_MODEL_ed387f51cefd4c6e9562fcd544998001"
       ],
       "layout": "IPY_MODEL_9e3dc09502d8495584a6ac12c8f8ac5a"
      }
     },
     "0a273f0c4e6e469698eb36d71e786546": {
      "model_module": "@jupyter-widgets/base",
      "model_module_version": "1.1.0",
      "model_name": "LayoutModel",
      "state": {}
     },
     "0a7c3f2ed52f4978a43c2ce6b2ed5a0d": {
      "model_module": "@jupyter-widgets/controls",
      "model_module_version": "1.4.0",
      "model_name": "DescriptionStyleModel",
      "state": {
       "description_width": ""
      }
     },
     "0a82875190184a69b8227b138ce1554c": {
      "model_module": "@jupyter-widgets/controls",
      "model_module_version": "1.4.0",
      "model_name": "LabelModel",
      "state": {
       "layout": "IPY_MODEL_d8ddf5e62d8a4ddb9e10b54c206800f0",
       "style": "IPY_MODEL_5a490e92a1344cf0abc18bf0425bbb92"
      }
     },
     "0aa0bfe4046d4bbd9e3b8fc7e923c19e": {
      "model_module": "@jupyter-widgets/controls",
      "model_module_version": "1.4.0",
      "model_name": "FloatSliderModel",
      "state": {
       "continuous_update": false,
       "description": "$y_d$:",
       "layout": "IPY_MODEL_1d157278113043c9856d8a9417a13918",
       "max": 10,
       "readout_format": ".1f",
       "step": 0.1,
       "style": "IPY_MODEL_0f2b83b6f05148a3b373bebc85945789",
       "value": 10
      }
     },
     "0b4ba8575fd04aaaaea39527815d5e55": {
      "model_module": "@jupyter-widgets/controls",
      "model_module_version": "1.4.0",
      "model_name": "HBoxModel",
      "state": {
       "children": [
        "IPY_MODEL_6ccca8cd1dd94a44bbc5840816353ae3"
       ],
       "layout": "IPY_MODEL_b099da3d4c434dc5847966b8cdd77694"
      }
     },
     "0b517246f8e34440abe426b02300a069": {
      "model_module": "@jupyter-widgets/controls",
      "model_module_version": "1.4.0",
      "model_name": "DescriptionStyleModel",
      "state": {
       "description_width": ""
      }
     },
     "0bef75a1591f4b5f8b32b8b6479d62c9": {
      "model_module": "@jupyter-widgets/controls",
      "model_module_version": "1.4.0",
      "model_name": "VBoxModel",
      "state": {
       "children": [
        "IPY_MODEL_7d35e7ff219645d8928897423c98458f",
        "IPY_MODEL_0d089a6ffc9842b5bd9fc04d7aa0246b",
        "IPY_MODEL_fd59bda6f0d24120b0d6c12b5f6b8722",
        "IPY_MODEL_ec3fff96409f451e8c01a23c1f99995c",
        "IPY_MODEL_1fdde251769a4b17b82f768dd2b4dd9e",
        "IPY_MODEL_0a82875190184a69b8227b138ce1554c",
        "IPY_MODEL_d55492cfde34474dbdce90063cf320f9"
       ],
       "layout": "IPY_MODEL_add2942f83e541c2af6d4410e83b6dde"
      }
     },
     "0c7ccc0d90d14893a1798e9bec0ccfad": {
      "model_module": "@jupyter-widgets/controls",
      "model_module_version": "1.4.0",
      "model_name": "DescriptionStyleModel",
      "state": {
       "description_width": ""
      }
     },
     "0c95743624f3406b94fdf24395f109ea": {
      "model_module": "@jupyter-widgets/controls",
      "model_module_version": "1.4.0",
      "model_name": "DescriptionStyleModel",
      "state": {
       "description_width": ""
      }
     },
     "0cd7629dd3c9461fbd0c47b84ef58eb5": {
      "model_module": "@jupyter-widgets/base",
      "model_module_version": "1.1.0",
      "model_name": "LayoutModel",
      "state": {}
     },
     "0d089a6ffc9842b5bd9fc04d7aa0246b": {
      "model_module": "@jupyter-widgets/controls",
      "model_module_version": "1.4.0",
      "model_name": "LabelModel",
      "state": {
       "layout": "IPY_MODEL_12abd72a94064ce59f1ddbba55496559",
       "style": "IPY_MODEL_e05554ca65324a6b8574c72ca47cf5b7"
      }
     },
     "0d0a5a3b1371435bbf4f922a1c0b4595": {
      "model_module": "@jupyter-widgets/controls",
      "model_module_version": "1.4.0",
      "model_name": "ButtonStyleModel",
      "state": {}
     },
     "0dc42ed578324e9698fd4ff6083ef49b": {
      "model_module": "@jupyter-widgets/base",
      "model_module_version": "1.1.0",
      "model_name": "LayoutModel",
      "state": {}
     },
     "0deef1dc66c5431fa7af43270cd27cbe": {
      "model_module": "@jupyter-widgets/base",
      "model_module_version": "1.1.0",
      "model_name": "LayoutModel",
      "state": {}
     },
     "0e00eb2261824321ba3db263816e459b": {
      "model_module": "@jupyter-widgets/controls",
      "model_module_version": "1.4.0",
      "model_name": "DescriptionStyleModel",
      "state": {
       "description_width": ""
      }
     },
     "0e3a382431764e918183d36d775bca91": {
      "model_module": "@jupyter-widgets/controls",
      "model_module_version": "1.4.0",
      "model_name": "DescriptionStyleModel",
      "state": {
       "description_width": ""
      }
     },
     "0e87eb36298b40c88aa507280a88673b": {
      "model_module": "@jupyter-widgets/base",
      "model_module_version": "1.1.0",
      "model_name": "LayoutModel",
      "state": {}
     },
     "0ea5534b93a641a280950cebc7dd7424": {
      "model_module": "@jupyter-widgets/controls",
      "model_module_version": "1.4.0",
      "model_name": "LabelModel",
      "state": {
       "layout": "IPY_MODEL_6b1eb3d2914f436ebdc338c44a701edf",
       "style": "IPY_MODEL_2b9259b59b92447390e7b296c315363e"
      }
     },
     "0f14d36f2e474b439c5338a92acccce0": {
      "model_module": "@jupyter-widgets/controls",
      "model_module_version": "1.4.0",
      "model_name": "LabelModel",
      "state": {
       "layout": "IPY_MODEL_d11f6fc17f944785abd9427772fd5a6d",
       "style": "IPY_MODEL_3ac1014816f74fb1b52fa1463185a00e"
      }
     },
     "0f26c8afca96402aa66b81bc451a3559": {
      "model_module": "@jupyter-widgets/controls",
      "model_module_version": "1.4.0",
      "model_name": "FloatSliderModel",
      "state": {
       "continuous_update": false,
       "description": "$y_d$:",
       "layout": "IPY_MODEL_5e5ca3c81ee24215909e7e2b23040bdd",
       "max": 10,
       "readout_format": ".1f",
       "step": 0.1,
       "style": "IPY_MODEL_6d50e2c21b10474f969fa3e17a94ff8c",
       "value": 10
      }
     },
     "0f2b83b6f05148a3b373bebc85945789": {
      "model_module": "@jupyter-widgets/controls",
      "model_module_version": "1.4.0",
      "model_name": "SliderStyleModel",
      "state": {
       "description_width": ""
      }
     },
     "0f6c3a9260604cbfabe83a35c70edc75": {
      "model_module": "@jupyter-widgets/controls",
      "model_module_version": "1.4.0",
      "model_name": "DescriptionStyleModel",
      "state": {
       "description_width": ""
      }
     },
     "0f70af7c61ff4ba88081ed4f671ea6fb": {
      "model_module": "@jupyter-widgets/controls",
      "model_module_version": "1.4.0",
      "model_name": "DescriptionStyleModel",
      "state": {
       "description_width": ""
      }
     },
     "0fb6ebd5d60540b4a5135eecb46702e9": {
      "model_module": "@jupyter-widgets/controls",
      "model_module_version": "1.4.0",
      "model_name": "DescriptionStyleModel",
      "state": {
       "description_width": ""
      }
     },
     "0fbab12f3fc8478a8d773b74b0d46c8b": {
      "model_module": "@jupyter-widgets/controls",
      "model_module_version": "1.4.0",
      "model_name": "LabelModel",
      "state": {
       "layout": "IPY_MODEL_699c82ce7721494b827c9191334677f0",
       "style": "IPY_MODEL_63bd776089dc4508bd21c8789ad803bb"
      }
     },
     "0fdc2e9573724ffca381dcdc06cfb1b0": {
      "model_module": "@jupyter-widgets/base",
      "model_module_version": "1.1.0",
      "model_name": "LayoutModel",
      "state": {}
     },
     "0ffabbd5de5b4e49b39460918d7833c9": {
      "model_module": "@jupyter-widgets/controls",
      "model_module_version": "1.4.0",
      "model_name": "DescriptionStyleModel",
      "state": {
       "description_width": ""
      }
     },
     "1011a14be8014506987e6ff204d26d35": {
      "model_module": "@jupyter-widgets/base",
      "model_module_version": "1.1.0",
      "model_name": "LayoutModel",
      "state": {
       "width": "90px"
      }
     },
     "108b967aa86f464994fc814c54533fec": {
      "model_module": "@jupyter-widgets/base",
      "model_module_version": "1.1.0",
      "model_name": "LayoutModel",
      "state": {}
     },
     "10c2b023fe28454a9f66efb594599e4a": {
      "model_module": "@jupyter-widgets/base",
      "model_module_version": "1.1.0",
      "model_name": "LayoutModel",
      "state": {}
     },
     "10f2e8ae48e64a069fdfeda800e6969d": {
      "model_module": "@jupyter-widgets/base",
      "model_module_version": "1.1.0",
      "model_name": "LayoutModel",
      "state": {}
     },
     "11edfefeb4ca410ab09a2f5ddc3d5026": {
      "model_module": "@jupyter-widgets/controls",
      "model_module_version": "1.4.0",
      "model_name": "ButtonModel",
      "state": {
       "description": "Test",
       "icon": "check",
       "layout": "IPY_MODEL_2f66cfe8ed134acfb204b483546b9c8d",
       "style": "IPY_MODEL_7b6fe30e232e400583497734a4b6a5c7",
       "tooltip": "Test"
      }
     },
     "1205db0490524afe8643ea75eac4d13f": {
      "model_module": "@jupyter-widgets/controls",
      "model_module_version": "1.4.0",
      "model_name": "HBoxModel",
      "state": {
       "children": [
        "IPY_MODEL_1fb66c1b76f545669fe28804b306ecd2"
       ],
       "layout": "IPY_MODEL_6bdb46374a01452f878caf37f3b7dc57"
      }
     },
     "1244287ff9b84bed9a68f406b6271d4a": {
      "model_module": "@jupyter-widgets/controls",
      "model_module_version": "1.4.0",
      "model_name": "LabelModel",
      "state": {
       "layout": "IPY_MODEL_d859c2d997d6489089f973bec38b3477",
       "style": "IPY_MODEL_72a35b0bc2d9418bb099da42dd65c976"
      }
     },
     "125f923ed5a34fe3a28d2f6851a46911": {
      "model_module": "@jupyter-widgets/controls",
      "model_module_version": "1.4.0",
      "model_name": "HBoxModel",
      "state": {
       "children": [
        "IPY_MODEL_e89ff4014f0e49528bbf4e98a760fe39"
       ],
       "layout": "IPY_MODEL_fc243b3b10e846438dd07009179844f7"
      }
     },
     "127f6407d3334b2c811379e3be485ea4": {
      "model_module": "@jupyter-widgets/controls",
      "model_module_version": "1.4.0",
      "model_name": "DescriptionStyleModel",
      "state": {
       "description_width": ""
      }
     },
     "12abd72a94064ce59f1ddbba55496559": {
      "model_module": "@jupyter-widgets/base",
      "model_module_version": "1.1.0",
      "model_name": "LayoutModel",
      "state": {}
     },
     "1305375218104eaf84b665587f869b4a": {
      "model_module": "@jupyter-widgets/base",
      "model_module_version": "1.1.0",
      "model_name": "LayoutModel",
      "state": {}
     },
     "1356dd4e149949aa8da63f5c73164b03": {
      "model_module": "@jupyter-widgets/base",
      "model_module_version": "1.1.0",
      "model_name": "LayoutModel",
      "state": {
       "width": "90px"
      }
     },
     "135f645700374f52895dcc521e40d207": {
      "model_module": "@jupyter-widgets/controls",
      "model_module_version": "1.4.0",
      "model_name": "LabelModel",
      "state": {
       "layout": "IPY_MODEL_7c71e94f7fd8465382677754c8e6a982",
       "style": "IPY_MODEL_88eb02c3dc4f44948a1aec3fdbc15243"
      }
     },
     "13b8b4e1c72d4263a37e6d0db2857f38": {
      "model_module": "@jupyter-widgets/base",
      "model_module_version": "1.1.0",
      "model_name": "LayoutModel",
      "state": {}
     },
     "13b9e1059bd644deab53f4bbff6caec0": {
      "model_module": "@jupyter-widgets/controls",
      "model_module_version": "1.4.0",
      "model_name": "DropdownModel",
      "state": {
       "_options_labels": [
        "0 complex eigenvalues",
        "2 complex eigenvalues"
       ],
       "description": "Aobs:",
       "disabled": true,
       "index": 0,
       "layout": "IPY_MODEL_308eee1c1f63417596941451831e56d9",
       "style": "IPY_MODEL_b091aa29372a4b588df50dbfdb73bfca"
      }
     },
     "13f0e2e48ed94fb2b3e92e36a92bd6ab": {
      "model_module": "@jupyter-widgets/output",
      "model_module_version": "1.0.0",
      "model_name": "OutputModel",
      "state": {
       "layout": "IPY_MODEL_791fe235250446a6a034c1a07655e400",
       "outputs": [
        {
         "name": "stdout",
         "output_type": "stream",
         "text": "The Aa's eigenvalues are: -2.24+2.23j, -2.24+-2.23j, -0.28+0.00j, -0.26+0.32j and -0.26+-0.32j\nThe observer\\s eigenvalues are: -10.00+0.00j and -10.00+0.00j\n"
        }
       ]
      }
     },
     "14197243320e4c27bf97e564d6f16016": {
      "model_module": "@jupyter-widgets/controls",
      "model_module_version": "1.4.0",
      "model_name": "DescriptionStyleModel",
      "state": {
       "description_width": ""
      }
     },
     "1499b17a4da64101a9270bd56fcd4356": {
      "model_module": "@jupyter-widgets/controls",
      "model_module_version": "1.4.0",
      "model_name": "DescriptionStyleModel",
      "state": {
       "description_width": ""
      }
     },
     "14cf269aca7449979c09408a3fc45663": {
      "model_module": "@jupyter-widgets/base",
      "model_module_version": "1.1.0",
      "model_name": "LayoutModel",
      "state": {
       "width": "90px"
      }
     },
     "14ee82ae6a44446aaf4a813482e9e609": {
      "model_module": "@jupyter-widgets/base",
      "model_module_version": "1.1.0",
      "model_name": "LayoutModel",
      "state": {}
     },
     "1513832cf7b54c038400c36ff44ca0ef": {
      "model_module": "@jupyter-widgets/controls",
      "model_module_version": "1.4.0",
      "model_name": "DescriptionStyleModel",
      "state": {
       "description_width": ""
      }
     },
     "151cd4e8dcf14832a226f806c78e36e0": {
      "model_module": "@jupyter-widgets/base",
      "model_module_version": "1.1.0",
      "model_name": "LayoutModel",
      "state": {
       "width": "90px"
      }
     },
     "15cf45b6a5954be0ac6b6415d1d48bca": {
      "model_module": "@jupyter-widgets/base",
      "model_module_version": "1.1.0",
      "model_name": "LayoutModel",
      "state": {}
     },
     "16112e01e61a4c7a852edd7bb209d2be": {
      "model_module": "@jupyter-widgets/base",
      "model_module_version": "1.1.0",
      "model_name": "LayoutModel",
      "state": {}
     },
     "168bc40c3b9245fb833055cc8b0cf9d8": {
      "model_module": "@jupyter-widgets/controls",
      "model_module_version": "1.4.0",
      "model_name": "LabelModel",
      "state": {
       "layout": "IPY_MODEL_b438c6c4dba24c86a5f99cb78a66dc10",
       "style": "IPY_MODEL_5e9531f6af9b44a5acb5ee578ef622a0"
      }
     },
     "171a1b1507054bbfbefb5a2121471844": {
      "model_module": "@jupyter-widgets/controls",
      "model_module_version": "1.4.0",
      "model_name": "FloatTextModel",
      "state": {
       "layout": "IPY_MODEL_668d43e659984f9c83d702a230efee49",
       "step": null,
       "style": "IPY_MODEL_652517d930ef4076ae1a91b0e2a3be6c"
      }
     },
     "17cebb2684274838bfed4999e9fbd809": {
      "model_module": "@jupyter-widgets/controls",
      "model_module_version": "1.4.0",
      "model_name": "DescriptionStyleModel",
      "state": {
       "description_width": ""
      }
     },
     "1813f2fd50cb46aa9b888f8b5f8af0b2": {
      "model_module": "@jupyter-widgets/controls",
      "model_module_version": "1.4.0",
      "model_name": "DescriptionStyleModel",
      "state": {
       "description_width": ""
      }
     },
     "1847186fe1ec42328cf7cbcf68a6b4db": {
      "model_module": "@jupyter-widgets/controls",
      "model_module_version": "1.4.0",
      "model_name": "DescriptionStyleModel",
      "state": {
       "description_width": ""
      }
     },
     "184b23bb39dd4047977c1005e03a95c0": {
      "model_module": "@jupyter-widgets/base",
      "model_module_version": "1.1.0",
      "model_name": "LayoutModel",
      "state": {
       "width": "90px"
      }
     },
     "186de4e4fe0949228939f5d0f3901124": {
      "model_module": "@jupyter-widgets/controls",
      "model_module_version": "1.4.0",
      "model_name": "DescriptionStyleModel",
      "state": {
       "description_width": ""
      }
     },
     "189961caab4941f481899c87788c12aa": {
      "model_module": "@jupyter-widgets/controls",
      "model_module_version": "1.4.0",
      "model_name": "DescriptionStyleModel",
      "state": {
       "description_width": ""
      }
     },
     "18f82af6d5b2431ba4c48da55efab544": {
      "model_module": "@jupyter-widgets/controls",
      "model_module_version": "1.4.0",
      "model_name": "DropdownModel",
      "state": {
       "_options_labels": [
        "Set Ka and La",
        "Set the eigenvalues"
       ],
       "index": 0,
       "layout": "IPY_MODEL_aa396f910ca1429e83f9525d6adb3ba8",
       "style": "IPY_MODEL_d9db35bcd55b452caf07ceee07f65e96"
      }
     },
     "190c4ee57fdf40c88d86937fbd97fb58": {
      "model_module": "@jupyter-widgets/base",
      "model_module_version": "1.1.0",
      "model_name": "LayoutModel",
      "state": {}
     },
     "19233d4c075b48e5be2e4e129eb9e1d1": {
      "model_module": "@jupyter-widgets/controls",
      "model_module_version": "1.4.0",
      "model_name": "VBoxModel",
      "state": {
       "children": [
        "IPY_MODEL_7637a14720e140b2bcd66ed4939ec5a9",
        "IPY_MODEL_0ea5534b93a641a280950cebc7dd7424",
        "IPY_MODEL_22275515a1f04bd8be66e809c0605552",
        "IPY_MODEL_d120caa23d324631a5a9da5ed06acf60",
        "IPY_MODEL_e6198233953c4e6a91250039d906d212",
        "IPY_MODEL_fedc86dc603d43e08f7f162b326f729d",
        "IPY_MODEL_a5b53e522d8e4962a7d78f2bf1ad4c12"
       ],
       "layout": "IPY_MODEL_4290b132dc4242809a5d43b88a892c72"
      }
     },
     "193fab7eb40b4355997b20e097125ced": {
      "model_module": "@jupyter-widgets/output",
      "model_module_version": "1.0.0",
      "model_name": "OutputModel",
      "state": {
       "layout": "IPY_MODEL_b44a86c421fc453e90a3fbdd66345770",
       "outputs": [
        {
         "name": "stdout",
         "output_type": "stream",
         "text": "The Aa's eigenvalues are: -2.24+2.23j, -2.24+-2.23j, -0.28+0.00j, -0.26+0.32j and -0.26+-0.32j\nThe observer\\s eigenvalues are: -10.00+0.00j and -10.00+0.00j\n"
        }
       ]
      }
     },
     "19b8bdf890664f71885c84f552c3f3c0": {
      "model_module": "@jupyter-widgets/controls",
      "model_module_version": "1.4.0",
      "model_name": "DescriptionStyleModel",
      "state": {
       "description_width": ""
      }
     },
     "19f1831249fc404885a8c590f402427e": {
      "model_module": "@jupyter-widgets/controls",
      "model_module_version": "1.4.0",
      "model_name": "DescriptionStyleModel",
      "state": {
       "description_width": ""
      }
     },
     "1a89916030dc4f8ba8438c3a8c5bbd69": {
      "model_module": "@jupyter-widgets/base",
      "model_module_version": "1.1.0",
      "model_name": "LayoutModel",
      "state": {}
     },
     "1b064c01ef0f4056b7748e7fa4e8d0ae": {
      "model_module": "@jupyter-widgets/controls",
      "model_module_version": "1.4.0",
      "model_name": "DropdownModel",
      "state": {
       "_options_labels": [
        "Set Ka and La",
        "Set the eigenvalues"
       ],
       "index": 0,
       "layout": "IPY_MODEL_ade07f29b03d42f9af3c3c14c7d31ea0",
       "style": "IPY_MODEL_370ecf9131524d678e6b68bd2392087b"
      }
     },
     "1b74db63daf04430bfbc9b90a4d2a0b9": {
      "model_module": "@jupyter-widgets/controls",
      "model_module_version": "1.4.0",
      "model_name": "DescriptionStyleModel",
      "state": {
       "description_width": ""
      }
     },
     "1be046e383e644d6a6cfcf29b3777c99": {
      "model_module": "@jupyter-widgets/base",
      "model_module_version": "1.1.0",
      "model_name": "LayoutModel",
      "state": {}
     },
     "1c3b4a0e02094103b9696eab44638dc6": {
      "model_module": "@jupyter-widgets/base",
      "model_module_version": "1.1.0",
      "model_name": "LayoutModel",
      "state": {
       "width": "90px"
      }
     },
     "1c47caf2cb4b47a3a6d0d38a124adb42": {
      "model_module": "@jupyter-widgets/controls",
      "model_module_version": "1.4.0",
      "model_name": "LabelModel",
      "state": {
       "layout": "IPY_MODEL_4f760a5b774c4487878113061d5224d7",
       "style": "IPY_MODEL_0120a3cda0234f828ce07773febed775",
       "value": "Ka:"
      }
     },
     "1c6c62d211f44583a849017a71d78956": {
      "model_module": "@jupyter-widgets/controls",
      "model_module_version": "1.4.0",
      "model_name": "FloatTextModel",
      "state": {
       "disabled": true,
       "layout": "IPY_MODEL_461957a3da1741a79e15d991cb7034b3",
       "step": null,
       "style": "IPY_MODEL_4c2c1962f1e24a4ead7d36ae79cc2236",
       "value": -0.35
      }
     },
     "1c9b2f53ecbb4da79d03c3c35e70cf14": {
      "model_module": "@jupyter-widgets/base",
      "model_module_version": "1.1.0",
      "model_name": "LayoutModel",
      "state": {}
     },
     "1cf2e125728c4d5e8c8fea95a6038064": {
      "model_module": "@jupyter-widgets/controls",
      "model_module_version": "1.4.0",
      "model_name": "LabelModel",
      "state": {
       "layout": "IPY_MODEL_480976956b5e49b29e0a8fb9ddc1311d",
       "style": "IPY_MODEL_47598cf9791a4324b5119eb4da288b2f",
       "value": "Aa's eigs:"
      }
     },
     "1d157278113043c9856d8a9417a13918": {
      "model_module": "@jupyter-widgets/base",
      "model_module_version": "1.1.0",
      "model_name": "LayoutModel",
      "state": {}
     },
     "1dc05884ae5f4e7d823343a71c5d6ddd": {
      "model_module": "@jupyter-widgets/base",
      "model_module_version": "1.1.0",
      "model_name": "LayoutModel",
      "state": {}
     },
     "1df123d7b60c4f70bfaa95a3a98028b2": {
      "model_module": "@jupyter-widgets/base",
      "model_module_version": "1.1.0",
      "model_name": "LayoutModel",
      "state": {}
     },
     "1e33b781497341b1996b09276820d8e0": {
      "model_module": "@jupyter-widgets/base",
      "model_module_version": "1.1.0",
      "model_name": "LayoutModel",
      "state": {}
     },
     "1f72a1ea109f4f659eb106984a52f1f6": {
      "model_module": "@jupyter-widgets/controls",
      "model_module_version": "1.4.0",
      "model_name": "DescriptionStyleModel",
      "state": {
       "description_width": ""
      }
     },
     "1fb66c1b76f545669fe28804b306ecd2": {
      "model_module": "@jupyter-widgets/controls",
      "model_module_version": "1.4.0",
      "model_name": "FloatTextModel",
      "state": {
       "layout": "IPY_MODEL_e75eff08ebb144498999ffac93f14395",
       "step": null,
       "style": "IPY_MODEL_bde8952344054e1a9af20bcf7482c849",
       "value": -0.2
      }
     },
     "1fc3130926714e67a16a6fa21598e553": {
      "model_module": "@jupyter-widgets/controls",
      "model_module_version": "1.4.0",
      "model_name": "FloatTextModel",
      "state": {
       "layout": "IPY_MODEL_ecd20c3dc57245719c571ef17d01685c",
       "step": null,
       "style": "IPY_MODEL_5a867080f23547f5ba9fce9c078589d9",
       "value": 5275
      }
     },
     "1fd1af9aa2e34834a4365140e0e3935c": {
      "model_module": "@jupyter-widgets/controls",
      "model_module_version": "1.4.0",
      "model_name": "LabelModel",
      "state": {
       "layout": "IPY_MODEL_5bb3813b66d04d2e8d925c77a06ea469",
       "style": "IPY_MODEL_127f6407d3334b2c811379e3be485ea4",
       "value": "La:"
      }
     },
     "1fd782fda2594830a668c84ee5d9f831": {
      "model_module": "@jupyter-widgets/controls",
      "model_module_version": "1.4.0",
      "model_name": "DescriptionStyleModel",
      "state": {
       "description_width": ""
      }
     },
     "1fdde251769a4b17b82f768dd2b4dd9e": {
      "model_module": "@jupyter-widgets/controls",
      "model_module_version": "1.4.0",
      "model_name": "HBoxModel",
      "state": {
       "children": [
        "IPY_MODEL_b56385a123a9454aa4c26e576ee9e00e",
        "IPY_MODEL_4c8e37c41a2d416a8c037d763d6ba024",
        "IPY_MODEL_a267df06d1fd4abdbeeaa4b209f965f6",
        "IPY_MODEL_4d2f31be201045a6af6ff6ed5f2d6c7d",
        "IPY_MODEL_84a0b15ddb034a2092338bd2b2ed63e9",
        "IPY_MODEL_f4b016746bb84426baca5c76043f6338",
        "IPY_MODEL_bc57fb4c89304c8489fdd40e587aba43",
        "IPY_MODEL_d5837d49afb144f4b62497a1eee8836b",
        "IPY_MODEL_eb3ee6a786584c6d9f2da7657cac6d2a",
        "IPY_MODEL_b080ba2fe8b74e95941fc70e47b839e1",
        "IPY_MODEL_30ad82f4d06f4c2daaa68aeb2a06dd47"
       ],
       "layout": "IPY_MODEL_4f1921a9f6484511a8d14907d72e0e23"
      }
     },
     "208dd43bf82041139b3985a6cc8b89b3": {
      "model_module": "@jupyter-widgets/controls",
      "model_module_version": "1.4.0",
      "model_name": "DescriptionStyleModel",
      "state": {
       "description_width": ""
      }
     },
     "2093b6224f914effb15b3638f1187eb6": {
      "model_module": "@jupyter-widgets/controls",
      "model_module_version": "1.4.0",
      "model_name": "VBoxModel",
      "state": {
       "children": [
        "IPY_MODEL_7e4e7d01deec4ad28120e3a5353c32be"
       ],
       "layout": "IPY_MODEL_60b41869c40d4bd39090be64275ae341"
      }
     },
     "20cb9075c7db4936a347bd454de3b582": {
      "model_module": "@jupyter-widgets/controls",
      "model_module_version": "1.4.0",
      "model_name": "FloatTextModel",
      "state": {
       "layout": "IPY_MODEL_37ff28d148404455adda4f35d2af9e04",
       "step": null,
       "style": "IPY_MODEL_df7ca8e6b4e943ab931b5b3d5c5c261c"
      }
     },
     "212cbb388f3446d9be9fc9ea66b8a4ef": {
      "model_module": "@jupyter-widgets/controls",
      "model_module_version": "1.4.0",
      "model_name": "LabelModel",
      "state": {
       "layout": "IPY_MODEL_53d173abcf8b4242ab7d38a319621de6",
       "style": "IPY_MODEL_7d6a609ca45c4507b010733c5e884ae6"
      }
     },
     "2130431e014a406d94f539f123ff4781": {
      "model_module": "@jupyter-widgets/controls",
      "model_module_version": "1.4.0",
      "model_name": "DescriptionStyleModel",
      "state": {
       "description_width": ""
      }
     },
     "2158a36c2a104d1fae5f6a0fdcbc1e78": {
      "model_module": "@jupyter-widgets/controls",
      "model_module_version": "1.4.0",
      "model_name": "DescriptionStyleModel",
      "state": {
       "description_width": ""
      }
     },
     "217df9fb08f841e0b881ed5ff541226f": {
      "model_module": "@jupyter-widgets/base",
      "model_module_version": "1.1.0",
      "model_name": "LayoutModel",
      "state": {}
     },
     "21959bf2c265467dbf5cac2aaf1816e0": {
      "model_module": "@jupyter-widgets/controls",
      "model_module_version": "1.4.0",
      "model_name": "DescriptionStyleModel",
      "state": {
       "description_width": ""
      }
     },
     "21b672a6f2cb476a859c6c8b77770295": {
      "model_module": "@jupyter-widgets/controls",
      "model_module_version": "1.4.0",
      "model_name": "LabelModel",
      "state": {
       "layout": "IPY_MODEL_50979c39461b47e8bc2fd3cbcdd20729",
       "style": "IPY_MODEL_e25d85fff72e488ea4647079ab727aff",
       "value": "Aa's eigs:"
      }
     },
     "21eabbad715941b99f63fe2a4776bc00": {
      "model_module": "@jupyter-widgets/controls",
      "model_module_version": "1.4.0",
      "model_name": "DropdownModel",
      "state": {
       "_options_labels": [
        "0 complex eigenvalues",
        "2 complex eigenvalues",
        "4 complex eigenvalues"
       ],
       "description": "Aa:",
       "disabled": true,
       "index": 0,
       "layout": "IPY_MODEL_3c6b454038614f7698738e0b9ce8fec4",
       "style": "IPY_MODEL_a9df4eb6b13f4772b2ba3fc42ce6a654"
      }
     },
     "2207ee2b08c4446987f7e6023e83a82b": {
      "model_module": "@jupyter-widgets/controls",
      "model_module_version": "1.4.0",
      "model_name": "FloatTextModel",
      "state": {
       "layout": "IPY_MODEL_b6573d23f34546ba8e2cbf2b6767a8e1",
       "step": null,
       "style": "IPY_MODEL_a2730760d6e340dd9350b3d45baf8886",
       "value": 6244
      }
     },
     "22275515a1f04bd8be66e809c0605552": {
      "model_module": "@jupyter-widgets/controls",
      "model_module_version": "1.4.0",
      "model_name": "HBoxModel",
      "state": {
       "children": [
        "IPY_MODEL_073260c1189244649e842178ffd838db",
        "IPY_MODEL_d5286389e31f44d0a068455235d65e4f",
        "IPY_MODEL_72e8f2c8610c47fd8096faa84eb921f8",
        "IPY_MODEL_eeea2616635d4149881ea9df9f5a14cb",
        "IPY_MODEL_a016d7fcf44b4c7988226f529ae389e7",
        "IPY_MODEL_c52b71d3ecdd45499b48a31dc291647b"
       ],
       "layout": "IPY_MODEL_42984b879b2d416b85cd418d253039ed"
      }
     },
     "22374c75f7794f22a5f88e46fc333e82": {
      "model_module": "@jupyter-widgets/controls",
      "model_module_version": "1.4.0",
      "model_name": "FloatTextModel",
      "state": {
       "layout": "IPY_MODEL_40791dfb3cc8474eb7d54e2189b6b60c",
       "step": null,
       "style": "IPY_MODEL_ca9c829a996f4f7c845b56e8cf922fbd",
       "value": -13.333333333333334
      }
     },
     "226ecd100d9b43bdb15a7c6850582d90": {
      "model_module": "@jupyter-widgets/base",
      "model_module_version": "1.1.0",
      "model_name": "LayoutModel",
      "state": {}
     },
     "2286c81d4a3a4f93a0f895e50a34fe05": {
      "model_module": "@jupyter-widgets/controls",
      "model_module_version": "1.4.0",
      "model_name": "HBoxModel",
      "state": {
       "children": [
        "IPY_MODEL_3c7c916361f84919ace94112d0857e8d",
        "IPY_MODEL_b05b346ca5f149c68313830c8017a0c4",
        "IPY_MODEL_2661ca0349f54248a71dd5a7e08fc265",
        "IPY_MODEL_b55b9482c3094a98a8cf619d230dbc9b",
        "IPY_MODEL_247e86cfc95f417a8bcb4fcfcdbe3a0c"
       ],
       "layout": "IPY_MODEL_fcea6582999f41d3998d812ef0156748"
      }
     },
     "22d7fc6100c34ec68f93bd5a4fa77bce": {
      "model_module": "@jupyter-widgets/base",
      "model_module_version": "1.1.0",
      "model_name": "LayoutModel",
      "state": {}
     },
     "239576f3ce7641f5ab0c6dbab3e5de53": {
      "model_module": "@jupyter-widgets/controls",
      "model_module_version": "1.4.0",
      "model_name": "HBoxModel",
      "state": {
       "children": [
        "IPY_MODEL_8471ba81fc7a4b87adf19a11d05e4af8",
        "IPY_MODEL_b7643201185d4a7eb66c0e9807d1fef7",
        "IPY_MODEL_678800f9d35b4543892ff9d4b8c3009b"
       ],
       "layout": "IPY_MODEL_88608d2bd3564091bb944cd23789d33c"
      }
     },
     "23c82a3754bb4588a4f865849a294568": {
      "model_module": "@jupyter-widgets/base",
      "model_module_version": "1.1.0",
      "model_name": "LayoutModel",
      "state": {}
     },
     "247e86cfc95f417a8bcb4fcfcdbe3a0c": {
      "model_module": "@jupyter-widgets/controls",
      "model_module_version": "1.4.0",
      "model_name": "ButtonModel",
      "state": {
       "description": "Test",
       "icon": "check",
       "layout": "IPY_MODEL_c443bd8d6997435e91d118677137d5b6",
       "style": "IPY_MODEL_8940fedfa6b94154bbecb9b93aa2c282",
       "tooltip": "Test"
      }
     },
     "24dd982e2a6149fa8600278128d390d9": {
      "model_module": "@jupyter-widgets/controls",
      "model_module_version": "1.4.0",
      "model_name": "DescriptionStyleModel",
      "state": {
       "description_width": ""
      }
     },
     "2529e49926cd4f8eb55dcc45178ec8f5": {
      "model_module": "@jupyter-widgets/controls",
      "model_module_version": "1.4.0",
      "model_name": "LabelModel",
      "state": {
       "layout": "IPY_MODEL_9e4fb7fb6cee4738ab762e038ba437ba",
       "style": "IPY_MODEL_728c92f846734c939fcd10d6e4ef68e3"
      }
     },
     "25be128dd26d4cd298247bbbc5bbe06a": {
      "model_module": "@jupyter-widgets/controls",
      "model_module_version": "1.4.0",
      "model_name": "VBoxModel",
      "state": {
       "children": [
        "IPY_MODEL_3de384452e1d48d09b464ccad972e82a",
        "IPY_MODEL_a632af6c959f4150a8552cf2868f1563"
       ],
       "layout": "IPY_MODEL_6f10c2a2cc4f4d5cb7cd361d5fd117bb"
      }
     },
     "25f2ec29d73b41f7a2dc273b04bff9ce": {
      "model_module": "@jupyter-widgets/base",
      "model_module_version": "1.1.0",
      "model_name": "LayoutModel",
      "state": {}
     },
     "26342618d87e467fab891aa5cda81036": {
      "model_module": "@jupyter-widgets/controls",
      "model_module_version": "1.4.0",
      "model_name": "VBoxModel",
      "state": {
       "children": [
        "IPY_MODEL_e675d75bec4b474dba2d599e91931cd2",
        "IPY_MODEL_c4740552de6548d296f8e504838955f6",
        "IPY_MODEL_a91bbca18081424791e2d1ee5f5cce53",
        "IPY_MODEL_e53e8f35bab440248da43e8cba202569",
        "IPY_MODEL_3e64d9fd2e1746cea195f645cdd6949d",
        "IPY_MODEL_fdce31ba7cd54e7599882f799a6e6e33",
        "IPY_MODEL_2286c81d4a3a4f93a0f895e50a34fe05"
       ],
       "layout": "IPY_MODEL_4e55b368a6894071936164175298b092"
      }
     },
     "2661ca0349f54248a71dd5a7e08fc265": {
      "model_module": "@jupyter-widgets/controls",
      "model_module_version": "1.4.0",
      "model_name": "LabelModel",
      "state": {
       "layout": "IPY_MODEL_a2b1153c0b734d19bbbe9e4cb71dfd22",
       "style": "IPY_MODEL_f42e19a237c34b6180896202e734db4b"
      }
     },
     "27173e1eefb9498a854df87487b14839": {
      "model_module": "@jupyter-widgets/controls",
      "model_module_version": "1.4.0",
      "model_name": "DescriptionStyleModel",
      "state": {
       "description_width": ""
      }
     },
     "27928ffdf5e14aceb43b8fca906689b0": {
      "model_module": "@jupyter-widgets/base",
      "model_module_version": "1.1.0",
      "model_name": "LayoutModel",
      "state": {}
     },
     "27bf1cd698f244de864097f2c1026f29": {
      "model_module": "@jupyter-widgets/controls",
      "model_module_version": "1.4.0",
      "model_name": "VBoxModel",
      "state": {
       "children": [
        "IPY_MODEL_bad08b1eee074bc3b71be5dc3ac3cdde",
        "IPY_MODEL_42c5e51edfbf418ea107735f899209ac"
       ],
       "layout": "IPY_MODEL_9b5dafc61d3444c5ad1d3934f7051d68"
      }
     },
     "28145b3fa0c947388e212e724a9d4113": {
      "model_module": "@jupyter-widgets/base",
      "model_module_version": "1.1.0",
      "model_name": "LayoutModel",
      "state": {}
     },
     "2858ff7ee73a49599f2605631773233e": {
      "model_module": "@jupyter-widgets/base",
      "model_module_version": "1.1.0",
      "model_name": "LayoutModel",
      "state": {
       "width": "90px"
      }
     },
     "285f9014036e4d5485f9c4c625564664": {
      "model_module": "@jupyter-widgets/base",
      "model_module_version": "1.1.0",
      "model_name": "LayoutModel",
      "state": {}
     },
     "286c6d083d32468c8da6d9a651c6a4cb": {
      "model_module": "@jupyter-widgets/controls",
      "model_module_version": "1.4.0",
      "model_name": "DescriptionStyleModel",
      "state": {
       "description_width": ""
      }
     },
     "28eeaa6532d64589be32837e44b6116e": {
      "model_module": "@jupyter-widgets/base",
      "model_module_version": "1.1.0",
      "model_name": "LayoutModel",
      "state": {}
     },
     "290c5edce3fd4ba59715d66705fcdd2e": {
      "model_module": "@jupyter-widgets/base",
      "model_module_version": "1.1.0",
      "model_name": "LayoutModel",
      "state": {}
     },
     "296ca86ae0ed488dbcf495fcee09b2d4": {
      "model_module": "@jupyter-widgets/base",
      "model_module_version": "1.1.0",
      "model_name": "LayoutModel",
      "state": {}
     },
     "29a5ffd39c2f4cfbbb7189829553bcde": {
      "model_module": "@jupyter-widgets/controls",
      "model_module_version": "1.4.0",
      "model_name": "LabelModel",
      "state": {
       "layout": "IPY_MODEL_5e837cafb6a844dd926b00ccdd43440d",
       "style": "IPY_MODEL_a2a23603747a44b8b4b99e05ba1585cc"
      }
     },
     "2a4c4be27bb545dd87185740c74ca9e5": {
      "model_module": "@jupyter-widgets/controls",
      "model_module_version": "1.4.0",
      "model_name": "FloatTextModel",
      "state": {
       "layout": "IPY_MODEL_bebe51591c7f4204987782700ddac779",
       "step": null,
       "style": "IPY_MODEL_5e97027777614640b556526766aab474"
      }
     },
     "2ad36e1cd7c6491ebd207e23495eaf5f": {
      "model_module": "@jupyter-widgets/base",
      "model_module_version": "1.1.0",
      "model_name": "LayoutModel",
      "state": {}
     },
     "2b099bf547704ef4a5d5b71337dae026": {
      "model_module": "@jupyter-widgets/controls",
      "model_module_version": "1.4.0",
      "model_name": "DescriptionStyleModel",
      "state": {
       "description_width": ""
      }
     },
     "2b60f2474af2416cb1d242ccc4c6ddb3": {
      "model_module": "@jupyter-widgets/controls",
      "model_module_version": "1.4.0",
      "model_name": "FloatTextModel",
      "state": {
       "disabled": true,
       "layout": "IPY_MODEL_580f187efa7642398bec0a2ae1ea2954",
       "step": null,
       "style": "IPY_MODEL_e2a1c41856004ffc9cd0fc59df88997a"
      }
     },
     "2b684e1c6b254b9fa313b5d68cbac70e": {
      "model_module": "@jupyter-widgets/controls",
      "model_module_version": "1.4.0",
      "model_name": "DescriptionStyleModel",
      "state": {
       "description_width": ""
      }
     },
     "2b9259b59b92447390e7b296c315363e": {
      "model_module": "@jupyter-widgets/controls",
      "model_module_version": "1.4.0",
      "model_name": "DescriptionStyleModel",
      "state": {
       "description_width": ""
      }
     },
     "2b97208d6c1a4fd1966375b6e494aa89": {
      "model_module": "@jupyter-widgets/controls",
      "model_module_version": "1.4.0",
      "model_name": "DescriptionStyleModel",
      "state": {
       "description_width": ""
      }
     },
     "2bc216ef3e2d46c8b160d194b072936c": {
      "model_module": "@jupyter-widgets/controls",
      "model_module_version": "1.4.0",
      "model_name": "DescriptionStyleModel",
      "state": {
       "description_width": ""
      }
     },
     "2bf0392a0f39437ba55867d895e68ba0": {
      "model_module": "@jupyter-widgets/base",
      "model_module_version": "1.1.0",
      "model_name": "LayoutModel",
      "state": {
       "width": "90px"
      }
     },
     "2c4fbbc1825c495c86831ef2286a8258": {
      "model_module": "@jupyter-widgets/base",
      "model_module_version": "1.1.0",
      "model_name": "LayoutModel",
      "state": {}
     },
     "2cb9c1ebcf564a40a34b90a63d030464": {
      "model_module": "@jupyter-widgets/controls",
      "model_module_version": "1.4.0",
      "model_name": "VBoxModel",
      "state": {
       "children": [
        "IPY_MODEL_ee4aa316d9714e888f3c23995436d5e6"
       ],
       "layout": "IPY_MODEL_190c4ee57fdf40c88d86937fbd97fb58"
      }
     },
     "2d2e3175df1d471bbb45873e4da0007e": {
      "model_module": "@jupyter-widgets/output",
      "model_module_version": "1.0.0",
      "model_name": "OutputModel",
      "state": {
       "layout": "IPY_MODEL_4896fb1125f843749d6859f7cbe31ce0",
       "outputs": [
        {
         "name": "stdout",
         "output_type": "stream",
         "text": "The Aa's eigenvalues are: -2.24+2.23j, -2.24+-2.23j, -0.28+0.00j, -0.26+0.32j and -0.26+-0.32j\nThe observer\\s eigenvalues are: -10.00+0.00j and -10.00+0.00j\n"
        }
       ]
      }
     },
     "2d7547f1a371409793d7cc2e5f67d729": {
      "model_module": "@jupyter-widgets/controls",
      "model_module_version": "1.4.0",
      "model_name": "DescriptionStyleModel",
      "state": {
       "description_width": ""
      }
     },
     "2d87c6683db741b78597a76dece4e1fc": {
      "model_module": "@jupyter-widgets/base",
      "model_module_version": "1.1.0",
      "model_name": "LayoutModel",
      "state": {}
     },
     "2e269a8bd2094127a2842dba4c1a9b3e": {
      "model_module": "@jupyter-widgets/base",
      "model_module_version": "1.1.0",
      "model_name": "LayoutModel",
      "state": {
       "height": "0px",
       "width": "0px"
      }
     },
     "2ea7fb5a0dc94b24bc86d1d1361bf465": {
      "model_module": "@jupyter-widgets/controls",
      "model_module_version": "1.4.0",
      "model_name": "HBoxModel",
      "state": {
       "children": [
        "IPY_MODEL_ad7ee93bc69e44238236082c27729623",
        "IPY_MODEL_d5286389e31f44d0a068455235d65e4f",
        "IPY_MODEL_e803009919e34d8eaf8b05eec6e7095e",
        "IPY_MODEL_7e247cd9b0e54844af224969b6c41f28",
        "IPY_MODEL_67eca683eeac421c9b2621d685db768f",
        "IPY_MODEL_c52b71d3ecdd45499b48a31dc291647b"
       ],
       "layout": "IPY_MODEL_59ebaba388dc4577ada44ad233f34d00"
      }
     },
     "2f3e230ec0f74c2db5e3641c839f2213": {
      "model_module": "@jupyter-widgets/controls",
      "model_module_version": "1.4.0",
      "model_name": "LabelModel",
      "state": {
       "layout": "IPY_MODEL_ffe99539e150450583ae31daaf3d9322",
       "style": "IPY_MODEL_1f72a1ea109f4f659eb106984a52f1f6",
       "value": "Ka:"
      }
     },
     "2f66cfe8ed134acfb204b483546b9c8d": {
      "model_module": "@jupyter-widgets/base",
      "model_module_version": "1.1.0",
      "model_name": "LayoutModel",
      "state": {}
     },
     "2f9198fbd0b341cf8d4432260b3fa514": {
      "model_module": "@jupyter-widgets/base",
      "model_module_version": "1.1.0",
      "model_name": "LayoutModel",
      "state": {}
     },
     "2fdeaa5e4bf3400f8579ebce0f57f204": {
      "model_module": "@jupyter-widgets/controls",
      "model_module_version": "1.4.0",
      "model_name": "HBoxModel",
      "state": {
       "children": [
        "IPY_MODEL_912150cf7dd545c9be27f06e2420e9fd"
       ],
       "layout": "IPY_MODEL_9107b64326ee404abe9f223d27d7cb58"
      }
     },
     "307ff552afd445f8aa1f661c0d2a70ab": {
      "model_module": "@jupyter-widgets/controls",
      "model_module_version": "1.4.0",
      "model_name": "DescriptionStyleModel",
      "state": {
       "description_width": ""
      }
     },
     "308eee1c1f63417596941451831e56d9": {
      "model_module": "@jupyter-widgets/base",
      "model_module_version": "1.1.0",
      "model_name": "LayoutModel",
      "state": {}
     },
     "30ad82f4d06f4c2daaa68aeb2a06dd47": {
      "model_module": "@jupyter-widgets/controls",
      "model_module_version": "1.4.0",
      "model_name": "VBoxModel",
      "state": {
       "children": [
        "IPY_MODEL_2fdeaa5e4bf3400f8579ebce0f57f204",
        "IPY_MODEL_6f85f9a4db194b509b78ff37a0f3f35a"
       ],
       "layout": "IPY_MODEL_dce3a2ee8dff4853a756267ce47660ed"
      }
     },
     "30c069a9f1e64b8fa42c228c79bc01d4": {
      "model_module": "@jupyter-widgets/base",
      "model_module_version": "1.1.0",
      "model_name": "LayoutModel",
      "state": {}
     },
     "3155eee3f9a64ff3b2f1ce3c8f7d18cc": {
      "model_module": "@jupyter-widgets/base",
      "model_module_version": "1.1.0",
      "model_name": "LayoutModel",
      "state": {}
     },
     "317ee220faa84115bad387393653c51c": {
      "model_module": "@jupyter-widgets/controls",
      "model_module_version": "1.4.0",
      "model_name": "VBoxModel",
      "state": {
       "children": [
        "IPY_MODEL_7c92b5b89e8b44fc9d282249225339c6"
       ],
       "layout": "IPY_MODEL_a460952c12254a589008273d3b2199a9"
      }
     },
     "31e2e456b00d48d490d2402eb557ec37": {
      "model_module": "@jupyter-widgets/base",
      "model_module_version": "1.1.0",
      "model_name": "LayoutModel",
      "state": {}
     },
     "3223149f706c4dd4ba260fe3446b92e8": {
      "model_module": "@jupyter-widgets/base",
      "model_module_version": "1.1.0",
      "model_name": "LayoutModel",
      "state": {}
     },
     "3233aafe18be46e7a62f972550b668ba": {
      "model_module": "@jupyter-widgets/base",
      "model_module_version": "1.1.0",
      "model_name": "LayoutModel",
      "state": {}
     },
     "32a09d78e0b3416a94dc5ac17c5bb0d0": {
      "model_module": "@jupyter-widgets/controls",
      "model_module_version": "1.4.0",
      "model_name": "DescriptionStyleModel",
      "state": {
       "description_width": ""
      }
     },
     "32b7e93c96b443a3af782fb2be831b3b": {
      "model_module": "@jupyter-widgets/base",
      "model_module_version": "1.1.0",
      "model_name": "LayoutModel",
      "state": {}
     },
     "32c998c40fcb45f29c5f62895b3ae599": {
      "model_module": "@jupyter-widgets/base",
      "model_module_version": "1.1.0",
      "model_name": "LayoutModel",
      "state": {}
     },
     "33330d6c86ba41eab73940f2280afb9a": {
      "model_module": "@jupyter-widgets/controls",
      "model_module_version": "1.4.0",
      "model_name": "FloatTextModel",
      "state": {
       "layout": "IPY_MODEL_3a65fbb08de74d909d5fd1814e6230ac",
       "step": null,
       "style": "IPY_MODEL_754e87a1a8c54875b3b917f54d2c9b58",
       "value": -10
      }
     },
     "33357e60e03e468ca65e98dd38c74e9f": {
      "model_module": "@jupyter-widgets/controls",
      "model_module_version": "1.4.0",
      "model_name": "DescriptionStyleModel",
      "state": {
       "description_width": ""
      }
     },
     "3352f8a79a714a1f8fd27b8fd25f0a52": {
      "model_module": "@jupyter-widgets/base",
      "model_module_version": "1.1.0",
      "model_name": "LayoutModel",
      "state": {}
     },
     "33bfa08767d84ae4a47341c4859c6d8e": {
      "model_module": "@jupyter-widgets/controls",
      "model_module_version": "1.4.0",
      "model_name": "DescriptionStyleModel",
      "state": {
       "description_width": ""
      }
     },
     "33f481d047974c82b48e773a14c5277e": {
      "model_module": "@jupyter-widgets/controls",
      "model_module_version": "1.4.0",
      "model_name": "DescriptionStyleModel",
      "state": {
       "description_width": ""
      }
     },
     "34022ccc088d4f659df4623873bb8338": {
      "model_module": "@jupyter-widgets/base",
      "model_module_version": "1.1.0",
      "model_name": "LayoutModel",
      "state": {}
     },
     "341a67e1961c4efaba9cd46195f445c9": {
      "model_module": "@jupyter-widgets/base",
      "model_module_version": "1.1.0",
      "model_name": "LayoutModel",
      "state": {}
     },
     "3430f1d432be4157a235f074511b7e3e": {
      "model_module": "@jupyter-widgets/controls",
      "model_module_version": "1.4.0",
      "model_name": "DescriptionStyleModel",
      "state": {
       "description_width": ""
      }
     },
     "3560f888f8714d7380f8ec397da7b315": {
      "model_module": "@jupyter-widgets/controls",
      "model_module_version": "1.4.0",
      "model_name": "DescriptionStyleModel",
      "state": {
       "description_width": ""
      }
     },
     "356747a968bb4a48b3b7722036ed8bf4": {
      "model_module": "@jupyter-widgets/controls",
      "model_module_version": "1.4.0",
      "model_name": "FloatTextModel",
      "state": {
       "layout": "IPY_MODEL_2858ff7ee73a49599f2605631773233e",
       "step": null,
       "style": "IPY_MODEL_1fd782fda2594830a668c84ee5d9f831",
       "value": 316
      }
     },
     "360875116090414dbddbecaa83b47342": {
      "model_module": "@jupyter-widgets/controls",
      "model_module_version": "1.4.0",
      "model_name": "LabelModel",
      "state": {
       "layout": "IPY_MODEL_851b1adaff55422a86338f42883ee062",
       "style": "IPY_MODEL_ff14f4f3069442e09be6386b056e4f65"
      }
     },
     "361e3aca296d43a68f658aa71fa8a732": {
      "model_module": "@jupyter-widgets/controls",
      "model_module_version": "1.4.0",
      "model_name": "FloatTextModel",
      "state": {
       "layout": "IPY_MODEL_caf38c4519e040de9884ca0747ab7001",
       "step": null,
       "style": "IPY_MODEL_bf796660e99f47128f6d0e118966cbdd"
      }
     },
     "363c1e3703ab462a93ff019e7bc417eb": {
      "model_module": "@jupyter-widgets/base",
      "model_module_version": "1.1.0",
      "model_name": "LayoutModel",
      "state": {}
     },
     "364239ea052146749c210d876d457052": {
      "model_module": "@jupyter-widgets/base",
      "model_module_version": "1.1.0",
      "model_name": "LayoutModel",
      "state": {}
     },
     "36ac1087021c41399d70cc006def027e": {
      "model_module": "@jupyter-widgets/controls",
      "model_module_version": "1.4.0",
      "model_name": "FloatTextModel",
      "state": {
       "layout": "IPY_MODEL_3dae996603af49d89a680674a3ee2aec",
       "step": null,
       "style": "IPY_MODEL_33f481d047974c82b48e773a14c5277e"
      }
     },
     "36b4c1c517ff44af830b4f3695cbd377": {
      "model_module": "@jupyter-widgets/controls",
      "model_module_version": "1.4.0",
      "model_name": "ButtonModel",
      "state": {
       "description": "Test",
       "icon": "check",
       "layout": "IPY_MODEL_4d59d06b755e49e1ac0c6d996a44da1e",
       "style": "IPY_MODEL_0d0a5a3b1371435bbf4f922a1c0b4595",
       "tooltip": "Test"
      }
     },
     "36b6b604c9464f058cab5c96b0e7fd11": {
      "model_module": "@jupyter-widgets/base",
      "model_module_version": "1.1.0",
      "model_name": "LayoutModel",
      "state": {}
     },
     "370ecf9131524d678e6b68bd2392087b": {
      "model_module": "@jupyter-widgets/controls",
      "model_module_version": "1.4.0",
      "model_name": "DescriptionStyleModel",
      "state": {
       "description_width": ""
      }
     },
     "37327690f2424d65b8d49eece9eaf6a9": {
      "model_module": "@jupyter-widgets/base",
      "model_module_version": "1.1.0",
      "model_name": "LayoutModel",
      "state": {}
     },
     "3737cb1f394e4b8d993a13254b0b1c5e": {
      "model_module": "@jupyter-widgets/base",
      "model_module_version": "1.1.0",
      "model_name": "LayoutModel",
      "state": {}
     },
     "3737cb895e114ff3a7264b637d8ad44b": {
      "model_module": "@jupyter-widgets/controls",
      "model_module_version": "1.4.0",
      "model_name": "DescriptionStyleModel",
      "state": {
       "description_width": ""
      }
     },
     "375787cc30e24e26abe571c28c5b73b7": {
      "model_module": "@jupyter-widgets/controls",
      "model_module_version": "1.4.0",
      "model_name": "DescriptionStyleModel",
      "state": {
       "description_width": ""
      }
     },
     "37d23d6207874b9db8948c62f4cd0835": {
      "model_module": "@jupyter-widgets/base",
      "model_module_version": "1.1.0",
      "model_name": "LayoutModel",
      "state": {}
     },
     "37d8d5e4068d43cda833bfa5b2deb3d6": {
      "model_module": "@jupyter-widgets/controls",
      "model_module_version": "1.4.0",
      "model_name": "VBoxModel",
      "state": {
       "children": [
        "IPY_MODEL_895850746fc047c089a3bab1559d9f9d",
        "IPY_MODEL_ebf0f598131a450587d040772038e710",
        "IPY_MODEL_3d9418f5694c40a68a7dbd749231b227",
        "IPY_MODEL_ad34d26874a24d2c89c2f16a3cf953ee",
        "IPY_MODEL_50da8e9b3fe449d8bd0f82c813a0d190",
        "IPY_MODEL_4490b6a17a204103a401af35e7fb2214",
        "IPY_MODEL_e946f509a27349d3ad44c1af4e53fc3a"
       ],
       "layout": "IPY_MODEL_ae665ed5b04d42f1b2b624cfbc726e6f"
      }
     },
     "37e3d4ef915442e587ab592c14598b61": {
      "model_module": "@jupyter-widgets/base",
      "model_module_version": "1.1.0",
      "model_name": "LayoutModel",
      "state": {
       "height": "0px",
       "width": "0px"
      }
     },
     "37ecefc90ca24246a5e1f966458ec837": {
      "model_module": "@jupyter-widgets/base",
      "model_module_version": "1.1.0",
      "model_name": "LayoutModel",
      "state": {}
     },
     "37ff28d148404455adda4f35d2af9e04": {
      "model_module": "@jupyter-widgets/base",
      "model_module_version": "1.1.0",
      "model_name": "LayoutModel",
      "state": {
       "width": "90px"
      }
     },
     "3804bdbe25a84136b554ce66d5068797": {
      "model_module": "@jupyter-widgets/controls",
      "model_module_version": "1.4.0",
      "model_name": "VBoxModel",
      "state": {
       "children": [
        "IPY_MODEL_61c6a8a15add4ded9fd4e987a755ab38",
        "IPY_MODEL_d086c2b805214a99ac336e6b38227e34",
        "IPY_MODEL_fb4bc4d4d3a648d7a6a9df184cce12b6",
        "IPY_MODEL_9a30578514a043dc80c647d4b5ab588d",
        "IPY_MODEL_8a079245fbbe4ddf920422f8deed31bb",
        "IPY_MODEL_5d2586944fee45ffa773e7d3ad5c2d02",
        "IPY_MODEL_3fb90a3282a44bb1b6810e5cba75ebc1"
       ],
       "layout": "IPY_MODEL_70d8d323e1e7445ea9fe3e32ee56bd7f"
      }
     },
     "38105898ff504547a93e80b47afac00d": {
      "model_module": "@jupyter-widgets/controls",
      "model_module_version": "1.4.0",
      "model_name": "DescriptionStyleModel",
      "state": {
       "description_width": ""
      }
     },
     "3867427d28c94cc5bb52fa78e2eae3e1": {
      "model_module": "@jupyter-widgets/base",
      "model_module_version": "1.1.0",
      "model_name": "LayoutModel",
      "state": {}
     },
     "3882f6bf357a4adab0cd5691b4c6c866": {
      "model_module": "@jupyter-widgets/base",
      "model_module_version": "1.1.0",
      "model_name": "LayoutModel",
      "state": {}
     },
     "395984fd869345c3adad0f2e04cc2f9d": {
      "model_module": "@jupyter-widgets/base",
      "model_module_version": "1.1.0",
      "model_name": "LayoutModel",
      "state": {}
     },
     "3967a131ab114f1d903a90585ec37c1b": {
      "model_module": "@jupyter-widgets/controls",
      "model_module_version": "1.4.0",
      "model_name": "FloatTextModel",
      "state": {
       "layout": "IPY_MODEL_8bfd28108db14cf7af63c45afb29a893",
       "step": null,
       "style": "IPY_MODEL_ffd9845674134373a41db40934c7be0d",
       "value": -0.5
      }
     },
     "3a5b38eedfc246fb8c78fd0753841d63": {
      "model_module": "@jupyter-widgets/base",
      "model_module_version": "1.1.0",
      "model_name": "LayoutModel",
      "state": {}
     },
     "3a65fbb08de74d909d5fd1814e6230ac": {
      "model_module": "@jupyter-widgets/base",
      "model_module_version": "1.1.0",
      "model_name": "LayoutModel",
      "state": {
       "width": "90px"
      }
     },
     "3a6b565f3ce4429b83a21e3d564ff894": {
      "model_module": "@jupyter-widgets/controls",
      "model_module_version": "1.4.0",
      "model_name": "DescriptionStyleModel",
      "state": {
       "description_width": ""
      }
     },
     "3a78eccc26a74ba981dce7448a66b11a": {
      "model_module": "@jupyter-widgets/base",
      "model_module_version": "1.1.0",
      "model_name": "LayoutModel",
      "state": {}
     },
     "3ac1014816f74fb1b52fa1463185a00e": {
      "model_module": "@jupyter-widgets/controls",
      "model_module_version": "1.4.0",
      "model_name": "DescriptionStyleModel",
      "state": {
       "description_width": ""
      }
     },
     "3ae048ad15b44938b8b8c0d5af7219e8": {
      "model_module": "@jupyter-widgets/controls",
      "model_module_version": "1.4.0",
      "model_name": "LabelModel",
      "state": {
       "layout": "IPY_MODEL_60cdc74037934e1eb900c2994a7fd6fa",
       "style": "IPY_MODEL_dc452b89802e4d66ab5371b81f4bb4a2"
      }
     },
     "3b285e8c99594a9d846cf082b34290f0": {
      "model_module": "@jupyter-widgets/base",
      "model_module_version": "1.1.0",
      "model_name": "LayoutModel",
      "state": {
       "width": "90px"
      }
     },
     "3b2defae62294f9bbd4aaf5e793002c0": {
      "model_module": "@jupyter-widgets/controls",
      "model_module_version": "1.4.0",
      "model_name": "ButtonStyleModel",
      "state": {}
     },
     "3b4c40f6dee64918a393d35056e0c706": {
      "model_module": "@jupyter-widgets/base",
      "model_module_version": "1.1.0",
      "model_name": "LayoutModel",
      "state": {}
     },
     "3b7b8cd8f40f46f7a6af377e08229a20": {
      "model_module": "@jupyter-widgets/base",
      "model_module_version": "1.1.0",
      "model_name": "LayoutModel",
      "state": {}
     },
     "3bcadc2f01354f5ebada7a948f377681": {
      "model_module": "@jupyter-widgets/controls",
      "model_module_version": "1.4.0",
      "model_name": "DescriptionStyleModel",
      "state": {
       "description_width": ""
      }
     },
     "3bf317625e154845b6a9f8e0b72e9040": {
      "model_module": "@jupyter-widgets/base",
      "model_module_version": "1.1.0",
      "model_name": "LayoutModel",
      "state": {}
     },
     "3c6b454038614f7698738e0b9ce8fec4": {
      "model_module": "@jupyter-widgets/base",
      "model_module_version": "1.1.0",
      "model_name": "LayoutModel",
      "state": {}
     },
     "3c7c916361f84919ace94112d0857e8d": {
      "model_module": "@jupyter-widgets/controls",
      "model_module_version": "1.4.0",
      "model_name": "FloatSliderModel",
      "state": {
       "continuous_update": false,
       "description": "$y_d$:",
       "layout": "IPY_MODEL_3e22cf6d526e4976852d76dee6c4afee",
       "max": 10,
       "readout_format": ".1f",
       "step": 0.1,
       "style": "IPY_MODEL_8ef057c6d9fc4db8b615a215a2b5a000",
       "value": 10
      }
     },
     "3ce4a805f8a54027b572fe652407fe63": {
      "model_module": "@jupyter-widgets/controls",
      "model_module_version": "1.4.0",
      "model_name": "DescriptionStyleModel",
      "state": {
       "description_width": ""
      }
     },
     "3d1b0136b7ff46baa784387eceafc392": {
      "model_module": "@jupyter-widgets/controls",
      "model_module_version": "1.4.0",
      "model_name": "DescriptionStyleModel",
      "state": {
       "description_width": ""
      }
     },
     "3d7b33626e8645189c174b708efd6e17": {
      "model_module": "@jupyter-widgets/base",
      "model_module_version": "1.1.0",
      "model_name": "LayoutModel",
      "state": {
       "width": "90px"
      }
     },
     "3d9418f5694c40a68a7dbd749231b227": {
      "model_module": "@jupyter-widgets/controls",
      "model_module_version": "1.4.0",
      "model_name": "HBoxModel",
      "state": {
       "children": [
        "IPY_MODEL_fa779ef2a19142449b6539ff5c0afb2a",
        "IPY_MODEL_d5286389e31f44d0a068455235d65e4f",
        "IPY_MODEL_7ffe130777e247649d8ed2b515a9ca8b",
        "IPY_MODEL_4a70bf95f528481b8ff74c3afd8143cc",
        "IPY_MODEL_7293c820e63d4fa5a06348c87ef770e1",
        "IPY_MODEL_c52b71d3ecdd45499b48a31dc291647b"
       ],
       "layout": "IPY_MODEL_c362d636f1984bdd87b4377f49a3dfad"
      }
     },
     "3dae996603af49d89a680674a3ee2aec": {
      "model_module": "@jupyter-widgets/base",
      "model_module_version": "1.1.0",
      "model_name": "LayoutModel",
      "state": {
       "width": "90px"
      }
     },
     "3de384452e1d48d09b464ccad972e82a": {
      "model_module": "@jupyter-widgets/controls",
      "model_module_version": "1.4.0",
      "model_name": "HBoxModel",
      "state": {
       "children": [
        "IPY_MODEL_481707a8f18e4ad6925355876653507c"
       ],
       "layout": "IPY_MODEL_b96be3625e894b758c148ca1a3566d8e"
      }
     },
     "3e22cf6d526e4976852d76dee6c4afee": {
      "model_module": "@jupyter-widgets/base",
      "model_module_version": "1.1.0",
      "model_name": "LayoutModel",
      "state": {}
     },
     "3e59c5655b3f41d1aaf0f24e30cdd54c": {
      "model_module": "@jupyter-widgets/base",
      "model_module_version": "1.1.0",
      "model_name": "LayoutModel",
      "state": {}
     },
     "3e64d9fd2e1746cea195f645cdd6949d": {
      "model_module": "@jupyter-widgets/controls",
      "model_module_version": "1.4.0",
      "model_name": "HBoxModel",
      "state": {
       "children": [
        "IPY_MODEL_5b85b3143bdd4151baf0b1b98839a627",
        "IPY_MODEL_2093b6224f914effb15b3638f1187eb6",
        "IPY_MODEL_5de9a778360a49198d5e6e1e23bc58d3",
        "IPY_MODEL_87deb80624884ebfa254f62114e25930",
        "IPY_MODEL_2cb9c1ebcf564a40a34b90a63d030464",
        "IPY_MODEL_d7419d00e6774ceb8dbccfc5cf652bfd",
        "IPY_MODEL_1244287ff9b84bed9a68f406b6271d4a",
        "IPY_MODEL_fe452383f5644078905bb160d1205007",
        "IPY_MODEL_bf60fd5a02a84f84b747fdca371c5248",
        "IPY_MODEL_5f6179517cf942c9a57020ef64c975a6",
        "IPY_MODEL_27bf1cd698f244de864097f2c1026f29"
       ],
       "layout": "IPY_MODEL_3f412669281442aaa4b98dd280741c00"
      }
     },
     "3e952182f68c4e9ab7e75f184898c9a2": {
      "model_module": "@jupyter-widgets/controls",
      "model_module_version": "1.4.0",
      "model_name": "DescriptionStyleModel",
      "state": {
       "description_width": ""
      }
     },
     "3f1ae226f21a4f758daa4a0993a2a3de": {
      "model_module": "@jupyter-widgets/controls",
      "model_module_version": "1.4.0",
      "model_name": "HBoxModel",
      "state": {
       "children": [
        "IPY_MODEL_008c5b54603f4375ad913b4e47b37a95",
        "IPY_MODEL_7a2c5d36b676498d86709b794261b2e5",
        "IPY_MODEL_3f8d6e010056475ba09296b2de5793c4",
        "IPY_MODEL_edb98a49aed04ce2b99d3a4898054f4d",
        "IPY_MODEL_aec6d0f1383e406296db3be22810ad9c",
        "IPY_MODEL_9e0c7264530f48d8a6e52208066546ff"
       ],
       "layout": "IPY_MODEL_34022ccc088d4f659df4623873bb8338"
      }
     },
     "3f412669281442aaa4b98dd280741c00": {
      "model_module": "@jupyter-widgets/base",
      "model_module_version": "1.1.0",
      "model_name": "LayoutModel",
      "state": {}
     },
     "3f8d6e010056475ba09296b2de5793c4": {
      "model_module": "@jupyter-widgets/controls",
      "model_module_version": "1.4.0",
      "model_name": "LabelModel",
      "state": {
       "layout": "IPY_MODEL_014b81ae692c4db1abb4de5ebe4c554c",
       "style": "IPY_MODEL_ac8c59c13a5f406eab4c4e5831aab8c5"
      }
     },
     "3fb718490de04afca4411b2acf4987e6": {
      "model_module": "@jupyter-widgets/base",
      "model_module_version": "1.1.0",
      "model_name": "LayoutModel",
      "state": {}
     },
     "3fb90a3282a44bb1b6810e5cba75ebc1": {
      "model_module": "@jupyter-widgets/controls",
      "model_module_version": "1.4.0",
      "model_name": "HBoxModel",
      "state": {
       "children": [
        "IPY_MODEL_0f26c8afca96402aa66b81bc451a3559",
        "IPY_MODEL_cd02878c94fa4261b5a2f0b343ac62bb",
        "IPY_MODEL_29a5ffd39c2f4cfbbb7189829553bcde",
        "IPY_MODEL_ebb77dc0261f4b568809a80141cc5e95",
        "IPY_MODEL_4b259b5b03184b90a070f5f191d66806"
       ],
       "layout": "IPY_MODEL_6a7a36202cba49eb8397c164b18c614b"
      }
     },
     "3fcf20770fa04a8f99220ecff57a919c": {
      "model_module": "@jupyter-widgets/controls",
      "model_module_version": "1.4.0",
      "model_name": "FloatTextModel",
      "state": {
       "layout": "IPY_MODEL_ed2d8c9e95644c48982990fdeaf43bbe",
       "step": null,
       "style": "IPY_MODEL_03aea743d5e74fc58ade7e8bd43412e5",
       "value": 2225
      }
     },
     "3fe63ac60ab64ded984e9abeeff7abf5": {
      "model_module": "@jupyter-widgets/controls",
      "model_module_version": "1.4.0",
      "model_name": "VBoxModel",
      "state": {
       "children": [
        "IPY_MODEL_1205db0490524afe8643ea75eac4d13f",
        "IPY_MODEL_f342b0e683a541f88af64b284dcd2a0f"
       ],
       "layout": "IPY_MODEL_0deef1dc66c5431fa7af43270cd27cbe"
      }
     },
     "3ff22a9f887a4c8fa9623d0ab0ef1724": {
      "model_module": "@jupyter-widgets/controls",
      "model_module_version": "1.4.0",
      "model_name": "DescriptionStyleModel",
      "state": {
       "description_width": ""
      }
     },
     "4022fdb8345a466281cb4fb4e0f5a38e": {
      "model_module": "@jupyter-widgets/controls",
      "model_module_version": "1.4.0",
      "model_name": "LabelModel",
      "state": {
       "layout": "IPY_MODEL_9556274e90b64a4bb51b8e1a2eb0462e",
       "style": "IPY_MODEL_e07f8d2fd0284db8ac22cb54ea409be1"
      }
     },
     "402c9bde36d74803b3e44a1d9d24a7bf": {
      "model_module": "@jupyter-widgets/controls",
      "model_module_version": "1.4.0",
      "model_name": "FloatTextModel",
      "state": {
       "disabled": true,
       "layout": "IPY_MODEL_1c3b4a0e02094103b9696eab44638dc6",
       "step": null,
       "style": "IPY_MODEL_78e89fda875349468498d5f62b2914a0",
       "value": -0.6
      }
     },
     "40791dfb3cc8474eb7d54e2189b6b60c": {
      "model_module": "@jupyter-widgets/base",
      "model_module_version": "1.1.0",
      "model_name": "LayoutModel",
      "state": {
       "width": "90px"
      }
     },
     "409aba40e57f41d5bb4f1379e4152d4e": {
      "model_module": "@jupyter-widgets/base",
      "model_module_version": "1.1.0",
      "model_name": "LayoutModel",
      "state": {}
     },
     "4112fde42af14183bbd1dc0f0588e5c3": {
      "model_module": "@jupyter-widgets/controls",
      "model_module_version": "1.4.0",
      "model_name": "DescriptionStyleModel",
      "state": {
       "description_width": ""
      }
     },
     "4115501ee8ec4fccaf278e05a7084396": {
      "model_module": "@jupyter-widgets/controls",
      "model_module_version": "1.4.0",
      "model_name": "HBoxModel",
      "state": {
       "children": [
        "IPY_MODEL_79f34c11930f44ef87434b7bbc4a62a2"
       ],
       "layout": "IPY_MODEL_25f2ec29d73b41f7a2dc273b04bff9ce"
      }
     },
     "414f93245d2d4a25887f5123fa09bf44": {
      "model_module": "@jupyter-widgets/controls",
      "model_module_version": "1.4.0",
      "model_name": "LabelModel",
      "state": {
       "layout": "IPY_MODEL_bcfa49fa72d34a4ea767dcb731e0630f",
       "style": "IPY_MODEL_cfac6a49ddc04836ab8776cb1d3b44a6",
       "value": "Aa's eigs:"
      }
     },
     "416b8f7b106846d0870026946b4f6b5a": {
      "model_module": "@jupyter-widgets/controls",
      "model_module_version": "1.4.0",
      "model_name": "DropdownModel",
      "state": {
       "_options_labels": [
        "0 complex eigenvalues",
        "2 complex eigenvalues"
       ],
       "description": "Aobs:",
       "disabled": true,
       "index": 0,
       "layout": "IPY_MODEL_77216fe31d084b58b18e146e8a6b8be1",
       "style": "IPY_MODEL_2d7547f1a371409793d7cc2e5f67d729"
      }
     },
     "417d4660c0684d73b14d876b04be9db0": {
      "model_module": "@jupyter-widgets/controls",
      "model_module_version": "1.4.0",
      "model_name": "LabelModel",
      "state": {
       "layout": "IPY_MODEL_5af2b1372db94701816de9d570d6af0d",
       "style": "IPY_MODEL_0c95743624f3406b94fdf24395f109ea",
       "value": "La:"
      }
     },
     "4255965f2e914f35bb60cb680011283c": {
      "model_module": "@jupyter-widgets/controls",
      "model_module_version": "1.4.0",
      "model_name": "DescriptionStyleModel",
      "state": {
       "description_width": ""
      }
     },
     "4270a3ab84d24c2a87739c20e2005d65": {
      "model_module": "@jupyter-widgets/base",
      "model_module_version": "1.1.0",
      "model_name": "LayoutModel",
      "state": {}
     },
     "4278af2ea2454105a0438aceb142c914": {
      "model_module": "@jupyter-widgets/controls",
      "model_module_version": "1.4.0",
      "model_name": "DescriptionStyleModel",
      "state": {
       "description_width": ""
      }
     },
     "427a705fa0bf44fca560fc285307c61f": {
      "model_module": "@jupyter-widgets/controls",
      "model_module_version": "1.4.0",
      "model_name": "LabelModel",
      "state": {
       "layout": "IPY_MODEL_31e2e456b00d48d490d2402eb557ec37",
       "style": "IPY_MODEL_375787cc30e24e26abe571c28c5b73b7"
      }
     },
     "4290b132dc4242809a5d43b88a892c72": {
      "model_module": "@jupyter-widgets/base",
      "model_module_version": "1.1.0",
      "model_name": "LayoutModel",
      "state": {}
     },
     "42984b879b2d416b85cd418d253039ed": {
      "model_module": "@jupyter-widgets/base",
      "model_module_version": "1.1.0",
      "model_name": "LayoutModel",
      "state": {}
     },
     "42a057f2f2d54c2580b4c3ae90d7ce09": {
      "model_module": "@jupyter-widgets/controls",
      "model_module_version": "1.4.0",
      "model_name": "LabelModel",
      "state": {
       "layout": "IPY_MODEL_4b53f46309d04356a1f1b6d49a909ef5",
       "style": "IPY_MODEL_8b87c03ea80e4a8496fef495518e5222"
      }
     },
     "42c5e51edfbf418ea107735f899209ac": {
      "model_module": "@jupyter-widgets/controls",
      "model_module_version": "1.4.0",
      "model_name": "HBoxModel",
      "state": {
       "children": [
        "IPY_MODEL_2b60f2474af2416cb1d242ccc4c6ddb3"
       ],
       "layout": "IPY_MODEL_ca355890e53a4b8bb1d0575dac3c1bfc"
      }
     },
     "43501d55a4fd47a6b16ef8b1b85e7d65": {
      "model_module": "@jupyter-widgets/base",
      "model_module_version": "1.1.0",
      "model_name": "LayoutModel",
      "state": {
       "width": "90px"
      }
     },
     "439dd39502fa4ee18378ac424aae7331": {
      "model_module": "@jupyter-widgets/controls",
      "model_module_version": "1.4.0",
      "model_name": "DescriptionStyleModel",
      "state": {
       "description_width": ""
      }
     },
     "43a0c9eb7bef445fa7bd7a3b3fc8b432": {
      "model_module": "@jupyter-widgets/base",
      "model_module_version": "1.1.0",
      "model_name": "LayoutModel",
      "state": {
       "width": "90px"
      }
     },
     "4490b6a17a204103a401af35e7fb2214": {
      "model_module": "@jupyter-widgets/controls",
      "model_module_version": "1.4.0",
      "model_name": "LabelModel",
      "state": {
       "layout": "IPY_MODEL_395984fd869345c3adad0f2e04cc2f9d",
       "style": "IPY_MODEL_1513832cf7b54c038400c36ff44ca0ef"
      }
     },
     "44ebb6efb3744575a1946cfd67255633": {
      "model_module": "@jupyter-widgets/controls",
      "model_module_version": "1.4.0",
      "model_name": "FloatTextModel",
      "state": {
       "layout": "IPY_MODEL_4cd17dd1a06d4b90ba7d4bbc88627449",
       "step": null,
       "style": "IPY_MODEL_3d1b0136b7ff46baa784387eceafc392"
      }
     },
     "45252723ac28472a970b95e3e6e933d5": {
      "model_module": "@jupyter-widgets/controls",
      "model_module_version": "1.4.0",
      "model_name": "DescriptionStyleModel",
      "state": {
       "description_width": ""
      }
     },
     "45c69bfc454c48e597a023be2fcf2369": {
      "model_module": "@jupyter-widgets/base",
      "model_module_version": "1.1.0",
      "model_name": "LayoutModel",
      "state": {}
     },
     "460300bb7cfb4e759ba669fd07f3b123": {
      "model_module": "@jupyter-widgets/base",
      "model_module_version": "1.1.0",
      "model_name": "LayoutModel",
      "state": {}
     },
     "461957a3da1741a79e15d991cb7034b3": {
      "model_module": "@jupyter-widgets/base",
      "model_module_version": "1.1.0",
      "model_name": "LayoutModel",
      "state": {
       "width": "90px"
      }
     },
     "472fafbcc5de4d8bbdea2c2f162640a3": {
      "model_module": "@jupyter-widgets/controls",
      "model_module_version": "1.4.0",
      "model_name": "LabelModel",
      "state": {
       "layout": "IPY_MODEL_4c9623fc7bca47c2936c988083e1ad51",
       "style": "IPY_MODEL_a35a317a47864a4bbdf20780013db7d8"
      }
     },
     "47598cf9791a4324b5119eb4da288b2f": {
      "model_module": "@jupyter-widgets/controls",
      "model_module_version": "1.4.0",
      "model_name": "DescriptionStyleModel",
      "state": {
       "description_width": ""
      }
     },
     "47aecddedfd64f07a36ec50b49227ec5": {
      "model_module": "@jupyter-widgets/base",
      "model_module_version": "1.1.0",
      "model_name": "LayoutModel",
      "state": {}
     },
     "480976956b5e49b29e0a8fb9ddc1311d": {
      "model_module": "@jupyter-widgets/base",
      "model_module_version": "1.1.0",
      "model_name": "LayoutModel",
      "state": {}
     },
     "481707a8f18e4ad6925355876653507c": {
      "model_module": "@jupyter-widgets/controls",
      "model_module_version": "1.4.0",
      "model_name": "FloatTextModel",
      "state": {
       "layout": "IPY_MODEL_43a0c9eb7bef445fa7bd7a3b3fc8b432",
       "step": null,
       "style": "IPY_MODEL_a428fbacff1a4a828a289047af365d41",
       "value": -10
      }
     },
     "4896fb1125f843749d6859f7cbe31ce0": {
      "model_module": "@jupyter-widgets/base",
      "model_module_version": "1.1.0",
      "model_name": "LayoutModel",
      "state": {}
     },
     "491cd4b112cf45e3aba71d0563e0768d": {
      "model_module": "@jupyter-widgets/base",
      "model_module_version": "1.1.0",
      "model_name": "LayoutModel",
      "state": {}
     },
     "4938fabbd6f84e558cdf38f0d008750d": {
      "model_module": "@jupyter-widgets/controls",
      "model_module_version": "1.4.0",
      "model_name": "FloatTextModel",
      "state": {
       "layout": "IPY_MODEL_cf7241c197e44ea78648dd7ece9cf032",
       "step": null,
       "style": "IPY_MODEL_f8067f8c672e4164a2165c0319b30ee6"
      }
     },
     "49bb0a8604b14c99a08b92915c5fc8d4": {
      "model_module": "@jupyter-widgets/base",
      "model_module_version": "1.1.0",
      "model_name": "LayoutModel",
      "state": {}
     },
     "4a170c180505407b9ea430c1cd492f2c": {
      "model_module": "@jupyter-widgets/base",
      "model_module_version": "1.1.0",
      "model_name": "LayoutModel",
      "state": {
       "width": "90px"
      }
     },
     "4a54fbb8de4440d9b0e3819d4cf15310": {
      "model_module": "@jupyter-widgets/controls",
      "model_module_version": "1.4.0",
      "model_name": "FloatTextModel",
      "state": {
       "layout": "IPY_MODEL_5a0c6b92ed2c43edb23183d8dacce8ff",
       "step": null,
       "style": "IPY_MODEL_1813f2fd50cb46aa9b888f8b5f8af0b2"
      }
     },
     "4a70bf95f528481b8ff74c3afd8143cc": {
      "model_module": "@jupyter-widgets/controls",
      "model_module_version": "1.4.0",
      "model_name": "LabelModel",
      "state": {
       "layout": "IPY_MODEL_64201b9e59164194b1346370c1c83cd4",
       "style": "IPY_MODEL_7bcae1bb58ed4f80aad0ed229811dd6f"
      }
     },
     "4b0f91c2788d4bc5b8ba3927f6b2b871": {
      "model_module": "@jupyter-widgets/controls",
      "model_module_version": "1.4.0",
      "model_name": "DropdownModel",
      "state": {
       "_options_labels": [
        "Set Ka and La",
        "Set the eigenvalues"
       ],
       "index": 0,
       "layout": "IPY_MODEL_13b8b4e1c72d4263a37e6d0db2857f38",
       "style": "IPY_MODEL_1499b17a4da64101a9270bd56fcd4356"
      }
     },
     "4b259b5b03184b90a070f5f191d66806": {
      "model_module": "@jupyter-widgets/controls",
      "model_module_version": "1.4.0",
      "model_name": "ButtonModel",
      "state": {
       "description": "Test",
       "icon": "check",
       "layout": "IPY_MODEL_fe99c96f7d5a47c689cfa08b35724327",
       "style": "IPY_MODEL_4cbc98ef5e9744df9a5215ea6d5c5a92",
       "tooltip": "Test"
      }
     },
     "4b53f46309d04356a1f1b6d49a909ef5": {
      "model_module": "@jupyter-widgets/base",
      "model_module_version": "1.1.0",
      "model_name": "LayoutModel",
      "state": {}
     },
     "4b6ed1f5b4e8433a9a93b2f387086660": {
      "model_module": "@jupyter-widgets/controls",
      "model_module_version": "1.4.0",
      "model_name": "HBoxModel",
      "state": {
       "children": [
        "IPY_MODEL_9d2107f7a8294bb5a1e31ad3096c399e",
        "IPY_MODEL_826635bf7c224e2fa9e2222e72dbf5a4",
        "IPY_MODEL_4def2e9f87e44960a0c9ad77a3d7dd0f"
       ],
       "layout": "IPY_MODEL_ff23ed97b5014a51ac0d66101e37cbb1"
      }
     },
     "4b7fe40ee3a5498084895bbb1dede424": {
      "model_module": "@jupyter-widgets/base",
      "model_module_version": "1.1.0",
      "model_name": "LayoutModel",
      "state": {
       "width": "90px"
      }
     },
     "4bdfb3011517401eace9dacb974b719c": {
      "model_module": "@jupyter-widgets/controls",
      "model_module_version": "1.4.0",
      "model_name": "DescriptionStyleModel",
      "state": {
       "description_width": ""
      }
     },
     "4c2c1962f1e24a4ead7d36ae79cc2236": {
      "model_module": "@jupyter-widgets/controls",
      "model_module_version": "1.4.0",
      "model_name": "DescriptionStyleModel",
      "state": {
       "description_width": ""
      }
     },
     "4c44c42077ed435898d338ddb0ba0436": {
      "model_module": "@jupyter-widgets/controls",
      "model_module_version": "1.4.0",
      "model_name": "DescriptionStyleModel",
      "state": {
       "description_width": ""
      }
     },
     "4c4a53b62fd44b28b1cce41d159b39bf": {
      "model_module": "@jupyter-widgets/base",
      "model_module_version": "1.1.0",
      "model_name": "LayoutModel",
      "state": {}
     },
     "4c88f970164e400a9fdb30163e7153f1": {
      "model_module": "@jupyter-widgets/controls",
      "model_module_version": "1.4.0",
      "model_name": "DescriptionStyleModel",
      "state": {
       "description_width": ""
      }
     },
     "4c8e37c41a2d416a8c037d763d6ba024": {
      "model_module": "@jupyter-widgets/controls",
      "model_module_version": "1.4.0",
      "model_name": "VBoxModel",
      "state": {
       "children": [
        "IPY_MODEL_ee6a33ca9388418faed0c5e29b4b9ad3"
       ],
       "layout": "IPY_MODEL_01bcc377646640c7a87abaf47a341335"
      }
     },
     "4c9623fc7bca47c2936c988083e1ad51": {
      "model_module": "@jupyter-widgets/base",
      "model_module_version": "1.1.0",
      "model_name": "LayoutModel",
      "state": {}
     },
     "4cb46cd0fbe245c188dd480c40e5a1d1": {
      "model_module": "@jupyter-widgets/base",
      "model_module_version": "1.1.0",
      "model_name": "LayoutModel",
      "state": {}
     },
     "4cbc98ef5e9744df9a5215ea6d5c5a92": {
      "model_module": "@jupyter-widgets/controls",
      "model_module_version": "1.4.0",
      "model_name": "ButtonStyleModel",
      "state": {}
     },
     "4cd17dd1a06d4b90ba7d4bbc88627449": {
      "model_module": "@jupyter-widgets/base",
      "model_module_version": "1.1.0",
      "model_name": "LayoutModel",
      "state": {
       "height": "0px",
       "width": "0px"
      }
     },
     "4d2f31be201045a6af6ff6ed5f2d6c7d": {
      "model_module": "@jupyter-widgets/controls",
      "model_module_version": "1.4.0",
      "model_name": "VBoxModel",
      "state": {
       "children": [
        "IPY_MODEL_d29d0b24a5734139942bdffc549f83e2",
        "IPY_MODEL_f86a60dda4fc42509dc33d6808857b59"
       ],
       "layout": "IPY_MODEL_bd94108b305f407c92c6883909612aa9"
      }
     },
     "4d59d06b755e49e1ac0c6d996a44da1e": {
      "model_module": "@jupyter-widgets/base",
      "model_module_version": "1.1.0",
      "model_name": "LayoutModel",
      "state": {}
     },
     "4ddaa11b8783416d8518d303745b09a7": {
      "model_module": "@jupyter-widgets/controls",
      "model_module_version": "1.4.0",
      "model_name": "LabelModel",
      "state": {
       "layout": "IPY_MODEL_9adf73266e5b41fca5ffa68f3c06d757",
       "style": "IPY_MODEL_8cd3e95c3acf4bdab4dfdc7205fe8fde"
      }
     },
     "4def2e9f87e44960a0c9ad77a3d7dd0f": {
      "model_module": "@jupyter-widgets/controls",
      "model_module_version": "1.4.0",
      "model_name": "DropdownModel",
      "state": {
       "_options_labels": [
        "0 complex eigenvalues",
        "2 complex eigenvalues"
       ],
       "description": "Aobs:",
       "disabled": true,
       "index": 0,
       "layout": "IPY_MODEL_a3e62160c9b54b1d8127e609d6602571",
       "style": "IPY_MODEL_cf52400e360c4a298036c4d771b8ae29"
      }
     },
     "4e069a3035154c4d8c0a47e5fe1f3b9b": {
      "model_module": "@jupyter-widgets/base",
      "model_module_version": "1.1.0",
      "model_name": "LayoutModel",
      "state": {}
     },
     "4e55b368a6894071936164175298b092": {
      "model_module": "@jupyter-widgets/base",
      "model_module_version": "1.1.0",
      "model_name": "LayoutModel",
      "state": {}
     },
     "4e67dcb5f4e6455f952604f8193dbae0": {
      "model_module": "@jupyter-widgets/base",
      "model_module_version": "1.1.0",
      "model_name": "LayoutModel",
      "state": {}
     },
     "4e79a7019f0e46f1b434fef2c9d752a4": {
      "model_module": "@jupyter-widgets/base",
      "model_module_version": "1.1.0",
      "model_name": "LayoutModel",
      "state": {
       "width": "90px"
      }
     },
     "4ec30f2860a74ef0a6f495243611dd88": {
      "model_module": "@jupyter-widgets/base",
      "model_module_version": "1.1.0",
      "model_name": "LayoutModel",
      "state": {}
     },
     "4ef500d8895b4bd3a5e040da5cad74a7": {
      "model_module": "@jupyter-widgets/controls",
      "model_module_version": "1.4.0",
      "model_name": "DescriptionStyleModel",
      "state": {
       "description_width": ""
      }
     },
     "4efaeb6c9bf841bfaef134c3c3b36e90": {
      "model_module": "@jupyter-widgets/base",
      "model_module_version": "1.1.0",
      "model_name": "LayoutModel",
      "state": {}
     },
     "4f1921a9f6484511a8d14907d72e0e23": {
      "model_module": "@jupyter-widgets/base",
      "model_module_version": "1.1.0",
      "model_name": "LayoutModel",
      "state": {}
     },
     "4f37e4abf7044e669b4f94075743f4dc": {
      "model_module": "@jupyter-widgets/controls",
      "model_module_version": "1.4.0",
      "model_name": "LabelModel",
      "state": {
       "layout": "IPY_MODEL_f9982efc85a34595ba056a20e5f29111",
       "style": "IPY_MODEL_cb3ccf44448e4da3abbc0bb88947e975"
      }
     },
     "4f760a5b774c4487878113061d5224d7": {
      "model_module": "@jupyter-widgets/base",
      "model_module_version": "1.1.0",
      "model_name": "LayoutModel",
      "state": {}
     },
     "4fb69747e2b94cc39379030795002c6b": {
      "model_module": "@jupyter-widgets/controls",
      "model_module_version": "1.4.0",
      "model_name": "DropdownModel",
      "state": {
       "_options_labels": [
        "Set Ka and La",
        "Set the eigenvalues"
       ],
       "index": 0,
       "layout": "IPY_MODEL_ada0e8828ac343df9e9760d6df6d9714",
       "style": "IPY_MODEL_c3862d402b5e4ae38fd7d2f0b2414ef0"
      }
     },
     "50979c39461b47e8bc2fd3cbcdd20729": {
      "model_module": "@jupyter-widgets/base",
      "model_module_version": "1.1.0",
      "model_name": "LayoutModel",
      "state": {}
     },
     "50b250cd0c344a809899fa9c03f47e6c": {
      "model_module": "@jupyter-widgets/base",
      "model_module_version": "1.1.0",
      "model_name": "LayoutModel",
      "state": {}
     },
     "50da8e9b3fe449d8bd0f82c813a0d190": {
      "model_module": "@jupyter-widgets/controls",
      "model_module_version": "1.4.0",
      "model_name": "HBoxModel",
      "state": {
       "children": [
        "IPY_MODEL_dd34ed0f11bf4739983f6875ef0c9382",
        "IPY_MODEL_6d68637432684016b0727f506afe0df5",
        "IPY_MODEL_f01b454caf0243f89fac5809d26d4cf2",
        "IPY_MODEL_3fe63ac60ab64ded984e9abeeff7abf5",
        "IPY_MODEL_317ee220faa84115bad387393653c51c",
        "IPY_MODEL_587e0f7d832d4ecc866fb0f39ea9d990",
        "IPY_MODEL_6f5919fe2a494d8092c2b109d3cb8dff",
        "IPY_MODEL_8011100f6a6b4ddc9ecbb972b727eaf7",
        "IPY_MODEL_b2d05cd7284844c9a283bfeaa163772d",
        "IPY_MODEL_a3c2a24a94aa456cbd6779a86c1f06ad",
        "IPY_MODEL_25be128dd26d4cd298247bbbc5bbe06a"
       ],
       "layout": "IPY_MODEL_dbb050e8d85846bf845411834a32a4c5"
      }
     },
     "5110c78f84674366b27efb186b131882": {
      "model_module": "@jupyter-widgets/controls",
      "model_module_version": "1.4.0",
      "model_name": "DescriptionStyleModel",
      "state": {
       "description_width": ""
      }
     },
     "518df1a391454a7b9ae94325ff2cd3b0": {
      "model_module": "@jupyter-widgets/base",
      "model_module_version": "1.1.0",
      "model_name": "LayoutModel",
      "state": {}
     },
     "51c5d8276bd747b39c3117b7fe0d1529": {
      "model_module": "@jupyter-widgets/base",
      "model_module_version": "1.1.0",
      "model_name": "LayoutModel",
      "state": {}
     },
     "5232c359d050473bbaf3e0e85f18eeb0": {
      "model_module": "@jupyter-widgets/controls",
      "model_module_version": "1.4.0",
      "model_name": "DescriptionStyleModel",
      "state": {
       "description_width": ""
      }
     },
     "5241a01ecea844bb9b680efbd89455ae": {
      "model_module": "@jupyter-widgets/controls",
      "model_module_version": "1.4.0",
      "model_name": "VBoxModel",
      "state": {
       "children": [
        "IPY_MODEL_f3e6fb5eb49042e08cb1f9909bc388ea",
        "IPY_MODEL_168bc40c3b9245fb833055cc8b0cf9d8",
        "IPY_MODEL_fa694349488843568882bce05ddefe64",
        "IPY_MODEL_543a7c0c9f434b2da64bf57122e7c4b5",
        "IPY_MODEL_ac58d08f3ce54afa8fe5fd6c045ae5af",
        "IPY_MODEL_94d262c9132f4dee8a1ebacba7959d25",
        "IPY_MODEL_5497c799c8b04c7bb967ac6f9b66af23"
       ],
       "layout": "IPY_MODEL_3a78eccc26a74ba981dce7448a66b11a"
      }
     },
     "524e523ee79e43c987c381c69c9afe85": {
      "model_module": "@jupyter-widgets/controls",
      "model_module_version": "1.4.0",
      "model_name": "DescriptionStyleModel",
      "state": {
       "description_width": ""
      }
     },
     "52536282f3184f26aed9ccb231e684c9": {
      "model_module": "@jupyter-widgets/base",
      "model_module_version": "1.1.0",
      "model_name": "LayoutModel",
      "state": {}
     },
     "526b7fddb1074a07a22a2925248f71e7": {
      "model_module": "@jupyter-widgets/controls",
      "model_module_version": "1.4.0",
      "model_name": "FloatTextModel",
      "state": {
       "layout": "IPY_MODEL_e6f9740ecb9c4b1e890dc2e32b0d34a7",
       "step": null,
       "style": "IPY_MODEL_0887c7cb985246f0bd413b295949e2d4"
      }
     },
     "52acf9658bbb43a0bb470d183fef21f7": {
      "model_module": "@jupyter-widgets/base",
      "model_module_version": "1.1.0",
      "model_name": "LayoutModel",
      "state": {}
     },
     "52d2c84751bb4e7cba68bcd9a091bba1": {
      "model_module": "@jupyter-widgets/base",
      "model_module_version": "1.1.0",
      "model_name": "LayoutModel",
      "state": {}
     },
     "5393a1ec3e0d47feb72f398a7cfa584e": {
      "model_module": "@jupyter-widgets/controls",
      "model_module_version": "1.4.0",
      "model_name": "ButtonModel",
      "state": {
       "description": "Test",
       "icon": "check",
       "layout": "IPY_MODEL_0dc42ed578324e9698fd4ff6083ef49b",
       "style": "IPY_MODEL_f9efcf465553492696c39a2edafe44fc",
       "tooltip": "Test"
      }
     },
     "53d173abcf8b4242ab7d38a319621de6": {
      "model_module": "@jupyter-widgets/base",
      "model_module_version": "1.1.0",
      "model_name": "LayoutModel",
      "state": {}
     },
     "5433f855b1e144bd9f99ee35a93dddd2": {
      "model_module": "@jupyter-widgets/controls",
      "model_module_version": "1.4.0",
      "model_name": "LabelModel",
      "state": {
       "layout": "IPY_MODEL_c6c48010219b4fb3bd1099d57920ba98",
       "style": "IPY_MODEL_690061d224354464bbf9acac7d551e8b",
       "value": "La:"
      }
     },
     "543a7c0c9f434b2da64bf57122e7c4b5": {
      "model_module": "@jupyter-widgets/controls",
      "model_module_version": "1.4.0",
      "model_name": "LabelModel",
      "state": {
       "layout": "IPY_MODEL_8d93505090b24b7392dd19fdafe1ebb7",
       "style": "IPY_MODEL_967ea0cea3b44232b483737bad238961"
      }
     },
     "5480124c50004a86b7b7cb590e0ac139": {
      "model_module": "@jupyter-widgets/base",
      "model_module_version": "1.1.0",
      "model_name": "LayoutModel",
      "state": {}
     },
     "5497c799c8b04c7bb967ac6f9b66af23": {
      "model_module": "@jupyter-widgets/controls",
      "model_module_version": "1.4.0",
      "model_name": "HBoxModel",
      "state": {
       "children": [
        "IPY_MODEL_0f26c8afca96402aa66b81bc451a3559",
        "IPY_MODEL_ab5d1f7943974b4ea254b5b26a1c85d8",
        "IPY_MODEL_072696cc4bea46d4b484be7695a09054",
        "IPY_MODEL_a9c2a999751c47b590d4150abf7bbb56",
        "IPY_MODEL_644ddd72b7234e6c90b95fcc50538cd5"
       ],
       "layout": "IPY_MODEL_ef440a7110ee47b08f272167ab804708"
      }
     },
     "54a95624e0a04f319da0e5b1221e8e55": {
      "model_module": "@jupyter-widgets/controls",
      "model_module_version": "1.4.0",
      "model_name": "DescriptionStyleModel",
      "state": {
       "description_width": ""
      }
     },
     "54be1d26068e4711a23c153183b65073": {
      "model_module": "@jupyter-widgets/controls",
      "model_module_version": "1.4.0",
      "model_name": "DescriptionStyleModel",
      "state": {
       "description_width": ""
      }
     },
     "554aed59f6334683b982c0431b17c297": {
      "model_module": "@jupyter-widgets/controls",
      "model_module_version": "1.4.0",
      "model_name": "FloatTextModel",
      "state": {
       "layout": "IPY_MODEL_5c1a1250913f409c967bf3e7477a6c22",
       "step": null,
       "style": "IPY_MODEL_1847186fe1ec42328cf7cbcf68a6b4db"
      }
     },
     "5555dc11b3b349c3afd005027d05a68b": {
      "model_module": "@jupyter-widgets/controls",
      "model_module_version": "1.4.0",
      "model_name": "LabelModel",
      "state": {
       "layout": "IPY_MODEL_d636b43c569f4fd99bb74ab2d8a9ca71",
       "style": "IPY_MODEL_3ce4a805f8a54027b572fe652407fe63"
      }
     },
     "555f1c8fd1be494ba25714e40361ee35": {
      "model_module": "@jupyter-widgets/controls",
      "model_module_version": "1.4.0",
      "model_name": "LabelModel",
      "state": {
       "layout": "IPY_MODEL_09c1c777399449b3a0a0b485453ab341",
       "style": "IPY_MODEL_febb6c29d5cb4d519b06da40a32c101c"
      }
     },
     "565da34ae18a4fc786b756dafbc04788": {
      "model_module": "@jupyter-widgets/controls",
      "model_module_version": "1.4.0",
      "model_name": "DescriptionStyleModel",
      "state": {
       "description_width": ""
      }
     },
     "56d0ad94a1ab41bf9b1226b301dc34c5": {
      "model_module": "@jupyter-widgets/controls",
      "model_module_version": "1.4.0",
      "model_name": "DescriptionStyleModel",
      "state": {
       "description_width": ""
      }
     },
     "5726c2125b484b7b9f531b64aad3748a": {
      "model_module": "@jupyter-widgets/base",
      "model_module_version": "1.1.0",
      "model_name": "LayoutModel",
      "state": {
       "width": "90px"
      }
     },
     "577aaa8c389e41888c3f64239f36e562": {
      "model_module": "@jupyter-widgets/controls",
      "model_module_version": "1.4.0",
      "model_name": "HBoxModel",
      "state": {
       "children": [
        "IPY_MODEL_6011560492ab4e37a4c7bf6ef2fe9c23",
        "IPY_MODEL_7f7d8c159bdc42c3aeffdc050655131b",
        "IPY_MODEL_9f2b0ec4d4034ae3ad81a74617b85dd9"
       ],
       "layout": "IPY_MODEL_c1df267ba8884d4089f041f8885d57a9"
      }
     },
     "57f647ac81c04c9e8d05a298607c024c": {
      "model_module": "@jupyter-widgets/controls",
      "model_module_version": "1.4.0",
      "model_name": "LabelModel",
      "state": {
       "layout": "IPY_MODEL_c83210e37cf143c6a1e10c38173aaf36",
       "style": "IPY_MODEL_2b099bf547704ef4a5d5b71337dae026"
      }
     },
     "580f187efa7642398bec0a2ae1ea2954": {
      "model_module": "@jupyter-widgets/base",
      "model_module_version": "1.1.0",
      "model_name": "LayoutModel",
      "state": {
       "width": "90px"
      }
     },
     "587e0f7d832d4ecc866fb0f39ea9d990": {
      "model_module": "@jupyter-widgets/controls",
      "model_module_version": "1.4.0",
      "model_name": "VBoxModel",
      "state": {
       "children": [
        "IPY_MODEL_a5628dd710ed40f0836562eea9957797"
       ],
       "layout": "IPY_MODEL_d602a0f11576447b8ef3d438d93728df"
      }
     },
     "58a2970073704e67a4a30380a7830767": {
      "model_module": "@jupyter-widgets/base",
      "model_module_version": "1.1.0",
      "model_name": "LayoutModel",
      "state": {}
     },
     "58dabb22e34a44d890df2e51d5b9a651": {
      "model_module": "@jupyter-widgets/controls",
      "model_module_version": "1.4.0",
      "model_name": "LabelModel",
      "state": {
       "layout": "IPY_MODEL_865c7e9a6659400080d4e6b55eadd65c",
       "style": "IPY_MODEL_21959bf2c265467dbf5cac2aaf1816e0"
      }
     },
     "59ebaba388dc4577ada44ad233f34d00": {
      "model_module": "@jupyter-widgets/base",
      "model_module_version": "1.1.0",
      "model_name": "LayoutModel",
      "state": {}
     },
     "59ec2c46649641599ebed481a8758b4f": {
      "model_module": "@jupyter-widgets/controls",
      "model_module_version": "1.4.0",
      "model_name": "LabelModel",
      "state": {
       "layout": "IPY_MODEL_1df123d7b60c4f70bfaa95a3a98028b2",
       "style": "IPY_MODEL_996a0fc2c31d488089176d41d8206f99"
      }
     },
     "59fa07d6295e403fb187b29b6a589349": {
      "model_module": "@jupyter-widgets/controls",
      "model_module_version": "1.4.0",
      "model_name": "DescriptionStyleModel",
      "state": {
       "description_width": ""
      }
     },
     "5a0c6b92ed2c43edb23183d8dacce8ff": {
      "model_module": "@jupyter-widgets/base",
      "model_module_version": "1.1.0",
      "model_name": "LayoutModel",
      "state": {
       "height": "0px",
       "width": "0px"
      }
     },
     "5a490e92a1344cf0abc18bf0425bbb92": {
      "model_module": "@jupyter-widgets/controls",
      "model_module_version": "1.4.0",
      "model_name": "DescriptionStyleModel",
      "state": {
       "description_width": ""
      }
     },
     "5a867080f23547f5ba9fce9c078589d9": {
      "model_module": "@jupyter-widgets/controls",
      "model_module_version": "1.4.0",
      "model_name": "DescriptionStyleModel",
      "state": {
       "description_width": ""
      }
     },
     "5af2b1372db94701816de9d570d6af0d": {
      "model_module": "@jupyter-widgets/base",
      "model_module_version": "1.1.0",
      "model_name": "LayoutModel",
      "state": {}
     },
     "5b2fc3f1aef246b3b6b674a954b252c7": {
      "model_module": "@jupyter-widgets/controls",
      "model_module_version": "1.4.0",
      "model_name": "ButtonStyleModel",
      "state": {}
     },
     "5b395b3d7f904213b837ead1c36a16d9": {
      "model_module": "@jupyter-widgets/controls",
      "model_module_version": "1.4.0",
      "model_name": "DropdownModel",
      "state": {
       "_options_labels": [
        "0 complex eigenvalues",
        "2 complex eigenvalues"
       ],
       "description": "Aobs:",
       "disabled": true,
       "index": 0,
       "layout": "IPY_MODEL_4e67dcb5f4e6455f952604f8193dbae0",
       "style": "IPY_MODEL_7ee747b400ad462e8ac9835d6e19339a"
      }
     },
     "5b85b3143bdd4151baf0b1b98839a627": {
      "model_module": "@jupyter-widgets/controls",
      "model_module_version": "1.4.0",
      "model_name": "LabelModel",
      "state": {
       "layout": "IPY_MODEL_4efaeb6c9bf841bfaef134c3c3b36e90",
       "style": "IPY_MODEL_17cebb2684274838bfed4999e9fbd809",
       "value": "Aa's eigs:"
      }
     },
     "5bb3813b66d04d2e8d925c77a06ea469": {
      "model_module": "@jupyter-widgets/base",
      "model_module_version": "1.1.0",
      "model_name": "LayoutModel",
      "state": {}
     },
     "5c1a1250913f409c967bf3e7477a6c22": {
      "model_module": "@jupyter-widgets/base",
      "model_module_version": "1.1.0",
      "model_name": "LayoutModel",
      "state": {
       "width": "90px"
      }
     },
     "5c81d6ad649d4942907fecd01757d79a": {
      "model_module": "@jupyter-widgets/controls",
      "model_module_version": "1.4.0",
      "model_name": "LabelModel",
      "state": {
       "layout": "IPY_MODEL_6f3325c696374e7ba2fefe95a423c990",
       "style": "IPY_MODEL_c422d11f60d5455bae304a583648d393"
      }
     },
     "5ca9d6cfbf1e4f5a95615e0dba52d25b": {
      "model_module": "@jupyter-widgets/controls",
      "model_module_version": "1.4.0",
      "model_name": "FloatTextModel",
      "state": {
       "layout": "IPY_MODEL_fe865e4851b4495a95e3dc2cc31cfaa9",
       "step": null,
       "style": "IPY_MODEL_5e00d94431b1401bba0ff47010421a7a",
       "value": 13861
      }
     },
     "5cf0c5c499384c6f96f84a0eae53b53c": {
      "model_module": "@jupyter-widgets/base",
      "model_module_version": "1.1.0",
      "model_name": "LayoutModel",
      "state": {
       "width": "90px"
      }
     },
     "5d2586944fee45ffa773e7d3ad5c2d02": {
      "model_module": "@jupyter-widgets/controls",
      "model_module_version": "1.4.0",
      "model_name": "LabelModel",
      "state": {
       "layout": "IPY_MODEL_f9e272cddc0d46a8b29b88bc2031a7b6",
       "style": "IPY_MODEL_0e00eb2261824321ba3db263816e459b"
      }
     },
     "5d4ef33cadc94f08ace19b791efefc1e": {
      "model_module": "@jupyter-widgets/base",
      "model_module_version": "1.1.0",
      "model_name": "LayoutModel",
      "state": {}
     },
     "5d6ef847aa5b48c8a1d6f71e115505d6": {
      "model_module": "@jupyter-widgets/base",
      "model_module_version": "1.1.0",
      "model_name": "LayoutModel",
      "state": {}
     },
     "5de9a778360a49198d5e6e1e23bc58d3": {
      "model_module": "@jupyter-widgets/controls",
      "model_module_version": "1.4.0",
      "model_name": "VBoxModel",
      "state": {
       "children": [
        "IPY_MODEL_7de4c30003744cce8d20d24d1bf5bb23",
        "IPY_MODEL_882808f04e1648329b3ae5a769379755"
       ],
       "layout": "IPY_MODEL_22d7fc6100c34ec68f93bd5a4fa77bce"
      }
     },
     "5e00d94431b1401bba0ff47010421a7a": {
      "model_module": "@jupyter-widgets/controls",
      "model_module_version": "1.4.0",
      "model_name": "DescriptionStyleModel",
      "state": {
       "description_width": ""
      }
     },
     "5e19f43ea55f42219de81bad36116894": {
      "model_module": "@jupyter-widgets/controls",
      "model_module_version": "1.4.0",
      "model_name": "DescriptionStyleModel",
      "state": {
       "description_width": ""
      }
     },
     "5e5ca3c81ee24215909e7e2b23040bdd": {
      "model_module": "@jupyter-widgets/base",
      "model_module_version": "1.1.0",
      "model_name": "LayoutModel",
      "state": {}
     },
     "5e837cafb6a844dd926b00ccdd43440d": {
      "model_module": "@jupyter-widgets/base",
      "model_module_version": "1.1.0",
      "model_name": "LayoutModel",
      "state": {}
     },
     "5e9531f6af9b44a5acb5ee578ef622a0": {
      "model_module": "@jupyter-widgets/controls",
      "model_module_version": "1.4.0",
      "model_name": "DescriptionStyleModel",
      "state": {
       "description_width": ""
      }
     },
     "5e97027777614640b556526766aab474": {
      "model_module": "@jupyter-widgets/controls",
      "model_module_version": "1.4.0",
      "model_name": "DescriptionStyleModel",
      "state": {
       "description_width": ""
      }
     },
     "5f4fd9d6e5fc4790959289c680e862cf": {
      "model_module": "@jupyter-widgets/controls",
      "model_module_version": "1.4.0",
      "model_name": "LabelModel",
      "state": {
       "layout": "IPY_MODEL_3233aafe18be46e7a62f972550b668ba",
       "style": "IPY_MODEL_cb9817ceda68404cbe65210d6c0e84ad",
       "value": "Aa's eigs:"
      }
     },
     "5f6179517cf942c9a57020ef64c975a6": {
      "model_module": "@jupyter-widgets/controls",
      "model_module_version": "1.4.0",
      "model_name": "VBoxModel",
      "state": {
       "children": [
        "IPY_MODEL_0a176961dc994c7d85ace2bb0be6e5fc"
       ],
       "layout": "IPY_MODEL_2f9198fbd0b341cf8d4432260b3fa514"
      }
     },
     "5fd329d9eb304ad5a6bce400ae2719bd": {
      "model_module": "@jupyter-widgets/base",
      "model_module_version": "1.1.0",
      "model_name": "LayoutModel",
      "state": {}
     },
     "6011560492ab4e37a4c7bf6ef2fe9c23": {
      "model_module": "@jupyter-widgets/controls",
      "model_module_version": "1.4.0",
      "model_name": "FloatTextModel",
      "state": {
       "layout": "IPY_MODEL_caa6f261eca948c6b258eef4da69c2e3",
       "step": null,
       "style": "IPY_MODEL_565da34ae18a4fc786b756dafbc04788"
      }
     },
     "602f92a285884868bacf7120c085d472": {
      "model_module": "@jupyter-widgets/controls",
      "model_module_version": "1.4.0",
      "model_name": "DescriptionStyleModel",
      "state": {
       "description_width": ""
      }
     },
     "60b41869c40d4bd39090be64275ae341": {
      "model_module": "@jupyter-widgets/base",
      "model_module_version": "1.1.0",
      "model_name": "LayoutModel",
      "state": {}
     },
     "60cdc74037934e1eb900c2994a7fd6fa": {
      "model_module": "@jupyter-widgets/base",
      "model_module_version": "1.1.0",
      "model_name": "LayoutModel",
      "state": {}
     },
     "6157e5ac18a04380bfcdf3e5360c1f10": {
      "model_module": "@jupyter-widgets/controls",
      "model_module_version": "1.4.0",
      "model_name": "FloatTextModel",
      "state": {
       "disabled": true,
       "layout": "IPY_MODEL_4e79a7019f0e46f1b434fef2c9d752a4",
       "step": null,
       "style": "IPY_MODEL_74043b22bf0a41998bb66498b4bef156",
       "value": -0.6
      }
     },
     "61c6a8a15add4ded9fd4e987a755ab38": {
      "model_module": "@jupyter-widgets/controls",
      "model_module_version": "1.4.0",
      "model_name": "HBoxModel",
      "state": {
       "children": [
        "IPY_MODEL_4b0f91c2788d4bc5b8ba3927f6b2b871",
        "IPY_MODEL_9c5f455366254c98bcb2a632ba62746f",
        "IPY_MODEL_99e3340dccac4f1a9ed489a4bb4d53b8"
       ],
       "layout": "IPY_MODEL_7a5bb58e5cf945d5883300d227b2e802"
      }
     },
     "628ee5ba78994b169e2e9670c25e3f71": {
      "model_module": "@jupyter-widgets/controls",
      "model_module_version": "1.4.0",
      "model_name": "DescriptionStyleModel",
      "state": {
       "description_width": ""
      }
     },
     "62d546d4642b403fb7e1f9e62e818f03": {
      "model_module": "@jupyter-widgets/base",
      "model_module_version": "1.1.0",
      "model_name": "LayoutModel",
      "state": {}
     },
     "62df66a2062b4fb6b65a3ec5bd498614": {
      "model_module": "@jupyter-widgets/base",
      "model_module_version": "1.1.0",
      "model_name": "LayoutModel",
      "state": {
       "width": "90px"
      }
     },
     "6313022924144436af1f7f4cd8e9779c": {
      "model_module": "@jupyter-widgets/controls",
      "model_module_version": "1.4.0",
      "model_name": "FloatTextModel",
      "state": {
       "layout": "IPY_MODEL_3b285e8c99594a9d846cf082b34290f0",
       "step": null,
       "style": "IPY_MODEL_e4959a4ff1d6428da5531fb2bf42b5eb",
       "value": -10
      }
     },
     "63256349f2f3454c8059f5412b0862a7": {
      "model_module": "@jupyter-widgets/base",
      "model_module_version": "1.1.0",
      "model_name": "LayoutModel",
      "state": {}
     },
     "637824522a5343b0944c5428ef57aa0e": {
      "model_module": "@jupyter-widgets/base",
      "model_module_version": "1.1.0",
      "model_name": "LayoutModel",
      "state": {}
     },
     "6379b256d4304329ae701b41c39b671f": {
      "model_module": "@jupyter-widgets/controls",
      "model_module_version": "1.4.0",
      "model_name": "LabelModel",
      "state": {
       "layout": "IPY_MODEL_00bcf6e5f88d4478b2238275ce14a469",
       "style": "IPY_MODEL_67c65455a284481fb5d3debce14b1bda"
      }
     },
     "63bd776089dc4508bd21c8789ad803bb": {
      "model_module": "@jupyter-widgets/controls",
      "model_module_version": "1.4.0",
      "model_name": "DescriptionStyleModel",
      "state": {
       "description_width": ""
      }
     },
     "63f8d3b2a0994c6a87843ac859f6b4cf": {
      "model_module": "@jupyter-widgets/controls",
      "model_module_version": "1.4.0",
      "model_name": "DropdownModel",
      "state": {
       "_options_labels": [
        "Set Ka and La",
        "Set the eigenvalues"
       ],
       "index": 0,
       "layout": "IPY_MODEL_a4d1a29d08444259bc6ac049b78ec661",
       "style": "IPY_MODEL_8049641b56e14f94a6cdc101f458c699"
      }
     },
     "64201b9e59164194b1346370c1c83cd4": {
      "model_module": "@jupyter-widgets/base",
      "model_module_version": "1.1.0",
      "model_name": "LayoutModel",
      "state": {}
     },
     "644ddd72b7234e6c90b95fcc50538cd5": {
      "model_module": "@jupyter-widgets/controls",
      "model_module_version": "1.4.0",
      "model_name": "ButtonModel",
      "state": {
       "description": "Test",
       "icon": "check",
       "layout": "IPY_MODEL_37ecefc90ca24246a5e1f966458ec837",
       "style": "IPY_MODEL_5b2fc3f1aef246b3b6b674a954b252c7",
       "tooltip": "Test"
      }
     },
     "652517d930ef4076ae1a91b0e2a3be6c": {
      "model_module": "@jupyter-widgets/controls",
      "model_module_version": "1.4.0",
      "model_name": "DescriptionStyleModel",
      "state": {
       "description_width": ""
      }
     },
     "65deab75d13c4bf1bef36f3c38182f6b": {
      "model_module": "@jupyter-widgets/controls",
      "model_module_version": "1.4.0",
      "model_name": "DescriptionStyleModel",
      "state": {
       "description_width": ""
      }
     },
     "6672827f1251434cafa61ba9bb202373": {
      "model_module": "@jupyter-widgets/base",
      "model_module_version": "1.1.0",
      "model_name": "LayoutModel",
      "state": {}
     },
     "668d43e659984f9c83d702a230efee49": {
      "model_module": "@jupyter-widgets/base",
      "model_module_version": "1.1.0",
      "model_name": "LayoutModel",
      "state": {
       "width": "90px"
      }
     },
     "66b0c1e2ed6d42b4934c79d6d7cb6bc6": {
      "model_module": "@jupyter-widgets/controls",
      "model_module_version": "1.4.0",
      "model_name": "DescriptionStyleModel",
      "state": {
       "description_width": ""
      }
     },
     "678800f9d35b4543892ff9d4b8c3009b": {
      "model_module": "@jupyter-widgets/controls",
      "model_module_version": "1.4.0",
      "model_name": "FloatTextModel",
      "state": {
       "layout": "IPY_MODEL_69bc40c1e3664a96baf1c35ecb11fd7d",
       "step": null,
       "style": "IPY_MODEL_c7b00e61644b476db2435289f46ce89e"
      }
     },
     "67a96f99e9b841eaaff526b823dd21aa": {
      "model_module": "@jupyter-widgets/controls",
      "model_module_version": "1.4.0",
      "model_name": "LabelModel",
      "state": {
       "layout": "IPY_MODEL_01dc0a5c652f458280935dd0ec1df02e",
       "style": "IPY_MODEL_885e5afc93a543b28ab8ce2723aba576"
      }
     },
     "67c65455a284481fb5d3debce14b1bda": {
      "model_module": "@jupyter-widgets/controls",
      "model_module_version": "1.4.0",
      "model_name": "DescriptionStyleModel",
      "state": {
       "description_width": ""
      }
     },
     "67eca683eeac421c9b2621d685db768f": {
      "model_module": "@jupyter-widgets/controls",
      "model_module_version": "1.4.0",
      "model_name": "LabelModel",
      "state": {
       "layout": "IPY_MODEL_3fb718490de04afca4411b2acf4987e6",
       "style": "IPY_MODEL_54be1d26068e4711a23c153183b65073",
       "value": "La:"
      }
     },
     "67fdcd9c576d486ab16af60e71f00dec": {
      "model_module": "@jupyter-widgets/base",
      "model_module_version": "1.1.0",
      "model_name": "LayoutModel",
      "state": {}
     },
     "6813d187c1be497cb6ed99d0f1315fb5": {
      "model_module": "@jupyter-widgets/controls",
      "model_module_version": "1.4.0",
      "model_name": "LabelModel",
      "state": {
       "layout": "IPY_MODEL_acce651c42c84a9894a543393f8a167c",
       "style": "IPY_MODEL_286c6d083d32468c8da6d9a651c6a4cb"
      }
     },
     "68537adbed234b189596496e5d19778e": {
      "model_module": "@jupyter-widgets/controls",
      "model_module_version": "1.4.0",
      "model_name": "DescriptionStyleModel",
      "state": {
       "description_width": ""
      }
     },
     "68cb20eccc494d0e897dfcc89aa2b844": {
      "model_module": "@jupyter-widgets/controls",
      "model_module_version": "1.4.0",
      "model_name": "FloatTextModel",
      "state": {
       "layout": "IPY_MODEL_de50dcc76518449ca4190d0da5b78f9d",
       "step": null,
       "style": "IPY_MODEL_19b8bdf890664f71885c84f552c3f3c0",
       "value": -1
      }
     },
     "68d3152ea522432d8b26d8ef18d3a3f0": {
      "model_module": "@jupyter-widgets/base",
      "model_module_version": "1.1.0",
      "model_name": "LayoutModel",
      "state": {
       "width": "90px"
      }
     },
     "690061d224354464bbf9acac7d551e8b": {
      "model_module": "@jupyter-widgets/controls",
      "model_module_version": "1.4.0",
      "model_name": "DescriptionStyleModel",
      "state": {
       "description_width": ""
      }
     },
     "694dd07aee66466bb45bfff329e60483": {
      "model_module": "@jupyter-widgets/base",
      "model_module_version": "1.1.0",
      "model_name": "LayoutModel",
      "state": {}
     },
     "69596f18125f465a842253c4a56b8254": {
      "model_module": "@jupyter-widgets/controls",
      "model_module_version": "1.4.0",
      "model_name": "DescriptionStyleModel",
      "state": {
       "description_width": ""
      }
     },
     "699c82ce7721494b827c9191334677f0": {
      "model_module": "@jupyter-widgets/base",
      "model_module_version": "1.1.0",
      "model_name": "LayoutModel",
      "state": {}
     },
     "69bc40c1e3664a96baf1c35ecb11fd7d": {
      "model_module": "@jupyter-widgets/base",
      "model_module_version": "1.1.0",
      "model_name": "LayoutModel",
      "state": {
       "width": "90px"
      }
     },
     "6a7a36202cba49eb8397c164b18c614b": {
      "model_module": "@jupyter-widgets/base",
      "model_module_version": "1.1.0",
      "model_name": "LayoutModel",
      "state": {}
     },
     "6aa250d5c0944d639991a61220a87849": {
      "model_module": "@jupyter-widgets/base",
      "model_module_version": "1.1.0",
      "model_name": "LayoutModel",
      "state": {}
     },
     "6b1eb3d2914f436ebdc338c44a701edf": {
      "model_module": "@jupyter-widgets/base",
      "model_module_version": "1.1.0",
      "model_name": "LayoutModel",
      "state": {}
     },
     "6b9803e06bfc477592188dfb15adc5d6": {
      "model_module": "@jupyter-widgets/controls",
      "model_module_version": "1.4.0",
      "model_name": "HBoxModel",
      "state": {
       "children": [
        "IPY_MODEL_c8e3b70f79e64a5a899729030d7b6963"
       ],
       "layout": "IPY_MODEL_67fdcd9c576d486ab16af60e71f00dec"
      }
     },
     "6bdb46374a01452f878caf37f3b7dc57": {
      "model_module": "@jupyter-widgets/base",
      "model_module_version": "1.1.0",
      "model_name": "LayoutModel",
      "state": {}
     },
     "6c5bde8b5bac48509228c5bee9f36bbd": {
      "model_module": "@jupyter-widgets/base",
      "model_module_version": "1.1.0",
      "model_name": "LayoutModel",
      "state": {}
     },
     "6caafdd1e1cd4b19a7eeab28deadac64": {
      "model_module": "@jupyter-widgets/controls",
      "model_module_version": "1.4.0",
      "model_name": "HBoxModel",
      "state": {
       "children": [
        "IPY_MODEL_faefe63476c24a01aaf13a0d22a20e41",
        "IPY_MODEL_e5ea03176a6d413cbda448812f9f9fac",
        "IPY_MODEL_795fd5c2cf384cbc84210d4663ce475b"
       ],
       "layout": "IPY_MODEL_50b250cd0c344a809899fa9c03f47e6c"
      }
     },
     "6ccca8cd1dd94a44bbc5840816353ae3": {
      "model_module": "@jupyter-widgets/controls",
      "model_module_version": "1.4.0",
      "model_name": "FloatTextModel",
      "state": {
       "disabled": true,
       "layout": "IPY_MODEL_4a170c180505407b9ea430c1cd492f2c",
       "step": null,
       "style": "IPY_MODEL_3a6b565f3ce4429b83a21e3d564ff894",
       "value": -0.35
      }
     },
     "6d50e2c21b10474f969fa3e17a94ff8c": {
      "model_module": "@jupyter-widgets/controls",
      "model_module_version": "1.4.0",
      "model_name": "SliderStyleModel",
      "state": {
       "description_width": ""
      }
     },
     "6d68637432684016b0727f506afe0df5": {
      "model_module": "@jupyter-widgets/controls",
      "model_module_version": "1.4.0",
      "model_name": "VBoxModel",
      "state": {
       "children": [
        "IPY_MODEL_6b9803e06bfc477592188dfb15adc5d6"
       ],
       "layout": "IPY_MODEL_90b70496121147c0a1e387dee2f323b8"
      }
     },
     "6db5adb08c1948be8929194ebea1a7e7": {
      "model_module": "@jupyter-widgets/controls",
      "model_module_version": "1.4.0",
      "model_name": "FloatTextModel",
      "state": {
       "layout": "IPY_MODEL_43501d55a4fd47a6b16ef8b1b85e7d65",
       "step": null,
       "style": "IPY_MODEL_86f0283019914320900a091de5704fd1",
       "value": -1
      }
     },
     "6e7e97282d8646a99e47bb6ba752331d": {
      "model_module": "@jupyter-widgets/controls",
      "model_module_version": "1.4.0",
      "model_name": "LabelModel",
      "state": {
       "layout": "IPY_MODEL_52acf9658bbb43a0bb470d183fef21f7",
       "style": "IPY_MODEL_d27c9566e96940a7806b2168e19f1ce9"
      }
     },
     "6ebbbf84215946a39d42606ed8a7c1f2": {
      "model_module": "@jupyter-widgets/controls",
      "model_module_version": "1.4.0",
      "model_name": "FloatTextModel",
      "state": {
       "layout": "IPY_MODEL_184b23bb39dd4047977c1005e03a95c0",
       "step": null,
       "style": "IPY_MODEL_0c7ccc0d90d14893a1798e9bec0ccfad",
       "value": -13.333333333333334
      }
     },
     "6ebe86c6b2624222a1c2427ed2c6bb6e": {
      "model_module": "@jupyter-widgets/base",
      "model_module_version": "1.1.0",
      "model_name": "LayoutModel",
      "state": {}
     },
     "6ed5ec8dc40b4d3cb6058441525e4f2d": {
      "model_module": "@jupyter-widgets/base",
      "model_module_version": "1.1.0",
      "model_name": "LayoutModel",
      "state": {
       "width": "90px"
      }
     },
     "6f10c2a2cc4f4d5cb7cd361d5fd117bb": {
      "model_module": "@jupyter-widgets/base",
      "model_module_version": "1.1.0",
      "model_name": "LayoutModel",
      "state": {}
     },
     "6f3325c696374e7ba2fefe95a423c990": {
      "model_module": "@jupyter-widgets/base",
      "model_module_version": "1.1.0",
      "model_name": "LayoutModel",
      "state": {}
     },
     "6f5919fe2a494d8092c2b109d3cb8dff": {
      "model_module": "@jupyter-widgets/controls",
      "model_module_version": "1.4.0",
      "model_name": "LabelModel",
      "state": {
       "layout": "IPY_MODEL_91f3e31e4795465f9f5adb9155b2d603",
       "style": "IPY_MODEL_e7631457cbcc4012bd350f9a84cef00c"
      }
     },
     "6f5b16ca245c4071ab3278214307b695": {
      "model_module": "@jupyter-widgets/base",
      "model_module_version": "1.1.0",
      "model_name": "LayoutModel",
      "state": {}
     },
     "6f85f9a4db194b509b78ff37a0f3f35a": {
      "model_module": "@jupyter-widgets/controls",
      "model_module_version": "1.4.0",
      "model_name": "HBoxModel",
      "state": {
       "children": [
        "IPY_MODEL_ef1dd140766840bb8e931471f5f301c9"
       ],
       "layout": "IPY_MODEL_0fdc2e9573724ffca381dcdc06cfb1b0"
      }
     },
     "703688b40d404ccbae95be27274af0cd": {
      "model_module": "@jupyter-widgets/controls",
      "model_module_version": "1.4.0",
      "model_name": "HBoxModel",
      "state": {
       "children": [
        "IPY_MODEL_554aed59f6334683b982c0431b17c297",
        "IPY_MODEL_9efb9c3136cb4814bbbbb397033e6d24",
        "IPY_MODEL_171a1b1507054bbfbefb5a2121471844"
       ],
       "layout": "IPY_MODEL_30c069a9f1e64b8fa42c228c79bc01d4"
      }
     },
     "70d8d323e1e7445ea9fe3e32ee56bd7f": {
      "model_module": "@jupyter-widgets/base",
      "model_module_version": "1.1.0",
      "model_name": "LayoutModel",
      "state": {}
     },
     "728c92f846734c939fcd10d6e4ef68e3": {
      "model_module": "@jupyter-widgets/controls",
      "model_module_version": "1.4.0",
      "model_name": "DescriptionStyleModel",
      "state": {
       "description_width": ""
      }
     },
     "7293c820e63d4fa5a06348c87ef770e1": {
      "model_module": "@jupyter-widgets/controls",
      "model_module_version": "1.4.0",
      "model_name": "LabelModel",
      "state": {
       "layout": "IPY_MODEL_b7e50fc8f17b4abca78f401029a01bc2",
       "style": "IPY_MODEL_db0dab36d9de4171987fb292d7f515ea",
       "value": "La:"
      }
     },
     "72a35b0bc2d9418bb099da42dd65c976": {
      "model_module": "@jupyter-widgets/controls",
      "model_module_version": "1.4.0",
      "model_name": "DescriptionStyleModel",
      "state": {
       "description_width": ""
      }
     },
     "72d88d2553ac41c4ac690fe0e067324e": {
      "model_module": "@jupyter-widgets/base",
      "model_module_version": "1.1.0",
      "model_name": "LayoutModel",
      "state": {}
     },
     "72e031c0e7e349a0b081d2221742bd29": {
      "model_module": "@jupyter-widgets/base",
      "model_module_version": "1.1.0",
      "model_name": "LayoutModel",
      "state": {
       "width": "90px"
      }
     },
     "72e8f2c8610c47fd8096faa84eb921f8": {
      "model_module": "@jupyter-widgets/controls",
      "model_module_version": "1.4.0",
      "model_name": "LabelModel",
      "state": {
       "layout": "IPY_MODEL_0412e3d10df841038ecf3f8250e2b120",
       "style": "IPY_MODEL_0137a8c0e143408997be4713d0929fd0"
      }
     },
     "7371a287f94840aa829ef2d8d94c4853": {
      "model_module": "@jupyter-widgets/base",
      "model_module_version": "1.1.0",
      "model_name": "LayoutModel",
      "state": {}
     },
     "74043b22bf0a41998bb66498b4bef156": {
      "model_module": "@jupyter-widgets/controls",
      "model_module_version": "1.4.0",
      "model_name": "DescriptionStyleModel",
      "state": {
       "description_width": ""
      }
     },
     "74b2c32160214088bd33ae84127e92bc": {
      "model_module": "@jupyter-widgets/base",
      "model_module_version": "1.1.0",
      "model_name": "LayoutModel",
      "state": {
       "width": "90px"
      }
     },
     "74c94f204a60426bb3deb13977d4a89b": {
      "model_module": "@jupyter-widgets/controls",
      "model_module_version": "1.4.0",
      "model_name": "FloatTextModel",
      "state": {
       "layout": "IPY_MODEL_fdc20dbc4d12432c889e338ca9f4f2e0",
       "step": null,
       "style": "IPY_MODEL_075ef8840b254dfe8e812d7716b6f101",
       "value": -1
      }
     },
     "751f4dd6192f4b71b9ffc8b626f4ab84": {
      "model_module": "@jupyter-widgets/controls",
      "model_module_version": "1.4.0",
      "model_name": "HBoxModel",
      "state": {
       "children": [
        "IPY_MODEL_3967a131ab114f1d903a90585ec37c1b"
       ],
       "layout": "IPY_MODEL_edf2c458601a4c2986e9084a559dcd3a"
      }
     },
     "754e87a1a8c54875b3b917f54d2c9b58": {
      "model_module": "@jupyter-widgets/controls",
      "model_module_version": "1.4.0",
      "model_name": "DescriptionStyleModel",
      "state": {
       "description_width": ""
      }
     },
     "7571abb03f0040679517c6245bf38472": {
      "model_module": "@jupyter-widgets/controls",
      "model_module_version": "1.4.0",
      "model_name": "FloatTextModel",
      "state": {
       "layout": "IPY_MODEL_1356dd4e149949aa8da63f5c73164b03",
       "step": null,
       "style": "IPY_MODEL_5110c78f84674366b27efb186b131882",
       "value": 6244
      }
     },
     "75b5652b09e4461cb6a99471967a68ea": {
      "model_module": "@jupyter-widgets/controls",
      "model_module_version": "1.4.0",
      "model_name": "DescriptionStyleModel",
      "state": {
       "description_width": ""
      }
     },
     "75eb8481312149b8a778baff39c99828": {
      "model_module": "@jupyter-widgets/controls",
      "model_module_version": "1.4.0",
      "model_name": "DescriptionStyleModel",
      "state": {
       "description_width": ""
      }
     },
     "76017c8704c44e04825f3e352bacd669": {
      "model_module": "@jupyter-widgets/controls",
      "model_module_version": "1.4.0",
      "model_name": "DescriptionStyleModel",
      "state": {
       "description_width": ""
      }
     },
     "7637a14720e140b2bcd66ed4939ec5a9": {
      "model_module": "@jupyter-widgets/controls",
      "model_module_version": "1.4.0",
      "model_name": "HBoxModel",
      "state": {
       "children": [
        "IPY_MODEL_63f8d3b2a0994c6a87843ac859f6b4cf",
        "IPY_MODEL_d9674b7571de42baa745dd6b7c6ecbe8",
        "IPY_MODEL_b5581d35824c472bb9eaac0a5762f404"
       ],
       "layout": "IPY_MODEL_eed4b893f8914ebb9d38fb0d061e5369"
      }
     },
     "770bc17e71b2425a9baa0f95f322df5b": {
      "model_module": "@jupyter-widgets/base",
      "model_module_version": "1.1.0",
      "model_name": "LayoutModel",
      "state": {}
     },
     "77216fe31d084b58b18e146e8a6b8be1": {
      "model_module": "@jupyter-widgets/base",
      "model_module_version": "1.1.0",
      "model_name": "LayoutModel",
      "state": {}
     },
     "775ff011a0444c48b7e5fea4746a0b23": {
      "model_module": "@jupyter-widgets/controls",
      "model_module_version": "1.4.0",
      "model_name": "DescriptionStyleModel",
      "state": {
       "description_width": ""
      }
     },
     "7799c212da6243439092d8e652f3343a": {
      "model_module": "@jupyter-widgets/base",
      "model_module_version": "1.1.0",
      "model_name": "LayoutModel",
      "state": {}
     },
     "779c0d356e134116a834edf79e733609": {
      "model_module": "@jupyter-widgets/controls",
      "model_module_version": "1.4.0",
      "model_name": "DescriptionStyleModel",
      "state": {
       "description_width": ""
      }
     },
     "78331c89a55344a69e9fb04c10aee086": {
      "model_module": "@jupyter-widgets/controls",
      "model_module_version": "1.4.0",
      "model_name": "ButtonModel",
      "state": {
       "description": "Test",
       "icon": "check",
       "layout": "IPY_MODEL_a2ad8cd0ada14749b6cff38db8256c77",
       "style": "IPY_MODEL_7e93ef2d8c064e21ae0329b1f49e0037",
       "tooltip": "Test"
      }
     },
     "784694adeef14254b06506b91ca25387": {
      "model_module": "@jupyter-widgets/controls",
      "model_module_version": "1.4.0",
      "model_name": "FloatTextModel",
      "state": {
       "layout": "IPY_MODEL_e02b4d0e91cd456eb60b5d5243ba5cb5",
       "step": null,
       "style": "IPY_MODEL_b735c37b54aa43c8a0944fb020c85b42",
       "value": 316
      }
     },
     "78e0cf59f666429ba0b284f17cd837f0": {
      "model_module": "@jupyter-widgets/controls",
      "model_module_version": "1.4.0",
      "model_name": "DescriptionStyleModel",
      "state": {
       "description_width": ""
      }
     },
     "78e89fda875349468498d5f62b2914a0": {
      "model_module": "@jupyter-widgets/controls",
      "model_module_version": "1.4.0",
      "model_name": "DescriptionStyleModel",
      "state": {
       "description_width": ""
      }
     },
     "78faa778293e4233bc1fa7fd155fb559": {
      "model_module": "@jupyter-widgets/base",
      "model_module_version": "1.1.0",
      "model_name": "LayoutModel",
      "state": {}
     },
     "791fe235250446a6a034c1a07655e400": {
      "model_module": "@jupyter-widgets/base",
      "model_module_version": "1.1.0",
      "model_name": "LayoutModel",
      "state": {}
     },
     "7922325f544a4df3b7a664440ab450f3": {
      "model_module": "@jupyter-widgets/controls",
      "model_module_version": "1.4.0",
      "model_name": "DescriptionStyleModel",
      "state": {
       "description_width": ""
      }
     },
     "7959bdda77b0475b8c3a81a8686baf94": {
      "model_module": "@jupyter-widgets/controls",
      "model_module_version": "1.4.0",
      "model_name": "DescriptionStyleModel",
      "state": {
       "description_width": ""
      }
     },
     "795fd5c2cf384cbc84210d4663ce475b": {
      "model_module": "@jupyter-widgets/controls",
      "model_module_version": "1.4.0",
      "model_name": "DropdownModel",
      "state": {
       "_options_labels": [
        "0 complex eigenvalues",
        "2 complex eigenvalues"
       ],
       "description": "Aobs:",
       "disabled": true,
       "index": 0,
       "layout": "IPY_MODEL_ae2970f665224c9fbc4420c1cffb665d",
       "style": "IPY_MODEL_fe72029372074064a0a2d7f32b95cc43"
      }
     },
     "79f34c11930f44ef87434b7bbc4a62a2": {
      "model_module": "@jupyter-widgets/controls",
      "model_module_version": "1.4.0",
      "model_name": "FloatTextModel",
      "state": {
       "layout": "IPY_MODEL_c292b8874c4f4bcebed1c9a360df2964",
       "step": null,
       "style": "IPY_MODEL_f0784b65c1cf46f9af5e149ad2e1bf93",
       "value": -1
      }
     },
     "7a2c5d36b676498d86709b794261b2e5": {
      "model_module": "@jupyter-widgets/controls",
      "model_module_version": "1.4.0",
      "model_name": "VBoxModel",
      "state": {
       "children": [
        "IPY_MODEL_8b38ec716be944e0b46bf019ffd46326"
       ],
       "layout": "IPY_MODEL_1305375218104eaf84b665587f869b4a"
      }
     },
     "7a5bb58e5cf945d5883300d227b2e802": {
      "model_module": "@jupyter-widgets/base",
      "model_module_version": "1.1.0",
      "model_name": "LayoutModel",
      "state": {}
     },
     "7a5fad3a8ed14b8c8672e83a713b5ee7": {
      "model_module": "@jupyter-widgets/base",
      "model_module_version": "1.1.0",
      "model_name": "LayoutModel",
      "state": {}
     },
     "7a86b8685c0d4d4ab4dfd942b31e689e": {
      "model_module": "@jupyter-widgets/controls",
      "model_module_version": "1.4.0",
      "model_name": "DescriptionStyleModel",
      "state": {
       "description_width": ""
      }
     },
     "7a9f39ecd9174a5a8dc508b3f593a736": {
      "model_module": "@jupyter-widgets/base",
      "model_module_version": "1.1.0",
      "model_name": "LayoutModel",
      "state": {
       "width": "90px"
      }
     },
     "7acc1d43c7b04f48ada380ce26debb40": {
      "model_module": "@jupyter-widgets/controls",
      "model_module_version": "1.4.0",
      "model_name": "LabelModel",
      "state": {
       "layout": "IPY_MODEL_af33c6205ab247349a81557418e23272",
       "style": "IPY_MODEL_3560f888f8714d7380f8ec397da7b315"
      }
     },
     "7b620fcf26764dc59856cf8c17e225c6": {
      "model_module": "@jupyter-widgets/base",
      "model_module_version": "1.1.0",
      "model_name": "LayoutModel",
      "state": {}
     },
     "7b6fe30e232e400583497734a4b6a5c7": {
      "model_module": "@jupyter-widgets/controls",
      "model_module_version": "1.4.0",
      "model_name": "ButtonStyleModel",
      "state": {}
     },
     "7bcae1bb58ed4f80aad0ed229811dd6f": {
      "model_module": "@jupyter-widgets/controls",
      "model_module_version": "1.4.0",
      "model_name": "DescriptionStyleModel",
      "state": {
       "description_width": ""
      }
     },
     "7bec55103402411195944e1352e9ee8f": {
      "model_module": "@jupyter-widgets/controls",
      "model_module_version": "1.4.0",
      "model_name": "FloatTextModel",
      "state": {
       "layout": "IPY_MODEL_68d3152ea522432d8b26d8ef18d3a3f0",
       "step": null,
       "style": "IPY_MODEL_da90a50bcb3b4b1ab14fcb5e9ddde844",
       "value": -66.66666666666667
      }
     },
     "7c71e94f7fd8465382677754c8e6a982": {
      "model_module": "@jupyter-widgets/base",
      "model_module_version": "1.1.0",
      "model_name": "LayoutModel",
      "state": {}
     },
     "7c92b5b89e8b44fc9d282249225339c6": {
      "model_module": "@jupyter-widgets/controls",
      "model_module_version": "1.4.0",
      "model_name": "HBoxModel",
      "state": {
       "children": [
        "IPY_MODEL_74c94f204a60426bb3deb13977d4a89b"
       ],
       "layout": "IPY_MODEL_5d4ef33cadc94f08ace19b791efefc1e"
      }
     },
     "7d01dc2c0b4d48d98e763efa1f17a404": {
      "model_module": "@jupyter-widgets/controls",
      "model_module_version": "1.4.0",
      "model_name": "LabelModel",
      "state": {
       "layout": "IPY_MODEL_ace5b89dbb38430baaca9d95f8928041",
       "style": "IPY_MODEL_ba39f17a808848619246755a9efb4013"
      }
     },
     "7d2ee53e7c144fdb9bf865c1baf9fe1e": {
      "model_module": "@jupyter-widgets/controls",
      "model_module_version": "1.4.0",
      "model_name": "HBoxModel",
      "state": {
       "children": [
        "IPY_MODEL_0aa0bfe4046d4bbd9e3b8fc7e923c19e",
        "IPY_MODEL_eb895777800d4b5dad6593c98477136a",
        "IPY_MODEL_59ec2c46649641599ebed481a8758b4f",
        "IPY_MODEL_6379b256d4304329ae701b41c39b671f",
        "IPY_MODEL_a33161fb781f43298700965957684f1e"
       ],
       "layout": "IPY_MODEL_15cf45b6a5954be0ac6b6415d1d48bca"
      }
     },
     "7d35e7ff219645d8928897423c98458f": {
      "model_module": "@jupyter-widgets/controls",
      "model_module_version": "1.4.0",
      "model_name": "HBoxModel",
      "state": {
       "children": [
        "IPY_MODEL_093f7ad7ff10484c9dc83f64e83edf68",
        "IPY_MODEL_d15a903d9d274ec1921c31e4c33039b4",
        "IPY_MODEL_eda9ff75f90e4e86815627781902014a"
       ],
       "layout": "IPY_MODEL_955a72f962644df8bea0b03467a6d2e3"
      }
     },
     "7d56c23f8f9747278ec3ee7edb579413": {
      "model_module": "@jupyter-widgets/output",
      "model_module_version": "1.0.0",
      "model_name": "OutputModel",
      "state": {
       "layout": "IPY_MODEL_9a5f4e5b037a43a9b59844db56f0835f",
       "outputs": [
        {
         "name": "stdout",
         "output_type": "stream",
         "text": "The Aa's eigenvalues are: -2.24+2.23j, -2.24+-2.23j, -0.28+0.00j, -0.26+0.32j and -0.26+-0.32j\nThe observer\\s eigenvalues are: -10.00+0.00j and -10.00+0.00j\n"
        }
       ]
      }
     },
     "7d6a609ca45c4507b010733c5e884ae6": {
      "model_module": "@jupyter-widgets/controls",
      "model_module_version": "1.4.0",
      "model_name": "DescriptionStyleModel",
      "state": {
       "description_width": ""
      }
     },
     "7da585dfee764bdb8782ac35b6e142c6": {
      "model_module": "@jupyter-widgets/controls",
      "model_module_version": "1.4.0",
      "model_name": "DescriptionStyleModel",
      "state": {
       "description_width": ""
      }
     },
     "7de4c30003744cce8d20d24d1bf5bb23": {
      "model_module": "@jupyter-widgets/controls",
      "model_module_version": "1.4.0",
      "model_name": "HBoxModel",
      "state": {
       "children": [
        "IPY_MODEL_fe8d4c19a86346019352770ba2a10a08"
       ],
       "layout": "IPY_MODEL_14ee82ae6a44446aaf4a813482e9e609"
      }
     },
     "7e247cd9b0e54844af224969b6c41f28": {
      "model_module": "@jupyter-widgets/controls",
      "model_module_version": "1.4.0",
      "model_name": "LabelModel",
      "state": {
       "layout": "IPY_MODEL_8c6ff49f59ac4ae19bf1989f184e29e9",
       "style": "IPY_MODEL_4ef500d8895b4bd3a5e040da5cad74a7"
      }
     },
     "7e442b8c4332480e8548cbdceab3a51f": {
      "model_module": "@jupyter-widgets/base",
      "model_module_version": "1.1.0",
      "model_name": "LayoutModel",
      "state": {}
     },
     "7e4e7d01deec4ad28120e3a5353c32be": {
      "model_module": "@jupyter-widgets/controls",
      "model_module_version": "1.4.0",
      "model_name": "HBoxModel",
      "state": {
       "children": [
        "IPY_MODEL_d4a0305616f9402ea84a9e8b0e1fae85"
       ],
       "layout": "IPY_MODEL_f86ef0c63af448cbba07abd5003acb2c"
      }
     },
     "7e93ef2d8c064e21ae0329b1f49e0037": {
      "model_module": "@jupyter-widgets/controls",
      "model_module_version": "1.4.0",
      "model_name": "ButtonStyleModel",
      "state": {}
     },
     "7ebbc139ae8c405bbaa34222e70c1838": {
      "model_module": "@jupyter-widgets/controls",
      "model_module_version": "1.4.0",
      "model_name": "DescriptionStyleModel",
      "state": {
       "description_width": ""
      }
     },
     "7ee747b400ad462e8ac9835d6e19339a": {
      "model_module": "@jupyter-widgets/controls",
      "model_module_version": "1.4.0",
      "model_name": "DescriptionStyleModel",
      "state": {
       "description_width": ""
      }
     },
     "7f7d8c159bdc42c3aeffdc050655131b": {
      "model_module": "@jupyter-widgets/controls",
      "model_module_version": "1.4.0",
      "model_name": "FloatTextModel",
      "state": {
       "layout": "IPY_MODEL_72e031c0e7e349a0b081d2221742bd29",
       "step": null,
       "style": "IPY_MODEL_b60b7d037b5b45aba5cce6360c0cb3fe",
       "value": -66.66666666666667
      }
     },
     "7fbf0af948254d5e833df4b7c1f732c3": {
      "model_module": "@jupyter-widgets/base",
      "model_module_version": "1.1.0",
      "model_name": "LayoutModel",
      "state": {}
     },
     "7fe5127d89ef40799cbefafadbcce0d4": {
      "model_module": "@jupyter-widgets/controls",
      "model_module_version": "1.4.0",
      "model_name": "FloatTextModel",
      "state": {
       "layout": "IPY_MODEL_cea5f3291cc74af99d0e1ea2481ba90a",
       "step": null,
       "style": "IPY_MODEL_19f1831249fc404885a8c590f402427e"
      }
     },
     "7ffaa79fb9994c4bae603296d84f245e": {
      "model_module": "@jupyter-widgets/controls",
      "model_module_version": "1.4.0",
      "model_name": "LabelModel",
      "state": {
       "layout": "IPY_MODEL_3155eee3f9a64ff3b2f1ce3c8f7d18cc",
       "style": "IPY_MODEL_c2e6bb3678aa4fb989cae61d26337c34",
       "value": "La:"
      }
     },
     "7ffe130777e247649d8ed2b515a9ca8b": {
      "model_module": "@jupyter-widgets/controls",
      "model_module_version": "1.4.0",
      "model_name": "LabelModel",
      "state": {
       "layout": "IPY_MODEL_a5808a4c8deb4864a3bf6c22210b4579",
       "style": "IPY_MODEL_3ff22a9f887a4c8fa9623d0ab0ef1724"
      }
     },
     "8011100f6a6b4ddc9ecbb972b727eaf7": {
      "model_module": "@jupyter-widgets/controls",
      "model_module_version": "1.4.0",
      "model_name": "LabelModel",
      "state": {
       "layout": "IPY_MODEL_3bf317625e154845b6a9f8e0b72e9040",
       "style": "IPY_MODEL_e497f72ac994442e867e12b0d2d6c200"
      }
     },
     "8049641b56e14f94a6cdc101f458c699": {
      "model_module": "@jupyter-widgets/controls",
      "model_module_version": "1.4.0",
      "model_name": "DescriptionStyleModel",
      "state": {
       "description_width": ""
      }
     },
     "805372bc02a045c08c710be04f5bfce1": {
      "model_module": "@jupyter-widgets/controls",
      "model_module_version": "1.4.0",
      "model_name": "HBoxModel",
      "state": {
       "children": [
        "IPY_MODEL_18f82af6d5b2431ba4c48da55efab544",
        "IPY_MODEL_007459f4f397435698168869e682fe15",
        "IPY_MODEL_5b395b3d7f904213b837ead1c36a16d9"
       ],
       "layout": "IPY_MODEL_ab62f7fb8f884a83b7a1a8cd07fc402b"
      }
     },
     "808008c7a6d64220a24e0e57526aee9a": {
      "model_module": "@jupyter-widgets/base",
      "model_module_version": "1.1.0",
      "model_name": "LayoutModel",
      "state": {}
     },
     "8104af496003451c99d75ef542e131e5": {
      "model_module": "@jupyter-widgets/controls",
      "model_module_version": "1.4.0",
      "model_name": "HBoxModel",
      "state": {
       "children": [
        "IPY_MODEL_6db5adb08c1948be8929194ebea1a7e7"
       ],
       "layout": "IPY_MODEL_8f25d2239f6749908f18c36b549526f2"
      }
     },
     "826635bf7c224e2fa9e2222e72dbf5a4": {
      "model_module": "@jupyter-widgets/controls",
      "model_module_version": "1.4.0",
      "model_name": "DropdownModel",
      "state": {
       "_options_labels": [
        "0 complex eigenvalues",
        "2 complex eigenvalues",
        "4 complex eigenvalues"
       ],
       "description": "Aa:",
       "disabled": true,
       "index": 0,
       "layout": "IPY_MODEL_bb953ac90d224d4f936514edcfe673ca",
       "style": "IPY_MODEL_7da585dfee764bdb8782ac35b6e142c6"
      }
     },
     "8390228ad1364aa68a86b96bf642bf61": {
      "model_module": "@jupyter-widgets/controls",
      "model_module_version": "1.4.0",
      "model_name": "DescriptionStyleModel",
      "state": {
       "description_width": ""
      }
     },
     "83cff18e6a264988ae36134b674e5a85": {
      "model_module": "@jupyter-widgets/controls",
      "model_module_version": "1.4.0",
      "model_name": "ButtonModel",
      "state": {
       "description": "Test",
       "icon": "check",
       "layout": "IPY_MODEL_0cd7629dd3c9461fbd0c47b84ef58eb5",
       "style": "IPY_MODEL_3b2defae62294f9bbd4aaf5e793002c0",
       "tooltip": "Test"
      }
     },
     "842a3f1f0a374c2581602ab8e7600ef6": {
      "model_module": "@jupyter-widgets/controls",
      "model_module_version": "1.4.0",
      "model_name": "LabelModel",
      "state": {
       "layout": "IPY_MODEL_9a4bb58b105e4702af8bc3d718dfd1c3",
       "style": "IPY_MODEL_0f70af7c61ff4ba88081ed4f671ea6fb"
      }
     },
     "8471ba81fc7a4b87adf19a11d05e4af8": {
      "model_module": "@jupyter-widgets/controls",
      "model_module_version": "1.4.0",
      "model_name": "FloatTextModel",
      "state": {
       "layout": "IPY_MODEL_882e1a8d54f245feb71c1266aab6d5aa",
       "step": null,
       "style": "IPY_MODEL_628ee5ba78994b169e2e9670c25e3f71"
      }
     },
     "84978a101c7e4f339808d159363a8bda": {
      "model_module": "@jupyter-widgets/base",
      "model_module_version": "1.1.0",
      "model_name": "LayoutModel",
      "state": {}
     },
     "84a0b15ddb034a2092338bd2b2ed63e9": {
      "model_module": "@jupyter-widgets/controls",
      "model_module_version": "1.4.0",
      "model_name": "VBoxModel",
      "state": {
       "children": [
        "IPY_MODEL_8104af496003451c99d75ef542e131e5"
       ],
       "layout": "IPY_MODEL_ac57f9372bfa4b58a5c390e8d098726c"
      }
     },
     "84cbb61cc3c5445a88ac64650b4b8dfc": {
      "model_module": "@jupyter-widgets/controls",
      "model_module_version": "1.4.0",
      "model_name": "HBoxModel",
      "state": {
       "children": [
        "IPY_MODEL_0f26c8afca96402aa66b81bc451a3559",
        "IPY_MODEL_57f647ac81c04c9e8d05a298607c024c",
        "IPY_MODEL_360875116090414dbddbecaa83b47342",
        "IPY_MODEL_472fafbcc5de4d8bbdea2c2f162640a3",
        "IPY_MODEL_5393a1ec3e0d47feb72f398a7cfa584e"
       ],
       "layout": "IPY_MODEL_1c9b2f53ecbb4da79d03c3c35e70cf14"
      }
     },
     "84e0e3299523499e8fd5a56d12529891": {
      "model_module": "@jupyter-widgets/controls",
      "model_module_version": "1.4.0",
      "model_name": "LabelModel",
      "state": {
       "layout": "IPY_MODEL_341a67e1961c4efaba9cd46195f445c9",
       "style": "IPY_MODEL_b6fa08a5501e4a248ede49d190466047",
       "value": "Ka:"
      }
     },
     "850d20061cb147999055d5ad4f3f4e9c": {
      "model_module": "@jupyter-widgets/base",
      "model_module_version": "1.1.0",
      "model_name": "LayoutModel",
      "state": {}
     },
     "8517bf96ffdc43c0becaa4f3824b62ae": {
      "model_module": "@jupyter-widgets/controls",
      "model_module_version": "1.4.0",
      "model_name": "FloatTextModel",
      "state": {
       "layout": "IPY_MODEL_151cd4e8dcf14832a226f806c78e36e0",
       "step": null,
       "style": "IPY_MODEL_33357e60e03e468ca65e98dd38c74e9f",
       "value": 6244
      }
     },
     "851b1adaff55422a86338f42883ee062": {
      "model_module": "@jupyter-widgets/base",
      "model_module_version": "1.1.0",
      "model_name": "LayoutModel",
      "state": {}
     },
     "85217905f330467f8b5be2ca26a9808f": {
      "model_module": "@jupyter-widgets/controls",
      "model_module_version": "1.4.0",
      "model_name": "DescriptionStyleModel",
      "state": {
       "description_width": ""
      }
     },
     "855199fe1b46419e8a5c73a3e0e43e90": {
      "model_module": "@jupyter-widgets/controls",
      "model_module_version": "1.4.0",
      "model_name": "FloatTextModel",
      "state": {
       "layout": "IPY_MODEL_bfccc83056ff48b88eb7630784f232d4",
       "step": null,
       "style": "IPY_MODEL_dd21852b6b3d4d24a5e9dbedfd3b63e8"
      }
     },
     "865c7e9a6659400080d4e6b55eadd65c": {
      "model_module": "@jupyter-widgets/base",
      "model_module_version": "1.1.0",
      "model_name": "LayoutModel",
      "state": {}
     },
     "8694d410e6384208982d61b29be57d7b": {
      "model_module": "@jupyter-widgets/controls",
      "model_module_version": "1.4.0",
      "model_name": "LabelModel",
      "state": {
       "layout": "IPY_MODEL_45c69bfc454c48e597a023be2fcf2369",
       "style": "IPY_MODEL_2b684e1c6b254b9fa313b5d68cbac70e"
      }
     },
     "86dffef0637946b6bdce07bd18233633": {
      "model_module": "@jupyter-widgets/base",
      "model_module_version": "1.1.0",
      "model_name": "LayoutModel",
      "state": {
       "width": "90px"
      }
     },
     "86f0283019914320900a091de5704fd1": {
      "model_module": "@jupyter-widgets/controls",
      "model_module_version": "1.4.0",
      "model_name": "DescriptionStyleModel",
      "state": {
       "description_width": ""
      }
     },
     "87536ddd51344558bd4978bbb9aa5d77": {
      "model_module": "@jupyter-widgets/base",
      "model_module_version": "1.1.0",
      "model_name": "LayoutModel",
      "state": {
       "width": "90px"
      }
     },
     "87deb80624884ebfa254f62114e25930": {
      "model_module": "@jupyter-widgets/controls",
      "model_module_version": "1.4.0",
      "model_name": "VBoxModel",
      "state": {
       "children": [
        "IPY_MODEL_8f91de1e6ed149e68483c46b8e206da1",
        "IPY_MODEL_125f923ed5a34fe3a28d2f6851a46911"
       ],
       "layout": "IPY_MODEL_10c2b023fe28454a9f66efb594599e4a"
      }
     },
     "882808f04e1648329b3ae5a769379755": {
      "model_module": "@jupyter-widgets/controls",
      "model_module_version": "1.4.0",
      "model_name": "HBoxModel",
      "state": {
       "children": [
        "IPY_MODEL_1c6c62d211f44583a849017a71d78956"
       ],
       "layout": "IPY_MODEL_518df1a391454a7b9ae94325ff2cd3b0"
      }
     },
     "882e1a8d54f245feb71c1266aab6d5aa": {
      "model_module": "@jupyter-widgets/base",
      "model_module_version": "1.1.0",
      "model_name": "LayoutModel",
      "state": {
       "width": "90px"
      }
     },
     "885e5afc93a543b28ab8ce2723aba576": {
      "model_module": "@jupyter-widgets/controls",
      "model_module_version": "1.4.0",
      "model_name": "DescriptionStyleModel",
      "state": {
       "description_width": ""
      }
     },
     "88608d2bd3564091bb944cd23789d33c": {
      "model_module": "@jupyter-widgets/base",
      "model_module_version": "1.1.0",
      "model_name": "LayoutModel",
      "state": {}
     },
     "88eb02c3dc4f44948a1aec3fdbc15243": {
      "model_module": "@jupyter-widgets/controls",
      "model_module_version": "1.4.0",
      "model_name": "DescriptionStyleModel",
      "state": {
       "description_width": ""
      }
     },
     "8940fedfa6b94154bbecb9b93aa2c282": {
      "model_module": "@jupyter-widgets/controls",
      "model_module_version": "1.4.0",
      "model_name": "ButtonStyleModel",
      "state": {}
     },
     "895850746fc047c089a3bab1559d9f9d": {
      "model_module": "@jupyter-widgets/controls",
      "model_module_version": "1.4.0",
      "model_name": "HBoxModel",
      "state": {
       "children": [
        "IPY_MODEL_1b064c01ef0f4056b7748e7fa4e8d0ae",
        "IPY_MODEL_dbcee9f186f7420d9ea831d5ef775039",
        "IPY_MODEL_f4ddf9715a014e14be8ecb2b3ae86c47"
       ],
       "layout": "IPY_MODEL_63256349f2f3454c8059f5412b0862a7"
      }
     },
     "8a079245fbbe4ddf920422f8deed31bb": {
      "model_module": "@jupyter-widgets/controls",
      "model_module_version": "1.4.0",
      "model_name": "HBoxModel",
      "state": {
       "children": [
        "IPY_MODEL_d5eaac2f67684a7b8ea7dd4c17f0b57e",
        "IPY_MODEL_6d68637432684016b0727f506afe0df5",
        "IPY_MODEL_f01b454caf0243f89fac5809d26d4cf2",
        "IPY_MODEL_3fe63ac60ab64ded984e9abeeff7abf5",
        "IPY_MODEL_317ee220faa84115bad387393653c51c",
        "IPY_MODEL_587e0f7d832d4ecc866fb0f39ea9d990",
        "IPY_MODEL_135f645700374f52895dcc521e40d207",
        "IPY_MODEL_555f1c8fd1be494ba25714e40361ee35",
        "IPY_MODEL_cf979171315d44bfbc2c0d6d41f6c225",
        "IPY_MODEL_a3c2a24a94aa456cbd6779a86c1f06ad",
        "IPY_MODEL_25be128dd26d4cd298247bbbc5bbe06a"
       ],
       "layout": "IPY_MODEL_8a6ef5b88fa14169aa167d89c57d71eb"
      }
     },
     "8a6ef5b88fa14169aa167d89c57d71eb": {
      "model_module": "@jupyter-widgets/base",
      "model_module_version": "1.1.0",
      "model_name": "LayoutModel",
      "state": {}
     },
     "8a9bc422e2cc4f8e806f955c0698cf32": {
      "model_module": "@jupyter-widgets/controls",
      "model_module_version": "1.4.0",
      "model_name": "DescriptionStyleModel",
      "state": {
       "description_width": ""
      }
     },
     "8b38ec716be944e0b46bf019ffd46326": {
      "model_module": "@jupyter-widgets/controls",
      "model_module_version": "1.4.0",
      "model_name": "HBoxModel",
      "state": {
       "children": [
        "IPY_MODEL_be0cf595c1f14317a7aaeb76f485754c",
        "IPY_MODEL_8517bf96ffdc43c0becaa4f3824b62ae",
        "IPY_MODEL_ed5069a98fda4fd89f8f6f2f037d4397",
        "IPY_MODEL_aa1c87d6fda14c1980b7d432ee2fe366",
        "IPY_MODEL_f6adbb16255046328fb88ed295414e1e"
       ],
       "layout": "IPY_MODEL_951ff7c9dfad42808f1dc9d409ff2c4c"
      }
     },
     "8b87c03ea80e4a8496fef495518e5222": {
      "model_module": "@jupyter-widgets/controls",
      "model_module_version": "1.4.0",
      "model_name": "DescriptionStyleModel",
      "state": {
       "description_width": ""
      }
     },
     "8b978cd8527c4af38f96b899ad856ff9": {
      "model_module": "@jupyter-widgets/base",
      "model_module_version": "1.1.0",
      "model_name": "LayoutModel",
      "state": {
       "width": "90px"
      }
     },
     "8bd8a16f4c984ae9a3b83d639201f311": {
      "model_module": "@jupyter-widgets/controls",
      "model_module_version": "1.4.0",
      "model_name": "DescriptionStyleModel",
      "state": {
       "description_width": ""
      }
     },
     "8bfd28108db14cf7af63c45afb29a893": {
      "model_module": "@jupyter-widgets/base",
      "model_module_version": "1.1.0",
      "model_name": "LayoutModel",
      "state": {
       "width": "90px"
      }
     },
     "8c56ab7322684d198695ba83389a51a8": {
      "model_module": "@jupyter-widgets/base",
      "model_module_version": "1.1.0",
      "model_name": "LayoutModel",
      "state": {}
     },
     "8c6ff49f59ac4ae19bf1989f184e29e9": {
      "model_module": "@jupyter-widgets/base",
      "model_module_version": "1.1.0",
      "model_name": "LayoutModel",
      "state": {}
     },
     "8c91254678864b30a16507999fae5742": {
      "model_module": "@jupyter-widgets/base",
      "model_module_version": "1.1.0",
      "model_name": "LayoutModel",
      "state": {}
     },
     "8cd3e95c3acf4bdab4dfdc7205fe8fde": {
      "model_module": "@jupyter-widgets/controls",
      "model_module_version": "1.4.0",
      "model_name": "DescriptionStyleModel",
      "state": {
       "description_width": ""
      }
     },
     "8d93505090b24b7392dd19fdafe1ebb7": {
      "model_module": "@jupyter-widgets/base",
      "model_module_version": "1.1.0",
      "model_name": "LayoutModel",
      "state": {}
     },
     "8eb6aa9cb43341ccb9ce62f5ca112617": {
      "model_module": "@jupyter-widgets/base",
      "model_module_version": "1.1.0",
      "model_name": "LayoutModel",
      "state": {}
     },
     "8ef057c6d9fc4db8b615a215a2b5a000": {
      "model_module": "@jupyter-widgets/controls",
      "model_module_version": "1.4.0",
      "model_name": "SliderStyleModel",
      "state": {
       "description_width": ""
      }
     },
     "8f25d2239f6749908f18c36b549526f2": {
      "model_module": "@jupyter-widgets/base",
      "model_module_version": "1.1.0",
      "model_name": "LayoutModel",
      "state": {}
     },
     "8f91de1e6ed149e68483c46b8e206da1": {
      "model_module": "@jupyter-widgets/controls",
      "model_module_version": "1.4.0",
      "model_name": "HBoxModel",
      "state": {
       "children": [
        "IPY_MODEL_eef564791f8b41739add71b75be481ec"
       ],
       "layout": "IPY_MODEL_de0f1909c75e430a86358a3fa0b9a995"
      }
     },
     "8fd79a5d01cf4dd2bd6af523b19f7ddc": {
      "model_module": "@jupyter-widgets/controls",
      "model_module_version": "1.4.0",
      "model_name": "DescriptionStyleModel",
      "state": {
       "description_width": ""
      }
     },
     "90289c97f60843f89f00cd95a0fca4b9": {
      "model_module": "@jupyter-widgets/base",
      "model_module_version": "1.1.0",
      "model_name": "LayoutModel",
      "state": {}
     },
     "90428d44e77d4165ac20f73f2cc388b9": {
      "model_module": "@jupyter-widgets/controls",
      "model_module_version": "1.4.0",
      "model_name": "FloatTextModel",
      "state": {
       "layout": "IPY_MODEL_6ed5ec8dc40b4d3cb6058441525e4f2d",
       "step": null,
       "style": "IPY_MODEL_c528fa3f72494a119beabba3a6213bb7",
       "value": -1
      }
     },
     "90b70496121147c0a1e387dee2f323b8": {
      "model_module": "@jupyter-widgets/base",
      "model_module_version": "1.1.0",
      "model_name": "LayoutModel",
      "state": {}
     },
     "9107b64326ee404abe9f223d27d7cb58": {
      "model_module": "@jupyter-widgets/base",
      "model_module_version": "1.1.0",
      "model_name": "LayoutModel",
      "state": {}
     },
     "912150cf7dd545c9be27f06e2420e9fd": {
      "model_module": "@jupyter-widgets/controls",
      "model_module_version": "1.4.0",
      "model_name": "FloatTextModel",
      "state": {
       "layout": "IPY_MODEL_8b978cd8527c4af38f96b899ad856ff9",
       "step": null,
       "style": "IPY_MODEL_56d0ad94a1ab41bf9b1226b301dc34c5",
       "value": -10
      }
     },
     "913286bb22214d3cb6367fff535d9581": {
      "model_module": "@jupyter-widgets/base",
      "model_module_version": "1.1.0",
      "model_name": "LayoutModel",
      "state": {}
     },
     "9157d2ff6f494800ac8ae9cdc1fde052": {
      "model_module": "@jupyter-widgets/base",
      "model_module_version": "1.1.0",
      "model_name": "LayoutModel",
      "state": {}
     },
     "91f3e31e4795465f9f5adb9155b2d603": {
      "model_module": "@jupyter-widgets/base",
      "model_module_version": "1.1.0",
      "model_name": "LayoutModel",
      "state": {}
     },
     "9227470751ed48d1979a8ab2c991e0cf": {
      "model_module": "@jupyter-widgets/base",
      "model_module_version": "1.1.0",
      "model_name": "LayoutModel",
      "state": {
       "height": "0px",
       "width": "0px"
      }
     },
     "93937d7b6ac642c29e9b061c59a3db2a": {
      "model_module": "@jupyter-widgets/base",
      "model_module_version": "1.1.0",
      "model_name": "LayoutModel",
      "state": {}
     },
     "94109630a2764b6fb9c1f2deaa4eff3f": {
      "model_module": "@jupyter-widgets/controls",
      "model_module_version": "1.4.0",
      "model_name": "FloatTextModel",
      "state": {
       "layout": "IPY_MODEL_9227470751ed48d1979a8ab2c991e0cf",
       "step": null,
       "style": "IPY_MODEL_cda7d59ecf3b463e83fbcca7d6ded37f"
      }
     },
     "94c62e1f059546eaa77c67a8748086d9": {
      "model_module": "@jupyter-widgets/controls",
      "model_module_version": "1.4.0",
      "model_name": "DescriptionStyleModel",
      "state": {
       "description_width": ""
      }
     },
     "94d262c9132f4dee8a1ebacba7959d25": {
      "model_module": "@jupyter-widgets/controls",
      "model_module_version": "1.4.0",
      "model_name": "LabelModel",
      "state": {
       "layout": "IPY_MODEL_de0e0312dad54b3aac1bda5344f2766f",
       "style": "IPY_MODEL_5e19f43ea55f42219de81bad36116894"
      }
     },
     "951ff7c9dfad42808f1dc9d409ff2c4c": {
      "model_module": "@jupyter-widgets/base",
      "model_module_version": "1.1.0",
      "model_name": "LayoutModel",
      "state": {}
     },
     "9556274e90b64a4bb51b8e1a2eb0462e": {
      "model_module": "@jupyter-widgets/base",
      "model_module_version": "1.1.0",
      "model_name": "LayoutModel",
      "state": {}
     },
     "955a72f962644df8bea0b03467a6d2e3": {
      "model_module": "@jupyter-widgets/base",
      "model_module_version": "1.1.0",
      "model_name": "LayoutModel",
      "state": {}
     },
     "965ba5aa3bb648c899f8ba33fda5cf31": {
      "model_module": "@jupyter-widgets/controls",
      "model_module_version": "1.4.0",
      "model_name": "FloatTextModel",
      "state": {
       "layout": "IPY_MODEL_74b2c32160214088bd33ae84127e92bc",
       "step": null,
       "style": "IPY_MODEL_a5c61a105e6e45afa9758af74b614962",
       "value": 2225
      }
     },
     "967ea0cea3b44232b483737bad238961": {
      "model_module": "@jupyter-widgets/controls",
      "model_module_version": "1.4.0",
      "model_name": "DescriptionStyleModel",
      "state": {
       "description_width": ""
      }
     },
     "9850692dac5444339af116e293364b98": {
      "model_module": "@jupyter-widgets/controls",
      "model_module_version": "1.4.0",
      "model_name": "LabelModel",
      "state": {
       "layout": "IPY_MODEL_364239ea052146749c210d876d457052",
       "style": "IPY_MODEL_a17e77cf8e2d4cd1b086d4dda0b399ce"
      }
     },
     "991efac838994f0ab46af4dd67a6cce2": {
      "model_module": "@jupyter-widgets/base",
      "model_module_version": "1.1.0",
      "model_name": "LayoutModel",
      "state": {}
     },
     "992c66e245f641c19dbfccd1fcf3dc9b": {
      "model_module": "@jupyter-widgets/controls",
      "model_module_version": "1.4.0",
      "model_name": "LabelModel",
      "state": {
       "layout": "IPY_MODEL_c355d1874a554165b4099d8da3d35aef",
       "style": "IPY_MODEL_0e3a382431764e918183d36d775bca91",
       "value": "La:"
      }
     },
     "992d4f926f4b47b79dee5492a88d012f": {
      "model_module": "@jupyter-widgets/controls",
      "model_module_version": "1.4.0",
      "model_name": "FloatTextModel",
      "state": {
       "disabled": true,
       "layout": "IPY_MODEL_eb845b48322e45158642a399f660afa0",
       "step": null,
       "style": "IPY_MODEL_69596f18125f465a842253c4a56b8254",
       "value": -0.35
      }
     },
     "996a0fc2c31d488089176d41d8206f99": {
      "model_module": "@jupyter-widgets/controls",
      "model_module_version": "1.4.0",
      "model_name": "DescriptionStyleModel",
      "state": {
       "description_width": ""
      }
     },
     "99e3340dccac4f1a9ed489a4bb4d53b8": {
      "model_module": "@jupyter-widgets/controls",
      "model_module_version": "1.4.0",
      "model_name": "DropdownModel",
      "state": {
       "_options_labels": [
        "0 complex eigenvalues",
        "2 complex eigenvalues"
       ],
       "description": "Aobs:",
       "disabled": true,
       "index": 0,
       "layout": "IPY_MODEL_217df9fb08f841e0b881ed5ff541226f",
       "style": "IPY_MODEL_def75223186b46c2ab6eb64e80dbe69d"
      }
     },
     "9a30578514a043dc80c647d4b5ab588d": {
      "model_module": "@jupyter-widgets/controls",
      "model_module_version": "1.4.0",
      "model_name": "LabelModel",
      "state": {
       "layout": "IPY_MODEL_c3383bbe576346f085ed887be29c1071",
       "style": "IPY_MODEL_78e0cf59f666429ba0b284f17cd837f0"
      }
     },
     "9a4bb58b105e4702af8bc3d718dfd1c3": {
      "model_module": "@jupyter-widgets/base",
      "model_module_version": "1.1.0",
      "model_name": "LayoutModel",
      "state": {}
     },
     "9a5f4e5b037a43a9b59844db56f0835f": {
      "model_module": "@jupyter-widgets/base",
      "model_module_version": "1.1.0",
      "model_name": "LayoutModel",
      "state": {}
     },
     "9aa8d3ec40df4e009aab31ecae602e3a": {
      "model_module": "@jupyter-widgets/base",
      "model_module_version": "1.1.0",
      "model_name": "LayoutModel",
      "state": {}
     },
     "9adf73266e5b41fca5ffa68f3c06d757": {
      "model_module": "@jupyter-widgets/base",
      "model_module_version": "1.1.0",
      "model_name": "LayoutModel",
      "state": {}
     },
     "9b5dafc61d3444c5ad1d3934f7051d68": {
      "model_module": "@jupyter-widgets/base",
      "model_module_version": "1.1.0",
      "model_name": "LayoutModel",
      "state": {}
     },
     "9be6a001337f487e922bd0dfa9a78022": {
      "model_module": "@jupyter-widgets/controls",
      "model_module_version": "1.4.0",
      "model_name": "LabelModel",
      "state": {
       "layout": "IPY_MODEL_6c5bde8b5bac48509228c5bee9f36bbd",
       "style": "IPY_MODEL_65deab75d13c4bf1bef36f3c38182f6b",
       "value": "Aobs's eigs:"
      }
     },
     "9c510b94c02845c18cef93c5f4a2484f": {
      "model_module": "@jupyter-widgets/base",
      "model_module_version": "1.1.0",
      "model_name": "LayoutModel",
      "state": {}
     },
     "9c5f455366254c98bcb2a632ba62746f": {
      "model_module": "@jupyter-widgets/controls",
      "model_module_version": "1.4.0",
      "model_name": "DropdownModel",
      "state": {
       "_options_labels": [
        "0 complex eigenvalues",
        "2 complex eigenvalues",
        "4 complex eigenvalues"
       ],
       "description": "Aa:",
       "disabled": true,
       "index": 0,
       "layout": "IPY_MODEL_8c91254678864b30a16507999fae5742",
       "style": "IPY_MODEL_0ffabbd5de5b4e49b39460918d7833c9"
      }
     },
     "9c7326c1824c4d51bcba36be24cfd780": {
      "model_module": "@jupyter-widgets/controls",
      "model_module_version": "1.4.0",
      "model_name": "DescriptionStyleModel",
      "state": {
       "description_width": ""
      }
     },
     "9d157d49b60d48c9ae30175ff22d2776": {
      "model_module": "@jupyter-widgets/base",
      "model_module_version": "1.1.0",
      "model_name": "LayoutModel",
      "state": {}
     },
     "9d2107f7a8294bb5a1e31ad3096c399e": {
      "model_module": "@jupyter-widgets/controls",
      "model_module_version": "1.4.0",
      "model_name": "DropdownModel",
      "state": {
       "_options_labels": [
        "Set Ka and La",
        "Set the eigenvalues"
       ],
       "index": 0,
       "layout": "IPY_MODEL_d6431a11b46943d48afc9b025482f791",
       "style": "IPY_MODEL_24dd982e2a6149fa8600278128d390d9"
      }
     },
     "9e0c7264530f48d8a6e52208066546ff": {
      "model_module": "@jupyter-widgets/controls",
      "model_module_version": "1.4.0",
      "model_name": "VBoxModel",
      "state": {
       "children": [
        "IPY_MODEL_c566d7ba152c41a9bb70e0b1399a0f3e",
        "IPY_MODEL_ffc5676e98b545a9897040da8eda7dc9"
       ],
       "layout": "IPY_MODEL_dd750e074b794c73b436f80106ff3f09"
      }
     },
     "9e3dc09502d8495584a6ac12c8f8ac5a": {
      "model_module": "@jupyter-widgets/base",
      "model_module_version": "1.1.0",
      "model_name": "LayoutModel",
      "state": {}
     },
     "9e4fb7fb6cee4738ab762e038ba437ba": {
      "model_module": "@jupyter-widgets/base",
      "model_module_version": "1.1.0",
      "model_name": "LayoutModel",
      "state": {}
     },
     "9edf3cd601b845089ed8bd5d7bc8d3eb": {
      "model_module": "@jupyter-widgets/base",
      "model_module_version": "1.1.0",
      "model_name": "LayoutModel",
      "state": {}
     },
     "9efb9c3136cb4814bbbbb397033e6d24": {
      "model_module": "@jupyter-widgets/controls",
      "model_module_version": "1.4.0",
      "model_name": "FloatTextModel",
      "state": {
       "layout": "IPY_MODEL_5cf0c5c499384c6f96f84a0eae53b53c",
       "step": null,
       "style": "IPY_MODEL_32a09d78e0b3416a94dc5ac17c5bb0d0",
       "value": -66.66666666666667
      }
     },
     "9f2b0ec4d4034ae3ad81a74617b85dd9": {
      "model_module": "@jupyter-widgets/controls",
      "model_module_version": "1.4.0",
      "model_name": "FloatTextModel",
      "state": {
       "layout": "IPY_MODEL_e35ded94ccdb411fb3f03b38368623d6",
       "step": null,
       "style": "IPY_MODEL_f971744a6b6f4c44b945449b4acd81c4"
      }
     },
     "9f426cacd41c42aca1af846e019bfa02": {
      "model_module": "@jupyter-widgets/controls",
      "model_module_version": "1.4.0",
      "model_name": "LabelModel",
      "state": {
       "layout": "IPY_MODEL_226ecd100d9b43bdb15a7c6850582d90",
       "style": "IPY_MODEL_b33e7488490b4fa8ba525c1d8fbb4126"
      }
     },
     "9f7de2b91d5f4664b24e72fafb4248bf": {
      "model_module": "@jupyter-widgets/controls",
      "model_module_version": "1.4.0",
      "model_name": "LabelModel",
      "state": {
       "layout": "IPY_MODEL_460300bb7cfb4e759ba669fd07f3b123",
       "style": "IPY_MODEL_ea21094a446f4ef5a10ba3ec7281a8e1"
      }
     },
     "a016d7fcf44b4c7988226f529ae389e7": {
      "model_module": "@jupyter-widgets/controls",
      "model_module_version": "1.4.0",
      "model_name": "LabelModel",
      "state": {
       "layout": "IPY_MODEL_28145b3fa0c947388e212e724a9d4113",
       "style": "IPY_MODEL_bc95ce86f973460686ff28ab1ad25643",
       "value": "La:"
      }
     },
     "a17e77cf8e2d4cd1b086d4dda0b399ce": {
      "model_module": "@jupyter-widgets/controls",
      "model_module_version": "1.4.0",
      "model_name": "DescriptionStyleModel",
      "state": {
       "description_width": ""
      }
     },
     "a1e753b9be3c4fb18a402f4d11ad7622": {
      "model_module": "@jupyter-widgets/output",
      "model_module_version": "1.0.0",
      "model_name": "OutputModel",
      "state": {
       "layout": "IPY_MODEL_2ad36e1cd7c6491ebd207e23495eaf5f",
       "outputs": [
        {
         "name": "stdout",
         "output_type": "stream",
         "text": "The Aa's eigenvalues are: -2.24+2.23j, -2.24+-2.23j, -0.28+0.00j, -0.26+0.32j and -0.26+-0.32j\nThe observer\\s eigenvalues are: -10.00+0.00j and -10.00+0.00j\n"
        }
       ]
      }
     },
     "a1f873543ca745e8869870277844004a": {
      "model_module": "@jupyter-widgets/controls",
      "model_module_version": "1.4.0",
      "model_name": "FloatTextModel",
      "state": {
       "disabled": true,
       "layout": "IPY_MODEL_abd294ef813b4562ba3af45c793fa8cd",
       "step": null,
       "style": "IPY_MODEL_186de4e4fe0949228939f5d0f3901124"
      }
     },
     "a225f194cbbc4a6dbf9bed6cdfccc646": {
      "model_module": "@jupyter-widgets/controls",
      "model_module_version": "1.4.0",
      "model_name": "DescriptionStyleModel",
      "state": {
       "description_width": ""
      }
     },
     "a233f2749697478193516c67501f9bf6": {
      "model_module": "@jupyter-widgets/controls",
      "model_module_version": "1.4.0",
      "model_name": "HBoxModel",
      "state": {
       "children": [
        "IPY_MODEL_3fcf20770fa04a8f99220ecff57a919c",
        "IPY_MODEL_7571abb03f0040679517c6245bf38472",
        "IPY_MODEL_5ca9d6cfbf1e4f5a95615e0dba52d25b",
        "IPY_MODEL_fbb1d9058ea14688b02e1bf1f255cd4f",
        "IPY_MODEL_784694adeef14254b06506b91ca25387"
       ],
       "layout": "IPY_MODEL_d12e5a5b011349588613791490b0f7e0"
      }
     },
     "a267df06d1fd4abdbeeaa4b209f965f6": {
      "model_module": "@jupyter-widgets/controls",
      "model_module_version": "1.4.0",
      "model_name": "VBoxModel",
      "state": {
       "children": [
        "IPY_MODEL_ce2edb54fe42459ca62c2936d6529836",
        "IPY_MODEL_bd3eeb55a66a4475a7aca37d905b30d1"
       ],
       "layout": "IPY_MODEL_296ca86ae0ed488dbcf495fcee09b2d4"
      }
     },
     "a2730760d6e340dd9350b3d45baf8886": {
      "model_module": "@jupyter-widgets/controls",
      "model_module_version": "1.4.0",
      "model_name": "DescriptionStyleModel",
      "state": {
       "description_width": ""
      }
     },
     "a2a23603747a44b8b4b99e05ba1585cc": {
      "model_module": "@jupyter-widgets/controls",
      "model_module_version": "1.4.0",
      "model_name": "DescriptionStyleModel",
      "state": {
       "description_width": ""
      }
     },
     "a2ad8cd0ada14749b6cff38db8256c77": {
      "model_module": "@jupyter-widgets/base",
      "model_module_version": "1.1.0",
      "model_name": "LayoutModel",
      "state": {}
     },
     "a2b1153c0b734d19bbbe9e4cb71dfd22": {
      "model_module": "@jupyter-widgets/base",
      "model_module_version": "1.1.0",
      "model_name": "LayoutModel",
      "state": {}
     },
     "a33161fb781f43298700965957684f1e": {
      "model_module": "@jupyter-widgets/controls",
      "model_module_version": "1.4.0",
      "model_name": "ButtonModel",
      "state": {
       "description": "Test",
       "icon": "check",
       "layout": "IPY_MODEL_6672827f1251434cafa61ba9bb202373",
       "style": "IPY_MODEL_eb04c670a97349aa81672b123aa0368f",
       "tooltip": "Test"
      }
     },
     "a35a317a47864a4bbdf20780013db7d8": {
      "model_module": "@jupyter-widgets/controls",
      "model_module_version": "1.4.0",
      "model_name": "DescriptionStyleModel",
      "state": {
       "description_width": ""
      }
     },
     "a3c2a24a94aa456cbd6779a86c1f06ad": {
      "model_module": "@jupyter-widgets/controls",
      "model_module_version": "1.4.0",
      "model_name": "VBoxModel",
      "state": {
       "children": [
        "IPY_MODEL_f66682badded4087a8e4129a3e4d524b"
       ],
       "layout": "IPY_MODEL_3b4c40f6dee64918a393d35056e0c706"
      }
     },
     "a3e62160c9b54b1d8127e609d6602571": {
      "model_module": "@jupyter-widgets/base",
      "model_module_version": "1.1.0",
      "model_name": "LayoutModel",
      "state": {}
     },
     "a428fbacff1a4a828a289047af365d41": {
      "model_module": "@jupyter-widgets/controls",
      "model_module_version": "1.4.0",
      "model_name": "DescriptionStyleModel",
      "state": {
       "description_width": ""
      }
     },
     "a4573b1d69b94da6abe2d29a5940a904": {
      "model_module": "@jupyter-widgets/controls",
      "model_module_version": "1.4.0",
      "model_name": "DescriptionStyleModel",
      "state": {
       "description_width": ""
      }
     },
     "a460952c12254a589008273d3b2199a9": {
      "model_module": "@jupyter-widgets/base",
      "model_module_version": "1.1.0",
      "model_name": "LayoutModel",
      "state": {}
     },
     "a4d1a29d08444259bc6ac049b78ec661": {
      "model_module": "@jupyter-widgets/base",
      "model_module_version": "1.1.0",
      "model_name": "LayoutModel",
      "state": {}
     },
     "a5628dd710ed40f0836562eea9957797": {
      "model_module": "@jupyter-widgets/controls",
      "model_module_version": "1.4.0",
      "model_name": "HBoxModel",
      "state": {
       "children": [
        "IPY_MODEL_90428d44e77d4165ac20f73f2cc388b9"
       ],
       "layout": "IPY_MODEL_4ec30f2860a74ef0a6f495243611dd88"
      }
     },
     "a5808a4c8deb4864a3bf6c22210b4579": {
      "model_module": "@jupyter-widgets/base",
      "model_module_version": "1.1.0",
      "model_name": "LayoutModel",
      "state": {}
     },
     "a5b53e522d8e4962a7d78f2bf1ad4c12": {
      "model_module": "@jupyter-widgets/controls",
      "model_module_version": "1.4.0",
      "model_name": "HBoxModel",
      "state": {
       "children": [
        "IPY_MODEL_0f26c8afca96402aa66b81bc451a3559",
        "IPY_MODEL_4ddaa11b8783416d8518d303745b09a7",
        "IPY_MODEL_6e7e97282d8646a99e47bb6ba752331d",
        "IPY_MODEL_bf5b937f5c5c49df9d883ad5b1642e3c",
        "IPY_MODEL_36b4c1c517ff44af830b4f3695cbd377"
       ],
       "layout": "IPY_MODEL_5fd329d9eb304ad5a6bce400ae2719bd"
      }
     },
     "a5c61a105e6e45afa9758af74b614962": {
      "model_module": "@jupyter-widgets/controls",
      "model_module_version": "1.4.0",
      "model_name": "DescriptionStyleModel",
      "state": {
       "description_width": ""
      }
     },
     "a632af6c959f4150a8552cf2868f1563": {
      "model_module": "@jupyter-widgets/controls",
      "model_module_version": "1.4.0",
      "model_name": "HBoxModel",
      "state": {
       "children": [
        "IPY_MODEL_a1f873543ca745e8869870277844004a"
       ],
       "layout": "IPY_MODEL_37327690f2424d65b8d49eece9eaf6a9"
      }
     },
     "a6ad84dbfce948f98666e1dd20d617e5": {
      "model_module": "@jupyter-widgets/controls",
      "model_module_version": "1.4.0",
      "model_name": "DescriptionStyleModel",
      "state": {
       "description_width": ""
      }
     },
     "a7b4cf28d00f47458db9d6207df4c87c": {
      "model_module": "@jupyter-widgets/base",
      "model_module_version": "1.1.0",
      "model_name": "LayoutModel",
      "state": {}
     },
     "a8c021ecd91740e0a4a051e52059b3e9": {
      "model_module": "@jupyter-widgets/base",
      "model_module_version": "1.1.0",
      "model_name": "LayoutModel",
      "state": {}
     },
     "a91bbca18081424791e2d1ee5f5cce53": {
      "model_module": "@jupyter-widgets/controls",
      "model_module_version": "1.4.0",
      "model_name": "HBoxModel",
      "state": {
       "children": [
        "IPY_MODEL_1c47caf2cb4b47a3a6d0d38a124adb42",
        "IPY_MODEL_e64a1f67ddd246a4b2817a99b07cca56",
        "IPY_MODEL_e7eba20de0944e0c98115502cd135383",
        "IPY_MODEL_7d01dc2c0b4d48d98e763efa1f17a404",
        "IPY_MODEL_7ffaa79fb9994c4bae603296d84f245e",
        "IPY_MODEL_df4f2e5f7cac45da9930e46f5690c3a4"
       ],
       "layout": "IPY_MODEL_4c4a53b62fd44b28b1cce41d159b39bf"
      }
     },
     "a9c2a999751c47b590d4150abf7bbb56": {
      "model_module": "@jupyter-widgets/controls",
      "model_module_version": "1.4.0",
      "model_name": "LabelModel",
      "state": {
       "layout": "IPY_MODEL_28eeaa6532d64589be32837e44b6116e",
       "style": "IPY_MODEL_bfc0aca326e44e0e8cfa33e7a1b1d630"
      }
     },
     "a9df4eb6b13f4772b2ba3fc42ce6a654": {
      "model_module": "@jupyter-widgets/controls",
      "model_module_version": "1.4.0",
      "model_name": "DescriptionStyleModel",
      "state": {
       "description_width": ""
      }
     },
     "aa1c17dc86e6441485062eed23d3ab0a": {
      "model_module": "@jupyter-widgets/base",
      "model_module_version": "1.1.0",
      "model_name": "LayoutModel",
      "state": {}
     },
     "aa1c87d6fda14c1980b7d432ee2fe366": {
      "model_module": "@jupyter-widgets/controls",
      "model_module_version": "1.4.0",
      "model_name": "FloatTextModel",
      "state": {
       "layout": "IPY_MODEL_86dffef0637946b6bdce07bd18233633",
       "step": null,
       "style": "IPY_MODEL_4278af2ea2454105a0438aceb142c914",
       "value": 5275
      }
     },
     "aa396f910ca1429e83f9525d6adb3ba8": {
      "model_module": "@jupyter-widgets/base",
      "model_module_version": "1.1.0",
      "model_name": "LayoutModel",
      "state": {}
     },
     "aa41ddcb506d4d6a8ae6f55403ae7d59": {
      "model_module": "@jupyter-widgets/base",
      "model_module_version": "1.1.0",
      "model_name": "LayoutModel",
      "state": {
       "width": "90px"
      }
     },
     "ab5d1f7943974b4ea254b5b26a1c85d8": {
      "model_module": "@jupyter-widgets/controls",
      "model_module_version": "1.4.0",
      "model_name": "LabelModel",
      "state": {
       "layout": "IPY_MODEL_16112e01e61a4c7a852edd7bb209d2be",
       "style": "IPY_MODEL_7922325f544a4df3b7a664440ab450f3"
      }
     },
     "ab62f7fb8f884a83b7a1a8cd07fc402b": {
      "model_module": "@jupyter-widgets/base",
      "model_module_version": "1.1.0",
      "model_name": "LayoutModel",
      "state": {}
     },
     "abbda41855ae4751925c4c1c2e1ecad3": {
      "model_module": "@jupyter-widgets/controls",
      "model_module_version": "1.4.0",
      "model_name": "FloatTextModel",
      "state": {
       "layout": "IPY_MODEL_37e3d4ef915442e587ab592c14598b61",
       "step": null,
       "style": "IPY_MODEL_0f6c3a9260604cbfabe83a35c70edc75"
      }
     },
     "abd294ef813b4562ba3af45c793fa8cd": {
      "model_module": "@jupyter-widgets/base",
      "model_module_version": "1.1.0",
      "model_name": "LayoutModel",
      "state": {
       "width": "90px"
      }
     },
     "ac0ffe7011a04929a5584f8a14bbb898": {
      "model_module": "@jupyter-widgets/controls",
      "model_module_version": "1.4.0",
      "model_name": "DescriptionStyleModel",
      "state": {
       "description_width": ""
      }
     },
     "ac1bd1734d2c4d0182e333fa5842cb67": {
      "model_module": "@jupyter-widgets/controls",
      "model_module_version": "1.4.0",
      "model_name": "FloatTextModel",
      "state": {
       "layout": "IPY_MODEL_2bf0392a0f39437ba55867d895e68ba0",
       "step": null,
       "style": "IPY_MODEL_daf87ceba6fc4cff807558eed8167824"
      }
     },
     "ac57f9372bfa4b58a5c390e8d098726c": {
      "model_module": "@jupyter-widgets/base",
      "model_module_version": "1.1.0",
      "model_name": "LayoutModel",
      "state": {}
     },
     "ac58d08f3ce54afa8fe5fd6c045ae5af": {
      "model_module": "@jupyter-widgets/controls",
      "model_module_version": "1.4.0",
      "model_name": "HBoxModel",
      "state": {
       "children": [
        "IPY_MODEL_1cf2e125728c4d5e8c8fea95a6038064",
        "IPY_MODEL_6d68637432684016b0727f506afe0df5",
        "IPY_MODEL_f01b454caf0243f89fac5809d26d4cf2",
        "IPY_MODEL_3fe63ac60ab64ded984e9abeeff7abf5",
        "IPY_MODEL_317ee220faa84115bad387393653c51c",
        "IPY_MODEL_587e0f7d832d4ecc866fb0f39ea9d990",
        "IPY_MODEL_212cbb388f3446d9be9fc9ea66b8a4ef",
        "IPY_MODEL_9850692dac5444339af116e293364b98",
        "IPY_MODEL_9be6a001337f487e922bd0dfa9a78022",
        "IPY_MODEL_a3c2a24a94aa456cbd6779a86c1f06ad",
        "IPY_MODEL_25be128dd26d4cd298247bbbc5bbe06a"
       ],
       "layout": "IPY_MODEL_9157d2ff6f494800ac8ae9cdc1fde052"
      }
     },
     "ac8c59c13a5f406eab4c4e5831aab8c5": {
      "model_module": "@jupyter-widgets/controls",
      "model_module_version": "1.4.0",
      "model_name": "DescriptionStyleModel",
      "state": {
       "description_width": ""
      }
     },
     "acc2a1e4067f46c38bb2cbd0039ce326": {
      "model_module": "@jupyter-widgets/base",
      "model_module_version": "1.1.0",
      "model_name": "LayoutModel",
      "state": {}
     },
     "acce651c42c84a9894a543393f8a167c": {
      "model_module": "@jupyter-widgets/base",
      "model_module_version": "1.1.0",
      "model_name": "LayoutModel",
      "state": {}
     },
     "ace5b89dbb38430baaca9d95f8928041": {
      "model_module": "@jupyter-widgets/base",
      "model_module_version": "1.1.0",
      "model_name": "LayoutModel",
      "state": {}
     },
     "acecc2cb78574027ab0f5990fddab600": {
      "model_module": "@jupyter-widgets/controls",
      "model_module_version": "1.4.0",
      "model_name": "LabelModel",
      "state": {
       "layout": "IPY_MODEL_f699eb1a696a488fab7f9c72c92dee1a",
       "style": "IPY_MODEL_59fa07d6295e403fb187b29b6a589349"
      }
     },
     "acfff617198a4fed9692133377da3b47": {
      "model_module": "@jupyter-widgets/base",
      "model_module_version": "1.1.0",
      "model_name": "LayoutModel",
      "state": {}
     },
     "ad34d26874a24d2c89c2f16a3cf953ee": {
      "model_module": "@jupyter-widgets/controls",
      "model_module_version": "1.4.0",
      "model_name": "LabelModel",
      "state": {
       "layout": "IPY_MODEL_9c510b94c02845c18cef93c5f4a2484f",
       "style": "IPY_MODEL_779c0d356e134116a834edf79e733609"
      }
     },
     "ad7ee93bc69e44238236082c27729623": {
      "model_module": "@jupyter-widgets/controls",
      "model_module_version": "1.4.0",
      "model_name": "LabelModel",
      "state": {
       "layout": "IPY_MODEL_32c998c40fcb45f29c5f62895b3ae599",
       "style": "IPY_MODEL_3e952182f68c4e9ab7e75f184898c9a2",
       "value": "Ka:"
      }
     },
     "ad88204fbe9a48e0978492ccd91ad57b": {
      "model_module": "@jupyter-widgets/base",
      "model_module_version": "1.1.0",
      "model_name": "LayoutModel",
      "state": {}
     },
     "ad8f79d762fa4eb4b640314da6950629": {
      "model_module": "@jupyter-widgets/controls",
      "model_module_version": "1.4.0",
      "model_name": "HBoxModel",
      "state": {
       "children": [
        "IPY_MODEL_6313022924144436af1f7f4cd8e9779c"
       ],
       "layout": "IPY_MODEL_c51bdfc13b47415f9460f0ee83c1df87"
      }
     },
     "ada0e8828ac343df9e9760d6df6d9714": {
      "model_module": "@jupyter-widgets/base",
      "model_module_version": "1.1.0",
      "model_name": "LayoutModel",
      "state": {}
     },
     "adb4d4606a424246aaccb800cd1f30df": {
      "model_module": "@jupyter-widgets/base",
      "model_module_version": "1.1.0",
      "model_name": "LayoutModel",
      "state": {}
     },
     "add2942f83e541c2af6d4410e83b6dde": {
      "model_module": "@jupyter-widgets/base",
      "model_module_version": "1.1.0",
      "model_name": "LayoutModel",
      "state": {}
     },
     "add9bf7eae994418b676c6558ec5f0f1": {
      "model_module": "@jupyter-widgets/controls",
      "model_module_version": "1.4.0",
      "model_name": "DescriptionStyleModel",
      "state": {
       "description_width": ""
      }
     },
     "ade065b9c0274c9f8243ed695fe68333": {
      "model_module": "@jupyter-widgets/controls",
      "model_module_version": "1.4.0",
      "model_name": "DescriptionStyleModel",
      "state": {
       "description_width": ""
      }
     },
     "ade07f29b03d42f9af3c3c14c7d31ea0": {
      "model_module": "@jupyter-widgets/base",
      "model_module_version": "1.1.0",
      "model_name": "LayoutModel",
      "state": {}
     },
     "ae2970f665224c9fbc4420c1cffb665d": {
      "model_module": "@jupyter-widgets/base",
      "model_module_version": "1.1.0",
      "model_name": "LayoutModel",
      "state": {}
     },
     "ae665ed5b04d42f1b2b624cfbc726e6f": {
      "model_module": "@jupyter-widgets/base",
      "model_module_version": "1.1.0",
      "model_name": "LayoutModel",
      "state": {}
     },
     "aec6d0f1383e406296db3be22810ad9c": {
      "model_module": "@jupyter-widgets/controls",
      "model_module_version": "1.4.0",
      "model_name": "LabelModel",
      "state": {
       "layout": "IPY_MODEL_409aba40e57f41d5bb4f1379e4152d4e",
       "style": "IPY_MODEL_f48ce26f0db74d56b4257564f06b803e",
       "value": "La:"
      }
     },
     "aecb9207ab8d41ffb563fc62ebc16006": {
      "model_module": "@jupyter-widgets/output",
      "model_module_version": "1.0.0",
      "model_name": "OutputModel",
      "state": {
       "layout": "IPY_MODEL_3882f6bf357a4adab0cd5691b4c6c866",
       "outputs": [
        {
         "name": "stdout",
         "output_type": "stream",
         "text": "The Aa's eigenvalues are: -2.24+2.23j, -2.24+-2.23j, -0.28+0.00j, -0.26+0.32j and -0.26+-0.32j\nThe observer\\s eigenvalues are: -10.00+0.00j and -10.00+0.00j\n"
        }
       ]
      }
     },
     "aef9a5d2035249b8a3333a29aded71de": {
      "model_module": "@jupyter-widgets/controls",
      "model_module_version": "1.4.0",
      "model_name": "FloatTextModel",
      "state": {
       "layout": "IPY_MODEL_aa41ddcb506d4d6a8ae6f55403ae7d59",
       "step": null,
       "style": "IPY_MODEL_0706e16b9ab64db69dc8b23ae2724d9e",
       "value": -0.5
      }
     },
     "af33c6205ab247349a81557418e23272": {
      "model_module": "@jupyter-widgets/base",
      "model_module_version": "1.1.0",
      "model_name": "LayoutModel",
      "state": {}
     },
     "af6f99f25c5f46168e1651111b8ad41b": {
      "model_module": "@jupyter-widgets/controls",
      "model_module_version": "1.4.0",
      "model_name": "DescriptionStyleModel",
      "state": {
       "description_width": ""
      }
     },
     "b05b346ca5f149c68313830c8017a0c4": {
      "model_module": "@jupyter-widgets/controls",
      "model_module_version": "1.4.0",
      "model_name": "LabelModel",
      "state": {
       "layout": "IPY_MODEL_37d23d6207874b9db8948c62f4cd0835",
       "style": "IPY_MODEL_4bdfb3011517401eace9dacb974b719c"
      }
     },
     "b080ba2fe8b74e95941fc70e47b839e1": {
      "model_module": "@jupyter-widgets/controls",
      "model_module_version": "1.4.0",
      "model_name": "VBoxModel",
      "state": {
       "children": [
        "IPY_MODEL_ad8f79d762fa4eb4b640314da6950629"
       ],
       "layout": "IPY_MODEL_deaede3f369447fa81a975c26718206a"
      }
     },
     "b091aa29372a4b588df50dbfdb73bfca": {
      "model_module": "@jupyter-widgets/controls",
      "model_module_version": "1.4.0",
      "model_name": "DescriptionStyleModel",
      "state": {
       "description_width": ""
      }
     },
     "b099da3d4c434dc5847966b8cdd77694": {
      "model_module": "@jupyter-widgets/base",
      "model_module_version": "1.1.0",
      "model_name": "LayoutModel",
      "state": {}
     },
     "b16de3267e844d5893eb86aa89317258": {
      "model_module": "@jupyter-widgets/base",
      "model_module_version": "1.1.0",
      "model_name": "LayoutModel",
      "state": {}
     },
     "b21b2a2d1b35450395e3c319fc54c196": {
      "model_module": "@jupyter-widgets/controls",
      "model_module_version": "1.4.0",
      "model_name": "FloatTextModel",
      "state": {
       "layout": "IPY_MODEL_e2a06b360f0e49c6be50c844c97854d2",
       "step": null,
       "style": "IPY_MODEL_a6ad84dbfce948f98666e1dd20d617e5",
       "value": -0.6
      }
     },
     "b2d05cd7284844c9a283bfeaa163772d": {
      "model_module": "@jupyter-widgets/controls",
      "model_module_version": "1.4.0",
      "model_name": "LabelModel",
      "state": {
       "layout": "IPY_MODEL_3e59c5655b3f41d1aaf0f24e30cdd54c",
       "style": "IPY_MODEL_2bc216ef3e2d46c8b160d194b072936c",
       "value": "Aobs's eigs:"
      }
     },
     "b33e7488490b4fa8ba525c1d8fbb4126": {
      "model_module": "@jupyter-widgets/controls",
      "model_module_version": "1.4.0",
      "model_name": "DescriptionStyleModel",
      "state": {
       "description_width": ""
      }
     },
     "b438c6c4dba24c86a5f99cb78a66dc10": {
      "model_module": "@jupyter-widgets/base",
      "model_module_version": "1.1.0",
      "model_name": "LayoutModel",
      "state": {}
     },
     "b44a86c421fc453e90a3fbdd66345770": {
      "model_module": "@jupyter-widgets/base",
      "model_module_version": "1.1.0",
      "model_name": "LayoutModel",
      "state": {}
     },
     "b45ddf3e5d6349ee82a4176a026af3aa": {
      "model_module": "@jupyter-widgets/controls",
      "model_module_version": "1.4.0",
      "model_name": "DescriptionStyleModel",
      "state": {
       "description_width": ""
      }
     },
     "b5581d35824c472bb9eaac0a5762f404": {
      "model_module": "@jupyter-widgets/controls",
      "model_module_version": "1.4.0",
      "model_name": "DropdownModel",
      "state": {
       "_options_labels": [
        "0 complex eigenvalues",
        "2 complex eigenvalues"
       ],
       "description": "Aobs:",
       "disabled": true,
       "index": 0,
       "layout": "IPY_MODEL_ebb16ece53454ebcaf4e7e76b58df6c0",
       "style": "IPY_MODEL_b45ddf3e5d6349ee82a4176a026af3aa"
      }
     },
     "b55b9482c3094a98a8cf619d230dbc9b": {
      "model_module": "@jupyter-widgets/controls",
      "model_module_version": "1.4.0",
      "model_name": "LabelModel",
      "state": {
       "layout": "IPY_MODEL_ca11427347f64c5f951f50f087770cb1",
       "style": "IPY_MODEL_fa6b3a1cd38f4591b1ea46c619cb3030"
      }
     },
     "b56385a123a9454aa4c26e576ee9e00e": {
      "model_module": "@jupyter-widgets/controls",
      "model_module_version": "1.4.0",
      "model_name": "LabelModel",
      "state": {
       "layout": "IPY_MODEL_285f9014036e4d5485f9c4c625564664",
       "style": "IPY_MODEL_ddcde07e7b004058846b6f64691c5b1b",
       "value": "Aa's eigs:"
      }
     },
     "b5a41552b1c54b3b8c58bfc026388d4f": {
      "model_module": "@jupyter-widgets/controls",
      "model_module_version": "1.4.0",
      "model_name": "DescriptionStyleModel",
      "state": {
       "description_width": ""
      }
     },
     "b60b7d037b5b45aba5cce6360c0cb3fe": {
      "model_module": "@jupyter-widgets/controls",
      "model_module_version": "1.4.0",
      "model_name": "DescriptionStyleModel",
      "state": {
       "description_width": ""
      }
     },
     "b6573d23f34546ba8e2cbf2b6767a8e1": {
      "model_module": "@jupyter-widgets/base",
      "model_module_version": "1.1.0",
      "model_name": "LayoutModel",
      "state": {
       "width": "90px"
      }
     },
     "b6800bb5073f4fb49de9e3b04e45f578": {
      "model_module": "@jupyter-widgets/controls",
      "model_module_version": "1.4.0",
      "model_name": "FloatTextModel",
      "state": {
       "layout": "IPY_MODEL_f13fe2c0b63c45769a832e70c2b163af",
       "step": null,
       "style": "IPY_MODEL_4255965f2e914f35bb60cb680011283c",
       "value": -1
      }
     },
     "b6fa08a5501e4a248ede49d190466047": {
      "model_module": "@jupyter-widgets/controls",
      "model_module_version": "1.4.0",
      "model_name": "DescriptionStyleModel",
      "state": {
       "description_width": ""
      }
     },
     "b71de6e879bf43289b585f20d30e8ed5": {
      "model_module": "@jupyter-widgets/controls",
      "model_module_version": "1.4.0",
      "model_name": "LabelModel",
      "state": {
       "layout": "IPY_MODEL_bb537de9ef7642bb900cce4aa0f97117",
       "style": "IPY_MODEL_8bd8a16f4c984ae9a3b83d639201f311"
      }
     },
     "b735c37b54aa43c8a0944fb020c85b42": {
      "model_module": "@jupyter-widgets/controls",
      "model_module_version": "1.4.0",
      "model_name": "DescriptionStyleModel",
      "state": {
       "description_width": ""
      }
     },
     "b7643201185d4a7eb66c0e9807d1fef7": {
      "model_module": "@jupyter-widgets/controls",
      "model_module_version": "1.4.0",
      "model_name": "FloatTextModel",
      "state": {
       "layout": "IPY_MODEL_dd481a0bcf16447a9ec5d9d36bfe144d",
       "step": null,
       "style": "IPY_MODEL_07cc0da023a94e43b22b059533bc0e4a",
       "value": -13.333333333333334
      }
     },
     "b797a5ddd90043d48dd5a77c0f954f95": {
      "model_module": "@jupyter-widgets/base",
      "model_module_version": "1.1.0",
      "model_name": "LayoutModel",
      "state": {}
     },
     "b7a97461761e4eecb7aa7b1254c26810": {
      "model_module": "@jupyter-widgets/base",
      "model_module_version": "1.1.0",
      "model_name": "LayoutModel",
      "state": {}
     },
     "b7ba6d95d1874a64bb2fb648a182f59f": {
      "model_module": "@jupyter-widgets/base",
      "model_module_version": "1.1.0",
      "model_name": "LayoutModel",
      "state": {}
     },
     "b7e50fc8f17b4abca78f401029a01bc2": {
      "model_module": "@jupyter-widgets/base",
      "model_module_version": "1.1.0",
      "model_name": "LayoutModel",
      "state": {}
     },
     "b834c7522897405288cb212a55b55289": {
      "model_module": "@jupyter-widgets/controls",
      "model_module_version": "1.4.0",
      "model_name": "FloatTextModel",
      "state": {
       "layout": "IPY_MODEL_7a9f39ecd9174a5a8dc508b3f593a736",
       "step": null,
       "style": "IPY_MODEL_3430f1d432be4157a235f074511b7e3e",
       "value": -0.2
      }
     },
     "b8b2f07ee6c64dc180f184dafa3db11a": {
      "model_module": "@jupyter-widgets/controls",
      "model_module_version": "1.4.0",
      "model_name": "DescriptionStyleModel",
      "state": {
       "description_width": ""
      }
     },
     "b952ba902f6a46968b42685d2716bfea": {
      "model_module": "@jupyter-widgets/controls",
      "model_module_version": "1.4.0",
      "model_name": "DropdownModel",
      "state": {
       "_options_labels": [
        "0 complex eigenvalues",
        "2 complex eigenvalues",
        "4 complex eigenvalues"
       ],
       "description": "Aa:",
       "disabled": true,
       "index": 0,
       "layout": "IPY_MODEL_000b9c5ed55f49e3a82cde3b11cd106c",
       "style": "IPY_MODEL_cea3dc89a5674bed860a1c0e14d1b995"
      }
     },
     "b96be3625e894b758c148ca1a3566d8e": {
      "model_module": "@jupyter-widgets/base",
      "model_module_version": "1.1.0",
      "model_name": "LayoutModel",
      "state": {}
     },
     "b9934d2ea426442b947bc55a6a98475c": {
      "model_module": "@jupyter-widgets/controls",
      "model_module_version": "1.4.0",
      "model_name": "LabelModel",
      "state": {
       "layout": "IPY_MODEL_58a2970073704e67a4a30380a7830767",
       "style": "IPY_MODEL_68537adbed234b189596496e5d19778e",
       "value": "Ka:"
      }
     },
     "b9ab7a820e01496bac78cac867d8987e": {
      "model_module": "@jupyter-widgets/base",
      "model_module_version": "1.1.0",
      "model_name": "LayoutModel",
      "state": {}
     },
     "ba39f17a808848619246755a9efb4013": {
      "model_module": "@jupyter-widgets/controls",
      "model_module_version": "1.4.0",
      "model_name": "DescriptionStyleModel",
      "state": {
       "description_width": ""
      }
     },
     "bad08b1eee074bc3b71be5dc3ac3cdde": {
      "model_module": "@jupyter-widgets/controls",
      "model_module_version": "1.4.0",
      "model_name": "HBoxModel",
      "state": {
       "children": [
        "IPY_MODEL_33330d6c86ba41eab73940f2280afb9a"
       ],
       "layout": "IPY_MODEL_78faa778293e4233bc1fa7fd155fb559"
      }
     },
     "bb1503441b804f2caeba60eca1ccbe5f": {
      "model_module": "@jupyter-widgets/controls",
      "model_module_version": "1.4.0",
      "model_name": "DescriptionStyleModel",
      "state": {
       "description_width": ""
      }
     },
     "bb537de9ef7642bb900cce4aa0f97117": {
      "model_module": "@jupyter-widgets/base",
      "model_module_version": "1.1.0",
      "model_name": "LayoutModel",
      "state": {}
     },
     "bb953ac90d224d4f936514edcfe673ca": {
      "model_module": "@jupyter-widgets/base",
      "model_module_version": "1.1.0",
      "model_name": "LayoutModel",
      "state": {}
     },
     "bc57fb4c89304c8489fdd40e587aba43": {
      "model_module": "@jupyter-widgets/controls",
      "model_module_version": "1.4.0",
      "model_name": "LabelModel",
      "state": {
       "layout": "IPY_MODEL_3a5b38eedfc246fb8c78fd0753841d63",
       "style": "IPY_MODEL_7ebbc139ae8c405bbaa34222e70c1838"
      }
     },
     "bc95ce86f973460686ff28ab1ad25643": {
      "model_module": "@jupyter-widgets/controls",
      "model_module_version": "1.4.0",
      "model_name": "DescriptionStyleModel",
      "state": {
       "description_width": ""
      }
     },
     "bcfa49fa72d34a4ea767dcb731e0630f": {
      "model_module": "@jupyter-widgets/base",
      "model_module_version": "1.1.0",
      "model_name": "LayoutModel",
      "state": {}
     },
     "bd3eeb55a66a4475a7aca37d905b30d1": {
      "model_module": "@jupyter-widgets/controls",
      "model_module_version": "1.4.0",
      "model_name": "HBoxModel",
      "state": {
       "children": [
        "IPY_MODEL_992d4f926f4b47b79dee5492a88d012f"
       ],
       "layout": "IPY_MODEL_fbf8566bdb534d5dbaa859344be12c0e"
      }
     },
     "bd60702069184fb9b8892a8ebb072f01": {
      "model_module": "@jupyter-widgets/controls",
      "model_module_version": "1.4.0",
      "model_name": "DescriptionStyleModel",
      "state": {
       "description_width": ""
      }
     },
     "bd94108b305f407c92c6883909612aa9": {
      "model_module": "@jupyter-widgets/base",
      "model_module_version": "1.1.0",
      "model_name": "LayoutModel",
      "state": {}
     },
     "bd9ea8fefa454648bd9002246ab78f65": {
      "model_module": "@jupyter-widgets/base",
      "model_module_version": "1.1.0",
      "model_name": "LayoutModel",
      "state": {}
     },
     "bde8952344054e1a9af20bcf7482c849": {
      "model_module": "@jupyter-widgets/controls",
      "model_module_version": "1.4.0",
      "model_name": "DescriptionStyleModel",
      "state": {
       "description_width": ""
      }
     },
     "be0cf595c1f14317a7aaeb76f485754c": {
      "model_module": "@jupyter-widgets/controls",
      "model_module_version": "1.4.0",
      "model_name": "FloatTextModel",
      "state": {
       "layout": "IPY_MODEL_ddcab2b7d2f24f068e314b8d90dc90c0",
       "step": null,
       "style": "IPY_MODEL_d75a7d3e1ca540808fcdb68964032440",
       "value": 2225
      }
     },
     "bebe51591c7f4204987782700ddac779": {
      "model_module": "@jupyter-widgets/base",
      "model_module_version": "1.1.0",
      "model_name": "LayoutModel",
      "state": {
       "height": "0px",
       "width": "0px"
      }
     },
     "bf122223b2724a248d55dd42cc9b3191": {
      "model_module": "@jupyter-widgets/base",
      "model_module_version": "1.1.0",
      "model_name": "LayoutModel",
      "state": {}
     },
     "bf2afba8a3e24272b0f88f8f1da4703f": {
      "model_module": "@jupyter-widgets/output",
      "model_module_version": "1.0.0",
      "model_name": "OutputModel",
      "state": {
       "layout": "IPY_MODEL_2d87c6683db741b78597a76dece4e1fc",
       "outputs": [
        {
         "name": "stdout",
         "output_type": "stream",
         "text": "The Aa's eigenvalues are: -2.24+2.23j, -2.24+-2.23j, -0.28+0.00j, -0.26+0.32j and -0.26+-0.32j\nThe observer\\s eigenvalues are: -10.00+0.00j and -10.00+0.00j\n"
        }
       ]
      }
     },
     "bf5b937f5c5c49df9d883ad5b1642e3c": {
      "model_module": "@jupyter-widgets/controls",
      "model_module_version": "1.4.0",
      "model_name": "LabelModel",
      "state": {
       "layout": "IPY_MODEL_27928ffdf5e14aceb43b8fca906689b0",
       "style": "IPY_MODEL_add9bf7eae994418b676c6558ec5f0f1"
      }
     },
     "bf60fd5a02a84f84b747fdca371c5248": {
      "model_module": "@jupyter-widgets/controls",
      "model_module_version": "1.4.0",
      "model_name": "LabelModel",
      "state": {
       "layout": "IPY_MODEL_93937d7b6ac642c29e9b061c59a3db2a",
       "style": "IPY_MODEL_a4573b1d69b94da6abe2d29a5940a904",
       "value": "Aobs's eigs:"
      }
     },
     "bf796660e99f47128f6d0e118966cbdd": {
      "model_module": "@jupyter-widgets/controls",
      "model_module_version": "1.4.0",
      "model_name": "DescriptionStyleModel",
      "state": {
       "description_width": ""
      }
     },
     "bfc0aca326e44e0e8cfa33e7a1b1d630": {
      "model_module": "@jupyter-widgets/controls",
      "model_module_version": "1.4.0",
      "model_name": "DescriptionStyleModel",
      "state": {
       "description_width": ""
      }
     },
     "bfccc83056ff48b88eb7630784f232d4": {
      "model_module": "@jupyter-widgets/base",
      "model_module_version": "1.1.0",
      "model_name": "LayoutModel",
      "state": {
       "height": "0px",
       "width": "0px"
      }
     },
     "c10b5ac94db5488995240984fb80572d": {
      "model_module": "@jupyter-widgets/base",
      "model_module_version": "1.1.0",
      "model_name": "LayoutModel",
      "state": {
       "width": "90px"
      }
     },
     "c17f2e2a351e46d0911e870da02c8ea4": {
      "model_module": "@jupyter-widgets/controls",
      "model_module_version": "1.4.0",
      "model_name": "DescriptionStyleModel",
      "state": {
       "description_width": ""
      }
     },
     "c1cafa8250424af186c85c0f7a037d00": {
      "model_module": "@jupyter-widgets/controls",
      "model_module_version": "1.4.0",
      "model_name": "FloatTextModel",
      "state": {
       "layout": "IPY_MODEL_4b7fe40ee3a5498084895bbb1dede424",
       "step": null,
       "style": "IPY_MODEL_8fd79a5d01cf4dd2bd6af523b19f7ddc",
       "value": 13861
      }
     },
     "c1df267ba8884d4089f041f8885d57a9": {
      "model_module": "@jupyter-widgets/base",
      "model_module_version": "1.1.0",
      "model_name": "LayoutModel",
      "state": {}
     },
     "c20d04cf967e4aedb49c4c95999480fc": {
      "model_module": "@jupyter-widgets/base",
      "model_module_version": "1.1.0",
      "model_name": "LayoutModel",
      "state": {}
     },
     "c292b8874c4f4bcebed1c9a360df2964": {
      "model_module": "@jupyter-widgets/base",
      "model_module_version": "1.1.0",
      "model_name": "LayoutModel",
      "state": {
       "width": "90px"
      }
     },
     "c2b94464fe8c46c4bc766fc9342971bc": {
      "model_module": "@jupyter-widgets/base",
      "model_module_version": "1.1.0",
      "model_name": "LayoutModel",
      "state": {}
     },
     "c2e6bb3678aa4fb989cae61d26337c34": {
      "model_module": "@jupyter-widgets/controls",
      "model_module_version": "1.4.0",
      "model_name": "DescriptionStyleModel",
      "state": {
       "description_width": ""
      }
     },
     "c3383bbe576346f085ed887be29c1071": {
      "model_module": "@jupyter-widgets/base",
      "model_module_version": "1.1.0",
      "model_name": "LayoutModel",
      "state": {}
     },
     "c355d1874a554165b4099d8da3d35aef": {
      "model_module": "@jupyter-widgets/base",
      "model_module_version": "1.1.0",
      "model_name": "LayoutModel",
      "state": {}
     },
     "c362d636f1984bdd87b4377f49a3dfad": {
      "model_module": "@jupyter-widgets/base",
      "model_module_version": "1.1.0",
      "model_name": "LayoutModel",
      "state": {}
     },
     "c3862d402b5e4ae38fd7d2f0b2414ef0": {
      "model_module": "@jupyter-widgets/controls",
      "model_module_version": "1.4.0",
      "model_name": "DescriptionStyleModel",
      "state": {
       "description_width": ""
      }
     },
     "c422d11f60d5455bae304a583648d393": {
      "model_module": "@jupyter-widgets/controls",
      "model_module_version": "1.4.0",
      "model_name": "DescriptionStyleModel",
      "state": {
       "description_width": ""
      }
     },
     "c443bd8d6997435e91d118677137d5b6": {
      "model_module": "@jupyter-widgets/base",
      "model_module_version": "1.1.0",
      "model_name": "LayoutModel",
      "state": {}
     },
     "c4740552de6548d296f8e504838955f6": {
      "model_module": "@jupyter-widgets/controls",
      "model_module_version": "1.4.0",
      "model_name": "LabelModel",
      "state": {
       "layout": "IPY_MODEL_7fbf0af948254d5e833df4b7c1f732c3",
       "style": "IPY_MODEL_ca7a9803f8d347a8bbfd489404d2a012"
      }
     },
     "c4f81b149ff14f9db55f7a813b4739fd": {
      "model_module": "@jupyter-widgets/controls",
      "model_module_version": "1.4.0",
      "model_name": "FloatTextModel",
      "state": {
       "layout": "IPY_MODEL_2e269a8bd2094127a2842dba4c1a9b3e",
       "step": null,
       "style": "IPY_MODEL_b8b2f07ee6c64dc180f184dafa3db11a"
      }
     },
     "c51bdfc13b47415f9460f0ee83c1df87": {
      "model_module": "@jupyter-widgets/base",
      "model_module_version": "1.1.0",
      "model_name": "LayoutModel",
      "state": {}
     },
     "c528fa3f72494a119beabba3a6213bb7": {
      "model_module": "@jupyter-widgets/controls",
      "model_module_version": "1.4.0",
      "model_name": "DescriptionStyleModel",
      "state": {
       "description_width": ""
      }
     },
     "c52b71d3ecdd45499b48a31dc291647b": {
      "model_module": "@jupyter-widgets/controls",
      "model_module_version": "1.4.0",
      "model_name": "VBoxModel",
      "state": {
       "children": [
        "IPY_MODEL_239576f3ce7641f5ab0c6dbab3e5de53",
        "IPY_MODEL_577aaa8c389e41888c3f64239f36e562"
       ],
       "layout": "IPY_MODEL_4cb46cd0fbe245c188dd480c40e5a1d1"
      }
     },
     "c566d7ba152c41a9bb70e0b1399a0f3e": {
      "model_module": "@jupyter-widgets/controls",
      "model_module_version": "1.4.0",
      "model_name": "HBoxModel",
      "state": {
       "children": [
        "IPY_MODEL_361e3aca296d43a68f658aa71fa8a732",
        "IPY_MODEL_6ebbbf84215946a39d42606ed8a7c1f2",
        "IPY_MODEL_7fe5127d89ef40799cbefafadbcce0d4"
       ],
       "layout": "IPY_MODEL_bd9ea8fefa454648bd9002246ab78f65"
      }
     },
     "c6978c346278421ab9d3e0060569d705": {
      "model_module": "@jupyter-widgets/controls",
      "model_module_version": "1.4.0",
      "model_name": "DropdownModel",
      "state": {
       "_options_labels": [
        "Set Ka and La",
        "Set the eigenvalues"
       ],
       "index": 0,
       "layout": "IPY_MODEL_2c4fbbc1825c495c86831ef2286a8258",
       "style": "IPY_MODEL_75eb8481312149b8a778baff39c99828"
      }
     },
     "c6c48010219b4fb3bd1099d57920ba98": {
      "model_module": "@jupyter-widgets/base",
      "model_module_version": "1.1.0",
      "model_name": "LayoutModel",
      "state": {}
     },
     "c78317dc61044dcebc3800ab9500df9b": {
      "model_module": "@jupyter-widgets/base",
      "model_module_version": "1.1.0",
      "model_name": "LayoutModel",
      "state": {}
     },
     "c7b00e61644b476db2435289f46ce89e": {
      "model_module": "@jupyter-widgets/controls",
      "model_module_version": "1.4.0",
      "model_name": "DescriptionStyleModel",
      "state": {
       "description_width": ""
      }
     },
     "c7f5c40ad2064d6b9c79b7f03511bb7a": {
      "model_module": "@jupyter-widgets/controls",
      "model_module_version": "1.4.0",
      "model_name": "DescriptionStyleModel",
      "state": {
       "description_width": ""
      }
     },
     "c83210e37cf143c6a1e10c38173aaf36": {
      "model_module": "@jupyter-widgets/base",
      "model_module_version": "1.1.0",
      "model_name": "LayoutModel",
      "state": {}
     },
     "c833196d4f674ec093217cd10c5464e5": {
      "model_module": "@jupyter-widgets/base",
      "model_module_version": "1.1.0",
      "model_name": "LayoutModel",
      "state": {}
     },
     "c864e9e808124124b719b91097e41a7f": {
      "model_module": "@jupyter-widgets/base",
      "model_module_version": "1.1.0",
      "model_name": "LayoutModel",
      "state": {}
     },
     "c8ac5668b317410a9bcde617b0967dbc": {
      "model_module": "@jupyter-widgets/controls",
      "model_module_version": "1.4.0",
      "model_name": "VBoxModel",
      "state": {
       "children": [
        "IPY_MODEL_805372bc02a045c08c710be04f5bfce1",
        "IPY_MODEL_2529e49926cd4f8eb55dcc45178ec8f5",
        "IPY_MODEL_d823d4e7406a48cc92133077b3296559",
        "IPY_MODEL_4022fdb8345a466281cb4fb4e0f5a38e",
        "IPY_MODEL_05041977ab73417bb69ef1b71c64c7d9",
        "IPY_MODEL_0809ffdf306c4572b2936a4003504ebc",
        "IPY_MODEL_000105fdb4764586b8ebfab252a36567"
       ],
       "layout": "IPY_MODEL_10f2e8ae48e64a069fdfeda800e6969d"
      }
     },
     "c8e3b70f79e64a5a899729030d7b6963": {
      "model_module": "@jupyter-widgets/controls",
      "model_module_version": "1.4.0",
      "model_name": "FloatTextModel",
      "state": {
       "layout": "IPY_MODEL_3d7b33626e8645189c174b708efd6e17",
       "step": null,
       "style": "IPY_MODEL_307ff552afd445f8aa1f661c0d2a70ab",
       "value": -0.6
      }
     },
     "c9d80ab78eb147b392f2a6bc4c7e0cc4": {
      "model_module": "@jupyter-widgets/controls",
      "model_module_version": "1.4.0",
      "model_name": "VBoxModel",
      "state": {
       "children": [
        "IPY_MODEL_4b6ed1f5b4e8433a9a93b2f387086660",
        "IPY_MODEL_427a705fa0bf44fca560fc285307c61f",
        "IPY_MODEL_2ea7fb5a0dc94b24bc86d1d1361bf465",
        "IPY_MODEL_5555dc11b3b349c3afd005027d05a68b",
        "IPY_MODEL_ead2d37f897d4fdba7cc15fec55eb049",
        "IPY_MODEL_8694d410e6384208982d61b29be57d7b",
        "IPY_MODEL_84cbb61cc3c5445a88ac64650b4b8dfc"
       ],
       "layout": "IPY_MODEL_acc2a1e4067f46c38bb2cbd0039ce326"
      }
     },
     "ca11427347f64c5f951f50f087770cb1": {
      "model_module": "@jupyter-widgets/base",
      "model_module_version": "1.1.0",
      "model_name": "LayoutModel",
      "state": {}
     },
     "ca355890e53a4b8bb1d0575dac3c1bfc": {
      "model_module": "@jupyter-widgets/base",
      "model_module_version": "1.1.0",
      "model_name": "LayoutModel",
      "state": {}
     },
     "ca7a9803f8d347a8bbfd489404d2a012": {
      "model_module": "@jupyter-widgets/controls",
      "model_module_version": "1.4.0",
      "model_name": "DescriptionStyleModel",
      "state": {
       "description_width": ""
      }
     },
     "ca9c829a996f4f7c845b56e8cf922fbd": {
      "model_module": "@jupyter-widgets/controls",
      "model_module_version": "1.4.0",
      "model_name": "DescriptionStyleModel",
      "state": {
       "description_width": ""
      }
     },
     "caa6f261eca948c6b258eef4da69c2e3": {
      "model_module": "@jupyter-widgets/base",
      "model_module_version": "1.1.0",
      "model_name": "LayoutModel",
      "state": {
       "width": "90px"
      }
     },
     "caf38c4519e040de9884ca0747ab7001": {
      "model_module": "@jupyter-widgets/base",
      "model_module_version": "1.1.0",
      "model_name": "LayoutModel",
      "state": {
       "width": "90px"
      }
     },
     "cb3ccf44448e4da3abbc0bb88947e975": {
      "model_module": "@jupyter-widgets/controls",
      "model_module_version": "1.4.0",
      "model_name": "DescriptionStyleModel",
      "state": {
       "description_width": ""
      }
     },
     "cb9817ceda68404cbe65210d6c0e84ad": {
      "model_module": "@jupyter-widgets/controls",
      "model_module_version": "1.4.0",
      "model_name": "DescriptionStyleModel",
      "state": {
       "description_width": ""
      }
     },
     "cbd305ecffbf4083b47607d4767cdc71": {
      "model_module": "@jupyter-widgets/base",
      "model_module_version": "1.1.0",
      "model_name": "LayoutModel",
      "state": {}
     },
     "cc3ae6556e6544b3933ff37fcdc8b124": {
      "model_module": "@jupyter-widgets/controls",
      "model_module_version": "1.4.0",
      "model_name": "LabelModel",
      "state": {
       "layout": "IPY_MODEL_eea30c23809947ecacd9938a63398f49",
       "style": "IPY_MODEL_2b97208d6c1a4fd1966375b6e494aa89"
      }
     },
     "cc47e48caf85445fa010ce953bda0ba2": {
      "model_module": "@jupyter-widgets/base",
      "model_module_version": "1.1.0",
      "model_name": "LayoutModel",
      "state": {
       "width": "90px"
      }
     },
     "ccda01baacc445178323a8cafe80bd7a": {
      "model_module": "@jupyter-widgets/controls",
      "model_module_version": "1.4.0",
      "model_name": "LabelModel",
      "state": {
       "layout": "IPY_MODEL_7e442b8c4332480e8548cbdceab3a51f",
       "style": "IPY_MODEL_0fb6ebd5d60540b4a5135eecb46702e9",
       "value": "Aobs's eigs:"
      }
     },
     "cd02878c94fa4261b5a2f0b343ac62bb": {
      "model_module": "@jupyter-widgets/controls",
      "model_module_version": "1.4.0",
      "model_name": "LabelModel",
      "state": {
       "layout": "IPY_MODEL_3867427d28c94cc5bb52fa78e2eae3e1",
       "style": "IPY_MODEL_7959bdda77b0475b8c3a81a8686baf94"
      }
     },
     "cda7d59ecf3b463e83fbcca7d6ded37f": {
      "model_module": "@jupyter-widgets/controls",
      "model_module_version": "1.4.0",
      "model_name": "DescriptionStyleModel",
      "state": {
       "description_width": ""
      }
     },
     "cde5b2b3ac144657b77fc9480ee3664e": {
      "model_module": "@jupyter-widgets/controls",
      "model_module_version": "1.4.0",
      "model_name": "DescriptionStyleModel",
      "state": {
       "description_width": ""
      }
     },
     "ce2edb54fe42459ca62c2936d6529836": {
      "model_module": "@jupyter-widgets/controls",
      "model_module_version": "1.4.0",
      "model_name": "HBoxModel",
      "state": {
       "children": [
        "IPY_MODEL_aef9a5d2035249b8a3333a29aded71de"
       ],
       "layout": "IPY_MODEL_aa1c17dc86e6441485062eed23d3ab0a"
      }
     },
     "ce92781cb1694e5bae6daa60cfb2a7a9": {
      "model_module": "@jupyter-widgets/controls",
      "model_module_version": "1.4.0",
      "model_name": "FloatTextModel",
      "state": {
       "layout": "IPY_MODEL_1011a14be8014506987e6ff204d26d35",
       "step": null,
       "style": "IPY_MODEL_dcaa65dadfb54c3ebac14f03ddafbc15"
      }
     },
     "cea3dc89a5674bed860a1c0e14d1b995": {
      "model_module": "@jupyter-widgets/controls",
      "model_module_version": "1.4.0",
      "model_name": "DescriptionStyleModel",
      "state": {
       "description_width": ""
      }
     },
     "cea5f3291cc74af99d0e1ea2481ba90a": {
      "model_module": "@jupyter-widgets/base",
      "model_module_version": "1.1.0",
      "model_name": "LayoutModel",
      "state": {
       "width": "90px"
      }
     },
     "cf4f9f2b6fd841228e693206362f7c86": {
      "model_module": "@jupyter-widgets/controls",
      "model_module_version": "1.4.0",
      "model_name": "HBoxModel",
      "state": {
       "children": [
        "IPY_MODEL_5f4fd9d6e5fc4790959289c680e862cf",
        "IPY_MODEL_4c8e37c41a2d416a8c037d763d6ba024",
        "IPY_MODEL_a267df06d1fd4abdbeeaa4b209f965f6",
        "IPY_MODEL_4d2f31be201045a6af6ff6ed5f2d6c7d",
        "IPY_MODEL_84a0b15ddb034a2092338bd2b2ed63e9",
        "IPY_MODEL_f4b016746bb84426baca5c76043f6338",
        "IPY_MODEL_df169b343479430daedc153abc22243f",
        "IPY_MODEL_4f37e4abf7044e669b4f94075743f4dc",
        "IPY_MODEL_ccda01baacc445178323a8cafe80bd7a",
        "IPY_MODEL_b080ba2fe8b74e95941fc70e47b839e1",
        "IPY_MODEL_30ad82f4d06f4c2daaa68aeb2a06dd47"
       ],
       "layout": "IPY_MODEL_f7bd3d3a570f462a94866d884ec485ea"
      }
     },
     "cf52400e360c4a298036c4d771b8ae29": {
      "model_module": "@jupyter-widgets/controls",
      "model_module_version": "1.4.0",
      "model_name": "DescriptionStyleModel",
      "state": {
       "description_width": ""
      }
     },
     "cf7241c197e44ea78648dd7ece9cf032": {
      "model_module": "@jupyter-widgets/base",
      "model_module_version": "1.1.0",
      "model_name": "LayoutModel",
      "state": {
       "height": "0px",
       "width": "0px"
      }
     },
     "cf979171315d44bfbc2c0d6d41f6c225": {
      "model_module": "@jupyter-widgets/controls",
      "model_module_version": "1.4.0",
      "model_name": "LabelModel",
      "state": {
       "layout": "IPY_MODEL_00038a7d51314ae9804a45c996c3038a",
       "style": "IPY_MODEL_2158a36c2a104d1fae5f6a0fdcbc1e78",
       "value": "Aobs's eigs:"
      }
     },
     "cfac6a49ddc04836ab8776cb1d3b44a6": {
      "model_module": "@jupyter-widgets/controls",
      "model_module_version": "1.4.0",
      "model_name": "DescriptionStyleModel",
      "state": {
       "description_width": ""
      }
     },
     "d086c2b805214a99ac336e6b38227e34": {
      "model_module": "@jupyter-widgets/controls",
      "model_module_version": "1.4.0",
      "model_name": "LabelModel",
      "state": {
       "layout": "IPY_MODEL_b9ab7a820e01496bac78cac867d8987e",
       "style": "IPY_MODEL_439dd39502fa4ee18378ac424aae7331"
      }
     },
     "d116ebf0025c483093a9d7c0d666be31": {
      "model_module": "@jupyter-widgets/controls",
      "model_module_version": "1.4.0",
      "model_name": "LabelModel",
      "state": {
       "layout": "IPY_MODEL_5480124c50004a86b7b7cb590e0ac139",
       "style": "IPY_MODEL_775ff011a0444c48b7e5fea4746a0b23"
      }
     },
     "d11f6fc17f944785abd9427772fd5a6d": {
      "model_module": "@jupyter-widgets/base",
      "model_module_version": "1.1.0",
      "model_name": "LayoutModel",
      "state": {}
     },
     "d120caa23d324631a5a9da5ed06acf60": {
      "model_module": "@jupyter-widgets/controls",
      "model_module_version": "1.4.0",
      "model_name": "LabelModel",
      "state": {
       "layout": "IPY_MODEL_0a273f0c4e6e469698eb36d71e786546",
       "style": "IPY_MODEL_f1ebf687e130423a96df29607461d421"
      }
     },
     "d12e5a5b011349588613791490b0f7e0": {
      "model_module": "@jupyter-widgets/base",
      "model_module_version": "1.1.0",
      "model_name": "LayoutModel",
      "state": {}
     },
     "d15a903d9d274ec1921c31e4c33039b4": {
      "model_module": "@jupyter-widgets/controls",
      "model_module_version": "1.4.0",
      "model_name": "DropdownModel",
      "state": {
       "_options_labels": [
        "0 complex eigenvalues",
        "2 complex eigenvalues",
        "4 complex eigenvalues"
       ],
       "description": "Aa:",
       "disabled": true,
       "index": 0,
       "layout": "IPY_MODEL_c20d04cf967e4aedb49c4c95999480fc",
       "style": "IPY_MODEL_3737cb895e114ff3a7264b637d8ad44b"
      }
     },
     "d27c9566e96940a7806b2168e19f1ce9": {
      "model_module": "@jupyter-widgets/controls",
      "model_module_version": "1.4.0",
      "model_name": "DescriptionStyleModel",
      "state": {
       "description_width": ""
      }
     },
     "d29d0b24a5734139942bdffc549f83e2": {
      "model_module": "@jupyter-widgets/controls",
      "model_module_version": "1.4.0",
      "model_name": "HBoxModel",
      "state": {
       "children": [
        "IPY_MODEL_b834c7522897405288cb212a55b55289"
       ],
       "layout": "IPY_MODEL_ad88204fbe9a48e0978492ccd91ad57b"
      }
     },
     "d34a230dde2c42bdb1c91cd1929452d1": {
      "model_module": "@jupyter-widgets/base",
      "model_module_version": "1.1.0",
      "model_name": "LayoutModel",
      "state": {}
     },
     "d4a0305616f9402ea84a9e8b0e1fae85": {
      "model_module": "@jupyter-widgets/controls",
      "model_module_version": "1.4.0",
      "model_name": "FloatTextModel",
      "state": {
       "layout": "IPY_MODEL_62df66a2062b4fb6b65a3ec5bd498614",
       "step": null,
       "style": "IPY_MODEL_b5a41552b1c54b3b8c58bfc026388d4f",
       "value": -0.6
      }
     },
     "d4f898ed505f4e5a918ae8166d217c23": {
      "model_module": "@jupyter-widgets/base",
      "model_module_version": "1.1.0",
      "model_name": "LayoutModel",
      "state": {
       "width": "90px"
      }
     },
     "d5286389e31f44d0a068455235d65e4f": {
      "model_module": "@jupyter-widgets/controls",
      "model_module_version": "1.4.0",
      "model_name": "VBoxModel",
      "state": {
       "children": [
        "IPY_MODEL_a233f2749697478193516c67501f9bf6"
       ],
       "layout": "IPY_MODEL_da4ae4ef89f24d84aa942554a50d86d2"
      }
     },
     "d55492cfde34474dbdce90063cf320f9": {
      "model_module": "@jupyter-widgets/controls",
      "model_module_version": "1.4.0",
      "model_name": "HBoxModel",
      "state": {
       "children": [
        "IPY_MODEL_0aa0bfe4046d4bbd9e3b8fc7e923c19e",
        "IPY_MODEL_6813d187c1be497cb6ed99d0f1315fb5",
        "IPY_MODEL_acecc2cb78574027ab0f5990fddab600",
        "IPY_MODEL_58dabb22e34a44d890df2e51d5b9a651",
        "IPY_MODEL_78331c89a55344a69e9fb04c10aee086"
       ],
       "layout": "IPY_MODEL_8c56ab7322684d198695ba83389a51a8"
      }
     },
     "d5837d49afb144f4b62497a1eee8836b": {
      "model_module": "@jupyter-widgets/controls",
      "model_module_version": "1.4.0",
      "model_name": "LabelModel",
      "state": {
       "layout": "IPY_MODEL_e27cc49491614eb690e345b1f6bdc61a",
       "style": "IPY_MODEL_cde5b2b3ac144657b77fc9480ee3664e"
      }
     },
     "d5eaac2f67684a7b8ea7dd4c17f0b57e": {
      "model_module": "@jupyter-widgets/controls",
      "model_module_version": "1.4.0",
      "model_name": "LabelModel",
      "state": {
       "layout": "IPY_MODEL_1be046e383e644d6a6cfcf29b3777c99",
       "style": "IPY_MODEL_54a95624e0a04f319da0e5b1221e8e55",
       "value": "Aa's eigs:"
      }
     },
     "d602a0f11576447b8ef3d438d93728df": {
      "model_module": "@jupyter-widgets/base",
      "model_module_version": "1.1.0",
      "model_name": "LayoutModel",
      "state": {}
     },
     "d6271142c5a94a4084c7ba3c91dac19b": {
      "model_module": "@jupyter-widgets/controls",
      "model_module_version": "1.4.0",
      "model_name": "DescriptionStyleModel",
      "state": {
       "description_width": ""
      }
     },
     "d636b43c569f4fd99bb74ab2d8a9ca71": {
      "model_module": "@jupyter-widgets/base",
      "model_module_version": "1.1.0",
      "model_name": "LayoutModel",
      "state": {}
     },
     "d6431a11b46943d48afc9b025482f791": {
      "model_module": "@jupyter-widgets/base",
      "model_module_version": "1.1.0",
      "model_name": "LayoutModel",
      "state": {}
     },
     "d6839054cd8f4840b7ceabe64adb74a1": {
      "model_module": "@jupyter-widgets/base",
      "model_module_version": "1.1.0",
      "model_name": "LayoutModel",
      "state": {
       "width": "90px"
      }
     },
     "d7419d00e6774ceb8dbccfc5cf652bfd": {
      "model_module": "@jupyter-widgets/controls",
      "model_module_version": "1.4.0",
      "model_name": "VBoxModel",
      "state": {
       "children": [
        "IPY_MODEL_4115501ee8ec4fccaf278e05a7084396"
       ],
       "layout": "IPY_MODEL_770bc17e71b2425a9baa0f95f322df5b"
      }
     },
     "d75a7d3e1ca540808fcdb68964032440": {
      "model_module": "@jupyter-widgets/controls",
      "model_module_version": "1.4.0",
      "model_name": "DescriptionStyleModel",
      "state": {
       "description_width": ""
      }
     },
     "d823d4e7406a48cc92133077b3296559": {
      "model_module": "@jupyter-widgets/controls",
      "model_module_version": "1.4.0",
      "model_name": "HBoxModel",
      "state": {
       "children": [
        "IPY_MODEL_84e0e3299523499e8fd5a56d12529891",
        "IPY_MODEL_d5286389e31f44d0a068455235d65e4f",
        "IPY_MODEL_842a3f1f0a374c2581602ab8e7600ef6",
        "IPY_MODEL_0f14d36f2e474b439c5338a92acccce0",
        "IPY_MODEL_1fd1af9aa2e34834a4365140e0e3935c",
        "IPY_MODEL_c52b71d3ecdd45499b48a31dc291647b"
       ],
       "layout": "IPY_MODEL_23c82a3754bb4588a4f865849a294568"
      }
     },
     "d859c2d997d6489089f973bec38b3477": {
      "model_module": "@jupyter-widgets/base",
      "model_module_version": "1.1.0",
      "model_name": "LayoutModel",
      "state": {}
     },
     "d8ddf5e62d8a4ddb9e10b54c206800f0": {
      "model_module": "@jupyter-widgets/base",
      "model_module_version": "1.1.0",
      "model_name": "LayoutModel",
      "state": {}
     },
     "d8e55f37c7ae4f07a6fe84a107d33436": {
      "model_module": "@jupyter-widgets/controls",
      "model_module_version": "1.4.0",
      "model_name": "VBoxModel",
      "state": {
       "children": [
        "IPY_MODEL_6caafdd1e1cd4b19a7eeab28deadac64",
        "IPY_MODEL_7acc1d43c7b04f48ada380ce26debb40",
        "IPY_MODEL_3f1ae226f21a4f758daa4a0993a2a3de",
        "IPY_MODEL_42a057f2f2d54c2580b4c3ae90d7ce09",
        "IPY_MODEL_cf4f9f2b6fd841228e693206362f7c86",
        "IPY_MODEL_fa577bc5c8a24267b971d8d0213279dd",
        "IPY_MODEL_7d2ee53e7c144fdb9bf865c1baf9fe1e"
       ],
       "layout": "IPY_MODEL_6ebe86c6b2624222a1c2427ed2c6bb6e"
      }
     },
     "d8ff54fe12f1431ea8b625991bef5e76": {
      "model_module": "@jupyter-widgets/base",
      "model_module_version": "1.1.0",
      "model_name": "LayoutModel",
      "state": {}
     },
     "d9674b7571de42baa745dd6b7c6ecbe8": {
      "model_module": "@jupyter-widgets/controls",
      "model_module_version": "1.4.0",
      "model_name": "DropdownModel",
      "state": {
       "_options_labels": [
        "0 complex eigenvalues",
        "2 complex eigenvalues",
        "4 complex eigenvalues"
       ],
       "description": "Aa:",
       "disabled": true,
       "index": 0,
       "layout": "IPY_MODEL_adb4d4606a424246aaccb800cd1f30df",
       "style": "IPY_MODEL_bd60702069184fb9b8892a8ebb072f01"
      }
     },
     "d9db35bcd55b452caf07ceee07f65e96": {
      "model_module": "@jupyter-widgets/controls",
      "model_module_version": "1.4.0",
      "model_name": "DescriptionStyleModel",
      "state": {
       "description_width": ""
      }
     },
     "da40a5d500a24119bae8200ab190284c": {
      "model_module": "@jupyter-widgets/controls",
      "model_module_version": "1.4.0",
      "model_name": "FloatTextModel",
      "state": {
       "layout": "IPY_MODEL_87536ddd51344558bd4978bbb9aa5d77",
       "step": null,
       "style": "IPY_MODEL_e1298497023e4a4ba0be17974a39ac75",
       "value": -10
      }
     },
     "da4ae4ef89f24d84aa942554a50d86d2": {
      "model_module": "@jupyter-widgets/base",
      "model_module_version": "1.1.0",
      "model_name": "LayoutModel",
      "state": {}
     },
     "da90a50bcb3b4b1ab14fcb5e9ddde844": {
      "model_module": "@jupyter-widgets/controls",
      "model_module_version": "1.4.0",
      "model_name": "DescriptionStyleModel",
      "state": {
       "description_width": ""
      }
     },
     "daf87ceba6fc4cff807558eed8167824": {
      "model_module": "@jupyter-widgets/controls",
      "model_module_version": "1.4.0",
      "model_name": "DescriptionStyleModel",
      "state": {
       "description_width": ""
      }
     },
     "db0dab36d9de4171987fb292d7f515ea": {
      "model_module": "@jupyter-widgets/controls",
      "model_module_version": "1.4.0",
      "model_name": "DescriptionStyleModel",
      "state": {
       "description_width": ""
      }
     },
     "db0e4a9359f5475aa13393f9164115b8": {
      "model_module": "@jupyter-widgets/controls",
      "model_module_version": "1.4.0",
      "model_name": "DescriptionStyleModel",
      "state": {
       "description_width": ""
      }
     },
     "db615f930a5444898a71cb10d3e0db3d": {
      "model_module": "@jupyter-widgets/controls",
      "model_module_version": "1.4.0",
      "model_name": "LabelModel",
      "state": {
       "layout": "IPY_MODEL_1a89916030dc4f8ba8438c3a8c5bbd69",
       "style": "IPY_MODEL_c17f2e2a351e46d0911e870da02c8ea4"
      }
     },
     "db9be7d14e6e4c8ba51e903b13c55e3b": {
      "model_module": "@jupyter-widgets/controls",
      "model_module_version": "1.4.0",
      "model_name": "DescriptionStyleModel",
      "state": {
       "description_width": ""
      }
     },
     "dbb050e8d85846bf845411834a32a4c5": {
      "model_module": "@jupyter-widgets/base",
      "model_module_version": "1.1.0",
      "model_name": "LayoutModel",
      "state": {}
     },
     "dbcee9f186f7420d9ea831d5ef775039": {
      "model_module": "@jupyter-widgets/controls",
      "model_module_version": "1.4.0",
      "model_name": "DropdownModel",
      "state": {
       "_options_labels": [
        "0 complex eigenvalues",
        "2 complex eigenvalues",
        "4 complex eigenvalues"
       ],
       "description": "Aa:",
       "disabled": true,
       "index": 0,
       "layout": "IPY_MODEL_4e069a3035154c4d8c0a47e5fe1f3b9b",
       "style": "IPY_MODEL_2130431e014a406d94f539f123ff4781"
      }
     },
     "dc452b89802e4d66ab5371b81f4bb4a2": {
      "model_module": "@jupyter-widgets/controls",
      "model_module_version": "1.4.0",
      "model_name": "DescriptionStyleModel",
      "state": {
       "description_width": ""
      }
     },
     "dcaa65dadfb54c3ebac14f03ddafbc15": {
      "model_module": "@jupyter-widgets/controls",
      "model_module_version": "1.4.0",
      "model_name": "DescriptionStyleModel",
      "state": {
       "description_width": ""
      }
     },
     "dce3a2ee8dff4853a756267ce47660ed": {
      "model_module": "@jupyter-widgets/base",
      "model_module_version": "1.1.0",
      "model_name": "LayoutModel",
      "state": {}
     },
     "dd21852b6b3d4d24a5e9dbedfd3b63e8": {
      "model_module": "@jupyter-widgets/controls",
      "model_module_version": "1.4.0",
      "model_name": "DescriptionStyleModel",
      "state": {
       "description_width": ""
      }
     },
     "dd34ed0f11bf4739983f6875ef0c9382": {
      "model_module": "@jupyter-widgets/controls",
      "model_module_version": "1.4.0",
      "model_name": "LabelModel",
      "state": {
       "layout": "IPY_MODEL_9edf3cd601b845089ed8bd5d7bc8d3eb",
       "style": "IPY_MODEL_db9be7d14e6e4c8ba51e903b13c55e3b",
       "value": "Aa's eigs:"
      }
     },
     "dd481a0bcf16447a9ec5d9d36bfe144d": {
      "model_module": "@jupyter-widgets/base",
      "model_module_version": "1.1.0",
      "model_name": "LayoutModel",
      "state": {
       "width": "90px"
      }
     },
     "dd750e074b794c73b436f80106ff3f09": {
      "model_module": "@jupyter-widgets/base",
      "model_module_version": "1.1.0",
      "model_name": "LayoutModel",
      "state": {}
     },
     "ddcab2b7d2f24f068e314b8d90dc90c0": {
      "model_module": "@jupyter-widgets/base",
      "model_module_version": "1.1.0",
      "model_name": "LayoutModel",
      "state": {
       "width": "90px"
      }
     },
     "ddcde07e7b004058846b6f64691c5b1b": {
      "model_module": "@jupyter-widgets/controls",
      "model_module_version": "1.4.0",
      "model_name": "DescriptionStyleModel",
      "state": {
       "description_width": ""
      }
     },
     "de0e0312dad54b3aac1bda5344f2766f": {
      "model_module": "@jupyter-widgets/base",
      "model_module_version": "1.1.0",
      "model_name": "LayoutModel",
      "state": {}
     },
     "de0f1909c75e430a86358a3fa0b9a995": {
      "model_module": "@jupyter-widgets/base",
      "model_module_version": "1.1.0",
      "model_name": "LayoutModel",
      "state": {}
     },
     "de50dcc76518449ca4190d0da5b78f9d": {
      "model_module": "@jupyter-widgets/base",
      "model_module_version": "1.1.0",
      "model_name": "LayoutModel",
      "state": {
       "width": "90px"
      }
     },
     "deaede3f369447fa81a975c26718206a": {
      "model_module": "@jupyter-widgets/base",
      "model_module_version": "1.1.0",
      "model_name": "LayoutModel",
      "state": {}
     },
     "def75223186b46c2ab6eb64e80dbe69d": {
      "model_module": "@jupyter-widgets/controls",
      "model_module_version": "1.4.0",
      "model_name": "DescriptionStyleModel",
      "state": {
       "description_width": ""
      }
     },
     "df169b343479430daedc153abc22243f": {
      "model_module": "@jupyter-widgets/controls",
      "model_module_version": "1.4.0",
      "model_name": "LabelModel",
      "state": {
       "layout": "IPY_MODEL_acfff617198a4fed9692133377da3b47",
       "style": "IPY_MODEL_01722e6449294095b69c3399e6500959"
      }
     },
     "df3fedfe68e347c793fc31f53922c394": {
      "model_module": "@jupyter-widgets/controls",
      "model_module_version": "1.4.0",
      "model_name": "LabelModel",
      "state": {
       "layout": "IPY_MODEL_b7ba6d95d1874a64bb2fb648a182f59f",
       "style": "IPY_MODEL_dfb9abd2d0f14f1daead298e97c516d9",
       "value": "Aobs's eigs:"
      }
     },
     "df4f2e5f7cac45da9930e46f5690c3a4": {
      "model_module": "@jupyter-widgets/controls",
      "model_module_version": "1.4.0",
      "model_name": "VBoxModel",
      "state": {
       "children": [
        "IPY_MODEL_eab4cc52bba041929aae83ca52b86262",
        "IPY_MODEL_703688b40d404ccbae95be27274af0cd"
       ],
       "layout": "IPY_MODEL_62d546d4642b403fb7e1f9e62e818f03"
      }
     },
     "df7ca8e6b4e943ab931b5b3d5c5c261c": {
      "model_module": "@jupyter-widgets/controls",
      "model_module_version": "1.4.0",
      "model_name": "DescriptionStyleModel",
      "state": {
       "description_width": ""
      }
     },
     "df806b0f9ea746d4b381b0f1ebe18cb0": {
      "model_module": "@jupyter-widgets/controls",
      "model_module_version": "1.4.0",
      "model_name": "HBoxModel",
      "state": {
       "children": [
        "IPY_MODEL_965ba5aa3bb648c899f8ba33fda5cf31",
        "IPY_MODEL_2207ee2b08c4446987f7e6023e83a82b",
        "IPY_MODEL_c1cafa8250424af186c85c0f7a037d00",
        "IPY_MODEL_1fc3130926714e67a16a6fa21598e553",
        "IPY_MODEL_356747a968bb4a48b3b7722036ed8bf4"
       ],
       "layout": "IPY_MODEL_290c5edce3fd4ba59715d66705fcdd2e"
      }
     },
     "dfb9abd2d0f14f1daead298e97c516d9": {
      "model_module": "@jupyter-widgets/controls",
      "model_module_version": "1.4.0",
      "model_name": "DescriptionStyleModel",
      "state": {
       "description_width": ""
      }
     },
     "e02b4d0e91cd456eb60b5d5243ba5cb5": {
      "model_module": "@jupyter-widgets/base",
      "model_module_version": "1.1.0",
      "model_name": "LayoutModel",
      "state": {
       "width": "90px"
      }
     },
     "e05554ca65324a6b8574c72ca47cf5b7": {
      "model_module": "@jupyter-widgets/controls",
      "model_module_version": "1.4.0",
      "model_name": "DescriptionStyleModel",
      "state": {
       "description_width": ""
      }
     },
     "e07495be61da490a943fd962a0b2267b": {
      "model_module": "@jupyter-widgets/controls",
      "model_module_version": "1.4.0",
      "model_name": "LabelModel",
      "state": {
       "layout": "IPY_MODEL_b16de3267e844d5893eb86aa89317258",
       "style": "IPY_MODEL_d6271142c5a94a4084c7ba3c91dac19b",
       "value": "Aobs's eigs:"
      }
     },
     "e07f8d2fd0284db8ac22cb54ea409be1": {
      "model_module": "@jupyter-widgets/controls",
      "model_module_version": "1.4.0",
      "model_name": "DescriptionStyleModel",
      "state": {
       "description_width": ""
      }
     },
     "e1298497023e4a4ba0be17974a39ac75": {
      "model_module": "@jupyter-widgets/controls",
      "model_module_version": "1.4.0",
      "model_name": "DescriptionStyleModel",
      "state": {
       "description_width": ""
      }
     },
     "e24fb2aa34f844d99bef9c6b7ccac677": {
      "model_module": "@jupyter-widgets/base",
      "model_module_version": "1.1.0",
      "model_name": "LayoutModel",
      "state": {}
     },
     "e25d85fff72e488ea4647079ab727aff": {
      "model_module": "@jupyter-widgets/controls",
      "model_module_version": "1.4.0",
      "model_name": "DescriptionStyleModel",
      "state": {
       "description_width": ""
      }
     },
     "e27cc49491614eb690e345b1f6bdc61a": {
      "model_module": "@jupyter-widgets/base",
      "model_module_version": "1.1.0",
      "model_name": "LayoutModel",
      "state": {}
     },
     "e2a06b360f0e49c6be50c844c97854d2": {
      "model_module": "@jupyter-widgets/base",
      "model_module_version": "1.1.0",
      "model_name": "LayoutModel",
      "state": {
       "width": "90px"
      }
     },
     "e2a1c41856004ffc9cd0fc59df88997a": {
      "model_module": "@jupyter-widgets/controls",
      "model_module_version": "1.4.0",
      "model_name": "DescriptionStyleModel",
      "state": {
       "description_width": ""
      }
     },
     "e2e6de4db47f4ddbacdbd9c843e1e45a": {
      "model_module": "@jupyter-widgets/controls",
      "model_module_version": "1.4.0",
      "model_name": "DescriptionStyleModel",
      "state": {
       "description_width": ""
      }
     },
     "e2f7fa09709b4f89842d92760ea43a0b": {
      "model_module": "@jupyter-widgets/controls",
      "model_module_version": "1.4.0",
      "model_name": "LabelModel",
      "state": {
       "layout": "IPY_MODEL_637824522a5343b0944c5428ef57aa0e",
       "style": "IPY_MODEL_fe09b783fe0d4b9099f6673b2feb299b"
      }
     },
     "e35ded94ccdb411fb3f03b38368623d6": {
      "model_module": "@jupyter-widgets/base",
      "model_module_version": "1.1.0",
      "model_name": "LayoutModel",
      "state": {
       "width": "90px"
      }
     },
     "e3f770ce4cf241e991c713aa951e5765": {
      "model_module": "@jupyter-widgets/controls",
      "model_module_version": "1.4.0",
      "model_name": "LabelModel",
      "state": {
       "layout": "IPY_MODEL_d8ff54fe12f1431ea8b625991bef5e76",
       "style": "IPY_MODEL_bb1503441b804f2caeba60eca1ccbe5f"
      }
     },
     "e4959a4ff1d6428da5531fb2bf42b5eb": {
      "model_module": "@jupyter-widgets/controls",
      "model_module_version": "1.4.0",
      "model_name": "DescriptionStyleModel",
      "state": {
       "description_width": ""
      }
     },
     "e497f72ac994442e867e12b0d2d6c200": {
      "model_module": "@jupyter-widgets/controls",
      "model_module_version": "1.4.0",
      "model_name": "DescriptionStyleModel",
      "state": {
       "description_width": ""
      }
     },
     "e53e8f35bab440248da43e8cba202569": {
      "model_module": "@jupyter-widgets/controls",
      "model_module_version": "1.4.0",
      "model_name": "LabelModel",
      "state": {
       "layout": "IPY_MODEL_3223149f706c4dd4ba260fe3446b92e8",
       "style": "IPY_MODEL_75b5652b09e4461cb6a99471967a68ea"
      }
     },
     "e5ab92b29f3841ce94407c273422297e": {
      "model_module": "@jupyter-widgets/output",
      "model_module_version": "1.0.0",
      "model_name": "OutputModel",
      "state": {
       "layout": "IPY_MODEL_ed2d5f8703174f18b4ac11810f7fc733",
       "outputs": [
        {
         "name": "stdout",
         "output_type": "stream",
         "text": "The Aa's eigenvalues are: -2.24+2.23j, -2.24+-2.23j, -0.28+0.00j, -0.26+0.32j and -0.26+-0.32j\nThe observer\\s eigenvalues are: -10.00+0.00j and -10.00+0.00j\n"
        }
       ]
      }
     },
     "e5ea03176a6d413cbda448812f9f9fac": {
      "model_module": "@jupyter-widgets/controls",
      "model_module_version": "1.4.0",
      "model_name": "DropdownModel",
      "state": {
       "_options_labels": [
        "0 complex eigenvalues",
        "2 complex eigenvalues",
        "4 complex eigenvalues"
       ],
       "description": "Aa:",
       "disabled": true,
       "index": 0,
       "layout": "IPY_MODEL_7799c212da6243439092d8e652f3343a",
       "style": "IPY_MODEL_3bcadc2f01354f5ebada7a948f377681"
      }
     },
     "e6198233953c4e6a91250039d906d212": {
      "model_module": "@jupyter-widgets/controls",
      "model_module_version": "1.4.0",
      "model_name": "HBoxModel",
      "state": {
       "children": [
        "IPY_MODEL_414f93245d2d4a25887f5123fa09bf44",
        "IPY_MODEL_6d68637432684016b0727f506afe0df5",
        "IPY_MODEL_f01b454caf0243f89fac5809d26d4cf2",
        "IPY_MODEL_3fe63ac60ab64ded984e9abeeff7abf5",
        "IPY_MODEL_317ee220faa84115bad387393653c51c",
        "IPY_MODEL_587e0f7d832d4ecc866fb0f39ea9d990",
        "IPY_MODEL_cc3ae6556e6544b3933ff37fcdc8b124",
        "IPY_MODEL_9f7de2b91d5f4664b24e72fafb4248bf",
        "IPY_MODEL_e07495be61da490a943fd962a0b2267b",
        "IPY_MODEL_a3c2a24a94aa456cbd6779a86c1f06ad",
        "IPY_MODEL_25be128dd26d4cd298247bbbc5bbe06a"
       ],
       "layout": "IPY_MODEL_5d6ef847aa5b48c8a1d6f71e115505d6"
      }
     },
     "e64a1f67ddd246a4b2817a99b07cca56": {
      "model_module": "@jupyter-widgets/controls",
      "model_module_version": "1.4.0",
      "model_name": "VBoxModel",
      "state": {
       "children": [
        "IPY_MODEL_df806b0f9ea746d4b381b0f1ebe18cb0"
       ],
       "layout": "IPY_MODEL_108b967aa86f464994fc814c54533fec"
      }
     },
     "e6710c1e57c84d0a8ac493e844396d61": {
      "model_module": "@jupyter-widgets/base",
      "model_module_version": "1.1.0",
      "model_name": "LayoutModel",
      "state": {}
     },
     "e675d75bec4b474dba2d599e91931cd2": {
      "model_module": "@jupyter-widgets/controls",
      "model_module_version": "1.4.0",
      "model_name": "HBoxModel",
      "state": {
       "children": [
        "IPY_MODEL_c6978c346278421ab9d3e0060569d705",
        "IPY_MODEL_b952ba902f6a46968b42685d2716bfea",
        "IPY_MODEL_416b8f7b106846d0870026946b4f6b5a"
       ],
       "layout": "IPY_MODEL_c833196d4f674ec093217cd10c5464e5"
      }
     },
     "e6f9740ecb9c4b1e890dc2e32b0d34a7": {
      "model_module": "@jupyter-widgets/base",
      "model_module_version": "1.1.0",
      "model_name": "LayoutModel",
      "state": {
       "height": "0px",
       "width": "0px"
      }
     },
     "e740dfcb3cf649d4bee10bf6ee195301": {
      "model_module": "@jupyter-widgets/controls",
      "model_module_version": "1.4.0",
      "model_name": "LabelModel",
      "state": {
       "layout": "IPY_MODEL_c864e9e808124124b719b91097e41a7f",
       "style": "IPY_MODEL_c7f5c40ad2064d6b9c79b7f03511bb7a"
      }
     },
     "e75eff08ebb144498999ffac93f14395": {
      "model_module": "@jupyter-widgets/base",
      "model_module_version": "1.1.0",
      "model_name": "LayoutModel",
      "state": {
       "width": "90px"
      }
     },
     "e7631457cbcc4012bd350f9a84cef00c": {
      "model_module": "@jupyter-widgets/controls",
      "model_module_version": "1.4.0",
      "model_name": "DescriptionStyleModel",
      "state": {
       "description_width": ""
      }
     },
     "e7eba20de0944e0c98115502cd135383": {
      "model_module": "@jupyter-widgets/controls",
      "model_module_version": "1.4.0",
      "model_name": "LabelModel",
      "state": {
       "layout": "IPY_MODEL_694dd07aee66466bb45bfff329e60483",
       "style": "IPY_MODEL_db0e4a9359f5475aa13393f9164115b8"
      }
     },
     "e803009919e34d8eaf8b05eec6e7095e": {
      "model_module": "@jupyter-widgets/controls",
      "model_module_version": "1.4.0",
      "model_name": "LabelModel",
      "state": {
       "layout": "IPY_MODEL_7371a287f94840aa829ef2d8d94c4853",
       "style": "IPY_MODEL_45252723ac28472a970b95e3e6e933d5"
      }
     },
     "e80abac93ac54bc8a6d91a52c4fd70cc": {
      "model_module": "@jupyter-widgets/controls",
      "model_module_version": "1.4.0",
      "model_name": "DescriptionStyleModel",
      "state": {
       "description_width": ""
      }
     },
     "e819fefb797041e89e4f72749e00edab": {
      "model_module": "@jupyter-widgets/controls",
      "model_module_version": "1.4.0",
      "model_name": "LabelModel",
      "state": {
       "layout": "IPY_MODEL_07fef6b966c54e33b18032e66099953d",
       "style": "IPY_MODEL_524e523ee79e43c987c381c69c9afe85"
      }
     },
     "e81bb22a34de44a18e29476b4d713e71": {
      "model_module": "@jupyter-widgets/base",
      "model_module_version": "1.1.0",
      "model_name": "LayoutModel",
      "state": {}
     },
     "e89ff4014f0e49528bbf4e98a760fe39": {
      "model_module": "@jupyter-widgets/controls",
      "model_module_version": "1.4.0",
      "model_name": "FloatTextModel",
      "state": {
       "disabled": true,
       "layout": "IPY_MODEL_14cf269aca7449979c09408a3fc45663",
       "step": null,
       "style": "IPY_MODEL_4c88f970164e400a9fdb30163e7153f1",
       "value": -0.6
      }
     },
     "e946f509a27349d3ad44c1af4e53fc3a": {
      "model_module": "@jupyter-widgets/controls",
      "model_module_version": "1.4.0",
      "model_name": "HBoxModel",
      "state": {
       "children": [
        "IPY_MODEL_0f26c8afca96402aa66b81bc451a3559",
        "IPY_MODEL_d116ebf0025c483093a9d7c0d666be31",
        "IPY_MODEL_f7db352aad7f48b287d557cc324204f9",
        "IPY_MODEL_e2f7fa09709b4f89842d92760ea43a0b",
        "IPY_MODEL_83cff18e6a264988ae36134b674e5a85"
       ],
       "layout": "IPY_MODEL_7b620fcf26764dc59856cf8c17e225c6"
      }
     },
     "e9a73fa1f34747818d3505be6015e5a8": {
      "model_module": "@jupyter-widgets/controls",
      "model_module_version": "1.4.0",
      "model_name": "DescriptionStyleModel",
      "state": {
       "description_width": ""
      }
     },
     "ea21094a446f4ef5a10ba3ec7281a8e1": {
      "model_module": "@jupyter-widgets/controls",
      "model_module_version": "1.4.0",
      "model_name": "DescriptionStyleModel",
      "state": {
       "description_width": ""
      }
     },
     "eab4cc52bba041929aae83ca52b86262": {
      "model_module": "@jupyter-widgets/controls",
      "model_module_version": "1.4.0",
      "model_name": "HBoxModel",
      "state": {
       "children": [
        "IPY_MODEL_20cb9075c7db4936a347bd454de3b582",
        "IPY_MODEL_22374c75f7794f22a5f88e46fc333e82",
        "IPY_MODEL_ce92781cb1694e5bae6daa60cfb2a7a9"
       ],
       "layout": "IPY_MODEL_6aa250d5c0944d639991a61220a87849"
      }
     },
     "ead2d37f897d4fdba7cc15fec55eb049": {
      "model_module": "@jupyter-widgets/controls",
      "model_module_version": "1.4.0",
      "model_name": "HBoxModel",
      "state": {
       "children": [
        "IPY_MODEL_21b672a6f2cb476a859c6c8b77770295",
        "IPY_MODEL_6d68637432684016b0727f506afe0df5",
        "IPY_MODEL_f01b454caf0243f89fac5809d26d4cf2",
        "IPY_MODEL_3fe63ac60ab64ded984e9abeeff7abf5",
        "IPY_MODEL_317ee220faa84115bad387393653c51c",
        "IPY_MODEL_587e0f7d832d4ecc866fb0f39ea9d990",
        "IPY_MODEL_fa04e72257b6472aa13cb02af3130812",
        "IPY_MODEL_f052288ca5ad43bb81cb89f7166b583e",
        "IPY_MODEL_019c9aac684248e991ad2ca479ca9e54",
        "IPY_MODEL_a3c2a24a94aa456cbd6779a86c1f06ad",
        "IPY_MODEL_25be128dd26d4cd298247bbbc5bbe06a"
       ],
       "layout": "IPY_MODEL_cbd305ecffbf4083b47607d4767cdc71"
      }
     },
     "eb04c670a97349aa81672b123aa0368f": {
      "model_module": "@jupyter-widgets/controls",
      "model_module_version": "1.4.0",
      "model_name": "ButtonStyleModel",
      "state": {}
     },
     "eb3ee6a786584c6d9f2da7657cac6d2a": {
      "model_module": "@jupyter-widgets/controls",
      "model_module_version": "1.4.0",
      "model_name": "LabelModel",
      "state": {
       "layout": "IPY_MODEL_d34a230dde2c42bdb1c91cd1929452d1",
       "style": "IPY_MODEL_0b517246f8e34440abe426b02300a069",
       "value": "Aobs's eigs:"
      }
     },
     "eb845b48322e45158642a399f660afa0": {
      "model_module": "@jupyter-widgets/base",
      "model_module_version": "1.1.0",
      "model_name": "LayoutModel",
      "state": {
       "width": "90px"
      }
     },
     "eb895777800d4b5dad6593c98477136a": {
      "model_module": "@jupyter-widgets/controls",
      "model_module_version": "1.4.0",
      "model_name": "LabelModel",
      "state": {
       "layout": "IPY_MODEL_c78317dc61044dcebc3800ab9500df9b",
       "style": "IPY_MODEL_14197243320e4c27bf97e564d6f16016"
      }
     },
     "eba8111f91b243d0b9783cc3e4381001": {
      "model_module": "@jupyter-widgets/controls",
      "model_module_version": "1.4.0",
      "model_name": "DescriptionStyleModel",
      "state": {
       "description_width": ""
      }
     },
     "ebb16ece53454ebcaf4e7e76b58df6c0": {
      "model_module": "@jupyter-widgets/base",
      "model_module_version": "1.1.0",
      "model_name": "LayoutModel",
      "state": {}
     },
     "ebb77dc0261f4b568809a80141cc5e95": {
      "model_module": "@jupyter-widgets/controls",
      "model_module_version": "1.4.0",
      "model_name": "LabelModel",
      "state": {
       "layout": "IPY_MODEL_72d88d2553ac41c4ac690fe0e067324e",
       "style": "IPY_MODEL_85217905f330467f8b5be2ca26a9808f"
      }
     },
     "ebf0f598131a450587d040772038e710": {
      "model_module": "@jupyter-widgets/controls",
      "model_module_version": "1.4.0",
      "model_name": "LabelModel",
      "state": {
       "layout": "IPY_MODEL_a7b4cf28d00f47458db9d6207df4c87c",
       "style": "IPY_MODEL_4112fde42af14183bbd1dc0f0588e5c3"
      }
     },
     "ec3fff96409f451e8c01a23c1f99995c": {
      "model_module": "@jupyter-widgets/controls",
      "model_module_version": "1.4.0",
      "model_name": "LabelModel",
      "state": {
       "layout": "IPY_MODEL_1dc05884ae5f4e7d823343a71c5d6ddd",
       "style": "IPY_MODEL_66b0c1e2ed6d42b4934c79d6d7cb6bc6"
      }
     },
     "ecd20c3dc57245719c571ef17d01685c": {
      "model_module": "@jupyter-widgets/base",
      "model_module_version": "1.1.0",
      "model_name": "LayoutModel",
      "state": {
       "width": "90px"
      }
     },
     "ed2d5f8703174f18b4ac11810f7fc733": {
      "model_module": "@jupyter-widgets/base",
      "model_module_version": "1.1.0",
      "model_name": "LayoutModel",
      "state": {}
     },
     "ed2d8c9e95644c48982990fdeaf43bbe": {
      "model_module": "@jupyter-widgets/base",
      "model_module_version": "1.1.0",
      "model_name": "LayoutModel",
      "state": {
       "width": "90px"
      }
     },
     "ed387f51cefd4c6e9562fcd544998001": {
      "model_module": "@jupyter-widgets/controls",
      "model_module_version": "1.4.0",
      "model_name": "FloatTextModel",
      "state": {
       "layout": "IPY_MODEL_5726c2125b484b7b9f531b64aad3748a",
       "step": null,
       "style": "IPY_MODEL_ef8369410e284bcba956b8650a4efe64",
       "value": -10
      }
     },
     "ed5069a98fda4fd89f8f6f2f037d4397": {
      "model_module": "@jupyter-widgets/controls",
      "model_module_version": "1.4.0",
      "model_name": "FloatTextModel",
      "state": {
       "layout": "IPY_MODEL_c10b5ac94db5488995240984fb80572d",
       "step": null,
       "style": "IPY_MODEL_f4484867d9a2404b8af89c12d9fee1b5",
       "value": 13861
      }
     },
     "ed7dd44c3eaa46c784871681f16bc0f0": {
      "model_module": "@jupyter-widgets/base",
      "model_module_version": "1.1.0",
      "model_name": "LayoutModel",
      "state": {}
     },
     "eda9ff75f90e4e86815627781902014a": {
      "model_module": "@jupyter-widgets/controls",
      "model_module_version": "1.4.0",
      "model_name": "DropdownModel",
      "state": {
       "_options_labels": [
        "0 complex eigenvalues",
        "2 complex eigenvalues"
       ],
       "description": "Aobs:",
       "disabled": true,
       "index": 0,
       "layout": "IPY_MODEL_b797a5ddd90043d48dd5a77c0f954f95",
       "style": "IPY_MODEL_ac0ffe7011a04929a5584f8a14bbb898"
      }
     },
     "edb98a49aed04ce2b99d3a4898054f4d": {
      "model_module": "@jupyter-widgets/controls",
      "model_module_version": "1.4.0",
      "model_name": "LabelModel",
      "state": {
       "layout": "IPY_MODEL_9d157d49b60d48c9ae30175ff22d2776",
       "style": "IPY_MODEL_9c7326c1824c4d51bcba36be24cfd780"
      }
     },
     "edf2c458601a4c2986e9084a559dcd3a": {
      "model_module": "@jupyter-widgets/base",
      "model_module_version": "1.1.0",
      "model_name": "LayoutModel",
      "state": {}
     },
     "ee4aa316d9714e888f3c23995436d5e6": {
      "model_module": "@jupyter-widgets/controls",
      "model_module_version": "1.4.0",
      "model_name": "HBoxModel",
      "state": {
       "children": [
        "IPY_MODEL_b6800bb5073f4fb49de9e3b04e45f578"
       ],
       "layout": "IPY_MODEL_36b6b604c9464f058cab5c96b0e7fd11"
      }
     },
     "ee6a33ca9388418faed0c5e29b4b9ad3": {
      "model_module": "@jupyter-widgets/controls",
      "model_module_version": "1.4.0",
      "model_name": "HBoxModel",
      "state": {
       "children": [
        "IPY_MODEL_b21b2a2d1b35450395e3c319fc54c196"
       ],
       "layout": "IPY_MODEL_90289c97f60843f89f00cd95a0fca4b9"
      }
     },
     "eea30c23809947ecacd9938a63398f49": {
      "model_module": "@jupyter-widgets/base",
      "model_module_version": "1.1.0",
      "model_name": "LayoutModel",
      "state": {}
     },
     "eed4b893f8914ebb9d38fb0d061e5369": {
      "model_module": "@jupyter-widgets/base",
      "model_module_version": "1.1.0",
      "model_name": "LayoutModel",
      "state": {}
     },
     "eeea2616635d4149881ea9df9f5a14cb": {
      "model_module": "@jupyter-widgets/controls",
      "model_module_version": "1.4.0",
      "model_name": "LabelModel",
      "state": {
       "layout": "IPY_MODEL_1e33b781497341b1996b09276820d8e0",
       "style": "IPY_MODEL_208dd43bf82041139b3985a6cc8b89b3"
      }
     },
     "eef564791f8b41739add71b75be481ec": {
      "model_module": "@jupyter-widgets/controls",
      "model_module_version": "1.4.0",
      "model_name": "FloatTextModel",
      "state": {
       "layout": "IPY_MODEL_d4f898ed505f4e5a918ae8166d217c23",
       "step": null,
       "style": "IPY_MODEL_e2e6de4db47f4ddbacdbd9c843e1e45a",
       "value": -0.2
      }
     },
     "ef1dd140766840bb8e931471f5f301c9": {
      "model_module": "@jupyter-widgets/controls",
      "model_module_version": "1.4.0",
      "model_name": "FloatTextModel",
      "state": {
       "disabled": true,
       "layout": "IPY_MODEL_cc47e48caf85445fa010ce953bda0ba2",
       "step": null,
       "style": "IPY_MODEL_7a86b8685c0d4d4ab4dfd942b31e689e"
      }
     },
     "ef440a7110ee47b08f272167ab804708": {
      "model_module": "@jupyter-widgets/base",
      "model_module_version": "1.1.0",
      "model_name": "LayoutModel",
      "state": {}
     },
     "ef8032f4b5344c16ae90cfbfd02231d6": {
      "model_module": "@jupyter-widgets/controls",
      "model_module_version": "1.4.0",
      "model_name": "LabelModel",
      "state": {
       "layout": "IPY_MODEL_bf122223b2724a248d55dd42cc9b3191",
       "style": "IPY_MODEL_f01c7a1026c14bdfa39a40648f44556d"
      }
     },
     "ef8369410e284bcba956b8650a4efe64": {
      "model_module": "@jupyter-widgets/controls",
      "model_module_version": "1.4.0",
      "model_name": "DescriptionStyleModel",
      "state": {
       "description_width": ""
      }
     },
     "f01b454caf0243f89fac5809d26d4cf2": {
      "model_module": "@jupyter-widgets/controls",
      "model_module_version": "1.4.0",
      "model_name": "VBoxModel",
      "state": {
       "children": [
        "IPY_MODEL_751f4dd6192f4b71b9ffc8b626f4ab84",
        "IPY_MODEL_0b4ba8575fd04aaaaea39527815d5e55"
       ],
       "layout": "IPY_MODEL_0e87eb36298b40c88aa507280a88673b"
      }
     },
     "f01c7a1026c14bdfa39a40648f44556d": {
      "model_module": "@jupyter-widgets/controls",
      "model_module_version": "1.4.0",
      "model_name": "DescriptionStyleModel",
      "state": {
       "description_width": ""
      }
     },
     "f052288ca5ad43bb81cb89f7166b583e": {
      "model_module": "@jupyter-widgets/controls",
      "model_module_version": "1.4.0",
      "model_name": "LabelModel",
      "state": {
       "layout": "IPY_MODEL_363c1e3703ab462a93ff019e7bc417eb",
       "style": "IPY_MODEL_38105898ff504547a93e80b47afac00d"
      }
     },
     "f0784b65c1cf46f9af5e149ad2e1bf93": {
      "model_module": "@jupyter-widgets/controls",
      "model_module_version": "1.4.0",
      "model_name": "DescriptionStyleModel",
      "state": {
       "description_width": ""
      }
     },
     "f13fe2c0b63c45769a832e70c2b163af": {
      "model_module": "@jupyter-widgets/base",
      "model_module_version": "1.1.0",
      "model_name": "LayoutModel",
      "state": {
       "width": "90px"
      }
     },
     "f1ebf687e130423a96df29607461d421": {
      "model_module": "@jupyter-widgets/controls",
      "model_module_version": "1.4.0",
      "model_name": "DescriptionStyleModel",
      "state": {
       "description_width": ""
      }
     },
     "f24072b2fc174c678db9de5d308468b8": {
      "model_module": "@jupyter-widgets/base",
      "model_module_version": "1.1.0",
      "model_name": "LayoutModel",
      "state": {}
     },
     "f2b45504c367429daa45903dc955e9f7": {
      "model_module": "@jupyter-widgets/output",
      "model_module_version": "1.0.0",
      "model_name": "OutputModel",
      "state": {
       "layout": "IPY_MODEL_b7a97461761e4eecb7aa7b1254c26810",
       "outputs": [
        {
         "name": "stdout",
         "output_type": "stream",
         "text": "The Aa's eigenvalues are: -2.24+2.23j, -2.24+-2.23j, -0.28+0.00j, -0.26+0.32j and -0.26+-0.32j\nThe observer\\s eigenvalues are: -10.00+0.00j and -10.00+0.00j\n"
        }
       ]
      }
     },
     "f342b0e683a541f88af64b284dcd2a0f": {
      "model_module": "@jupyter-widgets/controls",
      "model_module_version": "1.4.0",
      "model_name": "HBoxModel",
      "state": {
       "children": [
        "IPY_MODEL_402c9bde36d74803b3e44a1d9d24a7bf"
       ],
       "layout": "IPY_MODEL_ed7dd44c3eaa46c784871681f16bc0f0"
      }
     },
     "f3ccbef2b83d4b939389534c7a034c8e": {
      "model_module": "@jupyter-widgets/controls",
      "model_module_version": "1.4.0",
      "model_name": "LabelModel",
      "state": {
       "layout": "IPY_MODEL_c2b94464fe8c46c4bc766fc9342971bc",
       "style": "IPY_MODEL_4c44c42077ed435898d338ddb0ba0436",
       "value": "Ka:"
      }
     },
     "f3e6fb5eb49042e08cb1f9909bc388ea": {
      "model_module": "@jupyter-widgets/controls",
      "model_module_version": "1.4.0",
      "model_name": "HBoxModel",
      "state": {
       "children": [
        "IPY_MODEL_4fb69747e2b94cc39379030795002c6b",
        "IPY_MODEL_21eabbad715941b99f63fe2a4776bc00",
        "IPY_MODEL_13b9e1059bd644deab53f4bbff6caec0"
       ],
       "layout": "IPY_MODEL_8eb6aa9cb43341ccb9ce62f5ca112617"
      }
     },
     "f42e19a237c34b6180896202e734db4b": {
      "model_module": "@jupyter-widgets/controls",
      "model_module_version": "1.4.0",
      "model_name": "DescriptionStyleModel",
      "state": {
       "description_width": ""
      }
     },
     "f4484867d9a2404b8af89c12d9fee1b5": {
      "model_module": "@jupyter-widgets/controls",
      "model_module_version": "1.4.0",
      "model_name": "DescriptionStyleModel",
      "state": {
       "description_width": ""
      }
     },
     "f48ce26f0db74d56b4257564f06b803e": {
      "model_module": "@jupyter-widgets/controls",
      "model_module_version": "1.4.0",
      "model_name": "DescriptionStyleModel",
      "state": {
       "description_width": ""
      }
     },
     "f4b016746bb84426baca5c76043f6338": {
      "model_module": "@jupyter-widgets/controls",
      "model_module_version": "1.4.0",
      "model_name": "VBoxModel",
      "state": {
       "children": [
        "IPY_MODEL_07f5abd468dd4c468a64aed63128e248"
       ],
       "layout": "IPY_MODEL_4270a3ab84d24c2a87739c20e2005d65"
      }
     },
     "f4ddf9715a014e14be8ecb2b3ae86c47": {
      "model_module": "@jupyter-widgets/controls",
      "model_module_version": "1.4.0",
      "model_name": "DropdownModel",
      "state": {
       "_options_labels": [
        "0 complex eigenvalues",
        "2 complex eigenvalues"
       ],
       "description": "Aobs:",
       "disabled": true,
       "index": 0,
       "layout": "IPY_MODEL_e6710c1e57c84d0a8ac493e844396d61",
       "style": "IPY_MODEL_0a7c3f2ed52f4978a43c2ce6b2ed5a0d"
      }
     },
     "f60d5a9a35db4218bf1cb50b763bfbd8": {
      "model_module": "@jupyter-widgets/controls",
      "model_module_version": "1.4.0",
      "model_name": "DescriptionStyleModel",
      "state": {
       "description_width": ""
      }
     },
     "f66682badded4087a8e4129a3e4d524b": {
      "model_module": "@jupyter-widgets/controls",
      "model_module_version": "1.4.0",
      "model_name": "HBoxModel",
      "state": {
       "children": [
        "IPY_MODEL_da40a5d500a24119bae8200ab190284c"
       ],
       "layout": "IPY_MODEL_9aa8d3ec40df4e009aab31ecae602e3a"
      }
     },
     "f699eb1a696a488fab7f9c72c92dee1a": {
      "model_module": "@jupyter-widgets/base",
      "model_module_version": "1.1.0",
      "model_name": "LayoutModel",
      "state": {}
     },
     "f6adbb16255046328fb88ed295414e1e": {
      "model_module": "@jupyter-widgets/controls",
      "model_module_version": "1.4.0",
      "model_name": "FloatTextModel",
      "state": {
       "layout": "IPY_MODEL_f9bc59ff9da64788aab62303d63ab728",
       "step": null,
       "style": "IPY_MODEL_ade065b9c0274c9f8243ed695fe68333",
       "value": 316
      }
     },
     "f7bd3d3a570f462a94866d884ec485ea": {
      "model_module": "@jupyter-widgets/base",
      "model_module_version": "1.1.0",
      "model_name": "LayoutModel",
      "state": {}
     },
     "f7db352aad7f48b287d557cc324204f9": {
      "model_module": "@jupyter-widgets/controls",
      "model_module_version": "1.4.0",
      "model_name": "LabelModel",
      "state": {
       "layout": "IPY_MODEL_fb95f930529d4f57b36b5e52f981ab6b",
       "style": "IPY_MODEL_8390228ad1364aa68a86b96bf642bf61"
      }
     },
     "f8067f8c672e4164a2165c0319b30ee6": {
      "model_module": "@jupyter-widgets/controls",
      "model_module_version": "1.4.0",
      "model_name": "DescriptionStyleModel",
      "state": {
       "description_width": ""
      }
     },
     "f86a60dda4fc42509dc33d6808857b59": {
      "model_module": "@jupyter-widgets/controls",
      "model_module_version": "1.4.0",
      "model_name": "HBoxModel",
      "state": {
       "children": [
        "IPY_MODEL_6157e5ac18a04380bfcdf3e5360c1f10"
       ],
       "layout": "IPY_MODEL_a8c021ecd91740e0a4a051e52059b3e9"
      }
     },
     "f86ef0c63af448cbba07abd5003acb2c": {
      "model_module": "@jupyter-widgets/base",
      "model_module_version": "1.1.0",
      "model_name": "LayoutModel",
      "state": {}
     },
     "f971744a6b6f4c44b945449b4acd81c4": {
      "model_module": "@jupyter-widgets/controls",
      "model_module_version": "1.4.0",
      "model_name": "DescriptionStyleModel",
      "state": {
       "description_width": ""
      }
     },
     "f9982efc85a34595ba056a20e5f29111": {
      "model_module": "@jupyter-widgets/base",
      "model_module_version": "1.1.0",
      "model_name": "LayoutModel",
      "state": {}
     },
     "f9a795a7869345c3a2ebfa402d45f25b": {
      "model_module": "@jupyter-widgets/controls",
      "model_module_version": "1.4.0",
      "model_name": "DescriptionStyleModel",
      "state": {
       "description_width": ""
      }
     },
     "f9bc59ff9da64788aab62303d63ab728": {
      "model_module": "@jupyter-widgets/base",
      "model_module_version": "1.1.0",
      "model_name": "LayoutModel",
      "state": {
       "width": "90px"
      }
     },
     "f9d812c863db402d90b2c980d38bb13c": {
      "model_module": "@jupyter-widgets/base",
      "model_module_version": "1.1.0",
      "model_name": "LayoutModel",
      "state": {}
     },
     "f9e272cddc0d46a8b29b88bc2031a7b6": {
      "model_module": "@jupyter-widgets/base",
      "model_module_version": "1.1.0",
      "model_name": "LayoutModel",
      "state": {}
     },
     "f9efcf465553492696c39a2edafe44fc": {
      "model_module": "@jupyter-widgets/controls",
      "model_module_version": "1.4.0",
      "model_name": "ButtonStyleModel",
      "state": {}
     },
     "fa04e72257b6472aa13cb02af3130812": {
      "model_module": "@jupyter-widgets/controls",
      "model_module_version": "1.4.0",
      "model_name": "LabelModel",
      "state": {
       "layout": "IPY_MODEL_52d2c84751bb4e7cba68bcd9a091bba1",
       "style": "IPY_MODEL_eba8111f91b243d0b9783cc3e4381001"
      }
     },
     "fa577bc5c8a24267b971d8d0213279dd": {
      "model_module": "@jupyter-widgets/controls",
      "model_module_version": "1.4.0",
      "model_name": "LabelModel",
      "state": {
       "layout": "IPY_MODEL_e81bb22a34de44a18e29476b4d713e71",
       "style": "IPY_MODEL_1b74db63daf04430bfbc9b90a4d2a0b9"
      }
     },
     "fa694349488843568882bce05ddefe64": {
      "model_module": "@jupyter-widgets/controls",
      "model_module_version": "1.4.0",
      "model_name": "HBoxModel",
      "state": {
       "children": [
        "IPY_MODEL_b9934d2ea426442b947bc55a6a98475c",
        "IPY_MODEL_d5286389e31f44d0a068455235d65e4f",
        "IPY_MODEL_db615f930a5444898a71cb10d3e0db3d",
        "IPY_MODEL_0fbab12f3fc8478a8d773b74b0d46c8b",
        "IPY_MODEL_992c66e245f641c19dbfccd1fcf3dc9b",
        "IPY_MODEL_c52b71d3ecdd45499b48a31dc291647b"
       ],
       "layout": "IPY_MODEL_51c5d8276bd747b39c3117b7fe0d1529"
      }
     },
     "fa6b3a1cd38f4591b1ea46c619cb3030": {
      "model_module": "@jupyter-widgets/controls",
      "model_module_version": "1.4.0",
      "model_name": "DescriptionStyleModel",
      "state": {
       "description_width": ""
      }
     },
     "fa779ef2a19142449b6539ff5c0afb2a": {
      "model_module": "@jupyter-widgets/controls",
      "model_module_version": "1.4.0",
      "model_name": "LabelModel",
      "state": {
       "layout": "IPY_MODEL_808008c7a6d64220a24e0e57526aee9a",
       "style": "IPY_MODEL_33bfa08767d84ae4a47341c4859c6d8e",
       "value": "Ka:"
      }
     },
     "fae3f97f39754d1ba4c31c0a281630ef": {
      "model_module": "@jupyter-widgets/base",
      "model_module_version": "1.1.0",
      "model_name": "LayoutModel",
      "state": {}
     },
     "faefe63476c24a01aaf13a0d22a20e41": {
      "model_module": "@jupyter-widgets/controls",
      "model_module_version": "1.4.0",
      "model_name": "DropdownModel",
      "state": {
       "_options_labels": [
        "Set Ka and La",
        "Set the eigenvalues"
       ],
       "index": 0,
       "layout": "IPY_MODEL_491cd4b112cf45e3aba71d0563e0768d",
       "style": "IPY_MODEL_f9a795a7869345c3a2ebfa402d45f25b"
      }
     },
     "fb4bc4d4d3a648d7a6a9df184cce12b6": {
      "model_module": "@jupyter-widgets/controls",
      "model_module_version": "1.4.0",
      "model_name": "HBoxModel",
      "state": {
       "children": [
        "IPY_MODEL_2f3e230ec0f74c2db5e3641c839f2213",
        "IPY_MODEL_d5286389e31f44d0a068455235d65e4f",
        "IPY_MODEL_67a96f99e9b841eaaff526b823dd21aa",
        "IPY_MODEL_b71de6e879bf43289b585f20d30e8ed5",
        "IPY_MODEL_5433f855b1e144bd9f99ee35a93dddd2",
        "IPY_MODEL_c52b71d3ecdd45499b48a31dc291647b"
       ],
       "layout": "IPY_MODEL_49bb0a8604b14c99a08b92915c5fc8d4"
      }
     },
     "fb95f930529d4f57b36b5e52f981ab6b": {
      "model_module": "@jupyter-widgets/base",
      "model_module_version": "1.1.0",
      "model_name": "LayoutModel",
      "state": {}
     },
     "fbb1d9058ea14688b02e1bf1f255cd4f": {
      "model_module": "@jupyter-widgets/controls",
      "model_module_version": "1.4.0",
      "model_name": "FloatTextModel",
      "state": {
       "layout": "IPY_MODEL_d6839054cd8f4840b7ceabe64adb74a1",
       "step": null,
       "style": "IPY_MODEL_94c62e1f059546eaa77c67a8748086d9",
       "value": 5275
      }
     },
     "fbf8566bdb534d5dbaa859344be12c0e": {
      "model_module": "@jupyter-widgets/base",
      "model_module_version": "1.1.0",
      "model_name": "LayoutModel",
      "state": {}
     },
     "fc243b3b10e846438dd07009179844f7": {
      "model_module": "@jupyter-widgets/base",
      "model_module_version": "1.1.0",
      "model_name": "LayoutModel",
      "state": {}
     },
     "fcea6582999f41d3998d812ef0156748": {
      "model_module": "@jupyter-widgets/base",
      "model_module_version": "1.1.0",
      "model_name": "LayoutModel",
      "state": {}
     },
     "fd59bda6f0d24120b0d6c12b5f6b8722": {
      "model_module": "@jupyter-widgets/controls",
      "model_module_version": "1.4.0",
      "model_name": "HBoxModel",
      "state": {
       "children": [
        "IPY_MODEL_f3ccbef2b83d4b939389534c7a034c8e",
        "IPY_MODEL_7a2c5d36b676498d86709b794261b2e5",
        "IPY_MODEL_5c81d6ad649d4942907fecd01757d79a",
        "IPY_MODEL_3ae048ad15b44938b8b8c0d5af7219e8",
        "IPY_MODEL_417d4660c0684d73b14d876b04be9db0",
        "IPY_MODEL_9e0c7264530f48d8a6e52208066546ff"
       ],
       "layout": "IPY_MODEL_84978a101c7e4f339808d159363a8bda"
      }
     },
     "fdc20dbc4d12432c889e338ca9f4f2e0": {
      "model_module": "@jupyter-widgets/base",
      "model_module_version": "1.1.0",
      "model_name": "LayoutModel",
      "state": {
       "width": "90px"
      }
     },
     "fdce31ba7cd54e7599882f799a6e6e33": {
      "model_module": "@jupyter-widgets/controls",
      "model_module_version": "1.4.0",
      "model_name": "LabelModel",
      "state": {
       "layout": "IPY_MODEL_47aecddedfd64f07a36ec50b49227ec5",
       "style": "IPY_MODEL_5232c359d050473bbaf3e0e85f18eeb0"
      }
     },
     "fe09b783fe0d4b9099f6673b2feb299b": {
      "model_module": "@jupyter-widgets/controls",
      "model_module_version": "1.4.0",
      "model_name": "DescriptionStyleModel",
      "state": {
       "description_width": ""
      }
     },
     "fe452383f5644078905bb160d1205007": {
      "model_module": "@jupyter-widgets/controls",
      "model_module_version": "1.4.0",
      "model_name": "LabelModel",
      "state": {
       "layout": "IPY_MODEL_f9d812c863db402d90b2c980d38bb13c",
       "style": "IPY_MODEL_8a9bc422e2cc4f8e806f955c0698cf32"
      }
     },
     "fe72029372074064a0a2d7f32b95cc43": {
      "model_module": "@jupyter-widgets/controls",
      "model_module_version": "1.4.0",
      "model_name": "DescriptionStyleModel",
      "state": {
       "description_width": ""
      }
     },
     "fe865e4851b4495a95e3dc2cc31cfaa9": {
      "model_module": "@jupyter-widgets/base",
      "model_module_version": "1.1.0",
      "model_name": "LayoutModel",
      "state": {
       "width": "90px"
      }
     },
     "fe8d4c19a86346019352770ba2a10a08": {
      "model_module": "@jupyter-widgets/controls",
      "model_module_version": "1.4.0",
      "model_name": "FloatTextModel",
      "state": {
       "layout": "IPY_MODEL_0a02add7505f44028df61c521bfc1df6",
       "step": null,
       "style": "IPY_MODEL_e80abac93ac54bc8a6d91a52c4fd70cc",
       "value": -0.5
      }
     },
     "fe99c96f7d5a47c689cfa08b35724327": {
      "model_module": "@jupyter-widgets/base",
      "model_module_version": "1.1.0",
      "model_name": "LayoutModel",
      "state": {}
     },
     "fea917e7b46743788590dd87985dcee4": {
      "model_module": "@jupyter-widgets/controls",
      "model_module_version": "1.4.0",
      "model_name": "DescriptionStyleModel",
      "state": {
       "description_width": ""
      }
     },
     "febb6c29d5cb4d519b06da40a32c101c": {
      "model_module": "@jupyter-widgets/controls",
      "model_module_version": "1.4.0",
      "model_name": "DescriptionStyleModel",
      "state": {
       "description_width": ""
      }
     },
     "fedc86dc603d43e08f7f162b326f729d": {
      "model_module": "@jupyter-widgets/controls",
      "model_module_version": "1.4.0",
      "model_name": "LabelModel",
      "state": {
       "layout": "IPY_MODEL_3b7b8cd8f40f46f7a6af377e08229a20",
       "style": "IPY_MODEL_189961caab4941f481899c87788c12aa"
      }
     },
     "ff14f4f3069442e09be6386b056e4f65": {
      "model_module": "@jupyter-widgets/controls",
      "model_module_version": "1.4.0",
      "model_name": "DescriptionStyleModel",
      "state": {
       "description_width": ""
      }
     },
     "ff23ed97b5014a51ac0d66101e37cbb1": {
      "model_module": "@jupyter-widgets/base",
      "model_module_version": "1.1.0",
      "model_name": "LayoutModel",
      "state": {}
     },
     "ffc5676e98b545a9897040da8eda7dc9": {
      "model_module": "@jupyter-widgets/controls",
      "model_module_version": "1.4.0",
      "model_name": "HBoxModel",
      "state": {
       "children": [
        "IPY_MODEL_36ac1087021c41399d70cc006def027e",
        "IPY_MODEL_7bec55103402411195944e1352e9ee8f",
        "IPY_MODEL_ac1bd1734d2c4d0182e333fa5842cb67"
       ],
       "layout": "IPY_MODEL_913286bb22214d3cb6367fff535d9581"
      }
     },
     "ffd9845674134373a41db40934c7be0d": {
      "model_module": "@jupyter-widgets/controls",
      "model_module_version": "1.4.0",
      "model_name": "DescriptionStyleModel",
      "state": {
       "description_width": ""
      }
     },
     "ffe99539e150450583ae31daaf3d9322": {
      "model_module": "@jupyter-widgets/base",
      "model_module_version": "1.1.0",
      "model_name": "LayoutModel",
      "state": {}
     }
    },
    "version_major": 2,
    "version_minor": 0
   }
  }
 },
 "nbformat": 4,
 "nbformat_minor": 4
}
