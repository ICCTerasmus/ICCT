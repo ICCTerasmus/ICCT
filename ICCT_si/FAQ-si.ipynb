{
 "cells": [
  {
   "cell_type": "markdown",
   "metadata": {},
   "source": [
    "# FAQ\n",
    "\n",
    "* * *\n",
    "\n",
    "## Osnovne informacije\n",
    "\n",
    "* * *\n",
    "\n",
    "### Ali si lahko kje pogledam, kako izgledajo interaktivni primeri iz tečaja ICCT?\n",
    "\n",
    "Na voljo sta dva videposnetka, ki prikazujeta delovanje izbranih primerov - sistema za krmiljenje vodne gladine ([oglej si ga na YouTubeu](https://www.youtube.com/watch?v=YEZxOWY4RtU)) ter hitre Fourierjeve transformacije ([oglej si ga na YouTubeu](https://www.youtube.com/watch?v=M28kAsWAP8o)).\n",
    "\n",
    "### Svojim študentom/sodelavcem bi rad podal kratka navodila povezana z registracijo in logiranjem v tečaj ter upravljanjem primerov, ki so dostopni v tečaju. Ali imate takšna navodila na voljo?\n",
    "\n",
    "Navodila za registracijo in logiranje v tečaj ter upravljanje z interaktivnimi primeri so na voljo v obliki iorad vodnika, ki je dostopen [tule](https://www.iorad.com/player/1760976/Izdelava-uporabni-kega-ra-una-v-te-aju-ICCT-in-navodila-za-uporabo-te-aja?isPopup=true#_).\n",
    "\n",
    "### Kje lahko najdem učbenik, ki spremlja interaktivni tečaj?\n",
    "\n",
    "PDF verzije učbenika v angleškem, hrvaškem, madžarskem, italijanskem in slovenskem jeziku so na voljo na [spletni strani projekta ICCT](https://icct.cafre.unipi.it/project-results/manual).\n",
    "\n",
    "### Kje lahko izvem kaj več o ICCT projektu?\n",
    "\n",
    "Za pridobitev informacij o projektu ICCT lahko obiščeš [spletno stran projekta](https://icct.cafre.unipi.it), [Twitter](https://twitter.com/ICCT_erasmus), [Reddit](https://www.reddit.com/user/icct_erasmus) ali [GitHub](https://github.com/ICCTerasmus/ICCT#readme). Projektu lahko slediš tudi prek strani [ResearchGate](https://www.researchgate.net/project/Interactive-Course-for-Control-Theory-ICCT), [SCIENTIX](http://www.scientix.eu/projects/project-detail?articleId=1072810) ali [Erasmus+ Project Results](https://ec.europa.eu/programmes/erasmus-plus/projects/eplus-project-details/#project/2018-1-SI01-KA203-047081)."
   ]
  },
  {
   "cell_type": "markdown",
   "metadata": {},
   "source": [
    "* * *\n",
    "\n",
    "## Izpiti\n",
    "\n",
    "* * *\n",
    "### Sem študent (v tečaju ICCT imam vlogo z oznako *Student*). Kako lahko sodelujem na izpitu in pridobim oceno?\n",
    "\n",
    "Na izpitu lahko sodeluješ takrat, ko je Mentor pripravil in objavil izpit. Takrat je potrebno, da ustvariš svojo lokalno kopijo izpita in ga rešiš (poglej si [tale vodnik](https://www.iorad.com/player/1645114/ICCT-Platform--for-students----How-to-fetch-an-exam-and-provide-answers-?#trysteps-1) za podrobnejša navodila). Ko si uspešno rešil izpit in oddal svoje odgovore, moraš počakati na Mentorja, da zbere odgovore vseh študentov, jih oceni in poda povratno informacijo. Takrat lahko pridobiš svojo oceno in si prebereš mentorjevo povratno informacijo (poglej si [tale vodnik](https://www.iorad.com/player/1652160/ICCT-Platform--for-students----How-to-obtain-and-inspect-feedback-?#trysteps-1) za podrobnejša navodila).\n",
    "\n",
    "### Sem učitelj/predavatelj (v tečaju ICCT imam vlogo z oznako *Mentor*. Kako lahko pripravim izpit za študente?\n",
    "\n",
    "Najprej je potrebno pripraviti in objaviti izpit (poglej si [tale vodnik](https://www.iorad.com/player/1651571/ICCT-Platform--for-mentors----How-to-prepare-and-release-an-exam-?#trysteps-1) za podrobnejša navodila). Nato je potrebno počakati, da se izpit konča, da lahko zbereš vse odgovore, jih oceniš (avtomatsko) in podaš študentom povratno informacijo (poglej si [tale vodnik](https://www.iorad.com/player/1652148/ICCT-Platform--for-mentors----How-to-collect-submissions--autograde-them-and-release-feedback-?#trysteps-1) za podrobnejša navodila). Ko si to opravil, bodo študenti lahko pridobili svojo oceno ter si prebrali prejeto povratno informacijo."
   ]
  },
  {
   "cell_type": "markdown",
   "metadata": {},
   "source": [
    "* * *\n",
    "\n",
    "## Zasebna in komercialna raba vsebin interaktivnega tečaja ICCT\n",
    "\n",
    "* * *\n",
    "### Ali je možno pridobiti interaktivne primere in jih prilagoditi lastnim željam?\n",
    "\n",
    "Da, pridobitev interaktivnih primerov je možna preko repozitorija GitHub; navodila so dostopna [tule](https://github.com/ICCTerasmus/ICCT#readme). Prilagoditev vsebin je možna, njihova uporaba pa mora biti v skladu z licenco 3-Clause BSD (več informacij o tej licenci lahko dobiš [tule](https://opensource.org/licenses/BSD-3-Clause)).\n",
    "\n",
    "### Interaktivne primere bi rad uporabil za šolski/domači projekt. Ali lahko to storim? \n",
    "\n",
    "Vsi interaktivni primeri (dostopni v obliki Jupyter Notebooks datotek) znotraj tečaja so delo projektnega konzorcija ICCT in so licencirani z licenco 3-Clause BSD license, ki je del družine permisivnih odprtih programskih licenc. Za več informacij o licenci, klikni [tule](https://opensource.org/licenses/BSD-3-Clause).\n",
    "\n",
    "### Interaktivne primere bi rad uporabil za komercialne namene. Ali lahko to storim?\n",
    "\n",
    "Vsi interaktivni primeri (dostopni v obliki Jupyter Notebooks datotek) znotraj tečaja so delo projektnega konzorcija ICCT in so licencirani z licenco 3-Clause BSD license, ki je del družine permisivnih odprtih programskih licenc. Za več informacij o licenci, klikni [tule](https://opensource.org/licenses/BSD-3-Clause).\n",
    "\n",
    "### Vsebine interaktivnega tečaja bi rad prevedel v svoj jezik. Ali lahko to storim?\n",
    "\n",
    "Da, interkativne primere lahko vsakdo prevede v svoj jezik. Pred začetkom prevajanj svetujemo, da nas kontaktiraš preko emaila  (<icct.erasmus@gmail.com>), da ti posredujemo vsa navodila. Velja omeniti, da se vsebine tečaja trenutno prevajajo v indonezijski ter španski jezik."
   ]
  },
  {
   "cell_type": "markdown",
   "metadata": {},
   "source": [
    "* * *\n",
    "\n",
    "## Težave z uporabo tečaja ICCT\n",
    "\n",
    "* * *\n",
    "\n",
    "### Ko zaženem primer prek klika na *Cell-Run All* oziroma na ustrezen gumb v orodni vrstici, se primer ne naloži.\n",
    "\n",
    "- Najprej velja omeniti, da se lahko primer zažene samo takrat, ko je *kernel* pripravljen. Informacija o stanju *kernela* je na voljo v desnem zgornjem delu primera (gl. Sliko 1).\n",
    "- Drugič, velja počakati toliko časa, dokler se ikona v zavihku brskalnika, v katerem je odprt primer, spremeni iz ikone s peščeno uro v ikono s knjigo (gl. Sliko 2). Velja omeniti, da je lahko, pri primerih z neskončno časa trajajočimi simulacijami, ikona peščene ure prisotna tudi po uspešnem zagonu simulacije. \n",
    "- Če nobena izmed zgornjih rešitev ne deluje, potem lahko poizkusiš primer še enkrat zagnati (s klikom na *Cell-Run All* oziroma na ustrezen gumb v orodni vrstici), ko je *kernel* pripravljen oz. ko ikona zavihka brskalnika prikazuje peščeno uro.\n",
    "\n",
    "<table>\n",
    "    <tr>\n",
    "        <th style=\"text-align:center\">Figure 1. Informacija o *kernelu*</th>\n",
    "        <th style=\"text-align:center\">Figure 2. Informacija o stanju interaktivnega primera</th>\n",
    "    </tr>\n",
    "    <tr>\n",
    "        <td style=\"width:480px; height:150px\"><img src='examples/02/img/kernel-ready.png'></td>\n",
    "        <td style=\"width:250px; height:150px\"><img src='examples/02/img/loading.png'></td>\n",
    "    </tr>\n",
    "    <tr>\n",
    "    </tr>    \n",
    "</table>\n",
    "\n",
    "### Interaktivni primeri se počasi nalagajo in se tudi počasi odzivajo. Kaj lahko storim?\n",
    "\n",
    "- Najprej se prepričaj, da si uspešno zaprl in zaustavil predhodno odprte primere prek ukaza *File-Close and Halt*. Primeri, ki so še vedno odprti in tečejo, so prikazani znotraj zavihka *Running*, ki je dostopen prek začetne strani tečaja ICCT. \n",
    "- Druga možnost je ta, da tečaj istočasno uporablja veliko uporabnikov, kar pomeni, da je zmogljivost strežnika omejena. Poizkusi z delom nekoliko kasneje.\n",
    "- Če opisane težave nikakor ne moreš odpraviti, prosim pošlji email na <icct.erasmus@gmail.com>. \n",
    "- Opomba: primere lahko vedno tudi zaženeš lokalno (v tem primeru, bo hitrost izvajanja odvisna od strojne opreme računalnika, na katerem boš zaganjal primere); za več informacij klikni [tule](https://github.com/ICCTerasmus/ICCT#readme).\n",
    "\n",
    "### Registriral sem se v tečaj in dodeljena mi je bila vloga je *Student*. Kako lahko pridobim vlogo *Mentor*? \n",
    "\n",
    "Vloga *Mentor* je namenjena samo učiteljem/predavateljem. Za dodelitev te vloge nam pošljite sporočilo na <icct.erasmus@gmail.com>.\n",
    "\n",
    "### Registiriran sem že na stari strani tečaja ICCT (https://icct.riteh.hr). Ali se moram ponovno registrirati na novi strani (https://icct.unipi.it)?\n",
    "\n",
    "Da, ponovno se moraš registrirati novi strani. Pozor: stara stran, ni več vzdrževana in bo s časom tudi ukinjena. Hvala za razumevanje.\n",
    "\n",
    "### Moje težave ni na vašem seznamu. Kako lahko stopim v stik z ekipo, ki stoji zadaj za tečajem ICCT?\n",
    "\n",
    "ICCT ekipo lahko kontaktiraš prek <icct.erasmus@gmail.com> ali preko drugih kanalov, ki jih najdeš naštete znotraj sekcije *Osnovne informacije* znotraj tega dokumenta."
   ]
  },
  {
   "cell_type": "code",
   "execution_count": null,
   "metadata": {},
   "outputs": [],
   "source": []
  }
 ],
 "metadata": {
  "kernelspec": {
   "display_name": "Python 3",
   "language": "python",
   "name": "python3"
  },
  "language_info": {
   "codemirror_mode": {
    "name": "ipython",
    "version": 3
   },
   "file_extension": ".py",
   "mimetype": "text/x-python",
   "name": "python",
   "nbconvert_exporter": "python",
   "pygments_lexer": "ipython3",
   "version": "3.7.3"
  }
 },
 "nbformat": 4,
 "nbformat_minor": 4
}
