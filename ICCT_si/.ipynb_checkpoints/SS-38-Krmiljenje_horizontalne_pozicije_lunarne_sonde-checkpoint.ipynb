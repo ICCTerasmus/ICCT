{
 "cells": [
  {
   "cell_type": "code",
   "execution_count": 1,
   "metadata": {},
   "outputs": [
    {
     "data": {
      "text/html": [
       "<script>\n",
       "code_show=true; \n",
       "function code_toggle() {\n",
       "    if (code_show){\n",
       "        $('div.input').hide()\n",
       "    } else {\n",
       "        $('div.input').show()\n",
       "    }\n",
       "    code_show = !code_show\n",
       "} \n",
       "$( document ).ready(code_toggle);\n",
       "</script>\n",
       "Toggle cell visibility <a href=\"javascript:code_toggle()\">here</a>."
      ],
      "text/plain": [
       "<IPython.core.display.HTML object>"
      ]
     },
     "metadata": {},
     "output_type": "display_data"
    }
   ],
   "source": [
    "#remove cell visibility\n",
    "from IPython.display import HTML\n",
    "tag = HTML('''<script>\n",
    "code_show=true; \n",
    "function code_toggle() {\n",
    "    if (code_show){\n",
    "        $('div.input').hide()\n",
    "    } else {\n",
    "        $('div.input').show()\n",
    "    }\n",
    "    code_show = !code_show\n",
    "} \n",
    "$( document ).ready(code_toggle);\n",
    "</script>\n",
    "Toggle cell visibility <a href=\"javascript:code_toggle()\">here</a>.''')\n",
    "display(tag)"
   ]
  },
  {
   "cell_type": "markdown",
   "metadata": {},
   "source": [
    "## Lunar lander lateral position control\n",
    "\n",
    "This example illustrates the development of a regulator (observer and controller in form of state feedback) for the lateral position of a lunar lander starting from the system's equations.\n",
    "\n",
    "<img src=\"Images\\lunarlander.PNG\" alt=\"drawing\" width=\"500x800\">\n",
    "\n",
    "The system is represented in the figure above, its vertical descent is slowed down using a vertical thruster that produces the constant force $F$. Horizontal motion may be achieved by slightly tilting the lander by an angle $\\theta$; tilting generates a lateral force that is approximately equal to $F\\theta$. Tilting is achieved by generating the torque $T$ using a set of controllable steer rockets (max torque = 500 Nm). Tilt angle must be within $\\pm15$ degrees to avoid a dangerous increase of vertical descent speed. The measured quantities are lateral position and velocity. The atmospheric drag is assumed to be negligible and the parameters' values are listed in the table below.\n",
    "\n",
    "| Parameter |                          Value |\n",
    "|-----------|-------------------------------:|\n",
    "|$m$        |                        1000 kg |\n",
    "|$J$        |           1000 kg$\\text{m}^2$ |\n",
    "|$F$        |                         1500 N |\n",
    "\n",
    "The goal of the control system design is to reach the following performance for regulation of the horizontal position $z$:\n",
    "1. Maximum overshoot of 30%.\n",
    "2. Settling time (for 5% tolerance band) less than 15 seconds.\n",
    "3. Angle $\\theta$ always within its limits for desired maximum lateral change of 10 meters.\n",
    "4. Zero error in response to a step command.\n",
    "\n",
    "The system's equations are:\n",
    "\n",
    "\\begin{cases}\n",
    "J\\ddot{\\theta}=T \\\\\n",
    "m\\ddot{z}=F\\theta\n",
    "\\end{cases}\n",
    "and by defining $\\textbf{x}=[x_1,x_2,x_3,x_4]^T=[z,\\dot{z},\\theta,\\dot{\\theta}]^T$ as states vector and $u=T$ as input, in state space form they become:\n",
    "\n",
    "\\begin{cases}\n",
    "\\dot{\\textbf{x}}=\\underbrace{\\begin{bmatrix}0&1&0&0 \\\\ 0&0&F/m&0 \\\\ 0&0&0&1 \\\\ 0&0&0&0\\end{bmatrix}}_{A}\\textbf{x}+\\underbrace{\\begin{bmatrix}0\\\\0\\\\0\\\\1/J\\end{bmatrix}}_{B}u \\\\ \\\\\n",
    "\\textbf{y}=\\underbrace{\\begin{bmatrix}1&0&0&0 \\\\ 0&1&0&0\\end{bmatrix}}_{C}\\textbf{x}.\n",
    "\\end{cases}\n",
    "\n",
    "### Controller design\n",
    "In order to have zero error in response to a step reference, the system is augmented by adding a new state $\\dot{x_5}=y_1-y_d$ where $y_1$ is the measured lateral position and $y_d$ is the desired position value. The augmented system is therefore:\n",
    "\n",
    "\\begin{cases}\n",
    "\\dot{\\textbf{x}_a}=\\underbrace{\\begin{bmatrix}0&1&0&0&0 \\\\ 0&0&F/m&0&0 \\\\ 0&0&0&1&0 \\\\ 0&0&0&0&0 \\\\ 1&0&0&0&0 \\end{bmatrix}}_{A_a}\\textbf{x}_a+\\underbrace{\\begin{bmatrix} 0&0\\\\0&0\\\\0&0\\\\1/J&0\\\\0&-1 \\end{bmatrix}}_{B_a}\\underbrace{\\begin{bmatrix} u\\\\y_d \\end{bmatrix}}_{u_a} \\\\ \\\\\n",
    "\\textbf{y}_a=\\underbrace{\\begin{bmatrix}1&0&0&0&0\\\\0&1&0&0&0\\\\0&0&0&0&1\\end{bmatrix}}_{C_a}\\textbf{x}_a\n",
    "\\end{cases}\n",
    "\n",
    "that is controllable with the first column of $B_a$, so it is possible to use the pole placement method. Note, that in order to maintain the observability of the system, a row in the matrix $C$ was added because the new state $x_5$ is known.\n",
    "\n",
    "The gain matrix $K_a$ that satisfies all the requirements is:\n",
    "$$\n",
    "K_a=\\begin{bmatrix}2225.0&6244.0&13861.0&5275.0&316.0\\end{bmatrix}\n",
    "$$\n",
    "that places the poles of $(A_a-B_aK_a)$ in $-0.28$, $-2.24+2.23i$, $-2.24-2.23i$, $-0.26+0.32i$ and $-0.26-0.32i$.\n",
    "\n",
    "### Observer design\n",
    "The system is observable, and, since three states are measured, it is possible to design a reduced state observer (for $\\theta$ and $\\dot{\\theta}$) that has the structure:\n",
    "$$\n",
    "\\dot{\\hat{\\textbf{v}}}=(A_{11}+L_aA_{21})\\hat{\\textbf{v}}+(A_{12}+L_aA_{22}-A_{11}L_a-L_aA_{21}L_a)\\textbf{y}_a+(B_1+L_aB_2)u_a,\n",
    "$$\n",
    "where\n",
    "$$\n",
    "T^{-1}A_aT=\\begin{bmatrix}A_{11}&A_{12} \\\\ A_{21}&A_{22}\\end{bmatrix}, \n",
    "\\quad T^{-1}B_a=\\begin{bmatrix}B_1 \\\\ B_2\\end{bmatrix}, \n",
    "\\quad \\overline{\\textbf{x}_a}=T^{-1}\\textbf{x}_a=\\begin{bmatrix}V \\\\ C\\end{bmatrix}\\textbf{x}_a, \n",
    "\\quad V=\\begin{bmatrix}0&0&1&0&0 \\\\ 0&0&0&1&0\\end{bmatrix}, \n",
    "\\quad \\hat{\\textbf{x}_a}=\\begin{bmatrix}\\hat{\\textbf{v}}-L_a\\textbf{y}_a \\\\ \\textbf{y}_a\\end{bmatrix}.\n",
    "$$\n",
    "\n",
    "The choice of the observer's eigenvalues is made in order for the error dynamics to converge faster than the system's dynamics specified by the requirements. The eigenvalues selected for $A_{11}+L_aA_{21}$ are $\\lambda_i=-10$rad/s, $i=1,2$ with \n",
    "$$ L_a=\\begin{bmatrix}0&-\\frac{40}{3}&0 \\\\ 0&-\\frac{200}{3}&0\\end{bmatrix} $$\n",
    "\n",
    "\n",
    "### How to use this notebook?\n",
    "You can check the performance of the system with the developed regulator and directly modify the controller and the observer. The simulation starts with an initial error on the observer."
   ]
  },
  {
   "cell_type": "code",
   "execution_count": 2,
   "metadata": {},
   "outputs": [],
   "source": [
    "#Preparatory Cell \n",
    "\n",
    "%matplotlib notebook\n",
    "import control as ctrl\n",
    "import numpy\n",
    "import sympy as sym\n",
    "from IPython.display import display, Markdown\n",
    "import ipywidgets as widgets\n",
    "import matplotlib.pyplot as plt\n",
    "import matplotlib.animation as animation\n",
    "import matplotlib.patches as patches\n",
    "import matplotlib.transforms as transforms\n",
    "import matplotlib.lines as lines\n",
    "\n",
    "#print a matrix latex-like\n",
    "def bmatrix(a):\n",
    "     \"\"\"Returns a LaTeX bmatrix - by Damir Arbula (ICCT project)\n",
    "\n",
    "     :a: numpy array\n",
    "     :returns: LaTeX bmatrix as a string\n",
    "     \"\"\"\n",
    "     if len(a.shape) > 2:\n",
    "         raise ValueError('bmatrix can at most display two dimensions')\n",
    "     lines = str(a).replace('[', '').replace(']', '').splitlines()\n",
    "     rv = [r'\\begin{bmatrix}']\n",
    "     rv += ['  ' + ' & '.join(l.split()) + r'\\\\' for l in lines]\n",
    "     rv +=  [r'\\end{bmatrix}']\n",
    "     return '\\n'.join(rv)\n",
    "\n",
    "\n",
    "# Display formatted matrix: \n",
    "def vmatrix(a):\n",
    "    if len(a.shape) > 2:\n",
    "         raise ValueError('bmatrix can at most display two dimensions')\n",
    "    lines = str(a).replace('[', '').replace(']', '').splitlines()\n",
    "    rv = [r'\\begin{vmatrix}']\n",
    "    rv += ['  ' + ' & '.join(l.split()) + r'\\\\' for l in lines]\n",
    "    rv +=  [r'\\end{vmatrix}']\n",
    "    return '\\n'.join(rv)\n",
    "\n",
    "\n",
    "#matrixWidget is a matrix looking widget built with a VBox of HBox(es) that returns a numPy array as value !\n",
    "class matrixWidget(widgets.VBox):\n",
    "    def updateM(self,change):\n",
    "        for irow in range(0,self.n):\n",
    "            for icol in range(0,self.m):\n",
    "                self.M_[irow,icol] = self.children[irow].children[icol].value\n",
    "                #print(self.M_[irow,icol])\n",
    "        self.value = self.M_\n",
    "\n",
    "    def dummychangecallback(self,change):\n",
    "        pass\n",
    "    \n",
    "    \n",
    "    def __init__(self,n,m):\n",
    "        self.n = n\n",
    "        self.m = m\n",
    "        self.M_ = numpy.matrix(numpy.zeros((self.n,self.m)))\n",
    "        self.value = self.M_\n",
    "        widgets.VBox.__init__(self,\n",
    "                             children = [\n",
    "                                 widgets.HBox(children = \n",
    "                                              [widgets.FloatText(value=0.0, layout=widgets.Layout(width='90px')) for i in range(m)]\n",
    "                                             ) \n",
    "                                 for j in range(n)\n",
    "                             ])\n",
    "        \n",
    "        #fill in widgets and tell interact to call updateM each time a children changes value\n",
    "        for irow in range(0,self.n):\n",
    "            for icol in range(0,self.m):\n",
    "                self.children[irow].children[icol].value = self.M_[irow,icol]\n",
    "                self.children[irow].children[icol].observe(self.updateM, names='value')\n",
    "        #value = Unicode('example@example.com', help=\"The email value.\").tag(sync=True)\n",
    "        self.observe(self.updateM, names='value', type= 'All')\n",
    "        \n",
    "    def setM(self, newM):\n",
    "        #disable callbacks, change values, and reenable\n",
    "        self.unobserve(self.updateM, names='value', type= 'All')\n",
    "        for irow in range(0,self.n):\n",
    "            for icol in range(0,self.m):\n",
    "                self.children[irow].children[icol].unobserve(self.updateM, names='value')\n",
    "        self.M_ = newM\n",
    "        self.value = self.M_\n",
    "        for irow in range(0,self.n):\n",
    "            for icol in range(0,self.m):\n",
    "                self.children[irow].children[icol].value = self.M_[irow,icol]\n",
    "        for irow in range(0,self.n):\n",
    "            for icol in range(0,self.m):\n",
    "                self.children[irow].children[icol].observe(self.updateM, names='value')\n",
    "        self.observe(self.updateM, names='value', type= 'All')        \n",
    "\n",
    "                #self.children[irow].children[icol].observe(self.updateM, names='value')\n",
    "\n",
    "             \n",
    "#overlaod class for state space systems that DO NOT remove \"useless\" states (what \"professor\" of automatic control would do this?)\n",
    "class sss(ctrl.StateSpace):\n",
    "    def __init__(self,*args):\n",
    "        #call base class init constructor\n",
    "        ctrl.StateSpace.__init__(self,*args)\n",
    "    #disable function below in base class\n",
    "    def _remove_useless_states(self):\n",
    "        pass"
   ]
  },
  {
   "cell_type": "code",
   "execution_count": 3,
   "metadata": {},
   "outputs": [],
   "source": [
    "# Define matrixes\n",
    "\n",
    "A = numpy.matrix('0 1 0 0; 0 0 1.5 0; 0 0 0 1; 0 0 0 0')\n",
    "B = numpy.matrix('0;0;0;0.001')\n",
    "C = numpy.matrix('1 0 0 0; 0 1 0 0')\n",
    "Aa = numpy.matrix('0 1 0 0 0; 0 0 1.5 0 0; 0 0 0 1 0; 0 0 0 0 0; 1 0 0 0 0')\n",
    "Ba = numpy.matrix('0 0;0 0;0 0;0.001 0;0 -1')\n",
    "Ca = numpy.matrix('1 0 0 0 0; 0 1 0 0 0; 0 0 0 0 1')\n",
    "Ka1 = numpy.matrix('[2225.0, 6244.0, 13861.0, 5275.0, 316.0') #318.9333 835 2012.5 2000 59.6\n",
    "Ta = (numpy.matrix('0 0 1 0 0; 0 0 0 1 0; 1 0 0 0 0;0 1 0 0 0; 0 0 0 0 1'))**(-1)\n",
    "Ar = Ta**(-1)*Aa*Ta\n",
    "Br = Ta**(-1)*Ba\n",
    "A11 = Ar[0:2,0:2]\n",
    "A12 = Ar[0:2,2:5]\n",
    "A21 = Ar[2:5,0:2]\n",
    "A22 = Ar[2:5,2:5]\n",
    "B1 = Br[0:2,:]\n",
    "B2 = Br[2:5,:]\n",
    "La1 = numpy.matrix([[0, -4*10/3, 0],[0, -3/8*(-4*10/3)**2, 0]])\n",
    "X0a = numpy.matrix('0;0;0;0;0;0;0;0;0;0;0.002;0.002;0;0;0;0;0;0.002;0.002;0;0;0;0;0')\n",
    "# X0a = numpy.matrix('0;0;0;0;0')\n",
    "# V0 = numpy.matrix('0;0')"
   ]
  },
  {
   "cell_type": "code",
   "execution_count": 4,
   "metadata": {},
   "outputs": [],
   "source": [
    "# Define matrixes widget\n",
    "Kaw = matrixWidget(1,5)\n",
    "Law = matrixWidget(2,3)\n",
    "eig1 = matrixWidget(1,1)\n",
    "eig2 = matrixWidget(2,1)\n",
    "eig3 = matrixWidget(2,1)\n",
    "eig4 = matrixWidget(1,1)\n",
    "eig5 = matrixWidget(1,1)\n",
    "eig1o = matrixWidget(1,1)\n",
    "eig2o = matrixWidget(2,1)\n",
    "\n",
    "Ydw = widgets.FloatSlider(\n",
    "                         value=10,\n",
    "                         min=0,\n",
    "                         max=10.0,\n",
    "                         step=0.1,\n",
    "                         description='$y_d$:',\n",
    "                         disabled=False,\n",
    "                         continuous_update=False,\n",
    "                         orientation='horizontal',\n",
    "                         readout=True,\n",
    "                         readout_format='.1f',\n",
    "                        )\n",
    "\n",
    "# Init matrix widgets\n",
    "Kaw.setM(Ka1) \n",
    "Law.setM(La1)\n",
    "#[-0.6,-0.5-0.35j,-0.5+0.35j,-0.2-0.6j,-0.2+0.6j]\n",
    "eig1.setM(numpy.matrix([-0.28]))\n",
    "eig2.setM(numpy.matrix([[-2.24],[-2.23]]))\n",
    "eig3.setM(numpy.matrix([[-0.26],[-0.32]])) \n",
    "eig4.setM(numpy.matrix([-1])) \n",
    "eig5.setM(numpy.matrix([-1])) \n",
    "eig1o.setM(numpy.matrix([-10])) \n",
    "eig2o.setM(numpy.matrix([[-10],[0]])) "
   ]
  },
  {
   "cell_type": "code",
   "execution_count": 5,
   "metadata": {},
   "outputs": [],
   "source": [
    "# Support functions\n",
    "# Simulation function\n",
    "def simulation(Aa, Baa, Ca, A11, A12, A21, A22, B1, B2, La, Ka, Ta):\n",
    "    Aa, Baa, Ca = sym.Matrix(Aa), sym.Matrix(Baa), sym.Matrix(Ca)\n",
    "    A11, A12, A21, A22 = sym.Matrix(A11), sym.Matrix(A12), sym.Matrix(A21), sym.Matrix(A22)\n",
    "    B1, B2 = sym.Matrix(B1), sym.Matrix(B2)\n",
    "    La, Ka = sym.Matrix(La), sym.Matrix(Ka)\n",
    "    Ta = sym.Matrix(Ta)\n",
    "    sysS = sss(Aa, Baa, Ca, sym.zeros(3,2))\n",
    "    sysX = sss(Aa, Baa, sym.eye(5), sym.zeros(5,2))\n",
    "    sysO1 = sss((A11+La*A21), (B1+La*B2).row_join(A12+La*A22-A11*La-La*A21*La), sym.eye(2), sym.zeros(2,5))\n",
    "    sysO2 = ctrl.append(sysO1, sysS)\n",
    "    sysO3 = ctrl.connect(sysO2, [[3, 3], [4, 4], [5, 5]], [1, 2, 6, 7], [1, 2, 3, 4, 5])\n",
    "    sysO = sss(sysO3.A,\n",
    "               sysO3.B*sym.eye(2).col_join(sym.eye(2)),\n",
    "               Ta*(sym.eye(2).row_join(-La)).col_join(sym.zeros(3, 2).row_join(sym.eye(3)))*sysO3.C,\n",
    "               sym.zeros(5,2))\n",
    "    sysU = sss(sysO.A, sysO.B, -Ka*sysO.C, sym.zeros(1,2))\n",
    "    sysT = ctrl.append(sysS, sysX, sysO, sysU)\n",
    "    sysT1 = ctrl.connect(sysT, [[1, 14], [3, 14], [5, 14], [7, 14]], [2, 4, 6, 8], [i for i in range(1, 15)])\n",
    "    sys = sss(sysT1.A, sysT1.B*sym.Matrix([1, 1, 1, 1]), sysT1.C, sym.zeros(14, 1))\n",
    "    return sys\n",
    "\n",
    "# check functions\n",
    "def eigen_choice(selc,selo):\n",
    "    if selc == '0 complex eigenvalues':\n",
    "        eig2.children[1].children[0].disabled = True\n",
    "        eig3.children[1].children[0].disabled = True\n",
    "        eig3.children[0].children[0].disabled = False\n",
    "        eig4.children[0].children[0].disabled = False\n",
    "        eig5.children[0].children[0].disabled = False\n",
    "        eigc = 0\n",
    "    if selc == '2 complex eigenvalues':\n",
    "        eig2.children[1].children[0].disabled = False\n",
    "        eig3.children[1].children[0].disabled = True\n",
    "        eig3.children[0].children[0].disabled = True\n",
    "        eig4.children[0].children[0].disabled = False\n",
    "        eig5.children[0].children[0].disabled = False\n",
    "        eigc = 2\n",
    "    if selc == '4 complex eigenvalues':\n",
    "        eig2.children[1].children[0].disabled = False\n",
    "        eig3.children[1].children[0].disabled = False\n",
    "        eig3.children[0].children[0].disabled = False\n",
    "        eig4.children[0].children[0].disabled = True\n",
    "        eig5.children[0].children[0].disabled = True\n",
    "        eigc = 4\n",
    "    if selo == '0 complex eigenvalues':\n",
    "        eig1o.children[0].children[0].disabled = False\n",
    "        eig2o.children[1].children[0].disabled = True\n",
    "        eigo = 0\n",
    "    if selo == '2 complex eigenvalues':\n",
    "        eig1o.children[0].children[0].disabled = True\n",
    "        eig2o.children[1].children[0].disabled = False\n",
    "        eigo = 2\n",
    "    return (eigc, eigo)\n",
    "\n",
    "def method_choice(selm):\n",
    "    if selm == 'Set Ka and La':\n",
    "        method = 1\n",
    "        selc.disabled = True\n",
    "        selo.disabled = True\n",
    "    if selm == 'Set the eigenvalues':\n",
    "        method = 2\n",
    "        selc.disabled = False\n",
    "        selo.disabled = False\n",
    "    return method\n",
    "\n",
    "# Animation functions\n",
    "def fun_animation(index):\n",
    "    global Ydw, yout, T\n",
    "    yd = Ydw.value\n",
    "    frame = 1\n",
    "    \n",
    "    linez.set_data(T[0:index*frame],yd*yout[0][0:index*frame])\n",
    "    linezv.set_data(T[0:index*frame],yd*yout[1][0:index*frame])\n",
    "    lined.set_data(T,[yd for i in range(0,len(T))])\n",
    "    lineu.set_data(T[0:index*frame],yd*yout[13][0:index*frame])\n",
    "    linelimu1.set_data(T,[500 for j in range(0,len(T))])\n",
    "    linelimu2.set_data(T,[-500 for j in range(0,len(T))])\n",
    "    linethetaest.set_data(T[0:index*frame],yd*yout[10][0:index*frame]*180/numpy.pi)\n",
    "    linetheta.set_data(T[0:index*frame],yd*yout[5][0:index*frame]*180/numpy.pi)\n",
    "    \n",
    "    \n",
    "    rotation_transform.clear().translate(yd*yout[0][index*frame]*numpy.cos(float(yd*yout[6][index*frame])), yd*yout[0][index*frame]*numpy.sin(float(yd*yout[6][index*frame]))).rotate(float(-yd*yout[6][index*frame]))\n",
    "    \n",
    "    return (linez,linezv,lined,lineu,linelimu1,linelimu2,linethetaest,linetheta)\n",
    "\n",
    "def anim_init():\n",
    "    linez.set_data([], [])\n",
    "    linezv.set_data([], [])\n",
    "    lined.set_data([], [])\n",
    "    lineu.set_data([], [])\n",
    "    linelimu1.set_data([], [])\n",
    "    linelimu2.set_data([], [])\n",
    "    linethetaest.set_data([], [])\n",
    "    linetheta.set_data([], [])\n",
    "    return (linez,linezv,lined,lineu,linelimu1,linelimu2,linethetaest,linetheta)\n"
   ]
  },
  {
   "cell_type": "code",
   "execution_count": 6,
   "metadata": {
    "scrolled": false
   },
   "outputs": [
    {
     "data": {
      "application/javascript": [
       "/* Put everything inside the global mpl namespace */\n",
       "window.mpl = {};\n",
       "\n",
       "\n",
       "mpl.get_websocket_type = function() {\n",
       "    if (typeof(WebSocket) !== 'undefined') {\n",
       "        return WebSocket;\n",
       "    } else if (typeof(MozWebSocket) !== 'undefined') {\n",
       "        return MozWebSocket;\n",
       "    } else {\n",
       "        alert('Your browser does not have WebSocket support. ' +\n",
       "              'Please try Chrome, Safari or Firefox ≥ 6. ' +\n",
       "              'Firefox 4 and 5 are also supported but you ' +\n",
       "              'have to enable WebSockets in about:config.');\n",
       "    };\n",
       "}\n",
       "\n",
       "mpl.figure = function(figure_id, websocket, ondownload, parent_element) {\n",
       "    this.id = figure_id;\n",
       "\n",
       "    this.ws = websocket;\n",
       "\n",
       "    this.supports_binary = (this.ws.binaryType != undefined);\n",
       "\n",
       "    if (!this.supports_binary) {\n",
       "        var warnings = document.getElementById(\"mpl-warnings\");\n",
       "        if (warnings) {\n",
       "            warnings.style.display = 'block';\n",
       "            warnings.textContent = (\n",
       "                \"This browser does not support binary websocket messages. \" +\n",
       "                    \"Performance may be slow.\");\n",
       "        }\n",
       "    }\n",
       "\n",
       "    this.imageObj = new Image();\n",
       "\n",
       "    this.context = undefined;\n",
       "    this.message = undefined;\n",
       "    this.canvas = undefined;\n",
       "    this.rubberband_canvas = undefined;\n",
       "    this.rubberband_context = undefined;\n",
       "    this.format_dropdown = undefined;\n",
       "\n",
       "    this.image_mode = 'full';\n",
       "\n",
       "    this.root = $('<div/>');\n",
       "    this._root_extra_style(this.root)\n",
       "    this.root.attr('style', 'display: inline-block');\n",
       "\n",
       "    $(parent_element).append(this.root);\n",
       "\n",
       "    this._init_header(this);\n",
       "    this._init_canvas(this);\n",
       "    this._init_toolbar(this);\n",
       "\n",
       "    var fig = this;\n",
       "\n",
       "    this.waiting = false;\n",
       "\n",
       "    this.ws.onopen =  function () {\n",
       "            fig.send_message(\"supports_binary\", {value: fig.supports_binary});\n",
       "            fig.send_message(\"send_image_mode\", {});\n",
       "            if (mpl.ratio != 1) {\n",
       "                fig.send_message(\"set_dpi_ratio\", {'dpi_ratio': mpl.ratio});\n",
       "            }\n",
       "            fig.send_message(\"refresh\", {});\n",
       "        }\n",
       "\n",
       "    this.imageObj.onload = function() {\n",
       "            if (fig.image_mode == 'full') {\n",
       "                // Full images could contain transparency (where diff images\n",
       "                // almost always do), so we need to clear the canvas so that\n",
       "                // there is no ghosting.\n",
       "                fig.context.clearRect(0, 0, fig.canvas.width, fig.canvas.height);\n",
       "            }\n",
       "            fig.context.drawImage(fig.imageObj, 0, 0);\n",
       "        };\n",
       "\n",
       "    this.imageObj.onunload = function() {\n",
       "        fig.ws.close();\n",
       "    }\n",
       "\n",
       "    this.ws.onmessage = this._make_on_message_function(this);\n",
       "\n",
       "    this.ondownload = ondownload;\n",
       "}\n",
       "\n",
       "mpl.figure.prototype._init_header = function() {\n",
       "    var titlebar = $(\n",
       "        '<div class=\"ui-dialog-titlebar ui-widget-header ui-corner-all ' +\n",
       "        'ui-helper-clearfix\"/>');\n",
       "    var titletext = $(\n",
       "        '<div class=\"ui-dialog-title\" style=\"width: 100%; ' +\n",
       "        'text-align: center; padding: 3px;\"/>');\n",
       "    titlebar.append(titletext)\n",
       "    this.root.append(titlebar);\n",
       "    this.header = titletext[0];\n",
       "}\n",
       "\n",
       "\n",
       "\n",
       "mpl.figure.prototype._canvas_extra_style = function(canvas_div) {\n",
       "\n",
       "}\n",
       "\n",
       "\n",
       "mpl.figure.prototype._root_extra_style = function(canvas_div) {\n",
       "\n",
       "}\n",
       "\n",
       "mpl.figure.prototype._init_canvas = function() {\n",
       "    var fig = this;\n",
       "\n",
       "    var canvas_div = $('<div/>');\n",
       "\n",
       "    canvas_div.attr('style', 'position: relative; clear: both; outline: 0');\n",
       "\n",
       "    function canvas_keyboard_event(event) {\n",
       "        return fig.key_event(event, event['data']);\n",
       "    }\n",
       "\n",
       "    canvas_div.keydown('key_press', canvas_keyboard_event);\n",
       "    canvas_div.keyup('key_release', canvas_keyboard_event);\n",
       "    this.canvas_div = canvas_div\n",
       "    this._canvas_extra_style(canvas_div)\n",
       "    this.root.append(canvas_div);\n",
       "\n",
       "    var canvas = $('<canvas/>');\n",
       "    canvas.addClass('mpl-canvas');\n",
       "    canvas.attr('style', \"left: 0; top: 0; z-index: 0; outline: 0\")\n",
       "\n",
       "    this.canvas = canvas[0];\n",
       "    this.context = canvas[0].getContext(\"2d\");\n",
       "\n",
       "    var backingStore = this.context.backingStorePixelRatio ||\n",
       "\tthis.context.webkitBackingStorePixelRatio ||\n",
       "\tthis.context.mozBackingStorePixelRatio ||\n",
       "\tthis.context.msBackingStorePixelRatio ||\n",
       "\tthis.context.oBackingStorePixelRatio ||\n",
       "\tthis.context.backingStorePixelRatio || 1;\n",
       "\n",
       "    mpl.ratio = (window.devicePixelRatio || 1) / backingStore;\n",
       "\n",
       "    var rubberband = $('<canvas/>');\n",
       "    rubberband.attr('style', \"position: absolute; left: 0; top: 0; z-index: 1;\")\n",
       "\n",
       "    var pass_mouse_events = true;\n",
       "\n",
       "    canvas_div.resizable({\n",
       "        start: function(event, ui) {\n",
       "            pass_mouse_events = false;\n",
       "        },\n",
       "        resize: function(event, ui) {\n",
       "            fig.request_resize(ui.size.width, ui.size.height);\n",
       "        },\n",
       "        stop: function(event, ui) {\n",
       "            pass_mouse_events = true;\n",
       "            fig.request_resize(ui.size.width, ui.size.height);\n",
       "        },\n",
       "    });\n",
       "\n",
       "    function mouse_event_fn(event) {\n",
       "        if (pass_mouse_events)\n",
       "            return fig.mouse_event(event, event['data']);\n",
       "    }\n",
       "\n",
       "    rubberband.mousedown('button_press', mouse_event_fn);\n",
       "    rubberband.mouseup('button_release', mouse_event_fn);\n",
       "    // Throttle sequential mouse events to 1 every 20ms.\n",
       "    rubberband.mousemove('motion_notify', mouse_event_fn);\n",
       "\n",
       "    rubberband.mouseenter('figure_enter', mouse_event_fn);\n",
       "    rubberband.mouseleave('figure_leave', mouse_event_fn);\n",
       "\n",
       "    canvas_div.on(\"wheel\", function (event) {\n",
       "        event = event.originalEvent;\n",
       "        event['data'] = 'scroll'\n",
       "        if (event.deltaY < 0) {\n",
       "            event.step = 1;\n",
       "        } else {\n",
       "            event.step = -1;\n",
       "        }\n",
       "        mouse_event_fn(event);\n",
       "    });\n",
       "\n",
       "    canvas_div.append(canvas);\n",
       "    canvas_div.append(rubberband);\n",
       "\n",
       "    this.rubberband = rubberband;\n",
       "    this.rubberband_canvas = rubberband[0];\n",
       "    this.rubberband_context = rubberband[0].getContext(\"2d\");\n",
       "    this.rubberband_context.strokeStyle = \"#000000\";\n",
       "\n",
       "    this._resize_canvas = function(width, height) {\n",
       "        // Keep the size of the canvas, canvas container, and rubber band\n",
       "        // canvas in synch.\n",
       "        canvas_div.css('width', width)\n",
       "        canvas_div.css('height', height)\n",
       "\n",
       "        canvas.attr('width', width * mpl.ratio);\n",
       "        canvas.attr('height', height * mpl.ratio);\n",
       "        canvas.attr('style', 'width: ' + width + 'px; height: ' + height + 'px;');\n",
       "\n",
       "        rubberband.attr('width', width);\n",
       "        rubberband.attr('height', height);\n",
       "    }\n",
       "\n",
       "    // Set the figure to an initial 600x600px, this will subsequently be updated\n",
       "    // upon first draw.\n",
       "    this._resize_canvas(600, 600);\n",
       "\n",
       "    // Disable right mouse context menu.\n",
       "    $(this.rubberband_canvas).bind(\"contextmenu\",function(e){\n",
       "        return false;\n",
       "    });\n",
       "\n",
       "    function set_focus () {\n",
       "        canvas.focus();\n",
       "        canvas_div.focus();\n",
       "    }\n",
       "\n",
       "    window.setTimeout(set_focus, 100);\n",
       "}\n",
       "\n",
       "mpl.figure.prototype._init_toolbar = function() {\n",
       "    var fig = this;\n",
       "\n",
       "    var nav_element = $('<div/>');\n",
       "    nav_element.attr('style', 'width: 100%');\n",
       "    this.root.append(nav_element);\n",
       "\n",
       "    // Define a callback function for later on.\n",
       "    function toolbar_event(event) {\n",
       "        return fig.toolbar_button_onclick(event['data']);\n",
       "    }\n",
       "    function toolbar_mouse_event(event) {\n",
       "        return fig.toolbar_button_onmouseover(event['data']);\n",
       "    }\n",
       "\n",
       "    for(var toolbar_ind in mpl.toolbar_items) {\n",
       "        var name = mpl.toolbar_items[toolbar_ind][0];\n",
       "        var tooltip = mpl.toolbar_items[toolbar_ind][1];\n",
       "        var image = mpl.toolbar_items[toolbar_ind][2];\n",
       "        var method_name = mpl.toolbar_items[toolbar_ind][3];\n",
       "\n",
       "        if (!name) {\n",
       "            // put a spacer in here.\n",
       "            continue;\n",
       "        }\n",
       "        var button = $('<button/>');\n",
       "        button.addClass('ui-button ui-widget ui-state-default ui-corner-all ' +\n",
       "                        'ui-button-icon-only');\n",
       "        button.attr('role', 'button');\n",
       "        button.attr('aria-disabled', 'false');\n",
       "        button.click(method_name, toolbar_event);\n",
       "        button.mouseover(tooltip, toolbar_mouse_event);\n",
       "\n",
       "        var icon_img = $('<span/>');\n",
       "        icon_img.addClass('ui-button-icon-primary ui-icon');\n",
       "        icon_img.addClass(image);\n",
       "        icon_img.addClass('ui-corner-all');\n",
       "\n",
       "        var tooltip_span = $('<span/>');\n",
       "        tooltip_span.addClass('ui-button-text');\n",
       "        tooltip_span.html(tooltip);\n",
       "\n",
       "        button.append(icon_img);\n",
       "        button.append(tooltip_span);\n",
       "\n",
       "        nav_element.append(button);\n",
       "    }\n",
       "\n",
       "    var fmt_picker_span = $('<span/>');\n",
       "\n",
       "    var fmt_picker = $('<select/>');\n",
       "    fmt_picker.addClass('mpl-toolbar-option ui-widget ui-widget-content');\n",
       "    fmt_picker_span.append(fmt_picker);\n",
       "    nav_element.append(fmt_picker_span);\n",
       "    this.format_dropdown = fmt_picker[0];\n",
       "\n",
       "    for (var ind in mpl.extensions) {\n",
       "        var fmt = mpl.extensions[ind];\n",
       "        var option = $(\n",
       "            '<option/>', {selected: fmt === mpl.default_extension}).html(fmt);\n",
       "        fmt_picker.append(option);\n",
       "    }\n",
       "\n",
       "    // Add hover states to the ui-buttons\n",
       "    $( \".ui-button\" ).hover(\n",
       "        function() { $(this).addClass(\"ui-state-hover\");},\n",
       "        function() { $(this).removeClass(\"ui-state-hover\");}\n",
       "    );\n",
       "\n",
       "    var status_bar = $('<span class=\"mpl-message\"/>');\n",
       "    nav_element.append(status_bar);\n",
       "    this.message = status_bar[0];\n",
       "}\n",
       "\n",
       "mpl.figure.prototype.request_resize = function(x_pixels, y_pixels) {\n",
       "    // Request matplotlib to resize the figure. Matplotlib will then trigger a resize in the client,\n",
       "    // which will in turn request a refresh of the image.\n",
       "    this.send_message('resize', {'width': x_pixels, 'height': y_pixels});\n",
       "}\n",
       "\n",
       "mpl.figure.prototype.send_message = function(type, properties) {\n",
       "    properties['type'] = type;\n",
       "    properties['figure_id'] = this.id;\n",
       "    this.ws.send(JSON.stringify(properties));\n",
       "}\n",
       "\n",
       "mpl.figure.prototype.send_draw_message = function() {\n",
       "    if (!this.waiting) {\n",
       "        this.waiting = true;\n",
       "        this.ws.send(JSON.stringify({type: \"draw\", figure_id: this.id}));\n",
       "    }\n",
       "}\n",
       "\n",
       "\n",
       "mpl.figure.prototype.handle_save = function(fig, msg) {\n",
       "    var format_dropdown = fig.format_dropdown;\n",
       "    var format = format_dropdown.options[format_dropdown.selectedIndex].value;\n",
       "    fig.ondownload(fig, format);\n",
       "}\n",
       "\n",
       "\n",
       "mpl.figure.prototype.handle_resize = function(fig, msg) {\n",
       "    var size = msg['size'];\n",
       "    if (size[0] != fig.canvas.width || size[1] != fig.canvas.height) {\n",
       "        fig._resize_canvas(size[0], size[1]);\n",
       "        fig.send_message(\"refresh\", {});\n",
       "    };\n",
       "}\n",
       "\n",
       "mpl.figure.prototype.handle_rubberband = function(fig, msg) {\n",
       "    var x0 = msg['x0'] / mpl.ratio;\n",
       "    var y0 = (fig.canvas.height - msg['y0']) / mpl.ratio;\n",
       "    var x1 = msg['x1'] / mpl.ratio;\n",
       "    var y1 = (fig.canvas.height - msg['y1']) / mpl.ratio;\n",
       "    x0 = Math.floor(x0) + 0.5;\n",
       "    y0 = Math.floor(y0) + 0.5;\n",
       "    x1 = Math.floor(x1) + 0.5;\n",
       "    y1 = Math.floor(y1) + 0.5;\n",
       "    var min_x = Math.min(x0, x1);\n",
       "    var min_y = Math.min(y0, y1);\n",
       "    var width = Math.abs(x1 - x0);\n",
       "    var height = Math.abs(y1 - y0);\n",
       "\n",
       "    fig.rubberband_context.clearRect(\n",
       "        0, 0, fig.canvas.width / mpl.ratio, fig.canvas.height / mpl.ratio);\n",
       "\n",
       "    fig.rubberband_context.strokeRect(min_x, min_y, width, height);\n",
       "}\n",
       "\n",
       "mpl.figure.prototype.handle_figure_label = function(fig, msg) {\n",
       "    // Updates the figure title.\n",
       "    fig.header.textContent = msg['label'];\n",
       "}\n",
       "\n",
       "mpl.figure.prototype.handle_cursor = function(fig, msg) {\n",
       "    var cursor = msg['cursor'];\n",
       "    switch(cursor)\n",
       "    {\n",
       "    case 0:\n",
       "        cursor = 'pointer';\n",
       "        break;\n",
       "    case 1:\n",
       "        cursor = 'default';\n",
       "        break;\n",
       "    case 2:\n",
       "        cursor = 'crosshair';\n",
       "        break;\n",
       "    case 3:\n",
       "        cursor = 'move';\n",
       "        break;\n",
       "    }\n",
       "    fig.rubberband_canvas.style.cursor = cursor;\n",
       "}\n",
       "\n",
       "mpl.figure.prototype.handle_message = function(fig, msg) {\n",
       "    fig.message.textContent = msg['message'];\n",
       "}\n",
       "\n",
       "mpl.figure.prototype.handle_draw = function(fig, msg) {\n",
       "    // Request the server to send over a new figure.\n",
       "    fig.send_draw_message();\n",
       "}\n",
       "\n",
       "mpl.figure.prototype.handle_image_mode = function(fig, msg) {\n",
       "    fig.image_mode = msg['mode'];\n",
       "}\n",
       "\n",
       "mpl.figure.prototype.updated_canvas_event = function() {\n",
       "    // Called whenever the canvas gets updated.\n",
       "    this.send_message(\"ack\", {});\n",
       "}\n",
       "\n",
       "// A function to construct a web socket function for onmessage handling.\n",
       "// Called in the figure constructor.\n",
       "mpl.figure.prototype._make_on_message_function = function(fig) {\n",
       "    return function socket_on_message(evt) {\n",
       "        if (evt.data instanceof Blob) {\n",
       "            /* FIXME: We get \"Resource interpreted as Image but\n",
       "             * transferred with MIME type text/plain:\" errors on\n",
       "             * Chrome.  But how to set the MIME type?  It doesn't seem\n",
       "             * to be part of the websocket stream */\n",
       "            evt.data.type = \"image/png\";\n",
       "\n",
       "            /* Free the memory for the previous frames */\n",
       "            if (fig.imageObj.src) {\n",
       "                (window.URL || window.webkitURL).revokeObjectURL(\n",
       "                    fig.imageObj.src);\n",
       "            }\n",
       "\n",
       "            fig.imageObj.src = (window.URL || window.webkitURL).createObjectURL(\n",
       "                evt.data);\n",
       "            fig.updated_canvas_event();\n",
       "            fig.waiting = false;\n",
       "            return;\n",
       "        }\n",
       "        else if (typeof evt.data === 'string' && evt.data.slice(0, 21) == \"data:image/png;base64\") {\n",
       "            fig.imageObj.src = evt.data;\n",
       "            fig.updated_canvas_event();\n",
       "            fig.waiting = false;\n",
       "            return;\n",
       "        }\n",
       "\n",
       "        var msg = JSON.parse(evt.data);\n",
       "        var msg_type = msg['type'];\n",
       "\n",
       "        // Call the  \"handle_{type}\" callback, which takes\n",
       "        // the figure and JSON message as its only arguments.\n",
       "        try {\n",
       "            var callback = fig[\"handle_\" + msg_type];\n",
       "        } catch (e) {\n",
       "            console.log(\"No handler for the '\" + msg_type + \"' message type: \", msg);\n",
       "            return;\n",
       "        }\n",
       "\n",
       "        if (callback) {\n",
       "            try {\n",
       "                // console.log(\"Handling '\" + msg_type + \"' message: \", msg);\n",
       "                callback(fig, msg);\n",
       "            } catch (e) {\n",
       "                console.log(\"Exception inside the 'handler_\" + msg_type + \"' callback:\", e, e.stack, msg);\n",
       "            }\n",
       "        }\n",
       "    };\n",
       "}\n",
       "\n",
       "// from http://stackoverflow.com/questions/1114465/getting-mouse-location-in-canvas\n",
       "mpl.findpos = function(e) {\n",
       "    //this section is from http://www.quirksmode.org/js/events_properties.html\n",
       "    var targ;\n",
       "    if (!e)\n",
       "        e = window.event;\n",
       "    if (e.target)\n",
       "        targ = e.target;\n",
       "    else if (e.srcElement)\n",
       "        targ = e.srcElement;\n",
       "    if (targ.nodeType == 3) // defeat Safari bug\n",
       "        targ = targ.parentNode;\n",
       "\n",
       "    // jQuery normalizes the pageX and pageY\n",
       "    // pageX,Y are the mouse positions relative to the document\n",
       "    // offset() returns the position of the element relative to the document\n",
       "    var x = e.pageX - $(targ).offset().left;\n",
       "    var y = e.pageY - $(targ).offset().top;\n",
       "\n",
       "    return {\"x\": x, \"y\": y};\n",
       "};\n",
       "\n",
       "/*\n",
       " * return a copy of an object with only non-object keys\n",
       " * we need this to avoid circular references\n",
       " * http://stackoverflow.com/a/24161582/3208463\n",
       " */\n",
       "function simpleKeys (original) {\n",
       "  return Object.keys(original).reduce(function (obj, key) {\n",
       "    if (typeof original[key] !== 'object')\n",
       "        obj[key] = original[key]\n",
       "    return obj;\n",
       "  }, {});\n",
       "}\n",
       "\n",
       "mpl.figure.prototype.mouse_event = function(event, name) {\n",
       "    var canvas_pos = mpl.findpos(event)\n",
       "\n",
       "    if (name === 'button_press')\n",
       "    {\n",
       "        this.canvas.focus();\n",
       "        this.canvas_div.focus();\n",
       "    }\n",
       "\n",
       "    var x = canvas_pos.x * mpl.ratio;\n",
       "    var y = canvas_pos.y * mpl.ratio;\n",
       "\n",
       "    this.send_message(name, {x: x, y: y, button: event.button,\n",
       "                             step: event.step,\n",
       "                             guiEvent: simpleKeys(event)});\n",
       "\n",
       "    /* This prevents the web browser from automatically changing to\n",
       "     * the text insertion cursor when the button is pressed.  We want\n",
       "     * to control all of the cursor setting manually through the\n",
       "     * 'cursor' event from matplotlib */\n",
       "    event.preventDefault();\n",
       "    return false;\n",
       "}\n",
       "\n",
       "mpl.figure.prototype._key_event_extra = function(event, name) {\n",
       "    // Handle any extra behaviour associated with a key event\n",
       "}\n",
       "\n",
       "mpl.figure.prototype.key_event = function(event, name) {\n",
       "\n",
       "    // Prevent repeat events\n",
       "    if (name == 'key_press')\n",
       "    {\n",
       "        if (event.which === this._key)\n",
       "            return;\n",
       "        else\n",
       "            this._key = event.which;\n",
       "    }\n",
       "    if (name == 'key_release')\n",
       "        this._key = null;\n",
       "\n",
       "    var value = '';\n",
       "    if (event.ctrlKey && event.which != 17)\n",
       "        value += \"ctrl+\";\n",
       "    if (event.altKey && event.which != 18)\n",
       "        value += \"alt+\";\n",
       "    if (event.shiftKey && event.which != 16)\n",
       "        value += \"shift+\";\n",
       "\n",
       "    value += 'k';\n",
       "    value += event.which.toString();\n",
       "\n",
       "    this._key_event_extra(event, name);\n",
       "\n",
       "    this.send_message(name, {key: value,\n",
       "                             guiEvent: simpleKeys(event)});\n",
       "    return false;\n",
       "}\n",
       "\n",
       "mpl.figure.prototype.toolbar_button_onclick = function(name) {\n",
       "    if (name == 'download') {\n",
       "        this.handle_save(this, null);\n",
       "    } else {\n",
       "        this.send_message(\"toolbar_button\", {name: name});\n",
       "    }\n",
       "};\n",
       "\n",
       "mpl.figure.prototype.toolbar_button_onmouseover = function(tooltip) {\n",
       "    this.message.textContent = tooltip;\n",
       "};\n",
       "mpl.toolbar_items = [[\"Home\", \"Reset original view\", \"fa fa-home icon-home\", \"home\"], [\"Back\", \"Back to previous view\", \"fa fa-arrow-left icon-arrow-left\", \"back\"], [\"Forward\", \"Forward to next view\", \"fa fa-arrow-right icon-arrow-right\", \"forward\"], [\"\", \"\", \"\", \"\"], [\"Pan\", \"Pan axes with left mouse, zoom with right\", \"fa fa-arrows icon-move\", \"pan\"], [\"Zoom\", \"Zoom to rectangle\", \"fa fa-square-o icon-check-empty\", \"zoom\"], [\"\", \"\", \"\", \"\"], [\"Download\", \"Download plot\", \"fa fa-floppy-o icon-save\", \"download\"]];\n",
       "\n",
       "mpl.extensions = [\"eps\", \"pdf\", \"png\", \"ps\", \"raw\", \"svg\"];\n",
       "\n",
       "mpl.default_extension = \"png\";var comm_websocket_adapter = function(comm) {\n",
       "    // Create a \"websocket\"-like object which calls the given IPython comm\n",
       "    // object with the appropriate methods. Currently this is a non binary\n",
       "    // socket, so there is still some room for performance tuning.\n",
       "    var ws = {};\n",
       "\n",
       "    ws.close = function() {\n",
       "        comm.close()\n",
       "    };\n",
       "    ws.send = function(m) {\n",
       "        //console.log('sending', m);\n",
       "        comm.send(m);\n",
       "    };\n",
       "    // Register the callback with on_msg.\n",
       "    comm.on_msg(function(msg) {\n",
       "        //console.log('receiving', msg['content']['data'], msg);\n",
       "        // Pass the mpl event to the overridden (by mpl) onmessage function.\n",
       "        ws.onmessage(msg['content']['data'])\n",
       "    });\n",
       "    return ws;\n",
       "}\n",
       "\n",
       "mpl.mpl_figure_comm = function(comm, msg) {\n",
       "    // This is the function which gets called when the mpl process\n",
       "    // starts-up an IPython Comm through the \"matplotlib\" channel.\n",
       "\n",
       "    var id = msg.content.data.id;\n",
       "    // Get hold of the div created by the display call when the Comm\n",
       "    // socket was opened in Python.\n",
       "    var element = $(\"#\" + id);\n",
       "    var ws_proxy = comm_websocket_adapter(comm)\n",
       "\n",
       "    function ondownload(figure, format) {\n",
       "        window.open(figure.imageObj.src);\n",
       "    }\n",
       "\n",
       "    var fig = new mpl.figure(id, ws_proxy,\n",
       "                           ondownload,\n",
       "                           element.get(0));\n",
       "\n",
       "    // Call onopen now - mpl needs it, as it is assuming we've passed it a real\n",
       "    // web socket which is closed, not our websocket->open comm proxy.\n",
       "    ws_proxy.onopen();\n",
       "\n",
       "    fig.parent_element = element.get(0);\n",
       "    fig.cell_info = mpl.find_output_cell(\"<div id='\" + id + \"'></div>\");\n",
       "    if (!fig.cell_info) {\n",
       "        console.error(\"Failed to find cell for figure\", id, fig);\n",
       "        return;\n",
       "    }\n",
       "\n",
       "    var output_index = fig.cell_info[2]\n",
       "    var cell = fig.cell_info[0];\n",
       "\n",
       "};\n",
       "\n",
       "mpl.figure.prototype.handle_close = function(fig, msg) {\n",
       "    var width = fig.canvas.width/mpl.ratio\n",
       "    fig.root.unbind('remove')\n",
       "\n",
       "    // Update the output cell to use the data from the current canvas.\n",
       "    fig.push_to_output();\n",
       "    var dataURL = fig.canvas.toDataURL();\n",
       "    // Re-enable the keyboard manager in IPython - without this line, in FF,\n",
       "    // the notebook keyboard shortcuts fail.\n",
       "    IPython.keyboard_manager.enable()\n",
       "    $(fig.parent_element).html('<img src=\"' + dataURL + '\" width=\"' + width + '\">');\n",
       "    fig.close_ws(fig, msg);\n",
       "}\n",
       "\n",
       "mpl.figure.prototype.close_ws = function(fig, msg){\n",
       "    fig.send_message('closing', msg);\n",
       "    // fig.ws.close()\n",
       "}\n",
       "\n",
       "mpl.figure.prototype.push_to_output = function(remove_interactive) {\n",
       "    // Turn the data on the canvas into data in the output cell.\n",
       "    var width = this.canvas.width/mpl.ratio\n",
       "    var dataURL = this.canvas.toDataURL();\n",
       "    this.cell_info[1]['text/html'] = '<img src=\"' + dataURL + '\" width=\"' + width + '\">';\n",
       "}\n",
       "\n",
       "mpl.figure.prototype.updated_canvas_event = function() {\n",
       "    // Tell IPython that the notebook contents must change.\n",
       "    IPython.notebook.set_dirty(true);\n",
       "    this.send_message(\"ack\", {});\n",
       "    var fig = this;\n",
       "    // Wait a second, then push the new image to the DOM so\n",
       "    // that it is saved nicely (might be nice to debounce this).\n",
       "    setTimeout(function () { fig.push_to_output() }, 1000);\n",
       "}\n",
       "\n",
       "mpl.figure.prototype._init_toolbar = function() {\n",
       "    var fig = this;\n",
       "\n",
       "    var nav_element = $('<div/>');\n",
       "    nav_element.attr('style', 'width: 100%');\n",
       "    this.root.append(nav_element);\n",
       "\n",
       "    // Define a callback function for later on.\n",
       "    function toolbar_event(event) {\n",
       "        return fig.toolbar_button_onclick(event['data']);\n",
       "    }\n",
       "    function toolbar_mouse_event(event) {\n",
       "        return fig.toolbar_button_onmouseover(event['data']);\n",
       "    }\n",
       "\n",
       "    for(var toolbar_ind in mpl.toolbar_items){\n",
       "        var name = mpl.toolbar_items[toolbar_ind][0];\n",
       "        var tooltip = mpl.toolbar_items[toolbar_ind][1];\n",
       "        var image = mpl.toolbar_items[toolbar_ind][2];\n",
       "        var method_name = mpl.toolbar_items[toolbar_ind][3];\n",
       "\n",
       "        if (!name) { continue; };\n",
       "\n",
       "        var button = $('<button class=\"btn btn-default\" href=\"#\" title=\"' + name + '\"><i class=\"fa ' + image + ' fa-lg\"></i></button>');\n",
       "        button.click(method_name, toolbar_event);\n",
       "        button.mouseover(tooltip, toolbar_mouse_event);\n",
       "        nav_element.append(button);\n",
       "    }\n",
       "\n",
       "    // Add the status bar.\n",
       "    var status_bar = $('<span class=\"mpl-message\" style=\"text-align:right; float: right;\"/>');\n",
       "    nav_element.append(status_bar);\n",
       "    this.message = status_bar[0];\n",
       "\n",
       "    // Add the close button to the window.\n",
       "    var buttongrp = $('<div class=\"btn-group inline pull-right\"></div>');\n",
       "    var button = $('<button class=\"btn btn-mini btn-primary\" href=\"#\" title=\"Stop Interaction\"><i class=\"fa fa-power-off icon-remove icon-large\"></i></button>');\n",
       "    button.click(function (evt) { fig.handle_close(fig, {}); } );\n",
       "    button.mouseover('Stop Interaction', toolbar_mouse_event);\n",
       "    buttongrp.append(button);\n",
       "    var titlebar = this.root.find($('.ui-dialog-titlebar'));\n",
       "    titlebar.prepend(buttongrp);\n",
       "}\n",
       "\n",
       "mpl.figure.prototype._root_extra_style = function(el){\n",
       "    var fig = this\n",
       "    el.on(\"remove\", function(){\n",
       "\tfig.close_ws(fig, {});\n",
       "    });\n",
       "}\n",
       "\n",
       "mpl.figure.prototype._canvas_extra_style = function(el){\n",
       "    // this is important to make the div 'focusable\n",
       "    el.attr('tabindex', 0)\n",
       "    // reach out to IPython and tell the keyboard manager to turn it's self\n",
       "    // off when our div gets focus\n",
       "\n",
       "    // location in version 3\n",
       "    if (IPython.notebook.keyboard_manager) {\n",
       "        IPython.notebook.keyboard_manager.register_events(el);\n",
       "    }\n",
       "    else {\n",
       "        // location in version 2\n",
       "        IPython.keyboard_manager.register_events(el);\n",
       "    }\n",
       "\n",
       "}\n",
       "\n",
       "mpl.figure.prototype._key_event_extra = function(event, name) {\n",
       "    var manager = IPython.notebook.keyboard_manager;\n",
       "    if (!manager)\n",
       "        manager = IPython.keyboard_manager;\n",
       "\n",
       "    // Check for shift+enter\n",
       "    if (event.shiftKey && event.which == 13) {\n",
       "        this.canvas_div.blur();\n",
       "        event.shiftKey = false;\n",
       "        // Send a \"J\" for go to next cell\n",
       "        event.which = 74;\n",
       "        event.keyCode = 74;\n",
       "        manager.command_mode();\n",
       "        manager.handle_keydown(event);\n",
       "    }\n",
       "}\n",
       "\n",
       "mpl.figure.prototype.handle_save = function(fig, msg) {\n",
       "    fig.ondownload(fig, null);\n",
       "}\n",
       "\n",
       "\n",
       "mpl.find_output_cell = function(html_output) {\n",
       "    // Return the cell and output element which can be found *uniquely* in the notebook.\n",
       "    // Note - this is a bit hacky, but it is done because the \"notebook_saving.Notebook\"\n",
       "    // IPython event is triggered only after the cells have been serialised, which for\n",
       "    // our purposes (turning an active figure into a static one), is too late.\n",
       "    var cells = IPython.notebook.get_cells();\n",
       "    var ncells = cells.length;\n",
       "    for (var i=0; i<ncells; i++) {\n",
       "        var cell = cells[i];\n",
       "        if (cell.cell_type === 'code'){\n",
       "            for (var j=0; j<cell.output_area.outputs.length; j++) {\n",
       "                var data = cell.output_area.outputs[j];\n",
       "                if (data.data) {\n",
       "                    // IPython >= 3 moved mimebundle to data attribute of output\n",
       "                    data = data.data;\n",
       "                }\n",
       "                if (data['text/html'] == html_output) {\n",
       "                    return [cell, data, j];\n",
       "                }\n",
       "            }\n",
       "        }\n",
       "    }\n",
       "}\n",
       "\n",
       "// Register the function which deals with the matplotlib target/channel.\n",
       "// The kernel may be null if the page has been refreshed.\n",
       "if (IPython.notebook.kernel != null) {\n",
       "    IPython.notebook.kernel.comm_manager.register_target('matplotlib', mpl.mpl_figure_comm);\n",
       "}\n"
      ],
      "text/plain": [
       "<IPython.core.display.Javascript object>"
      ]
     },
     "metadata": {},
     "output_type": "display_data"
    },
    {
     "data": {
      "text/html": [
       "<img src=\"data:image/png;base64,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\" width=\"944.8\">"
      ],
      "text/plain": [
       "<IPython.core.display.HTML object>"
      ]
     },
     "metadata": {},
     "output_type": "display_data"
    },
    {
     "data": {
      "application/vnd.jupyter.widget-view+json": {
       "model_id": "fad2adf5ebd54e78b2a2bb825a4cd2e4",
       "version_major": 2,
       "version_minor": 0
      },
      "text/plain": [
       "Output()"
      ]
     },
     "metadata": {},
     "output_type": "display_data"
    },
    {
     "data": {
      "application/vnd.jupyter.widget-view+json": {
       "model_id": "f24a39947cdd4bb380f20e5926584beb",
       "version_major": 2,
       "version_minor": 0
      },
      "text/plain": [
       "VBox(children=(HBox(children=(Dropdown(options=('Set Ka and La', 'Set the eigenvalues'), value='Set Ka and La'…"
      ]
     },
     "metadata": {},
     "output_type": "display_data"
    }
   ],
   "source": [
    "# Main cell\n",
    "# Data\n",
    "global yd, T, yout\n",
    "yd = 10.\n",
    "T = []\n",
    "yout = []\n",
    "\n",
    "# Figures\n",
    "fig = plt.figure(num='Simulation of a lunar lander lateral position control system')\n",
    "fig.set_size_inches((9.8, 6))\n",
    "fig.set_tight_layout(True)\n",
    "\n",
    "ax0 = fig.add_subplot(221)\n",
    "ax0.set_title('Lunar lander')\n",
    "ax0.set_xlim(-12,12)\n",
    "ax0.set_ylim(-4,4)\n",
    "ax0.grid()\n",
    "# ax0.axis('off')\n",
    "\n",
    "ax1 = fig.add_subplot(222)\n",
    "linez = ax1.plot([],[])[0]\n",
    "linezv = ax1.plot([],[])[0]\n",
    "lined = ax1.plot([],[])[0]\n",
    "ax1.set_title('Lateral position and velocity')\n",
    "ax1.set_xlabel('$t$ [s]')\n",
    "ax1.set_ylabel('y [m], $\\dot y$ [m/s]')\n",
    "ax1.set_xlim([0,17])\n",
    "ax1.axvline(x=0,color='black',linewidth=0.8)\n",
    "ax1.axhline(y=0,color='black',linewidth=0.8)\n",
    "ax1.grid()\n",
    "ax1.legend(['Lateral position','Lateral velocity','Desired value'])\n",
    "\n",
    "ax2 = fig.add_subplot(223)\n",
    "lineu = ax2.plot([],[])[0]\n",
    "linelimu1 = ax2.plot([],[],'r')[0]\n",
    "linelimu2 = ax2.plot([],[],'r')[0]\n",
    "ax2.set_title('Input torque T')\n",
    "ax2.set_xlabel('$t$ [s]')\n",
    "ax2.set_ylabel('$T$ [Nm]')\n",
    "ax2.set_xlim([0,17])\n",
    "ax2.axvline(x=0,color='black',linewidth=0.8)\n",
    "ax2.axhline(y=0,color='black',linewidth=0.8)\n",
    "ax2.grid()\n",
    "ax2.legend(['T','Limit'])\n",
    "\n",
    "ax3 = fig.add_subplot(224)\n",
    "linethetaest = ax3.plot([],[])[0]\n",
    "linetheta = ax3.plot([],[])[0]\n",
    "ax3.set_title(r'$\\theta_{est}$ vs $\\theta$')\n",
    "ax3.set_xlabel('$t$ [s]')\n",
    "ax3.set_ylabel(r'$\\theta$ [deg]')\n",
    "ax3.axvline(x=0,color='black',linewidth=0.8)\n",
    "ax3.axhline(y=0,color='black',linewidth=0.8)\n",
    "ax3.set_xlim([0,17])\n",
    "ax3.grid()\n",
    "\n",
    "# Patches\n",
    "rotation_transform = transforms.Affine2D()\n",
    "circle = patches.Circle((0, 0.6), fill=True, radius=0.5, ec='black', fc='gray', lw=1, zorder=20, \n",
    "                        transform=rotation_transform + ax0.transData)\n",
    "rect = patches.Rectangle((-1, -0.4), 2, 0.5, fill=True, ec='black', fc='gray', lw=1, zorder=20, \n",
    "                         transform=rotation_transform + ax0.transData)\n",
    "poly = patches.Polygon(numpy.stack(([-0.25, -0.15, 0.15, 0.25], [-0.8, -0.4, -0.4, -0.8])).T, \n",
    "                       closed=True, fill=True, ec='black', fc='black', lw=1, zorder=20, \n",
    "                       transform=rotation_transform + ax0.transData)\n",
    "lleg = patches.Rectangle((-1, -1.2), 0.05, 1, angle=-15, fill=True, ec='black', fc='black', lw=1, zorder=10, \n",
    "                         transform=rotation_transform + ax0.transData)\n",
    "rleg = patches.Rectangle((1, -1.2), 0.05, 1, angle=15, fill=True, ec='black', fc='black', lw=1, zorder=10, \n",
    "                         transform=rotation_transform + ax0.transData)\n",
    "lfoot = patches.Rectangle((-1.1, -1.2), 0.2, 0.05, fill=True, ec='black', fc='black', lw=1, zorder=20, \n",
    "                         transform=rotation_transform + ax0.transData)\n",
    "rfoot = patches.Rectangle((0.9, -1.2), 0.2, 0.05, fill=True, ec='black', fc='black', lw=1, zorder=20, \n",
    "                         transform=rotation_transform + ax0.transData)\n",
    "ax0.add_patch(circle)\n",
    "ax0.add_patch(rect)\n",
    "ax0.add_patch(poly)\n",
    "ax0.add_patch(lleg)\n",
    "ax0.add_patch(rleg)\n",
    "ax0.add_patch(lfoot)\n",
    "ax0.add_patch(rfoot)\n",
    "plt.show()\n",
    "\n",
    "# Functions\n",
    "def main_function(Ka,La,Ydw,eig1,eig2,eig3,eig4,eig5,eig1o,eig2o,selm,selc,selo,DW):\n",
    "    global T, yout, yd, Aa, Ba, A11, A21\n",
    "    method = method_choice(selm)\n",
    "    eigc, eigo = eigen_choice(selc,selo)\n",
    "    yd = Ydw\n",
    "    ax1.set_ylim([-0.1*yd,yd*1.5])\n",
    "    ax2.set_ylim([-51*yd,51*yd])\n",
    "    ax3.set_ylim([-15,15])\n",
    "    \n",
    "    if method == 1: #Setted matrix gain\n",
    "        sol = numpy.linalg.eig((Aa-Ba[:,0]*Ka))\n",
    "        print('The eigenvalues of Aa are: '+str(round(sol[0][0],3))+', '+str(round(sol[0][1],3))+', '+str(round(sol[0][2],3))+', '+str(round(sol[0][3],3))+' and '+str(round(sol[0][4],3)))\n",
    "        sol = numpy.linalg.eig(A11+La*A21)\n",
    "        print('The eigenvalues of A11+La*A21 are: '+str(round(sol[0][0],3))+' and '+str(round(sol[0][1],3))) \n",
    "        sys = simulation(Aa, Ba, Ca, A11, A12, A21, A22, B1, B2, La, Ka, Ta)\n",
    "        T = numpy.linspace(0, 17, 100)\n",
    "        T, yout = ctrl.step_response(sys, T, X0a)\n",
    "    if method == 2: #Setted eigenvalues\n",
    "        if eigc == 0:\n",
    "            Ka = ctrl.acker(Aa, Ba[:,0], [eig1[0,0], eig2[0,0], eig3[0,0], eig4[0,0], eig5[0,0]])\n",
    "            Kaw.setM(Ka)\n",
    "        if eigc == 2:\n",
    "            Ka = ctrl.acker(Aa, Ba[:,0], [eig1[0,0], numpy.complex(eig2[0,0],eig2[1,0]), numpy.complex(eig2[0,0],-eig2[1,0]), eig4[0,0], eig5[0,0]])\n",
    "            Kaw.setM(Ka)\n",
    "        if eigc == 4:\n",
    "            Ka = ctrl.acker(Aa, Ba[:,0], [eig1[0,0], numpy.complex(eig2[0,0],eig2[1,0]), numpy.complex(eig2[0,0],-eig2[1,0]), numpy.complex(eig3[0,0],eig3[1,0]), numpy.complex(eig3[0,0],-eig3[1,0])])\n",
    "            Kaw.setM(Ka)\n",
    "        if eigo == 0:\n",
    "            La = numpy.matrix([[0, 2*eig1o[0,0]/3 + 2*eig2o[0,0]/3, 0], [0, -2*eig1o[0,0]*eig2o[0,0]/3, 0]])\n",
    "            Law.setM(La) \n",
    "        if eigo == 2:\n",
    "            La = numpy.matrix([[0, 2*numpy.complex(eig2o[0,0],eig2o[1,0])/3 + 2*numpy.complex(eig2o[0,0],-eig2o[1,0])/3, 0], [0, -2*numpy.complex(eig2o[0,0],eig2o[1,0])*numpy.complex(eig2o[0,0],-eig2o[1,0])/3, 0]])\n",
    "            Law.setM(La)\n",
    "        sol = numpy.linalg.eig((Aa-Ba[:,0]*Ka))\n",
    "        print('The eigenvalues of Aa are: '+str(round(sol[0][0],3))+', '+str(round(sol[0][1],3))+', '+str(round(sol[0][2],3))+', '+str(round(sol[0][3],3))+' and '+str(round(sol[0][4],3)))\n",
    "        sol = numpy.linalg.eig(A11+La*A21)\n",
    "        print('The eigenvalues of A11+La*A21 are: '+str(round(sol[0][0],3))+' and '+str(round(sol[0][1],3))) \n",
    "        sys = simulation(Aa, Ba, Ca, A11, A12, A21, A22, B1, B2, La, Ka, Ta)\n",
    "        T = numpy.linspace(0, 17, 100)\n",
    "        T, yout = ctrl.step_response(sys, T, X0a)\n",
    "\n",
    "ani = animation.FuncAnimation(fig, fun_animation, init_func=anim_init, frames=100, repeat=True, interval=170, blit=True)\n",
    "\n",
    "\n",
    "#create dummy widget \n",
    "DW = widgets.FloatText(layout=widgets.Layout(width='0px', height='0px'))\n",
    "\n",
    "#create button widget\n",
    "START = widgets.Button(\n",
    "    description='Test',\n",
    "    disabled=False,\n",
    "    button_style='', # 'success', 'info', 'warning', 'danger' or ''\n",
    "    tooltip='Test',\n",
    "    icon='check'\n",
    ")\n",
    "                       \n",
    "def on_start_button_clicked(b):\n",
    "    #This is a workaround to have intreactive_output call the callback:\n",
    "    #   force the value of the dummy widget to change\n",
    "    if DW.value> 0 :\n",
    "        DW.value = -1\n",
    "    else: \n",
    "        DW.value = 1\n",
    "    pass\n",
    "START.on_click(on_start_button_clicked)\n",
    "\n",
    "# Define type of method \n",
    "selm = widgets.Dropdown(\n",
    "    options= ['Set Ka and La', 'Set the eigenvalues'],\n",
    "    value= 'Set Ka and La',\n",
    "    description='',\n",
    "    disabled=False\n",
    ")\n",
    "\n",
    "# Define the number of complex eigenvalues for the controller\n",
    "selc = widgets.Dropdown(\n",
    "    options= ['0 complex eigenvalues', '2 complex eigenvalues', '4 complex eigenvalues'],\n",
    "    value= '4 complex eigenvalues',\n",
    "    description='Aa:',\n",
    "    disabled=False\n",
    ")\n",
    "\n",
    "# Define the number of complex eigenvalues for the observer\n",
    "selo = widgets.Dropdown(\n",
    "    options= ['0 complex eigenvalues', '2 complex eigenvalues'],\n",
    "    value= '0 complex eigenvalues',\n",
    "    description='Aobs:',\n",
    "    disabled=False\n",
    ")\n",
    "\n",
    "alltogether = widgets.VBox([\n",
    "    widgets.HBox([\n",
    "        selm,\n",
    "        selc,\n",
    "        selo\n",
    "    ]),\n",
    "    widgets.Label('',border=3),\n",
    "    widgets.HBox([\n",
    "        widgets.Label('Ka:',border=3),\n",
    "        Kaw,\n",
    "        widgets.Label('',border=3),\n",
    "        widgets.Label('',border=3),\n",
    "        widgets.Label('La:',border=3),\n",
    "        Law\n",
    "    ]),\n",
    "    widgets.Label('',border=3),\n",
    "    widgets.HBox([\n",
    "        widgets.Label('Aa\\'s eigs:',border=3),\n",
    "        eig1, eig2, eig3, eig4, eig5,\n",
    "        widgets.Label('',border=3),\n",
    "        widgets.Label('',border=3),\n",
    "        widgets.Label('Aobs\\'s eigs:',border=3),\n",
    "        eig1o, eig2o\n",
    "    ]),\n",
    "    widgets.Label('',border=3),\n",
    "    widgets.HBox([\n",
    "        Ydw,\n",
    "        widgets.Label('',border=3),\n",
    "        widgets.Label('',border=3),\n",
    "        widgets.Label('',border=3),\n",
    "        START\n",
    "    ])\n",
    "])\n",
    "\n",
    "out = widgets.interactive_output(main_function,{'Ka':Kaw, 'La':Law, 'Ydw':Ydw, 'eig1':eig1, 'eig2':eig2, \n",
    "                                                'eig3':eig3, 'eig4':eig4, 'eig5':eig5,\n",
    "                                                'eig1o':eig1o, 'eig2o':eig2o,\n",
    "                                                'selm':selm, 'selc':selc, 'selo':selo, 'DW':DW})\n",
    "display(out, alltogether)"
   ]
  },
  {
   "cell_type": "code",
   "execution_count": null,
   "metadata": {},
   "outputs": [],
   "source": []
  }
 ],
 "metadata": {
  "kernelspec": {
   "display_name": "Python 3",
   "language": "python",
   "name": "python3"
  },
  "language_info": {
   "codemirror_mode": {
    "name": "ipython",
    "version": 3
   },
   "file_extension": ".py",
   "mimetype": "text/x-python",
   "name": "python",
   "nbconvert_exporter": "python",
   "pygments_lexer": "ipython3",
   "version": "3.6.7"
  },
  "widgets": {
   "application/vnd.jupyter.widget-state+json": {
    "state": {
     "000105fdb4764586b8ebfab252a36567": {
      "model_module": "@jupyter-widgets/controls",
      "model_module_version": "1.4.0",
      "model_name": "HBoxModel",
      "state": {
       "children": [
        "IPY_MODEL_0f26c8afca96402aa66b81bc451a3559",
        "IPY_MODEL_ef8032f4b5344c16ae90cfbfd02231d6",
        "IPY_MODEL_9f426cacd41c42aca1af846e019bfa02",
        "IPY_MODEL_e3f770ce4cf241e991c713aa951e5765",
        "IPY_MODEL_11edfefeb4ca410ab09a2f5ddc3d5026"
       ],
       "layout": "IPY_MODEL_fae3f97f39754d1ba4c31c0a281630ef"
      }
     },
     "00038a7d51314ae9804a45c996c3038a": {
      "model_module": "@jupyter-widgets/base",
      "model_module_version": "1.1.0",
      "model_name": "LayoutModel",
      "state": {}
     },
     "000b9c5ed55f49e3a82cde3b11cd106c": {
      "model_module": "@jupyter-widgets/base",
      "model_module_version": "1.1.0",
      "model_name": "LayoutModel",
      "state": {}
     },
     "007459f4f397435698168869e682fe15": {
      "model_module": "@jupyter-widgets/controls",
      "model_module_version": "1.4.0",
      "model_name": "DropdownModel",
      "state": {
       "_options_labels": [
        "0 complex eigenvalues",
        "2 complex eigenvalues",
        "4 complex eigenvalues"
       ],
       "description": "Aa:",
       "disabled": true,
       "index": 0,
       "layout": "IPY_MODEL_52536282f3184f26aed9ccb231e684c9",
       "style": "IPY_MODEL_f60d5a9a35db4218bf1cb50b763bfbd8"
      }
     },
     "008c5b54603f4375ad913b4e47b37a95": {
      "model_module": "@jupyter-widgets/controls",
      "model_module_version": "1.4.0",
      "model_name": "LabelModel",
      "state": {
       "layout": "IPY_MODEL_3352f8a79a714a1f8fd27b8fd25f0a52",
       "style": "IPY_MODEL_a225f194cbbc4a6dbf9bed6cdfccc646",
       "value": "Ka:"
      }
     },
     "00bcf6e5f88d4478b2238275ce14a469": {
      "model_module": "@jupyter-widgets/base",
      "model_module_version": "1.1.0",
      "model_name": "LayoutModel",
      "state": {}
     },
     "0120a3cda0234f828ce07773febed775": {
      "model_module": "@jupyter-widgets/controls",
      "model_module_version": "1.4.0",
      "model_name": "DescriptionStyleModel",
      "state": {
       "description_width": ""
      }
     },
     "0137a8c0e143408997be4713d0929fd0": {
      "model_module": "@jupyter-widgets/controls",
      "model_module_version": "1.4.0",
      "model_name": "DescriptionStyleModel",
      "state": {
       "description_width": ""
      }
     },
     "014b81ae692c4db1abb4de5ebe4c554c": {
      "model_module": "@jupyter-widgets/base",
      "model_module_version": "1.1.0",
      "model_name": "LayoutModel",
      "state": {}
     },
     "01722e6449294095b69c3399e6500959": {
      "model_module": "@jupyter-widgets/controls",
      "model_module_version": "1.4.0",
      "model_name": "DescriptionStyleModel",
      "state": {
       "description_width": ""
      }
     },
     "019c9aac684248e991ad2ca479ca9e54": {
      "model_module": "@jupyter-widgets/controls",
      "model_module_version": "1.4.0",
      "model_name": "LabelModel",
      "state": {
       "layout": "IPY_MODEL_f24072b2fc174c678db9de5d308468b8",
       "style": "IPY_MODEL_602f92a285884868bacf7120c085d472",
       "value": "Aobs's eigs:"
      }
     },
     "01bcc377646640c7a87abaf47a341335": {
      "model_module": "@jupyter-widgets/base",
      "model_module_version": "1.1.0",
      "model_name": "LayoutModel",
      "state": {}
     },
     "01dc0a5c652f458280935dd0ec1df02e": {
      "model_module": "@jupyter-widgets/base",
      "model_module_version": "1.1.0",
      "model_name": "LayoutModel",
      "state": {}
     },
     "03aea743d5e74fc58ade7e8bd43412e5": {
      "model_module": "@jupyter-widgets/controls",
      "model_module_version": "1.4.0",
      "model_name": "DescriptionStyleModel",
      "state": {
       "description_width": ""
      }
     },
     "0412e3d10df841038ecf3f8250e2b120": {
      "model_module": "@jupyter-widgets/base",
      "model_module_version": "1.1.0",
      "model_name": "LayoutModel",
      "state": {}
     },
     "05041977ab73417bb69ef1b71c64c7d9": {
      "model_module": "@jupyter-widgets/controls",
      "model_module_version": "1.4.0",
      "model_name": "HBoxModel",
      "state": {
       "children": [
        "IPY_MODEL_0a0237317d414d94b0d63364806850e5",
        "IPY_MODEL_6d68637432684016b0727f506afe0df5",
        "IPY_MODEL_f01b454caf0243f89fac5809d26d4cf2",
        "IPY_MODEL_3fe63ac60ab64ded984e9abeeff7abf5",
        "IPY_MODEL_317ee220faa84115bad387393653c51c",
        "IPY_MODEL_587e0f7d832d4ecc866fb0f39ea9d990",
        "IPY_MODEL_e740dfcb3cf649d4bee10bf6ee195301",
        "IPY_MODEL_e819fefb797041e89e4f72749e00edab",
        "IPY_MODEL_df3fedfe68e347c793fc31f53922c394",
        "IPY_MODEL_a3c2a24a94aa456cbd6779a86c1f06ad",
        "IPY_MODEL_25be128dd26d4cd298247bbbc5bbe06a"
       ],
       "layout": "IPY_MODEL_7a5fad3a8ed14b8c8672e83a713b5ee7"
      }
     },
     "0706e16b9ab64db69dc8b23ae2724d9e": {
      "model_module": "@jupyter-widgets/controls",
      "model_module_version": "1.4.0",
      "model_name": "DescriptionStyleModel",
      "state": {
       "description_width": ""
      }
     },
     "072696cc4bea46d4b484be7695a09054": {
      "model_module": "@jupyter-widgets/controls",
      "model_module_version": "1.4.0",
      "model_name": "LabelModel",
      "state": {
       "layout": "IPY_MODEL_6f5b16ca245c4071ab3278214307b695",
       "style": "IPY_MODEL_fea917e7b46743788590dd87985dcee4"
      }
     },
     "073260c1189244649e842178ffd838db": {
      "model_module": "@jupyter-widgets/controls",
      "model_module_version": "1.4.0",
      "model_name": "LabelModel",
      "state": {
       "layout": "IPY_MODEL_850d20061cb147999055d5ad4f3f4e9c",
       "style": "IPY_MODEL_27173e1eefb9498a854df87487b14839",
       "value": "Ka:"
      }
     },
     "075ef8840b254dfe8e812d7716b6f101": {
      "model_module": "@jupyter-widgets/controls",
      "model_module_version": "1.4.0",
      "model_name": "DescriptionStyleModel",
      "state": {
       "description_width": ""
      }
     },
     "07cc0da023a94e43b22b059533bc0e4a": {
      "model_module": "@jupyter-widgets/controls",
      "model_module_version": "1.4.0",
      "model_name": "DescriptionStyleModel",
      "state": {
       "description_width": ""
      }
     },
     "07f5abd468dd4c468a64aed63128e248": {
      "model_module": "@jupyter-widgets/controls",
      "model_module_version": "1.4.0",
      "model_name": "HBoxModel",
      "state": {
       "children": [
        "IPY_MODEL_68cb20eccc494d0e897dfcc89aa2b844"
       ],
       "layout": "IPY_MODEL_e24fb2aa34f844d99bef9c6b7ccac677"
      }
     },
     "07fef6b966c54e33b18032e66099953d": {
      "model_module": "@jupyter-widgets/base",
      "model_module_version": "1.1.0",
      "model_name": "LayoutModel",
      "state": {}
     },
     "0809ffdf306c4572b2936a4003504ebc": {
      "model_module": "@jupyter-widgets/controls",
      "model_module_version": "1.4.0",
      "model_name": "LabelModel",
      "state": {
       "layout": "IPY_MODEL_32b7e93c96b443a3af782fb2be831b3b",
       "style": "IPY_MODEL_76017c8704c44e04825f3e352bacd669"
      }
     },
     "0887c7cb985246f0bd413b295949e2d4": {
      "model_module": "@jupyter-widgets/controls",
      "model_module_version": "1.4.0",
      "model_name": "DescriptionStyleModel",
      "state": {
       "description_width": ""
      }
     },
     "093f7ad7ff10484c9dc83f64e83edf68": {
      "model_module": "@jupyter-widgets/controls",
      "model_module_version": "1.4.0",
      "model_name": "DropdownModel",
      "state": {
       "_options_labels": [
        "Set Ka and La",
        "Set the eigenvalues"
       ],
       "index": 0,
       "layout": "IPY_MODEL_3737cb1f394e4b8d993a13254b0b1c5e",
       "style": "IPY_MODEL_e9a73fa1f34747818d3505be6015e5a8"
      }
     },
     "09c1c777399449b3a0a0b485453ab341": {
      "model_module": "@jupyter-widgets/base",
      "model_module_version": "1.1.0",
      "model_name": "LayoutModel",
      "state": {}
     },
     "0a0237317d414d94b0d63364806850e5": {
      "model_module": "@jupyter-widgets/controls",
      "model_module_version": "1.4.0",
      "model_name": "LabelModel",
      "state": {
       "layout": "IPY_MODEL_991efac838994f0ab46af4dd67a6cce2",
       "style": "IPY_MODEL_af6f99f25c5f46168e1651111b8ad41b",
       "value": "Aa's eigs:"
      }
     },
     "0a02add7505f44028df61c521bfc1df6": {
      "model_module": "@jupyter-widgets/base",
      "model_module_version": "1.1.0",
      "model_name": "LayoutModel",
      "state": {
       "width": "90px"
      }
     },
     "0a176961dc994c7d85ace2bb0be6e5fc": {
      "model_module": "@jupyter-widgets/controls",
      "model_module_version": "1.4.0",
      "model_name": "HBoxModel",
      "state": {
       "children": [
        "IPY_MODEL_ed387f51cefd4c6e9562fcd544998001"
       ],
       "layout": "IPY_MODEL_9e3dc09502d8495584a6ac12c8f8ac5a"
      }
     },
     "0a273f0c4e6e469698eb36d71e786546": {
      "model_module": "@jupyter-widgets/base",
      "model_module_version": "1.1.0",
      "model_name": "LayoutModel",
      "state": {}
     },
     "0a7c3f2ed52f4978a43c2ce6b2ed5a0d": {
      "model_module": "@jupyter-widgets/controls",
      "model_module_version": "1.4.0",
      "model_name": "DescriptionStyleModel",
      "state": {
       "description_width": ""
      }
     },
     "0a82875190184a69b8227b138ce1554c": {
      "model_module": "@jupyter-widgets/controls",
      "model_module_version": "1.4.0",
      "model_name": "LabelModel",
      "state": {
       "layout": "IPY_MODEL_d8ddf5e62d8a4ddb9e10b54c206800f0",
       "style": "IPY_MODEL_5a490e92a1344cf0abc18bf0425bbb92"
      }
     },
     "0aa0bfe4046d4bbd9e3b8fc7e923c19e": {
      "model_module": "@jupyter-widgets/controls",
      "model_module_version": "1.4.0",
      "model_name": "FloatSliderModel",
      "state": {
       "continuous_update": false,
       "description": "$y_d$:",
       "layout": "IPY_MODEL_1d157278113043c9856d8a9417a13918",
       "max": 10,
       "readout_format": ".1f",
       "step": 0.1,
       "style": "IPY_MODEL_0f2b83b6f05148a3b373bebc85945789",
       "value": 10
      }
     },
     "0b4ba8575fd04aaaaea39527815d5e55": {
      "model_module": "@jupyter-widgets/controls",
      "model_module_version": "1.4.0",
      "model_name": "HBoxModel",
      "state": {
       "children": [
        "IPY_MODEL_6ccca8cd1dd94a44bbc5840816353ae3"
       ],
       "layout": "IPY_MODEL_b099da3d4c434dc5847966b8cdd77694"
      }
     },
     "0b517246f8e34440abe426b02300a069": {
      "model_module": "@jupyter-widgets/controls",
      "model_module_version": "1.4.0",
      "model_name": "DescriptionStyleModel",
      "state": {
       "description_width": ""
      }
     },
     "0bef75a1591f4b5f8b32b8b6479d62c9": {
      "model_module": "@jupyter-widgets/controls",
      "model_module_version": "1.4.0",
      "model_name": "VBoxModel",
      "state": {
       "children": [
        "IPY_MODEL_7d35e7ff219645d8928897423c98458f",
        "IPY_MODEL_0d089a6ffc9842b5bd9fc04d7aa0246b",
        "IPY_MODEL_fd59bda6f0d24120b0d6c12b5f6b8722",
        "IPY_MODEL_ec3fff96409f451e8c01a23c1f99995c",
        "IPY_MODEL_1fdde251769a4b17b82f768dd2b4dd9e",
        "IPY_MODEL_0a82875190184a69b8227b138ce1554c",
        "IPY_MODEL_d55492cfde34474dbdce90063cf320f9"
       ],
       "layout": "IPY_MODEL_add2942f83e541c2af6d4410e83b6dde"
      }
     },
     "0c7ccc0d90d14893a1798e9bec0ccfad": {
      "model_module": "@jupyter-widgets/controls",
      "model_module_version": "1.4.0",
      "model_name": "DescriptionStyleModel",
      "state": {
       "description_width": ""
      }
     },
     "0c95743624f3406b94fdf24395f109ea": {
      "model_module": "@jupyter-widgets/controls",
      "model_module_version": "1.4.0",
      "model_name": "DescriptionStyleModel",
      "state": {
       "description_width": ""
      }
     },
     "0cd7629dd3c9461fbd0c47b84ef58eb5": {
      "model_module": "@jupyter-widgets/base",
      "model_module_version": "1.1.0",
      "model_name": "LayoutModel",
      "state": {}
     },
     "0d089a6ffc9842b5bd9fc04d7aa0246b": {
      "model_module": "@jupyter-widgets/controls",
      "model_module_version": "1.4.0",
      "model_name": "LabelModel",
      "state": {
       "layout": "IPY_MODEL_12abd72a94064ce59f1ddbba55496559",
       "style": "IPY_MODEL_e05554ca65324a6b8574c72ca47cf5b7"
      }
     },
     "0d0a5a3b1371435bbf4f922a1c0b4595": {
      "model_module": "@jupyter-widgets/controls",
      "model_module_version": "1.4.0",
      "model_name": "ButtonStyleModel",
      "state": {}
     },
     "0dc42ed578324e9698fd4ff6083ef49b": {
      "model_module": "@jupyter-widgets/base",
      "model_module_version": "1.1.0",
      "model_name": "LayoutModel",
      "state": {}
     },
     "0deef1dc66c5431fa7af43270cd27cbe": {
      "model_module": "@jupyter-widgets/base",
      "model_module_version": "1.1.0",
      "model_name": "LayoutModel",
      "state": {}
     },
     "0e00eb2261824321ba3db263816e459b": {
      "model_module": "@jupyter-widgets/controls",
      "model_module_version": "1.4.0",
      "model_name": "DescriptionStyleModel",
      "state": {
       "description_width": ""
      }
     },
     "0e3a382431764e918183d36d775bca91": {
      "model_module": "@jupyter-widgets/controls",
      "model_module_version": "1.4.0",
      "model_name": "DescriptionStyleModel",
      "state": {
       "description_width": ""
      }
     },
     "0e87eb36298b40c88aa507280a88673b": {
      "model_module": "@jupyter-widgets/base",
      "model_module_version": "1.1.0",
      "model_name": "LayoutModel",
      "state": {}
     },
     "0ea5534b93a641a280950cebc7dd7424": {
      "model_module": "@jupyter-widgets/controls",
      "model_module_version": "1.4.0",
      "model_name": "LabelModel",
      "state": {
       "layout": "IPY_MODEL_6b1eb3d2914f436ebdc338c44a701edf",
       "style": "IPY_MODEL_2b9259b59b92447390e7b296c315363e"
      }
     },
     "0f14d36f2e474b439c5338a92acccce0": {
      "model_module": "@jupyter-widgets/controls",
      "model_module_version": "1.4.0",
      "model_name": "LabelModel",
      "state": {
       "layout": "IPY_MODEL_d11f6fc17f944785abd9427772fd5a6d",
       "style": "IPY_MODEL_3ac1014816f74fb1b52fa1463185a00e"
      }
     },
     "0f26c8afca96402aa66b81bc451a3559": {
      "model_module": "@jupyter-widgets/controls",
      "model_module_version": "1.4.0",
      "model_name": "FloatSliderModel",
      "state": {
       "continuous_update": false,
       "description": "$y_d$:",
       "layout": "IPY_MODEL_5e5ca3c81ee24215909e7e2b23040bdd",
       "max": 10,
       "readout_format": ".1f",
       "step": 0.1,
       "style": "IPY_MODEL_6d50e2c21b10474f969fa3e17a94ff8c",
       "value": 10
      }
     },
     "0f2b83b6f05148a3b373bebc85945789": {
      "model_module": "@jupyter-widgets/controls",
      "model_module_version": "1.4.0",
      "model_name": "SliderStyleModel",
      "state": {
       "description_width": ""
      }
     },
     "0f6c3a9260604cbfabe83a35c70edc75": {
      "model_module": "@jupyter-widgets/controls",
      "model_module_version": "1.4.0",
      "model_name": "DescriptionStyleModel",
      "state": {
       "description_width": ""
      }
     },
     "0f70af7c61ff4ba88081ed4f671ea6fb": {
      "model_module": "@jupyter-widgets/controls",
      "model_module_version": "1.4.0",
      "model_name": "DescriptionStyleModel",
      "state": {
       "description_width": ""
      }
     },
     "0fb6ebd5d60540b4a5135eecb46702e9": {
      "model_module": "@jupyter-widgets/controls",
      "model_module_version": "1.4.0",
      "model_name": "DescriptionStyleModel",
      "state": {
       "description_width": ""
      }
     },
     "0fbab12f3fc8478a8d773b74b0d46c8b": {
      "model_module": "@jupyter-widgets/controls",
      "model_module_version": "1.4.0",
      "model_name": "LabelModel",
      "state": {
       "layout": "IPY_MODEL_699c82ce7721494b827c9191334677f0",
       "style": "IPY_MODEL_63bd776089dc4508bd21c8789ad803bb"
      }
     },
     "0fdc2e9573724ffca381dcdc06cfb1b0": {
      "model_module": "@jupyter-widgets/base",
      "model_module_version": "1.1.0",
      "model_name": "LayoutModel",
      "state": {}
     },
     "0ffabbd5de5b4e49b39460918d7833c9": {
      "model_module": "@jupyter-widgets/controls",
      "model_module_version": "1.4.0",
      "model_name": "DescriptionStyleModel",
      "state": {
       "description_width": ""
      }
     },
     "1011a14be8014506987e6ff204d26d35": {
      "model_module": "@jupyter-widgets/base",
      "model_module_version": "1.1.0",
      "model_name": "LayoutModel",
      "state": {
       "width": "90px"
      }
     },
     "108b967aa86f464994fc814c54533fec": {
      "model_module": "@jupyter-widgets/base",
      "model_module_version": "1.1.0",
      "model_name": "LayoutModel",
      "state": {}
     },
     "10c2b023fe28454a9f66efb594599e4a": {
      "model_module": "@jupyter-widgets/base",
      "model_module_version": "1.1.0",
      "model_name": "LayoutModel",
      "state": {}
     },
     "10f2e8ae48e64a069fdfeda800e6969d": {
      "model_module": "@jupyter-widgets/base",
      "model_module_version": "1.1.0",
      "model_name": "LayoutModel",
      "state": {}
     },
     "11edfefeb4ca410ab09a2f5ddc3d5026": {
      "model_module": "@jupyter-widgets/controls",
      "model_module_version": "1.4.0",
      "model_name": "ButtonModel",
      "state": {
       "description": "Test",
       "icon": "check",
       "layout": "IPY_MODEL_2f66cfe8ed134acfb204b483546b9c8d",
       "style": "IPY_MODEL_7b6fe30e232e400583497734a4b6a5c7",
       "tooltip": "Test"
      }
     },
     "1205db0490524afe8643ea75eac4d13f": {
      "model_module": "@jupyter-widgets/controls",
      "model_module_version": "1.4.0",
      "model_name": "HBoxModel",
      "state": {
       "children": [
        "IPY_MODEL_1fb66c1b76f545669fe28804b306ecd2"
       ],
       "layout": "IPY_MODEL_6bdb46374a01452f878caf37f3b7dc57"
      }
     },
     "1244287ff9b84bed9a68f406b6271d4a": {
      "model_module": "@jupyter-widgets/controls",
      "model_module_version": "1.4.0",
      "model_name": "LabelModel",
      "state": {
       "layout": "IPY_MODEL_d859c2d997d6489089f973bec38b3477",
       "style": "IPY_MODEL_72a35b0bc2d9418bb099da42dd65c976"
      }
     },
     "125f923ed5a34fe3a28d2f6851a46911": {
      "model_module": "@jupyter-widgets/controls",
      "model_module_version": "1.4.0",
      "model_name": "HBoxModel",
      "state": {
       "children": [
        "IPY_MODEL_e89ff4014f0e49528bbf4e98a760fe39"
       ],
       "layout": "IPY_MODEL_fc243b3b10e846438dd07009179844f7"
      }
     },
     "127f6407d3334b2c811379e3be485ea4": {
      "model_module": "@jupyter-widgets/controls",
      "model_module_version": "1.4.0",
      "model_name": "DescriptionStyleModel",
      "state": {
       "description_width": ""
      }
     },
     "12abd72a94064ce59f1ddbba55496559": {
      "model_module": "@jupyter-widgets/base",
      "model_module_version": "1.1.0",
      "model_name": "LayoutModel",
      "state": {}
     },
     "1305375218104eaf84b665587f869b4a": {
      "model_module": "@jupyter-widgets/base",
      "model_module_version": "1.1.0",
      "model_name": "LayoutModel",
      "state": {}
     },
     "1356dd4e149949aa8da63f5c73164b03": {
      "model_module": "@jupyter-widgets/base",
      "model_module_version": "1.1.0",
      "model_name": "LayoutModel",
      "state": {
       "width": "90px"
      }
     },
     "135f645700374f52895dcc521e40d207": {
      "model_module": "@jupyter-widgets/controls",
      "model_module_version": "1.4.0",
      "model_name": "LabelModel",
      "state": {
       "layout": "IPY_MODEL_7c71e94f7fd8465382677754c8e6a982",
       "style": "IPY_MODEL_88eb02c3dc4f44948a1aec3fdbc15243"
      }
     },
     "13b8b4e1c72d4263a37e6d0db2857f38": {
      "model_module": "@jupyter-widgets/base",
      "model_module_version": "1.1.0",
      "model_name": "LayoutModel",
      "state": {}
     },
     "13b9e1059bd644deab53f4bbff6caec0": {
      "model_module": "@jupyter-widgets/controls",
      "model_module_version": "1.4.0",
      "model_name": "DropdownModel",
      "state": {
       "_options_labels": [
        "0 complex eigenvalues",
        "2 complex eigenvalues"
       ],
       "description": "Aobs:",
       "disabled": true,
       "index": 0,
       "layout": "IPY_MODEL_308eee1c1f63417596941451831e56d9",
       "style": "IPY_MODEL_b091aa29372a4b588df50dbfdb73bfca"
      }
     },
     "13f0e2e48ed94fb2b3e92e36a92bd6ab": {
      "model_module": "@jupyter-widgets/output",
      "model_module_version": "1.0.0",
      "model_name": "OutputModel",
      "state": {
       "layout": "IPY_MODEL_791fe235250446a6a034c1a07655e400",
       "outputs": [
        {
         "name": "stdout",
         "output_type": "stream",
         "text": "The Aa's eigenvalues are: -2.24+2.23j, -2.24+-2.23j, -0.28+0.00j, -0.26+0.32j and -0.26+-0.32j\nThe observer\\s eigenvalues are: -10.00+0.00j and -10.00+0.00j\n"
        }
       ]
      }
     },
     "14197243320e4c27bf97e564d6f16016": {
      "model_module": "@jupyter-widgets/controls",
      "model_module_version": "1.4.0",
      "model_name": "DescriptionStyleModel",
      "state": {
       "description_width": ""
      }
     },
     "1499b17a4da64101a9270bd56fcd4356": {
      "model_module": "@jupyter-widgets/controls",
      "model_module_version": "1.4.0",
      "model_name": "DescriptionStyleModel",
      "state": {
       "description_width": ""
      }
     },
     "14cf269aca7449979c09408a3fc45663": {
      "model_module": "@jupyter-widgets/base",
      "model_module_version": "1.1.0",
      "model_name": "LayoutModel",
      "state": {
       "width": "90px"
      }
     },
     "14ee82ae6a44446aaf4a813482e9e609": {
      "model_module": "@jupyter-widgets/base",
      "model_module_version": "1.1.0",
      "model_name": "LayoutModel",
      "state": {}
     },
     "1513832cf7b54c038400c36ff44ca0ef": {
      "model_module": "@jupyter-widgets/controls",
      "model_module_version": "1.4.0",
      "model_name": "DescriptionStyleModel",
      "state": {
       "description_width": ""
      }
     },
     "151cd4e8dcf14832a226f806c78e36e0": {
      "model_module": "@jupyter-widgets/base",
      "model_module_version": "1.1.0",
      "model_name": "LayoutModel",
      "state": {
       "width": "90px"
      }
     },
     "15cf45b6a5954be0ac6b6415d1d48bca": {
      "model_module": "@jupyter-widgets/base",
      "model_module_version": "1.1.0",
      "model_name": "LayoutModel",
      "state": {}
     },
     "16112e01e61a4c7a852edd7bb209d2be": {
      "model_module": "@jupyter-widgets/base",
      "model_module_version": "1.1.0",
      "model_name": "LayoutModel",
      "state": {}
     },
     "168bc40c3b9245fb833055cc8b0cf9d8": {
      "model_module": "@jupyter-widgets/controls",
      "model_module_version": "1.4.0",
      "model_name": "LabelModel",
      "state": {
       "layout": "IPY_MODEL_b438c6c4dba24c86a5f99cb78a66dc10",
       "style": "IPY_MODEL_5e9531f6af9b44a5acb5ee578ef622a0"
      }
     },
     "171a1b1507054bbfbefb5a2121471844": {
      "model_module": "@jupyter-widgets/controls",
      "model_module_version": "1.4.0",
      "model_name": "FloatTextModel",
      "state": {
       "layout": "IPY_MODEL_668d43e659984f9c83d702a230efee49",
       "step": null,
       "style": "IPY_MODEL_652517d930ef4076ae1a91b0e2a3be6c"
      }
     },
     "17cebb2684274838bfed4999e9fbd809": {
      "model_module": "@jupyter-widgets/controls",
      "model_module_version": "1.4.0",
      "model_name": "DescriptionStyleModel",
      "state": {
       "description_width": ""
      }
     },
     "1813f2fd50cb46aa9b888f8b5f8af0b2": {
      "model_module": "@jupyter-widgets/controls",
      "model_module_version": "1.4.0",
      "model_name": "DescriptionStyleModel",
      "state": {
       "description_width": ""
      }
     },
     "1847186fe1ec42328cf7cbcf68a6b4db": {
      "model_module": "@jupyter-widgets/controls",
      "model_module_version": "1.4.0",
      "model_name": "DescriptionStyleModel",
      "state": {
       "description_width": ""
      }
     },
     "184b23bb39dd4047977c1005e03a95c0": {
      "model_module": "@jupyter-widgets/base",
      "model_module_version": "1.1.0",
      "model_name": "LayoutModel",
      "state": {
       "width": "90px"
      }
     },
     "186de4e4fe0949228939f5d0f3901124": {
      "model_module": "@jupyter-widgets/controls",
      "model_module_version": "1.4.0",
      "model_name": "DescriptionStyleModel",
      "state": {
       "description_width": ""
      }
     },
     "189961caab4941f481899c87788c12aa": {
      "model_module": "@jupyter-widgets/controls",
      "model_module_version": "1.4.0",
      "model_name": "DescriptionStyleModel",
      "state": {
       "description_width": ""
      }
     },
     "18f82af6d5b2431ba4c48da55efab544": {
      "model_module": "@jupyter-widgets/controls",
      "model_module_version": "1.4.0",
      "model_name": "DropdownModel",
      "state": {
       "_options_labels": [
        "Set Ka and La",
        "Set the eigenvalues"
       ],
       "index": 0,
       "layout": "IPY_MODEL_aa396f910ca1429e83f9525d6adb3ba8",
       "style": "IPY_MODEL_d9db35bcd55b452caf07ceee07f65e96"
      }
     },
     "190c4ee57fdf40c88d86937fbd97fb58": {
      "model_module": "@jupyter-widgets/base",
      "model_module_version": "1.1.0",
      "model_name": "LayoutModel",
      "state": {}
     },
     "19233d4c075b48e5be2e4e129eb9e1d1": {
      "model_module": "@jupyter-widgets/controls",
      "model_module_version": "1.4.0",
      "model_name": "VBoxModel",
      "state": {
       "children": [
        "IPY_MODEL_7637a14720e140b2bcd66ed4939ec5a9",
        "IPY_MODEL_0ea5534b93a641a280950cebc7dd7424",
        "IPY_MODEL_22275515a1f04bd8be66e809c0605552",
        "IPY_MODEL_d120caa23d324631a5a9da5ed06acf60",
        "IPY_MODEL_e6198233953c4e6a91250039d906d212",
        "IPY_MODEL_fedc86dc603d43e08f7f162b326f729d",
        "IPY_MODEL_a5b53e522d8e4962a7d78f2bf1ad4c12"
       ],
       "layout": "IPY_MODEL_4290b132dc4242809a5d43b88a892c72"
      }
     },
     "193fab7eb40b4355997b20e097125ced": {
      "model_module": "@jupyter-widgets/output",
      "model_module_version": "1.0.0",
      "model_name": "OutputModel",
      "state": {
       "layout": "IPY_MODEL_b44a86c421fc453e90a3fbdd66345770",
       "outputs": [
        {
         "name": "stdout",
         "output_type": "stream",
         "text": "The Aa's eigenvalues are: -2.24+2.23j, -2.24+-2.23j, -0.28+0.00j, -0.26+0.32j and -0.26+-0.32j\nThe observer\\s eigenvalues are: -10.00+0.00j and -10.00+0.00j\n"
        }
       ]
      }
     },
     "19b8bdf890664f71885c84f552c3f3c0": {
      "model_module": "@jupyter-widgets/controls",
      "model_module_version": "1.4.0",
      "model_name": "DescriptionStyleModel",
      "state": {
       "description_width": ""
      }
     },
     "19f1831249fc404885a8c590f402427e": {
      "model_module": "@jupyter-widgets/controls",
      "model_module_version": "1.4.0",
      "model_name": "DescriptionStyleModel",
      "state": {
       "description_width": ""
      }
     },
     "1a89916030dc4f8ba8438c3a8c5bbd69": {
      "model_module": "@jupyter-widgets/base",
      "model_module_version": "1.1.0",
      "model_name": "LayoutModel",
      "state": {}
     },
     "1b064c01ef0f4056b7748e7fa4e8d0ae": {
      "model_module": "@jupyter-widgets/controls",
      "model_module_version": "1.4.0",
      "model_name": "DropdownModel",
      "state": {
       "_options_labels": [
        "Set Ka and La",
        "Set the eigenvalues"
       ],
       "index": 0,
       "layout": "IPY_MODEL_ade07f29b03d42f9af3c3c14c7d31ea0",
       "style": "IPY_MODEL_370ecf9131524d678e6b68bd2392087b"
      }
     },
     "1b74db63daf04430bfbc9b90a4d2a0b9": {
      "model_module": "@jupyter-widgets/controls",
      "model_module_version": "1.4.0",
      "model_name": "DescriptionStyleModel",
      "state": {
       "description_width": ""
      }
     },
     "1be046e383e644d6a6cfcf29b3777c99": {
      "model_module": "@jupyter-widgets/base",
      "model_module_version": "1.1.0",
      "model_name": "LayoutModel",
      "state": {}
     },
     "1c3b4a0e02094103b9696eab44638dc6": {
      "model_module": "@jupyter-widgets/base",
      "model_module_version": "1.1.0",
      "model_name": "LayoutModel",
      "state": {
       "width": "90px"
      }
     },
     "1c47caf2cb4b47a3a6d0d38a124adb42": {
      "model_module": "@jupyter-widgets/controls",
      "model_module_version": "1.4.0",
      "model_name": "LabelModel",
      "state": {
       "layout": "IPY_MODEL_4f760a5b774c4487878113061d5224d7",
       "style": "IPY_MODEL_0120a3cda0234f828ce07773febed775",
       "value": "Ka:"
      }
     },
     "1c6c62d211f44583a849017a71d78956": {
      "model_module": "@jupyter-widgets/controls",
      "model_module_version": "1.4.0",
      "model_name": "FloatTextModel",
      "state": {
       "disabled": true,
       "layout": "IPY_MODEL_461957a3da1741a79e15d991cb7034b3",
       "step": null,
       "style": "IPY_MODEL_4c2c1962f1e24a4ead7d36ae79cc2236",
       "value": -0.35
      }
     },
     "1c9b2f53ecbb4da79d03c3c35e70cf14": {
      "model_module": "@jupyter-widgets/base",
      "model_module_version": "1.1.0",
      "model_name": "LayoutModel",
      "state": {}
     },
     "1cf2e125728c4d5e8c8fea95a6038064": {
      "model_module": "@jupyter-widgets/controls",
      "model_module_version": "1.4.0",
      "model_name": "LabelModel",
      "state": {
       "layout": "IPY_MODEL_480976956b5e49b29e0a8fb9ddc1311d",
       "style": "IPY_MODEL_47598cf9791a4324b5119eb4da288b2f",
       "value": "Aa's eigs:"
      }
     },
     "1d157278113043c9856d8a9417a13918": {
      "model_module": "@jupyter-widgets/base",
      "model_module_version": "1.1.0",
      "model_name": "LayoutModel",
      "state": {}
     },
     "1dc05884ae5f4e7d823343a71c5d6ddd": {
      "model_module": "@jupyter-widgets/base",
      "model_module_version": "1.1.0",
      "model_name": "LayoutModel",
      "state": {}
     },
     "1df123d7b60c4f70bfaa95a3a98028b2": {
      "model_module": "@jupyter-widgets/base",
      "model_module_version": "1.1.0",
      "model_name": "LayoutModel",
      "state": {}
     },
     "1e33b781497341b1996b09276820d8e0": {
      "model_module": "@jupyter-widgets/base",
      "model_module_version": "1.1.0",
      "model_name": "LayoutModel",
      "state": {}
     },
     "1f72a1ea109f4f659eb106984a52f1f6": {
      "model_module": "@jupyter-widgets/controls",
      "model_module_version": "1.4.0",
      "model_name": "DescriptionStyleModel",
      "state": {
       "description_width": ""
      }
     },
     "1fb66c1b76f545669fe28804b306ecd2": {
      "model_module": "@jupyter-widgets/controls",
      "model_module_version": "1.4.0",
      "model_name": "FloatTextModel",
      "state": {
       "layout": "IPY_MODEL_e75eff08ebb144498999ffac93f14395",
       "step": null,
       "style": "IPY_MODEL_bde8952344054e1a9af20bcf7482c849",
       "value": -0.2
      }
     },
     "1fc3130926714e67a16a6fa21598e553": {
      "model_module": "@jupyter-widgets/controls",
      "model_module_version": "1.4.0",
      "model_name": "FloatTextModel",
      "state": {
       "layout": "IPY_MODEL_ecd20c3dc57245719c571ef17d01685c",
       "step": null,
       "style": "IPY_MODEL_5a867080f23547f5ba9fce9c078589d9",
       "value": 5275
      }
     },
     "1fd1af9aa2e34834a4365140e0e3935c": {
      "model_module": "@jupyter-widgets/controls",
      "model_module_version": "1.4.0",
      "model_name": "LabelModel",
      "state": {
       "layout": "IPY_MODEL_5bb3813b66d04d2e8d925c77a06ea469",
       "style": "IPY_MODEL_127f6407d3334b2c811379e3be485ea4",
       "value": "La:"
      }
     },
     "1fd782fda2594830a668c84ee5d9f831": {
      "model_module": "@jupyter-widgets/controls",
      "model_module_version": "1.4.0",
      "model_name": "DescriptionStyleModel",
      "state": {
       "description_width": ""
      }
     },
     "1fdde251769a4b17b82f768dd2b4dd9e": {
      "model_module": "@jupyter-widgets/controls",
      "model_module_version": "1.4.0",
      "model_name": "HBoxModel",
      "state": {
       "children": [
        "IPY_MODEL_b56385a123a9454aa4c26e576ee9e00e",
        "IPY_MODEL_4c8e37c41a2d416a8c037d763d6ba024",
        "IPY_MODEL_a267df06d1fd4abdbeeaa4b209f965f6",
        "IPY_MODEL_4d2f31be201045a6af6ff6ed5f2d6c7d",
        "IPY_MODEL_84a0b15ddb034a2092338bd2b2ed63e9",
        "IPY_MODEL_f4b016746bb84426baca5c76043f6338",
        "IPY_MODEL_bc57fb4c89304c8489fdd40e587aba43",
        "IPY_MODEL_d5837d49afb144f4b62497a1eee8836b",
        "IPY_MODEL_eb3ee6a786584c6d9f2da7657cac6d2a",
        "IPY_MODEL_b080ba2fe8b74e95941fc70e47b839e1",
        "IPY_MODEL_30ad82f4d06f4c2daaa68aeb2a06dd47"
       ],
       "layout": "IPY_MODEL_4f1921a9f6484511a8d14907d72e0e23"
      }
     },
     "208dd43bf82041139b3985a6cc8b89b3": {
      "model_module": "@jupyter-widgets/controls",
      "model_module_version": "1.4.0",
      "model_name": "DescriptionStyleModel",
      "state": {
       "description_width": ""
      }
     },
     "2093b6224f914effb15b3638f1187eb6": {
      "model_module": "@jupyter-widgets/controls",
      "model_module_version": "1.4.0",
      "model_name": "VBoxModel",
      "state": {
       "children": [
        "IPY_MODEL_7e4e7d01deec4ad28120e3a5353c32be"
       ],
       "layout": "IPY_MODEL_60b41869c40d4bd39090be64275ae341"
      }
     },
     "20cb9075c7db4936a347bd454de3b582": {
      "model_module": "@jupyter-widgets/controls",
      "model_module_version": "1.4.0",
      "model_name": "FloatTextModel",
      "state": {
       "layout": "IPY_MODEL_37ff28d148404455adda4f35d2af9e04",
       "step": null,
       "style": "IPY_MODEL_df7ca8e6b4e943ab931b5b3d5c5c261c"
      }
     },
     "212cbb388f3446d9be9fc9ea66b8a4ef": {
      "model_module": "@jupyter-widgets/controls",
      "model_module_version": "1.4.0",
      "model_name": "LabelModel",
      "state": {
       "layout": "IPY_MODEL_53d173abcf8b4242ab7d38a319621de6",
       "style": "IPY_MODEL_7d6a609ca45c4507b010733c5e884ae6"
      }
     },
     "2130431e014a406d94f539f123ff4781": {
      "model_module": "@jupyter-widgets/controls",
      "model_module_version": "1.4.0",
      "model_name": "DescriptionStyleModel",
      "state": {
       "description_width": ""
      }
     },
     "2158a36c2a104d1fae5f6a0fdcbc1e78": {
      "model_module": "@jupyter-widgets/controls",
      "model_module_version": "1.4.0",
      "model_name": "DescriptionStyleModel",
      "state": {
       "description_width": ""
      }
     },
     "217df9fb08f841e0b881ed5ff541226f": {
      "model_module": "@jupyter-widgets/base",
      "model_module_version": "1.1.0",
      "model_name": "LayoutModel",
      "state": {}
     },
     "21959bf2c265467dbf5cac2aaf1816e0": {
      "model_module": "@jupyter-widgets/controls",
      "model_module_version": "1.4.0",
      "model_name": "DescriptionStyleModel",
      "state": {
       "description_width": ""
      }
     },
     "21b672a6f2cb476a859c6c8b77770295": {
      "model_module": "@jupyter-widgets/controls",
      "model_module_version": "1.4.0",
      "model_name": "LabelModel",
      "state": {
       "layout": "IPY_MODEL_50979c39461b47e8bc2fd3cbcdd20729",
       "style": "IPY_MODEL_e25d85fff72e488ea4647079ab727aff",
       "value": "Aa's eigs:"
      }
     },
     "21eabbad715941b99f63fe2a4776bc00": {
      "model_module": "@jupyter-widgets/controls",
      "model_module_version": "1.4.0",
      "model_name": "DropdownModel",
      "state": {
       "_options_labels": [
        "0 complex eigenvalues",
        "2 complex eigenvalues",
        "4 complex eigenvalues"
       ],
       "description": "Aa:",
       "disabled": true,
       "index": 0,
       "layout": "IPY_MODEL_3c6b454038614f7698738e0b9ce8fec4",
       "style": "IPY_MODEL_a9df4eb6b13f4772b2ba3fc42ce6a654"
      }
     },
     "2207ee2b08c4446987f7e6023e83a82b": {
      "model_module": "@jupyter-widgets/controls",
      "model_module_version": "1.4.0",
      "model_name": "FloatTextModel",
      "state": {
       "layout": "IPY_MODEL_b6573d23f34546ba8e2cbf2b6767a8e1",
       "step": null,
       "style": "IPY_MODEL_a2730760d6e340dd9350b3d45baf8886",
       "value": 6244
      }
     },
     "22275515a1f04bd8be66e809c0605552": {
      "model_module": "@jupyter-widgets/controls",
      "model_module_version": "1.4.0",
      "model_name": "HBoxModel",
      "state": {
       "children": [
        "IPY_MODEL_073260c1189244649e842178ffd838db",
        "IPY_MODEL_d5286389e31f44d0a068455235d65e4f",
        "IPY_MODEL_72e8f2c8610c47fd8096faa84eb921f8",
        "IPY_MODEL_eeea2616635d4149881ea9df9f5a14cb",
        "IPY_MODEL_a016d7fcf44b4c7988226f529ae389e7",
        "IPY_MODEL_c52b71d3ecdd45499b48a31dc291647b"
       ],
       "layout": "IPY_MODEL_42984b879b2d416b85cd418d253039ed"
      }
     },
     "22374c75f7794f22a5f88e46fc333e82": {
      "model_module": "@jupyter-widgets/controls",
      "model_module_version": "1.4.0",
      "model_name": "FloatTextModel",
      "state": {
       "layout": "IPY_MODEL_40791dfb3cc8474eb7d54e2189b6b60c",
       "step": null,
       "style": "IPY_MODEL_ca9c829a996f4f7c845b56e8cf922fbd",
       "value": -13.333333333333334
      }
     },
     "226ecd100d9b43bdb15a7c6850582d90": {
      "model_module": "@jupyter-widgets/base",
      "model_module_version": "1.1.0",
      "model_name": "LayoutModel",
      "state": {}
     },
     "2286c81d4a3a4f93a0f895e50a34fe05": {
      "model_module": "@jupyter-widgets/controls",
      "model_module_version": "1.4.0",
      "model_name": "HBoxModel",
      "state": {
       "children": [
        "IPY_MODEL_3c7c916361f84919ace94112d0857e8d",
        "IPY_MODEL_b05b346ca5f149c68313830c8017a0c4",
        "IPY_MODEL_2661ca0349f54248a71dd5a7e08fc265",
        "IPY_MODEL_b55b9482c3094a98a8cf619d230dbc9b",
        "IPY_MODEL_247e86cfc95f417a8bcb4fcfcdbe3a0c"
       ],
       "layout": "IPY_MODEL_fcea6582999f41d3998d812ef0156748"
      }
     },
     "22d7fc6100c34ec68f93bd5a4fa77bce": {
      "model_module": "@jupyter-widgets/base",
      "model_module_version": "1.1.0",
      "model_name": "LayoutModel",
      "state": {}
     },
     "239576f3ce7641f5ab0c6dbab3e5de53": {
      "model_module": "@jupyter-widgets/controls",
      "model_module_version": "1.4.0",
      "model_name": "HBoxModel",
      "state": {
       "children": [
        "IPY_MODEL_8471ba81fc7a4b87adf19a11d05e4af8",
        "IPY_MODEL_b7643201185d4a7eb66c0e9807d1fef7",
        "IPY_MODEL_678800f9d35b4543892ff9d4b8c3009b"
       ],
       "layout": "IPY_MODEL_88608d2bd3564091bb944cd23789d33c"
      }
     },
     "23c82a3754bb4588a4f865849a294568": {
      "model_module": "@jupyter-widgets/base",
      "model_module_version": "1.1.0",
      "model_name": "LayoutModel",
      "state": {}
     },
     "247e86cfc95f417a8bcb4fcfcdbe3a0c": {
      "model_module": "@jupyter-widgets/controls",
      "model_module_version": "1.4.0",
      "model_name": "ButtonModel",
      "state": {
       "description": "Test",
       "icon": "check",
       "layout": "IPY_MODEL_c443bd8d6997435e91d118677137d5b6",
       "style": "IPY_MODEL_8940fedfa6b94154bbecb9b93aa2c282",
       "tooltip": "Test"
      }
     },
     "24dd982e2a6149fa8600278128d390d9": {
      "model_module": "@jupyter-widgets/controls",
      "model_module_version": "1.4.0",
      "model_name": "DescriptionStyleModel",
      "state": {
       "description_width": ""
      }
     },
     "2529e49926cd4f8eb55dcc45178ec8f5": {
      "model_module": "@jupyter-widgets/controls",
      "model_module_version": "1.4.0",
      "model_name": "LabelModel",
      "state": {
       "layout": "IPY_MODEL_9e4fb7fb6cee4738ab762e038ba437ba",
       "style": "IPY_MODEL_728c92f846734c939fcd10d6e4ef68e3"
      }
     },
     "25be128dd26d4cd298247bbbc5bbe06a": {
      "model_module": "@jupyter-widgets/controls",
      "model_module_version": "1.4.0",
      "model_name": "VBoxModel",
      "state": {
       "children": [
        "IPY_MODEL_3de384452e1d48d09b464ccad972e82a",
        "IPY_MODEL_a632af6c959f4150a8552cf2868f1563"
       ],
       "layout": "IPY_MODEL_6f10c2a2cc4f4d5cb7cd361d5fd117bb"
      }
     },
     "25f2ec29d73b41f7a2dc273b04bff9ce": {
      "model_module": "@jupyter-widgets/base",
      "model_module_version": "1.1.0",
      "model_name": "LayoutModel",
      "state": {}
     },
     "26342618d87e467fab891aa5cda81036": {
      "model_module": "@jupyter-widgets/controls",
      "model_module_version": "1.4.0",
      "model_name": "VBoxModel",
      "state": {
       "children": [
        "IPY_MODEL_e675d75bec4b474dba2d599e91931cd2",
        "IPY_MODEL_c4740552de6548d296f8e504838955f6",
        "IPY_MODEL_a91bbca18081424791e2d1ee5f5cce53",
        "IPY_MODEL_e53e8f35bab440248da43e8cba202569",
        "IPY_MODEL_3e64d9fd2e1746cea195f645cdd6949d",
        "IPY_MODEL_fdce31ba7cd54e7599882f799a6e6e33",
        "IPY_MODEL_2286c81d4a3a4f93a0f895e50a34fe05"
       ],
       "layout": "IPY_MODEL_4e55b368a6894071936164175298b092"
      }
     },
     "2661ca0349f54248a71dd5a7e08fc265": {
      "model_module": "@jupyter-widgets/controls",
      "model_module_version": "1.4.0",
      "model_name": "LabelModel",
      "state": {
       "layout": "IPY_MODEL_a2b1153c0b734d19bbbe9e4cb71dfd22",
       "style": "IPY_MODEL_f42e19a237c34b6180896202e734db4b"
      }
     },
     "27173e1eefb9498a854df87487b14839": {
      "model_module": "@jupyter-widgets/controls",
      "model_module_version": "1.4.0",
      "model_name": "DescriptionStyleModel",
      "state": {
       "description_width": ""
      }
     },
     "27928ffdf5e14aceb43b8fca906689b0": {
      "model_module": "@jupyter-widgets/base",
      "model_module_version": "1.1.0",
      "model_name": "LayoutModel",
      "state": {}
     },
     "27bf1cd698f244de864097f2c1026f29": {
      "model_module": "@jupyter-widgets/controls",
      "model_module_version": "1.4.0",
      "model_name": "VBoxModel",
      "state": {
       "children": [
        "IPY_MODEL_bad08b1eee074bc3b71be5dc3ac3cdde",
        "IPY_MODEL_42c5e51edfbf418ea107735f899209ac"
       ],
       "layout": "IPY_MODEL_9b5dafc61d3444c5ad1d3934f7051d68"
      }
     },
     "28145b3fa0c947388e212e724a9d4113": {
      "model_module": "@jupyter-widgets/base",
      "model_module_version": "1.1.0",
      "model_name": "LayoutModel",
      "state": {}
     },
     "2858ff7ee73a49599f2605631773233e": {
      "model_module": "@jupyter-widgets/base",
      "model_module_version": "1.1.0",
      "model_name": "LayoutModel",
      "state": {
       "width": "90px"
      }
     },
     "285f9014036e4d5485f9c4c625564664": {
      "model_module": "@jupyter-widgets/base",
      "model_module_version": "1.1.0",
      "model_name": "LayoutModel",
      "state": {}
     },
     "286c6d083d32468c8da6d9a651c6a4cb": {
      "model_module": "@jupyter-widgets/controls",
      "model_module_version": "1.4.0",
      "model_name": "DescriptionStyleModel",
      "state": {
       "description_width": ""
      }
     },
     "28eeaa6532d64589be32837e44b6116e": {
      "model_module": "@jupyter-widgets/base",
      "model_module_version": "1.1.0",
      "model_name": "LayoutModel",
      "state": {}
     },
     "290c5edce3fd4ba59715d66705fcdd2e": {
      "model_module": "@jupyter-widgets/base",
      "model_module_version": "1.1.0",
      "model_name": "LayoutModel",
      "state": {}
     },
     "296ca86ae0ed488dbcf495fcee09b2d4": {
      "model_module": "@jupyter-widgets/base",
      "model_module_version": "1.1.0",
      "model_name": "LayoutModel",
      "state": {}
     },
     "29a5ffd39c2f4cfbbb7189829553bcde": {
      "model_module": "@jupyter-widgets/controls",
      "model_module_version": "1.4.0",
      "model_name": "LabelModel",
      "state": {
       "layout": "IPY_MODEL_5e837cafb6a844dd926b00ccdd43440d",
       "style": "IPY_MODEL_a2a23603747a44b8b4b99e05ba1585cc"
      }
     },
     "2a4c4be27bb545dd87185740c74ca9e5": {
      "model_module": "@jupyter-widgets/controls",
      "model_module_version": "1.4.0",
      "model_name": "FloatTextModel",
      "state": {
       "layout": "IPY_MODEL_bebe51591c7f4204987782700ddac779",
       "step": null,
       "style": "IPY_MODEL_5e97027777614640b556526766aab474"
      }
     },
     "2ad36e1cd7c6491ebd207e23495eaf5f": {
      "model_module": "@jupyter-widgets/base",
      "model_module_version": "1.1.0",
      "model_name": "LayoutModel",
      "state": {}
     },
     "2b099bf547704ef4a5d5b71337dae026": {
      "model_module": "@jupyter-widgets/controls",
      "model_module_version": "1.4.0",
      "model_name": "DescriptionStyleModel",
      "state": {
       "description_width": ""
      }
     },
     "2b60f2474af2416cb1d242ccc4c6ddb3": {
      "model_module": "@jupyter-widgets/controls",
      "model_module_version": "1.4.0",
      "model_name": "FloatTextModel",
      "state": {
       "disabled": true,
       "layout": "IPY_MODEL_580f187efa7642398bec0a2ae1ea2954",
       "step": null,
       "style": "IPY_MODEL_e2a1c41856004ffc9cd0fc59df88997a"
      }
     },
     "2b684e1c6b254b9fa313b5d68cbac70e": {
      "model_module": "@jupyter-widgets/controls",
      "model_module_version": "1.4.0",
      "model_name": "DescriptionStyleModel",
      "state": {
       "description_width": ""
      }
     },
     "2b9259b59b92447390e7b296c315363e": {
      "model_module": "@jupyter-widgets/controls",
      "model_module_version": "1.4.0",
      "model_name": "DescriptionStyleModel",
      "state": {
       "description_width": ""
      }
     },
     "2b97208d6c1a4fd1966375b6e494aa89": {
      "model_module": "@jupyter-widgets/controls",
      "model_module_version": "1.4.0",
      "model_name": "DescriptionStyleModel",
      "state": {
       "description_width": ""
      }
     },
     "2bc216ef3e2d46c8b160d194b072936c": {
      "model_module": "@jupyter-widgets/controls",
      "model_module_version": "1.4.0",
      "model_name": "DescriptionStyleModel",
      "state": {
       "description_width": ""
      }
     },
     "2bf0392a0f39437ba55867d895e68ba0": {
      "model_module": "@jupyter-widgets/base",
      "model_module_version": "1.1.0",
      "model_name": "LayoutModel",
      "state": {
       "width": "90px"
      }
     },
     "2c4fbbc1825c495c86831ef2286a8258": {
      "model_module": "@jupyter-widgets/base",
      "model_module_version": "1.1.0",
      "model_name": "LayoutModel",
      "state": {}
     },
     "2cb9c1ebcf564a40a34b90a63d030464": {
      "model_module": "@jupyter-widgets/controls",
      "model_module_version": "1.4.0",
      "model_name": "VBoxModel",
      "state": {
       "children": [
        "IPY_MODEL_ee4aa316d9714e888f3c23995436d5e6"
       ],
       "layout": "IPY_MODEL_190c4ee57fdf40c88d86937fbd97fb58"
      }
     },
     "2d2e3175df1d471bbb45873e4da0007e": {
      "model_module": "@jupyter-widgets/output",
      "model_module_version": "1.0.0",
      "model_name": "OutputModel",
      "state": {
       "layout": "IPY_MODEL_4896fb1125f843749d6859f7cbe31ce0",
       "outputs": [
        {
         "name": "stdout",
         "output_type": "stream",
         "text": "The Aa's eigenvalues are: -2.24+2.23j, -2.24+-2.23j, -0.28+0.00j, -0.26+0.32j and -0.26+-0.32j\nThe observer\\s eigenvalues are: -10.00+0.00j and -10.00+0.00j\n"
        }
       ]
      }
     },
     "2d7547f1a371409793d7cc2e5f67d729": {
      "model_module": "@jupyter-widgets/controls",
      "model_module_version": "1.4.0",
      "model_name": "DescriptionStyleModel",
      "state": {
       "description_width": ""
      }
     },
     "2d87c6683db741b78597a76dece4e1fc": {
      "model_module": "@jupyter-widgets/base",
      "model_module_version": "1.1.0",
      "model_name": "LayoutModel",
      "state": {}
     },
     "2e269a8bd2094127a2842dba4c1a9b3e": {
      "model_module": "@jupyter-widgets/base",
      "model_module_version": "1.1.0",
      "model_name": "LayoutModel",
      "state": {
       "height": "0px",
       "width": "0px"
      }
     },
     "2ea7fb5a0dc94b24bc86d1d1361bf465": {
      "model_module": "@jupyter-widgets/controls",
      "model_module_version": "1.4.0",
      "model_name": "HBoxModel",
      "state": {
       "children": [
        "IPY_MODEL_ad7ee93bc69e44238236082c27729623",
        "IPY_MODEL_d5286389e31f44d0a068455235d65e4f",
        "IPY_MODEL_e803009919e34d8eaf8b05eec6e7095e",
        "IPY_MODEL_7e247cd9b0e54844af224969b6c41f28",
        "IPY_MODEL_67eca683eeac421c9b2621d685db768f",
        "IPY_MODEL_c52b71d3ecdd45499b48a31dc291647b"
       ],
       "layout": "IPY_MODEL_59ebaba388dc4577ada44ad233f34d00"
      }
     },
     "2f3e230ec0f74c2db5e3641c839f2213": {
      "model_module": "@jupyter-widgets/controls",
      "model_module_version": "1.4.0",
      "model_name": "LabelModel",
      "state": {
       "layout": "IPY_MODEL_ffe99539e150450583ae31daaf3d9322",
       "style": "IPY_MODEL_1f72a1ea109f4f659eb106984a52f1f6",
       "value": "Ka:"
      }
     },
     "2f66cfe8ed134acfb204b483546b9c8d": {
      "model_module": "@jupyter-widgets/base",
      "model_module_version": "1.1.0",
      "model_name": "LayoutModel",
      "state": {}
     },
     "2f9198fbd0b341cf8d4432260b3fa514": {
      "model_module": "@jupyter-widgets/base",
      "model_module_version": "1.1.0",
      "model_name": "LayoutModel",
      "state": {}
     },
     "2fdeaa5e4bf3400f8579ebce0f57f204": {
      "model_module": "@jupyter-widgets/controls",
      "model_module_version": "1.4.0",
      "model_name": "HBoxModel",
      "state": {
       "children": [
        "IPY_MODEL_912150cf7dd545c9be27f06e2420e9fd"
       ],
       "layout": "IPY_MODEL_9107b64326ee404abe9f223d27d7cb58"
      }
     },
     "307ff552afd445f8aa1f661c0d2a70ab": {
      "model_module": "@jupyter-widgets/controls",
      "model_module_version": "1.4.0",
      "model_name": "DescriptionStyleModel",
      "state": {
       "description_width": ""
      }
     },
     "308eee1c1f63417596941451831e56d9": {
      "model_module": "@jupyter-widgets/base",
      "model_module_version": "1.1.0",
      "model_name": "LayoutModel",
      "state": {}
     },
     "30ad82f4d06f4c2daaa68aeb2a06dd47": {
      "model_module": "@jupyter-widgets/controls",
      "model_module_version": "1.4.0",
      "model_name": "VBoxModel",
      "state": {
       "children": [
        "IPY_MODEL_2fdeaa5e4bf3400f8579ebce0f57f204",
        "IPY_MODEL_6f85f9a4db194b509b78ff37a0f3f35a"
       ],
       "layout": "IPY_MODEL_dce3a2ee8dff4853a756267ce47660ed"
      }
     },
     "30c069a9f1e64b8fa42c228c79bc01d4": {
      "model_module": "@jupyter-widgets/base",
      "model_module_version": "1.1.0",
      "model_name": "LayoutModel",
      "state": {}
     },
     "3155eee3f9a64ff3b2f1ce3c8f7d18cc": {
      "model_module": "@jupyter-widgets/base",
      "model_module_version": "1.1.0",
      "model_name": "LayoutModel",
      "state": {}
     },
     "317ee220faa84115bad387393653c51c": {
      "model_module": "@jupyter-widgets/controls",
      "model_module_version": "1.4.0",
      "model_name": "VBoxModel",
      "state": {
       "children": [
        "IPY_MODEL_7c92b5b89e8b44fc9d282249225339c6"
       ],
       "layout": "IPY_MODEL_a460952c12254a589008273d3b2199a9"
      }
     },
     "31e2e456b00d48d490d2402eb557ec37": {
      "model_module": "@jupyter-widgets/base",
      "model_module_version": "1.1.0",
      "model_name": "LayoutModel",
      "state": {}
     },
     "3223149f706c4dd4ba260fe3446b92e8": {
      "model_module": "@jupyter-widgets/base",
      "model_module_version": "1.1.0",
      "model_name": "LayoutModel",
      "state": {}
     },
     "3233aafe18be46e7a62f972550b668ba": {
      "model_module": "@jupyter-widgets/base",
      "model_module_version": "1.1.0",
      "model_name": "LayoutModel",
      "state": {}
     },
     "32a09d78e0b3416a94dc5ac17c5bb0d0": {
      "model_module": "@jupyter-widgets/controls",
      "model_module_version": "1.4.0",
      "model_name": "DescriptionStyleModel",
      "state": {
       "description_width": ""
      }
     },
     "32b7e93c96b443a3af782fb2be831b3b": {
      "model_module": "@jupyter-widgets/base",
      "model_module_version": "1.1.0",
      "model_name": "LayoutModel",
      "state": {}
     },
     "32c998c40fcb45f29c5f62895b3ae599": {
      "model_module": "@jupyter-widgets/base",
      "model_module_version": "1.1.0",
      "model_name": "LayoutModel",
      "state": {}
     },
     "33330d6c86ba41eab73940f2280afb9a": {
      "model_module": "@jupyter-widgets/controls",
      "model_module_version": "1.4.0",
      "model_name": "FloatTextModel",
      "state": {
       "layout": "IPY_MODEL_3a65fbb08de74d909d5fd1814e6230ac",
       "step": null,
       "style": "IPY_MODEL_754e87a1a8c54875b3b917f54d2c9b58",
       "value": -10
      }
     },
     "33357e60e03e468ca65e98dd38c74e9f": {
      "model_module": "@jupyter-widgets/controls",
      "model_module_version": "1.4.0",
      "model_name": "DescriptionStyleModel",
      "state": {
       "description_width": ""
      }
     },
     "3352f8a79a714a1f8fd27b8fd25f0a52": {
      "model_module": "@jupyter-widgets/base",
      "model_module_version": "1.1.0",
      "model_name": "LayoutModel",
      "state": {}
     },
     "33bfa08767d84ae4a47341c4859c6d8e": {
      "model_module": "@jupyter-widgets/controls",
      "model_module_version": "1.4.0",
      "model_name": "DescriptionStyleModel",
      "state": {
       "description_width": ""
      }
     },
     "33f481d047974c82b48e773a14c5277e": {
      "model_module": "@jupyter-widgets/controls",
      "model_module_version": "1.4.0",
      "model_name": "DescriptionStyleModel",
      "state": {
       "description_width": ""
      }
     },
     "34022ccc088d4f659df4623873bb8338": {
      "model_module": "@jupyter-widgets/base",
      "model_module_version": "1.1.0",
      "model_name": "LayoutModel",
      "state": {}
     },
     "341a67e1961c4efaba9cd46195f445c9": {
      "model_module": "@jupyter-widgets/base",
      "model_module_version": "1.1.0",
      "model_name": "LayoutModel",
      "state": {}
     },
     "3430f1d432be4157a235f074511b7e3e": {
      "model_module": "@jupyter-widgets/controls",
      "model_module_version": "1.4.0",
      "model_name": "DescriptionStyleModel",
      "state": {
       "description_width": ""
      }
     },
     "3560f888f8714d7380f8ec397da7b315": {
      "model_module": "@jupyter-widgets/controls",
      "model_module_version": "1.4.0",
      "model_name": "DescriptionStyleModel",
      "state": {
       "description_width": ""
      }
     },
     "356747a968bb4a48b3b7722036ed8bf4": {
      "model_module": "@jupyter-widgets/controls",
      "model_module_version": "1.4.0",
      "model_name": "FloatTextModel",
      "state": {
       "layout": "IPY_MODEL_2858ff7ee73a49599f2605631773233e",
       "step": null,
       "style": "IPY_MODEL_1fd782fda2594830a668c84ee5d9f831",
       "value": 316
      }
     },
     "360875116090414dbddbecaa83b47342": {
      "model_module": "@jupyter-widgets/controls",
      "model_module_version": "1.4.0",
      "model_name": "LabelModel",
      "state": {
       "layout": "IPY_MODEL_851b1adaff55422a86338f42883ee062",
       "style": "IPY_MODEL_ff14f4f3069442e09be6386b056e4f65"
      }
     },
     "361e3aca296d43a68f658aa71fa8a732": {
      "model_module": "@jupyter-widgets/controls",
      "model_module_version": "1.4.0",
      "model_name": "FloatTextModel",
      "state": {
       "layout": "IPY_MODEL_caf38c4519e040de9884ca0747ab7001",
       "step": null,
       "style": "IPY_MODEL_bf796660e99f47128f6d0e118966cbdd"
      }
     },
     "363c1e3703ab462a93ff019e7bc417eb": {
      "model_module": "@jupyter-widgets/base",
      "model_module_version": "1.1.0",
      "model_name": "LayoutModel",
      "state": {}
     },
     "364239ea052146749c210d876d457052": {
      "model_module": "@jupyter-widgets/base",
      "model_module_version": "1.1.0",
      "model_name": "LayoutModel",
      "state": {}
     },
     "36ac1087021c41399d70cc006def027e": {
      "model_module": "@jupyter-widgets/controls",
      "model_module_version": "1.4.0",
      "model_name": "FloatTextModel",
      "state": {
       "layout": "IPY_MODEL_3dae996603af49d89a680674a3ee2aec",
       "step": null,
       "style": "IPY_MODEL_33f481d047974c82b48e773a14c5277e"
      }
     },
     "36b4c1c517ff44af830b4f3695cbd377": {
      "model_module": "@jupyter-widgets/controls",
      "model_module_version": "1.4.0",
      "model_name": "ButtonModel",
      "state": {
       "description": "Test",
       "icon": "check",
       "layout": "IPY_MODEL_4d59d06b755e49e1ac0c6d996a44da1e",
       "style": "IPY_MODEL_0d0a5a3b1371435bbf4f922a1c0b4595",
       "tooltip": "Test"
      }
     },
     "36b6b604c9464f058cab5c96b0e7fd11": {
      "model_module": "@jupyter-widgets/base",
      "model_module_version": "1.1.0",
      "model_name": "LayoutModel",
      "state": {}
     },
     "370ecf9131524d678e6b68bd2392087b": {
      "model_module": "@jupyter-widgets/controls",
      "model_module_version": "1.4.0",
      "model_name": "DescriptionStyleModel",
      "state": {
       "description_width": ""
      }
     },
     "37327690f2424d65b8d49eece9eaf6a9": {
      "model_module": "@jupyter-widgets/base",
      "model_module_version": "1.1.0",
      "model_name": "LayoutModel",
      "state": {}
     },
     "3737cb1f394e4b8d993a13254b0b1c5e": {
      "model_module": "@jupyter-widgets/base",
      "model_module_version": "1.1.0",
      "model_name": "LayoutModel",
      "state": {}
     },
     "3737cb895e114ff3a7264b637d8ad44b": {
      "model_module": "@jupyter-widgets/controls",
      "model_module_version": "1.4.0",
      "model_name": "DescriptionStyleModel",
      "state": {
       "description_width": ""
      }
     },
     "375787cc30e24e26abe571c28c5b73b7": {
      "model_module": "@jupyter-widgets/controls",
      "model_module_version": "1.4.0",
      "model_name": "DescriptionStyleModel",
      "state": {
       "description_width": ""
      }
     },
     "37d23d6207874b9db8948c62f4cd0835": {
      "model_module": "@jupyter-widgets/base",
      "model_module_version": "1.1.0",
      "model_name": "LayoutModel",
      "state": {}
     },
     "37d8d5e4068d43cda833bfa5b2deb3d6": {
      "model_module": "@jupyter-widgets/controls",
      "model_module_version": "1.4.0",
      "model_name": "VBoxModel",
      "state": {
       "children": [
        "IPY_MODEL_895850746fc047c089a3bab1559d9f9d",
        "IPY_MODEL_ebf0f598131a450587d040772038e710",
        "IPY_MODEL_3d9418f5694c40a68a7dbd749231b227",
        "IPY_MODEL_ad34d26874a24d2c89c2f16a3cf953ee",
        "IPY_MODEL_50da8e9b3fe449d8bd0f82c813a0d190",
        "IPY_MODEL_4490b6a17a204103a401af35e7fb2214",
        "IPY_MODEL_e946f509a27349d3ad44c1af4e53fc3a"
       ],
       "layout": "IPY_MODEL_ae665ed5b04d42f1b2b624cfbc726e6f"
      }
     },
     "37e3d4ef915442e587ab592c14598b61": {
      "model_module": "@jupyter-widgets/base",
      "model_module_version": "1.1.0",
      "model_name": "LayoutModel",
      "state": {
       "height": "0px",
       "width": "0px"
      }
     },
     "37ecefc90ca24246a5e1f966458ec837": {
      "model_module": "@jupyter-widgets/base",
      "model_module_version": "1.1.0",
      "model_name": "LayoutModel",
      "state": {}
     },
     "37ff28d148404455adda4f35d2af9e04": {
      "model_module": "@jupyter-widgets/base",
      "model_module_version": "1.1.0",
      "model_name": "LayoutModel",
      "state": {
       "width": "90px"
      }
     },
     "3804bdbe25a84136b554ce66d5068797": {
      "model_module": "@jupyter-widgets/controls",
      "model_module_version": "1.4.0",
      "model_name": "VBoxModel",
      "state": {
       "children": [
        "IPY_MODEL_61c6a8a15add4ded9fd4e987a755ab38",
        "IPY_MODEL_d086c2b805214a99ac336e6b38227e34",
        "IPY_MODEL_fb4bc4d4d3a648d7a6a9df184cce12b6",
        "IPY_MODEL_9a30578514a043dc80c647d4b5ab588d",
        "IPY_MODEL_8a079245fbbe4ddf920422f8deed31bb",
        "IPY_MODEL_5d2586944fee45ffa773e7d3ad5c2d02",
        "IPY_MODEL_3fb90a3282a44bb1b6810e5cba75ebc1"
       ],
       "layout": "IPY_MODEL_70d8d323e1e7445ea9fe3e32ee56bd7f"
      }
     },
     "38105898ff504547a93e80b47afac00d": {
      "model_module": "@jupyter-widgets/controls",
      "model_module_version": "1.4.0",
      "model_name": "DescriptionStyleModel",
      "state": {
       "description_width": ""
      }
     },
     "3867427d28c94cc5bb52fa78e2eae3e1": {
      "model_module": "@jupyter-widgets/base",
      "model_module_version": "1.1.0",
      "model_name": "LayoutModel",
      "state": {}
     },
     "3882f6bf357a4adab0cd5691b4c6c866": {
      "model_module": "@jupyter-widgets/base",
      "model_module_version": "1.1.0",
      "model_name": "LayoutModel",
      "state": {}
     },
     "395984fd869345c3adad0f2e04cc2f9d": {
      "model_module": "@jupyter-widgets/base",
      "model_module_version": "1.1.0",
      "model_name": "LayoutModel",
      "state": {}
     },
     "3967a131ab114f1d903a90585ec37c1b": {
      "model_module": "@jupyter-widgets/controls",
      "model_module_version": "1.4.0",
      "model_name": "FloatTextModel",
      "state": {
       "layout": "IPY_MODEL_8bfd28108db14cf7af63c45afb29a893",
       "step": null,
       "style": "IPY_MODEL_ffd9845674134373a41db40934c7be0d",
       "value": -0.5
      }
     },
     "3a5b38eedfc246fb8c78fd0753841d63": {
      "model_module": "@jupyter-widgets/base",
      "model_module_version": "1.1.0",
      "model_name": "LayoutModel",
      "state": {}
     },
     "3a65fbb08de74d909d5fd1814e6230ac": {
      "model_module": "@jupyter-widgets/base",
      "model_module_version": "1.1.0",
      "model_name": "LayoutModel",
      "state": {
       "width": "90px"
      }
     },
     "3a6b565f3ce4429b83a21e3d564ff894": {
      "model_module": "@jupyter-widgets/controls",
      "model_module_version": "1.4.0",
      "model_name": "DescriptionStyleModel",
      "state": {
       "description_width": ""
      }
     },
     "3a78eccc26a74ba981dce7448a66b11a": {
      "model_module": "@jupyter-widgets/base",
      "model_module_version": "1.1.0",
      "model_name": "LayoutModel",
      "state": {}
     },
     "3ac1014816f74fb1b52fa1463185a00e": {
      "model_module": "@jupyter-widgets/controls",
      "model_module_version": "1.4.0",
      "model_name": "DescriptionStyleModel",
      "state": {
       "description_width": ""
      }
     },
     "3ae048ad15b44938b8b8c0d5af7219e8": {
      "model_module": "@jupyter-widgets/controls",
      "model_module_version": "1.4.0",
      "model_name": "LabelModel",
      "state": {
       "layout": "IPY_MODEL_60cdc74037934e1eb900c2994a7fd6fa",
       "style": "IPY_MODEL_dc452b89802e4d66ab5371b81f4bb4a2"
      }
     },
     "3b285e8c99594a9d846cf082b34290f0": {
      "model_module": "@jupyter-widgets/base",
      "model_module_version": "1.1.0",
      "model_name": "LayoutModel",
      "state": {
       "width": "90px"
      }
     },
     "3b2defae62294f9bbd4aaf5e793002c0": {
      "model_module": "@jupyter-widgets/controls",
      "model_module_version": "1.4.0",
      "model_name": "ButtonStyleModel",
      "state": {}
     },
     "3b4c40f6dee64918a393d35056e0c706": {
      "model_module": "@jupyter-widgets/base",
      "model_module_version": "1.1.0",
      "model_name": "LayoutModel",
      "state": {}
     },
     "3b7b8cd8f40f46f7a6af377e08229a20": {
      "model_module": "@jupyter-widgets/base",
      "model_module_version": "1.1.0",
      "model_name": "LayoutModel",
      "state": {}
     },
     "3bcadc2f01354f5ebada7a948f377681": {
      "model_module": "@jupyter-widgets/controls",
      "model_module_version": "1.4.0",
      "model_name": "DescriptionStyleModel",
      "state": {
       "description_width": ""
      }
     },
     "3bf317625e154845b6a9f8e0b72e9040": {
      "model_module": "@jupyter-widgets/base",
      "model_module_version": "1.1.0",
      "model_name": "LayoutModel",
      "state": {}
     },
     "3c6b454038614f7698738e0b9ce8fec4": {
      "model_module": "@jupyter-widgets/base",
      "model_module_version": "1.1.0",
      "model_name": "LayoutModel",
      "state": {}
     },
     "3c7c916361f84919ace94112d0857e8d": {
      "model_module": "@jupyter-widgets/controls",
      "model_module_version": "1.4.0",
      "model_name": "FloatSliderModel",
      "state": {
       "continuous_update": false,
       "description": "$y_d$:",
       "layout": "IPY_MODEL_3e22cf6d526e4976852d76dee6c4afee",
       "max": 10,
       "readout_format": ".1f",
       "step": 0.1,
       "style": "IPY_MODEL_8ef057c6d9fc4db8b615a215a2b5a000",
       "value": 10
      }
     },
     "3ce4a805f8a54027b572fe652407fe63": {
      "model_module": "@jupyter-widgets/controls",
      "model_module_version": "1.4.0",
      "model_name": "DescriptionStyleModel",
      "state": {
       "description_width": ""
      }
     },
     "3d1b0136b7ff46baa784387eceafc392": {
      "model_module": "@jupyter-widgets/controls",
      "model_module_version": "1.4.0",
      "model_name": "DescriptionStyleModel",
      "state": {
       "description_width": ""
      }
     },
     "3d7b33626e8645189c174b708efd6e17": {
      "model_module": "@jupyter-widgets/base",
      "model_module_version": "1.1.0",
      "model_name": "LayoutModel",
      "state": {
       "width": "90px"
      }
     },
     "3d9418f5694c40a68a7dbd749231b227": {
      "model_module": "@jupyter-widgets/controls",
      "model_module_version": "1.4.0",
      "model_name": "HBoxModel",
      "state": {
       "children": [
        "IPY_MODEL_fa779ef2a19142449b6539ff5c0afb2a",
        "IPY_MODEL_d5286389e31f44d0a068455235d65e4f",
        "IPY_MODEL_7ffe130777e247649d8ed2b515a9ca8b",
        "IPY_MODEL_4a70bf95f528481b8ff74c3afd8143cc",
        "IPY_MODEL_7293c820e63d4fa5a06348c87ef770e1",
        "IPY_MODEL_c52b71d3ecdd45499b48a31dc291647b"
       ],
       "layout": "IPY_MODEL_c362d636f1984bdd87b4377f49a3dfad"
      }
     },
     "3dae996603af49d89a680674a3ee2aec": {
      "model_module": "@jupyter-widgets/base",
      "model_module_version": "1.1.0",
      "model_name": "LayoutModel",
      "state": {
       "width": "90px"
      }
     },
     "3de384452e1d48d09b464ccad972e82a": {
      "model_module": "@jupyter-widgets/controls",
      "model_module_version": "1.4.0",
      "model_name": "HBoxModel",
      "state": {
       "children": [
        "IPY_MODEL_481707a8f18e4ad6925355876653507c"
       ],
       "layout": "IPY_MODEL_b96be3625e894b758c148ca1a3566d8e"
      }
     },
     "3e22cf6d526e4976852d76dee6c4afee": {
      "model_module": "@jupyter-widgets/base",
      "model_module_version": "1.1.0",
      "model_name": "LayoutModel",
      "state": {}
     },
     "3e59c5655b3f41d1aaf0f24e30cdd54c": {
      "model_module": "@jupyter-widgets/base",
      "model_module_version": "1.1.0",
      "model_name": "LayoutModel",
      "state": {}
     },
     "3e64d9fd2e1746cea195f645cdd6949d": {
      "model_module": "@jupyter-widgets/controls",
      "model_module_version": "1.4.0",
      "model_name": "HBoxModel",
      "state": {
       "children": [
        "IPY_MODEL_5b85b3143bdd4151baf0b1b98839a627",
        "IPY_MODEL_2093b6224f914effb15b3638f1187eb6",
        "IPY_MODEL_5de9a778360a49198d5e6e1e23bc58d3",
        "IPY_MODEL_87deb80624884ebfa254f62114e25930",
        "IPY_MODEL_2cb9c1ebcf564a40a34b90a63d030464",
        "IPY_MODEL_d7419d00e6774ceb8dbccfc5cf652bfd",
        "IPY_MODEL_1244287ff9b84bed9a68f406b6271d4a",
        "IPY_MODEL_fe452383f5644078905bb160d1205007",
        "IPY_MODEL_bf60fd5a02a84f84b747fdca371c5248",
        "IPY_MODEL_5f6179517cf942c9a57020ef64c975a6",
        "IPY_MODEL_27bf1cd698f244de864097f2c1026f29"
       ],
       "layout": "IPY_MODEL_3f412669281442aaa4b98dd280741c00"
      }
     },
     "3e952182f68c4e9ab7e75f184898c9a2": {
      "model_module": "@jupyter-widgets/controls",
      "model_module_version": "1.4.0",
      "model_name": "DescriptionStyleModel",
      "state": {
       "description_width": ""
      }
     },
     "3f1ae226f21a4f758daa4a0993a2a3de": {
      "model_module": "@jupyter-widgets/controls",
      "model_module_version": "1.4.0",
      "model_name": "HBoxModel",
      "state": {
       "children": [
        "IPY_MODEL_008c5b54603f4375ad913b4e47b37a95",
        "IPY_MODEL_7a2c5d36b676498d86709b794261b2e5",
        "IPY_MODEL_3f8d6e010056475ba09296b2de5793c4",
        "IPY_MODEL_edb98a49aed04ce2b99d3a4898054f4d",
        "IPY_MODEL_aec6d0f1383e406296db3be22810ad9c",
        "IPY_MODEL_9e0c7264530f48d8a6e52208066546ff"
       ],
       "layout": "IPY_MODEL_34022ccc088d4f659df4623873bb8338"
      }
     },
     "3f412669281442aaa4b98dd280741c00": {
      "model_module": "@jupyter-widgets/base",
      "model_module_version": "1.1.0",
      "model_name": "LayoutModel",
      "state": {}
     },
     "3f8d6e010056475ba09296b2de5793c4": {
      "model_module": "@jupyter-widgets/controls",
      "model_module_version": "1.4.0",
      "model_name": "LabelModel",
      "state": {
       "layout": "IPY_MODEL_014b81ae692c4db1abb4de5ebe4c554c",
       "style": "IPY_MODEL_ac8c59c13a5f406eab4c4e5831aab8c5"
      }
     },
     "3fb718490de04afca4411b2acf4987e6": {
      "model_module": "@jupyter-widgets/base",
      "model_module_version": "1.1.0",
      "model_name": "LayoutModel",
      "state": {}
     },
     "3fb90a3282a44bb1b6810e5cba75ebc1": {
      "model_module": "@jupyter-widgets/controls",
      "model_module_version": "1.4.0",
      "model_name": "HBoxModel",
      "state": {
       "children": [
        "IPY_MODEL_0f26c8afca96402aa66b81bc451a3559",
        "IPY_MODEL_cd02878c94fa4261b5a2f0b343ac62bb",
        "IPY_MODEL_29a5ffd39c2f4cfbbb7189829553bcde",
        "IPY_MODEL_ebb77dc0261f4b568809a80141cc5e95",
        "IPY_MODEL_4b259b5b03184b90a070f5f191d66806"
       ],
       "layout": "IPY_MODEL_6a7a36202cba49eb8397c164b18c614b"
      }
     },
     "3fcf20770fa04a8f99220ecff57a919c": {
      "model_module": "@jupyter-widgets/controls",
      "model_module_version": "1.4.0",
      "model_name": "FloatTextModel",
      "state": {
       "layout": "IPY_MODEL_ed2d8c9e95644c48982990fdeaf43bbe",
       "step": null,
       "style": "IPY_MODEL_03aea743d5e74fc58ade7e8bd43412e5",
       "value": 2225
      }
     },
     "3fe63ac60ab64ded984e9abeeff7abf5": {
      "model_module": "@jupyter-widgets/controls",
      "model_module_version": "1.4.0",
      "model_name": "VBoxModel",
      "state": {
       "children": [
        "IPY_MODEL_1205db0490524afe8643ea75eac4d13f",
        "IPY_MODEL_f342b0e683a541f88af64b284dcd2a0f"
       ],
       "layout": "IPY_MODEL_0deef1dc66c5431fa7af43270cd27cbe"
      }
     },
     "3ff22a9f887a4c8fa9623d0ab0ef1724": {
      "model_module": "@jupyter-widgets/controls",
      "model_module_version": "1.4.0",
      "model_name": "DescriptionStyleModel",
      "state": {
       "description_width": ""
      }
     },
     "4022fdb8345a466281cb4fb4e0f5a38e": {
      "model_module": "@jupyter-widgets/controls",
      "model_module_version": "1.4.0",
      "model_name": "LabelModel",
      "state": {
       "layout": "IPY_MODEL_9556274e90b64a4bb51b8e1a2eb0462e",
       "style": "IPY_MODEL_e07f8d2fd0284db8ac22cb54ea409be1"
      }
     },
     "402c9bde36d74803b3e44a1d9d24a7bf": {
      "model_module": "@jupyter-widgets/controls",
      "model_module_version": "1.4.0",
      "model_name": "FloatTextModel",
      "state": {
       "disabled": true,
       "layout": "IPY_MODEL_1c3b4a0e02094103b9696eab44638dc6",
       "step": null,
       "style": "IPY_MODEL_78e89fda875349468498d5f62b2914a0",
       "value": -0.6
      }
     },
     "40791dfb3cc8474eb7d54e2189b6b60c": {
      "model_module": "@jupyter-widgets/base",
      "model_module_version": "1.1.0",
      "model_name": "LayoutModel",
      "state": {
       "width": "90px"
      }
     },
     "409aba40e57f41d5bb4f1379e4152d4e": {
      "model_module": "@jupyter-widgets/base",
      "model_module_version": "1.1.0",
      "model_name": "LayoutModel",
      "state": {}
     },
     "4112fde42af14183bbd1dc0f0588e5c3": {
      "model_module": "@jupyter-widgets/controls",
      "model_module_version": "1.4.0",
      "model_name": "DescriptionStyleModel",
      "state": {
       "description_width": ""
      }
     },
     "4115501ee8ec4fccaf278e05a7084396": {
      "model_module": "@jupyter-widgets/controls",
      "model_module_version": "1.4.0",
      "model_name": "HBoxModel",
      "state": {
       "children": [
        "IPY_MODEL_79f34c11930f44ef87434b7bbc4a62a2"
       ],
       "layout": "IPY_MODEL_25f2ec29d73b41f7a2dc273b04bff9ce"
      }
     },
     "414f93245d2d4a25887f5123fa09bf44": {
      "model_module": "@jupyter-widgets/controls",
      "model_module_version": "1.4.0",
      "model_name": "LabelModel",
      "state": {
       "layout": "IPY_MODEL_bcfa49fa72d34a4ea767dcb731e0630f",
       "style": "IPY_MODEL_cfac6a49ddc04836ab8776cb1d3b44a6",
       "value": "Aa's eigs:"
      }
     },
     "416b8f7b106846d0870026946b4f6b5a": {
      "model_module": "@jupyter-widgets/controls",
      "model_module_version": "1.4.0",
      "model_name": "DropdownModel",
      "state": {
       "_options_labels": [
        "0 complex eigenvalues",
        "2 complex eigenvalues"
       ],
       "description": "Aobs:",
       "disabled": true,
       "index": 0,
       "layout": "IPY_MODEL_77216fe31d084b58b18e146e8a6b8be1",
       "style": "IPY_MODEL_2d7547f1a371409793d7cc2e5f67d729"
      }
     },
     "417d4660c0684d73b14d876b04be9db0": {
      "model_module": "@jupyter-widgets/controls",
      "model_module_version": "1.4.0",
      "model_name": "LabelModel",
      "state": {
       "layout": "IPY_MODEL_5af2b1372db94701816de9d570d6af0d",
       "style": "IPY_MODEL_0c95743624f3406b94fdf24395f109ea",
       "value": "La:"
      }
     },
     "4255965f2e914f35bb60cb680011283c": {
      "model_module": "@jupyter-widgets/controls",
      "model_module_version": "1.4.0",
      "model_name": "DescriptionStyleModel",
      "state": {
       "description_width": ""
      }
     },
     "4270a3ab84d24c2a87739c20e2005d65": {
      "model_module": "@jupyter-widgets/base",
      "model_module_version": "1.1.0",
      "model_name": "LayoutModel",
      "state": {}
     },
     "4278af2ea2454105a0438aceb142c914": {
      "model_module": "@jupyter-widgets/controls",
      "model_module_version": "1.4.0",
      "model_name": "DescriptionStyleModel",
      "state": {
       "description_width": ""
      }
     },
     "427a705fa0bf44fca560fc285307c61f": {
      "model_module": "@jupyter-widgets/controls",
      "model_module_version": "1.4.0",
      "model_name": "LabelModel",
      "state": {
       "layout": "IPY_MODEL_31e2e456b00d48d490d2402eb557ec37",
       "style": "IPY_MODEL_375787cc30e24e26abe571c28c5b73b7"
      }
     },
     "4290b132dc4242809a5d43b88a892c72": {
      "model_module": "@jupyter-widgets/base",
      "model_module_version": "1.1.0",
      "model_name": "LayoutModel",
      "state": {}
     },
     "42984b879b2d416b85cd418d253039ed": {
      "model_module": "@jupyter-widgets/base",
      "model_module_version": "1.1.0",
      "model_name": "LayoutModel",
      "state": {}
     },
     "42a057f2f2d54c2580b4c3ae90d7ce09": {
      "model_module": "@jupyter-widgets/controls",
      "model_module_version": "1.4.0",
      "model_name": "LabelModel",
      "state": {
       "layout": "IPY_MODEL_4b53f46309d04356a1f1b6d49a909ef5",
       "style": "IPY_MODEL_8b87c03ea80e4a8496fef495518e5222"
      }
     },
     "42c5e51edfbf418ea107735f899209ac": {
      "model_module": "@jupyter-widgets/controls",
      "model_module_version": "1.4.0",
      "model_name": "HBoxModel",
      "state": {
       "children": [
        "IPY_MODEL_2b60f2474af2416cb1d242ccc4c6ddb3"
       ],
       "layout": "IPY_MODEL_ca355890e53a4b8bb1d0575dac3c1bfc"
      }
     },
     "43501d55a4fd47a6b16ef8b1b85e7d65": {
      "model_module": "@jupyter-widgets/base",
      "model_module_version": "1.1.0",
      "model_name": "LayoutModel",
      "state": {
       "width": "90px"
      }
     },
     "439dd39502fa4ee18378ac424aae7331": {
      "model_module": "@jupyter-widgets/controls",
      "model_module_version": "1.4.0",
      "model_name": "DescriptionStyleModel",
      "state": {
       "description_width": ""
      }
     },
     "43a0c9eb7bef445fa7bd7a3b3fc8b432": {
      "model_module": "@jupyter-widgets/base",
      "model_module_version": "1.1.0",
      "model_name": "LayoutModel",
      "state": {
       "width": "90px"
      }
     },
     "4490b6a17a204103a401af35e7fb2214": {
      "model_module": "@jupyter-widgets/controls",
      "model_module_version": "1.4.0",
      "model_name": "LabelModel",
      "state": {
       "layout": "IPY_MODEL_395984fd869345c3adad0f2e04cc2f9d",
       "style": "IPY_MODEL_1513832cf7b54c038400c36ff44ca0ef"
      }
     },
     "44ebb6efb3744575a1946cfd67255633": {
      "model_module": "@jupyter-widgets/controls",
      "model_module_version": "1.4.0",
      "model_name": "FloatTextModel",
      "state": {
       "layout": "IPY_MODEL_4cd17dd1a06d4b90ba7d4bbc88627449",
       "step": null,
       "style": "IPY_MODEL_3d1b0136b7ff46baa784387eceafc392"
      }
     },
     "45252723ac28472a970b95e3e6e933d5": {
      "model_module": "@jupyter-widgets/controls",
      "model_module_version": "1.4.0",
      "model_name": "DescriptionStyleModel",
      "state": {
       "description_width": ""
      }
     },
     "45c69bfc454c48e597a023be2fcf2369": {
      "model_module": "@jupyter-widgets/base",
      "model_module_version": "1.1.0",
      "model_name": "LayoutModel",
      "state": {}
     },
     "460300bb7cfb4e759ba669fd07f3b123": {
      "model_module": "@jupyter-widgets/base",
      "model_module_version": "1.1.0",
      "model_name": "LayoutModel",
      "state": {}
     },
     "461957a3da1741a79e15d991cb7034b3": {
      "model_module": "@jupyter-widgets/base",
      "model_module_version": "1.1.0",
      "model_name": "LayoutModel",
      "state": {
       "width": "90px"
      }
     },
     "472fafbcc5de4d8bbdea2c2f162640a3": {
      "model_module": "@jupyter-widgets/controls",
      "model_module_version": "1.4.0",
      "model_name": "LabelModel",
      "state": {
       "layout": "IPY_MODEL_4c9623fc7bca47c2936c988083e1ad51",
       "style": "IPY_MODEL_a35a317a47864a4bbdf20780013db7d8"
      }
     },
     "47598cf9791a4324b5119eb4da288b2f": {
      "model_module": "@jupyter-widgets/controls",
      "model_module_version": "1.4.0",
      "model_name": "DescriptionStyleModel",
      "state": {
       "description_width": ""
      }
     },
     "47aecddedfd64f07a36ec50b49227ec5": {
      "model_module": "@jupyter-widgets/base",
      "model_module_version": "1.1.0",
      "model_name": "LayoutModel",
      "state": {}
     },
     "480976956b5e49b29e0a8fb9ddc1311d": {
      "model_module": "@jupyter-widgets/base",
      "model_module_version": "1.1.0",
      "model_name": "LayoutModel",
      "state": {}
     },
     "481707a8f18e4ad6925355876653507c": {
      "model_module": "@jupyter-widgets/controls",
      "model_module_version": "1.4.0",
      "model_name": "FloatTextModel",
      "state": {
       "layout": "IPY_MODEL_43a0c9eb7bef445fa7bd7a3b3fc8b432",
       "step": null,
       "style": "IPY_MODEL_a428fbacff1a4a828a289047af365d41",
       "value": -10
      }
     },
     "4896fb1125f843749d6859f7cbe31ce0": {
      "model_module": "@jupyter-widgets/base",
      "model_module_version": "1.1.0",
      "model_name": "LayoutModel",
      "state": {}
     },
     "491cd4b112cf45e3aba71d0563e0768d": {
      "model_module": "@jupyter-widgets/base",
      "model_module_version": "1.1.0",
      "model_name": "LayoutModel",
      "state": {}
     },
     "4938fabbd6f84e558cdf38f0d008750d": {
      "model_module": "@jupyter-widgets/controls",
      "model_module_version": "1.4.0",
      "model_name": "FloatTextModel",
      "state": {
       "layout": "IPY_MODEL_cf7241c197e44ea78648dd7ece9cf032",
       "step": null,
       "style": "IPY_MODEL_f8067f8c672e4164a2165c0319b30ee6"
      }
     },
     "49bb0a8604b14c99a08b92915c5fc8d4": {
      "model_module": "@jupyter-widgets/base",
      "model_module_version": "1.1.0",
      "model_name": "LayoutModel",
      "state": {}
     },
     "4a170c180505407b9ea430c1cd492f2c": {
      "model_module": "@jupyter-widgets/base",
      "model_module_version": "1.1.0",
      "model_name": "LayoutModel",
      "state": {
       "width": "90px"
      }
     },
     "4a54fbb8de4440d9b0e3819d4cf15310": {
      "model_module": "@jupyter-widgets/controls",
      "model_module_version": "1.4.0",
      "model_name": "FloatTextModel",
      "state": {
       "layout": "IPY_MODEL_5a0c6b92ed2c43edb23183d8dacce8ff",
       "step": null,
       "style": "IPY_MODEL_1813f2fd50cb46aa9b888f8b5f8af0b2"
      }
     },
     "4a70bf95f528481b8ff74c3afd8143cc": {
      "model_module": "@jupyter-widgets/controls",
      "model_module_version": "1.4.0",
      "model_name": "LabelModel",
      "state": {
       "layout": "IPY_MODEL_64201b9e59164194b1346370c1c83cd4",
       "style": "IPY_MODEL_7bcae1bb58ed4f80aad0ed229811dd6f"
      }
     },
     "4b0f91c2788d4bc5b8ba3927f6b2b871": {
      "model_module": "@jupyter-widgets/controls",
      "model_module_version": "1.4.0",
      "model_name": "DropdownModel",
      "state": {
       "_options_labels": [
        "Set Ka and La",
        "Set the eigenvalues"
       ],
       "index": 0,
       "layout": "IPY_MODEL_13b8b4e1c72d4263a37e6d0db2857f38",
       "style": "IPY_MODEL_1499b17a4da64101a9270bd56fcd4356"
      }
     },
     "4b259b5b03184b90a070f5f191d66806": {
      "model_module": "@jupyter-widgets/controls",
      "model_module_version": "1.4.0",
      "model_name": "ButtonModel",
      "state": {
       "description": "Test",
       "icon": "check",
       "layout": "IPY_MODEL_fe99c96f7d5a47c689cfa08b35724327",
       "style": "IPY_MODEL_4cbc98ef5e9744df9a5215ea6d5c5a92",
       "tooltip": "Test"
      }
     },
     "4b53f46309d04356a1f1b6d49a909ef5": {
      "model_module": "@jupyter-widgets/base",
      "model_module_version": "1.1.0",
      "model_name": "LayoutModel",
      "state": {}
     },
     "4b6ed1f5b4e8433a9a93b2f387086660": {
      "model_module": "@jupyter-widgets/controls",
      "model_module_version": "1.4.0",
      "model_name": "HBoxModel",
      "state": {
       "children": [
        "IPY_MODEL_9d2107f7a8294bb5a1e31ad3096c399e",
        "IPY_MODEL_826635bf7c224e2fa9e2222e72dbf5a4",
        "IPY_MODEL_4def2e9f87e44960a0c9ad77a3d7dd0f"
       ],
       "layout": "IPY_MODEL_ff23ed97b5014a51ac0d66101e37cbb1"
      }
     },
     "4b7fe40ee3a5498084895bbb1dede424": {
      "model_module": "@jupyter-widgets/base",
      "model_module_version": "1.1.0",
      "model_name": "LayoutModel",
      "state": {
       "width": "90px"
      }
     },
     "4bdfb3011517401eace9dacb974b719c": {
      "model_module": "@jupyter-widgets/controls",
      "model_module_version": "1.4.0",
      "model_name": "DescriptionStyleModel",
      "state": {
       "description_width": ""
      }
     },
     "4c2c1962f1e24a4ead7d36ae79cc2236": {
      "model_module": "@jupyter-widgets/controls",
      "model_module_version": "1.4.0",
      "model_name": "DescriptionStyleModel",
      "state": {
       "description_width": ""
      }
     },
     "4c44c42077ed435898d338ddb0ba0436": {
      "model_module": "@jupyter-widgets/controls",
      "model_module_version": "1.4.0",
      "model_name": "DescriptionStyleModel",
      "state": {
       "description_width": ""
      }
     },
     "4c4a53b62fd44b28b1cce41d159b39bf": {
      "model_module": "@jupyter-widgets/base",
      "model_module_version": "1.1.0",
      "model_name": "LayoutModel",
      "state": {}
     },
     "4c88f970164e400a9fdb30163e7153f1": {
      "model_module": "@jupyter-widgets/controls",
      "model_module_version": "1.4.0",
      "model_name": "DescriptionStyleModel",
      "state": {
       "description_width": ""
      }
     },
     "4c8e37c41a2d416a8c037d763d6ba024": {
      "model_module": "@jupyter-widgets/controls",
      "model_module_version": "1.4.0",
      "model_name": "VBoxModel",
      "state": {
       "children": [
        "IPY_MODEL_ee6a33ca9388418faed0c5e29b4b9ad3"
       ],
       "layout": "IPY_MODEL_01bcc377646640c7a87abaf47a341335"
      }
     },
     "4c9623fc7bca47c2936c988083e1ad51": {
      "model_module": "@jupyter-widgets/base",
      "model_module_version": "1.1.0",
      "model_name": "LayoutModel",
      "state": {}
     },
     "4cb46cd0fbe245c188dd480c40e5a1d1": {
      "model_module": "@jupyter-widgets/base",
      "model_module_version": "1.1.0",
      "model_name": "LayoutModel",
      "state": {}
     },
     "4cbc98ef5e9744df9a5215ea6d5c5a92": {
      "model_module": "@jupyter-widgets/controls",
      "model_module_version": "1.4.0",
      "model_name": "ButtonStyleModel",
      "state": {}
     },
     "4cd17dd1a06d4b90ba7d4bbc88627449": {
      "model_module": "@jupyter-widgets/base",
      "model_module_version": "1.1.0",
      "model_name": "LayoutModel",
      "state": {
       "height": "0px",
       "width": "0px"
      }
     },
     "4d2f31be201045a6af6ff6ed5f2d6c7d": {
      "model_module": "@jupyter-widgets/controls",
      "model_module_version": "1.4.0",
      "model_name": "VBoxModel",
      "state": {
       "children": [
        "IPY_MODEL_d29d0b24a5734139942bdffc549f83e2",
        "IPY_MODEL_f86a60dda4fc42509dc33d6808857b59"
       ],
       "layout": "IPY_MODEL_bd94108b305f407c92c6883909612aa9"
      }
     },
     "4d59d06b755e49e1ac0c6d996a44da1e": {
      "model_module": "@jupyter-widgets/base",
      "model_module_version": "1.1.0",
      "model_name": "LayoutModel",
      "state": {}
     },
     "4ddaa11b8783416d8518d303745b09a7": {
      "model_module": "@jupyter-widgets/controls",
      "model_module_version": "1.4.0",
      "model_name": "LabelModel",
      "state": {
       "layout": "IPY_MODEL_9adf73266e5b41fca5ffa68f3c06d757",
       "style": "IPY_MODEL_8cd3e95c3acf4bdab4dfdc7205fe8fde"
      }
     },
     "4def2e9f87e44960a0c9ad77a3d7dd0f": {
      "model_module": "@jupyter-widgets/controls",
      "model_module_version": "1.4.0",
      "model_name": "DropdownModel",
      "state": {
       "_options_labels": [
        "0 complex eigenvalues",
        "2 complex eigenvalues"
       ],
       "description": "Aobs:",
       "disabled": true,
       "index": 0,
       "layout": "IPY_MODEL_a3e62160c9b54b1d8127e609d6602571",
       "style": "IPY_MODEL_cf52400e360c4a298036c4d771b8ae29"
      }
     },
     "4e069a3035154c4d8c0a47e5fe1f3b9b": {
      "model_module": "@jupyter-widgets/base",
      "model_module_version": "1.1.0",
      "model_name": "LayoutModel",
      "state": {}
     },
     "4e55b368a6894071936164175298b092": {
      "model_module": "@jupyter-widgets/base",
      "model_module_version": "1.1.0",
      "model_name": "LayoutModel",
      "state": {}
     },
     "4e67dcb5f4e6455f952604f8193dbae0": {
      "model_module": "@jupyter-widgets/base",
      "model_module_version": "1.1.0",
      "model_name": "LayoutModel",
      "state": {}
     },
     "4e79a7019f0e46f1b434fef2c9d752a4": {
      "model_module": "@jupyter-widgets/base",
      "model_module_version": "1.1.0",
      "model_name": "LayoutModel",
      "state": {
       "width": "90px"
      }
     },
     "4ec30f2860a74ef0a6f495243611dd88": {
      "model_module": "@jupyter-widgets/base",
      "model_module_version": "1.1.0",
      "model_name": "LayoutModel",
      "state": {}
     },
     "4ef500d8895b4bd3a5e040da5cad74a7": {
      "model_module": "@jupyter-widgets/controls",
      "model_module_version": "1.4.0",
      "model_name": "DescriptionStyleModel",
      "state": {
       "description_width": ""
      }
     },
     "4efaeb6c9bf841bfaef134c3c3b36e90": {
      "model_module": "@jupyter-widgets/base",
      "model_module_version": "1.1.0",
      "model_name": "LayoutModel",
      "state": {}
     },
     "4f1921a9f6484511a8d14907d72e0e23": {
      "model_module": "@jupyter-widgets/base",
      "model_module_version": "1.1.0",
      "model_name": "LayoutModel",
      "state": {}
     },
     "4f37e4abf7044e669b4f94075743f4dc": {
      "model_module": "@jupyter-widgets/controls",
      "model_module_version": "1.4.0",
      "model_name": "LabelModel",
      "state": {
       "layout": "IPY_MODEL_f9982efc85a34595ba056a20e5f29111",
       "style": "IPY_MODEL_cb3ccf44448e4da3abbc0bb88947e975"
      }
     },
     "4f760a5b774c4487878113061d5224d7": {
      "model_module": "@jupyter-widgets/base",
      "model_module_version": "1.1.0",
      "model_name": "LayoutModel",
      "state": {}
     },
     "4fb69747e2b94cc39379030795002c6b": {
      "model_module": "@jupyter-widgets/controls",
      "model_module_version": "1.4.0",
      "model_name": "DropdownModel",
      "state": {
       "_options_labels": [
        "Set Ka and La",
        "Set the eigenvalues"
       ],
       "index": 0,
       "layout": "IPY_MODEL_ada0e8828ac343df9e9760d6df6d9714",
       "style": "IPY_MODEL_c3862d402b5e4ae38fd7d2f0b2414ef0"
      }
     },
     "50979c39461b47e8bc2fd3cbcdd20729": {
      "model_module": "@jupyter-widgets/base",
      "model_module_version": "1.1.0",
      "model_name": "LayoutModel",
      "state": {}
     },
     "50b250cd0c344a809899fa9c03f47e6c": {
      "model_module": "@jupyter-widgets/base",
      "model_module_version": "1.1.0",
      "model_name": "LayoutModel",
      "state": {}
     },
     "50da8e9b3fe449d8bd0f82c813a0d190": {
      "model_module": "@jupyter-widgets/controls",
      "model_module_version": "1.4.0",
      "model_name": "HBoxModel",
      "state": {
       "children": [
        "IPY_MODEL_dd34ed0f11bf4739983f6875ef0c9382",
        "IPY_MODEL_6d68637432684016b0727f506afe0df5",
        "IPY_MODEL_f01b454caf0243f89fac5809d26d4cf2",
        "IPY_MODEL_3fe63ac60ab64ded984e9abeeff7abf5",
        "IPY_MODEL_317ee220faa84115bad387393653c51c",
        "IPY_MODEL_587e0f7d832d4ecc866fb0f39ea9d990",
        "IPY_MODEL_6f5919fe2a494d8092c2b109d3cb8dff",
        "IPY_MODEL_8011100f6a6b4ddc9ecbb972b727eaf7",
        "IPY_MODEL_b2d05cd7284844c9a283bfeaa163772d",
        "IPY_MODEL_a3c2a24a94aa456cbd6779a86c1f06ad",
        "IPY_MODEL_25be128dd26d4cd298247bbbc5bbe06a"
       ],
       "layout": "IPY_MODEL_dbb050e8d85846bf845411834a32a4c5"
      }
     },
     "5110c78f84674366b27efb186b131882": {
      "model_module": "@jupyter-widgets/controls",
      "model_module_version": "1.4.0",
      "model_name": "DescriptionStyleModel",
      "state": {
       "description_width": ""
      }
     },
     "518df1a391454a7b9ae94325ff2cd3b0": {
      "model_module": "@jupyter-widgets/base",
      "model_module_version": "1.1.0",
      "model_name": "LayoutModel",
      "state": {}
     },
     "51c5d8276bd747b39c3117b7fe0d1529": {
      "model_module": "@jupyter-widgets/base",
      "model_module_version": "1.1.0",
      "model_name": "LayoutModel",
      "state": {}
     },
     "5232c359d050473bbaf3e0e85f18eeb0": {
      "model_module": "@jupyter-widgets/controls",
      "model_module_version": "1.4.0",
      "model_name": "DescriptionStyleModel",
      "state": {
       "description_width": ""
      }
     },
     "5241a01ecea844bb9b680efbd89455ae": {
      "model_module": "@jupyter-widgets/controls",
      "model_module_version": "1.4.0",
      "model_name": "VBoxModel",
      "state": {
       "children": [
        "IPY_MODEL_f3e6fb5eb49042e08cb1f9909bc388ea",
        "IPY_MODEL_168bc40c3b9245fb833055cc8b0cf9d8",
        "IPY_MODEL_fa694349488843568882bce05ddefe64",
        "IPY_MODEL_543a7c0c9f434b2da64bf57122e7c4b5",
        "IPY_MODEL_ac58d08f3ce54afa8fe5fd6c045ae5af",
        "IPY_MODEL_94d262c9132f4dee8a1ebacba7959d25",
        "IPY_MODEL_5497c799c8b04c7bb967ac6f9b66af23"
       ],
       "layout": "IPY_MODEL_3a78eccc26a74ba981dce7448a66b11a"
      }
     },
     "524e523ee79e43c987c381c69c9afe85": {
      "model_module": "@jupyter-widgets/controls",
      "model_module_version": "1.4.0",
      "model_name": "DescriptionStyleModel",
      "state": {
       "description_width": ""
      }
     },
     "52536282f3184f26aed9ccb231e684c9": {
      "model_module": "@jupyter-widgets/base",
      "model_module_version": "1.1.0",
      "model_name": "LayoutModel",
      "state": {}
     },
     "526b7fddb1074a07a22a2925248f71e7": {
      "model_module": "@jupyter-widgets/controls",
      "model_module_version": "1.4.0",
      "model_name": "FloatTextModel",
      "state": {
       "layout": "IPY_MODEL_e6f9740ecb9c4b1e890dc2e32b0d34a7",
       "step": null,
       "style": "IPY_MODEL_0887c7cb985246f0bd413b295949e2d4"
      }
     },
     "52acf9658bbb43a0bb470d183fef21f7": {
      "model_module": "@jupyter-widgets/base",
      "model_module_version": "1.1.0",
      "model_name": "LayoutModel",
      "state": {}
     },
     "52d2c84751bb4e7cba68bcd9a091bba1": {
      "model_module": "@jupyter-widgets/base",
      "model_module_version": "1.1.0",
      "model_name": "LayoutModel",
      "state": {}
     },
     "5393a1ec3e0d47feb72f398a7cfa584e": {
      "model_module": "@jupyter-widgets/controls",
      "model_module_version": "1.4.0",
      "model_name": "ButtonModel",
      "state": {
       "description": "Test",
       "icon": "check",
       "layout": "IPY_MODEL_0dc42ed578324e9698fd4ff6083ef49b",
       "style": "IPY_MODEL_f9efcf465553492696c39a2edafe44fc",
       "tooltip": "Test"
      }
     },
     "53d173abcf8b4242ab7d38a319621de6": {
      "model_module": "@jupyter-widgets/base",
      "model_module_version": "1.1.0",
      "model_name": "LayoutModel",
      "state": {}
     },
     "5433f855b1e144bd9f99ee35a93dddd2": {
      "model_module": "@jupyter-widgets/controls",
      "model_module_version": "1.4.0",
      "model_name": "LabelModel",
      "state": {
       "layout": "IPY_MODEL_c6c48010219b4fb3bd1099d57920ba98",
       "style": "IPY_MODEL_690061d224354464bbf9acac7d551e8b",
       "value": "La:"
      }
     },
     "543a7c0c9f434b2da64bf57122e7c4b5": {
      "model_module": "@jupyter-widgets/controls",
      "model_module_version": "1.4.0",
      "model_name": "LabelModel",
      "state": {
       "layout": "IPY_MODEL_8d93505090b24b7392dd19fdafe1ebb7",
       "style": "IPY_MODEL_967ea0cea3b44232b483737bad238961"
      }
     },
     "5480124c50004a86b7b7cb590e0ac139": {
      "model_module": "@jupyter-widgets/base",
      "model_module_version": "1.1.0",
      "model_name": "LayoutModel",
      "state": {}
     },
     "5497c799c8b04c7bb967ac6f9b66af23": {
      "model_module": "@jupyter-widgets/controls",
      "model_module_version": "1.4.0",
      "model_name": "HBoxModel",
      "state": {
       "children": [
        "IPY_MODEL_0f26c8afca96402aa66b81bc451a3559",
        "IPY_MODEL_ab5d1f7943974b4ea254b5b26a1c85d8",
        "IPY_MODEL_072696cc4bea46d4b484be7695a09054",
        "IPY_MODEL_a9c2a999751c47b590d4150abf7bbb56",
        "IPY_MODEL_644ddd72b7234e6c90b95fcc50538cd5"
       ],
       "layout": "IPY_MODEL_ef440a7110ee47b08f272167ab804708"
      }
     },
     "54a95624e0a04f319da0e5b1221e8e55": {
      "model_module": "@jupyter-widgets/controls",
      "model_module_version": "1.4.0",
      "model_name": "DescriptionStyleModel",
      "state": {
       "description_width": ""
      }
     },
     "54be1d26068e4711a23c153183b65073": {
      "model_module": "@jupyter-widgets/controls",
      "model_module_version": "1.4.0",
      "model_name": "DescriptionStyleModel",
      "state": {
       "description_width": ""
      }
     },
     "554aed59f6334683b982c0431b17c297": {
      "model_module": "@jupyter-widgets/controls",
      "model_module_version": "1.4.0",
      "model_name": "FloatTextModel",
      "state": {
       "layout": "IPY_MODEL_5c1a1250913f409c967bf3e7477a6c22",
       "step": null,
       "style": "IPY_MODEL_1847186fe1ec42328cf7cbcf68a6b4db"
      }
     },
     "5555dc11b3b349c3afd005027d05a68b": {
      "model_module": "@jupyter-widgets/controls",
      "model_module_version": "1.4.0",
      "model_name": "LabelModel",
      "state": {
       "layout": "IPY_MODEL_d636b43c569f4fd99bb74ab2d8a9ca71",
       "style": "IPY_MODEL_3ce4a805f8a54027b572fe652407fe63"
      }
     },
     "555f1c8fd1be494ba25714e40361ee35": {
      "model_module": "@jupyter-widgets/controls",
      "model_module_version": "1.4.0",
      "model_name": "LabelModel",
      "state": {
       "layout": "IPY_MODEL_09c1c777399449b3a0a0b485453ab341",
       "style": "IPY_MODEL_febb6c29d5cb4d519b06da40a32c101c"
      }
     },
     "565da34ae18a4fc786b756dafbc04788": {
      "model_module": "@jupyter-widgets/controls",
      "model_module_version": "1.4.0",
      "model_name": "DescriptionStyleModel",
      "state": {
       "description_width": ""
      }
     },
     "56d0ad94a1ab41bf9b1226b301dc34c5": {
      "model_module": "@jupyter-widgets/controls",
      "model_module_version": "1.4.0",
      "model_name": "DescriptionStyleModel",
      "state": {
       "description_width": ""
      }
     },
     "5726c2125b484b7b9f531b64aad3748a": {
      "model_module": "@jupyter-widgets/base",
      "model_module_version": "1.1.0",
      "model_name": "LayoutModel",
      "state": {
       "width": "90px"
      }
     },
     "577aaa8c389e41888c3f64239f36e562": {
      "model_module": "@jupyter-widgets/controls",
      "model_module_version": "1.4.0",
      "model_name": "HBoxModel",
      "state": {
       "children": [
        "IPY_MODEL_6011560492ab4e37a4c7bf6ef2fe9c23",
        "IPY_MODEL_7f7d8c159bdc42c3aeffdc050655131b",
        "IPY_MODEL_9f2b0ec4d4034ae3ad81a74617b85dd9"
       ],
       "layout": "IPY_MODEL_c1df267ba8884d4089f041f8885d57a9"
      }
     },
     "57f647ac81c04c9e8d05a298607c024c": {
      "model_module": "@jupyter-widgets/controls",
      "model_module_version": "1.4.0",
      "model_name": "LabelModel",
      "state": {
       "layout": "IPY_MODEL_c83210e37cf143c6a1e10c38173aaf36",
       "style": "IPY_MODEL_2b099bf547704ef4a5d5b71337dae026"
      }
     },
     "580f187efa7642398bec0a2ae1ea2954": {
      "model_module": "@jupyter-widgets/base",
      "model_module_version": "1.1.0",
      "model_name": "LayoutModel",
      "state": {
       "width": "90px"
      }
     },
     "587e0f7d832d4ecc866fb0f39ea9d990": {
      "model_module": "@jupyter-widgets/controls",
      "model_module_version": "1.4.0",
      "model_name": "VBoxModel",
      "state": {
       "children": [
        "IPY_MODEL_a5628dd710ed40f0836562eea9957797"
       ],
       "layout": "IPY_MODEL_d602a0f11576447b8ef3d438d93728df"
      }
     },
     "58a2970073704e67a4a30380a7830767": {
      "model_module": "@jupyter-widgets/base",
      "model_module_version": "1.1.0",
      "model_name": "LayoutModel",
      "state": {}
     },
     "58dabb22e34a44d890df2e51d5b9a651": {
      "model_module": "@jupyter-widgets/controls",
      "model_module_version": "1.4.0",
      "model_name": "LabelModel",
      "state": {
       "layout": "IPY_MODEL_865c7e9a6659400080d4e6b55eadd65c",
       "style": "IPY_MODEL_21959bf2c265467dbf5cac2aaf1816e0"
      }
     },
     "59ebaba388dc4577ada44ad233f34d00": {
      "model_module": "@jupyter-widgets/base",
      "model_module_version": "1.1.0",
      "model_name": "LayoutModel",
      "state": {}
     },
     "59ec2c46649641599ebed481a8758b4f": {
      "model_module": "@jupyter-widgets/controls",
      "model_module_version": "1.4.0",
      "model_name": "LabelModel",
      "state": {
       "layout": "IPY_MODEL_1df123d7b60c4f70bfaa95a3a98028b2",
       "style": "IPY_MODEL_996a0fc2c31d488089176d41d8206f99"
      }
     },
     "59fa07d6295e403fb187b29b6a589349": {
      "model_module": "@jupyter-widgets/controls",
      "model_module_version": "1.4.0",
      "model_name": "DescriptionStyleModel",
      "state": {
       "description_width": ""
      }
     },
     "5a0c6b92ed2c43edb23183d8dacce8ff": {
      "model_module": "@jupyter-widgets/base",
      "model_module_version": "1.1.0",
      "model_name": "LayoutModel",
      "state": {
       "height": "0px",
       "width": "0px"
      }
     },
     "5a490e92a1344cf0abc18bf0425bbb92": {
      "model_module": "@jupyter-widgets/controls",
      "model_module_version": "1.4.0",
      "model_name": "DescriptionStyleModel",
      "state": {
       "description_width": ""
      }
     },
     "5a867080f23547f5ba9fce9c078589d9": {
      "model_module": "@jupyter-widgets/controls",
      "model_module_version": "1.4.0",
      "model_name": "DescriptionStyleModel",
      "state": {
       "description_width": ""
      }
     },
     "5af2b1372db94701816de9d570d6af0d": {
      "model_module": "@jupyter-widgets/base",
      "model_module_version": "1.1.0",
      "model_name": "LayoutModel",
      "state": {}
     },
     "5b2fc3f1aef246b3b6b674a954b252c7": {
      "model_module": "@jupyter-widgets/controls",
      "model_module_version": "1.4.0",
      "model_name": "ButtonStyleModel",
      "state": {}
     },
     "5b395b3d7f904213b837ead1c36a16d9": {
      "model_module": "@jupyter-widgets/controls",
      "model_module_version": "1.4.0",
      "model_name": "DropdownModel",
      "state": {
       "_options_labels": [
        "0 complex eigenvalues",
        "2 complex eigenvalues"
       ],
       "description": "Aobs:",
       "disabled": true,
       "index": 0,
       "layout": "IPY_MODEL_4e67dcb5f4e6455f952604f8193dbae0",
       "style": "IPY_MODEL_7ee747b400ad462e8ac9835d6e19339a"
      }
     },
     "5b85b3143bdd4151baf0b1b98839a627": {
      "model_module": "@jupyter-widgets/controls",
      "model_module_version": "1.4.0",
      "model_name": "LabelModel",
      "state": {
       "layout": "IPY_MODEL_4efaeb6c9bf841bfaef134c3c3b36e90",
       "style": "IPY_MODEL_17cebb2684274838bfed4999e9fbd809",
       "value": "Aa's eigs:"
      }
     },
     "5bb3813b66d04d2e8d925c77a06ea469": {
      "model_module": "@jupyter-widgets/base",
      "model_module_version": "1.1.0",
      "model_name": "LayoutModel",
      "state": {}
     },
     "5c1a1250913f409c967bf3e7477a6c22": {
      "model_module": "@jupyter-widgets/base",
      "model_module_version": "1.1.0",
      "model_name": "LayoutModel",
      "state": {
       "width": "90px"
      }
     },
     "5c81d6ad649d4942907fecd01757d79a": {
      "model_module": "@jupyter-widgets/controls",
      "model_module_version": "1.4.0",
      "model_name": "LabelModel",
      "state": {
       "layout": "IPY_MODEL_6f3325c696374e7ba2fefe95a423c990",
       "style": "IPY_MODEL_c422d11f60d5455bae304a583648d393"
      }
     },
     "5ca9d6cfbf1e4f5a95615e0dba52d25b": {
      "model_module": "@jupyter-widgets/controls",
      "model_module_version": "1.4.0",
      "model_name": "FloatTextModel",
      "state": {
       "layout": "IPY_MODEL_fe865e4851b4495a95e3dc2cc31cfaa9",
       "step": null,
       "style": "IPY_MODEL_5e00d94431b1401bba0ff47010421a7a",
       "value": 13861
      }
     },
     "5cf0c5c499384c6f96f84a0eae53b53c": {
      "model_module": "@jupyter-widgets/base",
      "model_module_version": "1.1.0",
      "model_name": "LayoutModel",
      "state": {
       "width": "90px"
      }
     },
     "5d2586944fee45ffa773e7d3ad5c2d02": {
      "model_module": "@jupyter-widgets/controls",
      "model_module_version": "1.4.0",
      "model_name": "LabelModel",
      "state": {
       "layout": "IPY_MODEL_f9e272cddc0d46a8b29b88bc2031a7b6",
       "style": "IPY_MODEL_0e00eb2261824321ba3db263816e459b"
      }
     },
     "5d4ef33cadc94f08ace19b791efefc1e": {
      "model_module": "@jupyter-widgets/base",
      "model_module_version": "1.1.0",
      "model_name": "LayoutModel",
      "state": {}
     },
     "5d6ef847aa5b48c8a1d6f71e115505d6": {
      "model_module": "@jupyter-widgets/base",
      "model_module_version": "1.1.0",
      "model_name": "LayoutModel",
      "state": {}
     },
     "5de9a778360a49198d5e6e1e23bc58d3": {
      "model_module": "@jupyter-widgets/controls",
      "model_module_version": "1.4.0",
      "model_name": "VBoxModel",
      "state": {
       "children": [
        "IPY_MODEL_7de4c30003744cce8d20d24d1bf5bb23",
        "IPY_MODEL_882808f04e1648329b3ae5a769379755"
       ],
       "layout": "IPY_MODEL_22d7fc6100c34ec68f93bd5a4fa77bce"
      }
     },
     "5e00d94431b1401bba0ff47010421a7a": {
      "model_module": "@jupyter-widgets/controls",
      "model_module_version": "1.4.0",
      "model_name": "DescriptionStyleModel",
      "state": {
       "description_width": ""
      }
     },
     "5e19f43ea55f42219de81bad36116894": {
      "model_module": "@jupyter-widgets/controls",
      "model_module_version": "1.4.0",
      "model_name": "DescriptionStyleModel",
      "state": {
       "description_width": ""
      }
     },
     "5e5ca3c81ee24215909e7e2b23040bdd": {
      "model_module": "@jupyter-widgets/base",
      "model_module_version": "1.1.0",
      "model_name": "LayoutModel",
      "state": {}
     },
     "5e837cafb6a844dd926b00ccdd43440d": {
      "model_module": "@jupyter-widgets/base",
      "model_module_version": "1.1.0",
      "model_name": "LayoutModel",
      "state": {}
     },
     "5e9531f6af9b44a5acb5ee578ef622a0": {
      "model_module": "@jupyter-widgets/controls",
      "model_module_version": "1.4.0",
      "model_name": "DescriptionStyleModel",
      "state": {
       "description_width": ""
      }
     },
     "5e97027777614640b556526766aab474": {
      "model_module": "@jupyter-widgets/controls",
      "model_module_version": "1.4.0",
      "model_name": "DescriptionStyleModel",
      "state": {
       "description_width": ""
      }
     },
     "5f4fd9d6e5fc4790959289c680e862cf": {
      "model_module": "@jupyter-widgets/controls",
      "model_module_version": "1.4.0",
      "model_name": "LabelModel",
      "state": {
       "layout": "IPY_MODEL_3233aafe18be46e7a62f972550b668ba",
       "style": "IPY_MODEL_cb9817ceda68404cbe65210d6c0e84ad",
       "value": "Aa's eigs:"
      }
     },
     "5f6179517cf942c9a57020ef64c975a6": {
      "model_module": "@jupyter-widgets/controls",
      "model_module_version": "1.4.0",
      "model_name": "VBoxModel",
      "state": {
       "children": [
        "IPY_MODEL_0a176961dc994c7d85ace2bb0be6e5fc"
       ],
       "layout": "IPY_MODEL_2f9198fbd0b341cf8d4432260b3fa514"
      }
     },
     "5fd329d9eb304ad5a6bce400ae2719bd": {
      "model_module": "@jupyter-widgets/base",
      "model_module_version": "1.1.0",
      "model_name": "LayoutModel",
      "state": {}
     },
     "6011560492ab4e37a4c7bf6ef2fe9c23": {
      "model_module": "@jupyter-widgets/controls",
      "model_module_version": "1.4.0",
      "model_name": "FloatTextModel",
      "state": {
       "layout": "IPY_MODEL_caa6f261eca948c6b258eef4da69c2e3",
       "step": null,
       "style": "IPY_MODEL_565da34ae18a4fc786b756dafbc04788"
      }
     },
     "602f92a285884868bacf7120c085d472": {
      "model_module": "@jupyter-widgets/controls",
      "model_module_version": "1.4.0",
      "model_name": "DescriptionStyleModel",
      "state": {
       "description_width": ""
      }
     },
     "60b41869c40d4bd39090be64275ae341": {
      "model_module": "@jupyter-widgets/base",
      "model_module_version": "1.1.0",
      "model_name": "LayoutModel",
      "state": {}
     },
     "60cdc74037934e1eb900c2994a7fd6fa": {
      "model_module": "@jupyter-widgets/base",
      "model_module_version": "1.1.0",
      "model_name": "LayoutModel",
      "state": {}
     },
     "6157e5ac18a04380bfcdf3e5360c1f10": {
      "model_module": "@jupyter-widgets/controls",
      "model_module_version": "1.4.0",
      "model_name": "FloatTextModel",
      "state": {
       "disabled": true,
       "layout": "IPY_MODEL_4e79a7019f0e46f1b434fef2c9d752a4",
       "step": null,
       "style": "IPY_MODEL_74043b22bf0a41998bb66498b4bef156",
       "value": -0.6
      }
     },
     "61c6a8a15add4ded9fd4e987a755ab38": {
      "model_module": "@jupyter-widgets/controls",
      "model_module_version": "1.4.0",
      "model_name": "HBoxModel",
      "state": {
       "children": [
        "IPY_MODEL_4b0f91c2788d4bc5b8ba3927f6b2b871",
        "IPY_MODEL_9c5f455366254c98bcb2a632ba62746f",
        "IPY_MODEL_99e3340dccac4f1a9ed489a4bb4d53b8"
       ],
       "layout": "IPY_MODEL_7a5bb58e5cf945d5883300d227b2e802"
      }
     },
     "628ee5ba78994b169e2e9670c25e3f71": {
      "model_module": "@jupyter-widgets/controls",
      "model_module_version": "1.4.0",
      "model_name": "DescriptionStyleModel",
      "state": {
       "description_width": ""
      }
     },
     "62d546d4642b403fb7e1f9e62e818f03": {
      "model_module": "@jupyter-widgets/base",
      "model_module_version": "1.1.0",
      "model_name": "LayoutModel",
      "state": {}
     },
     "62df66a2062b4fb6b65a3ec5bd498614": {
      "model_module": "@jupyter-widgets/base",
      "model_module_version": "1.1.0",
      "model_name": "LayoutModel",
      "state": {
       "width": "90px"
      }
     },
     "6313022924144436af1f7f4cd8e9779c": {
      "model_module": "@jupyter-widgets/controls",
      "model_module_version": "1.4.0",
      "model_name": "FloatTextModel",
      "state": {
       "layout": "IPY_MODEL_3b285e8c99594a9d846cf082b34290f0",
       "step": null,
       "style": "IPY_MODEL_e4959a4ff1d6428da5531fb2bf42b5eb",
       "value": -10
      }
     },
     "63256349f2f3454c8059f5412b0862a7": {
      "model_module": "@jupyter-widgets/base",
      "model_module_version": "1.1.0",
      "model_name": "LayoutModel",
      "state": {}
     },
     "637824522a5343b0944c5428ef57aa0e": {
      "model_module": "@jupyter-widgets/base",
      "model_module_version": "1.1.0",
      "model_name": "LayoutModel",
      "state": {}
     },
     "6379b256d4304329ae701b41c39b671f": {
      "model_module": "@jupyter-widgets/controls",
      "model_module_version": "1.4.0",
      "model_name": "LabelModel",
      "state": {
       "layout": "IPY_MODEL_00bcf6e5f88d4478b2238275ce14a469",
       "style": "IPY_MODEL_67c65455a284481fb5d3debce14b1bda"
      }
     },
     "63bd776089dc4508bd21c8789ad803bb": {
      "model_module": "@jupyter-widgets/controls",
      "model_module_version": "1.4.0",
      "model_name": "DescriptionStyleModel",
      "state": {
       "description_width": ""
      }
     },
     "63f8d3b2a0994c6a87843ac859f6b4cf": {
      "model_module": "@jupyter-widgets/controls",
      "model_module_version": "1.4.0",
      "model_name": "DropdownModel",
      "state": {
       "_options_labels": [
        "Set Ka and La",
        "Set the eigenvalues"
       ],
       "index": 0,
       "layout": "IPY_MODEL_a4d1a29d08444259bc6ac049b78ec661",
       "style": "IPY_MODEL_8049641b56e14f94a6cdc101f458c699"
      }
     },
     "64201b9e59164194b1346370c1c83cd4": {
      "model_module": "@jupyter-widgets/base",
      "model_module_version": "1.1.0",
      "model_name": "LayoutModel",
      "state": {}
     },
     "644ddd72b7234e6c90b95fcc50538cd5": {
      "model_module": "@jupyter-widgets/controls",
      "model_module_version": "1.4.0",
      "model_name": "ButtonModel",
      "state": {
       "description": "Test",
       "icon": "check",
       "layout": "IPY_MODEL_37ecefc90ca24246a5e1f966458ec837",
       "style": "IPY_MODEL_5b2fc3f1aef246b3b6b674a954b252c7",
       "tooltip": "Test"
      }
     },
     "652517d930ef4076ae1a91b0e2a3be6c": {
      "model_module": "@jupyter-widgets/controls",
      "model_module_version": "1.4.0",
      "model_name": "DescriptionStyleModel",
      "state": {
       "description_width": ""
      }
     },
     "65deab75d13c4bf1bef36f3c38182f6b": {
      "model_module": "@jupyter-widgets/controls",
      "model_module_version": "1.4.0",
      "model_name": "DescriptionStyleModel",
      "state": {
       "description_width": ""
      }
     },
     "6672827f1251434cafa61ba9bb202373": {
      "model_module": "@jupyter-widgets/base",
      "model_module_version": "1.1.0",
      "model_name": "LayoutModel",
      "state": {}
     },
     "668d43e659984f9c83d702a230efee49": {
      "model_module": "@jupyter-widgets/base",
      "model_module_version": "1.1.0",
      "model_name": "LayoutModel",
      "state": {
       "width": "90px"
      }
     },
     "66b0c1e2ed6d42b4934c79d6d7cb6bc6": {
      "model_module": "@jupyter-widgets/controls",
      "model_module_version": "1.4.0",
      "model_name": "DescriptionStyleModel",
      "state": {
       "description_width": ""
      }
     },
     "678800f9d35b4543892ff9d4b8c3009b": {
      "model_module": "@jupyter-widgets/controls",
      "model_module_version": "1.4.0",
      "model_name": "FloatTextModel",
      "state": {
       "layout": "IPY_MODEL_69bc40c1e3664a96baf1c35ecb11fd7d",
       "step": null,
       "style": "IPY_MODEL_c7b00e61644b476db2435289f46ce89e"
      }
     },
     "67a96f99e9b841eaaff526b823dd21aa": {
      "model_module": "@jupyter-widgets/controls",
      "model_module_version": "1.4.0",
      "model_name": "LabelModel",
      "state": {
       "layout": "IPY_MODEL_01dc0a5c652f458280935dd0ec1df02e",
       "style": "IPY_MODEL_885e5afc93a543b28ab8ce2723aba576"
      }
     },
     "67c65455a284481fb5d3debce14b1bda": {
      "model_module": "@jupyter-widgets/controls",
      "model_module_version": "1.4.0",
      "model_name": "DescriptionStyleModel",
      "state": {
       "description_width": ""
      }
     },
     "67eca683eeac421c9b2621d685db768f": {
      "model_module": "@jupyter-widgets/controls",
      "model_module_version": "1.4.0",
      "model_name": "LabelModel",
      "state": {
       "layout": "IPY_MODEL_3fb718490de04afca4411b2acf4987e6",
       "style": "IPY_MODEL_54be1d26068e4711a23c153183b65073",
       "value": "La:"
      }
     },
     "67fdcd9c576d486ab16af60e71f00dec": {
      "model_module": "@jupyter-widgets/base",
      "model_module_version": "1.1.0",
      "model_name": "LayoutModel",
      "state": {}
     },
     "6813d187c1be497cb6ed99d0f1315fb5": {
      "model_module": "@jupyter-widgets/controls",
      "model_module_version": "1.4.0",
      "model_name": "LabelModel",
      "state": {
       "layout": "IPY_MODEL_acce651c42c84a9894a543393f8a167c",
       "style": "IPY_MODEL_286c6d083d32468c8da6d9a651c6a4cb"
      }
     },
     "68537adbed234b189596496e5d19778e": {
      "model_module": "@jupyter-widgets/controls",
      "model_module_version": "1.4.0",
      "model_name": "DescriptionStyleModel",
      "state": {
       "description_width": ""
      }
     },
     "68cb20eccc494d0e897dfcc89aa2b844": {
      "model_module": "@jupyter-widgets/controls",
      "model_module_version": "1.4.0",
      "model_name": "FloatTextModel",
      "state": {
       "layout": "IPY_MODEL_de50dcc76518449ca4190d0da5b78f9d",
       "step": null,
       "style": "IPY_MODEL_19b8bdf890664f71885c84f552c3f3c0",
       "value": -1
      }
     },
     "68d3152ea522432d8b26d8ef18d3a3f0": {
      "model_module": "@jupyter-widgets/base",
      "model_module_version": "1.1.0",
      "model_name": "LayoutModel",
      "state": {
       "width": "90px"
      }
     },
     "690061d224354464bbf9acac7d551e8b": {
      "model_module": "@jupyter-widgets/controls",
      "model_module_version": "1.4.0",
      "model_name": "DescriptionStyleModel",
      "state": {
       "description_width": ""
      }
     },
     "694dd07aee66466bb45bfff329e60483": {
      "model_module": "@jupyter-widgets/base",
      "model_module_version": "1.1.0",
      "model_name": "LayoutModel",
      "state": {}
     },
     "69596f18125f465a842253c4a56b8254": {
      "model_module": "@jupyter-widgets/controls",
      "model_module_version": "1.4.0",
      "model_name": "DescriptionStyleModel",
      "state": {
       "description_width": ""
      }
     },
     "699c82ce7721494b827c9191334677f0": {
      "model_module": "@jupyter-widgets/base",
      "model_module_version": "1.1.0",
      "model_name": "LayoutModel",
      "state": {}
     },
     "69bc40c1e3664a96baf1c35ecb11fd7d": {
      "model_module": "@jupyter-widgets/base",
      "model_module_version": "1.1.0",
      "model_name": "LayoutModel",
      "state": {
       "width": "90px"
      }
     },
     "6a7a36202cba49eb8397c164b18c614b": {
      "model_module": "@jupyter-widgets/base",
      "model_module_version": "1.1.0",
      "model_name": "LayoutModel",
      "state": {}
     },
     "6aa250d5c0944d639991a61220a87849": {
      "model_module": "@jupyter-widgets/base",
      "model_module_version": "1.1.0",
      "model_name": "LayoutModel",
      "state": {}
     },
     "6b1eb3d2914f436ebdc338c44a701edf": {
      "model_module": "@jupyter-widgets/base",
      "model_module_version": "1.1.0",
      "model_name": "LayoutModel",
      "state": {}
     },
     "6b9803e06bfc477592188dfb15adc5d6": {
      "model_module": "@jupyter-widgets/controls",
      "model_module_version": "1.4.0",
      "model_name": "HBoxModel",
      "state": {
       "children": [
        "IPY_MODEL_c8e3b70f79e64a5a899729030d7b6963"
       ],
       "layout": "IPY_MODEL_67fdcd9c576d486ab16af60e71f00dec"
      }
     },
     "6bdb46374a01452f878caf37f3b7dc57": {
      "model_module": "@jupyter-widgets/base",
      "model_module_version": "1.1.0",
      "model_name": "LayoutModel",
      "state": {}
     },
     "6c5bde8b5bac48509228c5bee9f36bbd": {
      "model_module": "@jupyter-widgets/base",
      "model_module_version": "1.1.0",
      "model_name": "LayoutModel",
      "state": {}
     },
     "6caafdd1e1cd4b19a7eeab28deadac64": {
      "model_module": "@jupyter-widgets/controls",
      "model_module_version": "1.4.0",
      "model_name": "HBoxModel",
      "state": {
       "children": [
        "IPY_MODEL_faefe63476c24a01aaf13a0d22a20e41",
        "IPY_MODEL_e5ea03176a6d413cbda448812f9f9fac",
        "IPY_MODEL_795fd5c2cf384cbc84210d4663ce475b"
       ],
       "layout": "IPY_MODEL_50b250cd0c344a809899fa9c03f47e6c"
      }
     },
     "6ccca8cd1dd94a44bbc5840816353ae3": {
      "model_module": "@jupyter-widgets/controls",
      "model_module_version": "1.4.0",
      "model_name": "FloatTextModel",
      "state": {
       "disabled": true,
       "layout": "IPY_MODEL_4a170c180505407b9ea430c1cd492f2c",
       "step": null,
       "style": "IPY_MODEL_3a6b565f3ce4429b83a21e3d564ff894",
       "value": -0.35
      }
     },
     "6d50e2c21b10474f969fa3e17a94ff8c": {
      "model_module": "@jupyter-widgets/controls",
      "model_module_version": "1.4.0",
      "model_name": "SliderStyleModel",
      "state": {
       "description_width": ""
      }
     },
     "6d68637432684016b0727f506afe0df5": {
      "model_module": "@jupyter-widgets/controls",
      "model_module_version": "1.4.0",
      "model_name": "VBoxModel",
      "state": {
       "children": [
        "IPY_MODEL_6b9803e06bfc477592188dfb15adc5d6"
       ],
       "layout": "IPY_MODEL_90b70496121147c0a1e387dee2f323b8"
      }
     },
     "6db5adb08c1948be8929194ebea1a7e7": {
      "model_module": "@jupyter-widgets/controls",
      "model_module_version": "1.4.0",
      "model_name": "FloatTextModel",
      "state": {
       "layout": "IPY_MODEL_43501d55a4fd47a6b16ef8b1b85e7d65",
       "step": null,
       "style": "IPY_MODEL_86f0283019914320900a091de5704fd1",
       "value": -1
      }
     },
     "6e7e97282d8646a99e47bb6ba752331d": {
      "model_module": "@jupyter-widgets/controls",
      "model_module_version": "1.4.0",
      "model_name": "LabelModel",
      "state": {
       "layout": "IPY_MODEL_52acf9658bbb43a0bb470d183fef21f7",
       "style": "IPY_MODEL_d27c9566e96940a7806b2168e19f1ce9"
      }
     },
     "6ebbbf84215946a39d42606ed8a7c1f2": {
      "model_module": "@jupyter-widgets/controls",
      "model_module_version": "1.4.0",
      "model_name": "FloatTextModel",
      "state": {
       "layout": "IPY_MODEL_184b23bb39dd4047977c1005e03a95c0",
       "step": null,
       "style": "IPY_MODEL_0c7ccc0d90d14893a1798e9bec0ccfad",
       "value": -13.333333333333334
      }
     },
     "6ebe86c6b2624222a1c2427ed2c6bb6e": {
      "model_module": "@jupyter-widgets/base",
      "model_module_version": "1.1.0",
      "model_name": "LayoutModel",
      "state": {}
     },
     "6ed5ec8dc40b4d3cb6058441525e4f2d": {
      "model_module": "@jupyter-widgets/base",
      "model_module_version": "1.1.0",
      "model_name": "LayoutModel",
      "state": {
       "width": "90px"
      }
     },
     "6f10c2a2cc4f4d5cb7cd361d5fd117bb": {
      "model_module": "@jupyter-widgets/base",
      "model_module_version": "1.1.0",
      "model_name": "LayoutModel",
      "state": {}
     },
     "6f3325c696374e7ba2fefe95a423c990": {
      "model_module": "@jupyter-widgets/base",
      "model_module_version": "1.1.0",
      "model_name": "LayoutModel",
      "state": {}
     },
     "6f5919fe2a494d8092c2b109d3cb8dff": {
      "model_module": "@jupyter-widgets/controls",
      "model_module_version": "1.4.0",
      "model_name": "LabelModel",
      "state": {
       "layout": "IPY_MODEL_91f3e31e4795465f9f5adb9155b2d603",
       "style": "IPY_MODEL_e7631457cbcc4012bd350f9a84cef00c"
      }
     },
     "6f5b16ca245c4071ab3278214307b695": {
      "model_module": "@jupyter-widgets/base",
      "model_module_version": "1.1.0",
      "model_name": "LayoutModel",
      "state": {}
     },
     "6f85f9a4db194b509b78ff37a0f3f35a": {
      "model_module": "@jupyter-widgets/controls",
      "model_module_version": "1.4.0",
      "model_name": "HBoxModel",
      "state": {
       "children": [
        "IPY_MODEL_ef1dd140766840bb8e931471f5f301c9"
       ],
       "layout": "IPY_MODEL_0fdc2e9573724ffca381dcdc06cfb1b0"
      }
     },
     "703688b40d404ccbae95be27274af0cd": {
      "model_module": "@jupyter-widgets/controls",
      "model_module_version": "1.4.0",
      "model_name": "HBoxModel",
      "state": {
       "children": [
        "IPY_MODEL_554aed59f6334683b982c0431b17c297",
        "IPY_MODEL_9efb9c3136cb4814bbbbb397033e6d24",
        "IPY_MODEL_171a1b1507054bbfbefb5a2121471844"
       ],
       "layout": "IPY_MODEL_30c069a9f1e64b8fa42c228c79bc01d4"
      }
     },
     "70d8d323e1e7445ea9fe3e32ee56bd7f": {
      "model_module": "@jupyter-widgets/base",
      "model_module_version": "1.1.0",
      "model_name": "LayoutModel",
      "state": {}
     },
     "728c92f846734c939fcd10d6e4ef68e3": {
      "model_module": "@jupyter-widgets/controls",
      "model_module_version": "1.4.0",
      "model_name": "DescriptionStyleModel",
      "state": {
       "description_width": ""
      }
     },
     "7293c820e63d4fa5a06348c87ef770e1": {
      "model_module": "@jupyter-widgets/controls",
      "model_module_version": "1.4.0",
      "model_name": "LabelModel",
      "state": {
       "layout": "IPY_MODEL_b7e50fc8f17b4abca78f401029a01bc2",
       "style": "IPY_MODEL_db0dab36d9de4171987fb292d7f515ea",
       "value": "La:"
      }
     },
     "72a35b0bc2d9418bb099da42dd65c976": {
      "model_module": "@jupyter-widgets/controls",
      "model_module_version": "1.4.0",
      "model_name": "DescriptionStyleModel",
      "state": {
       "description_width": ""
      }
     },
     "72d88d2553ac41c4ac690fe0e067324e": {
      "model_module": "@jupyter-widgets/base",
      "model_module_version": "1.1.0",
      "model_name": "LayoutModel",
      "state": {}
     },
     "72e031c0e7e349a0b081d2221742bd29": {
      "model_module": "@jupyter-widgets/base",
      "model_module_version": "1.1.0",
      "model_name": "LayoutModel",
      "state": {
       "width": "90px"
      }
     },
     "72e8f2c8610c47fd8096faa84eb921f8": {
      "model_module": "@jupyter-widgets/controls",
      "model_module_version": "1.4.0",
      "model_name": "LabelModel",
      "state": {
       "layout": "IPY_MODEL_0412e3d10df841038ecf3f8250e2b120",
       "style": "IPY_MODEL_0137a8c0e143408997be4713d0929fd0"
      }
     },
     "7371a287f94840aa829ef2d8d94c4853": {
      "model_module": "@jupyter-widgets/base",
      "model_module_version": "1.1.0",
      "model_name": "LayoutModel",
      "state": {}
     },
     "74043b22bf0a41998bb66498b4bef156": {
      "model_module": "@jupyter-widgets/controls",
      "model_module_version": "1.4.0",
      "model_name": "DescriptionStyleModel",
      "state": {
       "description_width": ""
      }
     },
     "74b2c32160214088bd33ae84127e92bc": {
      "model_module": "@jupyter-widgets/base",
      "model_module_version": "1.1.0",
      "model_name": "LayoutModel",
      "state": {
       "width": "90px"
      }
     },
     "74c94f204a60426bb3deb13977d4a89b": {
      "model_module": "@jupyter-widgets/controls",
      "model_module_version": "1.4.0",
      "model_name": "FloatTextModel",
      "state": {
       "layout": "IPY_MODEL_fdc20dbc4d12432c889e338ca9f4f2e0",
       "step": null,
       "style": "IPY_MODEL_075ef8840b254dfe8e812d7716b6f101",
       "value": -1
      }
     },
     "751f4dd6192f4b71b9ffc8b626f4ab84": {
      "model_module": "@jupyter-widgets/controls",
      "model_module_version": "1.4.0",
      "model_name": "HBoxModel",
      "state": {
       "children": [
        "IPY_MODEL_3967a131ab114f1d903a90585ec37c1b"
       ],
       "layout": "IPY_MODEL_edf2c458601a4c2986e9084a559dcd3a"
      }
     },
     "754e87a1a8c54875b3b917f54d2c9b58": {
      "model_module": "@jupyter-widgets/controls",
      "model_module_version": "1.4.0",
      "model_name": "DescriptionStyleModel",
      "state": {
       "description_width": ""
      }
     },
     "7571abb03f0040679517c6245bf38472": {
      "model_module": "@jupyter-widgets/controls",
      "model_module_version": "1.4.0",
      "model_name": "FloatTextModel",
      "state": {
       "layout": "IPY_MODEL_1356dd4e149949aa8da63f5c73164b03",
       "step": null,
       "style": "IPY_MODEL_5110c78f84674366b27efb186b131882",
       "value": 6244
      }
     },
     "75b5652b09e4461cb6a99471967a68ea": {
      "model_module": "@jupyter-widgets/controls",
      "model_module_version": "1.4.0",
      "model_name": "DescriptionStyleModel",
      "state": {
       "description_width": ""
      }
     },
     "75eb8481312149b8a778baff39c99828": {
      "model_module": "@jupyter-widgets/controls",
      "model_module_version": "1.4.0",
      "model_name": "DescriptionStyleModel",
      "state": {
       "description_width": ""
      }
     },
     "76017c8704c44e04825f3e352bacd669": {
      "model_module": "@jupyter-widgets/controls",
      "model_module_version": "1.4.0",
      "model_name": "DescriptionStyleModel",
      "state": {
       "description_width": ""
      }
     },
     "7637a14720e140b2bcd66ed4939ec5a9": {
      "model_module": "@jupyter-widgets/controls",
      "model_module_version": "1.4.0",
      "model_name": "HBoxModel",
      "state": {
       "children": [
        "IPY_MODEL_63f8d3b2a0994c6a87843ac859f6b4cf",
        "IPY_MODEL_d9674b7571de42baa745dd6b7c6ecbe8",
        "IPY_MODEL_b5581d35824c472bb9eaac0a5762f404"
       ],
       "layout": "IPY_MODEL_eed4b893f8914ebb9d38fb0d061e5369"
      }
     },
     "770bc17e71b2425a9baa0f95f322df5b": {
      "model_module": "@jupyter-widgets/base",
      "model_module_version": "1.1.0",
      "model_name": "LayoutModel",
      "state": {}
     },
     "77216fe31d084b58b18e146e8a6b8be1": {
      "model_module": "@jupyter-widgets/base",
      "model_module_version": "1.1.0",
      "model_name": "LayoutModel",
      "state": {}
     },
     "775ff011a0444c48b7e5fea4746a0b23": {
      "model_module": "@jupyter-widgets/controls",
      "model_module_version": "1.4.0",
      "model_name": "DescriptionStyleModel",
      "state": {
       "description_width": ""
      }
     },
     "7799c212da6243439092d8e652f3343a": {
      "model_module": "@jupyter-widgets/base",
      "model_module_version": "1.1.0",
      "model_name": "LayoutModel",
      "state": {}
     },
     "779c0d356e134116a834edf79e733609": {
      "model_module": "@jupyter-widgets/controls",
      "model_module_version": "1.4.0",
      "model_name": "DescriptionStyleModel",
      "state": {
       "description_width": ""
      }
     },
     "78331c89a55344a69e9fb04c10aee086": {
      "model_module": "@jupyter-widgets/controls",
      "model_module_version": "1.4.0",
      "model_name": "ButtonModel",
      "state": {
       "description": "Test",
       "icon": "check",
       "layout": "IPY_MODEL_a2ad8cd0ada14749b6cff38db8256c77",
       "style": "IPY_MODEL_7e93ef2d8c064e21ae0329b1f49e0037",
       "tooltip": "Test"
      }
     },
     "784694adeef14254b06506b91ca25387": {
      "model_module": "@jupyter-widgets/controls",
      "model_module_version": "1.4.0",
      "model_name": "FloatTextModel",
      "state": {
       "layout": "IPY_MODEL_e02b4d0e91cd456eb60b5d5243ba5cb5",
       "step": null,
       "style": "IPY_MODEL_b735c37b54aa43c8a0944fb020c85b42",
       "value": 316
      }
     },
     "78e0cf59f666429ba0b284f17cd837f0": {
      "model_module": "@jupyter-widgets/controls",
      "model_module_version": "1.4.0",
      "model_name": "DescriptionStyleModel",
      "state": {
       "description_width": ""
      }
     },
     "78e89fda875349468498d5f62b2914a0": {
      "model_module": "@jupyter-widgets/controls",
      "model_module_version": "1.4.0",
      "model_name": "DescriptionStyleModel",
      "state": {
       "description_width": ""
      }
     },
     "78faa778293e4233bc1fa7fd155fb559": {
      "model_module": "@jupyter-widgets/base",
      "model_module_version": "1.1.0",
      "model_name": "LayoutModel",
      "state": {}
     },
     "791fe235250446a6a034c1a07655e400": {
      "model_module": "@jupyter-widgets/base",
      "model_module_version": "1.1.0",
      "model_name": "LayoutModel",
      "state": {}
     },
     "7922325f544a4df3b7a664440ab450f3": {
      "model_module": "@jupyter-widgets/controls",
      "model_module_version": "1.4.0",
      "model_name": "DescriptionStyleModel",
      "state": {
       "description_width": ""
      }
     },
     "7959bdda77b0475b8c3a81a8686baf94": {
      "model_module": "@jupyter-widgets/controls",
      "model_module_version": "1.4.0",
      "model_name": "DescriptionStyleModel",
      "state": {
       "description_width": ""
      }
     },
     "795fd5c2cf384cbc84210d4663ce475b": {
      "model_module": "@jupyter-widgets/controls",
      "model_module_version": "1.4.0",
      "model_name": "DropdownModel",
      "state": {
       "_options_labels": [
        "0 complex eigenvalues",
        "2 complex eigenvalues"
       ],
       "description": "Aobs:",
       "disabled": true,
       "index": 0,
       "layout": "IPY_MODEL_ae2970f665224c9fbc4420c1cffb665d",
       "style": "IPY_MODEL_fe72029372074064a0a2d7f32b95cc43"
      }
     },
     "79f34c11930f44ef87434b7bbc4a62a2": {
      "model_module": "@jupyter-widgets/controls",
      "model_module_version": "1.4.0",
      "model_name": "FloatTextModel",
      "state": {
       "layout": "IPY_MODEL_c292b8874c4f4bcebed1c9a360df2964",
       "step": null,
       "style": "IPY_MODEL_f0784b65c1cf46f9af5e149ad2e1bf93",
       "value": -1
      }
     },
     "7a2c5d36b676498d86709b794261b2e5": {
      "model_module": "@jupyter-widgets/controls",
      "model_module_version": "1.4.0",
      "model_name": "VBoxModel",
      "state": {
       "children": [
        "IPY_MODEL_8b38ec716be944e0b46bf019ffd46326"
       ],
       "layout": "IPY_MODEL_1305375218104eaf84b665587f869b4a"
      }
     },
     "7a5bb58e5cf945d5883300d227b2e802": {
      "model_module": "@jupyter-widgets/base",
      "model_module_version": "1.1.0",
      "model_name": "LayoutModel",
      "state": {}
     },
     "7a5fad3a8ed14b8c8672e83a713b5ee7": {
      "model_module": "@jupyter-widgets/base",
      "model_module_version": "1.1.0",
      "model_name": "LayoutModel",
      "state": {}
     },
     "7a86b8685c0d4d4ab4dfd942b31e689e": {
      "model_module": "@jupyter-widgets/controls",
      "model_module_version": "1.4.0",
      "model_name": "DescriptionStyleModel",
      "state": {
       "description_width": ""
      }
     },
     "7a9f39ecd9174a5a8dc508b3f593a736": {
      "model_module": "@jupyter-widgets/base",
      "model_module_version": "1.1.0",
      "model_name": "LayoutModel",
      "state": {
       "width": "90px"
      }
     },
     "7acc1d43c7b04f48ada380ce26debb40": {
      "model_module": "@jupyter-widgets/controls",
      "model_module_version": "1.4.0",
      "model_name": "LabelModel",
      "state": {
       "layout": "IPY_MODEL_af33c6205ab247349a81557418e23272",
       "style": "IPY_MODEL_3560f888f8714d7380f8ec397da7b315"
      }
     },
     "7b620fcf26764dc59856cf8c17e225c6": {
      "model_module": "@jupyter-widgets/base",
      "model_module_version": "1.1.0",
      "model_name": "LayoutModel",
      "state": {}
     },
     "7b6fe30e232e400583497734a4b6a5c7": {
      "model_module": "@jupyter-widgets/controls",
      "model_module_version": "1.4.0",
      "model_name": "ButtonStyleModel",
      "state": {}
     },
     "7bcae1bb58ed4f80aad0ed229811dd6f": {
      "model_module": "@jupyter-widgets/controls",
      "model_module_version": "1.4.0",
      "model_name": "DescriptionStyleModel",
      "state": {
       "description_width": ""
      }
     },
     "7bec55103402411195944e1352e9ee8f": {
      "model_module": "@jupyter-widgets/controls",
      "model_module_version": "1.4.0",
      "model_name": "FloatTextModel",
      "state": {
       "layout": "IPY_MODEL_68d3152ea522432d8b26d8ef18d3a3f0",
       "step": null,
       "style": "IPY_MODEL_da90a50bcb3b4b1ab14fcb5e9ddde844",
       "value": -66.66666666666667
      }
     },
     "7c71e94f7fd8465382677754c8e6a982": {
      "model_module": "@jupyter-widgets/base",
      "model_module_version": "1.1.0",
      "model_name": "LayoutModel",
      "state": {}
     },
     "7c92b5b89e8b44fc9d282249225339c6": {
      "model_module": "@jupyter-widgets/controls",
      "model_module_version": "1.4.0",
      "model_name": "HBoxModel",
      "state": {
       "children": [
        "IPY_MODEL_74c94f204a60426bb3deb13977d4a89b"
       ],
       "layout": "IPY_MODEL_5d4ef33cadc94f08ace19b791efefc1e"
      }
     },
     "7d01dc2c0b4d48d98e763efa1f17a404": {
      "model_module": "@jupyter-widgets/controls",
      "model_module_version": "1.4.0",
      "model_name": "LabelModel",
      "state": {
       "layout": "IPY_MODEL_ace5b89dbb38430baaca9d95f8928041",
       "style": "IPY_MODEL_ba39f17a808848619246755a9efb4013"
      }
     },
     "7d2ee53e7c144fdb9bf865c1baf9fe1e": {
      "model_module": "@jupyter-widgets/controls",
      "model_module_version": "1.4.0",
      "model_name": "HBoxModel",
      "state": {
       "children": [
        "IPY_MODEL_0aa0bfe4046d4bbd9e3b8fc7e923c19e",
        "IPY_MODEL_eb895777800d4b5dad6593c98477136a",
        "IPY_MODEL_59ec2c46649641599ebed481a8758b4f",
        "IPY_MODEL_6379b256d4304329ae701b41c39b671f",
        "IPY_MODEL_a33161fb781f43298700965957684f1e"
       ],
       "layout": "IPY_MODEL_15cf45b6a5954be0ac6b6415d1d48bca"
      }
     },
     "7d35e7ff219645d8928897423c98458f": {
      "model_module": "@jupyter-widgets/controls",
      "model_module_version": "1.4.0",
      "model_name": "HBoxModel",
      "state": {
       "children": [
        "IPY_MODEL_093f7ad7ff10484c9dc83f64e83edf68",
        "IPY_MODEL_d15a903d9d274ec1921c31e4c33039b4",
        "IPY_MODEL_eda9ff75f90e4e86815627781902014a"
       ],
       "layout": "IPY_MODEL_955a72f962644df8bea0b03467a6d2e3"
      }
     },
     "7d56c23f8f9747278ec3ee7edb579413": {
      "model_module": "@jupyter-widgets/output",
      "model_module_version": "1.0.0",
      "model_name": "OutputModel",
      "state": {
       "layout": "IPY_MODEL_9a5f4e5b037a43a9b59844db56f0835f",
       "outputs": [
        {
         "name": "stdout",
         "output_type": "stream",
         "text": "The Aa's eigenvalues are: -2.24+2.23j, -2.24+-2.23j, -0.28+0.00j, -0.26+0.32j and -0.26+-0.32j\nThe observer\\s eigenvalues are: -10.00+0.00j and -10.00+0.00j\n"
        }
       ]
      }
     },
     "7d6a609ca45c4507b010733c5e884ae6": {
      "model_module": "@jupyter-widgets/controls",
      "model_module_version": "1.4.0",
      "model_name": "DescriptionStyleModel",
      "state": {
       "description_width": ""
      }
     },
     "7da585dfee764bdb8782ac35b6e142c6": {
      "model_module": "@jupyter-widgets/controls",
      "model_module_version": "1.4.0",
      "model_name": "DescriptionStyleModel",
      "state": {
       "description_width": ""
      }
     },
     "7de4c30003744cce8d20d24d1bf5bb23": {
      "model_module": "@jupyter-widgets/controls",
      "model_module_version": "1.4.0",
      "model_name": "HBoxModel",
      "state": {
       "children": [
        "IPY_MODEL_fe8d4c19a86346019352770ba2a10a08"
       ],
       "layout": "IPY_MODEL_14ee82ae6a44446aaf4a813482e9e609"
      }
     },
     "7e247cd9b0e54844af224969b6c41f28": {
      "model_module": "@jupyter-widgets/controls",
      "model_module_version": "1.4.0",
      "model_name": "LabelModel",
      "state": {
       "layout": "IPY_MODEL_8c6ff49f59ac4ae19bf1989f184e29e9",
       "style": "IPY_MODEL_4ef500d8895b4bd3a5e040da5cad74a7"
      }
     },
     "7e442b8c4332480e8548cbdceab3a51f": {
      "model_module": "@jupyter-widgets/base",
      "model_module_version": "1.1.0",
      "model_name": "LayoutModel",
      "state": {}
     },
     "7e4e7d01deec4ad28120e3a5353c32be": {
      "model_module": "@jupyter-widgets/controls",
      "model_module_version": "1.4.0",
      "model_name": "HBoxModel",
      "state": {
       "children": [
        "IPY_MODEL_d4a0305616f9402ea84a9e8b0e1fae85"
       ],
       "layout": "IPY_MODEL_f86ef0c63af448cbba07abd5003acb2c"
      }
     },
     "7e93ef2d8c064e21ae0329b1f49e0037": {
      "model_module": "@jupyter-widgets/controls",
      "model_module_version": "1.4.0",
      "model_name": "ButtonStyleModel",
      "state": {}
     },
     "7ebbc139ae8c405bbaa34222e70c1838": {
      "model_module": "@jupyter-widgets/controls",
      "model_module_version": "1.4.0",
      "model_name": "DescriptionStyleModel",
      "state": {
       "description_width": ""
      }
     },
     "7ee747b400ad462e8ac9835d6e19339a": {
      "model_module": "@jupyter-widgets/controls",
      "model_module_version": "1.4.0",
      "model_name": "DescriptionStyleModel",
      "state": {
       "description_width": ""
      }
     },
     "7f7d8c159bdc42c3aeffdc050655131b": {
      "model_module": "@jupyter-widgets/controls",
      "model_module_version": "1.4.0",
      "model_name": "FloatTextModel",
      "state": {
       "layout": "IPY_MODEL_72e031c0e7e349a0b081d2221742bd29",
       "step": null,
       "style": "IPY_MODEL_b60b7d037b5b45aba5cce6360c0cb3fe",
       "value": -66.66666666666667
      }
     },
     "7fbf0af948254d5e833df4b7c1f732c3": {
      "model_module": "@jupyter-widgets/base",
      "model_module_version": "1.1.0",
      "model_name": "LayoutModel",
      "state": {}
     },
     "7fe5127d89ef40799cbefafadbcce0d4": {
      "model_module": "@jupyter-widgets/controls",
      "model_module_version": "1.4.0",
      "model_name": "FloatTextModel",
      "state": {
       "layout": "IPY_MODEL_cea5f3291cc74af99d0e1ea2481ba90a",
       "step": null,
       "style": "IPY_MODEL_19f1831249fc404885a8c590f402427e"
      }
     },
     "7ffaa79fb9994c4bae603296d84f245e": {
      "model_module": "@jupyter-widgets/controls",
      "model_module_version": "1.4.0",
      "model_name": "LabelModel",
      "state": {
       "layout": "IPY_MODEL_3155eee3f9a64ff3b2f1ce3c8f7d18cc",
       "style": "IPY_MODEL_c2e6bb3678aa4fb989cae61d26337c34",
       "value": "La:"
      }
     },
     "7ffe130777e247649d8ed2b515a9ca8b": {
      "model_module": "@jupyter-widgets/controls",
      "model_module_version": "1.4.0",
      "model_name": "LabelModel",
      "state": {
       "layout": "IPY_MODEL_a5808a4c8deb4864a3bf6c22210b4579",
       "style": "IPY_MODEL_3ff22a9f887a4c8fa9623d0ab0ef1724"
      }
     },
     "8011100f6a6b4ddc9ecbb972b727eaf7": {
      "model_module": "@jupyter-widgets/controls",
      "model_module_version": "1.4.0",
      "model_name": "LabelModel",
      "state": {
       "layout": "IPY_MODEL_3bf317625e154845b6a9f8e0b72e9040",
       "style": "IPY_MODEL_e497f72ac994442e867e12b0d2d6c200"
      }
     },
     "8049641b56e14f94a6cdc101f458c699": {
      "model_module": "@jupyter-widgets/controls",
      "model_module_version": "1.4.0",
      "model_name": "DescriptionStyleModel",
      "state": {
       "description_width": ""
      }
     },
     "805372bc02a045c08c710be04f5bfce1": {
      "model_module": "@jupyter-widgets/controls",
      "model_module_version": "1.4.0",
      "model_name": "HBoxModel",
      "state": {
       "children": [
        "IPY_MODEL_18f82af6d5b2431ba4c48da55efab544",
        "IPY_MODEL_007459f4f397435698168869e682fe15",
        "IPY_MODEL_5b395b3d7f904213b837ead1c36a16d9"
       ],
       "layout": "IPY_MODEL_ab62f7fb8f884a83b7a1a8cd07fc402b"
      }
     },
     "808008c7a6d64220a24e0e57526aee9a": {
      "model_module": "@jupyter-widgets/base",
      "model_module_version": "1.1.0",
      "model_name": "LayoutModel",
      "state": {}
     },
     "8104af496003451c99d75ef542e131e5": {
      "model_module": "@jupyter-widgets/controls",
      "model_module_version": "1.4.0",
      "model_name": "HBoxModel",
      "state": {
       "children": [
        "IPY_MODEL_6db5adb08c1948be8929194ebea1a7e7"
       ],
       "layout": "IPY_MODEL_8f25d2239f6749908f18c36b549526f2"
      }
     },
     "826635bf7c224e2fa9e2222e72dbf5a4": {
      "model_module": "@jupyter-widgets/controls",
      "model_module_version": "1.4.0",
      "model_name": "DropdownModel",
      "state": {
       "_options_labels": [
        "0 complex eigenvalues",
        "2 complex eigenvalues",
        "4 complex eigenvalues"
       ],
       "description": "Aa:",
       "disabled": true,
       "index": 0,
       "layout": "IPY_MODEL_bb953ac90d224d4f936514edcfe673ca",
       "style": "IPY_MODEL_7da585dfee764bdb8782ac35b6e142c6"
      }
     },
     "8390228ad1364aa68a86b96bf642bf61": {
      "model_module": "@jupyter-widgets/controls",
      "model_module_version": "1.4.0",
      "model_name": "DescriptionStyleModel",
      "state": {
       "description_width": ""
      }
     },
     "83cff18e6a264988ae36134b674e5a85": {
      "model_module": "@jupyter-widgets/controls",
      "model_module_version": "1.4.0",
      "model_name": "ButtonModel",
      "state": {
       "description": "Test",
       "icon": "check",
       "layout": "IPY_MODEL_0cd7629dd3c9461fbd0c47b84ef58eb5",
       "style": "IPY_MODEL_3b2defae62294f9bbd4aaf5e793002c0",
       "tooltip": "Test"
      }
     },
     "842a3f1f0a374c2581602ab8e7600ef6": {
      "model_module": "@jupyter-widgets/controls",
      "model_module_version": "1.4.0",
      "model_name": "LabelModel",
      "state": {
       "layout": "IPY_MODEL_9a4bb58b105e4702af8bc3d718dfd1c3",
       "style": "IPY_MODEL_0f70af7c61ff4ba88081ed4f671ea6fb"
      }
     },
     "8471ba81fc7a4b87adf19a11d05e4af8": {
      "model_module": "@jupyter-widgets/controls",
      "model_module_version": "1.4.0",
      "model_name": "FloatTextModel",
      "state": {
       "layout": "IPY_MODEL_882e1a8d54f245feb71c1266aab6d5aa",
       "step": null,
       "style": "IPY_MODEL_628ee5ba78994b169e2e9670c25e3f71"
      }
     },
     "84978a101c7e4f339808d159363a8bda": {
      "model_module": "@jupyter-widgets/base",
      "model_module_version": "1.1.0",
      "model_name": "LayoutModel",
      "state": {}
     },
     "84a0b15ddb034a2092338bd2b2ed63e9": {
      "model_module": "@jupyter-widgets/controls",
      "model_module_version": "1.4.0",
      "model_name": "VBoxModel",
      "state": {
       "children": [
        "IPY_MODEL_8104af496003451c99d75ef542e131e5"
       ],
       "layout": "IPY_MODEL_ac57f9372bfa4b58a5c390e8d098726c"
      }
     },
     "84cbb61cc3c5445a88ac64650b4b8dfc": {
      "model_module": "@jupyter-widgets/controls",
      "model_module_version": "1.4.0",
      "model_name": "HBoxModel",
      "state": {
       "children": [
        "IPY_MODEL_0f26c8afca96402aa66b81bc451a3559",
        "IPY_MODEL_57f647ac81c04c9e8d05a298607c024c",
        "IPY_MODEL_360875116090414dbddbecaa83b47342",
        "IPY_MODEL_472fafbcc5de4d8bbdea2c2f162640a3",
        "IPY_MODEL_5393a1ec3e0d47feb72f398a7cfa584e"
       ],
       "layout": "IPY_MODEL_1c9b2f53ecbb4da79d03c3c35e70cf14"
      }
     },
     "84e0e3299523499e8fd5a56d12529891": {
      "model_module": "@jupyter-widgets/controls",
      "model_module_version": "1.4.0",
      "model_name": "LabelModel",
      "state": {
       "layout": "IPY_MODEL_341a67e1961c4efaba9cd46195f445c9",
       "style": "IPY_MODEL_b6fa08a5501e4a248ede49d190466047",
       "value": "Ka:"
      }
     },
     "850d20061cb147999055d5ad4f3f4e9c": {
      "model_module": "@jupyter-widgets/base",
      "model_module_version": "1.1.0",
      "model_name": "LayoutModel",
      "state": {}
     },
     "8517bf96ffdc43c0becaa4f3824b62ae": {
      "model_module": "@jupyter-widgets/controls",
      "model_module_version": "1.4.0",
      "model_name": "FloatTextModel",
      "state": {
       "layout": "IPY_MODEL_151cd4e8dcf14832a226f806c78e36e0",
       "step": null,
       "style": "IPY_MODEL_33357e60e03e468ca65e98dd38c74e9f",
       "value": 6244
      }
     },
     "851b1adaff55422a86338f42883ee062": {
      "model_module": "@jupyter-widgets/base",
      "model_module_version": "1.1.0",
      "model_name": "LayoutModel",
      "state": {}
     },
     "85217905f330467f8b5be2ca26a9808f": {
      "model_module": "@jupyter-widgets/controls",
      "model_module_version": "1.4.0",
      "model_name": "DescriptionStyleModel",
      "state": {
       "description_width": ""
      }
     },
     "855199fe1b46419e8a5c73a3e0e43e90": {
      "model_module": "@jupyter-widgets/controls",
      "model_module_version": "1.4.0",
      "model_name": "FloatTextModel",
      "state": {
       "layout": "IPY_MODEL_bfccc83056ff48b88eb7630784f232d4",
       "step": null,
       "style": "IPY_MODEL_dd21852b6b3d4d24a5e9dbedfd3b63e8"
      }
     },
     "865c7e9a6659400080d4e6b55eadd65c": {
      "model_module": "@jupyter-widgets/base",
      "model_module_version": "1.1.0",
      "model_name": "LayoutModel",
      "state": {}
     },
     "8694d410e6384208982d61b29be57d7b": {
      "model_module": "@jupyter-widgets/controls",
      "model_module_version": "1.4.0",
      "model_name": "LabelModel",
      "state": {
       "layout": "IPY_MODEL_45c69bfc454c48e597a023be2fcf2369",
       "style": "IPY_MODEL_2b684e1c6b254b9fa313b5d68cbac70e"
      }
     },
     "86dffef0637946b6bdce07bd18233633": {
      "model_module": "@jupyter-widgets/base",
      "model_module_version": "1.1.0",
      "model_name": "LayoutModel",
      "state": {
       "width": "90px"
      }
     },
     "86f0283019914320900a091de5704fd1": {
      "model_module": "@jupyter-widgets/controls",
      "model_module_version": "1.4.0",
      "model_name": "DescriptionStyleModel",
      "state": {
       "description_width": ""
      }
     },
     "87536ddd51344558bd4978bbb9aa5d77": {
      "model_module": "@jupyter-widgets/base",
      "model_module_version": "1.1.0",
      "model_name": "LayoutModel",
      "state": {
       "width": "90px"
      }
     },
     "87deb80624884ebfa254f62114e25930": {
      "model_module": "@jupyter-widgets/controls",
      "model_module_version": "1.4.0",
      "model_name": "VBoxModel",
      "state": {
       "children": [
        "IPY_MODEL_8f91de1e6ed149e68483c46b8e206da1",
        "IPY_MODEL_125f923ed5a34fe3a28d2f6851a46911"
       ],
       "layout": "IPY_MODEL_10c2b023fe28454a9f66efb594599e4a"
      }
     },
     "882808f04e1648329b3ae5a769379755": {
      "model_module": "@jupyter-widgets/controls",
      "model_module_version": "1.4.0",
      "model_name": "HBoxModel",
      "state": {
       "children": [
        "IPY_MODEL_1c6c62d211f44583a849017a71d78956"
       ],
       "layout": "IPY_MODEL_518df1a391454a7b9ae94325ff2cd3b0"
      }
     },
     "882e1a8d54f245feb71c1266aab6d5aa": {
      "model_module": "@jupyter-widgets/base",
      "model_module_version": "1.1.0",
      "model_name": "LayoutModel",
      "state": {
       "width": "90px"
      }
     },
     "885e5afc93a543b28ab8ce2723aba576": {
      "model_module": "@jupyter-widgets/controls",
      "model_module_version": "1.4.0",
      "model_name": "DescriptionStyleModel",
      "state": {
       "description_width": ""
      }
     },
     "88608d2bd3564091bb944cd23789d33c": {
      "model_module": "@jupyter-widgets/base",
      "model_module_version": "1.1.0",
      "model_name": "LayoutModel",
      "state": {}
     },
     "88eb02c3dc4f44948a1aec3fdbc15243": {
      "model_module": "@jupyter-widgets/controls",
      "model_module_version": "1.4.0",
      "model_name": "DescriptionStyleModel",
      "state": {
       "description_width": ""
      }
     },
     "8940fedfa6b94154bbecb9b93aa2c282": {
      "model_module": "@jupyter-widgets/controls",
      "model_module_version": "1.4.0",
      "model_name": "ButtonStyleModel",
      "state": {}
     },
     "895850746fc047c089a3bab1559d9f9d": {
      "model_module": "@jupyter-widgets/controls",
      "model_module_version": "1.4.0",
      "model_name": "HBoxModel",
      "state": {
       "children": [
        "IPY_MODEL_1b064c01ef0f4056b7748e7fa4e8d0ae",
        "IPY_MODEL_dbcee9f186f7420d9ea831d5ef775039",
        "IPY_MODEL_f4ddf9715a014e14be8ecb2b3ae86c47"
       ],
       "layout": "IPY_MODEL_63256349f2f3454c8059f5412b0862a7"
      }
     },
     "8a079245fbbe4ddf920422f8deed31bb": {
      "model_module": "@jupyter-widgets/controls",
      "model_module_version": "1.4.0",
      "model_name": "HBoxModel",
      "state": {
       "children": [
        "IPY_MODEL_d5eaac2f67684a7b8ea7dd4c17f0b57e",
        "IPY_MODEL_6d68637432684016b0727f506afe0df5",
        "IPY_MODEL_f01b454caf0243f89fac5809d26d4cf2",
        "IPY_MODEL_3fe63ac60ab64ded984e9abeeff7abf5",
        "IPY_MODEL_317ee220faa84115bad387393653c51c",
        "IPY_MODEL_587e0f7d832d4ecc866fb0f39ea9d990",
        "IPY_MODEL_135f645700374f52895dcc521e40d207",
        "IPY_MODEL_555f1c8fd1be494ba25714e40361ee35",
        "IPY_MODEL_cf979171315d44bfbc2c0d6d41f6c225",
        "IPY_MODEL_a3c2a24a94aa456cbd6779a86c1f06ad",
        "IPY_MODEL_25be128dd26d4cd298247bbbc5bbe06a"
       ],
       "layout": "IPY_MODEL_8a6ef5b88fa14169aa167d89c57d71eb"
      }
     },
     "8a6ef5b88fa14169aa167d89c57d71eb": {
      "model_module": "@jupyter-widgets/base",
      "model_module_version": "1.1.0",
      "model_name": "LayoutModel",
      "state": {}
     },
     "8a9bc422e2cc4f8e806f955c0698cf32": {
      "model_module": "@jupyter-widgets/controls",
      "model_module_version": "1.4.0",
      "model_name": "DescriptionStyleModel",
      "state": {
       "description_width": ""
      }
     },
     "8b38ec716be944e0b46bf019ffd46326": {
      "model_module": "@jupyter-widgets/controls",
      "model_module_version": "1.4.0",
      "model_name": "HBoxModel",
      "state": {
       "children": [
        "IPY_MODEL_be0cf595c1f14317a7aaeb76f485754c",
        "IPY_MODEL_8517bf96ffdc43c0becaa4f3824b62ae",
        "IPY_MODEL_ed5069a98fda4fd89f8f6f2f037d4397",
        "IPY_MODEL_aa1c87d6fda14c1980b7d432ee2fe366",
        "IPY_MODEL_f6adbb16255046328fb88ed295414e1e"
       ],
       "layout": "IPY_MODEL_951ff7c9dfad42808f1dc9d409ff2c4c"
      }
     },
     "8b87c03ea80e4a8496fef495518e5222": {
      "model_module": "@jupyter-widgets/controls",
      "model_module_version": "1.4.0",
      "model_name": "DescriptionStyleModel",
      "state": {
       "description_width": ""
      }
     },
     "8b978cd8527c4af38f96b899ad856ff9": {
      "model_module": "@jupyter-widgets/base",
      "model_module_version": "1.1.0",
      "model_name": "LayoutModel",
      "state": {
       "width": "90px"
      }
     },
     "8bd8a16f4c984ae9a3b83d639201f311": {
      "model_module": "@jupyter-widgets/controls",
      "model_module_version": "1.4.0",
      "model_name": "DescriptionStyleModel",
      "state": {
       "description_width": ""
      }
     },
     "8bfd28108db14cf7af63c45afb29a893": {
      "model_module": "@jupyter-widgets/base",
      "model_module_version": "1.1.0",
      "model_name": "LayoutModel",
      "state": {
       "width": "90px"
      }
     },
     "8c56ab7322684d198695ba83389a51a8": {
      "model_module": "@jupyter-widgets/base",
      "model_module_version": "1.1.0",
      "model_name": "LayoutModel",
      "state": {}
     },
     "8c6ff49f59ac4ae19bf1989f184e29e9": {
      "model_module": "@jupyter-widgets/base",
      "model_module_version": "1.1.0",
      "model_name": "LayoutModel",
      "state": {}
     },
     "8c91254678864b30a16507999fae5742": {
      "model_module": "@jupyter-widgets/base",
      "model_module_version": "1.1.0",
      "model_name": "LayoutModel",
      "state": {}
     },
     "8cd3e95c3acf4bdab4dfdc7205fe8fde": {
      "model_module": "@jupyter-widgets/controls",
      "model_module_version": "1.4.0",
      "model_name": "DescriptionStyleModel",
      "state": {
       "description_width": ""
      }
     },
     "8d93505090b24b7392dd19fdafe1ebb7": {
      "model_module": "@jupyter-widgets/base",
      "model_module_version": "1.1.0",
      "model_name": "LayoutModel",
      "state": {}
     },
     "8eb6aa9cb43341ccb9ce62f5ca112617": {
      "model_module": "@jupyter-widgets/base",
      "model_module_version": "1.1.0",
      "model_name": "LayoutModel",
      "state": {}
     },
     "8ef057c6d9fc4db8b615a215a2b5a000": {
      "model_module": "@jupyter-widgets/controls",
      "model_module_version": "1.4.0",
      "model_name": "SliderStyleModel",
      "state": {
       "description_width": ""
      }
     },
     "8f25d2239f6749908f18c36b549526f2": {
      "model_module": "@jupyter-widgets/base",
      "model_module_version": "1.1.0",
      "model_name": "LayoutModel",
      "state": {}
     },
     "8f91de1e6ed149e68483c46b8e206da1": {
      "model_module": "@jupyter-widgets/controls",
      "model_module_version": "1.4.0",
      "model_name": "HBoxModel",
      "state": {
       "children": [
        "IPY_MODEL_eef564791f8b41739add71b75be481ec"
       ],
       "layout": "IPY_MODEL_de0f1909c75e430a86358a3fa0b9a995"
      }
     },
     "8fd79a5d01cf4dd2bd6af523b19f7ddc": {
      "model_module": "@jupyter-widgets/controls",
      "model_module_version": "1.4.0",
      "model_name": "DescriptionStyleModel",
      "state": {
       "description_width": ""
      }
     },
     "90289c97f60843f89f00cd95a0fca4b9": {
      "model_module": "@jupyter-widgets/base",
      "model_module_version": "1.1.0",
      "model_name": "LayoutModel",
      "state": {}
     },
     "90428d44e77d4165ac20f73f2cc388b9": {
      "model_module": "@jupyter-widgets/controls",
      "model_module_version": "1.4.0",
      "model_name": "FloatTextModel",
      "state": {
       "layout": "IPY_MODEL_6ed5ec8dc40b4d3cb6058441525e4f2d",
       "step": null,
       "style": "IPY_MODEL_c528fa3f72494a119beabba3a6213bb7",
       "value": -1
      }
     },
     "90b70496121147c0a1e387dee2f323b8": {
      "model_module": "@jupyter-widgets/base",
      "model_module_version": "1.1.0",
      "model_name": "LayoutModel",
      "state": {}
     },
     "9107b64326ee404abe9f223d27d7cb58": {
      "model_module": "@jupyter-widgets/base",
      "model_module_version": "1.1.0",
      "model_name": "LayoutModel",
      "state": {}
     },
     "912150cf7dd545c9be27f06e2420e9fd": {
      "model_module": "@jupyter-widgets/controls",
      "model_module_version": "1.4.0",
      "model_name": "FloatTextModel",
      "state": {
       "layout": "IPY_MODEL_8b978cd8527c4af38f96b899ad856ff9",
       "step": null,
       "style": "IPY_MODEL_56d0ad94a1ab41bf9b1226b301dc34c5",
       "value": -10
      }
     },
     "913286bb22214d3cb6367fff535d9581": {
      "model_module": "@jupyter-widgets/base",
      "model_module_version": "1.1.0",
      "model_name": "LayoutModel",
      "state": {}
     },
     "9157d2ff6f494800ac8ae9cdc1fde052": {
      "model_module": "@jupyter-widgets/base",
      "model_module_version": "1.1.0",
      "model_name": "LayoutModel",
      "state": {}
     },
     "91f3e31e4795465f9f5adb9155b2d603": {
      "model_module": "@jupyter-widgets/base",
      "model_module_version": "1.1.0",
      "model_name": "LayoutModel",
      "state": {}
     },
     "9227470751ed48d1979a8ab2c991e0cf": {
      "model_module": "@jupyter-widgets/base",
      "model_module_version": "1.1.0",
      "model_name": "LayoutModel",
      "state": {
       "height": "0px",
       "width": "0px"
      }
     },
     "93937d7b6ac642c29e9b061c59a3db2a": {
      "model_module": "@jupyter-widgets/base",
      "model_module_version": "1.1.0",
      "model_name": "LayoutModel",
      "state": {}
     },
     "94109630a2764b6fb9c1f2deaa4eff3f": {
      "model_module": "@jupyter-widgets/controls",
      "model_module_version": "1.4.0",
      "model_name": "FloatTextModel",
      "state": {
       "layout": "IPY_MODEL_9227470751ed48d1979a8ab2c991e0cf",
       "step": null,
       "style": "IPY_MODEL_cda7d59ecf3b463e83fbcca7d6ded37f"
      }
     },
     "94c62e1f059546eaa77c67a8748086d9": {
      "model_module": "@jupyter-widgets/controls",
      "model_module_version": "1.4.0",
      "model_name": "DescriptionStyleModel",
      "state": {
       "description_width": ""
      }
     },
     "94d262c9132f4dee8a1ebacba7959d25": {
      "model_module": "@jupyter-widgets/controls",
      "model_module_version": "1.4.0",
      "model_name": "LabelModel",
      "state": {
       "layout": "IPY_MODEL_de0e0312dad54b3aac1bda5344f2766f",
       "style": "IPY_MODEL_5e19f43ea55f42219de81bad36116894"
      }
     },
     "951ff7c9dfad42808f1dc9d409ff2c4c": {
      "model_module": "@jupyter-widgets/base",
      "model_module_version": "1.1.0",
      "model_name": "LayoutModel",
      "state": {}
     },
     "9556274e90b64a4bb51b8e1a2eb0462e": {
      "model_module": "@jupyter-widgets/base",
      "model_module_version": "1.1.0",
      "model_name": "LayoutModel",
      "state": {}
     },
     "955a72f962644df8bea0b03467a6d2e3": {
      "model_module": "@jupyter-widgets/base",
      "model_module_version": "1.1.0",
      "model_name": "LayoutModel",
      "state": {}
     },
     "965ba5aa3bb648c899f8ba33fda5cf31": {
      "model_module": "@jupyter-widgets/controls",
      "model_module_version": "1.4.0",
      "model_name": "FloatTextModel",
      "state": {
       "layout": "IPY_MODEL_74b2c32160214088bd33ae84127e92bc",
       "step": null,
       "style": "IPY_MODEL_a5c61a105e6e45afa9758af74b614962",
       "value": 2225
      }
     },
     "967ea0cea3b44232b483737bad238961": {
      "model_module": "@jupyter-widgets/controls",
      "model_module_version": "1.4.0",
      "model_name": "DescriptionStyleModel",
      "state": {
       "description_width": ""
      }
     },
     "9850692dac5444339af116e293364b98": {
      "model_module": "@jupyter-widgets/controls",
      "model_module_version": "1.4.0",
      "model_name": "LabelModel",
      "state": {
       "layout": "IPY_MODEL_364239ea052146749c210d876d457052",
       "style": "IPY_MODEL_a17e77cf8e2d4cd1b086d4dda0b399ce"
      }
     },
     "991efac838994f0ab46af4dd67a6cce2": {
      "model_module": "@jupyter-widgets/base",
      "model_module_version": "1.1.0",
      "model_name": "LayoutModel",
      "state": {}
     },
     "992c66e245f641c19dbfccd1fcf3dc9b": {
      "model_module": "@jupyter-widgets/controls",
      "model_module_version": "1.4.0",
      "model_name": "LabelModel",
      "state": {
       "layout": "IPY_MODEL_c355d1874a554165b4099d8da3d35aef",
       "style": "IPY_MODEL_0e3a382431764e918183d36d775bca91",
       "value": "La:"
      }
     },
     "992d4f926f4b47b79dee5492a88d012f": {
      "model_module": "@jupyter-widgets/controls",
      "model_module_version": "1.4.0",
      "model_name": "FloatTextModel",
      "state": {
       "disabled": true,
       "layout": "IPY_MODEL_eb845b48322e45158642a399f660afa0",
       "step": null,
       "style": "IPY_MODEL_69596f18125f465a842253c4a56b8254",
       "value": -0.35
      }
     },
     "996a0fc2c31d488089176d41d8206f99": {
      "model_module": "@jupyter-widgets/controls",
      "model_module_version": "1.4.0",
      "model_name": "DescriptionStyleModel",
      "state": {
       "description_width": ""
      }
     },
     "99e3340dccac4f1a9ed489a4bb4d53b8": {
      "model_module": "@jupyter-widgets/controls",
      "model_module_version": "1.4.0",
      "model_name": "DropdownModel",
      "state": {
       "_options_labels": [
        "0 complex eigenvalues",
        "2 complex eigenvalues"
       ],
       "description": "Aobs:",
       "disabled": true,
       "index": 0,
       "layout": "IPY_MODEL_217df9fb08f841e0b881ed5ff541226f",
       "style": "IPY_MODEL_def75223186b46c2ab6eb64e80dbe69d"
      }
     },
     "9a30578514a043dc80c647d4b5ab588d": {
      "model_module": "@jupyter-widgets/controls",
      "model_module_version": "1.4.0",
      "model_name": "LabelModel",
      "state": {
       "layout": "IPY_MODEL_c3383bbe576346f085ed887be29c1071",
       "style": "IPY_MODEL_78e0cf59f666429ba0b284f17cd837f0"
      }
     },
     "9a4bb58b105e4702af8bc3d718dfd1c3": {
      "model_module": "@jupyter-widgets/base",
      "model_module_version": "1.1.0",
      "model_name": "LayoutModel",
      "state": {}
     },
     "9a5f4e5b037a43a9b59844db56f0835f": {
      "model_module": "@jupyter-widgets/base",
      "model_module_version": "1.1.0",
      "model_name": "LayoutModel",
      "state": {}
     },
     "9aa8d3ec40df4e009aab31ecae602e3a": {
      "model_module": "@jupyter-widgets/base",
      "model_module_version": "1.1.0",
      "model_name": "LayoutModel",
      "state": {}
     },
     "9adf73266e5b41fca5ffa68f3c06d757": {
      "model_module": "@jupyter-widgets/base",
      "model_module_version": "1.1.0",
      "model_name": "LayoutModel",
      "state": {}
     },
     "9b5dafc61d3444c5ad1d3934f7051d68": {
      "model_module": "@jupyter-widgets/base",
      "model_module_version": "1.1.0",
      "model_name": "LayoutModel",
      "state": {}
     },
     "9be6a001337f487e922bd0dfa9a78022": {
      "model_module": "@jupyter-widgets/controls",
      "model_module_version": "1.4.0",
      "model_name": "LabelModel",
      "state": {
       "layout": "IPY_MODEL_6c5bde8b5bac48509228c5bee9f36bbd",
       "style": "IPY_MODEL_65deab75d13c4bf1bef36f3c38182f6b",
       "value": "Aobs's eigs:"
      }
     },
     "9c510b94c02845c18cef93c5f4a2484f": {
      "model_module": "@jupyter-widgets/base",
      "model_module_version": "1.1.0",
      "model_name": "LayoutModel",
      "state": {}
     },
     "9c5f455366254c98bcb2a632ba62746f": {
      "model_module": "@jupyter-widgets/controls",
      "model_module_version": "1.4.0",
      "model_name": "DropdownModel",
      "state": {
       "_options_labels": [
        "0 complex eigenvalues",
        "2 complex eigenvalues",
        "4 complex eigenvalues"
       ],
       "description": "Aa:",
       "disabled": true,
       "index": 0,
       "layout": "IPY_MODEL_8c91254678864b30a16507999fae5742",
       "style": "IPY_MODEL_0ffabbd5de5b4e49b39460918d7833c9"
      }
     },
     "9c7326c1824c4d51bcba36be24cfd780": {
      "model_module": "@jupyter-widgets/controls",
      "model_module_version": "1.4.0",
      "model_name": "DescriptionStyleModel",
      "state": {
       "description_width": ""
      }
     },
     "9d157d49b60d48c9ae30175ff22d2776": {
      "model_module": "@jupyter-widgets/base",
      "model_module_version": "1.1.0",
      "model_name": "LayoutModel",
      "state": {}
     },
     "9d2107f7a8294bb5a1e31ad3096c399e": {
      "model_module": "@jupyter-widgets/controls",
      "model_module_version": "1.4.0",
      "model_name": "DropdownModel",
      "state": {
       "_options_labels": [
        "Set Ka and La",
        "Set the eigenvalues"
       ],
       "index": 0,
       "layout": "IPY_MODEL_d6431a11b46943d48afc9b025482f791",
       "style": "IPY_MODEL_24dd982e2a6149fa8600278128d390d9"
      }
     },
     "9e0c7264530f48d8a6e52208066546ff": {
      "model_module": "@jupyter-widgets/controls",
      "model_module_version": "1.4.0",
      "model_name": "VBoxModel",
      "state": {
       "children": [
        "IPY_MODEL_c566d7ba152c41a9bb70e0b1399a0f3e",
        "IPY_MODEL_ffc5676e98b545a9897040da8eda7dc9"
       ],
       "layout": "IPY_MODEL_dd750e074b794c73b436f80106ff3f09"
      }
     },
     "9e3dc09502d8495584a6ac12c8f8ac5a": {
      "model_module": "@jupyter-widgets/base",
      "model_module_version": "1.1.0",
      "model_name": "LayoutModel",
      "state": {}
     },
     "9e4fb7fb6cee4738ab762e038ba437ba": {
      "model_module": "@jupyter-widgets/base",
      "model_module_version": "1.1.0",
      "model_name": "LayoutModel",
      "state": {}
     },
     "9edf3cd601b845089ed8bd5d7bc8d3eb": {
      "model_module": "@jupyter-widgets/base",
      "model_module_version": "1.1.0",
      "model_name": "LayoutModel",
      "state": {}
     },
     "9efb9c3136cb4814bbbbb397033e6d24": {
      "model_module": "@jupyter-widgets/controls",
      "model_module_version": "1.4.0",
      "model_name": "FloatTextModel",
      "state": {
       "layout": "IPY_MODEL_5cf0c5c499384c6f96f84a0eae53b53c",
       "step": null,
       "style": "IPY_MODEL_32a09d78e0b3416a94dc5ac17c5bb0d0",
       "value": -66.66666666666667
      }
     },
     "9f2b0ec4d4034ae3ad81a74617b85dd9": {
      "model_module": "@jupyter-widgets/controls",
      "model_module_version": "1.4.0",
      "model_name": "FloatTextModel",
      "state": {
       "layout": "IPY_MODEL_e35ded94ccdb411fb3f03b38368623d6",
       "step": null,
       "style": "IPY_MODEL_f971744a6b6f4c44b945449b4acd81c4"
      }
     },
     "9f426cacd41c42aca1af846e019bfa02": {
      "model_module": "@jupyter-widgets/controls",
      "model_module_version": "1.4.0",
      "model_name": "LabelModel",
      "state": {
       "layout": "IPY_MODEL_226ecd100d9b43bdb15a7c6850582d90",
       "style": "IPY_MODEL_b33e7488490b4fa8ba525c1d8fbb4126"
      }
     },
     "9f7de2b91d5f4664b24e72fafb4248bf": {
      "model_module": "@jupyter-widgets/controls",
      "model_module_version": "1.4.0",
      "model_name": "LabelModel",
      "state": {
       "layout": "IPY_MODEL_460300bb7cfb4e759ba669fd07f3b123",
       "style": "IPY_MODEL_ea21094a446f4ef5a10ba3ec7281a8e1"
      }
     },
     "a016d7fcf44b4c7988226f529ae389e7": {
      "model_module": "@jupyter-widgets/controls",
      "model_module_version": "1.4.0",
      "model_name": "LabelModel",
      "state": {
       "layout": "IPY_MODEL_28145b3fa0c947388e212e724a9d4113",
       "style": "IPY_MODEL_bc95ce86f973460686ff28ab1ad25643",
       "value": "La:"
      }
     },
     "a17e77cf8e2d4cd1b086d4dda0b399ce": {
      "model_module": "@jupyter-widgets/controls",
      "model_module_version": "1.4.0",
      "model_name": "DescriptionStyleModel",
      "state": {
       "description_width": ""
      }
     },
     "a1e753b9be3c4fb18a402f4d11ad7622": {
      "model_module": "@jupyter-widgets/output",
      "model_module_version": "1.0.0",
      "model_name": "OutputModel",
      "state": {
       "layout": "IPY_MODEL_2ad36e1cd7c6491ebd207e23495eaf5f",
       "outputs": [
        {
         "name": "stdout",
         "output_type": "stream",
         "text": "The Aa's eigenvalues are: -2.24+2.23j, -2.24+-2.23j, -0.28+0.00j, -0.26+0.32j and -0.26+-0.32j\nThe observer\\s eigenvalues are: -10.00+0.00j and -10.00+0.00j\n"
        }
       ]
      }
     },
     "a1f873543ca745e8869870277844004a": {
      "model_module": "@jupyter-widgets/controls",
      "model_module_version": "1.4.0",
      "model_name": "FloatTextModel",
      "state": {
       "disabled": true,
       "layout": "IPY_MODEL_abd294ef813b4562ba3af45c793fa8cd",
       "step": null,
       "style": "IPY_MODEL_186de4e4fe0949228939f5d0f3901124"
      }
     },
     "a225f194cbbc4a6dbf9bed6cdfccc646": {
      "model_module": "@jupyter-widgets/controls",
      "model_module_version": "1.4.0",
      "model_name": "DescriptionStyleModel",
      "state": {
       "description_width": ""
      }
     },
     "a233f2749697478193516c67501f9bf6": {
      "model_module": "@jupyter-widgets/controls",
      "model_module_version": "1.4.0",
      "model_name": "HBoxModel",
      "state": {
       "children": [
        "IPY_MODEL_3fcf20770fa04a8f99220ecff57a919c",
        "IPY_MODEL_7571abb03f0040679517c6245bf38472",
        "IPY_MODEL_5ca9d6cfbf1e4f5a95615e0dba52d25b",
        "IPY_MODEL_fbb1d9058ea14688b02e1bf1f255cd4f",
        "IPY_MODEL_784694adeef14254b06506b91ca25387"
       ],
       "layout": "IPY_MODEL_d12e5a5b011349588613791490b0f7e0"
      }
     },
     "a267df06d1fd4abdbeeaa4b209f965f6": {
      "model_module": "@jupyter-widgets/controls",
      "model_module_version": "1.4.0",
      "model_name": "VBoxModel",
      "state": {
       "children": [
        "IPY_MODEL_ce2edb54fe42459ca62c2936d6529836",
        "IPY_MODEL_bd3eeb55a66a4475a7aca37d905b30d1"
       ],
       "layout": "IPY_MODEL_296ca86ae0ed488dbcf495fcee09b2d4"
      }
     },
     "a2730760d6e340dd9350b3d45baf8886": {
      "model_module": "@jupyter-widgets/controls",
      "model_module_version": "1.4.0",
      "model_name": "DescriptionStyleModel",
      "state": {
       "description_width": ""
      }
     },
     "a2a23603747a44b8b4b99e05ba1585cc": {
      "model_module": "@jupyter-widgets/controls",
      "model_module_version": "1.4.0",
      "model_name": "DescriptionStyleModel",
      "state": {
       "description_width": ""
      }
     },
     "a2ad8cd0ada14749b6cff38db8256c77": {
      "model_module": "@jupyter-widgets/base",
      "model_module_version": "1.1.0",
      "model_name": "LayoutModel",
      "state": {}
     },
     "a2b1153c0b734d19bbbe9e4cb71dfd22": {
      "model_module": "@jupyter-widgets/base",
      "model_module_version": "1.1.0",
      "model_name": "LayoutModel",
      "state": {}
     },
     "a33161fb781f43298700965957684f1e": {
      "model_module": "@jupyter-widgets/controls",
      "model_module_version": "1.4.0",
      "model_name": "ButtonModel",
      "state": {
       "description": "Test",
       "icon": "check",
       "layout": "IPY_MODEL_6672827f1251434cafa61ba9bb202373",
       "style": "IPY_MODEL_eb04c670a97349aa81672b123aa0368f",
       "tooltip": "Test"
      }
     },
     "a35a317a47864a4bbdf20780013db7d8": {
      "model_module": "@jupyter-widgets/controls",
      "model_module_version": "1.4.0",
      "model_name": "DescriptionStyleModel",
      "state": {
       "description_width": ""
      }
     },
     "a3c2a24a94aa456cbd6779a86c1f06ad": {
      "model_module": "@jupyter-widgets/controls",
      "model_module_version": "1.4.0",
      "model_name": "VBoxModel",
      "state": {
       "children": [
        "IPY_MODEL_f66682badded4087a8e4129a3e4d524b"
       ],
       "layout": "IPY_MODEL_3b4c40f6dee64918a393d35056e0c706"
      }
     },
     "a3e62160c9b54b1d8127e609d6602571": {
      "model_module": "@jupyter-widgets/base",
      "model_module_version": "1.1.0",
      "model_name": "LayoutModel",
      "state": {}
     },
     "a428fbacff1a4a828a289047af365d41": {
      "model_module": "@jupyter-widgets/controls",
      "model_module_version": "1.4.0",
      "model_name": "DescriptionStyleModel",
      "state": {
       "description_width": ""
      }
     },
     "a4573b1d69b94da6abe2d29a5940a904": {
      "model_module": "@jupyter-widgets/controls",
      "model_module_version": "1.4.0",
      "model_name": "DescriptionStyleModel",
      "state": {
       "description_width": ""
      }
     },
     "a460952c12254a589008273d3b2199a9": {
      "model_module": "@jupyter-widgets/base",
      "model_module_version": "1.1.0",
      "model_name": "LayoutModel",
      "state": {}
     },
     "a4d1a29d08444259bc6ac049b78ec661": {
      "model_module": "@jupyter-widgets/base",
      "model_module_version": "1.1.0",
      "model_name": "LayoutModel",
      "state": {}
     },
     "a5628dd710ed40f0836562eea9957797": {
      "model_module": "@jupyter-widgets/controls",
      "model_module_version": "1.4.0",
      "model_name": "HBoxModel",
      "state": {
       "children": [
        "IPY_MODEL_90428d44e77d4165ac20f73f2cc388b9"
       ],
       "layout": "IPY_MODEL_4ec30f2860a74ef0a6f495243611dd88"
      }
     },
     "a5808a4c8deb4864a3bf6c22210b4579": {
      "model_module": "@jupyter-widgets/base",
      "model_module_version": "1.1.0",
      "model_name": "LayoutModel",
      "state": {}
     },
     "a5b53e522d8e4962a7d78f2bf1ad4c12": {
      "model_module": "@jupyter-widgets/controls",
      "model_module_version": "1.4.0",
      "model_name": "HBoxModel",
      "state": {
       "children": [
        "IPY_MODEL_0f26c8afca96402aa66b81bc451a3559",
        "IPY_MODEL_4ddaa11b8783416d8518d303745b09a7",
        "IPY_MODEL_6e7e97282d8646a99e47bb6ba752331d",
        "IPY_MODEL_bf5b937f5c5c49df9d883ad5b1642e3c",
        "IPY_MODEL_36b4c1c517ff44af830b4f3695cbd377"
       ],
       "layout": "IPY_MODEL_5fd329d9eb304ad5a6bce400ae2719bd"
      }
     },
     "a5c61a105e6e45afa9758af74b614962": {
      "model_module": "@jupyter-widgets/controls",
      "model_module_version": "1.4.0",
      "model_name": "DescriptionStyleModel",
      "state": {
       "description_width": ""
      }
     },
     "a632af6c959f4150a8552cf2868f1563": {
      "model_module": "@jupyter-widgets/controls",
      "model_module_version": "1.4.0",
      "model_name": "HBoxModel",
      "state": {
       "children": [
        "IPY_MODEL_a1f873543ca745e8869870277844004a"
       ],
       "layout": "IPY_MODEL_37327690f2424d65b8d49eece9eaf6a9"
      }
     },
     "a6ad84dbfce948f98666e1dd20d617e5": {
      "model_module": "@jupyter-widgets/controls",
      "model_module_version": "1.4.0",
      "model_name": "DescriptionStyleModel",
      "state": {
       "description_width": ""
      }
     },
     "a7b4cf28d00f47458db9d6207df4c87c": {
      "model_module": "@jupyter-widgets/base",
      "model_module_version": "1.1.0",
      "model_name": "LayoutModel",
      "state": {}
     },
     "a8c021ecd91740e0a4a051e52059b3e9": {
      "model_module": "@jupyter-widgets/base",
      "model_module_version": "1.1.0",
      "model_name": "LayoutModel",
      "state": {}
     },
     "a91bbca18081424791e2d1ee5f5cce53": {
      "model_module": "@jupyter-widgets/controls",
      "model_module_version": "1.4.0",
      "model_name": "HBoxModel",
      "state": {
       "children": [
        "IPY_MODEL_1c47caf2cb4b47a3a6d0d38a124adb42",
        "IPY_MODEL_e64a1f67ddd246a4b2817a99b07cca56",
        "IPY_MODEL_e7eba20de0944e0c98115502cd135383",
        "IPY_MODEL_7d01dc2c0b4d48d98e763efa1f17a404",
        "IPY_MODEL_7ffaa79fb9994c4bae603296d84f245e",
        "IPY_MODEL_df4f2e5f7cac45da9930e46f5690c3a4"
       ],
       "layout": "IPY_MODEL_4c4a53b62fd44b28b1cce41d159b39bf"
      }
     },
     "a9c2a999751c47b590d4150abf7bbb56": {
      "model_module": "@jupyter-widgets/controls",
      "model_module_version": "1.4.0",
      "model_name": "LabelModel",
      "state": {
       "layout": "IPY_MODEL_28eeaa6532d64589be32837e44b6116e",
       "style": "IPY_MODEL_bfc0aca326e44e0e8cfa33e7a1b1d630"
      }
     },
     "a9df4eb6b13f4772b2ba3fc42ce6a654": {
      "model_module": "@jupyter-widgets/controls",
      "model_module_version": "1.4.0",
      "model_name": "DescriptionStyleModel",
      "state": {
       "description_width": ""
      }
     },
     "aa1c17dc86e6441485062eed23d3ab0a": {
      "model_module": "@jupyter-widgets/base",
      "model_module_version": "1.1.0",
      "model_name": "LayoutModel",
      "state": {}
     },
     "aa1c87d6fda14c1980b7d432ee2fe366": {
      "model_module": "@jupyter-widgets/controls",
      "model_module_version": "1.4.0",
      "model_name": "FloatTextModel",
      "state": {
       "layout": "IPY_MODEL_86dffef0637946b6bdce07bd18233633",
       "step": null,
       "style": "IPY_MODEL_4278af2ea2454105a0438aceb142c914",
       "value": 5275
      }
     },
     "aa396f910ca1429e83f9525d6adb3ba8": {
      "model_module": "@jupyter-widgets/base",
      "model_module_version": "1.1.0",
      "model_name": "LayoutModel",
      "state": {}
     },
     "aa41ddcb506d4d6a8ae6f55403ae7d59": {
      "model_module": "@jupyter-widgets/base",
      "model_module_version": "1.1.0",
      "model_name": "LayoutModel",
      "state": {
       "width": "90px"
      }
     },
     "ab5d1f7943974b4ea254b5b26a1c85d8": {
      "model_module": "@jupyter-widgets/controls",
      "model_module_version": "1.4.0",
      "model_name": "LabelModel",
      "state": {
       "layout": "IPY_MODEL_16112e01e61a4c7a852edd7bb209d2be",
       "style": "IPY_MODEL_7922325f544a4df3b7a664440ab450f3"
      }
     },
     "ab62f7fb8f884a83b7a1a8cd07fc402b": {
      "model_module": "@jupyter-widgets/base",
      "model_module_version": "1.1.0",
      "model_name": "LayoutModel",
      "state": {}
     },
     "abbda41855ae4751925c4c1c2e1ecad3": {
      "model_module": "@jupyter-widgets/controls",
      "model_module_version": "1.4.0",
      "model_name": "FloatTextModel",
      "state": {
       "layout": "IPY_MODEL_37e3d4ef915442e587ab592c14598b61",
       "step": null,
       "style": "IPY_MODEL_0f6c3a9260604cbfabe83a35c70edc75"
      }
     },
     "abd294ef813b4562ba3af45c793fa8cd": {
      "model_module": "@jupyter-widgets/base",
      "model_module_version": "1.1.0",
      "model_name": "LayoutModel",
      "state": {
       "width": "90px"
      }
     },
     "ac0ffe7011a04929a5584f8a14bbb898": {
      "model_module": "@jupyter-widgets/controls",
      "model_module_version": "1.4.0",
      "model_name": "DescriptionStyleModel",
      "state": {
       "description_width": ""
      }
     },
     "ac1bd1734d2c4d0182e333fa5842cb67": {
      "model_module": "@jupyter-widgets/controls",
      "model_module_version": "1.4.0",
      "model_name": "FloatTextModel",
      "state": {
       "layout": "IPY_MODEL_2bf0392a0f39437ba55867d895e68ba0",
       "step": null,
       "style": "IPY_MODEL_daf87ceba6fc4cff807558eed8167824"
      }
     },
     "ac57f9372bfa4b58a5c390e8d098726c": {
      "model_module": "@jupyter-widgets/base",
      "model_module_version": "1.1.0",
      "model_name": "LayoutModel",
      "state": {}
     },
     "ac58d08f3ce54afa8fe5fd6c045ae5af": {
      "model_module": "@jupyter-widgets/controls",
      "model_module_version": "1.4.0",
      "model_name": "HBoxModel",
      "state": {
       "children": [
        "IPY_MODEL_1cf2e125728c4d5e8c8fea95a6038064",
        "IPY_MODEL_6d68637432684016b0727f506afe0df5",
        "IPY_MODEL_f01b454caf0243f89fac5809d26d4cf2",
        "IPY_MODEL_3fe63ac60ab64ded984e9abeeff7abf5",
        "IPY_MODEL_317ee220faa84115bad387393653c51c",
        "IPY_MODEL_587e0f7d832d4ecc866fb0f39ea9d990",
        "IPY_MODEL_212cbb388f3446d9be9fc9ea66b8a4ef",
        "IPY_MODEL_9850692dac5444339af116e293364b98",
        "IPY_MODEL_9be6a001337f487e922bd0dfa9a78022",
        "IPY_MODEL_a3c2a24a94aa456cbd6779a86c1f06ad",
        "IPY_MODEL_25be128dd26d4cd298247bbbc5bbe06a"
       ],
       "layout": "IPY_MODEL_9157d2ff6f494800ac8ae9cdc1fde052"
      }
     },
     "ac8c59c13a5f406eab4c4e5831aab8c5": {
      "model_module": "@jupyter-widgets/controls",
      "model_module_version": "1.4.0",
      "model_name": "DescriptionStyleModel",
      "state": {
       "description_width": ""
      }
     },
     "acc2a1e4067f46c38bb2cbd0039ce326": {
      "model_module": "@jupyter-widgets/base",
      "model_module_version": "1.1.0",
      "model_name": "LayoutModel",
      "state": {}
     },
     "acce651c42c84a9894a543393f8a167c": {
      "model_module": "@jupyter-widgets/base",
      "model_module_version": "1.1.0",
      "model_name": "LayoutModel",
      "state": {}
     },
     "ace5b89dbb38430baaca9d95f8928041": {
      "model_module": "@jupyter-widgets/base",
      "model_module_version": "1.1.0",
      "model_name": "LayoutModel",
      "state": {}
     },
     "acecc2cb78574027ab0f5990fddab600": {
      "model_module": "@jupyter-widgets/controls",
      "model_module_version": "1.4.0",
      "model_name": "LabelModel",
      "state": {
       "layout": "IPY_MODEL_f699eb1a696a488fab7f9c72c92dee1a",
       "style": "IPY_MODEL_59fa07d6295e403fb187b29b6a589349"
      }
     },
     "acfff617198a4fed9692133377da3b47": {
      "model_module": "@jupyter-widgets/base",
      "model_module_version": "1.1.0",
      "model_name": "LayoutModel",
      "state": {}
     },
     "ad34d26874a24d2c89c2f16a3cf953ee": {
      "model_module": "@jupyter-widgets/controls",
      "model_module_version": "1.4.0",
      "model_name": "LabelModel",
      "state": {
       "layout": "IPY_MODEL_9c510b94c02845c18cef93c5f4a2484f",
       "style": "IPY_MODEL_779c0d356e134116a834edf79e733609"
      }
     },
     "ad7ee93bc69e44238236082c27729623": {
      "model_module": "@jupyter-widgets/controls",
      "model_module_version": "1.4.0",
      "model_name": "LabelModel",
      "state": {
       "layout": "IPY_MODEL_32c998c40fcb45f29c5f62895b3ae599",
       "style": "IPY_MODEL_3e952182f68c4e9ab7e75f184898c9a2",
       "value": "Ka:"
      }
     },
     "ad88204fbe9a48e0978492ccd91ad57b": {
      "model_module": "@jupyter-widgets/base",
      "model_module_version": "1.1.0",
      "model_name": "LayoutModel",
      "state": {}
     },
     "ad8f79d762fa4eb4b640314da6950629": {
      "model_module": "@jupyter-widgets/controls",
      "model_module_version": "1.4.0",
      "model_name": "HBoxModel",
      "state": {
       "children": [
        "IPY_MODEL_6313022924144436af1f7f4cd8e9779c"
       ],
       "layout": "IPY_MODEL_c51bdfc13b47415f9460f0ee83c1df87"
      }
     },
     "ada0e8828ac343df9e9760d6df6d9714": {
      "model_module": "@jupyter-widgets/base",
      "model_module_version": "1.1.0",
      "model_name": "LayoutModel",
      "state": {}
     },
     "adb4d4606a424246aaccb800cd1f30df": {
      "model_module": "@jupyter-widgets/base",
      "model_module_version": "1.1.0",
      "model_name": "LayoutModel",
      "state": {}
     },
     "add2942f83e541c2af6d4410e83b6dde": {
      "model_module": "@jupyter-widgets/base",
      "model_module_version": "1.1.0",
      "model_name": "LayoutModel",
      "state": {}
     },
     "add9bf7eae994418b676c6558ec5f0f1": {
      "model_module": "@jupyter-widgets/controls",
      "model_module_version": "1.4.0",
      "model_name": "DescriptionStyleModel",
      "state": {
       "description_width": ""
      }
     },
     "ade065b9c0274c9f8243ed695fe68333": {
      "model_module": "@jupyter-widgets/controls",
      "model_module_version": "1.4.0",
      "model_name": "DescriptionStyleModel",
      "state": {
       "description_width": ""
      }
     },
     "ade07f29b03d42f9af3c3c14c7d31ea0": {
      "model_module": "@jupyter-widgets/base",
      "model_module_version": "1.1.0",
      "model_name": "LayoutModel",
      "state": {}
     },
     "ae2970f665224c9fbc4420c1cffb665d": {
      "model_module": "@jupyter-widgets/base",
      "model_module_version": "1.1.0",
      "model_name": "LayoutModel",
      "state": {}
     },
     "ae665ed5b04d42f1b2b624cfbc726e6f": {
      "model_module": "@jupyter-widgets/base",
      "model_module_version": "1.1.0",
      "model_name": "LayoutModel",
      "state": {}
     },
     "aec6d0f1383e406296db3be22810ad9c": {
      "model_module": "@jupyter-widgets/controls",
      "model_module_version": "1.4.0",
      "model_name": "LabelModel",
      "state": {
       "layout": "IPY_MODEL_409aba40e57f41d5bb4f1379e4152d4e",
       "style": "IPY_MODEL_f48ce26f0db74d56b4257564f06b803e",
       "value": "La:"
      }
     },
     "aecb9207ab8d41ffb563fc62ebc16006": {
      "model_module": "@jupyter-widgets/output",
      "model_module_version": "1.0.0",
      "model_name": "OutputModel",
      "state": {
       "layout": "IPY_MODEL_3882f6bf357a4adab0cd5691b4c6c866",
       "outputs": [
        {
         "name": "stdout",
         "output_type": "stream",
         "text": "The Aa's eigenvalues are: -2.24+2.23j, -2.24+-2.23j, -0.28+0.00j, -0.26+0.32j and -0.26+-0.32j\nThe observer\\s eigenvalues are: -10.00+0.00j and -10.00+0.00j\n"
        }
       ]
      }
     },
     "aef9a5d2035249b8a3333a29aded71de": {
      "model_module": "@jupyter-widgets/controls",
      "model_module_version": "1.4.0",
      "model_name": "FloatTextModel",
      "state": {
       "layout": "IPY_MODEL_aa41ddcb506d4d6a8ae6f55403ae7d59",
       "step": null,
       "style": "IPY_MODEL_0706e16b9ab64db69dc8b23ae2724d9e",
       "value": -0.5
      }
     },
     "af33c6205ab247349a81557418e23272": {
      "model_module": "@jupyter-widgets/base",
      "model_module_version": "1.1.0",
      "model_name": "LayoutModel",
      "state": {}
     },
     "af6f99f25c5f46168e1651111b8ad41b": {
      "model_module": "@jupyter-widgets/controls",
      "model_module_version": "1.4.0",
      "model_name": "DescriptionStyleModel",
      "state": {
       "description_width": ""
      }
     },
     "b05b346ca5f149c68313830c8017a0c4": {
      "model_module": "@jupyter-widgets/controls",
      "model_module_version": "1.4.0",
      "model_name": "LabelModel",
      "state": {
       "layout": "IPY_MODEL_37d23d6207874b9db8948c62f4cd0835",
       "style": "IPY_MODEL_4bdfb3011517401eace9dacb974b719c"
      }
     },
     "b080ba2fe8b74e95941fc70e47b839e1": {
      "model_module": "@jupyter-widgets/controls",
      "model_module_version": "1.4.0",
      "model_name": "VBoxModel",
      "state": {
       "children": [
        "IPY_MODEL_ad8f79d762fa4eb4b640314da6950629"
       ],
       "layout": "IPY_MODEL_deaede3f369447fa81a975c26718206a"
      }
     },
     "b091aa29372a4b588df50dbfdb73bfca": {
      "model_module": "@jupyter-widgets/controls",
      "model_module_version": "1.4.0",
      "model_name": "DescriptionStyleModel",
      "state": {
       "description_width": ""
      }
     },
     "b099da3d4c434dc5847966b8cdd77694": {
      "model_module": "@jupyter-widgets/base",
      "model_module_version": "1.1.0",
      "model_name": "LayoutModel",
      "state": {}
     },
     "b16de3267e844d5893eb86aa89317258": {
      "model_module": "@jupyter-widgets/base",
      "model_module_version": "1.1.0",
      "model_name": "LayoutModel",
      "state": {}
     },
     "b21b2a2d1b35450395e3c319fc54c196": {
      "model_module": "@jupyter-widgets/controls",
      "model_module_version": "1.4.0",
      "model_name": "FloatTextModel",
      "state": {
       "layout": "IPY_MODEL_e2a06b360f0e49c6be50c844c97854d2",
       "step": null,
       "style": "IPY_MODEL_a6ad84dbfce948f98666e1dd20d617e5",
       "value": -0.6
      }
     },
     "b2d05cd7284844c9a283bfeaa163772d": {
      "model_module": "@jupyter-widgets/controls",
      "model_module_version": "1.4.0",
      "model_name": "LabelModel",
      "state": {
       "layout": "IPY_MODEL_3e59c5655b3f41d1aaf0f24e30cdd54c",
       "style": "IPY_MODEL_2bc216ef3e2d46c8b160d194b072936c",
       "value": "Aobs's eigs:"
      }
     },
     "b33e7488490b4fa8ba525c1d8fbb4126": {
      "model_module": "@jupyter-widgets/controls",
      "model_module_version": "1.4.0",
      "model_name": "DescriptionStyleModel",
      "state": {
       "description_width": ""
      }
     },
     "b438c6c4dba24c86a5f99cb78a66dc10": {
      "model_module": "@jupyter-widgets/base",
      "model_module_version": "1.1.0",
      "model_name": "LayoutModel",
      "state": {}
     },
     "b44a86c421fc453e90a3fbdd66345770": {
      "model_module": "@jupyter-widgets/base",
      "model_module_version": "1.1.0",
      "model_name": "LayoutModel",
      "state": {}
     },
     "b45ddf3e5d6349ee82a4176a026af3aa": {
      "model_module": "@jupyter-widgets/controls",
      "model_module_version": "1.4.0",
      "model_name": "DescriptionStyleModel",
      "state": {
       "description_width": ""
      }
     },
     "b5581d35824c472bb9eaac0a5762f404": {
      "model_module": "@jupyter-widgets/controls",
      "model_module_version": "1.4.0",
      "model_name": "DropdownModel",
      "state": {
       "_options_labels": [
        "0 complex eigenvalues",
        "2 complex eigenvalues"
       ],
       "description": "Aobs:",
       "disabled": true,
       "index": 0,
       "layout": "IPY_MODEL_ebb16ece53454ebcaf4e7e76b58df6c0",
       "style": "IPY_MODEL_b45ddf3e5d6349ee82a4176a026af3aa"
      }
     },
     "b55b9482c3094a98a8cf619d230dbc9b": {
      "model_module": "@jupyter-widgets/controls",
      "model_module_version": "1.4.0",
      "model_name": "LabelModel",
      "state": {
       "layout": "IPY_MODEL_ca11427347f64c5f951f50f087770cb1",
       "style": "IPY_MODEL_fa6b3a1cd38f4591b1ea46c619cb3030"
      }
     },
     "b56385a123a9454aa4c26e576ee9e00e": {
      "model_module": "@jupyter-widgets/controls",
      "model_module_version": "1.4.0",
      "model_name": "LabelModel",
      "state": {
       "layout": "IPY_MODEL_285f9014036e4d5485f9c4c625564664",
       "style": "IPY_MODEL_ddcde07e7b004058846b6f64691c5b1b",
       "value": "Aa's eigs:"
      }
     },
     "b5a41552b1c54b3b8c58bfc026388d4f": {
      "model_module": "@jupyter-widgets/controls",
      "model_module_version": "1.4.0",
      "model_name": "DescriptionStyleModel",
      "state": {
       "description_width": ""
      }
     },
     "b60b7d037b5b45aba5cce6360c0cb3fe": {
      "model_module": "@jupyter-widgets/controls",
      "model_module_version": "1.4.0",
      "model_name": "DescriptionStyleModel",
      "state": {
       "description_width": ""
      }
     },
     "b6573d23f34546ba8e2cbf2b6767a8e1": {
      "model_module": "@jupyter-widgets/base",
      "model_module_version": "1.1.0",
      "model_name": "LayoutModel",
      "state": {
       "width": "90px"
      }
     },
     "b6800bb5073f4fb49de9e3b04e45f578": {
      "model_module": "@jupyter-widgets/controls",
      "model_module_version": "1.4.0",
      "model_name": "FloatTextModel",
      "state": {
       "layout": "IPY_MODEL_f13fe2c0b63c45769a832e70c2b163af",
       "step": null,
       "style": "IPY_MODEL_4255965f2e914f35bb60cb680011283c",
       "value": -1
      }
     },
     "b6fa08a5501e4a248ede49d190466047": {
      "model_module": "@jupyter-widgets/controls",
      "model_module_version": "1.4.0",
      "model_name": "DescriptionStyleModel",
      "state": {
       "description_width": ""
      }
     },
     "b71de6e879bf43289b585f20d30e8ed5": {
      "model_module": "@jupyter-widgets/controls",
      "model_module_version": "1.4.0",
      "model_name": "LabelModel",
      "state": {
       "layout": "IPY_MODEL_bb537de9ef7642bb900cce4aa0f97117",
       "style": "IPY_MODEL_8bd8a16f4c984ae9a3b83d639201f311"
      }
     },
     "b735c37b54aa43c8a0944fb020c85b42": {
      "model_module": "@jupyter-widgets/controls",
      "model_module_version": "1.4.0",
      "model_name": "DescriptionStyleModel",
      "state": {
       "description_width": ""
      }
     },
     "b7643201185d4a7eb66c0e9807d1fef7": {
      "model_module": "@jupyter-widgets/controls",
      "model_module_version": "1.4.0",
      "model_name": "FloatTextModel",
      "state": {
       "layout": "IPY_MODEL_dd481a0bcf16447a9ec5d9d36bfe144d",
       "step": null,
       "style": "IPY_MODEL_07cc0da023a94e43b22b059533bc0e4a",
       "value": -13.333333333333334
      }
     },
     "b797a5ddd90043d48dd5a77c0f954f95": {
      "model_module": "@jupyter-widgets/base",
      "model_module_version": "1.1.0",
      "model_name": "LayoutModel",
      "state": {}
     },
     "b7a97461761e4eecb7aa7b1254c26810": {
      "model_module": "@jupyter-widgets/base",
      "model_module_version": "1.1.0",
      "model_name": "LayoutModel",
      "state": {}
     },
     "b7ba6d95d1874a64bb2fb648a182f59f": {
      "model_module": "@jupyter-widgets/base",
      "model_module_version": "1.1.0",
      "model_name": "LayoutModel",
      "state": {}
     },
     "b7e50fc8f17b4abca78f401029a01bc2": {
      "model_module": "@jupyter-widgets/base",
      "model_module_version": "1.1.0",
      "model_name": "LayoutModel",
      "state": {}
     },
     "b834c7522897405288cb212a55b55289": {
      "model_module": "@jupyter-widgets/controls",
      "model_module_version": "1.4.0",
      "model_name": "FloatTextModel",
      "state": {
       "layout": "IPY_MODEL_7a9f39ecd9174a5a8dc508b3f593a736",
       "step": null,
       "style": "IPY_MODEL_3430f1d432be4157a235f074511b7e3e",
       "value": -0.2
      }
     },
     "b8b2f07ee6c64dc180f184dafa3db11a": {
      "model_module": "@jupyter-widgets/controls",
      "model_module_version": "1.4.0",
      "model_name": "DescriptionStyleModel",
      "state": {
       "description_width": ""
      }
     },
     "b952ba902f6a46968b42685d2716bfea": {
      "model_module": "@jupyter-widgets/controls",
      "model_module_version": "1.4.0",
      "model_name": "DropdownModel",
      "state": {
       "_options_labels": [
        "0 complex eigenvalues",
        "2 complex eigenvalues",
        "4 complex eigenvalues"
       ],
       "description": "Aa:",
       "disabled": true,
       "index": 0,
       "layout": "IPY_MODEL_000b9c5ed55f49e3a82cde3b11cd106c",
       "style": "IPY_MODEL_cea3dc89a5674bed860a1c0e14d1b995"
      }
     },
     "b96be3625e894b758c148ca1a3566d8e": {
      "model_module": "@jupyter-widgets/base",
      "model_module_version": "1.1.0",
      "model_name": "LayoutModel",
      "state": {}
     },
     "b9934d2ea426442b947bc55a6a98475c": {
      "model_module": "@jupyter-widgets/controls",
      "model_module_version": "1.4.0",
      "model_name": "LabelModel",
      "state": {
       "layout": "IPY_MODEL_58a2970073704e67a4a30380a7830767",
       "style": "IPY_MODEL_68537adbed234b189596496e5d19778e",
       "value": "Ka:"
      }
     },
     "b9ab7a820e01496bac78cac867d8987e": {
      "model_module": "@jupyter-widgets/base",
      "model_module_version": "1.1.0",
      "model_name": "LayoutModel",
      "state": {}
     },
     "ba39f17a808848619246755a9efb4013": {
      "model_module": "@jupyter-widgets/controls",
      "model_module_version": "1.4.0",
      "model_name": "DescriptionStyleModel",
      "state": {
       "description_width": ""
      }
     },
     "bad08b1eee074bc3b71be5dc3ac3cdde": {
      "model_module": "@jupyter-widgets/controls",
      "model_module_version": "1.4.0",
      "model_name": "HBoxModel",
      "state": {
       "children": [
        "IPY_MODEL_33330d6c86ba41eab73940f2280afb9a"
       ],
       "layout": "IPY_MODEL_78faa778293e4233bc1fa7fd155fb559"
      }
     },
     "bb1503441b804f2caeba60eca1ccbe5f": {
      "model_module": "@jupyter-widgets/controls",
      "model_module_version": "1.4.0",
      "model_name": "DescriptionStyleModel",
      "state": {
       "description_width": ""
      }
     },
     "bb537de9ef7642bb900cce4aa0f97117": {
      "model_module": "@jupyter-widgets/base",
      "model_module_version": "1.1.0",
      "model_name": "LayoutModel",
      "state": {}
     },
     "bb953ac90d224d4f936514edcfe673ca": {
      "model_module": "@jupyter-widgets/base",
      "model_module_version": "1.1.0",
      "model_name": "LayoutModel",
      "state": {}
     },
     "bc57fb4c89304c8489fdd40e587aba43": {
      "model_module": "@jupyter-widgets/controls",
      "model_module_version": "1.4.0",
      "model_name": "LabelModel",
      "state": {
       "layout": "IPY_MODEL_3a5b38eedfc246fb8c78fd0753841d63",
       "style": "IPY_MODEL_7ebbc139ae8c405bbaa34222e70c1838"
      }
     },
     "bc95ce86f973460686ff28ab1ad25643": {
      "model_module": "@jupyter-widgets/controls",
      "model_module_version": "1.4.0",
      "model_name": "DescriptionStyleModel",
      "state": {
       "description_width": ""
      }
     },
     "bcfa49fa72d34a4ea767dcb731e0630f": {
      "model_module": "@jupyter-widgets/base",
      "model_module_version": "1.1.0",
      "model_name": "LayoutModel",
      "state": {}
     },
     "bd3eeb55a66a4475a7aca37d905b30d1": {
      "model_module": "@jupyter-widgets/controls",
      "model_module_version": "1.4.0",
      "model_name": "HBoxModel",
      "state": {
       "children": [
        "IPY_MODEL_992d4f926f4b47b79dee5492a88d012f"
       ],
       "layout": "IPY_MODEL_fbf8566bdb534d5dbaa859344be12c0e"
      }
     },
     "bd60702069184fb9b8892a8ebb072f01": {
      "model_module": "@jupyter-widgets/controls",
      "model_module_version": "1.4.0",
      "model_name": "DescriptionStyleModel",
      "state": {
       "description_width": ""
      }
     },
     "bd94108b305f407c92c6883909612aa9": {
      "model_module": "@jupyter-widgets/base",
      "model_module_version": "1.1.0",
      "model_name": "LayoutModel",
      "state": {}
     },
     "bd9ea8fefa454648bd9002246ab78f65": {
      "model_module": "@jupyter-widgets/base",
      "model_module_version": "1.1.0",
      "model_name": "LayoutModel",
      "state": {}
     },
     "bde8952344054e1a9af20bcf7482c849": {
      "model_module": "@jupyter-widgets/controls",
      "model_module_version": "1.4.0",
      "model_name": "DescriptionStyleModel",
      "state": {
       "description_width": ""
      }
     },
     "be0cf595c1f14317a7aaeb76f485754c": {
      "model_module": "@jupyter-widgets/controls",
      "model_module_version": "1.4.0",
      "model_name": "FloatTextModel",
      "state": {
       "layout": "IPY_MODEL_ddcab2b7d2f24f068e314b8d90dc90c0",
       "step": null,
       "style": "IPY_MODEL_d75a7d3e1ca540808fcdb68964032440",
       "value": 2225
      }
     },
     "bebe51591c7f4204987782700ddac779": {
      "model_module": "@jupyter-widgets/base",
      "model_module_version": "1.1.0",
      "model_name": "LayoutModel",
      "state": {
       "height": "0px",
       "width": "0px"
      }
     },
     "bf122223b2724a248d55dd42cc9b3191": {
      "model_module": "@jupyter-widgets/base",
      "model_module_version": "1.1.0",
      "model_name": "LayoutModel",
      "state": {}
     },
     "bf2afba8a3e24272b0f88f8f1da4703f": {
      "model_module": "@jupyter-widgets/output",
      "model_module_version": "1.0.0",
      "model_name": "OutputModel",
      "state": {
       "layout": "IPY_MODEL_2d87c6683db741b78597a76dece4e1fc",
       "outputs": [
        {
         "name": "stdout",
         "output_type": "stream",
         "text": "The Aa's eigenvalues are: -2.24+2.23j, -2.24+-2.23j, -0.28+0.00j, -0.26+0.32j and -0.26+-0.32j\nThe observer\\s eigenvalues are: -10.00+0.00j and -10.00+0.00j\n"
        }
       ]
      }
     },
     "bf5b937f5c5c49df9d883ad5b1642e3c": {
      "model_module": "@jupyter-widgets/controls",
      "model_module_version": "1.4.0",
      "model_name": "LabelModel",
      "state": {
       "layout": "IPY_MODEL_27928ffdf5e14aceb43b8fca906689b0",
       "style": "IPY_MODEL_add9bf7eae994418b676c6558ec5f0f1"
      }
     },
     "bf60fd5a02a84f84b747fdca371c5248": {
      "model_module": "@jupyter-widgets/controls",
      "model_module_version": "1.4.0",
      "model_name": "LabelModel",
      "state": {
       "layout": "IPY_MODEL_93937d7b6ac642c29e9b061c59a3db2a",
       "style": "IPY_MODEL_a4573b1d69b94da6abe2d29a5940a904",
       "value": "Aobs's eigs:"
      }
     },
     "bf796660e99f47128f6d0e118966cbdd": {
      "model_module": "@jupyter-widgets/controls",
      "model_module_version": "1.4.0",
      "model_name": "DescriptionStyleModel",
      "state": {
       "description_width": ""
      }
     },
     "bfc0aca326e44e0e8cfa33e7a1b1d630": {
      "model_module": "@jupyter-widgets/controls",
      "model_module_version": "1.4.0",
      "model_name": "DescriptionStyleModel",
      "state": {
       "description_width": ""
      }
     },
     "bfccc83056ff48b88eb7630784f232d4": {
      "model_module": "@jupyter-widgets/base",
      "model_module_version": "1.1.0",
      "model_name": "LayoutModel",
      "state": {
       "height": "0px",
       "width": "0px"
      }
     },
     "c10b5ac94db5488995240984fb80572d": {
      "model_module": "@jupyter-widgets/base",
      "model_module_version": "1.1.0",
      "model_name": "LayoutModel",
      "state": {
       "width": "90px"
      }
     },
     "c17f2e2a351e46d0911e870da02c8ea4": {
      "model_module": "@jupyter-widgets/controls",
      "model_module_version": "1.4.0",
      "model_name": "DescriptionStyleModel",
      "state": {
       "description_width": ""
      }
     },
     "c1cafa8250424af186c85c0f7a037d00": {
      "model_module": "@jupyter-widgets/controls",
      "model_module_version": "1.4.0",
      "model_name": "FloatTextModel",
      "state": {
       "layout": "IPY_MODEL_4b7fe40ee3a5498084895bbb1dede424",
       "step": null,
       "style": "IPY_MODEL_8fd79a5d01cf4dd2bd6af523b19f7ddc",
       "value": 13861
      }
     },
     "c1df267ba8884d4089f041f8885d57a9": {
      "model_module": "@jupyter-widgets/base",
      "model_module_version": "1.1.0",
      "model_name": "LayoutModel",
      "state": {}
     },
     "c20d04cf967e4aedb49c4c95999480fc": {
      "model_module": "@jupyter-widgets/base",
      "model_module_version": "1.1.0",
      "model_name": "LayoutModel",
      "state": {}
     },
     "c292b8874c4f4bcebed1c9a360df2964": {
      "model_module": "@jupyter-widgets/base",
      "model_module_version": "1.1.0",
      "model_name": "LayoutModel",
      "state": {
       "width": "90px"
      }
     },
     "c2b94464fe8c46c4bc766fc9342971bc": {
      "model_module": "@jupyter-widgets/base",
      "model_module_version": "1.1.0",
      "model_name": "LayoutModel",
      "state": {}
     },
     "c2e6bb3678aa4fb989cae61d26337c34": {
      "model_module": "@jupyter-widgets/controls",
      "model_module_version": "1.4.0",
      "model_name": "DescriptionStyleModel",
      "state": {
       "description_width": ""
      }
     },
     "c3383bbe576346f085ed887be29c1071": {
      "model_module": "@jupyter-widgets/base",
      "model_module_version": "1.1.0",
      "model_name": "LayoutModel",
      "state": {}
     },
     "c355d1874a554165b4099d8da3d35aef": {
      "model_module": "@jupyter-widgets/base",
      "model_module_version": "1.1.0",
      "model_name": "LayoutModel",
      "state": {}
     },
     "c362d636f1984bdd87b4377f49a3dfad": {
      "model_module": "@jupyter-widgets/base",
      "model_module_version": "1.1.0",
      "model_name": "LayoutModel",
      "state": {}
     },
     "c3862d402b5e4ae38fd7d2f0b2414ef0": {
      "model_module": "@jupyter-widgets/controls",
      "model_module_version": "1.4.0",
      "model_name": "DescriptionStyleModel",
      "state": {
       "description_width": ""
      }
     },
     "c422d11f60d5455bae304a583648d393": {
      "model_module": "@jupyter-widgets/controls",
      "model_module_version": "1.4.0",
      "model_name": "DescriptionStyleModel",
      "state": {
       "description_width": ""
      }
     },
     "c443bd8d6997435e91d118677137d5b6": {
      "model_module": "@jupyter-widgets/base",
      "model_module_version": "1.1.0",
      "model_name": "LayoutModel",
      "state": {}
     },
     "c4740552de6548d296f8e504838955f6": {
      "model_module": "@jupyter-widgets/controls",
      "model_module_version": "1.4.0",
      "model_name": "LabelModel",
      "state": {
       "layout": "IPY_MODEL_7fbf0af948254d5e833df4b7c1f732c3",
       "style": "IPY_MODEL_ca7a9803f8d347a8bbfd489404d2a012"
      }
     },
     "c4f81b149ff14f9db55f7a813b4739fd": {
      "model_module": "@jupyter-widgets/controls",
      "model_module_version": "1.4.0",
      "model_name": "FloatTextModel",
      "state": {
       "layout": "IPY_MODEL_2e269a8bd2094127a2842dba4c1a9b3e",
       "step": null,
       "style": "IPY_MODEL_b8b2f07ee6c64dc180f184dafa3db11a"
      }
     },
     "c51bdfc13b47415f9460f0ee83c1df87": {
      "model_module": "@jupyter-widgets/base",
      "model_module_version": "1.1.0",
      "model_name": "LayoutModel",
      "state": {}
     },
     "c528fa3f72494a119beabba3a6213bb7": {
      "model_module": "@jupyter-widgets/controls",
      "model_module_version": "1.4.0",
      "model_name": "DescriptionStyleModel",
      "state": {
       "description_width": ""
      }
     },
     "c52b71d3ecdd45499b48a31dc291647b": {
      "model_module": "@jupyter-widgets/controls",
      "model_module_version": "1.4.0",
      "model_name": "VBoxModel",
      "state": {
       "children": [
        "IPY_MODEL_239576f3ce7641f5ab0c6dbab3e5de53",
        "IPY_MODEL_577aaa8c389e41888c3f64239f36e562"
       ],
       "layout": "IPY_MODEL_4cb46cd0fbe245c188dd480c40e5a1d1"
      }
     },
     "c566d7ba152c41a9bb70e0b1399a0f3e": {
      "model_module": "@jupyter-widgets/controls",
      "model_module_version": "1.4.0",
      "model_name": "HBoxModel",
      "state": {
       "children": [
        "IPY_MODEL_361e3aca296d43a68f658aa71fa8a732",
        "IPY_MODEL_6ebbbf84215946a39d42606ed8a7c1f2",
        "IPY_MODEL_7fe5127d89ef40799cbefafadbcce0d4"
       ],
       "layout": "IPY_MODEL_bd9ea8fefa454648bd9002246ab78f65"
      }
     },
     "c6978c346278421ab9d3e0060569d705": {
      "model_module": "@jupyter-widgets/controls",
      "model_module_version": "1.4.0",
      "model_name": "DropdownModel",
      "state": {
       "_options_labels": [
        "Set Ka and La",
        "Set the eigenvalues"
       ],
       "index": 0,
       "layout": "IPY_MODEL_2c4fbbc1825c495c86831ef2286a8258",
       "style": "IPY_MODEL_75eb8481312149b8a778baff39c99828"
      }
     },
     "c6c48010219b4fb3bd1099d57920ba98": {
      "model_module": "@jupyter-widgets/base",
      "model_module_version": "1.1.0",
      "model_name": "LayoutModel",
      "state": {}
     },
     "c78317dc61044dcebc3800ab9500df9b": {
      "model_module": "@jupyter-widgets/base",
      "model_module_version": "1.1.0",
      "model_name": "LayoutModel",
      "state": {}
     },
     "c7b00e61644b476db2435289f46ce89e": {
      "model_module": "@jupyter-widgets/controls",
      "model_module_version": "1.4.0",
      "model_name": "DescriptionStyleModel",
      "state": {
       "description_width": ""
      }
     },
     "c7f5c40ad2064d6b9c79b7f03511bb7a": {
      "model_module": "@jupyter-widgets/controls",
      "model_module_version": "1.4.0",
      "model_name": "DescriptionStyleModel",
      "state": {
       "description_width": ""
      }
     },
     "c83210e37cf143c6a1e10c38173aaf36": {
      "model_module": "@jupyter-widgets/base",
      "model_module_version": "1.1.0",
      "model_name": "LayoutModel",
      "state": {}
     },
     "c833196d4f674ec093217cd10c5464e5": {
      "model_module": "@jupyter-widgets/base",
      "model_module_version": "1.1.0",
      "model_name": "LayoutModel",
      "state": {}
     },
     "c864e9e808124124b719b91097e41a7f": {
      "model_module": "@jupyter-widgets/base",
      "model_module_version": "1.1.0",
      "model_name": "LayoutModel",
      "state": {}
     },
     "c8ac5668b317410a9bcde617b0967dbc": {
      "model_module": "@jupyter-widgets/controls",
      "model_module_version": "1.4.0",
      "model_name": "VBoxModel",
      "state": {
       "children": [
        "IPY_MODEL_805372bc02a045c08c710be04f5bfce1",
        "IPY_MODEL_2529e49926cd4f8eb55dcc45178ec8f5",
        "IPY_MODEL_d823d4e7406a48cc92133077b3296559",
        "IPY_MODEL_4022fdb8345a466281cb4fb4e0f5a38e",
        "IPY_MODEL_05041977ab73417bb69ef1b71c64c7d9",
        "IPY_MODEL_0809ffdf306c4572b2936a4003504ebc",
        "IPY_MODEL_000105fdb4764586b8ebfab252a36567"
       ],
       "layout": "IPY_MODEL_10f2e8ae48e64a069fdfeda800e6969d"
      }
     },
     "c8e3b70f79e64a5a899729030d7b6963": {
      "model_module": "@jupyter-widgets/controls",
      "model_module_version": "1.4.0",
      "model_name": "FloatTextModel",
      "state": {
       "layout": "IPY_MODEL_3d7b33626e8645189c174b708efd6e17",
       "step": null,
       "style": "IPY_MODEL_307ff552afd445f8aa1f661c0d2a70ab",
       "value": -0.6
      }
     },
     "c9d80ab78eb147b392f2a6bc4c7e0cc4": {
      "model_module": "@jupyter-widgets/controls",
      "model_module_version": "1.4.0",
      "model_name": "VBoxModel",
      "state": {
       "children": [
        "IPY_MODEL_4b6ed1f5b4e8433a9a93b2f387086660",
        "IPY_MODEL_427a705fa0bf44fca560fc285307c61f",
        "IPY_MODEL_2ea7fb5a0dc94b24bc86d1d1361bf465",
        "IPY_MODEL_5555dc11b3b349c3afd005027d05a68b",
        "IPY_MODEL_ead2d37f897d4fdba7cc15fec55eb049",
        "IPY_MODEL_8694d410e6384208982d61b29be57d7b",
        "IPY_MODEL_84cbb61cc3c5445a88ac64650b4b8dfc"
       ],
       "layout": "IPY_MODEL_acc2a1e4067f46c38bb2cbd0039ce326"
      }
     },
     "ca11427347f64c5f951f50f087770cb1": {
      "model_module": "@jupyter-widgets/base",
      "model_module_version": "1.1.0",
      "model_name": "LayoutModel",
      "state": {}
     },
     "ca355890e53a4b8bb1d0575dac3c1bfc": {
      "model_module": "@jupyter-widgets/base",
      "model_module_version": "1.1.0",
      "model_name": "LayoutModel",
      "state": {}
     },
     "ca7a9803f8d347a8bbfd489404d2a012": {
      "model_module": "@jupyter-widgets/controls",
      "model_module_version": "1.4.0",
      "model_name": "DescriptionStyleModel",
      "state": {
       "description_width": ""
      }
     },
     "ca9c829a996f4f7c845b56e8cf922fbd": {
      "model_module": "@jupyter-widgets/controls",
      "model_module_version": "1.4.0",
      "model_name": "DescriptionStyleModel",
      "state": {
       "description_width": ""
      }
     },
     "caa6f261eca948c6b258eef4da69c2e3": {
      "model_module": "@jupyter-widgets/base",
      "model_module_version": "1.1.0",
      "model_name": "LayoutModel",
      "state": {
       "width": "90px"
      }
     },
     "caf38c4519e040de9884ca0747ab7001": {
      "model_module": "@jupyter-widgets/base",
      "model_module_version": "1.1.0",
      "model_name": "LayoutModel",
      "state": {
       "width": "90px"
      }
     },
     "cb3ccf44448e4da3abbc0bb88947e975": {
      "model_module": "@jupyter-widgets/controls",
      "model_module_version": "1.4.0",
      "model_name": "DescriptionStyleModel",
      "state": {
       "description_width": ""
      }
     },
     "cb9817ceda68404cbe65210d6c0e84ad": {
      "model_module": "@jupyter-widgets/controls",
      "model_module_version": "1.4.0",
      "model_name": "DescriptionStyleModel",
      "state": {
       "description_width": ""
      }
     },
     "cbd305ecffbf4083b47607d4767cdc71": {
      "model_module": "@jupyter-widgets/base",
      "model_module_version": "1.1.0",
      "model_name": "LayoutModel",
      "state": {}
     },
     "cc3ae6556e6544b3933ff37fcdc8b124": {
      "model_module": "@jupyter-widgets/controls",
      "model_module_version": "1.4.0",
      "model_name": "LabelModel",
      "state": {
       "layout": "IPY_MODEL_eea30c23809947ecacd9938a63398f49",
       "style": "IPY_MODEL_2b97208d6c1a4fd1966375b6e494aa89"
      }
     },
     "cc47e48caf85445fa010ce953bda0ba2": {
      "model_module": "@jupyter-widgets/base",
      "model_module_version": "1.1.0",
      "model_name": "LayoutModel",
      "state": {
       "width": "90px"
      }
     },
     "ccda01baacc445178323a8cafe80bd7a": {
      "model_module": "@jupyter-widgets/controls",
      "model_module_version": "1.4.0",
      "model_name": "LabelModel",
      "state": {
       "layout": "IPY_MODEL_7e442b8c4332480e8548cbdceab3a51f",
       "style": "IPY_MODEL_0fb6ebd5d60540b4a5135eecb46702e9",
       "value": "Aobs's eigs:"
      }
     },
     "cd02878c94fa4261b5a2f0b343ac62bb": {
      "model_module": "@jupyter-widgets/controls",
      "model_module_version": "1.4.0",
      "model_name": "LabelModel",
      "state": {
       "layout": "IPY_MODEL_3867427d28c94cc5bb52fa78e2eae3e1",
       "style": "IPY_MODEL_7959bdda77b0475b8c3a81a8686baf94"
      }
     },
     "cda7d59ecf3b463e83fbcca7d6ded37f": {
      "model_module": "@jupyter-widgets/controls",
      "model_module_version": "1.4.0",
      "model_name": "DescriptionStyleModel",
      "state": {
       "description_width": ""
      }
     },
     "cde5b2b3ac144657b77fc9480ee3664e": {
      "model_module": "@jupyter-widgets/controls",
      "model_module_version": "1.4.0",
      "model_name": "DescriptionStyleModel",
      "state": {
       "description_width": ""
      }
     },
     "ce2edb54fe42459ca62c2936d6529836": {
      "model_module": "@jupyter-widgets/controls",
      "model_module_version": "1.4.0",
      "model_name": "HBoxModel",
      "state": {
       "children": [
        "IPY_MODEL_aef9a5d2035249b8a3333a29aded71de"
       ],
       "layout": "IPY_MODEL_aa1c17dc86e6441485062eed23d3ab0a"
      }
     },
     "ce92781cb1694e5bae6daa60cfb2a7a9": {
      "model_module": "@jupyter-widgets/controls",
      "model_module_version": "1.4.0",
      "model_name": "FloatTextModel",
      "state": {
       "layout": "IPY_MODEL_1011a14be8014506987e6ff204d26d35",
       "step": null,
       "style": "IPY_MODEL_dcaa65dadfb54c3ebac14f03ddafbc15"
      }
     },
     "cea3dc89a5674bed860a1c0e14d1b995": {
      "model_module": "@jupyter-widgets/controls",
      "model_module_version": "1.4.0",
      "model_name": "DescriptionStyleModel",
      "state": {
       "description_width": ""
      }
     },
     "cea5f3291cc74af99d0e1ea2481ba90a": {
      "model_module": "@jupyter-widgets/base",
      "model_module_version": "1.1.0",
      "model_name": "LayoutModel",
      "state": {
       "width": "90px"
      }
     },
     "cf4f9f2b6fd841228e693206362f7c86": {
      "model_module": "@jupyter-widgets/controls",
      "model_module_version": "1.4.0",
      "model_name": "HBoxModel",
      "state": {
       "children": [
        "IPY_MODEL_5f4fd9d6e5fc4790959289c680e862cf",
        "IPY_MODEL_4c8e37c41a2d416a8c037d763d6ba024",
        "IPY_MODEL_a267df06d1fd4abdbeeaa4b209f965f6",
        "IPY_MODEL_4d2f31be201045a6af6ff6ed5f2d6c7d",
        "IPY_MODEL_84a0b15ddb034a2092338bd2b2ed63e9",
        "IPY_MODEL_f4b016746bb84426baca5c76043f6338",
        "IPY_MODEL_df169b343479430daedc153abc22243f",
        "IPY_MODEL_4f37e4abf7044e669b4f94075743f4dc",
        "IPY_MODEL_ccda01baacc445178323a8cafe80bd7a",
        "IPY_MODEL_b080ba2fe8b74e95941fc70e47b839e1",
        "IPY_MODEL_30ad82f4d06f4c2daaa68aeb2a06dd47"
       ],
       "layout": "IPY_MODEL_f7bd3d3a570f462a94866d884ec485ea"
      }
     },
     "cf52400e360c4a298036c4d771b8ae29": {
      "model_module": "@jupyter-widgets/controls",
      "model_module_version": "1.4.0",
      "model_name": "DescriptionStyleModel",
      "state": {
       "description_width": ""
      }
     },
     "cf7241c197e44ea78648dd7ece9cf032": {
      "model_module": "@jupyter-widgets/base",
      "model_module_version": "1.1.0",
      "model_name": "LayoutModel",
      "state": {
       "height": "0px",
       "width": "0px"
      }
     },
     "cf979171315d44bfbc2c0d6d41f6c225": {
      "model_module": "@jupyter-widgets/controls",
      "model_module_version": "1.4.0",
      "model_name": "LabelModel",
      "state": {
       "layout": "IPY_MODEL_00038a7d51314ae9804a45c996c3038a",
       "style": "IPY_MODEL_2158a36c2a104d1fae5f6a0fdcbc1e78",
       "value": "Aobs's eigs:"
      }
     },
     "cfac6a49ddc04836ab8776cb1d3b44a6": {
      "model_module": "@jupyter-widgets/controls",
      "model_module_version": "1.4.0",
      "model_name": "DescriptionStyleModel",
      "state": {
       "description_width": ""
      }
     },
     "d086c2b805214a99ac336e6b38227e34": {
      "model_module": "@jupyter-widgets/controls",
      "model_module_version": "1.4.0",
      "model_name": "LabelModel",
      "state": {
       "layout": "IPY_MODEL_b9ab7a820e01496bac78cac867d8987e",
       "style": "IPY_MODEL_439dd39502fa4ee18378ac424aae7331"
      }
     },
     "d116ebf0025c483093a9d7c0d666be31": {
      "model_module": "@jupyter-widgets/controls",
      "model_module_version": "1.4.0",
      "model_name": "LabelModel",
      "state": {
       "layout": "IPY_MODEL_5480124c50004a86b7b7cb590e0ac139",
       "style": "IPY_MODEL_775ff011a0444c48b7e5fea4746a0b23"
      }
     },
     "d11f6fc17f944785abd9427772fd5a6d": {
      "model_module": "@jupyter-widgets/base",
      "model_module_version": "1.1.0",
      "model_name": "LayoutModel",
      "state": {}
     },
     "d120caa23d324631a5a9da5ed06acf60": {
      "model_module": "@jupyter-widgets/controls",
      "model_module_version": "1.4.0",
      "model_name": "LabelModel",
      "state": {
       "layout": "IPY_MODEL_0a273f0c4e6e469698eb36d71e786546",
       "style": "IPY_MODEL_f1ebf687e130423a96df29607461d421"
      }
     },
     "d12e5a5b011349588613791490b0f7e0": {
      "model_module": "@jupyter-widgets/base",
      "model_module_version": "1.1.0",
      "model_name": "LayoutModel",
      "state": {}
     },
     "d15a903d9d274ec1921c31e4c33039b4": {
      "model_module": "@jupyter-widgets/controls",
      "model_module_version": "1.4.0",
      "model_name": "DropdownModel",
      "state": {
       "_options_labels": [
        "0 complex eigenvalues",
        "2 complex eigenvalues",
        "4 complex eigenvalues"
       ],
       "description": "Aa:",
       "disabled": true,
       "index": 0,
       "layout": "IPY_MODEL_c20d04cf967e4aedb49c4c95999480fc",
       "style": "IPY_MODEL_3737cb895e114ff3a7264b637d8ad44b"
      }
     },
     "d27c9566e96940a7806b2168e19f1ce9": {
      "model_module": "@jupyter-widgets/controls",
      "model_module_version": "1.4.0",
      "model_name": "DescriptionStyleModel",
      "state": {
       "description_width": ""
      }
     },
     "d29d0b24a5734139942bdffc549f83e2": {
      "model_module": "@jupyter-widgets/controls",
      "model_module_version": "1.4.0",
      "model_name": "HBoxModel",
      "state": {
       "children": [
        "IPY_MODEL_b834c7522897405288cb212a55b55289"
       ],
       "layout": "IPY_MODEL_ad88204fbe9a48e0978492ccd91ad57b"
      }
     },
     "d34a230dde2c42bdb1c91cd1929452d1": {
      "model_module": "@jupyter-widgets/base",
      "model_module_version": "1.1.0",
      "model_name": "LayoutModel",
      "state": {}
     },
     "d4a0305616f9402ea84a9e8b0e1fae85": {
      "model_module": "@jupyter-widgets/controls",
      "model_module_version": "1.4.0",
      "model_name": "FloatTextModel",
      "state": {
       "layout": "IPY_MODEL_62df66a2062b4fb6b65a3ec5bd498614",
       "step": null,
       "style": "IPY_MODEL_b5a41552b1c54b3b8c58bfc026388d4f",
       "value": -0.6
      }
     },
     "d4f898ed505f4e5a918ae8166d217c23": {
      "model_module": "@jupyter-widgets/base",
      "model_module_version": "1.1.0",
      "model_name": "LayoutModel",
      "state": {
       "width": "90px"
      }
     },
     "d5286389e31f44d0a068455235d65e4f": {
      "model_module": "@jupyter-widgets/controls",
      "model_module_version": "1.4.0",
      "model_name": "VBoxModel",
      "state": {
       "children": [
        "IPY_MODEL_a233f2749697478193516c67501f9bf6"
       ],
       "layout": "IPY_MODEL_da4ae4ef89f24d84aa942554a50d86d2"
      }
     },
     "d55492cfde34474dbdce90063cf320f9": {
      "model_module": "@jupyter-widgets/controls",
      "model_module_version": "1.4.0",
      "model_name": "HBoxModel",
      "state": {
       "children": [
        "IPY_MODEL_0aa0bfe4046d4bbd9e3b8fc7e923c19e",
        "IPY_MODEL_6813d187c1be497cb6ed99d0f1315fb5",
        "IPY_MODEL_acecc2cb78574027ab0f5990fddab600",
        "IPY_MODEL_58dabb22e34a44d890df2e51d5b9a651",
        "IPY_MODEL_78331c89a55344a69e9fb04c10aee086"
       ],
       "layout": "IPY_MODEL_8c56ab7322684d198695ba83389a51a8"
      }
     },
     "d5837d49afb144f4b62497a1eee8836b": {
      "model_module": "@jupyter-widgets/controls",
      "model_module_version": "1.4.0",
      "model_name": "LabelModel",
      "state": {
       "layout": "IPY_MODEL_e27cc49491614eb690e345b1f6bdc61a",
       "style": "IPY_MODEL_cde5b2b3ac144657b77fc9480ee3664e"
      }
     },
     "d5eaac2f67684a7b8ea7dd4c17f0b57e": {
      "model_module": "@jupyter-widgets/controls",
      "model_module_version": "1.4.0",
      "model_name": "LabelModel",
      "state": {
       "layout": "IPY_MODEL_1be046e383e644d6a6cfcf29b3777c99",
       "style": "IPY_MODEL_54a95624e0a04f319da0e5b1221e8e55",
       "value": "Aa's eigs:"
      }
     },
     "d602a0f11576447b8ef3d438d93728df": {
      "model_module": "@jupyter-widgets/base",
      "model_module_version": "1.1.0",
      "model_name": "LayoutModel",
      "state": {}
     },
     "d6271142c5a94a4084c7ba3c91dac19b": {
      "model_module": "@jupyter-widgets/controls",
      "model_module_version": "1.4.0",
      "model_name": "DescriptionStyleModel",
      "state": {
       "description_width": ""
      }
     },
     "d636b43c569f4fd99bb74ab2d8a9ca71": {
      "model_module": "@jupyter-widgets/base",
      "model_module_version": "1.1.0",
      "model_name": "LayoutModel",
      "state": {}
     },
     "d6431a11b46943d48afc9b025482f791": {
      "model_module": "@jupyter-widgets/base",
      "model_module_version": "1.1.0",
      "model_name": "LayoutModel",
      "state": {}
     },
     "d6839054cd8f4840b7ceabe64adb74a1": {
      "model_module": "@jupyter-widgets/base",
      "model_module_version": "1.1.0",
      "model_name": "LayoutModel",
      "state": {
       "width": "90px"
      }
     },
     "d7419d00e6774ceb8dbccfc5cf652bfd": {
      "model_module": "@jupyter-widgets/controls",
      "model_module_version": "1.4.0",
      "model_name": "VBoxModel",
      "state": {
       "children": [
        "IPY_MODEL_4115501ee8ec4fccaf278e05a7084396"
       ],
       "layout": "IPY_MODEL_770bc17e71b2425a9baa0f95f322df5b"
      }
     },
     "d75a7d3e1ca540808fcdb68964032440": {
      "model_module": "@jupyter-widgets/controls",
      "model_module_version": "1.4.0",
      "model_name": "DescriptionStyleModel",
      "state": {
       "description_width": ""
      }
     },
     "d823d4e7406a48cc92133077b3296559": {
      "model_module": "@jupyter-widgets/controls",
      "model_module_version": "1.4.0",
      "model_name": "HBoxModel",
      "state": {
       "children": [
        "IPY_MODEL_84e0e3299523499e8fd5a56d12529891",
        "IPY_MODEL_d5286389e31f44d0a068455235d65e4f",
        "IPY_MODEL_842a3f1f0a374c2581602ab8e7600ef6",
        "IPY_MODEL_0f14d36f2e474b439c5338a92acccce0",
        "IPY_MODEL_1fd1af9aa2e34834a4365140e0e3935c",
        "IPY_MODEL_c52b71d3ecdd45499b48a31dc291647b"
       ],
       "layout": "IPY_MODEL_23c82a3754bb4588a4f865849a294568"
      }
     },
     "d859c2d997d6489089f973bec38b3477": {
      "model_module": "@jupyter-widgets/base",
      "model_module_version": "1.1.0",
      "model_name": "LayoutModel",
      "state": {}
     },
     "d8ddf5e62d8a4ddb9e10b54c206800f0": {
      "model_module": "@jupyter-widgets/base",
      "model_module_version": "1.1.0",
      "model_name": "LayoutModel",
      "state": {}
     },
     "d8e55f37c7ae4f07a6fe84a107d33436": {
      "model_module": "@jupyter-widgets/controls",
      "model_module_version": "1.4.0",
      "model_name": "VBoxModel",
      "state": {
       "children": [
        "IPY_MODEL_6caafdd1e1cd4b19a7eeab28deadac64",
        "IPY_MODEL_7acc1d43c7b04f48ada380ce26debb40",
        "IPY_MODEL_3f1ae226f21a4f758daa4a0993a2a3de",
        "IPY_MODEL_42a057f2f2d54c2580b4c3ae90d7ce09",
        "IPY_MODEL_cf4f9f2b6fd841228e693206362f7c86",
        "IPY_MODEL_fa577bc5c8a24267b971d8d0213279dd",
        "IPY_MODEL_7d2ee53e7c144fdb9bf865c1baf9fe1e"
       ],
       "layout": "IPY_MODEL_6ebe86c6b2624222a1c2427ed2c6bb6e"
      }
     },
     "d8ff54fe12f1431ea8b625991bef5e76": {
      "model_module": "@jupyter-widgets/base",
      "model_module_version": "1.1.0",
      "model_name": "LayoutModel",
      "state": {}
     },
     "d9674b7571de42baa745dd6b7c6ecbe8": {
      "model_module": "@jupyter-widgets/controls",
      "model_module_version": "1.4.0",
      "model_name": "DropdownModel",
      "state": {
       "_options_labels": [
        "0 complex eigenvalues",
        "2 complex eigenvalues",
        "4 complex eigenvalues"
       ],
       "description": "Aa:",
       "disabled": true,
       "index": 0,
       "layout": "IPY_MODEL_adb4d4606a424246aaccb800cd1f30df",
       "style": "IPY_MODEL_bd60702069184fb9b8892a8ebb072f01"
      }
     },
     "d9db35bcd55b452caf07ceee07f65e96": {
      "model_module": "@jupyter-widgets/controls",
      "model_module_version": "1.4.0",
      "model_name": "DescriptionStyleModel",
      "state": {
       "description_width": ""
      }
     },
     "da40a5d500a24119bae8200ab190284c": {
      "model_module": "@jupyter-widgets/controls",
      "model_module_version": "1.4.0",
      "model_name": "FloatTextModel",
      "state": {
       "layout": "IPY_MODEL_87536ddd51344558bd4978bbb9aa5d77",
       "step": null,
       "style": "IPY_MODEL_e1298497023e4a4ba0be17974a39ac75",
       "value": -10
      }
     },
     "da4ae4ef89f24d84aa942554a50d86d2": {
      "model_module": "@jupyter-widgets/base",
      "model_module_version": "1.1.0",
      "model_name": "LayoutModel",
      "state": {}
     },
     "da90a50bcb3b4b1ab14fcb5e9ddde844": {
      "model_module": "@jupyter-widgets/controls",
      "model_module_version": "1.4.0",
      "model_name": "DescriptionStyleModel",
      "state": {
       "description_width": ""
      }
     },
     "daf87ceba6fc4cff807558eed8167824": {
      "model_module": "@jupyter-widgets/controls",
      "model_module_version": "1.4.0",
      "model_name": "DescriptionStyleModel",
      "state": {
       "description_width": ""
      }
     },
     "db0dab36d9de4171987fb292d7f515ea": {
      "model_module": "@jupyter-widgets/controls",
      "model_module_version": "1.4.0",
      "model_name": "DescriptionStyleModel",
      "state": {
       "description_width": ""
      }
     },
     "db0e4a9359f5475aa13393f9164115b8": {
      "model_module": "@jupyter-widgets/controls",
      "model_module_version": "1.4.0",
      "model_name": "DescriptionStyleModel",
      "state": {
       "description_width": ""
      }
     },
     "db615f930a5444898a71cb10d3e0db3d": {
      "model_module": "@jupyter-widgets/controls",
      "model_module_version": "1.4.0",
      "model_name": "LabelModel",
      "state": {
       "layout": "IPY_MODEL_1a89916030dc4f8ba8438c3a8c5bbd69",
       "style": "IPY_MODEL_c17f2e2a351e46d0911e870da02c8ea4"
      }
     },
     "db9be7d14e6e4c8ba51e903b13c55e3b": {
      "model_module": "@jupyter-widgets/controls",
      "model_module_version": "1.4.0",
      "model_name": "DescriptionStyleModel",
      "state": {
       "description_width": ""
      }
     },
     "dbb050e8d85846bf845411834a32a4c5": {
      "model_module": "@jupyter-widgets/base",
      "model_module_version": "1.1.0",
      "model_name": "LayoutModel",
      "state": {}
     },
     "dbcee9f186f7420d9ea831d5ef775039": {
      "model_module": "@jupyter-widgets/controls",
      "model_module_version": "1.4.0",
      "model_name": "DropdownModel",
      "state": {
       "_options_labels": [
        "0 complex eigenvalues",
        "2 complex eigenvalues",
        "4 complex eigenvalues"
       ],
       "description": "Aa:",
       "disabled": true,
       "index": 0,
       "layout": "IPY_MODEL_4e069a3035154c4d8c0a47e5fe1f3b9b",
       "style": "IPY_MODEL_2130431e014a406d94f539f123ff4781"
      }
     },
     "dc452b89802e4d66ab5371b81f4bb4a2": {
      "model_module": "@jupyter-widgets/controls",
      "model_module_version": "1.4.0",
      "model_name": "DescriptionStyleModel",
      "state": {
       "description_width": ""
      }
     },
     "dcaa65dadfb54c3ebac14f03ddafbc15": {
      "model_module": "@jupyter-widgets/controls",
      "model_module_version": "1.4.0",
      "model_name": "DescriptionStyleModel",
      "state": {
       "description_width": ""
      }
     },
     "dce3a2ee8dff4853a756267ce47660ed": {
      "model_module": "@jupyter-widgets/base",
      "model_module_version": "1.1.0",
      "model_name": "LayoutModel",
      "state": {}
     },
     "dd21852b6b3d4d24a5e9dbedfd3b63e8": {
      "model_module": "@jupyter-widgets/controls",
      "model_module_version": "1.4.0",
      "model_name": "DescriptionStyleModel",
      "state": {
       "description_width": ""
      }
     },
     "dd34ed0f11bf4739983f6875ef0c9382": {
      "model_module": "@jupyter-widgets/controls",
      "model_module_version": "1.4.0",
      "model_name": "LabelModel",
      "state": {
       "layout": "IPY_MODEL_9edf3cd601b845089ed8bd5d7bc8d3eb",
       "style": "IPY_MODEL_db9be7d14e6e4c8ba51e903b13c55e3b",
       "value": "Aa's eigs:"
      }
     },
     "dd481a0bcf16447a9ec5d9d36bfe144d": {
      "model_module": "@jupyter-widgets/base",
      "model_module_version": "1.1.0",
      "model_name": "LayoutModel",
      "state": {
       "width": "90px"
      }
     },
     "dd750e074b794c73b436f80106ff3f09": {
      "model_module": "@jupyter-widgets/base",
      "model_module_version": "1.1.0",
      "model_name": "LayoutModel",
      "state": {}
     },
     "ddcab2b7d2f24f068e314b8d90dc90c0": {
      "model_module": "@jupyter-widgets/base",
      "model_module_version": "1.1.0",
      "model_name": "LayoutModel",
      "state": {
       "width": "90px"
      }
     },
     "ddcde07e7b004058846b6f64691c5b1b": {
      "model_module": "@jupyter-widgets/controls",
      "model_module_version": "1.4.0",
      "model_name": "DescriptionStyleModel",
      "state": {
       "description_width": ""
      }
     },
     "de0e0312dad54b3aac1bda5344f2766f": {
      "model_module": "@jupyter-widgets/base",
      "model_module_version": "1.1.0",
      "model_name": "LayoutModel",
      "state": {}
     },
     "de0f1909c75e430a86358a3fa0b9a995": {
      "model_module": "@jupyter-widgets/base",
      "model_module_version": "1.1.0",
      "model_name": "LayoutModel",
      "state": {}
     },
     "de50dcc76518449ca4190d0da5b78f9d": {
      "model_module": "@jupyter-widgets/base",
      "model_module_version": "1.1.0",
      "model_name": "LayoutModel",
      "state": {
       "width": "90px"
      }
     },
     "deaede3f369447fa81a975c26718206a": {
      "model_module": "@jupyter-widgets/base",
      "model_module_version": "1.1.0",
      "model_name": "LayoutModel",
      "state": {}
     },
     "def75223186b46c2ab6eb64e80dbe69d": {
      "model_module": "@jupyter-widgets/controls",
      "model_module_version": "1.4.0",
      "model_name": "DescriptionStyleModel",
      "state": {
       "description_width": ""
      }
     },
     "df169b343479430daedc153abc22243f": {
      "model_module": "@jupyter-widgets/controls",
      "model_module_version": "1.4.0",
      "model_name": "LabelModel",
      "state": {
       "layout": "IPY_MODEL_acfff617198a4fed9692133377da3b47",
       "style": "IPY_MODEL_01722e6449294095b69c3399e6500959"
      }
     },
     "df3fedfe68e347c793fc31f53922c394": {
      "model_module": "@jupyter-widgets/controls",
      "model_module_version": "1.4.0",
      "model_name": "LabelModel",
      "state": {
       "layout": "IPY_MODEL_b7ba6d95d1874a64bb2fb648a182f59f",
       "style": "IPY_MODEL_dfb9abd2d0f14f1daead298e97c516d9",
       "value": "Aobs's eigs:"
      }
     },
     "df4f2e5f7cac45da9930e46f5690c3a4": {
      "model_module": "@jupyter-widgets/controls",
      "model_module_version": "1.4.0",
      "model_name": "VBoxModel",
      "state": {
       "children": [
        "IPY_MODEL_eab4cc52bba041929aae83ca52b86262",
        "IPY_MODEL_703688b40d404ccbae95be27274af0cd"
       ],
       "layout": "IPY_MODEL_62d546d4642b403fb7e1f9e62e818f03"
      }
     },
     "df7ca8e6b4e943ab931b5b3d5c5c261c": {
      "model_module": "@jupyter-widgets/controls",
      "model_module_version": "1.4.0",
      "model_name": "DescriptionStyleModel",
      "state": {
       "description_width": ""
      }
     },
     "df806b0f9ea746d4b381b0f1ebe18cb0": {
      "model_module": "@jupyter-widgets/controls",
      "model_module_version": "1.4.0",
      "model_name": "HBoxModel",
      "state": {
       "children": [
        "IPY_MODEL_965ba5aa3bb648c899f8ba33fda5cf31",
        "IPY_MODEL_2207ee2b08c4446987f7e6023e83a82b",
        "IPY_MODEL_c1cafa8250424af186c85c0f7a037d00",
        "IPY_MODEL_1fc3130926714e67a16a6fa21598e553",
        "IPY_MODEL_356747a968bb4a48b3b7722036ed8bf4"
       ],
       "layout": "IPY_MODEL_290c5edce3fd4ba59715d66705fcdd2e"
      }
     },
     "dfb9abd2d0f14f1daead298e97c516d9": {
      "model_module": "@jupyter-widgets/controls",
      "model_module_version": "1.4.0",
      "model_name": "DescriptionStyleModel",
      "state": {
       "description_width": ""
      }
     },
     "e02b4d0e91cd456eb60b5d5243ba5cb5": {
      "model_module": "@jupyter-widgets/base",
      "model_module_version": "1.1.0",
      "model_name": "LayoutModel",
      "state": {
       "width": "90px"
      }
     },
     "e05554ca65324a6b8574c72ca47cf5b7": {
      "model_module": "@jupyter-widgets/controls",
      "model_module_version": "1.4.0",
      "model_name": "DescriptionStyleModel",
      "state": {
       "description_width": ""
      }
     },
     "e07495be61da490a943fd962a0b2267b": {
      "model_module": "@jupyter-widgets/controls",
      "model_module_version": "1.4.0",
      "model_name": "LabelModel",
      "state": {
       "layout": "IPY_MODEL_b16de3267e844d5893eb86aa89317258",
       "style": "IPY_MODEL_d6271142c5a94a4084c7ba3c91dac19b",
       "value": "Aobs's eigs:"
      }
     },
     "e07f8d2fd0284db8ac22cb54ea409be1": {
      "model_module": "@jupyter-widgets/controls",
      "model_module_version": "1.4.0",
      "model_name": "DescriptionStyleModel",
      "state": {
       "description_width": ""
      }
     },
     "e1298497023e4a4ba0be17974a39ac75": {
      "model_module": "@jupyter-widgets/controls",
      "model_module_version": "1.4.0",
      "model_name": "DescriptionStyleModel",
      "state": {
       "description_width": ""
      }
     },
     "e24fb2aa34f844d99bef9c6b7ccac677": {
      "model_module": "@jupyter-widgets/base",
      "model_module_version": "1.1.0",
      "model_name": "LayoutModel",
      "state": {}
     },
     "e25d85fff72e488ea4647079ab727aff": {
      "model_module": "@jupyter-widgets/controls",
      "model_module_version": "1.4.0",
      "model_name": "DescriptionStyleModel",
      "state": {
       "description_width": ""
      }
     },
     "e27cc49491614eb690e345b1f6bdc61a": {
      "model_module": "@jupyter-widgets/base",
      "model_module_version": "1.1.0",
      "model_name": "LayoutModel",
      "state": {}
     },
     "e2a06b360f0e49c6be50c844c97854d2": {
      "model_module": "@jupyter-widgets/base",
      "model_module_version": "1.1.0",
      "model_name": "LayoutModel",
      "state": {
       "width": "90px"
      }
     },
     "e2a1c41856004ffc9cd0fc59df88997a": {
      "model_module": "@jupyter-widgets/controls",
      "model_module_version": "1.4.0",
      "model_name": "DescriptionStyleModel",
      "state": {
       "description_width": ""
      }
     },
     "e2e6de4db47f4ddbacdbd9c843e1e45a": {
      "model_module": "@jupyter-widgets/controls",
      "model_module_version": "1.4.0",
      "model_name": "DescriptionStyleModel",
      "state": {
       "description_width": ""
      }
     },
     "e2f7fa09709b4f89842d92760ea43a0b": {
      "model_module": "@jupyter-widgets/controls",
      "model_module_version": "1.4.0",
      "model_name": "LabelModel",
      "state": {
       "layout": "IPY_MODEL_637824522a5343b0944c5428ef57aa0e",
       "style": "IPY_MODEL_fe09b783fe0d4b9099f6673b2feb299b"
      }
     },
     "e35ded94ccdb411fb3f03b38368623d6": {
      "model_module": "@jupyter-widgets/base",
      "model_module_version": "1.1.0",
      "model_name": "LayoutModel",
      "state": {
       "width": "90px"
      }
     },
     "e3f770ce4cf241e991c713aa951e5765": {
      "model_module": "@jupyter-widgets/controls",
      "model_module_version": "1.4.0",
      "model_name": "LabelModel",
      "state": {
       "layout": "IPY_MODEL_d8ff54fe12f1431ea8b625991bef5e76",
       "style": "IPY_MODEL_bb1503441b804f2caeba60eca1ccbe5f"
      }
     },
     "e4959a4ff1d6428da5531fb2bf42b5eb": {
      "model_module": "@jupyter-widgets/controls",
      "model_module_version": "1.4.0",
      "model_name": "DescriptionStyleModel",
      "state": {
       "description_width": ""
      }
     },
     "e497f72ac994442e867e12b0d2d6c200": {
      "model_module": "@jupyter-widgets/controls",
      "model_module_version": "1.4.0",
      "model_name": "DescriptionStyleModel",
      "state": {
       "description_width": ""
      }
     },
     "e53e8f35bab440248da43e8cba202569": {
      "model_module": "@jupyter-widgets/controls",
      "model_module_version": "1.4.0",
      "model_name": "LabelModel",
      "state": {
       "layout": "IPY_MODEL_3223149f706c4dd4ba260fe3446b92e8",
       "style": "IPY_MODEL_75b5652b09e4461cb6a99471967a68ea"
      }
     },
     "e5ab92b29f3841ce94407c273422297e": {
      "model_module": "@jupyter-widgets/output",
      "model_module_version": "1.0.0",
      "model_name": "OutputModel",
      "state": {
       "layout": "IPY_MODEL_ed2d5f8703174f18b4ac11810f7fc733",
       "outputs": [
        {
         "name": "stdout",
         "output_type": "stream",
         "text": "The Aa's eigenvalues are: -2.24+2.23j, -2.24+-2.23j, -0.28+0.00j, -0.26+0.32j and -0.26+-0.32j\nThe observer\\s eigenvalues are: -10.00+0.00j and -10.00+0.00j\n"
        }
       ]
      }
     },
     "e5ea03176a6d413cbda448812f9f9fac": {
      "model_module": "@jupyter-widgets/controls",
      "model_module_version": "1.4.0",
      "model_name": "DropdownModel",
      "state": {
       "_options_labels": [
        "0 complex eigenvalues",
        "2 complex eigenvalues",
        "4 complex eigenvalues"
       ],
       "description": "Aa:",
       "disabled": true,
       "index": 0,
       "layout": "IPY_MODEL_7799c212da6243439092d8e652f3343a",
       "style": "IPY_MODEL_3bcadc2f01354f5ebada7a948f377681"
      }
     },
     "e6198233953c4e6a91250039d906d212": {
      "model_module": "@jupyter-widgets/controls",
      "model_module_version": "1.4.0",
      "model_name": "HBoxModel",
      "state": {
       "children": [
        "IPY_MODEL_414f93245d2d4a25887f5123fa09bf44",
        "IPY_MODEL_6d68637432684016b0727f506afe0df5",
        "IPY_MODEL_f01b454caf0243f89fac5809d26d4cf2",
        "IPY_MODEL_3fe63ac60ab64ded984e9abeeff7abf5",
        "IPY_MODEL_317ee220faa84115bad387393653c51c",
        "IPY_MODEL_587e0f7d832d4ecc866fb0f39ea9d990",
        "IPY_MODEL_cc3ae6556e6544b3933ff37fcdc8b124",
        "IPY_MODEL_9f7de2b91d5f4664b24e72fafb4248bf",
        "IPY_MODEL_e07495be61da490a943fd962a0b2267b",
        "IPY_MODEL_a3c2a24a94aa456cbd6779a86c1f06ad",
        "IPY_MODEL_25be128dd26d4cd298247bbbc5bbe06a"
       ],
       "layout": "IPY_MODEL_5d6ef847aa5b48c8a1d6f71e115505d6"
      }
     },
     "e64a1f67ddd246a4b2817a99b07cca56": {
      "model_module": "@jupyter-widgets/controls",
      "model_module_version": "1.4.0",
      "model_name": "VBoxModel",
      "state": {
       "children": [
        "IPY_MODEL_df806b0f9ea746d4b381b0f1ebe18cb0"
       ],
       "layout": "IPY_MODEL_108b967aa86f464994fc814c54533fec"
      }
     },
     "e6710c1e57c84d0a8ac493e844396d61": {
      "model_module": "@jupyter-widgets/base",
      "model_module_version": "1.1.0",
      "model_name": "LayoutModel",
      "state": {}
     },
     "e675d75bec4b474dba2d599e91931cd2": {
      "model_module": "@jupyter-widgets/controls",
      "model_module_version": "1.4.0",
      "model_name": "HBoxModel",
      "state": {
       "children": [
        "IPY_MODEL_c6978c346278421ab9d3e0060569d705",
        "IPY_MODEL_b952ba902f6a46968b42685d2716bfea",
        "IPY_MODEL_416b8f7b106846d0870026946b4f6b5a"
       ],
       "layout": "IPY_MODEL_c833196d4f674ec093217cd10c5464e5"
      }
     },
     "e6f9740ecb9c4b1e890dc2e32b0d34a7": {
      "model_module": "@jupyter-widgets/base",
      "model_module_version": "1.1.0",
      "model_name": "LayoutModel",
      "state": {
       "height": "0px",
       "width": "0px"
      }
     },
     "e740dfcb3cf649d4bee10bf6ee195301": {
      "model_module": "@jupyter-widgets/controls",
      "model_module_version": "1.4.0",
      "model_name": "LabelModel",
      "state": {
       "layout": "IPY_MODEL_c864e9e808124124b719b91097e41a7f",
       "style": "IPY_MODEL_c7f5c40ad2064d6b9c79b7f03511bb7a"
      }
     },
     "e75eff08ebb144498999ffac93f14395": {
      "model_module": "@jupyter-widgets/base",
      "model_module_version": "1.1.0",
      "model_name": "LayoutModel",
      "state": {
       "width": "90px"
      }
     },
     "e7631457cbcc4012bd350f9a84cef00c": {
      "model_module": "@jupyter-widgets/controls",
      "model_module_version": "1.4.0",
      "model_name": "DescriptionStyleModel",
      "state": {
       "description_width": ""
      }
     },
     "e7eba20de0944e0c98115502cd135383": {
      "model_module": "@jupyter-widgets/controls",
      "model_module_version": "1.4.0",
      "model_name": "LabelModel",
      "state": {
       "layout": "IPY_MODEL_694dd07aee66466bb45bfff329e60483",
       "style": "IPY_MODEL_db0e4a9359f5475aa13393f9164115b8"
      }
     },
     "e803009919e34d8eaf8b05eec6e7095e": {
      "model_module": "@jupyter-widgets/controls",
      "model_module_version": "1.4.0",
      "model_name": "LabelModel",
      "state": {
       "layout": "IPY_MODEL_7371a287f94840aa829ef2d8d94c4853",
       "style": "IPY_MODEL_45252723ac28472a970b95e3e6e933d5"
      }
     },
     "e80abac93ac54bc8a6d91a52c4fd70cc": {
      "model_module": "@jupyter-widgets/controls",
      "model_module_version": "1.4.0",
      "model_name": "DescriptionStyleModel",
      "state": {
       "description_width": ""
      }
     },
     "e819fefb797041e89e4f72749e00edab": {
      "model_module": "@jupyter-widgets/controls",
      "model_module_version": "1.4.0",
      "model_name": "LabelModel",
      "state": {
       "layout": "IPY_MODEL_07fef6b966c54e33b18032e66099953d",
       "style": "IPY_MODEL_524e523ee79e43c987c381c69c9afe85"
      }
     },
     "e81bb22a34de44a18e29476b4d713e71": {
      "model_module": "@jupyter-widgets/base",
      "model_module_version": "1.1.0",
      "model_name": "LayoutModel",
      "state": {}
     },
     "e89ff4014f0e49528bbf4e98a760fe39": {
      "model_module": "@jupyter-widgets/controls",
      "model_module_version": "1.4.0",
      "model_name": "FloatTextModel",
      "state": {
       "disabled": true,
       "layout": "IPY_MODEL_14cf269aca7449979c09408a3fc45663",
       "step": null,
       "style": "IPY_MODEL_4c88f970164e400a9fdb30163e7153f1",
       "value": -0.6
      }
     },
     "e946f509a27349d3ad44c1af4e53fc3a": {
      "model_module": "@jupyter-widgets/controls",
      "model_module_version": "1.4.0",
      "model_name": "HBoxModel",
      "state": {
       "children": [
        "IPY_MODEL_0f26c8afca96402aa66b81bc451a3559",
        "IPY_MODEL_d116ebf0025c483093a9d7c0d666be31",
        "IPY_MODEL_f7db352aad7f48b287d557cc324204f9",
        "IPY_MODEL_e2f7fa09709b4f89842d92760ea43a0b",
        "IPY_MODEL_83cff18e6a264988ae36134b674e5a85"
       ],
       "layout": "IPY_MODEL_7b620fcf26764dc59856cf8c17e225c6"
      }
     },
     "e9a73fa1f34747818d3505be6015e5a8": {
      "model_module": "@jupyter-widgets/controls",
      "model_module_version": "1.4.0",
      "model_name": "DescriptionStyleModel",
      "state": {
       "description_width": ""
      }
     },
     "ea21094a446f4ef5a10ba3ec7281a8e1": {
      "model_module": "@jupyter-widgets/controls",
      "model_module_version": "1.4.0",
      "model_name": "DescriptionStyleModel",
      "state": {
       "description_width": ""
      }
     },
     "eab4cc52bba041929aae83ca52b86262": {
      "model_module": "@jupyter-widgets/controls",
      "model_module_version": "1.4.0",
      "model_name": "HBoxModel",
      "state": {
       "children": [
        "IPY_MODEL_20cb9075c7db4936a347bd454de3b582",
        "IPY_MODEL_22374c75f7794f22a5f88e46fc333e82",
        "IPY_MODEL_ce92781cb1694e5bae6daa60cfb2a7a9"
       ],
       "layout": "IPY_MODEL_6aa250d5c0944d639991a61220a87849"
      }
     },
     "ead2d37f897d4fdba7cc15fec55eb049": {
      "model_module": "@jupyter-widgets/controls",
      "model_module_version": "1.4.0",
      "model_name": "HBoxModel",
      "state": {
       "children": [
        "IPY_MODEL_21b672a6f2cb476a859c6c8b77770295",
        "IPY_MODEL_6d68637432684016b0727f506afe0df5",
        "IPY_MODEL_f01b454caf0243f89fac5809d26d4cf2",
        "IPY_MODEL_3fe63ac60ab64ded984e9abeeff7abf5",
        "IPY_MODEL_317ee220faa84115bad387393653c51c",
        "IPY_MODEL_587e0f7d832d4ecc866fb0f39ea9d990",
        "IPY_MODEL_fa04e72257b6472aa13cb02af3130812",
        "IPY_MODEL_f052288ca5ad43bb81cb89f7166b583e",
        "IPY_MODEL_019c9aac684248e991ad2ca479ca9e54",
        "IPY_MODEL_a3c2a24a94aa456cbd6779a86c1f06ad",
        "IPY_MODEL_25be128dd26d4cd298247bbbc5bbe06a"
       ],
       "layout": "IPY_MODEL_cbd305ecffbf4083b47607d4767cdc71"
      }
     },
     "eb04c670a97349aa81672b123aa0368f": {
      "model_module": "@jupyter-widgets/controls",
      "model_module_version": "1.4.0",
      "model_name": "ButtonStyleModel",
      "state": {}
     },
     "eb3ee6a786584c6d9f2da7657cac6d2a": {
      "model_module": "@jupyter-widgets/controls",
      "model_module_version": "1.4.0",
      "model_name": "LabelModel",
      "state": {
       "layout": "IPY_MODEL_d34a230dde2c42bdb1c91cd1929452d1",
       "style": "IPY_MODEL_0b517246f8e34440abe426b02300a069",
       "value": "Aobs's eigs:"
      }
     },
     "eb845b48322e45158642a399f660afa0": {
      "model_module": "@jupyter-widgets/base",
      "model_module_version": "1.1.0",
      "model_name": "LayoutModel",
      "state": {
       "width": "90px"
      }
     },
     "eb895777800d4b5dad6593c98477136a": {
      "model_module": "@jupyter-widgets/controls",
      "model_module_version": "1.4.0",
      "model_name": "LabelModel",
      "state": {
       "layout": "IPY_MODEL_c78317dc61044dcebc3800ab9500df9b",
       "style": "IPY_MODEL_14197243320e4c27bf97e564d6f16016"
      }
     },
     "eba8111f91b243d0b9783cc3e4381001": {
      "model_module": "@jupyter-widgets/controls",
      "model_module_version": "1.4.0",
      "model_name": "DescriptionStyleModel",
      "state": {
       "description_width": ""
      }
     },
     "ebb16ece53454ebcaf4e7e76b58df6c0": {
      "model_module": "@jupyter-widgets/base",
      "model_module_version": "1.1.0",
      "model_name": "LayoutModel",
      "state": {}
     },
     "ebb77dc0261f4b568809a80141cc5e95": {
      "model_module": "@jupyter-widgets/controls",
      "model_module_version": "1.4.0",
      "model_name": "LabelModel",
      "state": {
       "layout": "IPY_MODEL_72d88d2553ac41c4ac690fe0e067324e",
       "style": "IPY_MODEL_85217905f330467f8b5be2ca26a9808f"
      }
     },
     "ebf0f598131a450587d040772038e710": {
      "model_module": "@jupyter-widgets/controls",
      "model_module_version": "1.4.0",
      "model_name": "LabelModel",
      "state": {
       "layout": "IPY_MODEL_a7b4cf28d00f47458db9d6207df4c87c",
       "style": "IPY_MODEL_4112fde42af14183bbd1dc0f0588e5c3"
      }
     },
     "ec3fff96409f451e8c01a23c1f99995c": {
      "model_module": "@jupyter-widgets/controls",
      "model_module_version": "1.4.0",
      "model_name": "LabelModel",
      "state": {
       "layout": "IPY_MODEL_1dc05884ae5f4e7d823343a71c5d6ddd",
       "style": "IPY_MODEL_66b0c1e2ed6d42b4934c79d6d7cb6bc6"
      }
     },
     "ecd20c3dc57245719c571ef17d01685c": {
      "model_module": "@jupyter-widgets/base",
      "model_module_version": "1.1.0",
      "model_name": "LayoutModel",
      "state": {
       "width": "90px"
      }
     },
     "ed2d5f8703174f18b4ac11810f7fc733": {
      "model_module": "@jupyter-widgets/base",
      "model_module_version": "1.1.0",
      "model_name": "LayoutModel",
      "state": {}
     },
     "ed2d8c9e95644c48982990fdeaf43bbe": {
      "model_module": "@jupyter-widgets/base",
      "model_module_version": "1.1.0",
      "model_name": "LayoutModel",
      "state": {
       "width": "90px"
      }
     },
     "ed387f51cefd4c6e9562fcd544998001": {
      "model_module": "@jupyter-widgets/controls",
      "model_module_version": "1.4.0",
      "model_name": "FloatTextModel",
      "state": {
       "layout": "IPY_MODEL_5726c2125b484b7b9f531b64aad3748a",
       "step": null,
       "style": "IPY_MODEL_ef8369410e284bcba956b8650a4efe64",
       "value": -10
      }
     },
     "ed5069a98fda4fd89f8f6f2f037d4397": {
      "model_module": "@jupyter-widgets/controls",
      "model_module_version": "1.4.0",
      "model_name": "FloatTextModel",
      "state": {
       "layout": "IPY_MODEL_c10b5ac94db5488995240984fb80572d",
       "step": null,
       "style": "IPY_MODEL_f4484867d9a2404b8af89c12d9fee1b5",
       "value": 13861
      }
     },
     "ed7dd44c3eaa46c784871681f16bc0f0": {
      "model_module": "@jupyter-widgets/base",
      "model_module_version": "1.1.0",
      "model_name": "LayoutModel",
      "state": {}
     },
     "eda9ff75f90e4e86815627781902014a": {
      "model_module": "@jupyter-widgets/controls",
      "model_module_version": "1.4.0",
      "model_name": "DropdownModel",
      "state": {
       "_options_labels": [
        "0 complex eigenvalues",
        "2 complex eigenvalues"
       ],
       "description": "Aobs:",
       "disabled": true,
       "index": 0,
       "layout": "IPY_MODEL_b797a5ddd90043d48dd5a77c0f954f95",
       "style": "IPY_MODEL_ac0ffe7011a04929a5584f8a14bbb898"
      }
     },
     "edb98a49aed04ce2b99d3a4898054f4d": {
      "model_module": "@jupyter-widgets/controls",
      "model_module_version": "1.4.0",
      "model_name": "LabelModel",
      "state": {
       "layout": "IPY_MODEL_9d157d49b60d48c9ae30175ff22d2776",
       "style": "IPY_MODEL_9c7326c1824c4d51bcba36be24cfd780"
      }
     },
     "edf2c458601a4c2986e9084a559dcd3a": {
      "model_module": "@jupyter-widgets/base",
      "model_module_version": "1.1.0",
      "model_name": "LayoutModel",
      "state": {}
     },
     "ee4aa316d9714e888f3c23995436d5e6": {
      "model_module": "@jupyter-widgets/controls",
      "model_module_version": "1.4.0",
      "model_name": "HBoxModel",
      "state": {
       "children": [
        "IPY_MODEL_b6800bb5073f4fb49de9e3b04e45f578"
       ],
       "layout": "IPY_MODEL_36b6b604c9464f058cab5c96b0e7fd11"
      }
     },
     "ee6a33ca9388418faed0c5e29b4b9ad3": {
      "model_module": "@jupyter-widgets/controls",
      "model_module_version": "1.4.0",
      "model_name": "HBoxModel",
      "state": {
       "children": [
        "IPY_MODEL_b21b2a2d1b35450395e3c319fc54c196"
       ],
       "layout": "IPY_MODEL_90289c97f60843f89f00cd95a0fca4b9"
      }
     },
     "eea30c23809947ecacd9938a63398f49": {
      "model_module": "@jupyter-widgets/base",
      "model_module_version": "1.1.0",
      "model_name": "LayoutModel",
      "state": {}
     },
     "eed4b893f8914ebb9d38fb0d061e5369": {
      "model_module": "@jupyter-widgets/base",
      "model_module_version": "1.1.0",
      "model_name": "LayoutModel",
      "state": {}
     },
     "eeea2616635d4149881ea9df9f5a14cb": {
      "model_module": "@jupyter-widgets/controls",
      "model_module_version": "1.4.0",
      "model_name": "LabelModel",
      "state": {
       "layout": "IPY_MODEL_1e33b781497341b1996b09276820d8e0",
       "style": "IPY_MODEL_208dd43bf82041139b3985a6cc8b89b3"
      }
     },
     "eef564791f8b41739add71b75be481ec": {
      "model_module": "@jupyter-widgets/controls",
      "model_module_version": "1.4.0",
      "model_name": "FloatTextModel",
      "state": {
       "layout": "IPY_MODEL_d4f898ed505f4e5a918ae8166d217c23",
       "step": null,
       "style": "IPY_MODEL_e2e6de4db47f4ddbacdbd9c843e1e45a",
       "value": -0.2
      }
     },
     "ef1dd140766840bb8e931471f5f301c9": {
      "model_module": "@jupyter-widgets/controls",
      "model_module_version": "1.4.0",
      "model_name": "FloatTextModel",
      "state": {
       "disabled": true,
       "layout": "IPY_MODEL_cc47e48caf85445fa010ce953bda0ba2",
       "step": null,
       "style": "IPY_MODEL_7a86b8685c0d4d4ab4dfd942b31e689e"
      }
     },
     "ef440a7110ee47b08f272167ab804708": {
      "model_module": "@jupyter-widgets/base",
      "model_module_version": "1.1.0",
      "model_name": "LayoutModel",
      "state": {}
     },
     "ef8032f4b5344c16ae90cfbfd02231d6": {
      "model_module": "@jupyter-widgets/controls",
      "model_module_version": "1.4.0",
      "model_name": "LabelModel",
      "state": {
       "layout": "IPY_MODEL_bf122223b2724a248d55dd42cc9b3191",
       "style": "IPY_MODEL_f01c7a1026c14bdfa39a40648f44556d"
      }
     },
     "ef8369410e284bcba956b8650a4efe64": {
      "model_module": "@jupyter-widgets/controls",
      "model_module_version": "1.4.0",
      "model_name": "DescriptionStyleModel",
      "state": {
       "description_width": ""
      }
     },
     "f01b454caf0243f89fac5809d26d4cf2": {
      "model_module": "@jupyter-widgets/controls",
      "model_module_version": "1.4.0",
      "model_name": "VBoxModel",
      "state": {
       "children": [
        "IPY_MODEL_751f4dd6192f4b71b9ffc8b626f4ab84",
        "IPY_MODEL_0b4ba8575fd04aaaaea39527815d5e55"
       ],
       "layout": "IPY_MODEL_0e87eb36298b40c88aa507280a88673b"
      }
     },
     "f01c7a1026c14bdfa39a40648f44556d": {
      "model_module": "@jupyter-widgets/controls",
      "model_module_version": "1.4.0",
      "model_name": "DescriptionStyleModel",
      "state": {
       "description_width": ""
      }
     },
     "f052288ca5ad43bb81cb89f7166b583e": {
      "model_module": "@jupyter-widgets/controls",
      "model_module_version": "1.4.0",
      "model_name": "LabelModel",
      "state": {
       "layout": "IPY_MODEL_363c1e3703ab462a93ff019e7bc417eb",
       "style": "IPY_MODEL_38105898ff504547a93e80b47afac00d"
      }
     },
     "f0784b65c1cf46f9af5e149ad2e1bf93": {
      "model_module": "@jupyter-widgets/controls",
      "model_module_version": "1.4.0",
      "model_name": "DescriptionStyleModel",
      "state": {
       "description_width": ""
      }
     },
     "f13fe2c0b63c45769a832e70c2b163af": {
      "model_module": "@jupyter-widgets/base",
      "model_module_version": "1.1.0",
      "model_name": "LayoutModel",
      "state": {
       "width": "90px"
      }
     },
     "f1ebf687e130423a96df29607461d421": {
      "model_module": "@jupyter-widgets/controls",
      "model_module_version": "1.4.0",
      "model_name": "DescriptionStyleModel",
      "state": {
       "description_width": ""
      }
     },
     "f24072b2fc174c678db9de5d308468b8": {
      "model_module": "@jupyter-widgets/base",
      "model_module_version": "1.1.0",
      "model_name": "LayoutModel",
      "state": {}
     },
     "f2b45504c367429daa45903dc955e9f7": {
      "model_module": "@jupyter-widgets/output",
      "model_module_version": "1.0.0",
      "model_name": "OutputModel",
      "state": {
       "layout": "IPY_MODEL_b7a97461761e4eecb7aa7b1254c26810",
       "outputs": [
        {
         "name": "stdout",
         "output_type": "stream",
         "text": "The Aa's eigenvalues are: -2.24+2.23j, -2.24+-2.23j, -0.28+0.00j, -0.26+0.32j and -0.26+-0.32j\nThe observer\\s eigenvalues are: -10.00+0.00j and -10.00+0.00j\n"
        }
       ]
      }
     },
     "f342b0e683a541f88af64b284dcd2a0f": {
      "model_module": "@jupyter-widgets/controls",
      "model_module_version": "1.4.0",
      "model_name": "HBoxModel",
      "state": {
       "children": [
        "IPY_MODEL_402c9bde36d74803b3e44a1d9d24a7bf"
       ],
       "layout": "IPY_MODEL_ed7dd44c3eaa46c784871681f16bc0f0"
      }
     },
     "f3ccbef2b83d4b939389534c7a034c8e": {
      "model_module": "@jupyter-widgets/controls",
      "model_module_version": "1.4.0",
      "model_name": "LabelModel",
      "state": {
       "layout": "IPY_MODEL_c2b94464fe8c46c4bc766fc9342971bc",
       "style": "IPY_MODEL_4c44c42077ed435898d338ddb0ba0436",
       "value": "Ka:"
      }
     },
     "f3e6fb5eb49042e08cb1f9909bc388ea": {
      "model_module": "@jupyter-widgets/controls",
      "model_module_version": "1.4.0",
      "model_name": "HBoxModel",
      "state": {
       "children": [
        "IPY_MODEL_4fb69747e2b94cc39379030795002c6b",
        "IPY_MODEL_21eabbad715941b99f63fe2a4776bc00",
        "IPY_MODEL_13b9e1059bd644deab53f4bbff6caec0"
       ],
       "layout": "IPY_MODEL_8eb6aa9cb43341ccb9ce62f5ca112617"
      }
     },
     "f42e19a237c34b6180896202e734db4b": {
      "model_module": "@jupyter-widgets/controls",
      "model_module_version": "1.4.0",
      "model_name": "DescriptionStyleModel",
      "state": {
       "description_width": ""
      }
     },
     "f4484867d9a2404b8af89c12d9fee1b5": {
      "model_module": "@jupyter-widgets/controls",
      "model_module_version": "1.4.0",
      "model_name": "DescriptionStyleModel",
      "state": {
       "description_width": ""
      }
     },
     "f48ce26f0db74d56b4257564f06b803e": {
      "model_module": "@jupyter-widgets/controls",
      "model_module_version": "1.4.0",
      "model_name": "DescriptionStyleModel",
      "state": {
       "description_width": ""
      }
     },
     "f4b016746bb84426baca5c76043f6338": {
      "model_module": "@jupyter-widgets/controls",
      "model_module_version": "1.4.0",
      "model_name": "VBoxModel",
      "state": {
       "children": [
        "IPY_MODEL_07f5abd468dd4c468a64aed63128e248"
       ],
       "layout": "IPY_MODEL_4270a3ab84d24c2a87739c20e2005d65"
      }
     },
     "f4ddf9715a014e14be8ecb2b3ae86c47": {
      "model_module": "@jupyter-widgets/controls",
      "model_module_version": "1.4.0",
      "model_name": "DropdownModel",
      "state": {
       "_options_labels": [
        "0 complex eigenvalues",
        "2 complex eigenvalues"
       ],
       "description": "Aobs:",
       "disabled": true,
       "index": 0,
       "layout": "IPY_MODEL_e6710c1e57c84d0a8ac493e844396d61",
       "style": "IPY_MODEL_0a7c3f2ed52f4978a43c2ce6b2ed5a0d"
      }
     },
     "f60d5a9a35db4218bf1cb50b763bfbd8": {
      "model_module": "@jupyter-widgets/controls",
      "model_module_version": "1.4.0",
      "model_name": "DescriptionStyleModel",
      "state": {
       "description_width": ""
      }
     },
     "f66682badded4087a8e4129a3e4d524b": {
      "model_module": "@jupyter-widgets/controls",
      "model_module_version": "1.4.0",
      "model_name": "HBoxModel",
      "state": {
       "children": [
        "IPY_MODEL_da40a5d500a24119bae8200ab190284c"
       ],
       "layout": "IPY_MODEL_9aa8d3ec40df4e009aab31ecae602e3a"
      }
     },
     "f699eb1a696a488fab7f9c72c92dee1a": {
      "model_module": "@jupyter-widgets/base",
      "model_module_version": "1.1.0",
      "model_name": "LayoutModel",
      "state": {}
     },
     "f6adbb16255046328fb88ed295414e1e": {
      "model_module": "@jupyter-widgets/controls",
      "model_module_version": "1.4.0",
      "model_name": "FloatTextModel",
      "state": {
       "layout": "IPY_MODEL_f9bc59ff9da64788aab62303d63ab728",
       "step": null,
       "style": "IPY_MODEL_ade065b9c0274c9f8243ed695fe68333",
       "value": 316
      }
     },
     "f7bd3d3a570f462a94866d884ec485ea": {
      "model_module": "@jupyter-widgets/base",
      "model_module_version": "1.1.0",
      "model_name": "LayoutModel",
      "state": {}
     },
     "f7db352aad7f48b287d557cc324204f9": {
      "model_module": "@jupyter-widgets/controls",
      "model_module_version": "1.4.0",
      "model_name": "LabelModel",
      "state": {
       "layout": "IPY_MODEL_fb95f930529d4f57b36b5e52f981ab6b",
       "style": "IPY_MODEL_8390228ad1364aa68a86b96bf642bf61"
      }
     },
     "f8067f8c672e4164a2165c0319b30ee6": {
      "model_module": "@jupyter-widgets/controls",
      "model_module_version": "1.4.0",
      "model_name": "DescriptionStyleModel",
      "state": {
       "description_width": ""
      }
     },
     "f86a60dda4fc42509dc33d6808857b59": {
      "model_module": "@jupyter-widgets/controls",
      "model_module_version": "1.4.0",
      "model_name": "HBoxModel",
      "state": {
       "children": [
        "IPY_MODEL_6157e5ac18a04380bfcdf3e5360c1f10"
       ],
       "layout": "IPY_MODEL_a8c021ecd91740e0a4a051e52059b3e9"
      }
     },
     "f86ef0c63af448cbba07abd5003acb2c": {
      "model_module": "@jupyter-widgets/base",
      "model_module_version": "1.1.0",
      "model_name": "LayoutModel",
      "state": {}
     },
     "f971744a6b6f4c44b945449b4acd81c4": {
      "model_module": "@jupyter-widgets/controls",
      "model_module_version": "1.4.0",
      "model_name": "DescriptionStyleModel",
      "state": {
       "description_width": ""
      }
     },
     "f9982efc85a34595ba056a20e5f29111": {
      "model_module": "@jupyter-widgets/base",
      "model_module_version": "1.1.0",
      "model_name": "LayoutModel",
      "state": {}
     },
     "f9a795a7869345c3a2ebfa402d45f25b": {
      "model_module": "@jupyter-widgets/controls",
      "model_module_version": "1.4.0",
      "model_name": "DescriptionStyleModel",
      "state": {
       "description_width": ""
      }
     },
     "f9bc59ff9da64788aab62303d63ab728": {
      "model_module": "@jupyter-widgets/base",
      "model_module_version": "1.1.0",
      "model_name": "LayoutModel",
      "state": {
       "width": "90px"
      }
     },
     "f9d812c863db402d90b2c980d38bb13c": {
      "model_module": "@jupyter-widgets/base",
      "model_module_version": "1.1.0",
      "model_name": "LayoutModel",
      "state": {}
     },
     "f9e272cddc0d46a8b29b88bc2031a7b6": {
      "model_module": "@jupyter-widgets/base",
      "model_module_version": "1.1.0",
      "model_name": "LayoutModel",
      "state": {}
     },
     "f9efcf465553492696c39a2edafe44fc": {
      "model_module": "@jupyter-widgets/controls",
      "model_module_version": "1.4.0",
      "model_name": "ButtonStyleModel",
      "state": {}
     },
     "fa04e72257b6472aa13cb02af3130812": {
      "model_module": "@jupyter-widgets/controls",
      "model_module_version": "1.4.0",
      "model_name": "LabelModel",
      "state": {
       "layout": "IPY_MODEL_52d2c84751bb4e7cba68bcd9a091bba1",
       "style": "IPY_MODEL_eba8111f91b243d0b9783cc3e4381001"
      }
     },
     "fa577bc5c8a24267b971d8d0213279dd": {
      "model_module": "@jupyter-widgets/controls",
      "model_module_version": "1.4.0",
      "model_name": "LabelModel",
      "state": {
       "layout": "IPY_MODEL_e81bb22a34de44a18e29476b4d713e71",
       "style": "IPY_MODEL_1b74db63daf04430bfbc9b90a4d2a0b9"
      }
     },
     "fa694349488843568882bce05ddefe64": {
      "model_module": "@jupyter-widgets/controls",
      "model_module_version": "1.4.0",
      "model_name": "HBoxModel",
      "state": {
       "children": [
        "IPY_MODEL_b9934d2ea426442b947bc55a6a98475c",
        "IPY_MODEL_d5286389e31f44d0a068455235d65e4f",
        "IPY_MODEL_db615f930a5444898a71cb10d3e0db3d",
        "IPY_MODEL_0fbab12f3fc8478a8d773b74b0d46c8b",
        "IPY_MODEL_992c66e245f641c19dbfccd1fcf3dc9b",
        "IPY_MODEL_c52b71d3ecdd45499b48a31dc291647b"
       ],
       "layout": "IPY_MODEL_51c5d8276bd747b39c3117b7fe0d1529"
      }
     },
     "fa6b3a1cd38f4591b1ea46c619cb3030": {
      "model_module": "@jupyter-widgets/controls",
      "model_module_version": "1.4.0",
      "model_name": "DescriptionStyleModel",
      "state": {
       "description_width": ""
      }
     },
     "fa779ef2a19142449b6539ff5c0afb2a": {
      "model_module": "@jupyter-widgets/controls",
      "model_module_version": "1.4.0",
      "model_name": "LabelModel",
      "state": {
       "layout": "IPY_MODEL_808008c7a6d64220a24e0e57526aee9a",
       "style": "IPY_MODEL_33bfa08767d84ae4a47341c4859c6d8e",
       "value": "Ka:"
      }
     },
     "fae3f97f39754d1ba4c31c0a281630ef": {
      "model_module": "@jupyter-widgets/base",
      "model_module_version": "1.1.0",
      "model_name": "LayoutModel",
      "state": {}
     },
     "faefe63476c24a01aaf13a0d22a20e41": {
      "model_module": "@jupyter-widgets/controls",
      "model_module_version": "1.4.0",
      "model_name": "DropdownModel",
      "state": {
       "_options_labels": [
        "Set Ka and La",
        "Set the eigenvalues"
       ],
       "index": 0,
       "layout": "IPY_MODEL_491cd4b112cf45e3aba71d0563e0768d",
       "style": "IPY_MODEL_f9a795a7869345c3a2ebfa402d45f25b"
      }
     },
     "fb4bc4d4d3a648d7a6a9df184cce12b6": {
      "model_module": "@jupyter-widgets/controls",
      "model_module_version": "1.4.0",
      "model_name": "HBoxModel",
      "state": {
       "children": [
        "IPY_MODEL_2f3e230ec0f74c2db5e3641c839f2213",
        "IPY_MODEL_d5286389e31f44d0a068455235d65e4f",
        "IPY_MODEL_67a96f99e9b841eaaff526b823dd21aa",
        "IPY_MODEL_b71de6e879bf43289b585f20d30e8ed5",
        "IPY_MODEL_5433f855b1e144bd9f99ee35a93dddd2",
        "IPY_MODEL_c52b71d3ecdd45499b48a31dc291647b"
       ],
       "layout": "IPY_MODEL_49bb0a8604b14c99a08b92915c5fc8d4"
      }
     },
     "fb95f930529d4f57b36b5e52f981ab6b": {
      "model_module": "@jupyter-widgets/base",
      "model_module_version": "1.1.0",
      "model_name": "LayoutModel",
      "state": {}
     },
     "fbb1d9058ea14688b02e1bf1f255cd4f": {
      "model_module": "@jupyter-widgets/controls",
      "model_module_version": "1.4.0",
      "model_name": "FloatTextModel",
      "state": {
       "layout": "IPY_MODEL_d6839054cd8f4840b7ceabe64adb74a1",
       "step": null,
       "style": "IPY_MODEL_94c62e1f059546eaa77c67a8748086d9",
       "value": 5275
      }
     },
     "fbf8566bdb534d5dbaa859344be12c0e": {
      "model_module": "@jupyter-widgets/base",
      "model_module_version": "1.1.0",
      "model_name": "LayoutModel",
      "state": {}
     },
     "fc243b3b10e846438dd07009179844f7": {
      "model_module": "@jupyter-widgets/base",
      "model_module_version": "1.1.0",
      "model_name": "LayoutModel",
      "state": {}
     },
     "fcea6582999f41d3998d812ef0156748": {
      "model_module": "@jupyter-widgets/base",
      "model_module_version": "1.1.0",
      "model_name": "LayoutModel",
      "state": {}
     },
     "fd59bda6f0d24120b0d6c12b5f6b8722": {
      "model_module": "@jupyter-widgets/controls",
      "model_module_version": "1.4.0",
      "model_name": "HBoxModel",
      "state": {
       "children": [
        "IPY_MODEL_f3ccbef2b83d4b939389534c7a034c8e",
        "IPY_MODEL_7a2c5d36b676498d86709b794261b2e5",
        "IPY_MODEL_5c81d6ad649d4942907fecd01757d79a",
        "IPY_MODEL_3ae048ad15b44938b8b8c0d5af7219e8",
        "IPY_MODEL_417d4660c0684d73b14d876b04be9db0",
        "IPY_MODEL_9e0c7264530f48d8a6e52208066546ff"
       ],
       "layout": "IPY_MODEL_84978a101c7e4f339808d159363a8bda"
      }
     },
     "fdc20dbc4d12432c889e338ca9f4f2e0": {
      "model_module": "@jupyter-widgets/base",
      "model_module_version": "1.1.0",
      "model_name": "LayoutModel",
      "state": {
       "width": "90px"
      }
     },
     "fdce31ba7cd54e7599882f799a6e6e33": {
      "model_module": "@jupyter-widgets/controls",
      "model_module_version": "1.4.0",
      "model_name": "LabelModel",
      "state": {
       "layout": "IPY_MODEL_47aecddedfd64f07a36ec50b49227ec5",
       "style": "IPY_MODEL_5232c359d050473bbaf3e0e85f18eeb0"
      }
     },
     "fe09b783fe0d4b9099f6673b2feb299b": {
      "model_module": "@jupyter-widgets/controls",
      "model_module_version": "1.4.0",
      "model_name": "DescriptionStyleModel",
      "state": {
       "description_width": ""
      }
     },
     "fe452383f5644078905bb160d1205007": {
      "model_module": "@jupyter-widgets/controls",
      "model_module_version": "1.4.0",
      "model_name": "LabelModel",
      "state": {
       "layout": "IPY_MODEL_f9d812c863db402d90b2c980d38bb13c",
       "style": "IPY_MODEL_8a9bc422e2cc4f8e806f955c0698cf32"
      }
     },
     "fe72029372074064a0a2d7f32b95cc43": {
      "model_module": "@jupyter-widgets/controls",
      "model_module_version": "1.4.0",
      "model_name": "DescriptionStyleModel",
      "state": {
       "description_width": ""
      }
     },
     "fe865e4851b4495a95e3dc2cc31cfaa9": {
      "model_module": "@jupyter-widgets/base",
      "model_module_version": "1.1.0",
      "model_name": "LayoutModel",
      "state": {
       "width": "90px"
      }
     },
     "fe8d4c19a86346019352770ba2a10a08": {
      "model_module": "@jupyter-widgets/controls",
      "model_module_version": "1.4.0",
      "model_name": "FloatTextModel",
      "state": {
       "layout": "IPY_MODEL_0a02add7505f44028df61c521bfc1df6",
       "step": null,
       "style": "IPY_MODEL_e80abac93ac54bc8a6d91a52c4fd70cc",
       "value": -0.5
      }
     },
     "fe99c96f7d5a47c689cfa08b35724327": {
      "model_module": "@jupyter-widgets/base",
      "model_module_version": "1.1.0",
      "model_name": "LayoutModel",
      "state": {}
     },
     "fea917e7b46743788590dd87985dcee4": {
      "model_module": "@jupyter-widgets/controls",
      "model_module_version": "1.4.0",
      "model_name": "DescriptionStyleModel",
      "state": {
       "description_width": ""
      }
     },
     "febb6c29d5cb4d519b06da40a32c101c": {
      "model_module": "@jupyter-widgets/controls",
      "model_module_version": "1.4.0",
      "model_name": "DescriptionStyleModel",
      "state": {
       "description_width": ""
      }
     },
     "fedc86dc603d43e08f7f162b326f729d": {
      "model_module": "@jupyter-widgets/controls",
      "model_module_version": "1.4.0",
      "model_name": "LabelModel",
      "state": {
       "layout": "IPY_MODEL_3b7b8cd8f40f46f7a6af377e08229a20",
       "style": "IPY_MODEL_189961caab4941f481899c87788c12aa"
      }
     },
     "ff14f4f3069442e09be6386b056e4f65": {
      "model_module": "@jupyter-widgets/controls",
      "model_module_version": "1.4.0",
      "model_name": "DescriptionStyleModel",
      "state": {
       "description_width": ""
      }
     },
     "ff23ed97b5014a51ac0d66101e37cbb1": {
      "model_module": "@jupyter-widgets/base",
      "model_module_version": "1.1.0",
      "model_name": "LayoutModel",
      "state": {}
     },
     "ffc5676e98b545a9897040da8eda7dc9": {
      "model_module": "@jupyter-widgets/controls",
      "model_module_version": "1.4.0",
      "model_name": "HBoxModel",
      "state": {
       "children": [
        "IPY_MODEL_36ac1087021c41399d70cc006def027e",
        "IPY_MODEL_7bec55103402411195944e1352e9ee8f",
        "IPY_MODEL_ac1bd1734d2c4d0182e333fa5842cb67"
       ],
       "layout": "IPY_MODEL_913286bb22214d3cb6367fff535d9581"
      }
     },
     "ffd9845674134373a41db40934c7be0d": {
      "model_module": "@jupyter-widgets/controls",
      "model_module_version": "1.4.0",
      "model_name": "DescriptionStyleModel",
      "state": {
       "description_width": ""
      }
     },
     "ffe99539e150450583ae31daaf3d9322": {
      "model_module": "@jupyter-widgets/base",
      "model_module_version": "1.1.0",
      "model_name": "LayoutModel",
      "state": {}
     }
    },
    "version_major": 2,
    "version_minor": 0
   }
  }
 },
 "nbformat": 4,
 "nbformat_minor": 4
}
