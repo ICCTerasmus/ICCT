{
 "cells": [
  {
   "cell_type": "code",
   "execution_count": 1,
   "metadata": {},
   "outputs": [
    {
     "data": {
      "text/html": [
       "<script>\n",
       "code_show=true; \n",
       "function code_toggle() {\n",
       "    if (code_show){\n",
       "        $('div.input').hide()\n",
       "    } else {\n",
       "        $('div.input').show()\n",
       "    }\n",
       "    code_show = !code_show\n",
       "} \n",
       "$( document ).ready(code_toggle);\n",
       "</script>\n",
       "Toggle cell visibility <a href=\"javascript:code_toggle()\">here</a>."
      ],
      "text/plain": [
       "<IPython.core.display.HTML object>"
      ]
     },
     "metadata": {},
     "output_type": "display_data"
    }
   ],
   "source": [
    "# Erasmus+ ICCT project (2018-1-SI01-KA203-047081)\n",
    "\n",
    "# Toggle cell visibility\n",
    "\n",
    "from IPython.display import HTML\n",
    "tag = HTML('''<script>\n",
    "code_show=true; \n",
    "function code_toggle() {\n",
    "    if (code_show){\n",
    "        $('div.input').hide()\n",
    "    } else {\n",
    "        $('div.input').show()\n",
    "    }\n",
    "    code_show = !code_show\n",
    "} \n",
    "$( document ).ready(code_toggle);\n",
    "</script>\n",
    "Toggle cell visibility <a href=\"javascript:code_toggle()\">here</a>.''')\n",
    "display(tag)\n",
    "\n",
    "# Hide the code completely\n",
    "\n",
    "# from IPython.display import HTML\n",
    "# tag = HTML('''<style>\n",
    "# div.input {\n",
    "#     display:none;\n",
    "# }\n",
    "# </style>''')\n",
    "# display(tag)"
   ]
  },
  {
   "cell_type": "markdown",
   "metadata": {},
   "source": [
    "## Diagonalne matrike: Divergentne modalne oblike\n",
    "\n",
    "Ta interaktivni primer vključuje prednastavljeno diagonalno matriko z vsaj eno divergetno modalno obliko. Primer omogoča, da prosto spreminjate elemente te matrike in ob tem spremljate ali ima nova matrika divergentene modalne oblike (in je s tem nestabilna) ali ne.\n",
    "\n",
    "Razišči naslednje možnosti:\n",
    "* diagonalna matrika z divergentnimi (nestabilnimi) modalnimi oblikami,\n",
    "* diagonalna matrika s stabilnimi modalnimi oblikami,\n",
    "* diagonalna matrika s stabilnimi in divergetnimi (nestabilnimi) modalnimi oblikami.\n",
    "\n",
    "Ali lahko enostavno ugotoviš če ima matrika divergentno modalno obliko, kadar je izražena v diagonalni obliki?\n",
    "\n",
    "[//]: # \"This example shows a diagonal matrix with at least one divergent mode. It is possible to change any element of the matrix and analyze if the new matrix has divergent modes (unstable matrix) or not. \n",
    "\n",
    "Explore the various possibilities:\n",
    "* diagonal matrices with divergent (unstable) modes,\n",
    "* diagonal matrices with stable modes,\n",
    "* diagonal matrices with both stable and divergent (unstable) modes.\n",
    "\n",
    "Can you easily tell if a matrix has divergent modes when it is in diagonal form?\""
   ]
  },
  {
   "cell_type": "code",
   "execution_count": 2,
   "metadata": {},
   "outputs": [],
   "source": [
    "%matplotlib notebook\n",
    "import control\n",
    "import numpy\n",
    "import sympy\n",
    "from IPython.display import display, Markdown\n",
    "import ipywidgets as widgets\n",
    "import matplotlib.pyplot as plt\n",
    "\n",
    "#print a matrix latex-like\n",
    "def bmatrix(a):\n",
    "     \"\"\"Returns a LaTeX bmatrix - by Damir Arbula (ICCT project)\n",
    "\n",
    "     :a: numpy array\n",
    "     :returns: LaTeX bmatrix as a string\n",
    "     \"\"\"\n",
    "     if len(a.shape) > 2:\n",
    "         raise ValueError('bmatrix can at most display two dimensions')\n",
    "     lines = str(a).replace('[', '').replace(']', '').splitlines()\n",
    "     rv = [r'\\begin{bmatrix}']\n",
    "     rv += ['  ' + ' & '.join(l.split()) + r'\\\\' for l in lines]\n",
    "     rv +=  [r'\\end{bmatrix}']\n",
    "     return '\\n'.join(rv)\n",
    "\n",
    "\n",
    "# Display formatted matrix: \n",
    "def vmatrix(a):\n",
    "    if len(a.shape) > 2:\n",
    "         raise ValueError('bmatrix can at most display two dimensions')\n",
    "    lines = str(a).replace('[', '').replace(']', '').splitlines()\n",
    "    rv = [r'\\begin{vmatrix}']\n",
    "    rv += ['  ' + ' & '.join(l.split()) + r'\\\\' for l in lines]\n",
    "    rv +=  [r'\\end{vmatrix}']\n",
    "    return '\\n'.join(rv)\n",
    "\n",
    "\n",
    "#matrixWidget is a matrix looking widget built with a VBox of HBox(es) that returns a numPy array as value !\n",
    "class matrixWidget(widgets.VBox):\n",
    "    def updateM(self,change):\n",
    "        for irow in range(0,self.n):\n",
    "            for icol in range(0,self.m):\n",
    "                self.M_[irow,icol] = self.children[irow].children[icol].value\n",
    "                #print(self.M_[irow,icol])\n",
    "        self.value = self.M_\n",
    "\n",
    "    #def dummychangecallback(self,change):\n",
    "        #pass\n",
    "    \n",
    "    \n",
    "    def __init__(self,n,m):\n",
    "        self.n = n\n",
    "        self.m = m\n",
    "        self.M_ = numpy.matrix(numpy.zeros((self.n,self.m)))\n",
    "        self.value = self.M_\n",
    "        widgets.VBox.__init__(self,\n",
    "                             children = [\n",
    "                                 widgets.HBox(children = \n",
    "                                              [widgets.FloatText(value=0.0, layout=widgets.Layout(width='90px')) for i in range(m)]\n",
    "                                             ) \n",
    "                                 for j in range(n)\n",
    "                             ])\n",
    "        \n",
    "        #fill in widgets and tell interact to call updateM each time a children changes value\n",
    "        for irow in range(0,self.n):\n",
    "            for icol in range(0,self.m):\n",
    "                self.children[irow].children[icol].value = self.M_[irow,icol]\n",
    "                self.children[irow].children[icol].observe(self.updateM, names='value')\n",
    "        #value = Unicode('example@example.com', help=\"The email value.\").tag(sync=True)\n",
    "        self.observe(self.updateM, names='value', type= 'All')\n",
    "        \n",
    "    def setM(self, newM):\n",
    "        #disable callbacks, change values, and reenable\n",
    "        self.unobserve(self.updateM, names='value', type= 'All')\n",
    "        for irow in range(0,self.n):\n",
    "            for icol in range(0,self.m):\n",
    "                self.children[irow].children[icol].unobserve(self.updateM, names='value')\n",
    "        self.M_ = newM\n",
    "        self.value = self.M_\n",
    "        for irow in range(0,self.n):\n",
    "            for icol in range(0,self.m):\n",
    "                self.children[irow].children[icol].value = self.M_[irow,icol]\n",
    "        for irow in range(0,self.n):\n",
    "            for icol in range(0,self.m):\n",
    "                self.children[irow].children[icol].observe(self.updateM, names='value')\n",
    "        self.observe(self.updateM, names='value', type= 'All')        \n",
    "\n",
    "                #self.children[irow].children[icol].observe(self.updateM, names='value')\n",
    "\n",
    "             \n",
    "#overlaod class for state space systems that DO NOT remove \"useless\" states (what \"professor\" of automatic control would do this?)\n",
    "class sss(control.StateSpace):\n",
    "    def __init__(self,*args):\n",
    "        #call base class init constructor\n",
    "        control.StateSpace.__init__(self,*args)\n",
    "    #disable function below in base class\n",
    "    def _remove_useless_states(self):\n",
    "        pass"
   ]
  },
  {
   "cell_type": "code",
   "execution_count": 3,
   "metadata": {
    "scrolled": true
   },
   "outputs": [
    {
     "data": {
      "application/vnd.jupyter.widget-view+json": {
       "model_id": "158f7d2efaa64db39bfa4ae6c4d8484b",
       "version_major": 2,
       "version_minor": 0
      },
      "text/plain": [
       "matrixWidget(children=(HBox(children=(FloatText(value=1.0, layout=Layout(width='90px')), FloatText(value=0.0, …"
      ]
     },
     "metadata": {},
     "output_type": "display_data"
    },
    {
     "data": {
      "application/vnd.jupyter.widget-view+json": {
       "model_id": "cf4010b04f88485faf5ce7f287f8b1ca",
       "version_major": 2,
       "version_minor": 0
      },
      "text/plain": [
       "Button(description='Test', icon='check', style=ButtonStyle(), tooltip='Test')"
      ]
     },
     "metadata": {},
     "output_type": "display_data"
    },
    {
     "data": {
      "application/vnd.jupyter.widget-view+json": {
       "model_id": "e4fd07ecda07423e9d523b3d8d19e8ef",
       "version_major": 2,
       "version_minor": 0
      },
      "text/plain": [
       "Output()"
      ]
     },
     "metadata": {},
     "output_type": "display_data"
    }
   ],
   "source": [
    "A=matrixWidget(4,4)\n",
    "A.setM(numpy.matrix('1,0,0,0;0,-2,0,0;0,0,-3,0;0,0,0,-4'))\n",
    "\n",
    "def main_callback(matA,DW):\n",
    "    (r,c) = numpy.shape(matA)\n",
    "    sol = numpy.linalg.eig(matA)[0]\n",
    "    print('Lastne vrednosti matrike so: %s' %str(sol))\n",
    "    \n",
    "    matAs = sympy.Matrix(matA)\n",
    "    eig = matAs.eigenvals()\n",
    "    eigvals = list(eig.keys())\n",
    "    Amul = list(eig.values())\n",
    "    \n",
    "    diag = True\n",
    "    for i in range(r):\n",
    "        for j in range(c):\n",
    "            if i != j:\n",
    "                if matA[i,j] != 0:\n",
    "                    diag = False\n",
    "    \n",
    "    if diag:\n",
    "        for i in range(len(eigvals)):\n",
    "            if numpy.real(eigvals[i]) > 0:\n",
    "                print('Ok! Matrika je nestabilna.')\n",
    "                return\n",
    "            elif numpy.real(eigvals[i]) == 0:\n",
    "                if Amul[i] > 1:\n",
    "                    if len((matAs-eigvals[i]*sympy.eye(4)).nullspace()) < Amul[i]:\n",
    "                        print('Ok! Matrika je nestabilna.')\n",
    "                        return\n",
    "        print('Matrika ni nestabilna.')\n",
    "    else:\n",
    "        for i in range(len(eigvals)):\n",
    "            if numpy.real(eigvals[i]) > 0:\n",
    "                print('Matrika je nestabilna, a ni diagonalna.')\n",
    "                return\n",
    "            elif numpy.real(eigvals[i]) == 0:\n",
    "                if Amul[i] > 1:\n",
    "                    if len((matAs-eigvals[i]*sympy.eye(4)).nullspace()) < Amul[i]:\n",
    "                        print('Matrika je nestabilna, a ni diagonalna.')\n",
    "                        return\n",
    "        print('Matrika ni nestabilna in ni diagonalna.')\n",
    "    \n",
    "\n",
    "#create dummy widget \n",
    "DW = widgets.FloatText(layout=widgets.Layout(width='0px', height='0px'))\n",
    "\n",
    "#create button widget\n",
    "START = widgets.Button(\n",
    "    description='Test',\n",
    "    disabled=False,\n",
    "    button_style='', # 'success', 'info', 'warning', 'danger' or ''\n",
    "    tooltip='Test',\n",
    "    icon='check'\n",
    ")\n",
    "                       \n",
    "def on_start_button_clicked(b):\n",
    "    #This is a workaround to have intreactive_output call the callback:\n",
    "    #   force the value of the dummy widget to change\n",
    "    if DW.value> 0 :\n",
    "        DW.value = -1\n",
    "    else: \n",
    "        DW.value = 1\n",
    "    pass\n",
    "START.on_click(on_start_button_clicked)\n",
    "\n",
    "out = widgets.interactive_output(main_callback,{'matA':A,'DW':DW})\n",
    "display(A,START,out)"
   ]
  },
  {
   "cell_type": "code",
   "execution_count": null,
   "metadata": {},
   "outputs": [],
   "source": []
  }
 ],
 "metadata": {
  "kernelspec": {
   "display_name": "Python 3",
   "language": "python",
   "name": "python3"
  },
  "language_info": {
   "codemirror_mode": {
    "name": "ipython",
    "version": 3
   },
   "file_extension": ".py",
   "mimetype": "text/x-python",
   "name": "python",
   "nbconvert_exporter": "python",
   "pygments_lexer": "ipython3",
   "version": "3.7.3"
  }
 },
 "nbformat": 4,
 "nbformat_minor": 2
}
