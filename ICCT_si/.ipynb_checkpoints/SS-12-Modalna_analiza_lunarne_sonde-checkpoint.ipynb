{
 "cells": [
  {
   "cell_type": "code",
   "execution_count": 5,
   "metadata": {},
   "outputs": [
    {
     "data": {
      "text/html": [
       "<script>\n",
       "code_show=true; \n",
       "function code_toggle() {\n",
       "    if (code_show){\n",
       "        $('div.input').hide()\n",
       "    } else {\n",
       "        $('div.input').show()\n",
       "    }\n",
       "    code_show = !code_show\n",
       "} \n",
       "$( document ).ready(code_toggle);\n",
       "</script>\n",
       "Toggle cell visibility <a href=\"javascript:code_toggle()\">here</a>."
      ],
      "text/plain": [
       "<IPython.core.display.HTML object>"
      ]
     },
     "metadata": {},
     "output_type": "display_data"
    }
   ],
   "source": [
    "# Erasmus+ ICCT project (2018-1-SI01-KA203-047081)\n",
    "\n",
    "# Toggle cell visibility\n",
    "\n",
    "from IPython.display import HTML\n",
    "tag = HTML('''<script>\n",
    "code_show=true; \n",
    "function code_toggle() {\n",
    "    if (code_show){\n",
    "        $('div.input').hide()\n",
    "    } else {\n",
    "        $('div.input').show()\n",
    "    }\n",
    "    code_show = !code_show\n",
    "} \n",
    "$( document ).ready(code_toggle);\n",
    "</script>\n",
    "Toggle cell visibility <a href=\"javascript:code_toggle()\">here</a>.''')\n",
    "display(tag)\n",
    "\n",
    "# Hide the code completely\n",
    "\n",
    "# from IPython.display import HTML\n",
    "# tag = HTML('''<style>\n",
    "# div.input {\n",
    "#     display:none;\n",
    "# }\n",
    "# </style>''')\n",
    "# display(tag)\n"
   ]
  },
  {
   "cell_type": "markdown",
   "metadata": {},
   "source": [
    "## Modalna analiza lunarne sonde\n",
    "\n",
    "Dinamična matrika $A$, ki predstavlja model lunarne sonde, podrobneje predstavljene znotraj primera [Dinamika lateralnega pomika lunarne sonde](SS-11-Lunarna_sonda_dinamika_lateralnega_pomika.ipynb)) je:\n",
    "\n",
    "$$\n",
    "A=\\begin{bmatrix}0&1&0&0 \\\\ 0&0&F/m&0 \\\\ 0&0&0&1 \\\\ 0&0&0&0\\end{bmatrix},\n",
    "$$\n",
    "\n",
    "kjer sta $F$ potisna sila in $m$ masa sonde. Stanje sistema je $x=[z,\\dot{z},\\theta,\\dot{\\theta}]^T$, kjer je $z$ lateralni pomik sonde, $\\dot{z}$ sprememba lateralnega pomika v času, $\\theta$ kot nagiba sonde glede na vertikalo in $\\dot{\\theta}$ spremembe kota $\\theta$ v času.\n",
    "\n",
    "Zgornja dinamična matrika ima štiri lastne vrednosti, ki so vse enako 0. Lastne vrednosti enake 0 imenujemo integratorji (spomni se Laplaceove transformacije integrala signala -- kaj je izvor imenovalca v izrazu?), zato rečemo, da ima tak sistem 4 integratorje. V primeru $F\\neq0$ ($m\\neq0$) ima obravnavani sistem obliko podobno $4\\times4$ Jordanovem bloku, zato ima v tem primeru lastna vrednost 0 geometrično večkratnost enako 1. V primeru $F=0$  so vrednosti lastnih vrednosti enake z enako algebraično večkratnostjo, geometrična večkratnost pa je enaka 2.\n",
    "\n",
    "V tem interaktivnem primeru je predstavljen primer $F\\neq0$.\n",
    "\n",
    "### Kako upravljati s tem interaktivnim primerom?\n",
    "\n",
    "- Poizkusi doseči $F=0$ in razložiti, kaj to stanje fizikalno pomeni za lunarno sondo, predvsem z vidika dinamike $z$ in $\\theta$ ter njune medsebojne odvisnosti."
   ]
  },
  {
   "cell_type": "code",
   "execution_count": 6,
   "metadata": {},
   "outputs": [],
   "source": [
    "#Preparatory Cell \n",
    "import control\n",
    "import numpy\n",
    "from IPython.display import display, Markdown\n",
    "import ipywidgets as widgets\n",
    "import matplotlib.pyplot as plt\n",
    "\n",
    "%matplotlib inline\n",
    "\n",
    "#matrixWidget is a matrix looking widget built with a VBox of HBox(es) that returns a numPy array as value !\n",
    "class matrixWidget(widgets.VBox):\n",
    "    def updateM(self,change):\n",
    "        for irow in range(0,self.n):\n",
    "            for icol in range(0,self.m):\n",
    "                self.M_[irow,icol] = self.children[irow].children[icol].value\n",
    "                #print(self.M_[irow,icol])\n",
    "        self.value = self.M_\n",
    "\n",
    "    def dummychangecallback(self,change):\n",
    "        pass\n",
    "    \n",
    "    \n",
    "    def __init__(self,n,m):\n",
    "        self.n = n\n",
    "        self.m = m\n",
    "        self.M_ = numpy.matrix(numpy.zeros((self.n,self.m)))\n",
    "        self.value = self.M_\n",
    "        widgets.VBox.__init__(self,\n",
    "                             children = [\n",
    "                                 widgets.HBox(children = \n",
    "                                              [widgets.FloatText(value=0.0, layout=widgets.Layout(width='90px')) for i in range(m)]\n",
    "                                             ) \n",
    "                                 for j in range(n)\n",
    "                             ])\n",
    "        \n",
    "        #fill in widgets and tell interact to call updateM each time a children changes value\n",
    "        for irow in range(0,self.n):\n",
    "            for icol in range(0,self.m):\n",
    "                self.children[irow].children[icol].value = self.M_[irow,icol]\n",
    "                self.children[irow].children[icol].observe(self.updateM, names='value')\n",
    "        #value = Unicode('example@example.com', help=\"The email value.\").tag(sync=True)\n",
    "        self.observe(self.updateM, names='value', type= 'All')\n",
    "        \n",
    "    def setM(self, newM):\n",
    "        #disable callbacks, change values, and reenable\n",
    "        self.unobserve(self.updateM, names='value', type= 'All')\n",
    "        for irow in range(0,self.n):\n",
    "            for icol in range(0,self.m):\n",
    "                self.children[irow].children[icol].unobserve(self.updateM, names='value')\n",
    "        self.M_ = newM\n",
    "        self.value = self.M_\n",
    "        for irow in range(0,self.n):\n",
    "            for icol in range(0,self.m):\n",
    "                self.children[irow].children[icol].value = self.M_[irow,icol]\n",
    "        for irow in range(0,self.n):\n",
    "            for icol in range(0,self.m):\n",
    "                self.children[irow].children[icol].observe(self.updateM, names='value')\n",
    "        self.observe(self.updateM, names='value', type= 'All')        \n",
    "\n",
    "                #self.children[irow].children[icol].observe(self.updateM, names='value')\n",
    "\n",
    "             \n",
    "#overlaod class for state space systems that DO NOT remove \"useless\" states (what \"professor\" of automatic control would do this?)\n",
    "class sss(control.StateSpace):\n",
    "    def __init__(self,*args):\n",
    "        #call base class init constructor\n",
    "        control.StateSpace.__init__(self,*args)\n",
    "    #disable function below in base class\n",
    "    def _remove_useless_states(self):\n",
    "        pass"
   ]
  },
  {
   "cell_type": "code",
   "execution_count": 7,
   "metadata": {},
   "outputs": [],
   "source": [
    "#define the sliders for m, k and c\n",
    "m = widgets.FloatSlider(\n",
    "    value=1000,\n",
    "    min=400,\n",
    "    max=2000,\n",
    "    step=1,\n",
    "    description='$m$ [kg]:',\n",
    "    disabled=False,\n",
    "    continuous_update=False,\n",
    "    orientation='horizontal',\n",
    "    readout=True,\n",
    "    readout_format='.1f',\n",
    ")\n",
    "F = widgets.FloatSlider(\n",
    "    value=1500,\n",
    "    min=0,\n",
    "    max=5000,\n",
    "    step=10,\n",
    "    description='$F$ [N]:',\n",
    "    disabled=False,\n",
    "    continuous_update=False,\n",
    "    orientation='horizontal',\n",
    "    readout=True,\n",
    "    readout_format='.1f',\n",
    ")"
   ]
  },
  {
   "cell_type": "code",
   "execution_count": 8,
   "metadata": {
    "scrolled": false
   },
   "outputs": [
    {
     "data": {
      "application/vnd.jupyter.widget-view+json": {
       "model_id": "7b2d4ca53a7d4328b87c789e3749b6b6",
       "version_major": 2,
       "version_minor": 0
      },
      "text/plain": [
       "Output()"
      ]
     },
     "metadata": {},
     "output_type": "display_data"
    },
    {
     "data": {
      "application/vnd.jupyter.widget-view+json": {
       "model_id": "5c616831df2a4f1c9765df84e6e405cc",
       "version_major": 2,
       "version_minor": 0
      },
      "text/plain": [
       "HBox(children=(FloatSlider(value=1000.0, continuous_update=False, description='$m$ [kg]:', max=2000.0, min=400…"
      ]
     },
     "metadata": {},
     "output_type": "display_data"
    },
    {
     "data": {
      "image/png": "[encoded data removed]",
      "text/plain": [
       "<Figure size 1152x720 with 4 Axes>"
      ]
     },
     "metadata": {
      "needs_background": "light"
     },
     "output_type": "display_data"
    }
   ],
   "source": [
    "#function that make all the computations\n",
    "def main_callback(m, F):\n",
    "    eig1 = 0\n",
    "    eig2 = 0\n",
    "    eig3 = 0\n",
    "    eig4 = 0\n",
    "    \n",
    "    if numpy.real([eig1,eig2,eig3,eig4])[0] == 0 and numpy.real([eig1,eig2,eig3,eig4])[1] == 0:\n",
    "        T = numpy.linspace(0,20,1000)\n",
    "    else:\n",
    "        if min(numpy.abs(numpy.real([eig1,eig2,eig3,eig4]))) != 0:\n",
    "            T = numpy.linspace(0,7*1/min(numpy.abs(numpy.real([eig1,eig2,eig3,eig4]))),1000)\n",
    "        else:\n",
    "            T = numpy.linspace(0,7*1/max(numpy.abs(numpy.real([eig1,eig2,eig3,eig4]))),1000)\n",
    "    if F==0:\n",
    "        mode1 = numpy.exp(eig1*T)\n",
    "        mode2 = T*mode1\n",
    "        mode3 = mode1\n",
    "        mode4 = mode2\n",
    "    else:\n",
    "        mode1 = numpy.exp(eig1*T)\n",
    "        mode2 = T*mode1\n",
    "        mode3 = T*mode2\n",
    "        mode4 = T*mode3\n",
    "    \n",
    "    fig = plt.figure(figsize=[16, 10])\n",
    "    fig.set_label('Modes')\n",
    "    g1 = fig.add_subplot(221)\n",
    "    g2 = fig.add_subplot(222)\n",
    "    g3 = fig.add_subplot(223)\n",
    "    g4 = fig.add_subplot(224)\n",
    "    \n",
    "    g1.plot(T,mode1)\n",
    "    g1.grid()\n",
    "    g1.set_xlabel('čas [s]')\n",
    "    g1.set_ylabel('Prvi MODE')\n",
    "    \n",
    "    g2.plot(T,mode2)\n",
    "    g2.grid()\n",
    "    g2.set_xlabel('čas [s]')\n",
    "    g2.set_ylabel('Drugi MODE')\n",
    "    \n",
    "    g3.plot(T,mode3)\n",
    "    g3.grid()\n",
    "    g3.set_xlabel('čas [s]')\n",
    "    g3.set_ylabel('Tretji MODE')\n",
    "    \n",
    "    g4.plot(T,mode4)\n",
    "    g4.grid()\n",
    "    g4.set_xlabel('čas [s]')\n",
    "    g4.set_ylabel('Četrti MODE')\n",
    "    \n",
    "    modesString = r'Lastna vrednost je enaka 0 z algebraično večkratnostjo enako 4. '\n",
    "    if F==0:\n",
    "        modesString = modesString + r'Pripadajoči MODE so $k$ in $t$.'\n",
    "    else:\n",
    "        modesString = modesString + r'Pripadajoči MODES so $k$, $t$, $\\frac{t^2}{2}$ in $\\frac{t^3}{6}$.'\n",
    "    display(Markdown(modesString))\n",
    "\n",
    "        \n",
    "out = widgets.interactive_output(main_callback,{'m':m,'F':F})\n",
    "sliders = widgets.HBox([m,F])\n",
    "display(out,sliders)"
   ]
  },
  {
   "cell_type": "code",
   "execution_count": null,
   "metadata": {},
   "outputs": [],
   "source": []
  }
 ],
 "metadata": {
  "kernelspec": {
   "display_name": "Python 3",
   "language": "python",
   "name": "python3"
  },
  "language_info": {
   "codemirror_mode": {
    "name": "ipython",
    "version": 3
   },
   "file_extension": ".py",
   "mimetype": "text/x-python",
   "name": "python",
   "nbconvert_exporter": "python",
   "pygments_lexer": "ipython3",
   "version": "3.7.3"
  }
 },
 "nbformat": 4,
 "nbformat_minor": 4
}
